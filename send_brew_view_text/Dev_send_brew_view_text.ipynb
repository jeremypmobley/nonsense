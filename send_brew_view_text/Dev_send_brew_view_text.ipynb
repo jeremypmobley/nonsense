{
 "cells": [
  {
   "cell_type": "code",
   "execution_count": 8,
   "metadata": {
    "collapsed": true
   },
   "outputs": [],
   "source": [
    "import pandas as pd\n",
    "import twilio\n",
    "from twilio.rest import Client\n",
    "\n",
    "# import Twilio Credentials\n",
    "from twilio_credentialsguy import *"
   ]
  },
  {
   "cell_type": "code",
   "execution_count": 12,
   "metadata": {
    "collapsed": true
   },
   "outputs": [],
   "source": [
    "from bs4 import BeautifulSoup\n",
    "import urllib\n",
    "import pandas as pd"
   ]
  },
  {
   "cell_type": "code",
   "execution_count": 13,
   "metadata": {
    "collapsed": true
   },
   "outputs": [],
   "source": [
    "def remove_double_spaces(string):\n",
    "    \"\"\"\n",
    "    Function to remove double spaces from a string\n",
    "    \"\"\"\n",
    "    return ' '.join(string.split())\n",
    "\n",
    "\n",
    "def get_brew_view_movies():\n",
    "    \"\"\"\n",
    "    Function to scrape brew and view website\n",
    "    Returns list of first two movies in first table of website\n",
    "    \"\"\"\n",
    "    website = \"http://brewview.com/\"\n",
    "    r = urllib.urlopen(website).read()\n",
    "    soup = BeautifulSoup(r, \"lxml\")\n",
    "    html_table = pd.read_html(soup.select(\"table\")[1].prettify())[0]\n",
    "    return [html_table[1][0], html_table[1][1]]\n",
    "\n",
    "\n",
    "def scrape_print_brew_view():\n",
    "    \"\"\"\n",
    "    Wrapper function to scrape website and print movies and times\n",
    "    \"\"\"\n",
    "    brew_view_movies = get_brew_view_movies()\n",
    "    for i in range(len(brew_view_movies)):\n",
    "        print remove_double_spaces(brew_view_movies[i])"
   ]
  },
  {
   "cell_type": "code",
   "execution_count": 14,
   "metadata": {
    "collapsed": true
   },
   "outputs": [],
   "source": [
    "brew_view_movies = get_brew_view_movies()"
   ]
  },
  {
   "cell_type": "code",
   "execution_count": 20,
   "metadata": {},
   "outputs": [
    {
     "data": {
      "text/plain": [
       "'Brew & View is playing The Big Sick Fri 8/25 at 6:30pm Sat 8/26 & Sun 8/27 at 3:30pm & 8:30pm AND Valerian & The City of a Thousand Planets Fri 8/25 at 8:45pm Sat 8/26 & Sun 8/27 at 6:00pm'"
      ]
     },
     "execution_count": 20,
     "metadata": {},
     "output_type": "execute_result"
    }
   ],
   "source": [
    "message_body = \"Brew & View is playing \" + remove_double_spaces(brew_view_movies[0]) + \" AND \" + remove_double_spaces(brew_view_movies[1])\n",
    "message_body"
   ]
  },
  {
   "cell_type": "code",
   "execution_count": 24,
   "metadata": {
    "collapsed": true
   },
   "outputs": [],
   "source": [
    "message_body = \"Back to a test message.....\""
   ]
  },
  {
   "cell_type": "code",
   "execution_count": 27,
   "metadata": {},
   "outputs": [
    {
     "data": {
      "text/plain": [
       "'Brew & View is playing The Big Sick Fri 8/25 at 6:30pm Sat 8/26 & Sun 8/27 at 3:30pm & 8:30pm'"
      ]
     },
     "execution_count": 27,
     "metadata": {},
     "output_type": "execute_result"
    }
   ],
   "source": [
    "message_body = \"Brew & View is playing \" + remove_double_spaces(brew_view_movies[0])\n",
    "message_body"
   ]
  },
  {
   "cell_type": "code",
   "execution_count": 28,
   "metadata": {},
   "outputs": [
    {
     "data": {
      "text/plain": [
       "<Twilio.Api.V2010.MessageInstance sid=SM29555eb7be8949448e3f4e20f322a3a9 account_sid=AC07da7067e2cceeb57d1ad7e10abdb20b>"
      ]
     },
     "execution_count": 28,
     "metadata": {},
     "output_type": "execute_result"
    }
   ],
   "source": [
    "# send text that file was moved\n",
    "client = Client(ACCOUNT_SID, AUTH_TOKEN)\n",
    "client.messages.create(\n",
    "    to=\"+17045768532\", \n",
    "    from_=\"+13123132044\", \n",
    "    body=message_body\n",
    ")"
   ]
  },
  {
   "cell_type": "code",
   "execution_count": 29,
   "metadata": {
    "collapsed": true
   },
   "outputs": [],
   "source": [
    "# send multiple texts - one for each movie\n",
    "brew_view_movies = get_brew_view_movies()\n",
    "for i in range(len(brew_view_movies)):\n",
    "    message_body = \"Brew & View is playing \" + remove_double_spaces(brew_view_movies[i])\n",
    "    client = Client(ACCOUNT_SID, AUTH_TOKEN)\n",
    "    client.messages.create(\n",
    "        to=\"+17045768532\", \n",
    "        from_=\"+13123132044\", \n",
    "        body=message_body\n",
    "    )\n",
    "    #print \"Sent text \" + i"
   ]
  },
  {
   "cell_type": "code",
   "execution_count": 30,
   "metadata": {},
   "outputs": [
    {
     "name": "stdout",
     "output_type": "stream",
     "text": [
      "Brew & View is playing Valerian & The City of a Thousand Planets Fri 8/25 at 8:45pm Sat 8/26 & Sun 8/27 at 6:00pm\n"
     ]
    }
   ],
   "source": [
    "print message_body"
   ]
  },
  {
   "cell_type": "code",
   "execution_count": null,
   "metadata": {
    "collapsed": true
   },
   "outputs": [],
   "source": [
    "# main function\n",
    "brew_view_movies = get_brew_view_movies()\n",
    "for i in range(len(brew_view_movies)):\n",
    "    message_body = \"Brew & View is playing \" + remove_double_spaces(brew_view_movies[i])\n",
    "    client = Client(ACCOUNT_SID, AUTH_TOKEN)\n",
    "    client.messages.create(\n",
    "        to=\"+17045768532\", \n",
    "        from_=\"+13123132044\", \n",
    "        body=message_body\n",
    "    )\n",
    "    time.sleep(10)"
   ]
  }
 ],
 "metadata": {
  "kernelspec": {
   "display_name": "Python 2",
   "language": "python",
   "name": "python2"
  },
  "language_info": {
   "codemirror_mode": {
    "name": "ipython",
    "version": 2
   },
   "file_extension": ".py",
   "mimetype": "text/x-python",
   "name": "python",
   "nbconvert_exporter": "python",
   "pygments_lexer": "ipython2",
   "version": "2.7.13"
  }
 },
 "nbformat": 4,
 "nbformat_minor": 2
}
