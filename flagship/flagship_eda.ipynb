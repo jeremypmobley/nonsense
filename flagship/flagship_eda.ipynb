{
 "cells": [
  {
   "cell_type": "markdown",
   "id": "34cc6039",
   "metadata": {},
   "source": [
    "# EDA"
   ]
  },
  {
   "cell_type": "code",
   "execution_count": 1,
   "id": "de5b8da4",
   "metadata": {},
   "outputs": [
    {
     "data": {
      "text/plain": [
       "'C:\\\\Users\\\\jerem\\\\Desktop\\\\flagship'"
      ]
     },
     "execution_count": 1,
     "metadata": {},
     "output_type": "execute_result"
    }
   ],
   "source": [
    "pwd"
   ]
  },
  {
   "cell_type": "code",
   "execution_count": 3,
   "id": "38af8ccc",
   "metadata": {},
   "outputs": [],
   "source": [
    "import pandas as pd"
   ]
  },
  {
   "cell_type": "code",
   "execution_count": 9,
   "id": "a95c1673",
   "metadata": {},
   "outputs": [],
   "source": [
    "import matplotlib.pyplot as plt"
   ]
  },
  {
   "cell_type": "markdown",
   "id": "32c2d688",
   "metadata": {},
   "source": [
    "#### Import data"
   ]
  },
  {
   "cell_type": "code",
   "execution_count": 290,
   "id": "69e7ad18",
   "metadata": {},
   "outputs": [],
   "source": [
    "toy_dataset_df = pd.read_csv('toy_dataset_1_10_23.csv')\n",
    "toy_products_df = pd.read_csv('toy_products_1_10_23.csv')"
   ]
  },
  {
   "cell_type": "code",
   "execution_count": 291,
   "id": "85694cb2",
   "metadata": {},
   "outputs": [
    {
     "data": {
      "text/plain": [
       "(3125, 6)"
      ]
     },
     "execution_count": 291,
     "metadata": {},
     "output_type": "execute_result"
    }
   ],
   "source": [
    "toy_products_df.shape"
   ]
  },
  {
   "cell_type": "code",
   "execution_count": 292,
   "id": "543315aa",
   "metadata": {},
   "outputs": [
    {
     "data": {
      "text/plain": [
       "(32151, 23)"
      ]
     },
     "execution_count": 292,
     "metadata": {},
     "output_type": "execute_result"
    }
   ],
   "source": [
    "toy_dataset_df.shape"
   ]
  },
  {
   "cell_type": "markdown",
   "id": "1be57c12",
   "metadata": {},
   "source": [
    "### Toy Products"
   ]
  },
  {
   "cell_type": "code",
   "execution_count": 293,
   "id": "e29d53de",
   "metadata": {},
   "outputs": [
    {
     "data": {
      "text/html": [
       "<div>\n",
       "<style scoped>\n",
       "    .dataframe tbody tr th:only-of-type {\n",
       "        vertical-align: middle;\n",
       "    }\n",
       "\n",
       "    .dataframe tbody tr th {\n",
       "        vertical-align: top;\n",
       "    }\n",
       "\n",
       "    .dataframe thead th {\n",
       "        text-align: right;\n",
       "    }\n",
       "</style>\n",
       "<table border=\"1\" class=\"dataframe\">\n",
       "  <thead>\n",
       "    <tr style=\"text-align: right;\">\n",
       "      <th></th>\n",
       "      <th>product_id</th>\n",
       "      <th>product_title</th>\n",
       "      <th>product_category</th>\n",
       "      <th>sale_amount</th>\n",
       "      <th>product_color</th>\n",
       "      <th>product_gender</th>\n",
       "    </tr>\n",
       "  </thead>\n",
       "  <tbody>\n",
       "    <tr>\n",
       "      <th>0</th>\n",
       "      <td>6134</td>\n",
       "      <td>Alley Boot</td>\n",
       "      <td>Boot</td>\n",
       "      <td>214</td>\n",
       "      <td>Midnight Green (Eagle Green)</td>\n",
       "      <td>Men</td>\n",
       "    </tr>\n",
       "    <tr>\n",
       "      <th>1</th>\n",
       "      <td>6134</td>\n",
       "      <td>Alley Boot</td>\n",
       "      <td>Boot</td>\n",
       "      <td>214</td>\n",
       "      <td>Midnight Green (Eagle Green)</td>\n",
       "      <td>Women</td>\n",
       "    </tr>\n",
       "    <tr>\n",
       "      <th>2</th>\n",
       "      <td>6134</td>\n",
       "      <td>Alley Boot</td>\n",
       "      <td>Boot</td>\n",
       "      <td>214</td>\n",
       "      <td>Midnight Green (Eagle Green)</td>\n",
       "      <td>Kids</td>\n",
       "    </tr>\n",
       "    <tr>\n",
       "      <th>3</th>\n",
       "      <td>6134</td>\n",
       "      <td>Alley Boot</td>\n",
       "      <td>Boot</td>\n",
       "      <td>214</td>\n",
       "      <td>Midnight Green (Eagle Green)</td>\n",
       "      <td>Youth</td>\n",
       "    </tr>\n",
       "    <tr>\n",
       "      <th>4</th>\n",
       "      <td>6134</td>\n",
       "      <td>Alley Boot</td>\n",
       "      <td>Boot</td>\n",
       "      <td>214</td>\n",
       "      <td>Midnight Green (Eagle Green)</td>\n",
       "      <td>Unisex</td>\n",
       "    </tr>\n",
       "  </tbody>\n",
       "</table>\n",
       "</div>"
      ],
      "text/plain": [
       "   product_id product_title product_category  sale_amount  \\\n",
       "0        6134    Alley Boot             Boot          214   \n",
       "1        6134    Alley Boot             Boot          214   \n",
       "2        6134    Alley Boot             Boot          214   \n",
       "3        6134    Alley Boot             Boot          214   \n",
       "4        6134    Alley Boot             Boot          214   \n",
       "\n",
       "                  product_color product_gender  \n",
       "0  Midnight Green (Eagle Green)            Men  \n",
       "1  Midnight Green (Eagle Green)          Women  \n",
       "2  Midnight Green (Eagle Green)           Kids  \n",
       "3  Midnight Green (Eagle Green)          Youth  \n",
       "4  Midnight Green (Eagle Green)         Unisex  "
      ]
     },
     "execution_count": 293,
     "metadata": {},
     "output_type": "execute_result"
    }
   ],
   "source": [
    "toy_products_df.head()"
   ]
  },
  {
   "cell_type": "code",
   "execution_count": 294,
   "id": "27d648b5",
   "metadata": {},
   "outputs": [
    {
     "name": "stdout",
     "output_type": "stream",
     "text": [
      "<class 'pandas.core.frame.DataFrame'>\n",
      "RangeIndex: 3125 entries, 0 to 3124\n",
      "Data columns (total 6 columns):\n",
      " #   Column            Non-Null Count  Dtype \n",
      "---  ------            --------------  ----- \n",
      " 0   product_id        3125 non-null   int64 \n",
      " 1   product_title     3125 non-null   object\n",
      " 2   product_category  3125 non-null   object\n",
      " 3   sale_amount       3125 non-null   int64 \n",
      " 4   product_color     3125 non-null   object\n",
      " 5   product_gender    3125 non-null   object\n",
      "dtypes: int64(2), object(4)\n",
      "memory usage: 146.6+ KB\n",
      "None\n"
     ]
    }
   ],
   "source": [
    "# Display basic dataframe info\n",
    "print(toy_products_df.info())"
   ]
  },
  {
   "cell_type": "code",
   "execution_count": 295,
   "id": "53b6da87",
   "metadata": {},
   "outputs": [
    {
     "data": {
      "text/html": [
       "<div>\n",
       "<style scoped>\n",
       "    .dataframe tbody tr th:only-of-type {\n",
       "        vertical-align: middle;\n",
       "    }\n",
       "\n",
       "    .dataframe tbody tr th {\n",
       "        vertical-align: top;\n",
       "    }\n",
       "\n",
       "    .dataframe thead th {\n",
       "        text-align: right;\n",
       "    }\n",
       "</style>\n",
       "<table border=\"1\" class=\"dataframe\">\n",
       "  <thead>\n",
       "    <tr style=\"text-align: right;\">\n",
       "      <th></th>\n",
       "      <th>product_id</th>\n",
       "      <th>sale_amount</th>\n",
       "    </tr>\n",
       "  </thead>\n",
       "  <tbody>\n",
       "    <tr>\n",
       "      <th>count</th>\n",
       "      <td>3125.000000</td>\n",
       "      <td>3125.000000</td>\n",
       "    </tr>\n",
       "    <tr>\n",
       "      <th>mean</th>\n",
       "      <td>4608.458240</td>\n",
       "      <td>237.600640</td>\n",
       "    </tr>\n",
       "    <tr>\n",
       "      <th>std</th>\n",
       "      <td>2910.735893</td>\n",
       "      <td>101.247278</td>\n",
       "    </tr>\n",
       "    <tr>\n",
       "      <th>min</th>\n",
       "      <td>538.000000</td>\n",
       "      <td>81.000000</td>\n",
       "    </tr>\n",
       "    <tr>\n",
       "      <th>25%</th>\n",
       "      <td>1921.000000</td>\n",
       "      <td>179.000000</td>\n",
       "    </tr>\n",
       "    <tr>\n",
       "      <th>50%</th>\n",
       "      <td>4839.000000</td>\n",
       "      <td>214.000000</td>\n",
       "    </tr>\n",
       "    <tr>\n",
       "      <th>75%</th>\n",
       "      <td>6134.000000</td>\n",
       "      <td>308.000000</td>\n",
       "    </tr>\n",
       "    <tr>\n",
       "      <th>max</th>\n",
       "      <td>9872.000000</td>\n",
       "      <td>478.000000</td>\n",
       "    </tr>\n",
       "  </tbody>\n",
       "</table>\n",
       "</div>"
      ],
      "text/plain": [
       "        product_id  sale_amount\n",
       "count  3125.000000  3125.000000\n",
       "mean   4608.458240   237.600640\n",
       "std    2910.735893   101.247278\n",
       "min     538.000000    81.000000\n",
       "25%    1921.000000   179.000000\n",
       "50%    4839.000000   214.000000\n",
       "75%    6134.000000   308.000000\n",
       "max    9872.000000   478.000000"
      ]
     },
     "execution_count": 295,
     "metadata": {},
     "output_type": "execute_result"
    }
   ],
   "source": [
    "# Display basic statistics for numerical columns\n",
    "toy_products_df.describe()"
   ]
  },
  {
   "cell_type": "code",
   "execution_count": 296,
   "id": "8f0ffa60",
   "metadata": {
    "scrolled": true
   },
   "outputs": [
    {
     "data": {
      "image/png": "[encoded data removed]",
      "text/plain": [
       "<Figure size 432x288 with 1 Axes>"
      ]
     },
     "metadata": {
      "needs_background": "light"
     },
     "output_type": "display_data"
    }
   ],
   "source": [
    "# Visualize the distribution of sale amounts using a histogram\n",
    "plt.hist(toy_products_df['sale_amount'], bins=20)\n",
    "plt.xlabel('Sale Amount')\n",
    "plt.ylabel('Frequency')\n",
    "plt.show()"
   ]
  },
  {
   "cell_type": "code",
   "execution_count": 297,
   "id": "053af47d",
   "metadata": {},
   "outputs": [
    {
     "data": {
      "text/plain": [
       "25"
      ]
     },
     "execution_count": 297,
     "metadata": {},
     "output_type": "execute_result"
    }
   ],
   "source": [
    "toy_products_df['product_title'].nunique()"
   ]
  },
  {
   "cell_type": "code",
   "execution_count": 298,
   "id": "3ebefc46",
   "metadata": {},
   "outputs": [
    {
     "data": {
      "text/plain": [
       "Marathon Running       126\n",
       "Hustler Boot           125\n",
       "Rogue Sneaker          125\n",
       "Corner Sandal          125\n",
       "Forest Sandal          125\n",
       "Stacked Hiking Boot    125\n",
       "Original Boot          125\n",
       "Iron Running           125\n",
       "Scalar Sandal          125\n",
       "Evermore Boot          125\n",
       "Envy Sandal            125\n",
       "Boost Boot             125\n",
       "Gradient Sneaker       125\n",
       "Discrete Sandal        125\n",
       "Roundup Boot           125\n",
       "Gator Sandal           125\n",
       "Alley Boot             125\n",
       "Naive Boot             125\n",
       "Classic Sneaker        125\n",
       "Olympic Running        125\n",
       "Descent Running        125\n",
       "Bejeweled Boot         125\n",
       "Vanguard Sandal        125\n",
       "Training Sneaker       125\n",
       "League Running         124\n",
       "Name: product_title, dtype: int64"
      ]
     },
     "execution_count": 298,
     "metadata": {},
     "output_type": "execute_result"
    }
   ],
   "source": [
    "toy_products_df['product_title'].value_counts()"
   ]
  },
  {
   "cell_type": "code",
   "execution_count": 299,
   "id": "8d103ad0",
   "metadata": {},
   "outputs": [
    {
     "data": {
      "text/plain": [
       "24"
      ]
     },
     "execution_count": 299,
     "metadata": {},
     "output_type": "execute_result"
    }
   ],
   "source": [
    "toy_products_df['product_id'].nunique()"
   ]
  },
  {
   "cell_type": "code",
   "execution_count": 300,
   "id": "a9ac502f",
   "metadata": {},
   "outputs": [],
   "source": [
    "title_count = toy_products_df.groupby('product_id')['product_title'].nunique()"
   ]
  },
  {
   "cell_type": "code",
   "execution_count": 301,
   "id": "d74f644a",
   "metadata": {},
   "outputs": [
    {
     "data": {
      "text/plain": [
       "[1983]"
      ]
     },
     "execution_count": 301,
     "metadata": {},
     "output_type": "execute_result"
    }
   ],
   "source": [
    "title_count[title_count > 1].index.tolist()"
   ]
  },
  {
   "cell_type": "code",
   "execution_count": 302,
   "id": "722f06f5",
   "metadata": {},
   "outputs": [
    {
     "data": {
      "text/html": [
       "<div>\n",
       "<style scoped>\n",
       "    .dataframe tbody tr th:only-of-type {\n",
       "        vertical-align: middle;\n",
       "    }\n",
       "\n",
       "    .dataframe tbody tr th {\n",
       "        vertical-align: top;\n",
       "    }\n",
       "\n",
       "    .dataframe thead th {\n",
       "        text-align: right;\n",
       "    }\n",
       "</style>\n",
       "<table border=\"1\" class=\"dataframe\">\n",
       "  <thead>\n",
       "    <tr style=\"text-align: right;\">\n",
       "      <th></th>\n",
       "      <th>product_id</th>\n",
       "      <th>product_title</th>\n",
       "      <th>product_category</th>\n",
       "      <th>sale_amount</th>\n",
       "      <th>product_color</th>\n",
       "      <th>product_gender</th>\n",
       "    </tr>\n",
       "  </thead>\n",
       "  <tbody>\n",
       "    <tr>\n",
       "      <th>750</th>\n",
       "      <td>1983</td>\n",
       "      <td>Evermore Boot</td>\n",
       "      <td>Boot</td>\n",
       "      <td>245</td>\n",
       "      <td>Midnight Green (Eagle Green)</td>\n",
       "      <td>Men</td>\n",
       "    </tr>\n",
       "    <tr>\n",
       "      <th>751</th>\n",
       "      <td>1983</td>\n",
       "      <td>Evermore Boot</td>\n",
       "      <td>Boot</td>\n",
       "      <td>245</td>\n",
       "      <td>Midnight Green (Eagle Green)</td>\n",
       "      <td>Women</td>\n",
       "    </tr>\n",
       "    <tr>\n",
       "      <th>752</th>\n",
       "      <td>1983</td>\n",
       "      <td>Evermore Boot</td>\n",
       "      <td>Boot</td>\n",
       "      <td>245</td>\n",
       "      <td>Midnight Green (Eagle Green)</td>\n",
       "      <td>Kids</td>\n",
       "    </tr>\n",
       "    <tr>\n",
       "      <th>753</th>\n",
       "      <td>1983</td>\n",
       "      <td>Evermore Boot</td>\n",
       "      <td>Boot</td>\n",
       "      <td>245</td>\n",
       "      <td>Midnight Green (Eagle Green)</td>\n",
       "      <td>Youth</td>\n",
       "    </tr>\n",
       "    <tr>\n",
       "      <th>754</th>\n",
       "      <td>1983</td>\n",
       "      <td>Evermore Boot</td>\n",
       "      <td>Boot</td>\n",
       "      <td>245</td>\n",
       "      <td>Midnight Green (Eagle Green)</td>\n",
       "      <td>Unisex</td>\n",
       "    </tr>\n",
       "    <tr>\n",
       "      <th>...</th>\n",
       "      <td>...</td>\n",
       "      <td>...</td>\n",
       "      <td>...</td>\n",
       "      <td>...</td>\n",
       "      <td>...</td>\n",
       "      <td>...</td>\n",
       "    </tr>\n",
       "    <tr>\n",
       "      <th>2245</th>\n",
       "      <td>1983</td>\n",
       "      <td>Stacked Hiking Boot</td>\n",
       "      <td>Boot</td>\n",
       "      <td>149</td>\n",
       "      <td>Selective Yellow</td>\n",
       "      <td>Men</td>\n",
       "    </tr>\n",
       "    <tr>\n",
       "      <th>2246</th>\n",
       "      <td>1983</td>\n",
       "      <td>Stacked Hiking Boot</td>\n",
       "      <td>Boot</td>\n",
       "      <td>149</td>\n",
       "      <td>Selective Yellow</td>\n",
       "      <td>Women</td>\n",
       "    </tr>\n",
       "    <tr>\n",
       "      <th>2247</th>\n",
       "      <td>1983</td>\n",
       "      <td>Stacked Hiking Boot</td>\n",
       "      <td>Boot</td>\n",
       "      <td>149</td>\n",
       "      <td>Selective Yellow</td>\n",
       "      <td>Kids</td>\n",
       "    </tr>\n",
       "    <tr>\n",
       "      <th>2248</th>\n",
       "      <td>1983</td>\n",
       "      <td>Stacked Hiking Boot</td>\n",
       "      <td>Boot</td>\n",
       "      <td>149</td>\n",
       "      <td>Selective Yellow</td>\n",
       "      <td>Youth</td>\n",
       "    </tr>\n",
       "    <tr>\n",
       "      <th>2249</th>\n",
       "      <td>1983</td>\n",
       "      <td>Stacked Hiking Boot</td>\n",
       "      <td>Boot</td>\n",
       "      <td>149</td>\n",
       "      <td>Selective Yellow</td>\n",
       "      <td>Unisex</td>\n",
       "    </tr>\n",
       "  </tbody>\n",
       "</table>\n",
       "<p>250 rows × 6 columns</p>\n",
       "</div>"
      ],
      "text/plain": [
       "      product_id        product_title product_category  sale_amount  \\\n",
       "750         1983        Evermore Boot             Boot          245   \n",
       "751         1983        Evermore Boot             Boot          245   \n",
       "752         1983        Evermore Boot             Boot          245   \n",
       "753         1983        Evermore Boot             Boot          245   \n",
       "754         1983        Evermore Boot             Boot          245   \n",
       "...          ...                  ...              ...          ...   \n",
       "2245        1983  Stacked Hiking Boot             Boot          149   \n",
       "2246        1983  Stacked Hiking Boot             Boot          149   \n",
       "2247        1983  Stacked Hiking Boot             Boot          149   \n",
       "2248        1983  Stacked Hiking Boot             Boot          149   \n",
       "2249        1983  Stacked Hiking Boot             Boot          149   \n",
       "\n",
       "                     product_color product_gender  \n",
       "750   Midnight Green (Eagle Green)            Men  \n",
       "751   Midnight Green (Eagle Green)          Women  \n",
       "752   Midnight Green (Eagle Green)           Kids  \n",
       "753   Midnight Green (Eagle Green)          Youth  \n",
       "754   Midnight Green (Eagle Green)         Unisex  \n",
       "...                            ...            ...  \n",
       "2245              Selective Yellow            Men  \n",
       "2246              Selective Yellow          Women  \n",
       "2247              Selective Yellow           Kids  \n",
       "2248              Selective Yellow          Youth  \n",
       "2249              Selective Yellow         Unisex  \n",
       "\n",
       "[250 rows x 6 columns]"
      ]
     },
     "execution_count": 302,
     "metadata": {},
     "output_type": "execute_result"
    }
   ],
   "source": [
    "toy_products_df[toy_products_df['product_id']==1983]"
   ]
  },
  {
   "cell_type": "markdown",
   "id": "d523b089",
   "metadata": {},
   "source": [
    "#### Product Category"
   ]
  },
  {
   "cell_type": "code",
   "execution_count": 303,
   "id": "8a8164fc",
   "metadata": {},
   "outputs": [
    {
     "data": {
      "text/plain": [
       "Boot       1125\n",
       "Sandal      875\n",
       "Running     625\n",
       "Sneaker     500\n",
       "Name: product_category, dtype: int64"
      ]
     },
     "execution_count": 303,
     "metadata": {},
     "output_type": "execute_result"
    }
   ],
   "source": [
    "# Count unique values of categoricals\n",
    "toy_products_df['product_category'].value_counts()"
   ]
  },
  {
   "cell_type": "code",
   "execution_count": 304,
   "id": "6d332873",
   "metadata": {},
   "outputs": [
    {
     "data": {
      "image/png": "[encoded data removed]",
      "text/plain": [
       "<Figure size 432x288 with 1 Axes>"
      ]
     },
     "metadata": {
      "needs_background": "light"
     },
     "output_type": "display_data"
    }
   ],
   "source": [
    "plt.boxplot([toy_products_df[toy_products_df['product_category'] == 'Boot']['sale_amount'], \n",
    "             toy_products_df[toy_products_df['product_category'] == 'Sandal']['sale_amount'],\n",
    "             toy_products_df[toy_products_df['product_category'] == 'Running']['sale_amount'],\n",
    "             toy_products_df[toy_products_df['product_category'] == 'Sneaker']['sale_amount']\n",
    "            ])\n",
    "plt.xticks([1, 2,3,4], ['Boot', 'Sandal', 'Running', 'Sneaker'])\n",
    "plt.xlabel('Category')\n",
    "plt.ylabel('Sale Amount')\n",
    "plt.show()"
   ]
  },
  {
   "cell_type": "code",
   "execution_count": 305,
   "id": "2e939b96",
   "metadata": {},
   "outputs": [
    {
     "data": {
      "text/plain": [
       "Kids      625\n",
       "Men       625\n",
       "Youth     625\n",
       "Women     625\n",
       "Unisex    625\n",
       "Name: product_gender, dtype: int64"
      ]
     },
     "execution_count": 305,
     "metadata": {},
     "output_type": "execute_result"
    }
   ],
   "source": [
    "# Count unique values of categoricals\n",
    "toy_products_df['product_gender'].value_counts()"
   ]
  },
  {
   "cell_type": "code",
   "execution_count": 306,
   "id": "52d77feb",
   "metadata": {},
   "outputs": [
    {
     "data": {
      "image/png": "[encoded data removed]",
      "text/plain": [
       "<Figure size 432x288 with 1 Axes>"
      ]
     },
     "metadata": {
      "needs_background": "light"
     },
     "output_type": "display_data"
    }
   ],
   "source": [
    "plt.boxplot([toy_products_df[toy_products_df['product_gender'] == 'Kids']['sale_amount'], \n",
    "             toy_products_df[toy_products_df['product_gender'] == 'Men']['sale_amount'],\n",
    "             toy_products_df[toy_products_df['product_gender'] == 'Youth']['sale_amount'],\n",
    "             toy_products_df[toy_products_df['product_gender'] == 'Women']['sale_amount']\n",
    "            ])\n",
    "plt.xticks([1, 2,3,4], ['Kids', 'Men', 'Youth', 'Women'])\n",
    "plt.xlabel('Category')\n",
    "plt.ylabel('Sale Amount')\n",
    "plt.show()"
   ]
  },
  {
   "cell_type": "code",
   "execution_count": 307,
   "id": "2da3de05",
   "metadata": {},
   "outputs": [
    {
     "data": {
      "text/plain": [
       "Fern Green                      125\n",
       "Yellow-Green                    125\n",
       "Alice Blue                      125\n",
       "Topaz                           125\n",
       "Mikado Yellow                   125\n",
       "Han Purple                      125\n",
       "Dark Powder Blue                125\n",
       "Selective Yellow                125\n",
       "Mordant Red 19                  125\n",
       "Pastel Magenta                  125\n",
       "Stormcloud                      125\n",
       "Ruby Red                        125\n",
       "Midnight Green (Eagle Green)    125\n",
       "Canary Yellow                   125\n",
       "Electric Green                  125\n",
       "Electric Purple                 125\n",
       "Dark Red                        125\n",
       "Prussian Blue                   125\n",
       "Lavender Purple                 125\n",
       "Green (Munsell)                 125\n",
       "Vermilion (Plochere)            125\n",
       "Royal Blue (Web)                125\n",
       "Burnt Sienna                    125\n",
       "Sky Blue                        125\n",
       "Dartmouth Green                 125\n",
       "Name: product_color, dtype: int64"
      ]
     },
     "execution_count": 307,
     "metadata": {},
     "output_type": "execute_result"
    }
   ],
   "source": [
    "# Count unique values of categoricals\n",
    "toy_products_df['product_color'].value_counts()"
   ]
  },
  {
   "cell_type": "code",
   "execution_count": 308,
   "id": "98acb798",
   "metadata": {},
   "outputs": [
    {
     "data": {
      "text/plain": [
       "25"
      ]
     },
     "execution_count": 308,
     "metadata": {},
     "output_type": "execute_result"
    }
   ],
   "source": [
    "len(toy_products_df['product_color'].value_counts())"
   ]
  },
  {
   "cell_type": "code",
   "execution_count": 309,
   "id": "be9387cc",
   "metadata": {},
   "outputs": [
    {
     "data": {
      "text/plain": [
       "3125"
      ]
     },
     "execution_count": 309,
     "metadata": {},
     "output_type": "execute_result"
    }
   ],
   "source": [
    "# quick math check\n",
    "25*125"
   ]
  },
  {
   "cell_type": "code",
   "execution_count": 310,
   "id": "c1e33185",
   "metadata": {},
   "outputs": [
    {
     "data": {
      "image/png": "[encoded data removed]",
      "text/plain": [
       "<Figure size 432x288 with 1 Axes>"
      ]
     },
     "metadata": {
      "needs_background": "light"
     },
     "output_type": "display_data"
    }
   ],
   "source": [
    "category_sale_amount = []\n",
    "categories = toy_products_df['product_color'].unique()\n",
    "for category in categories:\n",
    "    category_sale_amount.append(toy_products_df[toy_products_df['product_color'] == category]['sale_amount'])\n",
    "plt.boxplot(category_sale_amount, labels=categories)\n",
    "plt.xticks(rotation=90)\n",
    "plt.ylabel('Sale Amount')\n",
    "plt.xlabel('Color')\n",
    "plt.title('Distribution of Sale Amount by Color')\n",
    "plt.show()"
   ]
  },
  {
   "cell_type": "code",
   "execution_count": null,
   "id": "9282500b",
   "metadata": {},
   "outputs": [],
   "source": []
  },
  {
   "cell_type": "markdown",
   "id": "ecdc1469",
   "metadata": {},
   "source": [
    "## Toy Dataset"
   ]
  },
  {
   "cell_type": "code",
   "execution_count": 311,
   "id": "cca04cd7",
   "metadata": {},
   "outputs": [],
   "source": [
    "pd.set_option('display.max_columns', None)"
   ]
  },
  {
   "cell_type": "code",
   "execution_count": 312,
   "id": "67852b78",
   "metadata": {},
   "outputs": [
    {
     "data": {
      "text/html": [
       "<div>\n",
       "<style scoped>\n",
       "    .dataframe tbody tr th:only-of-type {\n",
       "        vertical-align: middle;\n",
       "    }\n",
       "\n",
       "    .dataframe tbody tr th {\n",
       "        vertical-align: top;\n",
       "    }\n",
       "\n",
       "    .dataframe thead th {\n",
       "        text-align: right;\n",
       "    }\n",
       "</style>\n",
       "<table border=\"1\" class=\"dataframe\">\n",
       "  <thead>\n",
       "    <tr style=\"text-align: right;\">\n",
       "      <th></th>\n",
       "      <th>Unnamed: 0</th>\n",
       "      <th>timestamp</th>\n",
       "      <th>transaction_id</th>\n",
       "      <th>hash_customer</th>\n",
       "      <th>sale_amount</th>\n",
       "      <th>product_title</th>\n",
       "      <th>product_color</th>\n",
       "      <th>product_gender</th>\n",
       "      <th>product_category</th>\n",
       "      <th>product_size</th>\n",
       "      <th>referrer_source</th>\n",
       "      <th>point_of_sales</th>\n",
       "      <th>zip_tot_hh</th>\n",
       "      <th>zip_avg_hh_size</th>\n",
       "      <th>zip_avg_fam_size</th>\n",
       "      <th>zip_med_age</th>\n",
       "      <th>zip_male_female_ratio</th>\n",
       "      <th>zip_tot_pop</th>\n",
       "      <th>zip_tot_white_nh</th>\n",
       "      <th>zip_med_hh_income</th>\n",
       "      <th>zip_mean_hh_income</th>\n",
       "      <th>zip_pct_emp_lf</th>\n",
       "      <th>zip_unemp_rate</th>\n",
       "    </tr>\n",
       "  </thead>\n",
       "  <tbody>\n",
       "    <tr>\n",
       "      <th>0</th>\n",
       "      <td>10</td>\n",
       "      <td>2019-10-17 17:00:00</td>\n",
       "      <td>13964574791861793493</td>\n",
       "      <td>118171218419602151</td>\n",
       "      <td>141.0</td>\n",
       "      <td>Rogue Sneaker</td>\n",
       "      <td>Midnight Green (Eagle Green)</td>\n",
       "      <td>Women</td>\n",
       "      <td>Sneaker</td>\n",
       "      <td>11.0</td>\n",
       "      <td>Direct</td>\n",
       "      <td>Online Store</td>\n",
       "      <td>14957.0</td>\n",
       "      <td>1.81</td>\n",
       "      <td>2.55</td>\n",
       "      <td>56.9</td>\n",
       "      <td>109.0</td>\n",
       "      <td>27226.0</td>\n",
       "      <td>21301.0</td>\n",
       "      <td>73818.0</td>\n",
       "      <td>122494.0</td>\n",
       "      <td>54.7</td>\n",
       "      <td>5.6</td>\n",
       "    </tr>\n",
       "    <tr>\n",
       "      <th>1</th>\n",
       "      <td>11</td>\n",
       "      <td>2022-03-26 04:00:00</td>\n",
       "      <td>15462755904385104185</td>\n",
       "      <td>118171218419602151</td>\n",
       "      <td>262.0</td>\n",
       "      <td>Vanguard Sandal</td>\n",
       "      <td>Prussian Blue</td>\n",
       "      <td>Women</td>\n",
       "      <td>Sandal</td>\n",
       "      <td>11.0</td>\n",
       "      <td>Direct</td>\n",
       "      <td>Online Store</td>\n",
       "      <td>14957.0</td>\n",
       "      <td>1.81</td>\n",
       "      <td>2.55</td>\n",
       "      <td>56.9</td>\n",
       "      <td>109.0</td>\n",
       "      <td>27226.0</td>\n",
       "      <td>21301.0</td>\n",
       "      <td>73818.0</td>\n",
       "      <td>122494.0</td>\n",
       "      <td>54.7</td>\n",
       "      <td>5.6</td>\n",
       "    </tr>\n",
       "    <tr>\n",
       "      <th>2</th>\n",
       "      <td>12</td>\n",
       "      <td>2019-10-18 06:00:00</td>\n",
       "      <td>5418521222138237582</td>\n",
       "      <td>15372924648196696535</td>\n",
       "      <td>141.0</td>\n",
       "      <td>Rogue Sneaker</td>\n",
       "      <td>Electric Purple</td>\n",
       "      <td>Women</td>\n",
       "      <td>Sneaker</td>\n",
       "      <td>6.0</td>\n",
       "      <td>Direct</td>\n",
       "      <td>Online Store</td>\n",
       "      <td>11695.0</td>\n",
       "      <td>2.52</td>\n",
       "      <td>3.20</td>\n",
       "      <td>44.4</td>\n",
       "      <td>94.0</td>\n",
       "      <td>30274.0</td>\n",
       "      <td>23867.0</td>\n",
       "      <td>92031.0</td>\n",
       "      <td>135491.0</td>\n",
       "      <td>62.9</td>\n",
       "      <td>4.9</td>\n",
       "    </tr>\n",
       "    <tr>\n",
       "      <th>3</th>\n",
       "      <td>13</td>\n",
       "      <td>2021-10-03 19:00:00</td>\n",
       "      <td>13807911046559617059</td>\n",
       "      <td>15372924648196696535</td>\n",
       "      <td>147.0</td>\n",
       "      <td>Classic Sneaker</td>\n",
       "      <td>Electric Purple</td>\n",
       "      <td>Women</td>\n",
       "      <td>Sneaker</td>\n",
       "      <td>5.5</td>\n",
       "      <td>Direct</td>\n",
       "      <td>Online Store</td>\n",
       "      <td>11695.0</td>\n",
       "      <td>2.52</td>\n",
       "      <td>3.20</td>\n",
       "      <td>44.4</td>\n",
       "      <td>94.0</td>\n",
       "      <td>30274.0</td>\n",
       "      <td>23867.0</td>\n",
       "      <td>92031.0</td>\n",
       "      <td>135491.0</td>\n",
       "      <td>62.9</td>\n",
       "      <td>4.9</td>\n",
       "    </tr>\n",
       "    <tr>\n",
       "      <th>4</th>\n",
       "      <td>14</td>\n",
       "      <td>2019-10-18 09:00:00</td>\n",
       "      <td>17285359619674932653</td>\n",
       "      <td>10040016928726048703</td>\n",
       "      <td>194.0</td>\n",
       "      <td>Olympic Running</td>\n",
       "      <td>Stormcloud</td>\n",
       "      <td>Women</td>\n",
       "      <td>Running</td>\n",
       "      <td>11.5</td>\n",
       "      <td>Search</td>\n",
       "      <td>Online Store</td>\n",
       "      <td>8517.0</td>\n",
       "      <td>2.56</td>\n",
       "      <td>3.17</td>\n",
       "      <td>46.7</td>\n",
       "      <td>90.6</td>\n",
       "      <td>21848.0</td>\n",
       "      <td>18220.0</td>\n",
       "      <td>199598.0</td>\n",
       "      <td>345660.0</td>\n",
       "      <td>57.4</td>\n",
       "      <td>3.1</td>\n",
       "    </tr>\n",
       "    <tr>\n",
       "      <th>5</th>\n",
       "      <td>15</td>\n",
       "      <td>2019-10-18 09:00:00</td>\n",
       "      <td>17285359619674932653</td>\n",
       "      <td>10040016928726048703</td>\n",
       "      <td>198.0</td>\n",
       "      <td>Iron Running</td>\n",
       "      <td>Vermilion (Plochere)</td>\n",
       "      <td>Men</td>\n",
       "      <td>Running</td>\n",
       "      <td>12.5</td>\n",
       "      <td>Search</td>\n",
       "      <td>Online Store</td>\n",
       "      <td>8517.0</td>\n",
       "      <td>2.56</td>\n",
       "      <td>3.17</td>\n",
       "      <td>46.7</td>\n",
       "      <td>90.6</td>\n",
       "      <td>21848.0</td>\n",
       "      <td>18220.0</td>\n",
       "      <td>199598.0</td>\n",
       "      <td>345660.0</td>\n",
       "      <td>57.4</td>\n",
       "      <td>3.1</td>\n",
       "    </tr>\n",
       "    <tr>\n",
       "      <th>6</th>\n",
       "      <td>16</td>\n",
       "      <td>2021-06-23 08:00:00</td>\n",
       "      <td>3332257905080153256</td>\n",
       "      <td>10040016928726048703</td>\n",
       "      <td>237.0</td>\n",
       "      <td>Vanguard Sandal</td>\n",
       "      <td>Vermilion (Plochere)</td>\n",
       "      <td>Men</td>\n",
       "      <td>Sandal</td>\n",
       "      <td>13.5</td>\n",
       "      <td>Direct</td>\n",
       "      <td>Online Store</td>\n",
       "      <td>8517.0</td>\n",
       "      <td>2.56</td>\n",
       "      <td>3.17</td>\n",
       "      <td>46.7</td>\n",
       "      <td>90.6</td>\n",
       "      <td>21848.0</td>\n",
       "      <td>18220.0</td>\n",
       "      <td>199598.0</td>\n",
       "      <td>345660.0</td>\n",
       "      <td>57.4</td>\n",
       "      <td>3.1</td>\n",
       "    </tr>\n",
       "    <tr>\n",
       "      <th>7</th>\n",
       "      <td>17</td>\n",
       "      <td>2019-10-18 09:00:00</td>\n",
       "      <td>3982869061196551528</td>\n",
       "      <td>1043293858936909271</td>\n",
       "      <td>198.0</td>\n",
       "      <td>Iron Running</td>\n",
       "      <td>Topaz</td>\n",
       "      <td>Women</td>\n",
       "      <td>Running</td>\n",
       "      <td>8.0</td>\n",
       "      <td>Search</td>\n",
       "      <td>Online Store</td>\n",
       "      <td>20864.0</td>\n",
       "      <td>2.29</td>\n",
       "      <td>2.91</td>\n",
       "      <td>37.3</td>\n",
       "      <td>94.0</td>\n",
       "      <td>48455.0</td>\n",
       "      <td>36157.0</td>\n",
       "      <td>84683.0</td>\n",
       "      <td>108627.0</td>\n",
       "      <td>69.1</td>\n",
       "      <td>2.4</td>\n",
       "    </tr>\n",
       "    <tr>\n",
       "      <th>8</th>\n",
       "      <td>18</td>\n",
       "      <td>2021-04-27 10:00:00</td>\n",
       "      <td>13918437791996116264</td>\n",
       "      <td>1043293858936909271</td>\n",
       "      <td>194.0</td>\n",
       "      <td>Olympic Running</td>\n",
       "      <td>Electric Purple</td>\n",
       "      <td>Women</td>\n",
       "      <td>Running</td>\n",
       "      <td>8.0</td>\n",
       "      <td>Unknown</td>\n",
       "      <td>Online Store</td>\n",
       "      <td>20864.0</td>\n",
       "      <td>2.29</td>\n",
       "      <td>2.91</td>\n",
       "      <td>37.3</td>\n",
       "      <td>94.0</td>\n",
       "      <td>48455.0</td>\n",
       "      <td>36157.0</td>\n",
       "      <td>84683.0</td>\n",
       "      <td>108627.0</td>\n",
       "      <td>69.1</td>\n",
       "      <td>2.4</td>\n",
       "    </tr>\n",
       "    <tr>\n",
       "      <th>9</th>\n",
       "      <td>19</td>\n",
       "      <td>2022-03-03 18:00:00</td>\n",
       "      <td>1038376598745659600</td>\n",
       "      <td>1043293858936909271</td>\n",
       "      <td>221.0</td>\n",
       "      <td>Olympic Running</td>\n",
       "      <td>Stormcloud</td>\n",
       "      <td>Women</td>\n",
       "      <td>Running</td>\n",
       "      <td>8.0</td>\n",
       "      <td>Direct</td>\n",
       "      <td>Online Store</td>\n",
       "      <td>20864.0</td>\n",
       "      <td>2.29</td>\n",
       "      <td>2.91</td>\n",
       "      <td>37.3</td>\n",
       "      <td>94.0</td>\n",
       "      <td>48455.0</td>\n",
       "      <td>36157.0</td>\n",
       "      <td>84683.0</td>\n",
       "      <td>108627.0</td>\n",
       "      <td>69.1</td>\n",
       "      <td>2.4</td>\n",
       "    </tr>\n",
       "  </tbody>\n",
       "</table>\n",
       "</div>"
      ],
      "text/plain": [
       "   Unnamed: 0            timestamp        transaction_id  \\\n",
       "0          10  2019-10-17 17:00:00  13964574791861793493   \n",
       "1          11  2022-03-26 04:00:00  15462755904385104185   \n",
       "2          12  2019-10-18 06:00:00   5418521222138237582   \n",
       "3          13  2021-10-03 19:00:00  13807911046559617059   \n",
       "4          14  2019-10-18 09:00:00  17285359619674932653   \n",
       "5          15  2019-10-18 09:00:00  17285359619674932653   \n",
       "6          16  2021-06-23 08:00:00   3332257905080153256   \n",
       "7          17  2019-10-18 09:00:00   3982869061196551528   \n",
       "8          18  2021-04-27 10:00:00  13918437791996116264   \n",
       "9          19  2022-03-03 18:00:00   1038376598745659600   \n",
       "\n",
       "          hash_customer  sale_amount    product_title  \\\n",
       "0    118171218419602151        141.0    Rogue Sneaker   \n",
       "1    118171218419602151        262.0  Vanguard Sandal   \n",
       "2  15372924648196696535        141.0    Rogue Sneaker   \n",
       "3  15372924648196696535        147.0  Classic Sneaker   \n",
       "4  10040016928726048703        194.0  Olympic Running   \n",
       "5  10040016928726048703        198.0     Iron Running   \n",
       "6  10040016928726048703        237.0  Vanguard Sandal   \n",
       "7   1043293858936909271        198.0     Iron Running   \n",
       "8   1043293858936909271        194.0  Olympic Running   \n",
       "9   1043293858936909271        221.0  Olympic Running   \n",
       "\n",
       "                  product_color product_gender product_category  product_size  \\\n",
       "0  Midnight Green (Eagle Green)          Women          Sneaker          11.0   \n",
       "1                 Prussian Blue          Women           Sandal          11.0   \n",
       "2               Electric Purple          Women          Sneaker           6.0   \n",
       "3               Electric Purple          Women          Sneaker           5.5   \n",
       "4                    Stormcloud          Women          Running          11.5   \n",
       "5          Vermilion (Plochere)            Men          Running          12.5   \n",
       "6          Vermilion (Plochere)            Men           Sandal          13.5   \n",
       "7                         Topaz          Women          Running           8.0   \n",
       "8               Electric Purple          Women          Running           8.0   \n",
       "9                    Stormcloud          Women          Running           8.0   \n",
       "\n",
       "  referrer_source point_of_sales  zip_tot_hh  zip_avg_hh_size  \\\n",
       "0          Direct   Online Store     14957.0             1.81   \n",
       "1          Direct   Online Store     14957.0             1.81   \n",
       "2          Direct   Online Store     11695.0             2.52   \n",
       "3          Direct   Online Store     11695.0             2.52   \n",
       "4          Search   Online Store      8517.0             2.56   \n",
       "5          Search   Online Store      8517.0             2.56   \n",
       "6          Direct   Online Store      8517.0             2.56   \n",
       "7          Search   Online Store     20864.0             2.29   \n",
       "8         Unknown   Online Store     20864.0             2.29   \n",
       "9          Direct   Online Store     20864.0             2.29   \n",
       "\n",
       "   zip_avg_fam_size  zip_med_age  zip_male_female_ratio  zip_tot_pop  \\\n",
       "0              2.55         56.9                  109.0      27226.0   \n",
       "1              2.55         56.9                  109.0      27226.0   \n",
       "2              3.20         44.4                   94.0      30274.0   \n",
       "3              3.20         44.4                   94.0      30274.0   \n",
       "4              3.17         46.7                   90.6      21848.0   \n",
       "5              3.17         46.7                   90.6      21848.0   \n",
       "6              3.17         46.7                   90.6      21848.0   \n",
       "7              2.91         37.3                   94.0      48455.0   \n",
       "8              2.91         37.3                   94.0      48455.0   \n",
       "9              2.91         37.3                   94.0      48455.0   \n",
       "\n",
       "   zip_tot_white_nh  zip_med_hh_income  zip_mean_hh_income  zip_pct_emp_lf  \\\n",
       "0           21301.0            73818.0            122494.0            54.7   \n",
       "1           21301.0            73818.0            122494.0            54.7   \n",
       "2           23867.0            92031.0            135491.0            62.9   \n",
       "3           23867.0            92031.0            135491.0            62.9   \n",
       "4           18220.0           199598.0            345660.0            57.4   \n",
       "5           18220.0           199598.0            345660.0            57.4   \n",
       "6           18220.0           199598.0            345660.0            57.4   \n",
       "7           36157.0            84683.0            108627.0            69.1   \n",
       "8           36157.0            84683.0            108627.0            69.1   \n",
       "9           36157.0            84683.0            108627.0            69.1   \n",
       "\n",
       "   zip_unemp_rate  \n",
       "0             5.6  \n",
       "1             5.6  \n",
       "2             4.9  \n",
       "3             4.9  \n",
       "4             3.1  \n",
       "5             3.1  \n",
       "6             3.1  \n",
       "7             2.4  \n",
       "8             2.4  \n",
       "9             2.4  "
      ]
     },
     "execution_count": 312,
     "metadata": {},
     "output_type": "execute_result"
    }
   ],
   "source": [
    "toy_dataset_df.head(10)"
   ]
  },
  {
   "cell_type": "code",
   "execution_count": 313,
   "id": "b522e262",
   "metadata": {},
   "outputs": [
    {
     "name": "stdout",
     "output_type": "stream",
     "text": [
      "<class 'pandas.core.frame.DataFrame'>\n",
      "RangeIndex: 32151 entries, 0 to 32150\n",
      "Data columns (total 23 columns):\n",
      " #   Column                 Non-Null Count  Dtype  \n",
      "---  ------                 --------------  -----  \n",
      " 0   Unnamed: 0             32151 non-null  int64  \n",
      " 1   timestamp              32151 non-null  object \n",
      " 2   transaction_id         32151 non-null  uint64 \n",
      " 3   hash_customer          32151 non-null  uint64 \n",
      " 4   sale_amount            32151 non-null  float64\n",
      " 5   product_title          32151 non-null  object \n",
      " 6   product_color          32151 non-null  object \n",
      " 7   product_gender         32151 non-null  object \n",
      " 8   product_category       32151 non-null  object \n",
      " 9   product_size           32077 non-null  float64\n",
      " 10  referrer_source        32151 non-null  object \n",
      " 11  point_of_sales         32151 non-null  object \n",
      " 12  zip_tot_hh             32151 non-null  float64\n",
      " 13  zip_avg_hh_size        32124 non-null  float64\n",
      " 14  zip_avg_fam_size       32124 non-null  float64\n",
      " 15  zip_med_age            32132 non-null  float64\n",
      " 16  zip_male_female_ratio  32132 non-null  float64\n",
      " 17  zip_tot_pop            32151 non-null  float64\n",
      " 18  zip_tot_white_nh       32151 non-null  float64\n",
      " 19  zip_med_hh_income      32091 non-null  float64\n",
      " 20  zip_mean_hh_income     32118 non-null  float64\n",
      " 21  zip_pct_emp_lf         32134 non-null  float64\n",
      " 22  zip_unemp_rate         32134 non-null  float64\n",
      "dtypes: float64(13), int64(1), object(7), uint64(2)\n",
      "memory usage: 5.6+ MB\n",
      "None\n"
     ]
    }
   ],
   "source": [
    "print(toy_dataset_df.info())"
   ]
  },
  {
   "cell_type": "markdown",
   "id": "182b9fcb",
   "metadata": {},
   "source": [
    "#### Timestamp"
   ]
  },
  {
   "cell_type": "code",
   "execution_count": 314,
   "id": "163404c7",
   "metadata": {},
   "outputs": [],
   "source": [
    "toy_dataset_df['timestamp'] = pd.to_datetime(toy_dataset_df['timestamp'])"
   ]
  },
  {
   "cell_type": "code",
   "execution_count": 315,
   "id": "3a16d960",
   "metadata": {},
   "outputs": [
    {
     "data": {
      "image/png": "[encoded data removed]",
      "text/plain": [
       "<Figure size 432x288 with 1 Axes>"
      ]
     },
     "metadata": {
      "needs_background": "light"
     },
     "output_type": "display_data"
    }
   ],
   "source": [
    "plt.hist(toy_dataset_df['timestamp'], bins=50)\n",
    "plt.xlabel('Date')\n",
    "plt.ylabel('Frequency')\n",
    "plt.title('Distribution of Records over Time')\n",
    "plt.xticks(rotation=45)\n",
    "plt.show()"
   ]
  },
  {
   "cell_type": "code",
   "execution_count": 316,
   "id": "f448ad98",
   "metadata": {},
   "outputs": [
    {
     "data": {
      "image/png": "[encoded data removed]",
      "text/plain": [
       "<Figure size 432x288 with 1 Axes>"
      ]
     },
     "metadata": {
      "needs_background": "light"
     },
     "output_type": "display_data"
    }
   ],
   "source": [
    "categories = ['Boot', 'Sandal', 'Running', 'Sneaker']\n",
    "colors = ['blue', 'green', 'orange', 'red']\n",
    "\n",
    "# Create histogram of records by datetime, with different colors for different categories\n",
    "for i, category in enumerate(categories):\n",
    "    plt.hist(toy_dataset_df[toy_dataset_df['product_category'] == category]['timestamp'],\n",
    "             bins=60,\n",
    "             alpha=0.5,\n",
    "             label=category,\n",
    "             color=colors[i])\n",
    "plt.legend()\n",
    "plt.xlabel('Date')\n",
    "plt.ylabel('Frequency')\n",
    "plt.xticks(rotation=45)\n",
    "plt.title('Distribution of Records over Time by Category')\n",
    "plt.show()"
   ]
  },
  {
   "cell_type": "markdown",
   "id": "c1f2f614",
   "metadata": {},
   "source": [
    "#### Transaction ID"
   ]
  },
  {
   "cell_type": "code",
   "execution_count": 317,
   "id": "f8b3b331",
   "metadata": {},
   "outputs": [
    {
     "data": {
      "text/plain": [
       "23459"
      ]
     },
     "execution_count": 317,
     "metadata": {},
     "output_type": "execute_result"
    }
   ],
   "source": [
    "toy_dataset_df['transaction_id'].nunique()"
   ]
  },
  {
   "cell_type": "code",
   "execution_count": 318,
   "id": "f69559b9",
   "metadata": {},
   "outputs": [],
   "source": [
    "# TODO: distribution of number of items in a transaction"
   ]
  },
  {
   "cell_type": "markdown",
   "id": "7fe0a11e",
   "metadata": {},
   "source": [
    "#### Customer hash"
   ]
  },
  {
   "cell_type": "code",
   "execution_count": 319,
   "id": "b35af57d",
   "metadata": {},
   "outputs": [
    {
     "data": {
      "text/plain": [
       "7622"
      ]
     },
     "execution_count": 319,
     "metadata": {},
     "output_type": "execute_result"
    }
   ],
   "source": [
    "toy_dataset_df['hash_customer'].nunique()"
   ]
  },
  {
   "cell_type": "code",
   "execution_count": 320,
   "id": "3f14e6a0",
   "metadata": {},
   "outputs": [],
   "source": [
    "# Group the dataframe by customer ID and transaction date, and sort by transaction date\n",
    "df_sorted = toy_dataset_df.sort_values('timestamp').groupby(['hash_customer', 'timestamp']).first().reset_index()\n",
    "\n",
    "# Add a column showing the transaction number for each user and transaction ID\n",
    "df_sorted['transaction_num'] = df_sorted.groupby('hash_customer', sort=False)['timestamp'].rank(method='dense')"
   ]
  },
  {
   "cell_type": "code",
   "execution_count": 321,
   "id": "a060956d",
   "metadata": {},
   "outputs": [],
   "source": [
    "# Merge the transaction number back into the original dataframe\n",
    "toy_dataset_df = toy_dataset_df.merge(df_sorted[['hash_customer', 'timestamp', 'transaction_num']], \n",
    "                                      on=['hash_customer', 'timestamp'])"
   ]
  },
  {
   "cell_type": "code",
   "execution_count": 322,
   "id": "e5eb75c2",
   "metadata": {},
   "outputs": [],
   "source": [
    "# Use value_counts to count the number of transactions per user\n",
    "transactions_per_user = toy_dataset_df.groupby('hash_customer')['transaction_id'].nunique().reset_index()\n",
    "\n",
    "# Rename columns\n",
    "transactions_per_user.columns = ['hash_customer', 'transaction_count']"
   ]
  },
  {
   "cell_type": "code",
   "execution_count": 323,
   "id": "fd2ec854",
   "metadata": {},
   "outputs": [],
   "source": [
    "transaction_count_distribution = transactions_per_user['transaction_count'].value_counts().sort_index()"
   ]
  },
  {
   "cell_type": "code",
   "execution_count": 324,
   "id": "24ac1f6c",
   "metadata": {},
   "outputs": [
    {
     "data": {
      "text/plain": [
       "<AxesSubplot:>"
      ]
     },
     "execution_count": 324,
     "metadata": {},
     "output_type": "execute_result"
    },
    {
     "data": {
      "image/png": "[encoded data removed]",
      "text/plain": [
       "<Figure size 432x288 with 1 Axes>"
      ]
     },
     "metadata": {
      "needs_background": "light"
     },
     "output_type": "display_data"
    }
   ],
   "source": [
    "transaction_count_distribution.plot(kind='bar')"
   ]
  },
  {
   "cell_type": "code",
   "execution_count": 325,
   "id": "c7a5c738",
   "metadata": {},
   "outputs": [
    {
     "data": {
      "text/html": [
       "<div>\n",
       "<style scoped>\n",
       "    .dataframe tbody tr th:only-of-type {\n",
       "        vertical-align: middle;\n",
       "    }\n",
       "\n",
       "    .dataframe tbody tr th {\n",
       "        vertical-align: top;\n",
       "    }\n",
       "\n",
       "    .dataframe thead th {\n",
       "        text-align: right;\n",
       "    }\n",
       "</style>\n",
       "<table border=\"1\" class=\"dataframe\">\n",
       "  <thead>\n",
       "    <tr style=\"text-align: right;\">\n",
       "      <th></th>\n",
       "      <th>Unnamed: 0</th>\n",
       "      <th>timestamp</th>\n",
       "      <th>transaction_id</th>\n",
       "      <th>hash_customer</th>\n",
       "      <th>sale_amount</th>\n",
       "      <th>product_title</th>\n",
       "      <th>product_color</th>\n",
       "      <th>product_gender</th>\n",
       "      <th>product_category</th>\n",
       "      <th>product_size</th>\n",
       "      <th>referrer_source</th>\n",
       "      <th>point_of_sales</th>\n",
       "      <th>zip_tot_hh</th>\n",
       "      <th>zip_avg_hh_size</th>\n",
       "      <th>zip_avg_fam_size</th>\n",
       "      <th>zip_med_age</th>\n",
       "      <th>zip_male_female_ratio</th>\n",
       "      <th>zip_tot_pop</th>\n",
       "      <th>zip_tot_white_nh</th>\n",
       "      <th>zip_med_hh_income</th>\n",
       "      <th>zip_mean_hh_income</th>\n",
       "      <th>zip_pct_emp_lf</th>\n",
       "      <th>zip_unemp_rate</th>\n",
       "      <th>transaction_num</th>\n",
       "    </tr>\n",
       "  </thead>\n",
       "  <tbody>\n",
       "    <tr>\n",
       "      <th>0</th>\n",
       "      <td>10</td>\n",
       "      <td>2019-10-17 17:00:00</td>\n",
       "      <td>13964574791861793493</td>\n",
       "      <td>118171218419602151</td>\n",
       "      <td>141.0</td>\n",
       "      <td>Rogue Sneaker</td>\n",
       "      <td>Midnight Green (Eagle Green)</td>\n",
       "      <td>Women</td>\n",
       "      <td>Sneaker</td>\n",
       "      <td>11.0</td>\n",
       "      <td>Direct</td>\n",
       "      <td>Online Store</td>\n",
       "      <td>14957.0</td>\n",
       "      <td>1.81</td>\n",
       "      <td>2.55</td>\n",
       "      <td>56.9</td>\n",
       "      <td>109.0</td>\n",
       "      <td>27226.0</td>\n",
       "      <td>21301.0</td>\n",
       "      <td>73818.0</td>\n",
       "      <td>122494.0</td>\n",
       "      <td>54.7</td>\n",
       "      <td>5.6</td>\n",
       "      <td>1.0</td>\n",
       "    </tr>\n",
       "    <tr>\n",
       "      <th>1</th>\n",
       "      <td>11</td>\n",
       "      <td>2022-03-26 04:00:00</td>\n",
       "      <td>15462755904385104185</td>\n",
       "      <td>118171218419602151</td>\n",
       "      <td>262.0</td>\n",
       "      <td>Vanguard Sandal</td>\n",
       "      <td>Prussian Blue</td>\n",
       "      <td>Women</td>\n",
       "      <td>Sandal</td>\n",
       "      <td>11.0</td>\n",
       "      <td>Direct</td>\n",
       "      <td>Online Store</td>\n",
       "      <td>14957.0</td>\n",
       "      <td>1.81</td>\n",
       "      <td>2.55</td>\n",
       "      <td>56.9</td>\n",
       "      <td>109.0</td>\n",
       "      <td>27226.0</td>\n",
       "      <td>21301.0</td>\n",
       "      <td>73818.0</td>\n",
       "      <td>122494.0</td>\n",
       "      <td>54.7</td>\n",
       "      <td>5.6</td>\n",
       "      <td>2.0</td>\n",
       "    </tr>\n",
       "    <tr>\n",
       "      <th>2</th>\n",
       "      <td>12</td>\n",
       "      <td>2019-10-18 06:00:00</td>\n",
       "      <td>5418521222138237582</td>\n",
       "      <td>15372924648196696535</td>\n",
       "      <td>141.0</td>\n",
       "      <td>Rogue Sneaker</td>\n",
       "      <td>Electric Purple</td>\n",
       "      <td>Women</td>\n",
       "      <td>Sneaker</td>\n",
       "      <td>6.0</td>\n",
       "      <td>Direct</td>\n",
       "      <td>Online Store</td>\n",
       "      <td>11695.0</td>\n",
       "      <td>2.52</td>\n",
       "      <td>3.20</td>\n",
       "      <td>44.4</td>\n",
       "      <td>94.0</td>\n",
       "      <td>30274.0</td>\n",
       "      <td>23867.0</td>\n",
       "      <td>92031.0</td>\n",
       "      <td>135491.0</td>\n",
       "      <td>62.9</td>\n",
       "      <td>4.9</td>\n",
       "      <td>1.0</td>\n",
       "    </tr>\n",
       "    <tr>\n",
       "      <th>3</th>\n",
       "      <td>13</td>\n",
       "      <td>2021-10-03 19:00:00</td>\n",
       "      <td>13807911046559617059</td>\n",
       "      <td>15372924648196696535</td>\n",
       "      <td>147.0</td>\n",
       "      <td>Classic Sneaker</td>\n",
       "      <td>Electric Purple</td>\n",
       "      <td>Women</td>\n",
       "      <td>Sneaker</td>\n",
       "      <td>5.5</td>\n",
       "      <td>Direct</td>\n",
       "      <td>Online Store</td>\n",
       "      <td>11695.0</td>\n",
       "      <td>2.52</td>\n",
       "      <td>3.20</td>\n",
       "      <td>44.4</td>\n",
       "      <td>94.0</td>\n",
       "      <td>30274.0</td>\n",
       "      <td>23867.0</td>\n",
       "      <td>92031.0</td>\n",
       "      <td>135491.0</td>\n",
       "      <td>62.9</td>\n",
       "      <td>4.9</td>\n",
       "      <td>2.0</td>\n",
       "    </tr>\n",
       "    <tr>\n",
       "      <th>4</th>\n",
       "      <td>14</td>\n",
       "      <td>2019-10-18 09:00:00</td>\n",
       "      <td>17285359619674932653</td>\n",
       "      <td>10040016928726048703</td>\n",
       "      <td>194.0</td>\n",
       "      <td>Olympic Running</td>\n",
       "      <td>Stormcloud</td>\n",
       "      <td>Women</td>\n",
       "      <td>Running</td>\n",
       "      <td>11.5</td>\n",
       "      <td>Search</td>\n",
       "      <td>Online Store</td>\n",
       "      <td>8517.0</td>\n",
       "      <td>2.56</td>\n",
       "      <td>3.17</td>\n",
       "      <td>46.7</td>\n",
       "      <td>90.6</td>\n",
       "      <td>21848.0</td>\n",
       "      <td>18220.0</td>\n",
       "      <td>199598.0</td>\n",
       "      <td>345660.0</td>\n",
       "      <td>57.4</td>\n",
       "      <td>3.1</td>\n",
       "      <td>1.0</td>\n",
       "    </tr>\n",
       "  </tbody>\n",
       "</table>\n",
       "</div>"
      ],
      "text/plain": [
       "   Unnamed: 0           timestamp        transaction_id         hash_customer  \\\n",
       "0          10 2019-10-17 17:00:00  13964574791861793493    118171218419602151   \n",
       "1          11 2022-03-26 04:00:00  15462755904385104185    118171218419602151   \n",
       "2          12 2019-10-18 06:00:00   5418521222138237582  15372924648196696535   \n",
       "3          13 2021-10-03 19:00:00  13807911046559617059  15372924648196696535   \n",
       "4          14 2019-10-18 09:00:00  17285359619674932653  10040016928726048703   \n",
       "\n",
       "   sale_amount    product_title                 product_color product_gender  \\\n",
       "0        141.0    Rogue Sneaker  Midnight Green (Eagle Green)          Women   \n",
       "1        262.0  Vanguard Sandal                 Prussian Blue          Women   \n",
       "2        141.0    Rogue Sneaker               Electric Purple          Women   \n",
       "3        147.0  Classic Sneaker               Electric Purple          Women   \n",
       "4        194.0  Olympic Running                    Stormcloud          Women   \n",
       "\n",
       "  product_category  product_size referrer_source point_of_sales  zip_tot_hh  \\\n",
       "0          Sneaker          11.0          Direct   Online Store     14957.0   \n",
       "1           Sandal          11.0          Direct   Online Store     14957.0   \n",
       "2          Sneaker           6.0          Direct   Online Store     11695.0   \n",
       "3          Sneaker           5.5          Direct   Online Store     11695.0   \n",
       "4          Running          11.5          Search   Online Store      8517.0   \n",
       "\n",
       "   zip_avg_hh_size  zip_avg_fam_size  zip_med_age  zip_male_female_ratio  \\\n",
       "0             1.81              2.55         56.9                  109.0   \n",
       "1             1.81              2.55         56.9                  109.0   \n",
       "2             2.52              3.20         44.4                   94.0   \n",
       "3             2.52              3.20         44.4                   94.0   \n",
       "4             2.56              3.17         46.7                   90.6   \n",
       "\n",
       "   zip_tot_pop  zip_tot_white_nh  zip_med_hh_income  zip_mean_hh_income  \\\n",
       "0      27226.0           21301.0            73818.0            122494.0   \n",
       "1      27226.0           21301.0            73818.0            122494.0   \n",
       "2      30274.0           23867.0            92031.0            135491.0   \n",
       "3      30274.0           23867.0            92031.0            135491.0   \n",
       "4      21848.0           18220.0           199598.0            345660.0   \n",
       "\n",
       "   zip_pct_emp_lf  zip_unemp_rate  transaction_num  \n",
       "0            54.7             5.6              1.0  \n",
       "1            54.7             5.6              2.0  \n",
       "2            62.9             4.9              1.0  \n",
       "3            62.9             4.9              2.0  \n",
       "4            57.4             3.1              1.0  "
      ]
     },
     "execution_count": 325,
     "metadata": {},
     "output_type": "execute_result"
    }
   ],
   "source": [
    "toy_dataset_df.head()"
   ]
  },
  {
   "cell_type": "code",
   "execution_count": 326,
   "id": "fc539481",
   "metadata": {},
   "outputs": [
    {
     "data": {
      "text/plain": [
       "290"
      ]
     },
     "execution_count": 326,
     "metadata": {},
     "output_type": "execute_result"
    }
   ],
   "source": [
    "toy_dataset_df[toy_dataset_df['hash_customer']==934772523603658765]['transaction_id'].nunique()"
   ]
  },
  {
   "cell_type": "markdown",
   "id": "fedd3bde",
   "metadata": {},
   "source": [
    "#### Sale Amount"
   ]
  },
  {
   "cell_type": "code",
   "execution_count": 60,
   "id": "01fa0dfd",
   "metadata": {},
   "outputs": [
    {
     "data": {
      "image/png": "[encoded data removed]",
      "text/plain": [
       "<Figure size 432x288 with 1 Axes>"
      ]
     },
     "metadata": {
      "needs_background": "light"
     },
     "output_type": "display_data"
    }
   ],
   "source": [
    "# Visualize the distribution of sale amounts using a histogram\n",
    "plt.hist(toy_dataset_df['sale_amount'], bins=20)\n",
    "plt.xlabel('Sale Amount')\n",
    "plt.ylabel('Frequency')\n",
    "plt.show()"
   ]
  },
  {
   "cell_type": "markdown",
   "id": "dd38a80e",
   "metadata": {},
   "source": [
    "#### Product Title"
   ]
  },
  {
   "cell_type": "code",
   "execution_count": 61,
   "id": "6fb8b019",
   "metadata": {},
   "outputs": [
    {
     "data": {
      "text/plain": [
       "Olympic Running        10179\n",
       "Iron Running            4654\n",
       "League Running          3917\n",
       "Hustler Boot            3504\n",
       "Classic Sneaker         2220\n",
       "Vanguard Sandal         2197\n",
       "Rogue Sneaker           2142\n",
       "Stacked Hiking Boot     1518\n",
       "Scalar Sandal            658\n",
       "Marathon Running         357\n",
       "Original Boot            209\n",
       "Corner Sandal            151\n",
       "Evermore Boot            140\n",
       "Gator Sandal             136\n",
       "Bejeweled Boot            88\n",
       "Training Sneaker          62\n",
       "Alley Boot                 9\n",
       "Discrete Sandal            6\n",
       "Roundup Boot               4\n",
       "Name: product_title, dtype: int64"
      ]
     },
     "execution_count": 61,
     "metadata": {},
     "output_type": "execute_result"
    }
   ],
   "source": [
    "# Count unique values of categoricals\n",
    "toy_dataset_df['product_title'].value_counts()"
   ]
  },
  {
   "cell_type": "markdown",
   "id": "e1265a07",
   "metadata": {},
   "source": [
    "#### Product Color"
   ]
  },
  {
   "cell_type": "code",
   "execution_count": 63,
   "id": "ece8f59f",
   "metadata": {},
   "outputs": [
    {
     "data": {
      "text/plain": [
       "Lavender Purple                 1335\n",
       "Dark Red                        1327\n",
       "Midnight Green (Eagle Green)    1321\n",
       "Fern Green                      1318\n",
       "Prussian Blue                   1317\n",
       "Sky Blue                        1316\n",
       "Green (Munsell)                 1310\n",
       "Mordant Red 19                  1307\n",
       "Burnt Sienna                    1300\n",
       "Stormcloud                      1299\n",
       "Ruby Red                        1295\n",
       "Canary Yellow                   1291\n",
       "Selective Yellow                1286\n",
       "Han Purple                      1285\n",
       "Vermilion (Plochere)            1283\n",
       "Topaz                           1282\n",
       "Mikado Yellow                   1280\n",
       "Electric Green                  1274\n",
       "Royal Blue (Web)                1272\n",
       "Alice Blue                      1270\n",
       "Electric Purple                 1256\n",
       "Dartmouth Green                 1236\n",
       "Pastel Magenta                  1234\n",
       "Yellow-Green                    1230\n",
       "Dark Powder Blue                1227\n",
       "Name: product_color, dtype: int64"
      ]
     },
     "execution_count": 63,
     "metadata": {},
     "output_type": "execute_result"
    }
   ],
   "source": [
    "# Count unique values of categoricals\n",
    "toy_dataset_df['product_color'].value_counts()"
   ]
  },
  {
   "cell_type": "markdown",
   "id": "466b5c63",
   "metadata": {},
   "source": [
    "#### Product Gender"
   ]
  },
  {
   "cell_type": "code",
   "execution_count": 64,
   "id": "f7c74df0",
   "metadata": {},
   "outputs": [
    {
     "data": {
      "text/plain": [
       "Women     21431\n",
       "Men        8119\n",
       "Kids       1285\n",
       "Youth       941\n",
       "Unisex      375\n",
       "Name: product_gender, dtype: int64"
      ]
     },
     "execution_count": 64,
     "metadata": {},
     "output_type": "execute_result"
    }
   ],
   "source": [
    "# Count unique values of categoricals\n",
    "toy_dataset_df['product_gender'].value_counts()"
   ]
  },
  {
   "cell_type": "markdown",
   "id": "457c1d52",
   "metadata": {},
   "source": [
    "#### Product Category"
   ]
  },
  {
   "cell_type": "code",
   "execution_count": 68,
   "id": "10cefc9d",
   "metadata": {},
   "outputs": [
    {
     "data": {
      "text/plain": [
       "Running    19107\n",
       "Boot        5472\n",
       "Sneaker     4424\n",
       "Sandal      3148\n",
       "Name: product_category, dtype: int64"
      ]
     },
     "execution_count": 68,
     "metadata": {},
     "output_type": "execute_result"
    }
   ],
   "source": [
    "# Count unique values of categoricals\n",
    "toy_dataset_df['product_category'].value_counts()"
   ]
  },
  {
   "cell_type": "markdown",
   "id": "ef3118b5",
   "metadata": {},
   "source": [
    "#### Product Size"
   ]
  },
  {
   "cell_type": "code",
   "execution_count": 70,
   "id": "4fd01268",
   "metadata": {},
   "outputs": [
    {
     "data": {
      "text/plain": [
       "<AxesSubplot:>"
      ]
     },
     "execution_count": 70,
     "metadata": {},
     "output_type": "execute_result"
    },
    {
     "data": {
      "image/png": "[encoded data removed]",
      "text/plain": [
       "<Figure size 432x288 with 1 Axes>"
      ]
     },
     "metadata": {
      "needs_background": "light"
     },
     "output_type": "display_data"
    }
   ],
   "source": [
    "# Count unique values of categoricals\n",
    "toy_dataset_df['product_size'].hist()"
   ]
  },
  {
   "cell_type": "markdown",
   "id": "1e044d0d",
   "metadata": {},
   "source": [
    "#### Referrer Source"
   ]
  },
  {
   "cell_type": "code",
   "execution_count": 57,
   "id": "d04614e4",
   "metadata": {},
   "outputs": [
    {
     "data": {
      "text/plain": [
       "Direct     20927\n",
       "Search      9026\n",
       "Social      1528\n",
       "Unknown      652\n",
       "Email         18\n",
       "Name: referrer_source, dtype: int64"
      ]
     },
     "execution_count": 57,
     "metadata": {},
     "output_type": "execute_result"
    }
   ],
   "source": [
    "# Count unique values of categoricals\n",
    "toy_dataset_df['referrer_source'].value_counts()"
   ]
  },
  {
   "cell_type": "markdown",
   "id": "13427ebc",
   "metadata": {},
   "source": [
    "#### Point of Sales"
   ]
  },
  {
   "cell_type": "code",
   "execution_count": 71,
   "id": "8c9a1671",
   "metadata": {},
   "outputs": [
    {
     "data": {
      "text/plain": [
       "Online Store                     29338\n",
       "Loop Returns                      1244\n",
       "Point of Sale                      994\n",
       "Flow Connect                       309\n",
       "Returnly                           247\n",
       "Shop                                10\n",
       "Facebook                             6\n",
       "Facebook Shop (discontinued)         2\n",
       "Route - Protection & Tracking        1\n",
       "Name: point_of_sales, dtype: int64"
      ]
     },
     "execution_count": 71,
     "metadata": {},
     "output_type": "execute_result"
    }
   ],
   "source": [
    "# Count unique values of categoricals\n",
    "toy_dataset_df['point_of_sales'].value_counts()"
   ]
  },
  {
   "cell_type": "code",
   "execution_count": null,
   "id": "1b74d031",
   "metadata": {},
   "outputs": [],
   "source": []
  },
  {
   "cell_type": "code",
   "execution_count": null,
   "id": "884b47db",
   "metadata": {},
   "outputs": [],
   "source": [
    "# Zip columns"
   ]
  },
  {
   "cell_type": "code",
   "execution_count": null,
   "id": "c2719b8c",
   "metadata": {},
   "outputs": [],
   "source": []
  },
  {
   "cell_type": "code",
   "execution_count": null,
   "id": "ce0a276f",
   "metadata": {},
   "outputs": [],
   "source": [
    "# Seasonality"
   ]
  },
  {
   "cell_type": "code",
   "execution_count": null,
   "id": "53cb1ac7",
   "metadata": {},
   "outputs": [],
   "source": []
  },
  {
   "cell_type": "code",
   "execution_count": null,
   "id": "a1180c7f",
   "metadata": {},
   "outputs": [],
   "source": []
  },
  {
   "cell_type": "code",
   "execution_count": null,
   "id": "616ed338",
   "metadata": {},
   "outputs": [],
   "source": []
  },
  {
   "cell_type": "code",
   "execution_count": null,
   "id": "50874d79",
   "metadata": {},
   "outputs": [],
   "source": []
  }
 ],
 "metadata": {
  "kernelspec": {
   "display_name": "Python 3",
   "language": "python",
   "name": "python3"
  },
  "language_info": {
   "codemirror_mode": {
    "name": "ipython",
    "version": 3
   },
   "file_extension": ".py",
   "mimetype": "text/x-python",
   "name": "python",
   "nbconvert_exporter": "python",
   "pygments_lexer": "ipython3",
   "version": "3.8.8"
  }
 },
 "nbformat": 4,
 "nbformat_minor": 5
}
