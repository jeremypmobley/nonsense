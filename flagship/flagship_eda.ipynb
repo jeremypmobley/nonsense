{
 "cells": [
  {
   "cell_type": "markdown",
   "id": "34cc6039",
   "metadata": {},
   "source": [
    "# EDA"
   ]
  },
  {
   "cell_type": "code",
   "execution_count": 1,
   "id": "de5b8da4",
   "metadata": {},
   "outputs": [
    {
     "data": {
      "text/plain": [
       "'C:\\\\Users\\\\jerem\\\\Desktop\\\\nonsense\\\\flagship'"
      ]
     },
     "execution_count": 1,
     "metadata": {},
     "output_type": "execute_result"
    }
   ],
   "source": [
    "pwd"
   ]
  },
  {
   "cell_type": "code",
   "execution_count": 2,
   "id": "38af8ccc",
   "metadata": {},
   "outputs": [],
   "source": [
    "import pandas as pd\n",
    "import matplotlib.pyplot as plt\n",
    "\n",
    "pd.set_option('display.max_columns', None)"
   ]
  },
  {
   "cell_type": "markdown",
   "id": "32c2d688",
   "metadata": {},
   "source": [
    "#### Import data"
   ]
  },
  {
   "cell_type": "code",
   "execution_count": 3,
   "id": "69e7ad18",
   "metadata": {},
   "outputs": [
    {
     "name": "stdout",
     "output_type": "stream",
     "text": [
      "(3125, 6)\n",
      "(32151, 23)\n"
     ]
    }
   ],
   "source": [
    "toy_dataset_df = pd.read_csv('toy_dataset_1_10_23.csv')\n",
    "toy_products_df = pd.read_csv('toy_products_1_10_23.csv')\n",
    "\n",
    "print(toy_products_df.shape)\n",
    "print(toy_dataset_df.shape)"
   ]
  },
  {
   "cell_type": "markdown",
   "id": "1be57c12",
   "metadata": {},
   "source": [
    "### Toy Products"
   ]
  },
  {
   "cell_type": "code",
   "execution_count": 4,
   "id": "e29d53de",
   "metadata": {},
   "outputs": [
    {
     "data": {
      "text/html": [
       "<div>\n",
       "<style scoped>\n",
       "    .dataframe tbody tr th:only-of-type {\n",
       "        vertical-align: middle;\n",
       "    }\n",
       "\n",
       "    .dataframe tbody tr th {\n",
       "        vertical-align: top;\n",
       "    }\n",
       "\n",
       "    .dataframe thead th {\n",
       "        text-align: right;\n",
       "    }\n",
       "</style>\n",
       "<table border=\"1\" class=\"dataframe\">\n",
       "  <thead>\n",
       "    <tr style=\"text-align: right;\">\n",
       "      <th></th>\n",
       "      <th>product_id</th>\n",
       "      <th>product_title</th>\n",
       "      <th>product_category</th>\n",
       "      <th>sale_amount</th>\n",
       "      <th>product_color</th>\n",
       "      <th>product_gender</th>\n",
       "    </tr>\n",
       "  </thead>\n",
       "  <tbody>\n",
       "    <tr>\n",
       "      <th>0</th>\n",
       "      <td>6134</td>\n",
       "      <td>Alley Boot</td>\n",
       "      <td>Boot</td>\n",
       "      <td>214</td>\n",
       "      <td>Midnight Green (Eagle Green)</td>\n",
       "      <td>Men</td>\n",
       "    </tr>\n",
       "    <tr>\n",
       "      <th>1</th>\n",
       "      <td>6134</td>\n",
       "      <td>Alley Boot</td>\n",
       "      <td>Boot</td>\n",
       "      <td>214</td>\n",
       "      <td>Midnight Green (Eagle Green)</td>\n",
       "      <td>Women</td>\n",
       "    </tr>\n",
       "    <tr>\n",
       "      <th>2</th>\n",
       "      <td>6134</td>\n",
       "      <td>Alley Boot</td>\n",
       "      <td>Boot</td>\n",
       "      <td>214</td>\n",
       "      <td>Midnight Green (Eagle Green)</td>\n",
       "      <td>Kids</td>\n",
       "    </tr>\n",
       "    <tr>\n",
       "      <th>3</th>\n",
       "      <td>6134</td>\n",
       "      <td>Alley Boot</td>\n",
       "      <td>Boot</td>\n",
       "      <td>214</td>\n",
       "      <td>Midnight Green (Eagle Green)</td>\n",
       "      <td>Youth</td>\n",
       "    </tr>\n",
       "    <tr>\n",
       "      <th>4</th>\n",
       "      <td>6134</td>\n",
       "      <td>Alley Boot</td>\n",
       "      <td>Boot</td>\n",
       "      <td>214</td>\n",
       "      <td>Midnight Green (Eagle Green)</td>\n",
       "      <td>Unisex</td>\n",
       "    </tr>\n",
       "  </tbody>\n",
       "</table>\n",
       "</div>"
      ],
      "text/plain": [
       "   product_id product_title product_category  sale_amount  \\\n",
       "0        6134    Alley Boot             Boot          214   \n",
       "1        6134    Alley Boot             Boot          214   \n",
       "2        6134    Alley Boot             Boot          214   \n",
       "3        6134    Alley Boot             Boot          214   \n",
       "4        6134    Alley Boot             Boot          214   \n",
       "\n",
       "                  product_color product_gender  \n",
       "0  Midnight Green (Eagle Green)            Men  \n",
       "1  Midnight Green (Eagle Green)          Women  \n",
       "2  Midnight Green (Eagle Green)           Kids  \n",
       "3  Midnight Green (Eagle Green)          Youth  \n",
       "4  Midnight Green (Eagle Green)         Unisex  "
      ]
     },
     "execution_count": 4,
     "metadata": {},
     "output_type": "execute_result"
    }
   ],
   "source": [
    "toy_products_df.head()"
   ]
  },
  {
   "cell_type": "code",
   "execution_count": 5,
   "id": "75e97055",
   "metadata": {},
   "outputs": [],
   "source": [
    "# TODO - create unique product identifier"
   ]
  },
  {
   "cell_type": "code",
   "execution_count": 6,
   "id": "27d648b5",
   "metadata": {},
   "outputs": [
    {
     "name": "stdout",
     "output_type": "stream",
     "text": [
      "<class 'pandas.core.frame.DataFrame'>\n",
      "RangeIndex: 3125 entries, 0 to 3124\n",
      "Data columns (total 6 columns):\n",
      " #   Column            Non-Null Count  Dtype \n",
      "---  ------            --------------  ----- \n",
      " 0   product_id        3125 non-null   int64 \n",
      " 1   product_title     3125 non-null   object\n",
      " 2   product_category  3125 non-null   object\n",
      " 3   sale_amount       3125 non-null   int64 \n",
      " 4   product_color     3125 non-null   object\n",
      " 5   product_gender    3125 non-null   object\n",
      "dtypes: int64(2), object(4)\n",
      "memory usage: 146.6+ KB\n",
      "None\n"
     ]
    }
   ],
   "source": [
    "# Display basic dataframe info\n",
    "print(toy_products_df.info())"
   ]
  },
  {
   "cell_type": "code",
   "execution_count": 7,
   "id": "53b6da87",
   "metadata": {},
   "outputs": [
    {
     "data": {
      "text/html": [
       "<div>\n",
       "<style scoped>\n",
       "    .dataframe tbody tr th:only-of-type {\n",
       "        vertical-align: middle;\n",
       "    }\n",
       "\n",
       "    .dataframe tbody tr th {\n",
       "        vertical-align: top;\n",
       "    }\n",
       "\n",
       "    .dataframe thead th {\n",
       "        text-align: right;\n",
       "    }\n",
       "</style>\n",
       "<table border=\"1\" class=\"dataframe\">\n",
       "  <thead>\n",
       "    <tr style=\"text-align: right;\">\n",
       "      <th></th>\n",
       "      <th>product_id</th>\n",
       "      <th>sale_amount</th>\n",
       "    </tr>\n",
       "  </thead>\n",
       "  <tbody>\n",
       "    <tr>\n",
       "      <th>count</th>\n",
       "      <td>3125.000000</td>\n",
       "      <td>3125.000000</td>\n",
       "    </tr>\n",
       "    <tr>\n",
       "      <th>mean</th>\n",
       "      <td>4608.458240</td>\n",
       "      <td>237.600640</td>\n",
       "    </tr>\n",
       "    <tr>\n",
       "      <th>std</th>\n",
       "      <td>2910.735893</td>\n",
       "      <td>101.247278</td>\n",
       "    </tr>\n",
       "    <tr>\n",
       "      <th>min</th>\n",
       "      <td>538.000000</td>\n",
       "      <td>81.000000</td>\n",
       "    </tr>\n",
       "    <tr>\n",
       "      <th>25%</th>\n",
       "      <td>1921.000000</td>\n",
       "      <td>179.000000</td>\n",
       "    </tr>\n",
       "    <tr>\n",
       "      <th>50%</th>\n",
       "      <td>4839.000000</td>\n",
       "      <td>214.000000</td>\n",
       "    </tr>\n",
       "    <tr>\n",
       "      <th>75%</th>\n",
       "      <td>6134.000000</td>\n",
       "      <td>308.000000</td>\n",
       "    </tr>\n",
       "    <tr>\n",
       "      <th>max</th>\n",
       "      <td>9872.000000</td>\n",
       "      <td>478.000000</td>\n",
       "    </tr>\n",
       "  </tbody>\n",
       "</table>\n",
       "</div>"
      ],
      "text/plain": [
       "        product_id  sale_amount\n",
       "count  3125.000000  3125.000000\n",
       "mean   4608.458240   237.600640\n",
       "std    2910.735893   101.247278\n",
       "min     538.000000    81.000000\n",
       "25%    1921.000000   179.000000\n",
       "50%    4839.000000   214.000000\n",
       "75%    6134.000000   308.000000\n",
       "max    9872.000000   478.000000"
      ]
     },
     "execution_count": 7,
     "metadata": {},
     "output_type": "execute_result"
    }
   ],
   "source": [
    "# Display basic statistics for numerical columns\n",
    "toy_products_df.describe()"
   ]
  },
  {
   "cell_type": "code",
   "execution_count": 8,
   "id": "8f0ffa60",
   "metadata": {
    "scrolled": true
   },
   "outputs": [
    {
     "data": {
      "image/png": "[encoded data removed]",
      "text/plain": [
       "<Figure size 432x288 with 1 Axes>"
      ]
     },
     "metadata": {
      "needs_background": "light"
     },
     "output_type": "display_data"
    }
   ],
   "source": [
    "# Visualize the distribution of sale amounts using a histogram\n",
    "plt.hist(toy_products_df['sale_amount'], bins=20)\n",
    "plt.xlabel('Sale Amount')\n",
    "plt.ylabel('Frequency')\n",
    "plt.show()"
   ]
  },
  {
   "cell_type": "code",
   "execution_count": 9,
   "id": "053af47d",
   "metadata": {},
   "outputs": [
    {
     "data": {
      "text/plain": [
       "25"
      ]
     },
     "execution_count": 9,
     "metadata": {},
     "output_type": "execute_result"
    }
   ],
   "source": [
    "toy_products_df['product_title'].nunique()"
   ]
  },
  {
   "cell_type": "code",
   "execution_count": 10,
   "id": "3ebefc46",
   "metadata": {},
   "outputs": [
    {
     "data": {
      "text/plain": [
       "Marathon Running       126\n",
       "Hustler Boot           125\n",
       "Original Boot          125\n",
       "Corner Sandal          125\n",
       "Alley Boot             125\n",
       "Vanguard Sandal        125\n",
       "Roundup Boot           125\n",
       "Rogue Sneaker          125\n",
       "Gator Sandal           125\n",
       "Stacked Hiking Boot    125\n",
       "Boost Boot             125\n",
       "Olympic Running        125\n",
       "Descent Running        125\n",
       "Bejeweled Boot         125\n",
       "Forest Sandal          125\n",
       "Naive Boot             125\n",
       "Scalar Sandal          125\n",
       "Envy Sandal            125\n",
       "Training Sneaker       125\n",
       "Discrete Sandal        125\n",
       "Evermore Boot          125\n",
       "Gradient Sneaker       125\n",
       "Classic Sneaker        125\n",
       "Iron Running           125\n",
       "League Running         124\n",
       "Name: product_title, dtype: int64"
      ]
     },
     "execution_count": 10,
     "metadata": {},
     "output_type": "execute_result"
    }
   ],
   "source": [
    "toy_products_df['product_title'].value_counts()"
   ]
  },
  {
   "cell_type": "code",
   "execution_count": 11,
   "id": "8d103ad0",
   "metadata": {},
   "outputs": [
    {
     "data": {
      "text/plain": [
       "24"
      ]
     },
     "execution_count": 11,
     "metadata": {},
     "output_type": "execute_result"
    }
   ],
   "source": [
    "toy_products_df['product_id'].nunique()"
   ]
  },
  {
   "cell_type": "code",
   "execution_count": 12,
   "id": "a9ac502f",
   "metadata": {},
   "outputs": [
    {
     "data": {
      "text/plain": [
       "[1983]"
      ]
     },
     "execution_count": 12,
     "metadata": {},
     "output_type": "execute_result"
    }
   ],
   "source": [
    "# look at product titles that share ID\n",
    "title_count = toy_products_df.groupby('product_id')['product_title'].nunique()\n",
    "title_count[title_count > 1].index.tolist()"
   ]
  },
  {
   "cell_type": "code",
   "execution_count": 13,
   "id": "722f06f5",
   "metadata": {},
   "outputs": [
    {
     "data": {
      "text/html": [
       "<div>\n",
       "<style scoped>\n",
       "    .dataframe tbody tr th:only-of-type {\n",
       "        vertical-align: middle;\n",
       "    }\n",
       "\n",
       "    .dataframe tbody tr th {\n",
       "        vertical-align: top;\n",
       "    }\n",
       "\n",
       "    .dataframe thead th {\n",
       "        text-align: right;\n",
       "    }\n",
       "</style>\n",
       "<table border=\"1\" class=\"dataframe\">\n",
       "  <thead>\n",
       "    <tr style=\"text-align: right;\">\n",
       "      <th></th>\n",
       "      <th>product_id</th>\n",
       "      <th>product_title</th>\n",
       "      <th>product_category</th>\n",
       "      <th>sale_amount</th>\n",
       "      <th>product_color</th>\n",
       "      <th>product_gender</th>\n",
       "    </tr>\n",
       "  </thead>\n",
       "  <tbody>\n",
       "    <tr>\n",
       "      <th>750</th>\n",
       "      <td>1983</td>\n",
       "      <td>Evermore Boot</td>\n",
       "      <td>Boot</td>\n",
       "      <td>245</td>\n",
       "      <td>Midnight Green (Eagle Green)</td>\n",
       "      <td>Men</td>\n",
       "    </tr>\n",
       "    <tr>\n",
       "      <th>751</th>\n",
       "      <td>1983</td>\n",
       "      <td>Evermore Boot</td>\n",
       "      <td>Boot</td>\n",
       "      <td>245</td>\n",
       "      <td>Midnight Green (Eagle Green)</td>\n",
       "      <td>Women</td>\n",
       "    </tr>\n",
       "    <tr>\n",
       "      <th>752</th>\n",
       "      <td>1983</td>\n",
       "      <td>Evermore Boot</td>\n",
       "      <td>Boot</td>\n",
       "      <td>245</td>\n",
       "      <td>Midnight Green (Eagle Green)</td>\n",
       "      <td>Kids</td>\n",
       "    </tr>\n",
       "    <tr>\n",
       "      <th>753</th>\n",
       "      <td>1983</td>\n",
       "      <td>Evermore Boot</td>\n",
       "      <td>Boot</td>\n",
       "      <td>245</td>\n",
       "      <td>Midnight Green (Eagle Green)</td>\n",
       "      <td>Youth</td>\n",
       "    </tr>\n",
       "    <tr>\n",
       "      <th>754</th>\n",
       "      <td>1983</td>\n",
       "      <td>Evermore Boot</td>\n",
       "      <td>Boot</td>\n",
       "      <td>245</td>\n",
       "      <td>Midnight Green (Eagle Green)</td>\n",
       "      <td>Unisex</td>\n",
       "    </tr>\n",
       "    <tr>\n",
       "      <th>...</th>\n",
       "      <td>...</td>\n",
       "      <td>...</td>\n",
       "      <td>...</td>\n",
       "      <td>...</td>\n",
       "      <td>...</td>\n",
       "      <td>...</td>\n",
       "    </tr>\n",
       "    <tr>\n",
       "      <th>2245</th>\n",
       "      <td>1983</td>\n",
       "      <td>Stacked Hiking Boot</td>\n",
       "      <td>Boot</td>\n",
       "      <td>149</td>\n",
       "      <td>Selective Yellow</td>\n",
       "      <td>Men</td>\n",
       "    </tr>\n",
       "    <tr>\n",
       "      <th>2246</th>\n",
       "      <td>1983</td>\n",
       "      <td>Stacked Hiking Boot</td>\n",
       "      <td>Boot</td>\n",
       "      <td>149</td>\n",
       "      <td>Selective Yellow</td>\n",
       "      <td>Women</td>\n",
       "    </tr>\n",
       "    <tr>\n",
       "      <th>2247</th>\n",
       "      <td>1983</td>\n",
       "      <td>Stacked Hiking Boot</td>\n",
       "      <td>Boot</td>\n",
       "      <td>149</td>\n",
       "      <td>Selective Yellow</td>\n",
       "      <td>Kids</td>\n",
       "    </tr>\n",
       "    <tr>\n",
       "      <th>2248</th>\n",
       "      <td>1983</td>\n",
       "      <td>Stacked Hiking Boot</td>\n",
       "      <td>Boot</td>\n",
       "      <td>149</td>\n",
       "      <td>Selective Yellow</td>\n",
       "      <td>Youth</td>\n",
       "    </tr>\n",
       "    <tr>\n",
       "      <th>2249</th>\n",
       "      <td>1983</td>\n",
       "      <td>Stacked Hiking Boot</td>\n",
       "      <td>Boot</td>\n",
       "      <td>149</td>\n",
       "      <td>Selective Yellow</td>\n",
       "      <td>Unisex</td>\n",
       "    </tr>\n",
       "  </tbody>\n",
       "</table>\n",
       "<p>250 rows × 6 columns</p>\n",
       "</div>"
      ],
      "text/plain": [
       "      product_id        product_title product_category  sale_amount  \\\n",
       "750         1983        Evermore Boot             Boot          245   \n",
       "751         1983        Evermore Boot             Boot          245   \n",
       "752         1983        Evermore Boot             Boot          245   \n",
       "753         1983        Evermore Boot             Boot          245   \n",
       "754         1983        Evermore Boot             Boot          245   \n",
       "...          ...                  ...              ...          ...   \n",
       "2245        1983  Stacked Hiking Boot             Boot          149   \n",
       "2246        1983  Stacked Hiking Boot             Boot          149   \n",
       "2247        1983  Stacked Hiking Boot             Boot          149   \n",
       "2248        1983  Stacked Hiking Boot             Boot          149   \n",
       "2249        1983  Stacked Hiking Boot             Boot          149   \n",
       "\n",
       "                     product_color product_gender  \n",
       "750   Midnight Green (Eagle Green)            Men  \n",
       "751   Midnight Green (Eagle Green)          Women  \n",
       "752   Midnight Green (Eagle Green)           Kids  \n",
       "753   Midnight Green (Eagle Green)          Youth  \n",
       "754   Midnight Green (Eagle Green)         Unisex  \n",
       "...                            ...            ...  \n",
       "2245              Selective Yellow            Men  \n",
       "2246              Selective Yellow          Women  \n",
       "2247              Selective Yellow           Kids  \n",
       "2248              Selective Yellow          Youth  \n",
       "2249              Selective Yellow         Unisex  \n",
       "\n",
       "[250 rows x 6 columns]"
      ]
     },
     "execution_count": 13,
     "metadata": {},
     "output_type": "execute_result"
    }
   ],
   "source": [
    "toy_products_df[toy_products_df['product_id']==1983]"
   ]
  },
  {
   "cell_type": "code",
   "execution_count": 14,
   "id": "398da335",
   "metadata": {},
   "outputs": [
    {
     "data": {
      "text/plain": [
       "[]"
      ]
     },
     "execution_count": 14,
     "metadata": {},
     "output_type": "execute_result"
    }
   ],
   "source": [
    "# check for products that span categories\n",
    "category_count = toy_products_df.groupby('product_id')['product_category'].nunique()\n",
    "category_count[category_count > 1].index.tolist()"
   ]
  },
  {
   "cell_type": "markdown",
   "id": "d523b089",
   "metadata": {},
   "source": [
    "#### Product Category"
   ]
  },
  {
   "cell_type": "code",
   "execution_count": 15,
   "id": "8a8164fc",
   "metadata": {},
   "outputs": [
    {
     "data": {
      "text/plain": [
       "Boot       1125\n",
       "Sandal      875\n",
       "Running     625\n",
       "Sneaker     500\n",
       "Name: product_category, dtype: int64"
      ]
     },
     "execution_count": 15,
     "metadata": {},
     "output_type": "execute_result"
    }
   ],
   "source": [
    "# Count unique values of categoricals\n",
    "toy_products_df['product_category'].value_counts()"
   ]
  },
  {
   "cell_type": "code",
   "execution_count": 16,
   "id": "6d332873",
   "metadata": {},
   "outputs": [
    {
     "data": {
      "image/png": "[encoded data removed]",
      "text/plain": [
       "<Figure size 432x288 with 1 Axes>"
      ]
     },
     "metadata": {
      "needs_background": "light"
     },
     "output_type": "display_data"
    }
   ],
   "source": [
    "plt.boxplot([toy_products_df[toy_products_df['product_category'] == 'Boot']['sale_amount'], \n",
    "             toy_products_df[toy_products_df['product_category'] == 'Sandal']['sale_amount'],\n",
    "             toy_products_df[toy_products_df['product_category'] == 'Running']['sale_amount'],\n",
    "             toy_products_df[toy_products_df['product_category'] == 'Sneaker']['sale_amount']\n",
    "            ])\n",
    "plt.xticks([1, 2,3,4], ['Boot', 'Sandal', 'Running', 'Sneaker'])\n",
    "plt.xlabel('Category')\n",
    "plt.ylabel('Sale Amount')\n",
    "plt.show()"
   ]
  },
  {
   "cell_type": "code",
   "execution_count": 17,
   "id": "2e939b96",
   "metadata": {},
   "outputs": [
    {
     "data": {
      "text/plain": [
       "Unisex    625\n",
       "Women     625\n",
       "Men       625\n",
       "Kids      625\n",
       "Youth     625\n",
       "Name: product_gender, dtype: int64"
      ]
     },
     "execution_count": 17,
     "metadata": {},
     "output_type": "execute_result"
    }
   ],
   "source": [
    "# Count unique values of categoricals\n",
    "toy_products_df['product_gender'].value_counts()"
   ]
  },
  {
   "cell_type": "code",
   "execution_count": 18,
   "id": "52d77feb",
   "metadata": {},
   "outputs": [
    {
     "data": {
      "image/png": "[encoded data removed]",
      "text/plain": [
       "<Figure size 432x288 with 1 Axes>"
      ]
     },
     "metadata": {
      "needs_background": "light"
     },
     "output_type": "display_data"
    }
   ],
   "source": [
    "plt.boxplot([toy_products_df[toy_products_df['product_gender'] == 'Kids']['sale_amount'], \n",
    "             toy_products_df[toy_products_df['product_gender'] == 'Men']['sale_amount'],\n",
    "             toy_products_df[toy_products_df['product_gender'] == 'Youth']['sale_amount'],\n",
    "             toy_products_df[toy_products_df['product_gender'] == 'Women']['sale_amount'],\n",
    "             toy_products_df[toy_products_df['product_gender'] == 'Unisex']['sale_amount']\n",
    "            ])\n",
    "plt.xticks([1, 2,3,4,5], ['Kids', 'Men', 'Youth', 'Women', 'Unisex'])\n",
    "plt.xlabel('Category')\n",
    "plt.ylabel('Sale Amount')\n",
    "plt.show()"
   ]
  },
  {
   "cell_type": "code",
   "execution_count": 19,
   "id": "2da3de05",
   "metadata": {},
   "outputs": [
    {
     "data": {
      "text/plain": [
       "Mordant Red 19                  125\n",
       "Electric Purple                 125\n",
       "Pastel Magenta                  125\n",
       "Burnt Sienna                    125\n",
       "Alice Blue                      125\n",
       "Canary Yellow                   125\n",
       "Vermilion (Plochere)            125\n",
       "Midnight Green (Eagle Green)    125\n",
       "Dark Red                        125\n",
       "Dartmouth Green                 125\n",
       "Prussian Blue                   125\n",
       "Sky Blue                        125\n",
       "Stormcloud                      125\n",
       "Yellow-Green                    125\n",
       "Selective Yellow                125\n",
       "Electric Green                  125\n",
       "Lavender Purple                 125\n",
       "Green (Munsell)                 125\n",
       "Topaz                           125\n",
       "Ruby Red                        125\n",
       "Dark Powder Blue                125\n",
       "Han Purple                      125\n",
       "Fern Green                      125\n",
       "Royal Blue (Web)                125\n",
       "Mikado Yellow                   125\n",
       "Name: product_color, dtype: int64"
      ]
     },
     "execution_count": 19,
     "metadata": {},
     "output_type": "execute_result"
    }
   ],
   "source": [
    "# Count unique values of categoricals\n",
    "toy_products_df['product_color'].value_counts()"
   ]
  },
  {
   "cell_type": "code",
   "execution_count": 20,
   "id": "98acb798",
   "metadata": {},
   "outputs": [
    {
     "data": {
      "text/plain": [
       "25"
      ]
     },
     "execution_count": 20,
     "metadata": {},
     "output_type": "execute_result"
    }
   ],
   "source": [
    "len(toy_products_df['product_color'].value_counts())"
   ]
  },
  {
   "cell_type": "code",
   "execution_count": 21,
   "id": "be9387cc",
   "metadata": {},
   "outputs": [
    {
     "data": {
      "text/plain": [
       "3125"
      ]
     },
     "execution_count": 21,
     "metadata": {},
     "output_type": "execute_result"
    }
   ],
   "source": [
    "# quick math check\n",
    "25*125"
   ]
  },
  {
   "cell_type": "code",
   "execution_count": 22,
   "id": "c1e33185",
   "metadata": {},
   "outputs": [
    {
     "data": {
      "image/png": "[encoded data removed]",
      "text/plain": [
       "<Figure size 432x288 with 1 Axes>"
      ]
     },
     "metadata": {
      "needs_background": "light"
     },
     "output_type": "display_data"
    }
   ],
   "source": [
    "category_sale_amount = []\n",
    "categories = toy_products_df['product_color'].unique()\n",
    "for category in categories:\n",
    "    category_sale_amount.append(toy_products_df[toy_products_df['product_color'] == category]['sale_amount'])\n",
    "plt.boxplot(category_sale_amount, labels=categories)\n",
    "plt.xticks(rotation=90)\n",
    "plt.ylabel('Sale Amount')\n",
    "plt.xlabel('Color')\n",
    "plt.title('Distribution of Sale Amount by Color')\n",
    "plt.show()"
   ]
  },
  {
   "cell_type": "code",
   "execution_count": null,
   "id": "9282500b",
   "metadata": {},
   "outputs": [],
   "source": []
  },
  {
   "cell_type": "markdown",
   "id": "ecdc1469",
   "metadata": {},
   "source": [
    "## Toy Dataset"
   ]
  },
  {
   "cell_type": "code",
   "execution_count": 24,
   "id": "f11ec767",
   "metadata": {},
   "outputs": [
    {
     "data": {
      "text/plain": [
       "(32151, 23)"
      ]
     },
     "execution_count": 24,
     "metadata": {},
     "output_type": "execute_result"
    }
   ],
   "source": [
    "toy_dataset_df.shape"
   ]
  },
  {
   "cell_type": "code",
   "execution_count": 25,
   "id": "67852b78",
   "metadata": {},
   "outputs": [
    {
     "data": {
      "text/html": [
       "<div>\n",
       "<style scoped>\n",
       "    .dataframe tbody tr th:only-of-type {\n",
       "        vertical-align: middle;\n",
       "    }\n",
       "\n",
       "    .dataframe tbody tr th {\n",
       "        vertical-align: top;\n",
       "    }\n",
       "\n",
       "    .dataframe thead th {\n",
       "        text-align: right;\n",
       "    }\n",
       "</style>\n",
       "<table border=\"1\" class=\"dataframe\">\n",
       "  <thead>\n",
       "    <tr style=\"text-align: right;\">\n",
       "      <th></th>\n",
       "      <th>Unnamed: 0</th>\n",
       "      <th>timestamp</th>\n",
       "      <th>transaction_id</th>\n",
       "      <th>hash_customer</th>\n",
       "      <th>sale_amount</th>\n",
       "      <th>product_title</th>\n",
       "      <th>product_color</th>\n",
       "      <th>product_gender</th>\n",
       "      <th>product_category</th>\n",
       "      <th>product_size</th>\n",
       "      <th>referrer_source</th>\n",
       "      <th>point_of_sales</th>\n",
       "      <th>zip_tot_hh</th>\n",
       "      <th>zip_avg_hh_size</th>\n",
       "      <th>zip_avg_fam_size</th>\n",
       "      <th>zip_med_age</th>\n",
       "      <th>zip_male_female_ratio</th>\n",
       "      <th>zip_tot_pop</th>\n",
       "      <th>zip_tot_white_nh</th>\n",
       "      <th>zip_med_hh_income</th>\n",
       "      <th>zip_mean_hh_income</th>\n",
       "      <th>zip_pct_emp_lf</th>\n",
       "      <th>zip_unemp_rate</th>\n",
       "    </tr>\n",
       "  </thead>\n",
       "  <tbody>\n",
       "    <tr>\n",
       "      <th>0</th>\n",
       "      <td>10</td>\n",
       "      <td>2019-10-17 17:00:00</td>\n",
       "      <td>13964574791861793493</td>\n",
       "      <td>118171218419602151</td>\n",
       "      <td>141.0</td>\n",
       "      <td>Rogue Sneaker</td>\n",
       "      <td>Midnight Green (Eagle Green)</td>\n",
       "      <td>Women</td>\n",
       "      <td>Sneaker</td>\n",
       "      <td>11.0</td>\n",
       "      <td>Direct</td>\n",
       "      <td>Online Store</td>\n",
       "      <td>14957.0</td>\n",
       "      <td>1.81</td>\n",
       "      <td>2.55</td>\n",
       "      <td>56.9</td>\n",
       "      <td>109.0</td>\n",
       "      <td>27226.0</td>\n",
       "      <td>21301.0</td>\n",
       "      <td>73818.0</td>\n",
       "      <td>122494.0</td>\n",
       "      <td>54.7</td>\n",
       "      <td>5.6</td>\n",
       "    </tr>\n",
       "    <tr>\n",
       "      <th>1</th>\n",
       "      <td>11</td>\n",
       "      <td>2022-03-26 04:00:00</td>\n",
       "      <td>15462755904385104185</td>\n",
       "      <td>118171218419602151</td>\n",
       "      <td>262.0</td>\n",
       "      <td>Vanguard Sandal</td>\n",
       "      <td>Prussian Blue</td>\n",
       "      <td>Women</td>\n",
       "      <td>Sandal</td>\n",
       "      <td>11.0</td>\n",
       "      <td>Direct</td>\n",
       "      <td>Online Store</td>\n",
       "      <td>14957.0</td>\n",
       "      <td>1.81</td>\n",
       "      <td>2.55</td>\n",
       "      <td>56.9</td>\n",
       "      <td>109.0</td>\n",
       "      <td>27226.0</td>\n",
       "      <td>21301.0</td>\n",
       "      <td>73818.0</td>\n",
       "      <td>122494.0</td>\n",
       "      <td>54.7</td>\n",
       "      <td>5.6</td>\n",
       "    </tr>\n",
       "    <tr>\n",
       "      <th>2</th>\n",
       "      <td>12</td>\n",
       "      <td>2019-10-18 06:00:00</td>\n",
       "      <td>5418521222138237582</td>\n",
       "      <td>15372924648196696535</td>\n",
       "      <td>141.0</td>\n",
       "      <td>Rogue Sneaker</td>\n",
       "      <td>Electric Purple</td>\n",
       "      <td>Women</td>\n",
       "      <td>Sneaker</td>\n",
       "      <td>6.0</td>\n",
       "      <td>Direct</td>\n",
       "      <td>Online Store</td>\n",
       "      <td>11695.0</td>\n",
       "      <td>2.52</td>\n",
       "      <td>3.20</td>\n",
       "      <td>44.4</td>\n",
       "      <td>94.0</td>\n",
       "      <td>30274.0</td>\n",
       "      <td>23867.0</td>\n",
       "      <td>92031.0</td>\n",
       "      <td>135491.0</td>\n",
       "      <td>62.9</td>\n",
       "      <td>4.9</td>\n",
       "    </tr>\n",
       "    <tr>\n",
       "      <th>3</th>\n",
       "      <td>13</td>\n",
       "      <td>2021-10-03 19:00:00</td>\n",
       "      <td>13807911046559617059</td>\n",
       "      <td>15372924648196696535</td>\n",
       "      <td>147.0</td>\n",
       "      <td>Classic Sneaker</td>\n",
       "      <td>Electric Purple</td>\n",
       "      <td>Women</td>\n",
       "      <td>Sneaker</td>\n",
       "      <td>5.5</td>\n",
       "      <td>Direct</td>\n",
       "      <td>Online Store</td>\n",
       "      <td>11695.0</td>\n",
       "      <td>2.52</td>\n",
       "      <td>3.20</td>\n",
       "      <td>44.4</td>\n",
       "      <td>94.0</td>\n",
       "      <td>30274.0</td>\n",
       "      <td>23867.0</td>\n",
       "      <td>92031.0</td>\n",
       "      <td>135491.0</td>\n",
       "      <td>62.9</td>\n",
       "      <td>4.9</td>\n",
       "    </tr>\n",
       "    <tr>\n",
       "      <th>4</th>\n",
       "      <td>14</td>\n",
       "      <td>2019-10-18 09:00:00</td>\n",
       "      <td>17285359619674932653</td>\n",
       "      <td>10040016928726048703</td>\n",
       "      <td>194.0</td>\n",
       "      <td>Olympic Running</td>\n",
       "      <td>Stormcloud</td>\n",
       "      <td>Women</td>\n",
       "      <td>Running</td>\n",
       "      <td>11.5</td>\n",
       "      <td>Search</td>\n",
       "      <td>Online Store</td>\n",
       "      <td>8517.0</td>\n",
       "      <td>2.56</td>\n",
       "      <td>3.17</td>\n",
       "      <td>46.7</td>\n",
       "      <td>90.6</td>\n",
       "      <td>21848.0</td>\n",
       "      <td>18220.0</td>\n",
       "      <td>199598.0</td>\n",
       "      <td>345660.0</td>\n",
       "      <td>57.4</td>\n",
       "      <td>3.1</td>\n",
       "    </tr>\n",
       "  </tbody>\n",
       "</table>\n",
       "</div>"
      ],
      "text/plain": [
       "   Unnamed: 0            timestamp        transaction_id  \\\n",
       "0          10  2019-10-17 17:00:00  13964574791861793493   \n",
       "1          11  2022-03-26 04:00:00  15462755904385104185   \n",
       "2          12  2019-10-18 06:00:00   5418521222138237582   \n",
       "3          13  2021-10-03 19:00:00  13807911046559617059   \n",
       "4          14  2019-10-18 09:00:00  17285359619674932653   \n",
       "\n",
       "          hash_customer  sale_amount    product_title  \\\n",
       "0    118171218419602151        141.0    Rogue Sneaker   \n",
       "1    118171218419602151        262.0  Vanguard Sandal   \n",
       "2  15372924648196696535        141.0    Rogue Sneaker   \n",
       "3  15372924648196696535        147.0  Classic Sneaker   \n",
       "4  10040016928726048703        194.0  Olympic Running   \n",
       "\n",
       "                  product_color product_gender product_category  product_size  \\\n",
       "0  Midnight Green (Eagle Green)          Women          Sneaker          11.0   \n",
       "1                 Prussian Blue          Women           Sandal          11.0   \n",
       "2               Electric Purple          Women          Sneaker           6.0   \n",
       "3               Electric Purple          Women          Sneaker           5.5   \n",
       "4                    Stormcloud          Women          Running          11.5   \n",
       "\n",
       "  referrer_source point_of_sales  zip_tot_hh  zip_avg_hh_size  \\\n",
       "0          Direct   Online Store     14957.0             1.81   \n",
       "1          Direct   Online Store     14957.0             1.81   \n",
       "2          Direct   Online Store     11695.0             2.52   \n",
       "3          Direct   Online Store     11695.0             2.52   \n",
       "4          Search   Online Store      8517.0             2.56   \n",
       "\n",
       "   zip_avg_fam_size  zip_med_age  zip_male_female_ratio  zip_tot_pop  \\\n",
       "0              2.55         56.9                  109.0      27226.0   \n",
       "1              2.55         56.9                  109.0      27226.0   \n",
       "2              3.20         44.4                   94.0      30274.0   \n",
       "3              3.20         44.4                   94.0      30274.0   \n",
       "4              3.17         46.7                   90.6      21848.0   \n",
       "\n",
       "   zip_tot_white_nh  zip_med_hh_income  zip_mean_hh_income  zip_pct_emp_lf  \\\n",
       "0           21301.0            73818.0            122494.0            54.7   \n",
       "1           21301.0            73818.0            122494.0            54.7   \n",
       "2           23867.0            92031.0            135491.0            62.9   \n",
       "3           23867.0            92031.0            135491.0            62.9   \n",
       "4           18220.0           199598.0            345660.0            57.4   \n",
       "\n",
       "   zip_unemp_rate  \n",
       "0             5.6  \n",
       "1             5.6  \n",
       "2             4.9  \n",
       "3             4.9  \n",
       "4             3.1  "
      ]
     },
     "execution_count": 25,
     "metadata": {},
     "output_type": "execute_result"
    }
   ],
   "source": [
    "toy_dataset_df.head()"
   ]
  },
  {
   "cell_type": "markdown",
   "id": "13427ebc",
   "metadata": {},
   "source": [
    "#### Point of Sales"
   ]
  },
  {
   "cell_type": "code",
   "execution_count": 23,
   "id": "8c9a1671",
   "metadata": {},
   "outputs": [
    {
     "data": {
      "text/plain": [
       "Online Store                     29338\n",
       "Loop Returns                      1244\n",
       "Point of Sale                      994\n",
       "Flow Connect                       309\n",
       "Returnly                           247\n",
       "Shop                                10\n",
       "Facebook                             6\n",
       "Facebook Shop (discontinued)         2\n",
       "Route - Protection & Tracking        1\n",
       "Name: point_of_sales, dtype: int64"
      ]
     },
     "execution_count": 23,
     "metadata": {},
     "output_type": "execute_result"
    }
   ],
   "source": [
    "# Count unique values of categoricals\n",
    "toy_dataset_df['point_of_sales'].value_counts()"
   ]
  },
  {
   "cell_type": "code",
   "execution_count": 24,
   "id": "1b74d031",
   "metadata": {
    "scrolled": true
   },
   "outputs": [
    {
     "data": {
      "text/plain": [
       "Online Store                     0.912507\n",
       "Loop Returns                     0.038692\n",
       "Point of Sale                    0.030917\n",
       "Flow Connect                     0.009611\n",
       "Returnly                         0.007682\n",
       "Shop                             0.000311\n",
       "Facebook                         0.000187\n",
       "Facebook Shop (discontinued)     0.000062\n",
       "Route - Protection & Tracking    0.000031\n",
       "Name: point_of_sales, dtype: float64"
      ]
     },
     "execution_count": 24,
     "metadata": {},
     "output_type": "execute_result"
    }
   ],
   "source": [
    "toy_dataset_df['point_of_sales'].value_counts() / toy_dataset_df.shape[0]"
   ]
  },
  {
   "cell_type": "code",
   "execution_count": 25,
   "id": "bad97653",
   "metadata": {},
   "outputs": [],
   "source": [
    "# subset to only Online transactions\n",
    "toy_dataset_df = toy_dataset_df[toy_dataset_df['point_of_sales']=='Online Store']"
   ]
  },
  {
   "cell_type": "code",
   "execution_count": 26,
   "id": "b522e262",
   "metadata": {},
   "outputs": [
    {
     "name": "stdout",
     "output_type": "stream",
     "text": [
      "<class 'pandas.core.frame.DataFrame'>\n",
      "Int64Index: 29338 entries, 0 to 32148\n",
      "Data columns (total 23 columns):\n",
      " #   Column                 Non-Null Count  Dtype  \n",
      "---  ------                 --------------  -----  \n",
      " 0   Unnamed: 0             29338 non-null  int64  \n",
      " 1   timestamp              29338 non-null  object \n",
      " 2   transaction_id         29338 non-null  uint64 \n",
      " 3   hash_customer          29338 non-null  uint64 \n",
      " 4   sale_amount            29338 non-null  float64\n",
      " 5   product_title          29338 non-null  object \n",
      " 6   product_color          29338 non-null  object \n",
      " 7   product_gender         29338 non-null  object \n",
      " 8   product_category       29338 non-null  object \n",
      " 9   product_size           29270 non-null  float64\n",
      " 10  referrer_source        29338 non-null  object \n",
      " 11  point_of_sales         29338 non-null  object \n",
      " 12  zip_tot_hh             29338 non-null  float64\n",
      " 13  zip_avg_hh_size        29329 non-null  float64\n",
      " 14  zip_avg_fam_size       29329 non-null  float64\n",
      " 15  zip_med_age            29336 non-null  float64\n",
      " 16  zip_male_female_ratio  29336 non-null  float64\n",
      " 17  zip_tot_pop            29338 non-null  float64\n",
      " 18  zip_tot_white_nh       29338 non-null  float64\n",
      " 19  zip_med_hh_income      29302 non-null  float64\n",
      " 20  zip_mean_hh_income     29324 non-null  float64\n",
      " 21  zip_pct_emp_lf         29338 non-null  float64\n",
      " 22  zip_unemp_rate         29338 non-null  float64\n",
      "dtypes: float64(13), int64(1), object(7), uint64(2)\n",
      "memory usage: 5.4+ MB\n",
      "None\n"
     ]
    }
   ],
   "source": [
    "print(toy_dataset_df.info())"
   ]
  },
  {
   "cell_type": "markdown",
   "id": "182b9fcb",
   "metadata": {},
   "source": [
    "#### Timestamp"
   ]
  },
  {
   "cell_type": "code",
   "execution_count": 27,
   "id": "163404c7",
   "metadata": {},
   "outputs": [],
   "source": [
    "toy_dataset_df['timestamp'] = pd.to_datetime(toy_dataset_df['timestamp'])"
   ]
  },
  {
   "cell_type": "code",
   "execution_count": 28,
   "id": "3a16d960",
   "metadata": {},
   "outputs": [
    {
     "data": {
      "image/png": "[encoded data removed]",
      "text/plain": [
       "<Figure size 432x288 with 1 Axes>"
      ]
     },
     "metadata": {
      "needs_background": "light"
     },
     "output_type": "display_data"
    }
   ],
   "source": [
    "plt.hist(toy_dataset_df['timestamp'], bins=50)\n",
    "plt.xlabel('Date')\n",
    "plt.ylabel('Frequency')\n",
    "plt.title('Distribution of Records over Time')\n",
    "plt.xticks(rotation=45)\n",
    "plt.show()"
   ]
  },
  {
   "cell_type": "code",
   "execution_count": 29,
   "id": "f448ad98",
   "metadata": {},
   "outputs": [
    {
     "data": {
      "image/png": "[encoded data removed]",
      "text/plain": [
       "<Figure size 432x288 with 1 Axes>"
      ]
     },
     "metadata": {
      "needs_background": "light"
     },
     "output_type": "display_data"
    }
   ],
   "source": [
    "categories = ['Boot', 'Sandal', 'Running', 'Sneaker']\n",
    "colors = ['blue', 'green', 'orange', 'red']\n",
    "\n",
    "# Create histogram of records by datetime, with different colors for different categories\n",
    "for i, category in enumerate(categories):\n",
    "    plt.hist(toy_dataset_df[toy_dataset_df['product_category'] == category]['timestamp'],\n",
    "             bins=60,\n",
    "             alpha=0.5,\n",
    "             label=category,\n",
    "             color=colors[i])\n",
    "plt.legend()\n",
    "plt.xlabel('Date')\n",
    "plt.ylabel('Frequency')\n",
    "plt.xticks(rotation=45)\n",
    "plt.title('Distribution of Records over Time by Category')\n",
    "plt.show()"
   ]
  },
  {
   "cell_type": "code",
   "execution_count": null,
   "id": "8a7ffbe3",
   "metadata": {},
   "outputs": [],
   "source": []
  },
  {
   "cell_type": "markdown",
   "id": "c1f2f614",
   "metadata": {},
   "source": [
    "#### Transaction ID"
   ]
  },
  {
   "cell_type": "code",
   "execution_count": 30,
   "id": "f8b3b331",
   "metadata": {},
   "outputs": [
    {
     "data": {
      "text/plain": [
       "21245"
      ]
     },
     "execution_count": 30,
     "metadata": {},
     "output_type": "execute_result"
    }
   ],
   "source": [
    "toy_dataset_df['transaction_id'].nunique()"
   ]
  },
  {
   "cell_type": "code",
   "execution_count": 31,
   "id": "f69559b9",
   "metadata": {},
   "outputs": [],
   "source": [
    "# number of items per transaction\n",
    "items_per_transaction = toy_dataset_df.groupby('transaction_id').size().reset_index(name='item_count')"
   ]
  },
  {
   "cell_type": "code",
   "execution_count": 32,
   "id": "2617138e",
   "metadata": {},
   "outputs": [
    {
     "data": {
      "image/png": "[encoded data removed]",
      "text/plain": [
       "<Figure size 432x288 with 1 Axes>"
      ]
     },
     "metadata": {
      "needs_background": "light"
     },
     "output_type": "display_data"
    }
   ],
   "source": [
    "plt.hist(items_per_transaction[items_per_transaction['item_count']<10]['item_count'], bins=40)\n",
    "plt.xlabel('Num items')\n",
    "plt.ylabel('Transactions')\n",
    "plt.title('Items per transaction')\n",
    "plt.xticks(rotation=45)\n",
    "plt.show()"
   ]
  },
  {
   "cell_type": "code",
   "execution_count": 33,
   "id": "76552339",
   "metadata": {},
   "outputs": [
    {
     "data": {
      "text/plain": [
       "1    75.095317\n",
       "2    16.851024\n",
       "3     5.789598\n",
       "4     1.237938\n",
       "5     0.414215\n",
       "dtype: float64"
      ]
     },
     "execution_count": 33,
     "metadata": {},
     "output_type": "execute_result"
    }
   ],
   "source": [
    "item_counts = toy_dataset_df.groupby('transaction_id').size().value_counts()\n",
    "total_transactions = item_counts.sum()\n",
    "item_percentages = (item_counts / total_transactions) * 100\n",
    "item_percentages = item_percentages.sort_index()\n",
    "item_percentages[0:5]"
   ]
  },
  {
   "cell_type": "markdown",
   "id": "7fe0a11e",
   "metadata": {},
   "source": [
    "#### Customer hash"
   ]
  },
  {
   "cell_type": "code",
   "execution_count": 35,
   "id": "b35af57d",
   "metadata": {},
   "outputs": [
    {
     "data": {
      "text/plain": [
       "7527"
      ]
     },
     "execution_count": 35,
     "metadata": {},
     "output_type": "execute_result"
    }
   ],
   "source": [
    "toy_dataset_df['hash_customer'].nunique()"
   ]
  },
  {
   "cell_type": "code",
   "execution_count": 36,
   "id": "3f14e6a0",
   "metadata": {},
   "outputs": [],
   "source": [
    "# Add column for transaction number for each user\n",
    "df_sorted = toy_dataset_df.sort_values('timestamp').groupby(['hash_customer', 'timestamp']).first().reset_index()\n",
    "df_sorted['transaction_num'] = df_sorted.groupby('hash_customer', sort=False)['timestamp'].rank(method='dense')\n",
    "# Merge the transaction number back into the original dataframe\n",
    "toy_dataset_df = toy_dataset_df.merge(df_sorted[['hash_customer', 'timestamp', 'transaction_num']], \n",
    "                                      on=['hash_customer', 'timestamp'])"
   ]
  },
  {
   "cell_type": "code",
   "execution_count": 37,
   "id": "3a636e2d",
   "metadata": {},
   "outputs": [],
   "source": [
    "transaction_num_counts = toy_dataset_df.groupby('transaction_num').size() / toy_dataset_df.shape[0] * 100.0"
   ]
  },
  {
   "cell_type": "code",
   "execution_count": 39,
   "id": "9661415f",
   "metadata": {},
   "outputs": [
    {
     "data": {
      "text/plain": [
       "transaction_num\n",
       "1.0     36.222646\n",
       "2.0     25.983366\n",
       "3.0     12.846820\n",
       "4.0      7.290886\n",
       "5.0      4.547004\n",
       "6.0      3.169950\n",
       "7.0      1.994001\n",
       "8.0      1.581567\n",
       "9.0      1.107778\n",
       "10.0     0.927125\n",
       "dtype: float64"
      ]
     },
     "execution_count": 39,
     "metadata": {},
     "output_type": "execute_result"
    }
   ],
   "source": [
    "# percent of transactions that are the user's nth purchase\n",
    "transaction_num_counts[0:10]"
   ]
  },
  {
   "cell_type": "code",
   "execution_count": 40,
   "id": "e5eb75c2",
   "metadata": {},
   "outputs": [],
   "source": [
    "# Number of transactions per user\n",
    "transactions_per_user = toy_dataset_df.groupby('hash_customer')['transaction_id'].nunique().reset_index()\n",
    "transactions_per_user.columns = ['hash_customer', 'transaction_count']"
   ]
  },
  {
   "cell_type": "code",
   "execution_count": 41,
   "id": "ecbbac2f",
   "metadata": {},
   "outputs": [],
   "source": [
    "user_transaction_counts = transactions_per_user.groupby('transaction_count').size() / toy_dataset_df['hash_customer'].nunique() * 100.0"
   ]
  },
  {
   "cell_type": "code",
   "execution_count": 42,
   "id": "cccdbda1",
   "metadata": {},
   "outputs": [
    {
     "data": {
      "text/plain": [
       "transaction_count\n",
       "1     20.685532\n",
       "2     41.384350\n",
       "3     17.563438\n",
       "4      8.117444\n",
       "5      4.224791\n",
       "6      2.577388\n",
       "7      1.448120\n",
       "8      1.208981\n",
       "9      0.664275\n",
       "10     0.518135\n",
       "dtype: float64"
      ]
     },
     "execution_count": 42,
     "metadata": {},
     "output_type": "execute_result"
    }
   ],
   "source": [
    "user_transaction_counts[0:10]"
   ]
  },
  {
   "cell_type": "code",
   "execution_count": 53,
   "id": "d8e8b6df",
   "metadata": {},
   "outputs": [
    {
     "data": {
      "text/plain": [
       "87.75076391656702"
      ]
     },
     "execution_count": 53,
     "metadata": {},
     "output_type": "execute_result"
    }
   ],
   "source": [
    "sum(user_transaction_counts[0:4])"
   ]
  },
  {
   "cell_type": "code",
   "execution_count": null,
   "id": "b40d0b86",
   "metadata": {},
   "outputs": [],
   "source": [
    "# 20% of users have only made 1 purchase\n",
    "# 41% of users have made 2 purchases\n",
    "# 62% of users have made fewer than 3 purchases\n",
    "# 80% of users have made 3 or fewer purchases\n",
    "# 88% of users have made 4 or fewer purchases"
   ]
  },
  {
   "cell_type": "code",
   "execution_count": 54,
   "id": "24ac1f6c",
   "metadata": {},
   "outputs": [
    {
     "data": {
      "image/png": "[encoded data removed]",
      "text/plain": [
       "<Figure size 432x288 with 1 Axes>"
      ]
     },
     "metadata": {
      "needs_background": "light"
     },
     "output_type": "display_data"
    }
   ],
   "source": [
    "plt.hist(transactions_per_user[transactions_per_user['transaction_count']<20]['transaction_count'], \n",
    "         bins=20)\n",
    "plt.xlabel('Num transactions')\n",
    "plt.ylabel('Customers')\n",
    "plt.title('Transactions per customer')\n",
    "plt.xticks(rotation=45)\n",
    "plt.show()"
   ]
  },
  {
   "cell_type": "code",
   "execution_count": 55,
   "id": "fc539481",
   "metadata": {},
   "outputs": [],
   "source": [
    "# outlier purchaser - not online sales\n",
    "# toy_dataset_df[toy_dataset_df['hash_customer']==934772523603658765]['transaction_id'].nunique()"
   ]
  },
  {
   "cell_type": "code",
   "execution_count": 56,
   "id": "e3073edf",
   "metadata": {},
   "outputs": [],
   "source": [
    "purchase_fields = ['hash_customer', 'product_title', 'product_category', \n",
    "                   'product_gender', 'product_color']\n",
    "\n",
    "first_purchase_df = toy_dataset_df[toy_dataset_df['transaction_num']==1][purchase_fields]\n",
    "second_purchase_df = toy_dataset_df[toy_dataset_df['transaction_num']==2][purchase_fields]\n",
    "\n",
    "first_purchase_df.columns = ['hash_customer', 'first_product_title', 'first_product_category', \n",
    "                   'first_product_gender', 'first_product_color']\n",
    "\n",
    "second_purchase_df.columns = ['hash_customer', 'second_product_title', 'second_product_category', \n",
    "                   'second_product_gender', 'second_product_color']"
   ]
  },
  {
   "cell_type": "code",
   "execution_count": 57,
   "id": "53ac548e",
   "metadata": {},
   "outputs": [],
   "source": [
    "purchase_path_df = pd.merge(left=first_purchase_df, \n",
    "                            right=second_purchase_df, \n",
    "                            on='hash_customer', \n",
    "                            how='inner')"
   ]
  },
  {
   "cell_type": "code",
   "execution_count": 58,
   "id": "f0f75b53",
   "metadata": {},
   "outputs": [
    {
     "data": {
      "text/html": [
       "<div>\n",
       "<style scoped>\n",
       "    .dataframe tbody tr th:only-of-type {\n",
       "        vertical-align: middle;\n",
       "    }\n",
       "\n",
       "    .dataframe tbody tr th {\n",
       "        vertical-align: top;\n",
       "    }\n",
       "\n",
       "    .dataframe thead th {\n",
       "        text-align: right;\n",
       "    }\n",
       "</style>\n",
       "<table border=\"1\" class=\"dataframe\">\n",
       "  <thead>\n",
       "    <tr style=\"text-align: right;\">\n",
       "      <th></th>\n",
       "      <th>hash_customer</th>\n",
       "      <th>first_product_title</th>\n",
       "      <th>first_product_category</th>\n",
       "      <th>first_product_gender</th>\n",
       "      <th>first_product_color</th>\n",
       "      <th>second_product_title</th>\n",
       "      <th>second_product_category</th>\n",
       "      <th>second_product_gender</th>\n",
       "      <th>second_product_color</th>\n",
       "    </tr>\n",
       "  </thead>\n",
       "  <tbody>\n",
       "    <tr>\n",
       "      <th>0</th>\n",
       "      <td>118171218419602151</td>\n",
       "      <td>Rogue Sneaker</td>\n",
       "      <td>Sneaker</td>\n",
       "      <td>Women</td>\n",
       "      <td>Midnight Green (Eagle Green)</td>\n",
       "      <td>Vanguard Sandal</td>\n",
       "      <td>Sandal</td>\n",
       "      <td>Women</td>\n",
       "      <td>Prussian Blue</td>\n",
       "    </tr>\n",
       "    <tr>\n",
       "      <th>1</th>\n",
       "      <td>15372924648196696535</td>\n",
       "      <td>Rogue Sneaker</td>\n",
       "      <td>Sneaker</td>\n",
       "      <td>Women</td>\n",
       "      <td>Electric Purple</td>\n",
       "      <td>Classic Sneaker</td>\n",
       "      <td>Sneaker</td>\n",
       "      <td>Women</td>\n",
       "      <td>Electric Purple</td>\n",
       "    </tr>\n",
       "    <tr>\n",
       "      <th>2</th>\n",
       "      <td>10040016928726048703</td>\n",
       "      <td>Olympic Running</td>\n",
       "      <td>Running</td>\n",
       "      <td>Women</td>\n",
       "      <td>Stormcloud</td>\n",
       "      <td>Vanguard Sandal</td>\n",
       "      <td>Sandal</td>\n",
       "      <td>Men</td>\n",
       "      <td>Vermilion (Plochere)</td>\n",
       "    </tr>\n",
       "    <tr>\n",
       "      <th>3</th>\n",
       "      <td>10040016928726048703</td>\n",
       "      <td>Iron Running</td>\n",
       "      <td>Running</td>\n",
       "      <td>Men</td>\n",
       "      <td>Vermilion (Plochere)</td>\n",
       "      <td>Vanguard Sandal</td>\n",
       "      <td>Sandal</td>\n",
       "      <td>Men</td>\n",
       "      <td>Vermilion (Plochere)</td>\n",
       "    </tr>\n",
       "    <tr>\n",
       "      <th>4</th>\n",
       "      <td>1043293858936909271</td>\n",
       "      <td>Iron Running</td>\n",
       "      <td>Running</td>\n",
       "      <td>Women</td>\n",
       "      <td>Topaz</td>\n",
       "      <td>Olympic Running</td>\n",
       "      <td>Running</td>\n",
       "      <td>Women</td>\n",
       "      <td>Electric Purple</td>\n",
       "    </tr>\n",
       "  </tbody>\n",
       "</table>\n",
       "</div>"
      ],
      "text/plain": [
       "          hash_customer first_product_title first_product_category  \\\n",
       "0    118171218419602151       Rogue Sneaker                Sneaker   \n",
       "1  15372924648196696535       Rogue Sneaker                Sneaker   \n",
       "2  10040016928726048703     Olympic Running                Running   \n",
       "3  10040016928726048703        Iron Running                Running   \n",
       "4   1043293858936909271        Iron Running                Running   \n",
       "\n",
       "  first_product_gender           first_product_color second_product_title  \\\n",
       "0                Women  Midnight Green (Eagle Green)      Vanguard Sandal   \n",
       "1                Women               Electric Purple      Classic Sneaker   \n",
       "2                Women                    Stormcloud      Vanguard Sandal   \n",
       "3                  Men          Vermilion (Plochere)      Vanguard Sandal   \n",
       "4                Women                         Topaz      Olympic Running   \n",
       "\n",
       "  second_product_category second_product_gender  second_product_color  \n",
       "0                  Sandal                 Women         Prussian Blue  \n",
       "1                 Sneaker                 Women       Electric Purple  \n",
       "2                  Sandal                   Men  Vermilion (Plochere)  \n",
       "3                  Sandal                   Men  Vermilion (Plochere)  \n",
       "4                 Running                 Women       Electric Purple  "
      ]
     },
     "execution_count": 58,
     "metadata": {},
     "output_type": "execute_result"
    }
   ],
   "source": [
    "purchase_path_df.head()"
   ]
  },
  {
   "cell_type": "code",
   "execution_count": 59,
   "id": "c46e6193",
   "metadata": {},
   "outputs": [
    {
     "data": {
      "text/html": [
       "<div>\n",
       "<style scoped>\n",
       "    .dataframe tbody tr th:only-of-type {\n",
       "        vertical-align: middle;\n",
       "    }\n",
       "\n",
       "    .dataframe tbody tr th {\n",
       "        vertical-align: top;\n",
       "    }\n",
       "\n",
       "    .dataframe thead th {\n",
       "        text-align: right;\n",
       "    }\n",
       "</style>\n",
       "<table border=\"1\" class=\"dataframe\">\n",
       "  <thead>\n",
       "    <tr style=\"text-align: right;\">\n",
       "      <th></th>\n",
       "      <th>first_product_gender</th>\n",
       "      <th>second_product_gender</th>\n",
       "      <th>count</th>\n",
       "    </tr>\n",
       "  </thead>\n",
       "  <tbody>\n",
       "    <tr>\n",
       "      <th>0</th>\n",
       "      <td>Women</td>\n",
       "      <td>Women</td>\n",
       "      <td>5632</td>\n",
       "    </tr>\n",
       "    <tr>\n",
       "      <th>1</th>\n",
       "      <td>Men</td>\n",
       "      <td>Men</td>\n",
       "      <td>1828</td>\n",
       "    </tr>\n",
       "    <tr>\n",
       "      <th>2</th>\n",
       "      <td>Women</td>\n",
       "      <td>Men</td>\n",
       "      <td>946</td>\n",
       "    </tr>\n",
       "    <tr>\n",
       "      <th>3</th>\n",
       "      <td>Men</td>\n",
       "      <td>Women</td>\n",
       "      <td>870</td>\n",
       "    </tr>\n",
       "    <tr>\n",
       "      <th>4</th>\n",
       "      <td>Kids</td>\n",
       "      <td>Women</td>\n",
       "      <td>533</td>\n",
       "    </tr>\n",
       "    <tr>\n",
       "      <th>5</th>\n",
       "      <td>Kids</td>\n",
       "      <td>Kids</td>\n",
       "      <td>148</td>\n",
       "    </tr>\n",
       "    <tr>\n",
       "      <th>6</th>\n",
       "      <td>Women</td>\n",
       "      <td>Kids</td>\n",
       "      <td>137</td>\n",
       "    </tr>\n",
       "    <tr>\n",
       "      <th>7</th>\n",
       "      <td>Youth</td>\n",
       "      <td>Women</td>\n",
       "      <td>102</td>\n",
       "    </tr>\n",
       "    <tr>\n",
       "      <th>8</th>\n",
       "      <td>Women</td>\n",
       "      <td>Youth</td>\n",
       "      <td>97</td>\n",
       "    </tr>\n",
       "    <tr>\n",
       "      <th>9</th>\n",
       "      <td>Youth</td>\n",
       "      <td>Youth</td>\n",
       "      <td>93</td>\n",
       "    </tr>\n",
       "  </tbody>\n",
       "</table>\n",
       "</div>"
      ],
      "text/plain": [
       "  first_product_gender second_product_gender  count\n",
       "0                Women                 Women   5632\n",
       "1                  Men                   Men   1828\n",
       "2                Women                   Men    946\n",
       "3                  Men                 Women    870\n",
       "4                 Kids                 Women    533\n",
       "5                 Kids                  Kids    148\n",
       "6                Women                  Kids    137\n",
       "7                Youth                 Women    102\n",
       "8                Women                 Youth     97\n",
       "9                Youth                 Youth     93"
      ]
     },
     "execution_count": 59,
     "metadata": {},
     "output_type": "execute_result"
    }
   ],
   "source": [
    "# product_gender transition\n",
    "transition_df = pd.DataFrame(purchase_path_df[['first_product_gender', 'second_product_gender']].value_counts().reset_index())\n",
    "transition_df.columns = ['first_product_gender', 'second_product_gender', 'count']\n",
    "transition_df.head(10)"
   ]
  },
  {
   "cell_type": "code",
   "execution_count": 60,
   "id": "b62925f4",
   "metadata": {},
   "outputs": [
    {
     "data": {
      "text/html": [
       "<div>\n",
       "<style scoped>\n",
       "    .dataframe tbody tr th:only-of-type {\n",
       "        vertical-align: middle;\n",
       "    }\n",
       "\n",
       "    .dataframe tbody tr th {\n",
       "        vertical-align: top;\n",
       "    }\n",
       "\n",
       "    .dataframe thead th {\n",
       "        text-align: right;\n",
       "    }\n",
       "</style>\n",
       "<table border=\"1\" class=\"dataframe\">\n",
       "  <thead>\n",
       "    <tr style=\"text-align: right;\">\n",
       "      <th></th>\n",
       "      <th>first_product_category</th>\n",
       "      <th>second_product_category</th>\n",
       "      <th>count</th>\n",
       "    </tr>\n",
       "  </thead>\n",
       "  <tbody>\n",
       "    <tr>\n",
       "      <th>0</th>\n",
       "      <td>Running</td>\n",
       "      <td>Running</td>\n",
       "      <td>4632</td>\n",
       "    </tr>\n",
       "    <tr>\n",
       "      <th>1</th>\n",
       "      <td>Running</td>\n",
       "      <td>Boot</td>\n",
       "      <td>938</td>\n",
       "    </tr>\n",
       "    <tr>\n",
       "      <th>2</th>\n",
       "      <td>Boot</td>\n",
       "      <td>Boot</td>\n",
       "      <td>878</td>\n",
       "    </tr>\n",
       "    <tr>\n",
       "      <th>3</th>\n",
       "      <td>Sneaker</td>\n",
       "      <td>Running</td>\n",
       "      <td>762</td>\n",
       "    </tr>\n",
       "    <tr>\n",
       "      <th>4</th>\n",
       "      <td>Sneaker</td>\n",
       "      <td>Sneaker</td>\n",
       "      <td>717</td>\n",
       "    </tr>\n",
       "    <tr>\n",
       "      <th>5</th>\n",
       "      <td>Running</td>\n",
       "      <td>Sneaker</td>\n",
       "      <td>643</td>\n",
       "    </tr>\n",
       "    <tr>\n",
       "      <th>6</th>\n",
       "      <td>Running</td>\n",
       "      <td>Sandal</td>\n",
       "      <td>494</td>\n",
       "    </tr>\n",
       "    <tr>\n",
       "      <th>7</th>\n",
       "      <td>Boot</td>\n",
       "      <td>Running</td>\n",
       "      <td>460</td>\n",
       "    </tr>\n",
       "    <tr>\n",
       "      <th>8</th>\n",
       "      <td>Sandal</td>\n",
       "      <td>Sandal</td>\n",
       "      <td>266</td>\n",
       "    </tr>\n",
       "    <tr>\n",
       "      <th>9</th>\n",
       "      <td>Sandal</td>\n",
       "      <td>Running</td>\n",
       "      <td>256</td>\n",
       "    </tr>\n",
       "  </tbody>\n",
       "</table>\n",
       "</div>"
      ],
      "text/plain": [
       "  first_product_category second_product_category  count\n",
       "0                Running                 Running   4632\n",
       "1                Running                    Boot    938\n",
       "2                   Boot                    Boot    878\n",
       "3                Sneaker                 Running    762\n",
       "4                Sneaker                 Sneaker    717\n",
       "5                Running                 Sneaker    643\n",
       "6                Running                  Sandal    494\n",
       "7                   Boot                 Running    460\n",
       "8                 Sandal                  Sandal    266\n",
       "9                 Sandal                 Running    256"
      ]
     },
     "execution_count": 60,
     "metadata": {},
     "output_type": "execute_result"
    }
   ],
   "source": [
    "# category transition\n",
    "transition_df = pd.DataFrame(purchase_path_df[['first_product_category', 'second_product_category']].value_counts().reset_index())\n",
    "transition_df.columns = ['first_product_category', 'second_product_category', 'count']\n",
    "transition_df.head(10)"
   ]
  },
  {
   "cell_type": "code",
   "execution_count": null,
   "id": "aa98f9f9",
   "metadata": {},
   "outputs": [],
   "source": []
  },
  {
   "cell_type": "markdown",
   "id": "fedd3bde",
   "metadata": {},
   "source": [
    "#### Sale Amount"
   ]
  },
  {
   "cell_type": "code",
   "execution_count": 61,
   "id": "01fa0dfd",
   "metadata": {},
   "outputs": [
    {
     "data": {
      "image/png": "[encoded data removed]",
      "text/plain": [
       "<Figure size 432x288 with 1 Axes>"
      ]
     },
     "metadata": {
      "needs_background": "light"
     },
     "output_type": "display_data"
    }
   ],
   "source": [
    "# Visualize the distribution of sale amounts using a histogram\n",
    "plt.hist(toy_dataset_df['sale_amount'], bins=30)\n",
    "plt.xlabel('Sale Amount')\n",
    "plt.ylabel('Frequency')\n",
    "plt.show()"
   ]
  },
  {
   "cell_type": "code",
   "execution_count": 62,
   "id": "67c2418d",
   "metadata": {},
   "outputs": [],
   "source": [
    "# TODO - create transaction total sale_amount aggregtaion"
   ]
  },
  {
   "cell_type": "markdown",
   "id": "dd38a80e",
   "metadata": {},
   "source": [
    "#### Product Title"
   ]
  },
  {
   "cell_type": "code",
   "execution_count": 74,
   "id": "6fb8b019",
   "metadata": {},
   "outputs": [
    {
     "data": {
      "text/plain": [
       "Olympic Running        9293\n",
       "Iron Running           4205\n",
       "League Running         3532\n",
       "Hustler Boot           3251\n",
       "Classic Sneaker        2080\n",
       "Rogue Sneaker          1996\n",
       "Vanguard Sandal        1989\n",
       "Stacked Hiking Boot    1431\n",
       "Scalar Sandal           554\n",
       "Marathon Running        300\n",
       "Original Boot           198\n",
       "Corner Sandal           125\n",
       "Evermore Boot           123\n",
       "Gator Sandal            114\n",
       "Bejeweled Boot           79\n",
       "Training Sneaker         49\n",
       "Alley Boot                9\n",
       "Discrete Sandal           6\n",
       "Roundup Boot              4\n",
       "Name: product_title, dtype: int64"
      ]
     },
     "execution_count": 74,
     "metadata": {},
     "output_type": "execute_result"
    }
   ],
   "source": [
    "# Count unique values of categoricals\n",
    "toy_dataset_df['product_title'].value_counts()"
   ]
  },
  {
   "cell_type": "code",
   "execution_count": 75,
   "id": "196e750e",
   "metadata": {},
   "outputs": [
    {
     "data": {
      "text/plain": [
       "Olympic Running        0.316756\n",
       "Iron Running           0.143329\n",
       "League Running         0.120390\n",
       "Hustler Boot           0.110812\n",
       "Classic Sneaker        0.070898\n",
       "Rogue Sneaker          0.068035\n",
       "Vanguard Sandal        0.067796\n",
       "Stacked Hiking Boot    0.048776\n",
       "Scalar Sandal          0.018883\n",
       "Marathon Running       0.010226\n",
       "Original Boot          0.006749\n",
       "Corner Sandal          0.004261\n",
       "Evermore Boot          0.004193\n",
       "Gator Sandal           0.003886\n",
       "Bejeweled Boot         0.002693\n",
       "Training Sneaker       0.001670\n",
       "Alley Boot             0.000307\n",
       "Discrete Sandal        0.000205\n",
       "Roundup Boot           0.000136\n",
       "Name: product_title, dtype: float64"
      ]
     },
     "execution_count": 75,
     "metadata": {},
     "output_type": "execute_result"
    }
   ],
   "source": [
    "toy_dataset_df['product_title'].value_counts() / toy_dataset_df.shape[0]"
   ]
  },
  {
   "cell_type": "code",
   "execution_count": 76,
   "id": "010215db",
   "metadata": {},
   "outputs": [
    {
     "data": {
      "text/plain": [
       "array(['Rogue Sneaker', 'Vanguard Sandal', 'Classic Sneaker',\n",
       "       'Olympic Running', 'Iron Running', 'Hustler Boot',\n",
       "       'League Running', 'Original Boot', 'Evermore Boot',\n",
       "       'Stacked Hiking Boot', 'Scalar Sandal', 'Gator Sandal',\n",
       "       'Marathon Running', 'Roundup Boot', 'Training Sneaker',\n",
       "       'Bejeweled Boot', 'Alley Boot', 'Corner Sandal', 'Discrete Sandal'],\n",
       "      dtype=object)"
      ]
     },
     "execution_count": 76,
     "metadata": {},
     "output_type": "execute_result"
    }
   ],
   "source": [
    "toy_dataset_df['product_title'].unique()"
   ]
  },
  {
   "cell_type": "code",
   "execution_count": 77,
   "id": "d1d14985",
   "metadata": {},
   "outputs": [
    {
     "data": {
      "text/plain": [
       "19"
      ]
     },
     "execution_count": 77,
     "metadata": {},
     "output_type": "execute_result"
    }
   ],
   "source": [
    "len(toy_dataset_df['product_title'].value_counts())"
   ]
  },
  {
   "cell_type": "code",
   "execution_count": 78,
   "id": "e9f732f1",
   "metadata": {},
   "outputs": [
    {
     "data": {
      "text/plain": [
       "array(['Envy Sandal', 'Forest Sandal', 'Boost Boot', 'Gradient Sneaker',\n",
       "       'Descent Running', 'Naive Boot'], dtype=object)"
      ]
     },
     "execution_count": 78,
     "metadata": {},
     "output_type": "execute_result"
    }
   ],
   "source": [
    "# Products in catalog, no transactions\n",
    "toy_products_df[~toy_products_df['product_title'].isin(toy_dataset_df['product_title'].unique())]['product_title'].unique()"
   ]
  },
  {
   "cell_type": "code",
   "execution_count": null,
   "id": "5db75ce6",
   "metadata": {},
   "outputs": [],
   "source": []
  },
  {
   "cell_type": "markdown",
   "id": "e1265a07",
   "metadata": {},
   "source": [
    "#### Product Color"
   ]
  },
  {
   "cell_type": "code",
   "execution_count": 79,
   "id": "ece8f59f",
   "metadata": {},
   "outputs": [
    {
     "data": {
      "text/plain": [
       "Lavender Purple                 1229\n",
       "Dark Red                        1218\n",
       "Sky Blue                        1214\n",
       "Burnt Sienna                    1203\n",
       "Green (Munsell)                 1201\n",
       "Midnight Green (Eagle Green)    1198\n",
       "Prussian Blue                   1193\n",
       "Ruby Red                        1193\n",
       "Stormcloud                      1190\n",
       "Mordant Red 19                  1186\n",
       "Fern Green                      1185\n",
       "Vermilion (Plochere)            1180\n",
       "Mikado Yellow                   1179\n",
       "Canary Yellow                   1175\n",
       "Selective Yellow                1174\n",
       "Alice Blue                      1169\n",
       "Topaz                           1167\n",
       "Han Purple                      1166\n",
       "Electric Green                  1152\n",
       "Royal Blue (Web)                1149\n",
       "Pastel Magenta                  1132\n",
       "Dartmouth Green                 1130\n",
       "Electric Purple                 1124\n",
       "Dark Powder Blue                1123\n",
       "Yellow-Green                    1108\n",
       "Name: product_color, dtype: int64"
      ]
     },
     "execution_count": 79,
     "metadata": {},
     "output_type": "execute_result"
    }
   ],
   "source": [
    "# Count unique values of categoricals\n",
    "toy_dataset_df['product_color'].value_counts()"
   ]
  },
  {
   "cell_type": "code",
   "execution_count": 80,
   "id": "05015d26",
   "metadata": {},
   "outputs": [
    {
     "data": {
      "text/plain": [
       "Lavender Purple                 0.041891\n",
       "Dark Red                        0.041516\n",
       "Sky Blue                        0.041380\n",
       "Burnt Sienna                    0.041005\n",
       "Green (Munsell)                 0.040937\n",
       "Midnight Green (Eagle Green)    0.040834\n",
       "Prussian Blue                   0.040664\n",
       "Ruby Red                        0.040664\n",
       "Stormcloud                      0.040562\n",
       "Mordant Red 19                  0.040425\n",
       "Fern Green                      0.040391\n",
       "Vermilion (Plochere)            0.040221\n",
       "Mikado Yellow                   0.040187\n",
       "Canary Yellow                   0.040050\n",
       "Selective Yellow                0.040016\n",
       "Alice Blue                      0.039846\n",
       "Topaz                           0.039778\n",
       "Han Purple                      0.039744\n",
       "Electric Green                  0.039266\n",
       "Royal Blue (Web)                0.039164\n",
       "Pastel Magenta                  0.038585\n",
       "Dartmouth Green                 0.038517\n",
       "Electric Purple                 0.038312\n",
       "Dark Powder Blue                0.038278\n",
       "Yellow-Green                    0.037767\n",
       "Name: product_color, dtype: float64"
      ]
     },
     "execution_count": 80,
     "metadata": {},
     "output_type": "execute_result"
    }
   ],
   "source": [
    "toy_dataset_df['product_color'].value_counts() / toy_dataset_df.shape[0]"
   ]
  },
  {
   "cell_type": "code",
   "execution_count": 81,
   "id": "bf8d034c",
   "metadata": {},
   "outputs": [
    {
     "data": {
      "text/html": [
       "<div>\n",
       "<style scoped>\n",
       "    .dataframe tbody tr th:only-of-type {\n",
       "        vertical-align: middle;\n",
       "    }\n",
       "\n",
       "    .dataframe tbody tr th {\n",
       "        vertical-align: top;\n",
       "    }\n",
       "\n",
       "    .dataframe thead th {\n",
       "        text-align: right;\n",
       "    }\n",
       "</style>\n",
       "<table border=\"1\" class=\"dataframe\">\n",
       "  <thead>\n",
       "    <tr style=\"text-align: right;\">\n",
       "      <th>product_gender</th>\n",
       "      <th>Kids</th>\n",
       "      <th>Men</th>\n",
       "      <th>Unisex</th>\n",
       "      <th>Women</th>\n",
       "      <th>Youth</th>\n",
       "    </tr>\n",
       "    <tr>\n",
       "      <th>product_color</th>\n",
       "      <th></th>\n",
       "      <th></th>\n",
       "      <th></th>\n",
       "      <th></th>\n",
       "      <th></th>\n",
       "    </tr>\n",
       "  </thead>\n",
       "  <tbody>\n",
       "    <tr>\n",
       "      <th>Alice Blue</th>\n",
       "      <td>44</td>\n",
       "      <td>285</td>\n",
       "      <td>7</td>\n",
       "      <td>794</td>\n",
       "      <td>39</td>\n",
       "    </tr>\n",
       "    <tr>\n",
       "      <th>Burnt Sienna</th>\n",
       "      <td>48</td>\n",
       "      <td>315</td>\n",
       "      <td>15</td>\n",
       "      <td>795</td>\n",
       "      <td>30</td>\n",
       "    </tr>\n",
       "    <tr>\n",
       "      <th>Canary Yellow</th>\n",
       "      <td>49</td>\n",
       "      <td>299</td>\n",
       "      <td>19</td>\n",
       "      <td>778</td>\n",
       "      <td>30</td>\n",
       "    </tr>\n",
       "    <tr>\n",
       "      <th>Dark Powder Blue</th>\n",
       "      <td>30</td>\n",
       "      <td>271</td>\n",
       "      <td>10</td>\n",
       "      <td>771</td>\n",
       "      <td>41</td>\n",
       "    </tr>\n",
       "    <tr>\n",
       "      <th>Dark Red</th>\n",
       "      <td>61</td>\n",
       "      <td>304</td>\n",
       "      <td>12</td>\n",
       "      <td>811</td>\n",
       "      <td>30</td>\n",
       "    </tr>\n",
       "    <tr>\n",
       "      <th>Dartmouth Green</th>\n",
       "      <td>50</td>\n",
       "      <td>273</td>\n",
       "      <td>12</td>\n",
       "      <td>755</td>\n",
       "      <td>40</td>\n",
       "    </tr>\n",
       "    <tr>\n",
       "      <th>Electric Green</th>\n",
       "      <td>44</td>\n",
       "      <td>290</td>\n",
       "      <td>14</td>\n",
       "      <td>776</td>\n",
       "      <td>28</td>\n",
       "    </tr>\n",
       "    <tr>\n",
       "      <th>Electric Purple</th>\n",
       "      <td>43</td>\n",
       "      <td>274</td>\n",
       "      <td>15</td>\n",
       "      <td>767</td>\n",
       "      <td>25</td>\n",
       "    </tr>\n",
       "    <tr>\n",
       "      <th>Fern Green</th>\n",
       "      <td>48</td>\n",
       "      <td>277</td>\n",
       "      <td>11</td>\n",
       "      <td>819</td>\n",
       "      <td>30</td>\n",
       "    </tr>\n",
       "    <tr>\n",
       "      <th>Green (Munsell)</th>\n",
       "      <td>47</td>\n",
       "      <td>285</td>\n",
       "      <td>14</td>\n",
       "      <td>820</td>\n",
       "      <td>35</td>\n",
       "    </tr>\n",
       "    <tr>\n",
       "      <th>Han Purple</th>\n",
       "      <td>39</td>\n",
       "      <td>301</td>\n",
       "      <td>15</td>\n",
       "      <td>772</td>\n",
       "      <td>39</td>\n",
       "    </tr>\n",
       "    <tr>\n",
       "      <th>Lavender Purple</th>\n",
       "      <td>39</td>\n",
       "      <td>295</td>\n",
       "      <td>18</td>\n",
       "      <td>843</td>\n",
       "      <td>34</td>\n",
       "    </tr>\n",
       "    <tr>\n",
       "      <th>Midnight Green (Eagle Green)</th>\n",
       "      <td>54</td>\n",
       "      <td>288</td>\n",
       "      <td>11</td>\n",
       "      <td>812</td>\n",
       "      <td>33</td>\n",
       "    </tr>\n",
       "    <tr>\n",
       "      <th>Mikado Yellow</th>\n",
       "      <td>50</td>\n",
       "      <td>296</td>\n",
       "      <td>17</td>\n",
       "      <td>788</td>\n",
       "      <td>28</td>\n",
       "    </tr>\n",
       "    <tr>\n",
       "      <th>Mordant Red 19</th>\n",
       "      <td>40</td>\n",
       "      <td>297</td>\n",
       "      <td>12</td>\n",
       "      <td>795</td>\n",
       "      <td>42</td>\n",
       "    </tr>\n",
       "    <tr>\n",
       "      <th>Pastel Magenta</th>\n",
       "      <td>47</td>\n",
       "      <td>274</td>\n",
       "      <td>14</td>\n",
       "      <td>760</td>\n",
       "      <td>37</td>\n",
       "    </tr>\n",
       "    <tr>\n",
       "      <th>Prussian Blue</th>\n",
       "      <td>57</td>\n",
       "      <td>299</td>\n",
       "      <td>7</td>\n",
       "      <td>801</td>\n",
       "      <td>29</td>\n",
       "    </tr>\n",
       "    <tr>\n",
       "      <th>Royal Blue (Web)</th>\n",
       "      <td>52</td>\n",
       "      <td>293</td>\n",
       "      <td>14</td>\n",
       "      <td>760</td>\n",
       "      <td>30</td>\n",
       "    </tr>\n",
       "    <tr>\n",
       "      <th>Ruby Red</th>\n",
       "      <td>43</td>\n",
       "      <td>285</td>\n",
       "      <td>14</td>\n",
       "      <td>816</td>\n",
       "      <td>35</td>\n",
       "    </tr>\n",
       "    <tr>\n",
       "      <th>Selective Yellow</th>\n",
       "      <td>33</td>\n",
       "      <td>307</td>\n",
       "      <td>9</td>\n",
       "      <td>786</td>\n",
       "      <td>39</td>\n",
       "    </tr>\n",
       "    <tr>\n",
       "      <th>Sky Blue</th>\n",
       "      <td>54</td>\n",
       "      <td>293</td>\n",
       "      <td>9</td>\n",
       "      <td>823</td>\n",
       "      <td>35</td>\n",
       "    </tr>\n",
       "    <tr>\n",
       "      <th>Stormcloud</th>\n",
       "      <td>38</td>\n",
       "      <td>296</td>\n",
       "      <td>11</td>\n",
       "      <td>798</td>\n",
       "      <td>47</td>\n",
       "    </tr>\n",
       "    <tr>\n",
       "      <th>Topaz</th>\n",
       "      <td>37</td>\n",
       "      <td>294</td>\n",
       "      <td>13</td>\n",
       "      <td>787</td>\n",
       "      <td>36</td>\n",
       "    </tr>\n",
       "    <tr>\n",
       "      <th>Vermilion (Plochere)</th>\n",
       "      <td>41</td>\n",
       "      <td>307</td>\n",
       "      <td>17</td>\n",
       "      <td>777</td>\n",
       "      <td>38</td>\n",
       "    </tr>\n",
       "    <tr>\n",
       "      <th>Yellow-Green</th>\n",
       "      <td>44</td>\n",
       "      <td>244</td>\n",
       "      <td>8</td>\n",
       "      <td>785</td>\n",
       "      <td>27</td>\n",
       "    </tr>\n",
       "  </tbody>\n",
       "</table>\n",
       "</div>"
      ],
      "text/plain": [
       "product_gender                Kids  Men  Unisex  Women  Youth\n",
       "product_color                                                \n",
       "Alice Blue                      44  285       7    794     39\n",
       "Burnt Sienna                    48  315      15    795     30\n",
       "Canary Yellow                   49  299      19    778     30\n",
       "Dark Powder Blue                30  271      10    771     41\n",
       "Dark Red                        61  304      12    811     30\n",
       "Dartmouth Green                 50  273      12    755     40\n",
       "Electric Green                  44  290      14    776     28\n",
       "Electric Purple                 43  274      15    767     25\n",
       "Fern Green                      48  277      11    819     30\n",
       "Green (Munsell)                 47  285      14    820     35\n",
       "Han Purple                      39  301      15    772     39\n",
       "Lavender Purple                 39  295      18    843     34\n",
       "Midnight Green (Eagle Green)    54  288      11    812     33\n",
       "Mikado Yellow                   50  296      17    788     28\n",
       "Mordant Red 19                  40  297      12    795     42\n",
       "Pastel Magenta                  47  274      14    760     37\n",
       "Prussian Blue                   57  299       7    801     29\n",
       "Royal Blue (Web)                52  293      14    760     30\n",
       "Ruby Red                        43  285      14    816     35\n",
       "Selective Yellow                33  307       9    786     39\n",
       "Sky Blue                        54  293       9    823     35\n",
       "Stormcloud                      38  296      11    798     47\n",
       "Topaz                           37  294      13    787     36\n",
       "Vermilion (Plochere)            41  307      17    777     38\n",
       "Yellow-Green                    44  244       8    785     27"
      ]
     },
     "execution_count": 81,
     "metadata": {},
     "output_type": "execute_result"
    }
   ],
   "source": [
    "pd.crosstab(toy_dataset_df['product_color'], toy_dataset_df['product_gender'])\n",
    "# pd.crosstab(toy_dataset_df['product_color'], toy_dataset_df['product_category'])"
   ]
  },
  {
   "cell_type": "markdown",
   "id": "466b5c63",
   "metadata": {},
   "source": [
    "#### Product Gender"
   ]
  },
  {
   "cell_type": "code",
   "execution_count": 82,
   "id": "f7c74df0",
   "metadata": {},
   "outputs": [
    {
     "data": {
      "text/plain": [
       "Women     0.674518\n",
       "Men       0.246847\n",
       "Kids      0.038585\n",
       "Youth     0.029211\n",
       "Unisex    0.010839\n",
       "Name: product_gender, dtype: float64"
      ]
     },
     "execution_count": 82,
     "metadata": {},
     "output_type": "execute_result"
    }
   ],
   "source": [
    "# Count unique values of categoricals\n",
    "# toy_dataset_df['product_gender'].value_counts()\n",
    "toy_dataset_df['product_gender'].value_counts() / toy_dataset_df.shape[0]"
   ]
  },
  {
   "cell_type": "markdown",
   "id": "457c1d52",
   "metadata": {},
   "source": [
    "#### Product Category"
   ]
  },
  {
   "cell_type": "code",
   "execution_count": 83,
   "id": "10cefc9d",
   "metadata": {},
   "outputs": [
    {
     "data": {
      "text/plain": [
       "Running    17330\n",
       "Boot        5095\n",
       "Sneaker     4125\n",
       "Sandal      2788\n",
       "Name: product_category, dtype: int64"
      ]
     },
     "execution_count": 83,
     "metadata": {},
     "output_type": "execute_result"
    }
   ],
   "source": [
    "# Count unique values of categoricals\n",
    "toy_dataset_df['product_category'].value_counts()"
   ]
  },
  {
   "cell_type": "code",
   "execution_count": 84,
   "id": "b6f01a29",
   "metadata": {},
   "outputs": [
    {
     "data": {
      "text/plain": [
       "Running    0.590701\n",
       "Boot       0.173666\n",
       "Sneaker    0.140603\n",
       "Sandal     0.095030\n",
       "Name: product_category, dtype: float64"
      ]
     },
     "execution_count": 84,
     "metadata": {},
     "output_type": "execute_result"
    }
   ],
   "source": [
    "toy_dataset_df['product_category'].value_counts() / toy_dataset_df.shape[0]"
   ]
  },
  {
   "cell_type": "markdown",
   "id": "ef3118b5",
   "metadata": {},
   "source": [
    "#### Product Size"
   ]
  },
  {
   "cell_type": "code",
   "execution_count": 85,
   "id": "4fd01268",
   "metadata": {},
   "outputs": [
    {
     "data": {
      "text/plain": [
       "<AxesSubplot:>"
      ]
     },
     "execution_count": 85,
     "metadata": {},
     "output_type": "execute_result"
    },
    {
     "data": {
      "image/png": "[encoded data removed]",
      "text/plain": [
       "<Figure size 432x288 with 1 Axes>"
      ]
     },
     "metadata": {
      "needs_background": "light"
     },
     "output_type": "display_data"
    }
   ],
   "source": [
    "# Count unique values of categoricals\n",
    "toy_dataset_df['product_size'].hist()"
   ]
  },
  {
   "cell_type": "markdown",
   "id": "1e044d0d",
   "metadata": {},
   "source": [
    "#### Referrer Source"
   ]
  },
  {
   "cell_type": "code",
   "execution_count": 86,
   "id": "d04614e4",
   "metadata": {},
   "outputs": [
    {
     "data": {
      "text/plain": [
       "Direct     18114\n",
       "Search      9026\n",
       "Social      1528\n",
       "Unknown      652\n",
       "Email         18\n",
       "Name: referrer_source, dtype: int64"
      ]
     },
     "execution_count": 86,
     "metadata": {},
     "output_type": "execute_result"
    }
   ],
   "source": [
    "# Count unique values of categoricals\n",
    "toy_dataset_df['referrer_source'].value_counts()"
   ]
  },
  {
   "cell_type": "code",
   "execution_count": 87,
   "id": "de4b1a8c",
   "metadata": {},
   "outputs": [
    {
     "data": {
      "text/plain": [
       "Direct     0.617425\n",
       "Search     0.307656\n",
       "Social     0.052083\n",
       "Unknown    0.022224\n",
       "Email      0.000614\n",
       "Name: referrer_source, dtype: float64"
      ]
     },
     "execution_count": 87,
     "metadata": {},
     "output_type": "execute_result"
    }
   ],
   "source": [
    "toy_dataset_df['referrer_source'].value_counts() / toy_dataset_df.shape[0]"
   ]
  },
  {
   "cell_type": "code",
   "execution_count": null,
   "id": "b1ca8b2e",
   "metadata": {},
   "outputs": [],
   "source": []
  },
  {
   "cell_type": "code",
   "execution_count": null,
   "id": "884b47db",
   "metadata": {},
   "outputs": [],
   "source": [
    "# TODO - EDA on Zip columns"
   ]
  },
  {
   "cell_type": "code",
   "execution_count": null,
   "id": "ce0a276f",
   "metadata": {},
   "outputs": [],
   "source": [
    "# TODO: Explore Seasonality"
   ]
  },
  {
   "cell_type": "code",
   "execution_count": null,
   "id": "53cb1ac7",
   "metadata": {},
   "outputs": [],
   "source": []
  },
  {
   "cell_type": "code",
   "execution_count": null,
   "id": "50874d79",
   "metadata": {},
   "outputs": [],
   "source": []
  }
 ],
 "metadata": {
  "kernelspec": {
   "display_name": "Python 3",
   "language": "python",
   "name": "python3"
  },
  "language_info": {
   "codemirror_mode": {
    "name": "ipython",
    "version": 3
   },
   "file_extension": ".py",
   "mimetype": "text/x-python",
   "name": "python",
   "nbconvert_exporter": "python",
   "pygments_lexer": "ipython3",
   "version": "3.8.8"
  }
 },
 "nbformat": 4,
 "nbformat_minor": 5
}
