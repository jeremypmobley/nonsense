{
 "cells": [
  {
   "cell_type": "markdown",
   "id": "be60bda7",
   "metadata": {},
   "source": [
    "# Modeling"
   ]
  },
  {
   "cell_type": "code",
   "execution_count": 126,
   "id": "5fee1326",
   "metadata": {},
   "outputs": [],
   "source": [
    "import pandas as pd\n",
    "from datetime import timedelta"
   ]
  },
  {
   "cell_type": "code",
   "execution_count": 2,
   "id": "e0c9e25b",
   "metadata": {},
   "outputs": [
    {
     "data": {
      "text/plain": [
       "'C:\\\\Users\\\\jerem\\\\Desktop\\\\nonsense\\\\flagship'"
      ]
     },
     "execution_count": 2,
     "metadata": {},
     "output_type": "execute_result"
    }
   ],
   "source": [
    "pwd"
   ]
  },
  {
   "cell_type": "code",
   "execution_count": 3,
   "id": "0469fbe5",
   "metadata": {},
   "outputs": [],
   "source": [
    "toy_dataset_df = pd.read_csv('toy_dataset_1_10_23.csv')\n",
    "toy_products_df = pd.read_csv('toy_products_1_10_23.csv')"
   ]
  },
  {
   "cell_type": "code",
   "execution_count": 4,
   "id": "5628cd3e",
   "metadata": {},
   "outputs": [
    {
     "data": {
      "text/plain": [
       "(3125, 6)"
      ]
     },
     "execution_count": 4,
     "metadata": {},
     "output_type": "execute_result"
    }
   ],
   "source": [
    "toy_products_df.shape"
   ]
  },
  {
   "cell_type": "code",
   "execution_count": 5,
   "id": "24520ee2",
   "metadata": {},
   "outputs": [
    {
     "data": {
      "text/plain": [
       "(32151, 23)"
      ]
     },
     "execution_count": 5,
     "metadata": {},
     "output_type": "execute_result"
    }
   ],
   "source": [
    "toy_dataset_df.shape"
   ]
  },
  {
   "cell_type": "code",
   "execution_count": 6,
   "id": "09af538e",
   "metadata": {},
   "outputs": [],
   "source": [
    "toy_dataset_df['timestamp'] = pd.to_datetime(toy_dataset_df['timestamp'])"
   ]
  },
  {
   "cell_type": "code",
   "execution_count": null,
   "id": "687765e4",
   "metadata": {},
   "outputs": [],
   "source": []
  },
  {
   "cell_type": "markdown",
   "id": "d005a213",
   "metadata": {},
   "source": [
    "#### Create train, test data sets based on date split"
   ]
  },
  {
   "cell_type": "code",
   "execution_count": 119,
   "id": "04be8c59",
   "metadata": {},
   "outputs": [],
   "source": [
    "split_date = '2022-04-01' # choose a date to split the data - roughly 80/20 split\n",
    "train = toy_dataset_df[toy_dataset_df['timestamp'] < split_date]\n",
    "test = toy_dataset_df[toy_dataset_df['timestamp'] >= split_date]"
   ]
  },
  {
   "cell_type": "code",
   "execution_count": 120,
   "id": "f9efe90f",
   "metadata": {},
   "outputs": [
    {
     "data": {
      "text/plain": [
       "81.64"
      ]
     },
     "execution_count": 120,
     "metadata": {},
     "output_type": "execute_result"
    }
   ],
   "source": [
    "# percent of data in training data set\n",
    "round(train.shape[0] / toy_dataset_df.shape[0] * 100.0,2)"
   ]
  },
  {
   "cell_type": "code",
   "execution_count": 124,
   "id": "7ad4b530",
   "metadata": {},
   "outputs": [
    {
     "data": {
      "text/plain": [
       "(26248, 23)"
      ]
     },
     "execution_count": 124,
     "metadata": {},
     "output_type": "execute_result"
    }
   ],
   "source": [
    "train.shape"
   ]
  },
  {
   "cell_type": "code",
   "execution_count": 121,
   "id": "f6ada2af",
   "metadata": {},
   "outputs": [
    {
     "data": {
      "text/plain": [
       "(5903, 23)"
      ]
     },
     "execution_count": 121,
     "metadata": {},
     "output_type": "execute_result"
    }
   ],
   "source": [
    "test.shape"
   ]
  },
  {
   "cell_type": "markdown",
   "id": "b1374e73",
   "metadata": {},
   "source": [
    "### Baseline Model - top 10 titles over previous week"
   ]
  },
  {
   "cell_type": "code",
   "execution_count": 106,
   "id": "932c2c96",
   "metadata": {},
   "outputs": [],
   "source": [
    "def get_top10_model_preds(as_of_dt, prev_days=7, top_n=10):\n",
    "    \"\"\"\n",
    "    Function to return the top 10 most popular product_titles sold in previous n days from as_of date\n",
    "    Returns a pandas dataframe of 10 records\n",
    "    \"\"\"\n",
    "    given_date = pd.to_datetime(as_of_dt)\n",
    "    start_date = given_date - timedelta(days=prev_days)\n",
    "    last_week_df = toy_dataset_df[(toy_dataset_df['timestamp']<given_date) & (toy_dataset_df['timestamp']>start_date)]\n",
    "    top10_last_wk_df = last_week_df.groupby('product_title').size().reset_index(name='count').sort_values('count', ascending=False).head(top_n)\n",
    "    top10_last_wk_df['transaction_date'] = as_of_dt\n",
    "    top10_last_wk_df['title_rank'] = top10_last_wk_df['count'].rank(method='first', ascending=False)\n",
    "    top10_last_wk_df.columns = ['title_pred', 'prev_wk_cnt', 'transaction_date', 'title_rank']\n",
    "    return top10_last_wk_df"
   ]
  },
  {
   "cell_type": "code",
   "execution_count": 107,
   "id": "8cf43fb4",
   "metadata": {},
   "outputs": [
    {
     "data": {
      "text/html": [
       "<div>\n",
       "<style scoped>\n",
       "    .dataframe tbody tr th:only-of-type {\n",
       "        vertical-align: middle;\n",
       "    }\n",
       "\n",
       "    .dataframe tbody tr th {\n",
       "        vertical-align: top;\n",
       "    }\n",
       "\n",
       "    .dataframe thead th {\n",
       "        text-align: right;\n",
       "    }\n",
       "</style>\n",
       "<table border=\"1\" class=\"dataframe\">\n",
       "  <thead>\n",
       "    <tr style=\"text-align: right;\">\n",
       "      <th></th>\n",
       "      <th>title_pred</th>\n",
       "      <th>prev_wk_cnt</th>\n",
       "      <th>transaction_date</th>\n",
       "      <th>title_rank</th>\n",
       "    </tr>\n",
       "  </thead>\n",
       "  <tbody>\n",
       "    <tr>\n",
       "      <th>6</th>\n",
       "      <td>Olympic Running</td>\n",
       "      <td>52</td>\n",
       "      <td>2022-08-13</td>\n",
       "      <td>1.0</td>\n",
       "    </tr>\n",
       "    <tr>\n",
       "      <th>3</th>\n",
       "      <td>Iron Running</td>\n",
       "      <td>26</td>\n",
       "      <td>2022-08-13</td>\n",
       "      <td>2.0</td>\n",
       "    </tr>\n",
       "    <tr>\n",
       "      <th>4</th>\n",
       "      <td>League Running</td>\n",
       "      <td>23</td>\n",
       "      <td>2022-08-13</td>\n",
       "      <td>3.0</td>\n",
       "    </tr>\n",
       "    <tr>\n",
       "      <th>0</th>\n",
       "      <td>Bejeweled Boot</td>\n",
       "      <td>17</td>\n",
       "      <td>2022-08-13</td>\n",
       "      <td>4.0</td>\n",
       "    </tr>\n",
       "    <tr>\n",
       "      <th>2</th>\n",
       "      <td>Hustler Boot</td>\n",
       "      <td>17</td>\n",
       "      <td>2022-08-13</td>\n",
       "      <td>5.0</td>\n",
       "    </tr>\n",
       "    <tr>\n",
       "      <th>5</th>\n",
       "      <td>Marathon Running</td>\n",
       "      <td>15</td>\n",
       "      <td>2022-08-13</td>\n",
       "      <td>6.0</td>\n",
       "    </tr>\n",
       "    <tr>\n",
       "      <th>8</th>\n",
       "      <td>Rogue Sneaker</td>\n",
       "      <td>12</td>\n",
       "      <td>2022-08-13</td>\n",
       "      <td>7.0</td>\n",
       "    </tr>\n",
       "    <tr>\n",
       "      <th>1</th>\n",
       "      <td>Classic Sneaker</td>\n",
       "      <td>9</td>\n",
       "      <td>2022-08-13</td>\n",
       "      <td>8.0</td>\n",
       "    </tr>\n",
       "    <tr>\n",
       "      <th>12</th>\n",
       "      <td>Vanguard Sandal</td>\n",
       "      <td>9</td>\n",
       "      <td>2022-08-13</td>\n",
       "      <td>9.0</td>\n",
       "    </tr>\n",
       "    <tr>\n",
       "      <th>10</th>\n",
       "      <td>Stacked Hiking Boot</td>\n",
       "      <td>8</td>\n",
       "      <td>2022-08-13</td>\n",
       "      <td>10.0</td>\n",
       "    </tr>\n",
       "  </tbody>\n",
       "</table>\n",
       "</div>"
      ],
      "text/plain": [
       "             title_pred  prev_wk_cnt transaction_date  title_rank\n",
       "6       Olympic Running           52       2022-08-13         1.0\n",
       "3          Iron Running           26       2022-08-13         2.0\n",
       "4        League Running           23       2022-08-13         3.0\n",
       "0        Bejeweled Boot           17       2022-08-13         4.0\n",
       "2          Hustler Boot           17       2022-08-13         5.0\n",
       "5      Marathon Running           15       2022-08-13         6.0\n",
       "8         Rogue Sneaker           12       2022-08-13         7.0\n",
       "1       Classic Sneaker            9       2022-08-13         8.0\n",
       "12      Vanguard Sandal            9       2022-08-13         9.0\n",
       "10  Stacked Hiking Boot            8       2022-08-13        10.0"
      ]
     },
     "execution_count": 107,
     "metadata": {},
     "output_type": "execute_result"
    }
   ],
   "source": [
    "get_top10_model_preds(as_of_dt='2022-08-13')"
   ]
  },
  {
   "cell_type": "code",
   "execution_count": 127,
   "id": "3f3865fe",
   "metadata": {},
   "outputs": [],
   "source": [
    "test_dates = test['timestamp'].dt.date.unique().tolist()"
   ]
  },
  {
   "cell_type": "code",
   "execution_count": 115,
   "id": "3da5625b",
   "metadata": {},
   "outputs": [
    {
     "name": "stdout",
     "output_type": "stream",
     "text": [
      "0,1,2,3,4,5,6,7,8,9,10,11,12,13,14,15,16,17,18,19,20,21,22,23,24,25,26,27,28,29,30,31,32,33,34,35,36,37,38,39,40,41,42,43,44,45,46,47,48,49,50,51,52,53,54,55,56,57,58,59,60,61,62,63,64,65,66,67,68,69,70,71,72,73,74,75,76,77,78,79,80,81,82,83,84,85,86,87,88,89,90,91,92,93,94,95,96,97,98,99,100,101,102,103,104,105,106,107,108,109,110,111,112,113,114,115,116,117,118,119,120,121,122,123,124,125,126,127,128,129,130,131,132,133,134,135,136,137,138,139,140,141,142,143,144,145,146,147,148,149,150,151,152,153,154,155,156,157,158,159,160,161,162,163,164,165,166,167,168,169,170,171,172,173,174,175,176,177,178,179,180,181,182,183,184,185,186,187,188,189,190,191,192,193,194,195,196,197,198,199,200,201,202,203,204,205,206,207,208,209,210,211,212,213,214,215,216,217,218,219,220,221,222,223,224,225,226,227,228,229,"
     ]
    }
   ],
   "source": [
    "full_eval_df = pd.DataFrame()\n",
    "\n",
    "for index, test_dt in enumerate(test_dates):\n",
    "    print(index, end=',')\n",
    "    \n",
    "    pred_df = get_top10_model_preds(as_of_dt=test_dt)\n",
    "    \n",
    "    # Join the recommended item predictions to the test data set on the transaction date\n",
    "    join_df = pd.merge(left=test[test['timestamp'].dt.date==test_dt], \n",
    "                       right=pred_df[['title_pred','title_rank']], \n",
    "                       left_on='product_title',\n",
    "                       right_on='title_pred',\n",
    "                       how='left')\n",
    "    \n",
    "    full_eval_df = pd.concat([full_eval_df, join_df])"
   ]
  },
  {
   "cell_type": "code",
   "execution_count": 116,
   "id": "c53f6c8a",
   "metadata": {},
   "outputs": [
    {
     "data": {
      "text/plain": [
       "(5903, 25)"
      ]
     },
     "execution_count": 116,
     "metadata": {},
     "output_type": "execute_result"
    }
   ],
   "source": [
    "full_eval_df.shape"
   ]
  },
  {
   "cell_type": "code",
   "execution_count": 118,
   "id": "4165b09b",
   "metadata": {},
   "outputs": [
    {
     "data": {
      "text/html": [
       "<div>\n",
       "<style scoped>\n",
       "    .dataframe tbody tr th:only-of-type {\n",
       "        vertical-align: middle;\n",
       "    }\n",
       "\n",
       "    .dataframe tbody tr th {\n",
       "        vertical-align: top;\n",
       "    }\n",
       "\n",
       "    .dataframe thead th {\n",
       "        text-align: right;\n",
       "    }\n",
       "</style>\n",
       "<table border=\"1\" class=\"dataframe\">\n",
       "  <thead>\n",
       "    <tr style=\"text-align: right;\">\n",
       "      <th></th>\n",
       "      <th>Unnamed: 0</th>\n",
       "      <th>timestamp</th>\n",
       "      <th>transaction_id</th>\n",
       "      <th>hash_customer</th>\n",
       "      <th>sale_amount</th>\n",
       "      <th>product_title</th>\n",
       "      <th>product_color</th>\n",
       "      <th>product_gender</th>\n",
       "      <th>product_category</th>\n",
       "      <th>product_size</th>\n",
       "      <th>...</th>\n",
       "      <th>zip_med_age</th>\n",
       "      <th>zip_male_female_ratio</th>\n",
       "      <th>zip_tot_pop</th>\n",
       "      <th>zip_tot_white_nh</th>\n",
       "      <th>zip_med_hh_income</th>\n",
       "      <th>zip_mean_hh_income</th>\n",
       "      <th>zip_pct_emp_lf</th>\n",
       "      <th>zip_unemp_rate</th>\n",
       "      <th>title_pred</th>\n",
       "      <th>title_rank</th>\n",
       "    </tr>\n",
       "  </thead>\n",
       "  <tbody>\n",
       "    <tr>\n",
       "      <th>0</th>\n",
       "      <td>58</td>\n",
       "      <td>2022-05-22 14:00:00</td>\n",
       "      <td>701140827973030343</td>\n",
       "      <td>901098790880827689</td>\n",
       "      <td>71.0</td>\n",
       "      <td>Olympic Running</td>\n",
       "      <td>Han Purple</td>\n",
       "      <td>Kids</td>\n",
       "      <td>Running</td>\n",
       "      <td>12.5</td>\n",
       "      <td>...</td>\n",
       "      <td>47.2</td>\n",
       "      <td>87.2</td>\n",
       "      <td>30908.0</td>\n",
       "      <td>23172.0</td>\n",
       "      <td>163016.0</td>\n",
       "      <td>268666.0</td>\n",
       "      <td>65.9</td>\n",
       "      <td>2.3</td>\n",
       "      <td>Olympic Running</td>\n",
       "      <td>1.0</td>\n",
       "    </tr>\n",
       "    <tr>\n",
       "      <th>1</th>\n",
       "      <td>2955</td>\n",
       "      <td>2022-05-22 08:00:00</td>\n",
       "      <td>5009790446010554491</td>\n",
       "      <td>6458481418216291208</td>\n",
       "      <td>224.0</td>\n",
       "      <td>Olympic Running</td>\n",
       "      <td>Vermilion (Plochere)</td>\n",
       "      <td>Men</td>\n",
       "      <td>Running</td>\n",
       "      <td>9.0</td>\n",
       "      <td>...</td>\n",
       "      <td>28.4</td>\n",
       "      <td>98.8</td>\n",
       "      <td>75068.0</td>\n",
       "      <td>21235.0</td>\n",
       "      <td>55269.0</td>\n",
       "      <td>71979.0</td>\n",
       "      <td>62.6</td>\n",
       "      <td>7.0</td>\n",
       "      <td>Olympic Running</td>\n",
       "      <td>1.0</td>\n",
       "    </tr>\n",
       "    <tr>\n",
       "      <th>2</th>\n",
       "      <td>4413</td>\n",
       "      <td>2022-05-22 09:00:00</td>\n",
       "      <td>9583150991463340343</td>\n",
       "      <td>529781945332660367</td>\n",
       "      <td>275.0</td>\n",
       "      <td>Iron Running</td>\n",
       "      <td>Prussian Blue</td>\n",
       "      <td>Men</td>\n",
       "      <td>Running</td>\n",
       "      <td>14.5</td>\n",
       "      <td>...</td>\n",
       "      <td>38.4</td>\n",
       "      <td>91.0</td>\n",
       "      <td>44041.0</td>\n",
       "      <td>33057.0</td>\n",
       "      <td>85768.0</td>\n",
       "      <td>111260.0</td>\n",
       "      <td>66.1</td>\n",
       "      <td>4.1</td>\n",
       "      <td>Iron Running</td>\n",
       "      <td>3.0</td>\n",
       "    </tr>\n",
       "    <tr>\n",
       "      <th>3</th>\n",
       "      <td>4414</td>\n",
       "      <td>2022-05-22 09:00:00</td>\n",
       "      <td>9583150991463340343</td>\n",
       "      <td>529781945332660367</td>\n",
       "      <td>275.0</td>\n",
       "      <td>Iron Running</td>\n",
       "      <td>Pastel Magenta</td>\n",
       "      <td>Women</td>\n",
       "      <td>Running</td>\n",
       "      <td>8.5</td>\n",
       "      <td>...</td>\n",
       "      <td>38.4</td>\n",
       "      <td>91.0</td>\n",
       "      <td>44041.0</td>\n",
       "      <td>33057.0</td>\n",
       "      <td>85768.0</td>\n",
       "      <td>111260.0</td>\n",
       "      <td>66.1</td>\n",
       "      <td>4.1</td>\n",
       "      <td>Iron Running</td>\n",
       "      <td>3.0</td>\n",
       "    </tr>\n",
       "    <tr>\n",
       "      <th>4</th>\n",
       "      <td>9795</td>\n",
       "      <td>2022-05-22 16:00:00</td>\n",
       "      <td>12894699444984033920</td>\n",
       "      <td>9918956172069791431</td>\n",
       "      <td>224.0</td>\n",
       "      <td>Olympic Running</td>\n",
       "      <td>Prussian Blue</td>\n",
       "      <td>Women</td>\n",
       "      <td>Running</td>\n",
       "      <td>9.0</td>\n",
       "      <td>...</td>\n",
       "      <td>49.4</td>\n",
       "      <td>90.5</td>\n",
       "      <td>12592.0</td>\n",
       "      <td>9817.0</td>\n",
       "      <td>197000.0</td>\n",
       "      <td>329223.0</td>\n",
       "      <td>59.8</td>\n",
       "      <td>4.4</td>\n",
       "      <td>Olympic Running</td>\n",
       "      <td>1.0</td>\n",
       "    </tr>\n",
       "  </tbody>\n",
       "</table>\n",
       "<p>5 rows × 25 columns</p>\n",
       "</div>"
      ],
      "text/plain": [
       "   Unnamed: 0           timestamp        transaction_id        hash_customer  \\\n",
       "0          58 2022-05-22 14:00:00    701140827973030343   901098790880827689   \n",
       "1        2955 2022-05-22 08:00:00   5009790446010554491  6458481418216291208   \n",
       "2        4413 2022-05-22 09:00:00   9583150991463340343   529781945332660367   \n",
       "3        4414 2022-05-22 09:00:00   9583150991463340343   529781945332660367   \n",
       "4        9795 2022-05-22 16:00:00  12894699444984033920  9918956172069791431   \n",
       "\n",
       "   sale_amount    product_title         product_color product_gender  \\\n",
       "0         71.0  Olympic Running            Han Purple           Kids   \n",
       "1        224.0  Olympic Running  Vermilion (Plochere)            Men   \n",
       "2        275.0     Iron Running         Prussian Blue            Men   \n",
       "3        275.0     Iron Running        Pastel Magenta          Women   \n",
       "4        224.0  Olympic Running         Prussian Blue          Women   \n",
       "\n",
       "  product_category  product_size  ... zip_med_age zip_male_female_ratio  \\\n",
       "0          Running          12.5  ...        47.2                  87.2   \n",
       "1          Running           9.0  ...        28.4                  98.8   \n",
       "2          Running          14.5  ...        38.4                  91.0   \n",
       "3          Running           8.5  ...        38.4                  91.0   \n",
       "4          Running           9.0  ...        49.4                  90.5   \n",
       "\n",
       "   zip_tot_pop  zip_tot_white_nh  zip_med_hh_income  zip_mean_hh_income  \\\n",
       "0      30908.0           23172.0           163016.0            268666.0   \n",
       "1      75068.0           21235.0            55269.0             71979.0   \n",
       "2      44041.0           33057.0            85768.0            111260.0   \n",
       "3      44041.0           33057.0            85768.0            111260.0   \n",
       "4      12592.0            9817.0           197000.0            329223.0   \n",
       "\n",
       "   zip_pct_emp_lf  zip_unemp_rate       title_pred  title_rank  \n",
       "0            65.9             2.3  Olympic Running         1.0  \n",
       "1            62.6             7.0  Olympic Running         1.0  \n",
       "2            66.1             4.1     Iron Running         3.0  \n",
       "3            66.1             4.1     Iron Running         3.0  \n",
       "4            59.8             4.4  Olympic Running         1.0  \n",
       "\n",
       "[5 rows x 25 columns]"
      ]
     },
     "execution_count": 118,
     "metadata": {},
     "output_type": "execute_result"
    }
   ],
   "source": [
    "full_eval_df.head()"
   ]
  },
  {
   "cell_type": "code",
   "execution_count": 134,
   "id": "a313fa11",
   "metadata": {},
   "outputs": [
    {
     "data": {
      "text/plain": [
       "0.9552769778078943"
      ]
     },
     "execution_count": 134,
     "metadata": {},
     "output_type": "execute_result"
    }
   ],
   "source": [
    "# Percent of test purchases that were in top 10\n",
    "full_eval_df['title_rank'].count() / full_eval_df.shape[0]"
   ]
  },
  {
   "cell_type": "code",
   "execution_count": 135,
   "id": "058b12da",
   "metadata": {},
   "outputs": [
    {
     "data": {
      "text/plain": [
       "3.7389608086540167"
      ]
     },
     "execution_count": 135,
     "metadata": {},
     "output_type": "execute_result"
    }
   ],
   "source": [
    "full_eval_df['title_rank'].mean()"
   ]
  },
  {
   "cell_type": "code",
   "execution_count": 136,
   "id": "08c6d80d",
   "metadata": {},
   "outputs": [
    {
     "data": {
      "text/plain": [
       "<AxesSubplot:>"
      ]
     },
     "execution_count": 136,
     "metadata": {},
     "output_type": "execute_result"
    },
    {
     "data": {
      "image/png": "[encoded data removed]",
      "text/plain": [
       "<Figure size 432x288 with 1 Axes>"
      ]
     },
     "metadata": {
      "needs_background": "light"
     },
     "output_type": "display_data"
    }
   ],
   "source": [
    "full_eval_df['title_rank'].hist()"
   ]
  },
  {
   "cell_type": "code",
   "execution_count": null,
   "id": "7417b07b",
   "metadata": {},
   "outputs": [],
   "source": []
  },
  {
   "cell_type": "code",
   "execution_count": null,
   "id": "02f2f95a",
   "metadata": {},
   "outputs": [],
   "source": []
  },
  {
   "cell_type": "code",
   "execution_count": null,
   "id": "6bb45765",
   "metadata": {},
   "outputs": [],
   "source": [
    "# Assuming the joined dataframe is named 'joined_df'\n",
    "# and the predicted recommended items are stored in a column named 'predicted_items'\n",
    "# and the actual purchased items are stored in a column named 'actual_items'\n",
    "\n",
    "k = 10  # set the value of k for precision at k\n",
    "\n",
    "# Define a function to calculate precision at k\n",
    "def precision_at_k(row):\n",
    "    predicted_items = row['predicted_items'][:k]  # get the top k predicted items\n",
    "    actual_items = row['actual_items']\n",
    "    if len(predicted_items) == 0:\n",
    "        return 0  # if there are no predicted items, precision is 0\n",
    "    else:\n",
    "        # calculate precision as the number of correctly predicted items\n",
    "        # divided by the total number of predicted items\n",
    "        precision = len(set(predicted_items).intersection(actual_items)) / float(len(predicted_items))\n",
    "        return precision\n",
    "\n",
    "# Apply the precision_at_k function to each row in the joined_df and store the results in a new column\n",
    "joined_df['precision_at_k'] = joined_df.apply(precision_at_k, axis=1)\n",
    "\n",
    "# Calculate the mean precision at k for all rows in the joined_df\n",
    "mean_precision_at_k = joined_df['precision_at_k'].mean()\n",
    "\n",
    "print(\"Mean precision at k of\", k, \":\", mean_precision_at_k)"
   ]
  },
  {
   "cell_type": "code",
   "execution_count": null,
   "id": "58b30e58",
   "metadata": {},
   "outputs": [],
   "source": []
  },
  {
   "cell_type": "code",
   "execution_count": null,
   "id": "01218a91",
   "metadata": {},
   "outputs": [],
   "source": []
  },
  {
   "cell_type": "code",
   "execution_count": null,
   "id": "47b2d413",
   "metadata": {},
   "outputs": [],
   "source": []
  },
  {
   "cell_type": "code",
   "execution_count": null,
   "id": "625125e9",
   "metadata": {},
   "outputs": [],
   "source": []
  },
  {
   "cell_type": "code",
   "execution_count": null,
   "id": "6230dc2b",
   "metadata": {},
   "outputs": [],
   "source": []
  },
  {
   "cell_type": "code",
   "execution_count": null,
   "id": "1fcd6dac",
   "metadata": {},
   "outputs": [],
   "source": []
  }
 ],
 "metadata": {
  "kernelspec": {
   "display_name": "Python 3",
   "language": "python",
   "name": "python3"
  },
  "language_info": {
   "codemirror_mode": {
    "name": "ipython",
    "version": 3
   },
   "file_extension": ".py",
   "mimetype": "text/x-python",
   "name": "python",
   "nbconvert_exporter": "python",
   "pygments_lexer": "ipython3",
   "version": "3.8.8"
  }
 },
 "nbformat": 4,
 "nbformat_minor": 5
}
