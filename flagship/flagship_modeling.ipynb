{
 "cells": [
  {
   "cell_type": "markdown",
   "id": "3e6cfc17",
   "metadata": {},
   "source": [
    "# Modeling"
   ]
  },
  {
   "cell_type": "code",
   "execution_count": 1,
   "id": "a381e456",
   "metadata": {},
   "outputs": [],
   "source": [
    "import pandas as pd\n",
    "import numpy as np\n",
    "import random\n",
    "from datetime import timedelta"
   ]
  },
  {
   "cell_type": "markdown",
   "id": "26b96132",
   "metadata": {},
   "source": [
    "#### Import data"
   ]
  },
  {
   "cell_type": "code",
   "execution_count": 2,
   "id": "564fe453",
   "metadata": {},
   "outputs": [
    {
     "data": {
      "text/plain": [
       "'C:\\\\Users\\\\jerem\\\\Desktop\\\\nonsense\\\\flagship'"
      ]
     },
     "execution_count": 2,
     "metadata": {},
     "output_type": "execute_result"
    }
   ],
   "source": [
    "pwd"
   ]
  },
  {
   "cell_type": "code",
   "execution_count": 3,
   "id": "5e947fa7",
   "metadata": {},
   "outputs": [
    {
     "name": "stdout",
     "output_type": "stream",
     "text": [
      "(3125, 6)\n",
      "(32151, 23)\n"
     ]
    }
   ],
   "source": [
    "toy_dataset_df = pd.read_csv('toy_dataset_1_10_23.csv')\n",
    "toy_products_df = pd.read_csv('toy_products_1_10_23.csv')\n",
    "\n",
    "print(toy_products_df.shape)\n",
    "print(toy_dataset_df.shape)"
   ]
  },
  {
   "cell_type": "markdown",
   "id": "9273a87a",
   "metadata": {},
   "source": [
    "#### Clean data"
   ]
  },
  {
   "cell_type": "code",
   "execution_count": 4,
   "id": "a486eee4",
   "metadata": {},
   "outputs": [],
   "source": [
    "toy_dataset_df['timestamp'] = pd.to_datetime(toy_dataset_df['timestamp'])"
   ]
  },
  {
   "cell_type": "code",
   "execution_count": 5,
   "id": "19631a6d",
   "metadata": {},
   "outputs": [],
   "source": [
    "# Filter to only 'Online Store'\n",
    "toy_dataset_df = toy_dataset_df[toy_dataset_df['point_of_sales']=='Online Store']"
   ]
  },
  {
   "cell_type": "code",
   "execution_count": 6,
   "id": "01319508",
   "metadata": {},
   "outputs": [
    {
     "data": {
      "text/plain": [
       "(29338, 23)"
      ]
     },
     "execution_count": 6,
     "metadata": {},
     "output_type": "execute_result"
    }
   ],
   "source": [
    "toy_dataset_df.shape"
   ]
  },
  {
   "cell_type": "code",
   "execution_count": 7,
   "id": "c6ced7b6",
   "metadata": {},
   "outputs": [],
   "source": [
    "# Add column for transaction number for each user\n",
    "df_sorted = toy_dataset_df.sort_values('timestamp').groupby(['hash_customer', 'timestamp']).first().reset_index()\n",
    "df_sorted['transaction_num'] = df_sorted.groupby('hash_customer', sort=False)['timestamp'].rank(method='dense')\n",
    "# Merge the transaction number back into the original dataframe\n",
    "toy_dataset_df = toy_dataset_df.merge(df_sorted[['hash_customer', 'timestamp', 'transaction_num']], \n",
    "                                      on=['hash_customer', 'timestamp'])"
   ]
  },
  {
   "cell_type": "markdown",
   "id": "b6236bb3",
   "metadata": {},
   "source": [
    "#### Create train, test data sets based on date split"
   ]
  },
  {
   "cell_type": "code",
   "execution_count": 8,
   "id": "bddc7ca2",
   "metadata": {},
   "outputs": [],
   "source": [
    "# create title-gender field\n",
    "toy_dataset_df.loc[:,'product_title_gender'] = toy_dataset_df['product_title'] + '-' + toy_dataset_df['product_gender']"
   ]
  },
  {
   "cell_type": "code",
   "execution_count": 9,
   "id": "de6b8628",
   "metadata": {},
   "outputs": [],
   "source": [
    "split_date = '2022-04-01' # choose a date to split the data - roughly 80/20 split\n",
    "train = toy_dataset_df[toy_dataset_df['timestamp'] < split_date]\n",
    "test = toy_dataset_df[toy_dataset_df['timestamp'] >= split_date]"
   ]
  },
  {
   "cell_type": "code",
   "execution_count": 10,
   "id": "8c695d5c",
   "metadata": {},
   "outputs": [
    {
     "name": "stdout",
     "output_type": "stream",
     "text": [
      "230\n",
      "894\n"
     ]
    }
   ],
   "source": [
    "test_dates = test['timestamp'].dt.date.unique().tolist()\n",
    "print(len(test_dates))\n",
    "train_dates = train['timestamp'].dt.date.unique().tolist()\n",
    "print(len(train_dates))"
   ]
  },
  {
   "cell_type": "code",
   "execution_count": 11,
   "id": "a61e4033",
   "metadata": {},
   "outputs": [
    {
     "data": {
      "text/plain": [
       "81.98"
      ]
     },
     "execution_count": 11,
     "metadata": {},
     "output_type": "execute_result"
    }
   ],
   "source": [
    "# percent of data in training data set\n",
    "round(train.shape[0] / toy_dataset_df.shape[0] * 100.0,2)"
   ]
  },
  {
   "cell_type": "code",
   "execution_count": 12,
   "id": "67dbfd59",
   "metadata": {},
   "outputs": [
    {
     "name": "stdout",
     "output_type": "stream",
     "text": [
      "(24050, 25)\n",
      "(5288, 25)\n"
     ]
    }
   ],
   "source": [
    "print(train.shape)\n",
    "print(test.shape)"
   ]
  },
  {
   "cell_type": "markdown",
   "id": "d0520396",
   "metadata": {},
   "source": [
    "### Baseline Model - top 10 titles over previous week"
   ]
  },
  {
   "cell_type": "code",
   "execution_count": 13,
   "id": "454a6ce2",
   "metadata": {},
   "outputs": [],
   "source": [
    "def get_top10_title_preds(as_of_dt, prev_days=7, top_n=10):\n",
    "    \"\"\"\n",
    "    Function to return the top 10 most popular product_titles sold in previous n days from as_of date\n",
    "    Returns a pandas dataframe of 10 records\n",
    "    \"\"\"\n",
    "    given_date = pd.to_datetime(as_of_dt)\n",
    "    start_date = given_date - timedelta(days=prev_days)\n",
    "    last_week_df = toy_dataset_df[(toy_dataset_df['timestamp']<given_date) & (toy_dataset_df['timestamp']>start_date)]\n",
    "    top10_last_wk_df = last_week_df.groupby('product_title').size().reset_index(name='count').sort_values('count', ascending=False).head(top_n)\n",
    "    top10_last_wk_df['transaction_date'] = as_of_dt\n",
    "    top10_last_wk_df['title_rank'] = top10_last_wk_df['count'].rank(method='first', ascending=False)\n",
    "    top10_last_wk_df.columns = ['title_pred', 'prev_wk_cnt', 'transaction_date', 'pred_rank']\n",
    "    return top10_last_wk_df"
   ]
  },
  {
   "cell_type": "code",
   "execution_count": 14,
   "id": "ece04672",
   "metadata": {},
   "outputs": [
    {
     "data": {
      "text/html": [
       "<div>\n",
       "<style scoped>\n",
       "    .dataframe tbody tr th:only-of-type {\n",
       "        vertical-align: middle;\n",
       "    }\n",
       "\n",
       "    .dataframe tbody tr th {\n",
       "        vertical-align: top;\n",
       "    }\n",
       "\n",
       "    .dataframe thead th {\n",
       "        text-align: right;\n",
       "    }\n",
       "</style>\n",
       "<table border=\"1\" class=\"dataframe\">\n",
       "  <thead>\n",
       "    <tr style=\"text-align: right;\">\n",
       "      <th></th>\n",
       "      <th>title_pred</th>\n",
       "      <th>prev_wk_cnt</th>\n",
       "      <th>transaction_date</th>\n",
       "      <th>pred_rank</th>\n",
       "    </tr>\n",
       "  </thead>\n",
       "  <tbody>\n",
       "    <tr>\n",
       "      <th>4</th>\n",
       "      <td>Olympic Running</td>\n",
       "      <td>64</td>\n",
       "      <td>2021-08-13</td>\n",
       "      <td>1.0</td>\n",
       "    </tr>\n",
       "    <tr>\n",
       "      <th>2</th>\n",
       "      <td>Iron Running</td>\n",
       "      <td>31</td>\n",
       "      <td>2021-08-13</td>\n",
       "      <td>2.0</td>\n",
       "    </tr>\n",
       "    <tr>\n",
       "      <th>8</th>\n",
       "      <td>Vanguard Sandal</td>\n",
       "      <td>12</td>\n",
       "      <td>2021-08-13</td>\n",
       "      <td>3.0</td>\n",
       "    </tr>\n",
       "    <tr>\n",
       "      <th>0</th>\n",
       "      <td>Classic Sneaker</td>\n",
       "      <td>9</td>\n",
       "      <td>2021-08-13</td>\n",
       "      <td>4.0</td>\n",
       "    </tr>\n",
       "    <tr>\n",
       "      <th>1</th>\n",
       "      <td>Hustler Boot</td>\n",
       "      <td>9</td>\n",
       "      <td>2021-08-13</td>\n",
       "      <td>5.0</td>\n",
       "    </tr>\n",
       "    <tr>\n",
       "      <th>3</th>\n",
       "      <td>League Running</td>\n",
       "      <td>8</td>\n",
       "      <td>2021-08-13</td>\n",
       "      <td>6.0</td>\n",
       "    </tr>\n",
       "    <tr>\n",
       "      <th>5</th>\n",
       "      <td>Rogue Sneaker</td>\n",
       "      <td>8</td>\n",
       "      <td>2021-08-13</td>\n",
       "      <td>7.0</td>\n",
       "    </tr>\n",
       "    <tr>\n",
       "      <th>6</th>\n",
       "      <td>Scalar Sandal</td>\n",
       "      <td>4</td>\n",
       "      <td>2021-08-13</td>\n",
       "      <td>8.0</td>\n",
       "    </tr>\n",
       "    <tr>\n",
       "      <th>7</th>\n",
       "      <td>Stacked Hiking Boot</td>\n",
       "      <td>2</td>\n",
       "      <td>2021-08-13</td>\n",
       "      <td>9.0</td>\n",
       "    </tr>\n",
       "  </tbody>\n",
       "</table>\n",
       "</div>"
      ],
      "text/plain": [
       "            title_pred  prev_wk_cnt transaction_date  pred_rank\n",
       "4      Olympic Running           64       2021-08-13        1.0\n",
       "2         Iron Running           31       2021-08-13        2.0\n",
       "8      Vanguard Sandal           12       2021-08-13        3.0\n",
       "0      Classic Sneaker            9       2021-08-13        4.0\n",
       "1         Hustler Boot            9       2021-08-13        5.0\n",
       "3       League Running            8       2021-08-13        6.0\n",
       "5        Rogue Sneaker            8       2021-08-13        7.0\n",
       "6        Scalar Sandal            4       2021-08-13        8.0\n",
       "7  Stacked Hiking Boot            2       2021-08-13        9.0"
      ]
     },
     "execution_count": 14,
     "metadata": {},
     "output_type": "execute_result"
    }
   ],
   "source": [
    "get_top10_title_preds(as_of_dt='2021-08-13')"
   ]
  },
  {
   "cell_type": "code",
   "execution_count": 15,
   "id": "7c474843",
   "metadata": {},
   "outputs": [
    {
     "name": "stdout",
     "output_type": "stream",
     "text": [
      "0,1,2,3,4,5,6,7,8,9,10,11,12,13,14,15,16,17,18,19,20,21,22,23,24,25,26,27,28,29,30,31,32,33,34,35,36,37,38,39,40,41,42,43,44,45,46,47,48,49,50,51,52,53,54,55,56,57,58,59,60,61,62,63,64,65,66,67,68,69,70,71,72,73,74,75,76,77,78,79,80,81,82,83,84,85,86,87,88,89,90,91,92,93,94,95,96,97,98,99,100,101,102,103,104,105,106,107,108,109,110,111,112,113,114,115,116,117,118,119,120,121,122,123,124,125,126,127,128,129,130,131,132,133,134,135,136,137,138,139,140,141,142,143,144,145,146,147,148,149,150,151,152,153,154,155,156,157,158,159,160,161,162,163,164,165,166,167,168,169,170,171,172,173,174,175,176,177,178,179,180,181,182,183,184,185,186,187,188,189,190,191,192,193,194,195,196,197,198,199,200,201,202,203,204,205,206,207,208,209,210,211,212,213,214,215,216,217,218,219,220,221,222,223,224,225,226,227,228,229,"
     ]
    }
   ],
   "source": [
    "# Loop over test dates, create preds, join preds back to transactions to create eval_df\n",
    "\n",
    "full_eval_df = pd.DataFrame()\n",
    "\n",
    "for index, test_dt in enumerate(test_dates):\n",
    "    print(index, end=',')\n",
    "    \n",
    "    pred_df = get_top10_title_preds(as_of_dt=test_dt)\n",
    "    \n",
    "    # Join the recommended item predictions to the test data set on the transaction date\n",
    "    join_df = pd.merge(left=test[test['timestamp'].dt.date==test_dt], \n",
    "                       right=pred_df[['title_pred','pred_rank']], \n",
    "                       left_on='product_title',\n",
    "                       right_on='title_pred',\n",
    "                       how='left')\n",
    "    \n",
    "    full_eval_df = pd.concat([full_eval_df, join_df])"
   ]
  },
  {
   "cell_type": "code",
   "execution_count": 16,
   "id": "e0bdbe5f",
   "metadata": {},
   "outputs": [],
   "source": [
    "assert full_eval_df.shape[0] == test.shape[0]"
   ]
  },
  {
   "cell_type": "code",
   "execution_count": 17,
   "id": "9b7f298d",
   "metadata": {},
   "outputs": [],
   "source": [
    "def print_eval_metrics(eval_df):\n",
    "    pct_purchases_top10 = round(eval_df['pred_rank'].count() / eval_df.shape[0],2) * 100.0\n",
    "    avg_rank = round(eval_df['pred_rank'].mean(),2)\n",
    "    reciprocal_ranks = 1 / eval_df['pred_rank']\n",
    "    mrr = round(np.mean(reciprocal_ranks),3)\n",
    "    print(f'Percent of purchases ranked in top 10: {pct_purchases_top10}%')\n",
    "    print(f'Average rank of purchases: {avg_rank}')\n",
    "    print(f'Mean Reciprocal Rank: {mrr}')"
   ]
  },
  {
   "cell_type": "code",
   "execution_count": 18,
   "id": "6d5d2a1d",
   "metadata": {},
   "outputs": [
    {
     "name": "stdout",
     "output_type": "stream",
     "text": [
      "Percent of purchases ranked in top 10: 95.0%\n",
      "Average rank of purchases: 3.73\n",
      "Mean Reciprocal Rank: 0.49\n"
     ]
    }
   ],
   "source": [
    "print_eval_metrics(eval_df=full_eval_df)"
   ]
  },
  {
   "cell_type": "code",
   "execution_count": 19,
   "id": "1a927219",
   "metadata": {},
   "outputs": [],
   "source": [
    "def print_category_eval_metrics(eval_df, category_var):\n",
    "    categories = eval_df[category_var].unique()\n",
    "    for category in categories:\n",
    "        df_category = eval_df[eval_df[category_var] == category]\n",
    "        print(f'{category} purchases: {df_category.shape[0]}')\n",
    "        pct_purchases_top10 = round(df_category['pred_rank'].count() / df_category.shape[0],2) * 100.0\n",
    "        print(f'{category} purchases ranked in top 10: {pct_purchases_top10}%')\n",
    "        avg_rank = round(df_category['pred_rank'].mean(),2)\n",
    "        print(f'{category} avg rank of purchases: {avg_rank}')\n",
    "        reciprocal_ranks = 1 / df_category['pred_rank']\n",
    "        mrr = np.mean(reciprocal_ranks)\n",
    "        print(f\"{category} MRR: {mrr:.3f}\")\n",
    "        print('')"
   ]
  },
  {
   "cell_type": "code",
   "execution_count": 20,
   "id": "8e067ed6",
   "metadata": {},
   "outputs": [
    {
     "name": "stdout",
     "output_type": "stream",
     "text": [
      "Running purchases: 3119\n",
      "Running purchases ranked in top 10: 100.0%\n",
      "Running avg rank of purchases: 2.39\n",
      "Running MRR: 0.657\n",
      "\n",
      "Boot purchases: 976\n",
      "Boot purchases ranked in top 10: 90.0%\n",
      "Boot avg rank of purchases: 4.73\n",
      "Boot MRR: 0.283\n",
      "\n",
      "Sneaker purchases: 586\n",
      "Sneaker purchases ranked in top 10: 92.0%\n",
      "Sneaker avg rank of purchases: 6.89\n",
      "Sneaker MRR: 0.167\n",
      "\n",
      "Sandal purchases: 607\n",
      "Sandal purchases ranked in top 10: 84.0%\n",
      "Sandal avg rank of purchases: 6.8\n",
      "Sandal MRR: 0.171\n",
      "\n"
     ]
    }
   ],
   "source": [
    "print_category_eval_metrics(eval_df=full_eval_df, \n",
    "                            category_var = 'product_category')"
   ]
  },
  {
   "cell_type": "code",
   "execution_count": 21,
   "id": "8ef487f6",
   "metadata": {},
   "outputs": [
    {
     "name": "stdout",
     "output_type": "stream",
     "text": [
      "Kids purchases: 241\n",
      "Kids purchases ranked in top 10: 100.0%\n",
      "Kids avg rank of purchases: 1.02\n",
      "Kids MRR: 0.992\n",
      "\n",
      "Men purchases: 1481\n",
      "Men purchases ranked in top 10: 96.0%\n",
      "Men avg rank of purchases: 4.32\n",
      "Men MRR: 0.369\n",
      "\n",
      "Women purchases: 3247\n",
      "Women purchases ranked in top 10: 97.0%\n",
      "Women avg rank of purchases: 3.82\n",
      "Women MRR: 0.478\n",
      "\n",
      "Unisex purchases: 130\n",
      "Unisex purchases ranked in top 10: 38.0%\n",
      "Unisex avg rank of purchases: 4.56\n",
      "Unisex MRR: 0.334\n",
      "\n",
      "Youth purchases: 189\n",
      "Youth purchases ranked in top 10: 100.0%\n",
      "Youth avg rank of purchases: 1.02\n",
      "Youth MRR: 0.989\n",
      "\n"
     ]
    }
   ],
   "source": [
    "print_category_eval_metrics(eval_df=full_eval_df, \n",
    "                            category_var = 'product_gender')"
   ]
  },
  {
   "cell_type": "code",
   "execution_count": null,
   "id": "7601889a",
   "metadata": {},
   "outputs": [],
   "source": []
  },
  {
   "cell_type": "markdown",
   "id": "e1b9ae94",
   "metadata": {},
   "source": [
    "### Baseline model - top 10 title-gender products over previous week"
   ]
  },
  {
   "cell_type": "code",
   "execution_count": 22,
   "id": "580974de",
   "metadata": {},
   "outputs": [],
   "source": [
    "def get_top10_title_gender_preds(as_of_dt, prev_days=7, top_n=10):\n",
    "    \"\"\"\n",
    "    Function to return the top 10 most popular title-gender products sold in previous n days from as_of date\n",
    "    Returns a pandas dataframe of 10 records\n",
    "    \"\"\"\n",
    "    given_date = pd.to_datetime(as_of_dt)\n",
    "    start_date = given_date - timedelta(days=prev_days)\n",
    "    last_week_df = toy_dataset_df[(toy_dataset_df['timestamp']<given_date) & \n",
    "                                  (toy_dataset_df['timestamp']>start_date)]\n",
    "    top10_last_wk_df = last_week_df.groupby(['product_title', 'product_gender']).size().reset_index(name='count').sort_values('count', ascending=False).head(top_n)\n",
    "    top10_last_wk_df['title_rank'] = top10_last_wk_df['count'].rank(method='first', ascending=False)\n",
    "    top10_last_wk_df.columns = ['title_pred', 'gender_pred', 'prev_wk_cnt', 'pred_rank']\n",
    "    top10_last_wk_df['transaction_date'] = as_of_dt\n",
    "    return top10_last_wk_df"
   ]
  },
  {
   "cell_type": "code",
   "execution_count": 23,
   "id": "232a7a35",
   "metadata": {},
   "outputs": [
    {
     "data": {
      "text/html": [
       "<div>\n",
       "<style scoped>\n",
       "    .dataframe tbody tr th:only-of-type {\n",
       "        vertical-align: middle;\n",
       "    }\n",
       "\n",
       "    .dataframe tbody tr th {\n",
       "        vertical-align: top;\n",
       "    }\n",
       "\n",
       "    .dataframe thead th {\n",
       "        text-align: right;\n",
       "    }\n",
       "</style>\n",
       "<table border=\"1\" class=\"dataframe\">\n",
       "  <thead>\n",
       "    <tr style=\"text-align: right;\">\n",
       "      <th></th>\n",
       "      <th>title_pred</th>\n",
       "      <th>gender_pred</th>\n",
       "      <th>prev_wk_cnt</th>\n",
       "      <th>pred_rank</th>\n",
       "      <th>transaction_date</th>\n",
       "    </tr>\n",
       "  </thead>\n",
       "  <tbody>\n",
       "    <tr>\n",
       "      <th>13</th>\n",
       "      <td>Olympic Running</td>\n",
       "      <td>Women</td>\n",
       "      <td>26</td>\n",
       "      <td>1.0</td>\n",
       "      <td>2022-08-13</td>\n",
       "    </tr>\n",
       "    <tr>\n",
       "      <th>8</th>\n",
       "      <td>League Running</td>\n",
       "      <td>Women</td>\n",
       "      <td>16</td>\n",
       "      <td>2.0</td>\n",
       "      <td>2022-08-13</td>\n",
       "    </tr>\n",
       "    <tr>\n",
       "      <th>0</th>\n",
       "      <td>Bejeweled Boot</td>\n",
       "      <td>Unisex</td>\n",
       "      <td>15</td>\n",
       "      <td>3.0</td>\n",
       "      <td>2022-08-13</td>\n",
       "    </tr>\n",
       "    <tr>\n",
       "      <th>6</th>\n",
       "      <td>Iron Running</td>\n",
       "      <td>Women</td>\n",
       "      <td>15</td>\n",
       "      <td>4.0</td>\n",
       "      <td>2022-08-13</td>\n",
       "    </tr>\n",
       "    <tr>\n",
       "      <th>4</th>\n",
       "      <td>Hustler Boot</td>\n",
       "      <td>Women</td>\n",
       "      <td>12</td>\n",
       "      <td>5.0</td>\n",
       "      <td>2022-08-13</td>\n",
       "    </tr>\n",
       "    <tr>\n",
       "      <th>14</th>\n",
       "      <td>Olympic Running</td>\n",
       "      <td>Youth</td>\n",
       "      <td>8</td>\n",
       "      <td>6.0</td>\n",
       "      <td>2022-08-13</td>\n",
       "    </tr>\n",
       "    <tr>\n",
       "      <th>10</th>\n",
       "      <td>Marathon Running</td>\n",
       "      <td>Women</td>\n",
       "      <td>8</td>\n",
       "      <td>7.0</td>\n",
       "      <td>2022-08-13</td>\n",
       "    </tr>\n",
       "    <tr>\n",
       "      <th>21</th>\n",
       "      <td>Stacked Hiking Boot</td>\n",
       "      <td>Women</td>\n",
       "      <td>7</td>\n",
       "      <td>8.0</td>\n",
       "      <td>2022-08-13</td>\n",
       "    </tr>\n",
       "    <tr>\n",
       "      <th>17</th>\n",
       "      <td>Rogue Sneaker</td>\n",
       "      <td>Women</td>\n",
       "      <td>7</td>\n",
       "      <td>9.0</td>\n",
       "      <td>2022-08-13</td>\n",
       "    </tr>\n",
       "    <tr>\n",
       "      <th>5</th>\n",
       "      <td>Iron Running</td>\n",
       "      <td>Men</td>\n",
       "      <td>7</td>\n",
       "      <td>10.0</td>\n",
       "      <td>2022-08-13</td>\n",
       "    </tr>\n",
       "  </tbody>\n",
       "</table>\n",
       "</div>"
      ],
      "text/plain": [
       "             title_pred gender_pred  prev_wk_cnt  pred_rank transaction_date\n",
       "13      Olympic Running       Women           26        1.0       2022-08-13\n",
       "8        League Running       Women           16        2.0       2022-08-13\n",
       "0        Bejeweled Boot      Unisex           15        3.0       2022-08-13\n",
       "6          Iron Running       Women           15        4.0       2022-08-13\n",
       "4          Hustler Boot       Women           12        5.0       2022-08-13\n",
       "14      Olympic Running       Youth            8        6.0       2022-08-13\n",
       "10     Marathon Running       Women            8        7.0       2022-08-13\n",
       "21  Stacked Hiking Boot       Women            7        8.0       2022-08-13\n",
       "17        Rogue Sneaker       Women            7        9.0       2022-08-13\n",
       "5          Iron Running         Men            7       10.0       2022-08-13"
      ]
     },
     "execution_count": 23,
     "metadata": {},
     "output_type": "execute_result"
    }
   ],
   "source": [
    "get_top10_title_gender_preds(as_of_dt = '2022-08-13', prev_days=7, top_n=10)"
   ]
  },
  {
   "cell_type": "code",
   "execution_count": 24,
   "id": "fcc391d4",
   "metadata": {},
   "outputs": [
    {
     "name": "stdout",
     "output_type": "stream",
     "text": [
      "0,1,2,3,4,5,6,7,8,9,10,11,12,13,14,15,16,17,18,19,20,21,22,23,24,25,26,27,28,29,30,31,32,33,34,35,36,37,38,39,40,41,42,43,44,45,46,47,48,49,50,51,52,53,54,55,56,57,58,59,60,61,62,63,64,65,66,67,68,69,70,71,72,73,74,75,76,77,78,79,80,81,82,83,84,85,86,87,88,89,90,91,92,93,94,95,96,97,98,99,100,101,102,103,104,105,106,107,108,109,110,111,112,113,114,115,116,117,118,119,120,121,122,123,124,125,126,127,128,129,130,131,132,133,134,135,136,137,138,139,140,141,142,143,144,145,146,147,148,149,150,151,152,153,154,155,156,157,158,159,160,161,162,163,164,165,166,167,168,169,170,171,172,173,174,175,176,177,178,179,180,181,182,183,184,185,186,187,188,189,190,191,192,193,194,195,196,197,198,199,200,201,202,203,204,205,206,207,208,209,210,211,212,213,214,215,216,217,218,219,220,221,222,223,224,225,226,227,228,229,"
     ]
    }
   ],
   "source": [
    "# Loop over test dates, create preds, join preds back to transactions to create eval_df\n",
    "\n",
    "full_eval_df = pd.DataFrame()\n",
    "\n",
    "for index, test_dt in enumerate(test_dates):\n",
    "    print(index, end=',')\n",
    "    \n",
    "    pred_df = get_top10_title_gender_preds(as_of_dt=test_dt)\n",
    "    \n",
    "    # Join the recommended item predictions to the test data set on the transaction date\n",
    "    join_df = pd.merge(left=test[test['timestamp'].dt.date==test_dt], \n",
    "                       right=pred_df[['title_pred', 'gender_pred', 'pred_rank']], \n",
    "                       left_on=['product_title','product_gender'],\n",
    "                       right_on=['title_pred', 'gender_pred'],\n",
    "                       how='left')\n",
    "    \n",
    "    full_eval_df = pd.concat([full_eval_df, join_df])"
   ]
  },
  {
   "cell_type": "code",
   "execution_count": 25,
   "id": "44a1ba86",
   "metadata": {},
   "outputs": [],
   "source": [
    "assert full_eval_df.shape[0] == test.shape[0]"
   ]
  },
  {
   "cell_type": "code",
   "execution_count": 26,
   "id": "ce1c08cf",
   "metadata": {},
   "outputs": [
    {
     "name": "stdout",
     "output_type": "stream",
     "text": [
      "Percent of purchases ranked in top 10: 63.0%\n",
      "Average rank of purchases: 4.21\n",
      "Mean Reciprocal Rank: 0.449\n"
     ]
    }
   ],
   "source": [
    "print_eval_metrics(eval_df=full_eval_df)"
   ]
  },
  {
   "cell_type": "code",
   "execution_count": 27,
   "id": "4a377ab7",
   "metadata": {},
   "outputs": [
    {
     "data": {
      "text/plain": [
       "<AxesSubplot:>"
      ]
     },
     "execution_count": 27,
     "metadata": {},
     "output_type": "execute_result"
    },
    {
     "data": {
      "image/png": "[encoded data removed]",
      "text/plain": [
       "<Figure size 432x288 with 1 Axes>"
      ]
     },
     "metadata": {
      "needs_background": "light"
     },
     "output_type": "display_data"
    }
   ],
   "source": [
    "full_eval_df['pred_rank'].hist()"
   ]
  },
  {
   "cell_type": "code",
   "execution_count": 28,
   "id": "99cc030f",
   "metadata": {},
   "outputs": [
    {
     "name": "stdout",
     "output_type": "stream",
     "text": [
      "Running purchases: 3119\n",
      "Running purchases ranked in top 10: 78.0%\n",
      "Running avg rank of purchases: 3.89\n",
      "Running MRR: 0.500\n",
      "\n",
      "Boot purchases: 976\n",
      "Boot purchases ranked in top 10: 59.0%\n",
      "Boot avg rank of purchases: 3.96\n",
      "Boot MRR: 0.392\n",
      "\n",
      "Sneaker purchases: 586\n",
      "Sneaker purchases ranked in top 10: 26.0%\n",
      "Sneaker avg rank of purchases: 7.31\n",
      "Sneaker MRR: 0.176\n",
      "\n",
      "Sandal purchases: 607\n",
      "Sandal purchases ranked in top 10: 31.0%\n",
      "Sandal avg rank of purchases: 6.53\n",
      "Sandal MRR: 0.179\n",
      "\n"
     ]
    }
   ],
   "source": [
    "print_category_eval_metrics(eval_df=full_eval_df, \n",
    "                            category_var = 'product_category')"
   ]
  },
  {
   "cell_type": "code",
   "execution_count": 29,
   "id": "a4f3b76f",
   "metadata": {},
   "outputs": [
    {
     "name": "stdout",
     "output_type": "stream",
     "text": [
      "Kids purchases: 241\n",
      "Kids purchases ranked in top 10: 59.0%\n",
      "Kids avg rank of purchases: 6.25\n",
      "Kids MRR: 0.203\n",
      "\n",
      "Men purchases: 1481\n",
      "Men purchases ranked in top 10: 42.0%\n",
      "Men avg rank of purchases: 6.46\n",
      "Men MRR: 0.205\n",
      "\n",
      "Women purchases: 3247\n",
      "Women purchases ranked in top 10: 76.0%\n",
      "Women avg rank of purchases: 3.49\n",
      "Women MRR: 0.528\n",
      "\n",
      "Unisex purchases: 130\n",
      "Unisex purchases ranked in top 10: 28.999999999999996%\n",
      "Unisex avg rank of purchases: 2.21\n",
      "Unisex MRR: 0.761\n",
      "\n",
      "Youth purchases: 189\n",
      "Youth purchases ranked in top 10: 42.0%\n",
      "Youth avg rank of purchases: 6.54\n",
      "Youth MRR: 0.184\n",
      "\n"
     ]
    }
   ],
   "source": [
    "print_category_eval_metrics(eval_df=full_eval_df, \n",
    "                            category_var = 'product_gender')"
   ]
  },
  {
   "cell_type": "code",
   "execution_count": null,
   "id": "6400636a",
   "metadata": {},
   "outputs": [],
   "source": []
  },
  {
   "cell_type": "markdown",
   "id": "6b34b2de",
   "metadata": {},
   "source": [
    "### Collaborative Filtering"
   ]
  },
  {
   "cell_type": "code",
   "execution_count": null,
   "id": "4b6fd0bb",
   "metadata": {},
   "outputs": [],
   "source": [
    "from surprise import Dataset\n",
    "from surprise import Reader\n",
    "from surprise import KNNBasic\n",
    "from surprise.model_selection import train_test_split"
   ]
  },
  {
   "cell_type": "code",
   "execution_count": null,
   "id": "3d0da146",
   "metadata": {},
   "outputs": [],
   "source": [
    "# Define the Reader object\n",
    "reader = Reader(rating_scale=(0, 1))"
   ]
  },
  {
   "cell_type": "code",
   "execution_count": null,
   "id": "0589ee47",
   "metadata": {},
   "outputs": [],
   "source": [
    "cf_train_data_set = train.groupby(['hash_customer', 'product_title_gender']).size().reset_index(name='count')"
   ]
  },
  {
   "cell_type": "code",
   "execution_count": null,
   "id": "88782621",
   "metadata": {},
   "outputs": [],
   "source": [
    "cf_train_data_set.head()"
   ]
  },
  {
   "cell_type": "code",
   "execution_count": null,
   "id": "f149128b",
   "metadata": {},
   "outputs": [],
   "source": [
    "# Load the data into the Surprise dataset format\n",
    "data = Dataset.load_from_df(cf_train_data_set, reader)"
   ]
  },
  {
   "cell_type": "code",
   "execution_count": null,
   "id": "c21867ea",
   "metadata": {},
   "outputs": [],
   "source": [
    "# Split the data into training and test sets\n",
    "trainset, testset = train_test_split(data, test_size=0.2)"
   ]
  },
  {
   "cell_type": "code",
   "execution_count": null,
   "id": "c1b86a48",
   "metadata": {},
   "outputs": [],
   "source": [
    "# Define the algorithm\n",
    "sim_options = {\"name\": \"cosine\", \"user_based\": False}\n",
    "algo = KNNBasic(sim_options=sim_options)"
   ]
  },
  {
   "cell_type": "code",
   "execution_count": null,
   "id": "7b84f526",
   "metadata": {},
   "outputs": [],
   "source": [
    "# Train the model on the training set\n",
    "algo.fit(trainset)"
   ]
  },
  {
   "cell_type": "code",
   "execution_count": null,
   "id": "9070c4d5",
   "metadata": {},
   "outputs": [],
   "source": [
    "# Test the model on the test set\n",
    "predictions = algo.test(testset)"
   ]
  },
  {
   "cell_type": "code",
   "execution_count": null,
   "id": "a4626878",
   "metadata": {},
   "outputs": [],
   "source": [
    "# Create a dictionary of items for each user\n",
    "from collections import defaultdict\n",
    "user_items = defaultdict(list)\n",
    "for uid, iid, true_rating, est_rating, _ in predictions:\n",
    "    user_items[uid].append((iid, est_rating))\n",
    "\n",
    "# Sort the items for each user by their estimated rating\n",
    "for uid, items in user_items.items():\n",
    "    items.sort(key=lambda x: x[1], reverse=True)\n",
    "\n",
    "# Get the top 10 item recommendations for each user\n",
    "top_n = {}\n",
    "for uid, items in user_items.items():\n",
    "    top_n[uid] = [iid for (iid, _) in items[:10]]"
   ]
  },
  {
   "cell_type": "code",
   "execution_count": null,
   "id": "aedc8a41",
   "metadata": {},
   "outputs": [],
   "source": [
    "top_n"
   ]
  },
  {
   "cell_type": "code",
   "execution_count": null,
   "id": "23ba6922",
   "metadata": {},
   "outputs": [],
   "source": [
    "from surprise import SVD"
   ]
  },
  {
   "cell_type": "code",
   "execution_count": null,
   "id": "3a97326b",
   "metadata": {},
   "outputs": [],
   "source": [
    "# Define the algorithm\n",
    "algo = SVD(verbose=True, n_epochs=10)\n",
    "\n",
    "# Train the model on the training set\n",
    "algo.fit(trainset)\n",
    "\n",
    "# Test the model on the test set\n",
    "predictions = algo.test(testset)"
   ]
  },
  {
   "cell_type": "code",
   "execution_count": null,
   "id": "423fd1e0",
   "metadata": {},
   "outputs": [],
   "source": [
    "# from surprise.model_selection import cross_validate"
   ]
  },
  {
   "cell_type": "code",
   "execution_count": null,
   "id": "364c5e35",
   "metadata": {},
   "outputs": [],
   "source": [
    "# cross_validate(algo, trainset, measures=['RMSE', 'MAE'], cv=3, verbose=True)"
   ]
  },
  {
   "cell_type": "code",
   "execution_count": null,
   "id": "66c3c491",
   "metadata": {},
   "outputs": [],
   "source": [
    "# Create a dictionary of items for each user\n",
    "from collections import defaultdict\n",
    "user_items = defaultdict(list)\n",
    "for uid, iid, true_rating, est_rating, _ in predictions:\n",
    "    user_items[uid].append((iid, est_rating))\n",
    "\n",
    "# Sort the items for each user by their estimated rating\n",
    "for uid, items in user_items.items():\n",
    "    items.sort(key=lambda x: x[1], reverse=True)\n",
    "\n",
    "# Get the top 10 item recommendations for each user\n",
    "top_n = {}\n",
    "for uid, items in user_items.items():\n",
    "    top_n[uid] = [iid for (iid, _) in items[:10]]"
   ]
  },
  {
   "cell_type": "code",
   "execution_count": null,
   "id": "ad4ee71a",
   "metadata": {},
   "outputs": [],
   "source": [
    "top_n"
   ]
  },
  {
   "cell_type": "code",
   "execution_count": null,
   "id": "e024524f",
   "metadata": {},
   "outputs": [],
   "source": []
  },
  {
   "cell_type": "code",
   "execution_count": null,
   "id": "7e223596",
   "metadata": {},
   "outputs": [],
   "source": []
  },
  {
   "cell_type": "markdown",
   "id": "45bb839f",
   "metadata": {},
   "source": [
    "## Binary classifier"
   ]
  },
  {
   "cell_type": "markdown",
   "id": "6c4905d1",
   "metadata": {},
   "source": [
    "#### Create training data set"
   ]
  },
  {
   "cell_type": "code",
   "execution_count": 30,
   "id": "690e71a6",
   "metadata": {},
   "outputs": [],
   "source": [
    "positive_samples = train[['timestamp', 'transaction_id', 'hash_customer', \n",
    "                          'sale_amount', 'product_title', 'product_color', 'product_gender',\n",
    "                          'product_category', 'referrer_source', 'product_title_gender']].copy()\n",
    "\n",
    "positive_samples.loc[:,'purchase'] = 1"
   ]
  },
  {
   "cell_type": "code",
   "execution_count": 31,
   "id": "dc1c470e",
   "metadata": {},
   "outputs": [
    {
     "data": {
      "text/html": [
       "<div>\n",
       "<style scoped>\n",
       "    .dataframe tbody tr th:only-of-type {\n",
       "        vertical-align: middle;\n",
       "    }\n",
       "\n",
       "    .dataframe tbody tr th {\n",
       "        vertical-align: top;\n",
       "    }\n",
       "\n",
       "    .dataframe thead th {\n",
       "        text-align: right;\n",
       "    }\n",
       "</style>\n",
       "<table border=\"1\" class=\"dataframe\">\n",
       "  <thead>\n",
       "    <tr style=\"text-align: right;\">\n",
       "      <th></th>\n",
       "      <th>timestamp</th>\n",
       "      <th>transaction_id</th>\n",
       "      <th>hash_customer</th>\n",
       "      <th>sale_amount</th>\n",
       "      <th>product_title</th>\n",
       "      <th>product_color</th>\n",
       "      <th>product_gender</th>\n",
       "      <th>product_category</th>\n",
       "      <th>referrer_source</th>\n",
       "      <th>product_title_gender</th>\n",
       "      <th>purchase</th>\n",
       "    </tr>\n",
       "  </thead>\n",
       "  <tbody>\n",
       "    <tr>\n",
       "      <th>0</th>\n",
       "      <td>2019-10-17 17:00:00</td>\n",
       "      <td>13964574791861793493</td>\n",
       "      <td>118171218419602151</td>\n",
       "      <td>141.0</td>\n",
       "      <td>Rogue Sneaker</td>\n",
       "      <td>Midnight Green (Eagle Green)</td>\n",
       "      <td>Women</td>\n",
       "      <td>Sneaker</td>\n",
       "      <td>Direct</td>\n",
       "      <td>Rogue Sneaker-Women</td>\n",
       "      <td>1</td>\n",
       "    </tr>\n",
       "    <tr>\n",
       "      <th>1</th>\n",
       "      <td>2022-03-26 04:00:00</td>\n",
       "      <td>15462755904385104185</td>\n",
       "      <td>118171218419602151</td>\n",
       "      <td>262.0</td>\n",
       "      <td>Vanguard Sandal</td>\n",
       "      <td>Prussian Blue</td>\n",
       "      <td>Women</td>\n",
       "      <td>Sandal</td>\n",
       "      <td>Direct</td>\n",
       "      <td>Vanguard Sandal-Women</td>\n",
       "      <td>1</td>\n",
       "    </tr>\n",
       "    <tr>\n",
       "      <th>2</th>\n",
       "      <td>2019-10-18 06:00:00</td>\n",
       "      <td>5418521222138237582</td>\n",
       "      <td>15372924648196696535</td>\n",
       "      <td>141.0</td>\n",
       "      <td>Rogue Sneaker</td>\n",
       "      <td>Electric Purple</td>\n",
       "      <td>Women</td>\n",
       "      <td>Sneaker</td>\n",
       "      <td>Direct</td>\n",
       "      <td>Rogue Sneaker-Women</td>\n",
       "      <td>1</td>\n",
       "    </tr>\n",
       "    <tr>\n",
       "      <th>3</th>\n",
       "      <td>2021-10-03 19:00:00</td>\n",
       "      <td>13807911046559617059</td>\n",
       "      <td>15372924648196696535</td>\n",
       "      <td>147.0</td>\n",
       "      <td>Classic Sneaker</td>\n",
       "      <td>Electric Purple</td>\n",
       "      <td>Women</td>\n",
       "      <td>Sneaker</td>\n",
       "      <td>Direct</td>\n",
       "      <td>Classic Sneaker-Women</td>\n",
       "      <td>1</td>\n",
       "    </tr>\n",
       "    <tr>\n",
       "      <th>4</th>\n",
       "      <td>2019-10-18 09:00:00</td>\n",
       "      <td>17285359619674932653</td>\n",
       "      <td>10040016928726048703</td>\n",
       "      <td>194.0</td>\n",
       "      <td>Olympic Running</td>\n",
       "      <td>Stormcloud</td>\n",
       "      <td>Women</td>\n",
       "      <td>Running</td>\n",
       "      <td>Search</td>\n",
       "      <td>Olympic Running-Women</td>\n",
       "      <td>1</td>\n",
       "    </tr>\n",
       "  </tbody>\n",
       "</table>\n",
       "</div>"
      ],
      "text/plain": [
       "            timestamp        transaction_id         hash_customer  \\\n",
       "0 2019-10-17 17:00:00  13964574791861793493    118171218419602151   \n",
       "1 2022-03-26 04:00:00  15462755904385104185    118171218419602151   \n",
       "2 2019-10-18 06:00:00   5418521222138237582  15372924648196696535   \n",
       "3 2021-10-03 19:00:00  13807911046559617059  15372924648196696535   \n",
       "4 2019-10-18 09:00:00  17285359619674932653  10040016928726048703   \n",
       "\n",
       "   sale_amount    product_title                 product_color product_gender  \\\n",
       "0        141.0    Rogue Sneaker  Midnight Green (Eagle Green)          Women   \n",
       "1        262.0  Vanguard Sandal                 Prussian Blue          Women   \n",
       "2        141.0    Rogue Sneaker               Electric Purple          Women   \n",
       "3        147.0  Classic Sneaker               Electric Purple          Women   \n",
       "4        194.0  Olympic Running                    Stormcloud          Women   \n",
       "\n",
       "  product_category referrer_source   product_title_gender  purchase  \n",
       "0          Sneaker          Direct    Rogue Sneaker-Women         1  \n",
       "1           Sandal          Direct  Vanguard Sandal-Women         1  \n",
       "2          Sneaker          Direct    Rogue Sneaker-Women         1  \n",
       "3          Sneaker          Direct  Classic Sneaker-Women         1  \n",
       "4          Running          Search  Olympic Running-Women         1  "
      ]
     },
     "execution_count": 31,
     "metadata": {},
     "output_type": "execute_result"
    }
   ],
   "source": [
    "positive_samples.head()"
   ]
  },
  {
   "cell_type": "code",
   "execution_count": 32,
   "id": "2bc60af4",
   "metadata": {},
   "outputs": [
    {
     "name": "stdout",
     "output_type": "stream",
     "text": [
      "['Women' 'Men' 'Kids' 'Youth' 'Unisex']\n",
      "['Midnight Green (Eagle Green)' 'Prussian Blue' 'Electric Purple'\n",
      " 'Stormcloud' 'Vermilion (Plochere)' 'Topaz' 'Royal Blue (Web)'\n",
      " 'Lavender Purple' 'Han Purple' 'Burnt Sienna' 'Green (Munsell)'\n",
      " 'Dark Red' 'Electric Green' 'Fern Green' 'Ruby Red' 'Mikado Yellow'\n",
      " 'Pastel Magenta' 'Canary Yellow' 'Dartmouth Green' 'Dark Powder Blue'\n",
      " 'Alice Blue' 'Mordant Red 19' 'Sky Blue' 'Yellow-Green'\n",
      " 'Selective Yellow']\n"
     ]
    }
   ],
   "source": [
    "genders = train['product_gender'].unique()\n",
    "print(genders)\n",
    "\n",
    "colors = train['product_color'].unique()\n",
    "print(colors)"
   ]
  },
  {
   "cell_type": "code",
   "execution_count": 33,
   "id": "c3b53dfe",
   "metadata": {},
   "outputs": [],
   "source": [
    "def calc_user_features(as_of_dt):\n",
    "    \"\"\"\n",
    "    Function to calculate user features\n",
    "    Returns dataframe\n",
    "    \"\"\"\n",
    "    hist_data = toy_dataset_df[(toy_dataset_df['timestamp'].dt.date < pd.to_datetime(as_of_dt))]\n",
    "\n",
    "    agg_df = hist_data.groupby('hash_customer').agg({\n",
    "        'product_title': ['count'],\n",
    "        'transaction_id': ['nunique'],\n",
    "        'sale_amount': ['sum', 'mean']\n",
    "    }).reset_index()\n",
    "\n",
    "    agg_df.columns = ['hash_customer', 'user_title_cnt', \n",
    "                      'user_trans_cnt', 'user_tot_sales', 'user_avg_prod_cost']\n",
    "    return agg_df"
   ]
  },
  {
   "cell_type": "code",
   "execution_count": 34,
   "id": "eb67140e",
   "metadata": {
    "scrolled": true
   },
   "outputs": [
    {
     "data": {
      "text/html": [
       "<div>\n",
       "<style scoped>\n",
       "    .dataframe tbody tr th:only-of-type {\n",
       "        vertical-align: middle;\n",
       "    }\n",
       "\n",
       "    .dataframe tbody tr th {\n",
       "        vertical-align: top;\n",
       "    }\n",
       "\n",
       "    .dataframe thead th {\n",
       "        text-align: right;\n",
       "    }\n",
       "</style>\n",
       "<table border=\"1\" class=\"dataframe\">\n",
       "  <thead>\n",
       "    <tr style=\"text-align: right;\">\n",
       "      <th></th>\n",
       "      <th>hash_customer</th>\n",
       "      <th>user_title_cnt</th>\n",
       "      <th>user_trans_cnt</th>\n",
       "      <th>user_tot_sales</th>\n",
       "      <th>user_avg_prod_cost</th>\n",
       "    </tr>\n",
       "  </thead>\n",
       "  <tbody>\n",
       "    <tr>\n",
       "      <th>0</th>\n",
       "      <td>2785466729578054</td>\n",
       "      <td>3</td>\n",
       "      <td>2</td>\n",
       "      <td>594.0</td>\n",
       "      <td>198.000000</td>\n",
       "    </tr>\n",
       "    <tr>\n",
       "      <th>1</th>\n",
       "      <td>2943184540671871</td>\n",
       "      <td>6</td>\n",
       "      <td>4</td>\n",
       "      <td>1186.0</td>\n",
       "      <td>197.666667</td>\n",
       "    </tr>\n",
       "    <tr>\n",
       "      <th>2</th>\n",
       "      <td>4042200167694193</td>\n",
       "      <td>5</td>\n",
       "      <td>3</td>\n",
       "      <td>970.0</td>\n",
       "      <td>194.000000</td>\n",
       "    </tr>\n",
       "    <tr>\n",
       "      <th>3</th>\n",
       "      <td>6606248094173010</td>\n",
       "      <td>1</td>\n",
       "      <td>1</td>\n",
       "      <td>198.0</td>\n",
       "      <td>198.000000</td>\n",
       "    </tr>\n",
       "    <tr>\n",
       "      <th>4</th>\n",
       "      <td>11352255998594515</td>\n",
       "      <td>2</td>\n",
       "      <td>2</td>\n",
       "      <td>392.0</td>\n",
       "      <td>196.000000</td>\n",
       "    </tr>\n",
       "  </tbody>\n",
       "</table>\n",
       "</div>"
      ],
      "text/plain": [
       "       hash_customer  user_title_cnt  user_trans_cnt  user_tot_sales  \\\n",
       "0   2785466729578054               3               2           594.0   \n",
       "1   2943184540671871               6               4          1186.0   \n",
       "2   4042200167694193               5               3           970.0   \n",
       "3   6606248094173010               1               1           198.0   \n",
       "4  11352255998594515               2               2           392.0   \n",
       "\n",
       "   user_avg_prod_cost  \n",
       "0          198.000000  \n",
       "1          197.666667  \n",
       "2          194.000000  \n",
       "3          198.000000  \n",
       "4          196.000000  "
      ]
     },
     "execution_count": 34,
     "metadata": {},
     "output_type": "execute_result"
    }
   ],
   "source": [
    "calc_user_features(as_of_dt='2022-03-26').head()"
   ]
  },
  {
   "cell_type": "code",
   "execution_count": 35,
   "id": "9e8addc9",
   "metadata": {},
   "outputs": [],
   "source": [
    "def calc_title_features(as_of_dt):\n",
    "    \"\"\"\n",
    "    Function to calculate features\n",
    "    Returns dataframe\n",
    "    \"\"\"\n",
    "    hist_data = toy_dataset_df[(toy_dataset_df['timestamp'].dt.date < pd.to_datetime(as_of_dt))]\n",
    "\n",
    "    agg_df = hist_data.groupby('product_title').agg({\n",
    "        'product_title': ['count'],\n",
    "    }).reset_index()\n",
    "\n",
    "    agg_df.columns = ['product_title', 'title_tot_sales']\n",
    "    return agg_df"
   ]
  },
  {
   "cell_type": "code",
   "execution_count": 36,
   "id": "3ad7c3f1",
   "metadata": {},
   "outputs": [
    {
     "data": {
      "text/html": [
       "<div>\n",
       "<style scoped>\n",
       "    .dataframe tbody tr th:only-of-type {\n",
       "        vertical-align: middle;\n",
       "    }\n",
       "\n",
       "    .dataframe tbody tr th {\n",
       "        vertical-align: top;\n",
       "    }\n",
       "\n",
       "    .dataframe thead th {\n",
       "        text-align: right;\n",
       "    }\n",
       "</style>\n",
       "<table border=\"1\" class=\"dataframe\">\n",
       "  <thead>\n",
       "    <tr style=\"text-align: right;\">\n",
       "      <th></th>\n",
       "      <th>product_title</th>\n",
       "      <th>title_tot_sales</th>\n",
       "    </tr>\n",
       "  </thead>\n",
       "  <tbody>\n",
       "    <tr>\n",
       "      <th>0</th>\n",
       "      <td>Alley Boot</td>\n",
       "      <td>9</td>\n",
       "    </tr>\n",
       "    <tr>\n",
       "      <th>1</th>\n",
       "      <td>Classic Sneaker</td>\n",
       "      <td>1756</td>\n",
       "    </tr>\n",
       "    <tr>\n",
       "      <th>2</th>\n",
       "      <td>Corner Sandal</td>\n",
       "      <td>100</td>\n",
       "    </tr>\n",
       "    <tr>\n",
       "      <th>3</th>\n",
       "      <td>Evermore Boot</td>\n",
       "      <td>120</td>\n",
       "    </tr>\n",
       "    <tr>\n",
       "      <th>4</th>\n",
       "      <td>Gator Sandal</td>\n",
       "      <td>87</td>\n",
       "    </tr>\n",
       "  </tbody>\n",
       "</table>\n",
       "</div>"
      ],
      "text/plain": [
       "     product_title  title_tot_sales\n",
       "0       Alley Boot                9\n",
       "1  Classic Sneaker             1756\n",
       "2    Corner Sandal              100\n",
       "3    Evermore Boot              120\n",
       "4     Gator Sandal               87"
      ]
     },
     "execution_count": 36,
     "metadata": {},
     "output_type": "execute_result"
    }
   ],
   "source": [
    "calc_title_features(as_of_dt='2022-03-26').head()"
   ]
  },
  {
   "cell_type": "code",
   "execution_count": 37,
   "id": "c410e6c0",
   "metadata": {},
   "outputs": [],
   "source": [
    "def calc_titgen_features(as_of_dt):\n",
    "    \"\"\"\n",
    "    Function to calculate title-gender features\n",
    "    Returns dataframe\n",
    "    \"\"\"\n",
    "    hist_data = toy_dataset_df[(toy_dataset_df['timestamp'].dt.date < pd.to_datetime(as_of_dt))]\n",
    "\n",
    "    agg_df = hist_data.groupby('product_title_gender').agg({\n",
    "        'product_title': ['count'],\n",
    "        'transaction_id': ['nunique'],\n",
    "        'sale_amount': ['sum', 'mean']\n",
    "    }).reset_index()\n",
    "\n",
    "    agg_df.columns = ['product_title_gender', 'titgen_title_cnt',\n",
    "                      'titgen_trans_cnt', 'titgen_tot_sales', 'titgen_avg_prod_cost']\n",
    "    return agg_df"
   ]
  },
  {
   "cell_type": "code",
   "execution_count": 38,
   "id": "63be14e0",
   "metadata": {
    "scrolled": true
   },
   "outputs": [
    {
     "data": {
      "text/html": [
       "<div>\n",
       "<style scoped>\n",
       "    .dataframe tbody tr th:only-of-type {\n",
       "        vertical-align: middle;\n",
       "    }\n",
       "\n",
       "    .dataframe tbody tr th {\n",
       "        vertical-align: top;\n",
       "    }\n",
       "\n",
       "    .dataframe thead th {\n",
       "        text-align: right;\n",
       "    }\n",
       "</style>\n",
       "<table border=\"1\" class=\"dataframe\">\n",
       "  <thead>\n",
       "    <tr style=\"text-align: right;\">\n",
       "      <th></th>\n",
       "      <th>product_title_gender</th>\n",
       "      <th>titgen_title_cnt</th>\n",
       "      <th>titgen_trans_cnt</th>\n",
       "      <th>titgen_tot_sales</th>\n",
       "      <th>titgen_avg_prod_cost</th>\n",
       "    </tr>\n",
       "  </thead>\n",
       "  <tbody>\n",
       "    <tr>\n",
       "      <th>0</th>\n",
       "      <td>Alley Boot-Men</td>\n",
       "      <td>9</td>\n",
       "      <td>9</td>\n",
       "      <td>1746.00</td>\n",
       "      <td>194.000000</td>\n",
       "    </tr>\n",
       "    <tr>\n",
       "      <th>1</th>\n",
       "      <td>Classic Sneaker-Men</td>\n",
       "      <td>483</td>\n",
       "      <td>444</td>\n",
       "      <td>74588.00</td>\n",
       "      <td>154.426501</td>\n",
       "    </tr>\n",
       "    <tr>\n",
       "      <th>2</th>\n",
       "      <td>Classic Sneaker-Women</td>\n",
       "      <td>1273</td>\n",
       "      <td>1161</td>\n",
       "      <td>200897.91</td>\n",
       "      <td>157.814540</td>\n",
       "    </tr>\n",
       "    <tr>\n",
       "      <th>3</th>\n",
       "      <td>Corner Sandal-Unisex</td>\n",
       "      <td>100</td>\n",
       "      <td>86</td>\n",
       "      <td>30800.00</td>\n",
       "      <td>308.000000</td>\n",
       "    </tr>\n",
       "    <tr>\n",
       "      <th>4</th>\n",
       "      <td>Evermore Boot-Men</td>\n",
       "      <td>42</td>\n",
       "      <td>40</td>\n",
       "      <td>10246.00</td>\n",
       "      <td>243.952381</td>\n",
       "    </tr>\n",
       "  </tbody>\n",
       "</table>\n",
       "</div>"
      ],
      "text/plain": [
       "    product_title_gender  titgen_title_cnt  titgen_trans_cnt  \\\n",
       "0         Alley Boot-Men                 9                 9   \n",
       "1    Classic Sneaker-Men               483               444   \n",
       "2  Classic Sneaker-Women              1273              1161   \n",
       "3   Corner Sandal-Unisex               100                86   \n",
       "4      Evermore Boot-Men                42                40   \n",
       "\n",
       "   titgen_tot_sales  titgen_avg_prod_cost  \n",
       "0           1746.00            194.000000  \n",
       "1          74588.00            154.426501  \n",
       "2         200897.91            157.814540  \n",
       "3          30800.00            308.000000  \n",
       "4          10246.00            243.952381  "
      ]
     },
     "execution_count": 38,
     "metadata": {},
     "output_type": "execute_result"
    }
   ],
   "source": [
    "calc_titgen_features(as_of_dt='2022-03-26').head()"
   ]
  },
  {
   "cell_type": "code",
   "execution_count": 39,
   "id": "a8a8a5ed",
   "metadata": {},
   "outputs": [],
   "source": [
    "def calc_user_gen_features(as_of_dt):\n",
    "    \"\"\"\n",
    "    Function to calculate features\n",
    "    Returns dataframe\n",
    "    \"\"\"\n",
    "    hist_data = toy_dataset_df[(toy_dataset_df['timestamp'].dt.date < pd.to_datetime(as_of_dt))]\n",
    "\n",
    "    agg_df = hist_data.groupby(['hash_customer','product_gender']).agg({\n",
    "        'product_title': ['count'],\n",
    "        'sale_amount': ['mean']\n",
    "    }).reset_index()\n",
    "\n",
    "    agg_df.columns = ['hash_customer', 'product_gender',\n",
    "                      'user_gen_trans_cnt', 'user_gen_avg_prod_cost']\n",
    "    return agg_df"
   ]
  },
  {
   "cell_type": "code",
   "execution_count": 40,
   "id": "5f773d96",
   "metadata": {},
   "outputs": [
    {
     "data": {
      "text/html": [
       "<div>\n",
       "<style scoped>\n",
       "    .dataframe tbody tr th:only-of-type {\n",
       "        vertical-align: middle;\n",
       "    }\n",
       "\n",
       "    .dataframe tbody tr th {\n",
       "        vertical-align: top;\n",
       "    }\n",
       "\n",
       "    .dataframe thead th {\n",
       "        text-align: right;\n",
       "    }\n",
       "</style>\n",
       "<table border=\"1\" class=\"dataframe\">\n",
       "  <thead>\n",
       "    <tr style=\"text-align: right;\">\n",
       "      <th></th>\n",
       "      <th>hash_customer</th>\n",
       "      <th>product_gender</th>\n",
       "      <th>user_gen_trans_cnt</th>\n",
       "      <th>user_gen_avg_prod_cost</th>\n",
       "    </tr>\n",
       "  </thead>\n",
       "  <tbody>\n",
       "    <tr>\n",
       "      <th>0</th>\n",
       "      <td>2785466729578054</td>\n",
       "      <td>Men</td>\n",
       "      <td>1</td>\n",
       "      <td>198.000000</td>\n",
       "    </tr>\n",
       "    <tr>\n",
       "      <th>1</th>\n",
       "      <td>2785466729578054</td>\n",
       "      <td>Women</td>\n",
       "      <td>2</td>\n",
       "      <td>198.000000</td>\n",
       "    </tr>\n",
       "    <tr>\n",
       "      <th>2</th>\n",
       "      <td>2943184540671871</td>\n",
       "      <td>Women</td>\n",
       "      <td>6</td>\n",
       "      <td>197.666667</td>\n",
       "    </tr>\n",
       "    <tr>\n",
       "      <th>3</th>\n",
       "      <td>4042200167694193</td>\n",
       "      <td>Men</td>\n",
       "      <td>1</td>\n",
       "      <td>194.000000</td>\n",
       "    </tr>\n",
       "    <tr>\n",
       "      <th>4</th>\n",
       "      <td>4042200167694193</td>\n",
       "      <td>Women</td>\n",
       "      <td>4</td>\n",
       "      <td>194.000000</td>\n",
       "    </tr>\n",
       "  </tbody>\n",
       "</table>\n",
       "</div>"
      ],
      "text/plain": [
       "      hash_customer product_gender  user_gen_trans_cnt  user_gen_avg_prod_cost\n",
       "0  2785466729578054            Men                   1              198.000000\n",
       "1  2785466729578054          Women                   2              198.000000\n",
       "2  2943184540671871          Women                   6              197.666667\n",
       "3  4042200167694193            Men                   1              194.000000\n",
       "4  4042200167694193          Women                   4              194.000000"
      ]
     },
     "execution_count": 40,
     "metadata": {},
     "output_type": "execute_result"
    }
   ],
   "source": [
    "calc_user_gen_features(as_of_dt='2022-03-26').head()"
   ]
  },
  {
   "cell_type": "code",
   "execution_count": null,
   "id": "ffe7a00d",
   "metadata": {},
   "outputs": [],
   "source": []
  },
  {
   "cell_type": "markdown",
   "id": "90de1699",
   "metadata": {},
   "source": [
    "#### Loop over dates, calculate features, create training data set"
   ]
  },
  {
   "cell_type": "code",
   "execution_count": 41,
   "id": "59db7b73",
   "metadata": {},
   "outputs": [
    {
     "name": "stdout",
     "output_type": "stream",
     "text": [
      "2022-03-31,116,2022-03-30,352,2022-03-29,456,2022-03-28,596,2022-03-27,692,2022-03-26,792,2022-03-25,960,2022-03-24,1088,2022-03-23,1244,2022-03-22,1372,2022-03-21,1520,2022-03-20,1636,2022-03-19,1716,2022-03-18,1816,2022-03-17,1892,2022-03-16,2016,2022-03-15,2136,2022-03-14,2240,2022-03-13,2320,2022-03-12,2436,2022-03-11,2520,2022-03-10,2728,2022-03-09,7972,2022-03-08,8260,2022-03-07,8376,2022-03-06,8512,2022-03-05,8672,2022-03-04,8860,2022-03-03,8944,2022-03-02,9168,2022-03-01,9252,2022-02-28,9388,2022-02-27,9452,2022-02-26,9484,2022-02-25,9580,2022-02-24,9652,2022-02-23,9832,2022-02-22,9936,2022-02-21,10036,2022-02-20,10100,2022-02-19,10180,2022-02-18,10268,2022-02-17,10348,2022-02-16,10484,2022-02-15,10612,2022-02-14,10696,2022-02-13,10784,2022-02-12,10848,2022-02-11,10932,2022-02-10,11060,Wall time: 37.3 s\n"
     ]
    }
   ],
   "source": [
    "%%time\n",
    "\n",
    "NUM_DATES_TO_LOOP_OVER = 50\n",
    "NUM_NEGATIVE_SAMPLES = 3\n",
    "\n",
    "# order samples to loop over them backwards chronologically\n",
    "positive_samples = positive_samples.sort_values('timestamp', ascending=False)\n",
    "\n",
    "train_df = pd.DataFrame()\n",
    "\n",
    "# loop through dates\n",
    "for idx, dt, in enumerate(positive_samples['timestamp'].dt.date.unique()[0:NUM_DATES_TO_LOOP_OVER]):\n",
    "    print(dt, end=',')\n",
    "    \n",
    "    # subset purchases by date\n",
    "    purchases = positive_samples[positive_samples['timestamp'].dt.date == dt]\n",
    "    \n",
    "    all_negative_samples = pd.DataFrame()\n",
    "    # loop over purchases\n",
    "    for idx, row in purchases.iterrows():\n",
    "        # create negative_samples\n",
    "        dfs = [row.to_frame().T for i in range(NUM_NEGATIVE_SAMPLES)]\n",
    "        negative_samples = pd.concat(dfs, ignore_index=True)\n",
    "        negative_samples['purchase'] = 0\n",
    "        negative_samples['product_gender'] = negative_samples['product_gender'].apply(lambda x: random.choice(genders))\n",
    "        negative_samples['product_color'] = negative_samples['product_color'].apply(lambda x: random.choice(colors))\n",
    "        # sale_amount, title, category\n",
    "        sample_product = train[['sale_amount', 'product_title', 'product_category']].sample(NUM_NEGATIVE_SAMPLES)\n",
    "        negative_samples['sale_amount'] = sample_product['sale_amount'].values\n",
    "        negative_samples['product_title'] = sample_product['product_title'].values\n",
    "        negative_samples['product_category'] = sample_product['product_category'].values\n",
    "        negative_samples.loc[:,'product_title_gender'] = negative_samples['product_title'] + '-' + negative_samples['product_gender']\n",
    "        all_negative_samples = pd.concat([all_negative_samples, negative_samples])\n",
    "    \n",
    "    daily_df = pd.concat([all_negative_samples, purchases])\n",
    "    \n",
    "    # add user features\n",
    "    user_features_df = calc_user_features(as_of_dt=dt)\n",
    "    daily_train_df = pd.merge(left=daily_df, \n",
    "                            right=user_features_df,\n",
    "                            left_on='hash_customer',\n",
    "                            right_on='hash_customer', \n",
    "                            how='left')\n",
    "    \n",
    "    # add titgen features\n",
    "    titgen_features_df = calc_titgen_features(as_of_dt=dt)\n",
    "    daily_train_df = pd.merge(left=daily_train_df, \n",
    "                            right=titgen_features_df,\n",
    "                            left_on='product_title_gender',\n",
    "                            right_on='product_title_gender', \n",
    "                            how='left')\n",
    "    \n",
    "    # add user-gen features\n",
    "    user_gen_features_df = calc_user_gen_features(as_of_dt=dt)\n",
    "    daily_train_df = pd.merge(left=daily_train_df, \n",
    "                            right=user_gen_features_df,\n",
    "                            left_on=['hash_customer', 'product_gender'],\n",
    "                            right_on=['hash_customer', 'product_gender'], \n",
    "                            how='left')\n",
    "\n",
    "    # add title features\n",
    "    title_features_df = calc_title_features(as_of_dt=dt)\n",
    "    daily_train_df = pd.merge(left=daily_train_df, \n",
    "                            right=title_features_df,\n",
    "                            left_on='product_title',\n",
    "                            right_on='product_title', \n",
    "                            how='left')\n",
    "    \n",
    "    train_df = pd.concat([train_df, daily_train_df])\n",
    "    print(train_df.shape[0], end=',')"
   ]
  },
  {
   "cell_type": "code",
   "execution_count": 42,
   "id": "ce922845",
   "metadata": {},
   "outputs": [
    {
     "data": {
      "text/plain": [
       "0    8295\n",
       "1    2765\n",
       "Name: purchase, dtype: int64"
      ]
     },
     "execution_count": 42,
     "metadata": {},
     "output_type": "execute_result"
    }
   ],
   "source": [
    "train_df['purchase'].value_counts()"
   ]
  },
  {
   "cell_type": "code",
   "execution_count": 43,
   "id": "142454d9",
   "metadata": {},
   "outputs": [
    {
     "data": {
      "text/plain": [
       "(11060, 22)"
      ]
     },
     "execution_count": 43,
     "metadata": {},
     "output_type": "execute_result"
    }
   ],
   "source": [
    "train_df.shape"
   ]
  },
  {
   "cell_type": "code",
   "execution_count": 44,
   "id": "3bad1727",
   "metadata": {},
   "outputs": [],
   "source": [
    "# Fill missing values with 0\n",
    "\n",
    "fill_na_fields = ['user_title_cnt', 'user_trans_cnt', \n",
    "                  'user_tot_sales', 'user_avg_prod_cost', \n",
    "                  'titgen_title_cnt', 'titgen_trans_cnt', \n",
    "                  'titgen_tot_sales','titgen_avg_prod_cost',\n",
    "                  'user_gen_trans_cnt', 'user_gen_avg_prod_cost',\n",
    "                  'title_tot_sales'\n",
    "                 ]\n",
    "\n",
    "train_df[fill_na_fields] = train_df[fill_na_fields].fillna(0)"
   ]
  },
  {
   "cell_type": "code",
   "execution_count": 45,
   "id": "66b0d95b",
   "metadata": {},
   "outputs": [
    {
     "data": {
      "text/html": [
       "<div>\n",
       "<style scoped>\n",
       "    .dataframe tbody tr th:only-of-type {\n",
       "        vertical-align: middle;\n",
       "    }\n",
       "\n",
       "    .dataframe tbody tr th {\n",
       "        vertical-align: top;\n",
       "    }\n",
       "\n",
       "    .dataframe thead th {\n",
       "        text-align: right;\n",
       "    }\n",
       "</style>\n",
       "<table border=\"1\" class=\"dataframe\">\n",
       "  <thead>\n",
       "    <tr style=\"text-align: right;\">\n",
       "      <th></th>\n",
       "      <th>timestamp</th>\n",
       "      <th>transaction_id</th>\n",
       "      <th>hash_customer</th>\n",
       "      <th>sale_amount</th>\n",
       "      <th>product_title</th>\n",
       "      <th>product_color</th>\n",
       "      <th>product_gender</th>\n",
       "      <th>product_category</th>\n",
       "      <th>referrer_source</th>\n",
       "      <th>product_title_gender</th>\n",
       "      <th>...</th>\n",
       "      <th>user_trans_cnt</th>\n",
       "      <th>user_tot_sales</th>\n",
       "      <th>user_avg_prod_cost</th>\n",
       "      <th>titgen_title_cnt</th>\n",
       "      <th>titgen_trans_cnt</th>\n",
       "      <th>titgen_tot_sales</th>\n",
       "      <th>titgen_avg_prod_cost</th>\n",
       "      <th>user_gen_trans_cnt</th>\n",
       "      <th>user_gen_avg_prod_cost</th>\n",
       "      <th>title_tot_sales</th>\n",
       "    </tr>\n",
       "  </thead>\n",
       "  <tbody>\n",
       "    <tr>\n",
       "      <th>0</th>\n",
       "      <td>2022-03-31 19:00:00</td>\n",
       "      <td>3553130952594366107</td>\n",
       "      <td>179446793816447129</td>\n",
       "      <td>237.0</td>\n",
       "      <td>Vanguard Sandal</td>\n",
       "      <td>Fern Green</td>\n",
       "      <td>Unisex</td>\n",
       "      <td>Sandal</td>\n",
       "      <td>Search</td>\n",
       "      <td>Vanguard Sandal-Unisex</td>\n",
       "      <td>...</td>\n",
       "      <td>0.0</td>\n",
       "      <td>0.0</td>\n",
       "      <td>0.0</td>\n",
       "      <td>0.0</td>\n",
       "      <td>0.0</td>\n",
       "      <td>0.0</td>\n",
       "      <td>0.000000</td>\n",
       "      <td>0.0</td>\n",
       "      <td>0.0</td>\n",
       "      <td>1636</td>\n",
       "    </tr>\n",
       "    <tr>\n",
       "      <th>1</th>\n",
       "      <td>2022-03-31 19:00:00</td>\n",
       "      <td>3553130952594366107</td>\n",
       "      <td>179446793816447129</td>\n",
       "      <td>141.0</td>\n",
       "      <td>Rogue Sneaker</td>\n",
       "      <td>Prussian Blue</td>\n",
       "      <td>Men</td>\n",
       "      <td>Sneaker</td>\n",
       "      <td>Search</td>\n",
       "      <td>Rogue Sneaker-Men</td>\n",
       "      <td>...</td>\n",
       "      <td>0.0</td>\n",
       "      <td>0.0</td>\n",
       "      <td>0.0</td>\n",
       "      <td>443.0</td>\n",
       "      <td>397.0</td>\n",
       "      <td>70381.0</td>\n",
       "      <td>158.873589</td>\n",
       "      <td>0.0</td>\n",
       "      <td>0.0</td>\n",
       "      <td>1742</td>\n",
       "    </tr>\n",
       "    <tr>\n",
       "      <th>2</th>\n",
       "      <td>2022-03-31 19:00:00</td>\n",
       "      <td>3553130952594366107</td>\n",
       "      <td>179446793816447129</td>\n",
       "      <td>202.0</td>\n",
       "      <td>Stacked Hiking Boot</td>\n",
       "      <td>Mordant Red 19</td>\n",
       "      <td>Women</td>\n",
       "      <td>Boot</td>\n",
       "      <td>Search</td>\n",
       "      <td>Stacked Hiking Boot-Women</td>\n",
       "      <td>...</td>\n",
       "      <td>0.0</td>\n",
       "      <td>0.0</td>\n",
       "      <td>0.0</td>\n",
       "      <td>983.0</td>\n",
       "      <td>832.0</td>\n",
       "      <td>199261.0</td>\n",
       "      <td>202.707019</td>\n",
       "      <td>0.0</td>\n",
       "      <td>0.0</td>\n",
       "      <td>1178</td>\n",
       "    </tr>\n",
       "    <tr>\n",
       "      <th>3</th>\n",
       "      <td>2022-03-31 17:00:00</td>\n",
       "      <td>6533694194312845568</td>\n",
       "      <td>17712380799913556542</td>\n",
       "      <td>198.0</td>\n",
       "      <td>Iron Running</td>\n",
       "      <td>Sky Blue</td>\n",
       "      <td>Youth</td>\n",
       "      <td>Running</td>\n",
       "      <td>Direct</td>\n",
       "      <td>Iron Running-Youth</td>\n",
       "      <td>...</td>\n",
       "      <td>1.0</td>\n",
       "      <td>194.0</td>\n",
       "      <td>194.0</td>\n",
       "      <td>0.0</td>\n",
       "      <td>0.0</td>\n",
       "      <td>0.0</td>\n",
       "      <td>0.000000</td>\n",
       "      <td>0.0</td>\n",
       "      <td>0.0</td>\n",
       "      <td>3495</td>\n",
       "    </tr>\n",
       "    <tr>\n",
       "      <th>4</th>\n",
       "      <td>2022-03-31 17:00:00</td>\n",
       "      <td>6533694194312845568</td>\n",
       "      <td>17712380799913556542</td>\n",
       "      <td>141.0</td>\n",
       "      <td>Rogue Sneaker</td>\n",
       "      <td>Vermilion (Plochere)</td>\n",
       "      <td>Men</td>\n",
       "      <td>Sneaker</td>\n",
       "      <td>Direct</td>\n",
       "      <td>Rogue Sneaker-Men</td>\n",
       "      <td>...</td>\n",
       "      <td>1.0</td>\n",
       "      <td>194.0</td>\n",
       "      <td>194.0</td>\n",
       "      <td>443.0</td>\n",
       "      <td>397.0</td>\n",
       "      <td>70381.0</td>\n",
       "      <td>158.873589</td>\n",
       "      <td>0.0</td>\n",
       "      <td>0.0</td>\n",
       "      <td>1742</td>\n",
       "    </tr>\n",
       "  </tbody>\n",
       "</table>\n",
       "<p>5 rows × 22 columns</p>\n",
       "</div>"
      ],
      "text/plain": [
       "            timestamp       transaction_id         hash_customer  sale_amount  \\\n",
       "0 2022-03-31 19:00:00  3553130952594366107    179446793816447129        237.0   \n",
       "1 2022-03-31 19:00:00  3553130952594366107    179446793816447129        141.0   \n",
       "2 2022-03-31 19:00:00  3553130952594366107    179446793816447129        202.0   \n",
       "3 2022-03-31 17:00:00  6533694194312845568  17712380799913556542        198.0   \n",
       "4 2022-03-31 17:00:00  6533694194312845568  17712380799913556542        141.0   \n",
       "\n",
       "         product_title         product_color product_gender product_category  \\\n",
       "0      Vanguard Sandal            Fern Green         Unisex           Sandal   \n",
       "1        Rogue Sneaker         Prussian Blue            Men          Sneaker   \n",
       "2  Stacked Hiking Boot        Mordant Red 19          Women             Boot   \n",
       "3         Iron Running              Sky Blue          Youth          Running   \n",
       "4        Rogue Sneaker  Vermilion (Plochere)            Men          Sneaker   \n",
       "\n",
       "  referrer_source       product_title_gender  ...  user_trans_cnt  \\\n",
       "0          Search     Vanguard Sandal-Unisex  ...             0.0   \n",
       "1          Search          Rogue Sneaker-Men  ...             0.0   \n",
       "2          Search  Stacked Hiking Boot-Women  ...             0.0   \n",
       "3          Direct         Iron Running-Youth  ...             1.0   \n",
       "4          Direct          Rogue Sneaker-Men  ...             1.0   \n",
       "\n",
       "   user_tot_sales  user_avg_prod_cost  titgen_title_cnt  titgen_trans_cnt  \\\n",
       "0             0.0                 0.0               0.0               0.0   \n",
       "1             0.0                 0.0             443.0             397.0   \n",
       "2             0.0                 0.0             983.0             832.0   \n",
       "3           194.0               194.0               0.0               0.0   \n",
       "4           194.0               194.0             443.0             397.0   \n",
       "\n",
       "   titgen_tot_sales  titgen_avg_prod_cost  user_gen_trans_cnt  \\\n",
       "0               0.0              0.000000                 0.0   \n",
       "1           70381.0            158.873589                 0.0   \n",
       "2          199261.0            202.707019                 0.0   \n",
       "3               0.0              0.000000                 0.0   \n",
       "4           70381.0            158.873589                 0.0   \n",
       "\n",
       "   user_gen_avg_prod_cost  title_tot_sales  \n",
       "0                     0.0             1636  \n",
       "1                     0.0             1742  \n",
       "2                     0.0             1178  \n",
       "3                     0.0             3495  \n",
       "4                     0.0             1742  \n",
       "\n",
       "[5 rows x 22 columns]"
      ]
     },
     "execution_count": 45,
     "metadata": {},
     "output_type": "execute_result"
    }
   ],
   "source": [
    "train_df.head()"
   ]
  },
  {
   "cell_type": "code",
   "execution_count": 46,
   "id": "3c8e84af",
   "metadata": {},
   "outputs": [
    {
     "data": {
      "text/plain": [
       "Index(['timestamp', 'transaction_id', 'hash_customer', 'sale_amount',\n",
       "       'product_title', 'product_color', 'product_gender', 'product_category',\n",
       "       'referrer_source', 'product_title_gender', 'purchase', 'user_title_cnt',\n",
       "       'user_trans_cnt', 'user_tot_sales', 'user_avg_prod_cost',\n",
       "       'titgen_title_cnt', 'titgen_trans_cnt', 'titgen_tot_sales',\n",
       "       'titgen_avg_prod_cost', 'user_gen_trans_cnt', 'user_gen_avg_prod_cost',\n",
       "       'title_tot_sales'],\n",
       "      dtype='object')"
      ]
     },
     "execution_count": 46,
     "metadata": {},
     "output_type": "execute_result"
    }
   ],
   "source": [
    "train_df.columns"
   ]
  },
  {
   "cell_type": "code",
   "execution_count": null,
   "id": "4006eccb",
   "metadata": {},
   "outputs": [],
   "source": []
  },
  {
   "cell_type": "code",
   "execution_count": 47,
   "id": "bec00eae",
   "metadata": {},
   "outputs": [],
   "source": [
    "title_gender_model_fields = [\n",
    "    # 'sale_amount',\n",
    "    # 'referrer_source',\n",
    "    'user_title_cnt', 'user_trans_cnt', \n",
    "    'user_tot_sales', 'user_avg_prod_cost', \n",
    "    'titgen_title_cnt', 'titgen_trans_cnt', \n",
    "    'titgen_tot_sales','titgen_avg_prod_cost','titgen_avg_prod_cost', \n",
    "    'user_gen_trans_cnt', 'user_gen_avg_prod_cost',\n",
    "    'title_tot_sales']"
   ]
  },
  {
   "cell_type": "markdown",
   "id": "fcc83619",
   "metadata": {},
   "source": [
    "#### Logistic Regression"
   ]
  },
  {
   "cell_type": "code",
   "execution_count": 48,
   "id": "cc4ffb6a",
   "metadata": {},
   "outputs": [],
   "source": [
    "from sklearn.linear_model import LogisticRegression\n",
    "from sklearn.preprocessing import StandardScaler"
   ]
  },
  {
   "cell_type": "code",
   "execution_count": 49,
   "id": "da3778ca",
   "metadata": {},
   "outputs": [
    {
     "data": {
      "text/plain": [
       "StandardScaler()"
      ]
     },
     "execution_count": 49,
     "metadata": {},
     "output_type": "execute_result"
    }
   ],
   "source": [
    "scaler = StandardScaler()\n",
    "scaler.fit(train_df[title_gender_model_fields])"
   ]
  },
  {
   "cell_type": "code",
   "execution_count": 50,
   "id": "1d3c1e94",
   "metadata": {},
   "outputs": [],
   "source": [
    "scaled_df = scaler.transform(train_df[title_gender_model_fields])"
   ]
  },
  {
   "cell_type": "code",
   "execution_count": 51,
   "id": "8dbff8d5",
   "metadata": {},
   "outputs": [],
   "source": [
    "# create a logistic regression model with default parameters\n",
    "title_gender_lr_model = LogisticRegression()"
   ]
  },
  {
   "cell_type": "code",
   "execution_count": 52,
   "id": "120b7695",
   "metadata": {},
   "outputs": [
    {
     "data": {
      "text/plain": [
       "LogisticRegression()"
      ]
     },
     "execution_count": 52,
     "metadata": {},
     "output_type": "execute_result"
    }
   ],
   "source": [
    "# fit the model to the training data\n",
    "title_gender_lr_model.fit(X=scaled_df, \n",
    "             y=train_df['purchase'])"
   ]
  },
  {
   "cell_type": "code",
   "execution_count": 53,
   "id": "31d24338",
   "metadata": {},
   "outputs": [],
   "source": [
    "train_preds = title_gender_lr_model.predict_proba(scaled_df)"
   ]
  },
  {
   "cell_type": "code",
   "execution_count": 54,
   "id": "35fd05cf",
   "metadata": {},
   "outputs": [
    {
     "data": {
      "text/plain": [
       "array([0.02233869, 0.27331404, 0.39597724, ..., 0.65326786, 0.65326786,\n",
       "       0.26066759])"
      ]
     },
     "execution_count": 54,
     "metadata": {},
     "output_type": "execute_result"
    }
   ],
   "source": [
    "train_preds[:,1]"
   ]
  },
  {
   "cell_type": "code",
   "execution_count": null,
   "id": "8de4596f",
   "metadata": {},
   "outputs": [],
   "source": []
  },
  {
   "cell_type": "code",
   "execution_count": null,
   "id": "b428f086",
   "metadata": {},
   "outputs": [],
   "source": []
  },
  {
   "cell_type": "code",
   "execution_count": 56,
   "id": "0c55ea08",
   "metadata": {},
   "outputs": [],
   "source": [
    "# create inference data sets from product catalog\n",
    "inferrence_df = toy_products_df.copy()"
   ]
  },
  {
   "cell_type": "code",
   "execution_count": 57,
   "id": "a2709020",
   "metadata": {},
   "outputs": [],
   "source": [
    "full_test_eval = pd.merge(left=inferrence_df, \n",
    "                          right=test[['timestamp', 'hash_customer', 'referrer_source', 'product_title_gender']].drop_duplicates(), \n",
    "                          how='cross')"
   ]
  },
  {
   "cell_type": "code",
   "execution_count": 58,
   "id": "68c78b90",
   "metadata": {},
   "outputs": [
    {
     "data": {
      "text/plain": [
       "(13950000, 10)"
      ]
     },
     "execution_count": 58,
     "metadata": {},
     "output_type": "execute_result"
    }
   ],
   "source": [
    "full_test_eval.shape"
   ]
  },
  {
   "cell_type": "code",
   "execution_count": 59,
   "id": "5316bc09",
   "metadata": {},
   "outputs": [],
   "source": [
    "# add user features\n",
    "user_features_df = calc_user_features(as_of_dt=split_date)\n",
    "full_test_eval = pd.merge(left=full_test_eval, \n",
    "                        right=user_features_df,\n",
    "                        left_on='hash_customer',\n",
    "                        right_on='hash_customer', \n",
    "                        how='left')"
   ]
  },
  {
   "cell_type": "code",
   "execution_count": 61,
   "id": "e52dbbce",
   "metadata": {},
   "outputs": [],
   "source": [
    "# add titgen features\n",
    "titgen_features_df = calc_titgen_features(as_of_dt=split_date)\n",
    "full_test_eval = pd.merge(left=full_test_eval, \n",
    "                        right=titgen_features_df,\n",
    "                        left_on='product_title_gender',\n",
    "                        right_on='product_title_gender', \n",
    "                        how='left')"
   ]
  },
  {
   "cell_type": "code",
   "execution_count": 62,
   "id": "9f9bf336",
   "metadata": {},
   "outputs": [],
   "source": [
    "# add user-gen features\n",
    "user_gen_features_df = calc_user_gen_features(as_of_dt=split_date)\n",
    "full_test_eval = pd.merge(left=full_test_eval, \n",
    "                        right=user_gen_features_df,\n",
    "                        left_on=['hash_customer', 'product_gender'],\n",
    "                        right_on=['hash_customer', 'product_gender'], \n",
    "                        how='left')"
   ]
  },
  {
   "cell_type": "code",
   "execution_count": 63,
   "id": "197d3a37",
   "metadata": {},
   "outputs": [],
   "source": [
    "# add title features\n",
    "title_features_df = calc_title_features(as_of_dt=split_date)\n",
    "full_test_eval = pd.merge(left=full_test_eval, \n",
    "                        right=title_features_df,\n",
    "                        left_on='product_title',\n",
    "                        right_on='product_title', \n",
    "                        how='left')"
   ]
  },
  {
   "cell_type": "code",
   "execution_count": 64,
   "id": "99b48ab9",
   "metadata": {},
   "outputs": [
    {
     "data": {
      "text/plain": [
       "(13950000, 21)"
      ]
     },
     "execution_count": 64,
     "metadata": {},
     "output_type": "execute_result"
    }
   ],
   "source": [
    "full_test_eval.shape"
   ]
  },
  {
   "cell_type": "code",
   "execution_count": 65,
   "id": "c1971c69",
   "metadata": {},
   "outputs": [],
   "source": [
    "full_test_eval[fill_na_fields] = full_test_eval[fill_na_fields].fillna(0)"
   ]
  },
  {
   "cell_type": "code",
   "execution_count": 66,
   "id": "e48b0f89",
   "metadata": {},
   "outputs": [],
   "source": [
    "scaled_test_df = scaler.transform(full_test_eval[title_gender_model_fields])"
   ]
  },
  {
   "cell_type": "code",
   "execution_count": 67,
   "id": "5ba9d9c6",
   "metadata": {},
   "outputs": [],
   "source": [
    "test_preds = title_gender_lr_model.predict_proba(scaled_test_df)"
   ]
  },
  {
   "cell_type": "code",
   "execution_count": 68,
   "id": "f1883fca",
   "metadata": {},
   "outputs": [
    {
     "data": {
      "text/plain": [
       "array([0.11909287, 0.64734243, 0.34394272, ..., 0.55610528, 0.02686736,\n",
       "       0.69413123])"
      ]
     },
     "execution_count": 68,
     "metadata": {},
     "output_type": "execute_result"
    }
   ],
   "source": [
    "test_preds[:,1]"
   ]
  },
  {
   "cell_type": "code",
   "execution_count": 69,
   "id": "a55edeb0",
   "metadata": {},
   "outputs": [
    {
     "data": {
      "text/plain": [
       "13950000"
      ]
     },
     "execution_count": 69,
     "metadata": {},
     "output_type": "execute_result"
    }
   ],
   "source": [
    "len(test_preds)"
   ]
  },
  {
   "cell_type": "code",
   "execution_count": 70,
   "id": "81dee375",
   "metadata": {},
   "outputs": [],
   "source": [
    "full_test_eval['pred'] = test_preds[:,1]"
   ]
  },
  {
   "cell_type": "code",
   "execution_count": 71,
   "id": "06d08c06",
   "metadata": {},
   "outputs": [],
   "source": [
    "full_test_eval['pred_rank'] = full_test_eval.groupby(['hash_customer','timestamp'])['pred'].rank(method='first', ascending=False)"
   ]
  },
  {
   "cell_type": "code",
   "execution_count": null,
   "id": "03352d2b",
   "metadata": {},
   "outputs": [],
   "source": []
  },
  {
   "cell_type": "code",
   "execution_count": 72,
   "id": "d094a6c4",
   "metadata": {},
   "outputs": [
    {
     "data": {
      "text/plain": [
       "(37380, 23)"
      ]
     },
     "execution_count": 72,
     "metadata": {},
     "output_type": "execute_result"
    }
   ],
   "source": [
    "sorted_df = full_test_eval.sort_values(['hash_customer', 'timestamp', 'pred'], \n",
    "                                       ascending=[True, True, False])\n",
    "test_preds_eval_df = sorted_df.groupby(['hash_customer', 'timestamp']).head(10)\n",
    "test_preds_eval_df.shape"
   ]
  },
  {
   "cell_type": "code",
   "execution_count": 73,
   "id": "7aea4936",
   "metadata": {},
   "outputs": [
    {
     "data": {
      "text/plain": [
       "(37380, 23)"
      ]
     },
     "execution_count": 73,
     "metadata": {},
     "output_type": "execute_result"
    }
   ],
   "source": [
    "full_test_eval[full_test_eval['pred_rank']<=10].shape"
   ]
  },
  {
   "cell_type": "code",
   "execution_count": null,
   "id": "9f5aa018",
   "metadata": {},
   "outputs": [],
   "source": []
  },
  {
   "cell_type": "code",
   "execution_count": 75,
   "id": "dde94095",
   "metadata": {},
   "outputs": [
    {
     "data": {
      "text/plain": [
       "Boot    37380\n",
       "Name: product_category, dtype: int64"
      ]
     },
     "execution_count": 75,
     "metadata": {},
     "output_type": "execute_result"
    }
   ],
   "source": [
    "test_preds_eval_df['product_category'].value_counts()"
   ]
  },
  {
   "cell_type": "code",
   "execution_count": null,
   "id": "d5e6bd5f",
   "metadata": {},
   "outputs": [],
   "source": []
  },
  {
   "cell_type": "code",
   "execution_count": 77,
   "id": "a5170978",
   "metadata": {},
   "outputs": [
    {
     "name": "stdout",
     "output_type": "stream",
     "text": [
      "Percent of purchases ranked in top 10: 100.0%\n",
      "Average rank of purchases: 5.5\n",
      "Mean Reciprocal Rank: 0.293\n"
     ]
    }
   ],
   "source": [
    "print_eval_metrics(eval_df=test_preds_eval_df)"
   ]
  },
  {
   "cell_type": "code",
   "execution_count": 83,
   "id": "2046e520",
   "metadata": {},
   "outputs": [
    {
     "name": "stdout",
     "output_type": "stream",
     "text": [
      "Boot purchases: 37380\n",
      "Boot purchases ranked in top 10: 100.0%\n",
      "Boot avg rank of purchases: 5.5\n",
      "Boot MRR: 0.293\n",
      "\n"
     ]
    }
   ],
   "source": [
    "print_category_eval_metrics(eval_df=test_preds_eval_df, \n",
    "                            category_var = 'product_category')"
   ]
  },
  {
   "cell_type": "code",
   "execution_count": 84,
   "id": "68b12b2c",
   "metadata": {},
   "outputs": [
    {
     "name": "stdout",
     "output_type": "stream",
     "text": [
      "Men purchases: 8496\n",
      "Men purchases ranked in top 10: 100.0%\n",
      "Men avg rank of purchases: 4.92\n",
      "Men MRR: 0.377\n",
      "\n",
      "Women purchases: 20439\n",
      "Women purchases ranked in top 10: 100.0%\n",
      "Women avg rank of purchases: 5.39\n",
      "Women MRR: 0.296\n",
      "\n",
      "Kids purchases: 2710\n",
      "Kids purchases ranked in top 10: 100.0%\n",
      "Kids avg rank of purchases: 5.5\n",
      "Kids MRR: 0.236\n",
      "\n",
      "Youth purchases: 2755\n",
      "Youth purchases ranked in top 10: 100.0%\n",
      "Youth avg rank of purchases: 6.38\n",
      "Youth MRR: 0.194\n",
      "\n",
      "Unisex purchases: 2980\n",
      "Unisex purchases ranked in top 10: 100.0%\n",
      "Unisex avg rank of purchases: 7.13\n",
      "Unisex MRR: 0.177\n",
      "\n"
     ]
    }
   ],
   "source": [
    "print_category_eval_metrics(eval_df=test_preds_eval_df, \n",
    "                            category_var = 'product_gender')"
   ]
  },
  {
   "cell_type": "code",
   "execution_count": 85,
   "id": "d601a67d",
   "metadata": {},
   "outputs": [
    {
     "data": {
      "text/html": [
       "<div>\n",
       "<style scoped>\n",
       "    .dataframe tbody tr th:only-of-type {\n",
       "        vertical-align: middle;\n",
       "    }\n",
       "\n",
       "    .dataframe tbody tr th {\n",
       "        vertical-align: top;\n",
       "    }\n",
       "\n",
       "    .dataframe thead th {\n",
       "        text-align: right;\n",
       "    }\n",
       "</style>\n",
       "<table border=\"1\" class=\"dataframe\">\n",
       "  <thead>\n",
       "    <tr style=\"text-align: right;\">\n",
       "      <th></th>\n",
       "      <th>product_id</th>\n",
       "      <th>product_title</th>\n",
       "      <th>product_category</th>\n",
       "      <th>sale_amount</th>\n",
       "      <th>product_color</th>\n",
       "      <th>product_gender</th>\n",
       "      <th>timestamp</th>\n",
       "      <th>hash_customer</th>\n",
       "      <th>referrer_source</th>\n",
       "      <th>product_title_gender</th>\n",
       "      <th>...</th>\n",
       "      <th>user_avg_prod_cost</th>\n",
       "      <th>titgen_title_cnt</th>\n",
       "      <th>titgen_trans_cnt</th>\n",
       "      <th>titgen_tot_sales</th>\n",
       "      <th>titgen_avg_prod_cost</th>\n",
       "      <th>user_gen_trans_cnt</th>\n",
       "      <th>user_gen_avg_prod_cost</th>\n",
       "      <th>title_tot_sales</th>\n",
       "      <th>pred</th>\n",
       "      <th>pred_rank</th>\n",
       "    </tr>\n",
       "  </thead>\n",
       "  <tbody>\n",
       "    <tr>\n",
       "      <th>559824</th>\n",
       "      <td>9438</td>\n",
       "      <td>Bejeweled Boot</td>\n",
       "      <td>Boot</td>\n",
       "      <td>478</td>\n",
       "      <td>Midnight Green (Eagle Green)</td>\n",
       "      <td>Men</td>\n",
       "      <td>2022-06-03 04:00:00</td>\n",
       "      <td>6606248094173010</td>\n",
       "      <td>Direct</td>\n",
       "      <td>Iron Running-Men</td>\n",
       "      <td>...</td>\n",
       "      <td>198.0</td>\n",
       "      <td>1088.0</td>\n",
       "      <td>936.0</td>\n",
       "      <td>234476.0</td>\n",
       "      <td>215.511029</td>\n",
       "      <td>1.0</td>\n",
       "      <td>198.0</td>\n",
       "      <td>0.0</td>\n",
       "      <td>0.551794</td>\n",
       "      <td>1.0</td>\n",
       "    </tr>\n",
       "    <tr>\n",
       "      <th>582144</th>\n",
       "      <td>9438</td>\n",
       "      <td>Bejeweled Boot</td>\n",
       "      <td>Boot</td>\n",
       "      <td>478</td>\n",
       "      <td>Prussian Blue</td>\n",
       "      <td>Men</td>\n",
       "      <td>2022-06-03 04:00:00</td>\n",
       "      <td>6606248094173010</td>\n",
       "      <td>Direct</td>\n",
       "      <td>Iron Running-Men</td>\n",
       "      <td>...</td>\n",
       "      <td>198.0</td>\n",
       "      <td>1088.0</td>\n",
       "      <td>936.0</td>\n",
       "      <td>234476.0</td>\n",
       "      <td>215.511029</td>\n",
       "      <td>1.0</td>\n",
       "      <td>198.0</td>\n",
       "      <td>0.0</td>\n",
       "      <td>0.551794</td>\n",
       "      <td>2.0</td>\n",
       "    </tr>\n",
       "    <tr>\n",
       "      <th>604464</th>\n",
       "      <td>9438</td>\n",
       "      <td>Bejeweled Boot</td>\n",
       "      <td>Boot</td>\n",
       "      <td>478</td>\n",
       "      <td>Electric Purple</td>\n",
       "      <td>Men</td>\n",
       "      <td>2022-06-03 04:00:00</td>\n",
       "      <td>6606248094173010</td>\n",
       "      <td>Direct</td>\n",
       "      <td>Iron Running-Men</td>\n",
       "      <td>...</td>\n",
       "      <td>198.0</td>\n",
       "      <td>1088.0</td>\n",
       "      <td>936.0</td>\n",
       "      <td>234476.0</td>\n",
       "      <td>215.511029</td>\n",
       "      <td>1.0</td>\n",
       "      <td>198.0</td>\n",
       "      <td>0.0</td>\n",
       "      <td>0.551794</td>\n",
       "      <td>3.0</td>\n",
       "    </tr>\n",
       "    <tr>\n",
       "      <th>626784</th>\n",
       "      <td>9438</td>\n",
       "      <td>Bejeweled Boot</td>\n",
       "      <td>Boot</td>\n",
       "      <td>478</td>\n",
       "      <td>Stormcloud</td>\n",
       "      <td>Men</td>\n",
       "      <td>2022-06-03 04:00:00</td>\n",
       "      <td>6606248094173010</td>\n",
       "      <td>Direct</td>\n",
       "      <td>Iron Running-Men</td>\n",
       "      <td>...</td>\n",
       "      <td>198.0</td>\n",
       "      <td>1088.0</td>\n",
       "      <td>936.0</td>\n",
       "      <td>234476.0</td>\n",
       "      <td>215.511029</td>\n",
       "      <td>1.0</td>\n",
       "      <td>198.0</td>\n",
       "      <td>0.0</td>\n",
       "      <td>0.551794</td>\n",
       "      <td>4.0</td>\n",
       "    </tr>\n",
       "    <tr>\n",
       "      <th>649104</th>\n",
       "      <td>9438</td>\n",
       "      <td>Bejeweled Boot</td>\n",
       "      <td>Boot</td>\n",
       "      <td>478</td>\n",
       "      <td>Vermilion (Plochere)</td>\n",
       "      <td>Men</td>\n",
       "      <td>2022-06-03 04:00:00</td>\n",
       "      <td>6606248094173010</td>\n",
       "      <td>Direct</td>\n",
       "      <td>Iron Running-Men</td>\n",
       "      <td>...</td>\n",
       "      <td>198.0</td>\n",
       "      <td>1088.0</td>\n",
       "      <td>936.0</td>\n",
       "      <td>234476.0</td>\n",
       "      <td>215.511029</td>\n",
       "      <td>1.0</td>\n",
       "      <td>198.0</td>\n",
       "      <td>0.0</td>\n",
       "      <td>0.551794</td>\n",
       "      <td>5.0</td>\n",
       "    </tr>\n",
       "  </tbody>\n",
       "</table>\n",
       "<p>5 rows × 23 columns</p>\n",
       "</div>"
      ],
      "text/plain": [
       "        product_id   product_title product_category  sale_amount  \\\n",
       "559824        9438  Bejeweled Boot             Boot          478   \n",
       "582144        9438  Bejeweled Boot             Boot          478   \n",
       "604464        9438  Bejeweled Boot             Boot          478   \n",
       "626784        9438  Bejeweled Boot             Boot          478   \n",
       "649104        9438  Bejeweled Boot             Boot          478   \n",
       "\n",
       "                       product_color product_gender           timestamp  \\\n",
       "559824  Midnight Green (Eagle Green)            Men 2022-06-03 04:00:00   \n",
       "582144                 Prussian Blue            Men 2022-06-03 04:00:00   \n",
       "604464               Electric Purple            Men 2022-06-03 04:00:00   \n",
       "626784                    Stormcloud            Men 2022-06-03 04:00:00   \n",
       "649104          Vermilion (Plochere)            Men 2022-06-03 04:00:00   \n",
       "\n",
       "           hash_customer referrer_source product_title_gender  ...  \\\n",
       "559824  6606248094173010          Direct     Iron Running-Men  ...   \n",
       "582144  6606248094173010          Direct     Iron Running-Men  ...   \n",
       "604464  6606248094173010          Direct     Iron Running-Men  ...   \n",
       "626784  6606248094173010          Direct     Iron Running-Men  ...   \n",
       "649104  6606248094173010          Direct     Iron Running-Men  ...   \n",
       "\n",
       "        user_avg_prod_cost  titgen_title_cnt  titgen_trans_cnt  \\\n",
       "559824               198.0            1088.0             936.0   \n",
       "582144               198.0            1088.0             936.0   \n",
       "604464               198.0            1088.0             936.0   \n",
       "626784               198.0            1088.0             936.0   \n",
       "649104               198.0            1088.0             936.0   \n",
       "\n",
       "        titgen_tot_sales  titgen_avg_prod_cost  user_gen_trans_cnt  \\\n",
       "559824          234476.0            215.511029                 1.0   \n",
       "582144          234476.0            215.511029                 1.0   \n",
       "604464          234476.0            215.511029                 1.0   \n",
       "626784          234476.0            215.511029                 1.0   \n",
       "649104          234476.0            215.511029                 1.0   \n",
       "\n",
       "        user_gen_avg_prod_cost  title_tot_sales      pred  pred_rank  \n",
       "559824                   198.0              0.0  0.551794        1.0  \n",
       "582144                   198.0              0.0  0.551794        2.0  \n",
       "604464                   198.0              0.0  0.551794        3.0  \n",
       "626784                   198.0              0.0  0.551794        4.0  \n",
       "649104                   198.0              0.0  0.551794        5.0  \n",
       "\n",
       "[5 rows x 23 columns]"
      ]
     },
     "execution_count": 85,
     "metadata": {},
     "output_type": "execute_result"
    }
   ],
   "source": [
    "test_preds_eval_df.head()"
   ]
  },
  {
   "cell_type": "code",
   "execution_count": 86,
   "id": "c7b4f4fc",
   "metadata": {},
   "outputs": [
    {
     "data": {
      "text/html": [
       "<div>\n",
       "<style scoped>\n",
       "    .dataframe tbody tr th:only-of-type {\n",
       "        vertical-align: middle;\n",
       "    }\n",
       "\n",
       "    .dataframe tbody tr th {\n",
       "        vertical-align: top;\n",
       "    }\n",
       "\n",
       "    .dataframe thead tr th {\n",
       "        text-align: left;\n",
       "    }\n",
       "\n",
       "    .dataframe thead tr:last-of-type th {\n",
       "        text-align: right;\n",
       "    }\n",
       "</style>\n",
       "<table border=\"1\" class=\"dataframe\">\n",
       "  <thead>\n",
       "    <tr>\n",
       "      <th></th>\n",
       "      <th colspan=\"2\" halign=\"left\">pred</th>\n",
       "    </tr>\n",
       "    <tr>\n",
       "      <th></th>\n",
       "      <th>mean</th>\n",
       "      <th>count</th>\n",
       "    </tr>\n",
       "    <tr>\n",
       "      <th>product_category</th>\n",
       "      <th></th>\n",
       "      <th></th>\n",
       "    </tr>\n",
       "  </thead>\n",
       "  <tbody>\n",
       "    <tr>\n",
       "      <th>Boot</th>\n",
       "      <td>0.212106</td>\n",
       "      <td>2250</td>\n",
       "    </tr>\n",
       "    <tr>\n",
       "      <th>Running</th>\n",
       "      <td>0.177601</td>\n",
       "      <td>1250</td>\n",
       "    </tr>\n",
       "    <tr>\n",
       "      <th>Sandal</th>\n",
       "      <td>0.214399</td>\n",
       "      <td>1750</td>\n",
       "    </tr>\n",
       "    <tr>\n",
       "      <th>Sneaker</th>\n",
       "      <td>0.204946</td>\n",
       "      <td>1000</td>\n",
       "    </tr>\n",
       "  </tbody>\n",
       "</table>\n",
       "</div>"
      ],
      "text/plain": [
       "                      pred      \n",
       "                      mean count\n",
       "product_category                \n",
       "Boot              0.212106  2250\n",
       "Running           0.177601  1250\n",
       "Sandal            0.214399  1750\n",
       "Sneaker           0.204946  1000"
      ]
     },
     "execution_count": 86,
     "metadata": {},
     "output_type": "execute_result"
    }
   ],
   "source": [
    "full_test_eval[full_test_eval['hash_customer']==6606248094173010] \\\n",
    "    .groupby('product_category').agg({\n",
    "        'pred': ['mean', 'count'],\n",
    "    })"
   ]
  },
  {
   "cell_type": "code",
   "execution_count": null,
   "id": "44d0ff49",
   "metadata": {},
   "outputs": [],
   "source": []
  },
  {
   "cell_type": "code",
   "execution_count": null,
   "id": "6a22550f",
   "metadata": {},
   "outputs": [],
   "source": []
  },
  {
   "cell_type": "code",
   "execution_count": null,
   "id": "1abfda3f",
   "metadata": {},
   "outputs": [],
   "source": []
  },
  {
   "cell_type": "code",
   "execution_count": null,
   "id": "3091f182",
   "metadata": {},
   "outputs": [],
   "source": [
    "# Loop over test dates, create preds, join preds back to transactions to create eval_df\n",
    "\n",
    "NUM_DATES_TO_LOOP_OVER = 5\n",
    "\n",
    "full_eval_df = pd.DataFrame()\n",
    "\n",
    "for index, test_dt in enumerate(test_dates[0:NUM_DATES_TO_LOOP_OVER]):\n",
    "    print(index, end=',')\n",
    "    \n",
    "    pred_df = get_top10_title_gender_preds(as_of_dt=test_dt)\n",
    "    \n",
    "    # Join the recommended item predictions to the test data set on the transaction date\n",
    "    join_df = pd.merge(left=test[test['timestamp'].dt.date==test_dt], \n",
    "                       right=pred_df[['title_pred', 'gender_pred', 'pred_rank']], \n",
    "                       left_on=['product_title','product_gender'],\n",
    "                       right_on=['title_pred', 'gender_pred'],\n",
    "                       how='left')\n",
    "    \n",
    "    full_eval_df = pd.concat([full_eval_df, join_df])"
   ]
  },
  {
   "cell_type": "code",
   "execution_count": null,
   "id": "d9ebad54",
   "metadata": {},
   "outputs": [],
   "source": []
  },
  {
   "cell_type": "code",
   "execution_count": null,
   "id": "8e7ae51c",
   "metadata": {},
   "outputs": [],
   "source": []
  },
  {
   "cell_type": "code",
   "execution_count": null,
   "id": "ad98322d",
   "metadata": {},
   "outputs": [],
   "source": []
  },
  {
   "cell_type": "code",
   "execution_count": null,
   "id": "c757c0c8",
   "metadata": {},
   "outputs": [],
   "source": []
  }
 ],
 "metadata": {
  "kernelspec": {
   "display_name": "Python 3",
   "language": "python",
   "name": "python3"
  },
  "language_info": {
   "codemirror_mode": {
    "name": "ipython",
    "version": 3
   },
   "file_extension": ".py",
   "mimetype": "text/x-python",
   "name": "python",
   "nbconvert_exporter": "python",
   "pygments_lexer": "ipython3",
   "version": "3.8.8"
  }
 },
 "nbformat": 4,
 "nbformat_minor": 5
}
