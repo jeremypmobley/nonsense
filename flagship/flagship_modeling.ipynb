{
 "cells": [
  {
   "cell_type": "markdown",
   "id": "3e6cfc17",
   "metadata": {},
   "source": [
    "# Modeling"
   ]
  },
  {
   "cell_type": "code",
   "execution_count": 1,
   "id": "a381e456",
   "metadata": {},
   "outputs": [],
   "source": [
    "import pandas as pd\n",
    "import numpy as np\n",
    "import random\n",
    "from datetime import timedelta"
   ]
  },
  {
   "cell_type": "code",
   "execution_count": null,
   "id": "ee1b5b1f",
   "metadata": {},
   "outputs": [],
   "source": [
    "import datetime"
   ]
  },
  {
   "cell_type": "markdown",
   "id": "26b96132",
   "metadata": {},
   "source": [
    "#### Import data"
   ]
  },
  {
   "cell_type": "code",
   "execution_count": 2,
   "id": "564fe453",
   "metadata": {},
   "outputs": [
    {
     "data": {
      "text/plain": [
       "'C:\\\\Users\\\\jerem\\\\Desktop\\\\nonsense\\\\flagship'"
      ]
     },
     "execution_count": 2,
     "metadata": {},
     "output_type": "execute_result"
    }
   ],
   "source": [
    "pwd"
   ]
  },
  {
   "cell_type": "code",
   "execution_count": 3,
   "id": "5e947fa7",
   "metadata": {},
   "outputs": [
    {
     "name": "stdout",
     "output_type": "stream",
     "text": [
      "(3125, 6)\n",
      "(32151, 23)\n"
     ]
    }
   ],
   "source": [
    "toy_dataset_df = pd.read_csv('toy_dataset_1_10_23.csv')\n",
    "toy_products_df = pd.read_csv('toy_products_1_10_23.csv')\n",
    "\n",
    "print(toy_products_df.shape)\n",
    "print(toy_dataset_df.shape)"
   ]
  },
  {
   "cell_type": "markdown",
   "id": "b04a0f20",
   "metadata": {},
   "source": [
    "#### Clean data"
   ]
  },
  {
   "cell_type": "code",
   "execution_count": 4,
   "id": "a486eee4",
   "metadata": {},
   "outputs": [],
   "source": [
    "toy_dataset_df['timestamp'] = pd.to_datetime(toy_dataset_df['timestamp'])"
   ]
  },
  {
   "cell_type": "code",
   "execution_count": 5,
   "id": "19631a6d",
   "metadata": {},
   "outputs": [],
   "source": [
    "# Filter to only 'Online Store'\n",
    "toy_dataset_df = toy_dataset_df[toy_dataset_df['point_of_sales']=='Online Store']"
   ]
  },
  {
   "cell_type": "code",
   "execution_count": 6,
   "id": "c938f6ef",
   "metadata": {},
   "outputs": [
    {
     "data": {
      "text/plain": [
       "(29338, 23)"
      ]
     },
     "execution_count": 6,
     "metadata": {},
     "output_type": "execute_result"
    }
   ],
   "source": [
    "toy_dataset_df.shape"
   ]
  },
  {
   "cell_type": "code",
   "execution_count": 7,
   "id": "00a9c3bb",
   "metadata": {},
   "outputs": [],
   "source": [
    "# Add column for transaction number for each user\n",
    "df_sorted = toy_dataset_df.sort_values('timestamp').groupby(['hash_customer', 'timestamp']).first().reset_index()\n",
    "df_sorted['transaction_num'] = df_sorted.groupby('hash_customer', sort=False)['timestamp'].rank(method='dense')\n",
    "# Merge the transaction number back into the original dataframe\n",
    "toy_dataset_df = toy_dataset_df.merge(df_sorted[['hash_customer', 'timestamp', 'transaction_num']], \n",
    "                                      on=['hash_customer', 'timestamp'])"
   ]
  },
  {
   "cell_type": "markdown",
   "id": "b6236bb3",
   "metadata": {},
   "source": [
    "#### Create train, test data sets based on date split"
   ]
  },
  {
   "cell_type": "code",
   "execution_count": 8,
   "id": "d2fa2180",
   "metadata": {},
   "outputs": [],
   "source": [
    "# create title-gender field\n",
    "toy_dataset_df.loc[:,'product_title_gender'] = toy_dataset_df['product_title'] + '-' + toy_dataset_df['product_gender']"
   ]
  },
  {
   "cell_type": "code",
   "execution_count": 9,
   "id": "de6b8628",
   "metadata": {},
   "outputs": [],
   "source": [
    "split_date = '2022-04-01' # choose a date to split the data - roughly 80/20 split\n",
    "train = toy_dataset_df[toy_dataset_df['timestamp'] < split_date]\n",
    "test = toy_dataset_df[toy_dataset_df['timestamp'] >= split_date]"
   ]
  },
  {
   "cell_type": "code",
   "execution_count": 10,
   "id": "8c695d5c",
   "metadata": {},
   "outputs": [
    {
     "name": "stdout",
     "output_type": "stream",
     "text": [
      "230\n",
      "894\n"
     ]
    }
   ],
   "source": [
    "test_dates = test['timestamp'].dt.date.unique().tolist()\n",
    "print(len(test_dates))\n",
    "train_dates = train['timestamp'].dt.date.unique().tolist()\n",
    "print(len(train_dates))"
   ]
  },
  {
   "cell_type": "code",
   "execution_count": 11,
   "id": "a61e4033",
   "metadata": {},
   "outputs": [
    {
     "data": {
      "text/plain": [
       "81.98"
      ]
     },
     "execution_count": 11,
     "metadata": {},
     "output_type": "execute_result"
    }
   ],
   "source": [
    "# percent of data in training data set\n",
    "round(train.shape[0] / toy_dataset_df.shape[0] * 100.0,2)"
   ]
  },
  {
   "cell_type": "code",
   "execution_count": 12,
   "id": "67dbfd59",
   "metadata": {},
   "outputs": [
    {
     "name": "stdout",
     "output_type": "stream",
     "text": [
      "(24050, 25)\n",
      "(5288, 25)\n"
     ]
    }
   ],
   "source": [
    "print(train.shape)\n",
    "print(test.shape)"
   ]
  },
  {
   "cell_type": "markdown",
   "id": "d0520396",
   "metadata": {},
   "source": [
    "### Baseline Model - top 10 titles over previous week"
   ]
  },
  {
   "cell_type": "code",
   "execution_count": 13,
   "id": "454a6ce2",
   "metadata": {},
   "outputs": [],
   "source": [
    "def get_top10_title_preds(as_of_dt, prev_days=7, top_n=10):\n",
    "    \"\"\"\n",
    "    Function to return the top 10 most popular product_titles sold in previous n days from as_of date\n",
    "    Returns a pandas dataframe of 10 records\n",
    "    \"\"\"\n",
    "    given_date = pd.to_datetime(as_of_dt)\n",
    "    start_date = given_date - timedelta(days=prev_days)\n",
    "    last_week_df = toy_dataset_df[(toy_dataset_df['timestamp']<given_date) & (toy_dataset_df['timestamp']>start_date)]\n",
    "    top10_last_wk_df = last_week_df.groupby('product_title').size().reset_index(name='count').sort_values('count', ascending=False).head(top_n)\n",
    "    top10_last_wk_df['transaction_date'] = as_of_dt\n",
    "    top10_last_wk_df['title_rank'] = top10_last_wk_df['count'].rank(method='first', ascending=False)\n",
    "    top10_last_wk_df.columns = ['title_pred', 'prev_wk_cnt', 'transaction_date', 'pred_rank']\n",
    "    return top10_last_wk_df"
   ]
  },
  {
   "cell_type": "code",
   "execution_count": 14,
   "id": "ece04672",
   "metadata": {},
   "outputs": [
    {
     "data": {
      "text/html": [
       "<div>\n",
       "<style scoped>\n",
       "    .dataframe tbody tr th:only-of-type {\n",
       "        vertical-align: middle;\n",
       "    }\n",
       "\n",
       "    .dataframe tbody tr th {\n",
       "        vertical-align: top;\n",
       "    }\n",
       "\n",
       "    .dataframe thead th {\n",
       "        text-align: right;\n",
       "    }\n",
       "</style>\n",
       "<table border=\"1\" class=\"dataframe\">\n",
       "  <thead>\n",
       "    <tr style=\"text-align: right;\">\n",
       "      <th></th>\n",
       "      <th>title_pred</th>\n",
       "      <th>prev_wk_cnt</th>\n",
       "      <th>transaction_date</th>\n",
       "      <th>pred_rank</th>\n",
       "    </tr>\n",
       "  </thead>\n",
       "  <tbody>\n",
       "    <tr>\n",
       "      <th>4</th>\n",
       "      <td>Olympic Running</td>\n",
       "      <td>64</td>\n",
       "      <td>2021-08-13</td>\n",
       "      <td>1.0</td>\n",
       "    </tr>\n",
       "    <tr>\n",
       "      <th>2</th>\n",
       "      <td>Iron Running</td>\n",
       "      <td>31</td>\n",
       "      <td>2021-08-13</td>\n",
       "      <td>2.0</td>\n",
       "    </tr>\n",
       "    <tr>\n",
       "      <th>8</th>\n",
       "      <td>Vanguard Sandal</td>\n",
       "      <td>12</td>\n",
       "      <td>2021-08-13</td>\n",
       "      <td>3.0</td>\n",
       "    </tr>\n",
       "    <tr>\n",
       "      <th>0</th>\n",
       "      <td>Classic Sneaker</td>\n",
       "      <td>9</td>\n",
       "      <td>2021-08-13</td>\n",
       "      <td>4.0</td>\n",
       "    </tr>\n",
       "    <tr>\n",
       "      <th>1</th>\n",
       "      <td>Hustler Boot</td>\n",
       "      <td>9</td>\n",
       "      <td>2021-08-13</td>\n",
       "      <td>5.0</td>\n",
       "    </tr>\n",
       "    <tr>\n",
       "      <th>3</th>\n",
       "      <td>League Running</td>\n",
       "      <td>8</td>\n",
       "      <td>2021-08-13</td>\n",
       "      <td>6.0</td>\n",
       "    </tr>\n",
       "    <tr>\n",
       "      <th>5</th>\n",
       "      <td>Rogue Sneaker</td>\n",
       "      <td>8</td>\n",
       "      <td>2021-08-13</td>\n",
       "      <td>7.0</td>\n",
       "    </tr>\n",
       "    <tr>\n",
       "      <th>6</th>\n",
       "      <td>Scalar Sandal</td>\n",
       "      <td>4</td>\n",
       "      <td>2021-08-13</td>\n",
       "      <td>8.0</td>\n",
       "    </tr>\n",
       "    <tr>\n",
       "      <th>7</th>\n",
       "      <td>Stacked Hiking Boot</td>\n",
       "      <td>2</td>\n",
       "      <td>2021-08-13</td>\n",
       "      <td>9.0</td>\n",
       "    </tr>\n",
       "  </tbody>\n",
       "</table>\n",
       "</div>"
      ],
      "text/plain": [
       "            title_pred  prev_wk_cnt transaction_date  pred_rank\n",
       "4      Olympic Running           64       2021-08-13        1.0\n",
       "2         Iron Running           31       2021-08-13        2.0\n",
       "8      Vanguard Sandal           12       2021-08-13        3.0\n",
       "0      Classic Sneaker            9       2021-08-13        4.0\n",
       "1         Hustler Boot            9       2021-08-13        5.0\n",
       "3       League Running            8       2021-08-13        6.0\n",
       "5        Rogue Sneaker            8       2021-08-13        7.0\n",
       "6        Scalar Sandal            4       2021-08-13        8.0\n",
       "7  Stacked Hiking Boot            2       2021-08-13        9.0"
      ]
     },
     "execution_count": 14,
     "metadata": {},
     "output_type": "execute_result"
    }
   ],
   "source": [
    "get_top10_title_preds(as_of_dt='2021-08-13')"
   ]
  },
  {
   "cell_type": "code",
   "execution_count": 15,
   "id": "7c474843",
   "metadata": {},
   "outputs": [
    {
     "name": "stdout",
     "output_type": "stream",
     "text": [
      "0,1,2,3,4,5,6,7,8,9,10,11,12,13,14,15,16,17,18,19,20,21,22,23,24,25,26,27,28,29,30,31,32,33,34,35,36,37,38,39,40,41,42,43,44,45,46,47,48,49,50,51,52,53,54,55,56,57,58,59,60,61,62,63,64,65,66,67,68,69,70,71,72,73,74,75,76,77,78,79,80,81,82,83,84,85,86,87,88,89,90,91,92,93,94,95,96,97,98,99,100,101,102,103,104,105,106,107,108,109,110,111,112,113,114,115,116,117,118,119,120,121,122,123,124,125,126,127,128,129,130,131,132,133,134,135,136,137,138,139,140,141,142,143,144,145,146,147,148,149,150,151,152,153,154,155,156,157,158,159,160,161,162,163,164,165,166,167,168,169,170,171,172,173,174,175,176,177,178,179,180,181,182,183,184,185,186,187,188,189,190,191,192,193,194,195,196,197,198,199,200,201,202,203,204,205,206,207,208,209,210,211,212,213,214,215,216,217,218,219,220,221,222,223,224,225,226,227,228,229,"
     ]
    }
   ],
   "source": [
    "# Loop over test dates, create preds, join preds back to transactions to create eval_df\n",
    "\n",
    "full_eval_df = pd.DataFrame()\n",
    "\n",
    "for index, test_dt in enumerate(test_dates):\n",
    "    print(index, end=',')\n",
    "    \n",
    "    pred_df = get_top10_title_preds(as_of_dt=test_dt)\n",
    "    \n",
    "    # Join the recommended item predictions to the test data set on the transaction date\n",
    "    join_df = pd.merge(left=test[test['timestamp'].dt.date==test_dt], \n",
    "                       right=pred_df[['title_pred','pred_rank']], \n",
    "                       left_on='product_title',\n",
    "                       right_on='title_pred',\n",
    "                       how='left')\n",
    "    \n",
    "    full_eval_df = pd.concat([full_eval_df, join_df])"
   ]
  },
  {
   "cell_type": "code",
   "execution_count": 16,
   "id": "e0bdbe5f",
   "metadata": {},
   "outputs": [],
   "source": [
    "assert full_eval_df.shape[0] == test.shape[0]"
   ]
  },
  {
   "cell_type": "code",
   "execution_count": 17,
   "id": "036e29aa",
   "metadata": {},
   "outputs": [],
   "source": [
    "def print_eval_metrics(eval_df):\n",
    "    pct_purchases_top10 = round(eval_df['pred_rank'].count() / eval_df.shape[0],2) * 100.0\n",
    "    avg_rank = round(eval_df['pred_rank'].mean(),2)\n",
    "    reciprocal_ranks = 1 / eval_df['pred_rank']\n",
    "    mrr = round(np.mean(reciprocal_ranks),3)\n",
    "    print(f'Percent of purchases ranked in top 10: {pct_purchases_top10}%')\n",
    "    print(f'Average rank of purchases: {avg_rank}')\n",
    "    print(f'Mean Reciprocal Rank: {mrr}')"
   ]
  },
  {
   "cell_type": "code",
   "execution_count": 18,
   "id": "a6d11037",
   "metadata": {},
   "outputs": [
    {
     "name": "stdout",
     "output_type": "stream",
     "text": [
      "Percent of purchases ranked in top 10: 95.0%\n",
      "Average rank of purchases: 3.73\n",
      "Mean Reciprocal Rank: 0.49\n"
     ]
    }
   ],
   "source": [
    "print_eval_metrics(eval_df=full_eval_df)"
   ]
  },
  {
   "cell_type": "code",
   "execution_count": 19,
   "id": "16335c00",
   "metadata": {},
   "outputs": [],
   "source": [
    "def print_category_eval_metrics(eval_df, category_var):\n",
    "    categories = eval_df[category_var].unique()\n",
    "    for category in categories:\n",
    "        df_category = eval_df[eval_df[category_var] == category]\n",
    "        print(f'{category} purchases: {df_category.shape[0]}')\n",
    "        pct_purchases_top10 = round(df_category['pred_rank'].count() / df_category.shape[0],2) * 100.0\n",
    "        print(f'{category} purchases ranked in top 10: {pct_purchases_top10}%')\n",
    "        avg_rank = round(df_category['pred_rank'].mean(),2)\n",
    "        print(f'{category} avg rank of purchases: {avg_rank}')\n",
    "        reciprocal_ranks = 1 / df_category['pred_rank']\n",
    "        mrr = np.mean(reciprocal_ranks)\n",
    "        print(f\"{category} MRR: {mrr:.3f}\")\n",
    "        print('')"
   ]
  },
  {
   "cell_type": "code",
   "execution_count": 20,
   "id": "8bb8e212",
   "metadata": {},
   "outputs": [
    {
     "name": "stdout",
     "output_type": "stream",
     "text": [
      "Running purchases: 3119\n",
      "Running purchases ranked in top 10: 100.0%\n",
      "Running avg rank of purchases: 2.39\n",
      "Running MRR: 0.657\n",
      "\n",
      "Boot purchases: 976\n",
      "Boot purchases ranked in top 10: 90.0%\n",
      "Boot avg rank of purchases: 4.73\n",
      "Boot MRR: 0.283\n",
      "\n",
      "Sneaker purchases: 586\n",
      "Sneaker purchases ranked in top 10: 92.0%\n",
      "Sneaker avg rank of purchases: 6.89\n",
      "Sneaker MRR: 0.167\n",
      "\n",
      "Sandal purchases: 607\n",
      "Sandal purchases ranked in top 10: 84.0%\n",
      "Sandal avg rank of purchases: 6.8\n",
      "Sandal MRR: 0.171\n",
      "\n"
     ]
    }
   ],
   "source": [
    "print_category_eval_metrics(eval_df=full_eval_df, \n",
    "                            category_var = 'product_category')"
   ]
  },
  {
   "cell_type": "code",
   "execution_count": 21,
   "id": "50453268",
   "metadata": {},
   "outputs": [
    {
     "name": "stdout",
     "output_type": "stream",
     "text": [
      "Kids purchases: 241\n",
      "Kids purchases ranked in top 10: 100.0%\n",
      "Kids avg rank of purchases: 1.02\n",
      "Kids MRR: 0.992\n",
      "\n",
      "Men purchases: 1481\n",
      "Men purchases ranked in top 10: 96.0%\n",
      "Men avg rank of purchases: 4.32\n",
      "Men MRR: 0.369\n",
      "\n",
      "Women purchases: 3247\n",
      "Women purchases ranked in top 10: 97.0%\n",
      "Women avg rank of purchases: 3.82\n",
      "Women MRR: 0.478\n",
      "\n",
      "Unisex purchases: 130\n",
      "Unisex purchases ranked in top 10: 38.0%\n",
      "Unisex avg rank of purchases: 4.56\n",
      "Unisex MRR: 0.334\n",
      "\n",
      "Youth purchases: 189\n",
      "Youth purchases ranked in top 10: 100.0%\n",
      "Youth avg rank of purchases: 1.02\n",
      "Youth MRR: 0.989\n",
      "\n"
     ]
    }
   ],
   "source": [
    "print_category_eval_metrics(eval_df=full_eval_df, \n",
    "                            category_var = 'product_gender')"
   ]
  },
  {
   "cell_type": "code",
   "execution_count": null,
   "id": "788b5b12",
   "metadata": {},
   "outputs": [],
   "source": []
  },
  {
   "cell_type": "markdown",
   "id": "e1b9ae94",
   "metadata": {},
   "source": [
    "### Baseline model - top 10 title-gender products over previous week"
   ]
  },
  {
   "cell_type": "code",
   "execution_count": 22,
   "id": "580974de",
   "metadata": {},
   "outputs": [],
   "source": [
    "def get_top10_title_gender_preds(as_of_dt, prev_days=7, top_n=10):\n",
    "    \"\"\"\n",
    "    Function to return the top 10 most popular title-gender products sold in previous n days from as_of date\n",
    "    Returns a pandas dataframe of 10 records\n",
    "    \"\"\"\n",
    "    given_date = pd.to_datetime(as_of_dt)\n",
    "    start_date = given_date - timedelta(days=prev_days)\n",
    "    last_week_df = toy_dataset_df[(toy_dataset_df['timestamp']<given_date) & \n",
    "                                  (toy_dataset_df['timestamp']>start_date)]\n",
    "    top10_last_wk_df = last_week_df.groupby(['product_title', 'product_gender']).size().reset_index(name='count').sort_values('count', ascending=False).head(top_n)\n",
    "    top10_last_wk_df['title_rank'] = top10_last_wk_df['count'].rank(method='first', ascending=False)\n",
    "    top10_last_wk_df.columns = ['title_pred', 'gender_pred', 'prev_wk_cnt', 'pred_rank']\n",
    "    top10_last_wk_df['transaction_date'] = as_of_dt\n",
    "    return top10_last_wk_df"
   ]
  },
  {
   "cell_type": "code",
   "execution_count": 23,
   "id": "232a7a35",
   "metadata": {},
   "outputs": [
    {
     "data": {
      "text/html": [
       "<div>\n",
       "<style scoped>\n",
       "    .dataframe tbody tr th:only-of-type {\n",
       "        vertical-align: middle;\n",
       "    }\n",
       "\n",
       "    .dataframe tbody tr th {\n",
       "        vertical-align: top;\n",
       "    }\n",
       "\n",
       "    .dataframe thead th {\n",
       "        text-align: right;\n",
       "    }\n",
       "</style>\n",
       "<table border=\"1\" class=\"dataframe\">\n",
       "  <thead>\n",
       "    <tr style=\"text-align: right;\">\n",
       "      <th></th>\n",
       "      <th>title_pred</th>\n",
       "      <th>gender_pred</th>\n",
       "      <th>prev_wk_cnt</th>\n",
       "      <th>pred_rank</th>\n",
       "      <th>transaction_date</th>\n",
       "    </tr>\n",
       "  </thead>\n",
       "  <tbody>\n",
       "    <tr>\n",
       "      <th>13</th>\n",
       "      <td>Olympic Running</td>\n",
       "      <td>Women</td>\n",
       "      <td>26</td>\n",
       "      <td>1.0</td>\n",
       "      <td>2022-08-13</td>\n",
       "    </tr>\n",
       "    <tr>\n",
       "      <th>8</th>\n",
       "      <td>League Running</td>\n",
       "      <td>Women</td>\n",
       "      <td>16</td>\n",
       "      <td>2.0</td>\n",
       "      <td>2022-08-13</td>\n",
       "    </tr>\n",
       "    <tr>\n",
       "      <th>0</th>\n",
       "      <td>Bejeweled Boot</td>\n",
       "      <td>Unisex</td>\n",
       "      <td>15</td>\n",
       "      <td>3.0</td>\n",
       "      <td>2022-08-13</td>\n",
       "    </tr>\n",
       "    <tr>\n",
       "      <th>6</th>\n",
       "      <td>Iron Running</td>\n",
       "      <td>Women</td>\n",
       "      <td>15</td>\n",
       "      <td>4.0</td>\n",
       "      <td>2022-08-13</td>\n",
       "    </tr>\n",
       "    <tr>\n",
       "      <th>4</th>\n",
       "      <td>Hustler Boot</td>\n",
       "      <td>Women</td>\n",
       "      <td>12</td>\n",
       "      <td>5.0</td>\n",
       "      <td>2022-08-13</td>\n",
       "    </tr>\n",
       "    <tr>\n",
       "      <th>14</th>\n",
       "      <td>Olympic Running</td>\n",
       "      <td>Youth</td>\n",
       "      <td>8</td>\n",
       "      <td>6.0</td>\n",
       "      <td>2022-08-13</td>\n",
       "    </tr>\n",
       "    <tr>\n",
       "      <th>10</th>\n",
       "      <td>Marathon Running</td>\n",
       "      <td>Women</td>\n",
       "      <td>8</td>\n",
       "      <td>7.0</td>\n",
       "      <td>2022-08-13</td>\n",
       "    </tr>\n",
       "    <tr>\n",
       "      <th>21</th>\n",
       "      <td>Stacked Hiking Boot</td>\n",
       "      <td>Women</td>\n",
       "      <td>7</td>\n",
       "      <td>8.0</td>\n",
       "      <td>2022-08-13</td>\n",
       "    </tr>\n",
       "    <tr>\n",
       "      <th>17</th>\n",
       "      <td>Rogue Sneaker</td>\n",
       "      <td>Women</td>\n",
       "      <td>7</td>\n",
       "      <td>9.0</td>\n",
       "      <td>2022-08-13</td>\n",
       "    </tr>\n",
       "    <tr>\n",
       "      <th>5</th>\n",
       "      <td>Iron Running</td>\n",
       "      <td>Men</td>\n",
       "      <td>7</td>\n",
       "      <td>10.0</td>\n",
       "      <td>2022-08-13</td>\n",
       "    </tr>\n",
       "  </tbody>\n",
       "</table>\n",
       "</div>"
      ],
      "text/plain": [
       "             title_pred gender_pred  prev_wk_cnt  pred_rank transaction_date\n",
       "13      Olympic Running       Women           26        1.0       2022-08-13\n",
       "8        League Running       Women           16        2.0       2022-08-13\n",
       "0        Bejeweled Boot      Unisex           15        3.0       2022-08-13\n",
       "6          Iron Running       Women           15        4.0       2022-08-13\n",
       "4          Hustler Boot       Women           12        5.0       2022-08-13\n",
       "14      Olympic Running       Youth            8        6.0       2022-08-13\n",
       "10     Marathon Running       Women            8        7.0       2022-08-13\n",
       "21  Stacked Hiking Boot       Women            7        8.0       2022-08-13\n",
       "17        Rogue Sneaker       Women            7        9.0       2022-08-13\n",
       "5          Iron Running         Men            7       10.0       2022-08-13"
      ]
     },
     "execution_count": 23,
     "metadata": {},
     "output_type": "execute_result"
    }
   ],
   "source": [
    "get_top10_title_gender_preds(as_of_dt = '2022-08-13', prev_days=7, top_n=10)"
   ]
  },
  {
   "cell_type": "code",
   "execution_count": 24,
   "id": "fcc391d4",
   "metadata": {},
   "outputs": [
    {
     "name": "stdout",
     "output_type": "stream",
     "text": [
      "0,1,2,3,4,5,6,7,8,9,10,11,12,13,14,15,16,17,18,19,20,21,22,23,24,25,26,27,28,29,30,31,32,33,34,35,36,37,38,39,40,41,42,43,44,45,46,47,48,49,50,51,52,53,54,55,56,57,58,59,60,61,62,63,64,65,66,67,68,69,70,71,72,73,74,75,76,77,78,79,80,81,82,83,84,85,86,87,88,89,90,91,92,93,94,95,96,97,98,99,100,101,102,103,104,105,106,107,108,109,110,111,112,113,114,115,116,117,118,119,120,121,122,123,124,125,126,127,128,129,130,131,132,133,134,135,136,137,138,139,140,141,142,143,144,145,146,147,148,149,150,151,152,153,154,155,156,157,158,159,160,161,162,163,164,165,166,167,168,169,170,171,172,173,174,175,176,177,178,179,180,181,182,183,184,185,186,187,188,189,190,191,192,193,194,195,196,197,198,199,200,201,202,203,204,205,206,207,208,209,210,211,212,213,214,215,216,217,218,219,220,221,222,223,224,225,226,227,228,229,"
     ]
    }
   ],
   "source": [
    "# Loop over test dates, create preds, join preds back to transactions to create eval_df\n",
    "\n",
    "full_eval_df = pd.DataFrame()\n",
    "\n",
    "for index, test_dt in enumerate(test_dates):\n",
    "    print(index, end=',')\n",
    "    \n",
    "    pred_df = get_top10_title_gender_preds(as_of_dt=test_dt)\n",
    "    \n",
    "    # Join the recommended item predictions to the test data set on the transaction date\n",
    "    join_df = pd.merge(left=test[test['timestamp'].dt.date==test_dt], \n",
    "                       right=pred_df[['title_pred', 'gender_pred', 'pred_rank']], \n",
    "                       left_on=['product_title','product_gender'],\n",
    "                       right_on=['title_pred', 'gender_pred'],\n",
    "                       how='left')\n",
    "    \n",
    "    full_eval_df = pd.concat([full_eval_df, join_df])"
   ]
  },
  {
   "cell_type": "code",
   "execution_count": 25,
   "id": "44a1ba86",
   "metadata": {},
   "outputs": [],
   "source": [
    "assert full_eval_df.shape[0] == test.shape[0]"
   ]
  },
  {
   "cell_type": "code",
   "execution_count": 26,
   "id": "9eea22ba",
   "metadata": {},
   "outputs": [
    {
     "name": "stdout",
     "output_type": "stream",
     "text": [
      "Percent of purchases ranked in top 10: 63.0%\n",
      "Average rank of purchases: 4.21\n",
      "Mean Reciprocal Rank: 0.449\n"
     ]
    }
   ],
   "source": [
    "print_eval_metrics(eval_df=full_eval_df)"
   ]
  },
  {
   "cell_type": "code",
   "execution_count": 27,
   "id": "4a377ab7",
   "metadata": {},
   "outputs": [
    {
     "data": {
      "text/plain": [
       "<AxesSubplot:>"
      ]
     },
     "execution_count": 27,
     "metadata": {},
     "output_type": "execute_result"
    },
    {
     "data": {
      "image/png": "[encoded data removed]",
      "text/plain": [
       "<Figure size 432x288 with 1 Axes>"
      ]
     },
     "metadata": {
      "needs_background": "light"
     },
     "output_type": "display_data"
    }
   ],
   "source": [
    "full_eval_df['pred_rank'].hist()"
   ]
  },
  {
   "cell_type": "code",
   "execution_count": 28,
   "id": "99cc030f",
   "metadata": {},
   "outputs": [
    {
     "name": "stdout",
     "output_type": "stream",
     "text": [
      "Running purchases: 3119\n",
      "Running purchases ranked in top 10: 78.0%\n",
      "Running avg rank of purchases: 3.89\n",
      "Running MRR: 0.500\n",
      "\n",
      "Boot purchases: 976\n",
      "Boot purchases ranked in top 10: 59.0%\n",
      "Boot avg rank of purchases: 3.96\n",
      "Boot MRR: 0.392\n",
      "\n",
      "Sneaker purchases: 586\n",
      "Sneaker purchases ranked in top 10: 26.0%\n",
      "Sneaker avg rank of purchases: 7.31\n",
      "Sneaker MRR: 0.176\n",
      "\n",
      "Sandal purchases: 607\n",
      "Sandal purchases ranked in top 10: 31.0%\n",
      "Sandal avg rank of purchases: 6.53\n",
      "Sandal MRR: 0.179\n",
      "\n"
     ]
    }
   ],
   "source": [
    "print_category_eval_metrics(eval_df=full_eval_df, \n",
    "                            category_var = 'product_category')"
   ]
  },
  {
   "cell_type": "code",
   "execution_count": 29,
   "id": "a4f3b76f",
   "metadata": {},
   "outputs": [
    {
     "name": "stdout",
     "output_type": "stream",
     "text": [
      "Kids purchases: 241\n",
      "Kids purchases ranked in top 10: 59.0%\n",
      "Kids avg rank of purchases: 6.25\n",
      "Kids MRR: 0.203\n",
      "\n",
      "Men purchases: 1481\n",
      "Men purchases ranked in top 10: 42.0%\n",
      "Men avg rank of purchases: 6.46\n",
      "Men MRR: 0.205\n",
      "\n",
      "Women purchases: 3247\n",
      "Women purchases ranked in top 10: 76.0%\n",
      "Women avg rank of purchases: 3.49\n",
      "Women MRR: 0.528\n",
      "\n",
      "Unisex purchases: 130\n",
      "Unisex purchases ranked in top 10: 28.999999999999996%\n",
      "Unisex avg rank of purchases: 2.21\n",
      "Unisex MRR: 0.761\n",
      "\n",
      "Youth purchases: 189\n",
      "Youth purchases ranked in top 10: 42.0%\n",
      "Youth avg rank of purchases: 6.54\n",
      "Youth MRR: 0.184\n",
      "\n"
     ]
    }
   ],
   "source": [
    "print_category_eval_metrics(eval_df=full_eval_df, \n",
    "                            category_var = 'product_gender')"
   ]
  },
  {
   "cell_type": "code",
   "execution_count": null,
   "id": "6400636a",
   "metadata": {},
   "outputs": [],
   "source": []
  },
  {
   "cell_type": "markdown",
   "id": "6b34b2de",
   "metadata": {},
   "source": [
    "### Collaborative Filtering"
   ]
  },
  {
   "cell_type": "code",
   "execution_count": null,
   "id": "4b6fd0bb",
   "metadata": {},
   "outputs": [],
   "source": [
    "from surprise import Dataset\n",
    "from surprise import Reader\n",
    "from surprise import KNNBasic\n",
    "from surprise.model_selection import train_test_split"
   ]
  },
  {
   "cell_type": "code",
   "execution_count": null,
   "id": "3d0da146",
   "metadata": {},
   "outputs": [],
   "source": [
    "# Define the Reader object\n",
    "reader = Reader(rating_scale=(0, 1))"
   ]
  },
  {
   "cell_type": "code",
   "execution_count": null,
   "id": "656f4a43",
   "metadata": {},
   "outputs": [],
   "source": [
    "cf_train_data_set = train.groupby(['hash_customer', 'product_title_gender']).size().reset_index(name='count')"
   ]
  },
  {
   "cell_type": "code",
   "execution_count": null,
   "id": "f842b297",
   "metadata": {},
   "outputs": [],
   "source": [
    "cf_train_data_set.head()"
   ]
  },
  {
   "cell_type": "code",
   "execution_count": null,
   "id": "f149128b",
   "metadata": {},
   "outputs": [],
   "source": [
    "# Load the data into the Surprise dataset format\n",
    "data = Dataset.load_from_df(cf_train_data_set, reader)"
   ]
  },
  {
   "cell_type": "code",
   "execution_count": null,
   "id": "e8fa4322",
   "metadata": {},
   "outputs": [],
   "source": [
    "# Split the data into training and test sets\n",
    "trainset, testset = train_test_split(data, test_size=0.2)"
   ]
  },
  {
   "cell_type": "code",
   "execution_count": null,
   "id": "4bcb2235",
   "metadata": {},
   "outputs": [],
   "source": [
    "# Define the algorithm\n",
    "sim_options = {\"name\": \"cosine\", \"user_based\": False}\n",
    "algo = KNNBasic(sim_options=sim_options)"
   ]
  },
  {
   "cell_type": "code",
   "execution_count": null,
   "id": "7b84f526",
   "metadata": {},
   "outputs": [],
   "source": [
    "# Train the model on the training set\n",
    "algo.fit(trainset)"
   ]
  },
  {
   "cell_type": "code",
   "execution_count": null,
   "id": "78886bd4",
   "metadata": {},
   "outputs": [],
   "source": [
    "# Test the model on the test set\n",
    "predictions = algo.test(testset)"
   ]
  },
  {
   "cell_type": "code",
   "execution_count": null,
   "id": "3ab1f327",
   "metadata": {},
   "outputs": [],
   "source": [
    "# Create a dictionary of items for each user\n",
    "from collections import defaultdict\n",
    "user_items = defaultdict(list)\n",
    "for uid, iid, true_rating, est_rating, _ in predictions:\n",
    "    user_items[uid].append((iid, est_rating))\n",
    "\n",
    "# Sort the items for each user by their estimated rating\n",
    "for uid, items in user_items.items():\n",
    "    items.sort(key=lambda x: x[1], reverse=True)\n",
    "\n",
    "# Get the top 10 item recommendations for each user\n",
    "top_n = {}\n",
    "for uid, items in user_items.items():\n",
    "    top_n[uid] = [iid for (iid, _) in items[:10]]"
   ]
  },
  {
   "cell_type": "code",
   "execution_count": null,
   "id": "86e54e38",
   "metadata": {},
   "outputs": [],
   "source": [
    "top_n"
   ]
  },
  {
   "cell_type": "code",
   "execution_count": null,
   "id": "9f2cf593",
   "metadata": {},
   "outputs": [],
   "source": [
    "from surprise import SVD"
   ]
  },
  {
   "cell_type": "code",
   "execution_count": null,
   "id": "3dbe6a28",
   "metadata": {},
   "outputs": [],
   "source": [
    "# Define the algorithm\n",
    "algo = SVD(verbose=True, n_epochs=10)\n",
    "\n",
    "# Train the model on the training set\n",
    "algo.fit(trainset)\n",
    "\n",
    "# Test the model on the test set\n",
    "predictions = algo.test(testset)"
   ]
  },
  {
   "cell_type": "code",
   "execution_count": null,
   "id": "65a6e048",
   "metadata": {},
   "outputs": [],
   "source": [
    "# from surprise.model_selection import cross_validate"
   ]
  },
  {
   "cell_type": "code",
   "execution_count": null,
   "id": "4ae1bf4d",
   "metadata": {},
   "outputs": [],
   "source": [
    "# cross_validate(algo, trainset, measures=['RMSE', 'MAE'], cv=3, verbose=True)"
   ]
  },
  {
   "cell_type": "code",
   "execution_count": null,
   "id": "01dce219",
   "metadata": {},
   "outputs": [],
   "source": [
    "# Create a dictionary of items for each user\n",
    "from collections import defaultdict\n",
    "user_items = defaultdict(list)\n",
    "for uid, iid, true_rating, est_rating, _ in predictions:\n",
    "    user_items[uid].append((iid, est_rating))\n",
    "\n",
    "# Sort the items for each user by their estimated rating\n",
    "for uid, items in user_items.items():\n",
    "    items.sort(key=lambda x: x[1], reverse=True)\n",
    "\n",
    "# Get the top 10 item recommendations for each user\n",
    "top_n = {}\n",
    "for uid, items in user_items.items():\n",
    "    top_n[uid] = [iid for (iid, _) in items[:10]]"
   ]
  },
  {
   "cell_type": "code",
   "execution_count": null,
   "id": "b77945c8",
   "metadata": {},
   "outputs": [],
   "source": [
    "top_n"
   ]
  },
  {
   "cell_type": "code",
   "execution_count": null,
   "id": "33f3e8ed",
   "metadata": {},
   "outputs": [],
   "source": []
  },
  {
   "cell_type": "code",
   "execution_count": null,
   "id": "52680afc",
   "metadata": {},
   "outputs": [],
   "source": []
  },
  {
   "cell_type": "markdown",
   "id": "cc1f78be",
   "metadata": {},
   "source": [
    "## Binary classifier"
   ]
  },
  {
   "cell_type": "markdown",
   "id": "72e95add",
   "metadata": {},
   "source": [
    "#### Create training data set"
   ]
  },
  {
   "cell_type": "code",
   "execution_count": 30,
   "id": "ac5fcb83",
   "metadata": {},
   "outputs": [],
   "source": [
    "positive_samples = train[['timestamp', 'transaction_id', 'hash_customer', \n",
    "                          'sale_amount', 'product_title', 'product_color', 'product_gender',\n",
    "                          'product_category', 'referrer_source', 'product_title_gender']].copy()\n",
    "\n",
    "positive_samples.loc[:,'purchase'] = 1"
   ]
  },
  {
   "cell_type": "code",
   "execution_count": 31,
   "id": "b6827291",
   "metadata": {},
   "outputs": [
    {
     "data": {
      "text/html": [
       "<div>\n",
       "<style scoped>\n",
       "    .dataframe tbody tr th:only-of-type {\n",
       "        vertical-align: middle;\n",
       "    }\n",
       "\n",
       "    .dataframe tbody tr th {\n",
       "        vertical-align: top;\n",
       "    }\n",
       "\n",
       "    .dataframe thead th {\n",
       "        text-align: right;\n",
       "    }\n",
       "</style>\n",
       "<table border=\"1\" class=\"dataframe\">\n",
       "  <thead>\n",
       "    <tr style=\"text-align: right;\">\n",
       "      <th></th>\n",
       "      <th>timestamp</th>\n",
       "      <th>transaction_id</th>\n",
       "      <th>hash_customer</th>\n",
       "      <th>sale_amount</th>\n",
       "      <th>product_title</th>\n",
       "      <th>product_color</th>\n",
       "      <th>product_gender</th>\n",
       "      <th>product_category</th>\n",
       "      <th>referrer_source</th>\n",
       "      <th>product_title_gender</th>\n",
       "      <th>purchase</th>\n",
       "    </tr>\n",
       "  </thead>\n",
       "  <tbody>\n",
       "    <tr>\n",
       "      <th>0</th>\n",
       "      <td>2019-10-17 17:00:00</td>\n",
       "      <td>13964574791861793493</td>\n",
       "      <td>118171218419602151</td>\n",
       "      <td>141.0</td>\n",
       "      <td>Rogue Sneaker</td>\n",
       "      <td>Midnight Green (Eagle Green)</td>\n",
       "      <td>Women</td>\n",
       "      <td>Sneaker</td>\n",
       "      <td>Direct</td>\n",
       "      <td>Rogue Sneaker-Women</td>\n",
       "      <td>1</td>\n",
       "    </tr>\n",
       "    <tr>\n",
       "      <th>1</th>\n",
       "      <td>2022-03-26 04:00:00</td>\n",
       "      <td>15462755904385104185</td>\n",
       "      <td>118171218419602151</td>\n",
       "      <td>262.0</td>\n",
       "      <td>Vanguard Sandal</td>\n",
       "      <td>Prussian Blue</td>\n",
       "      <td>Women</td>\n",
       "      <td>Sandal</td>\n",
       "      <td>Direct</td>\n",
       "      <td>Vanguard Sandal-Women</td>\n",
       "      <td>1</td>\n",
       "    </tr>\n",
       "    <tr>\n",
       "      <th>2</th>\n",
       "      <td>2019-10-18 06:00:00</td>\n",
       "      <td>5418521222138237582</td>\n",
       "      <td>15372924648196696535</td>\n",
       "      <td>141.0</td>\n",
       "      <td>Rogue Sneaker</td>\n",
       "      <td>Electric Purple</td>\n",
       "      <td>Women</td>\n",
       "      <td>Sneaker</td>\n",
       "      <td>Direct</td>\n",
       "      <td>Rogue Sneaker-Women</td>\n",
       "      <td>1</td>\n",
       "    </tr>\n",
       "    <tr>\n",
       "      <th>3</th>\n",
       "      <td>2021-10-03 19:00:00</td>\n",
       "      <td>13807911046559617059</td>\n",
       "      <td>15372924648196696535</td>\n",
       "      <td>147.0</td>\n",
       "      <td>Classic Sneaker</td>\n",
       "      <td>Electric Purple</td>\n",
       "      <td>Women</td>\n",
       "      <td>Sneaker</td>\n",
       "      <td>Direct</td>\n",
       "      <td>Classic Sneaker-Women</td>\n",
       "      <td>1</td>\n",
       "    </tr>\n",
       "    <tr>\n",
       "      <th>4</th>\n",
       "      <td>2019-10-18 09:00:00</td>\n",
       "      <td>17285359619674932653</td>\n",
       "      <td>10040016928726048703</td>\n",
       "      <td>194.0</td>\n",
       "      <td>Olympic Running</td>\n",
       "      <td>Stormcloud</td>\n",
       "      <td>Women</td>\n",
       "      <td>Running</td>\n",
       "      <td>Search</td>\n",
       "      <td>Olympic Running-Women</td>\n",
       "      <td>1</td>\n",
       "    </tr>\n",
       "  </tbody>\n",
       "</table>\n",
       "</div>"
      ],
      "text/plain": [
       "            timestamp        transaction_id         hash_customer  \\\n",
       "0 2019-10-17 17:00:00  13964574791861793493    118171218419602151   \n",
       "1 2022-03-26 04:00:00  15462755904385104185    118171218419602151   \n",
       "2 2019-10-18 06:00:00   5418521222138237582  15372924648196696535   \n",
       "3 2021-10-03 19:00:00  13807911046559617059  15372924648196696535   \n",
       "4 2019-10-18 09:00:00  17285359619674932653  10040016928726048703   \n",
       "\n",
       "   sale_amount    product_title                 product_color product_gender  \\\n",
       "0        141.0    Rogue Sneaker  Midnight Green (Eagle Green)          Women   \n",
       "1        262.0  Vanguard Sandal                 Prussian Blue          Women   \n",
       "2        141.0    Rogue Sneaker               Electric Purple          Women   \n",
       "3        147.0  Classic Sneaker               Electric Purple          Women   \n",
       "4        194.0  Olympic Running                    Stormcloud          Women   \n",
       "\n",
       "  product_category referrer_source   product_title_gender  purchase  \n",
       "0          Sneaker          Direct    Rogue Sneaker-Women         1  \n",
       "1           Sandal          Direct  Vanguard Sandal-Women         1  \n",
       "2          Sneaker          Direct    Rogue Sneaker-Women         1  \n",
       "3          Sneaker          Direct  Classic Sneaker-Women         1  \n",
       "4          Running          Search  Olympic Running-Women         1  "
      ]
     },
     "execution_count": 31,
     "metadata": {},
     "output_type": "execute_result"
    }
   ],
   "source": [
    "positive_samples.head()"
   ]
  },
  {
   "cell_type": "code",
   "execution_count": 32,
   "id": "a719b664",
   "metadata": {},
   "outputs": [
    {
     "name": "stdout",
     "output_type": "stream",
     "text": [
      "['Women' 'Men' 'Kids' 'Youth' 'Unisex']\n",
      "['Midnight Green (Eagle Green)' 'Prussian Blue' 'Electric Purple'\n",
      " 'Stormcloud' 'Vermilion (Plochere)' 'Topaz' 'Royal Blue (Web)'\n",
      " 'Lavender Purple' 'Han Purple' 'Burnt Sienna' 'Green (Munsell)'\n",
      " 'Dark Red' 'Electric Green' 'Fern Green' 'Ruby Red' 'Mikado Yellow'\n",
      " 'Pastel Magenta' 'Canary Yellow' 'Dartmouth Green' 'Dark Powder Blue'\n",
      " 'Alice Blue' 'Mordant Red 19' 'Sky Blue' 'Yellow-Green'\n",
      " 'Selective Yellow']\n"
     ]
    }
   ],
   "source": [
    "genders = train['product_gender'].unique()\n",
    "print(genders)\n",
    "\n",
    "colors = train['product_color'].unique()\n",
    "print(colors)"
   ]
  },
  {
   "cell_type": "code",
   "execution_count": 247,
   "id": "7a48491a",
   "metadata": {},
   "outputs": [],
   "source": [
    "def count_category_in_days(df, days, as_of_dt):\n",
    "    \"\"\"Function to return counts of occurrences in the previous n_days from as_of_dt \"\"\"\n",
    "    end_date = pd.to_datetime(as_of_dt)\n",
    "    start_date = end_date - datetime.timedelta(days=days)\n",
    "    filtered_df = df[(df['timestamp'] >= start_date) & (df['timestamp'] <= end_date)]\n",
    "    return len(filtered_df)"
   ]
  },
  {
   "cell_type": "code",
   "execution_count": null,
   "id": "ef49fdd1",
   "metadata": {},
   "outputs": [],
   "source": []
  },
  {
   "cell_type": "code",
   "execution_count": 229,
   "id": "ad26a9f2",
   "metadata": {},
   "outputs": [],
   "source": [
    "hist_data = toy_dataset_df[(toy_dataset_df['timestamp'].dt.date < pd.to_datetime('2022-01-01'))]"
   ]
  },
  {
   "cell_type": "code",
   "execution_count": 231,
   "id": "50ebba44",
   "metadata": {},
   "outputs": [],
   "source": [
    "def calc_user_features(df):\n",
    "    \"\"\"\n",
    "    Function to calculate user features\n",
    "    Returns dataframe\n",
    "    \"\"\"\n",
    "    agg_df = df.groupby('hash_customer').agg({\n",
    "        'product_title': ['count'],\n",
    "        'sale_amount': ['mean']\n",
    "    }).reset_index()\n",
    "\n",
    "    agg_df.columns = ['hash_customer', \n",
    "                      'user_trans_cnt', 'user_avg_prod_cost']\n",
    "    return agg_df"
   ]
  },
  {
   "cell_type": "code",
   "execution_count": 232,
   "id": "4335b8b1",
   "metadata": {
    "scrolled": true
   },
   "outputs": [
    {
     "data": {
      "text/html": [
       "<div>\n",
       "<style scoped>\n",
       "    .dataframe tbody tr th:only-of-type {\n",
       "        vertical-align: middle;\n",
       "    }\n",
       "\n",
       "    .dataframe tbody tr th {\n",
       "        vertical-align: top;\n",
       "    }\n",
       "\n",
       "    .dataframe thead th {\n",
       "        text-align: right;\n",
       "    }\n",
       "</style>\n",
       "<table border=\"1\" class=\"dataframe\">\n",
       "  <thead>\n",
       "    <tr style=\"text-align: right;\">\n",
       "      <th></th>\n",
       "      <th>hash_customer</th>\n",
       "      <th>user_trans_cnt</th>\n",
       "      <th>user_avg_prod_cost</th>\n",
       "    </tr>\n",
       "  </thead>\n",
       "  <tbody>\n",
       "    <tr>\n",
       "      <th>0</th>\n",
       "      <td>2785466729578054</td>\n",
       "      <td>3</td>\n",
       "      <td>198.000000</td>\n",
       "    </tr>\n",
       "    <tr>\n",
       "      <th>1</th>\n",
       "      <td>2943184540671871</td>\n",
       "      <td>6</td>\n",
       "      <td>197.666667</td>\n",
       "    </tr>\n",
       "    <tr>\n",
       "      <th>2</th>\n",
       "      <td>4042200167694193</td>\n",
       "      <td>5</td>\n",
       "      <td>194.000000</td>\n",
       "    </tr>\n",
       "    <tr>\n",
       "      <th>3</th>\n",
       "      <td>6606248094173010</td>\n",
       "      <td>1</td>\n",
       "      <td>198.000000</td>\n",
       "    </tr>\n",
       "    <tr>\n",
       "      <th>4</th>\n",
       "      <td>11352255998594515</td>\n",
       "      <td>2</td>\n",
       "      <td>196.000000</td>\n",
       "    </tr>\n",
       "  </tbody>\n",
       "</table>\n",
       "</div>"
      ],
      "text/plain": [
       "       hash_customer  user_trans_cnt  user_avg_prod_cost\n",
       "0   2785466729578054               3          198.000000\n",
       "1   2943184540671871               6          197.666667\n",
       "2   4042200167694193               5          194.000000\n",
       "3   6606248094173010               1          198.000000\n",
       "4  11352255998594515               2          196.000000"
      ]
     },
     "execution_count": 232,
     "metadata": {},
     "output_type": "execute_result"
    }
   ],
   "source": [
    "calc_user_features(df=hist_data).head()"
   ]
  },
  {
   "cell_type": "code",
   "execution_count": 233,
   "id": "6071b7e4",
   "metadata": {},
   "outputs": [],
   "source": [
    "def calc_title_features(df):\n",
    "    \"\"\"\n",
    "    Function to calculate features\n",
    "    Returns dataframe\n",
    "    \"\"\"\n",
    "    agg_df = df.groupby('product_title').agg({\n",
    "        'product_title': ['count'],\n",
    "    }).reset_index()\n",
    "\n",
    "    agg_df.columns = ['product_title', 'title_tot_sales']\n",
    "    return agg_df"
   ]
  },
  {
   "cell_type": "code",
   "execution_count": 234,
   "id": "1d45e1b3",
   "metadata": {},
   "outputs": [
    {
     "data": {
      "text/html": [
       "<div>\n",
       "<style scoped>\n",
       "    .dataframe tbody tr th:only-of-type {\n",
       "        vertical-align: middle;\n",
       "    }\n",
       "\n",
       "    .dataframe tbody tr th {\n",
       "        vertical-align: top;\n",
       "    }\n",
       "\n",
       "    .dataframe thead th {\n",
       "        text-align: right;\n",
       "    }\n",
       "</style>\n",
       "<table border=\"1\" class=\"dataframe\">\n",
       "  <thead>\n",
       "    <tr style=\"text-align: right;\">\n",
       "      <th></th>\n",
       "      <th>product_title</th>\n",
       "      <th>title_tot_sales</th>\n",
       "    </tr>\n",
       "  </thead>\n",
       "  <tbody>\n",
       "    <tr>\n",
       "      <th>0</th>\n",
       "      <td>Alley Boot</td>\n",
       "      <td>9</td>\n",
       "    </tr>\n",
       "    <tr>\n",
       "      <th>1</th>\n",
       "      <td>Classic Sneaker</td>\n",
       "      <td>1484</td>\n",
       "    </tr>\n",
       "    <tr>\n",
       "      <th>2</th>\n",
       "      <td>Corner Sandal</td>\n",
       "      <td>72</td>\n",
       "    </tr>\n",
       "    <tr>\n",
       "      <th>3</th>\n",
       "      <td>Evermore Boot</td>\n",
       "      <td>109</td>\n",
       "    </tr>\n",
       "    <tr>\n",
       "      <th>4</th>\n",
       "      <td>Gator Sandal</td>\n",
       "      <td>64</td>\n",
       "    </tr>\n",
       "  </tbody>\n",
       "</table>\n",
       "</div>"
      ],
      "text/plain": [
       "     product_title  title_tot_sales\n",
       "0       Alley Boot                9\n",
       "1  Classic Sneaker             1484\n",
       "2    Corner Sandal               72\n",
       "3    Evermore Boot              109\n",
       "4     Gator Sandal               64"
      ]
     },
     "execution_count": 234,
     "metadata": {},
     "output_type": "execute_result"
    }
   ],
   "source": [
    "calc_title_features(df=hist_data).head()"
   ]
  },
  {
   "cell_type": "code",
   "execution_count": 236,
   "id": "b1112e4e",
   "metadata": {},
   "outputs": [],
   "source": [
    "def calc_titgen_features(df):\n",
    "    \"\"\"\n",
    "    Function to calculate title-gender features\n",
    "    Returns dataframe\n",
    "    \"\"\"\n",
    "    agg_df = df.groupby('product_title_gender').agg({\n",
    "        'product_title': ['count'],\n",
    "        'transaction_id': ['nunique'],\n",
    "        'sale_amount': ['sum', 'mean']\n",
    "    }).reset_index()\n",
    "\n",
    "    agg_df.columns = ['product_title_gender', 'titgen_title_cnt',\n",
    "                      'titgen_trans_cnt', 'titgen_tot_sales', 'titgen_avg_prod_cost']\n",
    "    return agg_df"
   ]
  },
  {
   "cell_type": "code",
   "execution_count": 237,
   "id": "919fb381",
   "metadata": {
    "scrolled": true
   },
   "outputs": [
    {
     "data": {
      "text/html": [
       "<div>\n",
       "<style scoped>\n",
       "    .dataframe tbody tr th:only-of-type {\n",
       "        vertical-align: middle;\n",
       "    }\n",
       "\n",
       "    .dataframe tbody tr th {\n",
       "        vertical-align: top;\n",
       "    }\n",
       "\n",
       "    .dataframe thead th {\n",
       "        text-align: right;\n",
       "    }\n",
       "</style>\n",
       "<table border=\"1\" class=\"dataframe\">\n",
       "  <thead>\n",
       "    <tr style=\"text-align: right;\">\n",
       "      <th></th>\n",
       "      <th>product_title_gender</th>\n",
       "      <th>titgen_title_cnt</th>\n",
       "      <th>titgen_trans_cnt</th>\n",
       "      <th>titgen_tot_sales</th>\n",
       "      <th>titgen_avg_prod_cost</th>\n",
       "    </tr>\n",
       "  </thead>\n",
       "  <tbody>\n",
       "    <tr>\n",
       "      <th>0</th>\n",
       "      <td>Alley Boot-Men</td>\n",
       "      <td>9</td>\n",
       "      <td>9</td>\n",
       "      <td>1746.00</td>\n",
       "      <td>194.000000</td>\n",
       "    </tr>\n",
       "    <tr>\n",
       "      <th>1</th>\n",
       "      <td>Classic Sneaker-Men</td>\n",
       "      <td>413</td>\n",
       "      <td>377</td>\n",
       "      <td>62265.00</td>\n",
       "      <td>150.762712</td>\n",
       "    </tr>\n",
       "    <tr>\n",
       "      <th>2</th>\n",
       "      <td>Classic Sneaker-Women</td>\n",
       "      <td>1071</td>\n",
       "      <td>982</td>\n",
       "      <td>165433.91</td>\n",
       "      <td>154.466769</td>\n",
       "    </tr>\n",
       "    <tr>\n",
       "      <th>3</th>\n",
       "      <td>Corner Sandal-Unisex</td>\n",
       "      <td>72</td>\n",
       "      <td>61</td>\n",
       "      <td>22176.00</td>\n",
       "      <td>308.000000</td>\n",
       "    </tr>\n",
       "    <tr>\n",
       "      <th>4</th>\n",
       "      <td>Evermore Boot-Men</td>\n",
       "      <td>35</td>\n",
       "      <td>33</td>\n",
       "      <td>8412.00</td>\n",
       "      <td>240.342857</td>\n",
       "    </tr>\n",
       "  </tbody>\n",
       "</table>\n",
       "</div>"
      ],
      "text/plain": [
       "    product_title_gender  titgen_title_cnt  titgen_trans_cnt  \\\n",
       "0         Alley Boot-Men                 9                 9   \n",
       "1    Classic Sneaker-Men               413               377   \n",
       "2  Classic Sneaker-Women              1071               982   \n",
       "3   Corner Sandal-Unisex                72                61   \n",
       "4      Evermore Boot-Men                35                33   \n",
       "\n",
       "   titgen_tot_sales  titgen_avg_prod_cost  \n",
       "0           1746.00            194.000000  \n",
       "1          62265.00            150.762712  \n",
       "2         165433.91            154.466769  \n",
       "3          22176.00            308.000000  \n",
       "4           8412.00            240.342857  "
      ]
     },
     "execution_count": 237,
     "metadata": {},
     "output_type": "execute_result"
    }
   ],
   "source": [
    "calc_titgen_features(df=hist_data).head()"
   ]
  },
  {
   "cell_type": "code",
   "execution_count": 238,
   "id": "d247eb57",
   "metadata": {},
   "outputs": [],
   "source": [
    "def calc_user_gen_features(df):\n",
    "    \"\"\"\n",
    "    Function to calculate features\n",
    "    Returns dataframe\n",
    "    \"\"\"\n",
    "    agg_df = df.groupby(['hash_customer','product_gender']).agg({\n",
    "        'product_title': ['count'],\n",
    "        'sale_amount': ['mean']\n",
    "    }).reset_index()\n",
    "\n",
    "    agg_df.columns = ['hash_customer', 'product_gender',\n",
    "                      'user_gen_trans_cnt', 'user_gen_avg_prod_cost']\n",
    "    return agg_df"
   ]
  },
  {
   "cell_type": "code",
   "execution_count": 239,
   "id": "c3ebda4d",
   "metadata": {},
   "outputs": [
    {
     "data": {
      "text/html": [
       "<div>\n",
       "<style scoped>\n",
       "    .dataframe tbody tr th:only-of-type {\n",
       "        vertical-align: middle;\n",
       "    }\n",
       "\n",
       "    .dataframe tbody tr th {\n",
       "        vertical-align: top;\n",
       "    }\n",
       "\n",
       "    .dataframe thead th {\n",
       "        text-align: right;\n",
       "    }\n",
       "</style>\n",
       "<table border=\"1\" class=\"dataframe\">\n",
       "  <thead>\n",
       "    <tr style=\"text-align: right;\">\n",
       "      <th></th>\n",
       "      <th>hash_customer</th>\n",
       "      <th>product_gender</th>\n",
       "      <th>user_gen_trans_cnt</th>\n",
       "      <th>user_gen_avg_prod_cost</th>\n",
       "    </tr>\n",
       "  </thead>\n",
       "  <tbody>\n",
       "    <tr>\n",
       "      <th>0</th>\n",
       "      <td>2785466729578054</td>\n",
       "      <td>Men</td>\n",
       "      <td>1</td>\n",
       "      <td>198.000000</td>\n",
       "    </tr>\n",
       "    <tr>\n",
       "      <th>1</th>\n",
       "      <td>2785466729578054</td>\n",
       "      <td>Women</td>\n",
       "      <td>2</td>\n",
       "      <td>198.000000</td>\n",
       "    </tr>\n",
       "    <tr>\n",
       "      <th>2</th>\n",
       "      <td>2943184540671871</td>\n",
       "      <td>Women</td>\n",
       "      <td>6</td>\n",
       "      <td>197.666667</td>\n",
       "    </tr>\n",
       "    <tr>\n",
       "      <th>3</th>\n",
       "      <td>4042200167694193</td>\n",
       "      <td>Men</td>\n",
       "      <td>1</td>\n",
       "      <td>194.000000</td>\n",
       "    </tr>\n",
       "    <tr>\n",
       "      <th>4</th>\n",
       "      <td>4042200167694193</td>\n",
       "      <td>Women</td>\n",
       "      <td>4</td>\n",
       "      <td>194.000000</td>\n",
       "    </tr>\n",
       "  </tbody>\n",
       "</table>\n",
       "</div>"
      ],
      "text/plain": [
       "      hash_customer product_gender  user_gen_trans_cnt  user_gen_avg_prod_cost\n",
       "0  2785466729578054            Men                   1              198.000000\n",
       "1  2785466729578054          Women                   2              198.000000\n",
       "2  2943184540671871          Women                   6              197.666667\n",
       "3  4042200167694193            Men                   1              194.000000\n",
       "4  4042200167694193          Women                   4              194.000000"
      ]
     },
     "execution_count": 239,
     "metadata": {},
     "output_type": "execute_result"
    }
   ],
   "source": [
    "calc_user_gen_features(df=hist_data).head()"
   ]
  },
  {
   "cell_type": "code",
   "execution_count": null,
   "id": "45e7c182",
   "metadata": {},
   "outputs": [],
   "source": []
  },
  {
   "cell_type": "code",
   "execution_count": 240,
   "id": "39446a5d",
   "metadata": {},
   "outputs": [],
   "source": [
    "def calc_user_cat_features(df):\n",
    "    \"\"\"\n",
    "    Function to calculate features\n",
    "    Returns dataframe\n",
    "    \"\"\"\n",
    "    agg_df = df.groupby(['hash_customer','product_category']).agg({\n",
    "        'product_title': ['count'],\n",
    "        'sale_amount': ['mean']\n",
    "    }).reset_index()\n",
    "\n",
    "    agg_df.columns = ['hash_customer', 'product_category',\n",
    "                      'user_cat_trans_cnt', 'user_cat_avg_prod_cost']\n",
    "    return agg_df"
   ]
  },
  {
   "cell_type": "code",
   "execution_count": 241,
   "id": "d36b7937",
   "metadata": {},
   "outputs": [
    {
     "data": {
      "text/html": [
       "<div>\n",
       "<style scoped>\n",
       "    .dataframe tbody tr th:only-of-type {\n",
       "        vertical-align: middle;\n",
       "    }\n",
       "\n",
       "    .dataframe tbody tr th {\n",
       "        vertical-align: top;\n",
       "    }\n",
       "\n",
       "    .dataframe thead th {\n",
       "        text-align: right;\n",
       "    }\n",
       "</style>\n",
       "<table border=\"1\" class=\"dataframe\">\n",
       "  <thead>\n",
       "    <tr style=\"text-align: right;\">\n",
       "      <th></th>\n",
       "      <th>hash_customer</th>\n",
       "      <th>product_category</th>\n",
       "      <th>user_cat_trans_cnt</th>\n",
       "      <th>user_cat_avg_prod_cost</th>\n",
       "    </tr>\n",
       "  </thead>\n",
       "  <tbody>\n",
       "    <tr>\n",
       "      <th>0</th>\n",
       "      <td>2785466729578054</td>\n",
       "      <td>Running</td>\n",
       "      <td>2</td>\n",
       "      <td>198.000000</td>\n",
       "    </tr>\n",
       "    <tr>\n",
       "      <th>1</th>\n",
       "      <td>2785466729578054</td>\n",
       "      <td>Sneaker</td>\n",
       "      <td>1</td>\n",
       "      <td>198.000000</td>\n",
       "    </tr>\n",
       "    <tr>\n",
       "      <th>2</th>\n",
       "      <td>2943184540671871</td>\n",
       "      <td>Running</td>\n",
       "      <td>3</td>\n",
       "      <td>196.666667</td>\n",
       "    </tr>\n",
       "    <tr>\n",
       "      <th>3</th>\n",
       "      <td>2943184540671871</td>\n",
       "      <td>Sandal</td>\n",
       "      <td>1</td>\n",
       "      <td>308.000000</td>\n",
       "    </tr>\n",
       "    <tr>\n",
       "      <th>4</th>\n",
       "      <td>2943184540671871</td>\n",
       "      <td>Sneaker</td>\n",
       "      <td>2</td>\n",
       "      <td>144.000000</td>\n",
       "    </tr>\n",
       "  </tbody>\n",
       "</table>\n",
       "</div>"
      ],
      "text/plain": [
       "      hash_customer product_category  user_cat_trans_cnt  \\\n",
       "0  2785466729578054          Running                   2   \n",
       "1  2785466729578054          Sneaker                   1   \n",
       "2  2943184540671871          Running                   3   \n",
       "3  2943184540671871           Sandal                   1   \n",
       "4  2943184540671871          Sneaker                   2   \n",
       "\n",
       "   user_cat_avg_prod_cost  \n",
       "0              198.000000  \n",
       "1              198.000000  \n",
       "2              196.666667  \n",
       "3              308.000000  \n",
       "4              144.000000  "
      ]
     },
     "execution_count": 241,
     "metadata": {},
     "output_type": "execute_result"
    }
   ],
   "source": [
    "calc_user_cat_features(df=hist_data).head()"
   ]
  },
  {
   "cell_type": "code",
   "execution_count": null,
   "id": "26365960",
   "metadata": {},
   "outputs": [],
   "source": []
  },
  {
   "cell_type": "code",
   "execution_count": 248,
   "id": "7f360732",
   "metadata": {},
   "outputs": [],
   "source": [
    "def calc_category_features(as_of_dt):\n",
    "    \"\"\"\n",
    "    Function to calculate features\n",
    "    Returns dataframe\n",
    "    \"\"\"\n",
    "    hist_data = toy_dataset_df[(toy_dataset_df['timestamp'].dt.date < pd.to_datetime(as_of_dt))]\n",
    "\n",
    "    # Group by product title and apply the count_title_in_days function to calculate the counts for each title in the past 30, 60, and 90 days\n",
    "    counts_df = hist_data.groupby('product_category') \\\n",
    "        .apply(lambda x: pd.Series({'cat_sales10': count_category_in_days(x, 10, as_of_dt), \n",
    "                                    'cat_sales30': count_category_in_days(x, 30, as_of_dt),\n",
    "                                    'cat_sales90': count_category_in_days(x, 90, as_of_dt),\n",
    "                                    'cat_sales_all': count_category_in_days(x, 1000, as_of_dt)})).reset_index()\n",
    "    return counts_df"
   ]
  },
  {
   "cell_type": "code",
   "execution_count": 249,
   "id": "02ccf1b4",
   "metadata": {},
   "outputs": [
    {
     "data": {
      "text/html": [
       "<div>\n",
       "<style scoped>\n",
       "    .dataframe tbody tr th:only-of-type {\n",
       "        vertical-align: middle;\n",
       "    }\n",
       "\n",
       "    .dataframe tbody tr th {\n",
       "        vertical-align: top;\n",
       "    }\n",
       "\n",
       "    .dataframe thead th {\n",
       "        text-align: right;\n",
       "    }\n",
       "</style>\n",
       "<table border=\"1\" class=\"dataframe\">\n",
       "  <thead>\n",
       "    <tr style=\"text-align: right;\">\n",
       "      <th></th>\n",
       "      <th>product_category</th>\n",
       "      <th>cat_sales10</th>\n",
       "      <th>cat_sales30</th>\n",
       "      <th>cat_sales90</th>\n",
       "      <th>cat_sales_all</th>\n",
       "    </tr>\n",
       "  </thead>\n",
       "  <tbody>\n",
       "    <tr>\n",
       "      <th>0</th>\n",
       "      <td>Boot</td>\n",
       "      <td>23</td>\n",
       "      <td>221</td>\n",
       "      <td>292</td>\n",
       "      <td>1173</td>\n",
       "    </tr>\n",
       "    <tr>\n",
       "      <th>1</th>\n",
       "      <td>Running</td>\n",
       "      <td>197</td>\n",
       "      <td>783</td>\n",
       "      <td>1384</td>\n",
       "      <td>5483</td>\n",
       "    </tr>\n",
       "    <tr>\n",
       "      <th>2</th>\n",
       "      <td>Sandal</td>\n",
       "      <td>20</td>\n",
       "      <td>144</td>\n",
       "      <td>188</td>\n",
       "      <td>390</td>\n",
       "    </tr>\n",
       "    <tr>\n",
       "      <th>3</th>\n",
       "      <td>Sneaker</td>\n",
       "      <td>45</td>\n",
       "      <td>231</td>\n",
       "      <td>393</td>\n",
       "      <td>1529</td>\n",
       "    </tr>\n",
       "  </tbody>\n",
       "</table>\n",
       "</div>"
      ],
      "text/plain": [
       "  product_category  cat_sales10  cat_sales30  cat_sales90  cat_sales_all\n",
       "0             Boot           23          221          292           1173\n",
       "1          Running          197          783         1384           5483\n",
       "2           Sandal           20          144          188            390\n",
       "3          Sneaker           45          231          393           1529"
      ]
     },
     "execution_count": 249,
     "metadata": {},
     "output_type": "execute_result"
    }
   ],
   "source": [
    "calc_category_features(as_of_dt='2021-03-26').head()"
   ]
  },
  {
   "cell_type": "code",
   "execution_count": 250,
   "id": "2e4b4c4b",
   "metadata": {},
   "outputs": [],
   "source": [
    "def calc_gen_features(as_of_dt):\n",
    "    \"\"\"\n",
    "    Function to calculate features\n",
    "    Returns dataframe\n",
    "    \"\"\"\n",
    "    hist_data = toy_dataset_df[(toy_dataset_df['timestamp'].dt.date < pd.to_datetime(as_of_dt))]\n",
    "\n",
    "    # Group by product title and apply the count_title_in_days function to calculate the counts for each title in the past 30, 60, and 90 days\n",
    "    counts_df = hist_data.groupby('product_gender') \\\n",
    "        .apply(lambda x: pd.Series({'gen_sales10': count_category_in_days(x, 10, as_of_dt), \n",
    "                                    'gen_sales30': count_category_in_days(x, 30, as_of_dt),\n",
    "                                    'gen_sales90': count_category_in_days(x, 90, as_of_dt),\n",
    "                                    'gen_sales_all': count_category_in_days(x, 1000, as_of_dt)})).reset_index()\n",
    "    return counts_df"
   ]
  },
  {
   "cell_type": "code",
   "execution_count": 253,
   "id": "bc902536",
   "metadata": {},
   "outputs": [
    {
     "data": {
      "text/html": [
       "<div>\n",
       "<style scoped>\n",
       "    .dataframe tbody tr th:only-of-type {\n",
       "        vertical-align: middle;\n",
       "    }\n",
       "\n",
       "    .dataframe tbody tr th {\n",
       "        vertical-align: top;\n",
       "    }\n",
       "\n",
       "    .dataframe thead th {\n",
       "        text-align: right;\n",
       "    }\n",
       "</style>\n",
       "<table border=\"1\" class=\"dataframe\">\n",
       "  <thead>\n",
       "    <tr style=\"text-align: right;\">\n",
       "      <th></th>\n",
       "      <th>product_gender</th>\n",
       "      <th>gen_sales10</th>\n",
       "      <th>gen_sales30</th>\n",
       "      <th>gen_sales90</th>\n",
       "      <th>gen_sales_all</th>\n",
       "    </tr>\n",
       "  </thead>\n",
       "  <tbody>\n",
       "    <tr>\n",
       "      <th>0</th>\n",
       "      <td>Kids</td>\n",
       "      <td>13</td>\n",
       "      <td>71</td>\n",
       "      <td>125</td>\n",
       "      <td>888</td>\n",
       "    </tr>\n",
       "    <tr>\n",
       "      <th>1</th>\n",
       "      <td>Men</td>\n",
       "      <td>72</td>\n",
       "      <td>389</td>\n",
       "      <td>796</td>\n",
       "      <td>5695</td>\n",
       "    </tr>\n",
       "    <tr>\n",
       "      <th>2</th>\n",
       "      <td>Unisex</td>\n",
       "      <td>4</td>\n",
       "      <td>27</td>\n",
       "      <td>53</td>\n",
       "      <td>187</td>\n",
       "    </tr>\n",
       "    <tr>\n",
       "      <th>3</th>\n",
       "      <td>Women</td>\n",
       "      <td>197</td>\n",
       "      <td>1682</td>\n",
       "      <td>2802</td>\n",
       "      <td>16419</td>\n",
       "    </tr>\n",
       "    <tr>\n",
       "      <th>4</th>\n",
       "      <td>Youth</td>\n",
       "      <td>20</td>\n",
       "      <td>46</td>\n",
       "      <td>89</td>\n",
       "      <td>663</td>\n",
       "    </tr>\n",
       "  </tbody>\n",
       "</table>\n",
       "</div>"
      ],
      "text/plain": [
       "  product_gender  gen_sales10  gen_sales30  gen_sales90  gen_sales_all\n",
       "0           Kids           13           71          125            888\n",
       "1            Men           72          389          796           5695\n",
       "2         Unisex            4           27           53            187\n",
       "3          Women          197         1682         2802          16419\n",
       "4          Youth           20           46           89            663"
      ]
     },
     "execution_count": 253,
     "metadata": {},
     "output_type": "execute_result"
    }
   ],
   "source": [
    "calc_gen_features(as_of_dt='2022-03-26').head()"
   ]
  },
  {
   "cell_type": "code",
   "execution_count": null,
   "id": "c5a0efbe",
   "metadata": {},
   "outputs": [],
   "source": []
  },
  {
   "cell_type": "markdown",
   "id": "5c91644e",
   "metadata": {},
   "source": [
    "#### Loop over dates, calculate features, create training data set"
   ]
  },
  {
   "cell_type": "code",
   "execution_count": 254,
   "id": "664764cb",
   "metadata": {},
   "outputs": [
    {
     "name": "stdout",
     "output_type": "stream",
     "text": [
      "2022-03-31,87,2022-03-30,264,2022-03-29,342,2022-03-28,447,2022-03-27,519,2022-03-26,594,2022-03-25,720,2022-03-24,816,2022-03-23,933,2022-03-22,1029,2022-03-21,1140,2022-03-20,1227,2022-03-19,1287,2022-03-18,1362,2022-03-17,1419,2022-03-16,1512,2022-03-15,1602,2022-03-14,1680,2022-03-13,1740,2022-03-12,1827,2022-03-11,1890,2022-03-10,2046,2022-03-09,5979,2022-03-08,6195,2022-03-07,6282,2022-03-06,6384,2022-03-05,6504,2022-03-04,6645,2022-03-03,6708,2022-03-02,6876,2022-03-01,6939,2022-02-28,7041,2022-02-27,7089,2022-02-26,7113,2022-02-25,7185,2022-02-24,7239,2022-02-23,7374,2022-02-22,7452,2022-02-21,7527,2022-02-20,7575,2022-02-19,7635,2022-02-18,7701,2022-02-17,7761,2022-02-16,7863,2022-02-15,7959,2022-02-14,8022,2022-02-13,8088,2022-02-12,8136,2022-02-11,8199,2022-02-10,8295,2022-02-09,8412,2022-02-08,8493,2022-02-07,8559,2022-02-06,8637,2022-02-05,8727,2022-02-04,8841,2022-02-03,8907,2022-02-02,9027,2022-02-01,9078,2022-01-31,9150,2022-01-30,9267,2022-01-29,9354,2022-01-28,9447,2022-01-27,9546,2022-01-26,9648,2022-01-25,9717,2022-01-24,9807,2022-01-23,9864,2022-01-22,9909,2022-01-21,9981,2022-01-20,10068,2022-01-19,10191,2022-01-18,10245,2022-01-17,10281,2022-01-16,10335,2022-01-15,10425,2022-01-14,10512,2022-01-13,10584,2022-01-12,10692,2022-01-11,10785,2022-01-10,10827,2022-01-09,10893,2022-01-08,10953,2022-01-07,11001,2022-01-06,11064,2022-01-05,11166,2022-01-04,11274,2022-01-03,11346,2022-01-02,11430,2022-01-01,11562,2021-12-31,11640,2021-12-30,11727,2021-12-29,11883,2021-12-28,11985,2021-12-27,12099,2021-12-26,12189,2021-12-25,12213,2021-12-24,12246,2021-12-23,12333,2021-12-22,12513,Wall time: 1min\n"
     ]
    }
   ],
   "source": [
    "%%time\n",
    "\n",
    "NUM_DATES_TO_LOOP_OVER = 100\n",
    "NUM_NEGATIVE_SAMPLES = 2\n",
    "\n",
    "# order samples to loop over them backwards chronologically\n",
    "positive_samples = positive_samples.sort_values('timestamp', ascending=False)\n",
    "\n",
    "train_df = pd.DataFrame()\n",
    "\n",
    "# loop through dates\n",
    "for idx, dt, in enumerate(positive_samples['timestamp'].dt.date.unique()[0:NUM_DATES_TO_LOOP_OVER]):\n",
    "    print(dt, end=',')\n",
    "    \n",
    "    # subset purchases by date\n",
    "    purchases = positive_samples[positive_samples['timestamp'].dt.date == dt]\n",
    "    \n",
    "    all_negative_samples = pd.DataFrame()\n",
    "    # loop over purchases\n",
    "    for idx, row in purchases.iterrows():\n",
    "        # create negative_samples\n",
    "        dfs = [row.to_frame().T for i in range(NUM_NEGATIVE_SAMPLES)]\n",
    "        negative_samples = pd.concat(dfs, ignore_index=True)\n",
    "        negative_samples['purchase'] = 0\n",
    "        negative_samples['product_gender'] = negative_samples['product_gender'].apply(lambda x: random.choice(genders))\n",
    "        negative_samples['product_color'] = negative_samples['product_color'].apply(lambda x: random.choice(colors))\n",
    "        # sale_amount, title, category\n",
    "        sample_product = train[['sale_amount', 'product_title', 'product_category']].sample(NUM_NEGATIVE_SAMPLES)\n",
    "        negative_samples['sale_amount'] = sample_product['sale_amount'].values\n",
    "        negative_samples['product_title'] = sample_product['product_title'].values\n",
    "        negative_samples['product_category'] = sample_product['product_category'].values\n",
    "        negative_samples.loc[:,'product_title_gender'] = negative_samples['product_title'] + '-' + negative_samples['product_gender']\n",
    "        all_negative_samples = pd.concat([all_negative_samples, negative_samples])\n",
    "    \n",
    "    daily_df = pd.concat([all_negative_samples, purchases])\n",
    "    \n",
    "    hist_data = toy_dataset_df[(toy_dataset_df['timestamp'].dt.date < pd.to_datetime(dt))]\n",
    "    \n",
    "    # add user features\n",
    "    user_features_df = calc_user_features(df=hist_data)\n",
    "    daily_train_df = pd.merge(left=daily_df, \n",
    "                            right=user_features_df,\n",
    "                            left_on='hash_customer',\n",
    "                            right_on='hash_customer', \n",
    "                            how='left')\n",
    "    \n",
    "    # add titgen features\n",
    "    titgen_features_df = calc_titgen_features(df=hist_data)\n",
    "    daily_train_df = pd.merge(left=daily_train_df, \n",
    "                            right=titgen_features_df,\n",
    "                            left_on='product_title_gender',\n",
    "                            right_on='product_title_gender', \n",
    "                            how='left')\n",
    "    \n",
    "    # add user-gen features\n",
    "    user_gen_features_df = calc_user_gen_features(df=hist_data)\n",
    "    daily_train_df = pd.merge(left=daily_train_df, \n",
    "                            right=user_gen_features_df,\n",
    "                            left_on=['hash_customer', 'product_gender'],\n",
    "                            right_on=['hash_customer', 'product_gender'], \n",
    "                            how='left')\n",
    "\n",
    "    # add title features\n",
    "    title_features_df = calc_title_features(df=hist_data)\n",
    "    daily_train_df = pd.merge(left=daily_train_df, \n",
    "                            right=title_features_df,\n",
    "                            left_on='product_title',\n",
    "                            right_on='product_title', \n",
    "                            how='left')\n",
    "    \n",
    "    # add user-cat features\n",
    "    user_cat_features_df = calc_user_cat_features(df=hist_data)\n",
    "    daily_train_df = pd.merge(left=daily_train_df, \n",
    "                            right=user_cat_features_df,\n",
    "                            left_on=['hash_customer', 'product_category'],\n",
    "                            right_on=['hash_customer', 'product_category'], \n",
    "                            how='left')\n",
    "\n",
    "    # add cat features\n",
    "    cat_features_df = calc_category_features(as_of_dt=dt)\n",
    "    daily_train_df = pd.merge(left=daily_train_df, \n",
    "                            right=cat_features_df,\n",
    "                            left_on='product_category',\n",
    "                            right_on='product_category', \n",
    "                            how='left')\n",
    "\n",
    "    # gender\n",
    "    gen_features_df = calc_gen_features(as_of_dt=dt)\n",
    "    daily_train_df = pd.merge(left=daily_train_df, \n",
    "                            right=gen_features_df,\n",
    "                            left_on='product_gender',\n",
    "                            right_on='product_gender', \n",
    "                            how='left')\n",
    "\n",
    "    # gender-cat features?\n",
    "    \n",
    "    train_df = pd.concat([train_df, daily_train_df])\n",
    "    print(train_df.shape[0], end=',')"
   ]
  },
  {
   "cell_type": "code",
   "execution_count": 255,
   "id": "a16ce9e2",
   "metadata": {},
   "outputs": [
    {
     "data": {
      "text/plain": [
       "0    8342\n",
       "1    4171\n",
       "Name: purchase, dtype: int64"
      ]
     },
     "execution_count": 255,
     "metadata": {},
     "output_type": "execute_result"
    }
   ],
   "source": [
    "train_df['purchase'].value_counts()"
   ]
  },
  {
   "cell_type": "code",
   "execution_count": 256,
   "id": "5514a4bd",
   "metadata": {},
   "outputs": [
    {
     "data": {
      "text/plain": [
       "(12513, 30)"
      ]
     },
     "execution_count": 256,
     "metadata": {},
     "output_type": "execute_result"
    }
   ],
   "source": [
    "train_df.shape"
   ]
  },
  {
   "cell_type": "code",
   "execution_count": 257,
   "id": "bbb5f3cd",
   "metadata": {},
   "outputs": [],
   "source": [
    "# Fill missing values with 0\n",
    "\n",
    "fill_na_fields = [\n",
    "    'user_trans_cnt', 'user_avg_prod_cost', \n",
    "    'titgen_title_cnt', 'titgen_trans_cnt', 'titgen_tot_sales','titgen_avg_prod_cost',\n",
    "    'user_gen_trans_cnt', 'user_gen_avg_prod_cost',\n",
    "    'title_tot_sales',\n",
    "    'cat_sales10','cat_sales30','cat_sales90','cat_sales_all',\n",
    "    'gen_sales10','gen_sales30','gen_sales90','gen_sales_all',\n",
    "    'user_cat_trans_cnt', 'user_cat_avg_prod_cost'\n",
    "]\n",
    "\n",
    "train_df[fill_na_fields] = train_df[fill_na_fields].fillna(0)"
   ]
  },
  {
   "cell_type": "code",
   "execution_count": 258,
   "id": "b6b04816",
   "metadata": {},
   "outputs": [
    {
     "data": {
      "text/html": [
       "<div>\n",
       "<style scoped>\n",
       "    .dataframe tbody tr th:only-of-type {\n",
       "        vertical-align: middle;\n",
       "    }\n",
       "\n",
       "    .dataframe tbody tr th {\n",
       "        vertical-align: top;\n",
       "    }\n",
       "\n",
       "    .dataframe thead th {\n",
       "        text-align: right;\n",
       "    }\n",
       "</style>\n",
       "<table border=\"1\" class=\"dataframe\">\n",
       "  <thead>\n",
       "    <tr style=\"text-align: right;\">\n",
       "      <th></th>\n",
       "      <th>timestamp</th>\n",
       "      <th>transaction_id</th>\n",
       "      <th>hash_customer</th>\n",
       "      <th>sale_amount</th>\n",
       "      <th>product_title</th>\n",
       "      <th>product_color</th>\n",
       "      <th>product_gender</th>\n",
       "      <th>product_category</th>\n",
       "      <th>referrer_source</th>\n",
       "      <th>product_title_gender</th>\n",
       "      <th>...</th>\n",
       "      <th>user_cat_trans_cnt</th>\n",
       "      <th>user_cat_avg_prod_cost</th>\n",
       "      <th>cat_sales10</th>\n",
       "      <th>cat_sales30</th>\n",
       "      <th>cat_sales90</th>\n",
       "      <th>cat_sales_all</th>\n",
       "      <th>gen_sales10</th>\n",
       "      <th>gen_sales30</th>\n",
       "      <th>gen_sales90</th>\n",
       "      <th>gen_sales_all</th>\n",
       "    </tr>\n",
       "  </thead>\n",
       "  <tbody>\n",
       "    <tr>\n",
       "      <th>0</th>\n",
       "      <td>2022-03-31 19:00:00</td>\n",
       "      <td>3553130952594366107</td>\n",
       "      <td>179446793816447129</td>\n",
       "      <td>125.0</td>\n",
       "      <td>Hustler Boot</td>\n",
       "      <td>Han Purple</td>\n",
       "      <td>Unisex</td>\n",
       "      <td>Boot</td>\n",
       "      <td>Search</td>\n",
       "      <td>Hustler Boot-Unisex</td>\n",
       "      <td>...</td>\n",
       "      <td>0.0</td>\n",
       "      <td>0.0</td>\n",
       "      <td>70</td>\n",
       "      <td>349</td>\n",
       "      <td>573</td>\n",
       "      <td>4115</td>\n",
       "      <td>5</td>\n",
       "      <td>25</td>\n",
       "      <td>52</td>\n",
       "      <td>188</td>\n",
       "    </tr>\n",
       "    <tr>\n",
       "      <th>1</th>\n",
       "      <td>2022-03-31 19:00:00</td>\n",
       "      <td>3553130952594366107</td>\n",
       "      <td>179446793816447129</td>\n",
       "      <td>194.0</td>\n",
       "      <td>Olympic Running</td>\n",
       "      <td>Fern Green</td>\n",
       "      <td>Women</td>\n",
       "      <td>Running</td>\n",
       "      <td>Search</td>\n",
       "      <td>Olympic Running-Women</td>\n",
       "      <td>...</td>\n",
       "      <td>0.0</td>\n",
       "      <td>0.0</td>\n",
       "      <td>187</td>\n",
       "      <td>1338</td>\n",
       "      <td>2231</td>\n",
       "      <td>14193</td>\n",
       "      <td>216</td>\n",
       "      <td>1714</td>\n",
       "      <td>2784</td>\n",
       "      <td>16522</td>\n",
       "    </tr>\n",
       "    <tr>\n",
       "      <th>2</th>\n",
       "      <td>2022-03-31 17:00:00</td>\n",
       "      <td>6533694194312845568</td>\n",
       "      <td>17712380799913556542</td>\n",
       "      <td>111.0</td>\n",
       "      <td>Hustler Boot</td>\n",
       "      <td>Lavender Purple</td>\n",
       "      <td>Women</td>\n",
       "      <td>Boot</td>\n",
       "      <td>Direct</td>\n",
       "      <td>Hustler Boot-Women</td>\n",
       "      <td>...</td>\n",
       "      <td>0.0</td>\n",
       "      <td>0.0</td>\n",
       "      <td>70</td>\n",
       "      <td>349</td>\n",
       "      <td>573</td>\n",
       "      <td>4115</td>\n",
       "      <td>216</td>\n",
       "      <td>1714</td>\n",
       "      <td>2784</td>\n",
       "      <td>16522</td>\n",
       "    </tr>\n",
       "    <tr>\n",
       "      <th>3</th>\n",
       "      <td>2022-03-31 17:00:00</td>\n",
       "      <td>6533694194312845568</td>\n",
       "      <td>17712380799913556542</td>\n",
       "      <td>194.0</td>\n",
       "      <td>Olympic Running</td>\n",
       "      <td>Pastel Magenta</td>\n",
       "      <td>Youth</td>\n",
       "      <td>Running</td>\n",
       "      <td>Direct</td>\n",
       "      <td>Olympic Running-Youth</td>\n",
       "      <td>...</td>\n",
       "      <td>1.0</td>\n",
       "      <td>194.0</td>\n",
       "      <td>187</td>\n",
       "      <td>1338</td>\n",
       "      <td>2231</td>\n",
       "      <td>14193</td>\n",
       "      <td>16</td>\n",
       "      <td>50</td>\n",
       "      <td>93</td>\n",
       "      <td>668</td>\n",
       "    </tr>\n",
       "    <tr>\n",
       "      <th>4</th>\n",
       "      <td>2022-03-31 15:00:00</td>\n",
       "      <td>9922706276033091542</td>\n",
       "      <td>3661947327633974984</td>\n",
       "      <td>111.0</td>\n",
       "      <td>Olympic Running</td>\n",
       "      <td>Ruby Red</td>\n",
       "      <td>Men</td>\n",
       "      <td>Running</td>\n",
       "      <td>Direct</td>\n",
       "      <td>Olympic Running-Men</td>\n",
       "      <td>...</td>\n",
       "      <td>0.0</td>\n",
       "      <td>0.0</td>\n",
       "      <td>187</td>\n",
       "      <td>1338</td>\n",
       "      <td>2231</td>\n",
       "      <td>14193</td>\n",
       "      <td>104</td>\n",
       "      <td>425</td>\n",
       "      <td>796</td>\n",
       "      <td>5753</td>\n",
       "    </tr>\n",
       "  </tbody>\n",
       "</table>\n",
       "<p>5 rows × 30 columns</p>\n",
       "</div>"
      ],
      "text/plain": [
       "            timestamp       transaction_id         hash_customer  sale_amount  \\\n",
       "0 2022-03-31 19:00:00  3553130952594366107    179446793816447129        125.0   \n",
       "1 2022-03-31 19:00:00  3553130952594366107    179446793816447129        194.0   \n",
       "2 2022-03-31 17:00:00  6533694194312845568  17712380799913556542        111.0   \n",
       "3 2022-03-31 17:00:00  6533694194312845568  17712380799913556542        194.0   \n",
       "4 2022-03-31 15:00:00  9922706276033091542   3661947327633974984        111.0   \n",
       "\n",
       "     product_title    product_color product_gender product_category  \\\n",
       "0     Hustler Boot       Han Purple         Unisex             Boot   \n",
       "1  Olympic Running       Fern Green          Women          Running   \n",
       "2     Hustler Boot  Lavender Purple          Women             Boot   \n",
       "3  Olympic Running   Pastel Magenta          Youth          Running   \n",
       "4  Olympic Running         Ruby Red            Men          Running   \n",
       "\n",
       "  referrer_source   product_title_gender  ...  user_cat_trans_cnt  \\\n",
       "0          Search    Hustler Boot-Unisex  ...                 0.0   \n",
       "1          Search  Olympic Running-Women  ...                 0.0   \n",
       "2          Direct     Hustler Boot-Women  ...                 0.0   \n",
       "3          Direct  Olympic Running-Youth  ...                 1.0   \n",
       "4          Direct    Olympic Running-Men  ...                 0.0   \n",
       "\n",
       "   user_cat_avg_prod_cost  cat_sales10  cat_sales30  cat_sales90  \\\n",
       "0                     0.0           70          349          573   \n",
       "1                     0.0          187         1338         2231   \n",
       "2                     0.0           70          349          573   \n",
       "3                   194.0          187         1338         2231   \n",
       "4                     0.0          187         1338         2231   \n",
       "\n",
       "   cat_sales_all  gen_sales10  gen_sales30  gen_sales90  gen_sales_all  \n",
       "0           4115            5           25           52            188  \n",
       "1          14193          216         1714         2784          16522  \n",
       "2           4115          216         1714         2784          16522  \n",
       "3          14193           16           50           93            668  \n",
       "4          14193          104          425          796           5753  \n",
       "\n",
       "[5 rows x 30 columns]"
      ]
     },
     "execution_count": 258,
     "metadata": {},
     "output_type": "execute_result"
    }
   ],
   "source": [
    "train_df.head()"
   ]
  },
  {
   "cell_type": "code",
   "execution_count": 259,
   "id": "dc9782e0",
   "metadata": {},
   "outputs": [
    {
     "data": {
      "text/plain": [
       "Index(['timestamp', 'transaction_id', 'hash_customer', 'sale_amount',\n",
       "       'product_title', 'product_color', 'product_gender', 'product_category',\n",
       "       'referrer_source', 'product_title_gender', 'purchase', 'user_trans_cnt',\n",
       "       'user_avg_prod_cost', 'titgen_title_cnt', 'titgen_trans_cnt',\n",
       "       'titgen_tot_sales', 'titgen_avg_prod_cost', 'user_gen_trans_cnt',\n",
       "       'user_gen_avg_prod_cost', 'title_tot_sales', 'user_cat_trans_cnt',\n",
       "       'user_cat_avg_prod_cost', 'cat_sales10', 'cat_sales30', 'cat_sales90',\n",
       "       'cat_sales_all', 'gen_sales10', 'gen_sales30', 'gen_sales90',\n",
       "       'gen_sales_all'],\n",
       "      dtype='object')"
      ]
     },
     "execution_count": 259,
     "metadata": {},
     "output_type": "execute_result"
    }
   ],
   "source": [
    "train_df.columns"
   ]
  },
  {
   "cell_type": "code",
   "execution_count": null,
   "id": "b736912b",
   "metadata": {},
   "outputs": [],
   "source": []
  },
  {
   "cell_type": "code",
   "execution_count": 260,
   "id": "12601830",
   "metadata": {},
   "outputs": [],
   "source": [
    "title_gender_model_fields = [\n",
    "    # 'sale_amount',\n",
    "    # 'referrer_source',\n",
    "    'user_trans_cnt', 'user_avg_prod_cost', \n",
    "    'titgen_title_cnt', 'titgen_trans_cnt', 'titgen_tot_sales','titgen_avg_prod_cost',\n",
    "    'user_gen_trans_cnt', 'user_gen_avg_prod_cost',\n",
    "    'title_tot_sales',\n",
    "    'cat_sales10','cat_sales30','cat_sales90','cat_sales_all',\n",
    "    'gen_sales10','gen_sales30','gen_sales90','gen_sales_all',\n",
    "    'user_cat_trans_cnt', 'user_cat_avg_prod_cost'\n",
    "]"
   ]
  },
  {
   "cell_type": "markdown",
   "id": "450c8faf",
   "metadata": {},
   "source": [
    "#### Logistic Regression"
   ]
  },
  {
   "cell_type": "code",
   "execution_count": 261,
   "id": "316ffa46",
   "metadata": {},
   "outputs": [],
   "source": [
    "from sklearn.linear_model import LogisticRegression\n",
    "from sklearn.preprocessing import StandardScaler"
   ]
  },
  {
   "cell_type": "code",
   "execution_count": 262,
   "id": "433bb035",
   "metadata": {},
   "outputs": [
    {
     "data": {
      "text/plain": [
       "StandardScaler()"
      ]
     },
     "execution_count": 262,
     "metadata": {},
     "output_type": "execute_result"
    }
   ],
   "source": [
    "scaler = StandardScaler()\n",
    "scaler.fit(train_df[title_gender_model_fields])"
   ]
  },
  {
   "cell_type": "code",
   "execution_count": 263,
   "id": "518fa30d",
   "metadata": {},
   "outputs": [],
   "source": [
    "scaled_df = scaler.transform(train_df[title_gender_model_fields])"
   ]
  },
  {
   "cell_type": "code",
   "execution_count": 264,
   "id": "8cda9aae",
   "metadata": {},
   "outputs": [],
   "source": [
    "# create a logistic regression model with default parameters\n",
    "title_gender_lr_model = LogisticRegression()"
   ]
  },
  {
   "cell_type": "code",
   "execution_count": 265,
   "id": "f94ffa1f",
   "metadata": {},
   "outputs": [
    {
     "name": "stderr",
     "output_type": "stream",
     "text": [
      "C:\\Users\\jerem\\anaconda3\\lib\\site-packages\\sklearn\\linear_model\\_logistic.py:763: ConvergenceWarning: lbfgs failed to converge (status=1):\n",
      "STOP: TOTAL NO. of ITERATIONS REACHED LIMIT.\n",
      "\n",
      "Increase the number of iterations (max_iter) or scale the data as shown in:\n",
      "    https://scikit-learn.org/stable/modules/preprocessing.html\n",
      "Please also refer to the documentation for alternative solver options:\n",
      "    https://scikit-learn.org/stable/modules/linear_model.html#logistic-regression\n",
      "  n_iter_i = _check_optimize_result(\n"
     ]
    },
    {
     "data": {
      "text/plain": [
       "LogisticRegression()"
      ]
     },
     "execution_count": 265,
     "metadata": {},
     "output_type": "execute_result"
    }
   ],
   "source": [
    "# fit the model to the training data\n",
    "title_gender_lr_model.fit(X=scaled_df, \n",
    "             y=train_df['purchase'])"
   ]
  },
  {
   "cell_type": "code",
   "execution_count": 266,
   "id": "39cffa58",
   "metadata": {},
   "outputs": [],
   "source": [
    "train_preds = title_gender_lr_model.predict_proba(scaled_df)"
   ]
  },
  {
   "cell_type": "code",
   "execution_count": 267,
   "id": "0d1d2110",
   "metadata": {},
   "outputs": [
    {
     "data": {
      "text/plain": [
       "array([0.02669409, 0.56299082, 0.74635859, ..., 0.60777955, 0.07076481,\n",
       "       0.3021275 ])"
      ]
     },
     "execution_count": 267,
     "metadata": {},
     "output_type": "execute_result"
    }
   ],
   "source": [
    "train_preds[:,1]"
   ]
  },
  {
   "cell_type": "code",
   "execution_count": 268,
   "id": "632e8446",
   "metadata": {},
   "outputs": [],
   "source": [
    "from sklearn.metrics import roc_curve, auc\n",
    "import matplotlib.pyplot as plt"
   ]
  },
  {
   "cell_type": "code",
   "execution_count": 269,
   "id": "0a5b69f1",
   "metadata": {},
   "outputs": [],
   "source": [
    "y_train_pred = title_gender_lr_model.predict(scaled_df)\n",
    "y_train_prob = title_gender_lr_model.predict_proba(scaled_df)[:,1]"
   ]
  },
  {
   "cell_type": "code",
   "execution_count": 271,
   "id": "4edfc290",
   "metadata": {},
   "outputs": [],
   "source": [
    "fpr, tpr, _ = roc_curve(train_df['purchase'], y_train_prob)\n",
    "roc_auc = auc(fpr, tpr)"
   ]
  },
  {
   "cell_type": "code",
   "execution_count": 272,
   "id": "674fb214",
   "metadata": {},
   "outputs": [
    {
     "data": {
      "image/png": "[encoded data removed]",
      "text/plain": [
       "<Figure size 432x288 with 1 Axes>"
      ]
     },
     "metadata": {
      "needs_background": "light"
     },
     "output_type": "display_data"
    }
   ],
   "source": [
    "# Plot the ROC curve\n",
    "plt.plot(fpr, tpr, color='darkorange', label='ROC curve (AUC = %0.2f)' % roc_auc)\n",
    "plt.plot([0, 1], [0, 1], color='navy', linestyle='--')\n",
    "plt.xlabel('False Positive Rate')\n",
    "plt.ylabel('True Positive Rate')\n",
    "plt.title('Receiver Operating Characteristic (ROC) Curve')\n",
    "plt.legend(loc=\"lower right\")\n",
    "plt.show()"
   ]
  },
  {
   "cell_type": "code",
   "execution_count": null,
   "id": "19d5ce99",
   "metadata": {},
   "outputs": [],
   "source": []
  },
  {
   "cell_type": "code",
   "execution_count": 336,
   "id": "d6e2f554",
   "metadata": {},
   "outputs": [
    {
     "data": {
      "text/plain": [
       "(558000, 7)"
      ]
     },
     "execution_count": 336,
     "metadata": {},
     "output_type": "execute_result"
    }
   ],
   "source": [
    "# create inference data set from product catalog cross join to test transactions\n",
    "inferrence_df = pd.merge(left=toy_products_df[['product_title', 'product_gender', 'product_category']].drop_duplicates(), \n",
    "                          right=test[['timestamp', 'hash_customer', 'referrer_source', 'product_title_gender']].drop_duplicates(), \n",
    "                          how='cross')\n",
    "\n",
    "inferrence_df.shape"
   ]
  },
  {
   "cell_type": "code",
   "execution_count": 337,
   "id": "5aba8ebe",
   "metadata": {},
   "outputs": [],
   "source": [
    "test_hist_df = toy_dataset_df[(toy_dataset_df['timestamp'].dt.date < pd.to_datetime(split_date))]"
   ]
  },
  {
   "cell_type": "code",
   "execution_count": 338,
   "id": "bb10bc5c",
   "metadata": {},
   "outputs": [],
   "source": [
    "# add user features\n",
    "user_features_df = calc_user_features(df=test_hist_df)\n",
    "inferrence_df = pd.merge(left=inferrence_df, \n",
    "                        right=user_features_df,\n",
    "                        left_on='hash_customer',\n",
    "                        right_on='hash_customer', \n",
    "                        how='left')"
   ]
  },
  {
   "cell_type": "code",
   "execution_count": 339,
   "id": "b40c306f",
   "metadata": {},
   "outputs": [],
   "source": [
    "# add titgen features\n",
    "titgen_features_df = calc_titgen_features(df=test_hist_df)\n",
    "inferrence_df = pd.merge(left=inferrence_df, \n",
    "                        right=titgen_features_df,\n",
    "                        left_on='product_title_gender',\n",
    "                        right_on='product_title_gender', \n",
    "                        how='left')"
   ]
  },
  {
   "cell_type": "code",
   "execution_count": 340,
   "id": "be554b3d",
   "metadata": {},
   "outputs": [],
   "source": [
    "# add user-gen features\n",
    "user_gen_features_df = calc_user_gen_features(df=test_hist_df)\n",
    "inferrence_df = pd.merge(left=inferrence_df, \n",
    "                        right=user_gen_features_df,\n",
    "                        left_on=['hash_customer', 'product_gender'],\n",
    "                        right_on=['hash_customer', 'product_gender'], \n",
    "                        how='left')"
   ]
  },
  {
   "cell_type": "code",
   "execution_count": 341,
   "id": "d3593483",
   "metadata": {},
   "outputs": [],
   "source": [
    "# add title features\n",
    "title_features_df = calc_title_features(df=test_hist_df)\n",
    "inferrence_df = pd.merge(left=inferrence_df, \n",
    "                        right=title_features_df,\n",
    "                        left_on='product_title',\n",
    "                        right_on='product_title', \n",
    "                        how='left')"
   ]
  },
  {
   "cell_type": "code",
   "execution_count": 342,
   "id": "98f53be3",
   "metadata": {},
   "outputs": [],
   "source": [
    "# add user-cat features\n",
    "user_cat_features_df = calc_user_cat_features(df=test_hist_df)\n",
    "inferrence_df = pd.merge(left=inferrence_df, \n",
    "                    right=user_cat_features_df,\n",
    "                    left_on=['hash_customer', 'product_category'],\n",
    "                    right_on=['hash_customer', 'product_category'], \n",
    "                    how='left')"
   ]
  },
  {
   "cell_type": "code",
   "execution_count": 343,
   "id": "333b9fec",
   "metadata": {},
   "outputs": [],
   "source": [
    "# add cat features\n",
    "cat_features_df = calc_category_features(as_of_dt=split_date)\n",
    "inferrence_df = pd.merge(left=inferrence_df, \n",
    "                    right=cat_features_df,\n",
    "                    left_on='product_category',\n",
    "                    right_on='product_category', \n",
    "                    how='left')"
   ]
  },
  {
   "cell_type": "code",
   "execution_count": 344,
   "id": "39a165f4",
   "metadata": {},
   "outputs": [],
   "source": [
    "# gender\n",
    "gen_features_df = calc_gen_features(as_of_dt=dt)\n",
    "inferrence_df = pd.merge(left=inferrence_df, \n",
    "                        right=gen_features_df,\n",
    "                        left_on='product_gender',\n",
    "                        right_on='product_gender', \n",
    "                        how='left')"
   ]
  },
  {
   "cell_type": "code",
   "execution_count": 345,
   "id": "0a797337",
   "metadata": {},
   "outputs": [
    {
     "data": {
      "text/plain": [
       "(558000, 26)"
      ]
     },
     "execution_count": 345,
     "metadata": {},
     "output_type": "execute_result"
    }
   ],
   "source": [
    "inferrence_df.shape"
   ]
  },
  {
   "cell_type": "code",
   "execution_count": 346,
   "id": "d0dece04",
   "metadata": {},
   "outputs": [],
   "source": [
    "inferrence_df[fill_na_fields] = inferrence_df[fill_na_fields].fillna(0)"
   ]
  },
  {
   "cell_type": "code",
   "execution_count": 347,
   "id": "f18d7eca",
   "metadata": {},
   "outputs": [],
   "source": [
    "scaled_test_df = scaler.transform(inferrence_df[title_gender_model_fields])"
   ]
  },
  {
   "cell_type": "code",
   "execution_count": 348,
   "id": "7d70762e",
   "metadata": {},
   "outputs": [],
   "source": [
    "test_preds = title_gender_lr_model.predict_proba(scaled_test_df)"
   ]
  },
  {
   "cell_type": "code",
   "execution_count": 349,
   "id": "ebfa942c",
   "metadata": {},
   "outputs": [
    {
     "data": {
      "text/plain": [
       "array([0.10880154, 0.09130173, 0.04759303, ..., 0.59252297, 0.03246134,\n",
       "       0.82188088])"
      ]
     },
     "execution_count": 349,
     "metadata": {},
     "output_type": "execute_result"
    }
   ],
   "source": [
    "test_preds[:,1]"
   ]
  },
  {
   "cell_type": "code",
   "execution_count": 350,
   "id": "f2205b28",
   "metadata": {},
   "outputs": [
    {
     "data": {
      "text/plain": [
       "558000"
      ]
     },
     "execution_count": 350,
     "metadata": {},
     "output_type": "execute_result"
    }
   ],
   "source": [
    "len(test_preds)"
   ]
  },
  {
   "cell_type": "code",
   "execution_count": 351,
   "id": "7c237209",
   "metadata": {},
   "outputs": [],
   "source": [
    "inferrence_df['pred'] = test_preds[:,1]"
   ]
  },
  {
   "cell_type": "code",
   "execution_count": 352,
   "id": "2ed6728a",
   "metadata": {},
   "outputs": [],
   "source": [
    "inferrence_df['pred_rank'] = inferrence_df.groupby(['hash_customer','timestamp'])['pred'].rank(method='first', ascending=False)"
   ]
  },
  {
   "cell_type": "code",
   "execution_count": 353,
   "id": "5c949cf9",
   "metadata": {},
   "outputs": [
    {
     "data": {
      "text/plain": [
       "(37380, 28)"
      ]
     },
     "execution_count": 353,
     "metadata": {},
     "output_type": "execute_result"
    }
   ],
   "source": [
    "sorted_df = inferrence_df.sort_values(['hash_customer', 'timestamp', 'pred'], \n",
    "                                       ascending=[True, True, False])\n",
    "top10_preds_df = sorted_df.groupby(['hash_customer', 'timestamp']).head(10)\n",
    "top10_preds_df.shape"
   ]
  },
  {
   "cell_type": "code",
   "execution_count": 354,
   "id": "6f3abfb1",
   "metadata": {},
   "outputs": [
    {
     "data": {
      "text/plain": [
       "Sandal     17883\n",
       "Boot        7220\n",
       "Running     6878\n",
       "Sneaker     5399\n",
       "Name: product_category, dtype: int64"
      ]
     },
     "execution_count": 354,
     "metadata": {},
     "output_type": "execute_result"
    }
   ],
   "source": [
    "top10_preds_df['product_category'].value_counts()"
   ]
  },
  {
   "cell_type": "code",
   "execution_count": 360,
   "id": "b9afbf8a",
   "metadata": {},
   "outputs": [
    {
     "data": {
      "text/html": [
       "<div>\n",
       "<style scoped>\n",
       "    .dataframe tbody tr th:only-of-type {\n",
       "        vertical-align: middle;\n",
       "    }\n",
       "\n",
       "    .dataframe tbody tr th {\n",
       "        vertical-align: top;\n",
       "    }\n",
       "\n",
       "    .dataframe thead th {\n",
       "        text-align: right;\n",
       "    }\n",
       "</style>\n",
       "<table border=\"1\" class=\"dataframe\">\n",
       "  <thead>\n",
       "    <tr style=\"text-align: right;\">\n",
       "      <th></th>\n",
       "      <th>Unnamed: 0</th>\n",
       "      <th>timestamp</th>\n",
       "      <th>transaction_id</th>\n",
       "      <th>hash_customer</th>\n",
       "      <th>sale_amount</th>\n",
       "      <th>product_title</th>\n",
       "      <th>product_color</th>\n",
       "      <th>product_gender</th>\n",
       "      <th>product_category</th>\n",
       "      <th>product_size</th>\n",
       "      <th>...</th>\n",
       "      <th>zip_med_age</th>\n",
       "      <th>zip_male_female_ratio</th>\n",
       "      <th>zip_tot_pop</th>\n",
       "      <th>zip_tot_white_nh</th>\n",
       "      <th>zip_med_hh_income</th>\n",
       "      <th>zip_mean_hh_income</th>\n",
       "      <th>zip_pct_emp_lf</th>\n",
       "      <th>zip_unemp_rate</th>\n",
       "      <th>transaction_num</th>\n",
       "      <th>product_title_gender</th>\n",
       "    </tr>\n",
       "  </thead>\n",
       "  <tbody>\n",
       "    <tr>\n",
       "      <th>21</th>\n",
       "      <td>58</td>\n",
       "      <td>2022-05-22 14:00:00</td>\n",
       "      <td>701140827973030343</td>\n",
       "      <td>901098790880827689</td>\n",
       "      <td>71.0</td>\n",
       "      <td>Olympic Running</td>\n",
       "      <td>Han Purple</td>\n",
       "      <td>Kids</td>\n",
       "      <td>Running</td>\n",
       "      <td>12.5</td>\n",
       "      <td>...</td>\n",
       "      <td>47.2</td>\n",
       "      <td>87.2</td>\n",
       "      <td>30908.0</td>\n",
       "      <td>23172.0</td>\n",
       "      <td>163016.0</td>\n",
       "      <td>268666.0</td>\n",
       "      <td>65.9</td>\n",
       "      <td>2.3</td>\n",
       "      <td>3.0</td>\n",
       "      <td>Olympic Running-Kids</td>\n",
       "    </tr>\n",
       "    <tr>\n",
       "      <th>97</th>\n",
       "      <td>146</td>\n",
       "      <td>2022-04-14 04:00:00</td>\n",
       "      <td>2799431335451539068</td>\n",
       "      <td>16884786084583649830</td>\n",
       "      <td>224.0</td>\n",
       "      <td>Olympic Running</td>\n",
       "      <td>Sky Blue</td>\n",
       "      <td>Women</td>\n",
       "      <td>Running</td>\n",
       "      <td>11.0</td>\n",
       "      <td>...</td>\n",
       "      <td>34.6</td>\n",
       "      <td>98.7</td>\n",
       "      <td>39355.0</td>\n",
       "      <td>12850.0</td>\n",
       "      <td>119397.0</td>\n",
       "      <td>148191.0</td>\n",
       "      <td>71.6</td>\n",
       "      <td>4.2</td>\n",
       "      <td>22.0</td>\n",
       "      <td>Olympic Running-Women</td>\n",
       "    </tr>\n",
       "    <tr>\n",
       "      <th>98</th>\n",
       "      <td>147</td>\n",
       "      <td>2022-04-14 04:00:00</td>\n",
       "      <td>2799431335451539068</td>\n",
       "      <td>16884786084583649830</td>\n",
       "      <td>224.0</td>\n",
       "      <td>Olympic Running</td>\n",
       "      <td>Midnight Green (Eagle Green)</td>\n",
       "      <td>Men</td>\n",
       "      <td>Running</td>\n",
       "      <td>12.5</td>\n",
       "      <td>...</td>\n",
       "      <td>34.6</td>\n",
       "      <td>98.7</td>\n",
       "      <td>39355.0</td>\n",
       "      <td>12850.0</td>\n",
       "      <td>119397.0</td>\n",
       "      <td>148191.0</td>\n",
       "      <td>71.6</td>\n",
       "      <td>4.2</td>\n",
       "      <td>22.0</td>\n",
       "      <td>Olympic Running-Men</td>\n",
       "    </tr>\n",
       "    <tr>\n",
       "      <th>99</th>\n",
       "      <td>148</td>\n",
       "      <td>2022-06-11 20:00:00</td>\n",
       "      <td>16924928935687922810</td>\n",
       "      <td>16884786084583649830</td>\n",
       "      <td>111.0</td>\n",
       "      <td>Olympic Running</td>\n",
       "      <td>Yellow-Green</td>\n",
       "      <td>Youth</td>\n",
       "      <td>Running</td>\n",
       "      <td>1.5</td>\n",
       "      <td>...</td>\n",
       "      <td>34.6</td>\n",
       "      <td>98.7</td>\n",
       "      <td>39355.0</td>\n",
       "      <td>12850.0</td>\n",
       "      <td>119397.0</td>\n",
       "      <td>148191.0</td>\n",
       "      <td>71.6</td>\n",
       "      <td>4.2</td>\n",
       "      <td>23.0</td>\n",
       "      <td>Olympic Running-Youth</td>\n",
       "    </tr>\n",
       "    <tr>\n",
       "      <th>100</th>\n",
       "      <td>149</td>\n",
       "      <td>2022-06-11 20:00:00</td>\n",
       "      <td>16924928935687922810</td>\n",
       "      <td>16884786084583649830</td>\n",
       "      <td>111.0</td>\n",
       "      <td>Olympic Running</td>\n",
       "      <td>Burnt Sienna</td>\n",
       "      <td>Youth</td>\n",
       "      <td>Running</td>\n",
       "      <td>1.5</td>\n",
       "      <td>...</td>\n",
       "      <td>34.6</td>\n",
       "      <td>98.7</td>\n",
       "      <td>39355.0</td>\n",
       "      <td>12850.0</td>\n",
       "      <td>119397.0</td>\n",
       "      <td>148191.0</td>\n",
       "      <td>71.6</td>\n",
       "      <td>4.2</td>\n",
       "      <td>23.0</td>\n",
       "      <td>Olympic Running-Youth</td>\n",
       "    </tr>\n",
       "  </tbody>\n",
       "</table>\n",
       "<p>5 rows × 25 columns</p>\n",
       "</div>"
      ],
      "text/plain": [
       "     Unnamed: 0           timestamp        transaction_id  \\\n",
       "21           58 2022-05-22 14:00:00    701140827973030343   \n",
       "97          146 2022-04-14 04:00:00   2799431335451539068   \n",
       "98          147 2022-04-14 04:00:00   2799431335451539068   \n",
       "99          148 2022-06-11 20:00:00  16924928935687922810   \n",
       "100         149 2022-06-11 20:00:00  16924928935687922810   \n",
       "\n",
       "            hash_customer  sale_amount    product_title  \\\n",
       "21     901098790880827689         71.0  Olympic Running   \n",
       "97   16884786084583649830        224.0  Olympic Running   \n",
       "98   16884786084583649830        224.0  Olympic Running   \n",
       "99   16884786084583649830        111.0  Olympic Running   \n",
       "100  16884786084583649830        111.0  Olympic Running   \n",
       "\n",
       "                    product_color product_gender product_category  \\\n",
       "21                     Han Purple           Kids          Running   \n",
       "97                       Sky Blue          Women          Running   \n",
       "98   Midnight Green (Eagle Green)            Men          Running   \n",
       "99                   Yellow-Green          Youth          Running   \n",
       "100                  Burnt Sienna          Youth          Running   \n",
       "\n",
       "     product_size  ... zip_med_age zip_male_female_ratio  zip_tot_pop  \\\n",
       "21           12.5  ...        47.2                  87.2      30908.0   \n",
       "97           11.0  ...        34.6                  98.7      39355.0   \n",
       "98           12.5  ...        34.6                  98.7      39355.0   \n",
       "99            1.5  ...        34.6                  98.7      39355.0   \n",
       "100           1.5  ...        34.6                  98.7      39355.0   \n",
       "\n",
       "     zip_tot_white_nh  zip_med_hh_income  zip_mean_hh_income  zip_pct_emp_lf  \\\n",
       "21            23172.0           163016.0            268666.0            65.9   \n",
       "97            12850.0           119397.0            148191.0            71.6   \n",
       "98            12850.0           119397.0            148191.0            71.6   \n",
       "99            12850.0           119397.0            148191.0            71.6   \n",
       "100           12850.0           119397.0            148191.0            71.6   \n",
       "\n",
       "     zip_unemp_rate  transaction_num   product_title_gender  \n",
       "21              2.3              3.0   Olympic Running-Kids  \n",
       "97              4.2             22.0  Olympic Running-Women  \n",
       "98              4.2             22.0    Olympic Running-Men  \n",
       "99              4.2             23.0  Olympic Running-Youth  \n",
       "100             4.2             23.0  Olympic Running-Youth  \n",
       "\n",
       "[5 rows x 25 columns]"
      ]
     },
     "execution_count": 360,
     "metadata": {},
     "output_type": "execute_result"
    }
   ],
   "source": [
    "test.head()"
   ]
  },
  {
   "cell_type": "code",
   "execution_count": 364,
   "id": "9d406fd7",
   "metadata": {},
   "outputs": [],
   "source": [
    "# Join the recommended item predictions to the test data set on the transaction date\n",
    "test_eval_df = pd.merge(left=test, \n",
    "                   right=top10_preds_df[['hash_customer', 'timestamp', 'product_title', 'product_gender', 'pred_rank']], \n",
    "                   left_on=['hash_customer', 'timestamp', 'product_title','product_gender'],\n",
    "                   right_on=['hash_customer', 'timestamp', 'product_title', 'product_gender'],\n",
    "                   how='left')"
   ]
  },
  {
   "cell_type": "code",
   "execution_count": 365,
   "id": "4dfc0bc7",
   "metadata": {},
   "outputs": [
    {
     "data": {
      "text/plain": [
       "(5343, 26)"
      ]
     },
     "execution_count": 365,
     "metadata": {},
     "output_type": "execute_result"
    }
   ],
   "source": [
    "test_eval_df.shape"
   ]
  },
  {
   "cell_type": "code",
   "execution_count": 366,
   "id": "6ae808db",
   "metadata": {},
   "outputs": [
    {
     "data": {
      "text/plain": [
       "(5288, 25)"
      ]
     },
     "execution_count": 366,
     "metadata": {},
     "output_type": "execute_result"
    }
   ],
   "source": [
    "test.shape"
   ]
  },
  {
   "cell_type": "code",
   "execution_count": 367,
   "id": "7b0142ad",
   "metadata": {},
   "outputs": [
    {
     "name": "stdout",
     "output_type": "stream",
     "text": [
      "Percent of purchases ranked in top 10: 25.0%\n",
      "Average rank of purchases: 5.78\n",
      "Mean Reciprocal Rank: 0.232\n"
     ]
    }
   ],
   "source": [
    "print_eval_metrics(eval_df=test_eval_df)"
   ]
  },
  {
   "cell_type": "code",
   "execution_count": 370,
   "id": "cb916283",
   "metadata": {},
   "outputs": [
    {
     "name": "stdout",
     "output_type": "stream",
     "text": [
      "Running purchases: 3162\n",
      "Running purchases ranked in top 10: 23.0%\n",
      "Running avg rank of purchases: 5.22\n",
      "Running MRR: 0.273\n",
      "\n",
      "Sandal purchases: 609\n",
      "Sandal purchases ranked in top 10: 32.0%\n",
      "Sandal avg rank of purchases: 6.81\n",
      "Sandal MRR: 0.158\n",
      "\n",
      "Boot purchases: 976\n",
      "Boot purchases ranked in top 10: 18.0%\n",
      "Boot avg rank of purchases: 8.55\n",
      "Boot MRR: 0.118\n",
      "\n",
      "Sneaker purchases: 596\n",
      "Sneaker purchases ranked in top 10: 35.0%\n",
      "Sneaker avg rank of purchases: 4.43\n",
      "Sneaker MRR: 0.254\n",
      "\n"
     ]
    }
   ],
   "source": [
    "print_category_eval_metrics(eval_df=test_eval_df, \n",
    "                            category_var = 'product_category')"
   ]
  },
  {
   "cell_type": "code",
   "execution_count": 371,
   "id": "18a75dda",
   "metadata": {},
   "outputs": [
    {
     "name": "stdout",
     "output_type": "stream",
     "text": [
      "Kids purchases: 241\n",
      "Kids purchases ranked in top 10: 0.0%\n",
      "Kids avg rank of purchases: nan\n",
      "Kids MRR: nan\n",
      "\n",
      "Women purchases: 3281\n",
      "Women purchases ranked in top 10: 31.0%\n",
      "Women avg rank of purchases: 5.76\n",
      "Women MRR: 0.238\n",
      "\n",
      "Men purchases: 1500\n",
      "Men purchases ranked in top 10: 18.0%\n",
      "Men avg rank of purchases: 5.72\n",
      "Men MRR: 0.218\n",
      "\n",
      "Youth purchases: 189\n",
      "Youth purchases ranked in top 10: 6.0%\n",
      "Youth avg rank of purchases: 9.0\n",
      "Youth MRR: 0.114\n",
      "\n",
      "Unisex purchases: 132\n",
      "Unisex purchases ranked in top 10: 19.0%\n",
      "Unisex avg rank of purchases: 5.56\n",
      "Unisex MRR: 0.199\n",
      "\n"
     ]
    }
   ],
   "source": [
    "print_category_eval_metrics(eval_df=test_eval_df, \n",
    "                            category_var = 'product_gender')"
   ]
  },
  {
   "cell_type": "code",
   "execution_count": 328,
   "id": "39831a19",
   "metadata": {},
   "outputs": [
    {
     "data": {
      "text/html": [
       "<div>\n",
       "<style scoped>\n",
       "    .dataframe tbody tr th:only-of-type {\n",
       "        vertical-align: middle;\n",
       "    }\n",
       "\n",
       "    .dataframe tbody tr th {\n",
       "        vertical-align: top;\n",
       "    }\n",
       "\n",
       "    .dataframe thead th {\n",
       "        text-align: right;\n",
       "    }\n",
       "</style>\n",
       "<table border=\"1\" class=\"dataframe\">\n",
       "  <thead>\n",
       "    <tr style=\"text-align: right;\">\n",
       "      <th></th>\n",
       "      <th>product_title</th>\n",
       "      <th>product_gender</th>\n",
       "      <th>product_category</th>\n",
       "      <th>timestamp</th>\n",
       "      <th>hash_customer</th>\n",
       "      <th>referrer_source</th>\n",
       "      <th>product_title_gender</th>\n",
       "      <th>user_trans_cnt</th>\n",
       "      <th>user_avg_prod_cost</th>\n",
       "      <th>titgen_title_cnt</th>\n",
       "      <th>...</th>\n",
       "      <th>cat_sales10</th>\n",
       "      <th>cat_sales30</th>\n",
       "      <th>cat_sales90</th>\n",
       "      <th>cat_sales_all</th>\n",
       "      <th>gen_sales10</th>\n",
       "      <th>gen_sales30</th>\n",
       "      <th>gen_sales90</th>\n",
       "      <th>gen_sales_all</th>\n",
       "      <th>pred</th>\n",
       "      <th>pred_rank</th>\n",
       "    </tr>\n",
       "  </thead>\n",
       "  <tbody>\n",
       "    <tr>\n",
       "      <th>251808</th>\n",
       "      <td>Marathon Running</td>\n",
       "      <td>Men</td>\n",
       "      <td>Running</td>\n",
       "      <td>2022-06-03 04:00:00</td>\n",
       "      <td>6606248094173010</td>\n",
       "      <td>Direct</td>\n",
       "      <td>Iron Running-Men</td>\n",
       "      <td>1.0</td>\n",
       "      <td>198.0</td>\n",
       "      <td>1088.0</td>\n",
       "      <td>...</td>\n",
       "      <td>183</td>\n",
       "      <td>1346</td>\n",
       "      <td>2242</td>\n",
       "      <td>14211</td>\n",
       "      <td>123</td>\n",
       "      <td>907</td>\n",
       "      <td>1379</td>\n",
       "      <td>4859</td>\n",
       "      <td>0.654656</td>\n",
       "      <td>1.0</td>\n",
       "    </tr>\n",
       "    <tr>\n",
       "      <th>515184</th>\n",
       "      <td>Descent Running</td>\n",
       "      <td>Men</td>\n",
       "      <td>Running</td>\n",
       "      <td>2022-06-03 04:00:00</td>\n",
       "      <td>6606248094173010</td>\n",
       "      <td>Direct</td>\n",
       "      <td>Iron Running-Men</td>\n",
       "      <td>1.0</td>\n",
       "      <td>198.0</td>\n",
       "      <td>1088.0</td>\n",
       "      <td>...</td>\n",
       "      <td>183</td>\n",
       "      <td>1346</td>\n",
       "      <td>2242</td>\n",
       "      <td>14211</td>\n",
       "      <td>123</td>\n",
       "      <td>907</td>\n",
       "      <td>1379</td>\n",
       "      <td>4859</td>\n",
       "      <td>0.654656</td>\n",
       "      <td>2.0</td>\n",
       "    </tr>\n",
       "    <tr>\n",
       "      <th>225024</th>\n",
       "      <td>League Running</td>\n",
       "      <td>Men</td>\n",
       "      <td>Running</td>\n",
       "      <td>2022-06-03 04:00:00</td>\n",
       "      <td>6606248094173010</td>\n",
       "      <td>Direct</td>\n",
       "      <td>Iron Running-Men</td>\n",
       "      <td>1.0</td>\n",
       "      <td>198.0</td>\n",
       "      <td>1088.0</td>\n",
       "      <td>...</td>\n",
       "      <td>183</td>\n",
       "      <td>1346</td>\n",
       "      <td>2242</td>\n",
       "      <td>14211</td>\n",
       "      <td>123</td>\n",
       "      <td>907</td>\n",
       "      <td>1379</td>\n",
       "      <td>4859</td>\n",
       "      <td>0.601664</td>\n",
       "      <td>3.0</td>\n",
       "    </tr>\n",
       "    <tr>\n",
       "      <th>202704</th>\n",
       "      <td>Iron Running</td>\n",
       "      <td>Men</td>\n",
       "      <td>Running</td>\n",
       "      <td>2022-06-03 04:00:00</td>\n",
       "      <td>6606248094173010</td>\n",
       "      <td>Direct</td>\n",
       "      <td>Iron Running-Men</td>\n",
       "      <td>1.0</td>\n",
       "      <td>198.0</td>\n",
       "      <td>1088.0</td>\n",
       "      <td>...</td>\n",
       "      <td>183</td>\n",
       "      <td>1346</td>\n",
       "      <td>2242</td>\n",
       "      <td>14211</td>\n",
       "      <td>123</td>\n",
       "      <td>907</td>\n",
       "      <td>1379</td>\n",
       "      <td>4859</td>\n",
       "      <td>0.592496</td>\n",
       "      <td>4.0</td>\n",
       "    </tr>\n",
       "    <tr>\n",
       "      <th>91104</th>\n",
       "      <td>Discrete Sandal</td>\n",
       "      <td>Men</td>\n",
       "      <td>Sandal</td>\n",
       "      <td>2022-06-03 04:00:00</td>\n",
       "      <td>6606248094173010</td>\n",
       "      <td>Direct</td>\n",
       "      <td>Iron Running-Men</td>\n",
       "      <td>1.0</td>\n",
       "      <td>198.0</td>\n",
       "      <td>1088.0</td>\n",
       "      <td>...</td>\n",
       "      <td>42</td>\n",
       "      <td>268</td>\n",
       "      <td>503</td>\n",
       "      <td>2181</td>\n",
       "      <td>123</td>\n",
       "      <td>907</td>\n",
       "      <td>1379</td>\n",
       "      <td>4859</td>\n",
       "      <td>0.574944</td>\n",
       "      <td>5.0</td>\n",
       "    </tr>\n",
       "  </tbody>\n",
       "</table>\n",
       "<p>5 rows × 28 columns</p>\n",
       "</div>"
      ],
      "text/plain": [
       "           product_title product_gender product_category           timestamp  \\\n",
       "251808  Marathon Running            Men          Running 2022-06-03 04:00:00   \n",
       "515184   Descent Running            Men          Running 2022-06-03 04:00:00   \n",
       "225024    League Running            Men          Running 2022-06-03 04:00:00   \n",
       "202704      Iron Running            Men          Running 2022-06-03 04:00:00   \n",
       "91104    Discrete Sandal            Men           Sandal 2022-06-03 04:00:00   \n",
       "\n",
       "           hash_customer referrer_source product_title_gender  user_trans_cnt  \\\n",
       "251808  6606248094173010          Direct     Iron Running-Men             1.0   \n",
       "515184  6606248094173010          Direct     Iron Running-Men             1.0   \n",
       "225024  6606248094173010          Direct     Iron Running-Men             1.0   \n",
       "202704  6606248094173010          Direct     Iron Running-Men             1.0   \n",
       "91104   6606248094173010          Direct     Iron Running-Men             1.0   \n",
       "\n",
       "        user_avg_prod_cost  titgen_title_cnt  ...  cat_sales10  cat_sales30  \\\n",
       "251808               198.0            1088.0  ...          183         1346   \n",
       "515184               198.0            1088.0  ...          183         1346   \n",
       "225024               198.0            1088.0  ...          183         1346   \n",
       "202704               198.0            1088.0  ...          183         1346   \n",
       "91104                198.0            1088.0  ...           42          268   \n",
       "\n",
       "        cat_sales90  cat_sales_all  gen_sales10  gen_sales30  gen_sales90  \\\n",
       "251808         2242          14211          123          907         1379   \n",
       "515184         2242          14211          123          907         1379   \n",
       "225024         2242          14211          123          907         1379   \n",
       "202704         2242          14211          123          907         1379   \n",
       "91104           503           2181          123          907         1379   \n",
       "\n",
       "        gen_sales_all      pred  pred_rank  \n",
       "251808           4859  0.654656        1.0  \n",
       "515184           4859  0.654656        2.0  \n",
       "225024           4859  0.601664        3.0  \n",
       "202704           4859  0.592496        4.0  \n",
       "91104            4859  0.574944        5.0  \n",
       "\n",
       "[5 rows x 28 columns]"
      ]
     },
     "execution_count": 328,
     "metadata": {},
     "output_type": "execute_result"
    }
   ],
   "source": [
    "test_preds_eval_df.head()"
   ]
  },
  {
   "cell_type": "code",
   "execution_count": 298,
   "id": "0a1e8f66",
   "metadata": {},
   "outputs": [
    {
     "data": {
      "text/html": [
       "<div>\n",
       "<style scoped>\n",
       "    .dataframe tbody tr th:only-of-type {\n",
       "        vertical-align: middle;\n",
       "    }\n",
       "\n",
       "    .dataframe tbody tr th {\n",
       "        vertical-align: top;\n",
       "    }\n",
       "\n",
       "    .dataframe thead tr th {\n",
       "        text-align: left;\n",
       "    }\n",
       "\n",
       "    .dataframe thead tr:last-of-type th {\n",
       "        text-align: right;\n",
       "    }\n",
       "</style>\n",
       "<table border=\"1\" class=\"dataframe\">\n",
       "  <thead>\n",
       "    <tr>\n",
       "      <th></th>\n",
       "      <th colspan=\"2\" halign=\"left\">pred</th>\n",
       "    </tr>\n",
       "    <tr>\n",
       "      <th></th>\n",
       "      <th>mean</th>\n",
       "      <th>count</th>\n",
       "    </tr>\n",
       "    <tr>\n",
       "      <th>product_category</th>\n",
       "      <th></th>\n",
       "      <th></th>\n",
       "    </tr>\n",
       "  </thead>\n",
       "  <tbody>\n",
       "    <tr>\n",
       "      <th>Boot</th>\n",
       "      <td>0.241838</td>\n",
       "      <td>2250</td>\n",
       "    </tr>\n",
       "    <tr>\n",
       "      <th>Running</th>\n",
       "      <td>0.277525</td>\n",
       "      <td>1250</td>\n",
       "    </tr>\n",
       "    <tr>\n",
       "      <th>Sandal</th>\n",
       "      <td>0.250733</td>\n",
       "      <td>1750</td>\n",
       "    </tr>\n",
       "    <tr>\n",
       "      <th>Sneaker</th>\n",
       "      <td>0.238470</td>\n",
       "      <td>1000</td>\n",
       "    </tr>\n",
       "  </tbody>\n",
       "</table>\n",
       "</div>"
      ],
      "text/plain": [
       "                      pred      \n",
       "                      mean count\n",
       "product_category                \n",
       "Boot              0.241838  2250\n",
       "Running           0.277525  1250\n",
       "Sandal            0.250733  1750\n",
       "Sneaker           0.238470  1000"
      ]
     },
     "execution_count": 298,
     "metadata": {},
     "output_type": "execute_result"
    }
   ],
   "source": [
    "full_test_eval[full_test_eval['hash_customer']==6606248094173010] \\\n",
    "    .groupby('product_category').agg({\n",
    "        'pred': ['mean', 'count'],\n",
    "    })"
   ]
  },
  {
   "cell_type": "code",
   "execution_count": null,
   "id": "50942c3f",
   "metadata": {},
   "outputs": [],
   "source": []
  },
  {
   "cell_type": "code",
   "execution_count": 300,
   "id": "f232642f",
   "metadata": {},
   "outputs": [
    {
     "data": {
      "text/html": [
       "<div>\n",
       "<style scoped>\n",
       "    .dataframe tbody tr th:only-of-type {\n",
       "        vertical-align: middle;\n",
       "    }\n",
       "\n",
       "    .dataframe tbody tr th {\n",
       "        vertical-align: top;\n",
       "    }\n",
       "\n",
       "    .dataframe thead th {\n",
       "        text-align: right;\n",
       "    }\n",
       "</style>\n",
       "<table border=\"1\" class=\"dataframe\">\n",
       "  <thead>\n",
       "    <tr style=\"text-align: right;\">\n",
       "      <th></th>\n",
       "      <th>product_id</th>\n",
       "      <th>product_title</th>\n",
       "      <th>product_category</th>\n",
       "      <th>sale_amount</th>\n",
       "      <th>product_color</th>\n",
       "      <th>product_gender</th>\n",
       "      <th>timestamp</th>\n",
       "      <th>hash_customer</th>\n",
       "      <th>referrer_source</th>\n",
       "      <th>product_title_gender</th>\n",
       "      <th>...</th>\n",
       "      <th>cat_sales10</th>\n",
       "      <th>cat_sales30</th>\n",
       "      <th>cat_sales90</th>\n",
       "      <th>cat_sales_all</th>\n",
       "      <th>gen_sales10</th>\n",
       "      <th>gen_sales30</th>\n",
       "      <th>gen_sales90</th>\n",
       "      <th>gen_sales_all</th>\n",
       "      <th>pred</th>\n",
       "      <th>pred_rank</th>\n",
       "    </tr>\n",
       "  </thead>\n",
       "  <tbody>\n",
       "    <tr>\n",
       "      <th>6139825</th>\n",
       "      <td>5890</td>\n",
       "      <td>Marathon Running</td>\n",
       "      <td>Running</td>\n",
       "      <td>341</td>\n",
       "      <td>Midnight Green (Eagle Green)</td>\n",
       "      <td>Men</td>\n",
       "      <td>2022-11-02 08:00:00</td>\n",
       "      <td>6606248094173010</td>\n",
       "      <td>Direct</td>\n",
       "      <td>Original Boot-Men</td>\n",
       "      <td>...</td>\n",
       "      <td>183</td>\n",
       "      <td>1346</td>\n",
       "      <td>2242</td>\n",
       "      <td>14211</td>\n",
       "      <td>123</td>\n",
       "      <td>907</td>\n",
       "      <td>1379</td>\n",
       "      <td>4859</td>\n",
       "      <td>0.570411</td>\n",
       "      <td>1.0</td>\n",
       "    </tr>\n",
       "    <tr>\n",
       "      <th>6139824</th>\n",
       "      <td>5890</td>\n",
       "      <td>Marathon Running</td>\n",
       "      <td>Running</td>\n",
       "      <td>341</td>\n",
       "      <td>Midnight Green (Eagle Green)</td>\n",
       "      <td>Men</td>\n",
       "      <td>2022-06-03 04:00:00</td>\n",
       "      <td>6606248094173010</td>\n",
       "      <td>Direct</td>\n",
       "      <td>Iron Running-Men</td>\n",
       "      <td>...</td>\n",
       "      <td>183</td>\n",
       "      <td>1346</td>\n",
       "      <td>2242</td>\n",
       "      <td>14211</td>\n",
       "      <td>123</td>\n",
       "      <td>907</td>\n",
       "      <td>1379</td>\n",
       "      <td>4859</td>\n",
       "      <td>0.654656</td>\n",
       "      <td>1.0</td>\n",
       "    </tr>\n",
       "    <tr>\n",
       "      <th>6162144</th>\n",
       "      <td>5890</td>\n",
       "      <td>Marathon Running</td>\n",
       "      <td>Running</td>\n",
       "      <td>341</td>\n",
       "      <td>Prussian Blue</td>\n",
       "      <td>Men</td>\n",
       "      <td>2022-06-03 04:00:00</td>\n",
       "      <td>6606248094173010</td>\n",
       "      <td>Direct</td>\n",
       "      <td>Iron Running-Men</td>\n",
       "      <td>...</td>\n",
       "      <td>183</td>\n",
       "      <td>1346</td>\n",
       "      <td>2242</td>\n",
       "      <td>14211</td>\n",
       "      <td>123</td>\n",
       "      <td>907</td>\n",
       "      <td>1379</td>\n",
       "      <td>4859</td>\n",
       "      <td>0.654656</td>\n",
       "      <td>2.0</td>\n",
       "    </tr>\n",
       "    <tr>\n",
       "      <th>6162145</th>\n",
       "      <td>5890</td>\n",
       "      <td>Marathon Running</td>\n",
       "      <td>Running</td>\n",
       "      <td>341</td>\n",
       "      <td>Prussian Blue</td>\n",
       "      <td>Men</td>\n",
       "      <td>2022-11-02 08:00:00</td>\n",
       "      <td>6606248094173010</td>\n",
       "      <td>Direct</td>\n",
       "      <td>Original Boot-Men</td>\n",
       "      <td>...</td>\n",
       "      <td>183</td>\n",
       "      <td>1346</td>\n",
       "      <td>2242</td>\n",
       "      <td>14211</td>\n",
       "      <td>123</td>\n",
       "      <td>907</td>\n",
       "      <td>1379</td>\n",
       "      <td>4859</td>\n",
       "      <td>0.570411</td>\n",
       "      <td>2.0</td>\n",
       "    </tr>\n",
       "    <tr>\n",
       "      <th>6184465</th>\n",
       "      <td>5890</td>\n",
       "      <td>Marathon Running</td>\n",
       "      <td>Running</td>\n",
       "      <td>341</td>\n",
       "      <td>Electric Purple</td>\n",
       "      <td>Men</td>\n",
       "      <td>2022-11-02 08:00:00</td>\n",
       "      <td>6606248094173010</td>\n",
       "      <td>Direct</td>\n",
       "      <td>Original Boot-Men</td>\n",
       "      <td>...</td>\n",
       "      <td>183</td>\n",
       "      <td>1346</td>\n",
       "      <td>2242</td>\n",
       "      <td>14211</td>\n",
       "      <td>123</td>\n",
       "      <td>907</td>\n",
       "      <td>1379</td>\n",
       "      <td>4859</td>\n",
       "      <td>0.570411</td>\n",
       "      <td>3.0</td>\n",
       "    </tr>\n",
       "    <tr>\n",
       "      <th>...</th>\n",
       "      <td>...</td>\n",
       "      <td>...</td>\n",
       "      <td>...</td>\n",
       "      <td>...</td>\n",
       "      <td>...</td>\n",
       "      <td>...</td>\n",
       "      <td>...</td>\n",
       "      <td>...</td>\n",
       "      <td>...</td>\n",
       "      <td>...</td>\n",
       "      <td>...</td>\n",
       "      <td>...</td>\n",
       "      <td>...</td>\n",
       "      <td>...</td>\n",
       "      <td>...</td>\n",
       "      <td>...</td>\n",
       "      <td>...</td>\n",
       "      <td>...</td>\n",
       "      <td>...</td>\n",
       "      <td>...</td>\n",
       "      <td>...</td>\n",
       "    </tr>\n",
       "    <tr>\n",
       "      <th>7206720</th>\n",
       "      <td>5978</td>\n",
       "      <td>Olympic Running</td>\n",
       "      <td>Running</td>\n",
       "      <td>214</td>\n",
       "      <td>Sky Blue</td>\n",
       "      <td>Unisex</td>\n",
       "      <td>2022-06-03 04:00:00</td>\n",
       "      <td>6606248094173010</td>\n",
       "      <td>Direct</td>\n",
       "      <td>Iron Running-Men</td>\n",
       "      <td>...</td>\n",
       "      <td>183</td>\n",
       "      <td>1346</td>\n",
       "      <td>2242</td>\n",
       "      <td>14211</td>\n",
       "      <td>2</td>\n",
       "      <td>36</td>\n",
       "      <td>66</td>\n",
       "      <td>132</td>\n",
       "      <td>0.159902</td>\n",
       "      <td>3123.0</td>\n",
       "    </tr>\n",
       "    <tr>\n",
       "      <th>7229040</th>\n",
       "      <td>5978</td>\n",
       "      <td>Olympic Running</td>\n",
       "      <td>Running</td>\n",
       "      <td>214</td>\n",
       "      <td>Yellow-Green</td>\n",
       "      <td>Unisex</td>\n",
       "      <td>2022-06-03 04:00:00</td>\n",
       "      <td>6606248094173010</td>\n",
       "      <td>Direct</td>\n",
       "      <td>Iron Running-Men</td>\n",
       "      <td>...</td>\n",
       "      <td>183</td>\n",
       "      <td>1346</td>\n",
       "      <td>2242</td>\n",
       "      <td>14211</td>\n",
       "      <td>2</td>\n",
       "      <td>36</td>\n",
       "      <td>66</td>\n",
       "      <td>132</td>\n",
       "      <td>0.159902</td>\n",
       "      <td>3124.0</td>\n",
       "    </tr>\n",
       "    <tr>\n",
       "      <th>7229041</th>\n",
       "      <td>5978</td>\n",
       "      <td>Olympic Running</td>\n",
       "      <td>Running</td>\n",
       "      <td>214</td>\n",
       "      <td>Yellow-Green</td>\n",
       "      <td>Unisex</td>\n",
       "      <td>2022-11-02 08:00:00</td>\n",
       "      <td>6606248094173010</td>\n",
       "      <td>Direct</td>\n",
       "      <td>Original Boot-Men</td>\n",
       "      <td>...</td>\n",
       "      <td>183</td>\n",
       "      <td>1346</td>\n",
       "      <td>2242</td>\n",
       "      <td>14211</td>\n",
       "      <td>2</td>\n",
       "      <td>36</td>\n",
       "      <td>66</td>\n",
       "      <td>132</td>\n",
       "      <td>0.117637</td>\n",
       "      <td>3124.0</td>\n",
       "    </tr>\n",
       "    <tr>\n",
       "      <th>7251361</th>\n",
       "      <td>5978</td>\n",
       "      <td>Olympic Running</td>\n",
       "      <td>Running</td>\n",
       "      <td>214</td>\n",
       "      <td>Selective Yellow</td>\n",
       "      <td>Unisex</td>\n",
       "      <td>2022-11-02 08:00:00</td>\n",
       "      <td>6606248094173010</td>\n",
       "      <td>Direct</td>\n",
       "      <td>Original Boot-Men</td>\n",
       "      <td>...</td>\n",
       "      <td>183</td>\n",
       "      <td>1346</td>\n",
       "      <td>2242</td>\n",
       "      <td>14211</td>\n",
       "      <td>2</td>\n",
       "      <td>36</td>\n",
       "      <td>66</td>\n",
       "      <td>132</td>\n",
       "      <td>0.117637</td>\n",
       "      <td>3125.0</td>\n",
       "    </tr>\n",
       "    <tr>\n",
       "      <th>7251360</th>\n",
       "      <td>5978</td>\n",
       "      <td>Olympic Running</td>\n",
       "      <td>Running</td>\n",
       "      <td>214</td>\n",
       "      <td>Selective Yellow</td>\n",
       "      <td>Unisex</td>\n",
       "      <td>2022-06-03 04:00:00</td>\n",
       "      <td>6606248094173010</td>\n",
       "      <td>Direct</td>\n",
       "      <td>Iron Running-Men</td>\n",
       "      <td>...</td>\n",
       "      <td>183</td>\n",
       "      <td>1346</td>\n",
       "      <td>2242</td>\n",
       "      <td>14211</td>\n",
       "      <td>2</td>\n",
       "      <td>36</td>\n",
       "      <td>66</td>\n",
       "      <td>132</td>\n",
       "      <td>0.159902</td>\n",
       "      <td>3125.0</td>\n",
       "    </tr>\n",
       "  </tbody>\n",
       "</table>\n",
       "<p>6250 rows × 31 columns</p>\n",
       "</div>"
      ],
      "text/plain": [
       "         product_id     product_title product_category  sale_amount  \\\n",
       "6139825        5890  Marathon Running          Running          341   \n",
       "6139824        5890  Marathon Running          Running          341   \n",
       "6162144        5890  Marathon Running          Running          341   \n",
       "6162145        5890  Marathon Running          Running          341   \n",
       "6184465        5890  Marathon Running          Running          341   \n",
       "...             ...               ...              ...          ...   \n",
       "7206720        5978   Olympic Running          Running          214   \n",
       "7229040        5978   Olympic Running          Running          214   \n",
       "7229041        5978   Olympic Running          Running          214   \n",
       "7251361        5978   Olympic Running          Running          214   \n",
       "7251360        5978   Olympic Running          Running          214   \n",
       "\n",
       "                        product_color product_gender           timestamp  \\\n",
       "6139825  Midnight Green (Eagle Green)            Men 2022-11-02 08:00:00   \n",
       "6139824  Midnight Green (Eagle Green)            Men 2022-06-03 04:00:00   \n",
       "6162144                 Prussian Blue            Men 2022-06-03 04:00:00   \n",
       "6162145                 Prussian Blue            Men 2022-11-02 08:00:00   \n",
       "6184465               Electric Purple            Men 2022-11-02 08:00:00   \n",
       "...                               ...            ...                 ...   \n",
       "7206720                      Sky Blue         Unisex 2022-06-03 04:00:00   \n",
       "7229040                  Yellow-Green         Unisex 2022-06-03 04:00:00   \n",
       "7229041                  Yellow-Green         Unisex 2022-11-02 08:00:00   \n",
       "7251361              Selective Yellow         Unisex 2022-11-02 08:00:00   \n",
       "7251360              Selective Yellow         Unisex 2022-06-03 04:00:00   \n",
       "\n",
       "            hash_customer referrer_source product_title_gender  ...  \\\n",
       "6139825  6606248094173010          Direct    Original Boot-Men  ...   \n",
       "6139824  6606248094173010          Direct     Iron Running-Men  ...   \n",
       "6162144  6606248094173010          Direct     Iron Running-Men  ...   \n",
       "6162145  6606248094173010          Direct    Original Boot-Men  ...   \n",
       "6184465  6606248094173010          Direct    Original Boot-Men  ...   \n",
       "...                   ...             ...                  ...  ...   \n",
       "7206720  6606248094173010          Direct     Iron Running-Men  ...   \n",
       "7229040  6606248094173010          Direct     Iron Running-Men  ...   \n",
       "7229041  6606248094173010          Direct    Original Boot-Men  ...   \n",
       "7251361  6606248094173010          Direct    Original Boot-Men  ...   \n",
       "7251360  6606248094173010          Direct     Iron Running-Men  ...   \n",
       "\n",
       "         cat_sales10  cat_sales30  cat_sales90  cat_sales_all  gen_sales10  \\\n",
       "6139825          183         1346         2242          14211          123   \n",
       "6139824          183         1346         2242          14211          123   \n",
       "6162144          183         1346         2242          14211          123   \n",
       "6162145          183         1346         2242          14211          123   \n",
       "6184465          183         1346         2242          14211          123   \n",
       "...              ...          ...          ...            ...          ...   \n",
       "7206720          183         1346         2242          14211            2   \n",
       "7229040          183         1346         2242          14211            2   \n",
       "7229041          183         1346         2242          14211            2   \n",
       "7251361          183         1346         2242          14211            2   \n",
       "7251360          183         1346         2242          14211            2   \n",
       "\n",
       "         gen_sales30  gen_sales90  gen_sales_all      pred  pred_rank  \n",
       "6139825          907         1379           4859  0.570411        1.0  \n",
       "6139824          907         1379           4859  0.654656        1.0  \n",
       "6162144          907         1379           4859  0.654656        2.0  \n",
       "6162145          907         1379           4859  0.570411        2.0  \n",
       "6184465          907         1379           4859  0.570411        3.0  \n",
       "...              ...          ...            ...       ...        ...  \n",
       "7206720           36           66            132  0.159902     3123.0  \n",
       "7229040           36           66            132  0.159902     3124.0  \n",
       "7229041           36           66            132  0.117637     3124.0  \n",
       "7251361           36           66            132  0.117637     3125.0  \n",
       "7251360           36           66            132  0.159902     3125.0  \n",
       "\n",
       "[6250 rows x 31 columns]"
      ]
     },
     "execution_count": 300,
     "metadata": {},
     "output_type": "execute_result"
    }
   ],
   "source": [
    "full_test_eval[full_test_eval['hash_customer']==6606248094173010].sort_values('pred_rank', ascending=True)"
   ]
  },
  {
   "cell_type": "code",
   "execution_count": null,
   "id": "3f0c0ef9",
   "metadata": {},
   "outputs": [],
   "source": []
  },
  {
   "cell_type": "code",
   "execution_count": null,
   "id": "d357e1eb",
   "metadata": {},
   "outputs": [],
   "source": []
  },
  {
   "cell_type": "code",
   "execution_count": null,
   "id": "be6d0017",
   "metadata": {},
   "outputs": [],
   "source": [
    "# Loop over test dates, create preds, join preds back to transactions to create eval_df\n",
    "\n",
    "NUM_DATES_TO_LOOP_OVER = 5\n",
    "\n",
    "full_eval_df = pd.DataFrame()\n",
    "\n",
    "for index, test_dt in enumerate(test_dates[0:NUM_DATES_TO_LOOP_OVER]):\n",
    "    print(index, end=',')\n",
    "    \n",
    "    pred_df = get_top10_title_gender_preds(as_of_dt=test_dt)\n",
    "    \n",
    "    # Join the recommended item predictions to the test data set on the transaction date\n",
    "    join_df = pd.merge(left=test[test['timestamp'].dt.date==test_dt], \n",
    "                       right=pred_df[['title_pred', 'gender_pred', 'pred_rank']], \n",
    "                       left_on=['product_title','product_gender'],\n",
    "                       right_on=['title_pred', 'gender_pred'],\n",
    "                       how='left')\n",
    "    \n",
    "    full_eval_df = pd.concat([full_eval_df, join_df])"
   ]
  },
  {
   "cell_type": "code",
   "execution_count": null,
   "id": "2685d895",
   "metadata": {},
   "outputs": [],
   "source": []
  },
  {
   "cell_type": "code",
   "execution_count": null,
   "id": "9cffc427",
   "metadata": {},
   "outputs": [],
   "source": []
  }
 ],
 "metadata": {
  "kernelspec": {
   "display_name": "Python 3",
   "language": "python",
   "name": "python3"
  },
  "language_info": {
   "codemirror_mode": {
    "name": "ipython",
    "version": 3
   },
   "file_extension": ".py",
   "mimetype": "text/x-python",
   "name": "python",
   "nbconvert_exporter": "python",
   "pygments_lexer": "ipython3",
   "version": "3.8.8"
  }
 },
 "nbformat": 4,
 "nbformat_minor": 5
}
