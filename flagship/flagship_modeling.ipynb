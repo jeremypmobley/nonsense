{
 "cells": [
  {
   "cell_type": "markdown",
   "id": "3e6cfc17",
   "metadata": {},
   "source": [
    "# Modeling"
   ]
  },
  {
   "cell_type": "code",
   "execution_count": 1,
   "id": "a381e456",
   "metadata": {},
   "outputs": [],
   "source": [
    "import pandas as pd\n",
    "import numpy as np\n",
    "import random\n",
    "import datetime\n",
    "from datetime import timedelta"
   ]
  },
  {
   "cell_type": "markdown",
   "id": "26b96132",
   "metadata": {},
   "source": [
    "#### Import data"
   ]
  },
  {
   "cell_type": "code",
   "execution_count": 2,
   "id": "564fe453",
   "metadata": {},
   "outputs": [
    {
     "data": {
      "text/plain": [
       "'C:\\\\Users\\\\jerem\\\\Desktop\\\\nonsense\\\\flagship'"
      ]
     },
     "execution_count": 2,
     "metadata": {},
     "output_type": "execute_result"
    }
   ],
   "source": [
    "pwd"
   ]
  },
  {
   "cell_type": "code",
   "execution_count": 3,
   "id": "5e947fa7",
   "metadata": {},
   "outputs": [
    {
     "name": "stdout",
     "output_type": "stream",
     "text": [
      "(3125, 6)\n",
      "(32151, 23)\n"
     ]
    }
   ],
   "source": [
    "toy_dataset_df = pd.read_csv('toy_dataset_1_10_23.csv')\n",
    "toy_products_df = pd.read_csv('toy_products_1_10_23.csv')\n",
    "\n",
    "print(toy_products_df.shape)\n",
    "print(toy_dataset_df.shape)"
   ]
  },
  {
   "cell_type": "markdown",
   "id": "6658009e",
   "metadata": {},
   "source": [
    "#### Clean data"
   ]
  },
  {
   "cell_type": "code",
   "execution_count": 4,
   "id": "a486eee4",
   "metadata": {},
   "outputs": [],
   "source": [
    "toy_dataset_df['timestamp'] = pd.to_datetime(toy_dataset_df['timestamp'])"
   ]
  },
  {
   "cell_type": "code",
   "execution_count": 5,
   "id": "19631a6d",
   "metadata": {},
   "outputs": [],
   "source": [
    "# Filter to only 'Online Store'\n",
    "toy_dataset_df = toy_dataset_df[toy_dataset_df['point_of_sales']=='Online Store']"
   ]
  },
  {
   "cell_type": "code",
   "execution_count": 6,
   "id": "c064d398",
   "metadata": {},
   "outputs": [
    {
     "data": {
      "text/plain": [
       "(29338, 23)"
      ]
     },
     "execution_count": 6,
     "metadata": {},
     "output_type": "execute_result"
    }
   ],
   "source": [
    "toy_dataset_df.shape"
   ]
  },
  {
   "cell_type": "code",
   "execution_count": 7,
   "id": "4d929be8",
   "metadata": {},
   "outputs": [],
   "source": [
    "# Add column for transaction number for each user\n",
    "df_sorted = toy_dataset_df.sort_values('timestamp').groupby(['hash_customer', 'timestamp']).first().reset_index()\n",
    "df_sorted['transaction_num'] = df_sorted.groupby('hash_customer', sort=False)['timestamp'].rank(method='dense')\n",
    "# Merge the transaction number back into the original dataframe\n",
    "toy_dataset_df = toy_dataset_df.merge(df_sorted[['hash_customer', 'timestamp', 'transaction_num']], \n",
    "                                      on=['hash_customer', 'timestamp'])"
   ]
  },
  {
   "cell_type": "markdown",
   "id": "b6236bb3",
   "metadata": {},
   "source": [
    "#### Create train, test data sets based on date split"
   ]
  },
  {
   "cell_type": "code",
   "execution_count": 8,
   "id": "9bbe3270",
   "metadata": {},
   "outputs": [],
   "source": [
    "# create title-gender field\n",
    "toy_dataset_df.loc[:,'product_title_gender'] = toy_dataset_df['product_title'] + '-' + toy_dataset_df['product_gender']"
   ]
  },
  {
   "cell_type": "code",
   "execution_count": 57,
   "id": "de6b8628",
   "metadata": {},
   "outputs": [],
   "source": [
    "# split_date = '2022-04-01' # choose a date to split the data - roughly 80/20 split\n",
    "split_date = '2022-06-01' # choose a date to split the data - roughly 80/20 split\n",
    "train = toy_dataset_df[toy_dataset_df['timestamp'] < split_date]\n",
    "test = toy_dataset_df[toy_dataset_df['timestamp'] >= split_date]"
   ]
  },
  {
   "cell_type": "code",
   "execution_count": 58,
   "id": "8c695d5c",
   "metadata": {},
   "outputs": [
    {
     "name": "stdout",
     "output_type": "stream",
     "text": [
      "169\n",
      "955\n"
     ]
    }
   ],
   "source": [
    "test_dates = test['timestamp'].dt.date.unique().tolist()\n",
    "print(len(test_dates))\n",
    "train_dates = train['timestamp'].dt.date.unique().tolist()\n",
    "print(len(train_dates))"
   ]
  },
  {
   "cell_type": "code",
   "execution_count": 59,
   "id": "a61e4033",
   "metadata": {},
   "outputs": [
    {
     "data": {
      "text/plain": [
       "88.3"
      ]
     },
     "execution_count": 59,
     "metadata": {},
     "output_type": "execute_result"
    }
   ],
   "source": [
    "# percent of data in training data set\n",
    "round(train.shape[0] / toy_dataset_df.shape[0] * 100.0,2)"
   ]
  },
  {
   "cell_type": "code",
   "execution_count": 60,
   "id": "67dbfd59",
   "metadata": {},
   "outputs": [
    {
     "name": "stdout",
     "output_type": "stream",
     "text": [
      "(25906, 25)\n",
      "(3432, 25)\n"
     ]
    }
   ],
   "source": [
    "print(train.shape)\n",
    "print(test.shape)"
   ]
  },
  {
   "cell_type": "markdown",
   "id": "d0520396",
   "metadata": {},
   "source": [
    "### Baseline Model - top 10 titles over previous week"
   ]
  },
  {
   "cell_type": "code",
   "execution_count": 61,
   "id": "454a6ce2",
   "metadata": {},
   "outputs": [],
   "source": [
    "def get_top10_title_preds(as_of_dt, prev_days=7, top_n=10):\n",
    "    \"\"\"\n",
    "    Function to return the top 10 most popular product_titles sold in previous n days from as_of date\n",
    "    Returns a pandas dataframe of 10 records\n",
    "    \"\"\"\n",
    "    given_date = pd.to_datetime(as_of_dt)\n",
    "    start_date = given_date - timedelta(days=prev_days)\n",
    "    last_week_df = toy_dataset_df[(toy_dataset_df['timestamp']<given_date) & (toy_dataset_df['timestamp']>start_date)]\n",
    "    top10_last_wk_df = last_week_df.groupby('product_title').size().reset_index(name='count').sort_values('count', ascending=False).head(top_n)\n",
    "    top10_last_wk_df['transaction_date'] = as_of_dt\n",
    "    top10_last_wk_df['title_rank'] = top10_last_wk_df['count'].rank(method='first', ascending=False)\n",
    "    top10_last_wk_df.columns = ['title_pred', 'prev_wk_cnt', 'transaction_date', 'pred_rank']\n",
    "    return top10_last_wk_df"
   ]
  },
  {
   "cell_type": "code",
   "execution_count": 62,
   "id": "ece04672",
   "metadata": {},
   "outputs": [
    {
     "data": {
      "text/html": [
       "<div>\n",
       "<style scoped>\n",
       "    .dataframe tbody tr th:only-of-type {\n",
       "        vertical-align: middle;\n",
       "    }\n",
       "\n",
       "    .dataframe tbody tr th {\n",
       "        vertical-align: top;\n",
       "    }\n",
       "\n",
       "    .dataframe thead th {\n",
       "        text-align: right;\n",
       "    }\n",
       "</style>\n",
       "<table border=\"1\" class=\"dataframe\">\n",
       "  <thead>\n",
       "    <tr style=\"text-align: right;\">\n",
       "      <th></th>\n",
       "      <th>title_pred</th>\n",
       "      <th>prev_wk_cnt</th>\n",
       "      <th>transaction_date</th>\n",
       "      <th>pred_rank</th>\n",
       "    </tr>\n",
       "  </thead>\n",
       "  <tbody>\n",
       "    <tr>\n",
       "      <th>4</th>\n",
       "      <td>Olympic Running</td>\n",
       "      <td>64</td>\n",
       "      <td>2021-08-13</td>\n",
       "      <td>1.0</td>\n",
       "    </tr>\n",
       "    <tr>\n",
       "      <th>2</th>\n",
       "      <td>Iron Running</td>\n",
       "      <td>31</td>\n",
       "      <td>2021-08-13</td>\n",
       "      <td>2.0</td>\n",
       "    </tr>\n",
       "    <tr>\n",
       "      <th>8</th>\n",
       "      <td>Vanguard Sandal</td>\n",
       "      <td>12</td>\n",
       "      <td>2021-08-13</td>\n",
       "      <td>3.0</td>\n",
       "    </tr>\n",
       "    <tr>\n",
       "      <th>0</th>\n",
       "      <td>Classic Sneaker</td>\n",
       "      <td>9</td>\n",
       "      <td>2021-08-13</td>\n",
       "      <td>4.0</td>\n",
       "    </tr>\n",
       "    <tr>\n",
       "      <th>1</th>\n",
       "      <td>Hustler Boot</td>\n",
       "      <td>9</td>\n",
       "      <td>2021-08-13</td>\n",
       "      <td>5.0</td>\n",
       "    </tr>\n",
       "    <tr>\n",
       "      <th>3</th>\n",
       "      <td>League Running</td>\n",
       "      <td>8</td>\n",
       "      <td>2021-08-13</td>\n",
       "      <td>6.0</td>\n",
       "    </tr>\n",
       "    <tr>\n",
       "      <th>5</th>\n",
       "      <td>Rogue Sneaker</td>\n",
       "      <td>8</td>\n",
       "      <td>2021-08-13</td>\n",
       "      <td>7.0</td>\n",
       "    </tr>\n",
       "    <tr>\n",
       "      <th>6</th>\n",
       "      <td>Scalar Sandal</td>\n",
       "      <td>4</td>\n",
       "      <td>2021-08-13</td>\n",
       "      <td>8.0</td>\n",
       "    </tr>\n",
       "    <tr>\n",
       "      <th>7</th>\n",
       "      <td>Stacked Hiking Boot</td>\n",
       "      <td>2</td>\n",
       "      <td>2021-08-13</td>\n",
       "      <td>9.0</td>\n",
       "    </tr>\n",
       "  </tbody>\n",
       "</table>\n",
       "</div>"
      ],
      "text/plain": [
       "            title_pred  prev_wk_cnt transaction_date  pred_rank\n",
       "4      Olympic Running           64       2021-08-13        1.0\n",
       "2         Iron Running           31       2021-08-13        2.0\n",
       "8      Vanguard Sandal           12       2021-08-13        3.0\n",
       "0      Classic Sneaker            9       2021-08-13        4.0\n",
       "1         Hustler Boot            9       2021-08-13        5.0\n",
       "3       League Running            8       2021-08-13        6.0\n",
       "5        Rogue Sneaker            8       2021-08-13        7.0\n",
       "6        Scalar Sandal            4       2021-08-13        8.0\n",
       "7  Stacked Hiking Boot            2       2021-08-13        9.0"
      ]
     },
     "execution_count": 62,
     "metadata": {},
     "output_type": "execute_result"
    }
   ],
   "source": [
    "get_top10_title_preds(as_of_dt='2021-08-13')"
   ]
  },
  {
   "cell_type": "code",
   "execution_count": 63,
   "id": "7c474843",
   "metadata": {},
   "outputs": [
    {
     "name": "stdout",
     "output_type": "stream",
     "text": [
      "0,1,2,3,4,5,6,7,8,9,10,11,12,13,14,15,16,17,18,19,20,21,22,23,24,25,26,27,28,29,30,31,32,33,34,35,36,37,38,39,40,41,42,43,44,45,46,47,48,49,50,51,52,53,54,55,56,57,58,59,60,61,62,63,64,65,66,67,68,69,70,71,72,73,74,75,76,77,78,79,80,81,82,83,84,85,86,87,88,89,90,91,92,93,94,95,96,97,98,99,100,101,102,103,104,105,106,107,108,109,110,111,112,113,114,115,116,117,118,119,120,121,122,123,124,125,126,127,128,129,130,131,132,133,134,135,136,137,138,139,140,141,142,143,144,145,146,147,148,149,150,151,152,153,154,155,156,157,158,159,160,161,162,163,164,165,166,167,168,"
     ]
    }
   ],
   "source": [
    "# Loop over test dates, create preds, join preds back to transactions to create eval_df\n",
    "\n",
    "full_eval_df = pd.DataFrame()\n",
    "\n",
    "for index, test_dt in enumerate(test_dates):\n",
    "    print(index, end=',')\n",
    "    \n",
    "    pred_df = get_top10_title_preds(as_of_dt=test_dt)\n",
    "    \n",
    "    # Join the recommended item predictions to the test data set on the transaction date\n",
    "    join_df = pd.merge(left=test[test['timestamp'].dt.date==test_dt], \n",
    "                       right=pred_df[['title_pred','pred_rank']], \n",
    "                       left_on='product_title',\n",
    "                       right_on='title_pred',\n",
    "                       how='left')\n",
    "    \n",
    "    full_eval_df = pd.concat([full_eval_df, join_df])"
   ]
  },
  {
   "cell_type": "code",
   "execution_count": 64,
   "id": "e0bdbe5f",
   "metadata": {},
   "outputs": [],
   "source": [
    "assert full_eval_df.shape[0] == test.shape[0]"
   ]
  },
  {
   "cell_type": "code",
   "execution_count": 65,
   "id": "ef52fdae",
   "metadata": {},
   "outputs": [],
   "source": [
    "def print_eval_metrics(eval_df):\n",
    "    pct_purchases_top10 = round(eval_df['pred_rank'].count() / eval_df.shape[0],2) * 100.0\n",
    "    avg_rank = round(eval_df['pred_rank'].mean(),2)\n",
    "    reciprocal_ranks = 1 / eval_df['pred_rank']\n",
    "    mrr = round(np.mean(reciprocal_ranks),3)\n",
    "    print(f'Percent of purchases ranked in top 10: {pct_purchases_top10}%')\n",
    "    print(f'Average rank of purchases: {avg_rank}')\n",
    "    print(f'Mean Reciprocal Rank: {mrr}')"
   ]
  },
  {
   "cell_type": "code",
   "execution_count": 66,
   "id": "9873dec9",
   "metadata": {},
   "outputs": [
    {
     "name": "stdout",
     "output_type": "stream",
     "text": [
      "Percent of purchases ranked in top 10: 94.0%\n",
      "Average rank of purchases: 3.67\n",
      "Mean Reciprocal Rank: 0.491\n"
     ]
    }
   ],
   "source": [
    "print_eval_metrics(eval_df=full_eval_df)"
   ]
  },
  {
   "cell_type": "code",
   "execution_count": null,
   "id": "6cd25f1a",
   "metadata": {},
   "outputs": [],
   "source": []
  },
  {
   "cell_type": "code",
   "execution_count": 67,
   "id": "6f4f338a",
   "metadata": {},
   "outputs": [],
   "source": [
    "def calc_category_eval_metrics(eval_df, category_var):\n",
    "    results = {category_var: [], 'num_purchases': [], \n",
    "               'pct_purchases_top10': [], 'avg_rank': [], 'mrr': []}\n",
    "    categories = eval_df[category_var].unique()\n",
    "    for category in categories:\n",
    "        df_category = eval_df[eval_df[category_var] == category]\n",
    "        num_purchases = df_category.shape[0]\n",
    "        pct_purchases_top10 = round(df_category['pred_rank'].count() / df_category.shape[0],2) * 100.0\n",
    "        avg_rank = round(df_category['pred_rank'].mean(),2)\n",
    "        reciprocal_ranks = 1 / df_category['pred_rank']\n",
    "        mrr = np.mean(reciprocal_ranks)\n",
    "        results[category_var].append(category)\n",
    "        results['num_purchases'].append(num_purchases)\n",
    "        results['pct_purchases_top10'].append(pct_purchases_top10)\n",
    "        results['avg_rank'].append(avg_rank)\n",
    "        results['mrr'].append(mrr)\n",
    "    return pd.DataFrame(results)"
   ]
  },
  {
   "cell_type": "code",
   "execution_count": 68,
   "id": "e1ac862f",
   "metadata": {},
   "outputs": [
    {
     "data": {
      "text/html": [
       "<div>\n",
       "<style scoped>\n",
       "    .dataframe tbody tr th:only-of-type {\n",
       "        vertical-align: middle;\n",
       "    }\n",
       "\n",
       "    .dataframe tbody tr th {\n",
       "        vertical-align: top;\n",
       "    }\n",
       "\n",
       "    .dataframe thead th {\n",
       "        text-align: right;\n",
       "    }\n",
       "</style>\n",
       "<table border=\"1\" class=\"dataframe\">\n",
       "  <thead>\n",
       "    <tr style=\"text-align: right;\">\n",
       "      <th></th>\n",
       "      <th>product_category</th>\n",
       "      <th>num_purchases</th>\n",
       "      <th>pct_purchases_top10</th>\n",
       "      <th>avg_rank</th>\n",
       "      <th>mrr</th>\n",
       "    </tr>\n",
       "  </thead>\n",
       "  <tbody>\n",
       "    <tr>\n",
       "      <th>0</th>\n",
       "      <td>Running</td>\n",
       "      <td>2055</td>\n",
       "      <td>100.0</td>\n",
       "      <td>2.45</td>\n",
       "      <td>0.643800</td>\n",
       "    </tr>\n",
       "    <tr>\n",
       "      <th>1</th>\n",
       "      <td>Sandal</td>\n",
       "      <td>383</td>\n",
       "      <td>79.0</td>\n",
       "      <td>6.57</td>\n",
       "      <td>0.178646</td>\n",
       "    </tr>\n",
       "    <tr>\n",
       "      <th>2</th>\n",
       "      <td>Sneaker</td>\n",
       "      <td>351</td>\n",
       "      <td>89.0</td>\n",
       "      <td>6.88</td>\n",
       "      <td>0.167670</td>\n",
       "    </tr>\n",
       "    <tr>\n",
       "      <th>3</th>\n",
       "      <td>Boot</td>\n",
       "      <td>643</td>\n",
       "      <td>87.0</td>\n",
       "      <td>4.80</td>\n",
       "      <td>0.277778</td>\n",
       "    </tr>\n",
       "  </tbody>\n",
       "</table>\n",
       "</div>"
      ],
      "text/plain": [
       "  product_category  num_purchases  pct_purchases_top10  avg_rank       mrr\n",
       "0          Running           2055                100.0      2.45  0.643800\n",
       "1           Sandal            383                 79.0      6.57  0.178646\n",
       "2          Sneaker            351                 89.0      6.88  0.167670\n",
       "3             Boot            643                 87.0      4.80  0.277778"
      ]
     },
     "execution_count": 68,
     "metadata": {},
     "output_type": "execute_result"
    }
   ],
   "source": [
    "calc_category_eval_metrics(eval_df=full_eval_df, category_var= 'product_category')"
   ]
  },
  {
   "cell_type": "code",
   "execution_count": 69,
   "id": "39ecb0f7",
   "metadata": {},
   "outputs": [
    {
     "data": {
      "text/html": [
       "<div>\n",
       "<style scoped>\n",
       "    .dataframe tbody tr th:only-of-type {\n",
       "        vertical-align: middle;\n",
       "    }\n",
       "\n",
       "    .dataframe tbody tr th {\n",
       "        vertical-align: top;\n",
       "    }\n",
       "\n",
       "    .dataframe thead th {\n",
       "        text-align: right;\n",
       "    }\n",
       "</style>\n",
       "<table border=\"1\" class=\"dataframe\">\n",
       "  <thead>\n",
       "    <tr style=\"text-align: right;\">\n",
       "      <th></th>\n",
       "      <th>product_gender</th>\n",
       "      <th>num_purchases</th>\n",
       "      <th>pct_purchases_top10</th>\n",
       "      <th>avg_rank</th>\n",
       "      <th>mrr</th>\n",
       "    </tr>\n",
       "  </thead>\n",
       "  <tbody>\n",
       "    <tr>\n",
       "      <th>0</th>\n",
       "      <td>Youth</td>\n",
       "      <td>147</td>\n",
       "      <td>100.0</td>\n",
       "      <td>1.02</td>\n",
       "      <td>0.989796</td>\n",
       "    </tr>\n",
       "    <tr>\n",
       "      <th>1</th>\n",
       "      <td>Men</td>\n",
       "      <td>975</td>\n",
       "      <td>95.0</td>\n",
       "      <td>4.30</td>\n",
       "      <td>0.372556</td>\n",
       "    </tr>\n",
       "    <tr>\n",
       "      <th>2</th>\n",
       "      <td>Women</td>\n",
       "      <td>2039</td>\n",
       "      <td>96.0</td>\n",
       "      <td>3.76</td>\n",
       "      <td>0.474152</td>\n",
       "    </tr>\n",
       "    <tr>\n",
       "      <th>3</th>\n",
       "      <td>Kids</td>\n",
       "      <td>154</td>\n",
       "      <td>100.0</td>\n",
       "      <td>1.03</td>\n",
       "      <td>0.987013</td>\n",
       "    </tr>\n",
       "    <tr>\n",
       "      <th>4</th>\n",
       "      <td>Unisex</td>\n",
       "      <td>117</td>\n",
       "      <td>43.0</td>\n",
       "      <td>4.56</td>\n",
       "      <td>0.334238</td>\n",
       "    </tr>\n",
       "  </tbody>\n",
       "</table>\n",
       "</div>"
      ],
      "text/plain": [
       "  product_gender  num_purchases  pct_purchases_top10  avg_rank       mrr\n",
       "0          Youth            147                100.0      1.02  0.989796\n",
       "1            Men            975                 95.0      4.30  0.372556\n",
       "2          Women           2039                 96.0      3.76  0.474152\n",
       "3           Kids            154                100.0      1.03  0.987013\n",
       "4         Unisex            117                 43.0      4.56  0.334238"
      ]
     },
     "execution_count": 69,
     "metadata": {},
     "output_type": "execute_result"
    }
   ],
   "source": [
    "calc_category_eval_metrics(eval_df=full_eval_df, category_var= 'product_gender')"
   ]
  },
  {
   "cell_type": "code",
   "execution_count": 70,
   "id": "ab3b8cf2",
   "metadata": {},
   "outputs": [],
   "source": [
    "full_eval_df.loc[:,'trans_num_grp'] = np.where(full_eval_df['transaction_num']==1,'first_purch', \n",
    "                                               np.where(full_eval_df['transaction_num']==2,'second_purch', \n",
    "                                                        'after_second_purch'))"
   ]
  },
  {
   "cell_type": "code",
   "execution_count": 71,
   "id": "d7d26128",
   "metadata": {},
   "outputs": [
    {
     "data": {
      "text/html": [
       "<div>\n",
       "<style scoped>\n",
       "    .dataframe tbody tr th:only-of-type {\n",
       "        vertical-align: middle;\n",
       "    }\n",
       "\n",
       "    .dataframe tbody tr th {\n",
       "        vertical-align: top;\n",
       "    }\n",
       "\n",
       "    .dataframe thead th {\n",
       "        text-align: right;\n",
       "    }\n",
       "</style>\n",
       "<table border=\"1\" class=\"dataframe\">\n",
       "  <thead>\n",
       "    <tr style=\"text-align: right;\">\n",
       "      <th></th>\n",
       "      <th>trans_num_grp</th>\n",
       "      <th>num_purchases</th>\n",
       "      <th>pct_purchases_top10</th>\n",
       "      <th>avg_rank</th>\n",
       "      <th>mrr</th>\n",
       "    </tr>\n",
       "  </thead>\n",
       "  <tbody>\n",
       "    <tr>\n",
       "      <th>0</th>\n",
       "      <td>after_second_purch</td>\n",
       "      <td>1915</td>\n",
       "      <td>94.0</td>\n",
       "      <td>3.37</td>\n",
       "      <td>0.533517</td>\n",
       "    </tr>\n",
       "    <tr>\n",
       "      <th>1</th>\n",
       "      <td>second_purch</td>\n",
       "      <td>952</td>\n",
       "      <td>94.0</td>\n",
       "      <td>3.97</td>\n",
       "      <td>0.452436</td>\n",
       "    </tr>\n",
       "    <tr>\n",
       "      <th>2</th>\n",
       "      <td>first_purch</td>\n",
       "      <td>565</td>\n",
       "      <td>95.0</td>\n",
       "      <td>4.19</td>\n",
       "      <td>0.411288</td>\n",
       "    </tr>\n",
       "  </tbody>\n",
       "</table>\n",
       "</div>"
      ],
      "text/plain": [
       "        trans_num_grp  num_purchases  pct_purchases_top10  avg_rank       mrr\n",
       "0  after_second_purch           1915                 94.0      3.37  0.533517\n",
       "1        second_purch            952                 94.0      3.97  0.452436\n",
       "2         first_purch            565                 95.0      4.19  0.411288"
      ]
     },
     "execution_count": 71,
     "metadata": {},
     "output_type": "execute_result"
    }
   ],
   "source": [
    "calc_category_eval_metrics(eval_df=full_eval_df, category_var= 'trans_num_grp')"
   ]
  },
  {
   "cell_type": "code",
   "execution_count": null,
   "id": "a62f307d",
   "metadata": {},
   "outputs": [],
   "source": []
  },
  {
   "cell_type": "markdown",
   "id": "e1b9ae94",
   "metadata": {},
   "source": [
    "### Baseline model - top 10 title-gender products over previous week"
   ]
  },
  {
   "cell_type": "code",
   "execution_count": 72,
   "id": "580974de",
   "metadata": {},
   "outputs": [],
   "source": [
    "def get_top10_title_gender_preds(as_of_dt, prev_days=7, top_n=10):\n",
    "    \"\"\"\n",
    "    Function to return the top 10 most popular title-gender products sold in previous n days from as_of date\n",
    "    Returns a pandas dataframe of 10 records\n",
    "    \"\"\"\n",
    "    given_date = pd.to_datetime(as_of_dt)\n",
    "    start_date = given_date - timedelta(days=prev_days)\n",
    "    last_week_df = toy_dataset_df[(toy_dataset_df['timestamp']<given_date) & \n",
    "                                  (toy_dataset_df['timestamp']>start_date)]\n",
    "    top10_last_wk_df = last_week_df.groupby(['product_title', 'product_gender']).size().reset_index(name='count').sort_values('count', ascending=False).head(top_n)\n",
    "    top10_last_wk_df['title_rank'] = top10_last_wk_df['count'].rank(method='first', ascending=False)\n",
    "    top10_last_wk_df.columns = ['title_pred', 'gender_pred', 'prev_wk_cnt', 'pred_rank']\n",
    "    top10_last_wk_df['transaction_date'] = as_of_dt\n",
    "    return top10_last_wk_df"
   ]
  },
  {
   "cell_type": "code",
   "execution_count": 73,
   "id": "232a7a35",
   "metadata": {},
   "outputs": [
    {
     "data": {
      "text/html": [
       "<div>\n",
       "<style scoped>\n",
       "    .dataframe tbody tr th:only-of-type {\n",
       "        vertical-align: middle;\n",
       "    }\n",
       "\n",
       "    .dataframe tbody tr th {\n",
       "        vertical-align: top;\n",
       "    }\n",
       "\n",
       "    .dataframe thead th {\n",
       "        text-align: right;\n",
       "    }\n",
       "</style>\n",
       "<table border=\"1\" class=\"dataframe\">\n",
       "  <thead>\n",
       "    <tr style=\"text-align: right;\">\n",
       "      <th></th>\n",
       "      <th>title_pred</th>\n",
       "      <th>gender_pred</th>\n",
       "      <th>prev_wk_cnt</th>\n",
       "      <th>pred_rank</th>\n",
       "      <th>transaction_date</th>\n",
       "    </tr>\n",
       "  </thead>\n",
       "  <tbody>\n",
       "    <tr>\n",
       "      <th>13</th>\n",
       "      <td>Olympic Running</td>\n",
       "      <td>Women</td>\n",
       "      <td>26</td>\n",
       "      <td>1.0</td>\n",
       "      <td>2022-08-13</td>\n",
       "    </tr>\n",
       "    <tr>\n",
       "      <th>8</th>\n",
       "      <td>League Running</td>\n",
       "      <td>Women</td>\n",
       "      <td>16</td>\n",
       "      <td>2.0</td>\n",
       "      <td>2022-08-13</td>\n",
       "    </tr>\n",
       "    <tr>\n",
       "      <th>0</th>\n",
       "      <td>Bejeweled Boot</td>\n",
       "      <td>Unisex</td>\n",
       "      <td>15</td>\n",
       "      <td>3.0</td>\n",
       "      <td>2022-08-13</td>\n",
       "    </tr>\n",
       "    <tr>\n",
       "      <th>6</th>\n",
       "      <td>Iron Running</td>\n",
       "      <td>Women</td>\n",
       "      <td>15</td>\n",
       "      <td>4.0</td>\n",
       "      <td>2022-08-13</td>\n",
       "    </tr>\n",
       "    <tr>\n",
       "      <th>4</th>\n",
       "      <td>Hustler Boot</td>\n",
       "      <td>Women</td>\n",
       "      <td>12</td>\n",
       "      <td>5.0</td>\n",
       "      <td>2022-08-13</td>\n",
       "    </tr>\n",
       "    <tr>\n",
       "      <th>14</th>\n",
       "      <td>Olympic Running</td>\n",
       "      <td>Youth</td>\n",
       "      <td>8</td>\n",
       "      <td>6.0</td>\n",
       "      <td>2022-08-13</td>\n",
       "    </tr>\n",
       "    <tr>\n",
       "      <th>10</th>\n",
       "      <td>Marathon Running</td>\n",
       "      <td>Women</td>\n",
       "      <td>8</td>\n",
       "      <td>7.0</td>\n",
       "      <td>2022-08-13</td>\n",
       "    </tr>\n",
       "    <tr>\n",
       "      <th>21</th>\n",
       "      <td>Stacked Hiking Boot</td>\n",
       "      <td>Women</td>\n",
       "      <td>7</td>\n",
       "      <td>8.0</td>\n",
       "      <td>2022-08-13</td>\n",
       "    </tr>\n",
       "    <tr>\n",
       "      <th>17</th>\n",
       "      <td>Rogue Sneaker</td>\n",
       "      <td>Women</td>\n",
       "      <td>7</td>\n",
       "      <td>9.0</td>\n",
       "      <td>2022-08-13</td>\n",
       "    </tr>\n",
       "    <tr>\n",
       "      <th>5</th>\n",
       "      <td>Iron Running</td>\n",
       "      <td>Men</td>\n",
       "      <td>7</td>\n",
       "      <td>10.0</td>\n",
       "      <td>2022-08-13</td>\n",
       "    </tr>\n",
       "  </tbody>\n",
       "</table>\n",
       "</div>"
      ],
      "text/plain": [
       "             title_pred gender_pred  prev_wk_cnt  pred_rank transaction_date\n",
       "13      Olympic Running       Women           26        1.0       2022-08-13\n",
       "8        League Running       Women           16        2.0       2022-08-13\n",
       "0        Bejeweled Boot      Unisex           15        3.0       2022-08-13\n",
       "6          Iron Running       Women           15        4.0       2022-08-13\n",
       "4          Hustler Boot       Women           12        5.0       2022-08-13\n",
       "14      Olympic Running       Youth            8        6.0       2022-08-13\n",
       "10     Marathon Running       Women            8        7.0       2022-08-13\n",
       "21  Stacked Hiking Boot       Women            7        8.0       2022-08-13\n",
       "17        Rogue Sneaker       Women            7        9.0       2022-08-13\n",
       "5          Iron Running         Men            7       10.0       2022-08-13"
      ]
     },
     "execution_count": 73,
     "metadata": {},
     "output_type": "execute_result"
    }
   ],
   "source": [
    "get_top10_title_gender_preds(as_of_dt = '2022-08-13', prev_days=7, top_n=10)"
   ]
  },
  {
   "cell_type": "code",
   "execution_count": 74,
   "id": "fcc391d4",
   "metadata": {},
   "outputs": [
    {
     "name": "stdout",
     "output_type": "stream",
     "text": [
      "0,1,2,3,4,5,6,7,8,9,10,11,12,13,14,15,16,17,18,19,20,21,22,23,24,25,26,27,28,29,30,31,32,33,34,35,36,37,38,39,40,41,42,43,44,45,46,47,48,49,50,51,52,53,54,55,56,57,58,59,60,61,62,63,64,65,66,67,68,69,70,71,72,73,74,75,76,77,78,79,80,81,82,83,84,85,86,87,88,89,90,91,92,93,94,95,96,97,98,99,100,101,102,103,104,105,106,107,108,109,110,111,112,113,114,115,116,117,118,119,120,121,122,123,124,125,126,127,128,129,130,131,132,133,134,135,136,137,138,139,140,141,142,143,144,145,146,147,148,149,150,151,152,153,154,155,156,157,158,159,160,161,162,163,164,165,166,167,168,"
     ]
    }
   ],
   "source": [
    "# Loop over test dates, create preds, join preds back to transactions to create eval_df\n",
    "\n",
    "full_eval_df = pd.DataFrame()\n",
    "\n",
    "for index, test_dt in enumerate(test_dates):\n",
    "    print(index, end=',')\n",
    "    \n",
    "    pred_df = get_top10_title_gender_preds(as_of_dt=test_dt)\n",
    "    \n",
    "    # Join the recommended item predictions to the test data set on the transaction date\n",
    "    join_df = pd.merge(left=test[test['timestamp'].dt.date==test_dt], \n",
    "                       right=pred_df[['title_pred', 'gender_pred', 'pred_rank']], \n",
    "                       left_on=['product_title','product_gender'],\n",
    "                       right_on=['title_pred', 'gender_pred'],\n",
    "                       how='left')\n",
    "    \n",
    "    full_eval_df = pd.concat([full_eval_df, join_df])"
   ]
  },
  {
   "cell_type": "code",
   "execution_count": 75,
   "id": "44a1ba86",
   "metadata": {},
   "outputs": [],
   "source": [
    "assert full_eval_df.shape[0] == test.shape[0]"
   ]
  },
  {
   "cell_type": "code",
   "execution_count": 76,
   "id": "1e8056e4",
   "metadata": {},
   "outputs": [
    {
     "name": "stdout",
     "output_type": "stream",
     "text": [
      "Percent of purchases ranked in top 10: 62.0%\n",
      "Average rank of purchases: 4.25\n",
      "Mean Reciprocal Rank: 0.438\n"
     ]
    }
   ],
   "source": [
    "print_eval_metrics(eval_df=full_eval_df)"
   ]
  },
  {
   "cell_type": "code",
   "execution_count": 77,
   "id": "4a377ab7",
   "metadata": {},
   "outputs": [
    {
     "data": {
      "text/plain": [
       "<AxesSubplot:>"
      ]
     },
     "execution_count": 77,
     "metadata": {},
     "output_type": "execute_result"
    },
    {
     "data": {
      "image/png": "[encoded data removed]",
      "text/plain": [
       "<Figure size 432x288 with 1 Axes>"
      ]
     },
     "metadata": {
      "needs_background": "light"
     },
     "output_type": "display_data"
    }
   ],
   "source": [
    "full_eval_df['pred_rank'].hist()"
   ]
  },
  {
   "cell_type": "code",
   "execution_count": 78,
   "id": "99cc030f",
   "metadata": {},
   "outputs": [
    {
     "data": {
      "text/html": [
       "<div>\n",
       "<style scoped>\n",
       "    .dataframe tbody tr th:only-of-type {\n",
       "        vertical-align: middle;\n",
       "    }\n",
       "\n",
       "    .dataframe tbody tr th {\n",
       "        vertical-align: top;\n",
       "    }\n",
       "\n",
       "    .dataframe thead th {\n",
       "        text-align: right;\n",
       "    }\n",
       "</style>\n",
       "<table border=\"1\" class=\"dataframe\">\n",
       "  <thead>\n",
       "    <tr style=\"text-align: right;\">\n",
       "      <th></th>\n",
       "      <th>product_category</th>\n",
       "      <th>num_purchases</th>\n",
       "      <th>pct_purchases_top10</th>\n",
       "      <th>avg_rank</th>\n",
       "      <th>mrr</th>\n",
       "    </tr>\n",
       "  </thead>\n",
       "  <tbody>\n",
       "    <tr>\n",
       "      <th>0</th>\n",
       "      <td>Running</td>\n",
       "      <td>2055</td>\n",
       "      <td>77.0</td>\n",
       "      <td>3.95</td>\n",
       "      <td>0.481304</td>\n",
       "    </tr>\n",
       "    <tr>\n",
       "      <th>1</th>\n",
       "      <td>Sandal</td>\n",
       "      <td>383</td>\n",
       "      <td>25.0</td>\n",
       "      <td>6.63</td>\n",
       "      <td>0.178434</td>\n",
       "    </tr>\n",
       "    <tr>\n",
       "      <th>2</th>\n",
       "      <td>Sneaker</td>\n",
       "      <td>351</td>\n",
       "      <td>26.0</td>\n",
       "      <td>7.30</td>\n",
       "      <td>0.177967</td>\n",
       "    </tr>\n",
       "    <tr>\n",
       "      <th>3</th>\n",
       "      <td>Boot</td>\n",
       "      <td>643</td>\n",
       "      <td>57.0</td>\n",
       "      <td>4.20</td>\n",
       "      <td>0.379647</td>\n",
       "    </tr>\n",
       "  </tbody>\n",
       "</table>\n",
       "</div>"
      ],
      "text/plain": [
       "  product_category  num_purchases  pct_purchases_top10  avg_rank       mrr\n",
       "0          Running           2055                 77.0      3.95  0.481304\n",
       "1           Sandal            383                 25.0      6.63  0.178434\n",
       "2          Sneaker            351                 26.0      7.30  0.177967\n",
       "3             Boot            643                 57.0      4.20  0.379647"
      ]
     },
     "execution_count": 78,
     "metadata": {},
     "output_type": "execute_result"
    }
   ],
   "source": [
    "calc_category_eval_metrics(eval_df=full_eval_df, \n",
    "                            category_var = 'product_category')"
   ]
  },
  {
   "cell_type": "code",
   "execution_count": 79,
   "id": "a4f3b76f",
   "metadata": {},
   "outputs": [
    {
     "data": {
      "text/html": [
       "<div>\n",
       "<style scoped>\n",
       "    .dataframe tbody tr th:only-of-type {\n",
       "        vertical-align: middle;\n",
       "    }\n",
       "\n",
       "    .dataframe tbody tr th {\n",
       "        vertical-align: top;\n",
       "    }\n",
       "\n",
       "    .dataframe thead th {\n",
       "        text-align: right;\n",
       "    }\n",
       "</style>\n",
       "<table border=\"1\" class=\"dataframe\">\n",
       "  <thead>\n",
       "    <tr style=\"text-align: right;\">\n",
       "      <th></th>\n",
       "      <th>product_gender</th>\n",
       "      <th>num_purchases</th>\n",
       "      <th>pct_purchases_top10</th>\n",
       "      <th>avg_rank</th>\n",
       "      <th>mrr</th>\n",
       "    </tr>\n",
       "  </thead>\n",
       "  <tbody>\n",
       "    <tr>\n",
       "      <th>0</th>\n",
       "      <td>Youth</td>\n",
       "      <td>147</td>\n",
       "      <td>54.0</td>\n",
       "      <td>6.54</td>\n",
       "      <td>0.183569</td>\n",
       "    </tr>\n",
       "    <tr>\n",
       "      <th>1</th>\n",
       "      <td>Men</td>\n",
       "      <td>975</td>\n",
       "      <td>41.0</td>\n",
       "      <td>6.26</td>\n",
       "      <td>0.222043</td>\n",
       "    </tr>\n",
       "    <tr>\n",
       "      <th>2</th>\n",
       "      <td>Women</td>\n",
       "      <td>2039</td>\n",
       "      <td>75.0</td>\n",
       "      <td>3.57</td>\n",
       "      <td>0.511266</td>\n",
       "    </tr>\n",
       "    <tr>\n",
       "      <th>3</th>\n",
       "      <td>Kids</td>\n",
       "      <td>154</td>\n",
       "      <td>58.0</td>\n",
       "      <td>5.76</td>\n",
       "      <td>0.233818</td>\n",
       "    </tr>\n",
       "    <tr>\n",
       "      <th>4</th>\n",
       "      <td>Unisex</td>\n",
       "      <td>117</td>\n",
       "      <td>32.0</td>\n",
       "      <td>2.21</td>\n",
       "      <td>0.760808</td>\n",
       "    </tr>\n",
       "  </tbody>\n",
       "</table>\n",
       "</div>"
      ],
      "text/plain": [
       "  product_gender  num_purchases  pct_purchases_top10  avg_rank       mrr\n",
       "0          Youth            147                 54.0      6.54  0.183569\n",
       "1            Men            975                 41.0      6.26  0.222043\n",
       "2          Women           2039                 75.0      3.57  0.511266\n",
       "3           Kids            154                 58.0      5.76  0.233818\n",
       "4         Unisex            117                 32.0      2.21  0.760808"
      ]
     },
     "execution_count": 79,
     "metadata": {},
     "output_type": "execute_result"
    }
   ],
   "source": [
    "calc_category_eval_metrics(eval_df=full_eval_df, \n",
    "                            category_var = 'product_gender')"
   ]
  },
  {
   "cell_type": "code",
   "execution_count": 80,
   "id": "6400636a",
   "metadata": {},
   "outputs": [],
   "source": [
    "full_eval_df.loc[:,'trans_num_grp'] = np.where(full_eval_df['transaction_num']==1,'first_purch', \n",
    "                                               np.where(full_eval_df['transaction_num']==2,'second_purch', \n",
    "                                                        'after_second_purch'))"
   ]
  },
  {
   "cell_type": "code",
   "execution_count": 81,
   "id": "24050879",
   "metadata": {},
   "outputs": [
    {
     "data": {
      "text/html": [
       "<div>\n",
       "<style scoped>\n",
       "    .dataframe tbody tr th:only-of-type {\n",
       "        vertical-align: middle;\n",
       "    }\n",
       "\n",
       "    .dataframe tbody tr th {\n",
       "        vertical-align: top;\n",
       "    }\n",
       "\n",
       "    .dataframe thead th {\n",
       "        text-align: right;\n",
       "    }\n",
       "</style>\n",
       "<table border=\"1\" class=\"dataframe\">\n",
       "  <thead>\n",
       "    <tr style=\"text-align: right;\">\n",
       "      <th></th>\n",
       "      <th>trans_num_grp</th>\n",
       "      <th>num_purchases</th>\n",
       "      <th>pct_purchases_top10</th>\n",
       "      <th>avg_rank</th>\n",
       "      <th>mrr</th>\n",
       "    </tr>\n",
       "  </thead>\n",
       "  <tbody>\n",
       "    <tr>\n",
       "      <th>0</th>\n",
       "      <td>after_second_purch</td>\n",
       "      <td>1915</td>\n",
       "      <td>64.0</td>\n",
       "      <td>4.10</td>\n",
       "      <td>0.450185</td>\n",
       "    </tr>\n",
       "    <tr>\n",
       "      <th>1</th>\n",
       "      <td>second_purch</td>\n",
       "      <td>952</td>\n",
       "      <td>60.0</td>\n",
       "      <td>4.33</td>\n",
       "      <td>0.432453</td>\n",
       "    </tr>\n",
       "    <tr>\n",
       "      <th>2</th>\n",
       "      <td>first_purch</td>\n",
       "      <td>565</td>\n",
       "      <td>60.0</td>\n",
       "      <td>4.70</td>\n",
       "      <td>0.400115</td>\n",
       "    </tr>\n",
       "  </tbody>\n",
       "</table>\n",
       "</div>"
      ],
      "text/plain": [
       "        trans_num_grp  num_purchases  pct_purchases_top10  avg_rank       mrr\n",
       "0  after_second_purch           1915                 64.0      4.10  0.450185\n",
       "1        second_purch            952                 60.0      4.33  0.432453\n",
       "2         first_purch            565                 60.0      4.70  0.400115"
      ]
     },
     "execution_count": 81,
     "metadata": {},
     "output_type": "execute_result"
    }
   ],
   "source": [
    "calc_category_eval_metrics(eval_df=full_eval_df, category_var= 'trans_num_grp')"
   ]
  },
  {
   "cell_type": "code",
   "execution_count": null,
   "id": "5c755d0e",
   "metadata": {},
   "outputs": [],
   "source": []
  },
  {
   "cell_type": "code",
   "execution_count": null,
   "id": "9938a5ce",
   "metadata": {},
   "outputs": [],
   "source": []
  },
  {
   "cell_type": "markdown",
   "id": "6b34b2de",
   "metadata": {},
   "source": [
    "### Collaborative Filtering"
   ]
  },
  {
   "cell_type": "code",
   "execution_count": null,
   "id": "4b6fd0bb",
   "metadata": {},
   "outputs": [],
   "source": [
    "from surprise import Dataset\n",
    "from surprise import Reader\n",
    "from surprise import KNNBasic\n",
    "from surprise.model_selection import train_test_split"
   ]
  },
  {
   "cell_type": "code",
   "execution_count": null,
   "id": "3d0da146",
   "metadata": {},
   "outputs": [],
   "source": [
    "# Define the Reader object\n",
    "reader = Reader(rating_scale=(0, 1))"
   ]
  },
  {
   "cell_type": "code",
   "execution_count": null,
   "id": "05d81dcc",
   "metadata": {},
   "outputs": [],
   "source": [
    "cf_train_data_set = train.groupby(['hash_customer', 'product_title_gender']).size().reset_index(name='count')"
   ]
  },
  {
   "cell_type": "code",
   "execution_count": null,
   "id": "19481c97",
   "metadata": {},
   "outputs": [],
   "source": [
    "cf_train_data_set.head()"
   ]
  },
  {
   "cell_type": "code",
   "execution_count": null,
   "id": "f149128b",
   "metadata": {},
   "outputs": [],
   "source": [
    "# Load the data into the Surprise dataset format\n",
    "data = Dataset.load_from_df(cf_train_data_set, reader)"
   ]
  },
  {
   "cell_type": "code",
   "execution_count": null,
   "id": "6d30c513",
   "metadata": {},
   "outputs": [],
   "source": [
    "# Split the data into training and test sets\n",
    "trainset, testset = train_test_split(data, test_size=0.2)"
   ]
  },
  {
   "cell_type": "code",
   "execution_count": null,
   "id": "f551198a",
   "metadata": {},
   "outputs": [],
   "source": [
    "# Define the algorithm\n",
    "sim_options = {\"name\": \"cosine\", \"user_based\": False}\n",
    "algo = KNNBasic(sim_options=sim_options)"
   ]
  },
  {
   "cell_type": "code",
   "execution_count": null,
   "id": "7b84f526",
   "metadata": {},
   "outputs": [],
   "source": [
    "# Train the model on the training set\n",
    "algo.fit(trainset)"
   ]
  },
  {
   "cell_type": "code",
   "execution_count": null,
   "id": "02c51650",
   "metadata": {},
   "outputs": [],
   "source": [
    "# Test the model on the test set\n",
    "predictions = algo.test(testset)"
   ]
  },
  {
   "cell_type": "code",
   "execution_count": null,
   "id": "6bdcd6d0",
   "metadata": {},
   "outputs": [],
   "source": [
    "# Create a dictionary of items for each user\n",
    "from collections import defaultdict\n",
    "user_items = defaultdict(list)\n",
    "for uid, iid, true_rating, est_rating, _ in predictions:\n",
    "    user_items[uid].append((iid, est_rating))\n",
    "\n",
    "# Sort the items for each user by their estimated rating\n",
    "for uid, items in user_items.items():\n",
    "    items.sort(key=lambda x: x[1], reverse=True)\n",
    "\n",
    "# Get the top 10 item recommendations for each user\n",
    "top_n = {}\n",
    "for uid, items in user_items.items():\n",
    "    top_n[uid] = [iid for (iid, _) in items[:10]]"
   ]
  },
  {
   "cell_type": "code",
   "execution_count": null,
   "id": "04ef3120",
   "metadata": {},
   "outputs": [],
   "source": [
    "top_n"
   ]
  },
  {
   "cell_type": "code",
   "execution_count": null,
   "id": "7200b338",
   "metadata": {},
   "outputs": [],
   "source": [
    "from surprise import SVD"
   ]
  },
  {
   "cell_type": "code",
   "execution_count": null,
   "id": "4f4f94fc",
   "metadata": {},
   "outputs": [],
   "source": [
    "# Define the algorithm\n",
    "algo = SVD(verbose=True, n_epochs=10)\n",
    "\n",
    "# Train the model on the training set\n",
    "algo.fit(trainset)\n",
    "\n",
    "# Test the model on the test set\n",
    "predictions = algo.test(testset)"
   ]
  },
  {
   "cell_type": "code",
   "execution_count": null,
   "id": "589be8ec",
   "metadata": {},
   "outputs": [],
   "source": [
    "# from surprise.model_selection import cross_validate"
   ]
  },
  {
   "cell_type": "code",
   "execution_count": null,
   "id": "f7709963",
   "metadata": {},
   "outputs": [],
   "source": [
    "# cross_validate(algo, trainset, measures=['RMSE', 'MAE'], cv=3, verbose=True)"
   ]
  },
  {
   "cell_type": "code",
   "execution_count": null,
   "id": "d58796cb",
   "metadata": {},
   "outputs": [],
   "source": [
    "# Create a dictionary of items for each user\n",
    "from collections import defaultdict\n",
    "user_items = defaultdict(list)\n",
    "for uid, iid, true_rating, est_rating, _ in predictions:\n",
    "    user_items[uid].append((iid, est_rating))\n",
    "\n",
    "# Sort the items for each user by their estimated rating\n",
    "for uid, items in user_items.items():\n",
    "    items.sort(key=lambda x: x[1], reverse=True)\n",
    "\n",
    "# Get the top 10 item recommendations for each user\n",
    "top_n = {}\n",
    "for uid, items in user_items.items():\n",
    "    top_n[uid] = [iid for (iid, _) in items[:10]]"
   ]
  },
  {
   "cell_type": "code",
   "execution_count": null,
   "id": "2d2fa0b1",
   "metadata": {},
   "outputs": [],
   "source": [
    "top_n"
   ]
  },
  {
   "cell_type": "code",
   "execution_count": null,
   "id": "d14ef3a8",
   "metadata": {},
   "outputs": [],
   "source": []
  },
  {
   "cell_type": "code",
   "execution_count": null,
   "id": "ba4ec8a6",
   "metadata": {},
   "outputs": [],
   "source": []
  },
  {
   "cell_type": "markdown",
   "id": "6bfb6e1b",
   "metadata": {},
   "source": [
    "## Binary classifier"
   ]
  },
  {
   "cell_type": "markdown",
   "id": "fbca9597",
   "metadata": {},
   "source": [
    "#### Create training data set"
   ]
  },
  {
   "cell_type": "code",
   "execution_count": 82,
   "id": "9ecb4511",
   "metadata": {},
   "outputs": [],
   "source": [
    "positive_samples = train[['timestamp', 'transaction_id', 'hash_customer', \n",
    "                          'sale_amount', 'product_title', 'product_color', 'product_gender',\n",
    "                          'product_category', 'referrer_source', 'product_title_gender',\n",
    "                         'transaction_num']].copy()\n",
    "\n",
    "positive_samples.loc[:,'purchase'] = 1"
   ]
  },
  {
   "cell_type": "code",
   "execution_count": 83,
   "id": "ee12f77c",
   "metadata": {},
   "outputs": [
    {
     "name": "stdout",
     "output_type": "stream",
     "text": [
      "['Women' 'Men' 'Kids' 'Youth' 'Unisex']\n",
      "['Midnight Green (Eagle Green)' 'Prussian Blue' 'Electric Purple'\n",
      " 'Stormcloud' 'Vermilion (Plochere)' 'Topaz' 'Royal Blue (Web)'\n",
      " 'Lavender Purple' 'Han Purple' 'Burnt Sienna' 'Green (Munsell)'\n",
      " 'Dark Red' 'Electric Green' 'Fern Green' 'Ruby Red' 'Mikado Yellow'\n",
      " 'Pastel Magenta' 'Canary Yellow' 'Dartmouth Green' 'Dark Powder Blue'\n",
      " 'Alice Blue' 'Mordant Red 19' 'Sky Blue' 'Yellow-Green'\n",
      " 'Selective Yellow']\n"
     ]
    }
   ],
   "source": [
    "genders = train['product_gender'].unique()\n",
    "print(genders)\n",
    "\n",
    "colors = train['product_color'].unique()\n",
    "print(colors)"
   ]
  },
  {
   "cell_type": "code",
   "execution_count": 84,
   "id": "467904eb",
   "metadata": {},
   "outputs": [],
   "source": [
    "def count_category_in_days(df, days, as_of_dt):\n",
    "    \"\"\"Function to return counts of occurrences in the previous n_days from as_of_dt \"\"\"\n",
    "    end_date = pd.to_datetime(as_of_dt)\n",
    "    start_date = end_date - datetime.timedelta(days=days)\n",
    "    filtered_df = df[(df['timestamp'] >= start_date) & (df['timestamp'] <= end_date)]\n",
    "    return len(filtered_df)"
   ]
  },
  {
   "cell_type": "code",
   "execution_count": null,
   "id": "497b39a4",
   "metadata": {},
   "outputs": [],
   "source": []
  },
  {
   "cell_type": "code",
   "execution_count": 85,
   "id": "94466437",
   "metadata": {},
   "outputs": [],
   "source": [
    "hist_data = toy_dataset_df[(toy_dataset_df['timestamp'].dt.date < pd.to_datetime('2022-01-01'))]"
   ]
  },
  {
   "cell_type": "code",
   "execution_count": 86,
   "id": "63d742e0",
   "metadata": {},
   "outputs": [],
   "source": [
    "def calc_user_features(df):\n",
    "    \"\"\"\n",
    "    Function to calculate user features\n",
    "    Returns dataframe\n",
    "    \"\"\"\n",
    "    agg_df = df.groupby('hash_customer').agg({\n",
    "        'product_title': ['count'],\n",
    "        'sale_amount': ['mean']\n",
    "    }).reset_index()\n",
    "\n",
    "    agg_df.columns = ['hash_customer', \n",
    "                      'user_trans_cnt', 'user_avg_prod_cost']\n",
    "    return agg_df"
   ]
  },
  {
   "cell_type": "code",
   "execution_count": 87,
   "id": "c81ceb3d",
   "metadata": {
    "scrolled": true
   },
   "outputs": [
    {
     "data": {
      "text/html": [
       "<div>\n",
       "<style scoped>\n",
       "    .dataframe tbody tr th:only-of-type {\n",
       "        vertical-align: middle;\n",
       "    }\n",
       "\n",
       "    .dataframe tbody tr th {\n",
       "        vertical-align: top;\n",
       "    }\n",
       "\n",
       "    .dataframe thead th {\n",
       "        text-align: right;\n",
       "    }\n",
       "</style>\n",
       "<table border=\"1\" class=\"dataframe\">\n",
       "  <thead>\n",
       "    <tr style=\"text-align: right;\">\n",
       "      <th></th>\n",
       "      <th>hash_customer</th>\n",
       "      <th>user_trans_cnt</th>\n",
       "      <th>user_avg_prod_cost</th>\n",
       "    </tr>\n",
       "  </thead>\n",
       "  <tbody>\n",
       "    <tr>\n",
       "      <th>0</th>\n",
       "      <td>2785466729578054</td>\n",
       "      <td>3</td>\n",
       "      <td>198.000000</td>\n",
       "    </tr>\n",
       "    <tr>\n",
       "      <th>1</th>\n",
       "      <td>2943184540671871</td>\n",
       "      <td>6</td>\n",
       "      <td>197.666667</td>\n",
       "    </tr>\n",
       "    <tr>\n",
       "      <th>2</th>\n",
       "      <td>4042200167694193</td>\n",
       "      <td>5</td>\n",
       "      <td>194.000000</td>\n",
       "    </tr>\n",
       "    <tr>\n",
       "      <th>3</th>\n",
       "      <td>6606248094173010</td>\n",
       "      <td>1</td>\n",
       "      <td>198.000000</td>\n",
       "    </tr>\n",
       "    <tr>\n",
       "      <th>4</th>\n",
       "      <td>11352255998594515</td>\n",
       "      <td>2</td>\n",
       "      <td>196.000000</td>\n",
       "    </tr>\n",
       "  </tbody>\n",
       "</table>\n",
       "</div>"
      ],
      "text/plain": [
       "       hash_customer  user_trans_cnt  user_avg_prod_cost\n",
       "0   2785466729578054               3          198.000000\n",
       "1   2943184540671871               6          197.666667\n",
       "2   4042200167694193               5          194.000000\n",
       "3   6606248094173010               1          198.000000\n",
       "4  11352255998594515               2          196.000000"
      ]
     },
     "execution_count": 87,
     "metadata": {},
     "output_type": "execute_result"
    }
   ],
   "source": [
    "calc_user_features(df=hist_data).head()"
   ]
  },
  {
   "cell_type": "code",
   "execution_count": 88,
   "id": "60e3fce3",
   "metadata": {},
   "outputs": [],
   "source": [
    "def calc_title_features(df):\n",
    "    \"\"\"\n",
    "    Function to calculate features\n",
    "    Returns dataframe\n",
    "    \"\"\"\n",
    "    agg_df = df.groupby('product_title').agg({\n",
    "        'product_title': ['count'],\n",
    "    }).reset_index()\n",
    "\n",
    "    agg_df.columns = ['product_title', 'title_tot_sales']\n",
    "    return agg_df"
   ]
  },
  {
   "cell_type": "code",
   "execution_count": 89,
   "id": "778ec5d9",
   "metadata": {},
   "outputs": [
    {
     "data": {
      "text/html": [
       "<div>\n",
       "<style scoped>\n",
       "    .dataframe tbody tr th:only-of-type {\n",
       "        vertical-align: middle;\n",
       "    }\n",
       "\n",
       "    .dataframe tbody tr th {\n",
       "        vertical-align: top;\n",
       "    }\n",
       "\n",
       "    .dataframe thead th {\n",
       "        text-align: right;\n",
       "    }\n",
       "</style>\n",
       "<table border=\"1\" class=\"dataframe\">\n",
       "  <thead>\n",
       "    <tr style=\"text-align: right;\">\n",
       "      <th></th>\n",
       "      <th>product_title</th>\n",
       "      <th>title_tot_sales</th>\n",
       "    </tr>\n",
       "  </thead>\n",
       "  <tbody>\n",
       "    <tr>\n",
       "      <th>0</th>\n",
       "      <td>Alley Boot</td>\n",
       "      <td>9</td>\n",
       "    </tr>\n",
       "    <tr>\n",
       "      <th>1</th>\n",
       "      <td>Classic Sneaker</td>\n",
       "      <td>1484</td>\n",
       "    </tr>\n",
       "    <tr>\n",
       "      <th>2</th>\n",
       "      <td>Corner Sandal</td>\n",
       "      <td>72</td>\n",
       "    </tr>\n",
       "    <tr>\n",
       "      <th>3</th>\n",
       "      <td>Evermore Boot</td>\n",
       "      <td>109</td>\n",
       "    </tr>\n",
       "    <tr>\n",
       "      <th>4</th>\n",
       "      <td>Gator Sandal</td>\n",
       "      <td>64</td>\n",
       "    </tr>\n",
       "  </tbody>\n",
       "</table>\n",
       "</div>"
      ],
      "text/plain": [
       "     product_title  title_tot_sales\n",
       "0       Alley Boot                9\n",
       "1  Classic Sneaker             1484\n",
       "2    Corner Sandal               72\n",
       "3    Evermore Boot              109\n",
       "4     Gator Sandal               64"
      ]
     },
     "execution_count": 89,
     "metadata": {},
     "output_type": "execute_result"
    }
   ],
   "source": [
    "calc_title_features(df=hist_data).head()"
   ]
  },
  {
   "cell_type": "code",
   "execution_count": 90,
   "id": "b51ea15e",
   "metadata": {},
   "outputs": [],
   "source": [
    "def calc_titgen_features(df):\n",
    "    \"\"\"\n",
    "    Function to calculate title-gender features\n",
    "    Returns dataframe\n",
    "    \"\"\"\n",
    "    agg_df = df.groupby('product_title_gender').agg({\n",
    "        'product_title': ['count'],\n",
    "        'transaction_id': ['nunique'],\n",
    "        'sale_amount': ['sum', 'mean']\n",
    "    }).reset_index()\n",
    "\n",
    "    agg_df.columns = ['product_title_gender', 'titgen_title_cnt',\n",
    "                      'titgen_trans_cnt', 'titgen_tot_sales', 'titgen_avg_prod_cost']\n",
    "    return agg_df"
   ]
  },
  {
   "cell_type": "code",
   "execution_count": 91,
   "id": "2742e679",
   "metadata": {
    "scrolled": true
   },
   "outputs": [
    {
     "data": {
      "text/html": [
       "<div>\n",
       "<style scoped>\n",
       "    .dataframe tbody tr th:only-of-type {\n",
       "        vertical-align: middle;\n",
       "    }\n",
       "\n",
       "    .dataframe tbody tr th {\n",
       "        vertical-align: top;\n",
       "    }\n",
       "\n",
       "    .dataframe thead th {\n",
       "        text-align: right;\n",
       "    }\n",
       "</style>\n",
       "<table border=\"1\" class=\"dataframe\">\n",
       "  <thead>\n",
       "    <tr style=\"text-align: right;\">\n",
       "      <th></th>\n",
       "      <th>product_title_gender</th>\n",
       "      <th>titgen_title_cnt</th>\n",
       "      <th>titgen_trans_cnt</th>\n",
       "      <th>titgen_tot_sales</th>\n",
       "      <th>titgen_avg_prod_cost</th>\n",
       "    </tr>\n",
       "  </thead>\n",
       "  <tbody>\n",
       "    <tr>\n",
       "      <th>0</th>\n",
       "      <td>Alley Boot-Men</td>\n",
       "      <td>9</td>\n",
       "      <td>9</td>\n",
       "      <td>1746.00</td>\n",
       "      <td>194.000000</td>\n",
       "    </tr>\n",
       "    <tr>\n",
       "      <th>1</th>\n",
       "      <td>Classic Sneaker-Men</td>\n",
       "      <td>413</td>\n",
       "      <td>377</td>\n",
       "      <td>62265.00</td>\n",
       "      <td>150.762712</td>\n",
       "    </tr>\n",
       "    <tr>\n",
       "      <th>2</th>\n",
       "      <td>Classic Sneaker-Women</td>\n",
       "      <td>1071</td>\n",
       "      <td>982</td>\n",
       "      <td>165433.91</td>\n",
       "      <td>154.466769</td>\n",
       "    </tr>\n",
       "    <tr>\n",
       "      <th>3</th>\n",
       "      <td>Corner Sandal-Unisex</td>\n",
       "      <td>72</td>\n",
       "      <td>61</td>\n",
       "      <td>22176.00</td>\n",
       "      <td>308.000000</td>\n",
       "    </tr>\n",
       "    <tr>\n",
       "      <th>4</th>\n",
       "      <td>Evermore Boot-Men</td>\n",
       "      <td>35</td>\n",
       "      <td>33</td>\n",
       "      <td>8412.00</td>\n",
       "      <td>240.342857</td>\n",
       "    </tr>\n",
       "  </tbody>\n",
       "</table>\n",
       "</div>"
      ],
      "text/plain": [
       "    product_title_gender  titgen_title_cnt  titgen_trans_cnt  \\\n",
       "0         Alley Boot-Men                 9                 9   \n",
       "1    Classic Sneaker-Men               413               377   \n",
       "2  Classic Sneaker-Women              1071               982   \n",
       "3   Corner Sandal-Unisex                72                61   \n",
       "4      Evermore Boot-Men                35                33   \n",
       "\n",
       "   titgen_tot_sales  titgen_avg_prod_cost  \n",
       "0           1746.00            194.000000  \n",
       "1          62265.00            150.762712  \n",
       "2         165433.91            154.466769  \n",
       "3          22176.00            308.000000  \n",
       "4           8412.00            240.342857  "
      ]
     },
     "execution_count": 91,
     "metadata": {},
     "output_type": "execute_result"
    }
   ],
   "source": [
    "calc_titgen_features(df=hist_data).head()"
   ]
  },
  {
   "cell_type": "code",
   "execution_count": 92,
   "id": "2ee0eebc",
   "metadata": {},
   "outputs": [],
   "source": [
    "def calc_user_gen_features(df):\n",
    "    \"\"\"\n",
    "    Function to calculate features\n",
    "    Returns dataframe\n",
    "    \"\"\"\n",
    "    agg_df = df.groupby(['hash_customer','product_gender']).agg({\n",
    "        'product_title': ['count'],\n",
    "        'sale_amount': ['mean']\n",
    "    }).reset_index()\n",
    "\n",
    "    agg_df.columns = ['hash_customer', 'product_gender',\n",
    "                      'user_gen_trans_cnt', 'user_gen_avg_prod_cost']\n",
    "    return agg_df"
   ]
  },
  {
   "cell_type": "code",
   "execution_count": 93,
   "id": "056df46b",
   "metadata": {},
   "outputs": [
    {
     "data": {
      "text/html": [
       "<div>\n",
       "<style scoped>\n",
       "    .dataframe tbody tr th:only-of-type {\n",
       "        vertical-align: middle;\n",
       "    }\n",
       "\n",
       "    .dataframe tbody tr th {\n",
       "        vertical-align: top;\n",
       "    }\n",
       "\n",
       "    .dataframe thead th {\n",
       "        text-align: right;\n",
       "    }\n",
       "</style>\n",
       "<table border=\"1\" class=\"dataframe\">\n",
       "  <thead>\n",
       "    <tr style=\"text-align: right;\">\n",
       "      <th></th>\n",
       "      <th>hash_customer</th>\n",
       "      <th>product_gender</th>\n",
       "      <th>user_gen_trans_cnt</th>\n",
       "      <th>user_gen_avg_prod_cost</th>\n",
       "    </tr>\n",
       "  </thead>\n",
       "  <tbody>\n",
       "    <tr>\n",
       "      <th>0</th>\n",
       "      <td>2785466729578054</td>\n",
       "      <td>Men</td>\n",
       "      <td>1</td>\n",
       "      <td>198.000000</td>\n",
       "    </tr>\n",
       "    <tr>\n",
       "      <th>1</th>\n",
       "      <td>2785466729578054</td>\n",
       "      <td>Women</td>\n",
       "      <td>2</td>\n",
       "      <td>198.000000</td>\n",
       "    </tr>\n",
       "    <tr>\n",
       "      <th>2</th>\n",
       "      <td>2943184540671871</td>\n",
       "      <td>Women</td>\n",
       "      <td>6</td>\n",
       "      <td>197.666667</td>\n",
       "    </tr>\n",
       "    <tr>\n",
       "      <th>3</th>\n",
       "      <td>4042200167694193</td>\n",
       "      <td>Men</td>\n",
       "      <td>1</td>\n",
       "      <td>194.000000</td>\n",
       "    </tr>\n",
       "    <tr>\n",
       "      <th>4</th>\n",
       "      <td>4042200167694193</td>\n",
       "      <td>Women</td>\n",
       "      <td>4</td>\n",
       "      <td>194.000000</td>\n",
       "    </tr>\n",
       "  </tbody>\n",
       "</table>\n",
       "</div>"
      ],
      "text/plain": [
       "      hash_customer product_gender  user_gen_trans_cnt  user_gen_avg_prod_cost\n",
       "0  2785466729578054            Men                   1              198.000000\n",
       "1  2785466729578054          Women                   2              198.000000\n",
       "2  2943184540671871          Women                   6              197.666667\n",
       "3  4042200167694193            Men                   1              194.000000\n",
       "4  4042200167694193          Women                   4              194.000000"
      ]
     },
     "execution_count": 93,
     "metadata": {},
     "output_type": "execute_result"
    }
   ],
   "source": [
    "calc_user_gen_features(df=hist_data).head()"
   ]
  },
  {
   "cell_type": "code",
   "execution_count": null,
   "id": "d208264a",
   "metadata": {},
   "outputs": [],
   "source": []
  },
  {
   "cell_type": "code",
   "execution_count": 94,
   "id": "3f389e30",
   "metadata": {},
   "outputs": [],
   "source": [
    "def calc_user_cat_features(df):\n",
    "    \"\"\"\n",
    "    Function to calculate features\n",
    "    Returns dataframe\n",
    "    \"\"\"\n",
    "    agg_df = df.groupby(['hash_customer','product_category']).agg({\n",
    "        'product_title': ['count'],\n",
    "        'sale_amount': ['mean']\n",
    "    }).reset_index()\n",
    "\n",
    "    agg_df.columns = ['hash_customer', 'product_category',\n",
    "                      'user_cat_trans_cnt', 'user_cat_avg_prod_cost']\n",
    "    return agg_df"
   ]
  },
  {
   "cell_type": "code",
   "execution_count": 95,
   "id": "00ddc903",
   "metadata": {},
   "outputs": [
    {
     "data": {
      "text/html": [
       "<div>\n",
       "<style scoped>\n",
       "    .dataframe tbody tr th:only-of-type {\n",
       "        vertical-align: middle;\n",
       "    }\n",
       "\n",
       "    .dataframe tbody tr th {\n",
       "        vertical-align: top;\n",
       "    }\n",
       "\n",
       "    .dataframe thead th {\n",
       "        text-align: right;\n",
       "    }\n",
       "</style>\n",
       "<table border=\"1\" class=\"dataframe\">\n",
       "  <thead>\n",
       "    <tr style=\"text-align: right;\">\n",
       "      <th></th>\n",
       "      <th>hash_customer</th>\n",
       "      <th>product_category</th>\n",
       "      <th>user_cat_trans_cnt</th>\n",
       "      <th>user_cat_avg_prod_cost</th>\n",
       "    </tr>\n",
       "  </thead>\n",
       "  <tbody>\n",
       "    <tr>\n",
       "      <th>0</th>\n",
       "      <td>2785466729578054</td>\n",
       "      <td>Running</td>\n",
       "      <td>2</td>\n",
       "      <td>198.000000</td>\n",
       "    </tr>\n",
       "    <tr>\n",
       "      <th>1</th>\n",
       "      <td>2785466729578054</td>\n",
       "      <td>Sneaker</td>\n",
       "      <td>1</td>\n",
       "      <td>198.000000</td>\n",
       "    </tr>\n",
       "    <tr>\n",
       "      <th>2</th>\n",
       "      <td>2943184540671871</td>\n",
       "      <td>Running</td>\n",
       "      <td>3</td>\n",
       "      <td>196.666667</td>\n",
       "    </tr>\n",
       "    <tr>\n",
       "      <th>3</th>\n",
       "      <td>2943184540671871</td>\n",
       "      <td>Sandal</td>\n",
       "      <td>1</td>\n",
       "      <td>308.000000</td>\n",
       "    </tr>\n",
       "    <tr>\n",
       "      <th>4</th>\n",
       "      <td>2943184540671871</td>\n",
       "      <td>Sneaker</td>\n",
       "      <td>2</td>\n",
       "      <td>144.000000</td>\n",
       "    </tr>\n",
       "  </tbody>\n",
       "</table>\n",
       "</div>"
      ],
      "text/plain": [
       "      hash_customer product_category  user_cat_trans_cnt  \\\n",
       "0  2785466729578054          Running                   2   \n",
       "1  2785466729578054          Sneaker                   1   \n",
       "2  2943184540671871          Running                   3   \n",
       "3  2943184540671871           Sandal                   1   \n",
       "4  2943184540671871          Sneaker                   2   \n",
       "\n",
       "   user_cat_avg_prod_cost  \n",
       "0              198.000000  \n",
       "1              198.000000  \n",
       "2              196.666667  \n",
       "3              308.000000  \n",
       "4              144.000000  "
      ]
     },
     "execution_count": 95,
     "metadata": {},
     "output_type": "execute_result"
    }
   ],
   "source": [
    "calc_user_cat_features(df=hist_data).head()"
   ]
  },
  {
   "cell_type": "code",
   "execution_count": null,
   "id": "228998fd",
   "metadata": {},
   "outputs": [],
   "source": []
  },
  {
   "cell_type": "code",
   "execution_count": 96,
   "id": "bd437dbb",
   "metadata": {},
   "outputs": [],
   "source": [
    "def calc_category_features(as_of_dt):\n",
    "    \"\"\"\n",
    "    Function to calculate features\n",
    "    Returns dataframe\n",
    "    \"\"\"\n",
    "    hist_data = toy_dataset_df[(toy_dataset_df['timestamp'].dt.date < pd.to_datetime(as_of_dt))]\n",
    "\n",
    "    # Group by product title and apply the count_title_in_days function to calculate the counts for each title in the past 30, 60, and 90 days\n",
    "    counts_df = hist_data.groupby('product_category') \\\n",
    "        .apply(lambda x: pd.Series({'cat_sales10': count_category_in_days(x, 10, as_of_dt), \n",
    "                                    'cat_sales30': count_category_in_days(x, 30, as_of_dt),\n",
    "                                    'cat_sales90': count_category_in_days(x, 90, as_of_dt),\n",
    "                                    'cat_sales_all': count_category_in_days(x, 1000, as_of_dt)})).reset_index()\n",
    "    return counts_df"
   ]
  },
  {
   "cell_type": "code",
   "execution_count": 97,
   "id": "e5e70015",
   "metadata": {},
   "outputs": [
    {
     "data": {
      "text/html": [
       "<div>\n",
       "<style scoped>\n",
       "    .dataframe tbody tr th:only-of-type {\n",
       "        vertical-align: middle;\n",
       "    }\n",
       "\n",
       "    .dataframe tbody tr th {\n",
       "        vertical-align: top;\n",
       "    }\n",
       "\n",
       "    .dataframe thead th {\n",
       "        text-align: right;\n",
       "    }\n",
       "</style>\n",
       "<table border=\"1\" class=\"dataframe\">\n",
       "  <thead>\n",
       "    <tr style=\"text-align: right;\">\n",
       "      <th></th>\n",
       "      <th>product_category</th>\n",
       "      <th>cat_sales10</th>\n",
       "      <th>cat_sales30</th>\n",
       "      <th>cat_sales90</th>\n",
       "      <th>cat_sales_all</th>\n",
       "    </tr>\n",
       "  </thead>\n",
       "  <tbody>\n",
       "    <tr>\n",
       "      <th>0</th>\n",
       "      <td>Boot</td>\n",
       "      <td>23</td>\n",
       "      <td>221</td>\n",
       "      <td>292</td>\n",
       "      <td>1173</td>\n",
       "    </tr>\n",
       "    <tr>\n",
       "      <th>1</th>\n",
       "      <td>Running</td>\n",
       "      <td>197</td>\n",
       "      <td>783</td>\n",
       "      <td>1384</td>\n",
       "      <td>5483</td>\n",
       "    </tr>\n",
       "    <tr>\n",
       "      <th>2</th>\n",
       "      <td>Sandal</td>\n",
       "      <td>20</td>\n",
       "      <td>144</td>\n",
       "      <td>188</td>\n",
       "      <td>390</td>\n",
       "    </tr>\n",
       "    <tr>\n",
       "      <th>3</th>\n",
       "      <td>Sneaker</td>\n",
       "      <td>45</td>\n",
       "      <td>231</td>\n",
       "      <td>393</td>\n",
       "      <td>1529</td>\n",
       "    </tr>\n",
       "  </tbody>\n",
       "</table>\n",
       "</div>"
      ],
      "text/plain": [
       "  product_category  cat_sales10  cat_sales30  cat_sales90  cat_sales_all\n",
       "0             Boot           23          221          292           1173\n",
       "1          Running          197          783         1384           5483\n",
       "2           Sandal           20          144          188            390\n",
       "3          Sneaker           45          231          393           1529"
      ]
     },
     "execution_count": 97,
     "metadata": {},
     "output_type": "execute_result"
    }
   ],
   "source": [
    "calc_category_features(as_of_dt='2021-03-26').head()"
   ]
  },
  {
   "cell_type": "code",
   "execution_count": 98,
   "id": "cd3cdc95",
   "metadata": {},
   "outputs": [],
   "source": [
    "def calc_gen_features(as_of_dt):\n",
    "    \"\"\"\n",
    "    Function to calculate features\n",
    "    Returns dataframe\n",
    "    \"\"\"\n",
    "    hist_data = toy_dataset_df[(toy_dataset_df['timestamp'].dt.date < pd.to_datetime(as_of_dt))]\n",
    "\n",
    "    # Group by product title and apply the count_title_in_days function to calculate the counts for each title in the past 30, 60, and 90 days\n",
    "    counts_df = hist_data.groupby('product_gender') \\\n",
    "        .apply(lambda x: pd.Series({'gen_sales10': count_category_in_days(x, 10, as_of_dt), \n",
    "                                    'gen_sales30': count_category_in_days(x, 30, as_of_dt),\n",
    "                                    'gen_sales90': count_category_in_days(x, 90, as_of_dt),\n",
    "                                    'gen_sales_all': count_category_in_days(x, 1000, as_of_dt)})).reset_index()\n",
    "    return counts_df"
   ]
  },
  {
   "cell_type": "code",
   "execution_count": 99,
   "id": "f3f4ac56",
   "metadata": {},
   "outputs": [
    {
     "data": {
      "text/html": [
       "<div>\n",
       "<style scoped>\n",
       "    .dataframe tbody tr th:only-of-type {\n",
       "        vertical-align: middle;\n",
       "    }\n",
       "\n",
       "    .dataframe tbody tr th {\n",
       "        vertical-align: top;\n",
       "    }\n",
       "\n",
       "    .dataframe thead th {\n",
       "        text-align: right;\n",
       "    }\n",
       "</style>\n",
       "<table border=\"1\" class=\"dataframe\">\n",
       "  <thead>\n",
       "    <tr style=\"text-align: right;\">\n",
       "      <th></th>\n",
       "      <th>product_gender</th>\n",
       "      <th>gen_sales10</th>\n",
       "      <th>gen_sales30</th>\n",
       "      <th>gen_sales90</th>\n",
       "      <th>gen_sales_all</th>\n",
       "    </tr>\n",
       "  </thead>\n",
       "  <tbody>\n",
       "    <tr>\n",
       "      <th>0</th>\n",
       "      <td>Kids</td>\n",
       "      <td>13</td>\n",
       "      <td>71</td>\n",
       "      <td>125</td>\n",
       "      <td>888</td>\n",
       "    </tr>\n",
       "    <tr>\n",
       "      <th>1</th>\n",
       "      <td>Men</td>\n",
       "      <td>72</td>\n",
       "      <td>389</td>\n",
       "      <td>796</td>\n",
       "      <td>5695</td>\n",
       "    </tr>\n",
       "    <tr>\n",
       "      <th>2</th>\n",
       "      <td>Unisex</td>\n",
       "      <td>4</td>\n",
       "      <td>27</td>\n",
       "      <td>53</td>\n",
       "      <td>187</td>\n",
       "    </tr>\n",
       "    <tr>\n",
       "      <th>3</th>\n",
       "      <td>Women</td>\n",
       "      <td>197</td>\n",
       "      <td>1682</td>\n",
       "      <td>2802</td>\n",
       "      <td>16419</td>\n",
       "    </tr>\n",
       "    <tr>\n",
       "      <th>4</th>\n",
       "      <td>Youth</td>\n",
       "      <td>20</td>\n",
       "      <td>46</td>\n",
       "      <td>89</td>\n",
       "      <td>663</td>\n",
       "    </tr>\n",
       "  </tbody>\n",
       "</table>\n",
       "</div>"
      ],
      "text/plain": [
       "  product_gender  gen_sales10  gen_sales30  gen_sales90  gen_sales_all\n",
       "0           Kids           13           71          125            888\n",
       "1            Men           72          389          796           5695\n",
       "2         Unisex            4           27           53            187\n",
       "3          Women          197         1682         2802          16419\n",
       "4          Youth           20           46           89            663"
      ]
     },
     "execution_count": 99,
     "metadata": {},
     "output_type": "execute_result"
    }
   ],
   "source": [
    "calc_gen_features(as_of_dt='2022-03-26').head()"
   ]
  },
  {
   "cell_type": "code",
   "execution_count": 100,
   "id": "0b9edfe2",
   "metadata": {},
   "outputs": [
    {
     "name": "stdout",
     "output_type": "stream",
     "text": [
      "(25906, 12)\n",
      "(15844, 12)\n"
     ]
    }
   ],
   "source": [
    "print(positive_samples.shape)\n",
    "positive_samples = positive_samples[positive_samples['transaction_num']>1]\n",
    "print(positive_samples.shape)"
   ]
  },
  {
   "cell_type": "code",
   "execution_count": null,
   "id": "30480f51",
   "metadata": {},
   "outputs": [],
   "source": []
  },
  {
   "cell_type": "code",
   "execution_count": null,
   "id": "6c400972",
   "metadata": {},
   "outputs": [],
   "source": []
  },
  {
   "cell_type": "markdown",
   "id": "acbdbcf5",
   "metadata": {},
   "source": [
    "#### Loop over dates, calculate features, create training data set"
   ]
  },
  {
   "cell_type": "code",
   "execution_count": 101,
   "id": "45d27e71",
   "metadata": {},
   "outputs": [
    {
     "name": "stdout",
     "output_type": "stream",
     "text": [
      "2022-05-31,51,2022-05-30,102,2022-05-29,156,2022-05-28,186,2022-05-27,225,2022-05-26,282,2022-05-25,408,2022-05-24,459,2022-05-23,540,2022-05-22,585,2022-05-21,621,2022-05-20,654,2022-05-19,690,2022-05-18,765,2022-05-17,831,2022-05-16,909,2022-05-15,933,2022-05-14,984,2022-05-13,1047,2022-05-12,1092,2022-05-11,1176,2022-05-10,1218,2022-05-09,1290,2022-05-08,1341,2022-05-07,1389,2022-05-06,1458,2022-05-05,1548,2022-05-04,1650,2022-05-03,1719,2022-05-02,1806,2022-05-01,1851,2022-04-30,1896,2022-04-29,1938,2022-04-28,1995,2022-04-27,2133,2022-04-26,2199,2022-04-25,2298,2022-04-24,2346,2022-04-23,2388,2022-04-22,2421,2022-04-21,2472,2022-04-20,2559,2022-04-19,2607,2022-04-18,2643,2022-04-17,2685,2022-04-16,2745,2022-04-15,2820,2022-04-14,2889,2022-04-13,3012,2022-04-12,3066,2022-04-11,3114,2022-04-10,3189,2022-04-09,3234,2022-04-08,3264,2022-04-07,3303,2022-04-06,3372,2022-04-05,3420,2022-04-04,3486,2022-04-03,3543,2022-04-02,3585,2022-04-01,3663,2022-03-31,3714,2022-03-30,3852,2022-03-29,3909,2022-03-28,3960,2022-03-27,3987,2022-03-26,4044,2022-03-25,4128,2022-03-24,4188,2022-03-23,4263,2022-03-22,4311,2022-03-21,4374,2022-03-20,4407,2022-03-19,4452,2022-03-18,4494,2022-03-17,4533,2022-03-16,4599,2022-03-15,4671,2022-03-14,4716,2022-03-13,4746,2022-03-12,4791,2022-03-11,4833,2022-03-10,4929,2022-03-09,7821,2022-03-08,7971,2022-03-07,8028,2022-03-06,8106,2022-03-05,8160,2022-03-04,8271,2022-03-03,8310,2022-03-02,8421,2022-03-01,8460,2022-02-28,8532,2022-02-27,8562,2022-02-26,8577,2022-02-25,8625,2022-02-24,8661,2022-02-23,8775,2022-02-22,8835,2022-02-21,8874,Wall time: 51.8 s\n"
     ]
    }
   ],
   "source": [
    "%%time\n",
    "\n",
    "NUM_DATES_TO_LOOP_OVER = 100\n",
    "NUM_NEGATIVE_SAMPLES = 2\n",
    "\n",
    "# order samples to loop over them backwards chronologically\n",
    "positive_samples = positive_samples.sort_values('timestamp', ascending=False)\n",
    "\n",
    "train_df = pd.DataFrame()\n",
    "\n",
    "# loop through dates\n",
    "for idx, dt, in enumerate(positive_samples['timestamp'].dt.date.unique()[0:NUM_DATES_TO_LOOP_OVER]):\n",
    "    print(dt, end=',')\n",
    "    \n",
    "    # subset purchases by date\n",
    "    purchases = positive_samples[positive_samples['timestamp'].dt.date == dt]\n",
    "    \n",
    "    all_negative_samples = pd.DataFrame()\n",
    "    # loop over purchases\n",
    "    for idx, row in purchases.iterrows():\n",
    "        # create negative_samples\n",
    "        dfs = [row.to_frame().T for i in range(NUM_NEGATIVE_SAMPLES)]\n",
    "        negative_samples = pd.concat(dfs, ignore_index=True)\n",
    "        negative_samples['purchase'] = 0\n",
    "        negative_samples['product_gender'] = negative_samples['product_gender'].apply(lambda x: random.choice(genders))\n",
    "        negative_samples['product_color'] = negative_samples['product_color'].apply(lambda x: random.choice(colors))\n",
    "        # sale_amount, title, category\n",
    "        sample_product = train[['sale_amount', 'product_title', 'product_category']].sample(NUM_NEGATIVE_SAMPLES)\n",
    "        negative_samples['sale_amount'] = sample_product['sale_amount'].values\n",
    "        negative_samples['product_title'] = sample_product['product_title'].values\n",
    "        negative_samples['product_category'] = sample_product['product_category'].values\n",
    "        negative_samples.loc[:,'product_title_gender'] = negative_samples['product_title'] + '-' + negative_samples['product_gender']\n",
    "        all_negative_samples = pd.concat([all_negative_samples, negative_samples])\n",
    "    \n",
    "    daily_df = pd.concat([all_negative_samples, purchases])\n",
    "    \n",
    "    hist_data = toy_dataset_df[(toy_dataset_df['timestamp'].dt.date < pd.to_datetime(dt))]\n",
    "    \n",
    "    # add user features\n",
    "    user_features_df = calc_user_features(df=hist_data)\n",
    "    daily_train_df = pd.merge(left=daily_df, \n",
    "                            right=user_features_df,\n",
    "                            left_on='hash_customer',\n",
    "                            right_on='hash_customer', \n",
    "                            how='left')\n",
    "    \n",
    "    # add titgen features\n",
    "    titgen_features_df = calc_titgen_features(df=hist_data)\n",
    "    daily_train_df = pd.merge(left=daily_train_df, \n",
    "                            right=titgen_features_df,\n",
    "                            left_on='product_title_gender',\n",
    "                            right_on='product_title_gender', \n",
    "                            how='left')\n",
    "    \n",
    "    # add user-gen features\n",
    "    user_gen_features_df = calc_user_gen_features(df=hist_data)\n",
    "    daily_train_df = pd.merge(left=daily_train_df, \n",
    "                            right=user_gen_features_df,\n",
    "                            left_on=['hash_customer', 'product_gender'],\n",
    "                            right_on=['hash_customer', 'product_gender'], \n",
    "                            how='left')\n",
    "\n",
    "    # add title features\n",
    "    title_features_df = calc_title_features(df=hist_data)\n",
    "    daily_train_df = pd.merge(left=daily_train_df, \n",
    "                            right=title_features_df,\n",
    "                            left_on='product_title',\n",
    "                            right_on='product_title', \n",
    "                            how='left')\n",
    "    \n",
    "    # add user-cat features\n",
    "    user_cat_features_df = calc_user_cat_features(df=hist_data)\n",
    "    daily_train_df = pd.merge(left=daily_train_df, \n",
    "                            right=user_cat_features_df,\n",
    "                            left_on=['hash_customer', 'product_category'],\n",
    "                            right_on=['hash_customer', 'product_category'], \n",
    "                            how='left')\n",
    "\n",
    "    # add cat features\n",
    "    cat_features_df = calc_category_features(as_of_dt=dt)\n",
    "    daily_train_df = pd.merge(left=daily_train_df, \n",
    "                            right=cat_features_df,\n",
    "                            left_on='product_category',\n",
    "                            right_on='product_category', \n",
    "                            how='left')\n",
    "\n",
    "    # gender\n",
    "    gen_features_df = calc_gen_features(as_of_dt=dt)\n",
    "    daily_train_df = pd.merge(left=daily_train_df, \n",
    "                            right=gen_features_df,\n",
    "                            left_on='product_gender',\n",
    "                            right_on='product_gender', \n",
    "                            how='left')\n",
    "\n",
    "    # gender-cat features?\n",
    "    \n",
    "    train_df = pd.concat([train_df, daily_train_df])\n",
    "    print(train_df.shape[0], end=',')"
   ]
  },
  {
   "cell_type": "code",
   "execution_count": 102,
   "id": "311cb543",
   "metadata": {},
   "outputs": [
    {
     "data": {
      "text/plain": [
       "0    5916\n",
       "1    2958\n",
       "Name: purchase, dtype: int64"
      ]
     },
     "execution_count": 102,
     "metadata": {},
     "output_type": "execute_result"
    }
   ],
   "source": [
    "train_df['purchase'].value_counts()"
   ]
  },
  {
   "cell_type": "code",
   "execution_count": 103,
   "id": "3ba513c5",
   "metadata": {},
   "outputs": [
    {
     "data": {
      "text/plain": [
       "(8874, 31)"
      ]
     },
     "execution_count": 103,
     "metadata": {},
     "output_type": "execute_result"
    }
   ],
   "source": [
    "train_df.shape"
   ]
  },
  {
   "cell_type": "code",
   "execution_count": 104,
   "id": "25807817",
   "metadata": {},
   "outputs": [],
   "source": [
    "# Fill missing values with 0\n",
    "\n",
    "fill_na_fields = [\n",
    "    'user_trans_cnt', 'user_avg_prod_cost', \n",
    "    'titgen_title_cnt', 'titgen_trans_cnt', 'titgen_tot_sales','titgen_avg_prod_cost',\n",
    "    'user_gen_trans_cnt', 'user_gen_avg_prod_cost',\n",
    "    'title_tot_sales',\n",
    "    'cat_sales10','cat_sales30','cat_sales90','cat_sales_all',\n",
    "    'gen_sales10','gen_sales30','gen_sales90','gen_sales_all',\n",
    "    'user_cat_trans_cnt', 'user_cat_avg_prod_cost'\n",
    "]\n",
    "\n",
    "train_df[fill_na_fields] = train_df[fill_na_fields].fillna(0)"
   ]
  },
  {
   "cell_type": "code",
   "execution_count": 105,
   "id": "efdb9a22",
   "metadata": {},
   "outputs": [
    {
     "data": {
      "text/html": [
       "<div>\n",
       "<style scoped>\n",
       "    .dataframe tbody tr th:only-of-type {\n",
       "        vertical-align: middle;\n",
       "    }\n",
       "\n",
       "    .dataframe tbody tr th {\n",
       "        vertical-align: top;\n",
       "    }\n",
       "\n",
       "    .dataframe thead th {\n",
       "        text-align: right;\n",
       "    }\n",
       "</style>\n",
       "<table border=\"1\" class=\"dataframe\">\n",
       "  <thead>\n",
       "    <tr style=\"text-align: right;\">\n",
       "      <th></th>\n",
       "      <th>timestamp</th>\n",
       "      <th>transaction_id</th>\n",
       "      <th>hash_customer</th>\n",
       "      <th>sale_amount</th>\n",
       "      <th>product_title</th>\n",
       "      <th>product_color</th>\n",
       "      <th>product_gender</th>\n",
       "      <th>product_category</th>\n",
       "      <th>referrer_source</th>\n",
       "      <th>product_title_gender</th>\n",
       "      <th>...</th>\n",
       "      <th>user_cat_trans_cnt</th>\n",
       "      <th>user_cat_avg_prod_cost</th>\n",
       "      <th>cat_sales10</th>\n",
       "      <th>cat_sales30</th>\n",
       "      <th>cat_sales90</th>\n",
       "      <th>cat_sales_all</th>\n",
       "      <th>gen_sales10</th>\n",
       "      <th>gen_sales30</th>\n",
       "      <th>gen_sales90</th>\n",
       "      <th>gen_sales_all</th>\n",
       "    </tr>\n",
       "  </thead>\n",
       "  <tbody>\n",
       "    <tr>\n",
       "      <th>0</th>\n",
       "      <td>2022-05-31 19:00:00</td>\n",
       "      <td>16581398884097886552</td>\n",
       "      <td>15198877838021382648</td>\n",
       "      <td>147.0</td>\n",
       "      <td>Hustler Boot</td>\n",
       "      <td>Green (Munsell)</td>\n",
       "      <td>Men</td>\n",
       "      <td>Boot</td>\n",
       "      <td>Search</td>\n",
       "      <td>Hustler Boot-Men</td>\n",
       "      <td>...</td>\n",
       "      <td>0.0</td>\n",
       "      <td>0.0</td>\n",
       "      <td>47</td>\n",
       "      <td>154</td>\n",
       "      <td>683</td>\n",
       "      <td>4449</td>\n",
       "      <td>81</td>\n",
       "      <td>242</td>\n",
       "      <td>918</td>\n",
       "      <td>6251</td>\n",
       "    </tr>\n",
       "    <tr>\n",
       "      <th>1</th>\n",
       "      <td>2022-05-31 19:00:00</td>\n",
       "      <td>16581398884097886552</td>\n",
       "      <td>15198877838021382648</td>\n",
       "      <td>194.0</td>\n",
       "      <td>Olympic Running</td>\n",
       "      <td>Midnight Green (Eagle Green)</td>\n",
       "      <td>Kids</td>\n",
       "      <td>Running</td>\n",
       "      <td>Search</td>\n",
       "      <td>Olympic Running-Kids</td>\n",
       "      <td>...</td>\n",
       "      <td>1.0</td>\n",
       "      <td>194.0</td>\n",
       "      <td>171</td>\n",
       "      <td>539</td>\n",
       "      <td>2398</td>\n",
       "      <td>15263</td>\n",
       "      <td>19</td>\n",
       "      <td>48</td>\n",
       "      <td>158</td>\n",
       "      <td>978</td>\n",
       "    </tr>\n",
       "    <tr>\n",
       "      <th>2</th>\n",
       "      <td>2022-05-31 19:00:00</td>\n",
       "      <td>13134723676664196992</td>\n",
       "      <td>5444806271892860831</td>\n",
       "      <td>234.0</td>\n",
       "      <td>Vanguard Sandal</td>\n",
       "      <td>Dartmouth Green</td>\n",
       "      <td>Kids</td>\n",
       "      <td>Sandal</td>\n",
       "      <td>Direct</td>\n",
       "      <td>Vanguard Sandal-Kids</td>\n",
       "      <td>...</td>\n",
       "      <td>0.0</td>\n",
       "      <td>0.0</td>\n",
       "      <td>30</td>\n",
       "      <td>91</td>\n",
       "      <td>490</td>\n",
       "      <td>2403</td>\n",
       "      <td>19</td>\n",
       "      <td>48</td>\n",
       "      <td>158</td>\n",
       "      <td>978</td>\n",
       "    </tr>\n",
       "    <tr>\n",
       "      <th>3</th>\n",
       "      <td>2022-05-31 19:00:00</td>\n",
       "      <td>13134723676664196992</td>\n",
       "      <td>5444806271892860831</td>\n",
       "      <td>141.0</td>\n",
       "      <td>Rogue Sneaker</td>\n",
       "      <td>Ruby Red</td>\n",
       "      <td>Men</td>\n",
       "      <td>Sneaker</td>\n",
       "      <td>Direct</td>\n",
       "      <td>Rogue Sneaker-Men</td>\n",
       "      <td>...</td>\n",
       "      <td>0.0</td>\n",
       "      <td>0.0</td>\n",
       "      <td>31</td>\n",
       "      <td>111</td>\n",
       "      <td>555</td>\n",
       "      <td>3769</td>\n",
       "      <td>81</td>\n",
       "      <td>242</td>\n",
       "      <td>918</td>\n",
       "      <td>6251</td>\n",
       "    </tr>\n",
       "    <tr>\n",
       "      <th>4</th>\n",
       "      <td>2022-05-31 19:00:00</td>\n",
       "      <td>16581398884097886552</td>\n",
       "      <td>15198877838021382648</td>\n",
       "      <td>198.0</td>\n",
       "      <td>Rogue Sneaker</td>\n",
       "      <td>Electric Purple</td>\n",
       "      <td>Youth</td>\n",
       "      <td>Sneaker</td>\n",
       "      <td>Search</td>\n",
       "      <td>Rogue Sneaker-Youth</td>\n",
       "      <td>...</td>\n",
       "      <td>0.0</td>\n",
       "      <td>0.0</td>\n",
       "      <td>31</td>\n",
       "      <td>111</td>\n",
       "      <td>555</td>\n",
       "      <td>3769</td>\n",
       "      <td>7</td>\n",
       "      <td>19</td>\n",
       "      <td>92</td>\n",
       "      <td>710</td>\n",
       "    </tr>\n",
       "  </tbody>\n",
       "</table>\n",
       "<p>5 rows × 31 columns</p>\n",
       "</div>"
      ],
      "text/plain": [
       "            timestamp        transaction_id         hash_customer  \\\n",
       "0 2022-05-31 19:00:00  16581398884097886552  15198877838021382648   \n",
       "1 2022-05-31 19:00:00  16581398884097886552  15198877838021382648   \n",
       "2 2022-05-31 19:00:00  13134723676664196992   5444806271892860831   \n",
       "3 2022-05-31 19:00:00  13134723676664196992   5444806271892860831   \n",
       "4 2022-05-31 19:00:00  16581398884097886552  15198877838021382648   \n",
       "\n",
       "   sale_amount    product_title                 product_color product_gender  \\\n",
       "0        147.0     Hustler Boot               Green (Munsell)            Men   \n",
       "1        194.0  Olympic Running  Midnight Green (Eagle Green)           Kids   \n",
       "2        234.0  Vanguard Sandal               Dartmouth Green           Kids   \n",
       "3        141.0    Rogue Sneaker                      Ruby Red            Men   \n",
       "4        198.0    Rogue Sneaker               Electric Purple          Youth   \n",
       "\n",
       "  product_category referrer_source  product_title_gender  ...  \\\n",
       "0             Boot          Search      Hustler Boot-Men  ...   \n",
       "1          Running          Search  Olympic Running-Kids  ...   \n",
       "2           Sandal          Direct  Vanguard Sandal-Kids  ...   \n",
       "3          Sneaker          Direct     Rogue Sneaker-Men  ...   \n",
       "4          Sneaker          Search   Rogue Sneaker-Youth  ...   \n",
       "\n",
       "  user_cat_trans_cnt  user_cat_avg_prod_cost  cat_sales10  cat_sales30  \\\n",
       "0                0.0                     0.0           47          154   \n",
       "1                1.0                   194.0          171          539   \n",
       "2                0.0                     0.0           30           91   \n",
       "3                0.0                     0.0           31          111   \n",
       "4                0.0                     0.0           31          111   \n",
       "\n",
       "   cat_sales90  cat_sales_all  gen_sales10  gen_sales30  gen_sales90  \\\n",
       "0          683           4449           81          242          918   \n",
       "1         2398          15263           19           48          158   \n",
       "2          490           2403           19           48          158   \n",
       "3          555           3769           81          242          918   \n",
       "4          555           3769            7           19           92   \n",
       "\n",
       "   gen_sales_all  \n",
       "0           6251  \n",
       "1            978  \n",
       "2            978  \n",
       "3           6251  \n",
       "4            710  \n",
       "\n",
       "[5 rows x 31 columns]"
      ]
     },
     "execution_count": 105,
     "metadata": {},
     "output_type": "execute_result"
    }
   ],
   "source": [
    "train_df.head()"
   ]
  },
  {
   "cell_type": "code",
   "execution_count": 106,
   "id": "d80d352e",
   "metadata": {},
   "outputs": [
    {
     "data": {
      "text/plain": [
       "Index(['timestamp', 'transaction_id', 'hash_customer', 'sale_amount',\n",
       "       'product_title', 'product_color', 'product_gender', 'product_category',\n",
       "       'referrer_source', 'product_title_gender', 'transaction_num',\n",
       "       'purchase', 'user_trans_cnt', 'user_avg_prod_cost', 'titgen_title_cnt',\n",
       "       'titgen_trans_cnt', 'titgen_tot_sales', 'titgen_avg_prod_cost',\n",
       "       'user_gen_trans_cnt', 'user_gen_avg_prod_cost', 'title_tot_sales',\n",
       "       'user_cat_trans_cnt', 'user_cat_avg_prod_cost', 'cat_sales10',\n",
       "       'cat_sales30', 'cat_sales90', 'cat_sales_all', 'gen_sales10',\n",
       "       'gen_sales30', 'gen_sales90', 'gen_sales_all'],\n",
       "      dtype='object')"
      ]
     },
     "execution_count": 106,
     "metadata": {},
     "output_type": "execute_result"
    }
   ],
   "source": [
    "train_df.columns"
   ]
  },
  {
   "cell_type": "code",
   "execution_count": null,
   "id": "8d179711",
   "metadata": {},
   "outputs": [],
   "source": []
  },
  {
   "cell_type": "code",
   "execution_count": 107,
   "id": "8efcb82d",
   "metadata": {},
   "outputs": [],
   "source": [
    "title_gender_model_fields = [\n",
    "    # 'sale_amount',\n",
    "    # 'referrer_source',\n",
    "    'user_trans_cnt', 'user_avg_prod_cost', \n",
    "    'titgen_title_cnt', 'titgen_trans_cnt', 'titgen_tot_sales','titgen_avg_prod_cost',\n",
    "    'user_gen_trans_cnt', 'user_gen_avg_prod_cost',\n",
    "    'title_tot_sales',\n",
    "    'cat_sales10','cat_sales30','cat_sales90','cat_sales_all',\n",
    "    'gen_sales10','gen_sales30','gen_sales90','gen_sales_all',\n",
    "    'user_cat_trans_cnt', 'user_cat_avg_prod_cost'\n",
    "]"
   ]
  },
  {
   "cell_type": "markdown",
   "id": "f859be82",
   "metadata": {},
   "source": [
    "#### Logistic Regression"
   ]
  },
  {
   "cell_type": "code",
   "execution_count": 108,
   "id": "09819a40",
   "metadata": {},
   "outputs": [],
   "source": [
    "from sklearn.linear_model import LogisticRegression\n",
    "from sklearn.preprocessing import StandardScaler"
   ]
  },
  {
   "cell_type": "code",
   "execution_count": 109,
   "id": "f31681e0",
   "metadata": {},
   "outputs": [
    {
     "data": {
      "text/plain": [
       "StandardScaler()"
      ]
     },
     "execution_count": 109,
     "metadata": {},
     "output_type": "execute_result"
    }
   ],
   "source": [
    "scaler = StandardScaler()\n",
    "scaler.fit(train_df[title_gender_model_fields])"
   ]
  },
  {
   "cell_type": "code",
   "execution_count": 110,
   "id": "71d481d7",
   "metadata": {},
   "outputs": [],
   "source": [
    "scaled_df = scaler.transform(train_df[title_gender_model_fields])"
   ]
  },
  {
   "cell_type": "code",
   "execution_count": 111,
   "id": "25bdd0f0",
   "metadata": {},
   "outputs": [],
   "source": [
    "# create a logistic regression model with default parameters\n",
    "title_gender_lr_model = LogisticRegression()"
   ]
  },
  {
   "cell_type": "code",
   "execution_count": 112,
   "id": "26699453",
   "metadata": {},
   "outputs": [
    {
     "name": "stderr",
     "output_type": "stream",
     "text": [
      "C:\\Users\\jerem\\anaconda3\\lib\\site-packages\\sklearn\\linear_model\\_logistic.py:763: ConvergenceWarning: lbfgs failed to converge (status=1):\n",
      "STOP: TOTAL NO. of ITERATIONS REACHED LIMIT.\n",
      "\n",
      "Increase the number of iterations (max_iter) or scale the data as shown in:\n",
      "    https://scikit-learn.org/stable/modules/preprocessing.html\n",
      "Please also refer to the documentation for alternative solver options:\n",
      "    https://scikit-learn.org/stable/modules/linear_model.html#logistic-regression\n",
      "  n_iter_i = _check_optimize_result(\n"
     ]
    },
    {
     "data": {
      "text/plain": [
       "LogisticRegression()"
      ]
     },
     "execution_count": 112,
     "metadata": {},
     "output_type": "execute_result"
    }
   ],
   "source": [
    "# fit the model to the training data\n",
    "title_gender_lr_model.fit(X=scaled_df, \n",
    "             y=train_df['purchase'])"
   ]
  },
  {
   "cell_type": "code",
   "execution_count": 113,
   "id": "be118ddf",
   "metadata": {},
   "outputs": [],
   "source": [
    "train_preds = title_gender_lr_model.predict_proba(scaled_df)"
   ]
  },
  {
   "cell_type": "code",
   "execution_count": 114,
   "id": "6b177e4c",
   "metadata": {},
   "outputs": [
    {
     "data": {
      "text/plain": [
       "array([0.42436993, 0.16517175, 0.00923351, ..., 0.72647115, 0.66814934,\n",
       "       0.66814934])"
      ]
     },
     "execution_count": 114,
     "metadata": {},
     "output_type": "execute_result"
    }
   ],
   "source": [
    "train_preds[:,1]"
   ]
  },
  {
   "cell_type": "code",
   "execution_count": 115,
   "id": "dc153234",
   "metadata": {},
   "outputs": [
    {
     "name": "stdout",
     "output_type": "stream",
     "text": [
      "             feature_name      coef\n",
      "2        titgen_title_cnt  4.432715\n",
      "4        titgen_tot_sales -4.331808\n",
      "5    titgen_avg_prod_cost  1.263874\n",
      "0          user_trans_cnt -1.167935\n",
      "7  user_gen_avg_prod_cost  0.917610\n"
     ]
    }
   ],
   "source": [
    "# Create a DataFrame of the feature coefficients and their corresponding names\n",
    "coef_df = pd.DataFrame({'feature_name': title_gender_model_fields, \n",
    "                        'coef': title_gender_lr_model.coef_[0]})\n",
    "\n",
    "# Sort the DataFrame by absolute value of the coefficient (i.e. feature importance)\n",
    "coef_df = coef_df.reindex(coef_df['coef'].abs().sort_values(ascending=False).index)\n",
    "\n",
    "# Print the feature importance\n",
    "print(coef_df[0:5])"
   ]
  },
  {
   "cell_type": "code",
   "execution_count": null,
   "id": "e8818387",
   "metadata": {},
   "outputs": [],
   "source": []
  },
  {
   "cell_type": "code",
   "execution_count": 116,
   "id": "8869f3bd",
   "metadata": {},
   "outputs": [],
   "source": [
    "from sklearn.metrics import roc_curve, auc\n",
    "import matplotlib.pyplot as plt"
   ]
  },
  {
   "cell_type": "code",
   "execution_count": 117,
   "id": "39c1ac5d",
   "metadata": {},
   "outputs": [],
   "source": [
    "y_train_pred = title_gender_lr_model.predict(scaled_df)\n",
    "y_train_prob = title_gender_lr_model.predict_proba(scaled_df)[:,1]"
   ]
  },
  {
   "cell_type": "code",
   "execution_count": 118,
   "id": "d17598a2",
   "metadata": {},
   "outputs": [],
   "source": [
    "fpr, tpr, _ = roc_curve(train_df['purchase'], y_train_prob)\n",
    "roc_auc = auc(fpr, tpr)"
   ]
  },
  {
   "cell_type": "code",
   "execution_count": 119,
   "id": "8a3f8962",
   "metadata": {},
   "outputs": [
    {
     "data": {
      "image/png": "[encoded data removed]",
      "text/plain": [
       "<Figure size 432x288 with 1 Axes>"
      ]
     },
     "metadata": {
      "needs_background": "light"
     },
     "output_type": "display_data"
    }
   ],
   "source": [
    "# Plot the ROC curve\n",
    "plt.plot(fpr, tpr, color='darkorange', label='ROC curve (AUC = %0.2f)' % roc_auc)\n",
    "plt.plot([0, 1], [0, 1], color='navy', linestyle='--')\n",
    "plt.xlabel('False Positive Rate')\n",
    "plt.ylabel('True Positive Rate')\n",
    "plt.title('Receiver Operating Characteristic (ROC) Curve')\n",
    "plt.legend(loc=\"lower right\")\n",
    "plt.show()"
   ]
  },
  {
   "cell_type": "code",
   "execution_count": null,
   "id": "618c0f20",
   "metadata": {},
   "outputs": [],
   "source": []
  },
  {
   "cell_type": "code",
   "execution_count": 120,
   "id": "0d4850f7",
   "metadata": {},
   "outputs": [
    {
     "data": {
      "text/plain": [
       "(361375, 8)"
      ]
     },
     "execution_count": 120,
     "metadata": {},
     "output_type": "execute_result"
    }
   ],
   "source": [
    "# create inference data set from product catalog cross join to test transactions\n",
    "inferrence_df = pd.merge(left=toy_products_df[['product_title', 'product_gender', 'product_category']].drop_duplicates(), \n",
    "                          right=test[['timestamp', 'hash_customer', 'referrer_source', 'product_title_gender', 'transaction_num']].drop_duplicates(), \n",
    "                          how='cross')\n",
    "\n",
    "inferrence_df.shape"
   ]
  },
  {
   "cell_type": "code",
   "execution_count": 121,
   "id": "9c928cd7",
   "metadata": {},
   "outputs": [],
   "source": [
    "test_hist_df = toy_dataset_df[(toy_dataset_df['timestamp'].dt.date < pd.to_datetime(split_date))]"
   ]
  },
  {
   "cell_type": "code",
   "execution_count": 122,
   "id": "71fd65fb",
   "metadata": {},
   "outputs": [],
   "source": [
    "# add user features\n",
    "user_features_df = calc_user_features(df=test_hist_df)\n",
    "inferrence_df = pd.merge(left=inferrence_df, \n",
    "                        right=user_features_df,\n",
    "                        left_on='hash_customer',\n",
    "                        right_on='hash_customer', \n",
    "                        how='left')"
   ]
  },
  {
   "cell_type": "code",
   "execution_count": 123,
   "id": "afac71b6",
   "metadata": {},
   "outputs": [],
   "source": [
    "# add titgen features\n",
    "titgen_features_df = calc_titgen_features(df=test_hist_df)\n",
    "inferrence_df = pd.merge(left=inferrence_df, \n",
    "                        right=titgen_features_df,\n",
    "                        left_on='product_title_gender',\n",
    "                        right_on='product_title_gender', \n",
    "                        how='left')"
   ]
  },
  {
   "cell_type": "code",
   "execution_count": 124,
   "id": "7789ff03",
   "metadata": {},
   "outputs": [],
   "source": [
    "# add user-gen features\n",
    "user_gen_features_df = calc_user_gen_features(df=test_hist_df)\n",
    "inferrence_df = pd.merge(left=inferrence_df, \n",
    "                        right=user_gen_features_df,\n",
    "                        left_on=['hash_customer', 'product_gender'],\n",
    "                        right_on=['hash_customer', 'product_gender'], \n",
    "                        how='left')"
   ]
  },
  {
   "cell_type": "code",
   "execution_count": 125,
   "id": "d4689a3e",
   "metadata": {},
   "outputs": [],
   "source": [
    "# add title features\n",
    "title_features_df = calc_title_features(df=test_hist_df)\n",
    "inferrence_df = pd.merge(left=inferrence_df, \n",
    "                        right=title_features_df,\n",
    "                        left_on='product_title',\n",
    "                        right_on='product_title', \n",
    "                        how='left')"
   ]
  },
  {
   "cell_type": "code",
   "execution_count": 126,
   "id": "4a9054b1",
   "metadata": {},
   "outputs": [],
   "source": [
    "# add user-cat features\n",
    "user_cat_features_df = calc_user_cat_features(df=test_hist_df)\n",
    "inferrence_df = pd.merge(left=inferrence_df, \n",
    "                    right=user_cat_features_df,\n",
    "                    left_on=['hash_customer', 'product_category'],\n",
    "                    right_on=['hash_customer', 'product_category'], \n",
    "                    how='left')"
   ]
  },
  {
   "cell_type": "code",
   "execution_count": 127,
   "id": "7b377a67",
   "metadata": {},
   "outputs": [],
   "source": [
    "# add cat features\n",
    "cat_features_df = calc_category_features(as_of_dt=split_date)\n",
    "inferrence_df = pd.merge(left=inferrence_df, \n",
    "                    right=cat_features_df,\n",
    "                    left_on='product_category',\n",
    "                    right_on='product_category', \n",
    "                    how='left')"
   ]
  },
  {
   "cell_type": "code",
   "execution_count": 128,
   "id": "c0ed9e6a",
   "metadata": {},
   "outputs": [],
   "source": [
    "# gender\n",
    "gen_features_df = calc_gen_features(as_of_dt=dt)\n",
    "inferrence_df = pd.merge(left=inferrence_df, \n",
    "                        right=gen_features_df,\n",
    "                        left_on='product_gender',\n",
    "                        right_on='product_gender', \n",
    "                        how='left')"
   ]
  },
  {
   "cell_type": "code",
   "execution_count": 129,
   "id": "65feea94",
   "metadata": {},
   "outputs": [
    {
     "data": {
      "text/plain": [
       "(361375, 27)"
      ]
     },
     "execution_count": 129,
     "metadata": {},
     "output_type": "execute_result"
    }
   ],
   "source": [
    "inferrence_df.shape"
   ]
  },
  {
   "cell_type": "code",
   "execution_count": 130,
   "id": "ce57214d",
   "metadata": {},
   "outputs": [],
   "source": [
    "inferrence_df[fill_na_fields] = inferrence_df[fill_na_fields].fillna(0)"
   ]
  },
  {
   "cell_type": "code",
   "execution_count": 131,
   "id": "83d94935",
   "metadata": {},
   "outputs": [],
   "source": [
    "scaled_test_df = scaler.transform(inferrence_df[title_gender_model_fields])"
   ]
  },
  {
   "cell_type": "code",
   "execution_count": 132,
   "id": "33497277",
   "metadata": {},
   "outputs": [],
   "source": [
    "test_preds = title_gender_lr_model.predict_proba(scaled_test_df)"
   ]
  },
  {
   "cell_type": "code",
   "execution_count": 133,
   "id": "0d1ddf38",
   "metadata": {},
   "outputs": [
    {
     "data": {
      "text/plain": [
       "array([0.00327784, 0.00457377, 0.00505446, ..., 0.55715956, 0.84530023,\n",
       "       0.75621858])"
      ]
     },
     "execution_count": 133,
     "metadata": {},
     "output_type": "execute_result"
    }
   ],
   "source": [
    "test_preds[:,1]"
   ]
  },
  {
   "cell_type": "code",
   "execution_count": 134,
   "id": "1f05d542",
   "metadata": {},
   "outputs": [
    {
     "data": {
      "text/plain": [
       "361375"
      ]
     },
     "execution_count": 134,
     "metadata": {},
     "output_type": "execute_result"
    }
   ],
   "source": [
    "len(test_preds)"
   ]
  },
  {
   "cell_type": "code",
   "execution_count": 135,
   "id": "a200b650",
   "metadata": {},
   "outputs": [],
   "source": [
    "inferrence_df['pred'] = test_preds[:,1]"
   ]
  },
  {
   "cell_type": "code",
   "execution_count": 136,
   "id": "be625e2f",
   "metadata": {},
   "outputs": [],
   "source": [
    "inferrence_df['pred_rank'] = inferrence_df.groupby(['hash_customer','timestamp'])['pred'].rank(method='first', ascending=False)"
   ]
  },
  {
   "cell_type": "code",
   "execution_count": 137,
   "id": "fb01bbc1",
   "metadata": {},
   "outputs": [
    {
     "data": {
      "text/plain": [
       "(24340, 29)"
      ]
     },
     "execution_count": 137,
     "metadata": {},
     "output_type": "execute_result"
    }
   ],
   "source": [
    "sorted_df = inferrence_df.sort_values(['hash_customer', 'timestamp', 'pred'], \n",
    "                                       ascending=[True, True, False])\n",
    "top10_preds_df = sorted_df.groupby(['hash_customer', 'timestamp']).head(10)\n",
    "top10_preds_df.shape"
   ]
  },
  {
   "cell_type": "code",
   "execution_count": 138,
   "id": "8b1735eb",
   "metadata": {},
   "outputs": [
    {
     "data": {
      "text/plain": [
       "Sandal     12150\n",
       "Running     7192\n",
       "Boot        3082\n",
       "Sneaker     1916\n",
       "Name: product_category, dtype: int64"
      ]
     },
     "execution_count": 138,
     "metadata": {},
     "output_type": "execute_result"
    }
   ],
   "source": [
    "top10_preds_df['product_category'].value_counts()"
   ]
  },
  {
   "cell_type": "code",
   "execution_count": 139,
   "id": "636c734f",
   "metadata": {},
   "outputs": [
    {
     "data": {
      "text/html": [
       "<div>\n",
       "<style scoped>\n",
       "    .dataframe tbody tr th:only-of-type {\n",
       "        vertical-align: middle;\n",
       "    }\n",
       "\n",
       "    .dataframe tbody tr th {\n",
       "        vertical-align: top;\n",
       "    }\n",
       "\n",
       "    .dataframe thead th {\n",
       "        text-align: right;\n",
       "    }\n",
       "</style>\n",
       "<table border=\"1\" class=\"dataframe\">\n",
       "  <thead>\n",
       "    <tr style=\"text-align: right;\">\n",
       "      <th></th>\n",
       "      <th>Unnamed: 0</th>\n",
       "      <th>timestamp</th>\n",
       "      <th>transaction_id</th>\n",
       "      <th>hash_customer</th>\n",
       "      <th>sale_amount</th>\n",
       "      <th>product_title</th>\n",
       "      <th>product_color</th>\n",
       "      <th>product_gender</th>\n",
       "      <th>product_category</th>\n",
       "      <th>product_size</th>\n",
       "      <th>...</th>\n",
       "      <th>zip_med_age</th>\n",
       "      <th>zip_male_female_ratio</th>\n",
       "      <th>zip_tot_pop</th>\n",
       "      <th>zip_tot_white_nh</th>\n",
       "      <th>zip_med_hh_income</th>\n",
       "      <th>zip_mean_hh_income</th>\n",
       "      <th>zip_pct_emp_lf</th>\n",
       "      <th>zip_unemp_rate</th>\n",
       "      <th>transaction_num</th>\n",
       "      <th>product_title_gender</th>\n",
       "    </tr>\n",
       "  </thead>\n",
       "  <tbody>\n",
       "    <tr>\n",
       "      <th>99</th>\n",
       "      <td>148</td>\n",
       "      <td>2022-06-11 20:00:00</td>\n",
       "      <td>16924928935687922810</td>\n",
       "      <td>16884786084583649830</td>\n",
       "      <td>111.0</td>\n",
       "      <td>Olympic Running</td>\n",
       "      <td>Yellow-Green</td>\n",
       "      <td>Youth</td>\n",
       "      <td>Running</td>\n",
       "      <td>1.5</td>\n",
       "      <td>...</td>\n",
       "      <td>34.6</td>\n",
       "      <td>98.7</td>\n",
       "      <td>39355.0</td>\n",
       "      <td>12850.0</td>\n",
       "      <td>119397.0</td>\n",
       "      <td>148191.0</td>\n",
       "      <td>71.6</td>\n",
       "      <td>4.2</td>\n",
       "      <td>23.0</td>\n",
       "      <td>Olympic Running-Youth</td>\n",
       "    </tr>\n",
       "    <tr>\n",
       "      <th>100</th>\n",
       "      <td>149</td>\n",
       "      <td>2022-06-11 20:00:00</td>\n",
       "      <td>16924928935687922810</td>\n",
       "      <td>16884786084583649830</td>\n",
       "      <td>111.0</td>\n",
       "      <td>Olympic Running</td>\n",
       "      <td>Burnt Sienna</td>\n",
       "      <td>Youth</td>\n",
       "      <td>Running</td>\n",
       "      <td>1.5</td>\n",
       "      <td>...</td>\n",
       "      <td>34.6</td>\n",
       "      <td>98.7</td>\n",
       "      <td>39355.0</td>\n",
       "      <td>12850.0</td>\n",
       "      <td>119397.0</td>\n",
       "      <td>148191.0</td>\n",
       "      <td>71.6</td>\n",
       "      <td>4.2</td>\n",
       "      <td>23.0</td>\n",
       "      <td>Olympic Running-Youth</td>\n",
       "    </tr>\n",
       "    <tr>\n",
       "      <th>101</th>\n",
       "      <td>150</td>\n",
       "      <td>2022-06-11 20:00:00</td>\n",
       "      <td>16924928935687922810</td>\n",
       "      <td>16884786084583649830</td>\n",
       "      <td>224.0</td>\n",
       "      <td>League Running</td>\n",
       "      <td>Mordant Red 19</td>\n",
       "      <td>Men</td>\n",
       "      <td>Running</td>\n",
       "      <td>11.5</td>\n",
       "      <td>...</td>\n",
       "      <td>34.6</td>\n",
       "      <td>98.7</td>\n",
       "      <td>39355.0</td>\n",
       "      <td>12850.0</td>\n",
       "      <td>119397.0</td>\n",
       "      <td>148191.0</td>\n",
       "      <td>71.6</td>\n",
       "      <td>4.2</td>\n",
       "      <td>23.0</td>\n",
       "      <td>League Running-Men</td>\n",
       "    </tr>\n",
       "    <tr>\n",
       "      <th>102</th>\n",
       "      <td>151</td>\n",
       "      <td>2022-06-11 20:00:00</td>\n",
       "      <td>16924928935687922810</td>\n",
       "      <td>16884786084583649830</td>\n",
       "      <td>224.0</td>\n",
       "      <td>Olympic Running</td>\n",
       "      <td>Selective Yellow</td>\n",
       "      <td>Women</td>\n",
       "      <td>Running</td>\n",
       "      <td>11.0</td>\n",
       "      <td>...</td>\n",
       "      <td>34.6</td>\n",
       "      <td>98.7</td>\n",
       "      <td>39355.0</td>\n",
       "      <td>12850.0</td>\n",
       "      <td>119397.0</td>\n",
       "      <td>148191.0</td>\n",
       "      <td>71.6</td>\n",
       "      <td>4.2</td>\n",
       "      <td>23.0</td>\n",
       "      <td>Olympic Running-Women</td>\n",
       "    </tr>\n",
       "    <tr>\n",
       "      <th>103</th>\n",
       "      <td>152</td>\n",
       "      <td>2022-06-11 20:00:00</td>\n",
       "      <td>16924928935687922810</td>\n",
       "      <td>16884786084583649830</td>\n",
       "      <td>224.0</td>\n",
       "      <td>Olympic Running</td>\n",
       "      <td>Green (Munsell)</td>\n",
       "      <td>Men</td>\n",
       "      <td>Running</td>\n",
       "      <td>11.5</td>\n",
       "      <td>...</td>\n",
       "      <td>34.6</td>\n",
       "      <td>98.7</td>\n",
       "      <td>39355.0</td>\n",
       "      <td>12850.0</td>\n",
       "      <td>119397.0</td>\n",
       "      <td>148191.0</td>\n",
       "      <td>71.6</td>\n",
       "      <td>4.2</td>\n",
       "      <td>23.0</td>\n",
       "      <td>Olympic Running-Men</td>\n",
       "    </tr>\n",
       "  </tbody>\n",
       "</table>\n",
       "<p>5 rows × 25 columns</p>\n",
       "</div>"
      ],
      "text/plain": [
       "     Unnamed: 0           timestamp        transaction_id  \\\n",
       "99          148 2022-06-11 20:00:00  16924928935687922810   \n",
       "100         149 2022-06-11 20:00:00  16924928935687922810   \n",
       "101         150 2022-06-11 20:00:00  16924928935687922810   \n",
       "102         151 2022-06-11 20:00:00  16924928935687922810   \n",
       "103         152 2022-06-11 20:00:00  16924928935687922810   \n",
       "\n",
       "            hash_customer  sale_amount    product_title     product_color  \\\n",
       "99   16884786084583649830        111.0  Olympic Running      Yellow-Green   \n",
       "100  16884786084583649830        111.0  Olympic Running      Burnt Sienna   \n",
       "101  16884786084583649830        224.0   League Running    Mordant Red 19   \n",
       "102  16884786084583649830        224.0  Olympic Running  Selective Yellow   \n",
       "103  16884786084583649830        224.0  Olympic Running   Green (Munsell)   \n",
       "\n",
       "    product_gender product_category  product_size  ... zip_med_age  \\\n",
       "99           Youth          Running           1.5  ...        34.6   \n",
       "100          Youth          Running           1.5  ...        34.6   \n",
       "101            Men          Running          11.5  ...        34.6   \n",
       "102          Women          Running          11.0  ...        34.6   \n",
       "103            Men          Running          11.5  ...        34.6   \n",
       "\n",
       "    zip_male_female_ratio  zip_tot_pop  zip_tot_white_nh  zip_med_hh_income  \\\n",
       "99                   98.7      39355.0           12850.0           119397.0   \n",
       "100                  98.7      39355.0           12850.0           119397.0   \n",
       "101                  98.7      39355.0           12850.0           119397.0   \n",
       "102                  98.7      39355.0           12850.0           119397.0   \n",
       "103                  98.7      39355.0           12850.0           119397.0   \n",
       "\n",
       "     zip_mean_hh_income  zip_pct_emp_lf  zip_unemp_rate  transaction_num  \\\n",
       "99             148191.0            71.6             4.2             23.0   \n",
       "100            148191.0            71.6             4.2             23.0   \n",
       "101            148191.0            71.6             4.2             23.0   \n",
       "102            148191.0            71.6             4.2             23.0   \n",
       "103            148191.0            71.6             4.2             23.0   \n",
       "\n",
       "      product_title_gender  \n",
       "99   Olympic Running-Youth  \n",
       "100  Olympic Running-Youth  \n",
       "101     League Running-Men  \n",
       "102  Olympic Running-Women  \n",
       "103    Olympic Running-Men  \n",
       "\n",
       "[5 rows x 25 columns]"
      ]
     },
     "execution_count": 139,
     "metadata": {},
     "output_type": "execute_result"
    }
   ],
   "source": [
    "test.head()"
   ]
  },
  {
   "cell_type": "code",
   "execution_count": 140,
   "id": "7989f004",
   "metadata": {},
   "outputs": [],
   "source": [
    "# Join the recommended item predictions to the test data set on the transaction date\n",
    "test_eval_df = pd.merge(left=test, \n",
    "                   right=top10_preds_df[['hash_customer', 'timestamp', 'product_title', 'product_gender', 'pred_rank']], \n",
    "                   left_on=['hash_customer', 'timestamp', 'product_title','product_gender'],\n",
    "                   right_on=['hash_customer', 'timestamp', 'product_title', 'product_gender'],\n",
    "                   how='left')"
   ]
  },
  {
   "cell_type": "code",
   "execution_count": 141,
   "id": "746cab4a",
   "metadata": {},
   "outputs": [
    {
     "data": {
      "text/plain": [
       "(3523, 26)"
      ]
     },
     "execution_count": 141,
     "metadata": {},
     "output_type": "execute_result"
    }
   ],
   "source": [
    "test_eval_df.shape"
   ]
  },
  {
   "cell_type": "code",
   "execution_count": 142,
   "id": "4002f2ec",
   "metadata": {},
   "outputs": [
    {
     "data": {
      "text/plain": [
       "(3432, 25)"
      ]
     },
     "execution_count": 142,
     "metadata": {},
     "output_type": "execute_result"
    }
   ],
   "source": [
    "test.shape"
   ]
  },
  {
   "cell_type": "code",
   "execution_count": 143,
   "id": "380e98f3",
   "metadata": {},
   "outputs": [
    {
     "name": "stdout",
     "output_type": "stream",
     "text": [
      "Percent of purchases ranked in top 10: 37.0%\n",
      "Average rank of purchases: 5.69\n",
      "Mean Reciprocal Rank: 0.212\n"
     ]
    }
   ],
   "source": [
    "print_eval_metrics(eval_df=test_eval_df)"
   ]
  },
  {
   "cell_type": "code",
   "execution_count": 144,
   "id": "75cc74a9",
   "metadata": {},
   "outputs": [
    {
     "data": {
      "text/html": [
       "<div>\n",
       "<style scoped>\n",
       "    .dataframe tbody tr th:only-of-type {\n",
       "        vertical-align: middle;\n",
       "    }\n",
       "\n",
       "    .dataframe tbody tr th {\n",
       "        vertical-align: top;\n",
       "    }\n",
       "\n",
       "    .dataframe thead th {\n",
       "        text-align: right;\n",
       "    }\n",
       "</style>\n",
       "<table border=\"1\" class=\"dataframe\">\n",
       "  <thead>\n",
       "    <tr style=\"text-align: right;\">\n",
       "      <th></th>\n",
       "      <th>product_category</th>\n",
       "      <th>num_purchases</th>\n",
       "      <th>pct_purchases_top10</th>\n",
       "      <th>avg_rank</th>\n",
       "      <th>mrr</th>\n",
       "    </tr>\n",
       "  </thead>\n",
       "  <tbody>\n",
       "    <tr>\n",
       "      <th>0</th>\n",
       "      <td>Running</td>\n",
       "      <td>2136</td>\n",
       "      <td>44.0</td>\n",
       "      <td>5.45</td>\n",
       "      <td>0.222536</td>\n",
       "    </tr>\n",
       "    <tr>\n",
       "      <th>1</th>\n",
       "      <td>Sandal</td>\n",
       "      <td>383</td>\n",
       "      <td>25.0</td>\n",
       "      <td>6.52</td>\n",
       "      <td>0.161394</td>\n",
       "    </tr>\n",
       "    <tr>\n",
       "      <th>2</th>\n",
       "      <td>Boot</td>\n",
       "      <td>643</td>\n",
       "      <td>17.0</td>\n",
       "      <td>8.59</td>\n",
       "      <td>0.117174</td>\n",
       "    </tr>\n",
       "    <tr>\n",
       "      <th>3</th>\n",
       "      <td>Sneaker</td>\n",
       "      <td>361</td>\n",
       "      <td>39.0</td>\n",
       "      <td>4.46</td>\n",
       "      <td>0.248804</td>\n",
       "    </tr>\n",
       "  </tbody>\n",
       "</table>\n",
       "</div>"
      ],
      "text/plain": [
       "  product_category  num_purchases  pct_purchases_top10  avg_rank       mrr\n",
       "0          Running           2136                 44.0      5.45  0.222536\n",
       "1           Sandal            383                 25.0      6.52  0.161394\n",
       "2             Boot            643                 17.0      8.59  0.117174\n",
       "3          Sneaker            361                 39.0      4.46  0.248804"
      ]
     },
     "execution_count": 144,
     "metadata": {},
     "output_type": "execute_result"
    }
   ],
   "source": [
    "calc_category_eval_metrics(eval_df=test_eval_df, \n",
    "                            category_var = 'product_category')"
   ]
  },
  {
   "cell_type": "code",
   "execution_count": 145,
   "id": "ffbe6d8e",
   "metadata": {},
   "outputs": [
    {
     "data": {
      "text/html": [
       "<div>\n",
       "<style scoped>\n",
       "    .dataframe tbody tr th:only-of-type {\n",
       "        vertical-align: middle;\n",
       "    }\n",
       "\n",
       "    .dataframe tbody tr th {\n",
       "        vertical-align: top;\n",
       "    }\n",
       "\n",
       "    .dataframe thead th {\n",
       "        text-align: right;\n",
       "    }\n",
       "</style>\n",
       "<table border=\"1\" class=\"dataframe\">\n",
       "  <thead>\n",
       "    <tr style=\"text-align: right;\">\n",
       "      <th></th>\n",
       "      <th>product_gender</th>\n",
       "      <th>num_purchases</th>\n",
       "      <th>pct_purchases_top10</th>\n",
       "      <th>avg_rank</th>\n",
       "      <th>mrr</th>\n",
       "    </tr>\n",
       "  </thead>\n",
       "  <tbody>\n",
       "    <tr>\n",
       "      <th>0</th>\n",
       "      <td>Youth</td>\n",
       "      <td>147</td>\n",
       "      <td>22.0</td>\n",
       "      <td>6.56</td>\n",
       "      <td>0.165972</td>\n",
       "    </tr>\n",
       "    <tr>\n",
       "      <th>1</th>\n",
       "      <td>Men</td>\n",
       "      <td>1007</td>\n",
       "      <td>31.0</td>\n",
       "      <td>5.73</td>\n",
       "      <td>0.210482</td>\n",
       "    </tr>\n",
       "    <tr>\n",
       "      <th>2</th>\n",
       "      <td>Women</td>\n",
       "      <td>2098</td>\n",
       "      <td>44.0</td>\n",
       "      <td>5.64</td>\n",
       "      <td>0.214573</td>\n",
       "    </tr>\n",
       "    <tr>\n",
       "      <th>3</th>\n",
       "      <td>Kids</td>\n",
       "      <td>154</td>\n",
       "      <td>5.0</td>\n",
       "      <td>7.50</td>\n",
       "      <td>0.150000</td>\n",
       "    </tr>\n",
       "    <tr>\n",
       "      <th>4</th>\n",
       "      <td>Unisex</td>\n",
       "      <td>117</td>\n",
       "      <td>19.0</td>\n",
       "      <td>5.14</td>\n",
       "      <td>0.210227</td>\n",
       "    </tr>\n",
       "  </tbody>\n",
       "</table>\n",
       "</div>"
      ],
      "text/plain": [
       "  product_gender  num_purchases  pct_purchases_top10  avg_rank       mrr\n",
       "0          Youth            147                 22.0      6.56  0.165972\n",
       "1            Men           1007                 31.0      5.73  0.210482\n",
       "2          Women           2098                 44.0      5.64  0.214573\n",
       "3           Kids            154                  5.0      7.50  0.150000\n",
       "4         Unisex            117                 19.0      5.14  0.210227"
      ]
     },
     "execution_count": 145,
     "metadata": {},
     "output_type": "execute_result"
    }
   ],
   "source": [
    "calc_category_eval_metrics(eval_df=test_eval_df, \n",
    "                            category_var = 'product_gender')"
   ]
  },
  {
   "cell_type": "code",
   "execution_count": 146,
   "id": "d6f55248",
   "metadata": {},
   "outputs": [],
   "source": [
    "test_eval_df.loc[:,'trans_num_grp'] = np.where(test_eval_df['transaction_num']==1,'purch1', \n",
    "                                               np.where(test_eval_df['transaction_num']==2,'purch2', \n",
    "                                               np.where(test_eval_df['transaction_num']==3,'purch3', \n",
    "                                                        'purch4up')))"
   ]
  },
  {
   "cell_type": "code",
   "execution_count": 147,
   "id": "13686a66",
   "metadata": {},
   "outputs": [
    {
     "data": {
      "text/html": [
       "<div>\n",
       "<style scoped>\n",
       "    .dataframe tbody tr th:only-of-type {\n",
       "        vertical-align: middle;\n",
       "    }\n",
       "\n",
       "    .dataframe tbody tr th {\n",
       "        vertical-align: top;\n",
       "    }\n",
       "\n",
       "    .dataframe thead th {\n",
       "        text-align: right;\n",
       "    }\n",
       "</style>\n",
       "<table border=\"1\" class=\"dataframe\">\n",
       "  <thead>\n",
       "    <tr style=\"text-align: right;\">\n",
       "      <th></th>\n",
       "      <th>trans_num_grp</th>\n",
       "      <th>num_purchases</th>\n",
       "      <th>pct_purchases_top10</th>\n",
       "      <th>avg_rank</th>\n",
       "      <th>mrr</th>\n",
       "    </tr>\n",
       "  </thead>\n",
       "  <tbody>\n",
       "    <tr>\n",
       "      <th>0</th>\n",
       "      <td>purch4up</td>\n",
       "      <td>1396</td>\n",
       "      <td>45.0</td>\n",
       "      <td>5.84</td>\n",
       "      <td>0.209495</td>\n",
       "    </tr>\n",
       "    <tr>\n",
       "      <th>1</th>\n",
       "      <td>purch2</td>\n",
       "      <td>988</td>\n",
       "      <td>42.0</td>\n",
       "      <td>5.52</td>\n",
       "      <td>0.215449</td>\n",
       "    </tr>\n",
       "    <tr>\n",
       "      <th>2</th>\n",
       "      <td>purch3</td>\n",
       "      <td>574</td>\n",
       "      <td>44.0</td>\n",
       "      <td>5.60</td>\n",
       "      <td>0.211983</td>\n",
       "    </tr>\n",
       "    <tr>\n",
       "      <th>3</th>\n",
       "      <td>purch1</td>\n",
       "      <td>565</td>\n",
       "      <td>0.0</td>\n",
       "      <td>NaN</td>\n",
       "      <td>NaN</td>\n",
       "    </tr>\n",
       "  </tbody>\n",
       "</table>\n",
       "</div>"
      ],
      "text/plain": [
       "  trans_num_grp  num_purchases  pct_purchases_top10  avg_rank       mrr\n",
       "0      purch4up           1396                 45.0      5.84  0.209495\n",
       "1        purch2            988                 42.0      5.52  0.215449\n",
       "2        purch3            574                 44.0      5.60  0.211983\n",
       "3        purch1            565                  0.0       NaN       NaN"
      ]
     },
     "execution_count": 147,
     "metadata": {},
     "output_type": "execute_result"
    }
   ],
   "source": [
    "calc_category_eval_metrics(eval_df=test_eval_df, \n",
    "                            category_var = 'trans_num_grp')"
   ]
  },
  {
   "cell_type": "code",
   "execution_count": null,
   "id": "74727607",
   "metadata": {},
   "outputs": [],
   "source": []
  },
  {
   "cell_type": "code",
   "execution_count": null,
   "id": "fa61c876",
   "metadata": {},
   "outputs": [],
   "source": []
  },
  {
   "cell_type": "code",
   "execution_count": null,
   "id": "2fd228ff",
   "metadata": {},
   "outputs": [],
   "source": [
    "test_preds_eval_df.head()"
   ]
  },
  {
   "cell_type": "code",
   "execution_count": null,
   "id": "4b76fe65",
   "metadata": {},
   "outputs": [],
   "source": [
    "full_test_eval[full_test_eval['hash_customer']==6606248094173010] \\\n",
    "    .groupby('product_category').agg({\n",
    "        'pred': ['mean', 'count'],\n",
    "    })"
   ]
  },
  {
   "cell_type": "code",
   "execution_count": null,
   "id": "dcf08fbf",
   "metadata": {},
   "outputs": [],
   "source": []
  },
  {
   "cell_type": "code",
   "execution_count": null,
   "id": "ca1d8d35",
   "metadata": {},
   "outputs": [],
   "source": [
    "full_test_eval[full_test_eval['hash_customer']==6606248094173010].sort_values('pred_rank', ascending=True)"
   ]
  },
  {
   "cell_type": "code",
   "execution_count": null,
   "id": "4f4f38af",
   "metadata": {},
   "outputs": [],
   "source": [
    "full_test_eval.columns"
   ]
  },
  {
   "cell_type": "code",
   "execution_count": null,
   "id": "111f6313",
   "metadata": {},
   "outputs": [],
   "source": []
  },
  {
   "cell_type": "code",
   "execution_count": null,
   "id": "a912fcaf",
   "metadata": {},
   "outputs": [],
   "source": [
    "# Loop over test dates, create preds, join preds back to transactions to create eval_df\n",
    "\n",
    "NUM_DATES_TO_LOOP_OVER = 5\n",
    "\n",
    "full_eval_df = pd.DataFrame()\n",
    "\n",
    "for index, test_dt in enumerate(test_dates[0:NUM_DATES_TO_LOOP_OVER]):\n",
    "    print(index, end=',')\n",
    "    \n",
    "    pred_df = get_top10_title_gender_preds(as_of_dt=test_dt)\n",
    "    \n",
    "    # Join the recommended item predictions to the test data set on the transaction date\n",
    "    join_df = pd.merge(left=test[test['timestamp'].dt.date==test_dt], \n",
    "                       right=pred_df[['title_pred', 'gender_pred', 'pred_rank']], \n",
    "                       left_on=['product_title','product_gender'],\n",
    "                       right_on=['title_pred', 'gender_pred'],\n",
    "                       how='left')\n",
    "    \n",
    "    full_eval_df = pd.concat([full_eval_df, join_df])"
   ]
  },
  {
   "cell_type": "code",
   "execution_count": null,
   "id": "aba8aa72",
   "metadata": {},
   "outputs": [],
   "source": []
  },
  {
   "cell_type": "code",
   "execution_count": null,
   "id": "34a27356",
   "metadata": {},
   "outputs": [],
   "source": []
  }
 ],
 "metadata": {
  "kernelspec": {
   "display_name": "Python 3",
   "language": "python",
   "name": "python3"
  },
  "language_info": {
   "codemirror_mode": {
    "name": "ipython",
    "version": 3
   },
   "file_extension": ".py",
   "mimetype": "text/x-python",
   "name": "python",
   "nbconvert_exporter": "python",
   "pygments_lexer": "ipython3",
   "version": "3.8.8"
  }
 },
 "nbformat": 4,
 "nbformat_minor": 5
}
