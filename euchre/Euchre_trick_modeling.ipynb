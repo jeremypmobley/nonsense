{
 "cells": [
  {
   "cell_type": "markdown",
   "id": "90814574",
   "metadata": {},
   "source": [
    "# Euchre Trick Model\n",
    "Model to estimate the number of tricks a given hand will be able to take  \n",
    "(or maybe the percent likelihood of each number of tricks taken 0-5)"
   ]
  },
  {
   "cell_type": "code",
   "execution_count": 1,
   "id": "636d0012",
   "metadata": {},
   "outputs": [],
   "source": [
    "import pandas as pd"
   ]
  },
  {
   "cell_type": "code",
   "execution_count": 40,
   "id": "01eca371",
   "metadata": {},
   "outputs": [],
   "source": [
    "raw_train_df = pd.read_csv('all_hand_results.csv')"
   ]
  },
  {
   "cell_type": "code",
   "execution_count": 41,
   "id": "b87e5344",
   "metadata": {},
   "outputs": [
    {
     "data": {
      "text/plain": [
       "(471380, 14)"
      ]
     },
     "execution_count": 41,
     "metadata": {},
     "output_type": "execute_result"
    }
   ],
   "source": [
    "raw_train_df.shape"
   ]
  },
  {
   "cell_type": "code",
   "execution_count": 42,
   "id": "ec8256ff",
   "metadata": {},
   "outputs": [
    {
     "data": {
      "text/html": [
       "<div>\n",
       "<style scoped>\n",
       "    .dataframe tbody tr th:only-of-type {\n",
       "        vertical-align: middle;\n",
       "    }\n",
       "\n",
       "    .dataframe tbody tr th {\n",
       "        vertical-align: top;\n",
       "    }\n",
       "\n",
       "    .dataframe thead th {\n",
       "        text-align: right;\n",
       "    }\n",
       "</style>\n",
       "<table border=\"1\" class=\"dataframe\">\n",
       "  <thead>\n",
       "    <tr style=\"text-align: right;\">\n",
       "      <th></th>\n",
       "      <th>tricks_won</th>\n",
       "      <th>is_calling_player</th>\n",
       "      <th>teammate_called</th>\n",
       "      <th>has_right</th>\n",
       "      <th>has_left</th>\n",
       "      <th>has_Atrump</th>\n",
       "      <th>has_Ktrump</th>\n",
       "      <th>has_Qtrump</th>\n",
       "      <th>has_Ttrump</th>\n",
       "      <th>has_9trump</th>\n",
       "      <th>num_off_A</th>\n",
       "      <th>num_off_K</th>\n",
       "      <th>num_off_Q</th>\n",
       "      <th>partner_tricks</th>\n",
       "    </tr>\n",
       "  </thead>\n",
       "  <tbody>\n",
       "    <tr>\n",
       "      <th>0</th>\n",
       "      <td>0</td>\n",
       "      <td>0</td>\n",
       "      <td>1</td>\n",
       "      <td>0</td>\n",
       "      <td>0</td>\n",
       "      <td>0</td>\n",
       "      <td>0</td>\n",
       "      <td>0</td>\n",
       "      <td>0</td>\n",
       "      <td>1</td>\n",
       "      <td>0</td>\n",
       "      <td>1</td>\n",
       "      <td>0</td>\n",
       "      <td>3</td>\n",
       "    </tr>\n",
       "    <tr>\n",
       "      <th>1</th>\n",
       "      <td>1</td>\n",
       "      <td>0</td>\n",
       "      <td>0</td>\n",
       "      <td>0</td>\n",
       "      <td>0</td>\n",
       "      <td>0</td>\n",
       "      <td>0</td>\n",
       "      <td>0</td>\n",
       "      <td>0</td>\n",
       "      <td>0</td>\n",
       "      <td>1</td>\n",
       "      <td>2</td>\n",
       "      <td>2</td>\n",
       "      <td>1</td>\n",
       "    </tr>\n",
       "    <tr>\n",
       "      <th>2</th>\n",
       "      <td>3</td>\n",
       "      <td>1</td>\n",
       "      <td>0</td>\n",
       "      <td>1</td>\n",
       "      <td>0</td>\n",
       "      <td>0</td>\n",
       "      <td>1</td>\n",
       "      <td>0</td>\n",
       "      <td>1</td>\n",
       "      <td>0</td>\n",
       "      <td>0</td>\n",
       "      <td>0</td>\n",
       "      <td>0</td>\n",
       "      <td>0</td>\n",
       "    </tr>\n",
       "    <tr>\n",
       "      <th>3</th>\n",
       "      <td>1</td>\n",
       "      <td>0</td>\n",
       "      <td>0</td>\n",
       "      <td>0</td>\n",
       "      <td>1</td>\n",
       "      <td>0</td>\n",
       "      <td>0</td>\n",
       "      <td>1</td>\n",
       "      <td>0</td>\n",
       "      <td>0</td>\n",
       "      <td>0</td>\n",
       "      <td>0</td>\n",
       "      <td>1</td>\n",
       "      <td>1</td>\n",
       "    </tr>\n",
       "    <tr>\n",
       "      <th>4</th>\n",
       "      <td>0</td>\n",
       "      <td>0</td>\n",
       "      <td>0</td>\n",
       "      <td>0</td>\n",
       "      <td>0</td>\n",
       "      <td>0</td>\n",
       "      <td>0</td>\n",
       "      <td>0</td>\n",
       "      <td>1</td>\n",
       "      <td>0</td>\n",
       "      <td>0</td>\n",
       "      <td>0</td>\n",
       "      <td>1</td>\n",
       "      <td>0</td>\n",
       "    </tr>\n",
       "  </tbody>\n",
       "</table>\n",
       "</div>"
      ],
      "text/plain": [
       "   tricks_won  is_calling_player  teammate_called  has_right  has_left  \\\n",
       "0           0                  0                1          0         0   \n",
       "1           1                  0                0          0         0   \n",
       "2           3                  1                0          1         0   \n",
       "3           1                  0                0          0         1   \n",
       "4           0                  0                0          0         0   \n",
       "\n",
       "   has_Atrump  has_Ktrump  has_Qtrump  has_Ttrump  has_9trump  num_off_A  \\\n",
       "0           0           0           0           0           1          0   \n",
       "1           0           0           0           0           0          1   \n",
       "2           0           1           0           1           0          0   \n",
       "3           0           0           1           0           0          0   \n",
       "4           0           0           0           1           0          0   \n",
       "\n",
       "   num_off_K  num_off_Q  partner_tricks  \n",
       "0          1          0               3  \n",
       "1          2          2               1  \n",
       "2          0          0               0  \n",
       "3          0          1               1  \n",
       "4          0          1               0  "
      ]
     },
     "execution_count": 42,
     "metadata": {},
     "output_type": "execute_result"
    }
   ],
   "source": [
    "raw_train_df.head()"
   ]
  },
  {
   "cell_type": "code",
   "execution_count": 43,
   "id": "329ab94c",
   "metadata": {},
   "outputs": [
    {
     "data": {
      "text/plain": [
       "Index(['tricks_won', 'is_calling_player', 'teammate_called', 'has_right',\n",
       "       'has_left', 'has_Atrump', 'has_Ktrump', 'has_Qtrump', 'has_Ttrump',\n",
       "       'has_9trump', 'num_off_A', 'num_off_K', 'num_off_Q', 'partner_tricks'],\n",
       "      dtype='object')"
      ]
     },
     "execution_count": 43,
     "metadata": {},
     "output_type": "execute_result"
    }
   ],
   "source": [
    "raw_train_df.columns"
   ]
  },
  {
   "cell_type": "code",
   "execution_count": 44,
   "id": "2f1d5c9c",
   "metadata": {},
   "outputs": [
    {
     "data": {
      "text/plain": [
       "<AxesSubplot:>"
      ]
     },
     "execution_count": 44,
     "metadata": {},
     "output_type": "execute_result"
    },
    {
     "data": {
      "image/png": "[encoded data removed]",
      "text/plain": [
       "<Figure size 432x288 with 1 Axes>"
      ]
     },
     "metadata": {
      "needs_background": "light"
     },
     "output_type": "display_data"
    }
   ],
   "source": [
    "raw_train_df['tricks_won'].hist(bins=11)"
   ]
  },
  {
   "cell_type": "code",
   "execution_count": 69,
   "id": "cdb47c14",
   "metadata": {},
   "outputs": [],
   "source": [
    "raw_train_df['team_tricks_won'] = raw_train_df['partner_tricks'] + raw_train_df['tricks_won']"
   ]
  },
  {
   "cell_type": "code",
   "execution_count": null,
   "id": "811240dd",
   "metadata": {},
   "outputs": [],
   "source": []
  },
  {
   "cell_type": "markdown",
   "id": "611d9e96",
   "metadata": {},
   "source": [
    "### Create train/test/validation splits"
   ]
  },
  {
   "cell_type": "code",
   "execution_count": 45,
   "id": "d1fd4440",
   "metadata": {},
   "outputs": [],
   "source": [
    "model_features = ['has_right', 'has_left',\n",
    "                  'has_Atrump', 'has_Ktrump', 'has_Qtrump', 'has_Ttrump', 'has_9trump', \n",
    "                  'num_off_A', 'num_off_K', 'num_off_Q'\n",
    "                 ]"
   ]
  },
  {
   "cell_type": "code",
   "execution_count": 46,
   "id": "867d8094",
   "metadata": {},
   "outputs": [],
   "source": [
    "from sklearn.model_selection import train_test_split"
   ]
  },
  {
   "cell_type": "code",
   "execution_count": 47,
   "id": "bedeffe9",
   "metadata": {},
   "outputs": [],
   "source": [
    "train_df, test_df, train_targets_df, test_targets_df = train_test_split(raw_train_df[model_features], \n",
    "                                                    raw_train_df['tricks_won'], \n",
    "                                                    test_size=0.33, random_state=42)"
   ]
  },
  {
   "cell_type": "code",
   "execution_count": 48,
   "id": "f2703cb3",
   "metadata": {},
   "outputs": [
    {
     "data": {
      "text/plain": [
       "(315824, 10)"
      ]
     },
     "execution_count": 48,
     "metadata": {},
     "output_type": "execute_result"
    }
   ],
   "source": [
    "train_df.shape"
   ]
  },
  {
   "cell_type": "code",
   "execution_count": 49,
   "id": "46d7549b",
   "metadata": {},
   "outputs": [
    {
     "data": {
      "text/plain": [
       "(155556, 10)"
      ]
     },
     "execution_count": 49,
     "metadata": {},
     "output_type": "execute_result"
    }
   ],
   "source": [
    "test_df.shape"
   ]
  },
  {
   "cell_type": "code",
   "execution_count": null,
   "id": "ffced6fc",
   "metadata": {},
   "outputs": [],
   "source": []
  },
  {
   "cell_type": "markdown",
   "id": "fae60676",
   "metadata": {},
   "source": [
    "#### Scale Features"
   ]
  },
  {
   "cell_type": "code",
   "execution_count": 50,
   "id": "93afbe02",
   "metadata": {},
   "outputs": [],
   "source": [
    "from sklearn.preprocessing import StandardScaler"
   ]
  },
  {
   "cell_type": "code",
   "execution_count": 51,
   "id": "690115a7",
   "metadata": {},
   "outputs": [],
   "source": [
    "sc = StandardScaler()\n",
    "train_df = sc.fit_transform(train_df)\n",
    "test_df = sc.transform (test_df)"
   ]
  },
  {
   "cell_type": "code",
   "execution_count": null,
   "id": "20d72f0e",
   "metadata": {},
   "outputs": [],
   "source": []
  },
  {
   "cell_type": "markdown",
   "id": "a30b2555",
   "metadata": {},
   "source": [
    "## Modeling"
   ]
  },
  {
   "cell_type": "code",
   "execution_count": null,
   "id": "3ec061cd",
   "metadata": {},
   "outputs": [],
   "source": []
  },
  {
   "cell_type": "markdown",
   "id": "043fb7a2",
   "metadata": {},
   "source": [
    "#### Linear Regression"
   ]
  },
  {
   "cell_type": "code",
   "execution_count": 52,
   "id": "2883fec1",
   "metadata": {},
   "outputs": [],
   "source": [
    "from sklearn.linear_model import LinearRegression"
   ]
  },
  {
   "cell_type": "code",
   "execution_count": 53,
   "id": "6be1f8cc",
   "metadata": {},
   "outputs": [],
   "source": [
    "reg = LinearRegression().fit(train_df, train_targets_df)"
   ]
  },
  {
   "cell_type": "code",
   "execution_count": 54,
   "id": "dddec7de",
   "metadata": {},
   "outputs": [
    {
     "data": {
      "text/plain": [
       "array([0.69818479, 0.38057349, 0.22997111, 0.36298278, 0.33991518,\n",
       "       0.31749635, 0.29141776, 0.16131696, 0.22302263, 0.06281799])"
      ]
     },
     "execution_count": 54,
     "metadata": {},
     "output_type": "execute_result"
    }
   ],
   "source": [
    "reg.coef_"
   ]
  },
  {
   "cell_type": "code",
   "execution_count": 55,
   "id": "99615104",
   "metadata": {},
   "outputs": [],
   "source": [
    "test_preds = reg.predict(test_df)"
   ]
  },
  {
   "cell_type": "code",
   "execution_count": 56,
   "id": "2369d082",
   "metadata": {},
   "outputs": [
    {
     "data": {
      "text/plain": [
       "array([-0.32515471,  0.44863807,  0.60795654,  2.60017615,  1.72360765])"
      ]
     },
     "execution_count": 56,
     "metadata": {},
     "output_type": "execute_result"
    }
   ],
   "source": [
    "test_preds[0:5]"
   ]
  },
  {
   "cell_type": "markdown",
   "id": "c1660d00",
   "metadata": {},
   "source": [
    "#### Test single hand manually"
   ]
  },
  {
   "cell_type": "code",
   "execution_count": 57,
   "id": "b9b9f322",
   "metadata": {},
   "outputs": [
    {
     "data": {
      "text/html": [
       "<div>\n",
       "<style scoped>\n",
       "    .dataframe tbody tr th:only-of-type {\n",
       "        vertical-align: middle;\n",
       "    }\n",
       "\n",
       "    .dataframe tbody tr th {\n",
       "        vertical-align: top;\n",
       "    }\n",
       "\n",
       "    .dataframe thead th {\n",
       "        text-align: right;\n",
       "    }\n",
       "</style>\n",
       "<table border=\"1\" class=\"dataframe\">\n",
       "  <thead>\n",
       "    <tr style=\"text-align: right;\">\n",
       "      <th></th>\n",
       "      <th>has_right</th>\n",
       "      <th>has_left</th>\n",
       "      <th>has_Atrump</th>\n",
       "      <th>has_Ktrump</th>\n",
       "      <th>has_Qtrump</th>\n",
       "      <th>has_Ttrump</th>\n",
       "      <th>has_9trump</th>\n",
       "      <th>num_off_A</th>\n",
       "      <th>num_off_K</th>\n",
       "      <th>num_off_Q</th>\n",
       "    </tr>\n",
       "  </thead>\n",
       "  <tbody>\n",
       "    <tr>\n",
       "      <th>0</th>\n",
       "      <td>0</td>\n",
       "      <td>0</td>\n",
       "      <td>0</td>\n",
       "      <td>0</td>\n",
       "      <td>0</td>\n",
       "      <td>0</td>\n",
       "      <td>0</td>\n",
       "      <td>0</td>\n",
       "      <td>0</td>\n",
       "      <td>0</td>\n",
       "    </tr>\n",
       "  </tbody>\n",
       "</table>\n",
       "</div>"
      ],
      "text/plain": [
       "   has_right  has_left  has_Atrump  has_Ktrump  has_Qtrump  has_Ttrump  \\\n",
       "0          0         0           0           0           0           0   \n",
       "\n",
       "   has_9trump  num_off_A  num_off_K  num_off_Q  \n",
       "0           0          0          0          0  "
      ]
     },
     "execution_count": 57,
     "metadata": {},
     "output_type": "execute_result"
    }
   ],
   "source": [
    "hand = {feature:[0] for feature in model_features}\n",
    "single_hand_test_df = pd.DataFrame(hand)\n",
    "single_hand_test_df"
   ]
  },
  {
   "cell_type": "code",
   "execution_count": 58,
   "id": "44d59acf",
   "metadata": {},
   "outputs": [],
   "source": [
    "single_hand_test_df['has_right'] = 0\n",
    "single_hand_test_df['has_left'] = 0\n",
    "single_hand_test_df['has_Atrump'] = 0\n",
    "single_hand_test_df['has_Ktrump'] = 1\n",
    "single_hand_test_df['has_Qtrump'] = 1\n",
    "single_hand_test_df['has_Ttrump'] = 1\n",
    "single_hand_test_df['has_9trump'] = 0\n",
    "single_hand_test_df['num_off_Q'] = 2\n",
    "single_hand_test_df['num_off_K'] = 0\n",
    "single_hand_test_df['num_off_A'] = 0"
   ]
  },
  {
   "cell_type": "code",
   "execution_count": 59,
   "id": "ccd9edc7",
   "metadata": {},
   "outputs": [
    {
     "data": {
      "text/plain": [
       "array([2.39703401])"
      ]
     },
     "execution_count": 59,
     "metadata": {},
     "output_type": "execute_result"
    }
   ],
   "source": [
    "single_test_pred = reg.predict(single_hand_test_df)\n",
    "single_test_pred"
   ]
  },
  {
   "cell_type": "code",
   "execution_count": null,
   "id": "5305c7a1",
   "metadata": {},
   "outputs": [],
   "source": []
  },
  {
   "cell_type": "markdown",
   "id": "d50aba8f",
   "metadata": {},
   "source": [
    "#### Random Forest"
   ]
  },
  {
   "cell_type": "code",
   "execution_count": 60,
   "id": "7ed49ba7",
   "metadata": {},
   "outputs": [],
   "source": [
    "from sklearn.ensemble import RandomForestClassifier"
   ]
  },
  {
   "cell_type": "code",
   "execution_count": 61,
   "id": "7351469d",
   "metadata": {},
   "outputs": [],
   "source": [
    "classifier =  RandomForestClassifier(criterion = 'entropy')"
   ]
  },
  {
   "cell_type": "code",
   "execution_count": 62,
   "id": "807a3469",
   "metadata": {},
   "outputs": [
    {
     "data": {
      "text/plain": [
       "RandomForestClassifier(criterion='entropy')"
      ]
     },
     "execution_count": 62,
     "metadata": {},
     "output_type": "execute_result"
    }
   ],
   "source": [
    "# Fit the best algorithm to the data\n",
    "classifier.fit(train_df, train_targets_df)"
   ]
  },
  {
   "cell_type": "code",
   "execution_count": 63,
   "id": "68aa0587",
   "metadata": {},
   "outputs": [
    {
     "data": {
      "text/plain": [
       "array([0, 0, 0], dtype=int64)"
      ]
     },
     "execution_count": 63,
     "metadata": {},
     "output_type": "execute_result"
    }
   ],
   "source": [
    "test_preds = classifier.predict(test_df)\n",
    "# test_preds = classifier.predict_proba(test_df)\n",
    "test_preds[0:3]"
   ]
  },
  {
   "cell_type": "code",
   "execution_count": 64,
   "id": "db6844b2",
   "metadata": {},
   "outputs": [
    {
     "data": {
      "text/plain": [
       "array([[0.02688965, 0.23166298, 0.4359136 , 0.24669614, 0.05009656,\n",
       "        0.00874107]])"
      ]
     },
     "execution_count": 64,
     "metadata": {},
     "output_type": "execute_result"
    }
   ],
   "source": [
    "single_hand_preds = classifier.predict_proba(single_hand_test_df)\n",
    "single_hand_preds"
   ]
  },
  {
   "cell_type": "code",
   "execution_count": 65,
   "id": "d51199c9",
   "metadata": {},
   "outputs": [
    {
     "data": {
      "text/plain": [
       "[0.026889652800185473,\n",
       " 0.23166298348929204,\n",
       " 0.4359136004040256,\n",
       " 0.24669613583853006,\n",
       " 0.05009656051925045,\n",
       " 0.00874106694871627]"
      ]
     },
     "execution_count": 65,
     "metadata": {},
     "output_type": "execute_result"
    }
   ],
   "source": [
    "trick_preds = single_hand_preds.tolist()[0]\n",
    "trick_preds"
   ]
  },
  {
   "cell_type": "code",
   "execution_count": null,
   "id": "45bee187",
   "metadata": {},
   "outputs": [],
   "source": []
  },
  {
   "cell_type": "code",
   "execution_count": null,
   "id": "ce5d1cd0",
   "metadata": {},
   "outputs": [],
   "source": []
  },
  {
   "cell_type": "markdown",
   "id": "1bb5f11c",
   "metadata": {},
   "source": [
    "#### Save out model to disk using joblib"
   ]
  },
  {
   "cell_type": "code",
   "execution_count": null,
   "id": "e1e3f014",
   "metadata": {},
   "outputs": [],
   "source": [
    "import joblib"
   ]
  },
  {
   "cell_type": "code",
   "execution_count": null,
   "id": "4afe64c7",
   "metadata": {},
   "outputs": [],
   "source": [
    "pwd"
   ]
  },
  {
   "cell_type": "code",
   "execution_count": null,
   "id": "d7d3b21c",
   "metadata": {},
   "outputs": [],
   "source": [
    "# TODO: update this to write to C:/Users/jerem/Desktop/nonsense/euchre/models/\n",
    "# joblib.dump(classifier, 'trick_model_rf_v0.sav')"
   ]
  },
  {
   "cell_type": "code",
   "execution_count": null,
   "id": "3d2a61ac",
   "metadata": {},
   "outputs": [],
   "source": []
  },
  {
   "cell_type": "code",
   "execution_count": null,
   "id": "156f4fff",
   "metadata": {},
   "outputs": [],
   "source": []
  },
  {
   "cell_type": "markdown",
   "id": "8a50c6c1",
   "metadata": {},
   "source": [
    "#### Plot probability output"
   ]
  },
  {
   "cell_type": "code",
   "execution_count": null,
   "id": "6db3dc9c",
   "metadata": {},
   "outputs": [],
   "source": [
    "import matplotlib.pyplot as plt"
   ]
  },
  {
   "cell_type": "code",
   "execution_count": null,
   "id": "0ac67427",
   "metadata": {},
   "outputs": [],
   "source": [
    "fig = plt.figure()\n",
    "ax = fig.add_axes([0,0,1,1])\n",
    "num_tricks_taken = ['0','1','2','3','4','5']\n",
    "ax.bar(num_tricks_taken, single_hand_preds.tolist()[0])\n",
    "\n",
    "plt.xlabel(\"Tricks taken\")\n",
    "plt.ylabel(\"Percent of hands\")\n",
    "plt.title(\"Expected tricks taken\")\n",
    "\n",
    "# ax.bar_label(trick_preds, label_type='center')\n",
    "\n",
    "plt.show()"
   ]
  },
  {
   "cell_type": "code",
   "execution_count": null,
   "id": "44f46a22",
   "metadata": {},
   "outputs": [],
   "source": [
    "def plot_expected_tricks_taken(expected_tricks_taken):\n",
    "    fig = plt.figure()\n",
    "    ax = fig.add_axes([0,0,1,1])\n",
    "    ax.bar(['0','1','2','3','4','5'], expected_tricks_taken)\n",
    "    plt.xlabel(\"Tricks taken\")\n",
    "    plt.ylabel(\"Percent of hands\")\n",
    "    plt.title(\"Expected tricks taken\")\n",
    "    plt.show()"
   ]
  },
  {
   "cell_type": "code",
   "execution_count": null,
   "id": "b5a33dbd",
   "metadata": {},
   "outputs": [],
   "source": [
    "plot_expected_tricks_taken(expected_tricks_taken = trick_preds)"
   ]
  },
  {
   "cell_type": "code",
   "execution_count": null,
   "id": "09b2c9d6",
   "metadata": {},
   "outputs": [],
   "source": []
  },
  {
   "cell_type": "code",
   "execution_count": null,
   "id": "29d729dc",
   "metadata": {},
   "outputs": [],
   "source": []
  },
  {
   "cell_type": "markdown",
   "id": "bc77ee77",
   "metadata": {},
   "source": [
    "### Evalute model"
   ]
  },
  {
   "cell_type": "code",
   "execution_count": 28,
   "id": "be9883e5",
   "metadata": {},
   "outputs": [],
   "source": [
    "from sklearn.metrics import mean_absolute_error\n",
    "from sklearn.metrics import mean_squared_error\n",
    "from sklearn.metrics import r2_score"
   ]
  },
  {
   "cell_type": "code",
   "execution_count": 66,
   "id": "1681b7dd",
   "metadata": {},
   "outputs": [
    {
     "data": {
      "text/plain": [
       "0.4488415747383579"
      ]
     },
     "execution_count": 66,
     "metadata": {},
     "output_type": "execute_result"
    }
   ],
   "source": [
    "mean_absolute_error(y_true=test_targets_df, y_pred=test_preds)"
   ]
  },
  {
   "cell_type": "code",
   "execution_count": 67,
   "id": "dc612ddf",
   "metadata": {},
   "outputs": [
    {
     "data": {
      "text/plain": [
       "0.5824269073516933"
      ]
     },
     "execution_count": 67,
     "metadata": {},
     "output_type": "execute_result"
    }
   ],
   "source": [
    "mean_squared_error(y_true=test_targets_df, y_pred=test_preds)"
   ]
  },
  {
   "cell_type": "code",
   "execution_count": 68,
   "id": "d7c18082",
   "metadata": {},
   "outputs": [
    {
     "data": {
      "text/plain": [
       "0.6381494396820335"
      ]
     },
     "execution_count": 68,
     "metadata": {},
     "output_type": "execute_result"
    }
   ],
   "source": [
    "r2_score(y_true=test_targets_df, y_pred=test_preds)"
   ]
  },
  {
   "cell_type": "code",
   "execution_count": null,
   "id": "04732545",
   "metadata": {},
   "outputs": [],
   "source": []
  },
  {
   "cell_type": "code",
   "execution_count": null,
   "id": "b289e8e7",
   "metadata": {},
   "outputs": [],
   "source": []
  },
  {
   "cell_type": "markdown",
   "id": "f913e769",
   "metadata": {},
   "source": [
    "#### Pipeline"
   ]
  },
  {
   "cell_type": "code",
   "execution_count": null,
   "id": "7ae9bc7b",
   "metadata": {},
   "outputs": [],
   "source": [
    "from sklearn.pipeline import Pipeline"
   ]
  },
  {
   "cell_type": "code",
   "execution_count": null,
   "id": "e8705514",
   "metadata": {},
   "outputs": [],
   "source": [
    "pipe = Pipeline([\n",
    "        ('scale', StandardScaler()),\n",
    "        ('reduce_dims', PCA(n_components=4)),\n",
    "        ('clf', SVC(kernel = 'linear', C = 1))])"
   ]
  },
  {
   "cell_type": "code",
   "execution_count": null,
   "id": "5e12e3bc",
   "metadata": {},
   "outputs": [],
   "source": []
  },
  {
   "cell_type": "code",
   "execution_count": null,
   "id": "ed755043",
   "metadata": {},
   "outputs": [],
   "source": []
  },
  {
   "cell_type": "markdown",
   "id": "431f4a8c",
   "metadata": {},
   "source": [
    "## Next Steps"
   ]
  },
  {
   "cell_type": "code",
   "execution_count": null,
   "id": "62678b89",
   "metadata": {},
   "outputs": [],
   "source": [
    "# Features - add player position at table, team tricks won\n",
    "\n",
    "# Standardize input features to linear model\n",
    "# Cross-validate tree-based models - RF, GBM, etc.\n",
    "# Look at feature importance\n",
    "# sklearn pipeline\n",
    "\n",
    "# PyTorch models\n",
    "    # compare PyTorch version vs. sklearn\n",
    "# Classification models to predict likelihood for each score outcome\n",
    "\n",
    "# Is it possible to take a trick with an off-suit Jack, that wouldn't have been taken with the 10 or 9 ???\n",
    "\n",
    "# Is there ever a time when knowing the current score of the game should affect which card to play?\n",
    "    # If opponent has 9 points, play more aggressively?\n",
    "\n",
    "# Is there ever a time when knowing the current number of tricks taken should affect which card to play?\n",
    "    # If opponents have taken 2 tricks already, play more aggressively?\n"
   ]
  },
  {
   "cell_type": "code",
   "execution_count": null,
   "id": "fb266331",
   "metadata": {},
   "outputs": [],
   "source": []
  },
  {
   "cell_type": "code",
   "execution_count": null,
   "id": "7bcd7569",
   "metadata": {},
   "outputs": [],
   "source": []
  },
  {
   "cell_type": "code",
   "execution_count": null,
   "id": "bf3950cd",
   "metadata": {},
   "outputs": [],
   "source": [
    "def translate_st_input_to_df(trump, \n",
    "                             a_s=False, k_s=False, q_s=False, j_s=False, t_s=False, nine_s=False, \n",
    "                             j_c=False):\n",
    "    \"\"\"\n",
    "    Function to take in checkbox inputs and return\n",
    "    \n",
    "    :return dataframe\n",
    "    \"\"\"\n",
    "    model_features = ['has_right', 'has_left',\n",
    "                      'has_Atrump', 'has_Ktrump', 'has_Qtrump', 'has_Ttrump', 'has_9trump',\n",
    "                      'num_off_A', 'num_off_K', 'num_off_Q'\n",
    "                      ]\n",
    "    hand = {feature: [0] for feature in model_features}\n",
    "    df = pd.DataFrame(hand)\n",
    "    if trump == 'SPADES':\n",
    "        if a_s:\n",
    "            df['has_Atrump'] = 1\n",
    "        if k_s:\n",
    "            df['has_Ktrump'] = 1\n",
    "        if q_s:\n",
    "            df['has_Qtrump'] = 1\n",
    "        if j_s:\n",
    "            df['has_right'] = 1\n",
    "        if t_s:\n",
    "            df['has_Ttrump'] = 1\n",
    "        if nine_s:\n",
    "            df['has_9trump'] = 1\n",
    "        if j_c:\n",
    "            df['has_left'] = 1\n",
    "\n",
    "    if trump == 'CLUBS':\n",
    "        if a_c:\n",
    "            df['has_Atrump'] = 1\n",
    "        if k_c:\n",
    "            df['has_Ktrump'] = 1\n",
    "        if q_c:\n",
    "            df['has_Qtrump'] = 1\n",
    "        if j_c:\n",
    "            df['has_right'] = 1\n",
    "        if t_c:\n",
    "            df['has_Ttrump'] = 1\n",
    "        if nine_c:\n",
    "            df['has_9trump'] = 1\n",
    "        if j_s:\n",
    "            df['has_left'] = 1\n",
    "\n",
    "    if trump == 'DIAMONDS':\n",
    "        if a_d:\n",
    "            df['has_Atrump'] = 1\n",
    "        if k_d:\n",
    "            df['has_Ktrump'] = 1\n",
    "        if q_d:\n",
    "            df['has_Qtrump'] = 1\n",
    "        if j_d:\n",
    "            df['has_right'] = 1\n",
    "        if t_d:\n",
    "            df['has_Ttrump'] = 1\n",
    "        if nine_d:\n",
    "            df['has_9trump'] = 1\n",
    "        if j_h:\n",
    "            df['has_left'] = 1\n",
    "\n",
    "    if trump == 'HEARTS':\n",
    "        if a_h:\n",
    "            df['has_Atrump'] = 1\n",
    "        if k_h:\n",
    "            df['has_Ktrump'] = 1\n",
    "        if q_h:\n",
    "            df['has_Qtrump'] = 1\n",
    "        if j_h:\n",
    "            df['has_right'] = 1\n",
    "        if t_h:\n",
    "            df['has_Ttrump'] = 1\n",
    "        if nine_h:\n",
    "            df['has_9trump'] = 1\n",
    "        if j_d:\n",
    "            df['has_left'] = 1\n",
    "\n",
    "    return df"
   ]
  },
  {
   "cell_type": "code",
   "execution_count": null,
   "id": "fbd459f4",
   "metadata": {},
   "outputs": [],
   "source": [
    "translate_st_input_to_df(trump='S', \n",
    "                         a_s=False,\n",
    "                         k_s=False,\n",
    "                         q_s=False,\n",
    "                         j_s=False, \n",
    "                         t_s=False,\n",
    "                         nine_s=False,\n",
    "                         j_c=False)"
   ]
  },
  {
   "cell_type": "code",
   "execution_count": null,
   "id": "2f920c75",
   "metadata": {},
   "outputs": [],
   "source": []
  },
  {
   "cell_type": "code",
   "execution_count": null,
   "id": "8d21ec11",
   "metadata": {},
   "outputs": [],
   "source": []
  },
  {
   "cell_type": "code",
   "execution_count": null,
   "id": "4faa3e3d",
   "metadata": {},
   "outputs": [],
   "source": []
  }
 ],
 "metadata": {
  "kernelspec": {
   "display_name": "Python 3",
   "language": "python",
   "name": "python3"
  },
  "language_info": {
   "codemirror_mode": {
    "name": "ipython",
    "version": 3
   },
   "file_extension": ".py",
   "mimetype": "text/x-python",
   "name": "python",
   "nbconvert_exporter": "python",
   "pygments_lexer": "ipython3",
   "version": "3.8.8"
  }
 },
 "nbformat": 4,
 "nbformat_minor": 5
}
