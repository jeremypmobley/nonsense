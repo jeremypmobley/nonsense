{
 "cells": [
  {
   "cell_type": "markdown",
   "id": "90814574",
   "metadata": {},
   "source": [
    "# Euchre Trick Model\n",
    "Model to estimate the number of tricks a given hand will be able to take  \n",
    "(or maybe the percent likelihood of each number of tricks taken 0-5)"
   ]
  },
  {
   "cell_type": "code",
   "execution_count": 1,
   "id": "636d0012",
   "metadata": {},
   "outputs": [],
   "source": [
    "import pandas as pd"
   ]
  },
  {
   "cell_type": "code",
   "execution_count": 70,
   "id": "01eca371",
   "metadata": {},
   "outputs": [],
   "source": [
    "raw_train_df = pd.read_csv('all_hand_results.csv')"
   ]
  },
  {
   "cell_type": "code",
   "execution_count": 71,
   "id": "b87e5344",
   "metadata": {},
   "outputs": [
    {
     "data": {
      "text/plain": [
       "(476716, 16)"
      ]
     },
     "execution_count": 71,
     "metadata": {},
     "output_type": "execute_result"
    }
   ],
   "source": [
    "raw_train_df.shape"
   ]
  },
  {
   "cell_type": "code",
   "execution_count": 72,
   "id": "ec8256ff",
   "metadata": {},
   "outputs": [
    {
     "data": {
      "text/html": [
       "<div>\n",
       "<style scoped>\n",
       "    .dataframe tbody tr th:only-of-type {\n",
       "        vertical-align: middle;\n",
       "    }\n",
       "\n",
       "    .dataframe tbody tr th {\n",
       "        vertical-align: top;\n",
       "    }\n",
       "\n",
       "    .dataframe thead th {\n",
       "        text-align: right;\n",
       "    }\n",
       "</style>\n",
       "<table border=\"1\" class=\"dataframe\">\n",
       "  <thead>\n",
       "    <tr style=\"text-align: right;\">\n",
       "      <th></th>\n",
       "      <th>tricks_won</th>\n",
       "      <th>is_calling_player</th>\n",
       "      <th>teammate_called</th>\n",
       "      <th>has_right</th>\n",
       "      <th>has_left</th>\n",
       "      <th>has_Atrump</th>\n",
       "      <th>has_Ktrump</th>\n",
       "      <th>has_Qtrump</th>\n",
       "      <th>has_Ttrump</th>\n",
       "      <th>has_9trump</th>\n",
       "      <th>num_off_A</th>\n",
       "      <th>num_off_K</th>\n",
       "      <th>num_off_Q</th>\n",
       "      <th>num_suits</th>\n",
       "      <th>partner_tricks</th>\n",
       "      <th>player_seat</th>\n",
       "    </tr>\n",
       "  </thead>\n",
       "  <tbody>\n",
       "    <tr>\n",
       "      <th>0</th>\n",
       "      <td>2</td>\n",
       "      <td>1</td>\n",
       "      <td>0</td>\n",
       "      <td>1</td>\n",
       "      <td>0</td>\n",
       "      <td>0</td>\n",
       "      <td>0</td>\n",
       "      <td>0</td>\n",
       "      <td>1</td>\n",
       "      <td>1</td>\n",
       "      <td>0</td>\n",
       "      <td>1</td>\n",
       "      <td>0</td>\n",
       "      <td>2</td>\n",
       "      <td>1</td>\n",
       "      <td>4</td>\n",
       "    </tr>\n",
       "    <tr>\n",
       "      <th>1</th>\n",
       "      <td>0</td>\n",
       "      <td>0</td>\n",
       "      <td>0</td>\n",
       "      <td>0</td>\n",
       "      <td>0</td>\n",
       "      <td>0</td>\n",
       "      <td>0</td>\n",
       "      <td>0</td>\n",
       "      <td>0</td>\n",
       "      <td>0</td>\n",
       "      <td>0</td>\n",
       "      <td>1</td>\n",
       "      <td>0</td>\n",
       "      <td>3</td>\n",
       "      <td>2</td>\n",
       "      <td>1</td>\n",
       "    </tr>\n",
       "    <tr>\n",
       "      <th>2</th>\n",
       "      <td>1</td>\n",
       "      <td>0</td>\n",
       "      <td>1</td>\n",
       "      <td>0</td>\n",
       "      <td>1</td>\n",
       "      <td>0</td>\n",
       "      <td>1</td>\n",
       "      <td>0</td>\n",
       "      <td>0</td>\n",
       "      <td>0</td>\n",
       "      <td>0</td>\n",
       "      <td>0</td>\n",
       "      <td>1</td>\n",
       "      <td>2</td>\n",
       "      <td>2</td>\n",
       "      <td>2</td>\n",
       "    </tr>\n",
       "    <tr>\n",
       "      <th>3</th>\n",
       "      <td>2</td>\n",
       "      <td>0</td>\n",
       "      <td>0</td>\n",
       "      <td>0</td>\n",
       "      <td>0</td>\n",
       "      <td>0</td>\n",
       "      <td>0</td>\n",
       "      <td>1</td>\n",
       "      <td>0</td>\n",
       "      <td>0</td>\n",
       "      <td>1</td>\n",
       "      <td>1</td>\n",
       "      <td>1</td>\n",
       "      <td>3</td>\n",
       "      <td>0</td>\n",
       "      <td>3</td>\n",
       "    </tr>\n",
       "    <tr>\n",
       "      <th>4</th>\n",
       "      <td>3</td>\n",
       "      <td>1</td>\n",
       "      <td>0</td>\n",
       "      <td>1</td>\n",
       "      <td>0</td>\n",
       "      <td>0</td>\n",
       "      <td>1</td>\n",
       "      <td>0</td>\n",
       "      <td>1</td>\n",
       "      <td>0</td>\n",
       "      <td>0</td>\n",
       "      <td>0</td>\n",
       "      <td>1</td>\n",
       "      <td>2</td>\n",
       "      <td>0</td>\n",
       "      <td>2</td>\n",
       "    </tr>\n",
       "  </tbody>\n",
       "</table>\n",
       "</div>"
      ],
      "text/plain": [
       "   tricks_won  is_calling_player  teammate_called  has_right  has_left  \\\n",
       "0           2                  1                0          1         0   \n",
       "1           0                  0                0          0         0   \n",
       "2           1                  0                1          0         1   \n",
       "3           2                  0                0          0         0   \n",
       "4           3                  1                0          1         0   \n",
       "\n",
       "   has_Atrump  has_Ktrump  has_Qtrump  has_Ttrump  has_9trump  num_off_A  \\\n",
       "0           0           0           0           1           1          0   \n",
       "1           0           0           0           0           0          0   \n",
       "2           0           1           0           0           0          0   \n",
       "3           0           0           1           0           0          1   \n",
       "4           0           1           0           1           0          0   \n",
       "\n",
       "   num_off_K  num_off_Q  num_suits  partner_tricks  player_seat  \n",
       "0          1          0          2               1            4  \n",
       "1          1          0          3               2            1  \n",
       "2          0          1          2               2            2  \n",
       "3          1          1          3               0            3  \n",
       "4          0          1          2               0            2  "
      ]
     },
     "execution_count": 72,
     "metadata": {},
     "output_type": "execute_result"
    }
   ],
   "source": [
    "raw_train_df.head()"
   ]
  },
  {
   "cell_type": "code",
   "execution_count": 73,
   "id": "329ab94c",
   "metadata": {},
   "outputs": [
    {
     "data": {
      "text/plain": [
       "Index(['tricks_won', 'is_calling_player', 'teammate_called', 'has_right',\n",
       "       'has_left', 'has_Atrump', 'has_Ktrump', 'has_Qtrump', 'has_Ttrump',\n",
       "       'has_9trump', 'num_off_A', 'num_off_K', 'num_off_Q', 'num_suits',\n",
       "       'partner_tricks', 'player_seat'],\n",
       "      dtype='object')"
      ]
     },
     "execution_count": 73,
     "metadata": {},
     "output_type": "execute_result"
    }
   ],
   "source": [
    "raw_train_df.columns"
   ]
  },
  {
   "cell_type": "code",
   "execution_count": 74,
   "id": "2f1d5c9c",
   "metadata": {},
   "outputs": [
    {
     "data": {
      "text/plain": [
       "<AxesSubplot:>"
      ]
     },
     "execution_count": 74,
     "metadata": {},
     "output_type": "execute_result"
    },
    {
     "data": {
      "image/png": "[encoded data removed]",
      "text/plain": [
       "<Figure size 432x288 with 1 Axes>"
      ]
     },
     "metadata": {
      "needs_background": "light"
     },
     "output_type": "display_data"
    }
   ],
   "source": [
    "raw_train_df['tricks_won'].hist(bins=11)"
   ]
  },
  {
   "cell_type": "code",
   "execution_count": 75,
   "id": "cdb47c14",
   "metadata": {},
   "outputs": [],
   "source": [
    "raw_train_df['team_tricks_won'] = raw_train_df['partner_tricks'] + raw_train_df['tricks_won']"
   ]
  },
  {
   "cell_type": "code",
   "execution_count": null,
   "id": "811240dd",
   "metadata": {},
   "outputs": [],
   "source": []
  },
  {
   "cell_type": "markdown",
   "id": "611d9e96",
   "metadata": {},
   "source": [
    "### Create train/test/validation splits"
   ]
  },
  {
   "cell_type": "code",
   "execution_count": 76,
   "id": "d1fd4440",
   "metadata": {},
   "outputs": [],
   "source": [
    "model_features = ['has_right', 'has_left',\n",
    "                  'has_Atrump', 'has_Ktrump', 'has_Qtrump', 'has_Ttrump', 'has_9trump', \n",
    "                  'num_off_A', 'num_off_K', 'num_off_Q', 'num_suits', 'player_seat'\n",
    "                 ]"
   ]
  },
  {
   "cell_type": "code",
   "execution_count": 78,
   "id": "867d8094",
   "metadata": {},
   "outputs": [],
   "source": [
    "from sklearn.model_selection import train_test_split"
   ]
  },
  {
   "cell_type": "code",
   "execution_count": 134,
   "id": "bedeffe9",
   "metadata": {},
   "outputs": [],
   "source": [
    "train_df, test_df, train_targets_df, test_targets_df = train_test_split(raw_train_df[model_features], \n",
    "                                                    raw_train_df['tricks_won'], \n",
    "                                                    test_size=0.33, random_state=41)"
   ]
  },
  {
   "cell_type": "code",
   "execution_count": 135,
   "id": "f2703cb3",
   "metadata": {},
   "outputs": [
    {
     "data": {
      "text/plain": [
       "(319399, 12)"
      ]
     },
     "execution_count": 135,
     "metadata": {},
     "output_type": "execute_result"
    }
   ],
   "source": [
    "train_df.shape"
   ]
  },
  {
   "cell_type": "code",
   "execution_count": 136,
   "id": "46d7549b",
   "metadata": {},
   "outputs": [
    {
     "data": {
      "text/plain": [
       "(157317, 12)"
      ]
     },
     "execution_count": 136,
     "metadata": {},
     "output_type": "execute_result"
    }
   ],
   "source": [
    "test_df.shape"
   ]
  },
  {
   "cell_type": "code",
   "execution_count": null,
   "id": "ffced6fc",
   "metadata": {},
   "outputs": [],
   "source": []
  },
  {
   "cell_type": "markdown",
   "id": "fae60676",
   "metadata": {},
   "source": [
    "#### Scale Features"
   ]
  },
  {
   "cell_type": "code",
   "execution_count": 82,
   "id": "93afbe02",
   "metadata": {},
   "outputs": [],
   "source": [
    "from sklearn.preprocessing import StandardScaler"
   ]
  },
  {
   "cell_type": "code",
   "execution_count": 83,
   "id": "690115a7",
   "metadata": {},
   "outputs": [],
   "source": [
    "sc = StandardScaler()\n",
    "train_df = sc.fit_transform(train_df)\n",
    "test_df = sc.transform (test_df)"
   ]
  },
  {
   "cell_type": "code",
   "execution_count": null,
   "id": "20d72f0e",
   "metadata": {},
   "outputs": [],
   "source": []
  },
  {
   "cell_type": "markdown",
   "id": "a30b2555",
   "metadata": {},
   "source": [
    "## Modeling"
   ]
  },
  {
   "cell_type": "code",
   "execution_count": null,
   "id": "3ec061cd",
   "metadata": {},
   "outputs": [],
   "source": []
  },
  {
   "cell_type": "markdown",
   "id": "043fb7a2",
   "metadata": {},
   "source": [
    "#### Linear Regression"
   ]
  },
  {
   "cell_type": "code",
   "execution_count": 84,
   "id": "2883fec1",
   "metadata": {},
   "outputs": [],
   "source": [
    "from sklearn.linear_model import LinearRegression"
   ]
  },
  {
   "cell_type": "code",
   "execution_count": 85,
   "id": "6be1f8cc",
   "metadata": {},
   "outputs": [],
   "source": [
    "reg = LinearRegression().fit(train_df, train_targets_df)"
   ]
  },
  {
   "cell_type": "code",
   "execution_count": 86,
   "id": "dddec7de",
   "metadata": {},
   "outputs": [
    {
     "data": {
      "text/plain": [
       "array([ 0.66327282,  0.36663968,  0.21078055,  0.33065437,  0.3032217 ,\n",
       "        0.2826689 ,  0.25497666,  0.18874715,  0.22811474,  0.02971584,\n",
       "       -0.17697494,  0.00175098])"
      ]
     },
     "execution_count": 86,
     "metadata": {},
     "output_type": "execute_result"
    }
   ],
   "source": [
    "reg.coef_"
   ]
  },
  {
   "cell_type": "code",
   "execution_count": 87,
   "id": "99615104",
   "metadata": {},
   "outputs": [],
   "source": [
    "test_preds = reg.predict(test_df)"
   ]
  },
  {
   "cell_type": "code",
   "execution_count": 88,
   "id": "2369d082",
   "metadata": {},
   "outputs": [
    {
     "data": {
      "text/plain": [
       "array([0.33003268, 1.29168966, 0.36439202, 0.91401682, 0.24593211])"
      ]
     },
     "execution_count": 88,
     "metadata": {},
     "output_type": "execute_result"
    }
   ],
   "source": [
    "test_preds[0:5]"
   ]
  },
  {
   "cell_type": "markdown",
   "id": "c1660d00",
   "metadata": {},
   "source": [
    "#### Test single hand manually"
   ]
  },
  {
   "cell_type": "code",
   "execution_count": 190,
   "id": "b9b9f322",
   "metadata": {},
   "outputs": [
    {
     "data": {
      "text/html": [
       "<div>\n",
       "<style scoped>\n",
       "    .dataframe tbody tr th:only-of-type {\n",
       "        vertical-align: middle;\n",
       "    }\n",
       "\n",
       "    .dataframe tbody tr th {\n",
       "        vertical-align: top;\n",
       "    }\n",
       "\n",
       "    .dataframe thead th {\n",
       "        text-align: right;\n",
       "    }\n",
       "</style>\n",
       "<table border=\"1\" class=\"dataframe\">\n",
       "  <thead>\n",
       "    <tr style=\"text-align: right;\">\n",
       "      <th></th>\n",
       "      <th>has_right</th>\n",
       "      <th>has_left</th>\n",
       "      <th>has_Atrump</th>\n",
       "      <th>has_Ktrump</th>\n",
       "      <th>has_Qtrump</th>\n",
       "      <th>has_Ttrump</th>\n",
       "      <th>has_9trump</th>\n",
       "      <th>num_off_A</th>\n",
       "      <th>num_off_K</th>\n",
       "      <th>num_off_Q</th>\n",
       "      <th>num_suits</th>\n",
       "      <th>player_seat</th>\n",
       "    </tr>\n",
       "  </thead>\n",
       "  <tbody>\n",
       "    <tr>\n",
       "      <th>0</th>\n",
       "      <td>0</td>\n",
       "      <td>0</td>\n",
       "      <td>0</td>\n",
       "      <td>0</td>\n",
       "      <td>0</td>\n",
       "      <td>0</td>\n",
       "      <td>0</td>\n",
       "      <td>0</td>\n",
       "      <td>0</td>\n",
       "      <td>0</td>\n",
       "      <td>0</td>\n",
       "      <td>0</td>\n",
       "    </tr>\n",
       "  </tbody>\n",
       "</table>\n",
       "</div>"
      ],
      "text/plain": [
       "   has_right  has_left  has_Atrump  has_Ktrump  has_Qtrump  has_Ttrump  \\\n",
       "0          0         0           0           0           0           0   \n",
       "\n",
       "   has_9trump  num_off_A  num_off_K  num_off_Q  num_suits  player_seat  \n",
       "0           0          0          0          0          0            0  "
      ]
     },
     "execution_count": 190,
     "metadata": {},
     "output_type": "execute_result"
    }
   ],
   "source": [
    "hand = {feature:[0] for feature in model_features}\n",
    "single_hand_test_df = pd.DataFrame(hand)\n",
    "single_hand_test_df"
   ]
  },
  {
   "cell_type": "code",
   "execution_count": 191,
   "id": "14d88a49",
   "metadata": {},
   "outputs": [],
   "source": [
    "single_hand_test_df['player_seat'] = 1"
   ]
  },
  {
   "cell_type": "code",
   "execution_count": 192,
   "id": "44d59acf",
   "metadata": {},
   "outputs": [],
   "source": [
    "single_hand_test_df['has_right'] = 0\n",
    "single_hand_test_df['has_left'] = 0\n",
    "single_hand_test_df['has_Atrump'] = 0\n",
    "single_hand_test_df['has_Ktrump'] = 1\n",
    "single_hand_test_df['has_Qtrump'] = 1\n",
    "single_hand_test_df['has_Ttrump'] = 1\n",
    "single_hand_test_df['has_9trump'] = 0\n",
    "single_hand_test_df['num_off_Q'] = 2\n",
    "single_hand_test_df['num_off_K'] = 0\n",
    "single_hand_test_df['num_off_A'] = 0"
   ]
  },
  {
   "cell_type": "code",
   "execution_count": 91,
   "id": "ccd9edc7",
   "metadata": {},
   "outputs": [
    {
     "data": {
      "text/plain": [
       "array([2.22638756])"
      ]
     },
     "execution_count": 91,
     "metadata": {},
     "output_type": "execute_result"
    }
   ],
   "source": [
    "single_test_pred = reg.predict(single_hand_test_df)\n",
    "single_test_pred"
   ]
  },
  {
   "cell_type": "code",
   "execution_count": null,
   "id": "5305c7a1",
   "metadata": {},
   "outputs": [],
   "source": []
  },
  {
   "cell_type": "markdown",
   "id": "d50aba8f",
   "metadata": {},
   "source": [
    "#### Random Forest"
   ]
  },
  {
   "cell_type": "code",
   "execution_count": 107,
   "id": "657a2fdf",
   "metadata": {},
   "outputs": [],
   "source": [
    "import numpy as np"
   ]
  },
  {
   "cell_type": "code",
   "execution_count": 92,
   "id": "7ed49ba7",
   "metadata": {},
   "outputs": [],
   "source": [
    "from sklearn.ensemble import RandomForestClassifier"
   ]
  },
  {
   "cell_type": "code",
   "execution_count": 203,
   "id": "7351469d",
   "metadata": {},
   "outputs": [],
   "source": [
    "classifier =  RandomForestClassifier(\n",
    "    n_estimators=100, \n",
    "    max_features=1.0,\n",
    "    max_depth=None,\n",
    "    criterion = 'entropy', \n",
    "    verbose=0\n",
    ")"
   ]
  },
  {
   "cell_type": "code",
   "execution_count": 195,
   "id": "807a3469",
   "metadata": {},
   "outputs": [
    {
     "data": {
      "text/plain": [
       "RandomForestClassifier(criterion='entropy', max_depth=6, max_features=1.0)"
      ]
     },
     "execution_count": 195,
     "metadata": {},
     "output_type": "execute_result"
    }
   ],
   "source": [
    "# Fit the model\n",
    "classifier.fit(train_df, train_targets_df)"
   ]
  },
  {
   "cell_type": "code",
   "execution_count": 160,
   "id": "68aa0587",
   "metadata": {},
   "outputs": [
    {
     "data": {
      "text/plain": [
       "array([3, 3, 0], dtype=int64)"
      ]
     },
     "execution_count": 160,
     "metadata": {},
     "output_type": "execute_result"
    }
   ],
   "source": [
    "test_preds = classifier.predict(test_df)\n",
    "# test_preds = classifier.predict_proba(test_df)\n",
    "test_preds[0:3]"
   ]
  },
  {
   "cell_type": "code",
   "execution_count": 161,
   "id": "db6844b2",
   "metadata": {},
   "outputs": [
    {
     "data": {
      "text/plain": [
       "array([[0.66011339, 0.25183537, 0.05767311, 0.01994142, 0.00891158,\n",
       "        0.00152511]])"
      ]
     },
     "execution_count": 161,
     "metadata": {},
     "output_type": "execute_result"
    }
   ],
   "source": [
    "single_hand_preds = classifier.predict_proba(single_hand_test_df)\n",
    "single_hand_preds"
   ]
  },
  {
   "cell_type": "code",
   "execution_count": 162,
   "id": "d51199c9",
   "metadata": {},
   "outputs": [
    {
     "data": {
      "text/plain": [
       "[0.6601133939300717,\n",
       " 0.2518353730488135,\n",
       " 0.05767311433707655,\n",
       " 0.01994142295185662,\n",
       " 0.008911583384840167,\n",
       " 0.001525112347341455]"
      ]
     },
     "execution_count": 162,
     "metadata": {},
     "output_type": "execute_result"
    }
   ],
   "source": [
    "trick_preds = single_hand_preds.tolist()[0]\n",
    "trick_preds"
   ]
  },
  {
   "cell_type": "code",
   "execution_count": 163,
   "id": "45bee187",
   "metadata": {},
   "outputs": [],
   "source": [
    "importances = classifier.feature_importances_\n",
    "std = np.std([tree.feature_importances_ for tree in classifier.estimators_], axis=0)"
   ]
  },
  {
   "cell_type": "code",
   "execution_count": 213,
   "id": "ce5d1cd0",
   "metadata": {},
   "outputs": [
    {
     "data": {
      "image/png": "[encoded data removed]",
      "text/plain": [
       "<Figure size 432x288 with 1 Axes>"
      ]
     },
     "metadata": {
      "needs_background": "light"
     },
     "output_type": "display_data"
    }
   ],
   "source": [
    "forest_importances = pd.Series(importances, index=model_features)\n",
    "\n",
    "fig, ax = plt.subplots()\n",
    "forest_importances.plot.bar(yerr=std, ax=ax)\n",
    "ax.set_title(\"Feature importances using MDI\")\n",
    "ax.set_ylabel(\"Mean decrease in impurity\")\n",
    "fig.tight_layout()\n"
   ]
  },
  {
   "cell_type": "markdown",
   "id": "d619f8c2",
   "metadata": {},
   "source": [
    "#### GBM"
   ]
  },
  {
   "cell_type": "code",
   "execution_count": 182,
   "id": "a4d0d7c2",
   "metadata": {},
   "outputs": [],
   "source": [
    "from sklearn.ensemble import GradientBoostingClassifier"
   ]
  },
  {
   "cell_type": "code",
   "execution_count": 186,
   "id": "8f9e5401",
   "metadata": {},
   "outputs": [],
   "source": [
    "gbm_clf = GradientBoostingClassifier(learning_rate=0.1, \n",
    "                                     n_estimators=10, \n",
    "                                     subsample=1.0, \n",
    "                                     min_samples_split=2,\n",
    "                                     min_samples_leaf=1,\n",
    "                                     max_depth=3)"
   ]
  },
  {
   "cell_type": "markdown",
   "id": "9242473c",
   "metadata": {},
   "source": [
    "#### Fit the model"
   ]
  },
  {
   "cell_type": "code",
   "execution_count": 187,
   "id": "ba6c18dd",
   "metadata": {},
   "outputs": [
    {
     "name": "stdout",
     "output_type": "stream",
     "text": [
      "Wall time: 22.2 s\n"
     ]
    },
    {
     "data": {
      "text/plain": [
       "GradientBoostingClassifier(n_estimators=10)"
      ]
     },
     "execution_count": 187,
     "metadata": {},
     "output_type": "execute_result"
    }
   ],
   "source": [
    "%%time\n",
    "\n",
    "gbm_clf.fit(train_df, train_targets_df)"
   ]
  },
  {
   "cell_type": "code",
   "execution_count": 189,
   "id": "d15025b7",
   "metadata": {},
   "outputs": [
    {
     "data": {
      "text/plain": [
       "array([[0.12269621, 0.20921646, 0.30001755, 0.28942605, 0.07115732,\n",
       "        0.00748641],\n",
       "       [0.12465375, 0.20466675, 0.27674786, 0.29404364, 0.08850242,\n",
       "        0.01138557],\n",
       "       [0.49954373, 0.29236459, 0.11290243, 0.06293431, 0.02600792,\n",
       "        0.00624703]])"
      ]
     },
     "execution_count": 189,
     "metadata": {},
     "output_type": "execute_result"
    }
   ],
   "source": [
    "# Create test preds\n",
    "#test_preds = gbm_clf.predict(test_df)\n",
    "test_preds = gbm_clf.predict_proba(test_df)\n",
    "test_preds[0:3]"
   ]
  },
  {
   "cell_type": "code",
   "execution_count": 193,
   "id": "a73c48c1",
   "metadata": {},
   "outputs": [
    {
     "data": {
      "text/plain": [
       "array([[0.13002742, 0.15809862, 0.18382737, 0.18091696, 0.33954942,\n",
       "        0.00758021]])"
      ]
     },
     "execution_count": 193,
     "metadata": {},
     "output_type": "execute_result"
    }
   ],
   "source": [
    "single_test_pred = gbm_clf.predict_proba(single_hand_test_df)\n",
    "single_test_pred"
   ]
  },
  {
   "cell_type": "code",
   "execution_count": null,
   "id": "f94af31e",
   "metadata": {},
   "outputs": [],
   "source": []
  },
  {
   "cell_type": "markdown",
   "id": "c396fa7e",
   "metadata": {},
   "source": [
    "#### CV"
   ]
  },
  {
   "cell_type": "code",
   "execution_count": 196,
   "id": "e55dc7f1",
   "metadata": {},
   "outputs": [],
   "source": [
    "from sklearn.model_selection import GridSearchCV"
   ]
  },
  {
   "cell_type": "code",
   "execution_count": 204,
   "id": "54c2c02d",
   "metadata": {},
   "outputs": [],
   "source": [
    "grid_params = {'n_estimators':[10,20]}"
   ]
  },
  {
   "cell_type": "code",
   "execution_count": 205,
   "id": "b959c34c",
   "metadata": {},
   "outputs": [],
   "source": [
    "clf = GridSearchCV(classifier, grid_params)"
   ]
  },
  {
   "cell_type": "code",
   "execution_count": 206,
   "id": "53968f61",
   "metadata": {},
   "outputs": [
    {
     "name": "stdout",
     "output_type": "stream",
     "text": [
      "Wall time: 1min 10s\n"
     ]
    },
    {
     "data": {
      "text/plain": [
       "GridSearchCV(estimator=RandomForestClassifier(criterion='entropy',\n",
       "                                              max_features=1.0),\n",
       "             param_grid={'n_estimators': [10, 20]})"
      ]
     },
     "execution_count": 206,
     "metadata": {},
     "output_type": "execute_result"
    }
   ],
   "source": [
    "%%time\n",
    "\n",
    "clf.fit(train_df, train_targets_df)"
   ]
  },
  {
   "cell_type": "code",
   "execution_count": 207,
   "id": "3bc04b7b",
   "metadata": {},
   "outputs": [
    {
     "data": {
      "text/plain": [
       "dict_keys(['mean_fit_time', 'std_fit_time', 'mean_score_time', 'std_score_time', 'param_n_estimators', 'params', 'split0_test_score', 'split1_test_score', 'split2_test_score', 'split3_test_score', 'split4_test_score', 'mean_test_score', 'std_test_score', 'rank_test_score'])"
      ]
     },
     "execution_count": 207,
     "metadata": {},
     "output_type": "execute_result"
    }
   ],
   "source": [
    "clf.cv_results_.keys()"
   ]
  },
  {
   "cell_type": "code",
   "execution_count": 208,
   "id": "9c9e032a",
   "metadata": {},
   "outputs": [
    {
     "data": {
      "text/plain": [
       "{'mean_fit_time': array([4.2941927 , 8.28017459]),\n",
       " 'std_fit_time': array([0.10050237, 0.02841427]),\n",
       " 'mean_score_time': array([0.16567979, 0.30998254]),\n",
       " 'std_score_time': array([0.00842644, 0.00676481]),\n",
       " 'param_n_estimators': masked_array(data=[10, 20],\n",
       "              mask=[False, False],\n",
       "        fill_value='?',\n",
       "             dtype=object),\n",
       " 'params': [{'n_estimators': 10}, {'n_estimators': 20}],\n",
       " 'split0_test_score': array([0.60515028, 0.60574515]),\n",
       " 'split1_test_score': array([0.60422668, 0.60396055]),\n",
       " 'split2_test_score': array([0.60253601, 0.60267689]),\n",
       " 'split3_test_score': array([0.60967439, 0.60865686]),\n",
       " 'split4_test_score': array([0.60437703, 0.60486232]),\n",
       " 'mean_test_score': array([0.60519288, 0.60518035]),\n",
       " 'std_test_score': array([0.00239766, 0.00201303]),\n",
       " 'rank_test_score': array([1, 2])}"
      ]
     },
     "execution_count": 208,
     "metadata": {},
     "output_type": "execute_result"
    }
   ],
   "source": [
    "clf.cv_results_"
   ]
  },
  {
   "cell_type": "code",
   "execution_count": 209,
   "id": "c7aa27a8",
   "metadata": {},
   "outputs": [
    {
     "data": {
      "text/plain": [
       "RandomForestClassifier(criterion='entropy', max_features=1.0, n_estimators=10)"
      ]
     },
     "execution_count": 209,
     "metadata": {},
     "output_type": "execute_result"
    }
   ],
   "source": [
    "clf.best_estimator_"
   ]
  },
  {
   "cell_type": "code",
   "execution_count": 212,
   "id": "5e6df81c",
   "metadata": {},
   "outputs": [
    {
     "data": {
      "text/plain": [
       "array([[0.01307361, 0.22641135, 0.59745315, 0.16306189, 0.        ,\n",
       "        0.        ]])"
      ]
     },
     "execution_count": 212,
     "metadata": {},
     "output_type": "execute_result"
    }
   ],
   "source": [
    "clf.best_estimator_.predict_proba(single_hand_test_df)"
   ]
  },
  {
   "cell_type": "code",
   "execution_count": null,
   "id": "f157e1da",
   "metadata": {},
   "outputs": [],
   "source": []
  },
  {
   "cell_type": "markdown",
   "id": "1bb5f11c",
   "metadata": {},
   "source": [
    "#### Save out model to disk using joblib"
   ]
  },
  {
   "cell_type": "code",
   "execution_count": 98,
   "id": "e1e3f014",
   "metadata": {},
   "outputs": [],
   "source": [
    "import joblib"
   ]
  },
  {
   "cell_type": "code",
   "execution_count": 99,
   "id": "4afe64c7",
   "metadata": {},
   "outputs": [
    {
     "data": {
      "text/plain": [
       "'C:\\\\Users\\\\jerem\\\\Desktop\\\\nonsense\\\\euchre'"
      ]
     },
     "execution_count": 99,
     "metadata": {},
     "output_type": "execute_result"
    }
   ],
   "source": [
    "pwd"
   ]
  },
  {
   "cell_type": "code",
   "execution_count": 100,
   "id": "d7d3b21c",
   "metadata": {},
   "outputs": [
    {
     "data": {
      "text/plain": [
       "['C:/Users/jerem/Desktop/nonsense/euchre/models/trick_model_rf_v0.sav']"
      ]
     },
     "execution_count": 100,
     "metadata": {},
     "output_type": "execute_result"
    }
   ],
   "source": [
    "joblib.dump(classifier, 'C:/Users/jerem/Desktop/nonsense/euchre/models/trick_model_rf_v0.sav')"
   ]
  },
  {
   "cell_type": "code",
   "execution_count": null,
   "id": "3d2a61ac",
   "metadata": {},
   "outputs": [],
   "source": []
  },
  {
   "cell_type": "code",
   "execution_count": null,
   "id": "156f4fff",
   "metadata": {},
   "outputs": [],
   "source": []
  },
  {
   "cell_type": "markdown",
   "id": "8a50c6c1",
   "metadata": {},
   "source": [
    "#### Plot probability output"
   ]
  },
  {
   "cell_type": "code",
   "execution_count": 110,
   "id": "6db3dc9c",
   "metadata": {},
   "outputs": [],
   "source": [
    "import matplotlib.pyplot as plt"
   ]
  },
  {
   "cell_type": "code",
   "execution_count": null,
   "id": "0ac67427",
   "metadata": {},
   "outputs": [],
   "source": [
    "fig = plt.figure()\n",
    "ax = fig.add_axes([0,0,1,1])\n",
    "num_tricks_taken = ['0','1','2','3','4','5']\n",
    "ax.bar(num_tricks_taken, single_hand_preds.tolist()[0])\n",
    "\n",
    "plt.xlabel(\"Tricks taken\")\n",
    "plt.ylabel(\"Percent of hands\")\n",
    "plt.title(\"Expected tricks taken\")\n",
    "\n",
    "# ax.bar_label(trick_preds, label_type='center')\n",
    "\n",
    "plt.show()"
   ]
  },
  {
   "cell_type": "code",
   "execution_count": null,
   "id": "44f46a22",
   "metadata": {},
   "outputs": [],
   "source": [
    "def plot_expected_tricks_taken(expected_tricks_taken):\n",
    "    fig = plt.figure()\n",
    "    ax = fig.add_axes([0,0,1,1])\n",
    "    ax.bar(['0','1','2','3','4','5'], expected_tricks_taken)\n",
    "    plt.xlabel(\"Tricks taken\")\n",
    "    plt.ylabel(\"Percent of hands\")\n",
    "    plt.title(\"Expected tricks taken\")\n",
    "    plt.show()"
   ]
  },
  {
   "cell_type": "code",
   "execution_count": null,
   "id": "b5a33dbd",
   "metadata": {},
   "outputs": [],
   "source": [
    "plot_expected_tricks_taken(expected_tricks_taken = trick_preds)"
   ]
  },
  {
   "cell_type": "code",
   "execution_count": null,
   "id": "09b2c9d6",
   "metadata": {},
   "outputs": [],
   "source": []
  },
  {
   "cell_type": "code",
   "execution_count": null,
   "id": "29d729dc",
   "metadata": {},
   "outputs": [],
   "source": []
  },
  {
   "cell_type": "markdown",
   "id": "bc77ee77",
   "metadata": {},
   "source": [
    "### Evalute model"
   ]
  },
  {
   "cell_type": "code",
   "execution_count": 28,
   "id": "be9883e5",
   "metadata": {},
   "outputs": [],
   "source": [
    "from sklearn.metrics import mean_absolute_error\n",
    "from sklearn.metrics import mean_squared_error\n",
    "from sklearn.metrics import r2_score"
   ]
  },
  {
   "cell_type": "code",
   "execution_count": 165,
   "id": "1681b7dd",
   "metadata": {},
   "outputs": [
    {
     "data": {
      "text/plain": [
       "0.5052282970054095"
      ]
     },
     "execution_count": 165,
     "metadata": {},
     "output_type": "execute_result"
    }
   ],
   "source": [
    "mean_absolute_error(y_true=test_targets_df, y_pred=test_preds)"
   ]
  },
  {
   "cell_type": "code",
   "execution_count": 166,
   "id": "dc612ddf",
   "metadata": {},
   "outputs": [
    {
     "data": {
      "text/plain": [
       "0.6878913277013927"
      ]
     },
     "execution_count": 166,
     "metadata": {},
     "output_type": "execute_result"
    }
   ],
   "source": [
    "mean_squared_error(y_true=test_targets_df, y_pred=test_preds)"
   ]
  },
  {
   "cell_type": "code",
   "execution_count": 167,
   "id": "d7c18082",
   "metadata": {},
   "outputs": [
    {
     "data": {
      "text/plain": [
       "0.5508392854731867"
      ]
     },
     "execution_count": 167,
     "metadata": {},
     "output_type": "execute_result"
    }
   ],
   "source": [
    "r2_score(y_true=test_targets_df, y_pred=test_preds)"
   ]
  },
  {
   "cell_type": "code",
   "execution_count": null,
   "id": "04732545",
   "metadata": {},
   "outputs": [],
   "source": []
  },
  {
   "cell_type": "code",
   "execution_count": null,
   "id": "b289e8e7",
   "metadata": {},
   "outputs": [],
   "source": []
  },
  {
   "cell_type": "markdown",
   "id": "f913e769",
   "metadata": {},
   "source": [
    "#### Pipeline"
   ]
  },
  {
   "cell_type": "code",
   "execution_count": 168,
   "id": "7ae9bc7b",
   "metadata": {},
   "outputs": [],
   "source": [
    "from sklearn.pipeline import Pipeline\n",
    "from sklearn.compose import ColumnTransformer\n",
    "from sklearn.preprocessing import OneHotEncoder"
   ]
  },
  {
   "cell_type": "code",
   "execution_count": 169,
   "id": "152b2ec5",
   "metadata": {},
   "outputs": [],
   "source": [
    "categorical_columns = ['player_seat']\n",
    "categorical_encoder = OneHotEncoder()"
   ]
  },
  {
   "cell_type": "code",
   "execution_count": 171,
   "id": "5e12e3bc",
   "metadata": {},
   "outputs": [],
   "source": [
    "preprocessing = ColumnTransformer(\n",
    "    [\n",
    "        (\"cat\", categorical_encoder, categorical_columns),\n",
    "    ],\n",
    ")"
   ]
  },
  {
   "cell_type": "code",
   "execution_count": 172,
   "id": "ed755043",
   "metadata": {},
   "outputs": [],
   "source": [
    "rf = Pipeline(\n",
    "    [\n",
    "        ('preprocess', preprocessing),\n",
    "        ('classifier', RandomForestClassifier(random_state=123))\n",
    "    ]\n",
    "\n",
    ")"
   ]
  },
  {
   "cell_type": "code",
   "execution_count": 173,
   "id": "44017d50",
   "metadata": {},
   "outputs": [
    {
     "data": {
      "text/plain": [
       "Pipeline(steps=[('preprocess',\n",
       "                 ColumnTransformer(transformers=[('cat', OneHotEncoder(),\n",
       "                                                  ['player_seat'])])),\n",
       "                ('classifier', RandomForestClassifier(random_state=123))])"
      ]
     },
     "execution_count": 173,
     "metadata": {},
     "output_type": "execute_result"
    }
   ],
   "source": [
    "rf.fit(train_df, train_targets_df)"
   ]
  },
  {
   "cell_type": "code",
   "execution_count": 174,
   "id": "0140610d",
   "metadata": {},
   "outputs": [
    {
     "data": {
      "text/plain": [
       "Pipeline(steps=[('preprocess',\n",
       "                 ColumnTransformer(transformers=[('cat', OneHotEncoder(),\n",
       "                                                  ['player_seat'])])),\n",
       "                ('classifier', RandomForestClassifier(random_state=123))])"
      ]
     },
     "execution_count": 174,
     "metadata": {},
     "output_type": "execute_result"
    }
   ],
   "source": [
    "rf"
   ]
  },
  {
   "cell_type": "code",
   "execution_count": 179,
   "id": "bcff86ca",
   "metadata": {},
   "outputs": [
    {
     "data": {
      "text/plain": [
       "array([[0.34107464, 0.30962382, 0.17939596, 0.10710813, 0.05166994,\n",
       "        0.01112752]])"
      ]
     },
     "execution_count": 179,
     "metadata": {},
     "output_type": "execute_result"
    }
   ],
   "source": [
    "single_hand_preds = rf.predict_proba(single_hand_test_df)\n",
    "single_hand_preds"
   ]
  },
  {
   "cell_type": "code",
   "execution_count": null,
   "id": "0945d8ce",
   "metadata": {},
   "outputs": [],
   "source": []
  },
  {
   "cell_type": "code",
   "execution_count": null,
   "id": "33cf0620",
   "metadata": {},
   "outputs": [],
   "source": []
  },
  {
   "cell_type": "code",
   "execution_count": null,
   "id": "fff7fa82",
   "metadata": {},
   "outputs": [],
   "source": []
  },
  {
   "cell_type": "markdown",
   "id": "431f4a8c",
   "metadata": {},
   "source": [
    "## Next Steps"
   ]
  },
  {
   "cell_type": "code",
   "execution_count": null,
   "id": "62678b89",
   "metadata": {},
   "outputs": [],
   "source": [
    "# Features - make player position at table categorical\n",
    "\n",
    "# Build separate model for team tricks won\n",
    "\n",
    "# Standardize input features to linear model\n",
    "# Cross-validate tree-based models - RF, GBM, etc.\n",
    "# sklearn pipeline\n",
    "\n",
    "# PyTorch models\n",
    "    # compare PyTorch version vs. sklearn\n",
    "# Classification models to predict likelihood for each score outcome\n",
    "\n",
    "# Is it possible to take a trick with an off-suit Jack, that wouldn't have been taken with the 10 or 9 ???\n",
    "\n",
    "# Is there ever a time when knowing the current score of the game should affect which card to play?\n",
    "    # If opponent has 9 points, play more aggressively?\n",
    "\n",
    "# Is there ever a time when knowing the current number of tricks taken should affect which card to play?\n",
    "    # If opponents have taken 2 tricks already, play more aggressively?\n"
   ]
  },
  {
   "cell_type": "code",
   "execution_count": null,
   "id": "fb266331",
   "metadata": {},
   "outputs": [],
   "source": []
  },
  {
   "cell_type": "code",
   "execution_count": null,
   "id": "0576ba5e",
   "metadata": {},
   "outputs": [],
   "source": []
  },
  {
   "cell_type": "code",
   "execution_count": 102,
   "id": "08d5abd1",
   "metadata": {},
   "outputs": [],
   "source": [
    "def translate_st_input_to_df(trump, \n",
    "                             a_s=False, k_s=False, q_s=False, j_s=False, t_s=False, nine_s=False, \n",
    "                             j_c=False):\n",
    "    \"\"\"\n",
    "    Function to take in checkbox inputs and return\n",
    "    \n",
    "    :return dataframe\n",
    "    \"\"\"\n",
    "    model_features = ['has_right', 'has_left',\n",
    "                      'has_Atrump', 'has_Ktrump', 'has_Qtrump', 'has_Ttrump', 'has_9trump',\n",
    "                      'num_off_A', 'num_off_K', 'num_off_Q'\n",
    "                      ]\n",
    "    hand = {feature: [0] for feature in model_features}\n",
    "    df = pd.DataFrame(hand)\n",
    "    if trump == 'SPADES':\n",
    "        if a_s:\n",
    "            df['has_Atrump'] = 1\n",
    "        if k_s:\n",
    "            df['has_Ktrump'] = 1\n",
    "        if q_s:\n",
    "            df['has_Qtrump'] = 1\n",
    "        if j_s:\n",
    "            df['has_right'] = 1\n",
    "        if t_s:\n",
    "            df['has_Ttrump'] = 1\n",
    "        if nine_s:\n",
    "            df['has_9trump'] = 1\n",
    "        if j_c:\n",
    "            df['has_left'] = 1\n",
    "\n",
    "    if trump == 'CLUBS':\n",
    "        if a_c:\n",
    "            df['has_Atrump'] = 1\n",
    "        if k_c:\n",
    "            df['has_Ktrump'] = 1\n",
    "        if q_c:\n",
    "            df['has_Qtrump'] = 1\n",
    "        if j_c:\n",
    "            df['has_right'] = 1\n",
    "        if t_c:\n",
    "            df['has_Ttrump'] = 1\n",
    "        if nine_c:\n",
    "            df['has_9trump'] = 1\n",
    "        if j_s:\n",
    "            df['has_left'] = 1\n",
    "\n",
    "    if trump == 'DIAMONDS':\n",
    "        if a_d:\n",
    "            df['has_Atrump'] = 1\n",
    "        if k_d:\n",
    "            df['has_Ktrump'] = 1\n",
    "        if q_d:\n",
    "            df['has_Qtrump'] = 1\n",
    "        if j_d:\n",
    "            df['has_right'] = 1\n",
    "        if t_d:\n",
    "            df['has_Ttrump'] = 1\n",
    "        if nine_d:\n",
    "            df['has_9trump'] = 1\n",
    "        if j_h:\n",
    "            df['has_left'] = 1\n",
    "\n",
    "    if trump == 'HEARTS':\n",
    "        if a_h:\n",
    "            df['has_Atrump'] = 1\n",
    "        if k_h:\n",
    "            df['has_Ktrump'] = 1\n",
    "        if q_h:\n",
    "            df['has_Qtrump'] = 1\n",
    "        if j_h:\n",
    "            df['has_right'] = 1\n",
    "        if t_h:\n",
    "            df['has_Ttrump'] = 1\n",
    "        if nine_h:\n",
    "            df['has_9trump'] = 1\n",
    "        if j_d:\n",
    "            df['has_left'] = 1\n",
    "\n",
    "    return df"
   ]
  },
  {
   "cell_type": "code",
   "execution_count": 103,
   "id": "fbd459f4",
   "metadata": {},
   "outputs": [
    {
     "data": {
      "text/html": [
       "<div>\n",
       "<style scoped>\n",
       "    .dataframe tbody tr th:only-of-type {\n",
       "        vertical-align: middle;\n",
       "    }\n",
       "\n",
       "    .dataframe tbody tr th {\n",
       "        vertical-align: top;\n",
       "    }\n",
       "\n",
       "    .dataframe thead th {\n",
       "        text-align: right;\n",
       "    }\n",
       "</style>\n",
       "<table border=\"1\" class=\"dataframe\">\n",
       "  <thead>\n",
       "    <tr style=\"text-align: right;\">\n",
       "      <th></th>\n",
       "      <th>has_right</th>\n",
       "      <th>has_left</th>\n",
       "      <th>has_Atrump</th>\n",
       "      <th>has_Ktrump</th>\n",
       "      <th>has_Qtrump</th>\n",
       "      <th>has_Ttrump</th>\n",
       "      <th>has_9trump</th>\n",
       "      <th>num_off_A</th>\n",
       "      <th>num_off_K</th>\n",
       "      <th>num_off_Q</th>\n",
       "    </tr>\n",
       "  </thead>\n",
       "  <tbody>\n",
       "    <tr>\n",
       "      <th>0</th>\n",
       "      <td>0</td>\n",
       "      <td>0</td>\n",
       "      <td>0</td>\n",
       "      <td>0</td>\n",
       "      <td>0</td>\n",
       "      <td>0</td>\n",
       "      <td>0</td>\n",
       "      <td>0</td>\n",
       "      <td>0</td>\n",
       "      <td>0</td>\n",
       "    </tr>\n",
       "  </tbody>\n",
       "</table>\n",
       "</div>"
      ],
      "text/plain": [
       "   has_right  has_left  has_Atrump  has_Ktrump  has_Qtrump  has_Ttrump  \\\n",
       "0          0         0           0           0           0           0   \n",
       "\n",
       "   has_9trump  num_off_A  num_off_K  num_off_Q  \n",
       "0           0          0          0          0  "
      ]
     },
     "execution_count": 103,
     "metadata": {},
     "output_type": "execute_result"
    }
   ],
   "source": [
    "translate_st_input_to_df(trump='S', \n",
    "                         a_s=False,\n",
    "                         k_s=False,\n",
    "                         q_s=False,\n",
    "                         j_s=False, \n",
    "                         t_s=False,\n",
    "                         nine_s=False,\n",
    "                         j_c=False)"
   ]
  },
  {
   "cell_type": "code",
   "execution_count": null,
   "id": "759b0d93",
   "metadata": {},
   "outputs": [],
   "source": []
  },
  {
   "cell_type": "code",
   "execution_count": 151,
   "id": "f0934607",
   "metadata": {},
   "outputs": [],
   "source": [
    "def count_suits_st_input(trump: str,\n",
    "                             a_s=False, k_s=False, q_s=False, j_s=False, t_s=False, nine_s=False,\n",
    "                             a_c=False, k_c=False, q_c=False, j_c=False, t_c=False, nine_c=False,\n",
    "                             a_d=False, k_d=False, q_d=False, j_d=False, t_d=False, nine_d=False,\n",
    "                             a_h=False, k_h=False, q_h=False, j_h=False, t_h=False, nine_h=False):\n",
    "    \"\"\"\n",
    "    :return int of number of suits\n",
    "    \"\"\"\n",
    "    suits = set()\n",
    "    if trump == 'HEARTS':\n",
    "        if a_h or k_h or q_h or j_h or j_d or t_h or nine_h:\n",
    "            suits.add('h')\n",
    "        if a_d or k_d or q_d or t_d or nine_d:\n",
    "            suits.add('d')\n",
    "        if a_s or k_s or q_s or j_s or t_s or nine_s:\n",
    "            suits.add('s')\n",
    "        if a_c or k_c or q_c or j_c or t_c or nine_c:\n",
    "            suits.add('c')\n",
    "    return len(suits)"
   ]
  },
  {
   "cell_type": "code",
   "execution_count": 157,
   "id": "107809ee",
   "metadata": {},
   "outputs": [
    {
     "data": {
      "text/plain": [
       "2"
      ]
     },
     "execution_count": 157,
     "metadata": {},
     "output_type": "execute_result"
    }
   ],
   "source": [
    "count_suits_st_input(trump='HEARTS', \n",
    "                     a_s=False, k_s=False, q_s=False, j_s=False, t_s=False, nine_s=False,\n",
    "                             a_c=True, k_c=False, q_c=False, j_c=False, t_c=False, nine_c=False,\n",
    "                             a_d=False, k_d=False, q_d=False, j_d=True, t_d=False, nine_d=False,\n",
    "                             a_h=False, k_h=True, q_h=False, j_h=False, t_h=False, nine_h=False\n",
    "                    )"
   ]
  },
  {
   "cell_type": "code",
   "execution_count": null,
   "id": "d701c71e",
   "metadata": {},
   "outputs": [],
   "source": []
  }
 ],
 "metadata": {
  "kernelspec": {
   "display_name": "Python 3",
   "language": "python",
   "name": "python3"
  },
  "language_info": {
   "codemirror_mode": {
    "name": "ipython",
    "version": 3
   },
   "file_extension": ".py",
   "mimetype": "text/x-python",
   "name": "python",
   "nbconvert_exporter": "python",
   "pygments_lexer": "ipython3",
   "version": "3.8.8"
  }
 },
 "nbformat": 4,
 "nbformat_minor": 5
}
