{
 "cells": [
  {
   "cell_type": "markdown",
   "id": "90814574",
   "metadata": {},
   "source": [
    "# Euchre Trick Model\n",
    "Model to estimate the number of tricks a given hand will be able to take  \n",
    "(or maybe the percent likelihood of each number of tricks taken 0-5)"
   ]
  },
  {
   "cell_type": "code",
   "execution_count": 1,
   "id": "636d0012",
   "metadata": {},
   "outputs": [],
   "source": [
    "import pandas as pd"
   ]
  },
  {
   "cell_type": "code",
   "execution_count": 2,
   "id": "01eca371",
   "metadata": {},
   "outputs": [],
   "source": [
    "raw_train_df = pd.read_csv('all_hand_results.csv')"
   ]
  },
  {
   "cell_type": "code",
   "execution_count": 3,
   "id": "b87e5344",
   "metadata": {},
   "outputs": [
    {
     "data": {
      "text/plain": [
       "(48176, 14)"
      ]
     },
     "execution_count": 3,
     "metadata": {},
     "output_type": "execute_result"
    }
   ],
   "source": [
    "raw_train_df.shape"
   ]
  },
  {
   "cell_type": "code",
   "execution_count": 4,
   "id": "ec8256ff",
   "metadata": {},
   "outputs": [
    {
     "data": {
      "text/html": [
       "<div>\n",
       "<style scoped>\n",
       "    .dataframe tbody tr th:only-of-type {\n",
       "        vertical-align: middle;\n",
       "    }\n",
       "\n",
       "    .dataframe tbody tr th {\n",
       "        vertical-align: top;\n",
       "    }\n",
       "\n",
       "    .dataframe thead th {\n",
       "        text-align: right;\n",
       "    }\n",
       "</style>\n",
       "<table border=\"1\" class=\"dataframe\">\n",
       "  <thead>\n",
       "    <tr style=\"text-align: right;\">\n",
       "      <th></th>\n",
       "      <th>tricks_won</th>\n",
       "      <th>is_calling_player</th>\n",
       "      <th>teammate_called</th>\n",
       "      <th>has_right</th>\n",
       "      <th>has_left</th>\n",
       "      <th>has_Atrump</th>\n",
       "      <th>has_Ktrump</th>\n",
       "      <th>has_Qtrump</th>\n",
       "      <th>has_Ttrump</th>\n",
       "      <th>has_9trump</th>\n",
       "      <th>num_off_A</th>\n",
       "      <th>num_off_K</th>\n",
       "      <th>num_off_Q</th>\n",
       "      <th>partner_tricks</th>\n",
       "    </tr>\n",
       "  </thead>\n",
       "  <tbody>\n",
       "    <tr>\n",
       "      <th>0</th>\n",
       "      <td>1</td>\n",
       "      <td>0</td>\n",
       "      <td>1</td>\n",
       "      <td>0</td>\n",
       "      <td>0</td>\n",
       "      <td>0</td>\n",
       "      <td>0</td>\n",
       "      <td>0</td>\n",
       "      <td>0</td>\n",
       "      <td>0</td>\n",
       "      <td>1</td>\n",
       "      <td>2</td>\n",
       "      <td>0</td>\n",
       "      <td>2</td>\n",
       "    </tr>\n",
       "    <tr>\n",
       "      <th>1</th>\n",
       "      <td>2</td>\n",
       "      <td>0</td>\n",
       "      <td>0</td>\n",
       "      <td>0</td>\n",
       "      <td>1</td>\n",
       "      <td>0</td>\n",
       "      <td>0</td>\n",
       "      <td>1</td>\n",
       "      <td>0</td>\n",
       "      <td>0</td>\n",
       "      <td>0</td>\n",
       "      <td>1</td>\n",
       "      <td>1</td>\n",
       "      <td>0</td>\n",
       "    </tr>\n",
       "    <tr>\n",
       "      <th>2</th>\n",
       "      <td>2</td>\n",
       "      <td>1</td>\n",
       "      <td>0</td>\n",
       "      <td>1</td>\n",
       "      <td>0</td>\n",
       "      <td>0</td>\n",
       "      <td>1</td>\n",
       "      <td>0</td>\n",
       "      <td>1</td>\n",
       "      <td>0</td>\n",
       "      <td>0</td>\n",
       "      <td>0</td>\n",
       "      <td>0</td>\n",
       "      <td>1</td>\n",
       "    </tr>\n",
       "    <tr>\n",
       "      <th>3</th>\n",
       "      <td>0</td>\n",
       "      <td>0</td>\n",
       "      <td>0</td>\n",
       "      <td>0</td>\n",
       "      <td>0</td>\n",
       "      <td>0</td>\n",
       "      <td>0</td>\n",
       "      <td>0</td>\n",
       "      <td>0</td>\n",
       "      <td>1</td>\n",
       "      <td>0</td>\n",
       "      <td>0</td>\n",
       "      <td>2</td>\n",
       "      <td>2</td>\n",
       "    </tr>\n",
       "    <tr>\n",
       "      <th>4</th>\n",
       "      <td>2</td>\n",
       "      <td>1</td>\n",
       "      <td>0</td>\n",
       "      <td>1</td>\n",
       "      <td>0</td>\n",
       "      <td>0</td>\n",
       "      <td>1</td>\n",
       "      <td>0</td>\n",
       "      <td>1</td>\n",
       "      <td>0</td>\n",
       "      <td>0</td>\n",
       "      <td>0</td>\n",
       "      <td>1</td>\n",
       "      <td>2</td>\n",
       "    </tr>\n",
       "  </tbody>\n",
       "</table>\n",
       "</div>"
      ],
      "text/plain": [
       "   tricks_won  is_calling_player  teammate_called  has_right  has_left  \\\n",
       "0           1                  0                1          0         0   \n",
       "1           2                  0                0          0         1   \n",
       "2           2                  1                0          1         0   \n",
       "3           0                  0                0          0         0   \n",
       "4           2                  1                0          1         0   \n",
       "\n",
       "   has_Atrump  has_Ktrump  has_Qtrump  has_Ttrump  has_9trump  num_off_A  \\\n",
       "0           0           0           0           0           0          1   \n",
       "1           0           0           1           0           0          0   \n",
       "2           0           1           0           1           0          0   \n",
       "3           0           0           0           0           1          0   \n",
       "4           0           1           0           1           0          0   \n",
       "\n",
       "   num_off_K  num_off_Q  partner_tricks  \n",
       "0          2          0               2  \n",
       "1          1          1               0  \n",
       "2          0          0               1  \n",
       "3          0          2               2  \n",
       "4          0          1               2  "
      ]
     },
     "execution_count": 4,
     "metadata": {},
     "output_type": "execute_result"
    }
   ],
   "source": [
    "raw_train_df.head()"
   ]
  },
  {
   "cell_type": "code",
   "execution_count": 5,
   "id": "329ab94c",
   "metadata": {},
   "outputs": [
    {
     "data": {
      "text/plain": [
       "Index(['tricks_won', 'is_calling_player', 'teammate_called', 'has_right',\n",
       "       'has_left', 'has_Atrump', 'has_Ktrump', 'has_Qtrump', 'has_Ttrump',\n",
       "       'has_9trump', 'num_off_A', 'num_off_K', 'num_off_Q', 'partner_tricks'],\n",
       "      dtype='object')"
      ]
     },
     "execution_count": 5,
     "metadata": {},
     "output_type": "execute_result"
    }
   ],
   "source": [
    "raw_train_df.columns"
   ]
  },
  {
   "cell_type": "code",
   "execution_count": 29,
   "id": "2f1d5c9c",
   "metadata": {},
   "outputs": [
    {
     "data": {
      "text/plain": [
       "<AxesSubplot:>"
      ]
     },
     "execution_count": 29,
     "metadata": {},
     "output_type": "execute_result"
    },
    {
     "data": {
      "image/png": "[encoded data removed]",
      "text/plain": [
       "<Figure size 432x288 with 1 Axes>"
      ]
     },
     "metadata": {
      "needs_background": "light"
     },
     "output_type": "display_data"
    }
   ],
   "source": [
    "raw_train_df['tricks_won'].hist(bins=11)"
   ]
  },
  {
   "cell_type": "code",
   "execution_count": null,
   "id": "cdb47c14",
   "metadata": {},
   "outputs": [],
   "source": []
  },
  {
   "cell_type": "code",
   "execution_count": null,
   "id": "811240dd",
   "metadata": {},
   "outputs": [],
   "source": []
  },
  {
   "cell_type": "markdown",
   "id": "611d9e96",
   "metadata": {},
   "source": [
    "### Create train/test/validation splits"
   ]
  },
  {
   "cell_type": "code",
   "execution_count": 9,
   "id": "d1fd4440",
   "metadata": {},
   "outputs": [],
   "source": [
    "model_features = ['has_right', 'has_left',\n",
    "                  'has_Atrump', 'has_Ktrump', 'has_Qtrump', 'has_Ttrump', 'has_9trump', \n",
    "                  'num_off_A', 'num_off_K', 'num_off_Q'\n",
    "                 ]"
   ]
  },
  {
   "cell_type": "code",
   "execution_count": 10,
   "id": "867d8094",
   "metadata": {},
   "outputs": [],
   "source": [
    "from sklearn.model_selection import train_test_split"
   ]
  },
  {
   "cell_type": "code",
   "execution_count": 11,
   "id": "bedeffe9",
   "metadata": {},
   "outputs": [],
   "source": [
    "train_df, test_df, train_targets_df, test_targets_df = train_test_split(raw_train_df[model_features], \n",
    "                                                    raw_train_df['tricks_won'], \n",
    "                                                    test_size=0.33, random_state=42)"
   ]
  },
  {
   "cell_type": "code",
   "execution_count": 12,
   "id": "f2703cb3",
   "metadata": {},
   "outputs": [
    {
     "data": {
      "text/plain": [
       "(32277, 10)"
      ]
     },
     "execution_count": 12,
     "metadata": {},
     "output_type": "execute_result"
    }
   ],
   "source": [
    "train_df.shape"
   ]
  },
  {
   "cell_type": "code",
   "execution_count": 13,
   "id": "46d7549b",
   "metadata": {},
   "outputs": [
    {
     "data": {
      "text/plain": [
       "(15899, 10)"
      ]
     },
     "execution_count": 13,
     "metadata": {},
     "output_type": "execute_result"
    }
   ],
   "source": [
    "test_df.shape"
   ]
  },
  {
   "cell_type": "code",
   "execution_count": null,
   "id": "ffced6fc",
   "metadata": {},
   "outputs": [],
   "source": []
  },
  {
   "cell_type": "markdown",
   "id": "fae60676",
   "metadata": {},
   "source": [
    "#### Scale Features"
   ]
  },
  {
   "cell_type": "code",
   "execution_count": 14,
   "id": "93afbe02",
   "metadata": {},
   "outputs": [],
   "source": [
    "from sklearn.preprocessing import StandardScaler"
   ]
  },
  {
   "cell_type": "code",
   "execution_count": 15,
   "id": "690115a7",
   "metadata": {},
   "outputs": [],
   "source": [
    "sc = StandardScaler()\n",
    "train_df = sc.fit_transform(train_df)\n",
    "test_df = sc.transform (test_df)"
   ]
  },
  {
   "cell_type": "code",
   "execution_count": null,
   "id": "20d72f0e",
   "metadata": {},
   "outputs": [],
   "source": []
  },
  {
   "cell_type": "markdown",
   "id": "a30b2555",
   "metadata": {},
   "source": [
    "## Modeling"
   ]
  },
  {
   "cell_type": "code",
   "execution_count": null,
   "id": "3ec061cd",
   "metadata": {},
   "outputs": [],
   "source": []
  },
  {
   "cell_type": "markdown",
   "id": "043fb7a2",
   "metadata": {},
   "source": [
    "#### Linear Regression"
   ]
  },
  {
   "cell_type": "code",
   "execution_count": 16,
   "id": "2883fec1",
   "metadata": {},
   "outputs": [],
   "source": [
    "from sklearn.linear_model import LinearRegression"
   ]
  },
  {
   "cell_type": "code",
   "execution_count": 17,
   "id": "6be1f8cc",
   "metadata": {},
   "outputs": [],
   "source": [
    "reg = LinearRegression().fit(train_df, train_targets_df)"
   ]
  },
  {
   "cell_type": "code",
   "execution_count": 18,
   "id": "dddec7de",
   "metadata": {},
   "outputs": [
    {
     "data": {
      "text/plain": [
       "array([0.69979516, 0.39132638, 0.242542  , 0.36192397, 0.34082793,\n",
       "       0.32722589, 0.31375537, 0.16051014, 0.22705726, 0.06519248])"
      ]
     },
     "execution_count": 18,
     "metadata": {},
     "output_type": "execute_result"
    }
   ],
   "source": [
    "reg.coef_"
   ]
  },
  {
   "cell_type": "code",
   "execution_count": 19,
   "id": "99615104",
   "metadata": {},
   "outputs": [],
   "source": [
    "test_preds = reg.predict(test_df)"
   ]
  },
  {
   "cell_type": "code",
   "execution_count": 20,
   "id": "2369d082",
   "metadata": {},
   "outputs": [
    {
     "data": {
      "text/plain": [
       "array([0.76926004, 1.15166919, 1.42730551, 1.89538952, 0.87313307])"
      ]
     },
     "execution_count": 20,
     "metadata": {},
     "output_type": "execute_result"
    }
   ],
   "source": [
    "test_preds[0:5]"
   ]
  },
  {
   "cell_type": "code",
   "execution_count": null,
   "id": "83924278",
   "metadata": {},
   "outputs": [],
   "source": []
  },
  {
   "cell_type": "markdown",
   "id": "bc77ee77",
   "metadata": {},
   "source": [
    "### Evalute model"
   ]
  },
  {
   "cell_type": "code",
   "execution_count": 21,
   "id": "be9883e5",
   "metadata": {},
   "outputs": [],
   "source": [
    "from sklearn.metrics import mean_absolute_error\n",
    "from sklearn.metrics import mean_squared_error\n",
    "from sklearn.metrics import r2_score"
   ]
  },
  {
   "cell_type": "code",
   "execution_count": 22,
   "id": "1681b7dd",
   "metadata": {},
   "outputs": [
    {
     "data": {
      "text/plain": [
       "0.5435778322256319"
      ]
     },
     "execution_count": 22,
     "metadata": {},
     "output_type": "execute_result"
    }
   ],
   "source": [
    "mean_absolute_error(y_true=test_targets_df, y_pred=test_preds)"
   ]
  },
  {
   "cell_type": "code",
   "execution_count": 23,
   "id": "dc612ddf",
   "metadata": {},
   "outputs": [
    {
     "data": {
      "text/plain": [
       "0.485823243109417"
      ]
     },
     "execution_count": 23,
     "metadata": {},
     "output_type": "execute_result"
    }
   ],
   "source": [
    "mean_squared_error(y_true=test_targets_df, y_pred=test_preds)"
   ]
  },
  {
   "cell_type": "code",
   "execution_count": 24,
   "id": "d7c18082",
   "metadata": {},
   "outputs": [
    {
     "data": {
      "text/plain": [
       "0.7020380601757334"
      ]
     },
     "execution_count": 24,
     "metadata": {},
     "output_type": "execute_result"
    }
   ],
   "source": [
    "r2_score(y_true=test_targets_df, y_pred=test_preds)"
   ]
  },
  {
   "cell_type": "code",
   "execution_count": null,
   "id": "04732545",
   "metadata": {},
   "outputs": [],
   "source": []
  },
  {
   "cell_type": "code",
   "execution_count": null,
   "id": "b289e8e7",
   "metadata": {},
   "outputs": [],
   "source": []
  },
  {
   "cell_type": "markdown",
   "id": "f913e769",
   "metadata": {},
   "source": [
    "#### Pipeline"
   ]
  },
  {
   "cell_type": "code",
   "execution_count": null,
   "id": "7ae9bc7b",
   "metadata": {},
   "outputs": [],
   "source": [
    "from sklearn.pipeline import Pipeline"
   ]
  },
  {
   "cell_type": "code",
   "execution_count": null,
   "id": "e8705514",
   "metadata": {},
   "outputs": [],
   "source": [
    "pipe = Pipeline([\n",
    "        ('scale', StandardScaler()),\n",
    "        ('reduce_dims', PCA(n_components=4)),\n",
    "        ('clf', SVC(kernel = 'linear', C = 1))])"
   ]
  },
  {
   "cell_type": "code",
   "execution_count": null,
   "id": "5e12e3bc",
   "metadata": {},
   "outputs": [],
   "source": []
  },
  {
   "cell_type": "code",
   "execution_count": null,
   "id": "ed755043",
   "metadata": {},
   "outputs": [],
   "source": []
  },
  {
   "cell_type": "markdown",
   "id": "431f4a8c",
   "metadata": {},
   "source": [
    "## Next Steps"
   ]
  },
  {
   "cell_type": "code",
   "execution_count": null,
   "id": "62678b89",
   "metadata": {},
   "outputs": [],
   "source": [
    "# Features - add player position at table, team tricks won\n",
    "\n",
    "# Standardize input features to linear model\n",
    "# Tree-based models - RF, GBM, etc.\n",
    "# Look at feature importance\n",
    "\n",
    "# PyTorch models\n",
    "    # compare PyTorch version vs. sklearn\n",
    "# Classification models to predict likelihood for each score outcome\n",
    "\n",
    "# Streamlit App to return results\n",
    "    # how to input cards in hand?\n",
    "    # bar chart of expected returns"
   ]
  },
  {
   "cell_type": "code",
   "execution_count": null,
   "id": "fb266331",
   "metadata": {},
   "outputs": [],
   "source": []
  },
  {
   "cell_type": "code",
   "execution_count": null,
   "id": "fbd459f4",
   "metadata": {},
   "outputs": [],
   "source": []
  }
 ],
 "metadata": {
  "kernelspec": {
   "display_name": "Python 3",
   "language": "python",
   "name": "python3"
  },
  "language_info": {
   "codemirror_mode": {
    "name": "ipython",
    "version": 3
   },
   "file_extension": ".py",
   "mimetype": "text/x-python",
   "name": "python",
   "nbconvert_exporter": "python",
   "pygments_lexer": "ipython3",
   "version": "3.8.8"
  }
 },
 "nbformat": 4,
 "nbformat_minor": 5
}
