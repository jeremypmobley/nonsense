{
 "cells": [
  {
   "cell_type": "markdown",
   "id": "acf3992d",
   "metadata": {},
   "source": [
    "# Euchre situation simulator"
   ]
  },
  {
   "cell_type": "code",
   "execution_count": null,
   "id": "bfb3d0ba",
   "metadata": {},
   "outputs": [],
   "source": []
  },
  {
   "cell_type": "code",
   "execution_count": 5,
   "id": "e9ab9b4d",
   "metadata": {},
   "outputs": [],
   "source": [
    "%load_ext autoreload\n",
    "%autoreload 2\n",
    "\n",
    "import numpy as np\n",
    "import sys\n",
    "\n",
    "sys.path.insert(0, 'C:/Users/jerem/Desktop/nonsense/euchre/')\n",
    "\n",
    "from utils import EuchreGame"
   ]
  },
  {
   "cell_type": "code",
   "execution_count": 6,
   "id": "7214e7e0",
   "metadata": {},
   "outputs": [],
   "source": [
    "euchre_game = EuchreGame()"
   ]
  },
  {
   "cell_type": "code",
   "execution_count": 19,
   "id": "263420a1",
   "metadata": {},
   "outputs": [
    {
     "data": {
      "text/plain": [
       "['9_S',\n",
       " '9_C',\n",
       " '9_H',\n",
       " '9_D',\n",
       " 'T_S',\n",
       " 'T_C',\n",
       " 'T_H',\n",
       " 'T_D',\n",
       " 'J_S',\n",
       " 'J_C',\n",
       " 'J_H',\n",
       " 'J_D',\n",
       " 'Q_S',\n",
       " 'Q_C',\n",
       " 'Q_H',\n",
       " 'Q_D',\n",
       " 'K_S',\n",
       " 'K_C',\n",
       " 'K_H',\n",
       " 'K_D',\n",
       " 'A_S',\n",
       " 'A_C',\n",
       " 'A_H',\n",
       " 'A_D']"
      ]
     },
     "execution_count": 19,
     "metadata": {},
     "output_type": "execute_result"
    }
   ],
   "source": [
    "deck_of_cards = ['9_S',\n",
    " '9_C',\n",
    " '9_H',\n",
    " '9_D',\n",
    " 'T_S',\n",
    " 'T_C',\n",
    " 'T_H',\n",
    " 'T_D',\n",
    " 'J_S',\n",
    " 'J_C',\n",
    " 'J_H',\n",
    " 'J_D',\n",
    " 'Q_S',\n",
    " 'Q_C',\n",
    " 'Q_H',\n",
    " 'Q_D',\n",
    " 'K_S',\n",
    " 'K_C',\n",
    " 'K_H',\n",
    " 'K_D',\n",
    " 'A_S',\n",
    " 'A_C',\n",
    " 'A_H',\n",
    " 'A_D']\n",
    "\n",
    "deck_of_cards"
   ]
  },
  {
   "cell_type": "code",
   "execution_count": null,
   "id": "1af8c200",
   "metadata": {},
   "outputs": [],
   "source": [
    "# Set a specific set of 5 cards in hand and situation in game and simulate hand from that"
   ]
  },
  {
   "cell_type": "code",
   "execution_count": 31,
   "id": "77df3e65",
   "metadata": {},
   "outputs": [],
   "source": [
    "cards_in_hand = ['J_D', 'A_H', 'T_H', 'T_C', 'T_S']\n",
    "trump = 'H'\n",
    "player_position = 1"
   ]
  },
  {
   "cell_type": "code",
   "execution_count": 32,
   "id": "82a4b30c",
   "metadata": {},
   "outputs": [
    {
     "data": {
      "text/plain": [
       "['9_S',\n",
       " '9_C',\n",
       " '9_H',\n",
       " '9_D',\n",
       " 'T_D',\n",
       " 'J_S',\n",
       " 'J_C',\n",
       " 'J_H',\n",
       " 'Q_S',\n",
       " 'Q_C',\n",
       " 'Q_H',\n",
       " 'Q_D',\n",
       " 'K_S',\n",
       " 'K_C',\n",
       " 'K_H',\n",
       " 'K_D',\n",
       " 'A_S',\n",
       " 'A_C',\n",
       " 'A_D']"
      ]
     },
     "execution_count": 32,
     "metadata": {},
     "output_type": "execute_result"
    }
   ],
   "source": [
    "for card in cards_in_hand:\n",
    "    deck_of_cards.remove(card)\n",
    "\n",
    "deck_of_cards"
   ]
  },
  {
   "cell_type": "code",
   "execution_count": null,
   "id": "7c91a72b",
   "metadata": {},
   "outputs": [],
   "source": [
    "# from this position, simulate the hand"
   ]
  },
  {
   "cell_type": "code",
   "execution_count": null,
   "id": "590c9a8b",
   "metadata": {},
   "outputs": [],
   "source": [
    "# deal rest of cards"
   ]
  },
  {
   "cell_type": "code",
   "execution_count": null,
   "id": "3e1efdc6",
   "metadata": {},
   "outputs": [],
   "source": [
    "# call trump"
   ]
  },
  {
   "cell_type": "code",
   "execution_count": null,
   "id": "b272cc5e",
   "metadata": {},
   "outputs": [],
   "source": [
    "# update play_hand to be"
   ]
  },
  {
   "cell_type": "code",
   "execution_count": 144,
   "id": "bc58e9cf",
   "metadata": {},
   "outputs": [],
   "source": [
    "from utils import EuchreHand"
   ]
  },
  {
   "cell_type": "code",
   "execution_count": 167,
   "id": "c6be6c52",
   "metadata": {},
   "outputs": [],
   "source": [
    "euchre_hand = EuchreHand()"
   ]
  },
  {
   "cell_type": "code",
   "execution_count": 168,
   "id": "8bf3ebd5",
   "metadata": {},
   "outputs": [
    {
     "data": {
      "text/plain": [
       "'p1'"
      ]
     },
     "execution_count": 168,
     "metadata": {},
     "output_type": "execute_result"
    }
   ],
   "source": [
    "euchre_hand.dealer"
   ]
  },
  {
   "cell_type": "code",
   "execution_count": 169,
   "id": "0cfe8bfe",
   "metadata": {},
   "outputs": [
    {
     "data": {
      "text/plain": [
       "['p2', 'p3', 'p4', 'p1']"
      ]
     },
     "execution_count": 169,
     "metadata": {},
     "output_type": "execute_result"
    }
   ],
   "source": [
    "euchre_hand.next_to_deal"
   ]
  },
  {
   "cell_type": "code",
   "execution_count": 170,
   "id": "db2c8795",
   "metadata": {},
   "outputs": [
    {
     "ename": "AttributeError",
     "evalue": "type object 'EuchreHand' has no attribute 'player_hand'",
     "output_type": "error",
     "traceback": [
      "\u001b[1;31m---------------------------------------------------------------------------\u001b[0m",
      "\u001b[1;31mAttributeError\u001b[0m                            Traceback (most recent call last)",
      "\u001b[1;32m<ipython-input-170-0dcb12e8d3c1>\u001b[0m in \u001b[0;36m<module>\u001b[1;34m\u001b[0m\n\u001b[1;32m----> 1\u001b[1;33m \u001b[0meuchre_hand\u001b[0m\u001b[1;33m.\u001b[0m\u001b[0mplay_hand\u001b[0m\u001b[1;33m(\u001b[0m\u001b[1;33m)\u001b[0m\u001b[1;33m\u001b[0m\u001b[1;33m\u001b[0m\u001b[0m\n\u001b[0m",
      "\u001b[1;32mC:/Users/jerem/Desktop/nonsense/euchre\\utils.py\u001b[0m in \u001b[0;36mplay_hand\u001b[1;34m(cls)\u001b[0m\n\u001b[0;32m   1054\u001b[0m         \u001b[0mFunction\u001b[0m \u001b[0mto\u001b[0m \u001b[0mplay\u001b[0m \u001b[0mfull\u001b[0m \u001b[0mhand\u001b[0m\u001b[1;33m\u001b[0m\u001b[1;33m\u001b[0m\u001b[0m\n\u001b[0;32m   1055\u001b[0m         \"\"\"\n\u001b[1;32m-> 1056\u001b[1;33m         \u001b[0mplayer_hands\u001b[0m\u001b[1;33m,\u001b[0m \u001b[0mcard_flipped_up\u001b[0m \u001b[1;33m=\u001b[0m \u001b[0mcls\u001b[0m\u001b[1;33m.\u001b[0m\u001b[0mdeal_hand\u001b[0m\u001b[1;33m(\u001b[0m\u001b[0mplayer_hand\u001b[0m\u001b[1;33m=\u001b[0m\u001b[0mcls\u001b[0m\u001b[1;33m.\u001b[0m\u001b[0mplayer_hand\u001b[0m\u001b[1;33m)\u001b[0m\u001b[1;33m\u001b[0m\u001b[1;33m\u001b[0m\u001b[0m\n\u001b[0m\u001b[0;32m   1057\u001b[0m \u001b[1;33m\u001b[0m\u001b[0m\n\u001b[0;32m   1058\u001b[0m         \u001b[1;31m# choose trump\u001b[0m\u001b[1;33m\u001b[0m\u001b[1;33m\u001b[0m\u001b[1;33m\u001b[0m\u001b[0m\n",
      "\u001b[1;31mAttributeError\u001b[0m: type object 'EuchreHand' has no attribute 'player_hand'"
     ]
    }
   ],
   "source": [
    "euchre_hand.play_hand()"
   ]
  },
  {
   "cell_type": "code",
   "execution_count": null,
   "id": "35e14f43",
   "metadata": {},
   "outputs": [],
   "source": []
  },
  {
   "cell_type": "code",
   "execution_count": null,
   "id": "088246b7",
   "metadata": {},
   "outputs": [],
   "source": []
  },
  {
   "cell_type": "code",
   "execution_count": null,
   "id": "a82003ea",
   "metadata": {},
   "outputs": [],
   "source": []
  },
  {
   "cell_type": "code",
   "execution_count": null,
   "id": "13a1bc93",
   "metadata": {},
   "outputs": [],
   "source": []
  },
  {
   "cell_type": "code",
   "execution_count": null,
   "id": "53bed9a5",
   "metadata": {},
   "outputs": [],
   "source": []
  },
  {
   "cell_type": "code",
   "execution_count": null,
   "id": "8b90114e",
   "metadata": {},
   "outputs": [],
   "source": []
  },
  {
   "cell_type": "code",
   "execution_count": null,
   "id": "ab4bb2d9",
   "metadata": {},
   "outputs": [],
   "source": []
  },
  {
   "cell_type": "code",
   "execution_count": null,
   "id": "2f605e51",
   "metadata": {},
   "outputs": [],
   "source": []
  },
  {
   "cell_type": "code",
   "execution_count": null,
   "id": "378e74d3",
   "metadata": {},
   "outputs": [],
   "source": []
  },
  {
   "cell_type": "code",
   "execution_count": null,
   "id": "b095e7d4",
   "metadata": {},
   "outputs": [],
   "source": []
  },
  {
   "cell_type": "code",
   "execution_count": null,
   "id": "d41cc9b8",
   "metadata": {},
   "outputs": [],
   "source": []
  },
  {
   "cell_type": "code",
   "execution_count": null,
   "id": "7d5ae3ee",
   "metadata": {},
   "outputs": [],
   "source": []
  },
  {
   "cell_type": "markdown",
   "id": "1e850ebc",
   "metadata": {},
   "source": [
    "# FUCK CLASSES"
   ]
  },
  {
   "cell_type": "code",
   "execution_count": 183,
   "id": "7d337ee9",
   "metadata": {},
   "outputs": [],
   "source": [
    "deck_of_cards = ['9_S',\n",
    " '9_C',\n",
    " '9_H',\n",
    " '9_D',\n",
    " 'T_S',\n",
    " 'T_C',\n",
    " 'T_H',\n",
    " 'T_D',\n",
    " 'J_S',\n",
    " 'J_C',\n",
    " 'J_H',\n",
    " 'J_D',\n",
    " 'Q_S',\n",
    " 'Q_C',\n",
    " 'Q_H',\n",
    " 'Q_D',\n",
    " 'K_S',\n",
    " 'K_C',\n",
    " 'K_H',\n",
    " 'K_D',\n",
    " 'A_S',\n",
    " 'A_C',\n",
    " 'A_H',\n",
    " 'A_D']"
   ]
  },
  {
   "cell_type": "code",
   "execution_count": 184,
   "id": "a18492ee",
   "metadata": {},
   "outputs": [],
   "source": [
    "player_hand = ['J_D', 'A_H', 'T_H', 'T_C', 'T_S']\n",
    "player_position = 1"
   ]
  },
  {
   "cell_type": "code",
   "execution_count": 185,
   "id": "578ae8c8",
   "metadata": {},
   "outputs": [],
   "source": [
    "for card in cards_in_hand:\n",
    "    deck_of_cards.remove(card)"
   ]
  },
  {
   "cell_type": "code",
   "execution_count": 186,
   "id": "ed80e697",
   "metadata": {},
   "outputs": [],
   "source": [
    "rng = np.random.default_rng()\n",
    "numbers = rng.choice(16, size=16, replace=False)\n",
    "\n",
    "player_hands = {'p1': player_hand,\n",
    "                'p2': [deck_of_cards[numbers[i]] for i in range(0, 5)],\n",
    "                'p3': [deck_of_cards[numbers[i]] for i in range(5, 10)],\n",
    "                'p4': [deck_of_cards[numbers[i]] for i in range(10, 15)]}\n",
    "\n",
    "card_flipped_up = deck_of_cards[numbers[15]]"
   ]
  },
  {
   "cell_type": "code",
   "execution_count": 191,
   "id": "e57ff74f",
   "metadata": {},
   "outputs": [
    {
     "data": {
      "text/plain": [
       "{'p1': ['J_D', 'A_H', 'T_H', 'T_C', 'T_S'],\n",
       " 'p2': ['9_D', 'Q_D', '9_C', 'K_S', 'K_H'],\n",
       " 'p3': ['Q_H', 'J_H', 'T_D', 'K_D', 'Q_C'],\n",
       " 'p4': ['9_S', 'K_C', 'J_C', '9_H', 'J_S']}"
      ]
     },
     "execution_count": 191,
     "metadata": {},
     "output_type": "execute_result"
    }
   ],
   "source": [
    "player_hands"
   ]
  },
  {
   "cell_type": "code",
   "execution_count": 187,
   "id": "85c13378",
   "metadata": {},
   "outputs": [],
   "source": [
    "calling_player = 'p1'"
   ]
  },
  {
   "cell_type": "code",
   "execution_count": 188,
   "id": "7a529c1e",
   "metadata": {},
   "outputs": [],
   "source": [
    "trump = 'D'"
   ]
  },
  {
   "cell_type": "code",
   "execution_count": null,
   "id": "cb42fecf",
   "metadata": {},
   "outputs": [],
   "source": [
    "trick_winners = {p: 0 for p in self.next_to_deal}"
   ]
  },
  {
   "cell_type": "code",
   "execution_count": 189,
   "id": "d655090e",
   "metadata": {},
   "outputs": [],
   "source": [
    "next_to_deal = ['p2', 'p3', 'p4', 'p1']"
   ]
  },
  {
   "cell_type": "code",
   "execution_count": 190,
   "id": "b31d074e",
   "metadata": {},
   "outputs": [],
   "source": [
    "dealer = 'p1'"
   ]
  },
  {
   "cell_type": "code",
   "execution_count": 192,
   "id": "3e61357c",
   "metadata": {},
   "outputs": [],
   "source": [
    "next_to_play_list = next_to_deal"
   ]
  },
  {
   "cell_type": "code",
   "execution_count": 193,
   "id": "461ae6d6",
   "metadata": {},
   "outputs": [],
   "source": [
    "trump_hierarchy_dict = {\n",
    "    'D': ['J_D', 'J_H', 'A_D', 'K_D', 'Q_D', 'T_D', '9_D'],\n",
    "    'H': ['J_H', 'J_D', 'A_H', 'K_H', 'Q_H', 'T_H', '9_H'],\n",
    "    'C': ['J_C', 'J_S', 'A_C', 'K_C', 'Q_C', 'T_C', '9_C'],\n",
    "    'S': ['J_S', 'J_C', 'A_S', 'K_S', 'Q_S', 'T_S', '9_S']\n",
    "}"
   ]
  },
  {
   "cell_type": "code",
   "execution_count": 194,
   "id": "728650cb",
   "metadata": {},
   "outputs": [],
   "source": [
    "cards_played_this_hand = []\n",
    "unplayed_trump_this_hand = trump_hierarchy_dict[trump]"
   ]
  },
  {
   "cell_type": "code",
   "execution_count": null,
   "id": "caa6c332",
   "metadata": {},
   "outputs": [],
   "source": []
  },
  {
   "cell_type": "code",
   "execution_count": null,
   "id": "304f003c",
   "metadata": {},
   "outputs": [],
   "source": [
    "for trick in range(5):\n",
    "    cards_in_play, player_led = self.play_trick(player_hands=player_hands,\n",
    "                                                trump=trump,\n",
    "                                                next_to_play_list=next_to_play_list,\n",
    "                                                cards_played_this_hand=cards_played_this_hand,\n",
    "                                                unplayed_trump_this_hand=unplayed_trump_this_hand)\n",
    "    trick_winner = self.determine_trick_winner(cards_in_play=cards_in_play,\n",
    "                                           trump=trump,\n",
    "                                           player_led=player_led)\n",
    "    trick_winners[trick_winner] += 1\n",
    "    next_to_play_list = self.get_next_trick_order(trick_winner)\n"
   ]
  }
 ],
 "metadata": {
  "kernelspec": {
   "display_name": "Python 3",
   "language": "python",
   "name": "python3"
  },
  "language_info": {
   "codemirror_mode": {
    "name": "ipython",
    "version": 3
   },
   "file_extension": ".py",
   "mimetype": "text/x-python",
   "name": "python",
   "nbconvert_exporter": "python",
   "pygments_lexer": "ipython3",
   "version": "3.8.8"
  }
 },
 "nbformat": 4,
 "nbformat_minor": 5
}
