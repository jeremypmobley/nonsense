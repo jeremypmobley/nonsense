{
 "cells": [
  {
   "cell_type": "markdown",
   "id": "2c3a06ac",
   "metadata": {},
   "source": [
    "## streamlit function dev"
   ]
  },
  {
   "cell_type": "code",
   "execution_count": 3,
   "id": "a4dcc4ed",
   "metadata": {},
   "outputs": [],
   "source": [
    "import pandas as pd"
   ]
  },
  {
   "cell_type": "code",
   "execution_count": null,
   "id": "a1bc5fea",
   "metadata": {},
   "outputs": [],
   "source": []
  },
  {
   "cell_type": "code",
   "execution_count": 4,
   "id": "dbf748a1",
   "metadata": {},
   "outputs": [],
   "source": [
    "def translate_st_input_to_df(trump, \n",
    "                             a_s=False, k_s=False, q_s=False, j_s=False, t_s=False, nine_s=False, \n",
    "                             j_c=False):\n",
    "    \"\"\"\n",
    "    Function to take in checkbox inputs and return\n",
    "    \n",
    "    :return dataframe\n",
    "    \"\"\"\n",
    "    model_features = ['has_right', 'has_left',\n",
    "                      'has_Atrump', 'has_Ktrump', 'has_Qtrump', 'has_Ttrump', 'has_9trump',\n",
    "                      'num_off_A', 'num_off_K', 'num_off_Q'\n",
    "                      ]\n",
    "    hand = {feature: [0] for feature in model_features}\n",
    "    df = pd.DataFrame(hand)\n",
    "    if trump == 'SPADES':\n",
    "        if a_s:\n",
    "            df['has_Atrump'] = 1\n",
    "        if k_s:\n",
    "            df['has_Ktrump'] = 1\n",
    "        if q_s:\n",
    "            df['has_Qtrump'] = 1\n",
    "        if j_s:\n",
    "            df['has_right'] = 1\n",
    "        if t_s:\n",
    "            df['has_Ttrump'] = 1\n",
    "        if nine_s:\n",
    "            df['has_9trump'] = 1\n",
    "        if j_c:\n",
    "            df['has_left'] = 1\n",
    "\n",
    "    if trump == 'CLUBS':\n",
    "        if a_c:\n",
    "            df['has_Atrump'] = 1\n",
    "        if k_c:\n",
    "            df['has_Ktrump'] = 1\n",
    "        if q_c:\n",
    "            df['has_Qtrump'] = 1\n",
    "        if j_c:\n",
    "            df['has_right'] = 1\n",
    "        if t_c:\n",
    "            df['has_Ttrump'] = 1\n",
    "        if nine_c:\n",
    "            df['has_9trump'] = 1\n",
    "        if j_s:\n",
    "            df['has_left'] = 1\n",
    "\n",
    "    if trump == 'DIAMONDS':\n",
    "        if a_d:\n",
    "            df['has_Atrump'] = 1\n",
    "        if k_d:\n",
    "            df['has_Ktrump'] = 1\n",
    "        if q_d:\n",
    "            df['has_Qtrump'] = 1\n",
    "        if j_d:\n",
    "            df['has_right'] = 1\n",
    "        if t_d:\n",
    "            df['has_Ttrump'] = 1\n",
    "        if nine_d:\n",
    "            df['has_9trump'] = 1\n",
    "        if j_h:\n",
    "            df['has_left'] = 1\n",
    "\n",
    "    if trump == 'HEARTS':\n",
    "        if a_h:\n",
    "            df['has_Atrump'] = 1\n",
    "        if k_h:\n",
    "            df['has_Ktrump'] = 1\n",
    "        if q_h:\n",
    "            df['has_Qtrump'] = 1\n",
    "        if j_h:\n",
    "            df['has_right'] = 1\n",
    "        if t_h:\n",
    "            df['has_Ttrump'] = 1\n",
    "        if nine_h:\n",
    "            df['has_9trump'] = 1\n",
    "        if j_d:\n",
    "            df['has_left'] = 1\n",
    "\n",
    "    return df"
   ]
  },
  {
   "cell_type": "code",
   "execution_count": 5,
   "id": "7d738924",
   "metadata": {},
   "outputs": [
    {
     "data": {
      "text/html": [
       "<div>\n",
       "<style scoped>\n",
       "    .dataframe tbody tr th:only-of-type {\n",
       "        vertical-align: middle;\n",
       "    }\n",
       "\n",
       "    .dataframe tbody tr th {\n",
       "        vertical-align: top;\n",
       "    }\n",
       "\n",
       "    .dataframe thead th {\n",
       "        text-align: right;\n",
       "    }\n",
       "</style>\n",
       "<table border=\"1\" class=\"dataframe\">\n",
       "  <thead>\n",
       "    <tr style=\"text-align: right;\">\n",
       "      <th></th>\n",
       "      <th>has_right</th>\n",
       "      <th>has_left</th>\n",
       "      <th>has_Atrump</th>\n",
       "      <th>has_Ktrump</th>\n",
       "      <th>has_Qtrump</th>\n",
       "      <th>has_Ttrump</th>\n",
       "      <th>has_9trump</th>\n",
       "      <th>num_off_A</th>\n",
       "      <th>num_off_K</th>\n",
       "      <th>num_off_Q</th>\n",
       "    </tr>\n",
       "  </thead>\n",
       "  <tbody>\n",
       "    <tr>\n",
       "      <th>0</th>\n",
       "      <td>0</td>\n",
       "      <td>0</td>\n",
       "      <td>0</td>\n",
       "      <td>0</td>\n",
       "      <td>0</td>\n",
       "      <td>0</td>\n",
       "      <td>0</td>\n",
       "      <td>0</td>\n",
       "      <td>0</td>\n",
       "      <td>0</td>\n",
       "    </tr>\n",
       "  </tbody>\n",
       "</table>\n",
       "</div>"
      ],
      "text/plain": [
       "   has_right  has_left  has_Atrump  has_Ktrump  has_Qtrump  has_Ttrump  \\\n",
       "0          0         0           0           0           0           0   \n",
       "\n",
       "   has_9trump  num_off_A  num_off_K  num_off_Q  \n",
       "0           0          0          0          0  "
      ]
     },
     "execution_count": 5,
     "metadata": {},
     "output_type": "execute_result"
    }
   ],
   "source": [
    "translate_st_input_to_df(trump='S', \n",
    "                         a_s=False,\n",
    "                         k_s=False,\n",
    "                         q_s=False,\n",
    "                         j_s=False, \n",
    "                         t_s=False,\n",
    "                         nine_s=False,\n",
    "                         j_c=False)"
   ]
  },
  {
   "cell_type": "code",
   "execution_count": 6,
   "id": "d36dd392",
   "metadata": {},
   "outputs": [],
   "source": [
    "def count_suits_st_input(trump: str,\n",
    "                             a_s=False, k_s=False, q_s=False, j_s=False, t_s=False, nine_s=False,\n",
    "                             a_c=False, k_c=False, q_c=False, j_c=False, t_c=False, nine_c=False,\n",
    "                             a_d=False, k_d=False, q_d=False, j_d=False, t_d=False, nine_d=False,\n",
    "                             a_h=False, k_h=False, q_h=False, j_h=False, t_h=False, nine_h=False):\n",
    "    \"\"\"\n",
    "    :return int of number of suits\n",
    "    \"\"\"\n",
    "    suits = set()\n",
    "    if trump == 'HEARTS':\n",
    "        if a_h or k_h or q_h or j_h or j_d or t_h or nine_h:\n",
    "            suits.add('h')\n",
    "        if a_d or k_d or q_d or t_d or nine_d:\n",
    "            suits.add('d')\n",
    "        if a_s or k_s or q_s or j_s or t_s or nine_s:\n",
    "            suits.add('s')\n",
    "        if a_c or k_c or q_c or j_c or t_c or nine_c:\n",
    "            suits.add('c')\n",
    "    if trump == 'SPADES':\n",
    "        if a_h or k_h or q_h or j_h or t_h or nine_h:\n",
    "            suits.add('h')\n",
    "        if a_d or k_d or q_d or j_d or t_d or nine_d:\n",
    "            suits.add('d')\n",
    "        if a_s or k_s or q_s or j_s or j_c or t_s or nine_s:\n",
    "            suits.add('s')\n",
    "        if a_c or k_c or q_c or t_c or nine_c:\n",
    "            suits.add('c')\n",
    "    if trump == 'CLUBS':\n",
    "        if a_h or k_h or q_h or j_h or t_h or nine_h:\n",
    "            suits.add('h')\n",
    "        if a_d or k_d or q_d or j_d or t_d or nine_d:\n",
    "            suits.add('d')\n",
    "        if a_s or k_s or q_s or t_s or nine_s:\n",
    "            suits.add('s')\n",
    "        if a_c or k_c or q_c or j_c or j_s or t_c or nine_c:\n",
    "            suits.add('c')\n",
    "    if trump == 'DIAMONDS':\n",
    "        if a_h or k_h or q_h or t_h or nine_h:\n",
    "            suits.add('h')\n",
    "        if a_d or k_d or q_d or j_d or j_h or t_d or nine_d:\n",
    "            suits.add('d')\n",
    "        if a_s or k_s or q_s or j_s or t_s or nine_s:\n",
    "            suits.add('s')\n",
    "        if a_c or k_c or q_c or j_c or t_c or nine_c:\n",
    "            suits.add('c')\n",
    "    return len(suits)"
   ]
  },
  {
   "cell_type": "code",
   "execution_count": 7,
   "id": "910cbe91",
   "metadata": {},
   "outputs": [
    {
     "data": {
      "text/plain": [
       "2"
      ]
     },
     "execution_count": 7,
     "metadata": {},
     "output_type": "execute_result"
    }
   ],
   "source": [
    "count_suits_st_input(trump='HEARTS', \n",
    "                     a_s=False, k_s=False, q_s=False, j_s=False, t_s=False, nine_s=False,\n",
    "                             a_c=True, k_c=False, q_c=False, j_c=False, t_c=False, nine_c=False,\n",
    "                             a_d=False, k_d=False, q_d=False, j_d=True, t_d=False, nine_d=False,\n",
    "                             a_h=False, k_h=True, q_h=False, j_h=False, t_h=False, nine_h=False\n",
    "                    )"
   ]
  },
  {
   "cell_type": "code",
   "execution_count": 8,
   "id": "293a4ed2",
   "metadata": {},
   "outputs": [
    {
     "data": {
      "text/plain": [
       "3"
      ]
     },
     "execution_count": 8,
     "metadata": {},
     "output_type": "execute_result"
    }
   ],
   "source": [
    "count_suits_st_input(trump='SPADES', \n",
    "                     a_s=False, k_s=False, q_s=False, j_s=False, t_s=False, nine_s=False,\n",
    "                             a_c=True, k_c=False, q_c=False, j_c=False, t_c=False, nine_c=False,\n",
    "                             a_d=False, k_d=False, q_d=False, j_d=True, t_d=False, nine_d=False,\n",
    "                             a_h=False, k_h=True, q_h=False, j_h=False, t_h=False, nine_h=False\n",
    "                    )"
   ]
  },
  {
   "cell_type": "code",
   "execution_count": null,
   "id": "e17cd638",
   "metadata": {},
   "outputs": [],
   "source": []
  },
  {
   "cell_type": "code",
   "execution_count": 14,
   "id": "dbf1ad8b",
   "metadata": {},
   "outputs": [],
   "source": [
    "def count_tot_inputs(a_s=False, k_s=False, q_s=False, j_s=False, t_s=False, nine_s=False,\n",
    "                     a_c=False, k_c=False, q_c=False, j_c=False, t_c=False, nine_c=False,\n",
    "                     a_d=False, k_d=False, q_d=False, j_d=False, t_d=False, nine_d=False,\n",
    "                     a_h=False, k_h=False, q_h=False, j_h=False, t_h=False, nine_h=False):\n",
    "    \"\"\"\n",
    "    :return int of number of selections chosen\n",
    "    \"\"\"\n",
    "    return (a_s + a_c + a_d + a_h +\n",
    "           k_s + k_c + k_d + k_h +\n",
    "           q_s + q_c + q_d + q_h +\n",
    "           j_s + j_c + j_d + j_h +\n",
    "           t_s + t_c + t_d + t_h +\n",
    "           nine_s + nine_c + nine_d + nine_h)"
   ]
  },
  {
   "cell_type": "code",
   "execution_count": 15,
   "id": "7daeeeb1",
   "metadata": {},
   "outputs": [
    {
     "data": {
      "text/plain": [
       "2"
      ]
     },
     "execution_count": 15,
     "metadata": {},
     "output_type": "execute_result"
    }
   ],
   "source": [
    "count_tot_inputs(a_s=True, a_d=True, a_c=False)"
   ]
  },
  {
   "cell_type": "code",
   "execution_count": null,
   "id": "c7dd1076",
   "metadata": {},
   "outputs": [],
   "source": []
  }
 ],
 "metadata": {
  "kernelspec": {
   "display_name": "Python 3",
   "language": "python",
   "name": "python3"
  },
  "language_info": {
   "codemirror_mode": {
    "name": "ipython",
    "version": 3
   },
   "file_extension": ".py",
   "mimetype": "text/x-python",
   "name": "python",
   "nbconvert_exporter": "python",
   "pygments_lexer": "ipython3",
   "version": "3.8.8"
  }
 },
 "nbformat": 4,
 "nbformat_minor": 5
}
