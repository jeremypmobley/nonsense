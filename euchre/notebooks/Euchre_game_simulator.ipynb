{
 "cells": [
  {
   "cell_type": "markdown",
   "id": "acf3992d",
   "metadata": {},
   "source": [
    "# Euchre game simulator"
   ]
  },
  {
   "cell_type": "code",
   "execution_count": 32,
   "id": "e9ab9b4d",
   "metadata": {},
   "outputs": [
    {
     "name": "stdout",
     "output_type": "stream",
     "text": [
      "The autoreload extension is already loaded. To reload it, use:\n",
      "  %reload_ext autoreload\n"
     ]
    }
   ],
   "source": [
    "%load_ext autoreload\n",
    "%autoreload 2\n",
    "\n",
    "import numpy as np\n",
    "import sys\n",
    "\n",
    "sys.path.insert(0, 'C:/Users/jerem/Desktop/nonsense/euchre/')\n",
    "\n",
    "from utils.utils import EuchreGame"
   ]
  },
  {
   "cell_type": "code",
   "execution_count": 36,
   "id": "b0ea4c83",
   "metadata": {
    "scrolled": false
   },
   "outputs": [],
   "source": [
    "euchre_game = EuchreGame()"
   ]
  },
  {
   "cell_type": "code",
   "execution_count": 37,
   "id": "c4fb7e1e",
   "metadata": {},
   "outputs": [
    {
     "data": {
      "text/plain": [
       "{'t1': 0, 't2': 0}"
      ]
     },
     "execution_count": 37,
     "metadata": {},
     "output_type": "execute_result"
    }
   ],
   "source": [
    "euchre_game.score"
   ]
  },
  {
   "cell_type": "code",
   "execution_count": 38,
   "id": "87cb47a4",
   "metadata": {
    "scrolled": false
   },
   "outputs": [
    {
     "name": "stdout",
     "output_type": "stream",
     "text": [
      "Hand #0- Dealer: p1; Player p4 in seat 3 has chosen H as trump\n",
      "Trick 0: Leading with highest non-trump- Player p2 plays A_C, Cards in play: {'p2': 'A_C'}\n",
      "Following suit with highest card- Player p3 plays K_C, Cards in play: {'p2': 'A_C', 'p3': 'K_C'}\n",
      "Teammate winning, no follow suit, play lowest card- Player p4 plays T_D, Cards in play: {'p2': 'A_C', 'p3': 'K_C', 'p4': 'T_D'}\n",
      "Following suit with highest card- Player p1 plays J_C, p2 wins trick\n",
      "Trick 1: Leading with highest non-trump- Player p2 plays Q_S, Cards in play: {'p2': 'Q_S'}\n",
      "Following suit with highest card- Player p3 plays T_S, Cards in play: {'p2': 'Q_S', 'p3': 'T_S'}\n",
      "Teammate winning, following suit w/ lowest card- Player p4 plays J_S, Cards in play: {'p2': 'Q_S', 'p3': 'T_S', 'p4': 'J_S'}\n",
      "Following suit with highest card- Player p1 plays K_S, p1 wins trick\n",
      "Trick 2: Leading with highest non-trump- Player p1 plays Q_D, Cards in play: {'p1': 'Q_D'}\n",
      "Lowest winning trump card- Player p2 plays 9_H, Cards in play: {'p1': 'Q_D', 'p2': '9_H'}\n",
      "Following suit with highest card- Player p3 plays K_D, Cards in play: {'p1': 'Q_D', 'p2': '9_H', 'p3': 'K_D'}\n",
      "Teammate winning, no follow suit, only trump left- Player p4 plays T_H, p4 wins trick\n",
      "Trick 3: Leading with lowest trump (only trump left)- Player p4 plays K_H, Cards in play: {'p4': 'K_H'}\n",
      "Following suit with lowest trump card- Player p1 plays Q_H, Cards in play: {'p4': 'K_H', 'p1': 'Q_H'}\n",
      "Teammate winning, following suit w/ lowest trump card- Player p2 plays J_D, Cards in play: {'p4': 'K_H', 'p1': 'Q_H', 'p2': 'J_D'}\n",
      "Following suit with lowest trump card- Player p3 plays A_H, p2 wins trick\n",
      "Trick 4: Last card- Player p2 plays T_C, Last card- Player p3 plays 9_D, Last card- Player p4 plays J_H, Last card- Player p1 plays 9_S, p4 wins trick\n",
      "Trick winners: {'p2': 2, 'p3': 0, 'p4': 2, 'p1': 1} - t2 scores 1\n",
      "Hand #1- Dealer: p2; Player p2 in seat 4 has chosen D as trump\n",
      "Dealer discards T_H and picks up J_D\n",
      "Trick 0: Leading with highest non-trump- Player p3 plays A_H, Cards in play: {'p3': 'A_H'}\n",
      "No H, no trump, playing lowest card in hand- Player p4 plays 9_C, Cards in play: {'p3': 'A_H', 'p4': '9_C'}\n",
      "Teammate winning, following suit w/ lowest card- Player p1 plays K_H, Cards in play: {'p3': 'A_H', 'p4': '9_C', 'p1': 'K_H'}\n",
      "Lowest winning trump card- Player p2 plays K_D, p2 wins trick\n",
      "Trick 1: Leading with highest non-trump- Player p2 plays Q_C, Cards in play: {'p2': 'Q_C'}\n",
      "Lowest winning trump card- Player p3 plays T_D, Cards in play: {'p2': 'Q_C', 'p3': 'T_D'}\n",
      "Following suit with highest card- Player p4 plays K_C, Cards in play: {'p2': 'Q_C', 'p3': 'T_D', 'p4': 'K_C'}\n",
      "Teammate winning, following suit w/ lowest card- Player p1 plays T_C, p3 wins trick\n",
      "Trick 2: Leading with highest non-trump- Player p3 plays K_S, Cards in play: {'p3': 'K_S'}\n",
      "Following suit with highest card- Player p4 plays A_S, Cards in play: {'p3': 'K_S', 'p4': 'A_S'}\n",
      "Lowest winning trump card- Player p1 plays 9_D, Cards in play: {'p3': 'K_S', 'p4': 'A_S', 'p1': '9_D'}\n",
      "Lowest winning trump card- Player p2 plays A_D, p2 wins trick\n",
      "Trick 3: Leading with lowest trump (only trump left)- Player p2 plays J_H, Cards in play: {'p2': 'J_H'}\n",
      "Following suit with lowest trump card- Player p3 plays Q_D, Cards in play: {'p2': 'J_H', 'p3': 'Q_D'}\n",
      "Teammate winning, no trump, play lowest card- Player p4 plays J_S, Cards in play: {'p2': 'J_H', 'p3': 'Q_D', 'p4': 'J_S'}\n",
      "No trump, playing lowest card in hand- Player p1 plays J_C, p2 wins trick\n",
      "Trick 4: Last card- Player p2 plays J_D, Last card- Player p3 plays 9_S, Last card- Player p4 plays Q_S, Last card- Player p1 plays A_C, p2 wins trick\n",
      "Trick winners: {'p3': 1, 'p4': 0, 'p1': 0, 'p2': 4} - t2 scores 1\n",
      "Hand #2- Dealer: p3; Player p1 in seat 2 has chosen C as trump\n",
      "Trick 0: Leading with highest non-trump- Player p4 plays Q_H, Cards in play: {'p4': 'Q_H'}\n",
      "Lowest winning trump card- Player p1 plays Q_C, Cards in play: {'p4': 'Q_H', 'p1': 'Q_C'}\n",
      "Following suit with highest card- Player p2 plays J_H, Cards in play: {'p4': 'Q_H', 'p1': 'Q_C', 'p2': 'J_H'}\n",
      "Teammate winning, no follow suit, play lowest card- Player p3 plays A_S, p1 wins trick\n",
      "Trick 1: Leading with highest non-trump- Player p1 plays Q_S, Cards in play: {'p1': 'Q_S'}\n",
      "Following suit with highest card- Player p2 plays T_S, Cards in play: {'p1': 'Q_S', 'p2': 'T_S'}\n",
      "Teammate winning, no follow suit, play lowest card- Player p3 plays J_D, Cards in play: {'p1': 'Q_S', 'p2': 'T_S', 'p3': 'J_D'}\n",
      "Following suit with highest card- Player p4 plays 9_S, p1 wins trick\n",
      "Trick 2: Leading with highest non-trump- Player p1 plays T_D, Cards in play: {'p1': 'T_D'}\n",
      "Following suit with highest card- Player p2 plays K_D, Cards in play: {'p1': 'T_D', 'p2': 'K_D'}\n",
      "Following suit with highest card- Player p3 plays A_D, Cards in play: {'p1': 'T_D', 'p2': 'K_D', 'p3': 'A_D'}\n",
      "Following suit with highest card- Player p4 plays Q_D, p3 wins trick\n",
      "Trick 3: Leading with lowest trump (only trump left)- Player p3 plays A_C, Cards in play: {'p3': 'A_C'}\n",
      "No trump, playing lowest card in hand- Player p4 plays 9_D, Cards in play: {'p3': 'A_C', 'p4': '9_D'}\n",
      "Teammate winning, following suit w/ lowest trump card- Player p1 plays K_C, Cards in play: {'p3': 'A_C', 'p4': '9_D', 'p1': 'K_C'}\n",
      "Following suit with lowest trump card- Player p2 plays T_C, p3 wins trick\n",
      "Trick 4: Last card- Player p3 plays J_S, Last card- Player p4 plays T_H, Last card- Player p1 plays J_C, Last card- Player p2 plays 9_H, p1 wins trick\n",
      "Trick winners: {'p4': 0, 'p1': 3, 'p2': 0, 'p3': 2} - t1 scores 2\n",
      "Hand #3- Dealer: p4; Player p1 in seat 1 has chosen C as trump\n",
      "Trick 0: Leading with highest non-trump- Player p1 plays K_S, Cards in play: {'p1': 'K_S'}\n",
      "Following suit with highest card- Player p2 plays Q_S, Cards in play: {'p1': 'K_S', 'p2': 'Q_S'}\n",
      "Teammate winning, following suit w/ lowest card- Player p3 plays 9_S, Cards in play: {'p1': 'K_S', 'p2': 'Q_S', 'p3': '9_S'}\n",
      "Following suit with highest card- Player p4 plays A_S, p4 wins trick\n",
      "Trick 1: Leading with highest non-trump- Player p4 plays K_D, Cards in play: {'p4': 'K_D'}\n",
      "Following suit with highest card- Player p1 plays T_D, Cards in play: {'p4': 'K_D', 'p1': 'T_D'}\n",
      "Teammate winning, following suit w/ lowest card- Player p2 plays 9_D, Cards in play: {'p4': 'K_D', 'p1': 'T_D', 'p2': '9_D'}\n",
      "Following suit with highest card- Player p3 plays Q_D, p4 wins trick\n",
      "Trick 2: Leading with highest non-trump- Player p4 plays T_H, Cards in play: {'p4': 'T_H'}\n",
      "Lowest winning trump card- Player p1 plays T_C, Cards in play: {'p4': 'T_H', 'p1': 'T_C'}\n",
      "Following suit with highest card- Player p2 plays K_H, Cards in play: {'p4': 'T_H', 'p1': 'T_C', 'p2': 'K_H'}\n",
      "Teammate winning, following suit w/ lowest card- Player p3 plays J_H, p1 wins trick\n",
      "Trick 3: Leading with lowest trump (only trump left)- Player p1 plays A_C, Cards in play: {'p1': 'A_C'}\n",
      "No trump, playing lowest card in hand- Player p2 plays Q_H, Cards in play: {'p1': 'A_C', 'p2': 'Q_H'}\n",
      "Teammate winning, following suit w/ lowest trump card- Player p3 plays 9_C, Cards in play: {'p1': 'A_C', 'p2': 'Q_H', 'p3': '9_C'}\n",
      "Following suit with lowest winning trump card- Player p4 plays J_S, p4 wins trick\n",
      "Trick 4: Last card- Player p4 plays 9_H, Last card- Player p1 plays J_C, Last card- Player p2 plays A_D, Last card- Player p3 plays T_S, p1 wins trick\n",
      "Trick winners: {'p1': 2, 'p2': 0, 'p3': 0, 'p4': 3} - t2 scores 2\n",
      "Hand #4- Dealer: p1; Player p2 in seat 1 has chosen C as trump\n",
      "Trick 0: Leading with highest non-trump- Player p2 plays A_H, Cards in play: {'p2': 'A_H'}\n",
      "Following suit with highest card- Player p3 plays T_H, Cards in play: {'p2': 'A_H', 'p3': 'T_H'}\n",
      "Teammate winning, following suit w/ lowest card- Player p4 plays 9_H, Cards in play: {'p2': 'A_H', 'p3': 'T_H', 'p4': '9_H'}\n",
      "Following suit with highest card- Player p1 plays Q_H, p2 wins trick\n",
      "Trick 1: Leading with highest non-trump- Player p2 plays Q_D, Cards in play: {'p2': 'Q_D'}\n",
      "Following suit with highest card- Player p3 plays K_D, Cards in play: {'p2': 'Q_D', 'p3': 'K_D'}\n",
      "Following suit with highest card- Player p4 plays A_D, Cards in play: {'p2': 'Q_D', 'p3': 'K_D', 'p4': 'A_D'}\n",
      "Following suit with highest card- Player p1 plays 9_D, p4 wins trick\n",
      "Trick 2: Leading with highest non-trump- Player p4 plays J_H, Cards in play: {'p4': 'J_H'}\n",
      "Lowest winning trump card- Player p1 plays T_C, Cards in play: {'p4': 'J_H', 'p1': 'T_C'}\n",
      "Lowest winning trump card- Player p2 plays 9_C, Cards in play: {'p4': 'J_H', 'p1': 'T_C', 'p2': '9_C'}\n",
      "Teammate winning, no follow suit, play lowest card- Player p3 plays Q_S, p1 wins trick\n",
      "Trick 3: Leading with highest non-trump- Player p1 plays 9_S, Cards in play: {'p1': '9_S'}\n",
      "Lowest winning trump card- Player p2 plays Q_C, Cards in play: {'p1': '9_S', 'p2': 'Q_C'}\n",
      "Lowest winning trump card- Player p3 plays K_C, Cards in play: {'p1': '9_S', 'p2': 'Q_C', 'p3': 'K_C'}\n",
      "Following suit with highest card- Player p4 plays T_S, p3 wins trick\n",
      "Trick 4: Last card- Player p3 plays J_S, Last card- Player p4 plays T_D, Last card- Player p1 plays J_C, Last card- Player p2 plays A_C, p1 wins trick\n",
      "Trick winners: {'p2': 1, 'p3': 1, 'p4': 1, 'p1': 2} - t1 scores 2\n",
      "Hand #5- Dealer: p2; Player p4 in seat 2 has chosen C as trump\n",
      "Trick 0: Leading with highest non-trump- Player p3 plays A_S, Cards in play: {'p3': 'A_S'}\n",
      "Following suit with highest card- Player p4 plays Q_S, Cards in play: {'p3': 'A_S', 'p4': 'Q_S'}\n",
      "Teammate winning, following suit w/ lowest card- Player p1 plays T_S, Cards in play: {'p3': 'A_S', 'p4': 'Q_S', 'p1': 'T_S'}\n",
      "Following suit with highest card- Player p2 plays 9_S, p3 wins trick\n",
      "Trick 1: Leading with highest non-trump- Player p3 plays A_H, Cards in play: {'p3': 'A_H'}\n",
      "Following suit with highest card- Player p4 plays J_H, Cards in play: {'p3': 'A_H', 'p4': 'J_H'}\n",
      "Teammate winning, following suit w/ lowest card- Player p1 plays K_H, Cards in play: {'p3': 'A_H', 'p4': 'J_H', 'p1': 'K_H'}\n",
      "Following suit with highest card- Player p2 plays 9_H, p3 wins trick\n",
      "Trick 2: Leading with highest non-trump- Player p3 plays Q_H, Cards in play: {'p3': 'Q_H'}\n",
      "Lowest winning trump card- Player p4 plays 9_C, Cards in play: {'p3': 'Q_H', 'p4': '9_C'}\n",
      "No H, no trump, playing lowest card in hand- Player p1 plays 9_D, Cards in play: {'p3': 'Q_H', 'p4': '9_C', 'p1': '9_D'}\n",
      "Teammate winning, no follow suit, play lowest card- Player p2 plays Q_D, p4 wins trick\n",
      "Trick 3: Leading with lowest trump (only trump left)- Player p4 plays Q_C, Cards in play: {'p4': 'Q_C'}\n",
      "No trump, playing lowest card in hand- Player p1 plays K_S, Cards in play: {'p4': 'Q_C', 'p1': 'K_S'}\n",
      "Teammate winning, following suit w/ lowest trump card- Player p2 plays K_C, Cards in play: {'p4': 'Q_C', 'p1': 'K_S', 'p2': 'K_C'}\n",
      "Following suit with lowest trump card- Player p3 plays T_C, p2 wins trick\n",
      "Trick 4: Last card- Player p2 plays J_S, Last card- Player p3 plays T_D, Last card- Player p4 plays A_C, Last card- Player p1 plays K_D, p2 wins trick\n",
      "Trick winners: {'p3': 2, 'p4': 1, 'p1': 0, 'p2': 2} - t2 scores 1\n",
      "Hand #6- Dealer: p3; Player p1 in seat 2 has chosen C as trump\n",
      "Dealer discards T_D and picks up Q_C\n",
      "Trick 0: Leading with highest non-trump- Player p4 plays K_D, Cards in play: {'p4': 'K_D'}\n",
      "Following suit with highest card- Player p1 plays A_D, Cards in play: {'p4': 'K_D', 'p1': 'A_D'}\n",
      "Following suit with highest card- Player p2 plays J_D, Cards in play: {'p4': 'K_D', 'p1': 'A_D', 'p2': 'J_D'}\n",
      "Teammate winning, no follow suit, play lowest card- Player p3 plays K_H, p1 wins trick\n",
      "Trick 1: Leading with highest non-trump- Player p1 plays 9_D, Cards in play: {'p1': '9_D'}\n",
      "Lowest winning trump card- Player p2 plays J_S, Cards in play: {'p1': '9_D', 'p2': 'J_S'}\n",
      "No D, no trump, playing lowest card in hand- Player p3 plays T_S, Cards in play: {'p1': '9_D', 'p2': 'J_S', 'p3': 'T_S'}\n",
      "Teammate winning, no follow suit, play lowest card- Player p4 plays T_H, p2 wins trick\n",
      "Trick 2: Leading with highest non-trump- Player p2 plays A_H, Cards in play: {'p2': 'A_H'}\n",
      "Lowest winning trump card- Player p3 plays Q_C, Cards in play: {'p2': 'A_H', 'p3': 'Q_C'}\n",
      "Following suit with highest card- Player p4 plays Q_H, Cards in play: {'p2': 'A_H', 'p3': 'Q_C', 'p4': 'Q_H'}\n",
      "Teammate winning, no follow suit, only trump left- Player p1 plays 9_C, p3 wins trick\n",
      "Trick 3: Leading with highest non-trump- Player p3 plays A_S, Cards in play: {'p3': 'A_S'}\n",
      "Lowest winning trump card- Player p4 plays T_C, Cards in play: {'p3': 'A_S', 'p4': 'T_C'}\n",
      "Lowest winning trump card- Player p1 plays K_C, Cards in play: {'p3': 'A_S', 'p4': 'T_C', 'p1': 'K_C'}\n",
      "Following suit with highest card- Player p2 plays Q_S, p1 wins trick\n",
      "Trick 4: Last card- Player p1 plays A_C, Last card- Player p2 plays 9_S, Last card- Player p3 plays K_S, Last card- Player p4 plays J_H, p1 wins trick\n",
      "Trick winners: {'p4': 0, 'p1': 3, 'p2': 1, 'p3': 1} - t1 scores 1\n",
      "Hand #7- Dealer: p4; Player p2 in seat 2 has chosen C as trump\n",
      "Trick 0: Leading with highest non-trump- Player p1 plays A_S, Cards in play: {'p1': 'A_S'}\n",
      "Lowest winning trump card- Player p2 plays 9_C, Cards in play: {'p1': 'A_S', 'p2': '9_C'}\n",
      "Following suit with highest card- Player p3 plays K_S, Cards in play: {'p1': 'A_S', 'p2': '9_C', 'p3': 'K_S'}\n",
      "Teammate winning, following suit w/ lowest card- Player p4 plays 9_S, p2 wins trick\n",
      "Trick 1: Leading with highest non-trump- Player p2 plays J_H, Cards in play: {'p2': 'J_H'}\n",
      "Following suit with highest card- Player p3 plays Q_H, Cards in play: {'p2': 'J_H', 'p3': 'Q_H'}\n",
      "Following suit with highest card- Player p4 plays A_H, Cards in play: {'p2': 'J_H', 'p3': 'Q_H', 'p4': 'A_H'}\n",
      "Following suit with highest card- Player p1 plays T_H, p4 wins trick\n",
      "Trick 2: Leading with highest non-trump- Player p4 plays K_H, Cards in play: {'p4': 'K_H'}\n",
      "Lowest winning trump card- Player p1 plays Q_C, Cards in play: {'p4': 'K_H', 'p1': 'Q_C'}\n",
      "Following suit with highest card- Player p2 plays 9_H, Cards in play: {'p4': 'K_H', 'p1': 'Q_C', 'p2': '9_H'}\n",
      "Teammate winning, no follow suit, play lowest card- Player p3 plays T_S, p1 wins trick\n",
      "Trick 3: Leading with highest non-trump- Player p1 plays A_D, Cards in play: {'p1': 'A_D'}\n",
      "Lowest winning trump card- Player p2 plays T_C, Cards in play: {'p1': 'A_D', 'p2': 'T_C'}\n",
      "Following suit with highest card- Player p3 plays K_D, Cards in play: {'p1': 'A_D', 'p2': 'T_C', 'p3': 'K_D'}\n",
      "Teammate winning, no follow suit, play lowest card- Player p4 plays Q_S, p2 wins trick\n",
      "Trick 4: Last card- Player p2 plays J_C, Last card- Player p3 plays J_S, Last card- Player p4 plays A_C, Last card- Player p1 plays K_C, p2 wins trick\n",
      "Trick winners: {'p1': 1, 'p2': 3, 'p3': 0, 'p4': 1} - t2 scores 1\n",
      "Hand #8- Dealer: p1; Player p2 in seat 1 has chosen C as trump\n",
      "Trick 0: Leading with highest non-trump- Player p2 plays T_S, Cards in play: {'p2': 'T_S'}\n",
      "No S, no trump, playing lowest card in hand- Player p3 plays 9_D, Cards in play: {'p2': 'T_S', 'p3': '9_D'}\n",
      "Teammate winning, following suit w/ lowest card- Player p4 plays 9_S, Cards in play: {'p2': 'T_S', 'p3': '9_D', 'p4': '9_S'}\n",
      "Following suit with highest card- Player p1 plays A_S, p1 wins trick\n",
      "Trick 1: Leading with highest non-trump- Player p1 plays A_H, Cards in play: {'p1': 'A_H'}\n",
      "Following suit with highest card- Player p2 plays 9_H, Cards in play: {'p1': 'A_H', 'p2': '9_H'}\n",
      "Teammate winning, following suit w/ lowest card- Player p3 plays J_H, Cards in play: {'p1': 'A_H', 'p2': '9_H', 'p3': 'J_H'}\n",
      "Following suit with highest card- Player p4 plays T_H, p1 wins trick\n",
      "Trick 2: Leading with highest non-trump- Player p1 plays K_S, Cards in play: {'p1': 'K_S'}\n",
      "Lowest winning trump card- Player p2 plays T_C, Cards in play: {'p1': 'K_S', 'p2': 'T_C'}\n",
      "No S, no trump, playing lowest card in hand- Player p3 plays Q_H, Cards in play: {'p1': 'K_S', 'p2': 'T_C', 'p3': 'Q_H'}\n",
      "Teammate winning, no follow suit, play lowest card- Player p4 plays T_D, p2 wins trick\n",
      "Trick 3: Leading with lowest trump (only trump left)- Player p2 plays Q_C, Cards in play: {'p2': 'Q_C'}\n",
      "No trump, playing lowest card in hand- Player p3 plays K_H, Cards in play: {'p2': 'Q_C', 'p3': 'K_H'}\n",
      "Teammate winning, following suit w/ lowest trump card- Player p4 plays J_C, Cards in play: {'p2': 'Q_C', 'p3': 'K_H', 'p4': 'J_C'}\n",
      "Following suit with lowest trump card- Player p1 plays 9_C, p4 wins trick\n",
      "Trick 4: Last card- Player p4 plays Q_D, Last card- Player p1 plays J_S, Last card- Player p2 plays K_C, Last card- Player p3 plays K_D, p1 wins trick\n",
      "Trick winners: {'p2': 1, 'p3': 0, 'p4': 1, 'p1': 3} - t1 scores 2\n",
      "Hand #9- Dealer: p2; Player p3 in seat 1 has chosen S as trump\n",
      "Trick 0: Leading with highest non-trump- Player p3 plays Q_D, Cards in play: {'p3': 'Q_D'}\n",
      "Following suit with highest card- Player p4 plays A_D, Cards in play: {'p3': 'Q_D', 'p4': 'A_D'}\n",
      "Following suit with highest card- Player p1 plays K_D, Cards in play: {'p3': 'Q_D', 'p4': 'A_D', 'p1': 'K_D'}\n",
      "Teammate winning, following suit w/ lowest card- Player p2 plays T_D, p4 wins trick\n",
      "Trick 1: Leading with highest non-trump- Player p4 plays K_H, Cards in play: {'p4': 'K_H'}\n",
      "Following suit with highest card- Player p1 plays A_H, Cards in play: {'p4': 'K_H', 'p1': 'A_H'}\n",
      "Following suit with highest card- Player p2 plays J_H, Cards in play: {'p4': 'K_H', 'p1': 'A_H', 'p2': 'J_H'}\n",
      "Teammate winning, no follow suit, play lowest card- Player p3 plays T_C, p1 wins trick\n",
      "Trick 2: Leading with highest non-trump- Player p1 plays A_C, Cards in play: {'p1': 'A_C'}\n",
      "Following suit with highest card- Player p2 plays Q_C, Cards in play: {'p1': 'A_C', 'p2': 'Q_C'}\n",
      "Teammate winning, no follow suit, only trump left- Player p3 plays T_S, Cards in play: {'p1': 'A_C', 'p2': 'Q_C', 'p3': 'T_S'}\n",
      "Lowest winning trump card- Player p4 plays 9_S, p3 wins trick\n",
      "Trick 3: Leading with lowest trump (only trump left)- Player p3 plays Q_S, Cards in play: {'p3': 'Q_S'}\n",
      "Following suit with lowest winning trump card- Player p4 plays A_S, Cards in play: {'p3': 'Q_S', 'p4': 'A_S'}\n",
      "Following suit with lowest winning trump card- Player p1 plays J_C, Cards in play: {'p3': 'Q_S', 'p4': 'A_S', 'p1': 'J_C'}\n",
      "No trump, playing lowest card in hand- Player p2 plays 9_H, p1 wins trick\n",
      "Trick 4: Last card- Player p1 plays J_S, Last card- Player p2 plays J_D, Last card- Player p3 plays K_S, Last card- Player p4 plays T_H, p1 wins trick\n",
      "Trick winners: {'p3': 1, 'p4': 1, 'p1': 3, 'p2': 0} - t1 scores 1\n",
      "Hand #10- Dealer: p3; Player p1 in seat 2 has chosen C as trump\n",
      "Trick 0: Leading with highest non-trump- Player p4 plays K_S, Cards in play: {'p4': 'K_S'}\n",
      "Lowest winning trump card- Player p1 plays Q_C, Cards in play: {'p4': 'K_S', 'p1': 'Q_C'}\n",
      "Following suit with highest card- Player p2 plays A_S, Cards in play: {'p4': 'K_S', 'p1': 'Q_C', 'p2': 'A_S'}\n",
      "Teammate winning, following suit w/ lowest card- Player p3 plays T_S, p1 wins trick\n",
      "Trick 1: Leading with highest non-trump- Player p1 plays K_D, Cards in play: {'p1': 'K_D'}\n",
      "Following suit with highest card- Player p2 plays 9_D, Cards in play: {'p1': 'K_D', 'p2': '9_D'}\n",
      "Teammate winning, following suit w/ lowest card- Player p3 plays J_D, Cards in play: {'p1': 'K_D', 'p2': '9_D', 'p3': 'J_D'}\n",
      "Following suit with highest card- Player p4 plays Q_D, p1 wins trick\n",
      "Trick 2: Leading with lowest trump (only trump left)- Player p1 plays A_C, Cards in play: {'p1': 'A_C'}\n",
      "No trump, playing lowest card in hand- Player p2 plays 9_S, Cards in play: {'p1': 'A_C', 'p2': '9_S'}\n",
      "Teammate winning, following suit w/ lowest trump card- Player p3 plays T_C, Cards in play: {'p1': 'A_C', 'p2': '9_S', 'p3': 'T_C'}\n",
      "Following suit with lowest trump card- Player p4 plays K_C, p1 wins trick\n",
      "Trick 3: Leading with lowest trump (only trump left)- Player p1 plays J_S, Cards in play: {'p1': 'J_S'}\n",
      "No trump, playing lowest card in hand- Player p2 plays Q_S, Cards in play: {'p1': 'J_S', 'p2': 'Q_S'}\n",
      "Teammate winning, no trump, play lowest card- Player p3 plays 9_H, Cards in play: {'p1': 'J_S', 'p2': 'Q_S', 'p3': '9_H'}\n",
      "No trump, playing lowest card in hand- Player p4 plays T_H, p1 wins trick\n",
      "Trick 4: Last card- Player p1 plays J_C, Last card- Player p2 plays K_H, Last card- Player p3 plays J_H, Last card- Player p4 plays Q_H, p1 wins trick\n",
      "Trick winners: {'p4': 0, 'p1': 5, 'p2': 0, 'p3': 0} - t1 scores 2\n",
      "Total hands played 11\n"
     ]
    }
   ],
   "source": [
    "euchre_game.play_full_game(verbose=True)"
   ]
  },
  {
   "cell_type": "code",
   "execution_count": 20,
   "id": "8d7bb5f3",
   "metadata": {},
   "outputs": [
    {
     "data": {
      "text/plain": [
       "{'t1': 11, 't2': 1}"
      ]
     },
     "execution_count": 20,
     "metadata": {},
     "output_type": "execute_result"
    }
   ],
   "source": [
    "euchre_game.score"
   ]
  },
  {
   "cell_type": "code",
   "execution_count": 21,
   "id": "fcb70014",
   "metadata": {},
   "outputs": [
    {
     "data": {
      "text/plain": [
       "'p3'"
      ]
     },
     "execution_count": 21,
     "metadata": {},
     "output_type": "execute_result"
    }
   ],
   "source": [
    "euchre_game.dealer"
   ]
  },
  {
   "cell_type": "code",
   "execution_count": null,
   "id": "560d8ca4",
   "metadata": {},
   "outputs": [],
   "source": []
  },
  {
   "cell_type": "code",
   "execution_count": null,
   "id": "e6e56c50",
   "metadata": {},
   "outputs": [],
   "source": []
  }
 ],
 "metadata": {
  "kernelspec": {
   "display_name": "Python 3",
   "language": "python",
   "name": "python3"
  },
  "language_info": {
   "codemirror_mode": {
    "name": "ipython",
    "version": 3
   },
   "file_extension": ".py",
   "mimetype": "text/x-python",
   "name": "python",
   "nbconvert_exporter": "python",
   "pygments_lexer": "ipython3",
   "version": "3.8.8"
  }
 },
 "nbformat": 4,
 "nbformat_minor": 5
}
