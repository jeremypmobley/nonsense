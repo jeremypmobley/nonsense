{
 "cells": [
  {
   "cell_type": "markdown",
   "id": "ee8b4ded",
   "metadata": {},
   "source": [
    "# Euchre Game Dev"
   ]
  },
  {
   "cell_type": "code",
   "execution_count": 10,
   "id": "f45435e2-be3b-4a62-b5b5-cb0c3e5846b0",
   "metadata": {},
   "outputs": [
    {
     "data": {
      "text/plain": [
       "'/Users/jeremy/Desktop/nonsense/euchre/notebooks'"
      ]
     },
     "execution_count": 10,
     "metadata": {},
     "output_type": "execute_result"
    }
   ],
   "source": [
    "pwd"
   ]
  },
  {
   "cell_type": "code",
   "execution_count": 11,
   "id": "6a643167-6efb-48d6-bd12-5bd01770854e",
   "metadata": {},
   "outputs": [
    {
     "name": "stdout",
     "output_type": "stream",
     "text": [
      "The autoreload extension is already loaded. To reload it, use:\n",
      "  %reload_ext autoreload\n"
     ]
    }
   ],
   "source": [
    "%load_ext autoreload\n",
    "%autoreload 2"
   ]
  },
  {
   "cell_type": "code",
   "execution_count": 12,
   "id": "b8ae54e1-e69a-46f8-8b04-ad3d75901d9f",
   "metadata": {},
   "outputs": [],
   "source": [
    "import numpy as np\n",
    "import sys"
   ]
  },
  {
   "cell_type": "code",
   "execution_count": 14,
   "id": "1a9d677d-0bae-44bb-9fd6-cc56808568fb",
   "metadata": {},
   "outputs": [],
   "source": [
    "sys.path.append(\"..\")"
   ]
  },
  {
   "cell_type": "code",
   "execution_count": 15,
   "id": "626ca572-176c-42d2-b02c-9460c6fe7781",
   "metadata": {},
   "outputs": [],
   "source": [
    "from utils.utils import EuchreGame"
   ]
  },
  {
   "cell_type": "code",
   "execution_count": null,
   "id": "3a655019-62cd-4b93-ad68-a0f121dbc2e3",
   "metadata": {},
   "outputs": [],
   "source": []
  },
  {
   "cell_type": "markdown",
   "id": "984c974f",
   "metadata": {},
   "source": [
    "### Create Game object, check attributes"
   ]
  },
  {
   "cell_type": "code",
   "execution_count": 16,
   "id": "edde75bc",
   "metadata": {},
   "outputs": [],
   "source": [
    "euchre_game = EuchreGame()"
   ]
  },
  {
   "cell_type": "code",
   "execution_count": 17,
   "id": "0c5e25a1",
   "metadata": {},
   "outputs": [
    {
     "data": {
      "text/plain": [
       "{'t1': 0, 't2': 0}"
      ]
     },
     "execution_count": 17,
     "metadata": {},
     "output_type": "execute_result"
    }
   ],
   "source": [
    "# create show_all_game_attributes method?\n",
    "euchre_game.score"
   ]
  },
  {
   "cell_type": "code",
   "execution_count": 18,
   "id": "0500989c",
   "metadata": {},
   "outputs": [
    {
     "data": {
      "text/plain": [
       "'p1'"
      ]
     },
     "execution_count": 18,
     "metadata": {},
     "output_type": "execute_result"
    }
   ],
   "source": [
    "euchre_game.dealer"
   ]
  },
  {
   "cell_type": "code",
   "execution_count": 19,
   "id": "455a4758",
   "metadata": {},
   "outputs": [
    {
     "data": {
      "text/plain": [
       "['p2', 'p3', 'p4', 'p1']"
      ]
     },
     "execution_count": 19,
     "metadata": {},
     "output_type": "execute_result"
    }
   ],
   "source": [
    "euchre_game.next_to_deal"
   ]
  },
  {
   "cell_type": "code",
   "execution_count": 25,
   "id": "d6cd314d-d52b-434b-9d4c-8561e5075714",
   "metadata": {},
   "outputs": [
    {
     "data": {
      "text/plain": [
       "0"
      ]
     },
     "execution_count": 25,
     "metadata": {},
     "output_type": "execute_result"
    }
   ],
   "source": [
    "euchre_game.hands_played"
   ]
  },
  {
   "cell_type": "markdown",
   "id": "4c06199d",
   "metadata": {},
   "source": [
    "### Strategies\n",
    "#### Play Card Strategy\n",
    "* random\n",
    "* None"
   ]
  },
  {
   "cell_type": "code",
   "execution_count": 26,
   "id": "9b3c8b61",
   "metadata": {},
   "outputs": [
    {
     "data": {
      "text/plain": [
       "{'t1': None, 't2': None}"
      ]
     },
     "execution_count": 26,
     "metadata": {},
     "output_type": "execute_result"
    }
   ],
   "source": [
    "euchre_game.tm_play_card_strategy"
   ]
  },
  {
   "cell_type": "markdown",
   "id": "579b287e",
   "metadata": {},
   "source": [
    "## Deck"
   ]
  },
  {
   "cell_type": "code",
   "execution_count": 31,
   "id": "07b93d2f-2324-4c18-b2db-2b78e227e5fb",
   "metadata": {},
   "outputs": [],
   "source": [
    "from utils.utils import Deck"
   ]
  },
  {
   "cell_type": "code",
   "execution_count": 32,
   "id": "0393bc91",
   "metadata": {},
   "outputs": [],
   "source": [
    "my_deck = Deck()"
   ]
  },
  {
   "cell_type": "code",
   "execution_count": 33,
   "id": "8232b23a",
   "metadata": {},
   "outputs": [
    {
     "data": {
      "text/plain": [
       "['9_S',\n",
       " '9_C',\n",
       " '9_H',\n",
       " '9_D',\n",
       " 'T_S',\n",
       " 'T_C',\n",
       " 'T_H',\n",
       " 'T_D',\n",
       " 'J_S',\n",
       " 'J_C',\n",
       " 'J_H',\n",
       " 'J_D',\n",
       " 'Q_S',\n",
       " 'Q_C',\n",
       " 'Q_H',\n",
       " 'Q_D',\n",
       " 'K_S',\n",
       " 'K_C',\n",
       " 'K_H',\n",
       " 'K_D',\n",
       " 'A_S',\n",
       " 'A_C',\n",
       " 'A_H',\n",
       " 'A_D']"
      ]
     },
     "execution_count": 33,
     "metadata": {},
     "output_type": "execute_result"
    }
   ],
   "source": [
    "my_deck.cards"
   ]
  },
  {
   "cell_type": "code",
   "execution_count": 39,
   "id": "04890ccf",
   "metadata": {},
   "outputs": [
    {
     "data": {
      "text/plain": [
       "({'p1': ['Q_D', 'T_H', '9_H', 'J_S', 'K_D'],\n",
       "  'p2': ['T_C', 'Q_S', 'A_H', 'A_D', 'K_H'],\n",
       "  'p3': ['K_S', 'A_S', 'T_D', 'Q_C', 'J_D'],\n",
       "  'p4': ['J_C', 'Q_H', '9_S', 'A_C', 'J_H']},\n",
       " '9_C')"
      ]
     },
     "execution_count": 39,
     "metadata": {},
     "output_type": "execute_result"
    }
   ],
   "source": [
    "my_deck.deal_hand()"
   ]
  },
  {
   "cell_type": "code",
   "execution_count": 40,
   "id": "86db0ae9",
   "metadata": {},
   "outputs": [],
   "source": [
    "my_deck.shuffle()"
   ]
  },
  {
   "cell_type": "code",
   "execution_count": 41,
   "id": "816fdb27-b4de-482b-8c40-4294547c5023",
   "metadata": {},
   "outputs": [
    {
     "data": {
      "text/plain": [
       "({'p1': ['K_C', 'K_D', 'T_H', 'A_S', '9_H'],\n",
       "  'p2': ['T_S', 'A_H', '9_C', 'J_S', 'Q_H'],\n",
       "  'p3': ['Q_C', 'Q_S', 'A_D', 'Q_D', 'T_C'],\n",
       "  'p4': ['9_S', 'K_S', 'T_D', 'J_C', 'J_H']},\n",
       " 'J_D')"
      ]
     },
     "execution_count": 41,
     "metadata": {},
     "output_type": "execute_result"
    }
   ],
   "source": [
    "my_deck.deal_hand()"
   ]
  },
  {
   "cell_type": "code",
   "execution_count": null,
   "id": "37baca53-f5ad-474d-8613-6d81e3480f97",
   "metadata": {},
   "outputs": [],
   "source": []
  },
  {
   "cell_type": "markdown",
   "id": "d4482706-0c41-4129-bbb2-18366b0766c0",
   "metadata": {},
   "source": [
    "## Hand"
   ]
  },
  {
   "cell_type": "code",
   "execution_count": 42,
   "id": "251077da-44a7-47f4-866d-137cb5f51cea",
   "metadata": {},
   "outputs": [],
   "source": [
    "from utils.utils import Hand"
   ]
  },
  {
   "cell_type": "code",
   "execution_count": 46,
   "id": "226d3092",
   "metadata": {},
   "outputs": [],
   "source": [
    "# hand_results = Hand(game=game, verbose=False).play_hand()"
   ]
  },
  {
   "cell_type": "code",
   "execution_count": 47,
   "id": "ea11f020-00e5-4da4-9308-78a646d5c8d8",
   "metadata": {},
   "outputs": [],
   "source": [
    "# Hand object can only be created within the context of a game"
   ]
  },
  {
   "cell_type": "code",
   "execution_count": null,
   "id": "5c8f5faa-99ea-4b48-a9ed-ab6930098212",
   "metadata": {},
   "outputs": [],
   "source": []
  },
  {
   "cell_type": "code",
   "execution_count": null,
   "id": "91b5f23b-0aa3-44ca-a164-3c8db0140143",
   "metadata": {},
   "outputs": [],
   "source": []
  },
  {
   "cell_type": "markdown",
   "id": "e91ea086",
   "metadata": {},
   "source": [
    "### Choose suit for trump"
   ]
  },
  {
   "cell_type": "code",
   "execution_count": 54,
   "id": "f9a6cb18-fa27-4195-8d41-657909e9fd89",
   "metadata": {},
   "outputs": [],
   "source": [
    "from utils.utils import eval_flipped_card"
   ]
  },
  {
   "cell_type": "code",
   "execution_count": 57,
   "id": "97c77fea-6c15-4910-9de9-3c8229d57b00",
   "metadata": {},
   "outputs": [
    {
     "data": {
      "text/plain": [
       "False"
      ]
     },
     "execution_count": 57,
     "metadata": {},
     "output_type": "execute_result"
    }
   ],
   "source": [
    "eval_flipped_card(hand=['K_S', 'A_H', 'A_C', 'J_C', 'J_S'],\n",
    "                     player='p1',\n",
    "                     card_flipped_up='A_S', \n",
    "                     dealer='p2')"
   ]
  },
  {
   "cell_type": "code",
   "execution_count": 58,
   "id": "ffaf7a42-ec05-4f58-b8a5-e50e119d0e0c",
   "metadata": {},
   "outputs": [
    {
     "data": {
      "text/plain": [
       "True"
      ]
     },
     "execution_count": 58,
     "metadata": {},
     "output_type": "execute_result"
    }
   ],
   "source": [
    "eval_flipped_card(hand=['K_S', 'A_H', 'A_S', 'J_C', 'J_S'], \n",
    "                                 player='p2', \n",
    "                                 card_flipped_up='A_S',\n",
    "                     dealer='p2')"
   ]
  },
  {
   "cell_type": "code",
   "execution_count": 59,
   "id": "57428bd4-b6db-4a00-b3e8-2bce31dde310",
   "metadata": {},
   "outputs": [],
   "source": [
    "from utils.utils import choose_open_trump"
   ]
  },
  {
   "cell_type": "code",
   "execution_count": 61,
   "id": "e198e31d",
   "metadata": {},
   "outputs": [
    {
     "data": {
      "text/plain": [
       "'S'"
      ]
     },
     "execution_count": 61,
     "metadata": {},
     "output_type": "execute_result"
    }
   ],
   "source": [
    "choose_open_trump(hand=['K_S', 'A_S', 'A_C', 'J_C', 'J_S'], \n",
    "                              card_flipped_up='A_D')"
   ]
  },
  {
   "cell_type": "code",
   "execution_count": 62,
   "id": "357c20a4",
   "metadata": {},
   "outputs": [],
   "source": [
    "choose_open_trump(hand=['K_S', 'A_H', 'A_C', 'J_C', 'J_S'], \n",
    "                              card_flipped_up='T_S')"
   ]
  },
  {
   "cell_type": "code",
   "execution_count": null,
   "id": "b03a7e64",
   "metadata": {},
   "outputs": [],
   "source": []
  },
  {
   "cell_type": "markdown",
   "id": "aee5ba3c",
   "metadata": {},
   "source": [
    "### Play trick"
   ]
  },
  {
   "cell_type": "code",
   "execution_count": 63,
   "id": "2f545d88",
   "metadata": {},
   "outputs": [
    {
     "ename": "NameError",
     "evalue": "name 'player_hands' is not defined",
     "output_type": "error",
     "traceback": [
      "\u001b[0;31m---------------------------------------------------------------------------\u001b[0m",
      "\u001b[0;31mNameError\u001b[0m                                 Traceback (most recent call last)",
      "Cell \u001b[0;32mIn[63], line 1\u001b[0m\n\u001b[0;32m----> 1\u001b[0m cards_in_play, player_led \u001b[38;5;241m=\u001b[39m euchre_game\u001b[38;5;241m.\u001b[39mplay_trick(player_hands\u001b[38;5;241m=\u001b[39mplayer_hands, \n\u001b[1;32m      2\u001b[0m                                                    trump\u001b[38;5;241m=\u001b[39m\u001b[38;5;124m'\u001b[39m\u001b[38;5;124mH\u001b[39m\u001b[38;5;124m'\u001b[39m, \n\u001b[1;32m      3\u001b[0m                                                    next_to_play_list\u001b[38;5;241m=\u001b[39meuchre_game\u001b[38;5;241m.\u001b[39mnext_to_deal, \n\u001b[1;32m      4\u001b[0m                                                    cards_played_this_hand \u001b[38;5;241m=\u001b[39m [], \n\u001b[1;32m      5\u001b[0m                                                    unplayed_trump_this_hand\u001b[38;5;241m=\u001b[39m[\u001b[38;5;124m'\u001b[39m\u001b[38;5;124mJ_H\u001b[39m\u001b[38;5;124m'\u001b[39m, \u001b[38;5;124m'\u001b[39m\u001b[38;5;124mJ_D\u001b[39m\u001b[38;5;124m'\u001b[39m, \u001b[38;5;124m'\u001b[39m\u001b[38;5;124mA_H\u001b[39m\u001b[38;5;124m'\u001b[39m, \u001b[38;5;124m'\u001b[39m\u001b[38;5;124mK_H\u001b[39m\u001b[38;5;124m'\u001b[39m, \u001b[38;5;124m'\u001b[39m\u001b[38;5;124mQ_H\u001b[39m\u001b[38;5;124m'\u001b[39m, \u001b[38;5;124m'\u001b[39m\u001b[38;5;124mT_H\u001b[39m\u001b[38;5;124m'\u001b[39m, \u001b[38;5;124m'\u001b[39m\u001b[38;5;124m9_H\u001b[39m\u001b[38;5;124m'\u001b[39m],\n\u001b[1;32m      6\u001b[0m                                                    verbose\u001b[38;5;241m=\u001b[39m\u001b[38;5;28;01mTrue\u001b[39;00m)\n",
      "\u001b[0;31mNameError\u001b[0m: name 'player_hands' is not defined"
     ]
    }
   ],
   "source": [
    "cards_in_play, player_led = euchre_game.play_trick(player_hands=player_hands, \n",
    "                                                   trump='H', \n",
    "                                                   next_to_play_list=euchre_game.next_to_deal, \n",
    "                                                   cards_played_this_hand = [], \n",
    "                                                   unplayed_trump_this_hand=['J_H', 'J_D', 'A_H', 'K_H', 'Q_H', 'T_H', '9_H'],\n",
    "                                                   verbose=True)"
   ]
  },
  {
   "cell_type": "code",
   "execution_count": null,
   "id": "848bd841",
   "metadata": {},
   "outputs": [],
   "source": [
    "cards_in_play"
   ]
  },
  {
   "cell_type": "code",
   "execution_count": null,
   "id": "58cf54e9",
   "metadata": {},
   "outputs": [],
   "source": [
    "player_led"
   ]
  },
  {
   "cell_type": "code",
   "execution_count": null,
   "id": "76c95b8e",
   "metadata": {},
   "outputs": [],
   "source": []
  },
  {
   "cell_type": "markdown",
   "id": "00b21a38",
   "metadata": {},
   "source": [
    "#### Determine trick winner"
   ]
  },
  {
   "cell_type": "code",
   "execution_count": null,
   "id": "e1be5e00",
   "metadata": {},
   "outputs": [],
   "source": [
    "euchre_game.determine_trick_winner(cards_in_play={'p2': '9_S', 'p3': 'J_C', 'p4': 'J_H', 'p1': 'A_S'}, \n",
    "                           trump='S', \n",
    "                           player_led=player_led, \n",
    "                                   verbose=True)"
   ]
  },
  {
   "cell_type": "code",
   "execution_count": null,
   "id": "aa320b76",
   "metadata": {},
   "outputs": [],
   "source": [
    "euchre_game.determine_trick_winner(cards_in_play={'p2': '9_S', 'p3': 'J_C', 'p4': 'J_S', 'p1': 'A_S'}, \n",
    "                           trump='D', \n",
    "                           player_led=player_led, \n",
    "                                   verbose=False)"
   ]
  },
  {
   "cell_type": "code",
   "execution_count": null,
   "id": "17803ea1",
   "metadata": {},
   "outputs": [],
   "source": [
    "trick_winner = euchre_game.determine_trick_winner(cards_in_play=cards_in_play,\n",
    "                                           trump='H',\n",
    "                                           player_led=player_led)\n",
    "\n",
    "trick_winner"
   ]
  },
  {
   "cell_type": "code",
   "execution_count": null,
   "id": "48c13202",
   "metadata": {},
   "outputs": [],
   "source": [
    "euchre_game.determine_trick_winner(cards_in_play={'p2': '9_S', 'p3': 'J_H', 'p4': 'J_S', 'p1': 'A_D'}, \n",
    "                           trump='D', \n",
    "                           player_led='p2', \n",
    "                                   verbose=False)"
   ]
  },
  {
   "cell_type": "code",
   "execution_count": null,
   "id": "f5366e7d",
   "metadata": {},
   "outputs": [],
   "source": [
    "euchre_game.determine_trick_winner(cards_in_play={'p2': '9_S', 'p3': 'T_D', 'p4': 'J_S', 'p1': 'A_D'}, \n",
    "                           trump='D', \n",
    "                           player_led='p2', \n",
    "                                   verbose=False)"
   ]
  },
  {
   "cell_type": "code",
   "execution_count": null,
   "id": "317817cc",
   "metadata": {},
   "outputs": [],
   "source": [
    "euchre_game.determine_trick_winner(cards_in_play={'p2': '9_S', 'p3': 'T_D'}, \n",
    "                           trump='D', \n",
    "                           player_led='p2', \n",
    "                                   verbose=False)"
   ]
  },
  {
   "cell_type": "code",
   "execution_count": null,
   "id": "8f8be8e8",
   "metadata": {},
   "outputs": [],
   "source": [
    "euchre_game.determine_trick_winner(cards_in_play={'p2': '9_S'}, \n",
    "                           trump='D', \n",
    "                           player_led='p2', \n",
    "                                   verbose=False)"
   ]
  },
  {
   "cell_type": "code",
   "execution_count": null,
   "id": "5c4087a7",
   "metadata": {},
   "outputs": [],
   "source": []
  },
  {
   "cell_type": "markdown",
   "id": "dbb6672f",
   "metadata": {},
   "source": [
    "#### Swap card in dealer hand"
   ]
  },
  {
   "cell_type": "code",
   "execution_count": null,
   "id": "e7ba5191",
   "metadata": {},
   "outputs": [],
   "source": [
    "from utils import swap_dealer_card"
   ]
  },
  {
   "cell_type": "code",
   "execution_count": null,
   "id": "b955e0b3",
   "metadata": {},
   "outputs": [],
   "source": [
    "swap_dealer_card(card_flipped_up='A_S', \n",
    "                 dealer_hand=['J_C', 'A_D', 'K_H', 'K_S', 'J_D'], \n",
    "                 verbose=True)"
   ]
  },
  {
   "cell_type": "code",
   "execution_count": null,
   "id": "7c522a10",
   "metadata": {},
   "outputs": [],
   "source": [
    "swap_dealer_card(card_flipped_up='A_S', \n",
    "                 dealer_hand=['J_H', 'A_D', 'K_H', 'K_S', 'T_D'], \n",
    "                 verbose=True)"
   ]
  },
  {
   "cell_type": "code",
   "execution_count": null,
   "id": "c1a290c8",
   "metadata": {},
   "outputs": [],
   "source": [
    "swap_dealer_card(card_flipped_up='A_S', \n",
    "                 dealer_hand=['9_H', 'T_H', 'K_H', 'Q_H', 'A_D'], \n",
    "                 verbose=True)"
   ]
  },
  {
   "cell_type": "code",
   "execution_count": null,
   "id": "96626f8d",
   "metadata": {},
   "outputs": [],
   "source": [
    "swap_dealer_card(card_flipped_up='J_S', \n",
    "                 dealer_hand=['9_S', 'A_S', 'Q_S', 'K_S', 'T_S'], \n",
    "                 verbose=True)"
   ]
  },
  {
   "cell_type": "code",
   "execution_count": null,
   "id": "cb84407b",
   "metadata": {},
   "outputs": [],
   "source": []
  },
  {
   "cell_type": "markdown",
   "id": "19749e5b",
   "metadata": {},
   "source": [
    "## Play card"
   ]
  },
  {
   "cell_type": "code",
   "execution_count": null,
   "id": "67865ab6",
   "metadata": {},
   "outputs": [],
   "source": [
    "euchre_game.play_card(player='p4',\n",
    "                      hand=['J_H', 'A_C', '9_H', 'K_S', 'J_D'], \n",
    "                      trump='S',\n",
    "                      cards_in_play={'p2': 'J_D', 'p3': 'A_D', 'p1': '9_D'}, \n",
    "                      player_led='p1',\n",
    "                      cards_played_this_hand=[], \n",
    "                      unplayed_trump_this_hand=[],\n",
    "                      verbose=True)"
   ]
  },
  {
   "cell_type": "code",
   "execution_count": null,
   "id": "69a5755d",
   "metadata": {},
   "outputs": [],
   "source": [
    "euchre_game.play_card(player='p4',\n",
    "                      hand=['J_H', 'A_C', '9_H', 'K_S', 'J_D'], \n",
    "                      trump='D',\n",
    "                      cards_in_play={'p2': 'J_D', 'p3': 'A_D', 'p1': '9_D'}, \n",
    "                      player_led='p1',\n",
    "                      cards_played_this_hand=[], \n",
    "                      unplayed_trump_this_hand=[],\n",
    "                      verbose=True)"
   ]
  },
  {
   "cell_type": "code",
   "execution_count": null,
   "id": "2746af15",
   "metadata": {},
   "outputs": [],
   "source": []
  },
  {
   "cell_type": "markdown",
   "id": "a2a8d71d",
   "metadata": {},
   "source": [
    "### Play lead card"
   ]
  },
  {
   "cell_type": "code",
   "execution_count": null,
   "id": "369a7032",
   "metadata": {},
   "outputs": [],
   "source": [
    "def play_lead_card(hand,\n",
    "                   trump,\n",
    "                   cards_played_this_hand,\n",
    "                   unplayed_trump_this_hand,\n",
    "                   verbose=False):\n",
    "    \"\"\"\n",
    "    Play lead card\n",
    "\n",
    "    :param hand: List of cards in player's hand\n",
    "    :param trump: Trump called this hand\n",
    "    :param cards_played_this_hand: List of cards played in this hand so far\n",
    "    :param unplayed_trump_this_hand: List of unplayed trump cards this hand\n",
    "    :param verbose: True/False to print out log statements\n",
    "\n",
    "    :return card to play\n",
    "    \"\"\"\n",
    "    if unplayed_trump_this_hand:  # if there are unplayed trump cards left\n",
    "        if unplayed_trump_this_hand[0] in hand:  # always play highest trump card left\n",
    "            print_if_verbose(f'Leading with highest trump card remaining', verbose=verbose, end='- ')\n",
    "            # print_if_verbose(f'Trump cards remaining {unplayed_trump_this_hand}', verbose=verbose, end='- ')\n",
    "            return unplayed_trump_this_hand[0]\n",
    "\n",
    "    # TODO: check if opponents don't have any trump left, play any trump in hand\n",
    "\n",
    "    # TODO: update this to be of suit least played so far in case of ties, or to partners short-suit\n",
    "    # TODO: if highest_non_trump not A -> play into partner's short suit if exists\n",
    "    # play highest non-trump\n",
    "    highest_non_trump = get_highest_nontrump_card(hand=hand, trump=trump)\n",
    "    if highest_non_trump is not None:\n",
    "        print_if_verbose(f'Leading with highest non-trump', verbose=verbose, end='- ')\n",
    "        return highest_non_trump\n",
    "    else:  # only trump left in hand\n",
    "        lowest_trump_card = get_lowest_trump_card(hand=hand, trump=trump)\n",
    "        if lowest_trump_card is not None:\n",
    "            print_if_verbose(f'Leading with lowest trump (only trump left)', verbose=verbose, end='- ')\n",
    "            return lowest_trump_card"
   ]
  },
  {
   "cell_type": "code",
   "execution_count": null,
   "id": "e93397f9",
   "metadata": {},
   "outputs": [],
   "source": [
    "play_lead_card(hand=['A_H'],\n",
    "                   trump='H',\n",
    "                   cards_played_this_hand=[],\n",
    "                   unplayed_trump_this_hand=[],\n",
    "                   verbose=True)"
   ]
  },
  {
   "cell_type": "code",
   "execution_count": null,
   "id": "6a4972ec",
   "metadata": {},
   "outputs": [],
   "source": []
  },
  {
   "cell_type": "code",
   "execution_count": null,
   "id": "8dbd2a57",
   "metadata": {},
   "outputs": [],
   "source": []
  },
  {
   "cell_type": "code",
   "execution_count": null,
   "id": "0a3afb0f",
   "metadata": {},
   "outputs": [],
   "source": [
    "euchre_game.play_lead_card(hand=['9_D', 'T_C', '9_C', 'A_S', 'A_C'], \n",
    "               trump='S', \n",
    "               cards_played_this_hand=['J_S', 'J_C'],\n",
    "                           unplayed_trump_this_hand=['A_S', 'K_S', 'Q_S', 'T_S', '9_S'],\n",
    ")"
   ]
  },
  {
   "cell_type": "code",
   "execution_count": null,
   "id": "8643822e",
   "metadata": {},
   "outputs": [],
   "source": [
    "euchre_game.play_lead_card(hand=['T_D', 'T_C', 'Q_C', 'A_D', 'A_C'], \n",
    "               trump='S', \n",
    "               cards_played_this_hand=['J_S', 'J_C'],\n",
    "                           unplayed_trump_this_hand=['A_S', 'K_S', 'Q_S', 'T_S', '9_S'])"
   ]
  },
  {
   "cell_type": "markdown",
   "id": "468e5a28",
   "metadata": {},
   "source": [
    "### Play random card"
   ]
  },
  {
   "cell_type": "code",
   "execution_count": null,
   "id": "5eeb71b1",
   "metadata": {},
   "outputs": [],
   "source": [
    "from utils import play_random_card"
   ]
  },
  {
   "cell_type": "code",
   "execution_count": null,
   "id": "3c285d21",
   "metadata": {},
   "outputs": [],
   "source": [
    "play_random_card(hand=['9_D', 'T_C', '9_C', 'J_S', 'A_C'],\n",
    "                 trump='S', \n",
    "                      cards_in_play={'p2': 'J_D', 'p3': 'A_D', 'p1': '9_D'}, \n",
    "                 player_led = 'p1'\n",
    ")"
   ]
  },
  {
   "cell_type": "code",
   "execution_count": null,
   "id": "1d69b6ee",
   "metadata": {},
   "outputs": [],
   "source": [
    "play_random_card(hand=['9_D', 'J_C', '9_C', 'J_S', 'A_C'],\n",
    "                 trump='D', \n",
    "                      cards_in_play={'p2': 'J_D', 'p3': 'A_D', 'p1': '9_D'}, \n",
    "                 player_led = 'p1'\n",
    ")"
   ]
  },
  {
   "cell_type": "code",
   "execution_count": null,
   "id": "02d64407",
   "metadata": {},
   "outputs": [],
   "source": []
  },
  {
   "cell_type": "markdown",
   "id": "3b61f93f",
   "metadata": {},
   "source": [
    "#### Get lowest trump card"
   ]
  },
  {
   "cell_type": "code",
   "execution_count": null,
   "id": "e9185002",
   "metadata": {},
   "outputs": [],
   "source": [
    "from utils import get_lowest_trump_card"
   ]
  },
  {
   "cell_type": "code",
   "execution_count": null,
   "id": "69b88d3e",
   "metadata": {},
   "outputs": [],
   "source": [
    "get_lowest_trump_card(hand=['J_H', 'J_D'], trump='H')"
   ]
  },
  {
   "cell_type": "code",
   "execution_count": null,
   "id": "3756de20",
   "metadata": {},
   "outputs": [],
   "source": [
    "get_lowest_trump_card(hand=['J_H', 'J_D'], trump='C')"
   ]
  },
  {
   "cell_type": "code",
   "execution_count": null,
   "id": "b505d271",
   "metadata": {},
   "outputs": [],
   "source": [
    "get_lowest_trump_card(hand=['J_H', 'J_S', 'A_C'], trump='C')"
   ]
  },
  {
   "cell_type": "markdown",
   "id": "ca3e1c96",
   "metadata": {},
   "source": [
    "#### Get lowest nontrump card in suit"
   ]
  },
  {
   "cell_type": "code",
   "execution_count": null,
   "id": "ac7f0b31",
   "metadata": {},
   "outputs": [],
   "source": [
    "from utils import get_lowest_nontrump_card_in_suit"
   ]
  },
  {
   "cell_type": "code",
   "execution_count": null,
   "id": "9799a8cd",
   "metadata": {},
   "outputs": [],
   "source": [
    "get_lowest_nontrump_card_in_suit(hand=['K_H', 'Q_H'], suit='H', trump='D')"
   ]
  },
  {
   "cell_type": "code",
   "execution_count": null,
   "id": "4392d7ca",
   "metadata": {},
   "outputs": [],
   "source": [
    "get_lowest_nontrump_card_in_suit(hand=['K_H', 'J_C'], suit='S', trump='D')"
   ]
  },
  {
   "cell_type": "code",
   "execution_count": null,
   "id": "a94e31f3",
   "metadata": {},
   "outputs": [],
   "source": [
    "get_lowest_nontrump_card_in_suit(hand=['K_H', 'Q_H', 'J_H'], suit='H', trump='D')"
   ]
  },
  {
   "cell_type": "code",
   "execution_count": null,
   "id": "6535fe4e",
   "metadata": {},
   "outputs": [],
   "source": [
    "get_lowest_nontrump_card_in_suit(hand=['J_H'], suit='H', trump='D')"
   ]
  },
  {
   "cell_type": "markdown",
   "id": "47ff5da5",
   "metadata": {},
   "source": [
    "#### Get highest nontrump card"
   ]
  },
  {
   "cell_type": "code",
   "execution_count": null,
   "id": "b898e075",
   "metadata": {},
   "outputs": [],
   "source": [
    "from utils import get_highest_nontrump_card"
   ]
  },
  {
   "cell_type": "code",
   "execution_count": null,
   "id": "14b31373",
   "metadata": {},
   "outputs": [],
   "source": [
    "get_highest_nontrump_card(hand=['A_H'], trump='H', suit=None)"
   ]
  },
  {
   "cell_type": "code",
   "execution_count": null,
   "id": "14bcd4d5",
   "metadata": {},
   "outputs": [],
   "source": [
    "get_highest_nontrump_card(hand=['A_H', 'A_D', 'A_S'], trump='H')"
   ]
  },
  {
   "cell_type": "code",
   "execution_count": null,
   "id": "89ee88f4",
   "metadata": {},
   "outputs": [],
   "source": [
    "get_highest_nontrump_card(hand=['T_H', '9_D', 'A_S'], trump='S')"
   ]
  },
  {
   "cell_type": "code",
   "execution_count": null,
   "id": "562b24f0",
   "metadata": {},
   "outputs": [],
   "source": [
    "get_highest_nontrump_card(hand=['T_H', 'Q_D', 'A_S', 'J_D'], trump='H', suit='D')"
   ]
  },
  {
   "cell_type": "code",
   "execution_count": null,
   "id": "0b061211",
   "metadata": {},
   "outputs": [],
   "source": [
    "get_highest_nontrump_card(hand=['T_H', 'Q_S', 'A_S', 'J_D'], trump='H', suit='D')"
   ]
  },
  {
   "cell_type": "code",
   "execution_count": null,
   "id": "488e6002",
   "metadata": {},
   "outputs": [],
   "source": []
  },
  {
   "cell_type": "markdown",
   "id": "8ea14936",
   "metadata": {},
   "source": [
    "#### Get lowest nontrump card in hand"
   ]
  },
  {
   "cell_type": "code",
   "execution_count": null,
   "id": "6ea0b2e9",
   "metadata": {},
   "outputs": [],
   "source": [
    "from utils import get_lowest_nontrump_card_in_hand"
   ]
  },
  {
   "cell_type": "code",
   "execution_count": null,
   "id": "428def63",
   "metadata": {},
   "outputs": [],
   "source": [
    "# should play T_C to short suits (partner plays A_H and leads trick, lay off)\n",
    "get_lowest_nontrump_card_in_hand(hand=['9_D', 'J_H', 'T_C', 'K_S', 'T_S'], \n",
    "                            trump='D', \n",
    "                            cards_played_this_hand=['J_D', '9_C'], \n",
    "                                 no_trump_in_hand=False)"
   ]
  },
  {
   "cell_type": "code",
   "execution_count": null,
   "id": "67e93e5a",
   "metadata": {},
   "outputs": [],
   "source": [
    "# should play T_C (since 9_C already played so T_S is better card)\n",
    "get_lowest_nontrump_card_in_hand(hand=['9_D', 'T_C', 'Q_C', 'K_S', 'T_S'], \n",
    "                            trump='D', \n",
    "                            cards_played_this_hand=['J_D', '9_C'], \n",
    "                                 no_trump_in_hand=False)"
   ]
  },
  {
   "cell_type": "code",
   "execution_count": null,
   "id": "cd5d3120",
   "metadata": {},
   "outputs": [],
   "source": [
    "# should return J_S\n",
    "get_lowest_nontrump_card_in_hand(hand=['T_C', 'J_S'], \n",
    "                            trump='D', \n",
    "                            cards_played_this_hand=['J_D', '9_S', 'T_S'], \n",
    "                                 no_trump_in_hand=True)"
   ]
  },
  {
   "cell_type": "code",
   "execution_count": null,
   "id": "36c0f7e4",
   "metadata": {},
   "outputs": [],
   "source": [
    "# should return A_S\n",
    "get_lowest_nontrump_card_in_hand(hand=['A_C', 'A_S'], \n",
    "                            trump='D', \n",
    "                            cards_played_this_hand=['J_D', '9_S', 'T_S'], \n",
    "                                 no_trump_in_hand=True)"
   ]
  },
  {
   "cell_type": "code",
   "execution_count": null,
   "id": "81705e75",
   "metadata": {},
   "outputs": [],
   "source": [
    "# should return None\n",
    "get_lowest_nontrump_card_in_hand(hand=['T_C', 'J_C'], \n",
    "                            trump='C', \n",
    "                            cards_played_this_hand=['J_D', '9_S', 'T_S'], \n",
    "                                 no_trump_in_hand=False)"
   ]
  },
  {
   "cell_type": "markdown",
   "id": "a505c01d",
   "metadata": {},
   "source": [
    "#### Get lowest winning trump card"
   ]
  },
  {
   "cell_type": "code",
   "execution_count": null,
   "id": "af7582ab",
   "metadata": {},
   "outputs": [],
   "source": [
    "from utils import get_lowest_winning_trump_card"
   ]
  },
  {
   "cell_type": "code",
   "execution_count": null,
   "id": "e681f615",
   "metadata": {},
   "outputs": [],
   "source": [
    "get_lowest_winning_trump_card(hand = ['A_S', 'K_D', 'T_D', 'K_S', 'Q_C'],\n",
    "                                   cards_in_play = {'p2': 'Q_D', 'p3': 'T_S', 'p4': 'K_D'},\n",
    "                                   trump = 'S')"
   ]
  },
  {
   "cell_type": "code",
   "execution_count": null,
   "id": "5e1a5da4",
   "metadata": {},
   "outputs": [],
   "source": [
    "get_lowest_winning_trump_card(hand = ['A_S', 'K_D', 'T_D', 'K_S', 'Q_C'],\n",
    "                                   cards_in_play = {'p2': 'Q_D', 'p3': 'T_S', 'p4': 'K_D'},\n",
    "                                   trump = 'D')"
   ]
  },
  {
   "cell_type": "code",
   "execution_count": null,
   "id": "0dad1517",
   "metadata": {},
   "outputs": [],
   "source": [
    "get_lowest_winning_trump_card(hand = ['A_S', '9_D', 'T_D', 'K_S', 'Q_C'],\n",
    "                                   cards_in_play = {'p2': 'Q_D', 'p3': 'T_S', 'p4': 'K_D'},\n",
    "                                   trump = 'D')"
   ]
  },
  {
   "cell_type": "code",
   "execution_count": null,
   "id": "f5ca720f",
   "metadata": {},
   "outputs": [],
   "source": [
    "get_lowest_winning_trump_card(hand = ['A_S', '9_D', 'T_D', 'K_S', 'Q_C'],\n",
    "                                   cards_in_play = {'p2': 'J_S', 'p3': 'T_S', 'p4': 'K_D'},\n",
    "                                   trump = 'S')"
   ]
  },
  {
   "cell_type": "code",
   "execution_count": null,
   "id": "8d1569e4",
   "metadata": {},
   "outputs": [],
   "source": []
  },
  {
   "cell_type": "markdown",
   "id": "976ca371",
   "metadata": {},
   "source": [
    "## Play full game"
   ]
  },
  {
   "cell_type": "code",
   "execution_count": 64,
   "id": "74567bc0",
   "metadata": {
    "scrolled": true
   },
   "outputs": [
    {
     "name": "stdout",
     "output_type": "stream",
     "text": [
      "Hand #0- Dealer: p1; Player p4 in seat 3 has chosen D as trump\n",
      "Dealer discards T_H and picks up K_D\n",
      "Trick 0: Leading with highest non-trump- Player p2 plays K_S, Cards in play: {'p2': 'K_S'}\n",
      "No S, no trump, playing lowest card in hand- Player p3 plays J_C, Cards in play: {'p2': 'K_S', 'p3': 'J_C'}\n",
      "Teammate winning, following suit w/ lowest card- Player p4 plays J_S, Cards in play: {'p2': 'K_S', 'p3': 'J_C', 'p4': 'J_S'}\n",
      "Following suit with highest card- Player p1 plays A_S, p1 wins trick\n",
      "Trick 1: Leading with highest non-trump- Player p1 plays K_C, Cards in play: {'p1': 'K_C'}\n",
      "Lowest winning trump card- Player p2 plays T_D, Cards in play: {'p1': 'K_C', 'p2': 'T_D'}\n",
      "Following suit with highest card- Player p3 plays A_C, Cards in play: {'p1': 'K_C', 'p2': 'T_D', 'p3': 'A_C'}\n",
      "Teammate winning, following suit w/ lowest card- Player p4 plays 9_C, p2 wins trick\n",
      "Trick 2: Leading with highest non-trump- Player p2 plays Q_S, Cards in play: {'p2': 'Q_S'}\n",
      "No S, no trump, playing lowest card in hand- Player p3 plays Q_C, Cards in play: {'p2': 'Q_S', 'p3': 'Q_C'}\n",
      "Teammate winning, no follow suit, only trump left- Player p4 plays 9_D, Cards in play: {'p2': 'Q_S', 'p3': 'Q_C', 'p4': '9_D'}\n",
      "Following suit with highest card- Player p1 plays 9_S, p4 wins trick\n",
      "Trick 3: Leading with lowest trump (only trump left)- Player p4 plays A_D, Cards in play: {'p4': 'A_D'}\n",
      "Following suit with lowest trump card- Player p1 plays Q_D, Cards in play: {'p4': 'A_D', 'p1': 'Q_D'}\n",
      "Teammate winning, following suit w/ lowest trump card- Player p2 plays J_H, Cards in play: {'p4': 'A_D', 'p1': 'Q_D', 'p2': 'J_H'}\n",
      "No trump, playing lowest card in hand- Player p3 plays Q_H, p2 wins trick\n",
      "Trick 4: Last card- Player p2 plays 9_H, Last card- Player p3 plays A_H, Last card- Player p4 plays J_D, Last card- Player p1 plays K_D, p4 wins trick\n",
      "Trick winners: {'p2': 2, 'p3': 0, 'p4': 2, 'p1': 1} - t2 scores 1\n",
      "Hand #1- Dealer: p2; Player p4 in seat 2 has chosen H as trump\n",
      "Trick 0: Leading with highest non-trump- Player p3 plays A_S, Cards in play: {'p3': 'A_S'}\n",
      "Following suit with highest card- Player p4 plays 9_S, Cards in play: {'p3': 'A_S', 'p4': '9_S'}\n",
      "Teammate winning, no follow suit, play lowest card- Player p1 plays 9_D, Cards in play: {'p3': 'A_S', 'p4': '9_S', 'p1': '9_D'}\n",
      "Following suit with highest card- Player p2 plays T_S, p3 wins trick\n",
      "Trick 1: Leading with highest non-trump- Player p3 plays Q_S, Cards in play: {'p3': 'Q_S'}\n",
      "Lowest winning trump card- Player p4 plays 9_H, Cards in play: {'p3': 'Q_S', 'p4': '9_H'}\n",
      "Lowest winning trump card- Player p1 plays K_H, Cards in play: {'p3': 'Q_S', 'p4': '9_H', 'p1': 'K_H'}\n",
      "No S, no trump, playing lowest card in hand- Player p2 plays Q_D, p1 wins trick\n",
      "Trick 2: Leading with highest non-trump- Player p1 plays K_C, Cards in play: {'p1': 'K_C'}\n",
      "Following suit with highest card- Player p2 plays A_C, Cards in play: {'p1': 'K_C', 'p2': 'A_C'}\n",
      "Following suit with highest card- Player p3 plays 9_C, Cards in play: {'p1': 'K_C', 'p2': 'A_C', 'p3': '9_C'}\n",
      "Teammate winning, following suit w/ lowest card- Player p4 plays Q_C, p2 wins trick\n",
      "Trick 3: Leading with highest non-trump- Player p2 plays A_D, Cards in play: {'p2': 'A_D'}\n",
      "Following suit with highest card- Player p3 plays T_D, Cards in play: {'p2': 'A_D', 'p3': 'T_D'}\n",
      "Teammate winning, no follow suit, only trump left- Player p4 plays T_H, Cards in play: {'p2': 'A_D', 'p3': 'T_D', 'p4': 'T_H'}\n",
      "No D, no trump, playing lowest card in hand- Player p1 plays T_C, p4 wins trick\n",
      "Trick 4: Last card- Player p4 plays J_H, Last card- Player p1 plays J_C, Last card- Player p2 plays K_D, Last card- Player p3 plays A_H, p4 wins trick\n",
      "Trick winners: {'p3': 1, 'p4': 2, 'p1': 1, 'p2': 1} - t2 scores 1\n",
      "Hand #2- Dealer: p3; Player p3 in seat 4 has chosen D as trump\n",
      "Dealer discards T_S and picks up 9_D\n",
      "Trick 0: Leading with highest non-trump- Player p4 plays K_C, Cards in play: {'p4': 'K_C'}\n",
      "Following suit with highest card- Player p1 plays A_C, Cards in play: {'p4': 'K_C', 'p1': 'A_C'}\n",
      "Following suit with highest card- Player p2 plays Q_C, Cards in play: {'p4': 'K_C', 'p1': 'A_C', 'p2': 'Q_C'}\n",
      "Teammate winning, following suit w/ lowest card- Player p3 plays J_C, p1 wins trick\n",
      "Trick 1: Leading with highest non-trump- Player p1 plays A_H, Cards in play: {'p1': 'A_H'}\n",
      "Lowest winning trump card- Player p2 plays T_D, Cards in play: {'p1': 'A_H', 'p2': 'T_D'}\n",
      "Lowest winning trump card- Player p3 plays 9_D, Cards in play: {'p1': 'A_H', 'p2': 'T_D', 'p3': '9_D'}\n",
      "Teammate winning, following suit w/ lowest card- Player p4 plays 9_H, p2 wins trick\n",
      "Trick 2: Leading with highest non-trump- Player p2 plays J_S, Cards in play: {'p2': 'J_S'}\n",
      "Lowest winning trump card- Player p3 plays Q_D, Cards in play: {'p2': 'J_S', 'p3': 'Q_D'}\n",
      "Following suit with highest card- Player p4 plays K_S, Cards in play: {'p2': 'J_S', 'p3': 'Q_D', 'p4': 'K_S'}\n",
      "Teammate winning, no follow suit, play lowest card- Player p1 plays T_H, p3 wins trick\n",
      "Trick 3: Leading with lowest trump (only trump left)- Player p3 plays K_D, Cards in play: {'p3': 'K_D'}\n",
      "No trump, playing lowest card in hand- Player p4 plays 9_C, Cards in play: {'p3': 'K_D', 'p4': '9_C'}\n",
      "Teammate winning, no trump, play lowest card- Player p1 plays T_C, Cards in play: {'p3': 'K_D', 'p4': '9_C', 'p1': 'T_C'}\n",
      "Following suit with lowest winning trump card- Player p2 plays J_H, p2 wins trick\n",
      "Trick 4: Last card- Player p2 plays 9_S, Last card- Player p3 plays A_D, Last card- Player p4 plays Q_S, Last card- Player p1 plays K_H, p3 wins trick\n",
      "Trick winners: {'p4': 0, 'p1': 1, 'p2': 2, 'p3': 2} - t1 scores 1\n",
      "Hand #3- Dealer: p4; Player p1 in seat 1 has chosen D as trump\n",
      "Trick 0: Leading with highest non-trump- Player p1 plays A_H, Cards in play: {'p1': 'A_H'}\n",
      "Lowest winning trump card- Player p2 plays 9_D, Cards in play: {'p1': 'A_H', 'p2': '9_D'}\n",
      "Lowest winning trump card- Player p3 plays J_H, Cards in play: {'p1': 'A_H', 'p2': '9_D', 'p3': 'J_H'}\n",
      "Following suit with highest card- Player p4 plays Q_H, p3 wins trick\n",
      "Trick 1: Leading with highest non-trump- Player p3 plays K_C, Cards in play: {'p3': 'K_C'}\n",
      "Following suit with highest card- Player p4 plays Q_C, Cards in play: {'p3': 'K_C', 'p4': 'Q_C'}\n",
      "Teammate winning, following suit w/ lowest card- Player p1 plays A_C, Cards in play: {'p3': 'K_C', 'p4': 'Q_C', 'p1': 'A_C'}\n",
      "Following suit with highest card- Player p2 plays T_C, p1 wins trick\n",
      "Trick 2: Leading with lowest trump (only trump left)- Player p1 plays Q_D, Cards in play: {'p1': 'Q_D'}\n",
      "Following suit with lowest winning trump card- Player p2 plays T_D, Cards in play: {'p1': 'Q_D', 'p2': 'T_D'}\n",
      "Teammate winning, no trump, play lowest card- Player p3 plays 9_C, Cards in play: {'p1': 'Q_D', 'p2': 'T_D', 'p3': '9_C'}\n",
      "No trump, playing lowest card in hand- Player p4 plays J_C, p1 wins trick\n",
      "Trick 3: Leading with lowest trump (only trump left)- Player p1 plays K_D, Cards in play: {'p1': 'K_D'}\n",
      "Following suit with lowest winning trump card- Player p2 plays J_D, Cards in play: {'p1': 'K_D', 'p2': 'J_D'}\n",
      "No trump, playing lowest card in hand- Player p3 plays 9_S, Cards in play: {'p1': 'K_D', 'p2': 'J_D', 'p3': '9_S'}\n",
      "Teammate winning, no trump, play lowest card- Player p4 plays Q_S, p2 wins trick\n",
      "Trick 4: Last card- Player p2 plays J_S, Last card- Player p3 plays T_S, Last card- Player p4 plays K_S, Last card- Player p1 plays A_D, p1 wins trick\n",
      "Trick winners: {'p1': 3, 'p2': 1, 'p3': 1, 'p4': 0} - t1 scores 1\n",
      "Hand #4- Dealer: p1; Player p4 in seat 3 has chosen D as trump\n",
      "Dealer discards Q_H and picks up J_D\n",
      "Trick 0: Leading with highest non-trump- Player p2 plays A_C, Cards in play: {'p2': 'A_C'}\n",
      "Following suit with highest card- Player p3 plays Q_C, Cards in play: {'p2': 'A_C', 'p3': 'Q_C'}\n",
      "Teammate winning, no follow suit, play lowest card- Player p4 plays 9_H, Cards in play: {'p2': 'A_C', 'p3': 'Q_C', 'p4': '9_H'}\n",
      "Following suit with highest card- Player p1 plays J_C, p2 wins trick\n",
      "Trick 1: Leading with highest non-trump- Player p2 plays Q_S, Cards in play: {'p2': 'Q_S'}\n",
      "Following suit with highest card- Player p3 plays K_S, Cards in play: {'p2': 'Q_S', 'p3': 'K_S'}\n",
      "Following suit with highest card- Player p4 plays J_S, Cards in play: {'p2': 'Q_S', 'p3': 'K_S', 'p4': 'J_S'}\n",
      "Teammate winning, following suit w/ lowest card- Player p1 plays A_S, p1 wins trick\n",
      "Trick 2: Leading with highest non-trump- Player p1 plays T_C, Cards in play: {'p1': 'T_C'}\n",
      "Lowest winning trump card- Player p2 plays T_D, Cards in play: {'p1': 'T_C', 'p2': 'T_D'}\n",
      "No C, no trump, playing lowest card in hand- Player p3 plays 9_S, Cards in play: {'p1': 'T_C', 'p2': 'T_D', 'p3': '9_S'}\n",
      "Teammate winning, no follow suit, only trump left- Player p4 plays Q_D, p4 wins trick\n",
      "Trick 3: Leading with lowest trump (only trump left)- Player p4 plays K_D, Cards in play: {'p4': 'K_D'}\n",
      "Following suit with lowest winning trump card- Player p1 plays J_H, Cards in play: {'p4': 'K_D', 'p1': 'J_H'}\n",
      "No trump, playing lowest card in hand- Player p2 plays T_H, Cards in play: {'p4': 'K_D', 'p1': 'J_H', 'p2': 'T_H'}\n",
      "Teammate winning, no trump, play lowest card- Player p3 plays K_H, p1 wins trick\n",
      "Trick 4: Last card- Player p1 plays J_D, Last card- Player p2 plays T_S, Last card- Player p3 plays A_H, Last card- Player p4 plays A_D, p1 wins trick\n",
      "Trick winners: {'p2': 1, 'p3': 0, 'p4': 1, 'p1': 3} - t1 scores 2\n",
      "Hand #5- Dealer: p2; Player p3 in seat 1 has chosen H as trump\n",
      "Trick 0: Leading with highest non-trump- Player p3 plays T_D, Cards in play: {'p3': 'T_D'}\n",
      "Lowest winning trump card- Player p4 plays K_H, Cards in play: {'p3': 'T_D', 'p4': 'K_H'}\n",
      "Lowest winning trump card- Player p1 plays 9_H, Cards in play: {'p3': 'T_D', 'p4': 'K_H', 'p1': '9_H'}\n",
      "Teammate winning, following suit w/ lowest card- Player p2 plays K_D, p4 wins trick\n",
      "Trick 1: Leading with highest non-trump- Player p4 plays K_C, Cards in play: {'p4': 'K_C'}\n",
      "Lowest winning trump card- Player p1 plays J_H, Cards in play: {'p4': 'K_C', 'p1': 'J_H'}\n",
      "Following suit with highest card- Player p2 plays A_C, Cards in play: {'p4': 'K_C', 'p1': 'J_H', 'p2': 'A_C'}\n",
      "Teammate winning, no follow suit, play lowest card- Player p3 plays 9_D, p1 wins trick\n",
      "Trick 2: Leading with highest non-trump- Player p1 plays K_S, Cards in play: {'p1': 'K_S'}\n",
      "Following suit with highest card- Player p2 plays A_S, Cards in play: {'p1': 'K_S', 'p2': 'A_S'}\n",
      "Lowest winning trump card- Player p3 plays T_H, Cards in play: {'p1': 'K_S', 'p2': 'A_S', 'p3': 'T_H'}\n",
      "Following suit with highest card- Player p4 plays Q_S, p3 wins trick\n",
      "Trick 3: Leading with lowest trump (only trump left)- Player p3 plays Q_H, Cards in play: {'p3': 'Q_H'}\n",
      "Following suit with lowest winning trump card- Player p4 plays J_D, Cards in play: {'p3': 'Q_H', 'p4': 'J_D'}\n",
      "No trump, playing lowest card in hand- Player p1 plays 9_S, Cards in play: {'p3': 'Q_H', 'p4': 'J_D', 'p1': '9_S'}\n",
      "Teammate winning, no trump, play lowest card- Player p2 plays T_S, p4 wins trick\n",
      "Trick 4: Last card- Player p4 plays J_C, Last card- Player p1 plays J_S, Last card- Player p2 plays 9_C, Last card- Player p3 plays A_H, p3 wins trick\n",
      "Trick winners: {'p3': 2, 'p4': 2, 'p1': 1, 'p2': 0} - t1 scores 1\n",
      "Hand #6- Dealer: p3; Player p1 in seat 2 has chosen H as trump\n",
      "Trick 0: Leading with highest non-trump- Player p4 plays A_S, Cards in play: {'p4': 'A_S'}\n",
      "Following suit with highest card- Player p1 plays K_S, Cards in play: {'p4': 'A_S', 'p1': 'K_S'}\n",
      "Teammate winning, following suit w/ lowest card- Player p2 plays T_S, Cards in play: {'p4': 'A_S', 'p1': 'K_S', 'p2': 'T_S'}\n",
      "Following suit with highest card- Player p3 plays 9_S, p4 wins trick\n",
      "Trick 1: Leading with highest non-trump- Player p4 plays K_D, Cards in play: {'p4': 'K_D'}\n",
      "Following suit with highest card- Player p1 plays Q_D, Cards in play: {'p4': 'K_D', 'p1': 'Q_D'}\n",
      "Teammate winning, following suit w/ lowest card- Player p2 plays 9_D, Cards in play: {'p4': 'K_D', 'p1': 'Q_D', 'p2': '9_D'}\n",
      "No D, no trump, playing lowest card in hand- Player p3 plays J_C, p4 wins trick\n",
      "Trick 2: Leading with highest non-trump- Player p4 plays J_S, Cards in play: {'p4': 'J_S'}\n",
      "Lowest winning trump card- Player p1 plays 9_H, Cards in play: {'p4': 'J_S', 'p1': '9_H'}\n",
      "Following suit with highest card- Player p2 plays Q_S, Cards in play: {'p4': 'J_S', 'p1': '9_H', 'p2': 'Q_S'}\n",
      "Teammate winning, no follow suit, play lowest card- Player p3 plays Q_C, p1 wins trick\n",
      "Trick 3: Leading with lowest trump (only trump left)- Player p1 plays K_H, Cards in play: {'p1': 'K_H'}\n",
      "Following suit with lowest winning trump card- Player p2 plays J_H, Cards in play: {'p1': 'K_H', 'p2': 'J_H'}\n",
      "No trump, playing lowest card in hand- Player p3 plays K_C, Cards in play: {'p1': 'K_H', 'p2': 'J_H', 'p3': 'K_C'}\n",
      "Teammate winning, no trump, play lowest card- Player p4 plays T_D, p2 wins trick\n",
      "Trick 4: Last card- Player p2 plays T_C, Last card- Player p3 plays A_C, Last card- Player p4 plays 9_C, Last card- Player p1 plays A_H, p1 wins trick\n",
      "Trick winners: {'p4': 2, 'p1': 2, 'p2': 1, 'p3': 0} - t2 scores 2\n",
      "Hand #7- Dealer: p4; Player p3 in seat 3 has chosen C as trump\n",
      "Trick 0: Leading with highest non-trump- Player p1 plays A_D, Cards in play: {'p1': 'A_D'}\n",
      "Following suit with highest card- Player p2 plays 9_D, Cards in play: {'p1': 'A_D', 'p2': '9_D'}\n",
      "Teammate winning, no follow suit, play lowest card- Player p3 plays J_H, Cards in play: {'p1': 'A_D', 'p2': '9_D', 'p3': 'J_H'}\n",
      "Following suit with highest card- Player p4 plays K_D, p1 wins trick\n",
      "Trick 1: Leading with highest non-trump- Player p1 plays K_H, Cards in play: {'p1': 'K_H'}\n",
      "Following suit with highest card- Player p2 plays 9_H, Cards in play: {'p1': 'K_H', 'p2': '9_H'}\n",
      "Teammate winning, following suit w/ lowest card- Player p3 plays A_H, Cards in play: {'p1': 'K_H', 'p2': '9_H', 'p3': 'A_H'}\n",
      "Lowest winning trump card- Player p4 plays K_C, p4 wins trick\n",
      "Trick 2: Leading with highest non-trump- Player p4 plays Q_S, Cards in play: {'p4': 'Q_S'}\n",
      "Lowest winning trump card- Player p1 plays 9_C, Cards in play: {'p4': 'Q_S', 'p1': '9_C'}\n",
      "Following suit with highest card- Player p2 plays A_S, Cards in play: {'p4': 'Q_S', 'p1': '9_C', 'p2': 'A_S'}\n",
      "Teammate winning, no follow suit, only trump left- Player p3 plays T_C, p3 wins trick\n",
      "Trick 3: Leading with lowest trump (only trump left)- Player p3 plays Q_C, Cards in play: {'p3': 'Q_C'}\n",
      "Following suit with lowest winning trump card- Player p4 plays J_S, Cards in play: {'p3': 'Q_C', 'p4': 'J_S'}\n",
      "No trump, playing lowest card in hand- Player p1 plays Q_H, Cards in play: {'p3': 'Q_C', 'p4': 'J_S', 'p1': 'Q_H'}\n",
      "Teammate winning, following suit w/ lowest trump card- Player p2 plays J_C, p2 wins trick\n",
      "Trick 4: Last card- Player p2 plays 9_S, Last card- Player p3 plays A_C, Last card- Player p4 plays T_D, Last card- Player p1 plays J_D, p3 wins trick\n",
      "Trick winners: {'p1': 1, 'p2': 1, 'p3': 2, 'p4': 1} - t1 scores 1\n",
      "Hand #8- Dealer: p1; Trump not found\n",
      "Hand #8- Dealer: p2; Trump not found\n",
      "Hand #8- Dealer: p3; Player p1 in seat 2 has chosen C as trump\n",
      "Trick 0: Leading with highest non-trump- Player p4 plays A_H, Cards in play: {'p4': 'A_H'}\n",
      "Following suit with highest card- Player p1 plays 9_H, Cards in play: {'p4': 'A_H', 'p1': '9_H'}\n",
      "Teammate winning, no follow suit, play lowest card- Player p2 plays Q_D, Cards in play: {'p4': 'A_H', 'p1': '9_H', 'p2': 'Q_D'}\n",
      "Following suit with highest card- Player p3 plays J_H, p4 wins trick\n",
      "Trick 1: Leading with highest non-trump- Player p4 plays 9_D, Cards in play: {'p4': '9_D'}\n",
      "Following suit with highest card- Player p1 plays K_D, Cards in play: {'p4': '9_D', 'p1': 'K_D'}\n",
      "Lowest winning trump card- Player p2 plays 9_C, Cards in play: {'p4': '9_D', 'p1': 'K_D', 'p2': '9_C'}\n",
      "Following suit with highest card- Player p3 plays J_D, p2 wins trick\n",
      "Trick 2: Leading with highest non-trump- Player p2 plays A_S, Cards in play: {'p2': 'A_S'}\n",
      "Following suit with highest card- Player p3 plays K_S, Cards in play: {'p2': 'A_S', 'p3': 'K_S'}\n",
      "Teammate winning, no follow suit, only trump left- Player p4 plays T_C, Cards in play: {'p2': 'A_S', 'p3': 'K_S', 'p4': 'T_C'}\n",
      "Lowest winning trump card- Player p1 plays Q_C, p1 wins trick\n",
      "Trick 3: Leading with lowest trump (only trump left)- Player p1 plays A_C, Cards in play: {'p1': 'A_C'}\n",
      "No trump, playing lowest card in hand- Player p2 plays T_S, Cards in play: {'p1': 'A_C', 'p2': 'T_S'}\n",
      "Teammate winning, no trump, play lowest card- Player p3 plays 9_S, Cards in play: {'p1': 'A_C', 'p2': 'T_S', 'p3': '9_S'}\n",
      "Following suit with lowest winning trump card- Player p4 plays K_C, p1 wins trick\n",
      "Trick 4: Last card- Player p1 plays J_C, Last card- Player p2 plays Q_S, Last card- Player p3 plays T_D, Last card- Player p4 plays J_S, p1 wins trick\n",
      "Trick winners: {'p4': 1, 'p1': 3, 'p2': 1, 'p3': 0} - t1 scores 1\n",
      "Hand #9- Dealer: p4; Player p1 in seat 1 has chosen S as trump\n",
      "Trick 0: Leading with highest non-trump- Player p1 plays J_H, Cards in play: {'p1': 'J_H'}\n",
      "Following suit with highest card- Player p2 plays T_H, Cards in play: {'p1': 'J_H', 'p2': 'T_H'}\n",
      "Teammate winning, following suit w/ lowest card- Player p3 plays Q_H, Cards in play: {'p1': 'J_H', 'p2': 'T_H', 'p3': 'Q_H'}\n",
      "Lowest winning trump card- Player p4 plays T_S, p4 wins trick\n",
      "Trick 1: Leading with highest non-trump- Player p4 plays Q_C, Cards in play: {'p4': 'Q_C'}\n",
      "Lowest winning trump card- Player p1 plays 9_S, Cards in play: {'p4': 'Q_C', 'p1': '9_S'}\n",
      "Lowest winning trump card- Player p2 plays J_C, Cards in play: {'p4': 'Q_C', 'p1': '9_S', 'p2': 'J_C'}\n",
      "Following suit with highest card- Player p3 plays K_C, p2 wins trick\n",
      "Trick 2: Leading with highest non-trump- Player p2 plays Q_D, Cards in play: {'p2': 'Q_D'}\n",
      "Following suit with highest card- Player p3 plays T_D, Cards in play: {'p2': 'Q_D', 'p3': 'T_D'}\n",
      "Teammate winning, following suit w/ lowest card- Player p4 plays J_D, Cards in play: {'p2': 'Q_D', 'p3': 'T_D', 'p4': 'J_D'}\n",
      "Lowest winning trump card- Player p1 plays K_S, p1 wins trick\n",
      "Trick 3: Leading with highest non-trump- Player p1 plays 9_H, Cards in play: {'p1': '9_H'}\n",
      "Lowest winning trump card- Player p2 plays J_S, Cards in play: {'p1': '9_H', 'p2': 'J_S'}\n",
      "Following suit with highest card- Player p3 plays K_H, Cards in play: {'p1': '9_H', 'p2': 'J_S', 'p3': 'K_H'}\n",
      "Teammate winning, no follow suit, play lowest card- Player p4 plays T_C, p2 wins trick\n",
      "Trick 4: Last card- Player p2 plays 9_D, Last card- Player p3 plays 9_C, Last card- Player p4 plays Q_S, Last card- Player p1 plays A_S, p1 wins trick\n",
      "Trick winners: {'p1': 2, 'p2': 2, 'p3': 0, 'p4': 1} - t2 scores 2\n",
      "Hand #10- Dealer: p1; Player p2 in seat 1 has chosen H as trump\n",
      "Trick 0: Leading with highest non-trump- Player p2 plays A_C, Cards in play: {'p2': 'A_C'}\n",
      "Following suit with highest card- Player p3 plays T_C, Cards in play: {'p2': 'A_C', 'p3': 'T_C'}\n",
      "Teammate winning, following suit w/ lowest card- Player p4 plays Q_C, Cards in play: {'p2': 'A_C', 'p3': 'T_C', 'p4': 'Q_C'}\n",
      "Following suit with highest card- Player p1 plays K_C, p2 wins trick\n",
      "Trick 1: Leading with highest non-trump- Player p2 plays 9_S, Cards in play: {'p2': '9_S'}\n",
      "Following suit with highest card- Player p3 plays K_S, Cards in play: {'p2': '9_S', 'p3': 'K_S'}\n",
      "Following suit with highest card- Player p4 plays A_S, Cards in play: {'p2': '9_S', 'p3': 'K_S', 'p4': 'A_S'}\n",
      "Lowest winning trump card- Player p1 plays T_H, p1 wins trick\n",
      "Trick 2: Leading with highest non-trump- Player p1 plays K_D, Cards in play: {'p1': 'K_D'}\n",
      "Lowest winning trump card- Player p2 plays K_H, Cards in play: {'p1': 'K_D', 'p2': 'K_H'}\n",
      "Following suit with highest card- Player p3 plays A_D, Cards in play: {'p1': 'K_D', 'p2': 'K_H', 'p3': 'A_D'}\n",
      "Teammate winning, following suit w/ lowest card- Player p4 plays 9_D, p2 wins trick\n",
      "Trick 3: Leading with lowest trump (only trump left)- Player p2 plays A_H, Cards in play: {'p2': 'A_H'}\n",
      "Following suit with lowest trump card- Player p3 plays 9_H, Cards in play: {'p2': 'A_H', 'p3': '9_H'}\n",
      "Teammate winning, no trump, play lowest card- Player p4 plays Q_D, Cards in play: {'p2': 'A_H', 'p3': '9_H', 'p4': 'Q_D'}\n",
      "Following suit with lowest winning trump card- Player p1 plays Q_H, p2 wins trick\n",
      "Trick 4: Last card- Player p2 plays J_H, Last card- Player p3 plays T_S, Last card- Player p4 plays Q_S, Last card- Player p1 plays J_D, p2 wins trick\n",
      "Trick winners: {'p2': 4, 'p3': 0, 'p4': 0, 'p1': 1} - t2 scores 1\n",
      "Hand #11- Dealer: p2; Trump not found\n",
      "Hand #11- Dealer: p3; Player p4 in seat 1 has chosen D as trump\n",
      "Trick 0: Leading with highest non-trump- Player p4 plays Q_H, Cards in play: {'p4': 'Q_H'}\n",
      "Following suit with highest card- Player p1 plays 9_H, Cards in play: {'p4': 'Q_H', 'p1': '9_H'}\n",
      "Teammate winning, no follow suit, play lowest card- Player p2 plays Q_S, Cards in play: {'p4': 'Q_H', 'p1': '9_H', 'p2': 'Q_S'}\n",
      "Following suit with highest card- Player p3 plays A_H, p3 wins trick\n",
      "Trick 1: Leading with highest non-trump- Player p3 plays K_H, Cards in play: {'p3': 'K_H'}\n",
      "Lowest winning trump card- Player p4 plays 9_D, Cards in play: {'p3': 'K_H', 'p4': '9_D'}\n",
      "Lowest winning trump card- Player p1 plays A_D, Cards in play: {'p3': 'K_H', 'p4': '9_D', 'p1': 'A_D'}\n",
      "No H, no trump, playing lowest card in hand- Player p2 plays T_D, p1 wins trick\n",
      "Trick 2: Leading with highest non-trump- Player p1 plays Q_C, Cards in play: {'p1': 'Q_C'}\n",
      "Following suit with highest card- Player p2 plays A_C, Cards in play: {'p1': 'Q_C', 'p2': 'A_C'}\n",
      "Lowest winning trump card- Player p3 plays Q_D, Cards in play: {'p1': 'Q_C', 'p2': 'A_C', 'p3': 'Q_D'}\n",
      "Following suit with highest card- Player p4 plays T_C, p3 wins trick\n",
      "Trick 3: Leading with highest non-trump- Player p3 plays K_S, Cards in play: {'p3': 'K_S'}\n",
      "Lowest winning trump card- Player p4 plays K_D, Cards in play: {'p3': 'K_S', 'p4': 'K_D'}\n",
      "Following suit with highest card- Player p1 plays 9_S, Cards in play: {'p3': 'K_S', 'p4': 'K_D', 'p1': '9_S'}\n",
      "Teammate winning, no follow suit, play lowest card- Player p2 plays J_C, p4 wins trick\n",
      "Trick 4: Last card- Player p4 plays J_D, Last card- Player p1 plays 9_C, Last card- Player p2 plays K_C, Last card- Player p3 plays T_H, p4 wins trick\n",
      "Trick winners: {'p4': 2, 'p1': 1, 'p2': 0, 'p3': 2} - t1 scores 2\n",
      "Hand #12- Dealer: p4; Player p2 in seat 2 has chosen C as trump\n",
      "Trick 0: Leading with highest non-trump- Player p1 plays A_D, Cards in play: {'p1': 'A_D'}\n",
      "Lowest winning trump card- Player p2 plays Q_C, Cards in play: {'p1': 'A_D', 'p2': 'Q_C'}\n",
      "Following suit with highest card- Player p3 plays K_D, Cards in play: {'p1': 'A_D', 'p2': 'Q_C', 'p3': 'K_D'}\n",
      "Teammate winning, following suit w/ lowest card- Player p4 plays T_D, p2 wins trick\n",
      "Trick 1: Leading with highest non-trump- Player p2 plays K_H, Cards in play: {'p2': 'K_H'}\n",
      "Following suit with highest card- Player p3 plays Q_H, Cards in play: {'p2': 'K_H', 'p3': 'Q_H'}\n",
      "Teammate winning, following suit w/ lowest card- Player p4 plays J_H, Cards in play: {'p2': 'K_H', 'p3': 'Q_H', 'p4': 'J_H'}\n",
      "Following suit with highest card- Player p1 plays T_H, p2 wins trick\n",
      "Trick 2: Leading with highest non-trump- Player p2 plays T_S, Cards in play: {'p2': 'T_S'}\n",
      "Following suit with highest card- Player p3 plays Q_S, Cards in play: {'p2': 'T_S', 'p3': 'Q_S'}\n",
      "Lowest winning trump card- Player p4 plays 9_C, Cards in play: {'p2': 'T_S', 'p3': 'Q_S', 'p4': '9_C'}\n",
      "Following suit with highest card- Player p1 plays K_S, p4 wins trick\n",
      "Trick 3: Leading with highest non-trump- Player p4 plays A_H, Cards in play: {'p4': 'A_H'}\n",
      "Following suit with highest card- Player p1 plays 9_H, Cards in play: {'p4': 'A_H', 'p1': '9_H'}\n",
      "Teammate winning, no follow suit, only trump left- Player p2 plays K_C, Cards in play: {'p4': 'A_H', 'p1': '9_H', 'p2': 'K_C'}\n",
      "Lowest winning trump card- Player p3 plays J_S, p3 wins trick\n",
      "Trick 4: Last card- Player p3 plays 9_D, Last card- Player p4 plays T_C, Last card- Player p1 plays A_C, Last card- Player p2 plays J_C, p2 wins trick\n",
      "Trick winners: {'p1': 0, 'p2': 3, 'p3': 1, 'p4': 1} - t2 scores 1\n",
      "Hand #13- Dealer: p1; Player p3 in seat 2 has chosen C as trump\n",
      "Trick 0: Leading with highest non-trump- Player p2 plays K_S, Cards in play: {'p2': 'K_S'}\n",
      "Lowest winning trump card- Player p3 plays 9_C, Cards in play: {'p2': 'K_S', 'p3': '9_C'}\n",
      "Lowest winning trump card- Player p4 plays J_S, Cards in play: {'p2': 'K_S', 'p3': '9_C', 'p4': 'J_S'}\n",
      "Following suit with highest card- Player p1 plays A_S, p4 wins trick\n",
      "Trick 1: Leading with highest non-trump- Player p4 plays K_D, Cards in play: {'p4': 'K_D'}\n",
      "Following suit with highest card- Player p1 plays A_D, Cards in play: {'p4': 'K_D', 'p1': 'A_D'}\n",
      "Following suit with highest card- Player p2 plays T_D, Cards in play: {'p4': 'K_D', 'p1': 'A_D', 'p2': 'T_D'}\n",
      "Teammate winning, following suit w/ lowest card- Player p3 plays Q_D, p1 wins trick\n",
      "Trick 2: Leading with highest non-trump- Player p1 plays Q_S, Cards in play: {'p1': 'Q_S'}\n",
      "Lowest winning trump card- Player p2 plays A_C, Cards in play: {'p1': 'Q_S', 'p2': 'A_C'}\n",
      "No S, no trump, playing lowest card in hand- Player p3 plays T_H, Cards in play: {'p1': 'Q_S', 'p2': 'A_C', 'p3': 'T_H'}\n",
      "Teammate winning, no follow suit, play lowest card- Player p4 plays J_D, p2 wins trick\n",
      "Trick 3: Leading with highest non-trump- Player p2 plays J_H, Cards in play: {'p2': 'J_H'}\n",
      "Lowest winning trump card- Player p3 plays Q_C, Cards in play: {'p2': 'J_H', 'p3': 'Q_C'}\n",
      "Following suit with highest card- Player p4 plays K_H, Cards in play: {'p2': 'J_H', 'p3': 'Q_C', 'p4': 'K_H'}\n",
      "Teammate winning, following suit w/ lowest card- Player p1 plays 9_H, p3 wins trick\n",
      "Trick 4: Last card- Player p3 plays K_C, Last card- Player p4 plays Q_H, Last card- Player p1 plays T_C, Last card- Player p2 plays 9_D, p3 wins trick\n",
      "Trick winners: {'p2': 1, 'p3': 2, 'p4': 1, 'p1': 1} - t1 scores 1\n",
      "Total hands played 14\n",
      "CPU times: user 3.78 ms, sys: 365 µs, total: 4.15 ms\n",
      "Wall time: 3.88 ms\n"
     ]
    }
   ],
   "source": [
    "%%time\n",
    "\n",
    "euchre_game = EuchreGame()\n",
    "euchre_game.play_full_game(verbose=True)"
   ]
  },
  {
   "cell_type": "code",
   "execution_count": 65,
   "id": "06225cf9",
   "metadata": {},
   "outputs": [
    {
     "data": {
      "text/plain": [
       "{'t1': 10, 't2': 8}"
      ]
     },
     "execution_count": 65,
     "metadata": {},
     "output_type": "execute_result"
    }
   ],
   "source": [
    "euchre_game.score"
   ]
  },
  {
   "cell_type": "code",
   "execution_count": null,
   "id": "4defa0c3",
   "metadata": {},
   "outputs": [],
   "source": []
  },
  {
   "cell_type": "code",
   "execution_count": null,
   "id": "d7fffa15",
   "metadata": {},
   "outputs": [],
   "source": []
  },
  {
   "cell_type": "markdown",
   "id": "2f4c6b11",
   "metadata": {},
   "source": [
    "#### Profile performance"
   ]
  },
  {
   "cell_type": "code",
   "execution_count": 66,
   "id": "2e3c6ada",
   "metadata": {},
   "outputs": [
    {
     "name": "stdout",
     "output_type": "stream",
     "text": [
      " "
     ]
    },
    {
     "data": {
      "text/plain": [
       "         13903 function calls (13203 primitive calls) in 0.005 seconds\n",
       "\n",
       "   Ordered by: internal time\n",
       "\n",
       "   ncalls  tottime  percall  cumtime  percall filename:lineno(function)\n",
       "   761/61    0.001    0.000    0.001    0.000 copy.py:128(deepcopy)\n",
       "      220    0.000    0.000    0.003    0.000 utils.py:467(play_card)\n",
       "      187    0.000    0.000    0.001    0.000 utils.py:377(determine_trick_winner)\n",
       "       55    0.000    0.000    0.003    0.000 utils.py:606(play_trick)\n",
       "     1090    0.000    0.000    0.000    0.000 game_utils.py:5(return_off_suit)\n",
       "      876    0.000    0.000    0.000    0.000 utils.py:15(is_card_trump)\n",
       "      100    0.000    0.000    0.001    0.000 copy.py:201(_deepcopy_list)\n",
       "       32    0.000    0.000    0.000    0.000 utils.py:108(get_lowest_nontrump_card_in_hand)\n",
       "       13    0.000    0.000    0.005    0.000 utils.py:750(play_hand)\n",
       "     2612    0.000    0.000    0.000    0.000 {method 'get' of 'dict' objects}\n",
       "      126    0.000    0.000    0.000    0.000 utils.py:48(get_highest_nontrump_card)\n",
       "      299    0.000    0.000    0.000    0.000 random.py:235(_randbelow_with_getrandbits)\n",
       "       13    0.000    0.000    0.000    0.000 random.py:376(shuffle)\n",
       "       83    0.000    0.000    0.000    0.000 utils.py:86(get_lowest_nontrump_card_in_suit)\n",
       "       46    0.000    0.000    0.000    0.000 utils.py:198(get_lowest_winning_trump_card)\n",
       "     1092    0.000    0.000    0.000    0.000 {method 'values' of 'dict' objects}\n",
       "     1048    0.000    0.000    0.000    0.000 {built-in method builtins.id}\n",
       "      823    0.000    0.000    0.000    0.000 utils.py:9(print_if_verbose)\n",
       "      912    0.000    0.000    0.000    0.000 {method 'append' of 'list' objects}\n",
       "      864    0.000    0.000    0.000    0.000 {built-in method builtins.len}\n",
       "      113    0.000    0.000    0.000    0.000 copy.py:243(_keep_alive)\n",
       "      648    0.000    0.000    0.000    0.000 copy.py:182(_deepcopy_atomic)\n",
       "       13    0.000    0.000    0.000    0.000 utils.py:808(<listcomp>)\n",
       "       13    0.000    0.000    0.000    0.000 utils.py:437(determine_trump)\n",
       "       48    0.000    0.000    0.001    0.000 utils.py:74(get_lowest_trump_card)\n",
       "        1    0.000    0.000    0.005    0.005 utils.py:724(play_full_game)\n",
       "        1    0.000    0.000    0.005    0.005 {built-in method builtins.exec}\n",
       "       90    0.000    0.000    0.000    0.000 utils.py:399(<listcomp>)\n",
       "       24    0.000    0.000    0.000    0.000 utils.py:325(choose_open_trump)\n",
       "       13    0.000    0.000    0.001    0.000 copy.py:227(_deepcopy_dict)\n",
       "      248    0.000    0.000    0.000    0.000 {method 'remove' of 'list' objects}\n",
       "        4    0.000    0.000    0.000    0.000 utils.py:233(swap_dealer_card)\n",
       "      480    0.000    0.000    0.000    0.000 {method 'getrandbits' of '_random.Random' objects}\n",
       "       44    0.000    0.000    0.000    0.000 utils.py:348(play_lead_card)\n",
       "       47    0.000    0.000    0.000    0.000 utils.py:293(eval_flipped_card)\n",
       "       13    0.000    0.000    0.000    0.000 utils.py:813(deal_hand)\n",
       "       53    0.000    0.000    0.000    0.000 utils.py:407(<listcomp>)\n",
       "      299    0.000    0.000    0.000    0.000 {method 'bit_length' of 'int' objects}\n",
       "        1    0.000    0.000    0.005    0.005 <string>:1(<module>)\n",
       "       11    0.000    0.000    0.000    0.000 utils.py:651(update_score)\n",
       "      168    0.000    0.000    0.000    0.000 {method 'items' of 'dict' objects}\n",
       "       55    0.000    0.000    0.000    0.000 utils.py:31(get_next_trick_order)\n",
       "      123    0.000    0.000    0.000    0.000 {method 'keys' of 'dict' objects}\n",
       "       13    0.000    0.000    0.000    0.000 utils.py:805(__init__)\n",
       "       13    0.000    0.000    0.000    0.000 utils.py:810(shuffle)\n",
       "       13    0.000    0.000    0.000    0.000 utils.py:819(<listcomp>)\n",
       "       11    0.000    0.000    0.000    0.000 utils.py:769(<dictcomp>)\n",
       "       13    0.000    0.000    0.000    0.000 utils.py:820(<listcomp>)\n",
       "       13    0.000    0.000    0.000    0.000 utils.py:821(<listcomp>)\n",
       "       13    0.000    0.000    0.000    0.000 utils.py:822(<listcomp>)\n",
       "       13    0.000    0.000    0.000    0.000 utils.py:745(__init__)\n",
       "       12    0.000    0.000    0.000    0.000 {built-in method builtins.min}\n",
       "        4    0.000    0.000    0.000    0.000 utils.py:266(<listcomp>)\n",
       "        1    0.000    0.000    0.000    0.000 utils.py:416(__init__)\n",
       "        8    0.000    0.000    0.000    0.000 utils.py:158(<listcomp>)\n",
       "       13    0.000    0.000    0.000    0.000 {method 'pop' of 'list' objects}\n",
       "        1    0.000    0.000    0.000    0.000 {method 'disable' of '_lsprof.Profiler' objects}"
      ]
     },
     "metadata": {},
     "output_type": "display_data"
    }
   ],
   "source": [
    "%%prun\n",
    "\n",
    "euchre_game = EuchreGame()\n",
    "euchre_game.play_full_game(verbose=False)"
   ]
  },
  {
   "cell_type": "code",
   "execution_count": null,
   "id": "cf06f1cc",
   "metadata": {},
   "outputs": [],
   "source": []
  },
  {
   "cell_type": "markdown",
   "id": "74dd206b",
   "metadata": {},
   "source": [
    "### Loop through games played, collect strategy results"
   ]
  },
  {
   "cell_type": "code",
   "execution_count": 67,
   "id": "33285b70",
   "metadata": {},
   "outputs": [],
   "source": [
    "from scipy.stats import ttest_ind"
   ]
  },
  {
   "cell_type": "code",
   "execution_count": 68,
   "id": "5b775975",
   "metadata": {
    "scrolled": true
   },
   "outputs": [
    {
     "name": "stdout",
     "output_type": "stream",
     "text": [
      "CPU times: user 1.18 s, sys: 30.2 ms, total: 1.21 s\n",
      "Wall time: 1.19 s\n"
     ]
    }
   ],
   "source": [
    "%%time\n",
    "\n",
    "N_GAMES_TO_PLAY = 1000\n",
    "\n",
    "strategy_results = {'t1_wins':0, 't1_scores':[], 't2_scores':[]}\n",
    "\n",
    "for i in range(N_GAMES_TO_PLAY):\n",
    "    euchre_game = EuchreGame()\n",
    "    # euchre_game.tm_call_trump_strategy['t1'] = 'NEW'  # set team 2 call trump strategy to NEW\n",
    "    # euchre_game.tm_call_trump_strategy['t2'] = 'always'  # set team 2 call trump strategy to always\n",
    "    euchre_game.tm_play_card_strategy['t2'] = 'random'  # set team 2 play card strategy to random\n",
    "    euchre_game.play_full_game(verbose=False)\n",
    "    if euchre_game.score['t1'] > euchre_game.score['t2']:\n",
    "        strategy_results['t1_wins'] += 1\n",
    "    strategy_results['t1_scores'].append(euchre_game.score['t1'])\n",
    "    strategy_results['t2_scores'].append(euchre_game.score['t2'])"
   ]
  },
  {
   "cell_type": "code",
   "execution_count": 69,
   "id": "39becd99",
   "metadata": {},
   "outputs": [
    {
     "name": "stdout",
     "output_type": "stream",
     "text": [
      "Team 1 strategy won 758/1000 games (75.8%)\n"
     ]
    }
   ],
   "source": [
    "print(f\"\"\"Team 1 strategy won {strategy_results['t1_wins']}/{N_GAMES_TO_PLAY} games \\\n",
    "({strategy_results['t1_wins']/N_GAMES_TO_PLAY*100}%)\"\"\")"
   ]
  },
  {
   "cell_type": "markdown",
   "id": "31edc0a5",
   "metadata": {},
   "source": [
    "#### T-test for statistically significant difference in means between t1 and t2 scores"
   ]
  },
  {
   "cell_type": "code",
   "execution_count": 70,
   "id": "b2c98fce",
   "metadata": {},
   "outputs": [
    {
     "data": {
      "text/plain": [
       "TtestResult(statistic=27.293657579819197, pvalue=1.122687576667002e-139, df=1998.0)"
      ]
     },
     "execution_count": 70,
     "metadata": {},
     "output_type": "execute_result"
    }
   ],
   "source": [
    "ttest_ind(strategy_results['t1_scores'], strategy_results['t2_scores'])"
   ]
  },
  {
   "cell_type": "markdown",
   "id": "3b1ab955",
   "metadata": {},
   "source": [
    "### Plot results"
   ]
  },
  {
   "cell_type": "code",
   "execution_count": 71,
   "id": "7c91c1d0",
   "metadata": {},
   "outputs": [],
   "source": [
    "import matplotlib.pyplot as plt"
   ]
  },
  {
   "cell_type": "code",
   "execution_count": 72,
   "id": "5106967d",
   "metadata": {},
   "outputs": [
    {
     "data": {
      "text/plain": [
       "<matplotlib.legend.Legend at 0x1474de2d0>"
      ]
     },
     "execution_count": 72,
     "metadata": {},
     "output_type": "execute_result"
    },
    {
     "data": {
      "image/png": "[encoded data removed]",
      "text/plain": [
       "<Figure size 640x480 with 1 Axes>"
      ]
     },
     "metadata": {},
     "output_type": "display_data"
    }
   ],
   "source": [
    "plt.style.use('ggplot')\n",
    "plt.hist(strategy_results['t1_scores'], bins=23, alpha=0.5, label='t1_scores')\n",
    "plt.hist(strategy_results['t2_scores'], bins=23, alpha=0.5, label='t2_scores')\n",
    "plt.legend(loc='upper left')"
   ]
  },
  {
   "cell_type": "code",
   "execution_count": null,
   "id": "cb87806f",
   "metadata": {},
   "outputs": [],
   "source": []
  },
  {
   "cell_type": "code",
   "execution_count": null,
   "id": "da61b9d6",
   "metadata": {},
   "outputs": [],
   "source": []
  },
  {
   "cell_type": "code",
   "execution_count": null,
   "id": "6a482a87",
   "metadata": {},
   "outputs": [],
   "source": []
  },
  {
   "cell_type": "markdown",
   "id": "16dd92be",
   "metadata": {},
   "source": [
    "## Loop through games played, collect hand_results"
   ]
  },
  {
   "cell_type": "code",
   "execution_count": 73,
   "id": "21b95861",
   "metadata": {},
   "outputs": [],
   "source": [
    "import pandas as pd"
   ]
  },
  {
   "cell_type": "code",
   "execution_count": 78,
   "id": "e8f5c525-f790-43d9-86f6-51f85d5f66ee",
   "metadata": {},
   "outputs": [],
   "source": [
    "from utils.game_utils import return_off_suit"
   ]
  },
  {
   "cell_type": "code",
   "execution_count": 75,
   "id": "a61703b6",
   "metadata": {},
   "outputs": [
    {
     "data": {
      "text/plain": [
       "{'player_hands': {'p1': ['K_C', 'T_C', 'A_D', '9_H', 'A_H'],\n",
       "  'p2': ['T_S', 'K_H', '9_S', 'A_C', 'J_C'],\n",
       "  'p3': ['Q_D', 'Q_C', 'J_S', 'A_S', 'T_D'],\n",
       "  'p4': ['9_C', 'Q_S', 'K_D', 'K_S', 'Q_H']},\n",
       " 'calling_player': 'p1',\n",
       " 'card_flipped_up': 'J_H',\n",
       " 'trump': 'H',\n",
       " 'dealer': 'p1',\n",
       " 'next_to_deal': ['p2', 'p3', 'p4', 'p1'],\n",
       " 'hand_score': {'t1': 1, 't2': 0},\n",
       " 'trick_winners': {'p2': 2, 'p3': 0, 'p4': 0, 'p1': 3}}"
      ]
     },
     "execution_count": 75,
     "metadata": {},
     "output_type": "execute_result"
    }
   ],
   "source": [
    "euchre_game = EuchreGame()\n",
    "hand_results = euchre_game.play_full_game(return_all_hands_results=True, verbose=False)\n",
    "hand_results[0]"
   ]
  },
  {
   "cell_type": "code",
   "execution_count": 76,
   "id": "a603c2c9",
   "metadata": {},
   "outputs": [],
   "source": [
    "def count_suits_in_hand(hand, trump):\n",
    "    \"\"\"\n",
    "    Function to return the number of suits in a given hand\n",
    "    \"\"\"\n",
    "    suits = set()\n",
    "    for card in hand:\n",
    "        if return_off_suit(card[-1]) == trump and card[0] == 'J':\n",
    "            suits.add(trump)\n",
    "        elif card[-1] not in suits:\n",
    "            suits.add(card[-1])\n",
    "    return len(suits)"
   ]
  },
  {
   "cell_type": "code",
   "execution_count": 79,
   "id": "6240126e",
   "metadata": {},
   "outputs": [],
   "source": [
    "assert count_suits_in_hand(hand=['J_C', 'J_S'], trump='S') == 1\n",
    "assert count_suits_in_hand(hand=['J_S', 'T_S'], trump='C') == 2\n",
    "assert count_suits_in_hand(hand=['J_S'], trump='C') == 1\n",
    "assert count_suits_in_hand(hand=['J_S', 'T_S', 'T_D'], trump='C') == 3"
   ]
  },
  {
   "cell_type": "code",
   "execution_count": 83,
   "id": "42954cd1",
   "metadata": {},
   "outputs": [],
   "source": [
    "def get_teammate(player):\n",
    "    if player == 'p1':\n",
    "        return 'p2'\n",
    "    if player == 'p2':\n",
    "        return 'p1'\n",
    "    if player == 'p3':\n",
    "        return 'p4'\n",
    "    if player == 'p4':\n",
    "        return 'p3'"
   ]
  },
  {
   "cell_type": "code",
   "execution_count": 84,
   "id": "15a32ab1",
   "metadata": {},
   "outputs": [],
   "source": [
    "def return_df_from_hand_results(hand_results_dict):\n",
    "    fields_to_collect = ['tricks_won',\n",
    "                         'is_calling_player',\n",
    "                         'teammate_called',\n",
    "                         'has_right', \n",
    "                         'has_left',\n",
    "                         'has_Atrump',\n",
    "                         'has_Ktrump',\n",
    "                         'has_Qtrump',\n",
    "                         'has_Ttrump',\n",
    "                         'has_9trump',\n",
    "                         'num_off_A',\n",
    "                         'num_off_K',\n",
    "                         'num_off_Q', \n",
    "                         'num_suits']\n",
    "    results_list = []\n",
    "    for player in hand_results_dict['trick_winners'].keys():\n",
    "        player_hand_results = dict.fromkeys(fields_to_collect,0)\n",
    "        player_hand_results['tricks_won'] = hand_results_dict['trick_winners'][player]\n",
    "        player_hand_results['partner_tricks'] = hand_results_dict['trick_winners'][get_teammate(player)]\n",
    "        player_hand_results['player_seat'] = hand_results_dict['next_to_deal'].index(player) + 1\n",
    "        player_hand_results['num_suits'] = count_suits_in_hand(hand=hand_results_dict['player_hands'][player], \n",
    "                                                                trump=hand_results_dict['trump'])\n",
    "        if player == hand_results_dict['calling_player']:\n",
    "            player_hand_results['is_calling_player'] = 1\n",
    "        if get_teammate(player) == hand_results_dict['calling_player']:\n",
    "            player_hand_results['teammate_called'] = 1\n",
    "        for idx, card in enumerate(hand_results_dict['player_hands'][player]):\n",
    "            if card[-1] == hand_results_dict['trump']:\n",
    "                if card[0] == 'A':\n",
    "                    player_hand_results['has_Atrump'] = 1\n",
    "                if card[0] == 'K':\n",
    "                    player_hand_results['has_Ktrump'] = 1\n",
    "                if card[0] == 'Q':\n",
    "                    player_hand_results['has_Qtrump'] = 1\n",
    "                if card[0] == 'J':\n",
    "                    player_hand_results['has_right'] = 1\n",
    "                if card[0] == 'T':\n",
    "                    player_hand_results['has_Ttrump'] = 1\n",
    "                if card[0] == '9':\n",
    "                    player_hand_results['has_9trump'] = 1\n",
    "            else:\n",
    "                if card[0] == 'A':\n",
    "                    player_hand_results['num_off_A'] += 1\n",
    "                if card[0] == 'K':\n",
    "                    player_hand_results['num_off_K'] += 1\n",
    "                if card[0] == 'Q':\n",
    "                    player_hand_results['num_off_Q'] += 1\n",
    "                if card[0] == 'J':\n",
    "                    if return_off_suit(card[-1]) == hand_results_dict['trump']:\n",
    "                        player_hand_results['has_left'] = 1\n",
    "        results_list.append(player_hand_results)\n",
    "    return pd.DataFrame(results_list)"
   ]
  },
  {
   "cell_type": "code",
   "execution_count": 85,
   "id": "e3f5e79b",
   "metadata": {},
   "outputs": [
    {
     "name": "stdout",
     "output_type": "stream",
     "text": [
      "CPU times: user 46.5 s, sys: 29.5 s, total: 1min 16s\n",
      "Wall time: 1min 17s\n"
     ]
    }
   ],
   "source": [
    "%%time\n",
    "\n",
    "N_GAMES_TO_PLAY = 10000\n",
    "\n",
    "all_hand_results_df = pd.DataFrame()\n",
    "for i in range(N_GAMES_TO_PLAY):\n",
    "    euchre_game = EuchreGame()\n",
    "    hand_results = euchre_game.play_full_game(return_all_hands_results=True, verbose=False)\n",
    "    game_results_df = pd.DataFrame()\n",
    "    for hand in hand_results:\n",
    "        hand_results_df = return_df_from_hand_results(hand)\n",
    "        game_results_df = pd.concat([game_results_df, hand_results_df])\n",
    "    all_hand_results_df = pd.concat([all_hand_results_df, game_results_df])"
   ]
  },
  {
   "cell_type": "code",
   "execution_count": 86,
   "id": "40be9e20",
   "metadata": {},
   "outputs": [
    {
     "data": {
      "text/plain": [
       "(502256, 16)"
      ]
     },
     "execution_count": 86,
     "metadata": {},
     "output_type": "execute_result"
    }
   ],
   "source": [
    "all_hand_results_df.shape"
   ]
  },
  {
   "cell_type": "code",
   "execution_count": 87,
   "id": "e95a8a76",
   "metadata": {},
   "outputs": [
    {
     "data": {
      "text/html": [
       "<div>\n",
       "<style scoped>\n",
       "    .dataframe tbody tr th:only-of-type {\n",
       "        vertical-align: middle;\n",
       "    }\n",
       "\n",
       "    .dataframe tbody tr th {\n",
       "        vertical-align: top;\n",
       "    }\n",
       "\n",
       "    .dataframe thead th {\n",
       "        text-align: right;\n",
       "    }\n",
       "</style>\n",
       "<table border=\"1\" class=\"dataframe\">\n",
       "  <thead>\n",
       "    <tr style=\"text-align: right;\">\n",
       "      <th></th>\n",
       "      <th>tricks_won</th>\n",
       "      <th>is_calling_player</th>\n",
       "      <th>teammate_called</th>\n",
       "      <th>has_right</th>\n",
       "      <th>has_left</th>\n",
       "      <th>has_Atrump</th>\n",
       "      <th>has_Ktrump</th>\n",
       "      <th>has_Qtrump</th>\n",
       "      <th>has_Ttrump</th>\n",
       "      <th>has_9trump</th>\n",
       "      <th>num_off_A</th>\n",
       "      <th>num_off_K</th>\n",
       "      <th>num_off_Q</th>\n",
       "      <th>num_suits</th>\n",
       "      <th>partner_tricks</th>\n",
       "      <th>player_seat</th>\n",
       "    </tr>\n",
       "  </thead>\n",
       "  <tbody>\n",
       "    <tr>\n",
       "      <th>2</th>\n",
       "      <td>5</td>\n",
       "      <td>1</td>\n",
       "      <td>0</td>\n",
       "      <td>1</td>\n",
       "      <td>1</td>\n",
       "      <td>1</td>\n",
       "      <td>0</td>\n",
       "      <td>1</td>\n",
       "      <td>0</td>\n",
       "      <td>1</td>\n",
       "      <td>0</td>\n",
       "      <td>0</td>\n",
       "      <td>0</td>\n",
       "      <td>1</td>\n",
       "      <td>0</td>\n",
       "      <td>3</td>\n",
       "    </tr>\n",
       "    <tr>\n",
       "      <th>3</th>\n",
       "      <td>5</td>\n",
       "      <td>1</td>\n",
       "      <td>0</td>\n",
       "      <td>1</td>\n",
       "      <td>0</td>\n",
       "      <td>0</td>\n",
       "      <td>1</td>\n",
       "      <td>1</td>\n",
       "      <td>0</td>\n",
       "      <td>0</td>\n",
       "      <td>2</td>\n",
       "      <td>0</td>\n",
       "      <td>0</td>\n",
       "      <td>3</td>\n",
       "      <td>0</td>\n",
       "      <td>4</td>\n",
       "    </tr>\n",
       "    <tr>\n",
       "      <th>1</th>\n",
       "      <td>5</td>\n",
       "      <td>1</td>\n",
       "      <td>0</td>\n",
       "      <td>1</td>\n",
       "      <td>0</td>\n",
       "      <td>1</td>\n",
       "      <td>0</td>\n",
       "      <td>0</td>\n",
       "      <td>1</td>\n",
       "      <td>0</td>\n",
       "      <td>1</td>\n",
       "      <td>1</td>\n",
       "      <td>0</td>\n",
       "      <td>2</td>\n",
       "      <td>0</td>\n",
       "      <td>2</td>\n",
       "    </tr>\n",
       "    <tr>\n",
       "      <th>0</th>\n",
       "      <td>5</td>\n",
       "      <td>1</td>\n",
       "      <td>0</td>\n",
       "      <td>1</td>\n",
       "      <td>0</td>\n",
       "      <td>1</td>\n",
       "      <td>1</td>\n",
       "      <td>1</td>\n",
       "      <td>0</td>\n",
       "      <td>0</td>\n",
       "      <td>0</td>\n",
       "      <td>1</td>\n",
       "      <td>0</td>\n",
       "      <td>2</td>\n",
       "      <td>0</td>\n",
       "      <td>1</td>\n",
       "    </tr>\n",
       "    <tr>\n",
       "      <th>3</th>\n",
       "      <td>5</td>\n",
       "      <td>1</td>\n",
       "      <td>0</td>\n",
       "      <td>0</td>\n",
       "      <td>1</td>\n",
       "      <td>1</td>\n",
       "      <td>1</td>\n",
       "      <td>1</td>\n",
       "      <td>0</td>\n",
       "      <td>0</td>\n",
       "      <td>0</td>\n",
       "      <td>0</td>\n",
       "      <td>0</td>\n",
       "      <td>2</td>\n",
       "      <td>0</td>\n",
       "      <td>3</td>\n",
       "    </tr>\n",
       "    <tr>\n",
       "      <th>3</th>\n",
       "      <td>5</td>\n",
       "      <td>1</td>\n",
       "      <td>0</td>\n",
       "      <td>0</td>\n",
       "      <td>1</td>\n",
       "      <td>1</td>\n",
       "      <td>0</td>\n",
       "      <td>0</td>\n",
       "      <td>1</td>\n",
       "      <td>0</td>\n",
       "      <td>1</td>\n",
       "      <td>0</td>\n",
       "      <td>1</td>\n",
       "      <td>3</td>\n",
       "      <td>0</td>\n",
       "      <td>3</td>\n",
       "    </tr>\n",
       "    <tr>\n",
       "      <th>3</th>\n",
       "      <td>5</td>\n",
       "      <td>1</td>\n",
       "      <td>0</td>\n",
       "      <td>1</td>\n",
       "      <td>1</td>\n",
       "      <td>1</td>\n",
       "      <td>1</td>\n",
       "      <td>0</td>\n",
       "      <td>1</td>\n",
       "      <td>0</td>\n",
       "      <td>0</td>\n",
       "      <td>0</td>\n",
       "      <td>0</td>\n",
       "      <td>1</td>\n",
       "      <td>0</td>\n",
       "      <td>3</td>\n",
       "    </tr>\n",
       "    <tr>\n",
       "      <th>1</th>\n",
       "      <td>5</td>\n",
       "      <td>0</td>\n",
       "      <td>1</td>\n",
       "      <td>1</td>\n",
       "      <td>0</td>\n",
       "      <td>1</td>\n",
       "      <td>0</td>\n",
       "      <td>0</td>\n",
       "      <td>1</td>\n",
       "      <td>0</td>\n",
       "      <td>2</td>\n",
       "      <td>0</td>\n",
       "      <td>0</td>\n",
       "      <td>3</td>\n",
       "      <td>0</td>\n",
       "      <td>1</td>\n",
       "    </tr>\n",
       "    <tr>\n",
       "      <th>1</th>\n",
       "      <td>5</td>\n",
       "      <td>1</td>\n",
       "      <td>0</td>\n",
       "      <td>1</td>\n",
       "      <td>0</td>\n",
       "      <td>1</td>\n",
       "      <td>1</td>\n",
       "      <td>0</td>\n",
       "      <td>1</td>\n",
       "      <td>0</td>\n",
       "      <td>1</td>\n",
       "      <td>0</td>\n",
       "      <td>0</td>\n",
       "      <td>2</td>\n",
       "      <td>0</td>\n",
       "      <td>3</td>\n",
       "    </tr>\n",
       "    <tr>\n",
       "      <th>3</th>\n",
       "      <td>5</td>\n",
       "      <td>1</td>\n",
       "      <td>0</td>\n",
       "      <td>1</td>\n",
       "      <td>0</td>\n",
       "      <td>1</td>\n",
       "      <td>1</td>\n",
       "      <td>0</td>\n",
       "      <td>0</td>\n",
       "      <td>0</td>\n",
       "      <td>1</td>\n",
       "      <td>1</td>\n",
       "      <td>0</td>\n",
       "      <td>3</td>\n",
       "      <td>0</td>\n",
       "      <td>4</td>\n",
       "    </tr>\n",
       "  </tbody>\n",
       "</table>\n",
       "</div>"
      ],
      "text/plain": [
       "   tricks_won  is_calling_player  teammate_called  has_right  has_left  \\\n",
       "2           5                  1                0          1         1   \n",
       "3           5                  1                0          1         0   \n",
       "1           5                  1                0          1         0   \n",
       "0           5                  1                0          1         0   \n",
       "3           5                  1                0          0         1   \n",
       "3           5                  1                0          0         1   \n",
       "3           5                  1                0          1         1   \n",
       "1           5                  0                1          1         0   \n",
       "1           5                  1                0          1         0   \n",
       "3           5                  1                0          1         0   \n",
       "\n",
       "   has_Atrump  has_Ktrump  has_Qtrump  has_Ttrump  has_9trump  num_off_A  \\\n",
       "2           1           0           1           0           1          0   \n",
       "3           0           1           1           0           0          2   \n",
       "1           1           0           0           1           0          1   \n",
       "0           1           1           1           0           0          0   \n",
       "3           1           1           1           0           0          0   \n",
       "3           1           0           0           1           0          1   \n",
       "3           1           1           0           1           0          0   \n",
       "1           1           0           0           1           0          2   \n",
       "1           1           1           0           1           0          1   \n",
       "3           1           1           0           0           0          1   \n",
       "\n",
       "   num_off_K  num_off_Q  num_suits  partner_tricks  player_seat  \n",
       "2          0          0          1               0            3  \n",
       "3          0          0          3               0            4  \n",
       "1          1          0          2               0            2  \n",
       "0          1          0          2               0            1  \n",
       "3          0          0          2               0            3  \n",
       "3          0          1          3               0            3  \n",
       "3          0          0          1               0            3  \n",
       "1          0          0          3               0            1  \n",
       "1          0          0          2               0            3  \n",
       "3          1          0          3               0            4  "
      ]
     },
     "execution_count": 87,
     "metadata": {},
     "output_type": "execute_result"
    }
   ],
   "source": [
    "all_hand_results_df.sort_values('tricks_won', ascending=False).head(10)"
   ]
  },
  {
   "cell_type": "code",
   "execution_count": 88,
   "id": "5e535936",
   "metadata": {},
   "outputs": [],
   "source": [
    "# check hand with right bauer didn't take 0 tricks\n",
    "assert all_hand_results_df[(all_hand_results_df['tricks_won']==0) & (all_hand_results_df['has_right']==1)].shape[0] == 0"
   ]
  },
  {
   "cell_type": "code",
   "execution_count": 89,
   "id": "d96e77ac",
   "metadata": {},
   "outputs": [],
   "source": [
    "# check hands with right and left didn't ever take less than 2 tricks\n",
    "assert all_hand_results_df[(all_hand_results_df['tricks_won']<2) & \n",
    "                           (all_hand_results_df['has_right']==1) & \n",
    "                           (all_hand_results_df['has_left']==1)].shape[0] == 0"
   ]
  },
  {
   "cell_type": "code",
   "execution_count": 90,
   "id": "18edc846",
   "metadata": {},
   "outputs": [],
   "source": [
    "# check hands with right and left and Atrump didn't ever take less than 3 tricks\n",
    "assert all_hand_results_df[(all_hand_results_df['tricks_won']<3) & \n",
    "                           (all_hand_results_df['has_right']==1) & \n",
    "                           (all_hand_results_df['has_left']==1) & \n",
    "                           (all_hand_results_df['has_Atrump']==1)].shape[0] == 0"
   ]
  },
  {
   "cell_type": "code",
   "execution_count": 91,
   "id": "13391542",
   "metadata": {},
   "outputs": [
    {
     "data": {
      "text/html": [
       "<div>\n",
       "<style scoped>\n",
       "    .dataframe tbody tr th:only-of-type {\n",
       "        vertical-align: middle;\n",
       "    }\n",
       "\n",
       "    .dataframe tbody tr th {\n",
       "        vertical-align: top;\n",
       "    }\n",
       "\n",
       "    .dataframe thead th {\n",
       "        text-align: right;\n",
       "    }\n",
       "</style>\n",
       "<table border=\"1\" class=\"dataframe\">\n",
       "  <thead>\n",
       "    <tr style=\"text-align: right;\">\n",
       "      <th></th>\n",
       "      <th></th>\n",
       "      <th></th>\n",
       "      <th>avg_tricks</th>\n",
       "      <th>num_hands</th>\n",
       "    </tr>\n",
       "    <tr>\n",
       "      <th>has_right</th>\n",
       "      <th>has_left</th>\n",
       "      <th>has_Atrump</th>\n",
       "      <th></th>\n",
       "      <th></th>\n",
       "    </tr>\n",
       "  </thead>\n",
       "  <tbody>\n",
       "    <tr>\n",
       "      <th rowspan=\"4\" valign=\"top\">0</th>\n",
       "      <th rowspan=\"2\" valign=\"top\">0</th>\n",
       "      <th>0</th>\n",
       "      <td>0.610249</td>\n",
       "      <td>239522</td>\n",
       "    </tr>\n",
       "    <tr>\n",
       "      <th>1</th>\n",
       "      <td>1.516043</td>\n",
       "      <td>68971</td>\n",
       "    </tr>\n",
       "    <tr>\n",
       "      <th rowspan=\"2\" valign=\"top\">1</th>\n",
       "      <th>0</th>\n",
       "      <td>1.302512</td>\n",
       "      <td>74678</td>\n",
       "    </tr>\n",
       "    <tr>\n",
       "      <th>1</th>\n",
       "      <td>2.262786</td>\n",
       "      <td>13589</td>\n",
       "    </tr>\n",
       "    <tr>\n",
       "      <th rowspan=\"4\" valign=\"top\">1</th>\n",
       "      <th rowspan=\"2\" valign=\"top\">0</th>\n",
       "      <th>0</th>\n",
       "      <td>1.994611</td>\n",
       "      <td>64202</td>\n",
       "    </tr>\n",
       "    <tr>\n",
       "      <th>1</th>\n",
       "      <td>2.855239</td>\n",
       "      <td>25739</td>\n",
       "    </tr>\n",
       "    <tr>\n",
       "      <th rowspan=\"2\" valign=\"top\">1</th>\n",
       "      <th>0</th>\n",
       "      <td>2.824440</td>\n",
       "      <td>12332</td>\n",
       "    </tr>\n",
       "    <tr>\n",
       "      <th>1</th>\n",
       "      <td>3.937636</td>\n",
       "      <td>3223</td>\n",
       "    </tr>\n",
       "  </tbody>\n",
       "</table>\n",
       "</div>"
      ],
      "text/plain": [
       "                               avg_tricks  num_hands\n",
       "has_right has_left has_Atrump                       \n",
       "0         0        0             0.610249     239522\n",
       "                   1             1.516043      68971\n",
       "          1        0             1.302512      74678\n",
       "                   1             2.262786      13589\n",
       "1         0        0             1.994611      64202\n",
       "                   1             2.855239      25739\n",
       "          1        0             2.824440      12332\n",
       "                   1             3.937636       3223"
      ]
     },
     "execution_count": 91,
     "metadata": {},
     "output_type": "execute_result"
    }
   ],
   "source": [
    "all_hand_results_df.groupby(['has_right', \n",
    "                             'has_left', \n",
    "                            'has_Atrump', \n",
    "                            #'has_Ktrump', \n",
    "                            # 'has_Qtrump'\n",
    "                            ]).agg(avg_tricks=('tricks_won', 'mean'), num_hands=('has_right','count'))"
   ]
  },
  {
   "cell_type": "code",
   "execution_count": null,
   "id": "d8294a7c",
   "metadata": {},
   "outputs": [],
   "source": []
  },
  {
   "cell_type": "code",
   "execution_count": null,
   "id": "7abfab12",
   "metadata": {},
   "outputs": [],
   "source": []
  },
  {
   "cell_type": "markdown",
   "id": "bea620d0",
   "metadata": {},
   "source": [
    "#### Write out all hand results to csv local"
   ]
  },
  {
   "cell_type": "code",
   "execution_count": 92,
   "id": "1a11ddda",
   "metadata": {},
   "outputs": [
    {
     "data": {
      "text/plain": [
       "'/Users/jeremy/Desktop/nonsense/euchre/notebooks'"
      ]
     },
     "execution_count": 92,
     "metadata": {},
     "output_type": "execute_result"
    }
   ],
   "source": [
    "pwd"
   ]
  },
  {
   "cell_type": "code",
   "execution_count": 93,
   "id": "e66d959a",
   "metadata": {},
   "outputs": [],
   "source": [
    "all_hand_results_df.to_csv('all_hand_results.csv', index=False)"
   ]
  },
  {
   "cell_type": "code",
   "execution_count": null,
   "id": "31043e90",
   "metadata": {},
   "outputs": [],
   "source": []
  },
  {
   "cell_type": "code",
   "execution_count": null,
   "id": "d72fee66",
   "metadata": {},
   "outputs": [],
   "source": []
  },
  {
   "cell_type": "markdown",
   "id": "c66348f3",
   "metadata": {},
   "source": [
    "### Next steps for development"
   ]
  },
  {
   "cell_type": "code",
   "execution_count": null,
   "id": "e2bb4616",
   "metadata": {},
   "outputs": [],
   "source": [
    "# Rebuild code with classes\n",
    "\n",
    "# Build out play card strategy\n",
    "    # check if player has nontrump card that can win hand, double check left bauer trump\n",
    "    # add logic to check what cards have been played in hand so far\n",
    "        # player_short_suits_dict - keep track of what players don't have what suits based on following suit\n",
    "\n",
    "# Build out strategy for play_lead_card function to reduce number of suits in hand, play toward partner short-suits\n",
    "\n",
    "# Handle loners\n",
    "    # add functionality to determine trump to check loner strategy, return loner_called boolean to play_hand\n",
    "        # start with strategy to call loner when right/left and 4 total trump\n",
    "    # update play_trick to pass in loner_called, remove partner of calling_player from next_to_play_list\n",
    "\n",
    "# Build out strategy for calling trump\n",
    "    # Add consideration to include if partner is dealer, if player is dealer, if player in seat 1 with lead, etc.\n",
    "    # Add consideration to how high the card_flipped_up is - more likely if 9,T, less if J\n",
    "\n",
    "# Build out framework to evaluate statistical significance of different strategies\n",
    "    # chart overlapping histograms of points scored for different strategies across hands\n",
    "    # Evaluate player tricks won, team tricks won for each hand type for each game\n",
    "\n",
    "# Code cleanup\n",
    "    # Add tests, comments to all functions\n",
    "    # README, docs\n",
    "\n",
    "# Look at combinations of exactly unique hands, vs. unique types of hands\n",
    "\n",
    "# Can you \"count on your partner for 1\"? What is the average number of tricks taken by the partner of the calling player?\n",
    "# When (if ever) is it a good idea to overtake a trick your partner is currently winning?\n",
    "# When is it appropriate to not play the highest or lowest card within a suit but the mid?\n",
    "    # 9, K, right of trump - use K to take trick, lead right, then play 9\n",
    "    # is this ever best in nontrump?\n",
    "# When is it appropriate to lead trump? Is it always best to lead right bauer? Is there ever a situation where it is optimal NOT to lead right bauer?"
   ]
  },
  {
   "cell_type": "code",
   "execution_count": null,
   "id": "0e36ab0e",
   "metadata": {},
   "outputs": [],
   "source": []
  },
  {
   "cell_type": "code",
   "execution_count": null,
   "id": "01e1449d",
   "metadata": {},
   "outputs": [],
   "source": []
  },
  {
   "cell_type": "code",
   "execution_count": null,
   "id": "9c22e6ad",
   "metadata": {},
   "outputs": [],
   "source": [
    "import random\n",
    "\n",
    "class Deck:\n",
    "    def __init__(self):\n",
    "        suits = ['S', 'C', 'H', 'D']\n",
    "        values = ['9', 'T', 'J', 'Q', 'K', 'A']\n",
    "        self.cards = [value + '_' + suit for value in values for suit in suits]\n",
    "        \n",
    "    def shuffle(self):\n",
    "        return random.shuffle(self.cards)\n",
    "\n",
    "    def deal_hand(self):\n",
    "        \"\"\"\n",
    "        Function to deal cards for hand\n",
    "        :returns player_hands dict, card_flipped_up\n",
    "        \"\"\"\n",
    "        deck_of_cards = self.cards\n",
    "        player_hands = {'p1': [deck_of_cards[i] for i in range(0, 5)],\n",
    "                        'p2': [deck_of_cards[i] for i in range(5, 10)],\n",
    "                        'p3': [deck_of_cards[i] for i in range(10, 15)],\n",
    "                        'p4': [deck_of_cards[i] for i in range(15, 20)]}\n",
    "        return player_hands, deck_of_cards[20]\n",
    "    \n",
    "    def __str__(self):\n",
    "        return \"\\n\".join(str(card) for card in self.cards)"
   ]
  },
  {
   "cell_type": "code",
   "execution_count": null,
   "id": "0b3bdc2f",
   "metadata": {},
   "outputs": [],
   "source": [
    "my_deck = Deck()"
   ]
  },
  {
   "cell_type": "code",
   "execution_count": null,
   "id": "d4b7775a",
   "metadata": {
    "scrolled": true
   },
   "outputs": [],
   "source": [
    "my_deck.shuffle()"
   ]
  },
  {
   "cell_type": "code",
   "execution_count": null,
   "id": "4b01e6bc",
   "metadata": {},
   "outputs": [],
   "source": [
    "my_deck.cards"
   ]
  },
  {
   "cell_type": "code",
   "execution_count": null,
   "id": "9995d554",
   "metadata": {},
   "outputs": [],
   "source": [
    "my_deck.deal_hand()"
   ]
  },
  {
   "cell_type": "code",
   "execution_count": null,
   "id": "6f976071",
   "metadata": {},
   "outputs": [],
   "source": [
    "class Game:\n",
    "    def __init__(self, players):\n",
    "        self.players = ['p2', 'p3', 'p4', 'p1']\n",
    "        self.deck = Deck()\n",
    "        self.score = {'t1': 0, 't2': 0}\n",
    "\n",
    "    def setup(self):\n",
    "        self.deck.shuffle()\n",
    "        hands = self.deck.deal(len(self.players), 5)\n",
    "        for i, player in enumerate(self.players):\n",
    "            player.add_cards(hands[i])\n",
    "\n",
    "    def start(self):\n",
    "        # Implement the game logic here\n",
    "        pass\n",
    "\n",
    "    def determine_trump_suit(self):\n",
    "        # Implement trump suit determination logic here\n",
    "        pass\n",
    "\n",
    "    def play_round(self):\n",
    "        # Implement a single round of the game here\n",
    "        pass\n",
    "\n",
    "    def score_round(self):\n",
    "        # Implement scoring logic for each round here\n",
    "        pass\n",
    "\n",
    "    def __str__(self):\n",
    "        return f\"Game with players: {', '.join(player.name for player in self.players)}\"\n"
   ]
  },
  {
   "cell_type": "code",
   "execution_count": null,
   "id": "951d12b2",
   "metadata": {},
   "outputs": [],
   "source": [
    "TEAM_ASSIGNMENTS = {\n",
    "    'p1': 't1',\n",
    "    'p2': 't2',\n",
    "    'p3': 't1',\n",
    "    'p4': 't2',\n",
    "}"
   ]
  },
  {
   "cell_type": "code",
   "execution_count": null,
   "id": "035a68b3",
   "metadata": {},
   "outputs": [],
   "source": [
    "player = 'p3'"
   ]
  },
  {
   "cell_type": "code",
   "execution_count": null,
   "id": "8ed3b541",
   "metadata": {},
   "outputs": [],
   "source": [
    "TEAM_ASSIGNMENTS[player]"
   ]
  },
  {
   "cell_type": "code",
   "execution_count": null,
   "id": "13b185f6",
   "metadata": {},
   "outputs": [],
   "source": []
  },
  {
   "cell_type": "code",
   "execution_count": null,
   "id": "bda09ccf",
   "metadata": {},
   "outputs": [],
   "source": [
    "def return_off_suit(suit: str) -> str:\n",
    "    \"\"\"\n",
    "    Function to return off-suit given suit\n",
    "    :param: suit\n",
    "    :returns suit\n",
    "    \"\"\"\n",
    "    suit_mapping = {'H': 'D', 'D': 'H', 'C': 'S', 'S': 'C'}\n",
    "    return suit_mapping.get(suit, suit)"
   ]
  },
  {
   "cell_type": "code",
   "execution_count": null,
   "id": "ff8485cc",
   "metadata": {},
   "outputs": [],
   "source": [
    "def is_card_trump(card, trump):\n",
    "    \"\"\"\n",
    "    Function to return if given card is trump\n",
    "    :param: card\n",
    "    :param: trump\n",
    "    :returns True/False\n",
    "    \"\"\"\n",
    "    if card[-1] == trump:\n",
    "        return True\n",
    "    elif return_off_suit(card[-1]) == trump and card[0] == 'J':\n",
    "        return True\n",
    "    else:\n",
    "        return False"
   ]
  },
  {
   "cell_type": "code",
   "execution_count": null,
   "id": "e4c7cbcb",
   "metadata": {},
   "outputs": [],
   "source": [
    "is_card_trump(card=\"J_C\", trump=\"H\")"
   ]
  },
  {
   "cell_type": "code",
   "execution_count": null,
   "id": "136167ab",
   "metadata": {},
   "outputs": [],
   "source": [
    "is_card_trump(card=\"J_C\", trump=\"C\")"
   ]
  },
  {
   "cell_type": "code",
   "execution_count": null,
   "id": "d2ab8528",
   "metadata": {},
   "outputs": [],
   "source": [
    "is_card_trump(card=\"J_C\", trump=\"S\")"
   ]
  },
  {
   "cell_type": "code",
   "execution_count": null,
   "id": "3c0c8512",
   "metadata": {},
   "outputs": [],
   "source": []
  }
 ],
 "metadata": {
  "kernelspec": {
   "display_name": "Python 3 (ipykernel)",
   "language": "python",
   "name": "python3"
  },
  "language_info": {
   "codemirror_mode": {
    "name": "ipython",
    "version": 3
   },
   "file_extension": ".py",
   "mimetype": "text/x-python",
   "name": "python",
   "nbconvert_exporter": "python",
   "pygments_lexer": "ipython3",
   "version": "3.11.7"
  }
 },
 "nbformat": 4,
 "nbformat_minor": 5
}
