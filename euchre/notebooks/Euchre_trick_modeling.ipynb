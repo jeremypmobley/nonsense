{
 "cells": [
  {
   "cell_type": "markdown",
   "id": "90814574",
   "metadata": {},
   "source": [
    "# Euchre Trick Model\n",
    "Model to estimate the number of tricks a given hand will be able to take  \n",
    "(or maybe the percent likelihood of each number of tricks taken 0-5)"
   ]
  },
  {
   "cell_type": "code",
   "execution_count": 1,
   "id": "636d0012",
   "metadata": {},
   "outputs": [],
   "source": [
    "import pandas as pd\n",
    "import numpy as np\n",
    "import matplotlib.pyplot as plt\n",
    "\n",
    "from sklearn.model_selection import train_test_split\n",
    "from sklearn.preprocessing import StandardScaler"
   ]
  },
  {
   "cell_type": "markdown",
   "id": "95e95dea",
   "metadata": {},
   "source": [
    "### Load in training data"
   ]
  },
  {
   "cell_type": "code",
   "execution_count": 12,
   "id": "d5a44038",
   "metadata": {},
   "outputs": [
    {
     "data": {
      "text/plain": [
       "'C:\\\\Users\\\\jerem\\\\Desktop\\\\nonsense\\\\euchre'"
      ]
     },
     "execution_count": 12,
     "metadata": {},
     "output_type": "execute_result"
    }
   ],
   "source": [
    "pwd"
   ]
  },
  {
   "cell_type": "code",
   "execution_count": 13,
   "id": "01eca371",
   "metadata": {},
   "outputs": [],
   "source": [
    "# raw_train_df = pd.read_csv('all_hand_results.csv')\n",
    "raw_train_df = pd.read_csv('C:\\\\Users\\\\jerem\\\\Desktop\\\\nonsense\\\\euchre\\\\all_hand_results.csv')"
   ]
  },
  {
   "cell_type": "code",
   "execution_count": 14,
   "id": "b87e5344",
   "metadata": {},
   "outputs": [
    {
     "data": {
      "text/plain": [
       "(476716, 16)"
      ]
     },
     "execution_count": 14,
     "metadata": {},
     "output_type": "execute_result"
    }
   ],
   "source": [
    "raw_train_df.shape"
   ]
  },
  {
   "cell_type": "code",
   "execution_count": 15,
   "id": "ec8256ff",
   "metadata": {},
   "outputs": [
    {
     "data": {
      "text/html": [
       "<div>\n",
       "<style scoped>\n",
       "    .dataframe tbody tr th:only-of-type {\n",
       "        vertical-align: middle;\n",
       "    }\n",
       "\n",
       "    .dataframe tbody tr th {\n",
       "        vertical-align: top;\n",
       "    }\n",
       "\n",
       "    .dataframe thead th {\n",
       "        text-align: right;\n",
       "    }\n",
       "</style>\n",
       "<table border=\"1\" class=\"dataframe\">\n",
       "  <thead>\n",
       "    <tr style=\"text-align: right;\">\n",
       "      <th></th>\n",
       "      <th>tricks_won</th>\n",
       "      <th>is_calling_player</th>\n",
       "      <th>teammate_called</th>\n",
       "      <th>has_right</th>\n",
       "      <th>has_left</th>\n",
       "      <th>has_Atrump</th>\n",
       "      <th>has_Ktrump</th>\n",
       "      <th>has_Qtrump</th>\n",
       "      <th>has_Ttrump</th>\n",
       "      <th>has_9trump</th>\n",
       "      <th>num_off_A</th>\n",
       "      <th>num_off_K</th>\n",
       "      <th>num_off_Q</th>\n",
       "      <th>num_suits</th>\n",
       "      <th>partner_tricks</th>\n",
       "      <th>player_seat</th>\n",
       "    </tr>\n",
       "  </thead>\n",
       "  <tbody>\n",
       "    <tr>\n",
       "      <th>0</th>\n",
       "      <td>2</td>\n",
       "      <td>1</td>\n",
       "      <td>0</td>\n",
       "      <td>1</td>\n",
       "      <td>0</td>\n",
       "      <td>0</td>\n",
       "      <td>0</td>\n",
       "      <td>0</td>\n",
       "      <td>1</td>\n",
       "      <td>1</td>\n",
       "      <td>0</td>\n",
       "      <td>1</td>\n",
       "      <td>0</td>\n",
       "      <td>2</td>\n",
       "      <td>1</td>\n",
       "      <td>4</td>\n",
       "    </tr>\n",
       "    <tr>\n",
       "      <th>1</th>\n",
       "      <td>0</td>\n",
       "      <td>0</td>\n",
       "      <td>0</td>\n",
       "      <td>0</td>\n",
       "      <td>0</td>\n",
       "      <td>0</td>\n",
       "      <td>0</td>\n",
       "      <td>0</td>\n",
       "      <td>0</td>\n",
       "      <td>0</td>\n",
       "      <td>0</td>\n",
       "      <td>1</td>\n",
       "      <td>0</td>\n",
       "      <td>3</td>\n",
       "      <td>2</td>\n",
       "      <td>1</td>\n",
       "    </tr>\n",
       "    <tr>\n",
       "      <th>2</th>\n",
       "      <td>1</td>\n",
       "      <td>0</td>\n",
       "      <td>1</td>\n",
       "      <td>0</td>\n",
       "      <td>1</td>\n",
       "      <td>0</td>\n",
       "      <td>1</td>\n",
       "      <td>0</td>\n",
       "      <td>0</td>\n",
       "      <td>0</td>\n",
       "      <td>0</td>\n",
       "      <td>0</td>\n",
       "      <td>1</td>\n",
       "      <td>2</td>\n",
       "      <td>2</td>\n",
       "      <td>2</td>\n",
       "    </tr>\n",
       "    <tr>\n",
       "      <th>3</th>\n",
       "      <td>2</td>\n",
       "      <td>0</td>\n",
       "      <td>0</td>\n",
       "      <td>0</td>\n",
       "      <td>0</td>\n",
       "      <td>0</td>\n",
       "      <td>0</td>\n",
       "      <td>1</td>\n",
       "      <td>0</td>\n",
       "      <td>0</td>\n",
       "      <td>1</td>\n",
       "      <td>1</td>\n",
       "      <td>1</td>\n",
       "      <td>3</td>\n",
       "      <td>0</td>\n",
       "      <td>3</td>\n",
       "    </tr>\n",
       "    <tr>\n",
       "      <th>4</th>\n",
       "      <td>3</td>\n",
       "      <td>1</td>\n",
       "      <td>0</td>\n",
       "      <td>1</td>\n",
       "      <td>0</td>\n",
       "      <td>0</td>\n",
       "      <td>1</td>\n",
       "      <td>0</td>\n",
       "      <td>1</td>\n",
       "      <td>0</td>\n",
       "      <td>0</td>\n",
       "      <td>0</td>\n",
       "      <td>1</td>\n",
       "      <td>2</td>\n",
       "      <td>0</td>\n",
       "      <td>2</td>\n",
       "    </tr>\n",
       "  </tbody>\n",
       "</table>\n",
       "</div>"
      ],
      "text/plain": [
       "   tricks_won  is_calling_player  teammate_called  has_right  has_left  \\\n",
       "0           2                  1                0          1         0   \n",
       "1           0                  0                0          0         0   \n",
       "2           1                  0                1          0         1   \n",
       "3           2                  0                0          0         0   \n",
       "4           3                  1                0          1         0   \n",
       "\n",
       "   has_Atrump  has_Ktrump  has_Qtrump  has_Ttrump  has_9trump  num_off_A  \\\n",
       "0           0           0           0           1           1          0   \n",
       "1           0           0           0           0           0          0   \n",
       "2           0           1           0           0           0          0   \n",
       "3           0           0           1           0           0          1   \n",
       "4           0           1           0           1           0          0   \n",
       "\n",
       "   num_off_K  num_off_Q  num_suits  partner_tricks  player_seat  \n",
       "0          1          0          2               1            4  \n",
       "1          1          0          3               2            1  \n",
       "2          0          1          2               2            2  \n",
       "3          1          1          3               0            3  \n",
       "4          0          1          2               0            2  "
      ]
     },
     "execution_count": 15,
     "metadata": {},
     "output_type": "execute_result"
    }
   ],
   "source": [
    "raw_train_df.head()"
   ]
  },
  {
   "cell_type": "code",
   "execution_count": 16,
   "id": "2f1d5c9c",
   "metadata": {},
   "outputs": [
    {
     "data": {
      "text/plain": [
       "<AxesSubplot:>"
      ]
     },
     "execution_count": 16,
     "metadata": {},
     "output_type": "execute_result"
    },
    {
     "data": {
      "image/png": "[encoded data removed]",
      "text/plain": [
       "<Figure size 432x288 with 1 Axes>"
      ]
     },
     "metadata": {
      "needs_background": "light"
     },
     "output_type": "display_data"
    }
   ],
   "source": [
    "raw_train_df['tricks_won'].hist(bins=11)"
   ]
  },
  {
   "cell_type": "code",
   "execution_count": null,
   "id": "b625bae8",
   "metadata": {},
   "outputs": [],
   "source": []
  },
  {
   "cell_type": "markdown",
   "id": "db8abe81",
   "metadata": {},
   "source": [
    "#### Features"
   ]
  },
  {
   "cell_type": "code",
   "execution_count": 17,
   "id": "cdb47c14",
   "metadata": {},
   "outputs": [],
   "source": [
    "raw_train_df['team_tricks_won'] = raw_train_df['partner_tricks'] + raw_train_df['tricks_won']"
   ]
  },
  {
   "cell_type": "code",
   "execution_count": 18,
   "id": "811240dd",
   "metadata": {},
   "outputs": [],
   "source": [
    "def make_player_seat_categorical(df):\n",
    "    \"\"\"\n",
    "    Function to transform player seat field into categorical columns from given df\n",
    "    \"\"\"\n",
    "    df['player_seat1'] = np.where(df['player_seat']==1,1,0)\n",
    "    df['player_seat2'] = np.where(df['player_seat']==2,1,0)\n",
    "    df['player_seat3'] = np.where(df['player_seat']==3,1,0)\n",
    "    df['player_seat4'] = np.where(df['player_seat']==4,1,0)\n",
    "    return df"
   ]
  },
  {
   "cell_type": "code",
   "execution_count": 19,
   "id": "69c80858",
   "metadata": {},
   "outputs": [],
   "source": [
    "raw_train_df = make_player_seat_categorical(raw_train_df)"
   ]
  },
  {
   "cell_type": "code",
   "execution_count": 20,
   "id": "f9cb778d",
   "metadata": {},
   "outputs": [
    {
     "data": {
      "text/html": [
       "<div>\n",
       "<style scoped>\n",
       "    .dataframe tbody tr th:only-of-type {\n",
       "        vertical-align: middle;\n",
       "    }\n",
       "\n",
       "    .dataframe tbody tr th {\n",
       "        vertical-align: top;\n",
       "    }\n",
       "\n",
       "    .dataframe thead th {\n",
       "        text-align: right;\n",
       "    }\n",
       "</style>\n",
       "<table border=\"1\" class=\"dataframe\">\n",
       "  <thead>\n",
       "    <tr style=\"text-align: right;\">\n",
       "      <th></th>\n",
       "      <th>tricks_won</th>\n",
       "      <th>is_calling_player</th>\n",
       "      <th>teammate_called</th>\n",
       "      <th>has_right</th>\n",
       "      <th>has_left</th>\n",
       "      <th>has_Atrump</th>\n",
       "      <th>has_Ktrump</th>\n",
       "      <th>has_Qtrump</th>\n",
       "      <th>has_Ttrump</th>\n",
       "      <th>has_9trump</th>\n",
       "      <th>...</th>\n",
       "      <th>num_off_K</th>\n",
       "      <th>num_off_Q</th>\n",
       "      <th>num_suits</th>\n",
       "      <th>partner_tricks</th>\n",
       "      <th>player_seat</th>\n",
       "      <th>team_tricks_won</th>\n",
       "      <th>player_seat1</th>\n",
       "      <th>player_seat2</th>\n",
       "      <th>player_seat3</th>\n",
       "      <th>player_seat4</th>\n",
       "    </tr>\n",
       "  </thead>\n",
       "  <tbody>\n",
       "    <tr>\n",
       "      <th>0</th>\n",
       "      <td>2</td>\n",
       "      <td>1</td>\n",
       "      <td>0</td>\n",
       "      <td>1</td>\n",
       "      <td>0</td>\n",
       "      <td>0</td>\n",
       "      <td>0</td>\n",
       "      <td>0</td>\n",
       "      <td>1</td>\n",
       "      <td>1</td>\n",
       "      <td>...</td>\n",
       "      <td>1</td>\n",
       "      <td>0</td>\n",
       "      <td>2</td>\n",
       "      <td>1</td>\n",
       "      <td>4</td>\n",
       "      <td>3</td>\n",
       "      <td>0</td>\n",
       "      <td>0</td>\n",
       "      <td>0</td>\n",
       "      <td>1</td>\n",
       "    </tr>\n",
       "    <tr>\n",
       "      <th>1</th>\n",
       "      <td>0</td>\n",
       "      <td>0</td>\n",
       "      <td>0</td>\n",
       "      <td>0</td>\n",
       "      <td>0</td>\n",
       "      <td>0</td>\n",
       "      <td>0</td>\n",
       "      <td>0</td>\n",
       "      <td>0</td>\n",
       "      <td>0</td>\n",
       "      <td>...</td>\n",
       "      <td>1</td>\n",
       "      <td>0</td>\n",
       "      <td>3</td>\n",
       "      <td>2</td>\n",
       "      <td>1</td>\n",
       "      <td>2</td>\n",
       "      <td>1</td>\n",
       "      <td>0</td>\n",
       "      <td>0</td>\n",
       "      <td>0</td>\n",
       "    </tr>\n",
       "    <tr>\n",
       "      <th>2</th>\n",
       "      <td>1</td>\n",
       "      <td>0</td>\n",
       "      <td>1</td>\n",
       "      <td>0</td>\n",
       "      <td>1</td>\n",
       "      <td>0</td>\n",
       "      <td>1</td>\n",
       "      <td>0</td>\n",
       "      <td>0</td>\n",
       "      <td>0</td>\n",
       "      <td>...</td>\n",
       "      <td>0</td>\n",
       "      <td>1</td>\n",
       "      <td>2</td>\n",
       "      <td>2</td>\n",
       "      <td>2</td>\n",
       "      <td>3</td>\n",
       "      <td>0</td>\n",
       "      <td>1</td>\n",
       "      <td>0</td>\n",
       "      <td>0</td>\n",
       "    </tr>\n",
       "    <tr>\n",
       "      <th>3</th>\n",
       "      <td>2</td>\n",
       "      <td>0</td>\n",
       "      <td>0</td>\n",
       "      <td>0</td>\n",
       "      <td>0</td>\n",
       "      <td>0</td>\n",
       "      <td>0</td>\n",
       "      <td>1</td>\n",
       "      <td>0</td>\n",
       "      <td>0</td>\n",
       "      <td>...</td>\n",
       "      <td>1</td>\n",
       "      <td>1</td>\n",
       "      <td>3</td>\n",
       "      <td>0</td>\n",
       "      <td>3</td>\n",
       "      <td>2</td>\n",
       "      <td>0</td>\n",
       "      <td>0</td>\n",
       "      <td>1</td>\n",
       "      <td>0</td>\n",
       "    </tr>\n",
       "    <tr>\n",
       "      <th>4</th>\n",
       "      <td>3</td>\n",
       "      <td>1</td>\n",
       "      <td>0</td>\n",
       "      <td>1</td>\n",
       "      <td>0</td>\n",
       "      <td>0</td>\n",
       "      <td>1</td>\n",
       "      <td>0</td>\n",
       "      <td>1</td>\n",
       "      <td>0</td>\n",
       "      <td>...</td>\n",
       "      <td>0</td>\n",
       "      <td>1</td>\n",
       "      <td>2</td>\n",
       "      <td>0</td>\n",
       "      <td>2</td>\n",
       "      <td>3</td>\n",
       "      <td>0</td>\n",
       "      <td>1</td>\n",
       "      <td>0</td>\n",
       "      <td>0</td>\n",
       "    </tr>\n",
       "  </tbody>\n",
       "</table>\n",
       "<p>5 rows × 21 columns</p>\n",
       "</div>"
      ],
      "text/plain": [
       "   tricks_won  is_calling_player  teammate_called  has_right  has_left  \\\n",
       "0           2                  1                0          1         0   \n",
       "1           0                  0                0          0         0   \n",
       "2           1                  0                1          0         1   \n",
       "3           2                  0                0          0         0   \n",
       "4           3                  1                0          1         0   \n",
       "\n",
       "   has_Atrump  has_Ktrump  has_Qtrump  has_Ttrump  has_9trump  ...  num_off_K  \\\n",
       "0           0           0           0           1           1  ...          1   \n",
       "1           0           0           0           0           0  ...          1   \n",
       "2           0           1           0           0           0  ...          0   \n",
       "3           0           0           1           0           0  ...          1   \n",
       "4           0           1           0           1           0  ...          0   \n",
       "\n",
       "   num_off_Q  num_suits  partner_tricks  player_seat  team_tricks_won  \\\n",
       "0          0          2               1            4                3   \n",
       "1          0          3               2            1                2   \n",
       "2          1          2               2            2                3   \n",
       "3          1          3               0            3                2   \n",
       "4          1          2               0            2                3   \n",
       "\n",
       "   player_seat1  player_seat2  player_seat3  player_seat4  \n",
       "0             0             0             0             1  \n",
       "1             1             0             0             0  \n",
       "2             0             1             0             0  \n",
       "3             0             0             1             0  \n",
       "4             0             1             0             0  \n",
       "\n",
       "[5 rows x 21 columns]"
      ]
     },
     "execution_count": 20,
     "metadata": {},
     "output_type": "execute_result"
    }
   ],
   "source": [
    "raw_train_df.head()"
   ]
  },
  {
   "cell_type": "code",
   "execution_count": null,
   "id": "4aba0897",
   "metadata": {},
   "outputs": [],
   "source": []
  },
  {
   "cell_type": "markdown",
   "id": "611d9e96",
   "metadata": {},
   "source": [
    "### Create train/test/validation splits"
   ]
  },
  {
   "cell_type": "code",
   "execution_count": 21,
   "id": "d1fd4440",
   "metadata": {},
   "outputs": [],
   "source": [
    "model_features = ['has_right', 'has_left',\n",
    "                  'has_Atrump', 'has_Ktrump', 'has_Qtrump', 'has_Ttrump', 'has_9trump', \n",
    "                  'num_off_A', 'num_off_K', 'num_off_Q', 'num_suits', \n",
    "                  'player_seat1', 'player_seat2', 'player_seat3', 'player_seat4'\n",
    "                 ]"
   ]
  },
  {
   "cell_type": "code",
   "execution_count": 26,
   "id": "d71acabb",
   "metadata": {},
   "outputs": [],
   "source": [
    "TEST_SIZE = 0.2\n",
    "VALID_SIZE = 0.1"
   ]
  },
  {
   "cell_type": "code",
   "execution_count": 27,
   "id": "8c3c25a9",
   "metadata": {},
   "outputs": [],
   "source": [
    "train_df, test_valid_df, train_targets_df, test_valid_targets_df = train_test_split(raw_train_df[model_features], \n",
    "                                                                        raw_train_df['tricks_won'], \n",
    "                                                                        test_size=(TEST_SIZE+VALID_SIZE), \n",
    "                                                                        random_state=123)"
   ]
  },
  {
   "cell_type": "code",
   "execution_count": 28,
   "id": "fd6e8e38",
   "metadata": {},
   "outputs": [],
   "source": [
    "test_df, valid_df, test_targets_df, valid_targets_df = train_test_split(test_valid_df, \n",
    "                                                                        test_valid_targets_df, \n",
    "                                                                        test_size=(TEST_SIZE/(VALID_SIZE+TEST_SIZE)), \n",
    "                                                                        random_state=123)"
   ]
  },
  {
   "cell_type": "code",
   "execution_count": 29,
   "id": "3fd64cc5",
   "metadata": {},
   "outputs": [
    {
     "name": "stdout",
     "output_type": "stream",
     "text": [
      "(47671, 15)\n",
      "(47671,)\n",
      "(95344, 15)\n",
      "(95344,)\n",
      "(333701, 15)\n",
      "(333701,)\n"
     ]
    }
   ],
   "source": [
    "print(test_df.shape)\n",
    "print(test_targets_df.shape)\n",
    "print(valid_df.shape)\n",
    "print(valid_targets_df.shape)\n",
    "print(train_df.shape)\n",
    "print(train_targets_df.shape)"
   ]
  },
  {
   "cell_type": "code",
   "execution_count": null,
   "id": "3a5d76a4",
   "metadata": {},
   "outputs": [],
   "source": []
  },
  {
   "cell_type": "markdown",
   "id": "fae60676",
   "metadata": {},
   "source": [
    "#### Scale Features"
   ]
  },
  {
   "cell_type": "code",
   "execution_count": 31,
   "id": "690115a7",
   "metadata": {},
   "outputs": [],
   "source": [
    "# sc = StandardScaler()\n",
    "# train_df = sc.fit_transform(train_df)\n",
    "# test_df = sc.transform(test_df)\n",
    "# valid_df = sc.transform(valid_df)"
   ]
  },
  {
   "cell_type": "code",
   "execution_count": 32,
   "id": "8a52dc22",
   "metadata": {},
   "outputs": [],
   "source": [
    "sc = StandardScaler()\n",
    "train_scaled_df = sc.fit_transform(train_df)\n",
    "test_scaled_df = sc.transform(test_df)\n",
    "valid_scaled_df = sc.transform(valid_df)"
   ]
  },
  {
   "cell_type": "code",
   "execution_count": null,
   "id": "d3515608",
   "metadata": {},
   "outputs": [],
   "source": []
  },
  {
   "cell_type": "markdown",
   "id": "a30b2555",
   "metadata": {},
   "source": [
    "## Modeling"
   ]
  },
  {
   "cell_type": "markdown",
   "id": "043fb7a2",
   "metadata": {},
   "source": [
    "#### Linear Regression"
   ]
  },
  {
   "cell_type": "code",
   "execution_count": 72,
   "id": "2883fec1",
   "metadata": {},
   "outputs": [],
   "source": [
    "from sklearn.linear_model import LinearRegression"
   ]
  },
  {
   "cell_type": "code",
   "execution_count": 73,
   "id": "6be1f8cc",
   "metadata": {},
   "outputs": [],
   "source": [
    "reg = LinearRegression().fit(train_scaled_df, train_targets_df)"
   ]
  },
  {
   "cell_type": "code",
   "execution_count": 74,
   "id": "c8871039",
   "metadata": {},
   "outputs": [
    {
     "data": {
      "text/plain": [
       "Index(['has_right', 'has_left', 'has_Atrump', 'has_Ktrump', 'has_Qtrump',\n",
       "       'has_Ttrump', 'has_9trump', 'num_off_A', 'num_off_K', 'num_off_Q',\n",
       "       'num_suits', 'player_seat1', 'player_seat2', 'player_seat3',\n",
       "       'player_seat4'],\n",
       "      dtype='object')"
      ]
     },
     "execution_count": 74,
     "metadata": {},
     "output_type": "execute_result"
    }
   ],
   "source": [
    "train_df.columns"
   ]
  },
  {
   "cell_type": "code",
   "execution_count": 75,
   "id": "dddec7de",
   "metadata": {},
   "outputs": [
    {
     "data": {
      "text/plain": [
       "array([ 6.62599824e-01,  3.66137465e-01,  2.11619604e-01,  3.27775265e-01,\n",
       "        3.03684953e-01,  2.81805136e-01,  2.53954059e-01,  1.86141801e-01,\n",
       "        2.28721184e-01,  2.94627608e-02, -1.76811157e-01,  4.29177748e+11,\n",
       "        4.28978106e+11,  4.29629017e+11,  4.29853086e+11])"
      ]
     },
     "execution_count": 75,
     "metadata": {},
     "output_type": "execute_result"
    }
   ],
   "source": [
    "reg.coef_"
   ]
  },
  {
   "cell_type": "code",
   "execution_count": 76,
   "id": "a4fcb9a7",
   "metadata": {},
   "outputs": [
    {
     "name": "stdout",
     "output_type": "stream",
     "text": [
      "has_right: 0.6625998241730906\n",
      "has_left: 0.3661374646486056\n",
      "has_Atrump: 0.21161960390172788\n",
      "has_Ktrump: 0.32777526504538207\n",
      "has_Qtrump: 0.3036849532577626\n",
      "has_Ttrump: 0.28180513575128147\n",
      "has_9trump: 0.25395405908079927\n",
      "num_off_A: 0.18614180079430268\n",
      "num_off_K: 0.22872118401560732\n",
      "num_off_Q: 0.029462760750361187\n",
      "num_suits: -0.1768111570515248\n",
      "player_seat1: 429177747874.2324\n",
      "player_seat2: 428978105688.2042\n",
      "player_seat3: 429629016825.6355\n",
      "player_seat4: 429853086411.8607\n"
     ]
    }
   ],
   "source": [
    "for coef in range(len(reg.coef_)):\n",
    "    print(f'{train_df.columns[coef]}: {reg.coef_[coef]}')"
   ]
  },
  {
   "cell_type": "code",
   "execution_count": 77,
   "id": "7dadbb05",
   "metadata": {},
   "outputs": [
    {
     "data": {
      "text/plain": [
       "-1.2006229735867367e+23"
      ]
     },
     "execution_count": 77,
     "metadata": {},
     "output_type": "execute_result"
    }
   ],
   "source": [
    "reg.score(train_df, train_targets_df)"
   ]
  },
  {
   "cell_type": "code",
   "execution_count": 78,
   "id": "8c588927",
   "metadata": {},
   "outputs": [
    {
     "data": {
      "text/plain": [
       "-1.1768000347908085e+23"
      ]
     },
     "execution_count": 78,
     "metadata": {},
     "output_type": "execute_result"
    }
   ],
   "source": [
    "reg.score(test_df, test_targets_df)"
   ]
  },
  {
   "cell_type": "code",
   "execution_count": 79,
   "id": "99615104",
   "metadata": {},
   "outputs": [
    {
     "data": {
      "text/plain": [
       "array([4.29177748e+11, 4.29853086e+11, 4.29853086e+11, 4.29629017e+11,\n",
       "       4.29629017e+11])"
      ]
     },
     "execution_count": 79,
     "metadata": {},
     "output_type": "execute_result"
    }
   ],
   "source": [
    "test_preds = reg.predict(test_df)\n",
    "test_preds[0:5]"
   ]
  },
  {
   "cell_type": "code",
   "execution_count": 80,
   "id": "c90a5b12",
   "metadata": {},
   "outputs": [
    {
     "data": {
      "text/plain": [
       "[429177747876, 429853086413, 429853086413, 429629016828, 429629016827]"
      ]
     },
     "execution_count": 80,
     "metadata": {},
     "output_type": "execute_result"
    }
   ],
   "source": [
    "test_preds_rounded = [round(pred) for pred in test_preds]\n",
    "test_preds_rounded[0:5]"
   ]
  },
  {
   "cell_type": "code",
   "execution_count": 81,
   "id": "8b7e41da",
   "metadata": {},
   "outputs": [
    {
     "ename": "KeyError",
     "evalue": "'429177747874'",
     "output_type": "error",
     "traceback": [
      "\u001b[1;31m---------------------------------------------------------------------------\u001b[0m",
      "\u001b[1;31mKeyError\u001b[0m                                  Traceback (most recent call last)",
      "\u001b[1;32m<ipython-input-81-f7638bf8ce7e>\u001b[0m in \u001b[0;36m<module>\u001b[1;34m\u001b[0m\n\u001b[1;32m----> 1\u001b[1;33m plot_trick_error_rates(targets_list = test_targets_df, \n\u001b[0m\u001b[0;32m      2\u001b[0m                        preds_list=test_preds_rounded)\n",
      "\u001b[1;32m<ipython-input-67-3d944d905c3b>\u001b[0m in \u001b[0;36mplot_trick_error_rates\u001b[1;34m(targets_list, preds_list)\u001b[0m\n\u001b[0;32m     11\u001b[0m     \u001b[1;32mfor\u001b[0m \u001b[0midx\u001b[0m\u001b[1;33m,\u001b[0m \u001b[0mpred\u001b[0m \u001b[1;32min\u001b[0m \u001b[0menumerate\u001b[0m\u001b[1;33m(\u001b[0m\u001b[0mtargets_list\u001b[0m\u001b[1;33m)\u001b[0m\u001b[1;33m:\u001b[0m\u001b[1;33m\u001b[0m\u001b[1;33m\u001b[0m\u001b[0m\n\u001b[0;32m     12\u001b[0m         \u001b[0mpred_diff\u001b[0m \u001b[1;33m=\u001b[0m \u001b[0mabs\u001b[0m\u001b[1;33m(\u001b[0m\u001b[0mpred\u001b[0m \u001b[1;33m-\u001b[0m \u001b[0mpreds_list\u001b[0m\u001b[1;33m[\u001b[0m\u001b[0midx\u001b[0m\u001b[1;33m]\u001b[0m\u001b[1;33m)\u001b[0m\u001b[1;33m\u001b[0m\u001b[1;33m\u001b[0m\u001b[0m\n\u001b[1;32m---> 13\u001b[1;33m         \u001b[0mresults_dict\u001b[0m\u001b[1;33m[\u001b[0m\u001b[0mstr\u001b[0m\u001b[1;33m(\u001b[0m\u001b[0mpred_diff\u001b[0m\u001b[1;33m)\u001b[0m\u001b[1;33m]\u001b[0m \u001b[1;33m+=\u001b[0m \u001b[1;36m1\u001b[0m\u001b[1;33m\u001b[0m\u001b[1;33m\u001b[0m\u001b[0m\n\u001b[0m\u001b[0;32m     14\u001b[0m \u001b[1;33m\u001b[0m\u001b[0m\n\u001b[0;32m     15\u001b[0m     \u001b[0mfig\u001b[0m \u001b[1;33m=\u001b[0m \u001b[0mplt\u001b[0m\u001b[1;33m.\u001b[0m\u001b[0mfigure\u001b[0m\u001b[1;33m(\u001b[0m\u001b[1;33m)\u001b[0m\u001b[1;33m\u001b[0m\u001b[1;33m\u001b[0m\u001b[0m\n",
      "\u001b[1;31mKeyError\u001b[0m: '429177747874'"
     ]
    }
   ],
   "source": [
    "plot_trick_error_rates(targets_list = test_targets_df, \n",
    "                       preds_list=test_preds_rounded)"
   ]
  },
  {
   "cell_type": "code",
   "execution_count": 82,
   "id": "a11e4920",
   "metadata": {},
   "outputs": [],
   "source": [
    "valid_preds_linreg = reg.predict(valid_df)"
   ]
  },
  {
   "cell_type": "code",
   "execution_count": 83,
   "id": "10b49083",
   "metadata": {},
   "outputs": [],
   "source": [
    "valid_preds_linreg_rounded = [round(pred) for pred in valid_preds_linreg]"
   ]
  },
  {
   "cell_type": "code",
   "execution_count": 84,
   "id": "69a32532",
   "metadata": {},
   "outputs": [
    {
     "ename": "KeyError",
     "evalue": "'429177747875'",
     "output_type": "error",
     "traceback": [
      "\u001b[1;31m---------------------------------------------------------------------------\u001b[0m",
      "\u001b[1;31mKeyError\u001b[0m                                  Traceback (most recent call last)",
      "\u001b[1;32m<ipython-input-84-e7748a2829d8>\u001b[0m in \u001b[0;36m<module>\u001b[1;34m\u001b[0m\n\u001b[1;32m----> 1\u001b[1;33m plot_trick_error_rates(targets_list = valid_targets_df, \n\u001b[0m\u001b[0;32m      2\u001b[0m                        preds_list=valid_preds_linreg_rounded)\n",
      "\u001b[1;32m<ipython-input-67-3d944d905c3b>\u001b[0m in \u001b[0;36mplot_trick_error_rates\u001b[1;34m(targets_list, preds_list)\u001b[0m\n\u001b[0;32m     11\u001b[0m     \u001b[1;32mfor\u001b[0m \u001b[0midx\u001b[0m\u001b[1;33m,\u001b[0m \u001b[0mpred\u001b[0m \u001b[1;32min\u001b[0m \u001b[0menumerate\u001b[0m\u001b[1;33m(\u001b[0m\u001b[0mtargets_list\u001b[0m\u001b[1;33m)\u001b[0m\u001b[1;33m:\u001b[0m\u001b[1;33m\u001b[0m\u001b[1;33m\u001b[0m\u001b[0m\n\u001b[0;32m     12\u001b[0m         \u001b[0mpred_diff\u001b[0m \u001b[1;33m=\u001b[0m \u001b[0mabs\u001b[0m\u001b[1;33m(\u001b[0m\u001b[0mpred\u001b[0m \u001b[1;33m-\u001b[0m \u001b[0mpreds_list\u001b[0m\u001b[1;33m[\u001b[0m\u001b[0midx\u001b[0m\u001b[1;33m]\u001b[0m\u001b[1;33m)\u001b[0m\u001b[1;33m\u001b[0m\u001b[1;33m\u001b[0m\u001b[0m\n\u001b[1;32m---> 13\u001b[1;33m         \u001b[0mresults_dict\u001b[0m\u001b[1;33m[\u001b[0m\u001b[0mstr\u001b[0m\u001b[1;33m(\u001b[0m\u001b[0mpred_diff\u001b[0m\u001b[1;33m)\u001b[0m\u001b[1;33m]\u001b[0m \u001b[1;33m+=\u001b[0m \u001b[1;36m1\u001b[0m\u001b[1;33m\u001b[0m\u001b[1;33m\u001b[0m\u001b[0m\n\u001b[0m\u001b[0;32m     14\u001b[0m \u001b[1;33m\u001b[0m\u001b[0m\n\u001b[0;32m     15\u001b[0m     \u001b[0mfig\u001b[0m \u001b[1;33m=\u001b[0m \u001b[0mplt\u001b[0m\u001b[1;33m.\u001b[0m\u001b[0mfigure\u001b[0m\u001b[1;33m(\u001b[0m\u001b[1;33m)\u001b[0m\u001b[1;33m\u001b[0m\u001b[1;33m\u001b[0m\u001b[0m\n",
      "\u001b[1;31mKeyError\u001b[0m: '429177747875'"
     ]
    }
   ],
   "source": [
    "plot_trick_error_rates(targets_list = valid_targets_df, \n",
    "                       preds_list=valid_preds_linreg_rounded)"
   ]
  },
  {
   "cell_type": "code",
   "execution_count": null,
   "id": "cbb739f9",
   "metadata": {},
   "outputs": [],
   "source": []
  },
  {
   "cell_type": "markdown",
   "id": "c1660d00",
   "metadata": {},
   "source": [
    "#### Test single hand manually"
   ]
  },
  {
   "cell_type": "code",
   "execution_count": 85,
   "id": "b9b9f322",
   "metadata": {},
   "outputs": [
    {
     "data": {
      "text/html": [
       "<div>\n",
       "<style scoped>\n",
       "    .dataframe tbody tr th:only-of-type {\n",
       "        vertical-align: middle;\n",
       "    }\n",
       "\n",
       "    .dataframe tbody tr th {\n",
       "        vertical-align: top;\n",
       "    }\n",
       "\n",
       "    .dataframe thead th {\n",
       "        text-align: right;\n",
       "    }\n",
       "</style>\n",
       "<table border=\"1\" class=\"dataframe\">\n",
       "  <thead>\n",
       "    <tr style=\"text-align: right;\">\n",
       "      <th></th>\n",
       "      <th>has_right</th>\n",
       "      <th>has_left</th>\n",
       "      <th>has_Atrump</th>\n",
       "      <th>has_Ktrump</th>\n",
       "      <th>has_Qtrump</th>\n",
       "      <th>has_Ttrump</th>\n",
       "      <th>has_9trump</th>\n",
       "      <th>num_off_A</th>\n",
       "      <th>num_off_K</th>\n",
       "      <th>num_off_Q</th>\n",
       "      <th>num_suits</th>\n",
       "      <th>player_seat1</th>\n",
       "      <th>player_seat2</th>\n",
       "      <th>player_seat3</th>\n",
       "      <th>player_seat4</th>\n",
       "    </tr>\n",
       "  </thead>\n",
       "  <tbody>\n",
       "    <tr>\n",
       "      <th>0</th>\n",
       "      <td>0</td>\n",
       "      <td>0</td>\n",
       "      <td>0</td>\n",
       "      <td>0</td>\n",
       "      <td>0</td>\n",
       "      <td>0</td>\n",
       "      <td>0</td>\n",
       "      <td>0</td>\n",
       "      <td>0</td>\n",
       "      <td>0</td>\n",
       "      <td>0</td>\n",
       "      <td>0</td>\n",
       "      <td>0</td>\n",
       "      <td>0</td>\n",
       "      <td>0</td>\n",
       "    </tr>\n",
       "  </tbody>\n",
       "</table>\n",
       "</div>"
      ],
      "text/plain": [
       "   has_right  has_left  has_Atrump  has_Ktrump  has_Qtrump  has_Ttrump  \\\n",
       "0          0         0           0           0           0           0   \n",
       "\n",
       "   has_9trump  num_off_A  num_off_K  num_off_Q  num_suits  player_seat1  \\\n",
       "0           0          0          0          0          0             0   \n",
       "\n",
       "   player_seat2  player_seat3  player_seat4  \n",
       "0             0             0             0  "
      ]
     },
     "execution_count": 85,
     "metadata": {},
     "output_type": "execute_result"
    }
   ],
   "source": [
    "hand = {feature:[0] for feature in model_features}\n",
    "single_hand_test_df = pd.DataFrame(hand)\n",
    "single_hand_test_df"
   ]
  },
  {
   "cell_type": "code",
   "execution_count": 86,
   "id": "44d59acf",
   "metadata": {},
   "outputs": [],
   "source": [
    "single_hand_test_df['player_seat1'] = 1\n",
    "single_hand_test_df['player_seat2'] = 0\n",
    "single_hand_test_df['player_seat3'] = 0\n",
    "single_hand_test_df['player_seat4'] = 0\n",
    "single_hand_test_df['has_right'] = 0\n",
    "single_hand_test_df['has_left'] = 0\n",
    "single_hand_test_df['has_Atrump'] = 0\n",
    "single_hand_test_df['has_Ktrump'] = 1\n",
    "single_hand_test_df['has_Qtrump'] = 1\n",
    "single_hand_test_df['has_Ttrump'] = 1\n",
    "single_hand_test_df['has_9trump'] = 0\n",
    "single_hand_test_df['num_off_Q'] = 2\n",
    "single_hand_test_df['num_off_K'] = 0\n",
    "single_hand_test_df['num_off_A'] = 0"
   ]
  },
  {
   "cell_type": "code",
   "execution_count": 87,
   "id": "ccd9edc7",
   "metadata": {},
   "outputs": [
    {
     "data": {
      "text/plain": [
       "array([4.29177748e+11])"
      ]
     },
     "execution_count": 87,
     "metadata": {},
     "output_type": "execute_result"
    }
   ],
   "source": [
    "single_test_pred = reg.predict(single_hand_test_df)\n",
    "single_test_pred"
   ]
  },
  {
   "cell_type": "code",
   "execution_count": null,
   "id": "94d0a75a",
   "metadata": {},
   "outputs": [],
   "source": []
  },
  {
   "cell_type": "markdown",
   "id": "f2a4bace",
   "metadata": {},
   "source": [
    "### Regularized linear regression"
   ]
  },
  {
   "cell_type": "markdown",
   "id": "a8bcbc72",
   "metadata": {},
   "source": [
    "#### Ridge"
   ]
  },
  {
   "cell_type": "code",
   "execution_count": 88,
   "id": "22569447",
   "metadata": {},
   "outputs": [],
   "source": [
    "from sklearn.linear_model import Ridge"
   ]
  },
  {
   "cell_type": "code",
   "execution_count": 89,
   "id": "69fdff0e",
   "metadata": {},
   "outputs": [],
   "source": [
    "ridge = Ridge(alpha=0.9).fit(train_df, train_targets_df)"
   ]
  },
  {
   "cell_type": "code",
   "execution_count": 90,
   "id": "a54c8a1c",
   "metadata": {},
   "outputs": [
    {
     "data": {
      "text/plain": [
       "0.705794665276191"
      ]
     },
     "execution_count": 90,
     "metadata": {},
     "output_type": "execute_result"
    }
   ],
   "source": [
    "ridge.score(test_df, test_targets_df)"
   ]
  },
  {
   "cell_type": "code",
   "execution_count": 91,
   "id": "fc70e7fa",
   "metadata": {},
   "outputs": [
    {
     "data": {
      "text/plain": [
       "array([ 1.58878285e+00,  8.55754154e-01,  7.12424024e-01,  7.68702439e-01,\n",
       "        7.12343020e-01,  6.60766522e-01,  5.94974100e-01,  5.36758362e-01,\n",
       "        3.17947465e-01,  4.08188285e-02, -2.73511438e-01, -1.44063939e-03,\n",
       "       -9.63980045e-03,  1.79318884e-02, -6.85144912e-03])"
      ]
     },
     "execution_count": 91,
     "metadata": {},
     "output_type": "execute_result"
    }
   ],
   "source": [
    "ridge.coef_"
   ]
  },
  {
   "cell_type": "markdown",
   "id": "4c37c737",
   "metadata": {},
   "source": [
    "#### Lasso"
   ]
  },
  {
   "cell_type": "code",
   "execution_count": 92,
   "id": "d760015f",
   "metadata": {},
   "outputs": [],
   "source": [
    "from sklearn.linear_model import Lasso"
   ]
  },
  {
   "cell_type": "code",
   "execution_count": 93,
   "id": "134290bb",
   "metadata": {},
   "outputs": [],
   "source": [
    "lasso = Lasso(alpha=0.01).fit(train_df, train_targets_df)"
   ]
  },
  {
   "cell_type": "code",
   "execution_count": 94,
   "id": "7e368f86",
   "metadata": {},
   "outputs": [
    {
     "data": {
      "text/plain": [
       "0.699770554106395"
      ]
     },
     "execution_count": 94,
     "metadata": {},
     "output_type": "execute_result"
    }
   ],
   "source": [
    "lasso.score(test_df, test_targets_df)"
   ]
  },
  {
   "cell_type": "code",
   "execution_count": 95,
   "id": "13f74dfc",
   "metadata": {},
   "outputs": [
    {
     "data": {
      "text/plain": [
       "10"
      ]
     },
     "execution_count": 95,
     "metadata": {},
     "output_type": "execute_result"
    }
   ],
   "source": [
    "sum(lasso.coef_ != 0)"
   ]
  },
  {
   "cell_type": "code",
   "execution_count": 96,
   "id": "ab7029fc",
   "metadata": {},
   "outputs": [
    {
     "data": {
      "text/plain": [
       "array([ 1.51421319,  0.74799629,  0.55761191,  0.69523901,  0.63886285,\n",
       "        0.58679532,  0.52100525,  0.39199334,  0.24729915, -0.        ,\n",
       "       -0.27923317, -0.        , -0.        ,  0.        , -0.        ])"
      ]
     },
     "execution_count": 96,
     "metadata": {},
     "output_type": "execute_result"
    }
   ],
   "source": [
    "lasso.coef_"
   ]
  },
  {
   "cell_type": "code",
   "execution_count": null,
   "id": "a7e6a268",
   "metadata": {},
   "outputs": [],
   "source": []
  },
  {
   "cell_type": "markdown",
   "id": "80b2de11",
   "metadata": {},
   "source": [
    "#### ElasticNet"
   ]
  },
  {
   "cell_type": "code",
   "execution_count": 97,
   "id": "90e256b1",
   "metadata": {},
   "outputs": [],
   "source": [
    "from sklearn.linear_model import ElasticNet"
   ]
  },
  {
   "cell_type": "code",
   "execution_count": 98,
   "id": "e81de6ef",
   "metadata": {},
   "outputs": [],
   "source": [
    "elastic_net = ElasticNet(alpha=0.01, l1_ratio=0.01).fit(train_df, train_targets_df)"
   ]
  },
  {
   "cell_type": "code",
   "execution_count": 99,
   "id": "c8a20039",
   "metadata": {},
   "outputs": [
    {
     "data": {
      "text/plain": [
       "0.7023803392389232"
      ]
     },
     "execution_count": 99,
     "metadata": {},
     "output_type": "execute_result"
    }
   ],
   "source": [
    "elastic_net.score(test_df, test_targets_df)"
   ]
  },
  {
   "cell_type": "code",
   "execution_count": null,
   "id": "adc5647a",
   "metadata": {},
   "outputs": [],
   "source": []
  },
  {
   "cell_type": "markdown",
   "id": "d50aba8f",
   "metadata": {},
   "source": [
    "#### Random Forest"
   ]
  },
  {
   "cell_type": "code",
   "execution_count": 100,
   "id": "7ed49ba7",
   "metadata": {},
   "outputs": [],
   "source": [
    "from sklearn.ensemble import RandomForestClassifier"
   ]
  },
  {
   "cell_type": "code",
   "execution_count": 101,
   "id": "7351469d",
   "metadata": {},
   "outputs": [],
   "source": [
    "classifier =  RandomForestClassifier(\n",
    "    n_estimators=30, \n",
    "    max_features=0.9,\n",
    "    max_depth=5,\n",
    "    criterion = 'entropy', \n",
    "    verbose=0\n",
    ")"
   ]
  },
  {
   "cell_type": "code",
   "execution_count": 102,
   "id": "807a3469",
   "metadata": {},
   "outputs": [
    {
     "name": "stdout",
     "output_type": "stream",
     "text": [
      "Wall time: 11 s\n"
     ]
    },
    {
     "data": {
      "text/plain": [
       "RandomForestClassifier(criterion='entropy', max_depth=5, max_features=0.9,\n",
       "                       n_estimators=30)"
      ]
     },
     "execution_count": 102,
     "metadata": {},
     "output_type": "execute_result"
    }
   ],
   "source": [
    "%%time\n",
    "\n",
    "classifier.fit(train_df, train_targets_df)  # Fit the model"
   ]
  },
  {
   "cell_type": "code",
   "execution_count": 103,
   "id": "68aa0587",
   "metadata": {},
   "outputs": [
    {
     "data": {
      "text/plain": [
       "array([1, 0, 0], dtype=int64)"
      ]
     },
     "execution_count": 103,
     "metadata": {},
     "output_type": "execute_result"
    }
   ],
   "source": [
    "test_preds = classifier.predict(test_df)\n",
    "# test_preds = classifier.predict_proba(test_df)\n",
    "test_preds[0:3]"
   ]
  },
  {
   "cell_type": "code",
   "execution_count": 104,
   "id": "cdcbb829",
   "metadata": {},
   "outputs": [
    {
     "data": {
      "image/png": "[encoded data removed]",
      "text/plain": [
       "<Figure size 432x288 with 1 Axes>"
      ]
     },
     "metadata": {
      "needs_background": "light"
     },
     "output_type": "display_data"
    }
   ],
   "source": [
    "plot_trick_error_rates(targets_list = test_targets_df, \n",
    "                       preds_list=test_preds)"
   ]
  },
  {
   "cell_type": "code",
   "execution_count": 105,
   "id": "db6844b2",
   "metadata": {
    "scrolled": false
   },
   "outputs": [
    {
     "data": {
      "text/plain": [
       "array([[0.02029555, 0.18586077, 0.43231851, 0.29498943, 0.055229  ,\n",
       "        0.01130675]])"
      ]
     },
     "execution_count": 105,
     "metadata": {},
     "output_type": "execute_result"
    }
   ],
   "source": [
    "single_hand_preds = classifier.predict_proba(single_hand_test_df)\n",
    "single_hand_preds"
   ]
  },
  {
   "cell_type": "code",
   "execution_count": 106,
   "id": "d51199c9",
   "metadata": {},
   "outputs": [
    {
     "data": {
      "text/plain": [
       "[0.02029554642881738,\n",
       " 0.18586077324314643,\n",
       " 0.4323185054939875,\n",
       " 0.29498942641095954,\n",
       " 0.05522900133459952,\n",
       " 0.011306747088489591]"
      ]
     },
     "execution_count": 106,
     "metadata": {},
     "output_type": "execute_result"
    }
   ],
   "source": [
    "trick_preds = single_hand_preds.tolist()[0]\n",
    "trick_preds"
   ]
  },
  {
   "cell_type": "code",
   "execution_count": 107,
   "id": "45bee187",
   "metadata": {},
   "outputs": [],
   "source": [
    "importances = classifier.feature_importances_\n",
    "std = np.std([tree.feature_importances_ for tree in classifier.estimators_], axis=0)"
   ]
  },
  {
   "cell_type": "code",
   "execution_count": 108,
   "id": "ce5d1cd0",
   "metadata": {},
   "outputs": [
    {
     "data": {
      "image/png": "[encoded data removed]",
      "text/plain": [
       "<Figure size 432x288 with 1 Axes>"
      ]
     },
     "metadata": {
      "needs_background": "light"
     },
     "output_type": "display_data"
    }
   ],
   "source": [
    "forest_importances = pd.Series(importances, index=model_features)\n",
    "\n",
    "fig, ax = plt.subplots()\n",
    "forest_importances.plot.bar(yerr=std, ax=ax)\n",
    "ax.set_title(\"Feature importances using MDI\")\n",
    "ax.set_ylabel(\"Mean decrease in impurity\")\n",
    "fig.tight_layout()"
   ]
  },
  {
   "cell_type": "markdown",
   "id": "d619f8c2",
   "metadata": {},
   "source": [
    "#### GBM"
   ]
  },
  {
   "cell_type": "code",
   "execution_count": 109,
   "id": "a4d0d7c2",
   "metadata": {},
   "outputs": [],
   "source": [
    "from sklearn.ensemble import GradientBoostingClassifier"
   ]
  },
  {
   "cell_type": "code",
   "execution_count": 110,
   "id": "8f9e5401",
   "metadata": {},
   "outputs": [],
   "source": [
    "gbm_clf = GradientBoostingClassifier(learning_rate=0.1, \n",
    "                                     n_estimators=10, \n",
    "                                     #subsample=0.9, \n",
    "                                     #max_depth=6\n",
    "                                    )"
   ]
  },
  {
   "cell_type": "markdown",
   "id": "9242473c",
   "metadata": {},
   "source": [
    "#### Fit the model"
   ]
  },
  {
   "cell_type": "code",
   "execution_count": 111,
   "id": "ba6c18dd",
   "metadata": {},
   "outputs": [
    {
     "name": "stdout",
     "output_type": "stream",
     "text": [
      "Wall time: 27 s\n"
     ]
    },
    {
     "data": {
      "text/plain": [
       "GradientBoostingClassifier(n_estimators=10)"
      ]
     },
     "execution_count": 111,
     "metadata": {},
     "output_type": "execute_result"
    }
   ],
   "source": [
    "%%time\n",
    "\n",
    "gbm_clf.fit(train_df, train_targets_df)"
   ]
  },
  {
   "cell_type": "code",
   "execution_count": 112,
   "id": "d15025b7",
   "metadata": {},
   "outputs": [
    {
     "data": {
      "text/plain": [
       "array([1, 0, 0], dtype=int64)"
      ]
     },
     "execution_count": 112,
     "metadata": {},
     "output_type": "execute_result"
    }
   ],
   "source": [
    "# Create test preds\n",
    "test_preds = gbm_clf.predict(test_df)\n",
    "#test_preds = gbm_clf.predict_proba(test_df)\n",
    "test_preds[0:3]"
   ]
  },
  {
   "cell_type": "code",
   "execution_count": 113,
   "id": "a73c48c1",
   "metadata": {},
   "outputs": [
    {
     "data": {
      "text/plain": [
       "array([[0.13896767, 0.17065973, 0.2070718 , 0.22679959, 0.24971621,\n",
       "        0.006785  ]])"
      ]
     },
     "execution_count": 113,
     "metadata": {},
     "output_type": "execute_result"
    }
   ],
   "source": [
    "single_hand_preds = gbm_clf.predict_proba(single_hand_test_df)\n",
    "single_hand_preds"
   ]
  },
  {
   "cell_type": "code",
   "execution_count": 114,
   "id": "8b0473c1",
   "metadata": {},
   "outputs": [
    {
     "data": {
      "image/png": "[encoded data removed]",
      "text/plain": [
       "<Figure size 432x288 with 1 Axes>"
      ]
     },
     "metadata": {
      "needs_background": "light"
     },
     "output_type": "display_data"
    }
   ],
   "source": [
    "plot_trick_error_rates(targets_list = test_targets_df, \n",
    "                       preds_list=test_preds)"
   ]
  },
  {
   "cell_type": "code",
   "execution_count": 115,
   "id": "b901f141",
   "metadata": {},
   "outputs": [],
   "source": [
    "importances = gbm_clf.feature_importances_"
   ]
  },
  {
   "cell_type": "code",
   "execution_count": 116,
   "id": "6387bba1",
   "metadata": {},
   "outputs": [
    {
     "data": {
      "image/png": "[encoded data removed]",
      "text/plain": [
       "<Figure size 432x288 with 1 Axes>"
      ]
     },
     "metadata": {
      "needs_background": "light"
     },
     "output_type": "display_data"
    }
   ],
   "source": [
    "forest_importances = pd.Series(importances, index=model_features)\n",
    "\n",
    "fig, ax = plt.subplots()\n",
    "forest_importances.plot.bar(ax=ax)\n",
    "ax.set_title(\"Feature importances using MDI\")\n",
    "ax.set_ylabel(\"Mean decrease in impurity\")\n",
    "fig.tight_layout()"
   ]
  },
  {
   "cell_type": "code",
   "execution_count": null,
   "id": "c5b7155c",
   "metadata": {},
   "outputs": [],
   "source": []
  },
  {
   "cell_type": "markdown",
   "id": "c396fa7e",
   "metadata": {},
   "source": [
    "#### CV"
   ]
  },
  {
   "cell_type": "code",
   "execution_count": null,
   "id": "e55dc7f1",
   "metadata": {},
   "outputs": [],
   "source": [
    "from sklearn.model_selection import GridSearchCV"
   ]
  },
  {
   "cell_type": "code",
   "execution_count": null,
   "id": "54c2c02d",
   "metadata": {},
   "outputs": [],
   "source": [
    "grid_params = {'n_estimators':[10], 'max_depth':[4,5], 'subsample':[0.5]}"
   ]
  },
  {
   "cell_type": "code",
   "execution_count": 66,
   "id": "b959c34c",
   "metadata": {},
   "outputs": [
    {
     "ename": "NameError",
     "evalue": "name 'GridSearchCV' is not defined",
     "output_type": "error",
     "traceback": [
      "\u001b[1;31m---------------------------------------------------------------------------\u001b[0m",
      "\u001b[1;31mNameError\u001b[0m                                 Traceback (most recent call last)",
      "\u001b[1;32m<ipython-input-66-b374a01a24a3>\u001b[0m in \u001b[0;36m<module>\u001b[1;34m\u001b[0m\n\u001b[1;32m----> 1\u001b[1;33m \u001b[0mclf\u001b[0m \u001b[1;33m=\u001b[0m \u001b[0mGridSearchCV\u001b[0m\u001b[1;33m(\u001b[0m\u001b[0mgbm_clf\u001b[0m\u001b[1;33m,\u001b[0m \u001b[0mgrid_params\u001b[0m\u001b[1;33m)\u001b[0m\u001b[1;33m\u001b[0m\u001b[1;33m\u001b[0m\u001b[0m\n\u001b[0m",
      "\u001b[1;31mNameError\u001b[0m: name 'GridSearchCV' is not defined"
     ]
    }
   ],
   "source": [
    "clf = GridSearchCV(gbm_clf, grid_params)"
   ]
  },
  {
   "cell_type": "code",
   "execution_count": 56,
   "id": "53968f61",
   "metadata": {},
   "outputs": [
    {
     "name": "stdout",
     "output_type": "stream",
     "text": [
      "Wall time: 4min 52s\n"
     ]
    },
    {
     "data": {
      "text/plain": [
       "GridSearchCV(estimator=GradientBoostingClassifier(learning_rate=0.01,\n",
       "                                                  max_depth=4,\n",
       "                                                  min_samples_leaf=5,\n",
       "                                                  min_samples_split=5,\n",
       "                                                  n_estimators=20,\n",
       "                                                  subsample=0.9),\n",
       "             param_grid={'max_depth': [3, 4], 'n_estimators': [10]})"
      ]
     },
     "execution_count": 56,
     "metadata": {},
     "output_type": "execute_result"
    }
   ],
   "source": [
    "%%time\n",
    "\n",
    "clf.fit(train_df, train_targets_df)"
   ]
  },
  {
   "cell_type": "code",
   "execution_count": 57,
   "id": "3bc04b7b",
   "metadata": {},
   "outputs": [
    {
     "data": {
      "text/plain": [
       "dict_keys(['mean_fit_time', 'std_fit_time', 'mean_score_time', 'std_score_time', 'param_max_depth', 'param_n_estimators', 'params', 'split0_test_score', 'split1_test_score', 'split2_test_score', 'split3_test_score', 'split4_test_score', 'mean_test_score', 'std_test_score', 'rank_test_score'])"
      ]
     },
     "execution_count": 57,
     "metadata": {},
     "output_type": "execute_result"
    }
   ],
   "source": [
    "clf.cv_results_.keys()"
   ]
  },
  {
   "cell_type": "code",
   "execution_count": 58,
   "id": "9c9e032a",
   "metadata": {},
   "outputs": [
    {
     "data": {
      "text/plain": [
       "{'mean_fit_time': array([23.340521  , 29.31427464]),\n",
       " 'std_fit_time': array([1.4437754 , 0.84339859]),\n",
       " 'mean_score_time': array([0.10651946, 0.15212078]),\n",
       " 'std_score_time': array([0.00625487, 0.03002014]),\n",
       " 'param_max_depth': masked_array(data=[3, 4],\n",
       "              mask=[False, False],\n",
       "        fill_value='?',\n",
       "             dtype=object),\n",
       " 'param_n_estimators': masked_array(data=[10, 10],\n",
       "              mask=[False, False],\n",
       "        fill_value='?',\n",
       "             dtype=object),\n",
       " 'params': [{'max_depth': 3, 'n_estimators': 10},\n",
       "  {'max_depth': 4, 'n_estimators': 10}],\n",
       " 'split0_test_score': array([0.37341891, 0.39672824]),\n",
       " 'split1_test_score': array([0.37237007, 0.39520977]),\n",
       " 'split2_test_score': array([0.37205698, 0.38955855]),\n",
       " 'split3_test_score': array([0.37294928, 0.39500626]),\n",
       " 'split4_test_score': array([0.37297077, 0.39609261]),\n",
       " 'mean_test_score': array([0.3727532 , 0.39451909]),\n",
       " 'std_test_score': array([0.00048176, 0.00255647]),\n",
       " 'rank_test_score': array([2, 1])}"
      ]
     },
     "execution_count": 58,
     "metadata": {},
     "output_type": "execute_result"
    }
   ],
   "source": [
    "clf.cv_results_"
   ]
  },
  {
   "cell_type": "code",
   "execution_count": 59,
   "id": "c7aa27a8",
   "metadata": {},
   "outputs": [
    {
     "data": {
      "text/plain": [
       "GradientBoostingClassifier(learning_rate=0.01, max_depth=4, min_samples_leaf=5,\n",
       "                           min_samples_split=5, n_estimators=10, subsample=0.9)"
      ]
     },
     "execution_count": 59,
     "metadata": {},
     "output_type": "execute_result"
    }
   ],
   "source": [
    "clf.best_estimator_"
   ]
  },
  {
   "cell_type": "code",
   "execution_count": 60,
   "id": "5e6df81c",
   "metadata": {},
   "outputs": [
    {
     "data": {
      "text/plain": [
       "array([[0.30894421, 0.31107893, 0.20487216, 0.11204268, 0.05184747,\n",
       "        0.01121455]])"
      ]
     },
     "execution_count": 60,
     "metadata": {},
     "output_type": "execute_result"
    }
   ],
   "source": [
    "clf.best_estimator_.predict_proba(single_hand_test_df)"
   ]
  },
  {
   "cell_type": "code",
   "execution_count": 61,
   "id": "f157e1da",
   "metadata": {},
   "outputs": [
    {
     "data": {
      "text/plain": [
       "array([[0.30894421, 0.31107893, 0.20487216, 0.11204268, 0.05184747,\n",
       "        0.01121455]])"
      ]
     },
     "execution_count": 61,
     "metadata": {},
     "output_type": "execute_result"
    }
   ],
   "source": [
    "single_hand_preds = clf.predict_proba(single_hand_test_df)\n",
    "single_hand_preds"
   ]
  },
  {
   "cell_type": "code",
   "execution_count": 64,
   "id": "31357de5",
   "metadata": {},
   "outputs": [],
   "source": [
    "test_preds = clf.best_estimator_.predict(test_df)"
   ]
  },
  {
   "cell_type": "code",
   "execution_count": 81,
   "id": "1998124b",
   "metadata": {},
   "outputs": [],
   "source": [
    "importances = clf.best_estimator_.feature_importances_"
   ]
  },
  {
   "cell_type": "code",
   "execution_count": 82,
   "id": "91b95c6c",
   "metadata": {},
   "outputs": [
    {
     "data": {
      "image/png": "[encoded data removed]",
      "text/plain": [
       "<Figure size 432x288 with 1 Axes>"
      ]
     },
     "metadata": {
      "needs_background": "light"
     },
     "output_type": "display_data"
    }
   ],
   "source": [
    "forest_importances = pd.Series(importances, index=model_features)\n",
    "\n",
    "fig, ax = plt.subplots()\n",
    "forest_importances.plot.bar(ax=ax)\n",
    "ax.set_title(\"Feature importances using MDI\")\n",
    "ax.set_ylabel(\"Mean decrease in impurity\")\n",
    "fig.tight_layout()"
   ]
  },
  {
   "cell_type": "code",
   "execution_count": null,
   "id": "71dbcc96",
   "metadata": {},
   "outputs": [],
   "source": []
  },
  {
   "cell_type": "markdown",
   "id": "1bb5f11c",
   "metadata": {},
   "source": [
    "#### Save out model to disk using joblib"
   ]
  },
  {
   "cell_type": "code",
   "execution_count": null,
   "id": "e1e3f014",
   "metadata": {},
   "outputs": [],
   "source": [
    "import joblib"
   ]
  },
  {
   "cell_type": "code",
   "execution_count": null,
   "id": "4afe64c7",
   "metadata": {},
   "outputs": [],
   "source": [
    "pwd"
   ]
  },
  {
   "cell_type": "code",
   "execution_count": null,
   "id": "d7d3b21c",
   "metadata": {},
   "outputs": [],
   "source": [
    "joblib.dump(classifier, 'C:/Users/jerem/Desktop/nonsense/euchre/models/trick_model_rf_v0.sav')"
   ]
  },
  {
   "cell_type": "code",
   "execution_count": null,
   "id": "3d2a61ac",
   "metadata": {},
   "outputs": [],
   "source": []
  },
  {
   "cell_type": "code",
   "execution_count": null,
   "id": "156f4fff",
   "metadata": {},
   "outputs": [],
   "source": []
  },
  {
   "cell_type": "markdown",
   "id": "8a50c6c1",
   "metadata": {},
   "source": [
    "#### Plot probability output"
   ]
  },
  {
   "cell_type": "code",
   "execution_count": 117,
   "id": "0ac67427",
   "metadata": {},
   "outputs": [
    {
     "data": {
      "image/png": "[encoded data removed]",
      "text/plain": [
       "<Figure size 432x288 with 1 Axes>"
      ]
     },
     "metadata": {
      "needs_background": "light"
     },
     "output_type": "display_data"
    }
   ],
   "source": [
    "fig = plt.figure()\n",
    "ax = fig.add_axes([0,0,1,1])\n",
    "num_tricks_taken = ['0','1','2','3','4','5']\n",
    "ax.bar(num_tricks_taken, single_hand_preds.tolist()[0])\n",
    "\n",
    "plt.xlabel(\"Tricks taken\")\n",
    "plt.ylabel(\"Percent of hands\")\n",
    "plt.title(\"Expected tricks taken\")\n",
    "\n",
    "# ax.bar_label(trick_preds, label_type='center')\n",
    "\n",
    "plt.show()"
   ]
  },
  {
   "cell_type": "code",
   "execution_count": 118,
   "id": "44f46a22",
   "metadata": {},
   "outputs": [],
   "source": [
    "def plot_expected_tricks_taken(expected_tricks_taken):\n",
    "    fig = plt.figure()\n",
    "    ax = fig.add_axes([0,0,1,1])\n",
    "    ax.bar(['0','1','2','3','4','5'], expected_tricks_taken)\n",
    "    plt.xlabel(\"Tricks taken\")\n",
    "    plt.ylabel(\"Percent of hands\")\n",
    "    plt.title(\"Expected tricks taken\")\n",
    "    plt.show()"
   ]
  },
  {
   "cell_type": "code",
   "execution_count": 119,
   "id": "cd4b5418",
   "metadata": {},
   "outputs": [
    {
     "data": {
      "text/plain": [
       "[0.1389676717676556,\n",
       " 0.17065972991605802,\n",
       " 0.2070717971461303,\n",
       " 0.22679958623688826,\n",
       " 0.24971621134846375,\n",
       " 0.00678500358480401]"
      ]
     },
     "execution_count": 119,
     "metadata": {},
     "output_type": "execute_result"
    }
   ],
   "source": [
    "trick_preds = single_hand_preds.tolist()[0]\n",
    "trick_preds"
   ]
  },
  {
   "cell_type": "code",
   "execution_count": 120,
   "id": "b5a33dbd",
   "metadata": {},
   "outputs": [
    {
     "data": {
      "image/png": "[encoded data removed]",
      "text/plain": [
       "<Figure size 432x288 with 1 Axes>"
      ]
     },
     "metadata": {
      "needs_background": "light"
     },
     "output_type": "display_data"
    }
   ],
   "source": [
    "plot_expected_tricks_taken(expected_tricks_taken = trick_preds)"
   ]
  },
  {
   "cell_type": "code",
   "execution_count": null,
   "id": "09b2c9d6",
   "metadata": {},
   "outputs": [],
   "source": []
  },
  {
   "cell_type": "code",
   "execution_count": null,
   "id": "29d729dc",
   "metadata": {},
   "outputs": [],
   "source": []
  },
  {
   "cell_type": "markdown",
   "id": "bc77ee77",
   "metadata": {},
   "source": [
    "### Evalute model\n",
    "Evaluate tricks taken against predicted tricks taken in test data set\n",
    "\n",
    "#### CANNOT be evaluated using these functions against predict_proba output"
   ]
  },
  {
   "cell_type": "code",
   "execution_count": 121,
   "id": "be9883e5",
   "metadata": {},
   "outputs": [],
   "source": [
    "from sklearn.metrics import mean_absolute_error\n",
    "from sklearn.metrics import mean_squared_error\n",
    "from sklearn.metrics import r2_score"
   ]
  },
  {
   "cell_type": "code",
   "execution_count": 122,
   "id": "1681b7dd",
   "metadata": {},
   "outputs": [
    {
     "data": {
      "text/plain": [
       "0.5987497640074678"
      ]
     },
     "execution_count": 122,
     "metadata": {},
     "output_type": "execute_result"
    }
   ],
   "source": [
    "mean_absolute_error(y_true=test_targets_df, y_pred=test_preds)"
   ]
  },
  {
   "cell_type": "code",
   "execution_count": 123,
   "id": "dc612ddf",
   "metadata": {},
   "outputs": [
    {
     "data": {
      "text/plain": [
       "0.871787879423549"
      ]
     },
     "execution_count": 123,
     "metadata": {},
     "output_type": "execute_result"
    }
   ],
   "source": [
    "mean_squared_error(y_true=test_targets_df, y_pred=test_preds)"
   ]
  },
  {
   "cell_type": "code",
   "execution_count": 124,
   "id": "d7c18082",
   "metadata": {},
   "outputs": [
    {
     "data": {
      "text/plain": [
       "0.44361320894775114"
      ]
     },
     "execution_count": 124,
     "metadata": {},
     "output_type": "execute_result"
    }
   ],
   "source": [
    "r2_score(y_true=test_targets_df, y_pred=test_preds)"
   ]
  },
  {
   "cell_type": "code",
   "execution_count": 125,
   "id": "04732545",
   "metadata": {},
   "outputs": [
    {
     "data": {
      "text/plain": [
       "156208    2\n",
       "Name: tricks_won, dtype: int64"
      ]
     },
     "execution_count": 125,
     "metadata": {},
     "output_type": "execute_result"
    }
   ],
   "source": [
    "test_targets_df[0:1]"
   ]
  },
  {
   "cell_type": "code",
   "execution_count": 126,
   "id": "b289e8e7",
   "metadata": {},
   "outputs": [
    {
     "data": {
      "text/plain": [
       "1"
      ]
     },
     "execution_count": 126,
     "metadata": {},
     "output_type": "execute_result"
    }
   ],
   "source": [
    "test_preds[0]"
   ]
  },
  {
   "cell_type": "code",
   "execution_count": 127,
   "id": "a384830b",
   "metadata": {},
   "outputs": [
    {
     "data": {
      "text/plain": [
       "47671"
      ]
     },
     "execution_count": 127,
     "metadata": {},
     "output_type": "execute_result"
    }
   ],
   "source": [
    "len(test_preds)"
   ]
  },
  {
   "cell_type": "markdown",
   "id": "c6d5ff69",
   "metadata": {},
   "source": [
    "#### Breakdown of percent of hands predicted correctly, 1 off, 2 off, etc."
   ]
  },
  {
   "cell_type": "code",
   "execution_count": 128,
   "id": "1b711cb4",
   "metadata": {},
   "outputs": [],
   "source": [
    "results_dict = {str(num): 0 for num in range(0,6)}\n",
    "\n",
    "#for idx, pred in enumerate(test_targets_df[0:100]):\n",
    "for idx, pred in enumerate(test_targets_df):\n",
    "    pred_diff = abs(pred - test_preds[idx])\n",
    "    results_dict[str(pred_diff)] += 1"
   ]
  },
  {
   "cell_type": "code",
   "execution_count": 129,
   "id": "cda1f2d0",
   "metadata": {},
   "outputs": [
    {
     "data": {
      "text/plain": [
       "{'0': 24410, '1': 18991, '2': 3459, '3': 623, '4': 175, '5': 13}"
      ]
     },
     "execution_count": 129,
     "metadata": {},
     "output_type": "execute_result"
    }
   ],
   "source": [
    "results_dict"
   ]
  },
  {
   "cell_type": "code",
   "execution_count": 130,
   "id": "7937119f",
   "metadata": {},
   "outputs": [
    {
     "data": {
      "text/plain": [
       "[24410, 18991, 3459, 623, 175, 13]"
      ]
     },
     "execution_count": 130,
     "metadata": {},
     "output_type": "execute_result"
    }
   ],
   "source": [
    "list(results_dict.values())"
   ]
  },
  {
   "cell_type": "code",
   "execution_count": 131,
   "id": "f612be27",
   "metadata": {},
   "outputs": [
    {
     "data": {
      "image/png": "[encoded data removed]",
      "text/plain": [
       "<Figure size 432x288 with 1 Axes>"
      ]
     },
     "metadata": {
      "needs_background": "light"
     },
     "output_type": "display_data"
    }
   ],
   "source": [
    "fig = plt.figure()\n",
    "ax = fig.add_axes([0,0,1,1])\n",
    "num_tricks_taken = ['0','1','2','3','4','5']\n",
    "percents = [round(100.0*x / sum(results_dict.values()),1) for x in results_dict.values()]\n",
    "graph = ax.bar(num_tricks_taken, percents)\n",
    "\n",
    "i = 0\n",
    "for p in graph:\n",
    "    width = p.get_width()\n",
    "    height = p.get_height()\n",
    "    x,y = p.get_xy()\n",
    "    plt.text(x+width/2,\n",
    "             y+height*1,\n",
    "             str(percents[i])+'%',\n",
    "             ha='center',\n",
    "             weight='bold')\n",
    "    i += 1\n",
    "\n",
    "plt.xlabel(\"Prediction Error\")\n",
    "plt.ylabel(\"Number of hands\")\n",
    "plt.title(\"Tricks Model Error rates\")\n",
    "\n",
    "plt.show()"
   ]
  },
  {
   "cell_type": "code",
   "execution_count": 132,
   "id": "e07ed407",
   "metadata": {},
   "outputs": [],
   "source": [
    "def plot_trick_error_rates(targets_list: list, \n",
    "                           preds_list: list):\n",
    "    \"\"\"\n",
    "    Create bar plot of trick error rates on test preds\n",
    "    \n",
    "    :param: targets_list: list of actuals from test set\n",
    "    :param: preds_list: list of predictions\n",
    "    \"\"\"\n",
    "    results_dict = {str(num): 0 for num in range(0,6)}\n",
    "\n",
    "    for idx, pred in enumerate(targets_list):\n",
    "        pred_diff = abs(pred - preds_list[idx])\n",
    "        results_dict[str(pred_diff)] += 1\n",
    "\n",
    "    fig = plt.figure()\n",
    "    ax = fig.add_axes([0,0,1,1])\n",
    "    percents = [round(100.0*x / sum(results_dict.values()),1) for x in results_dict.values()]\n",
    "    graph = ax.bar(['0','1','2','3','4','5'], percents)\n",
    "\n",
    "    i = 0\n",
    "    for p in graph:\n",
    "        width = p.get_width()\n",
    "        height = p.get_height()\n",
    "        x,y = p.get_xy()\n",
    "        plt.text(x+width/2,\n",
    "                 y+height*1,\n",
    "                 str(percents[i])+'%',\n",
    "                 ha='center',\n",
    "                 weight='bold')\n",
    "        i += 1\n",
    "\n",
    "    plt.xlabel(\"Prediction Error\")\n",
    "    plt.ylabel(\"Number of hands\")\n",
    "    plt.title(\"Tricks Model Error rates\")\n",
    "\n",
    "    plt.show()"
   ]
  },
  {
   "cell_type": "code",
   "execution_count": null,
   "id": "58531fdf",
   "metadata": {},
   "outputs": [],
   "source": []
  },
  {
   "cell_type": "code",
   "execution_count": null,
   "id": "d96d1564",
   "metadata": {},
   "outputs": [],
   "source": []
  },
  {
   "cell_type": "markdown",
   "id": "f913e769",
   "metadata": {},
   "source": [
    "#### Pipeline"
   ]
  },
  {
   "cell_type": "code",
   "execution_count": 133,
   "id": "7ae9bc7b",
   "metadata": {},
   "outputs": [],
   "source": [
    "from sklearn.pipeline import Pipeline\n",
    "from sklearn.compose import ColumnTransformer\n",
    "from sklearn.preprocessing import OneHotEncoder"
   ]
  },
  {
   "cell_type": "code",
   "execution_count": 134,
   "id": "152b2ec5",
   "metadata": {},
   "outputs": [],
   "source": [
    "categorical_columns = ['player_seat']\n",
    "categorical_encoder = OneHotEncoder()"
   ]
  },
  {
   "cell_type": "code",
   "execution_count": 135,
   "id": "5e12e3bc",
   "metadata": {},
   "outputs": [],
   "source": [
    "preprocessing = ColumnTransformer(\n",
    "    [\n",
    "        (\"cat\", categorical_encoder, categorical_columns),\n",
    "    ],\n",
    ")"
   ]
  },
  {
   "cell_type": "code",
   "execution_count": 136,
   "id": "ed755043",
   "metadata": {},
   "outputs": [],
   "source": [
    "rf = Pipeline(\n",
    "    [\n",
    "        ('preprocess', preprocessing),\n",
    "        ('classifier', RandomForestClassifier(random_state=123))\n",
    "    ]\n",
    "\n",
    ")"
   ]
  },
  {
   "cell_type": "code",
   "execution_count": 137,
   "id": "44017d50",
   "metadata": {},
   "outputs": [],
   "source": [
    "#rf.fit(train_df, train_targets_df)"
   ]
  },
  {
   "cell_type": "code",
   "execution_count": 138,
   "id": "0140610d",
   "metadata": {},
   "outputs": [
    {
     "data": {
      "text/plain": [
       "Pipeline(steps=[('preprocess',\n",
       "                 ColumnTransformer(transformers=[('cat', OneHotEncoder(),\n",
       "                                                  ['player_seat'])])),\n",
       "                ('classifier', RandomForestClassifier(random_state=123))])"
      ]
     },
     "execution_count": 138,
     "metadata": {},
     "output_type": "execute_result"
    }
   ],
   "source": [
    "rf"
   ]
  },
  {
   "cell_type": "code",
   "execution_count": 149,
   "id": "bcff86ca",
   "metadata": {},
   "outputs": [],
   "source": [
    "#single_hand_preds = rf.predict_proba(single_hand_test_df)\n",
    "#single_hand_preds"
   ]
  },
  {
   "cell_type": "code",
   "execution_count": null,
   "id": "0945d8ce",
   "metadata": {},
   "outputs": [],
   "source": []
  },
  {
   "cell_type": "markdown",
   "id": "431f4a8c",
   "metadata": {},
   "source": [
    "## Next Steps"
   ]
  },
  {
   "cell_type": "code",
   "execution_count": null,
   "id": "62678b89",
   "metadata": {},
   "outputs": [],
   "source": [
    "# Build separate model for team tricks won\n",
    "\n",
    "# Standardize input features to linear model\n",
    "# Cross-validate tree-based models - RF, GBM, etc.\n",
    "# sklearn pipeline\n",
    "\n",
    "# PyTorch models\n",
    "    # compare PyTorch version vs. sklearn\n",
    "# Classification models to predict likelihood for each score outcome\n",
    "\n",
    "# EUCHRE questions to answer:\n",
    "# Is it possible to take a trick with an off-suit Jack, that wouldn't have been taken with the 10 or 9 ???\n",
    "\n",
    "# Is there ever a time when knowing the current score of the game should affect which card to play?\n",
    "    # If opponent has 9 points, play more aggressively?\n",
    "\n",
    "# Is there ever a time when knowing the current number of tricks taken should affect which card to play?\n",
    "    # If opponents have taken 2 tricks already, play more aggressively?\n",
    "\n",
    "# HOW IS NUM_SUITS calculated???\n",
    "   "
   ]
  },
  {
   "cell_type": "code",
   "execution_count": null,
   "id": "fb266331",
   "metadata": {},
   "outputs": [],
   "source": []
  },
  {
   "cell_type": "markdown",
   "id": "a944b46d",
   "metadata": {},
   "source": [
    "### Write out all hand results to csv local"
   ]
  },
  {
   "cell_type": "code",
   "execution_count": 150,
   "id": "121198b0",
   "metadata": {},
   "outputs": [
    {
     "data": {
      "text/plain": [
       "'C:\\\\Users\\\\jerem\\\\Desktop\\\\nonsense\\\\euchre'"
      ]
     },
     "execution_count": 150,
     "metadata": {},
     "output_type": "execute_result"
    }
   ],
   "source": [
    "pwd"
   ]
  },
  {
   "cell_type": "code",
   "execution_count": 151,
   "id": "92a9cc66",
   "metadata": {},
   "outputs": [],
   "source": [
    "all_hand_results_df = pd.read_csv('all_hand_results.csv')"
   ]
  },
  {
   "cell_type": "code",
   "execution_count": 152,
   "id": "3ad2bf08",
   "metadata": {},
   "outputs": [
    {
     "data": {
      "text/plain": [
       "(476716, 16)"
      ]
     },
     "execution_count": 152,
     "metadata": {},
     "output_type": "execute_result"
    }
   ],
   "source": [
    "all_hand_results_df.shape"
   ]
  },
  {
   "cell_type": "code",
   "execution_count": 157,
   "id": "0773efd6",
   "metadata": {},
   "outputs": [
    {
     "data": {
      "text/plain": [
       "(40000, 16)"
      ]
     },
     "execution_count": 157,
     "metadata": {},
     "output_type": "execute_result"
    }
   ],
   "source": [
    "hand_results_40k_df = all_hand_results_df.head(40000)\n",
    "hand_results_40k_df.shape"
   ]
  },
  {
   "cell_type": "code",
   "execution_count": 158,
   "id": "413a8b50",
   "metadata": {},
   "outputs": [],
   "source": [
    "hand_results_40k_df.to_csv('hand_results_40k.csv', index=False)"
   ]
  },
  {
   "cell_type": "code",
   "execution_count": null,
   "id": "99faa895",
   "metadata": {},
   "outputs": [],
   "source": []
  },
  {
   "cell_type": "code",
   "execution_count": null,
   "id": "72b27ddd",
   "metadata": {},
   "outputs": [],
   "source": []
  },
  {
   "cell_type": "code",
   "execution_count": null,
   "id": "0d0e9f0c",
   "metadata": {},
   "outputs": [],
   "source": []
  }
 ],
 "metadata": {
  "kernelspec": {
   "display_name": "Python 3",
   "language": "python",
   "name": "python3"
  },
  "language_info": {
   "codemirror_mode": {
    "name": "ipython",
    "version": 3
   },
   "file_extension": ".py",
   "mimetype": "text/x-python",
   "name": "python",
   "nbconvert_exporter": "python",
   "pygments_lexer": "ipython3",
   "version": "3.8.8"
  }
 },
 "nbformat": 4,
 "nbformat_minor": 5
}
