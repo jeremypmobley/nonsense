{
 "cells": [
  {
   "cell_type": "markdown",
   "id": "90814574",
   "metadata": {},
   "source": [
    "# Euchre Trick Model\n",
    "Model to estimate the number of tricks a given hand will be able to take  \n",
    "(or maybe the percent likelihood of each number of tricks taken 0-5)"
   ]
  },
  {
   "cell_type": "code",
   "execution_count": 2,
   "id": "636d0012",
   "metadata": {},
   "outputs": [],
   "source": [
    "import pandas as pd\n",
    "import numpy as np\n",
    "import matplotlib.pyplot as plt\n",
    "\n",
    "from sklearn.model_selection import train_test_split\n",
    "from sklearn.preprocessing import StandardScaler"
   ]
  },
  {
   "cell_type": "code",
   "execution_count": 154,
   "id": "43380eca",
   "metadata": {},
   "outputs": [],
   "source": [
    "# from autosklearn.regression import AutoSklearnRegressor"
   ]
  },
  {
   "cell_type": "markdown",
   "id": "95e95dea",
   "metadata": {},
   "source": [
    "### Load in training data"
   ]
  },
  {
   "cell_type": "code",
   "execution_count": 4,
   "id": "d5a44038",
   "metadata": {},
   "outputs": [
    {
     "data": {
      "text/plain": [
       "'C:\\\\Users\\\\jerem\\\\Desktop\\\\nonsense\\\\euchre\\\\notebooks'"
      ]
     },
     "execution_count": 4,
     "metadata": {},
     "output_type": "execute_result"
    }
   ],
   "source": [
    "pwd"
   ]
  },
  {
   "cell_type": "code",
   "execution_count": 5,
   "id": "01eca371",
   "metadata": {},
   "outputs": [],
   "source": [
    "# TODO: move this from local to s3\n",
    "raw_train_df = pd.read_csv('C:\\\\Users\\\\jerem\\\\Desktop\\\\nonsense\\\\euchre\\\\all_hand_results.csv')"
   ]
  },
  {
   "cell_type": "code",
   "execution_count": 6,
   "id": "b87e5344",
   "metadata": {},
   "outputs": [
    {
     "data": {
      "text/plain": [
       "(476716, 16)"
      ]
     },
     "execution_count": 6,
     "metadata": {},
     "output_type": "execute_result"
    }
   ],
   "source": [
    "raw_train_df.shape"
   ]
  },
  {
   "cell_type": "code",
   "execution_count": 7,
   "id": "ec8256ff",
   "metadata": {},
   "outputs": [
    {
     "data": {
      "text/html": [
       "<div>\n",
       "<style scoped>\n",
       "    .dataframe tbody tr th:only-of-type {\n",
       "        vertical-align: middle;\n",
       "    }\n",
       "\n",
       "    .dataframe tbody tr th {\n",
       "        vertical-align: top;\n",
       "    }\n",
       "\n",
       "    .dataframe thead th {\n",
       "        text-align: right;\n",
       "    }\n",
       "</style>\n",
       "<table border=\"1\" class=\"dataframe\">\n",
       "  <thead>\n",
       "    <tr style=\"text-align: right;\">\n",
       "      <th></th>\n",
       "      <th>tricks_won</th>\n",
       "      <th>is_calling_player</th>\n",
       "      <th>teammate_called</th>\n",
       "      <th>has_right</th>\n",
       "      <th>has_left</th>\n",
       "      <th>has_Atrump</th>\n",
       "      <th>has_Ktrump</th>\n",
       "      <th>has_Qtrump</th>\n",
       "      <th>has_Ttrump</th>\n",
       "      <th>has_9trump</th>\n",
       "      <th>num_off_A</th>\n",
       "      <th>num_off_K</th>\n",
       "      <th>num_off_Q</th>\n",
       "      <th>num_suits</th>\n",
       "      <th>partner_tricks</th>\n",
       "      <th>player_seat</th>\n",
       "    </tr>\n",
       "  </thead>\n",
       "  <tbody>\n",
       "    <tr>\n",
       "      <th>0</th>\n",
       "      <td>2</td>\n",
       "      <td>1</td>\n",
       "      <td>0</td>\n",
       "      <td>1</td>\n",
       "      <td>0</td>\n",
       "      <td>0</td>\n",
       "      <td>0</td>\n",
       "      <td>0</td>\n",
       "      <td>1</td>\n",
       "      <td>1</td>\n",
       "      <td>0</td>\n",
       "      <td>1</td>\n",
       "      <td>0</td>\n",
       "      <td>2</td>\n",
       "      <td>1</td>\n",
       "      <td>4</td>\n",
       "    </tr>\n",
       "    <tr>\n",
       "      <th>1</th>\n",
       "      <td>0</td>\n",
       "      <td>0</td>\n",
       "      <td>0</td>\n",
       "      <td>0</td>\n",
       "      <td>0</td>\n",
       "      <td>0</td>\n",
       "      <td>0</td>\n",
       "      <td>0</td>\n",
       "      <td>0</td>\n",
       "      <td>0</td>\n",
       "      <td>0</td>\n",
       "      <td>1</td>\n",
       "      <td>0</td>\n",
       "      <td>3</td>\n",
       "      <td>2</td>\n",
       "      <td>1</td>\n",
       "    </tr>\n",
       "    <tr>\n",
       "      <th>2</th>\n",
       "      <td>1</td>\n",
       "      <td>0</td>\n",
       "      <td>1</td>\n",
       "      <td>0</td>\n",
       "      <td>1</td>\n",
       "      <td>0</td>\n",
       "      <td>1</td>\n",
       "      <td>0</td>\n",
       "      <td>0</td>\n",
       "      <td>0</td>\n",
       "      <td>0</td>\n",
       "      <td>0</td>\n",
       "      <td>1</td>\n",
       "      <td>2</td>\n",
       "      <td>2</td>\n",
       "      <td>2</td>\n",
       "    </tr>\n",
       "    <tr>\n",
       "      <th>3</th>\n",
       "      <td>2</td>\n",
       "      <td>0</td>\n",
       "      <td>0</td>\n",
       "      <td>0</td>\n",
       "      <td>0</td>\n",
       "      <td>0</td>\n",
       "      <td>0</td>\n",
       "      <td>1</td>\n",
       "      <td>0</td>\n",
       "      <td>0</td>\n",
       "      <td>1</td>\n",
       "      <td>1</td>\n",
       "      <td>1</td>\n",
       "      <td>3</td>\n",
       "      <td>0</td>\n",
       "      <td>3</td>\n",
       "    </tr>\n",
       "    <tr>\n",
       "      <th>4</th>\n",
       "      <td>3</td>\n",
       "      <td>1</td>\n",
       "      <td>0</td>\n",
       "      <td>1</td>\n",
       "      <td>0</td>\n",
       "      <td>0</td>\n",
       "      <td>1</td>\n",
       "      <td>0</td>\n",
       "      <td>1</td>\n",
       "      <td>0</td>\n",
       "      <td>0</td>\n",
       "      <td>0</td>\n",
       "      <td>1</td>\n",
       "      <td>2</td>\n",
       "      <td>0</td>\n",
       "      <td>2</td>\n",
       "    </tr>\n",
       "  </tbody>\n",
       "</table>\n",
       "</div>"
      ],
      "text/plain": [
       "   tricks_won  is_calling_player  teammate_called  has_right  has_left  \\\n",
       "0           2                  1                0          1         0   \n",
       "1           0                  0                0          0         0   \n",
       "2           1                  0                1          0         1   \n",
       "3           2                  0                0          0         0   \n",
       "4           3                  1                0          1         0   \n",
       "\n",
       "   has_Atrump  has_Ktrump  has_Qtrump  has_Ttrump  has_9trump  num_off_A  \\\n",
       "0           0           0           0           1           1          0   \n",
       "1           0           0           0           0           0          0   \n",
       "2           0           1           0           0           0          0   \n",
       "3           0           0           1           0           0          1   \n",
       "4           0           1           0           1           0          0   \n",
       "\n",
       "   num_off_K  num_off_Q  num_suits  partner_tricks  player_seat  \n",
       "0          1          0          2               1            4  \n",
       "1          1          0          3               2            1  \n",
       "2          0          1          2               2            2  \n",
       "3          1          1          3               0            3  \n",
       "4          0          1          2               0            2  "
      ]
     },
     "execution_count": 7,
     "metadata": {},
     "output_type": "execute_result"
    }
   ],
   "source": [
    "raw_train_df.head()"
   ]
  },
  {
   "cell_type": "code",
   "execution_count": 10,
   "id": "2f1d5c9c",
   "metadata": {},
   "outputs": [],
   "source": [
    "# raw_train_df['tricks_won'].hist(bins=11)"
   ]
  },
  {
   "cell_type": "code",
   "execution_count": 156,
   "id": "b625bae8",
   "metadata": {},
   "outputs": [
    {
     "data": {
      "text/plain": [
       "3    271763\n",
       "4    133472\n",
       "2     70773\n",
       "1       708\n",
       "Name: num_suits, dtype: int64"
      ]
     },
     "execution_count": 156,
     "metadata": {},
     "output_type": "execute_result"
    }
   ],
   "source": [
    "# raw_train_df['num_suits'].value_counts()"
   ]
  },
  {
   "cell_type": "markdown",
   "id": "db8abe81",
   "metadata": {},
   "source": [
    "#### Features"
   ]
  },
  {
   "cell_type": "code",
   "execution_count": 12,
   "id": "cdb47c14",
   "metadata": {},
   "outputs": [],
   "source": [
    "# create team_tricks_won\n",
    "raw_train_df['team_tricks_won'] = raw_train_df['partner_tricks'] + raw_train_df['tricks_won']"
   ]
  },
  {
   "cell_type": "code",
   "execution_count": 13,
   "id": "811240dd",
   "metadata": {},
   "outputs": [],
   "source": [
    "def make_player_seat_categorical(df):\n",
    "    \"\"\"\n",
    "    Function to transform player seat field into categorical columns from given df\n",
    "    \"\"\"\n",
    "    df['player_seat1'] = np.where(df['player_seat']==1,1,0)\n",
    "    df['player_seat2'] = np.where(df['player_seat']==2,1,0)\n",
    "    df['player_seat3'] = np.where(df['player_seat']==3,1,0)\n",
    "    df['player_seat4'] = np.where(df['player_seat']==4,1,0)\n",
    "    return df"
   ]
  },
  {
   "cell_type": "code",
   "execution_count": 14,
   "id": "69c80858",
   "metadata": {},
   "outputs": [],
   "source": [
    "raw_train_df = make_player_seat_categorical(raw_train_df)"
   ]
  },
  {
   "cell_type": "code",
   "execution_count": 15,
   "id": "f9cb778d",
   "metadata": {},
   "outputs": [
    {
     "data": {
      "text/html": [
       "<div>\n",
       "<style scoped>\n",
       "    .dataframe tbody tr th:only-of-type {\n",
       "        vertical-align: middle;\n",
       "    }\n",
       "\n",
       "    .dataframe tbody tr th {\n",
       "        vertical-align: top;\n",
       "    }\n",
       "\n",
       "    .dataframe thead th {\n",
       "        text-align: right;\n",
       "    }\n",
       "</style>\n",
       "<table border=\"1\" class=\"dataframe\">\n",
       "  <thead>\n",
       "    <tr style=\"text-align: right;\">\n",
       "      <th></th>\n",
       "      <th>tricks_won</th>\n",
       "      <th>is_calling_player</th>\n",
       "      <th>teammate_called</th>\n",
       "      <th>has_right</th>\n",
       "      <th>has_left</th>\n",
       "      <th>has_Atrump</th>\n",
       "      <th>has_Ktrump</th>\n",
       "      <th>has_Qtrump</th>\n",
       "      <th>has_Ttrump</th>\n",
       "      <th>has_9trump</th>\n",
       "      <th>...</th>\n",
       "      <th>num_off_K</th>\n",
       "      <th>num_off_Q</th>\n",
       "      <th>num_suits</th>\n",
       "      <th>partner_tricks</th>\n",
       "      <th>player_seat</th>\n",
       "      <th>team_tricks_won</th>\n",
       "      <th>player_seat1</th>\n",
       "      <th>player_seat2</th>\n",
       "      <th>player_seat3</th>\n",
       "      <th>player_seat4</th>\n",
       "    </tr>\n",
       "  </thead>\n",
       "  <tbody>\n",
       "    <tr>\n",
       "      <th>0</th>\n",
       "      <td>2</td>\n",
       "      <td>1</td>\n",
       "      <td>0</td>\n",
       "      <td>1</td>\n",
       "      <td>0</td>\n",
       "      <td>0</td>\n",
       "      <td>0</td>\n",
       "      <td>0</td>\n",
       "      <td>1</td>\n",
       "      <td>1</td>\n",
       "      <td>...</td>\n",
       "      <td>1</td>\n",
       "      <td>0</td>\n",
       "      <td>2</td>\n",
       "      <td>1</td>\n",
       "      <td>4</td>\n",
       "      <td>3</td>\n",
       "      <td>0</td>\n",
       "      <td>0</td>\n",
       "      <td>0</td>\n",
       "      <td>1</td>\n",
       "    </tr>\n",
       "    <tr>\n",
       "      <th>1</th>\n",
       "      <td>0</td>\n",
       "      <td>0</td>\n",
       "      <td>0</td>\n",
       "      <td>0</td>\n",
       "      <td>0</td>\n",
       "      <td>0</td>\n",
       "      <td>0</td>\n",
       "      <td>0</td>\n",
       "      <td>0</td>\n",
       "      <td>0</td>\n",
       "      <td>...</td>\n",
       "      <td>1</td>\n",
       "      <td>0</td>\n",
       "      <td>3</td>\n",
       "      <td>2</td>\n",
       "      <td>1</td>\n",
       "      <td>2</td>\n",
       "      <td>1</td>\n",
       "      <td>0</td>\n",
       "      <td>0</td>\n",
       "      <td>0</td>\n",
       "    </tr>\n",
       "    <tr>\n",
       "      <th>2</th>\n",
       "      <td>1</td>\n",
       "      <td>0</td>\n",
       "      <td>1</td>\n",
       "      <td>0</td>\n",
       "      <td>1</td>\n",
       "      <td>0</td>\n",
       "      <td>1</td>\n",
       "      <td>0</td>\n",
       "      <td>0</td>\n",
       "      <td>0</td>\n",
       "      <td>...</td>\n",
       "      <td>0</td>\n",
       "      <td>1</td>\n",
       "      <td>2</td>\n",
       "      <td>2</td>\n",
       "      <td>2</td>\n",
       "      <td>3</td>\n",
       "      <td>0</td>\n",
       "      <td>1</td>\n",
       "      <td>0</td>\n",
       "      <td>0</td>\n",
       "    </tr>\n",
       "    <tr>\n",
       "      <th>3</th>\n",
       "      <td>2</td>\n",
       "      <td>0</td>\n",
       "      <td>0</td>\n",
       "      <td>0</td>\n",
       "      <td>0</td>\n",
       "      <td>0</td>\n",
       "      <td>0</td>\n",
       "      <td>1</td>\n",
       "      <td>0</td>\n",
       "      <td>0</td>\n",
       "      <td>...</td>\n",
       "      <td>1</td>\n",
       "      <td>1</td>\n",
       "      <td>3</td>\n",
       "      <td>0</td>\n",
       "      <td>3</td>\n",
       "      <td>2</td>\n",
       "      <td>0</td>\n",
       "      <td>0</td>\n",
       "      <td>1</td>\n",
       "      <td>0</td>\n",
       "    </tr>\n",
       "    <tr>\n",
       "      <th>4</th>\n",
       "      <td>3</td>\n",
       "      <td>1</td>\n",
       "      <td>0</td>\n",
       "      <td>1</td>\n",
       "      <td>0</td>\n",
       "      <td>0</td>\n",
       "      <td>1</td>\n",
       "      <td>0</td>\n",
       "      <td>1</td>\n",
       "      <td>0</td>\n",
       "      <td>...</td>\n",
       "      <td>0</td>\n",
       "      <td>1</td>\n",
       "      <td>2</td>\n",
       "      <td>0</td>\n",
       "      <td>2</td>\n",
       "      <td>3</td>\n",
       "      <td>0</td>\n",
       "      <td>1</td>\n",
       "      <td>0</td>\n",
       "      <td>0</td>\n",
       "    </tr>\n",
       "  </tbody>\n",
       "</table>\n",
       "<p>5 rows × 21 columns</p>\n",
       "</div>"
      ],
      "text/plain": [
       "   tricks_won  is_calling_player  teammate_called  has_right  has_left  \\\n",
       "0           2                  1                0          1         0   \n",
       "1           0                  0                0          0         0   \n",
       "2           1                  0                1          0         1   \n",
       "3           2                  0                0          0         0   \n",
       "4           3                  1                0          1         0   \n",
       "\n",
       "   has_Atrump  has_Ktrump  has_Qtrump  has_Ttrump  has_9trump  ...  num_off_K  \\\n",
       "0           0           0           0           1           1  ...          1   \n",
       "1           0           0           0           0           0  ...          1   \n",
       "2           0           1           0           0           0  ...          0   \n",
       "3           0           0           1           0           0  ...          1   \n",
       "4           0           1           0           1           0  ...          0   \n",
       "\n",
       "   num_off_Q  num_suits  partner_tricks  player_seat  team_tricks_won  \\\n",
       "0          0          2               1            4                3   \n",
       "1          0          3               2            1                2   \n",
       "2          1          2               2            2                3   \n",
       "3          1          3               0            3                2   \n",
       "4          1          2               0            2                3   \n",
       "\n",
       "   player_seat1  player_seat2  player_seat3  player_seat4  \n",
       "0             0             0             0             1  \n",
       "1             1             0             0             0  \n",
       "2             0             1             0             0  \n",
       "3             0             0             1             0  \n",
       "4             0             1             0             0  \n",
       "\n",
       "[5 rows x 21 columns]"
      ]
     },
     "execution_count": 15,
     "metadata": {},
     "output_type": "execute_result"
    }
   ],
   "source": [
    "raw_train_df.head()"
   ]
  },
  {
   "cell_type": "code",
   "execution_count": null,
   "id": "4aba0897",
   "metadata": {},
   "outputs": [],
   "source": []
  },
  {
   "cell_type": "markdown",
   "id": "611d9e96",
   "metadata": {},
   "source": [
    "### Create train/test/validation splits"
   ]
  },
  {
   "cell_type": "code",
   "execution_count": 200,
   "id": "d1fd4440",
   "metadata": {},
   "outputs": [],
   "source": [
    "model_features = ['has_right', 'has_left',\n",
    "                  'has_Atrump', 'has_Ktrump', 'has_Qtrump', 'has_Ttrump', 'has_9trump', \n",
    "                  'num_off_A', 'num_off_K', 'num_off_Q', 'num_suits', \n",
    "                  'player_seat1', 'player_seat2', 'player_seat3', 'player_seat4'\n",
    "                 ]"
   ]
  },
  {
   "cell_type": "code",
   "execution_count": 201,
   "id": "d71acabb",
   "metadata": {},
   "outputs": [],
   "source": [
    "TEST_SIZE = 0.2\n",
    "VALID_SIZE = 0.1"
   ]
  },
  {
   "cell_type": "code",
   "execution_count": 202,
   "id": "8c3c25a9",
   "metadata": {},
   "outputs": [],
   "source": [
    "train_df, test_valid_df, train_targets_df, test_valid_targets_df = train_test_split(raw_train_df[model_features], \n",
    "                                                                        raw_train_df['tricks_won'], \n",
    "                                                                        test_size=(TEST_SIZE+VALID_SIZE), \n",
    "                                                                        random_state=123)"
   ]
  },
  {
   "cell_type": "code",
   "execution_count": 203,
   "id": "fd6e8e38",
   "metadata": {},
   "outputs": [],
   "source": [
    "test_df, valid_df, test_targets_df, valid_targets_df = train_test_split(test_valid_df, \n",
    "                                                                        test_valid_targets_df, \n",
    "                                                                        test_size=(TEST_SIZE/(VALID_SIZE+TEST_SIZE)), \n",
    "                                                                        random_state=123)"
   ]
  },
  {
   "cell_type": "code",
   "execution_count": 204,
   "id": "3fd64cc5",
   "metadata": {},
   "outputs": [
    {
     "name": "stdout",
     "output_type": "stream",
     "text": [
      "(47671, 15)\n",
      "(47671,)\n",
      "(95344, 15)\n",
      "(95344,)\n",
      "(333701, 15)\n",
      "(333701,)\n"
     ]
    }
   ],
   "source": [
    "print(test_df.shape)\n",
    "print(test_targets_df.shape)\n",
    "print(valid_df.shape)\n",
    "print(valid_targets_df.shape)\n",
    "print(train_df.shape)\n",
    "print(train_targets_df.shape)"
   ]
  },
  {
   "cell_type": "code",
   "execution_count": null,
   "id": "3a5d76a4",
   "metadata": {},
   "outputs": [],
   "source": []
  },
  {
   "cell_type": "markdown",
   "id": "fae60676",
   "metadata": {},
   "source": [
    "#### Scale Features"
   ]
  },
  {
   "cell_type": "code",
   "execution_count": 21,
   "id": "690115a7",
   "metadata": {},
   "outputs": [],
   "source": [
    "# sc = StandardScaler()\n",
    "# train_df = sc.fit_transform(train_df)\n",
    "# test_df = sc.transform(test_df)\n",
    "# valid_df = sc.transform(valid_df)"
   ]
  },
  {
   "cell_type": "code",
   "execution_count": 22,
   "id": "8a52dc22",
   "metadata": {},
   "outputs": [],
   "source": [
    "# sc = StandardScaler()\n",
    "# train_scaled_df = sc.fit_transform(train_df)\n",
    "# test_scaled_df = sc.transform(test_df)\n",
    "# valid_scaled_df = sc.transform(valid_df)"
   ]
  },
  {
   "cell_type": "code",
   "execution_count": 155,
   "id": "d3515608",
   "metadata": {},
   "outputs": [
    {
     "data": {
      "text/plain": [
       "has_right       int64\n",
       "has_left        int64\n",
       "has_Atrump      int64\n",
       "has_Ktrump      int64\n",
       "has_Qtrump      int64\n",
       "has_Ttrump      int64\n",
       "has_9trump      int64\n",
       "num_off_A       int64\n",
       "num_off_K       int64\n",
       "num_off_Q       int64\n",
       "num_suits       int64\n",
       "player_seat1    int32\n",
       "player_seat2    int32\n",
       "player_seat3    int32\n",
       "player_seat4    int32\n",
       "dtype: object"
      ]
     },
     "execution_count": 155,
     "metadata": {},
     "output_type": "execute_result"
    }
   ],
   "source": [
    "train_df.dtypes"
   ]
  },
  {
   "cell_type": "code",
   "execution_count": 23,
   "id": "44f46a22",
   "metadata": {},
   "outputs": [],
   "source": [
    "def plot_expected_tricks_taken(expected_tricks_taken):\n",
    "    fig = plt.figure()\n",
    "    ax = fig.add_axes([0,0,1,1])\n",
    "    ax.bar(['0','1','2','3','4','5'], expected_tricks_taken)\n",
    "    plt.xlabel(\"Tricks taken\")\n",
    "    plt.ylabel(\"Percent of hands\")\n",
    "    plt.title(\"Expected tricks taken\")\n",
    "    plt.show()"
   ]
  },
  {
   "cell_type": "markdown",
   "id": "a30b2555",
   "metadata": {},
   "source": [
    "## Modeling"
   ]
  },
  {
   "cell_type": "markdown",
   "id": "043fb7a2",
   "metadata": {},
   "source": [
    "#### Linear Regression"
   ]
  },
  {
   "cell_type": "code",
   "execution_count": 123,
   "id": "2883fec1",
   "metadata": {},
   "outputs": [],
   "source": [
    "from sklearn.linear_model import LinearRegression"
   ]
  },
  {
   "cell_type": "code",
   "execution_count": 124,
   "id": "6be1f8cc",
   "metadata": {},
   "outputs": [],
   "source": [
    "reg = LinearRegression().fit(train_df, train_targets_df)"
   ]
  },
  {
   "cell_type": "code",
   "execution_count": 125,
   "id": "c8871039",
   "metadata": {},
   "outputs": [
    {
     "data": {
      "text/plain": [
       "Index(['has_right', 'has_left', 'has_Atrump', 'has_Ktrump', 'has_Qtrump',\n",
       "       'has_Ttrump', 'has_9trump', 'num_off_A', 'num_off_K', 'num_off_Q',\n",
       "       'num_suits', 'player_seat1', 'player_seat2', 'player_seat3',\n",
       "       'player_seat4'],\n",
       "      dtype='object')"
      ]
     },
     "execution_count": 125,
     "metadata": {},
     "output_type": "execute_result"
    }
   ],
   "source": [
    "train_df.columns"
   ]
  },
  {
   "cell_type": "code",
   "execution_count": 126,
   "id": "a4fcb9a7",
   "metadata": {},
   "outputs": [
    {
     "name": "stdout",
     "output_type": "stream",
     "text": [
      "has_right: 1.5894351036489762\n",
      "has_left: 0.8550508336416692\n",
      "has_Atrump: 0.7123929287884055\n",
      "has_Ktrump: 0.7671638880762583\n",
      "has_Qtrump: 0.7120936965896363\n",
      "has_Ttrump: 0.6606754554952067\n",
      "has_9trump: 0.5950882208591574\n",
      "num_off_A: 0.5366528551001918\n",
      "num_off_K: 0.3178784048675371\n",
      "num_off_Q: 0.04083404139300358\n",
      "num_suits: -0.2735184825865676\n",
      "player_seat1: -1050749892467.4124\n",
      "player_seat2: -1050749892467.4233\n",
      "player_seat3: -1050749892467.3961\n",
      "player_seat4: -1050749892467.4213\n"
     ]
    }
   ],
   "source": [
    "# reg.coef_\n",
    "for coef in range(len(reg.coef_)):\n",
    "    print(f'{train_df.columns[coef]}: {reg.coef_[coef]}')"
   ]
  },
  {
   "cell_type": "code",
   "execution_count": 127,
   "id": "99615104",
   "metadata": {},
   "outputs": [
    {
     "data": {
      "text/plain": [
       "array([1.59277344, 0.83007812, 1.18530273, 2.73217773, 0.32226562])"
      ]
     },
     "execution_count": 127,
     "metadata": {},
     "output_type": "execute_result"
    }
   ],
   "source": [
    "test_preds = reg.predict(test_df)\n",
    "test_preds[0:5]"
   ]
  },
  {
   "cell_type": "code",
   "execution_count": 128,
   "id": "c90a5b12",
   "metadata": {},
   "outputs": [
    {
     "data": {
      "text/plain": [
       "[2, 1, 1, 3, 0]"
      ]
     },
     "execution_count": 128,
     "metadata": {},
     "output_type": "execute_result"
    }
   ],
   "source": [
    "test_preds_rounded = [round(pred) for pred in test_preds]\n",
    "test_preds_rounded[0:5]"
   ]
  },
  {
   "cell_type": "code",
   "execution_count": 129,
   "id": "e07ed407",
   "metadata": {},
   "outputs": [],
   "source": [
    "def plot_trick_error_rates(targets_list: list, \n",
    "                           preds_list: list):\n",
    "    \"\"\"\n",
    "    Create bar plot of trick error rates on test preds\n",
    "    \n",
    "    :param: targets_list: list of actuals from test set\n",
    "    :param: preds_list: list of predictions\n",
    "    \"\"\"\n",
    "    results_dict = {str(num): 0 for num in range(0,6)}\n",
    "\n",
    "    for idx, pred in enumerate(targets_list):\n",
    "        pred_diff = abs(pred - preds_list[idx])\n",
    "        results_dict[str(pred_diff)] += 1\n",
    "\n",
    "    fig = plt.figure()\n",
    "    ax = fig.add_axes([0,0,1,1])\n",
    "    percents = [round(100.0*x / sum(results_dict.values()),1) for x in results_dict.values()]\n",
    "    graph = ax.bar(['0','1','2','3','4','5'], percents)\n",
    "\n",
    "    i = 0\n",
    "    for p in graph:\n",
    "        width = p.get_width()\n",
    "        height = p.get_height()\n",
    "        x,y = p.get_xy()\n",
    "        plt.text(x+width/2,\n",
    "                 y+height*1,\n",
    "                 str(percents[i])+'%',\n",
    "                 ha='center',\n",
    "                 weight='bold')\n",
    "        i += 1\n",
    "\n",
    "    plt.xlabel(\"Prediction Error\")\n",
    "    plt.ylabel(\"Number of hands\")\n",
    "    plt.title(\"Tricks Model Error rates\")\n",
    "\n",
    "    plt.show()"
   ]
  },
  {
   "cell_type": "code",
   "execution_count": 130,
   "id": "8b7e41da",
   "metadata": {},
   "outputs": [
    {
     "data": {
      "image/png": "[encoded data removed]",
      "text/plain": [
       "<Figure size 432x288 with 1 Axes>"
      ]
     },
     "metadata": {
      "needs_background": "light"
     },
     "output_type": "display_data"
    }
   ],
   "source": [
    "plot_trick_error_rates(targets_list = test_targets_df, \n",
    "                       preds_list=test_preds_rounded)"
   ]
  },
  {
   "cell_type": "code",
   "execution_count": 131,
   "id": "b6201700",
   "metadata": {},
   "outputs": [],
   "source": [
    "def print_pred_eval_kpis(y_true, y_pred):\n",
    "    \"\"\"\n",
    "    Prints model evaluation kpis\n",
    "    \"\"\"\n",
    "    \n",
    "    import numpy as np\n",
    "    from sklearn.metrics import mean_squared_error, mean_absolute_error, median_absolute_error\n",
    "    from sklearn.metrics import r2_score, explained_variance_score\n",
    "    from sklearn.metrics import precision_score, recall_score, f1_score\n",
    "    from sklearn.metrics import roc_curve, roc_auc_score, log_loss\n",
    "\n",
    "    # Assuming y_true contains actual target values and y_pred contains predicted values\n",
    "\n",
    "    # Regression Metrics\n",
    "    mse = mean_squared_error(y_true, y_pred)\n",
    "    mae = mean_absolute_error(y_true, y_pred)\n",
    "    medae = median_absolute_error(y_true, y_pred)\n",
    "    r2 = r2_score(y_true, y_pred)\n",
    "    explained_var = explained_variance_score(y_true, y_pred)\n",
    "\n",
    "    # Print or display the calculated metrics\n",
    "    print(\"Regression Metrics:\")\n",
    "    print(f\"MSE: {mse}\")\n",
    "    print(f\"MAE: {mae}\")\n",
    "    print(f\"Median Absolute Error: {medae}\")\n",
    "    print(f\"R-squared: {r2}\")\n",
    "    print(f\"Explained Variance: {explained_var}\")"
   ]
  },
  {
   "cell_type": "code",
   "execution_count": 132,
   "id": "fccbbdfd",
   "metadata": {},
   "outputs": [
    {
     "name": "stdout",
     "output_type": "stream",
     "text": [
      "Regression Metrics:\n",
      "MSE: 0.46098725879949554\n",
      "MAE: 0.5184933360994171\n",
      "Median Absolute Error: 0.4041748046875\n",
      "R-squared: 0.7057917095509282\n",
      "Explained Variance: 0.7057990335013125\n"
     ]
    }
   ],
   "source": [
    "print_pred_eval_kpis(y_true=test_targets_df, y_pred=test_preds)"
   ]
  },
  {
   "cell_type": "code",
   "execution_count": 133,
   "id": "49506f02",
   "metadata": {},
   "outputs": [
    {
     "name": "stdout",
     "output_type": "stream",
     "text": [
      "Regression Metrics:\n",
      "MSE: 0.5504814247655807\n",
      "MAE: 0.4648108913175725\n",
      "Median Absolute Error: 0.0\n",
      "R-squared: 0.6486753249406119\n",
      "Explained Variance: 0.6488176946003577\n"
     ]
    }
   ],
   "source": [
    "print_pred_eval_kpis(y_true=test_targets_df, y_pred=test_preds_rounded)"
   ]
  },
  {
   "cell_type": "code",
   "execution_count": 134,
   "id": "a11e4920",
   "metadata": {},
   "outputs": [],
   "source": [
    "valid_preds_linreg = reg.predict(valid_df)"
   ]
  },
  {
   "cell_type": "code",
   "execution_count": 135,
   "id": "10b49083",
   "metadata": {},
   "outputs": [],
   "source": [
    "valid_preds_linreg_rounded = [round(pred) for pred in valid_preds_linreg]"
   ]
  },
  {
   "cell_type": "code",
   "execution_count": 137,
   "id": "f4ca22cc",
   "metadata": {},
   "outputs": [
    {
     "name": "stdout",
     "output_type": "stream",
     "text": [
      "Regression Metrics:\n",
      "MSE: 0.4527751502331973\n",
      "MAE: 0.5155634642407526\n",
      "Median Absolute Error: 0.4041748046875\n",
      "R-squared: 0.7039696597477729\n",
      "Explained Variance: 0.7039696680591688\n"
     ]
    }
   ],
   "source": [
    "print_pred_eval_kpis(y_true=valid_targets_df, y_pred=valid_preds_linreg)"
   ]
  },
  {
   "cell_type": "code",
   "execution_count": 138,
   "id": "0814f334",
   "metadata": {},
   "outputs": [
    {
     "name": "stdout",
     "output_type": "stream",
     "text": [
      "Regression Metrics:\n",
      "MSE: 0.5412296526262795\n",
      "MAE: 0.4622314985735862\n",
      "Median Absolute Error: 0.0\n",
      "R-squared: 0.6461369442668567\n",
      "Explained Variance: 0.6463268655498512\n"
     ]
    }
   ],
   "source": [
    "print_pred_eval_kpis(y_true=valid_targets_df, y_pred=valid_preds_linreg_rounded)"
   ]
  },
  {
   "cell_type": "code",
   "execution_count": 57,
   "id": "69a32532",
   "metadata": {},
   "outputs": [
    {
     "data": {
      "image/png": "[encoded data removed]",
      "text/plain": [
       "<Figure size 432x288 with 1 Axes>"
      ]
     },
     "metadata": {
      "needs_background": "light"
     },
     "output_type": "display_data"
    }
   ],
   "source": [
    "plot_trick_error_rates(targets_list = valid_targets_df, \n",
    "                       preds_list=valid_preds_linreg_rounded)"
   ]
  },
  {
   "cell_type": "code",
   "execution_count": null,
   "id": "cbb739f9",
   "metadata": {},
   "outputs": [],
   "source": []
  },
  {
   "cell_type": "code",
   "execution_count": null,
   "id": "b031fd41",
   "metadata": {},
   "outputs": [],
   "source": []
  },
  {
   "cell_type": "code",
   "execution_count": null,
   "id": "cfd0caad",
   "metadata": {},
   "outputs": [],
   "source": []
  },
  {
   "cell_type": "markdown",
   "id": "c1660d00",
   "metadata": {},
   "source": [
    "#### Test single hand manually"
   ]
  },
  {
   "cell_type": "code",
   "execution_count": 58,
   "id": "b9b9f322",
   "metadata": {},
   "outputs": [
    {
     "data": {
      "text/html": [
       "<div>\n",
       "<style scoped>\n",
       "    .dataframe tbody tr th:only-of-type {\n",
       "        vertical-align: middle;\n",
       "    }\n",
       "\n",
       "    .dataframe tbody tr th {\n",
       "        vertical-align: top;\n",
       "    }\n",
       "\n",
       "    .dataframe thead th {\n",
       "        text-align: right;\n",
       "    }\n",
       "</style>\n",
       "<table border=\"1\" class=\"dataframe\">\n",
       "  <thead>\n",
       "    <tr style=\"text-align: right;\">\n",
       "      <th></th>\n",
       "      <th>has_right</th>\n",
       "      <th>has_left</th>\n",
       "      <th>has_Atrump</th>\n",
       "      <th>has_Ktrump</th>\n",
       "      <th>has_Qtrump</th>\n",
       "      <th>has_Ttrump</th>\n",
       "      <th>has_9trump</th>\n",
       "      <th>num_off_A</th>\n",
       "      <th>num_off_K</th>\n",
       "      <th>num_off_Q</th>\n",
       "      <th>num_suits</th>\n",
       "      <th>player_seat1</th>\n",
       "      <th>player_seat2</th>\n",
       "      <th>player_seat3</th>\n",
       "      <th>player_seat4</th>\n",
       "    </tr>\n",
       "  </thead>\n",
       "  <tbody>\n",
       "    <tr>\n",
       "      <th>0</th>\n",
       "      <td>0</td>\n",
       "      <td>0</td>\n",
       "      <td>0</td>\n",
       "      <td>0</td>\n",
       "      <td>0</td>\n",
       "      <td>0</td>\n",
       "      <td>0</td>\n",
       "      <td>0</td>\n",
       "      <td>0</td>\n",
       "      <td>0</td>\n",
       "      <td>0</td>\n",
       "      <td>0</td>\n",
       "      <td>0</td>\n",
       "      <td>0</td>\n",
       "      <td>0</td>\n",
       "    </tr>\n",
       "  </tbody>\n",
       "</table>\n",
       "</div>"
      ],
      "text/plain": [
       "   has_right  has_left  has_Atrump  has_Ktrump  has_Qtrump  has_Ttrump  \\\n",
       "0          0         0           0           0           0           0   \n",
       "\n",
       "   has_9trump  num_off_A  num_off_K  num_off_Q  num_suits  player_seat1  \\\n",
       "0           0          0          0          0          0             0   \n",
       "\n",
       "   player_seat2  player_seat3  player_seat4  \n",
       "0             0             0             0  "
      ]
     },
     "execution_count": 58,
     "metadata": {},
     "output_type": "execute_result"
    }
   ],
   "source": [
    "hand = {feature:[0] for feature in model_features}\n",
    "single_hand_test_df = pd.DataFrame(hand)\n",
    "single_hand_test_df"
   ]
  },
  {
   "cell_type": "code",
   "execution_count": 59,
   "id": "44d59acf",
   "metadata": {},
   "outputs": [],
   "source": [
    "single_hand_test_df['player_seat1'] = 0\n",
    "single_hand_test_df['player_seat2'] = 1\n",
    "single_hand_test_df['player_seat3'] = 0\n",
    "single_hand_test_df['player_seat4'] = 0\n",
    "single_hand_test_df['num_suits'] = 3\n",
    "single_hand_test_df['has_right'] = 0\n",
    "single_hand_test_df['has_left'] = 0\n",
    "single_hand_test_df['has_Atrump'] = 0\n",
    "single_hand_test_df['has_Ktrump'] = 1\n",
    "single_hand_test_df['has_Qtrump'] = 1\n",
    "single_hand_test_df['has_Ttrump'] = 1\n",
    "single_hand_test_df['has_9trump'] = 0\n",
    "single_hand_test_df['num_off_Q'] = 2\n",
    "single_hand_test_df['num_off_K'] = 0\n",
    "single_hand_test_df['num_off_A'] = 0"
   ]
  },
  {
   "cell_type": "code",
   "execution_count": 60,
   "id": "ccd9edc7",
   "metadata": {},
   "outputs": [
    {
     "data": {
      "text/plain": [
       "array([1.87719727])"
      ]
     },
     "execution_count": 60,
     "metadata": {},
     "output_type": "execute_result"
    }
   ],
   "source": [
    "single_test_pred = reg.predict(single_hand_test_df)\n",
    "single_test_pred"
   ]
  },
  {
   "cell_type": "code",
   "execution_count": null,
   "id": "94d0a75a",
   "metadata": {},
   "outputs": [],
   "source": []
  },
  {
   "cell_type": "markdown",
   "id": "f2a4bace",
   "metadata": {},
   "source": [
    "### Regularized linear regression"
   ]
  },
  {
   "cell_type": "markdown",
   "id": "a8bcbc72",
   "metadata": {},
   "source": [
    "#### Ridge"
   ]
  },
  {
   "cell_type": "code",
   "execution_count": 61,
   "id": "22569447",
   "metadata": {},
   "outputs": [],
   "source": [
    "from sklearn.linear_model import Ridge"
   ]
  },
  {
   "cell_type": "code",
   "execution_count": 62,
   "id": "69fdff0e",
   "metadata": {},
   "outputs": [],
   "source": [
    "ridge = Ridge(alpha=0.8).fit(train_df, train_targets_df)"
   ]
  },
  {
   "cell_type": "code",
   "execution_count": 63,
   "id": "a54c8a1c",
   "metadata": {},
   "outputs": [
    {
     "data": {
      "text/plain": [
       "0.7057946831238937"
      ]
     },
     "execution_count": 63,
     "metadata": {},
     "output_type": "execute_result"
    }
   ],
   "source": [
    "ridge.score(test_df, test_targets_df)"
   ]
  },
  {
   "cell_type": "code",
   "execution_count": 64,
   "id": "fc70e7fa",
   "metadata": {},
   "outputs": [
    {
     "name": "stdout",
     "output_type": "stream",
     "text": [
      "has_right: 1.5887862079485149\n",
      "has_left: 0.8557568454107107\n",
      "has_Atrump: 0.7124274302871323\n",
      "has_Ktrump: 0.7687041915138149\n",
      "has_Qtrump: 0.7123446686134777\n",
      "has_Ttrump: 0.6607680920308198\n",
      "has_9trump: 0.5949755502601947\n",
      "num_off_A: 0.5367612316101913\n",
      "num_off_K: 0.3179489390691507\n",
      "num_off_Q: 0.04082015539306586\n",
      "num_suits: -0.27351084862035857\n",
      "player_seat1: -0.0014406423761887794\n",
      "player_seat2: -0.009639785985339808\n",
      "player_seat3: 0.017931902520316133\n",
      "player_seat4: -0.006851474733172855\n"
     ]
    }
   ],
   "source": [
    "# ridge.coef_\n",
    "for coef in range(len(ridge.coef_)):\n",
    "    print(f'{train_df.columns[coef]}: {ridge.coef_[coef]}')"
   ]
  },
  {
   "cell_type": "code",
   "execution_count": 65,
   "id": "0b9b2e5e",
   "metadata": {},
   "outputs": [
    {
     "data": {
      "text/plain": [
       "array([1.59235438, 0.83107108, 1.18622224, 2.73431886, 0.32260899])"
      ]
     },
     "execution_count": 65,
     "metadata": {},
     "output_type": "execute_result"
    }
   ],
   "source": [
    "test_preds = ridge.predict(test_df)\n",
    "test_preds[0:5]"
   ]
  },
  {
   "cell_type": "code",
   "execution_count": 66,
   "id": "7e7e3162",
   "metadata": {},
   "outputs": [
    {
     "data": {
      "text/plain": [
       "[2, 1, 1, 3, 0]"
      ]
     },
     "execution_count": 66,
     "metadata": {},
     "output_type": "execute_result"
    }
   ],
   "source": [
    "test_preds_rounded = [round(pred) for pred in test_preds]\n",
    "test_preds_rounded[0:5]"
   ]
  },
  {
   "cell_type": "code",
   "execution_count": 67,
   "id": "edce5ea7",
   "metadata": {},
   "outputs": [
    {
     "data": {
      "image/png": "[encoded data removed]",
      "text/plain": [
       "<Figure size 432x288 with 1 Axes>"
      ]
     },
     "metadata": {
      "needs_background": "light"
     },
     "output_type": "display_data"
    }
   ],
   "source": [
    "plot_trick_error_rates(targets_list = test_targets_df, \n",
    "                       preds_list=test_preds_rounded)"
   ]
  },
  {
   "cell_type": "code",
   "execution_count": 103,
   "id": "f046ff2a",
   "metadata": {},
   "outputs": [
    {
     "name": "stdout",
     "output_type": "stream",
     "text": [
      "Regression Metrics:\n",
      "MSE: 0.6264395544460993\n",
      "MAE: 0.4754043338717459\n",
      "Median Absolute Error: 0.0\n",
      "R-squared: 0.6001978213818112\n",
      "Explained Variance: 0.6413902566676277\n"
     ]
    }
   ],
   "source": [
    "print_pred_eval_kpis(y_true=test_targets_df, y_pred=test_preds)"
   ]
  },
  {
   "cell_type": "markdown",
   "id": "4c37c737",
   "metadata": {},
   "source": [
    "#### Lasso"
   ]
  },
  {
   "cell_type": "code",
   "execution_count": 69,
   "id": "d760015f",
   "metadata": {},
   "outputs": [],
   "source": [
    "from sklearn.linear_model import Lasso"
   ]
  },
  {
   "cell_type": "code",
   "execution_count": 70,
   "id": "134290bb",
   "metadata": {},
   "outputs": [],
   "source": [
    "lasso = Lasso(alpha=0.01).fit(train_df, train_targets_df)"
   ]
  },
  {
   "cell_type": "code",
   "execution_count": 71,
   "id": "13f74dfc",
   "metadata": {},
   "outputs": [
    {
     "data": {
      "text/plain": [
       "10"
      ]
     },
     "execution_count": 71,
     "metadata": {},
     "output_type": "execute_result"
    }
   ],
   "source": [
    "sum(lasso.coef_ != 0)"
   ]
  },
  {
   "cell_type": "code",
   "execution_count": 72,
   "id": "ab7029fc",
   "metadata": {},
   "outputs": [
    {
     "name": "stdout",
     "output_type": "stream",
     "text": [
      "has_right: 1.5142131885176455\n",
      "has_left: 0.7479962911244168\n",
      "has_Atrump: 0.5576119099578054\n",
      "has_Ktrump: 0.6952390141543738\n",
      "has_Qtrump: 0.6388628522525545\n",
      "has_Ttrump: 0.58679532058564\n",
      "has_9trump: 0.521005248477673\n",
      "num_off_A: 0.3919933359159256\n",
      "num_off_K: 0.24729915336301492\n",
      "num_off_Q: -0.0\n",
      "num_suits: -0.2792331684620004\n",
      "player_seat1: -0.0\n",
      "player_seat2: -0.0\n",
      "player_seat3: 0.0\n",
      "player_seat4: -0.0\n"
     ]
    }
   ],
   "source": [
    "# lasso.coef_\n",
    "for coef in range(len(lasso.coef_)):\n",
    "    print(f'{train_df.columns[coef]}: {lasso.coef_[coef]}')"
   ]
  },
  {
   "cell_type": "code",
   "execution_count": 73,
   "id": "a7e6a268",
   "metadata": {},
   "outputs": [
    {
     "data": {
      "text/plain": [
       "array([1.45026109, 0.78085726, 1.06009043, 2.61540122, 0.38333685])"
      ]
     },
     "execution_count": 73,
     "metadata": {},
     "output_type": "execute_result"
    }
   ],
   "source": [
    "test_preds = lasso.predict(test_df)\n",
    "test_preds[0:5]"
   ]
  },
  {
   "cell_type": "code",
   "execution_count": 74,
   "id": "b69da2fd",
   "metadata": {},
   "outputs": [
    {
     "data": {
      "text/plain": [
       "[1, 1, 1, 3, 0]"
      ]
     },
     "execution_count": 74,
     "metadata": {},
     "output_type": "execute_result"
    }
   ],
   "source": [
    "test_preds_rounded = [round(pred) for pred in test_preds]\n",
    "test_preds_rounded[0:5]"
   ]
  },
  {
   "cell_type": "code",
   "execution_count": 75,
   "id": "eb0bca10",
   "metadata": {},
   "outputs": [
    {
     "data": {
      "image/png": "[encoded data removed]",
      "text/plain": [
       "<Figure size 432x288 with 1 Axes>"
      ]
     },
     "metadata": {
      "needs_background": "light"
     },
     "output_type": "display_data"
    }
   ],
   "source": [
    "plot_trick_error_rates(targets_list = test_targets_df, \n",
    "                       preds_list=test_preds_rounded)"
   ]
  },
  {
   "cell_type": "code",
   "execution_count": 104,
   "id": "90e256b1",
   "metadata": {},
   "outputs": [
    {
     "name": "stdout",
     "output_type": "stream",
     "text": [
      "Regression Metrics:\n",
      "MSE: 0.6264395544460993\n",
      "MAE: 0.4754043338717459\n",
      "Median Absolute Error: 0.0\n",
      "R-squared: 0.6001978213818112\n",
      "Explained Variance: 0.6413902566676277\n"
     ]
    }
   ],
   "source": [
    "print_pred_eval_kpis(y_true=test_targets_df, y_pred=test_preds)"
   ]
  },
  {
   "cell_type": "code",
   "execution_count": null,
   "id": "e81de6ef",
   "metadata": {},
   "outputs": [],
   "source": [
    "#### ElasticNet\n",
    "# from sklearn.linear_model import ElasticNet\n",
    "# elastic_net = ElasticNet(alpha=0.01, l1_ratio=0.01).fit(train_df, train_targets_df)\n",
    "# elastic_net.score(test_df, test_targets_df)"
   ]
  },
  {
   "cell_type": "code",
   "execution_count": null,
   "id": "c8a20039",
   "metadata": {},
   "outputs": [],
   "source": []
  },
  {
   "cell_type": "code",
   "execution_count": null,
   "id": "adc5647a",
   "metadata": {},
   "outputs": [],
   "source": []
  },
  {
   "cell_type": "markdown",
   "id": "d50aba8f",
   "metadata": {},
   "source": [
    "#### Random Forest"
   ]
  },
  {
   "cell_type": "code",
   "execution_count": 77,
   "id": "7ed49ba7",
   "metadata": {},
   "outputs": [],
   "source": [
    "from sklearn.ensemble import RandomForestClassifier"
   ]
  },
  {
   "cell_type": "code",
   "execution_count": 157,
   "id": "7351469d",
   "metadata": {},
   "outputs": [],
   "source": [
    "classifier =  RandomForestClassifier(\n",
    "    n_estimators=100, \n",
    "    max_features=0.9,\n",
    "    max_depth=8,\n",
    "    min_samples_split=2,\n",
    "    min_samples_leaf=1,\n",
    "    criterion = 'entropy', \n",
    "    verbose=0\n",
    ")"
   ]
  },
  {
   "cell_type": "code",
   "execution_count": 158,
   "id": "807a3469",
   "metadata": {},
   "outputs": [
    {
     "name": "stdout",
     "output_type": "stream",
     "text": [
      "Wall time: 53 s\n"
     ]
    },
    {
     "data": {
      "text/plain": [
       "RandomForestClassifier(criterion='entropy', max_depth=8, max_features=0.9)"
      ]
     },
     "execution_count": 158,
     "metadata": {},
     "output_type": "execute_result"
    }
   ],
   "source": [
    "%%time\n",
    "\n",
    "classifier.fit(train_df, train_targets_df)  # Fit the model"
   ]
  },
  {
   "cell_type": "code",
   "execution_count": 172,
   "id": "68aa0587",
   "metadata": {},
   "outputs": [
    {
     "data": {
      "text/plain": [
       "array([2, 1, 0], dtype=int64)"
      ]
     },
     "execution_count": 172,
     "metadata": {},
     "output_type": "execute_result"
    }
   ],
   "source": [
    "test_preds = classifier.predict(test_df)\n",
    "# test_preds = classifier.predict_proba(test_df)\n",
    "test_preds[0:3]"
   ]
  },
  {
   "cell_type": "code",
   "execution_count": 173,
   "id": "cdcbb829",
   "metadata": {},
   "outputs": [
    {
     "data": {
      "image/png": "[encoded data removed]",
      "text/plain": [
       "<Figure size 432x288 with 1 Axes>"
      ]
     },
     "metadata": {
      "needs_background": "light"
     },
     "output_type": "display_data"
    }
   ],
   "source": [
    "plot_trick_error_rates(targets_list = test_targets_df, \n",
    "                       preds_list=test_preds)"
   ]
  },
  {
   "cell_type": "code",
   "execution_count": 174,
   "id": "d8d44d90",
   "metadata": {},
   "outputs": [
    {
     "name": "stdout",
     "output_type": "stream",
     "text": [
      "Regression Metrics:\n",
      "MSE: 0.629670029997273\n",
      "MAE: 0.47725031990098804\n",
      "Median Absolute Error: 0.0\n",
      "R-squared: 0.5981360882837568\n",
      "Explained Variance: 0.6392741216799588\n"
     ]
    }
   ],
   "source": [
    "print_pred_eval_kpis(y_true=test_targets_df, y_pred=test_preds)"
   ]
  },
  {
   "cell_type": "code",
   "execution_count": 151,
   "id": "db6844b2",
   "metadata": {
    "scrolled": false
   },
   "outputs": [
    {
     "data": {
      "text/plain": [
       "array([[0.03488877, 0.41715252, 0.47046467, 0.05944157, 0.01691922,\n",
       "        0.00113324]])"
      ]
     },
     "execution_count": 151,
     "metadata": {},
     "output_type": "execute_result"
    }
   ],
   "source": [
    "single_hand_preds = classifier.predict_proba(single_hand_test_df)\n",
    "single_hand_preds"
   ]
  },
  {
   "cell_type": "code",
   "execution_count": 162,
   "id": "45bee187",
   "metadata": {},
   "outputs": [],
   "source": [
    "importances = classifier.feature_importances_\n",
    "std = np.std([tree.feature_importances_ for tree in classifier.estimators_], axis=0)"
   ]
  },
  {
   "cell_type": "code",
   "execution_count": 163,
   "id": "ce5d1cd0",
   "metadata": {},
   "outputs": [
    {
     "data": {
      "image/png": "[encoded data removed]",
      "text/plain": [
       "<Figure size 432x288 with 1 Axes>"
      ]
     },
     "metadata": {
      "needs_background": "light"
     },
     "output_type": "display_data"
    }
   ],
   "source": [
    "forest_importances = pd.Series(importances, index=model_features)\n",
    "\n",
    "fig, ax = plt.subplots()\n",
    "forest_importances.plot.bar(yerr=std, ax=ax)\n",
    "ax.set_title(\"Feature importances using MDI\")\n",
    "ax.set_ylabel(\"Mean decrease in impurity\")\n",
    "fig.tight_layout()"
   ]
  },
  {
   "cell_type": "markdown",
   "id": "d619f8c2",
   "metadata": {},
   "source": [
    "#### GBM"
   ]
  },
  {
   "cell_type": "code",
   "execution_count": 106,
   "id": "a4d0d7c2",
   "metadata": {},
   "outputs": [],
   "source": [
    "from sklearn.ensemble import GradientBoostingClassifier"
   ]
  },
  {
   "cell_type": "code",
   "execution_count": 107,
   "id": "8f9e5401",
   "metadata": {},
   "outputs": [],
   "source": [
    "gbm_clf = GradientBoostingClassifier(learning_rate=0.1, \n",
    "                                     n_estimators=10, \n",
    "                                     #subsample=0.9, \n",
    "                                     #max_depth=6\n",
    "                                    )"
   ]
  },
  {
   "cell_type": "markdown",
   "id": "9242473c",
   "metadata": {},
   "source": [
    "#### Fit the model"
   ]
  },
  {
   "cell_type": "code",
   "execution_count": 108,
   "id": "ba6c18dd",
   "metadata": {},
   "outputs": [
    {
     "name": "stdout",
     "output_type": "stream",
     "text": [
      "Wall time: 25.9 s\n"
     ]
    },
    {
     "data": {
      "text/plain": [
       "GradientBoostingClassifier(n_estimators=10)"
      ]
     },
     "execution_count": 108,
     "metadata": {},
     "output_type": "execute_result"
    }
   ],
   "source": [
    "%%time\n",
    "\n",
    "gbm_clf.fit(train_df, train_targets_df)"
   ]
  },
  {
   "cell_type": "code",
   "execution_count": 109,
   "id": "d15025b7",
   "metadata": {},
   "outputs": [
    {
     "data": {
      "text/plain": [
       "array([1, 0, 0], dtype=int64)"
      ]
     },
     "execution_count": 109,
     "metadata": {},
     "output_type": "execute_result"
    }
   ],
   "source": [
    "# Create test preds\n",
    "test_preds = gbm_clf.predict(test_df)\n",
    "#test_preds = gbm_clf.predict_proba(test_df)\n",
    "test_preds[0:3]"
   ]
  },
  {
   "cell_type": "code",
   "execution_count": 110,
   "id": "a73c48c1",
   "metadata": {},
   "outputs": [
    {
     "data": {
      "text/plain": [
       "array([[0.19617988, 0.35565337, 0.29232209, 0.10672844, 0.04070897,\n",
       "        0.00840725]])"
      ]
     },
     "execution_count": 110,
     "metadata": {},
     "output_type": "execute_result"
    }
   ],
   "source": [
    "single_hand_preds = gbm_clf.predict_proba(single_hand_test_df)\n",
    "single_hand_preds"
   ]
  },
  {
   "cell_type": "code",
   "execution_count": 111,
   "id": "8b0473c1",
   "metadata": {},
   "outputs": [
    {
     "data": {
      "image/png": "[encoded data removed]",
      "text/plain": [
       "<Figure size 432x288 with 1 Axes>"
      ]
     },
     "metadata": {
      "needs_background": "light"
     },
     "output_type": "display_data"
    }
   ],
   "source": [
    "plot_trick_error_rates(targets_list = test_targets_df, \n",
    "                       preds_list=test_preds)"
   ]
  },
  {
   "cell_type": "code",
   "execution_count": 112,
   "id": "efffab4e",
   "metadata": {},
   "outputs": [
    {
     "name": "stdout",
     "output_type": "stream",
     "text": [
      "Regression Metrics:\n",
      "MSE: 0.871787879423549\n",
      "MAE: 0.5987497640074678\n",
      "Median Absolute Error: 0.0\n",
      "R-squared: 0.44361320894775114\n",
      "Explained Variance: 0.5271900611715368\n"
     ]
    }
   ],
   "source": [
    "print_pred_eval_kpis(y_true=test_targets_df, y_pred=test_preds)"
   ]
  },
  {
   "cell_type": "code",
   "execution_count": 113,
   "id": "bb6f4c5d",
   "metadata": {},
   "outputs": [],
   "source": [
    "valid_preds = gbm_clf.predict(valid_df)\n",
    "valid_preds_rounded = [round(pred) for pred in valid_preds]"
   ]
  },
  {
   "cell_type": "code",
   "execution_count": 114,
   "id": "aadf9de1",
   "metadata": {},
   "outputs": [
    {
     "data": {
      "image/png": "[encoded data removed]",
      "text/plain": [
       "<Figure size 432x288 with 1 Axes>"
      ]
     },
     "metadata": {
      "needs_background": "light"
     },
     "output_type": "display_data"
    }
   ],
   "source": [
    "plot_trick_error_rates(targets_list = valid_targets_df, \n",
    "                       preds_list=valid_preds_rounded)"
   ]
  },
  {
   "cell_type": "code",
   "execution_count": 115,
   "id": "b901f141",
   "metadata": {},
   "outputs": [],
   "source": [
    "importances = gbm_clf.feature_importances_"
   ]
  },
  {
   "cell_type": "code",
   "execution_count": 116,
   "id": "6387bba1",
   "metadata": {},
   "outputs": [
    {
     "data": {
      "image/png": "[encoded data removed]",
      "text/plain": [
       "<Figure size 432x288 with 1 Axes>"
      ]
     },
     "metadata": {
      "needs_background": "light"
     },
     "output_type": "display_data"
    }
   ],
   "source": [
    "forest_importances = pd.Series(importances, index=model_features)\n",
    "\n",
    "fig, ax = plt.subplots()\n",
    "forest_importances.plot.bar(ax=ax)\n",
    "ax.set_title(\"Feature importances using MDI\")\n",
    "ax.set_ylabel(\"Mean decrease in impurity\")\n",
    "fig.tight_layout()"
   ]
  },
  {
   "cell_type": "code",
   "execution_count": null,
   "id": "5aa4d498",
   "metadata": {},
   "outputs": [],
   "source": []
  },
  {
   "cell_type": "markdown",
   "id": "c0dac577",
   "metadata": {},
   "source": [
    "### Look at worst predictions"
   ]
  },
  {
   "cell_type": "code",
   "execution_count": 205,
   "id": "80388f5f",
   "metadata": {},
   "outputs": [
    {
     "name": "stderr",
     "output_type": "stream",
     "text": [
      "C:\\Users\\jerem\\anaconda3\\lib\\site-packages\\pandas\\core\\indexing.py:1597: SettingWithCopyWarning: \n",
      "A value is trying to be set on a copy of a slice from a DataFrame.\n",
      "Try using .loc[row_indexer,col_indexer] = value instead\n",
      "\n",
      "See the caveats in the documentation: https://pandas.pydata.org/pandas-docs/stable/user_guide/indexing.html#returning-a-view-versus-a-copy\n",
      "  self.obj[key] = value\n",
      "C:\\Users\\jerem\\anaconda3\\lib\\site-packages\\pandas\\core\\indexing.py:1676: SettingWithCopyWarning: \n",
      "A value is trying to be set on a copy of a slice from a DataFrame.\n",
      "Try using .loc[row_indexer,col_indexer] = value instead\n",
      "\n",
      "See the caveats in the documentation: https://pandas.pydata.org/pandas-docs/stable/user_guide/indexing.html#returning-a-view-versus-a-copy\n",
      "  self._setitem_single_column(ilocs[0], value, pi)\n"
     ]
    }
   ],
   "source": [
    "# add targets to test_df\n",
    "test_df.loc[:,'actual'] = test_targets_df"
   ]
  },
  {
   "cell_type": "code",
   "execution_count": 206,
   "id": "e9769943",
   "metadata": {},
   "outputs": [],
   "source": [
    "# add preds to test_df\n",
    "test_df.loc[:,'preds'] = test_preds"
   ]
  },
  {
   "cell_type": "code",
   "execution_count": 207,
   "id": "275a27db",
   "metadata": {},
   "outputs": [],
   "source": [
    "test_df.loc[:,'pred_err'] = abs(test_targets_df - test_preds)"
   ]
  },
  {
   "cell_type": "code",
   "execution_count": 209,
   "id": "222e3a68",
   "metadata": {},
   "outputs": [
    {
     "data": {
      "text/html": [
       "<div>\n",
       "<style scoped>\n",
       "    .dataframe tbody tr th:only-of-type {\n",
       "        vertical-align: middle;\n",
       "    }\n",
       "\n",
       "    .dataframe tbody tr th {\n",
       "        vertical-align: top;\n",
       "    }\n",
       "\n",
       "    .dataframe thead th {\n",
       "        text-align: right;\n",
       "    }\n",
       "</style>\n",
       "<table border=\"1\" class=\"dataframe\">\n",
       "  <thead>\n",
       "    <tr style=\"text-align: right;\">\n",
       "      <th></th>\n",
       "      <th>has_right</th>\n",
       "      <th>has_left</th>\n",
       "      <th>has_Atrump</th>\n",
       "      <th>has_Ktrump</th>\n",
       "      <th>has_Qtrump</th>\n",
       "      <th>has_Ttrump</th>\n",
       "      <th>has_9trump</th>\n",
       "      <th>num_off_A</th>\n",
       "      <th>num_off_K</th>\n",
       "      <th>num_off_Q</th>\n",
       "      <th>num_suits</th>\n",
       "      <th>player_seat1</th>\n",
       "      <th>player_seat2</th>\n",
       "      <th>player_seat3</th>\n",
       "      <th>player_seat4</th>\n",
       "      <th>actual</th>\n",
       "      <th>preds</th>\n",
       "      <th>pred_err</th>\n",
       "    </tr>\n",
       "  </thead>\n",
       "  <tbody>\n",
       "    <tr>\n",
       "      <th>184415</th>\n",
       "      <td>0</td>\n",
       "      <td>0</td>\n",
       "      <td>0</td>\n",
       "      <td>0</td>\n",
       "      <td>0</td>\n",
       "      <td>1</td>\n",
       "      <td>1</td>\n",
       "      <td>0</td>\n",
       "      <td>0</td>\n",
       "      <td>1</td>\n",
       "      <td>3</td>\n",
       "      <td>0</td>\n",
       "      <td>1</td>\n",
       "      <td>0</td>\n",
       "      <td>0</td>\n",
       "      <td>4</td>\n",
       "      <td>0</td>\n",
       "      <td>4</td>\n",
       "    </tr>\n",
       "    <tr>\n",
       "      <th>71255</th>\n",
       "      <td>0</td>\n",
       "      <td>0</td>\n",
       "      <td>0</td>\n",
       "      <td>0</td>\n",
       "      <td>1</td>\n",
       "      <td>1</td>\n",
       "      <td>0</td>\n",
       "      <td>0</td>\n",
       "      <td>2</td>\n",
       "      <td>1</td>\n",
       "      <td>3</td>\n",
       "      <td>0</td>\n",
       "      <td>1</td>\n",
       "      <td>0</td>\n",
       "      <td>0</td>\n",
       "      <td>5</td>\n",
       "      <td>1</td>\n",
       "      <td>4</td>\n",
       "    </tr>\n",
       "    <tr>\n",
       "      <th>277687</th>\n",
       "      <td>0</td>\n",
       "      <td>0</td>\n",
       "      <td>0</td>\n",
       "      <td>0</td>\n",
       "      <td>0</td>\n",
       "      <td>1</td>\n",
       "      <td>1</td>\n",
       "      <td>0</td>\n",
       "      <td>1</td>\n",
       "      <td>1</td>\n",
       "      <td>4</td>\n",
       "      <td>0</td>\n",
       "      <td>1</td>\n",
       "      <td>0</td>\n",
       "      <td>0</td>\n",
       "      <td>4</td>\n",
       "      <td>0</td>\n",
       "      <td>4</td>\n",
       "    </tr>\n",
       "    <tr>\n",
       "      <th>176791</th>\n",
       "      <td>0</td>\n",
       "      <td>0</td>\n",
       "      <td>0</td>\n",
       "      <td>0</td>\n",
       "      <td>1</td>\n",
       "      <td>0</td>\n",
       "      <td>1</td>\n",
       "      <td>1</td>\n",
       "      <td>1</td>\n",
       "      <td>0</td>\n",
       "      <td>3</td>\n",
       "      <td>0</td>\n",
       "      <td>0</td>\n",
       "      <td>1</td>\n",
       "      <td>0</td>\n",
       "      <td>5</td>\n",
       "      <td>1</td>\n",
       "      <td>4</td>\n",
       "    </tr>\n",
       "    <tr>\n",
       "      <th>113555</th>\n",
       "      <td>0</td>\n",
       "      <td>0</td>\n",
       "      <td>0</td>\n",
       "      <td>0</td>\n",
       "      <td>1</td>\n",
       "      <td>1</td>\n",
       "      <td>0</td>\n",
       "      <td>0</td>\n",
       "      <td>1</td>\n",
       "      <td>1</td>\n",
       "      <td>4</td>\n",
       "      <td>1</td>\n",
       "      <td>0</td>\n",
       "      <td>0</td>\n",
       "      <td>0</td>\n",
       "      <td>4</td>\n",
       "      <td>0</td>\n",
       "      <td>4</td>\n",
       "    </tr>\n",
       "    <tr>\n",
       "      <th>44567</th>\n",
       "      <td>0</td>\n",
       "      <td>0</td>\n",
       "      <td>0</td>\n",
       "      <td>0</td>\n",
       "      <td>0</td>\n",
       "      <td>1</td>\n",
       "      <td>1</td>\n",
       "      <td>0</td>\n",
       "      <td>1</td>\n",
       "      <td>0</td>\n",
       "      <td>3</td>\n",
       "      <td>1</td>\n",
       "      <td>0</td>\n",
       "      <td>0</td>\n",
       "      <td>0</td>\n",
       "      <td>4</td>\n",
       "      <td>0</td>\n",
       "      <td>4</td>\n",
       "    </tr>\n",
       "    <tr>\n",
       "      <th>58987</th>\n",
       "      <td>0</td>\n",
       "      <td>0</td>\n",
       "      <td>0</td>\n",
       "      <td>0</td>\n",
       "      <td>0</td>\n",
       "      <td>1</td>\n",
       "      <td>1</td>\n",
       "      <td>1</td>\n",
       "      <td>1</td>\n",
       "      <td>0</td>\n",
       "      <td>4</td>\n",
       "      <td>0</td>\n",
       "      <td>0</td>\n",
       "      <td>0</td>\n",
       "      <td>1</td>\n",
       "      <td>5</td>\n",
       "      <td>1</td>\n",
       "      <td>4</td>\n",
       "    </tr>\n",
       "    <tr>\n",
       "      <th>115207</th>\n",
       "      <td>0</td>\n",
       "      <td>0</td>\n",
       "      <td>1</td>\n",
       "      <td>0</td>\n",
       "      <td>1</td>\n",
       "      <td>0</td>\n",
       "      <td>0</td>\n",
       "      <td>0</td>\n",
       "      <td>2</td>\n",
       "      <td>1</td>\n",
       "      <td>3</td>\n",
       "      <td>0</td>\n",
       "      <td>0</td>\n",
       "      <td>0</td>\n",
       "      <td>1</td>\n",
       "      <td>5</td>\n",
       "      <td>1</td>\n",
       "      <td>4</td>\n",
       "    </tr>\n",
       "    <tr>\n",
       "      <th>50099</th>\n",
       "      <td>0</td>\n",
       "      <td>0</td>\n",
       "      <td>0</td>\n",
       "      <td>0</td>\n",
       "      <td>1</td>\n",
       "      <td>0</td>\n",
       "      <td>1</td>\n",
       "      <td>0</td>\n",
       "      <td>0</td>\n",
       "      <td>1</td>\n",
       "      <td>3</td>\n",
       "      <td>1</td>\n",
       "      <td>0</td>\n",
       "      <td>0</td>\n",
       "      <td>0</td>\n",
       "      <td>4</td>\n",
       "      <td>0</td>\n",
       "      <td>4</td>\n",
       "    </tr>\n",
       "    <tr>\n",
       "      <th>116515</th>\n",
       "      <td>0</td>\n",
       "      <td>0</td>\n",
       "      <td>0</td>\n",
       "      <td>1</td>\n",
       "      <td>1</td>\n",
       "      <td>0</td>\n",
       "      <td>0</td>\n",
       "      <td>0</td>\n",
       "      <td>2</td>\n",
       "      <td>0</td>\n",
       "      <td>4</td>\n",
       "      <td>0</td>\n",
       "      <td>1</td>\n",
       "      <td>0</td>\n",
       "      <td>0</td>\n",
       "      <td>5</td>\n",
       "      <td>1</td>\n",
       "      <td>4</td>\n",
       "    </tr>\n",
       "  </tbody>\n",
       "</table>\n",
       "</div>"
      ],
      "text/plain": [
       "        has_right  has_left  has_Atrump  has_Ktrump  has_Qtrump  has_Ttrump  \\\n",
       "184415          0         0           0           0           0           1   \n",
       "71255           0         0           0           0           1           1   \n",
       "277687          0         0           0           0           0           1   \n",
       "176791          0         0           0           0           1           0   \n",
       "113555          0         0           0           0           1           1   \n",
       "44567           0         0           0           0           0           1   \n",
       "58987           0         0           0           0           0           1   \n",
       "115207          0         0           1           0           1           0   \n",
       "50099           0         0           0           0           1           0   \n",
       "116515          0         0           0           1           1           0   \n",
       "\n",
       "        has_9trump  num_off_A  num_off_K  num_off_Q  num_suits  player_seat1  \\\n",
       "184415           1          0          0          1          3             0   \n",
       "71255            0          0          2          1          3             0   \n",
       "277687           1          0          1          1          4             0   \n",
       "176791           1          1          1          0          3             0   \n",
       "113555           0          0          1          1          4             1   \n",
       "44567            1          0          1          0          3             1   \n",
       "58987            1          1          1          0          4             0   \n",
       "115207           0          0          2          1          3             0   \n",
       "50099            1          0          0          1          3             1   \n",
       "116515           0          0          2          0          4             0   \n",
       "\n",
       "        player_seat2  player_seat3  player_seat4  actual  preds  pred_err  \n",
       "184415             1             0             0       4      0         4  \n",
       "71255              1             0             0       5      1         4  \n",
       "277687             1             0             0       4      0         4  \n",
       "176791             0             1             0       5      1         4  \n",
       "113555             0             0             0       4      0         4  \n",
       "44567              0             0             0       4      0         4  \n",
       "58987              0             0             1       5      1         4  \n",
       "115207             0             0             1       5      1         4  \n",
       "50099              0             0             0       4      0         4  \n",
       "116515             1             0             0       5      1         4  "
      ]
     },
     "execution_count": 209,
     "metadata": {},
     "output_type": "execute_result"
    }
   ],
   "source": [
    "test_df.sort_values('pred_err', ascending=False).head(10)"
   ]
  },
  {
   "cell_type": "code",
   "execution_count": null,
   "id": "bb46c620",
   "metadata": {},
   "outputs": [],
   "source": []
  },
  {
   "cell_type": "code",
   "execution_count": null,
   "id": "e8cdaba0",
   "metadata": {},
   "outputs": [],
   "source": []
  },
  {
   "cell_type": "markdown",
   "id": "c396fa7e",
   "metadata": {},
   "source": [
    "### Cross Validation"
   ]
  },
  {
   "cell_type": "code",
   "execution_count": 139,
   "id": "e55dc7f1",
   "metadata": {},
   "outputs": [],
   "source": [
    "from sklearn.model_selection import GridSearchCV"
   ]
  },
  {
   "cell_type": "code",
   "execution_count": 140,
   "id": "54c2c02d",
   "metadata": {},
   "outputs": [],
   "source": [
    "grid_params = {'n_estimators':[10], 'max_depth':[4,5], 'learning_rate':[0.1] ,'subsample':[0.9]}"
   ]
  },
  {
   "cell_type": "code",
   "execution_count": 141,
   "id": "b959c34c",
   "metadata": {},
   "outputs": [],
   "source": [
    "clf = GridSearchCV(gbm_clf, grid_params)"
   ]
  },
  {
   "cell_type": "code",
   "execution_count": 142,
   "id": "53968f61",
   "metadata": {},
   "outputs": [
    {
     "name": "stdout",
     "output_type": "stream",
     "text": [
      "Wall time: 5min 22s\n"
     ]
    },
    {
     "data": {
      "text/plain": [
       "GridSearchCV(estimator=GradientBoostingClassifier(n_estimators=10),\n",
       "             param_grid={'learning_rate': [0.1], 'max_depth': [4, 5],\n",
       "                         'n_estimators': [10], 'subsample': [0.9]})"
      ]
     },
     "execution_count": 142,
     "metadata": {},
     "output_type": "execute_result"
    }
   ],
   "source": [
    "%%time\n",
    "\n",
    "clf.fit(train_df, train_targets_df)"
   ]
  },
  {
   "cell_type": "code",
   "execution_count": 143,
   "id": "3bc04b7b",
   "metadata": {},
   "outputs": [
    {
     "data": {
      "text/plain": [
       "dict_keys(['mean_fit_time', 'std_fit_time', 'mean_score_time', 'std_score_time', 'param_learning_rate', 'param_max_depth', 'param_n_estimators', 'param_subsample', 'params', 'split0_test_score', 'split1_test_score', 'split2_test_score', 'split3_test_score', 'split4_test_score', 'mean_test_score', 'std_test_score', 'rank_test_score'])"
      ]
     },
     "execution_count": 143,
     "metadata": {},
     "output_type": "execute_result"
    }
   ],
   "source": [
    "clf.cv_results_.keys()"
   ]
  },
  {
   "cell_type": "code",
   "execution_count": 144,
   "id": "9c9e032a",
   "metadata": {},
   "outputs": [
    {
     "data": {
      "text/plain": [
       "{'mean_fit_time': array([24.12750382, 31.91451254]),\n",
       " 'std_fit_time': array([0.34865573, 1.76299289]),\n",
       " 'mean_score_time': array([0.15954123, 0.2064991 ]),\n",
       " 'std_score_time': array([0.00291815, 0.02637562]),\n",
       " 'param_learning_rate': masked_array(data=[0.1, 0.1],\n",
       "              mask=[False, False],\n",
       "        fill_value='?',\n",
       "             dtype=object),\n",
       " 'param_max_depth': masked_array(data=[4, 5],\n",
       "              mask=[False, False],\n",
       "        fill_value='?',\n",
       "             dtype=object),\n",
       " 'param_n_estimators': masked_array(data=[10, 10],\n",
       "              mask=[False, False],\n",
       "        fill_value='?',\n",
       "             dtype=object),\n",
       " 'param_subsample': masked_array(data=[0.9, 0.9],\n",
       "              mask=[False, False],\n",
       "        fill_value='?',\n",
       "             dtype=object),\n",
       " 'params': [{'learning_rate': 0.1,\n",
       "   'max_depth': 4,\n",
       "   'n_estimators': 10,\n",
       "   'subsample': 0.9},\n",
       "  {'learning_rate': 0.1,\n",
       "   'max_depth': 5,\n",
       "   'n_estimators': 10,\n",
       "   'subsample': 0.9}],\n",
       " 'split0_test_score': array([0.55610494, 0.56972476]),\n",
       " 'split1_test_score': array([0.55343123, 0.56436919]),\n",
       " 'split2_test_score': array([0.55648786, 0.57213066]),\n",
       " 'split3_test_score': array([0.5556338 , 0.56964339]),\n",
       " 'split4_test_score': array([0.55575367, 0.56997303]),\n",
       " 'mean_test_score': array([0.5554823 , 0.56916821]),\n",
       " 'std_test_score': array([0.00106793, 0.00256865]),\n",
       " 'rank_test_score': array([2, 1])}"
      ]
     },
     "execution_count": 144,
     "metadata": {},
     "output_type": "execute_result"
    }
   ],
   "source": [
    "clf.cv_results_"
   ]
  },
  {
   "cell_type": "code",
   "execution_count": 145,
   "id": "c7aa27a8",
   "metadata": {},
   "outputs": [
    {
     "data": {
      "text/plain": [
       "GradientBoostingClassifier(max_depth=5, n_estimators=10, subsample=0.9)"
      ]
     },
     "execution_count": 145,
     "metadata": {},
     "output_type": "execute_result"
    }
   ],
   "source": [
    "clf.best_estimator_"
   ]
  },
  {
   "cell_type": "code",
   "execution_count": null,
   "id": "5e6df81c",
   "metadata": {},
   "outputs": [],
   "source": [
    "clf.best_estimator_.predict_proba(single_hand_test_df)"
   ]
  },
  {
   "cell_type": "code",
   "execution_count": null,
   "id": "f157e1da",
   "metadata": {},
   "outputs": [],
   "source": [
    "single_hand_preds = clf.predict_proba(single_hand_test_df)\n",
    "single_hand_preds"
   ]
  },
  {
   "cell_type": "code",
   "execution_count": null,
   "id": "31357de5",
   "metadata": {},
   "outputs": [],
   "source": [
    "test_preds = clf.best_estimator_.predict(test_df)"
   ]
  },
  {
   "cell_type": "code",
   "execution_count": null,
   "id": "1998124b",
   "metadata": {},
   "outputs": [],
   "source": [
    "importances = clf.best_estimator_.feature_importances_"
   ]
  },
  {
   "cell_type": "code",
   "execution_count": null,
   "id": "91b95c6c",
   "metadata": {},
   "outputs": [],
   "source": [
    "forest_importances = pd.Series(importances, index=model_features)\n",
    "\n",
    "fig, ax = plt.subplots()\n",
    "forest_importances.plot.bar(ax=ax)\n",
    "ax.set_title(\"Feature importances using MDI\")\n",
    "ax.set_ylabel(\"Mean decrease in impurity\")\n",
    "fig.tight_layout()"
   ]
  },
  {
   "cell_type": "code",
   "execution_count": null,
   "id": "71dbcc96",
   "metadata": {},
   "outputs": [],
   "source": []
  },
  {
   "cell_type": "markdown",
   "id": "1bb5f11c",
   "metadata": {},
   "source": [
    "#### Save out model to disk using joblib"
   ]
  },
  {
   "cell_type": "code",
   "execution_count": null,
   "id": "e1e3f014",
   "metadata": {},
   "outputs": [],
   "source": [
    "import joblib"
   ]
  },
  {
   "cell_type": "code",
   "execution_count": null,
   "id": "4afe64c7",
   "metadata": {},
   "outputs": [],
   "source": [
    "pwd"
   ]
  },
  {
   "cell_type": "code",
   "execution_count": null,
   "id": "d7d3b21c",
   "metadata": {},
   "outputs": [],
   "source": [
    "joblib.dump(classifier, 'C:/Users/jerem/Desktop/nonsense/euchre/models/trick_model_rf_v0.sav')"
   ]
  },
  {
   "cell_type": "code",
   "execution_count": null,
   "id": "3d2a61ac",
   "metadata": {},
   "outputs": [],
   "source": []
  },
  {
   "cell_type": "code",
   "execution_count": null,
   "id": "156f4fff",
   "metadata": {},
   "outputs": [],
   "source": []
  },
  {
   "cell_type": "markdown",
   "id": "8a50c6c1",
   "metadata": {},
   "source": [
    "#### Plot probability output"
   ]
  },
  {
   "cell_type": "code",
   "execution_count": null,
   "id": "0ac67427",
   "metadata": {},
   "outputs": [],
   "source": [
    "fig = plt.figure()\n",
    "ax = fig.add_axes([0,0,1,1])\n",
    "num_tricks_taken = ['0','1','2','3','4','5']\n",
    "ax.bar(num_tricks_taken, single_hand_preds.tolist()[0])\n",
    "\n",
    "plt.xlabel(\"Tricks taken\")\n",
    "plt.ylabel(\"Percent of hands\")\n",
    "plt.title(\"Expected tricks taken\")\n",
    "\n",
    "# ax.bar_label(trick_preds, label_type='center')\n",
    "\n",
    "plt.show()"
   ]
  },
  {
   "cell_type": "code",
   "execution_count": null,
   "id": "cd4b5418",
   "metadata": {},
   "outputs": [],
   "source": [
    "trick_preds = single_hand_preds.tolist()[0]\n",
    "trick_preds"
   ]
  },
  {
   "cell_type": "code",
   "execution_count": null,
   "id": "b5a33dbd",
   "metadata": {},
   "outputs": [],
   "source": [
    "plot_expected_tricks_taken(expected_tricks_taken = trick_preds)"
   ]
  },
  {
   "cell_type": "code",
   "execution_count": null,
   "id": "09b2c9d6",
   "metadata": {},
   "outputs": [],
   "source": []
  },
  {
   "cell_type": "markdown",
   "id": "c6d5ff69",
   "metadata": {},
   "source": [
    "#### Breakdown of percent of hands predicted correctly, 1 off, 2 off, etc."
   ]
  },
  {
   "cell_type": "code",
   "execution_count": 164,
   "id": "1b711cb4",
   "metadata": {},
   "outputs": [
    {
     "data": {
      "text/plain": [
       "{'0': 28125, '1': 16737, '2': 2445, '3': 332, '4': 32, '5': 0}"
      ]
     },
     "execution_count": 164,
     "metadata": {},
     "output_type": "execute_result"
    }
   ],
   "source": [
    "results_dict = {str(num): 0 for num in range(0,6)}\n",
    "\n",
    "#for idx, pred in enumerate(test_targets_df[0:100]):\n",
    "for idx, pred in enumerate(test_targets_df):\n",
    "    pred_diff = abs(pred - test_preds[idx])\n",
    "    results_dict[str(pred_diff)] += 1\n",
    "\n",
    "results_dict\n",
    "# list(results_dict.values())"
   ]
  },
  {
   "cell_type": "code",
   "execution_count": 165,
   "id": "f612be27",
   "metadata": {},
   "outputs": [
    {
     "data": {
      "image/png": "[encoded data removed]",
      "text/plain": [
       "<Figure size 432x288 with 1 Axes>"
      ]
     },
     "metadata": {
      "needs_background": "light"
     },
     "output_type": "display_data"
    }
   ],
   "source": [
    "fig = plt.figure()\n",
    "ax = fig.add_axes([0,0,1,1])\n",
    "num_tricks_taken = ['0','1','2','3','4','5']\n",
    "percents = [round(100.0*x / sum(results_dict.values()),1) for x in results_dict.values()]\n",
    "graph = ax.bar(num_tricks_taken, percents)\n",
    "\n",
    "i = 0\n",
    "for p in graph:\n",
    "    width = p.get_width()\n",
    "    height = p.get_height()\n",
    "    x,y = p.get_xy()\n",
    "    plt.text(x+width/2,\n",
    "             y+height*1,\n",
    "             str(percents[i])+'%',\n",
    "             ha='center',\n",
    "             weight='bold')\n",
    "    i += 1\n",
    "\n",
    "plt.xlabel(\"Prediction Error\")\n",
    "plt.ylabel(\"Number of hands\")\n",
    "plt.title(\"Tricks Model Error rates\")\n",
    "\n",
    "plt.show()"
   ]
  },
  {
   "cell_type": "code",
   "execution_count": null,
   "id": "58531fdf",
   "metadata": {},
   "outputs": [],
   "source": []
  },
  {
   "cell_type": "code",
   "execution_count": null,
   "id": "d96d1564",
   "metadata": {},
   "outputs": [],
   "source": []
  },
  {
   "cell_type": "markdown",
   "id": "f913e769",
   "metadata": {},
   "source": [
    "#### Pipeline"
   ]
  },
  {
   "cell_type": "code",
   "execution_count": null,
   "id": "7ae9bc7b",
   "metadata": {},
   "outputs": [],
   "source": [
    "from sklearn.pipeline import Pipeline\n",
    "from sklearn.compose import ColumnTransformer\n",
    "from sklearn.preprocessing import OneHotEncoder"
   ]
  },
  {
   "cell_type": "code",
   "execution_count": null,
   "id": "152b2ec5",
   "metadata": {},
   "outputs": [],
   "source": [
    "categorical_columns = ['player_seat']\n",
    "categorical_encoder = OneHotEncoder()"
   ]
  },
  {
   "cell_type": "code",
   "execution_count": null,
   "id": "5e12e3bc",
   "metadata": {},
   "outputs": [],
   "source": [
    "preprocessing = ColumnTransformer(\n",
    "    [\n",
    "        (\"cat\", categorical_encoder, categorical_columns),\n",
    "    ],\n",
    ")"
   ]
  },
  {
   "cell_type": "code",
   "execution_count": null,
   "id": "ed755043",
   "metadata": {},
   "outputs": [],
   "source": [
    "rf = Pipeline(\n",
    "    [\n",
    "        ('preprocess', preprocessing),\n",
    "        ('classifier', RandomForestClassifier(random_state=123))\n",
    "    ]\n",
    "\n",
    ")"
   ]
  },
  {
   "cell_type": "code",
   "execution_count": null,
   "id": "44017d50",
   "metadata": {},
   "outputs": [],
   "source": [
    "#rf.fit(train_df, train_targets_df)"
   ]
  },
  {
   "cell_type": "code",
   "execution_count": null,
   "id": "0140610d",
   "metadata": {},
   "outputs": [],
   "source": [
    "rf"
   ]
  },
  {
   "cell_type": "code",
   "execution_count": null,
   "id": "bcff86ca",
   "metadata": {},
   "outputs": [],
   "source": [
    "#single_hand_preds = rf.predict_proba(single_hand_test_df)\n",
    "#single_hand_preds"
   ]
  },
  {
   "cell_type": "code",
   "execution_count": null,
   "id": "0945d8ce",
   "metadata": {},
   "outputs": [],
   "source": []
  },
  {
   "cell_type": "markdown",
   "id": "431f4a8c",
   "metadata": {},
   "source": [
    "## Next Steps"
   ]
  },
  {
   "cell_type": "code",
   "execution_count": null,
   "id": "62678b89",
   "metadata": {},
   "outputs": [],
   "source": [
    "# Build separate model for team tricks won\n",
    "\n",
    "# Standardize input features to linear model\n",
    "# Cross-validate tree-based models - RF, GBM, etc.\n",
    "# sklearn pipeline\n",
    "\n",
    "# PyTorch models\n",
    "    # compare PyTorch version vs. sklearn\n",
    "# Classification models to predict likelihood for each score outcome\n",
    "\n",
    "# EUCHRE questions to answer:\n",
    "# Is it possible to take a trick with an off-suit Jack, that wouldn't have been taken with the 10 or 9 ???\n",
    "\n",
    "# Is there ever a time when knowing the current score of the game should affect which card to play?\n",
    "    # If opponent has 9 points, play more aggressively?\n",
    "\n",
    "# Is there ever a time when knowing the current number of tricks taken should affect which card to play?\n",
    "    # If opponents have taken 2 tricks already, play more aggressively?   "
   ]
  },
  {
   "cell_type": "code",
   "execution_count": null,
   "id": "fb266331",
   "metadata": {},
   "outputs": [],
   "source": []
  },
  {
   "cell_type": "markdown",
   "id": "a944b46d",
   "metadata": {},
   "source": [
    "### Write out all hand results to csv local"
   ]
  },
  {
   "cell_type": "code",
   "execution_count": null,
   "id": "121198b0",
   "metadata": {},
   "outputs": [],
   "source": [
    "pwd"
   ]
  },
  {
   "cell_type": "code",
   "execution_count": null,
   "id": "92a9cc66",
   "metadata": {},
   "outputs": [],
   "source": [
    "all_hand_results_df = pd.read_csv('all_hand_results.csv')"
   ]
  },
  {
   "cell_type": "code",
   "execution_count": null,
   "id": "3ad2bf08",
   "metadata": {},
   "outputs": [],
   "source": [
    "all_hand_results_df.shape"
   ]
  },
  {
   "cell_type": "code",
   "execution_count": null,
   "id": "0773efd6",
   "metadata": {},
   "outputs": [],
   "source": [
    "hand_results_40k_df = all_hand_results_df.head(40000)\n",
    "hand_results_40k_df.shape"
   ]
  },
  {
   "cell_type": "code",
   "execution_count": null,
   "id": "413a8b50",
   "metadata": {},
   "outputs": [],
   "source": [
    "hand_results_40k_df.to_csv('hand_results_40k.csv', index=False)"
   ]
  },
  {
   "cell_type": "code",
   "execution_count": null,
   "id": "99faa895",
   "metadata": {},
   "outputs": [],
   "source": []
  },
  {
   "cell_type": "code",
   "execution_count": null,
   "id": "72b27ddd",
   "metadata": {},
   "outputs": [],
   "source": []
  },
  {
   "cell_type": "code",
   "execution_count": null,
   "id": "0d0e9f0c",
   "metadata": {},
   "outputs": [],
   "source": []
  }
 ],
 "metadata": {
  "kernelspec": {
   "display_name": "Python 3",
   "language": "python",
   "name": "python3"
  },
  "language_info": {
   "codemirror_mode": {
    "name": "ipython",
    "version": 3
   },
   "file_extension": ".py",
   "mimetype": "text/x-python",
   "name": "python",
   "nbconvert_exporter": "python",
   "pygments_lexer": "ipython3",
   "version": "3.8.8"
  }
 },
 "nbformat": 4,
 "nbformat_minor": 5
}
