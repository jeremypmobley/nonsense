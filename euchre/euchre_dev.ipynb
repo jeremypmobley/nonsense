{
 "cells": [
  {
   "cell_type": "markdown",
   "id": "ee8b4ded",
   "metadata": {},
   "source": [
    "# Euchre\n",
    "Goal: code up a playable euchre game to better understand winning probabilities of different starting hands  \n",
    "Given: Right, Ace, Queen, off Ace, off ten; 3-suited, dealer spot - what's the likelihood of winning each number of tricks that round?  \n",
    "Genetic Algorithm to determine next play would be cool - start with random strategy, adapt to new weights as games progress  \n",
    "Streamlit app where user can select cards in hand and table position and get breakdown of likelihood of taking 5/4/3/2/1/0 tricks"
   ]
  },
  {
   "cell_type": "code",
   "execution_count": 1,
   "id": "9d58584f",
   "metadata": {},
   "outputs": [],
   "source": [
    "%load_ext autoreload\n",
    "%autoreload 2\n",
    "\n",
    "import numpy as np\n",
    "import sys\n",
    "\n",
    "sys.path.insert(0, 'C:/Users/jerem/Desktop/nonsense/euchre/')"
   ]
  },
  {
   "cell_type": "code",
   "execution_count": 2,
   "id": "189456a5",
   "metadata": {},
   "outputs": [],
   "source": [
    "from utils import EuchreGame"
   ]
  },
  {
   "cell_type": "markdown",
   "id": "36ce95d2",
   "metadata": {},
   "source": [
    "### Create Game object, check attributes"
   ]
  },
  {
   "cell_type": "code",
   "execution_count": 3,
   "id": "edde75bc",
   "metadata": {},
   "outputs": [],
   "source": [
    "euchre_game = EuchreGame()"
   ]
  },
  {
   "cell_type": "code",
   "execution_count": 4,
   "id": "0c5e25a1",
   "metadata": {},
   "outputs": [
    {
     "data": {
      "text/plain": [
       "{'t1': 0, 't2': 0}"
      ]
     },
     "execution_count": 4,
     "metadata": {},
     "output_type": "execute_result"
    }
   ],
   "source": [
    "euchre_game.score"
   ]
  },
  {
   "cell_type": "code",
   "execution_count": 5,
   "id": "0500989c",
   "metadata": {},
   "outputs": [
    {
     "data": {
      "text/plain": [
       "'p1'"
      ]
     },
     "execution_count": 5,
     "metadata": {},
     "output_type": "execute_result"
    }
   ],
   "source": [
    "euchre_game.dealer"
   ]
  },
  {
   "cell_type": "code",
   "execution_count": 6,
   "id": "455a4758",
   "metadata": {},
   "outputs": [
    {
     "data": {
      "text/plain": [
       "['p2', 'p3', 'p4', 'p1']"
      ]
     },
     "execution_count": 6,
     "metadata": {},
     "output_type": "execute_result"
    }
   ],
   "source": [
    "euchre_game.next_to_deal"
   ]
  },
  {
   "cell_type": "code",
   "execution_count": 7,
   "id": "495a2571",
   "metadata": {},
   "outputs": [
    {
     "name": "stdout",
     "output_type": "stream",
     "text": [
      "Current score: 0-0\n"
     ]
    }
   ],
   "source": [
    "euchre_game.print_score()"
   ]
  },
  {
   "cell_type": "code",
   "execution_count": 8,
   "id": "3261df2d",
   "metadata": {},
   "outputs": [
    {
     "data": {
      "text/plain": [
       "['S', 'C', 'H', 'D']"
      ]
     },
     "execution_count": 8,
     "metadata": {},
     "output_type": "execute_result"
    }
   ],
   "source": [
    "euchre_game.card_suits"
   ]
  },
  {
   "cell_type": "code",
   "execution_count": 9,
   "id": "1a0f9da4",
   "metadata": {},
   "outputs": [
    {
     "data": {
      "text/plain": [
       "['A', 'K', 'Q', 'J', 'T', '9']"
      ]
     },
     "execution_count": 9,
     "metadata": {},
     "output_type": "execute_result"
    }
   ],
   "source": [
    "euchre_game.card_values"
   ]
  },
  {
   "cell_type": "code",
   "execution_count": 10,
   "id": "0393bc91",
   "metadata": {},
   "outputs": [
    {
     "name": "stdout",
     "output_type": "stream",
     "text": [
      "9_S,9_C,9_H,9_D,T_S,T_C,T_H,T_D,J_S,J_C,J_H,J_D,Q_S,Q_C,Q_H,Q_D,K_S,K_C,K_H,K_D,A_S,A_C,A_H,A_D,"
     ]
    }
   ],
   "source": [
    "deck_of_cards = euchre_game.shuffle_deck_of_cards()\n",
    "for card in deck_of_cards:\n",
    "    print(card, end=',')"
   ]
  },
  {
   "cell_type": "markdown",
   "id": "579b287e",
   "metadata": {},
   "source": [
    "### Deal cards"
   ]
  },
  {
   "cell_type": "code",
   "execution_count": 11,
   "id": "4f2f3ecb",
   "metadata": {},
   "outputs": [
    {
     "name": "stdout",
     "output_type": "stream",
     "text": [
      "None\n"
     ]
    }
   ],
   "source": [
    "player_hands, card_flipped_up = euchre_game.deal_hand()"
   ]
  },
  {
   "cell_type": "code",
   "execution_count": 12,
   "id": "04890ccf",
   "metadata": {},
   "outputs": [
    {
     "data": {
      "text/plain": [
       "{'p1': ['Q_C', 'J_C', 'A_H', 'Q_D', 'K_S'],\n",
       " 'p2': ['A_D', 'K_H', '9_H', 'T_D', 'K_C'],\n",
       " 'p3': ['Q_H', 'A_C', 'J_D', '9_C', 'T_C'],\n",
       " 'p4': ['9_S', 'K_D', 'Q_S', '9_D', 'J_H']}"
      ]
     },
     "execution_count": 12,
     "metadata": {},
     "output_type": "execute_result"
    }
   ],
   "source": [
    "player_hands"
   ]
  },
  {
   "cell_type": "code",
   "execution_count": 13,
   "id": "86db0ae9",
   "metadata": {},
   "outputs": [
    {
     "data": {
      "text/plain": [
       "'T_S'"
      ]
     },
     "execution_count": 13,
     "metadata": {},
     "output_type": "execute_result"
    }
   ],
   "source": [
    "card_flipped_up"
   ]
  },
  {
   "cell_type": "code",
   "execution_count": null,
   "id": "226d3092",
   "metadata": {},
   "outputs": [],
   "source": []
  },
  {
   "cell_type": "markdown",
   "id": "e91ea086",
   "metadata": {},
   "source": [
    "### Choose suit for trump"
   ]
  },
  {
   "cell_type": "code",
   "execution_count": 14,
   "id": "91e4996f",
   "metadata": {},
   "outputs": [],
   "source": [
    "if euchre_game.eval_flipped_card(suit='S', hand=['K_S', 'A_H', 'A_C', 'J_C', 'J_S']):\n",
    "    print('order up trump')"
   ]
  },
  {
   "cell_type": "code",
   "execution_count": 15,
   "id": "f40dba46",
   "metadata": {},
   "outputs": [
    {
     "name": "stdout",
     "output_type": "stream",
     "text": [
      "order up trump\n"
     ]
    }
   ],
   "source": [
    "if euchre_game.eval_flipped_card(suit='S', hand=['K_S', 'A_H', 'A_S', 'J_C', 'J_S']):\n",
    "    print('order up trump')"
   ]
  },
  {
   "cell_type": "code",
   "execution_count": 16,
   "id": "e198e31d",
   "metadata": {},
   "outputs": [
    {
     "data": {
      "text/plain": [
       "'S'"
      ]
     },
     "execution_count": 16,
     "metadata": {},
     "output_type": "execute_result"
    }
   ],
   "source": [
    "euchre_game.choose_open_trump(hand=['K_S', 'A_S', 'A_C', 'J_C', 'J_S'], \n",
    "                  card_flipped_up='A_D')"
   ]
  },
  {
   "cell_type": "code",
   "execution_count": 17,
   "id": "357c20a4",
   "metadata": {},
   "outputs": [],
   "source": [
    "euchre_game.choose_open_trump(hand=['K_S', 'A_H', 'A_C', 'J_C', 'J_S'], \n",
    "                  card_flipped_up='A_D')"
   ]
  },
  {
   "cell_type": "code",
   "execution_count": 18,
   "id": "b2c6bd7b",
   "metadata": {},
   "outputs": [
    {
     "name": "stdout",
     "output_type": "stream",
     "text": [
      "None\n"
     ]
    }
   ],
   "source": [
    "calling_player, trump = euchre_game.determine_trump(card_flipped_up=card_flipped_up,\n",
    "                           player_hands=player_hands)"
   ]
  },
  {
   "cell_type": "code",
   "execution_count": 19,
   "id": "22c27f20",
   "metadata": {},
   "outputs": [
    {
     "name": "stdout",
     "output_type": "stream",
     "text": [
      "{'p1': ['Q_C', 'J_C', 'A_H', 'Q_D', 'K_S'], 'p2': ['A_D', 'K_H', '9_H', 'T_D', 'K_C'], 'p3': ['Q_H', 'A_C', 'J_D', '9_C', 'T_C'], 'p4': ['9_S', 'K_D', 'Q_S', '9_D', 'J_H']}\n",
      "p3\n",
      "C\n"
     ]
    }
   ],
   "source": [
    "print(player_hands)\n",
    "print(calling_player)\n",
    "print(trump)"
   ]
  },
  {
   "cell_type": "code",
   "execution_count": null,
   "id": "b03a7e64",
   "metadata": {},
   "outputs": [],
   "source": []
  },
  {
   "cell_type": "markdown",
   "id": "aee5ba3c",
   "metadata": {},
   "source": [
    "### Play trick"
   ]
  },
  {
   "cell_type": "code",
   "execution_count": 21,
   "id": "2f545d88",
   "metadata": {},
   "outputs": [
    {
     "name": "stdout",
     "output_type": "stream",
     "text": [
      "Player p2 plays A_D, Player p3 plays T_C, Player p4 plays J_H, Player p1 plays K_S, "
     ]
    }
   ],
   "source": [
    "cards_in_play, player_led = euchre_game.play_trick(player_hands=player_hands, \n",
    "                                                   trump=trump, \n",
    "                                                   next_to_play_list=euchre_game.next_to_deal, \n",
    "                                                   cards_played_this_hand = [], \n",
    "                                                   verbose=True)"
   ]
  },
  {
   "cell_type": "code",
   "execution_count": 22,
   "id": "848bd841",
   "metadata": {},
   "outputs": [
    {
     "data": {
      "text/plain": [
       "{'p2': 'A_D', 'p3': 'T_C', 'p4': 'J_H', 'p1': 'K_S'}"
      ]
     },
     "execution_count": 22,
     "metadata": {},
     "output_type": "execute_result"
    }
   ],
   "source": [
    "cards_in_play"
   ]
  },
  {
   "cell_type": "code",
   "execution_count": 23,
   "id": "7b2fdd61",
   "metadata": {},
   "outputs": [
    {
     "data": {
      "text/plain": [
       "'p2'"
      ]
     },
     "execution_count": 23,
     "metadata": {},
     "output_type": "execute_result"
    }
   ],
   "source": [
    "player_led"
   ]
  },
  {
   "cell_type": "markdown",
   "id": "33d39848",
   "metadata": {},
   "source": [
    "#### Determine trick winner"
   ]
  },
  {
   "cell_type": "code",
   "execution_count": 42,
   "id": "e1be5e00",
   "metadata": {},
   "outputs": [
    {
     "name": "stdout",
     "output_type": "stream",
     "text": [
      "p3 wins trick\n"
     ]
    },
    {
     "data": {
      "text/plain": [
       "'p3'"
      ]
     },
     "execution_count": 42,
     "metadata": {},
     "output_type": "execute_result"
    }
   ],
   "source": [
    "euchre_game.determine_trick_winner(cards_in_play={'p2': '9_S', 'p3': 'J_C', 'p4': 'J_H', 'p1': 'A_S'}, \n",
    "                           trump='S', \n",
    "                           player_led=player_led, \n",
    "                                   verbose=True)"
   ]
  },
  {
   "cell_type": "code",
   "execution_count": 47,
   "id": "aa320b76",
   "metadata": {},
   "outputs": [
    {
     "data": {
      "text/plain": [
       "'p1'"
      ]
     },
     "execution_count": 47,
     "metadata": {},
     "output_type": "execute_result"
    }
   ],
   "source": [
    "euchre_game.determine_trick_winner(cards_in_play={'p2': '9_S', 'p3': 'J_C', 'p4': 'J_S', 'p1': 'A_S'}, \n",
    "                           trump='D', \n",
    "                           player_led=player_led, \n",
    "                                   verbose=False)"
   ]
  },
  {
   "cell_type": "code",
   "execution_count": 46,
   "id": "17803ea1",
   "metadata": {},
   "outputs": [
    {
     "data": {
      "text/plain": [
       "'p3'"
      ]
     },
     "execution_count": 46,
     "metadata": {},
     "output_type": "execute_result"
    }
   ],
   "source": [
    "trick_winner = euchre_game.determine_trick_winner(cards_in_play=cards_in_play,\n",
    "                                           trump=trump,\n",
    "                                           player_led=player_led)\n",
    "\n",
    "trick_winner"
   ]
  },
  {
   "cell_type": "code",
   "execution_count": null,
   "id": "0132780d",
   "metadata": {},
   "outputs": [],
   "source": []
  },
  {
   "cell_type": "markdown",
   "id": "c6fa7b39",
   "metadata": {},
   "source": [
    "#### Swap card in dealer hand"
   ]
  },
  {
   "cell_type": "code",
   "execution_count": 171,
   "id": "ca9334cb",
   "metadata": {},
   "outputs": [
    {
     "name": "stdout",
     "output_type": "stream",
     "text": [
      "Dealer discards 9_H and picks up A_S\n"
     ]
    },
    {
     "data": {
      "text/plain": [
       "['J_H', 'A_D', 'K_S', 'J_D', 'A_S']"
      ]
     },
     "execution_count": 171,
     "metadata": {},
     "output_type": "execute_result"
    }
   ],
   "source": [
    "new_dealer_hand = euchre_game.swap_dealer_card(card_flipped_up='A_S', dealer_hand=['J_H', 'A_D', '9_H', 'K_S', 'J_D'], \n",
    "                                               verbose=True)\n",
    "new_dealer_hand"
   ]
  },
  {
   "cell_type": "code",
   "execution_count": 172,
   "id": "b56f77f7",
   "metadata": {},
   "outputs": [
    {
     "name": "stdout",
     "output_type": "stream",
     "text": [
      "Dealer discards T_D and picks up 9_S\n"
     ]
    },
    {
     "data": {
      "text/plain": [
       "['J_H', 'T_H', 'K_S', 'J_D', '9_S']"
      ]
     },
     "execution_count": 172,
     "metadata": {},
     "output_type": "execute_result"
    }
   ],
   "source": [
    "new_dealer_hand = euchre_game.swap_dealer_card(card_flipped_up='9_S', dealer_hand=['J_H', 'T_D', 'T_H', 'K_S', 'J_D'], \n",
    "                                               verbose=True)\n",
    "new_dealer_hand"
   ]
  },
  {
   "cell_type": "code",
   "execution_count": null,
   "id": "63f953fd",
   "metadata": {},
   "outputs": [],
   "source": []
  },
  {
   "cell_type": "markdown",
   "id": "19749e5b",
   "metadata": {},
   "source": [
    "### Play card"
   ]
  },
  {
   "cell_type": "code",
   "execution_count": 30,
   "id": "67865ab6",
   "metadata": {},
   "outputs": [
    {
     "data": {
      "text/plain": [
       "'J_D'"
      ]
     },
     "execution_count": 30,
     "metadata": {},
     "output_type": "execute_result"
    }
   ],
   "source": [
    "euchre_game.play_card(hand=['J_H', 'A_D', '9_H', 'K_S', 'J_D'], \n",
    "                      trump='S',\n",
    "                      cards_in_play=['K_H', 'T_H'], \n",
    "                      cards_played_this_hand=[], \n",
    "                      suit_led='H')"
   ]
  },
  {
   "cell_type": "code",
   "execution_count": 32,
   "id": "69a5755d",
   "metadata": {},
   "outputs": [
    {
     "data": {
      "text/plain": [
       "'A_C'"
      ]
     },
     "execution_count": 32,
     "metadata": {},
     "output_type": "execute_result"
    }
   ],
   "source": [
    "euchre_game.play_card(hand=['9_D', 'T_C', '9_C', 'J_H', 'A_C'],\n",
    "                      trump='S',\n",
    "                      cards_in_play=[],\n",
    "                      cards_played_this_hand=[], \n",
    "                      suit_led=None)"
   ]
  },
  {
   "cell_type": "code",
   "execution_count": 34,
   "id": "aa5a889d",
   "metadata": {},
   "outputs": [
    {
     "data": {
      "text/plain": [
       "'J_S'"
      ]
     },
     "execution_count": 34,
     "metadata": {},
     "output_type": "execute_result"
    }
   ],
   "source": [
    "euchre_game.play_card(hand=['9_D', 'T_C', '9_C', 'J_S', 'A_C'],\n",
    "          trump='S',\n",
    "          cards_in_play=[],\n",
    "                      cards_played_this_hand=[], \n",
    "          suit_led=None)"
   ]
  },
  {
   "cell_type": "code",
   "execution_count": 35,
   "id": "c0931e5c",
   "metadata": {},
   "outputs": [
    {
     "data": {
      "text/plain": [
       "'A_C'"
      ]
     },
     "execution_count": 35,
     "metadata": {},
     "output_type": "execute_result"
    }
   ],
   "source": [
    "euchre_game.play_card(hand=['9_D', 'T_C', '9_C', 'J_S', 'A_C'],\n",
    "          trump='S',\n",
    "          cards_in_play=['K_C'],\n",
    "                                cards_played_this_hand=[], \n",
    "          suit_led=None)"
   ]
  },
  {
   "cell_type": "code",
   "execution_count": null,
   "id": "b9272388",
   "metadata": {},
   "outputs": [],
   "source": []
  },
  {
   "cell_type": "code",
   "execution_count": 93,
   "id": "31cdd5d1",
   "metadata": {},
   "outputs": [
    {
     "data": {
      "text/plain": [
       "'J_S'"
      ]
     },
     "execution_count": 93,
     "metadata": {},
     "output_type": "execute_result"
    }
   ],
   "source": [
    "euchre_game.play_random_card(hand=['9_D', 'T_C', '9_C', 'J_S', 'A_C'], \n",
    "                             suit_led=None)"
   ]
  },
  {
   "cell_type": "code",
   "execution_count": 94,
   "id": "5b7e493c",
   "metadata": {},
   "outputs": [
    {
     "data": {
      "text/plain": [
       "'9_D'"
      ]
     },
     "execution_count": 94,
     "metadata": {},
     "output_type": "execute_result"
    }
   ],
   "source": [
    "euchre_game.play_random_card(hand=['9_D', 'T_C', '9_C', 'J_S', 'A_C'], \n",
    "                             suit_led='D')"
   ]
  },
  {
   "cell_type": "code",
   "execution_count": 97,
   "id": "ad4c125d",
   "metadata": {},
   "outputs": [
    {
     "data": {
      "text/plain": [
       "'9_C'"
      ]
     },
     "execution_count": 97,
     "metadata": {},
     "output_type": "execute_result"
    }
   ],
   "source": [
    "euchre_game.play_random_card(hand=['9_D', 'T_C', '9_C', 'J_S', 'A_C'], \n",
    "                             suit_led='C')"
   ]
  },
  {
   "cell_type": "code",
   "execution_count": null,
   "id": "49098e55",
   "metadata": {},
   "outputs": [],
   "source": []
  },
  {
   "cell_type": "code",
   "execution_count": null,
   "id": "b8b94400",
   "metadata": {},
   "outputs": [],
   "source": [
    "def play_hand(self,\n",
    "              verbose=False):\n",
    "    \"\"\"\n",
    "    Function to play a single hand\n",
    "    Applies deal_hand and determine_trump functions, then loops through play_trick 5 times and updates scores\n",
    "\n",
    "    :param verbose: True/False to print out log statements\n",
    "    :returns None\n",
    "    \"\"\"\n",
    "    hand_results = {}\n",
    "    # deal cards\n",
    "    player_hands, card_flipped_up = self.deal_hand(verbose=verbose)\n",
    "    # choose trump\n",
    "    calling_player, trump = self.determine_trump(card_flipped_up=card_flipped_up,\n",
    "                                                 player_hands=player_hands,\n",
    "                                                 verbose=verbose)\n",
    "\n",
    "    if trump is not None:\n",
    "        if card_flipped_up[-1] == trump:\n",
    "            self.swap_dealer_card(card_flipped_up=card_flipped_up,\n",
    "                                  dealer_hand=player_hands[self.dealer],\n",
    "                                  verbose=verbose)\n",
    "        trick_winners = {p: 0 for p in self.next_to_deal}\n",
    "        next_to_play_list = self.next_to_deal\n",
    "        cards_played_this_hand = []\n",
    "        for trick in range(5):\n",
    "            cards_in_play, player_led = self.play_trick(player_hands=player_hands,\n",
    "                                                        trump=trump,\n",
    "                                                        next_to_play_list=next_to_play_list,\n",
    "                                                        cards_played_this_hand=cards_played_this_hand,\n",
    "                                                        verbose=verbose)\n",
    "            trick_winner = self.determine_trick_winner(cards_in_play=cards_in_play,\n",
    "                                                       trump=trump,\n",
    "                                                       player_led=player_led,\n",
    "                                                       verbose=verbose)\n",
    "            trick_winners[trick_winner] += 1\n",
    "            next_to_play_list = self.get_next_trick_order(trick_winner)\n",
    "            # print_if_verbose(f'Cards played this hand list {cards_played_this_hand}', verbose=verbose)\n",
    "        print_if_verbose(f'Trick winners: {trick_winners}', verbose=verbose)\n",
    "\n",
    "        # update score\n",
    "        self.update_score(trick_winners=trick_winners,\n",
    "                          calling_player=calling_player,\n",
    "                          verbose=verbose)\n",
    "        if verbose:\n",
    "            self.print_score()\n",
    "\n",
    "        self.dealer = self.next_to_deal.pop(0)\n",
    "        self.next_to_deal.append(self.dealer)\n",
    "        return hand_results\n",
    "    else:\n",
    "        print_if_verbose('Trump not found', verbose=verbose)\n",
    "        self.dealer = self.next_to_deal.pop(0)\n",
    "        self.next_to_deal.append(self.dealer)\n"
   ]
  },
  {
   "cell_type": "code",
   "execution_count": null,
   "id": "f3189e72",
   "metadata": {},
   "outputs": [],
   "source": []
  },
  {
   "cell_type": "code",
   "execution_count": null,
   "id": "44b98bec",
   "metadata": {},
   "outputs": [],
   "source": []
  },
  {
   "cell_type": "code",
   "execution_count": null,
   "id": "57a54a90",
   "metadata": {},
   "outputs": [],
   "source": []
  },
  {
   "cell_type": "markdown",
   "id": "976ca371",
   "metadata": {},
   "source": [
    "### Play full game"
   ]
  },
  {
   "cell_type": "code",
   "execution_count": 207,
   "id": "74567bc0",
   "metadata": {},
   "outputs": [
    {
     "name": "stdout",
     "output_type": "stream",
     "text": [
      "Hand #0- Dealer: p1; Card flipped up: J_H\n",
      "Player p3 has chosen S as trump\n",
      "Player p2 plays T_H, Player p3 plays Q_S, Player p4 plays J_C, Player p1 plays K_S, p4 wins trick\n",
      "Player p4 plays A_D, Player p1 plays T_D, Player p2 plays 9_C, Player p3 plays J_D, p4 wins trick\n",
      "Player p4 plays 9_D, Player p1 plays Q_D, Player p2 plays 9_H, Player p3 plays Q_C, p1 wins trick\n",
      "Player p1 plays A_C, Player p2 plays K_D, Player p3 plays J_S, Player p4 plays K_C, p3 wins trick\n",
      "Player p3 plays 9_S, Player p4 plays T_C, Player p1 plays T_S, Player p2 plays A_S, p2 wins trick\n",
      "Trick winners: {'p2': 1, 'p3': 1, 'p4': 2, 'p1': 1}\n",
      "t2 scores 2\n",
      "Current score: 0-2\n",
      "Hand #1- Dealer: p2; Card flipped up: 9_H\n",
      "Player p3 has chosen C as trump\n",
      "Player p3 plays 9_C, Player p4 plays T_H, Player p1 plays Q_H, Player p2 plays A_C, p2 wins trick\n",
      "Player p2 plays J_C, Player p3 plays T_C, Player p4 plays A_S, Player p1 plays 9_S, p2 wins trick\n",
      "Player p2 plays Q_S, Player p3 plays T_D, Player p4 plays Q_D, Player p1 plays K_H, p2 wins trick\n",
      "Player p2 plays T_S, Player p3 plays 9_D, Player p4 plays A_D, Player p1 plays J_D, p2 wins trick\n",
      "Player p2 plays K_S, Player p3 plays Q_C, Player p4 plays K_D, Player p1 plays K_C, p1 wins trick\n",
      "Trick winners: {'p3': 0, 'p4': 0, 'p1': 1, 'p2': 4}\n",
      "t2 scores 2\n",
      "Current score: 0-4\n",
      "Hand #2- Dealer: p3; Card flipped up: 9_H\n",
      "Player p1 has chosen D as trump\n",
      "Player p4 plays J_C, Player p1 plays T_S, Player p2 plays Q_S, Player p3 plays Q_H, p4 wins trick\n",
      "Player p4 plays 9_S, Player p1 plays A_D, Player p2 plays T_D, Player p3 plays T_C, p1 wins trick\n",
      "Player p1 plays K_C, Player p2 plays 9_C, Player p3 plays A_H, Player p4 plays K_H, p1 wins trick\n",
      "Player p1 plays 9_D, Player p2 plays J_S, Player p3 plays J_D, Player p4 plays K_D, p3 wins trick\n",
      "Player p3 plays Q_C, Player p4 plays K_S, Player p1 plays Q_D, Player p2 plays T_H, p1 wins trick\n",
      "Trick winners: {'p4': 1, 'p1': 3, 'p2': 0, 'p3': 1}\n",
      "t1 scores 1\n",
      "Current score: 1-4\n",
      "Hand #3- Dealer: p4; Card flipped up: T_H\n",
      "Player p4 has chosen D as trump\n",
      "Player p1 plays K_H, Player p2 plays Q_H, Player p3 plays Q_C, Player p4 plays Q_D, p4 wins trick\n",
      "Player p4 plays A_H, Player p1 plays 9_D, Player p2 plays A_C, Player p3 plays 9_H, p1 wins trick\n",
      "Player p1 plays 9_C, Player p2 plays J_C, Player p3 plays 9_S, Player p4 plays Q_S, p2 wins trick\n",
      "Player p2 plays J_S, Player p3 plays A_S, Player p4 plays A_D, Player p1 plays T_C, p4 wins trick\n",
      "Player p4 plays J_D, Player p1 plays J_H, Player p2 plays T_S, Player p3 plays T_D, p4 wins trick\n",
      "Trick winners: {'p1': 1, 'p2': 1, 'p3': 0, 'p4': 3}\n",
      "t2 scores 1\n",
      "Current score: 1-5\n",
      "Hand #4- Dealer: p1; Card flipped up: T_S\n",
      "Player p1 has chosen S as trump\n",
      "Dealer discards 9_H and picks up T_S\n",
      "Player p2 plays A_H, Player p3 plays Q_S, Player p4 plays Q_C, Player p1 plays T_S, p3 wins trick\n",
      "Player p3 plays A_C, Player p4 plays 9_C, Player p1 plays 9_S, Player p2 plays T_D, p1 wins trick\n",
      "Player p1 plays A_S, Player p2 plays J_D, Player p3 plays K_D, Player p4 plays 9_D, p1 wins trick\n",
      "Player p1 plays K_S, Player p2 plays K_H, Player p3 plays J_H, Player p4 plays J_S, p4 wins trick\n",
      "Player p4 plays T_C, Player p1 plays Q_D, Player p2 plays J_C, Player p3 plays Q_H, p2 wins trick\n",
      "Trick winners: {'p2': 1, 'p3': 1, 'p4': 1, 'p1': 2}\n",
      "t1 scores 1\n",
      "Current score: 2-5\n",
      "Hand #5- Dealer: p2; Card flipped up: 9_C\n",
      "Player p3 has chosen C as trump\n",
      "Dealer discards 9_D and picks up 9_C\n",
      "Player p3 plays A_S, Player p4 plays 9_S, Player p1 plays T_S, Player p2 plays 9_C, p2 wins trick\n",
      "Player p2 plays Q_D, Player p3 plays K_H, Player p4 plays K_D, Player p1 plays J_S, p1 wins trick\n",
      "Player p1 plays Q_S, Player p2 plays J_D, Player p3 plays A_C, Player p4 plays A_H, p3 wins trick\n",
      "Player p3 plays T_C, Player p4 plays J_C, Player p1 plays 9_H, Player p2 plays T_H, p4 wins trick\n",
      "Player p4 plays Q_H, Player p1 plays K_S, Player p2 plays Q_C, Player p3 plays K_C, p3 wins trick\n",
      "Trick winners: {'p3': 2, 'p4': 1, 'p1': 1, 'p2': 1}\n",
      "t1 scores 1\n",
      "Current score: 3-5\n",
      "Hand #6- Dealer: p3; Card flipped up: T_S\n",
      "Player p4 has chosen D as trump\n",
      "Player p4 plays J_D, Player p1 plays T_D, Player p2 plays Q_H, Player p3 plays Q_S, p4 wins trick\n",
      "Player p4 plays Q_C, Player p1 plays K_H, Player p2 plays A_H, Player p3 plays K_C, p3 wins trick\n",
      "Player p3 plays T_C, Player p4 plays K_D, Player p1 plays A_S, Player p2 plays K_S, p4 wins trick\n",
      "Player p4 plays A_D, Player p1 plays J_S, Player p2 plays 9_S, Player p3 plays 9_D, p4 wins trick\n",
      "Player p4 plays T_H, Player p1 plays Q_D, Player p2 plays 9_C, Player p3 plays 9_H, p1 wins trick\n",
      "Trick winners: {'p4': 3, 'p1': 1, 'p2': 0, 'p3': 1}\n",
      "t2 scores 1\n",
      "Current score: 3-6\n",
      "Hand #7- Dealer: p4; Card flipped up: 9_S\n",
      "Player p2 has chosen H as trump\n",
      "Player p1 plays J_C, Player p2 plays J_H, Player p3 plays Q_S, Player p4 plays K_S, p2 wins trick\n",
      "Player p2 plays 9_H, Player p3 plays Q_H, Player p4 plays T_C, Player p1 plays J_S, p3 wins trick\n",
      "Player p3 plays Q_C, Player p4 plays A_S, Player p1 plays T_D, Player p2 plays K_D, p3 wins trick\n",
      "Player p3 plays T_S, Player p4 plays 9_C, Player p1 plays Q_D, Player p2 plays K_C, p3 wins trick\n",
      "Player p3 plays A_D, Player p4 plays T_H, Player p1 plays K_H, Player p2 plays A_H, p2 wins trick\n",
      "Trick winners: {'p1': 0, 'p2': 2, 'p3': 3, 'p4': 0}\n",
      "t1 scores 2\n",
      "Current score: 5-6\n",
      "Hand #8- Dealer: p1; Card flipped up: T_S\n",
      "Player p3 has chosen S as trump\n",
      "Dealer discards 9_D and picks up T_S\n",
      "Player p2 plays A_H, Player p3 plays J_S, Player p4 plays 9_S, Player p1 plays T_S, p3 wins trick\n",
      "Player p3 plays Q_C, Player p4 plays 9_C, Player p1 plays T_D, Player p2 plays K_H, p3 wins trick\n",
      "Player p3 plays J_D, Player p4 plays Q_H, Player p1 plays K_D, Player p2 plays 9_H, p1 wins trick\n",
      "Player p1 plays T_H, Player p2 plays K_C, Player p3 plays A_S, Player p4 plays A_C, p3 wins trick\n",
      "Player p3 plays K_S, Player p4 plays J_H, Player p1 plays J_C, Player p2 plays Q_S, p1 wins trick\n",
      "Trick winners: {'p2': 0, 'p3': 3, 'p4': 0, 'p1': 2}\n",
      "t1 scores 2\n",
      "Current score: 7-6\n",
      "Hand #9- Dealer: p2; Card flipped up: 9_H\n",
      "Player p3 has chosen S as trump\n",
      "Player p3 plays J_S, Player p4 plays T_D, Player p1 plays Q_H, Player p2 plays A_S, p3 wins trick\n",
      "Player p3 plays T_S, Player p4 plays A_C, Player p1 plays 9_C, Player p2 plays K_S, p2 wins trick\n",
      "Player p2 plays J_C, Player p3 plays Q_S, Player p4 plays T_H, Player p1 plays J_D, p2 wins trick\n",
      "Player p2 plays Q_C, Player p3 plays 9_D, Player p4 plays A_D, Player p1 plays A_H, p2 wins trick\n",
      "Player p2 plays J_H, Player p3 plays Q_D, Player p4 plays 9_S, Player p1 plays K_C, p4 wins trick\n",
      "Trick winners: {'p3': 1, 'p4': 1, 'p1': 0, 'p2': 3}\n",
      "t2 scores 2\n",
      "Current score: 7-8\n",
      "Hand #10- Dealer: p3; Card flipped up: 9_D\n",
      "Player p2 has chosen S as trump\n",
      "Player p4 plays K_C, Player p1 plays Q_H, Player p2 plays K_S, Player p3 plays K_H, p2 wins trick\n",
      "Player p2 plays J_S, Player p3 plays T_H, Player p4 plays T_C, Player p1 plays A_C, p2 wins trick\n",
      "Player p2 plays 9_C, Player p3 plays K_D, Player p4 plays T_D, Player p1 plays A_D, p2 wins trick\n",
      "Player p2 plays A_S, Player p3 plays J_C, Player p4 plays Q_S, Player p1 plays 9_S, p3 wins trick\n",
      "Player p3 plays Q_D, Player p4 plays 9_H, Player p1 plays A_H, Player p2 plays T_S, p2 wins trick\n",
      "Trick winners: {'p4': 0, 'p1': 0, 'p2': 4, 'p3': 1}\n",
      "t2 scores 1\n",
      "Current score: 7-9\n",
      "Hand #11- Dealer: p4; Card flipped up: 9_H\n",
      "Player p3 has chosen C as trump\n",
      "Player p1 plays A_S, Player p2 plays Q_H, Player p3 plays Q_D, Player p4 plays A_H, p1 wins trick\n",
      "Player p1 plays T_S, Player p2 plays J_H, Player p3 plays K_C, Player p4 plays J_S, p4 wins trick\n",
      "Player p4 plays A_D, Player p1 plays T_C, Player p2 plays K_S, Player p3 plays K_H, p1 wins trick\n",
      "Player p1 plays A_C, Player p2 plays Q_C, Player p3 plays 9_C, Player p4 plays 9_S, p1 wins trick\n",
      "Player p1 plays T_H, Player p2 plays Q_S, Player p3 plays J_C, Player p4 plays J_D, p3 wins trick\n",
      "Trick winners: {'p1': 3, 'p2': 0, 'p3': 1, 'p4': 1}\n",
      "t1 scores 1\n",
      "Current score: 8-9\n",
      "Hand #12- Dealer: p1; Card flipped up: J_S\n",
      "Trump not found\n",
      "Hand #13- Dealer: p2; Card flipped up: 9_S\n",
      "Player p4 has chosen H as trump\n",
      "Player p3 plays A_D, Player p4 plays A_H, Player p1 plays T_C, Player p2 plays A_S, p4 wins trick\n",
      "Player p4 plays J_H, Player p1 plays K_S, Player p2 plays 9_H, Player p3 plays Q_H, p4 wins trick\n",
      "Player p4 plays K_D, Player p1 plays K_H, Player p2 plays Q_D, Player p3 plays Q_S, p1 wins trick\n",
      "Player p1 plays A_C, Player p2 plays T_D, Player p3 plays 9_D, Player p4 plays T_H, p4 wins trick\n",
      "Player p4 plays Q_C, Player p1 plays K_C, Player p2 plays J_C, Player p3 plays 9_C, p1 wins trick\n",
      "Trick winners: {'p3': 0, 'p4': 3, 'p1': 2, 'p2': 0}\n",
      "t2 scores 1\n",
      "Current score: 8-10\n",
      "Total hands played 14\n",
      "Wall time: 42.9 ms\n"
     ]
    }
   ],
   "source": [
    "%%time\n",
    "\n",
    "euchre_game = EuchreGame()\n",
    "euchre_game.play_full_game(verbose=True)"
   ]
  },
  {
   "cell_type": "code",
   "execution_count": 208,
   "id": "06225cf9",
   "metadata": {},
   "outputs": [
    {
     "data": {
      "text/plain": [
       "{'t1': 8, 't2': 10}"
      ]
     },
     "execution_count": 208,
     "metadata": {},
     "output_type": "execute_result"
    }
   ],
   "source": [
    "euchre_game.score"
   ]
  },
  {
   "cell_type": "code",
   "execution_count": null,
   "id": "3c31ed91",
   "metadata": {},
   "outputs": [],
   "source": []
  },
  {
   "cell_type": "code",
   "execution_count": null,
   "id": "4e00e1f3",
   "metadata": {},
   "outputs": [],
   "source": []
  },
  {
   "cell_type": "markdown",
   "id": "c5e79c7b",
   "metadata": {},
   "source": [
    "#### Collect all hands results"
   ]
  },
  {
   "cell_type": "code",
   "execution_count": 209,
   "id": "f739369e",
   "metadata": {},
   "outputs": [
    {
     "data": {
      "text/plain": [
       "[{'player_hands': {'p1': ['J_C', 'K_S', 'A_S', '9_C', 'T_C'],\n",
       "   'p2': ['9_H', '9_S', 'A_H', 'A_C', 'Q_H'],\n",
       "   'p3': ['Q_C', 'K_C', 'J_S', 'A_D', 'Q_D'],\n",
       "   'p4': ['K_D', 'K_H', 'J_D', '9_D', 'T_S']},\n",
       "  'calling_player': 'p2',\n",
       "  'trump': 'H',\n",
       "  'dealer': 'p1',\n",
       "  'trick_winners': {'p2': 2, 'p3': 0, 'p4': 2, 'p1': 1}},\n",
       " {'player_hands': {'p1': ['A_H', 'J_D', 'Q_C', 'T_D', 'J_H'],\n",
       "   'p2': ['K_H', '9_H', 'T_C', 'T_S', 'Q_D'],\n",
       "   'p3': ['J_S', 'K_D', 'A_D', 'A_C', '9_S'],\n",
       "   'p4': ['T_H', 'A_S', 'K_C', 'Q_S', 'K_S']},\n",
       "  'calling_player': 'p4',\n",
       "  'trump': 'S',\n",
       "  'dealer': 'p2',\n",
       "  'trick_winners': {'p3': 3, 'p4': 2, 'p1': 0, 'p2': 0}},\n",
       " {'player_hands': {'p1': ['K_D', 'T_S', 'T_C', 'J_S', 'A_S'],\n",
       "   'p2': ['9_C', 'Q_D', 'K_H', 'A_H', 'Q_H'],\n",
       "   'p3': ['J_C', '9_H', 'A_C', '9_D', 'T_D'],\n",
       "   'p4': ['J_D', 'Q_S', 'T_H', 'K_S', 'A_D']},\n",
       "  'calling_player': 'p1',\n",
       "  'trump': 'S',\n",
       "  'dealer': 'p3',\n",
       "  'trick_winners': {'p4': 1, 'p1': 3, 'p2': 0, 'p3': 1}}]"
      ]
     },
     "execution_count": 209,
     "metadata": {},
     "output_type": "execute_result"
    }
   ],
   "source": [
    "euchre_game = EuchreGame()\n",
    "hand_results = euchre_game.play_full_game(return_all_hands_results=True, verbose=False)\n",
    "hand_results[0:3]"
   ]
  },
  {
   "cell_type": "code",
   "execution_count": 212,
   "id": "3d6586ae",
   "metadata": {},
   "outputs": [
    {
     "data": {
      "text/plain": [
       "19"
      ]
     },
     "execution_count": 212,
     "metadata": {},
     "output_type": "execute_result"
    }
   ],
   "source": [
    "len(hand_results)"
   ]
  },
  {
   "cell_type": "code",
   "execution_count": 211,
   "id": "51de71ba",
   "metadata": {},
   "outputs": [
    {
     "data": {
      "text/plain": [
       "{'player_hands': {'p1': ['K_D', 'T_S', 'T_C', 'J_S', 'A_S'],\n",
       "  'p2': ['9_C', 'Q_D', 'K_H', 'A_H', 'Q_H'],\n",
       "  'p3': ['J_C', '9_H', 'A_C', '9_D', 'T_D'],\n",
       "  'p4': ['J_D', 'Q_S', 'T_H', 'K_S', 'A_D']},\n",
       " 'calling_player': 'p1',\n",
       " 'trump': 'S',\n",
       " 'dealer': 'p3',\n",
       " 'trick_winners': {'p4': 1, 'p1': 3, 'p2': 0, 'p3': 1}}"
      ]
     },
     "execution_count": 211,
     "metadata": {},
     "output_type": "execute_result"
    }
   ],
   "source": [
    "hand_results[2]"
   ]
  },
  {
   "cell_type": "code",
   "execution_count": null,
   "id": "ab8c41dc",
   "metadata": {},
   "outputs": [],
   "source": []
  },
  {
   "cell_type": "markdown",
   "id": "2f4c6b11",
   "metadata": {},
   "source": [
    "#### Profile performance"
   ]
  },
  {
   "cell_type": "code",
   "execution_count": 175,
   "id": "2e3c6ada",
   "metadata": {},
   "outputs": [
    {
     "name": "stdout",
     "output_type": "stream",
     "text": [
      " "
     ]
    }
   ],
   "source": [
    "%%prun\n",
    "\n",
    "euchre_game = EuchreGame()\n",
    "euchre_game.play_full_game(verbose=False)"
   ]
  },
  {
   "cell_type": "code",
   "execution_count": null,
   "id": "cdf51439",
   "metadata": {},
   "outputs": [],
   "source": []
  },
  {
   "cell_type": "markdown",
   "id": "74dd206b",
   "metadata": {},
   "source": [
    "### Loop through games played"
   ]
  },
  {
   "cell_type": "code",
   "execution_count": 176,
   "id": "5b775975",
   "metadata": {
    "scrolled": true
   },
   "outputs": [
    {
     "name": "stdout",
     "output_type": "stream",
     "text": [
      "Wall time: 6.52 s\n"
     ]
    }
   ],
   "source": [
    "%%time\n",
    "\n",
    "N_GAMES_TO_PLAY = 1000\n",
    "\n",
    "games_played = 0\n",
    "t1_wins = 0\n",
    "for i in range(N_GAMES_TO_PLAY):\n",
    "    euchre_game = EuchreGame()\n",
    "    # euchre_game.team_strategies['t2'] = 'random'  # set team 2 strategy to random\n",
    "    euchre_game.play_full_game(verbose=False)\n",
    "    games_played += 1\n",
    "    if euchre_game.score['t1'] > euchre_game.score['t2']:\n",
    "        t1_wins += 1"
   ]
  },
  {
   "cell_type": "code",
   "execution_count": 177,
   "id": "22400492",
   "metadata": {},
   "outputs": [
    {
     "name": "stdout",
     "output_type": "stream",
     "text": [
      "1000\n",
      "486\n"
     ]
    }
   ],
   "source": [
    "print(games_played)\n",
    "print(t1_wins)"
   ]
  },
  {
   "cell_type": "code",
   "execution_count": null,
   "id": "feab7185",
   "metadata": {},
   "outputs": [],
   "source": []
  },
  {
   "cell_type": "code",
   "execution_count": null,
   "id": "a0849474",
   "metadata": {},
   "outputs": [],
   "source": []
  },
  {
   "cell_type": "markdown",
   "id": "53a85321",
   "metadata": {},
   "source": [
    "### Loop through games played, collect hand_results"
   ]
  },
  {
   "cell_type": "code",
   "execution_count": 213,
   "id": "e72ef7f9",
   "metadata": {},
   "outputs": [
    {
     "name": "stdout",
     "output_type": "stream",
     "text": [
      "Wall time: 9.05 s\n"
     ]
    }
   ],
   "source": [
    "%%time\n",
    "\n",
    "N_GAMES_TO_PLAY = 1000\n",
    "\n",
    "all_hand_results = []\n",
    "games_played = 0\n",
    "t1_wins = 0\n",
    "for i in range(N_GAMES_TO_PLAY):\n",
    "    euchre_game = EuchreGame()\n",
    "    # euchre_game.team_strategies['t2'] = 'random'  # set team 2 strategy to random\n",
    "    hand_results = euchre_game.play_full_game(return_all_hands_results=True, verbose=False)\n",
    "    games_played += 1\n",
    "    if euchre_game.score['t1'] > euchre_game.score['t2']:\n",
    "        t1_wins += 1\n",
    "    all_hand_results.append(hand_results)"
   ]
  },
  {
   "cell_type": "code",
   "execution_count": 214,
   "id": "1991283c",
   "metadata": {},
   "outputs": [
    {
     "data": {
      "text/plain": [
       "1000"
      ]
     },
     "execution_count": 214,
     "metadata": {},
     "output_type": "execute_result"
    }
   ],
   "source": [
    "len(all_hand_results)"
   ]
  },
  {
   "cell_type": "code",
   "execution_count": 218,
   "id": "fb4b6e6b",
   "metadata": {},
   "outputs": [
    {
     "data": {
      "text/plain": [
       "{'player_hands': {'p1': ['Q_D', 'T_H', 'Q_S', 'K_C', 'K_D'],\n",
       "  'p2': ['A_H', 'A_D', '9_S', 'A_S', 'K_H'],\n",
       "  'p3': ['9_H', 'T_D', 'J_S', 'J_C', '9_D'],\n",
       "  'p4': ['T_S', 'J_H', '9_C', 'T_C', 'Q_C']},\n",
       " 'calling_player': 'p4',\n",
       " 'trump': 'C',\n",
       " 'dealer': 'p1',\n",
       " 'trick_winners': {'p2': 0, 'p3': 2, 'p4': 3, 'p1': 0}}"
      ]
     },
     "execution_count": 218,
     "metadata": {},
     "output_type": "execute_result"
    }
   ],
   "source": [
    "all_hand_results[0][0]"
   ]
  },
  {
   "cell_type": "code",
   "execution_count": null,
   "id": "8233333d",
   "metadata": {},
   "outputs": [],
   "source": []
  },
  {
   "cell_type": "code",
   "execution_count": null,
   "id": "8b40a001",
   "metadata": {},
   "outputs": [],
   "source": []
  },
  {
   "cell_type": "markdown",
   "id": "c66348f3",
   "metadata": {},
   "source": [
    "### Next steps for development"
   ]
  },
  {
   "cell_type": "code",
   "execution_count": null,
   "id": "e2bb4616",
   "metadata": {},
   "outputs": [],
   "source": [
    "# build process to evaluate points scored for each hand type for each game\n",
    "# build out play card strategy\n",
    "    # add logic to check what cards have been played in hand so far\n",
    "        # check what trump has been played, etc., if highest remaining trump, play that\n",
    "# build out strategy on when to call trump\n",
    "    # build out code framework to properly evaluate this?\n",
    "# Handle loners\n",
    "# build out advanced strategy for dealer swapping out card_flipped_up to reduce number of suits in hand\n",
    "# Code cleanup\n",
    "    # Add README\n",
    "    # Add tests to all functions\n",
    "    # Fix static methods"
   ]
  },
  {
   "cell_type": "code",
   "execution_count": null,
   "id": "1fe92e32",
   "metadata": {},
   "outputs": [],
   "source": []
  },
  {
   "cell_type": "code",
   "execution_count": null,
   "id": "3c25b83f",
   "metadata": {},
   "outputs": [],
   "source": []
  }
 ],
 "metadata": {
  "kernelspec": {
   "display_name": "Python 3",
   "language": "python",
   "name": "python3"
  },
  "language_info": {
   "codemirror_mode": {
    "name": "ipython",
    "version": 3
   },
   "file_extension": ".py",
   "mimetype": "text/x-python",
   "name": "python",
   "nbconvert_exporter": "python",
   "pygments_lexer": "ipython3",
   "version": "3.8.8"
  }
 },
 "nbformat": 4,
 "nbformat_minor": 5
}
