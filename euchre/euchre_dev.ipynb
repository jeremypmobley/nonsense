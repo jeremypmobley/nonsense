{
 "cells": [
  {
   "cell_type": "markdown",
   "id": "7b2f23ca",
   "metadata": {},
   "source": [
    "# Euchre\n",
    "Goal: code up a playable euchre game to better understand winning probabilities of different starting hands  \n",
    "Given: Right, Ace, Queen, off Ace, off ten; 3-suited, dealer spot - what's the likelihood of winning each number of tricks that round?  \n",
    "Genetic Algorithm to determine next play would be cool - start with random strategy, adapt to new weights as games progress  \n",
    "Streamlit app where user can select cards in hand and table position and get breakdown of likelihood of taking 5/4/3/2/1/0 tricks"
   ]
  },
  {
   "cell_type": "code",
   "execution_count": 1,
   "id": "5d2417d0",
   "metadata": {},
   "outputs": [],
   "source": [
    "%load_ext autoreload\n",
    "%autoreload 2\n",
    "\n",
    "import numpy as np\n",
    "import sys\n",
    "\n",
    "sys.path.insert(0, 'C:/Users/jerem/Desktop/nonsense/euchre/')"
   ]
  },
  {
   "cell_type": "code",
   "execution_count": 2,
   "id": "5038962a",
   "metadata": {},
   "outputs": [],
   "source": [
    "from utils import EuchreGame"
   ]
  },
  {
   "cell_type": "code",
   "execution_count": null,
   "id": "8d5354d6",
   "metadata": {},
   "outputs": [],
   "source": []
  },
  {
   "cell_type": "code",
   "execution_count": 3,
   "id": "150ddda0",
   "metadata": {},
   "outputs": [],
   "source": [
    "euchre_game = EuchreGame()"
   ]
  },
  {
   "cell_type": "code",
   "execution_count": 4,
   "id": "40f51376",
   "metadata": {},
   "outputs": [
    {
     "data": {
      "text/plain": [
       "{'t1': 0, 't2': 0}"
      ]
     },
     "execution_count": 4,
     "metadata": {},
     "output_type": "execute_result"
    }
   ],
   "source": [
    "euchre_game.score"
   ]
  },
  {
   "cell_type": "code",
   "execution_count": 5,
   "id": "00bea90c",
   "metadata": {},
   "outputs": [
    {
     "data": {
      "text/plain": [
       "'p1'"
      ]
     },
     "execution_count": 5,
     "metadata": {},
     "output_type": "execute_result"
    }
   ],
   "source": [
    "euchre_game.dealer"
   ]
  },
  {
   "cell_type": "code",
   "execution_count": 6,
   "id": "2682cb69",
   "metadata": {},
   "outputs": [
    {
     "data": {
      "text/plain": [
       "['p2', 'p3', 'p4', 'p1']"
      ]
     },
     "execution_count": 6,
     "metadata": {},
     "output_type": "execute_result"
    }
   ],
   "source": [
    "euchre_game.next_to_deal"
   ]
  },
  {
   "cell_type": "code",
   "execution_count": 7,
   "id": "3f929a7e",
   "metadata": {},
   "outputs": [
    {
     "name": "stdout",
     "output_type": "stream",
     "text": [
      "Current score: 0-0\n"
     ]
    }
   ],
   "source": [
    "euchre_game.print_score()"
   ]
  },
  {
   "cell_type": "code",
   "execution_count": 8,
   "id": "a20d7c2d",
   "metadata": {},
   "outputs": [
    {
     "data": {
      "text/plain": [
       "['S', 'C', 'H', 'D']"
      ]
     },
     "execution_count": 8,
     "metadata": {},
     "output_type": "execute_result"
    }
   ],
   "source": [
    "euchre_game.card_suits"
   ]
  },
  {
   "cell_type": "code",
   "execution_count": 62,
   "id": "bdfb373e",
   "metadata": {},
   "outputs": [
    {
     "data": {
      "text/plain": [
       "['9', 'T', 'J', 'Q', 'K', 'A']"
      ]
     },
     "execution_count": 62,
     "metadata": {},
     "output_type": "execute_result"
    }
   ],
   "source": [
    "euchre_game.card_values"
   ]
  },
  {
   "cell_type": "code",
   "execution_count": 10,
   "id": "2fb62b69",
   "metadata": {},
   "outputs": [
    {
     "name": "stdout",
     "output_type": "stream",
     "text": [
      "9_S,9_C,9_H,9_D,T_S,T_C,T_H,T_D,J_S,J_C,J_H,J_D,Q_S,Q_C,Q_H,Q_D,K_S,K_C,K_H,K_D,A_S,A_C,A_H,A_D,"
     ]
    }
   ],
   "source": [
    "deck_of_cards = euchre_game.shuffle_deck_of_cards()\n",
    "for card in deck_of_cards:\n",
    "    print(card, end=',')"
   ]
  },
  {
   "cell_type": "markdown",
   "id": "8d016cb8",
   "metadata": {},
   "source": [
    "### Deal cards"
   ]
  },
  {
   "cell_type": "code",
   "execution_count": 11,
   "id": "8b60f00c",
   "metadata": {},
   "outputs": [],
   "source": [
    "player_hands, card_flipped_up = euchre_game.deal_hand()"
   ]
  },
  {
   "cell_type": "code",
   "execution_count": 12,
   "id": "a5fee26b",
   "metadata": {},
   "outputs": [
    {
     "data": {
      "text/plain": [
       "{'p1': ['Q_D', 'T_C', 'A_H', '9_D', 'A_S'],\n",
       " 'p2': ['Q_C', 'Q_H', 'J_H', '9_S', 'J_S'],\n",
       " 'p3': ['A_D', 'K_D', 'Q_S', 'T_D', 'J_C'],\n",
       " 'p4': ['K_H', 'K_S', 'J_D', '9_H', 'T_S']}"
      ]
     },
     "execution_count": 12,
     "metadata": {},
     "output_type": "execute_result"
    }
   ],
   "source": [
    "player_hands"
   ]
  },
  {
   "cell_type": "code",
   "execution_count": 13,
   "id": "4e286a76",
   "metadata": {},
   "outputs": [
    {
     "data": {
      "text/plain": [
       "'9_C'"
      ]
     },
     "execution_count": 13,
     "metadata": {},
     "output_type": "execute_result"
    }
   ],
   "source": [
    "card_flipped_up"
   ]
  },
  {
   "cell_type": "code",
   "execution_count": null,
   "id": "17aa622f",
   "metadata": {},
   "outputs": [],
   "source": []
  },
  {
   "cell_type": "markdown",
   "id": "b0f3c79c",
   "metadata": {},
   "source": [
    "### Choose suit for trump"
   ]
  },
  {
   "cell_type": "code",
   "execution_count": 14,
   "id": "f507748f",
   "metadata": {},
   "outputs": [],
   "source": [
    "if euchre_game.eval_flipped_card(suit='S', hand=['K_S', 'A_H', 'A_C', 'J_C', 'J_S']):\n",
    "    print('order up trump')"
   ]
  },
  {
   "cell_type": "code",
   "execution_count": 15,
   "id": "50c884ac",
   "metadata": {},
   "outputs": [
    {
     "name": "stdout",
     "output_type": "stream",
     "text": [
      "order up trump\n"
     ]
    }
   ],
   "source": [
    "if euchre_game.eval_flipped_card(suit='S', hand=['K_S', 'A_H', 'A_S', 'J_C', 'J_S']):\n",
    "    print('order up trump')"
   ]
  },
  {
   "cell_type": "code",
   "execution_count": null,
   "id": "b453f3ba",
   "metadata": {},
   "outputs": [],
   "source": []
  },
  {
   "cell_type": "code",
   "execution_count": 16,
   "id": "631ae90b",
   "metadata": {},
   "outputs": [
    {
     "data": {
      "text/plain": [
       "'S'"
      ]
     },
     "execution_count": 16,
     "metadata": {},
     "output_type": "execute_result"
    }
   ],
   "source": [
    "euchre_game.choose_open_trump(hand=['K_S', 'A_S', 'A_C', 'J_C', 'J_S'], \n",
    "                  card_flipped_up='A_D')"
   ]
  },
  {
   "cell_type": "code",
   "execution_count": 17,
   "id": "0db5494f",
   "metadata": {},
   "outputs": [],
   "source": [
    "euchre_game.choose_open_trump(hand=['K_S', 'A_H', 'A_C', 'J_C', 'J_S'], \n",
    "                  card_flipped_up='A_D')"
   ]
  },
  {
   "cell_type": "code",
   "execution_count": null,
   "id": "d0e9bcac",
   "metadata": {},
   "outputs": [],
   "source": []
  },
  {
   "cell_type": "code",
   "execution_count": null,
   "id": "55641f46",
   "metadata": {},
   "outputs": [],
   "source": []
  },
  {
   "cell_type": "code",
   "execution_count": 18,
   "id": "0f8f220f",
   "metadata": {},
   "outputs": [],
   "source": [
    "player_hands, card_flipped_up = euchre_game.deal_hand()\n",
    "calling_player, trump = euchre_game.determine_trump(card_flipped_up=card_flipped_up,\n",
    "                           player_hands=player_hands)"
   ]
  },
  {
   "cell_type": "code",
   "execution_count": 19,
   "id": "780694e2",
   "metadata": {},
   "outputs": [
    {
     "name": "stdout",
     "output_type": "stream",
     "text": [
      "{'p1': ['K_H', 'Q_D', 'J_C', 'A_D', 'J_D'], 'p2': ['9_D', 'T_C', '9_C', 'J_H', 'A_C'], 'p3': ['K_C', '9_S', 'Q_S', 'T_D', 'J_S'], 'p4': ['A_S', 'Q_H', 'Q_C', 'A_H', '9_H']}\n",
      "p3\n",
      "S\n"
     ]
    }
   ],
   "source": [
    "print(player_hands)\n",
    "print(calling_player)\n",
    "print(trump)"
   ]
  },
  {
   "cell_type": "code",
   "execution_count": null,
   "id": "bdb8acce",
   "metadata": {},
   "outputs": [],
   "source": []
  },
  {
   "cell_type": "code",
   "execution_count": 20,
   "id": "07d2f024",
   "metadata": {},
   "outputs": [
    {
     "data": {
      "text/plain": [
       "'J_H'"
      ]
     },
     "execution_count": 20,
     "metadata": {},
     "output_type": "execute_result"
    }
   ],
   "source": [
    "euchre_game.play_card(hand=['J_H', 'A_D', '9_H', 'K_S', 'J_D'], \n",
    "          trump='S',\n",
    "          cards_in_play=['K_H', 'T_H'], \n",
    "          suit_led='H')"
   ]
  },
  {
   "cell_type": "code",
   "execution_count": null,
   "id": "d97ea9d7",
   "metadata": {},
   "outputs": [],
   "source": []
  },
  {
   "cell_type": "code",
   "execution_count": null,
   "id": "3deea036",
   "metadata": {},
   "outputs": [],
   "source": []
  },
  {
   "cell_type": "code",
   "execution_count": 181,
   "id": "b444fab8",
   "metadata": {},
   "outputs": [],
   "source": [
    "def play_card(hand,\n",
    "              trump,\n",
    "              cards_in_play,\n",
    "              suit_led=None):\n",
    "    \"\"\"\n",
    "    Function to return card to play in hand\n",
    "    TODO: check if partner has winning card_in_pot\n",
    "    \"\"\"\n",
    "    card_values = {\n",
    "        '9': 1,\n",
    "        'T': 2,\n",
    "        'J': 3,\n",
    "        'Q': 4,\n",
    "        'K': 5,\n",
    "        'A': 6\n",
    "    }\n",
    "    # play last card\n",
    "    if len(hand) == 1:\n",
    "        return hand[0]\n",
    "    \n",
    "    # lead card\n",
    "    if len(cards_in_play) < 1:\n",
    "        for idx, card in enumerate(hand):\n",
    "            # 1 - play right bauer\n",
    "            if card[-1] == trump and card[0] == 'J':\n",
    "                return hand[idx]\n",
    "            # 2 - play off ace\n",
    "            elif card[-1] != trump:\n",
    "                if card[0] == 'A':\n",
    "                    return hand[idx]\n",
    "            # 3 - TODO: else play highest non-trump card\n",
    "        return hand[0]\n",
    "        \n",
    "    # follow suit\n",
    "    if suit_led is not None:\n",
    "        # play lowest card in the suit played\n",
    "        card_to_play_points = -1\n",
    "        idx_to_return = -1\n",
    "        for idx, card in enumerate(hand):\n",
    "            if card[-1] == suit_led:\n",
    "                card_points = card_values[card[0]]\n",
    "                if card_points < card_to_play_points:\n",
    "                    card_to_play_points = card_points\n",
    "                    idx_to_return = idx\n",
    "        return hand[idx_to_return]\n",
    "    \n",
    "    # play other highest non-trump card\n",
    "    else:\n",
    "        card_to_play_points = -1\n",
    "        idx_to_return = -1\n",
    "        for idx, card in enumerate(hand):\n",
    "            if card[-1] != trump:\n",
    "                card_points = card_values[card[0]]\n",
    "                if card_points > card_to_play_points:\n",
    "                    card_to_play_points = card_points\n",
    "                    idx_to_return = idx\n",
    "        if idx_to_return > -1:\n",
    "            return hand[idx_to_return]\n",
    "        \n",
    "        else:  # only has trump left, play lowest trump\n",
    "            trump_card_points = 9\n",
    "            for idx, card in enumerate(hand):\n",
    "                card_points = card_values[card[0]]\n",
    "                if card_points < trump_card_points:\n",
    "                    trump_card_points = card_points\n",
    "                    idx_to_return = idx\n",
    "            return hand[idx_to_return]\n"
   ]
  },
  {
   "cell_type": "code",
   "execution_count": 182,
   "id": "2d5c8562",
   "metadata": {},
   "outputs": [
    {
     "data": {
      "text/plain": [
       "'A_C'"
      ]
     },
     "execution_count": 182,
     "metadata": {},
     "output_type": "execute_result"
    }
   ],
   "source": [
    "play_card(hand=['9_D', 'T_C', '9_C', 'J_H', 'A_C'],\n",
    "          trump='S',\n",
    "          cards_in_play=[],\n",
    "          suit_led=None)"
   ]
  },
  {
   "cell_type": "code",
   "execution_count": 183,
   "id": "ba39b88d",
   "metadata": {},
   "outputs": [
    {
     "data": {
      "text/plain": [
       "'J_S'"
      ]
     },
     "execution_count": 183,
     "metadata": {},
     "output_type": "execute_result"
    }
   ],
   "source": [
    "play_card(hand=['9_D', 'T_C', '9_C', 'J_S', 'A_C'],\n",
    "          trump='S',\n",
    "          cards_in_play=[],\n",
    "          suit_led=None)"
   ]
  },
  {
   "cell_type": "code",
   "execution_count": 184,
   "id": "ff732609",
   "metadata": {},
   "outputs": [
    {
     "data": {
      "text/plain": [
       "'A_C'"
      ]
     },
     "execution_count": 184,
     "metadata": {},
     "output_type": "execute_result"
    }
   ],
   "source": [
    "play_card(hand=['9_D', 'T_C', '9_C', 'J_S', 'A_C'],\n",
    "          trump='S',\n",
    "          cards_in_play=['K_C'],\n",
    "          suit_led=None)"
   ]
  },
  {
   "cell_type": "code",
   "execution_count": null,
   "id": "d5dc4683",
   "metadata": {},
   "outputs": [],
   "source": []
  },
  {
   "cell_type": "code",
   "execution_count": null,
   "id": "58a16f6b",
   "metadata": {},
   "outputs": [],
   "source": []
  },
  {
   "cell_type": "code",
   "execution_count": null,
   "id": "ff2ae816",
   "metadata": {},
   "outputs": [],
   "source": []
  },
  {
   "cell_type": "code",
   "execution_count": 22,
   "id": "c4e23cdb",
   "metadata": {},
   "outputs": [
    {
     "name": "stdout",
     "output_type": "stream",
     "text": [
      "['9_D', 'T_C', '9_C', 'J_H', 'A_C']\n",
      "Player p2 plays 9_D\n",
      "Suit led: D\n",
      "['K_C', '9_S', 'Q_S', 'T_D', 'J_S']\n",
      "Player p3 plays T_D\n",
      "['A_S', 'Q_H', 'Q_C', 'A_H', '9_H']\n",
      "Player p4 plays 9_H\n",
      "['K_H', 'Q_D', 'J_C', 'A_D', 'J_D']\n",
      "Player p1 plays A_D\n"
     ]
    }
   ],
   "source": [
    "cards_in_play, player_led = euchre_game.play_trick(player_hands=player_hands, \n",
    "                                       trump=trump, \n",
    "                                       next_to_play_list=euchre_game.next_to_deal, \n",
    "                                       verbose=True)"
   ]
  },
  {
   "cell_type": "code",
   "execution_count": 23,
   "id": "4ec960bc",
   "metadata": {},
   "outputs": [
    {
     "data": {
      "text/plain": [
       "{'p2': '9_D', 'p3': 'T_D', 'p4': '9_H', 'p1': 'A_D'}"
      ]
     },
     "execution_count": 23,
     "metadata": {},
     "output_type": "execute_result"
    }
   ],
   "source": [
    "cards_in_play"
   ]
  },
  {
   "cell_type": "code",
   "execution_count": 24,
   "id": "6e957010",
   "metadata": {},
   "outputs": [
    {
     "data": {
      "text/plain": [
       "'p2'"
      ]
     },
     "execution_count": 24,
     "metadata": {},
     "output_type": "execute_result"
    }
   ],
   "source": [
    "player_led"
   ]
  },
  {
   "cell_type": "code",
   "execution_count": 40,
   "id": "10fa8ae6",
   "metadata": {},
   "outputs": [
    {
     "name": "stdout",
     "output_type": "stream",
     "text": [
      "D\n"
     ]
    }
   ],
   "source": [
    "player_hands, card_flipped_up = euchre_game.deal_hand()\n",
    "# choose trump\n",
    "calling_player, trump = euchre_game.determine_trump(card_flipped_up=card_flipped_up,\n",
    "                                             player_hands=player_hands)\n",
    "\n",
    "if trump is not None:\n",
    "    trick_winners = {p: 0 for p in euchre_game.next_to_deal}\n",
    "    next_to_play_list = euchre_game.next_to_deal\n",
    "    for trick in range(5):\n",
    "        cards_in_play, player_led = euchre_game.play_trick(player_hands=player_hands,\n",
    "                                                    trump=trump,\n",
    "                                                    next_to_play_list=next_to_play_list,\n",
    "                                                    verbose=False)"
   ]
  },
  {
   "cell_type": "code",
   "execution_count": 41,
   "id": "9f393737",
   "metadata": {},
   "outputs": [
    {
     "data": {
      "text/plain": [
       "'p2'"
      ]
     },
     "execution_count": 41,
     "metadata": {},
     "output_type": "execute_result"
    }
   ],
   "source": [
    "player_led"
   ]
  },
  {
   "cell_type": "code",
   "execution_count": 42,
   "id": "bcbd1451",
   "metadata": {},
   "outputs": [
    {
     "data": {
      "text/plain": [
       "{'p2': '9_S', 'p3': 'J_C', 'p4': 'Q_H', 'p1': 'T_H'}"
      ]
     },
     "execution_count": 42,
     "metadata": {},
     "output_type": "execute_result"
    }
   ],
   "source": [
    "cards_in_play"
   ]
  },
  {
   "cell_type": "code",
   "execution_count": 53,
   "id": "56ed6774",
   "metadata": {},
   "outputs": [
    {
     "data": {
      "text/plain": [
       "True"
      ]
     },
     "execution_count": 53,
     "metadata": {},
     "output_type": "execute_result"
    }
   ],
   "source": [
    "'J_C' in cards_in_play.values()"
   ]
  },
  {
   "cell_type": "code",
   "execution_count": 69,
   "id": "0af40fe3",
   "metadata": {},
   "outputs": [
    {
     "data": {
      "text/plain": [
       "{'p2': '9_S', 'p3': 'J_C', 'p4': 'Q_H', 'p1': 'T_H'}"
      ]
     },
     "execution_count": 69,
     "metadata": {},
     "output_type": "execute_result"
    }
   ],
   "source": [
    "cards_in_play"
   ]
  },
  {
   "cell_type": "code",
   "execution_count": 71,
   "id": "9db965fd",
   "metadata": {},
   "outputs": [
    {
     "data": {
      "text/plain": [
       "dict_values(['9_S', 'J_C', 'Q_H', 'T_H'])"
      ]
     },
     "execution_count": 71,
     "metadata": {},
     "output_type": "execute_result"
    }
   ],
   "source": [
    "cards_in_play.values()"
   ]
  },
  {
   "cell_type": "code",
   "execution_count": 58,
   "id": "b8b0ac4e",
   "metadata": {},
   "outputs": [],
   "source": [
    "trump_card = 'J_C'\n",
    "player_with_highest_trump = [k for k, v in cards_in_play.items() if v == trump_card][0]"
   ]
  },
  {
   "cell_type": "code",
   "execution_count": 59,
   "id": "58684ac4",
   "metadata": {},
   "outputs": [
    {
     "data": {
      "text/plain": [
       "'p3'"
      ]
     },
     "execution_count": 59,
     "metadata": {},
     "output_type": "execute_result"
    }
   ],
   "source": [
    "player_with_highest_trump"
   ]
  },
  {
   "cell_type": "code",
   "execution_count": 43,
   "id": "bed95283",
   "metadata": {},
   "outputs": [
    {
     "data": {
      "text/plain": [
       "'D'"
      ]
     },
     "execution_count": 43,
     "metadata": {},
     "output_type": "execute_result"
    }
   ],
   "source": [
    "trump"
   ]
  },
  {
   "cell_type": "code",
   "execution_count": 119,
   "id": "ca19d037",
   "metadata": {},
   "outputs": [],
   "source": [
    "def determine_trick_winner(cards_in_play, \n",
    "                           trump, \n",
    "                           player_led, \n",
    "                           verbose=False) -> str:\n",
    "    \"\"\"\n",
    "    Determine winner of trick\n",
    "    \n",
    "    Returns player that won trick\n",
    "    \"\"\"\n",
    "    # create dict for each trump\n",
    "    trump_hierarchy_dict = {\n",
    "        'D':['J_D', 'J_H', 'A_D', 'K_D', 'Q_D', 'T_D', '9_D'],\n",
    "        'H':['J_H', 'J_D', 'A_H', 'K_H', 'Q_H', 'T_H', '9_H'],\n",
    "        'C':['J_C', 'J_S', 'A_C', 'K_C', 'Q_C', 'T_C', '9_C'],\n",
    "        'S':['J_S', 'J_C', 'A_S', 'K_S', 'Q_S', 'T_S', '9_S']\n",
    "    }\n",
    "    # loop over trump cards, highest to lowest\n",
    "    for trump_card in trump_hierarchy_dict[trump]:\n",
    "        # if in cards_in_play:\n",
    "        if trump_card in cards_in_play.values():\n",
    "            if verbose:\n",
    "                print(f'Trump card found: {trump_card}')\n",
    "            # return player that played that card\n",
    "            return [k for k, v in cards_in_play.items() if v == trump_card][0]\n",
    "    led_suit = cards_in_play[player_led][-1]\n",
    "    for card_val in euchre_game.card_values:\n",
    "        for card_played in cards_in_play.values():\n",
    "            if card_played[0]==card_val and card_played[-1]==led_suit:\n",
    "                # return player that played that card\n",
    "                return [k for k, v in cards_in_play.items() if v == card_played][0]"
   ]
  },
  {
   "cell_type": "code",
   "execution_count": 120,
   "id": "b43a45b3",
   "metadata": {},
   "outputs": [
    {
     "name": "stdout",
     "output_type": "stream",
     "text": [
      "Trump card found: J_C\n"
     ]
    },
    {
     "data": {
      "text/plain": [
       "'p3'"
      ]
     },
     "execution_count": 120,
     "metadata": {},
     "output_type": "execute_result"
    }
   ],
   "source": [
    "determine_trick_winner(cards_in_play={'p2': '9_S', 'p3': 'J_C', 'p4': 'J_H', 'p1': 'A_S'}, \n",
    "                           trump='S', \n",
    "                           player_led=player_led, verbose=True)"
   ]
  },
  {
   "cell_type": "code",
   "execution_count": 121,
   "id": "6f0e14ea",
   "metadata": {},
   "outputs": [
    {
     "name": "stdout",
     "output_type": "stream",
     "text": [
      "Suit led:S\n",
      "Card val: A,Card played: 9_S\n",
      "Card played: J_C\n",
      "Card played: J_S\n",
      "Card played: A_S\n"
     ]
    },
    {
     "data": {
      "text/plain": [
       "'p1'"
      ]
     },
     "execution_count": 121,
     "metadata": {},
     "output_type": "execute_result"
    }
   ],
   "source": [
    "determine_trick_winner(cards_in_play={'p2': '9_S', 'p3': 'J_C', 'p4': 'J_S', 'p1': 'A_S'}, \n",
    "                           trump='D', \n",
    "                           player_led=player_led)"
   ]
  },
  {
   "cell_type": "code",
   "execution_count": null,
   "id": "7fbd2b87",
   "metadata": {},
   "outputs": [],
   "source": []
  },
  {
   "cell_type": "code",
   "execution_count": null,
   "id": "9686c8cc",
   "metadata": {},
   "outputs": [],
   "source": []
  },
  {
   "cell_type": "code",
   "execution_count": null,
   "id": "edfeed3f",
   "metadata": {},
   "outputs": [],
   "source": []
  },
  {
   "cell_type": "code",
   "execution_count": null,
   "id": "3611108b",
   "metadata": {},
   "outputs": [],
   "source": []
  },
  {
   "cell_type": "code",
   "execution_count": null,
   "id": "0e43543a",
   "metadata": {},
   "outputs": [],
   "source": []
  },
  {
   "cell_type": "code",
   "execution_count": null,
   "id": "6837f4e3",
   "metadata": {},
   "outputs": [],
   "source": []
  },
  {
   "cell_type": "code",
   "execution_count": 185,
   "id": "6f99fe84",
   "metadata": {},
   "outputs": [],
   "source": [
    "euchre_game = EuchreGame()"
   ]
  },
  {
   "cell_type": "code",
   "execution_count": 186,
   "id": "144fc213",
   "metadata": {},
   "outputs": [],
   "source": [
    "euchre_game.play_hand()"
   ]
  },
  {
   "cell_type": "code",
   "execution_count": 124,
   "id": "6848b0a7",
   "metadata": {},
   "outputs": [],
   "source": [
    "trick_winner = euchre_game.determine_trick_winner(cards_in_play=cards_in_play,\n",
    "                                           trump=trump,\n",
    "                                           player_led=player_led)"
   ]
  },
  {
   "cell_type": "code",
   "execution_count": 125,
   "id": "95d41932",
   "metadata": {},
   "outputs": [
    {
     "data": {
      "text/plain": [
       "'p2'"
      ]
     },
     "execution_count": 125,
     "metadata": {},
     "output_type": "execute_result"
    }
   ],
   "source": [
    "trick_winner"
   ]
  },
  {
   "cell_type": "code",
   "execution_count": 128,
   "id": "7ede146f",
   "metadata": {},
   "outputs": [
    {
     "name": "stdout",
     "output_type": "stream",
     "text": [
      "Current score: 0-1\n",
      "Trump not found\n",
      "Current score: 0-2\n",
      "Current score: 2-2\n",
      "Current score: 2-3\n",
      "Current score: 3-3\n",
      "Current score: 4-3\n",
      "Current score: 5-3\n",
      "Current score: 5-4\n",
      "Current score: 7-4\n",
      "Current score: 7-6\n",
      "Current score: 7-7\n",
      "Trump not found\n",
      "Current score: 7-8\n",
      "Current score: 7-9\n",
      "Current score: 7-10\n",
      "Current score: 7-10\n"
     ]
    }
   ],
   "source": [
    "euchre_game.play_full_game()"
   ]
  },
  {
   "cell_type": "code",
   "execution_count": null,
   "id": "608aa89b",
   "metadata": {},
   "outputs": [],
   "source": []
  },
  {
   "cell_type": "code",
   "execution_count": 187,
   "id": "5e6559b9",
   "metadata": {},
   "outputs": [
    {
     "name": "stdout",
     "output_type": "stream",
     "text": [
      "Wall time: 19.3 ms\n"
     ]
    }
   ],
   "source": [
    "%%time\n",
    "\n",
    "euchre_game = EuchreGame()\n",
    "euchre_game.play_full_game(verbose=False)"
   ]
  },
  {
   "cell_type": "code",
   "execution_count": 188,
   "id": "d1897f53",
   "metadata": {},
   "outputs": [
    {
     "data": {
      "text/plain": [
       "{'p2': '9_S', 'p3': 'J_C', 'p4': 'Q_H', 'p1': 'T_H'}"
      ]
     },
     "execution_count": 188,
     "metadata": {},
     "output_type": "execute_result"
    }
   ],
   "source": [
    "cards_in_play"
   ]
  },
  {
   "cell_type": "code",
   "execution_count": 189,
   "id": "02fad6c4",
   "metadata": {},
   "outputs": [
    {
     "data": {
      "text/plain": [
       "4"
      ]
     },
     "execution_count": 189,
     "metadata": {},
     "output_type": "execute_result"
    }
   ],
   "source": [
    "len(cards_in_play)"
   ]
  },
  {
   "cell_type": "code",
   "execution_count": 191,
   "id": "52005c93",
   "metadata": {},
   "outputs": [
    {
     "data": {
      "text/plain": [
       "10"
      ]
     },
     "execution_count": 191,
     "metadata": {},
     "output_type": "execute_result"
    }
   ],
   "source": [
    "euchre_game.score['t2']"
   ]
  },
  {
   "cell_type": "code",
   "execution_count": 194,
   "id": "f885e461",
   "metadata": {},
   "outputs": [
    {
     "name": "stdout",
     "output_type": "stream",
     "text": [
      " "
     ]
    }
   ],
   "source": [
    "%%prun\n",
    "\n",
    "euchre_game = EuchreGame()\n",
    "euchre_game.play_full_game(verbose=False)"
   ]
  },
  {
   "cell_type": "code",
   "execution_count": null,
   "id": "505fb16f",
   "metadata": {},
   "outputs": [],
   "source": []
  },
  {
   "cell_type": "markdown",
   "id": "0ccabb9a",
   "metadata": {},
   "source": [
    "#### Loop through games played"
   ]
  },
  {
   "cell_type": "code",
   "execution_count": 192,
   "id": "3054ed36",
   "metadata": {},
   "outputs": [
    {
     "name": "stdout",
     "output_type": "stream",
     "text": [
      "1000\n",
      "478\n",
      "Wall time: 4.49 s\n"
     ]
    }
   ],
   "source": [
    "%%time\n",
    "\n",
    "games_played = 0\n",
    "t1_wins = 0\n",
    "for i in range(1000):\n",
    "    euchre_game = EuchreGame()\n",
    "    euchre_game.play_full_game(verbose=False)\n",
    "    games_played += 1\n",
    "    if euchre_game.score['t1'] > euchre_game.score['t2']:\n",
    "        t1_wins += 1\n",
    "\n",
    "print(games_played)\n",
    "print(t1_wins)"
   ]
  },
  {
   "cell_type": "code",
   "execution_count": null,
   "id": "18312ebc",
   "metadata": {},
   "outputs": [],
   "source": []
  },
  {
   "cell_type": "code",
   "execution_count": null,
   "id": "48051133",
   "metadata": {},
   "outputs": [],
   "source": [
    "# NEXT STEPS:\n",
    "# build out play card strategy\n",
    "    # add logic to check if cards in hand are better than those played\n",
    "    # keep track of all cards played so far\n",
    "        # check what trump has been played, etc.\n",
    "# build out strategy on when to call trump\n",
    "# track points for each hand type for each game\n",
    "# add functionality to deal with dealer swapping out card_flipped_up\n",
    "# add functionality to deal with loners\n",
    "# add random strategy to play_card method\n",
    "# add comments to all class methods\n",
    "# check in all code to GitHub"
   ]
  },
  {
   "cell_type": "code",
   "execution_count": null,
   "id": "e863f8f7",
   "metadata": {},
   "outputs": [],
   "source": []
  }
 ],
 "metadata": {
  "kernelspec": {
   "display_name": "Python 3",
   "language": "python",
   "name": "python3"
  },
  "language_info": {
   "codemirror_mode": {
    "name": "ipython",
    "version": 3
   },
   "file_extension": ".py",
   "mimetype": "text/x-python",
   "name": "python",
   "nbconvert_exporter": "python",
   "pygments_lexer": "ipython3",
   "version": "3.8.8"
  }
 },
 "nbformat": 4,
 "nbformat_minor": 5
}
