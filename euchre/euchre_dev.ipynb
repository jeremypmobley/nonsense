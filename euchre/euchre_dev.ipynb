{
 "cells": [
  {
   "cell_type": "markdown",
   "id": "ee8b4ded",
   "metadata": {},
   "source": [
    "# Euchre"
   ]
  },
  {
   "cell_type": "code",
   "execution_count": 1,
   "id": "9d58584f",
   "metadata": {},
   "outputs": [],
   "source": [
    "%load_ext autoreload\n",
    "%autoreload 2\n",
    "\n",
    "import numpy as np\n",
    "import sys\n",
    "\n",
    "sys.path.insert(0, 'C:/Users/jerem/Desktop/nonsense/euchre/')\n",
    "\n",
    "from utils import EuchreGame"
   ]
  },
  {
   "cell_type": "markdown",
   "id": "984c974f",
   "metadata": {},
   "source": [
    "### Create Game object, check attributes"
   ]
  },
  {
   "cell_type": "code",
   "execution_count": 76,
   "id": "edde75bc",
   "metadata": {},
   "outputs": [],
   "source": [
    "euchre_game = EuchreGame()"
   ]
  },
  {
   "cell_type": "code",
   "execution_count": 77,
   "id": "0c5e25a1",
   "metadata": {},
   "outputs": [
    {
     "data": {
      "text/plain": [
       "{'t1': 0, 't2': 0}"
      ]
     },
     "execution_count": 77,
     "metadata": {},
     "output_type": "execute_result"
    }
   ],
   "source": [
    "# create show_all_game_attributes method?\n",
    "euchre_game.score"
   ]
  },
  {
   "cell_type": "code",
   "execution_count": 78,
   "id": "0500989c",
   "metadata": {},
   "outputs": [
    {
     "data": {
      "text/plain": [
       "'p1'"
      ]
     },
     "execution_count": 78,
     "metadata": {},
     "output_type": "execute_result"
    }
   ],
   "source": [
    "euchre_game.dealer"
   ]
  },
  {
   "cell_type": "code",
   "execution_count": 79,
   "id": "455a4758",
   "metadata": {},
   "outputs": [
    {
     "data": {
      "text/plain": [
       "['p2', 'p3', 'p4', 'p1']"
      ]
     },
     "execution_count": 79,
     "metadata": {},
     "output_type": "execute_result"
    }
   ],
   "source": [
    "euchre_game.next_to_deal"
   ]
  },
  {
   "cell_type": "code",
   "execution_count": 80,
   "id": "495a2571",
   "metadata": {},
   "outputs": [
    {
     "name": "stdout",
     "output_type": "stream",
     "text": [
      "Current score: 0-0\n"
     ]
    }
   ],
   "source": [
    "euchre_game.print_score()"
   ]
  },
  {
   "cell_type": "code",
   "execution_count": 81,
   "id": "0393bc91",
   "metadata": {},
   "outputs": [
    {
     "name": "stdout",
     "output_type": "stream",
     "text": [
      "9_S,9_C,9_H,9_D,T_S,T_C,T_H,T_D,J_S,J_C,J_H,J_D,Q_S,Q_C,Q_H,Q_D,K_S,K_C,K_H,K_D,A_S,A_C,A_H,A_D,"
     ]
    }
   ],
   "source": [
    "deck_of_cards = euchre_game.shuffle_deck_of_cards()\n",
    "for card in deck_of_cards:\n",
    "    print(card, end=',')"
   ]
  },
  {
   "cell_type": "code",
   "execution_count": 82,
   "id": "4617d1cb",
   "metadata": {},
   "outputs": [
    {
     "data": {
      "text/plain": [
       "{'t1': None, 't2': None}"
      ]
     },
     "execution_count": 82,
     "metadata": {},
     "output_type": "execute_result"
    }
   ],
   "source": [
    "euchre_game.tm_call_trump_strategy"
   ]
  },
  {
   "cell_type": "code",
   "execution_count": 83,
   "id": "c7a41511",
   "metadata": {},
   "outputs": [
    {
     "data": {
      "text/plain": [
       "{'t1': None, 't2': None}"
      ]
     },
     "execution_count": 83,
     "metadata": {},
     "output_type": "execute_result"
    }
   ],
   "source": [
    "euchre_game.tm_play_card_strategy"
   ]
  },
  {
   "cell_type": "markdown",
   "id": "579b287e",
   "metadata": {},
   "source": [
    "### Deal cards"
   ]
  },
  {
   "cell_type": "code",
   "execution_count": 66,
   "id": "4f2f3ecb",
   "metadata": {},
   "outputs": [],
   "source": [
    "player_hands, card_flipped_up = euchre_game.deal_hand()"
   ]
  },
  {
   "cell_type": "code",
   "execution_count": 67,
   "id": "04890ccf",
   "metadata": {},
   "outputs": [
    {
     "data": {
      "text/plain": [
       "{'p1': ['K_S', 'A_S', '9_C', 'K_C', '9_D'],\n",
       " 'p2': ['Q_H', '9_S', 'T_C', 'K_D', 'T_H'],\n",
       " 'p3': ['T_D', 'J_D', 'K_H', 'J_C', 'J_S'],\n",
       " 'p4': ['Q_S', 'T_S', 'J_H', '9_H', 'Q_D']}"
      ]
     },
     "execution_count": 67,
     "metadata": {},
     "output_type": "execute_result"
    }
   ],
   "source": [
    "player_hands"
   ]
  },
  {
   "cell_type": "code",
   "execution_count": 68,
   "id": "86db0ae9",
   "metadata": {},
   "outputs": [
    {
     "data": {
      "text/plain": [
       "'Q_C'"
      ]
     },
     "execution_count": 68,
     "metadata": {},
     "output_type": "execute_result"
    }
   ],
   "source": [
    "card_flipped_up"
   ]
  },
  {
   "cell_type": "code",
   "execution_count": null,
   "id": "226d3092",
   "metadata": {},
   "outputs": [],
   "source": []
  },
  {
   "cell_type": "markdown",
   "id": "e91ea086",
   "metadata": {},
   "source": [
    "### Choose suit for trump"
   ]
  },
  {
   "cell_type": "code",
   "execution_count": 85,
   "id": "91e4996f",
   "metadata": {},
   "outputs": [],
   "source": [
    "if euchre_game.eval_flipped_card(suit='S', \n",
    "                                 hand=['K_S', 'A_H', 'A_C', 'J_C', 'J_S'], \n",
    "                                 player='p1'):\n",
    "    print('order up trump')"
   ]
  },
  {
   "cell_type": "code",
   "execution_count": 86,
   "id": "f40dba46",
   "metadata": {},
   "outputs": [
    {
     "name": "stdout",
     "output_type": "stream",
     "text": [
      "order up trump\n"
     ]
    }
   ],
   "source": [
    "if euchre_game.eval_flipped_card(suit='S', \n",
    "                                 hand=['K_S', 'A_H', 'A_S', 'J_C', 'J_S'], \n",
    "                                 player='p2'):\n",
    "    print('order up trump')"
   ]
  },
  {
   "cell_type": "code",
   "execution_count": 87,
   "id": "e198e31d",
   "metadata": {},
   "outputs": [
    {
     "data": {
      "text/plain": [
       "'S'"
      ]
     },
     "execution_count": 87,
     "metadata": {},
     "output_type": "execute_result"
    }
   ],
   "source": [
    "euchre_game.choose_open_trump(hand=['K_S', 'A_S', 'A_C', 'J_C', 'J_S'], \n",
    "                  card_flipped_up='A_D')"
   ]
  },
  {
   "cell_type": "code",
   "execution_count": 88,
   "id": "357c20a4",
   "metadata": {},
   "outputs": [],
   "source": [
    "euchre_game.choose_open_trump(hand=['K_S', 'A_H', 'A_C', 'J_C', 'J_S'], \n",
    "                  card_flipped_up='T_S')"
   ]
  },
  {
   "cell_type": "code",
   "execution_count": 89,
   "id": "b2c6bd7b",
   "metadata": {},
   "outputs": [],
   "source": [
    "calling_player, trump = euchre_game.determine_trump(card_flipped_up=card_flipped_up,\n",
    "                           player_hands=player_hands)"
   ]
  },
  {
   "cell_type": "code",
   "execution_count": 90,
   "id": "22c27f20",
   "metadata": {},
   "outputs": [
    {
     "name": "stdout",
     "output_type": "stream",
     "text": [
      "{'p1': ['K_S', 'A_S', '9_C', 'K_C', '9_D'], 'p2': ['Q_H', '9_S', 'T_C', 'K_D', 'T_H'], 'p3': ['T_D', 'J_D', 'K_H', 'J_C', 'J_S'], 'p4': ['Q_S', 'T_S', 'J_H', '9_H', 'Q_D']}\n",
      "None\n",
      "None\n"
     ]
    }
   ],
   "source": [
    "print(player_hands)\n",
    "print(calling_player)\n",
    "print(trump)"
   ]
  },
  {
   "cell_type": "code",
   "execution_count": null,
   "id": "b03a7e64",
   "metadata": {},
   "outputs": [],
   "source": []
  },
  {
   "cell_type": "markdown",
   "id": "aee5ba3c",
   "metadata": {},
   "source": [
    "### Play trick"
   ]
  },
  {
   "cell_type": "code",
   "execution_count": 28,
   "id": "2f545d88",
   "metadata": {},
   "outputs": [
    {
     "name": "stdout",
     "output_type": "stream",
     "text": [
      "Leading off with lowest overall card- Player p2 plays 9_H, Following suit with lowest card- Player p3 plays T_H, Following suit with lowest card- Player p4 plays Q_H, Following suit with lowest card- Player p1 plays K_H, "
     ]
    }
   ],
   "source": [
    "cards_in_play, player_led = euchre_game.play_trick(player_hands=player_hands, \n",
    "                                                   trump='H', \n",
    "                                                   next_to_play_list=euchre_game.next_to_deal, \n",
    "                                                   cards_played_this_hand = [], \n",
    "                                                   verbose=True)"
   ]
  },
  {
   "cell_type": "code",
   "execution_count": 29,
   "id": "848bd841",
   "metadata": {},
   "outputs": [
    {
     "data": {
      "text/plain": [
       "{'p2': '9_H', 'p3': 'T_H', 'p4': 'Q_H', 'p1': 'K_H'}"
      ]
     },
     "execution_count": 29,
     "metadata": {},
     "output_type": "execute_result"
    }
   ],
   "source": [
    "cards_in_play"
   ]
  },
  {
   "cell_type": "code",
   "execution_count": 30,
   "id": "7b2fdd61",
   "metadata": {},
   "outputs": [
    {
     "data": {
      "text/plain": [
       "'p2'"
      ]
     },
     "execution_count": 30,
     "metadata": {},
     "output_type": "execute_result"
    }
   ],
   "source": [
    "player_led"
   ]
  },
  {
   "cell_type": "markdown",
   "id": "00b21a38",
   "metadata": {},
   "source": [
    "#### Determine trick winner"
   ]
  },
  {
   "cell_type": "code",
   "execution_count": 31,
   "id": "e1be5e00",
   "metadata": {},
   "outputs": [
    {
     "name": "stdout",
     "output_type": "stream",
     "text": [
      "p3 wins trick\n"
     ]
    },
    {
     "data": {
      "text/plain": [
       "'p3'"
      ]
     },
     "execution_count": 31,
     "metadata": {},
     "output_type": "execute_result"
    }
   ],
   "source": [
    "euchre_game.determine_trick_winner(cards_in_play={'p2': '9_S', 'p3': 'J_C', 'p4': 'J_H', 'p1': 'A_S'}, \n",
    "                           trump='S', \n",
    "                           player_led=player_led, \n",
    "                                   verbose=True)"
   ]
  },
  {
   "cell_type": "code",
   "execution_count": 32,
   "id": "aa320b76",
   "metadata": {},
   "outputs": [
    {
     "data": {
      "text/plain": [
       "'p1'"
      ]
     },
     "execution_count": 32,
     "metadata": {},
     "output_type": "execute_result"
    }
   ],
   "source": [
    "euchre_game.determine_trick_winner(cards_in_play={'p2': '9_S', 'p3': 'J_C', 'p4': 'J_S', 'p1': 'A_S'}, \n",
    "                           trump='D', \n",
    "                           player_led=player_led, \n",
    "                                   verbose=False)"
   ]
  },
  {
   "cell_type": "code",
   "execution_count": 35,
   "id": "17803ea1",
   "metadata": {},
   "outputs": [
    {
     "data": {
      "text/plain": [
       "'p1'"
      ]
     },
     "execution_count": 35,
     "metadata": {},
     "output_type": "execute_result"
    }
   ],
   "source": [
    "trick_winner = euchre_game.determine_trick_winner(cards_in_play=cards_in_play,\n",
    "                                           trump='H',\n",
    "                                           player_led=player_led)\n",
    "\n",
    "trick_winner"
   ]
  },
  {
   "cell_type": "code",
   "execution_count": 36,
   "id": "48c13202",
   "metadata": {},
   "outputs": [
    {
     "data": {
      "text/plain": [
       "'p3'"
      ]
     },
     "execution_count": 36,
     "metadata": {},
     "output_type": "execute_result"
    }
   ],
   "source": [
    "euchre_game.determine_trick_winner(cards_in_play={'p2': '9_S', 'p3': 'J_H', 'p4': 'J_S', 'p1': 'A_D'}, \n",
    "                           trump='D', \n",
    "                           player_led='p2', \n",
    "                                   verbose=False)"
   ]
  },
  {
   "cell_type": "code",
   "execution_count": 37,
   "id": "f5366e7d",
   "metadata": {},
   "outputs": [
    {
     "data": {
      "text/plain": [
       "'p1'"
      ]
     },
     "execution_count": 37,
     "metadata": {},
     "output_type": "execute_result"
    }
   ],
   "source": [
    "euchre_game.determine_trick_winner(cards_in_play={'p2': '9_S', 'p3': 'T_D', 'p4': 'J_S', 'p1': 'A_D'}, \n",
    "                           trump='D', \n",
    "                           player_led='p2', \n",
    "                                   verbose=False)"
   ]
  },
  {
   "cell_type": "code",
   "execution_count": null,
   "id": "317817cc",
   "metadata": {},
   "outputs": [],
   "source": []
  },
  {
   "cell_type": "markdown",
   "id": "dbb6672f",
   "metadata": {},
   "source": [
    "#### Swap card in dealer hand"
   ]
  },
  {
   "cell_type": "code",
   "execution_count": 38,
   "id": "ca9334cb",
   "metadata": {},
   "outputs": [
    {
     "name": "stdout",
     "output_type": "stream",
     "text": [
      "Dealer discards 9_H and picks up A_S\n"
     ]
    },
    {
     "data": {
      "text/plain": [
       "['J_H', 'A_D', 'K_S', 'J_D', 'A_S']"
      ]
     },
     "execution_count": 38,
     "metadata": {},
     "output_type": "execute_result"
    }
   ],
   "source": [
    "new_dealer_hand = euchre_game.swap_dealer_card(card_flipped_up='A_S', dealer_hand=['J_H', 'A_D', '9_H', 'K_S', 'J_D'], \n",
    "                                               verbose=True)\n",
    "new_dealer_hand"
   ]
  },
  {
   "cell_type": "code",
   "execution_count": 39,
   "id": "2f82dd26",
   "metadata": {},
   "outputs": [
    {
     "name": "stdout",
     "output_type": "stream",
     "text": [
      "Dealer discards T_D and picks up 9_S\n"
     ]
    },
    {
     "data": {
      "text/plain": [
       "['J_H', 'T_H', 'K_S', 'J_D', '9_S']"
      ]
     },
     "execution_count": 39,
     "metadata": {},
     "output_type": "execute_result"
    }
   ],
   "source": [
    "new_dealer_hand = euchre_game.swap_dealer_card(card_flipped_up='9_S', dealer_hand=['J_H', 'T_D', 'T_H', 'K_S', 'J_D'], \n",
    "                                               verbose=True)\n",
    "new_dealer_hand"
   ]
  },
  {
   "cell_type": "code",
   "execution_count": null,
   "id": "63f953fd",
   "metadata": {},
   "outputs": [],
   "source": []
  },
  {
   "cell_type": "markdown",
   "id": "19749e5b",
   "metadata": {},
   "source": [
    "### Play card"
   ]
  },
  {
   "cell_type": "code",
   "execution_count": 40,
   "id": "67865ab6",
   "metadata": {},
   "outputs": [
    {
     "data": {
      "text/plain": [
       "'J_D'"
      ]
     },
     "execution_count": 40,
     "metadata": {},
     "output_type": "execute_result"
    }
   ],
   "source": [
    "euchre_game.play_card(hand=['J_H', 'A_D', '9_H', 'K_S', 'J_D'], \n",
    "                      trump='S',\n",
    "                      cards_in_play={'p2': 'J_D', 'p3': 'A_D', 'p1': '9_D'}, \n",
    "                      player_led='p1',\n",
    "                      cards_played_this_hand=[], \n",
    "                      suit_led='D')"
   ]
  },
  {
   "cell_type": "code",
   "execution_count": 41,
   "id": "69a5755d",
   "metadata": {},
   "outputs": [
    {
     "data": {
      "text/plain": [
       "'J_D'"
      ]
     },
     "execution_count": 41,
     "metadata": {},
     "output_type": "execute_result"
    }
   ],
   "source": [
    "euchre_game.play_card(hand=['J_H', 'A_D', '9_H', 'K_S', 'J_D'], \n",
    "                      trump='D',\n",
    "                      cards_in_play={'p2': 'J_D', 'p3': 'A_D', 'p1': '9_D'}, \n",
    "                      player_led='p1',\n",
    "                      cards_played_this_hand=[], \n",
    "                      suit_led='D')"
   ]
  },
  {
   "cell_type": "markdown",
   "id": "a2a8d71d",
   "metadata": {},
   "source": [
    "#### Play lead card"
   ]
  },
  {
   "cell_type": "code",
   "execution_count": 42,
   "id": "0a3afb0f",
   "metadata": {},
   "outputs": [
    {
     "data": {
      "text/plain": [
       "'9_D'"
      ]
     },
     "execution_count": 42,
     "metadata": {},
     "output_type": "execute_result"
    }
   ],
   "source": [
    "euchre_game.play_lead_card(hand=['9_D', 'T_C', '9_C', 'A_S', 'A_C'], \n",
    "               trump='S', \n",
    "               cards_played_this_hand=['J_S', 'J_C'])"
   ]
  },
  {
   "cell_type": "code",
   "execution_count": 43,
   "id": "8643822e",
   "metadata": {},
   "outputs": [
    {
     "data": {
      "text/plain": [
       "'T_D'"
      ]
     },
     "execution_count": 43,
     "metadata": {},
     "output_type": "execute_result"
    }
   ],
   "source": [
    "euchre_game.play_lead_card(hand=['T_D', 'T_C', 'Q_C', 'A_D', 'A_C'], \n",
    "               trump='S', \n",
    "               cards_played_this_hand=['J_S', 'J_C'])"
   ]
  },
  {
   "cell_type": "code",
   "execution_count": null,
   "id": "10038200",
   "metadata": {},
   "outputs": [],
   "source": []
  },
  {
   "cell_type": "code",
   "execution_count": null,
   "id": "e43d9b88",
   "metadata": {},
   "outputs": [],
   "source": []
  },
  {
   "cell_type": "code",
   "execution_count": 44,
   "id": "5eeb71b1",
   "metadata": {},
   "outputs": [],
   "source": [
    "from utils import play_random_card"
   ]
  },
  {
   "cell_type": "code",
   "execution_count": 45,
   "id": "3c285d21",
   "metadata": {},
   "outputs": [
    {
     "data": {
      "text/plain": [
       "'9_D'"
      ]
     },
     "execution_count": 45,
     "metadata": {},
     "output_type": "execute_result"
    }
   ],
   "source": [
    "play_random_card(hand=['9_D', 'T_C', '9_C', 'J_S', 'A_C'], \n",
    "                             suit_led=None)"
   ]
  },
  {
   "cell_type": "code",
   "execution_count": 46,
   "id": "1d69b6ee",
   "metadata": {},
   "outputs": [
    {
     "data": {
      "text/plain": [
       "'9_D'"
      ]
     },
     "execution_count": 46,
     "metadata": {},
     "output_type": "execute_result"
    }
   ],
   "source": [
    "play_random_card(hand=['9_D', 'T_C', '9_C', 'J_S', 'A_C'], \n",
    "                             suit_led='D')"
   ]
  },
  {
   "cell_type": "code",
   "execution_count": 47,
   "id": "f123fe39",
   "metadata": {},
   "outputs": [
    {
     "data": {
      "text/plain": [
       "'T_C'"
      ]
     },
     "execution_count": 47,
     "metadata": {},
     "output_type": "execute_result"
    }
   ],
   "source": [
    "play_random_card(hand=['9_D', 'T_C', '9_C', 'J_S', 'A_C'], \n",
    "                             suit_led='C')"
   ]
  },
  {
   "cell_type": "code",
   "execution_count": 48,
   "id": "dbebcdd4",
   "metadata": {},
   "outputs": [],
   "source": [
    "from utils import get_lowest_card"
   ]
  },
  {
   "cell_type": "code",
   "execution_count": 49,
   "id": "704b2d61",
   "metadata": {},
   "outputs": [
    {
     "data": {
      "text/plain": [
       "'9_D'"
      ]
     },
     "execution_count": 49,
     "metadata": {},
     "output_type": "execute_result"
    }
   ],
   "source": [
    "get_lowest_card(hand=['9_D', 'T_C', '9_C', 'J_S', 'A_C'])"
   ]
  },
  {
   "cell_type": "code",
   "execution_count": 186,
   "id": "1df4d546",
   "metadata": {},
   "outputs": [
    {
     "data": {
      "text/plain": [
       "'T_D'"
      ]
     },
     "execution_count": 186,
     "metadata": {},
     "output_type": "execute_result"
    }
   ],
   "source": [
    "get_lowest_card(hand=['T_D', 'T_C', 'T_H', 'J_S', 'A_C'])"
   ]
  },
  {
   "cell_type": "code",
   "execution_count": 51,
   "id": "0aa3e081",
   "metadata": {},
   "outputs": [],
   "source": [
    "from utils import get_lowest_card_in_suit"
   ]
  },
  {
   "cell_type": "code",
   "execution_count": 52,
   "id": "c2dc78bb",
   "metadata": {},
   "outputs": [
    {
     "data": {
      "text/plain": [
       "'T_D'"
      ]
     },
     "execution_count": 52,
     "metadata": {},
     "output_type": "execute_result"
    }
   ],
   "source": [
    "get_lowest_card_in_suit(hand=['A_D', 'T_C', 'T_D', 'J_S', 'A_C'], \n",
    "                        suit='D')"
   ]
  },
  {
   "cell_type": "code",
   "execution_count": 185,
   "id": "0db3d983",
   "metadata": {},
   "outputs": [],
   "source": [
    "# this should return J_S if trump\n",
    "get_lowest_card_in_suit(hand=['A_D', 'T_S', 'T_D', 'J_S', 'A_H'], \n",
    "                        suit='C')"
   ]
  },
  {
   "cell_type": "code",
   "execution_count": null,
   "id": "12ab5226",
   "metadata": {},
   "outputs": [],
   "source": []
  },
  {
   "cell_type": "code",
   "execution_count": null,
   "id": "1215d27c",
   "metadata": {},
   "outputs": [],
   "source": []
  },
  {
   "cell_type": "code",
   "execution_count": null,
   "id": "3eea16ec",
   "metadata": {},
   "outputs": [],
   "source": []
  },
  {
   "cell_type": "code",
   "execution_count": 178,
   "id": "0f9566d9",
   "metadata": {},
   "outputs": [],
   "source": [
    "def find_highest_remaining_trump(trump, \n",
    "                                 cards_played_this_hand, \n",
    "                                 verbose=False):\n",
    "    \"\"\"\n",
    "    Function to return the highest remaining overall trump card that has not been played\n",
    "    If all trump has been played, returns None\n",
    "    \"\"\"\n",
    "    trump_hierarchy_dict = {\n",
    "        'D': ['J_D', 'J_H', 'A_D', 'K_D', 'Q_D', 'T_D', '9_D'],\n",
    "        'H': ['J_H', 'J_D', 'A_H', 'K_H', 'Q_H', 'T_H', '9_H'],\n",
    "        'C': ['J_C', 'J_S', 'A_C', 'K_C', 'Q_C', 'T_C', '9_C'],\n",
    "        'S': ['J_S', 'J_C', 'A_S', 'K_S', 'Q_S', 'T_S', '9_S']\n",
    "    }\n",
    "    highest_remaining_trump = None\n",
    "    for idx, trump_card in enumerate(trump_hierarchy_dict[trump]):\n",
    "        if trump_card not in cards_played_this_hand:\n",
    "            highest_remaining_trump = trump_card\n",
    "            if verbose:\n",
    "                print(f'Highest trump card remaining {highest_remaining_trump}')\n",
    "            return highest_remaining_trump\n",
    "    return highest_remaining_trump"
   ]
  },
  {
   "cell_type": "code",
   "execution_count": 179,
   "id": "793992af",
   "metadata": {},
   "outputs": [
    {
     "name": "stdout",
     "output_type": "stream",
     "text": [
      "Highest trump card remaining J_D\n"
     ]
    },
    {
     "data": {
      "text/plain": [
       "'J_D'"
      ]
     },
     "execution_count": 179,
     "metadata": {},
     "output_type": "execute_result"
    }
   ],
   "source": [
    "find_highest_remaining_trump(trump='D', \n",
    "                             cards_played_this_hand=[], \n",
    "                             verbose=True)"
   ]
  },
  {
   "cell_type": "code",
   "execution_count": 180,
   "id": "58fddc7d",
   "metadata": {},
   "outputs": [
    {
     "name": "stdout",
     "output_type": "stream",
     "text": [
      "Highest trump card remaining K_H\n"
     ]
    },
    {
     "data": {
      "text/plain": [
       "'K_H'"
      ]
     },
     "execution_count": 180,
     "metadata": {},
     "output_type": "execute_result"
    }
   ],
   "source": [
    "find_highest_remaining_trump(trump='H', \n",
    "                             cards_played_this_hand=['J_H', 'J_D', 'A_H'], \n",
    "                             verbose=True)"
   ]
  },
  {
   "cell_type": "code",
   "execution_count": 183,
   "id": "2e4d0ac3",
   "metadata": {},
   "outputs": [],
   "source": [
    "find_highest_remaining_trump(trump='H', \n",
    "                             cards_played_this_hand=['J_H', 'J_D', 'A_H', 'K_H', 'Q_H', 'T_H', '9_H'], \n",
    "                             verbose=True)"
   ]
  },
  {
   "cell_type": "code",
   "execution_count": 190,
   "id": "d74705a7",
   "metadata": {},
   "outputs": [
    {
     "name": "stdout",
     "output_type": "stream",
     "text": [
      "Highest trump card remaining Q_H\n"
     ]
    },
    {
     "data": {
      "text/plain": [
       "'Q_H'"
      ]
     },
     "execution_count": 190,
     "metadata": {},
     "output_type": "execute_result"
    }
   ],
   "source": [
    "find_highest_remaining_trump(trump='H', \n",
    "                             cards_played_this_hand=['J_H', 'J_D', 'A_H', 'K_H', 'Q_H', 'T_H', '9_H'], \n",
    "                             verbose=True)"
   ]
  },
  {
   "cell_type": "code",
   "execution_count": null,
   "id": "fa44bfe7",
   "metadata": {},
   "outputs": [],
   "source": []
  },
  {
   "cell_type": "markdown",
   "id": "976ca371",
   "metadata": {},
   "source": [
    "### Play full game"
   ]
  },
  {
   "cell_type": "code",
   "execution_count": 187,
   "id": "74567bc0",
   "metadata": {
    "scrolled": true
   },
   "outputs": [
    {
     "name": "stdout",
     "output_type": "stream",
     "text": [
      "Hand #0- Dealer: p1; Player Hands: {'p1': ['9_D', 'J_D', 'T_H', 'K_H', 'Q_C'], 'p2': ['Q_H', 'T_S', 'J_H', 'K_D', '9_H'], 'p3': ['K_C', 'T_D', 'T_C', 'K_S', 'Q_S'], 'p4': ['J_S', '9_C', '9_S', 'Q_D', 'A_S']}\n",
      "Player p2 has chosen H as trump\n",
      "Leading off with lowest overall card- Player p2 plays 9_H, Current winning player p2\n",
      "No trump, playing lowest card in hand- Player p3 plays T_D, Current winning player p2\n",
      "Teammate winning, no follow suit, play lowest card- Player p4 plays 9_C, Current winning player p2\n",
      "Following suit with lowest card- Player p1 plays T_H, p1 wins trick\n",
      "Leading off with highest non-trump- Player p1 plays 9_D, Current winning player p1\n",
      "Following suit with lowest card- Player p2 plays K_D, Current winning player p2\n",
      "No trump, playing lowest card in hand- Player p3 plays T_C, Current winning player p2\n",
      "Teammate winning, following suit with lowest card- Player p4 plays Q_D, p2 wins trick\n",
      "Leading off with lowest overall card- Player p2 plays T_S, Current winning player p2\n",
      "Following suit with lowest card- Player p3 plays Q_S, Current winning player p3\n",
      "Following suit with lowest card- Player p4 plays 9_S, Current winning player p3\n",
      "Teammate winning, no follow suit, play lowest card- Player p1 plays J_D, p1 wins trick\n",
      "Leading off with lowest overall card- Player p1 plays Q_C, Current winning player p1\n",
      "Lowest trump card- Player p2 plays J_H, Current winning player p2\n",
      "Following suit with lowest card- Player p3 plays K_C, Current winning player p2\n",
      "Teammate winning, no follow suit, play lowest card- Player p4 plays J_S, p2 wins trick\n",
      "Last card- Player p2 plays Q_H, Last card- Player p3 plays K_S, Last card- Player p4 plays A_S, Last card- Player p1 plays K_H, p1 wins trick\n",
      "Trick winners: {'p2': 2, 'p3': 0, 'p4': 0, 'p1': 3}\n",
      "t1 scores 2\n",
      "Current score: 2-0\n",
      "Hand #1- Dealer: p2; Player Hands: {'p1': ['A_S', '9_S', 'K_D', 'Q_H', 'T_D'], 'p2': ['9_D', 'K_H', 'K_C', '9_C', 'Q_S'], 'p3': ['J_D', 'J_S', 'J_H', 'T_S', 'Q_D'], 'p4': ['K_S', 'J_C', '9_H', 'Q_C', 'T_H']}\n",
      "Trump not found\n",
      "Hand #1- Dealer: p3; Player Hands: {'p1': ['Q_S', '9_C', 'K_S', 'J_C', 'T_D'], 'p2': ['J_D', 'Q_C', 'T_S', 'Q_D', 'K_H'], 'p3': ['K_C', 'A_S', 'T_C', 'J_H', 'J_S'], 'p4': ['T_H', '9_H', 'K_D', '9_S', 'Q_H']}\n",
      "Player p4 has chosen H as trump\n",
      "Leading off with lowest overall card- Player p4 plays 9_H, Current winning player p4\n",
      "No trump, playing lowest card in hand- Player p1 plays 9_C, Current winning player p4\n",
      "Teammate winning, following suit with lowest card- Player p2 plays K_H, Current winning player p2\n",
      "Following suit with lowest card- Player p3 plays J_H, p3 wins trick\n",
      "Leading off with highest non-trump- Player p3 plays K_C, Current winning player p3\n",
      "Lowest trump card- Player p4 plays T_H, Current winning player p4\n",
      "Following suit with lowest card- Player p1 plays J_C, Current winning player p4\n",
      "Teammate winning, following suit with lowest card- Player p2 plays Q_C, p4 wins trick\n",
      "Leading off with highest non-trump- Player p4 plays K_D, Current winning player p4\n",
      "Following suit with lowest card- Player p1 plays T_D, Current winning player p4\n",
      "Teammate winning, following suit with lowest card- Player p2 plays J_D, Current winning player p2\n",
      "No trump, playing lowest card in hand- Player p3 plays T_C, p2 wins trick\n",
      "Leading off with highest non-trump- Player p2 plays T_S, Current winning player p2\n",
      "Following suit with lowest card- Player p3 plays J_S, Current winning player p3\n",
      "Following suit with lowest card- Player p4 plays 9_S, Current winning player p3\n",
      "Teammate winning, following suit with lowest card- Player p1 plays Q_S, p1 wins trick\n",
      "Last card- Player p1 plays K_S, Last card- Player p2 plays Q_D, Last card- Player p3 plays A_S, Last card- Player p4 plays Q_H, p4 wins trick\n",
      "Trick winners: {'p4': 2, 'p1': 1, 'p2': 1, 'p3': 1}\n",
      "t2 scores 1\n",
      "Current score: 2-1\n",
      "Hand #2- Dealer: p4; Player Hands: {'p1': ['K_D', 'T_C', 'Q_S', 'J_H', 'K_C'], 'p2': ['9_S', 'J_D', '9_H', 'T_D', 'Q_H'], 'p3': ['9_C', 'Q_C', 'J_S', 'Q_D', 'K_S'], 'p4': ['K_H', '9_D', 'T_S', 'T_H', 'J_C']}\n",
      "Trump not found\n",
      "Hand #2- Dealer: p1; Player Hands: {'p1': ['Q_H', 'T_S', 'A_S', 'J_C', 'K_S'], 'p2': ['J_S', 'K_C', 'J_D', '9_H', 'Q_C'], 'p3': ['Q_S', 'T_D', 'T_C', 'Q_D', 'K_D'], 'p4': ['9_S', '9_C', '9_D', 'K_H', 'J_H']}\n",
      "Player p3 has chosen D as trump\n",
      "Leading off with highest non-trump- Player p2 plays J_S, Current winning player p2\n",
      "Following suit with lowest card- Player p3 plays Q_S, Current winning player p3\n",
      "Following suit with lowest card- Player p4 plays 9_S, Current winning player p3\n",
      "Teammate winning, following suit with lowest card- Player p1 plays T_S, p3 wins trick\n",
      "Leading off with lowest overall card- Player p3 plays T_D, Current winning player p3\n",
      "Following suit with lowest card- Player p4 plays 9_D, Current winning player p3\n",
      "Teammate winning, no follow suit, play lowest card- Player p1 plays J_C, Current winning player p3\n",
      "Following suit with lowest card- Player p2 plays J_D, p2 wins trick\n",
      "Leading off with highest non-trump- Player p2 plays K_C, Current winning player p2\n",
      "Following suit with lowest card- Player p3 plays T_C, Current winning player p2\n",
      "Teammate winning, following suit with lowest card- Player p4 plays 9_C, Current winning player p2\n",
      "No trump, playing lowest card in hand- Player p1 plays Q_H, p2 wins trick\n",
      "Leading off with highest non-trump- Player p2 plays 9_H, Current winning player p2\n",
      "Lowest trump card- Player p3 plays Q_D, Current winning player p3\n",
      "Following suit with lowest card- Player p4 plays J_H, Current winning player p4\n",
      "No trump, playing lowest card in hand- Player p1 plays K_S, p4 wins trick\n",
      "Last card- Player p4 plays K_H, Last card- Player p1 plays A_S, Last card- Player p2 plays Q_C, Last card- Player p3 plays K_D, p3 wins trick\n",
      "Trick winners: {'p2': 2, 'p3': 2, 'p4': 1, 'p1': 0}\n",
      "t2 scores 2\n",
      "Current score: 2-3\n",
      "Hand #3- Dealer: p2; Player Hands: {'p1': ['K_D', '9_H', 'T_H', 'T_C', 'Q_H'], 'p2': ['K_S', 'J_D', 'T_S', '9_C', 'Q_D'], 'p3': ['T_D', 'A_S', 'K_C', 'Q_S', 'Q_C'], 'p4': ['J_S', 'K_H', 'J_C', 'J_H', '9_D']}\n",
      "Player p1 has chosen H as trump\n",
      "Leading off with highest non-trump- Player p3 plays T_D, Current winning player p3\n",
      "Following suit with lowest card- Player p4 plays 9_D, Current winning player p3\n",
      "Teammate winning, following suit with lowest card- Player p1 plays K_D, Current winning player p1\n",
      "Following suit with lowest card- Player p2 plays J_D, p2 wins trick\n",
      "Leading off with highest non-trump- Player p2 plays K_S, Current winning player p2\n",
      "Following suit with lowest card- Player p3 plays Q_S, Current winning player p2\n",
      "Teammate winning, following suit with lowest card- Player p4 plays J_S, Current winning player p2\n",
      "Lowest trump card- Player p1 plays 9_H, p1 wins trick\n",
      "Leading off with lowest overall card- Player p1 plays T_H, Current winning player p1\n",
      "No trump, playing lowest card in hand- Player p2 plays 9_C, Current winning player p1\n",
      "Teammate winning, no follow suit, play lowest card- Player p3 plays Q_C, Current winning player p1\n",
      "Following suit with lowest card- Player p4 plays J_H, p4 wins trick\n",
      "Leading off with lowest overall card- Player p4 plays J_C, Current winning player p4\n",
      "Following suit with lowest card- Player p1 plays T_C, Current winning player p4\n",
      "Teammate winning, no follow suit, play lowest card- Player p2 plays T_S, Current winning player p4\n",
      "Following suit with lowest card- Player p3 plays K_C, p3 wins trick\n",
      "Last card- Player p3 plays A_S, Last card- Player p4 plays K_H, Last card- Player p1 plays Q_H, Last card- Player p2 plays Q_D, p4 wins trick\n",
      "Trick winners: {'p3': 1, 'p4': 2, 'p1': 1, 'p2': 1}\n",
      "t2 scores 2\n",
      "Current score: 2-5\n",
      "Hand #4- Dealer: p3; Player Hands: {'p1': ['K_D', 'T_C', 'A_S', 'T_H', 'Q_H'], 'p2': ['9_C', 'T_D', 'K_C', '9_D', 'K_H'], 'p3': ['J_D', 'Q_D', 'J_H', 'K_S', 'T_S'], 'p4': ['9_S', 'Q_C', 'J_S', '9_H', 'Q_S']}\n",
      "Player p4 has chosen S as trump\n",
      "Leading off with lowest overall card- Player p4 plays 9_S, Current winning player p4\n",
      "Following suit with lowest card- Player p1 plays A_S, Current winning player p1\n",
      "No trump, playing lowest card in hand- Player p2 plays 9_C, Current winning player p1\n",
      "Teammate winning, following suit with lowest card- Player p3 plays T_S, p1 wins trick\n",
      "Leading off with highest non-trump- Player p1 plays K_D, Current winning player p1\n",
      "Following suit with lowest card- Player p2 plays 9_D, Current winning player p1\n",
      "Teammate winning, following suit with lowest card- Player p3 plays J_D, Current winning player p1\n",
      "Lowest trump card- Player p4 plays J_S, p4 wins trick\n",
      "Leading off with highest non-trump- Player p4 plays Q_C, Current winning player p4\n",
      "Following suit with lowest card- Player p1 plays T_C, Current winning player p4\n",
      "Teammate winning, following suit with lowest card- Player p2 plays K_C, Current winning player p2\n",
      "Lowest trump card- Player p3 plays K_S, p3 wins trick\n",
      "Leading off with highest non-trump- Player p3 plays Q_D, Current winning player p3\n",
      "Lowest trump card- Player p4 plays Q_S, Current winning player p4\n",
      "No trump, playing lowest card in hand- Player p1 plays T_H, Current winning player p4\n",
      "Teammate winning, following suit with lowest card- Player p2 plays T_D, p4 wins trick\n",
      "Last card- Player p4 plays 9_H, Last card- Player p1 plays Q_H, Last card- Player p2 plays K_H, Last card- Player p3 plays J_H, p2 wins trick\n",
      "Trick winners: {'p4': 2, 'p1': 1, 'p2': 1, 'p3': 1}\n",
      "t2 scores 1\n",
      "Current score: 2-6\n",
      "Hand #5- Dealer: p4; Player Hands: {'p1': ['J_H', 'K_C', 'T_C', 'Q_D', 'A_S'], 'p2': ['9_C', 'Q_S', 'K_D', 'K_S', 'Q_C'], 'p3': ['T_D', 'J_C', 'Q_H', 'T_H', 'T_S'], 'p4': ['J_S', '9_D', '9_S', 'J_D', '9_H']}\n",
      "Trump not found\n",
      "Hand #5- Dealer: p1; Player Hands: {'p1': ['9_D', '9_C', 'T_H', '9_H', 'K_H'], 'p2': ['K_D', 'J_D', 'T_C', 'T_S', 'Q_C'], 'p3': ['Q_H', '9_S', 'A_S', 'K_S', 'K_C'], 'p4': ['Q_S', 'J_C', 'J_S', 'J_H', 'T_D']}\n",
      "Player p3 has chosen S as trump\n",
      "Leading off with highest non-trump- Player p2 plays K_D, Current winning player p2\n",
      "Lowest trump card- Player p3 plays 9_S, Current winning player p3\n",
      "Following suit with lowest card- Player p4 plays T_D, Current winning player p3\n",
      "Teammate winning, following suit with lowest card- Player p1 plays 9_D, p3 wins trick\n",
      "Leading off with highest non-trump- Player p3 plays Q_H, Current winning player p3\n",
      "Following suit with lowest card- Player p4 plays J_H, Current winning player p3\n",
      "Teammate winning, following suit with lowest card- Player p1 plays 9_H, Current winning player p3\n",
      "Lowest trump card- Player p2 plays T_S, p2 wins trick\n",
      "Leading off with highest non-trump- Player p2 plays J_D, Current winning player p2\n",
      "Lowest trump card- Player p3 plays K_S, Current winning player p3\n",
      "Lowest trump card- Player p4 plays J_S, Current winning player p4\n",
      "No trump, playing lowest card in hand- Player p1 plays 9_C, p4 wins trick\n",
      "Leading off with lowest overall card- Player p4 plays J_C, Current winning player p4\n",
      "No trump, playing lowest card in hand- Player p1 plays T_H, Current winning player p4\n",
      "Teammate winning, no follow suit, play lowest card- Player p2 plays T_C, Current winning player p4\n",
      "Following suit with lowest card- Player p3 plays A_S, p4 wins trick\n",
      "Last card- Player p4 plays Q_S, Last card- Player p1 plays K_H, Last card- Player p2 plays Q_C, Last card- Player p3 plays K_C, p4 wins trick\n",
      "Trick winners: {'p2': 1, 'p3': 1, 'p4': 3, 'p1': 0}\n",
      "t2 scores 2\n",
      "Current score: 2-8\n",
      "Hand #6- Dealer: p2; Player Hands: {'p1': ['Q_S', 'T_C', 'J_C', 'K_C', 'J_S'], 'p2': ['A_S', '9_H', '9_D', 'J_H', 'K_H'], 'p3': ['9_S', 'T_H', 'Q_H', 'K_S', 'T_D'], 'p4': ['9_C', 'Q_C', 'Q_D', 'J_D', 'T_S']}\n",
      "Player p1 has chosen C as trump\n",
      "Leading off with highest non-trump- Player p3 plays 9_S, Current winning player p3\n",
      "Following suit with lowest card- Player p4 plays T_S, Current winning player p4\n",
      "Following suit with lowest card- Player p1 plays J_S, Current winning player p1\n",
      "Following suit with lowest card- Player p2 plays A_S, p1 wins trick\n",
      "Leading off with highest non-trump- Player p1 plays Q_S, Current winning player p1\n",
      "No trump, playing lowest card in hand- Player p2 plays 9_H, Current winning player p1\n",
      "Teammate winning, following suit with lowest card- Player p3 plays K_S, Current winning player p3\n",
      "Lowest trump card- Player p4 plays 9_C, p4 wins trick\n",
      "Leading off with lowest overall card- Player p4 plays J_D, Current winning player p4\n",
      "Lowest trump card- Player p1 plays T_C, Current winning player p1\n",
      "Following suit with lowest card- Player p2 plays 9_D, Current winning player p1\n",
      "Teammate winning, following suit with lowest card- Player p3 plays T_D, p1 wins trick\n",
      "Leading off with highest trump card remaining\n",
      "Player p1 plays J_C, Current winning player p1\n",
      "No trump, playing lowest card in hand- Player p2 plays J_H, Current winning player p1\n",
      "Teammate winning, no follow suit, play lowest card- Player p3 plays T_H, Current winning player p1\n",
      "Following suit with lowest card- Player p4 plays Q_C, p1 wins trick\n",
      "Last card- Player p1 plays K_C, Last card- Player p2 plays K_H, Last card- Player p3 plays Q_H, Last card- Player p4 plays Q_D, p1 wins trick\n",
      "Trick winners: {'p3': 0, 'p4': 1, 'p1': 4, 'p2': 0}\n",
      "t1 scores 1\n",
      "Current score: 3-8\n",
      "Hand #7- Dealer: p3; Player Hands: {'p1': ['K_H', 'K_D', 'T_H', 'J_H', '9_H'], 'p2': ['T_C', 'K_C', 'J_S', '9_C', 'J_D'], 'p3': ['J_C', 'Q_C', 'T_S', 'Q_D', '9_D'], 'p4': ['T_D', 'Q_H', 'K_S', '9_S', 'A_S']}\n",
      "Player p4 has chosen S as trump\n",
      "Dealer discards 9_D and picks up Q_S\n",
      "Leading off with highest non-trump- Player p4 plays T_D, Current winning player p4\n",
      "Following suit with lowest card- Player p1 plays K_D, Current winning player p1\n",
      "Following suit with lowest card- Player p2 plays J_D, Current winning player p1\n",
      "Teammate winning, following suit with lowest card- Player p3 plays Q_D, p1 wins trick\n",
      "Leading off with highest non-trump- Player p1 plays K_H, Current winning player p1\n",
      "Lowest trump card- Player p2 plays J_S, Current winning player p2\n",
      "Lowest trump card- Player p3 plays T_S, Current winning player p2\n",
      "Teammate winning, following suit with lowest card- Player p4 plays Q_H, p2 wins trick\n",
      "Leading off with highest non-trump- Player p2 plays T_C, Current winning player p2\n",
      "Following suit with lowest card- Player p3 plays J_C, Current winning player p3\n",
      "Lowest trump card- Player p4 plays 9_S, Current winning player p3\n",
      "Teammate winning, no follow suit, play lowest card- Player p1 plays 9_H, p3 wins trick\n",
      "Leading off with highest non-trump- Player p3 plays Q_C, Current winning player p3\n",
      "Lowest trump card- Player p4 plays K_S, Current winning player p4\n",
      "No trump, playing lowest card in hand- Player p1 plays T_H, Current winning player p4\n",
      "Teammate winning, following suit with lowest card- Player p2 plays 9_C, p4 wins trick\n",
      "Last card- Player p4 plays A_S, Last card- Player p1 plays J_H, Last card- Player p2 plays K_C, Last card- Player p3 plays Q_S, p4 wins trick\n",
      "Trick winners: {'p4': 2, 'p1': 1, 'p2': 1, 'p3': 1}\n",
      "t2 scores 1\n",
      "Current score: 3-9\n",
      "Hand #8- Dealer: p4; Player Hands: {'p1': ['9_H', 'K_D', '9_C', 'Q_S', 'T_S'], 'p2': ['Q_C', 'Q_H', 'J_C', 'T_D', 'J_D'], 'p3': ['T_C', 'J_S', 'K_C', '9_S', 'K_S'], 'p4': ['K_H', 'T_H', 'J_H', '9_D', 'Q_D']}\n",
      "Player p3 has chosen S as trump\n",
      "Dealer discards 9_D and picks up A_S\n",
      "Leading off with highest non-trump- Player p1 plays 9_H, Current winning player p1\n",
      "Following suit with lowest card- Player p2 plays Q_H, Current winning player p2\n",
      "Lowest trump card- Player p3 plays 9_S, Current winning player p3\n",
      "Following suit with lowest card- Player p4 plays T_H, p3 wins trick\n",
      "Leading off with highest non-trump- Player p3 plays T_C, Current winning player p3\n",
      "Lowest trump card- Player p4 plays A_S, Current winning player p4\n",
      "Following suit with lowest card- Player p1 plays 9_C, Current winning player p4\n",
      "Teammate winning, following suit with lowest card- Player p2 plays J_C, p2 wins trick\n",
      "Leading off with highest non-trump- Player p2 plays Q_C, Current winning player p2\n",
      "Following suit with lowest card- Player p3 plays K_C, Current winning player p3\n",
      "No trump, playing lowest card in hand- Player p4 plays J_H, Current winning player p3\n",
      "Teammate winning, no follow suit, play lowest card- Player p1 plays T_S, p1 wins trick\n",
      "Leading off with highest non-trump- Player p1 plays K_D, Current winning player p1\n",
      "Following suit with lowest card- Player p2 plays T_D, Current winning player p1\n",
      "Teammate winning, no follow suit, play lowest card- Player p3 plays J_S, Current winning player p3\n",
      "Following suit with lowest card- Player p4 plays Q_D, p3 wins trick\n",
      "Last card- Player p3 plays K_S, Last card- Player p4 plays K_H, Last card- Player p1 plays Q_S, Last card- Player p2 plays J_D, p3 wins trick\n",
      "Trick winners: {'p1': 1, 'p2': 1, 'p3': 3, 'p4': 0}\n",
      "t1 scores 1\n",
      "Current score: 4-9\n",
      "Hand #9- Dealer: p1; Player Hands: {'p1': ['T_H', 'T_S', '9_C', '9_S', 'Q_C'], 'p2': ['Q_D', 'J_S', 'T_C', 'K_D', 'T_D'], 'p3': ['K_C', 'Q_S', 'J_C', 'J_H', 'K_H'], 'p4': ['9_H', 'J_D', 'A_S', 'K_S', '9_D']}\n",
      "Player p2 has chosen D as trump\n",
      "Leading off with lowest overall card- Player p2 plays T_C, Current winning player p2\n",
      "Following suit with lowest card- Player p3 plays J_C, Current winning player p3\n",
      "Lowest trump card- Player p4 plays 9_D, Current winning player p4\n",
      "Following suit with lowest card- Player p1 plays 9_C, p4 wins trick\n",
      "Leading off with highest non-trump- Player p4 plays 9_H, Current winning player p4\n",
      "Following suit with lowest card- Player p1 plays T_H, Current winning player p1\n",
      "Lowest trump card- Player p2 plays T_D, Current winning player p2\n",
      "Following suit with lowest card- Player p3 plays J_H, p3 wins trick\n",
      "Leading off with highest non-trump- Player p3 plays K_C, Current winning player p3\n",
      "Lowest trump card- Player p4 plays J_D, Current winning player p4\n",
      "Following suit with lowest card- Player p1 plays Q_C, Current winning player p4\n",
      "Teammate winning, no follow suit, play lowest card- Player p2 plays J_S, p4 wins trick\n",
      "Leading off with highest non-trump- Player p4 plays A_S, Current winning player p4\n",
      "Following suit with lowest card- Player p1 plays 9_S, Current winning player p4\n",
      "Teammate winning, no follow suit, play lowest card- Player p2 plays Q_D, Current winning player p2\n",
      "Following suit with lowest card- Player p3 plays Q_S, p2 wins trick\n",
      "Last card- Player p2 plays K_D, Last card- Player p3 plays K_H, Last card- Player p4 plays K_S, Last card- Player p1 plays T_S, p2 wins trick\n",
      "Trick winners: {'p2': 2, 'p3': 1, 'p4': 2, 'p1': 0}\n",
      "t2 scores 1\n",
      "Current score: 4-10\n",
      "Total hands played 10\n",
      "Wall time: 64.5 ms\n"
     ]
    }
   ],
   "source": [
    "%%time\n",
    "\n",
    "euchre_game = EuchreGame()\n",
    "euchre_game.play_full_game(verbose=True)"
   ]
  },
  {
   "cell_type": "code",
   "execution_count": 54,
   "id": "06225cf9",
   "metadata": {},
   "outputs": [
    {
     "data": {
      "text/plain": [
       "{'t1': 3, 't2': 10}"
      ]
     },
     "execution_count": 54,
     "metadata": {},
     "output_type": "execute_result"
    }
   ],
   "source": [
    "euchre_game.score"
   ]
  },
  {
   "cell_type": "code",
   "execution_count": null,
   "id": "4defa0c3",
   "metadata": {},
   "outputs": [],
   "source": []
  },
  {
   "cell_type": "code",
   "execution_count": null,
   "id": "da41d0d4",
   "metadata": {},
   "outputs": [],
   "source": [
    "len(hand_results)"
   ]
  },
  {
   "cell_type": "code",
   "execution_count": null,
   "id": "d7fffa15",
   "metadata": {},
   "outputs": [],
   "source": []
  },
  {
   "cell_type": "markdown",
   "id": "2f4c6b11",
   "metadata": {},
   "source": [
    "#### Profile performance"
   ]
  },
  {
   "cell_type": "code",
   "execution_count": 97,
   "id": "2e3c6ada",
   "metadata": {},
   "outputs": [
    {
     "name": "stdout",
     "output_type": "stream",
     "text": [
      " "
     ]
    }
   ],
   "source": [
    "%%prun\n",
    "\n",
    "euchre_game = EuchreGame()\n",
    "euchre_game.play_full_game(verbose=False)"
   ]
  },
  {
   "cell_type": "code",
   "execution_count": null,
   "id": "c6bf8cd8",
   "metadata": {},
   "outputs": [],
   "source": []
  },
  {
   "cell_type": "code",
   "execution_count": null,
   "id": "3e7968b2",
   "metadata": {},
   "outputs": [],
   "source": []
  },
  {
   "cell_type": "markdown",
   "id": "74dd206b",
   "metadata": {},
   "source": [
    "### Loop through games played, collect strategy results"
   ]
  },
  {
   "cell_type": "code",
   "execution_count": 102,
   "id": "9115efe2",
   "metadata": {},
   "outputs": [],
   "source": [
    "from scipy.stats import ttest_ind"
   ]
  },
  {
   "cell_type": "code",
   "execution_count": 159,
   "id": "5b775975",
   "metadata": {
    "scrolled": true
   },
   "outputs": [
    {
     "name": "stdout",
     "output_type": "stream",
     "text": [
      "Wall time: 4.51 s\n"
     ]
    }
   ],
   "source": [
    "%%time\n",
    "\n",
    "N_GAMES_TO_PLAY = 1000\n",
    "\n",
    "strategy_results = {'t1_wins':0, 't1_scores':[], 't2_scores':[]}\n",
    "\n",
    "for i in range(N_GAMES_TO_PLAY):\n",
    "    euchre_game = EuchreGame()\n",
    "    euchre_game.tm_call_trump_strategy['t2'] = 'NEW'  # set team 2 call trump strategy to NEW\n",
    "    #euchre_game.tm_play_card_strategy['t2'] = 'random'  # set team 2 play card strategy to random\n",
    "    euchre_game.play_full_game(verbose=False)\n",
    "    if euchre_game.score['t1'] > euchre_game.score['t2']:\n",
    "        strategy_results['t1_wins'] += 1\n",
    "    strategy_results['t1_scores'].append(euchre_game.score['t1'])\n",
    "    strategy_results['t2_scores'].append(euchre_game.score['t2'])"
   ]
  },
  {
   "cell_type": "code",
   "execution_count": 160,
   "id": "39becd99",
   "metadata": {},
   "outputs": [
    {
     "name": "stdout",
     "output_type": "stream",
     "text": [
      "Team 1 strategy won 502/1000 games (50.2%)\n"
     ]
    }
   ],
   "source": [
    "print(f\"\"\"Team 1 strategy won {strategy_results['t1_wins']}/{N_GAMES_TO_PLAY} games \\\n",
    "({strategy_results['t1_wins']/N_GAMES_TO_PLAY*100}%)\"\"\")"
   ]
  },
  {
   "cell_type": "markdown",
   "id": "9e908796",
   "metadata": {},
   "source": [
    "#### T-test for statistically significant difference in means between t1 and t2 scores"
   ]
  },
  {
   "cell_type": "code",
   "execution_count": 161,
   "id": "c3acdd31",
   "metadata": {},
   "outputs": [
    {
     "data": {
      "text/plain": [
       "Ttest_indResult(statistic=0.0823827367621197, pvalue=0.9343506154133684)"
      ]
     },
     "execution_count": 161,
     "metadata": {},
     "output_type": "execute_result"
    }
   ],
   "source": [
    "ttest_ind(strategy_results['t1_scores'], strategy_results['t2_scores'])"
   ]
  },
  {
   "cell_type": "markdown",
   "id": "1f3d588d",
   "metadata": {},
   "source": [
    "### Plot results"
   ]
  },
  {
   "cell_type": "code",
   "execution_count": 157,
   "id": "02d1d463",
   "metadata": {},
   "outputs": [],
   "source": [
    "import matplotlib.pyplot as plt"
   ]
  },
  {
   "cell_type": "code",
   "execution_count": 162,
   "id": "8d510d16",
   "metadata": {},
   "outputs": [
    {
     "data": {
      "text/plain": [
       "<matplotlib.legend.Legend at 0x28c30844be0>"
      ]
     },
     "execution_count": 162,
     "metadata": {},
     "output_type": "execute_result"
    },
    {
     "data": {
      "image/png": "[encoded data removed]",
      "text/plain": [
       "<Figure size 432x288 with 1 Axes>"
      ]
     },
     "metadata": {},
     "output_type": "display_data"
    }
   ],
   "source": [
    "plt.style.use('ggplot')\n",
    "plt.hist(strategy_results['t1_scores'], bins=23, alpha=0.5, label='t1_scores')\n",
    "plt.hist(strategy_results['t2_scores'], bins=23, alpha=0.5, label='t2_scores')\n",
    "plt.legend(loc='upper left')"
   ]
  },
  {
   "cell_type": "code",
   "execution_count": null,
   "id": "b3000b6a",
   "metadata": {},
   "outputs": [],
   "source": []
  },
  {
   "cell_type": "code",
   "execution_count": null,
   "id": "cd2dc6af",
   "metadata": {},
   "outputs": [],
   "source": []
  },
  {
   "cell_type": "code",
   "execution_count": null,
   "id": "c9ba4e52",
   "metadata": {},
   "outputs": [],
   "source": []
  },
  {
   "cell_type": "markdown",
   "id": "16dd92be",
   "metadata": {},
   "source": [
    "## Loop through games played, collect hand_results"
   ]
  },
  {
   "cell_type": "code",
   "execution_count": 101,
   "id": "a61703b6",
   "metadata": {},
   "outputs": [
    {
     "data": {
      "text/plain": [
       "{'player_hands': {'p1': ['9_C', 'K_H', 'K_D', '9_D', '9_S'],\n",
       "  'p2': ['J_S', 'J_D', 'T_S', 'J_H', 'K_S'],\n",
       "  'p3': ['A_S', 'J_C', 'Q_H', '9_H', 'Q_S'],\n",
       "  'p4': ['T_D', 'T_H', 'Q_C', 'K_C', 'T_C']},\n",
       " 'calling_player': 'p2',\n",
       " 'trump': 'S',\n",
       " 'dealer': 'p1',\n",
       " 'hand_score': {'t1': 2, 't2': 0},\n",
       " 'trick_winners': {'p2': 2, 'p3': 2, 'p4': 0, 'p1': 1}}"
      ]
     },
     "execution_count": 101,
     "metadata": {},
     "output_type": "execute_result"
    }
   ],
   "source": [
    "euchre_game = EuchreGame()\n",
    "hand_results = euchre_game.play_full_game(return_all_hands_results=True, verbose=False)\n",
    "hand_results[0]"
   ]
  },
  {
   "cell_type": "code",
   "execution_count": 112,
   "id": "21b95861",
   "metadata": {},
   "outputs": [],
   "source": [
    "import pandas as pd"
   ]
  },
  {
   "cell_type": "code",
   "execution_count": 113,
   "id": "c58305cd",
   "metadata": {},
   "outputs": [],
   "source": [
    "from utils import return_off_suit"
   ]
  },
  {
   "cell_type": "code",
   "execution_count": 116,
   "id": "15a32ab1",
   "metadata": {},
   "outputs": [],
   "source": [
    "def return_df_from_hand_results(hand_results_dict):\n",
    "    fields_to_collect = ['tricks_won',\n",
    "                         'is_calling_player',\n",
    "                         'has_right', \n",
    "                         'has_left',\n",
    "                         'has_Atrump',\n",
    "                         'has_Ktrump',\n",
    "                         'has_Qtrump',\n",
    "                         'num_trump',\n",
    "                         'num_off_A',\n",
    "                         'num_off_K',\n",
    "                         'num_off_Q']\n",
    "    results_list = []\n",
    "    for player in hand_results_dict['trick_winners'].keys():\n",
    "        player_hand_results = dict.fromkeys(fields_to_collect,0)\n",
    "        player_hand_results['tricks_won'] = hand_results_dict['trick_winners'][player]\n",
    "        if player == hand_results_dict['calling_player']:\n",
    "            player_hand_results['is_calling_player'] = 1\n",
    "        player_hand_results['num_trump'] = 0\n",
    "        for idx, card in enumerate(hand_results_dict['player_hands'][player]):\n",
    "            if card[-1] == hand_results_dict['trump']:\n",
    "                player_hand_results['num_trump'] += 1\n",
    "                if card[0] == 'A':\n",
    "                    player_hand_results['has_Atrump'] = 1\n",
    "                if card[0] == 'K':\n",
    "                    player_hand_results['has_Ktrump'] = 1\n",
    "                if card[0] == 'Q':\n",
    "                    player_hand_results['has_Qtrump'] = 1\n",
    "                if card[0] == 'J':\n",
    "                    player_hand_results['has_right'] = 1\n",
    "            else:\n",
    "                if card[0] == 'A':\n",
    "                    player_hand_results['num_off_A'] += 1\n",
    "                if card[0] == 'K':\n",
    "                    player_hand_results['num_off_K'] += 1\n",
    "                if card[0] == 'Q':\n",
    "                    player_hand_results['num_off_Q'] += 1\n",
    "                if card[0] == 'J':\n",
    "                    if return_off_suit(card[-1]) == trump:\n",
    "                        player_hand_results['has_left'] = 1\n",
    "                        player_hand_results['num_trump'] += 1\n",
    "        results_list.append(player_hand_results)\n",
    "    return pd.DataFrame(results_list)"
   ]
  },
  {
   "cell_type": "code",
   "execution_count": 117,
   "id": "62252d13",
   "metadata": {},
   "outputs": [
    {
     "data": {
      "text/plain": [
       "(4, 11)"
      ]
     },
     "execution_count": 117,
     "metadata": {},
     "output_type": "execute_result"
    }
   ],
   "source": [
    "results_df = return_df_from_hand_results(all_hand_results[0][0])\n",
    "results_df.shape"
   ]
  },
  {
   "cell_type": "code",
   "execution_count": 118,
   "id": "eaceae1d",
   "metadata": {},
   "outputs": [
    {
     "data": {
      "text/html": [
       "<div>\n",
       "<style scoped>\n",
       "    .dataframe tbody tr th:only-of-type {\n",
       "        vertical-align: middle;\n",
       "    }\n",
       "\n",
       "    .dataframe tbody tr th {\n",
       "        vertical-align: top;\n",
       "    }\n",
       "\n",
       "    .dataframe thead th {\n",
       "        text-align: right;\n",
       "    }\n",
       "</style>\n",
       "<table border=\"1\" class=\"dataframe\">\n",
       "  <thead>\n",
       "    <tr style=\"text-align: right;\">\n",
       "      <th></th>\n",
       "      <th>tricks_won</th>\n",
       "      <th>is_calling_player</th>\n",
       "      <th>has_right</th>\n",
       "      <th>has_left</th>\n",
       "      <th>has_Atrump</th>\n",
       "      <th>has_Ktrump</th>\n",
       "      <th>has_Qtrump</th>\n",
       "      <th>num_trump</th>\n",
       "      <th>num_off_A</th>\n",
       "      <th>num_off_K</th>\n",
       "      <th>num_off_Q</th>\n",
       "    </tr>\n",
       "  </thead>\n",
       "  <tbody>\n",
       "    <tr>\n",
       "      <th>0</th>\n",
       "      <td>0</td>\n",
       "      <td>0</td>\n",
       "      <td>0</td>\n",
       "      <td>0</td>\n",
       "      <td>0</td>\n",
       "      <td>0</td>\n",
       "      <td>0</td>\n",
       "      <td>0</td>\n",
       "      <td>1</td>\n",
       "      <td>0</td>\n",
       "      <td>1</td>\n",
       "    </tr>\n",
       "    <tr>\n",
       "      <th>1</th>\n",
       "      <td>3</td>\n",
       "      <td>1</td>\n",
       "      <td>1</td>\n",
       "      <td>0</td>\n",
       "      <td>0</td>\n",
       "      <td>0</td>\n",
       "      <td>1</td>\n",
       "      <td>3</td>\n",
       "      <td>0</td>\n",
       "      <td>1</td>\n",
       "      <td>0</td>\n",
       "    </tr>\n",
       "    <tr>\n",
       "      <th>2</th>\n",
       "      <td>1</td>\n",
       "      <td>0</td>\n",
       "      <td>0</td>\n",
       "      <td>0</td>\n",
       "      <td>0</td>\n",
       "      <td>1</td>\n",
       "      <td>0</td>\n",
       "      <td>2</td>\n",
       "      <td>0</td>\n",
       "      <td>2</td>\n",
       "      <td>1</td>\n",
       "    </tr>\n",
       "    <tr>\n",
       "      <th>3</th>\n",
       "      <td>1</td>\n",
       "      <td>0</td>\n",
       "      <td>0</td>\n",
       "      <td>0</td>\n",
       "      <td>0</td>\n",
       "      <td>0</td>\n",
       "      <td>0</td>\n",
       "      <td>0</td>\n",
       "      <td>0</td>\n",
       "      <td>0</td>\n",
       "      <td>1</td>\n",
       "    </tr>\n",
       "  </tbody>\n",
       "</table>\n",
       "</div>"
      ],
      "text/plain": [
       "   tricks_won  is_calling_player  has_right  has_left  has_Atrump  has_Ktrump  \\\n",
       "0           0                  0          0         0           0           0   \n",
       "1           3                  1          1         0           0           0   \n",
       "2           1                  0          0         0           0           1   \n",
       "3           1                  0          0         0           0           0   \n",
       "\n",
       "   has_Qtrump  num_trump  num_off_A  num_off_K  num_off_Q  \n",
       "0           0          0          1          0          1  \n",
       "1           1          3          0          1          0  \n",
       "2           0          2          0          2          1  \n",
       "3           0          0          0          0          1  "
      ]
     },
     "execution_count": 118,
     "metadata": {},
     "output_type": "execute_result"
    }
   ],
   "source": [
    "results_df.head()"
   ]
  },
  {
   "cell_type": "code",
   "execution_count": null,
   "id": "7183dbe0",
   "metadata": {},
   "outputs": [],
   "source": []
  },
  {
   "cell_type": "code",
   "execution_count": 124,
   "id": "e3f5e79b",
   "metadata": {},
   "outputs": [
    {
     "name": "stdout",
     "output_type": "stream",
     "text": [
      "Wall time: 2.25 s\n"
     ]
    }
   ],
   "source": [
    "%%time\n",
    "\n",
    "N_GAMES_TO_PLAY = 100\n",
    "\n",
    "all_hand_results_df = pd.DataFrame()\n",
    "for i in range(N_GAMES_TO_PLAY):\n",
    "    euchre_game = EuchreGame()\n",
    "    hand_results = euchre_game.play_full_game(return_all_hands_results=True, verbose=False)\n",
    "    game_results_df = pd.DataFrame()\n",
    "    for hand in hand_results:\n",
    "        hand_results_df = return_df_from_hand_results(hand)\n",
    "        game_results_df = pd.concat([game_results_df, hand_results_df])\n",
    "    all_hand_results_df = pd.concat([all_hand_results_df, game_results_df])"
   ]
  },
  {
   "cell_type": "code",
   "execution_count": 125,
   "id": "40be9e20",
   "metadata": {},
   "outputs": [
    {
     "data": {
      "text/plain": [
       "(4832, 11)"
      ]
     },
     "execution_count": 125,
     "metadata": {},
     "output_type": "execute_result"
    }
   ],
   "source": [
    "all_hand_results_df.shape"
   ]
  },
  {
   "cell_type": "code",
   "execution_count": 126,
   "id": "e95a8a76",
   "metadata": {},
   "outputs": [
    {
     "data": {
      "text/html": [
       "<div>\n",
       "<style scoped>\n",
       "    .dataframe tbody tr th:only-of-type {\n",
       "        vertical-align: middle;\n",
       "    }\n",
       "\n",
       "    .dataframe tbody tr th {\n",
       "        vertical-align: top;\n",
       "    }\n",
       "\n",
       "    .dataframe thead th {\n",
       "        text-align: right;\n",
       "    }\n",
       "</style>\n",
       "<table border=\"1\" class=\"dataframe\">\n",
       "  <thead>\n",
       "    <tr style=\"text-align: right;\">\n",
       "      <th></th>\n",
       "      <th>tricks_won</th>\n",
       "      <th>is_calling_player</th>\n",
       "      <th>has_right</th>\n",
       "      <th>has_left</th>\n",
       "      <th>has_Atrump</th>\n",
       "      <th>has_Ktrump</th>\n",
       "      <th>has_Qtrump</th>\n",
       "      <th>num_trump</th>\n",
       "      <th>num_off_A</th>\n",
       "      <th>num_off_K</th>\n",
       "      <th>num_off_Q</th>\n",
       "    </tr>\n",
       "  </thead>\n",
       "  <tbody>\n",
       "    <tr>\n",
       "      <th>2</th>\n",
       "      <td>5</td>\n",
       "      <td>1</td>\n",
       "      <td>1</td>\n",
       "      <td>0</td>\n",
       "      <td>1</td>\n",
       "      <td>0</td>\n",
       "      <td>1</td>\n",
       "      <td>4</td>\n",
       "      <td>0</td>\n",
       "      <td>0</td>\n",
       "      <td>0</td>\n",
       "    </tr>\n",
       "    <tr>\n",
       "      <th>1</th>\n",
       "      <td>5</td>\n",
       "      <td>1</td>\n",
       "      <td>1</td>\n",
       "      <td>0</td>\n",
       "      <td>0</td>\n",
       "      <td>1</td>\n",
       "      <td>0</td>\n",
       "      <td>3</td>\n",
       "      <td>1</td>\n",
       "      <td>0</td>\n",
       "      <td>0</td>\n",
       "    </tr>\n",
       "    <tr>\n",
       "      <th>2</th>\n",
       "      <td>5</td>\n",
       "      <td>1</td>\n",
       "      <td>1</td>\n",
       "      <td>0</td>\n",
       "      <td>0</td>\n",
       "      <td>0</td>\n",
       "      <td>1</td>\n",
       "      <td>3</td>\n",
       "      <td>0</td>\n",
       "      <td>1</td>\n",
       "      <td>0</td>\n",
       "    </tr>\n",
       "    <tr>\n",
       "      <th>0</th>\n",
       "      <td>5</td>\n",
       "      <td>1</td>\n",
       "      <td>1</td>\n",
       "      <td>0</td>\n",
       "      <td>0</td>\n",
       "      <td>1</td>\n",
       "      <td>1</td>\n",
       "      <td>3</td>\n",
       "      <td>0</td>\n",
       "      <td>1</td>\n",
       "      <td>0</td>\n",
       "    </tr>\n",
       "    <tr>\n",
       "      <th>0</th>\n",
       "      <td>5</td>\n",
       "      <td>1</td>\n",
       "      <td>1</td>\n",
       "      <td>0</td>\n",
       "      <td>0</td>\n",
       "      <td>1</td>\n",
       "      <td>0</td>\n",
       "      <td>3</td>\n",
       "      <td>0</td>\n",
       "      <td>1</td>\n",
       "      <td>1</td>\n",
       "    </tr>\n",
       "    <tr>\n",
       "      <th>3</th>\n",
       "      <td>5</td>\n",
       "      <td>1</td>\n",
       "      <td>1</td>\n",
       "      <td>0</td>\n",
       "      <td>0</td>\n",
       "      <td>1</td>\n",
       "      <td>0</td>\n",
       "      <td>3</td>\n",
       "      <td>0</td>\n",
       "      <td>1</td>\n",
       "      <td>0</td>\n",
       "    </tr>\n",
       "    <tr>\n",
       "      <th>2</th>\n",
       "      <td>5</td>\n",
       "      <td>1</td>\n",
       "      <td>1</td>\n",
       "      <td>0</td>\n",
       "      <td>0</td>\n",
       "      <td>1</td>\n",
       "      <td>1</td>\n",
       "      <td>3</td>\n",
       "      <td>0</td>\n",
       "      <td>2</td>\n",
       "      <td>0</td>\n",
       "    </tr>\n",
       "    <tr>\n",
       "      <th>0</th>\n",
       "      <td>5</td>\n",
       "      <td>1</td>\n",
       "      <td>1</td>\n",
       "      <td>0</td>\n",
       "      <td>0</td>\n",
       "      <td>0</td>\n",
       "      <td>0</td>\n",
       "      <td>3</td>\n",
       "      <td>0</td>\n",
       "      <td>1</td>\n",
       "      <td>0</td>\n",
       "    </tr>\n",
       "    <tr>\n",
       "      <th>1</th>\n",
       "      <td>5</td>\n",
       "      <td>1</td>\n",
       "      <td>1</td>\n",
       "      <td>0</td>\n",
       "      <td>0</td>\n",
       "      <td>0</td>\n",
       "      <td>1</td>\n",
       "      <td>3</td>\n",
       "      <td>0</td>\n",
       "      <td>1</td>\n",
       "      <td>0</td>\n",
       "    </tr>\n",
       "    <tr>\n",
       "      <th>1</th>\n",
       "      <td>5</td>\n",
       "      <td>1</td>\n",
       "      <td>1</td>\n",
       "      <td>0</td>\n",
       "      <td>1</td>\n",
       "      <td>1</td>\n",
       "      <td>0</td>\n",
       "      <td>4</td>\n",
       "      <td>0</td>\n",
       "      <td>0</td>\n",
       "      <td>0</td>\n",
       "    </tr>\n",
       "  </tbody>\n",
       "</table>\n",
       "</div>"
      ],
      "text/plain": [
       "   tricks_won  is_calling_player  has_right  has_left  has_Atrump  has_Ktrump  \\\n",
       "2           5                  1          1         0           1           0   \n",
       "1           5                  1          1         0           0           1   \n",
       "2           5                  1          1         0           0           0   \n",
       "0           5                  1          1         0           0           1   \n",
       "0           5                  1          1         0           0           1   \n",
       "3           5                  1          1         0           0           1   \n",
       "2           5                  1          1         0           0           1   \n",
       "0           5                  1          1         0           0           0   \n",
       "1           5                  1          1         0           0           0   \n",
       "1           5                  1          1         0           1           1   \n",
       "\n",
       "   has_Qtrump  num_trump  num_off_A  num_off_K  num_off_Q  \n",
       "2           1          4          0          0          0  \n",
       "1           0          3          1          0          0  \n",
       "2           1          3          0          1          0  \n",
       "0           1          3          0          1          0  \n",
       "0           0          3          0          1          1  \n",
       "3           0          3          0          1          0  \n",
       "2           1          3          0          2          0  \n",
       "0           0          3          0          1          0  \n",
       "1           1          3          0          1          0  \n",
       "1           0          4          0          0          0  "
      ]
     },
     "execution_count": 126,
     "metadata": {},
     "output_type": "execute_result"
    }
   ],
   "source": [
    "all_hand_results_df.sort_values('tricks_won', ascending=False).head(10)"
   ]
  },
  {
   "cell_type": "code",
   "execution_count": 127,
   "id": "5e535936",
   "metadata": {},
   "outputs": [],
   "source": [
    "# check hand with right bauer didn't take 0 tricks\n",
    "assert all_hand_results_df[(all_hand_results_df['tricks_won']==0) & (all_hand_results_df['has_right']==1)].shape[0] == 0"
   ]
  },
  {
   "cell_type": "code",
   "execution_count": 128,
   "id": "13391542",
   "metadata": {},
   "outputs": [
    {
     "data": {
      "text/html": [
       "<div>\n",
       "<style scoped>\n",
       "    .dataframe tbody tr th:only-of-type {\n",
       "        vertical-align: middle;\n",
       "    }\n",
       "\n",
       "    .dataframe tbody tr th {\n",
       "        vertical-align: top;\n",
       "    }\n",
       "\n",
       "    .dataframe thead th {\n",
       "        text-align: right;\n",
       "    }\n",
       "</style>\n",
       "<table border=\"1\" class=\"dataframe\">\n",
       "  <thead>\n",
       "    <tr style=\"text-align: right;\">\n",
       "      <th></th>\n",
       "      <th></th>\n",
       "      <th></th>\n",
       "      <th></th>\n",
       "      <th>avg_tricks</th>\n",
       "      <th>num_hands</th>\n",
       "    </tr>\n",
       "    <tr>\n",
       "      <th>has_right</th>\n",
       "      <th>has_left</th>\n",
       "      <th>has_Atrump</th>\n",
       "      <th>has_Ktrump</th>\n",
       "      <th></th>\n",
       "      <th></th>\n",
       "    </tr>\n",
       "  </thead>\n",
       "  <tbody>\n",
       "    <tr>\n",
       "      <th rowspan=\"4\" valign=\"top\">0</th>\n",
       "      <th rowspan=\"4\" valign=\"top\">0</th>\n",
       "      <th rowspan=\"2\" valign=\"top\">0</th>\n",
       "      <th>0</th>\n",
       "      <td>0.656569</td>\n",
       "      <td>2641</td>\n",
       "    </tr>\n",
       "    <tr>\n",
       "      <th>1</th>\n",
       "      <td>1.484398</td>\n",
       "      <td>673</td>\n",
       "    </tr>\n",
       "    <tr>\n",
       "      <th rowspan=\"2\" valign=\"top\">1</th>\n",
       "      <th>0</th>\n",
       "      <td>1.436293</td>\n",
       "      <td>259</td>\n",
       "    </tr>\n",
       "    <tr>\n",
       "      <th>1</th>\n",
       "      <td>2.086022</td>\n",
       "      <td>93</td>\n",
       "    </tr>\n",
       "    <tr>\n",
       "      <th rowspan=\"4\" valign=\"top\">1</th>\n",
       "      <th rowspan=\"4\" valign=\"top\">0</th>\n",
       "      <th rowspan=\"2\" valign=\"top\">0</th>\n",
       "      <th>0</th>\n",
       "      <td>2.030882</td>\n",
       "      <td>680</td>\n",
       "    </tr>\n",
       "    <tr>\n",
       "      <th>1</th>\n",
       "      <td>2.750716</td>\n",
       "      <td>349</td>\n",
       "    </tr>\n",
       "    <tr>\n",
       "      <th rowspan=\"2\" valign=\"top\">1</th>\n",
       "      <th>0</th>\n",
       "      <td>2.860000</td>\n",
       "      <td>100</td>\n",
       "    </tr>\n",
       "    <tr>\n",
       "      <th>1</th>\n",
       "      <td>3.081081</td>\n",
       "      <td>37</td>\n",
       "    </tr>\n",
       "  </tbody>\n",
       "</table>\n",
       "</div>"
      ],
      "text/plain": [
       "                                          avg_tricks  num_hands\n",
       "has_right has_left has_Atrump has_Ktrump                       \n",
       "0         0        0          0             0.656569       2641\n",
       "                              1             1.484398        673\n",
       "                   1          0             1.436293        259\n",
       "                              1             2.086022         93\n",
       "1         0        0          0             2.030882        680\n",
       "                              1             2.750716        349\n",
       "                   1          0             2.860000        100\n",
       "                              1             3.081081         37"
      ]
     },
     "execution_count": 128,
     "metadata": {},
     "output_type": "execute_result"
    }
   ],
   "source": [
    "all_hand_results_df.groupby(['has_right', \n",
    "                             'has_left', \n",
    "                            'has_Atrump', \n",
    "                            'has_Ktrump', \n",
    "                            # 'has_Qtrump',\n",
    "                            ]).agg(avg_tricks=('tricks_won', 'mean'), num_hands=('has_right','count'))"
   ]
  },
  {
   "cell_type": "code",
   "execution_count": null,
   "id": "e66d959a",
   "metadata": {},
   "outputs": [],
   "source": []
  },
  {
   "cell_type": "code",
   "execution_count": null,
   "id": "31043e90",
   "metadata": {},
   "outputs": [],
   "source": []
  },
  {
   "cell_type": "code",
   "execution_count": null,
   "id": "d72fee66",
   "metadata": {},
   "outputs": [],
   "source": []
  },
  {
   "cell_type": "markdown",
   "id": "c66348f3",
   "metadata": {},
   "source": [
    "### Next steps for development"
   ]
  },
  {
   "cell_type": "code",
   "execution_count": null,
   "id": "e2bb4616",
   "metadata": {},
   "outputs": [],
   "source": [
    "# Build out play card strategy\n",
    "    # add logic to check what cards have been played in hand so far\n",
    "        # update cards_played_this_hand to dict to be able to tell which players played which cards\n",
    "        # check what trump has been played, etc., if highest remain \n",
    "# Build out framework to evaluate statistical significance of different strategies\n",
    "    # chart overlapping histograms of points scored for different strategies across hands\n",
    "# Handle loners\n",
    "    # add functionality to determine trump to check loner strategy, return loner_called boolean to play_hand\n",
    "        # start with strategy to call loner when right/left and 4 total trump\n",
    "    # update play_trick to pass in loner_called, remove partner of calling_player from next_to_play_list\n",
    "    # update update_score function to take in loner_called parameter, return scores for loners\n",
    "# Evaluate points scored for each hand type for each game\n",
    "# Build advanced strategy for play_lead_card function to reduce number of suits in hand, play toward partner short-suits\n",
    "# Build model to predict tricks taken from all_hand_results_df as training data set\n",
    "# build out advanced strategy for dealer swapping out card_flipped_up to reduce number of suits in hand\n",
    "# Code cleanup\n",
    "    # Add tests to all functions\n",
    "\n",
    "# Look into bug where player has top 4 trump cards but takes < 4 tricks\n",
    "# BUG in all_hand_results - no has_left showing up\n",
    "\n",
    "# Look at combinations of exactly unique hands, vs. unique types of hands\n",
    "\n",
    "# Add consideration of calling up trump to include if partner is dealer, if player is dealer\n",
    "# Add consideration of calling up trump to how high the card_flipped_up is - more likely if 9,T, less if J\n",
    "\n",
    "# Can you \"count on your partner for 1\"? What is the average number of tricks taken by the partner of the calling player?\n"
   ]
  },
  {
   "cell_type": "code",
   "execution_count": null,
   "id": "1fe92e32",
   "metadata": {},
   "outputs": [],
   "source": []
  },
  {
   "cell_type": "code",
   "execution_count": null,
   "id": "50715974",
   "metadata": {},
   "outputs": [],
   "source": []
  }
 ],
 "metadata": {
  "kernelspec": {
   "display_name": "Python 3",
   "language": "python",
   "name": "python3"
  },
  "language_info": {
   "codemirror_mode": {
    "name": "ipython",
    "version": 3
   },
   "file_extension": ".py",
   "mimetype": "text/x-python",
   "name": "python",
   "nbconvert_exporter": "python",
   "pygments_lexer": "ipython3",
   "version": "3.8.8"
  }
 },
 "nbformat": 4,
 "nbformat_minor": 5
}
