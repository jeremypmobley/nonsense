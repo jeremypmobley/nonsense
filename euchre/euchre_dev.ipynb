{
 "cells": [
  {
   "cell_type": "markdown",
   "id": "ee8b4ded",
   "metadata": {},
   "source": [
    "# Euchre\n",
    "Goal: code up a playable euchre game to better understand winning probabilities of different starting hands  \n",
    "Given: Right, Ace, Queen, off Ace, off ten; 3-suited, dealer spot - what's the likelihood of winning each number of tricks that round?  \n",
    "Genetic Algorithm to determine next play would be cool - start with random strategy, adapt to new weights as games progress  \n",
    "Streamlit app where user can select cards in hand and table position and get breakdown of likelihood of taking 5/4/3/2/1/0 tricks"
   ]
  },
  {
   "cell_type": "code",
   "execution_count": 1,
   "id": "9d58584f",
   "metadata": {},
   "outputs": [],
   "source": [
    "%load_ext autoreload\n",
    "%autoreload 2\n",
    "\n",
    "import numpy as np\n",
    "import sys\n",
    "\n",
    "sys.path.insert(0, 'C:/Users/jerem/Desktop/nonsense/euchre/')"
   ]
  },
  {
   "cell_type": "code",
   "execution_count": 2,
   "id": "189456a5",
   "metadata": {},
   "outputs": [],
   "source": [
    "from utils import EuchreGame"
   ]
  },
  {
   "cell_type": "markdown",
   "id": "984c974f",
   "metadata": {},
   "source": [
    "### Create Game object, check attributes"
   ]
  },
  {
   "cell_type": "code",
   "execution_count": 3,
   "id": "edde75bc",
   "metadata": {},
   "outputs": [],
   "source": [
    "euchre_game = EuchreGame()"
   ]
  },
  {
   "cell_type": "code",
   "execution_count": 4,
   "id": "0c5e25a1",
   "metadata": {},
   "outputs": [
    {
     "data": {
      "text/plain": [
       "{'t1': 0, 't2': 0}"
      ]
     },
     "execution_count": 4,
     "metadata": {},
     "output_type": "execute_result"
    }
   ],
   "source": [
    "euchre_game.score"
   ]
  },
  {
   "cell_type": "code",
   "execution_count": 5,
   "id": "0500989c",
   "metadata": {},
   "outputs": [
    {
     "data": {
      "text/plain": [
       "'p1'"
      ]
     },
     "execution_count": 5,
     "metadata": {},
     "output_type": "execute_result"
    }
   ],
   "source": [
    "euchre_game.dealer"
   ]
  },
  {
   "cell_type": "code",
   "execution_count": 6,
   "id": "455a4758",
   "metadata": {},
   "outputs": [
    {
     "data": {
      "text/plain": [
       "['p2', 'p3', 'p4', 'p1']"
      ]
     },
     "execution_count": 6,
     "metadata": {},
     "output_type": "execute_result"
    }
   ],
   "source": [
    "euchre_game.next_to_deal"
   ]
  },
  {
   "cell_type": "code",
   "execution_count": 7,
   "id": "495a2571",
   "metadata": {},
   "outputs": [
    {
     "name": "stdout",
     "output_type": "stream",
     "text": [
      "Current score: 0-0\n"
     ]
    }
   ],
   "source": [
    "euchre_game.print_score()"
   ]
  },
  {
   "cell_type": "code",
   "execution_count": 8,
   "id": "3261df2d",
   "metadata": {},
   "outputs": [
    {
     "data": {
      "text/plain": [
       "['S', 'C', 'H', 'D']"
      ]
     },
     "execution_count": 8,
     "metadata": {},
     "output_type": "execute_result"
    }
   ],
   "source": [
    "euchre_game.card_suits"
   ]
  },
  {
   "cell_type": "code",
   "execution_count": 9,
   "id": "1a0f9da4",
   "metadata": {},
   "outputs": [
    {
     "data": {
      "text/plain": [
       "['A', 'K', 'Q', 'J', 'T', '9']"
      ]
     },
     "execution_count": 9,
     "metadata": {},
     "output_type": "execute_result"
    }
   ],
   "source": [
    "euchre_game.card_values"
   ]
  },
  {
   "cell_type": "code",
   "execution_count": 10,
   "id": "0393bc91",
   "metadata": {},
   "outputs": [
    {
     "name": "stdout",
     "output_type": "stream",
     "text": [
      "9_S,9_C,9_H,9_D,T_S,T_C,T_H,T_D,J_S,J_C,J_H,J_D,Q_S,Q_C,Q_H,Q_D,K_S,K_C,K_H,K_D,A_S,A_C,A_H,A_D,"
     ]
    }
   ],
   "source": [
    "deck_of_cards = euchre_game.shuffle_deck_of_cards()\n",
    "for card in deck_of_cards:\n",
    "    print(card, end=',')"
   ]
  },
  {
   "cell_type": "markdown",
   "id": "579b287e",
   "metadata": {},
   "source": [
    "### Deal cards"
   ]
  },
  {
   "cell_type": "code",
   "execution_count": 11,
   "id": "4f2f3ecb",
   "metadata": {},
   "outputs": [
    {
     "name": "stdout",
     "output_type": "stream",
     "text": [
      "None\n"
     ]
    }
   ],
   "source": [
    "player_hands, card_flipped_up = euchre_game.deal_hand()"
   ]
  },
  {
   "cell_type": "code",
   "execution_count": 12,
   "id": "04890ccf",
   "metadata": {},
   "outputs": [
    {
     "data": {
      "text/plain": [
       "{'p1': ['Q_C', 'J_C', 'A_H', 'Q_D', 'K_S'],\n",
       " 'p2': ['A_D', 'K_H', '9_H', 'T_D', 'K_C'],\n",
       " 'p3': ['Q_H', 'A_C', 'J_D', '9_C', 'T_C'],\n",
       " 'p4': ['9_S', 'K_D', 'Q_S', '9_D', 'J_H']}"
      ]
     },
     "execution_count": 12,
     "metadata": {},
     "output_type": "execute_result"
    }
   ],
   "source": [
    "player_hands"
   ]
  },
  {
   "cell_type": "code",
   "execution_count": 13,
   "id": "86db0ae9",
   "metadata": {},
   "outputs": [
    {
     "data": {
      "text/plain": [
       "'T_S'"
      ]
     },
     "execution_count": 13,
     "metadata": {},
     "output_type": "execute_result"
    }
   ],
   "source": [
    "card_flipped_up"
   ]
  },
  {
   "cell_type": "code",
   "execution_count": null,
   "id": "226d3092",
   "metadata": {},
   "outputs": [],
   "source": []
  },
  {
   "cell_type": "markdown",
   "id": "e91ea086",
   "metadata": {},
   "source": [
    "### Choose suit for trump"
   ]
  },
  {
   "cell_type": "code",
   "execution_count": 14,
   "id": "91e4996f",
   "metadata": {},
   "outputs": [],
   "source": [
    "if euchre_game.eval_flipped_card(suit='S', hand=['K_S', 'A_H', 'A_C', 'J_C', 'J_S']):\n",
    "    print('order up trump')"
   ]
  },
  {
   "cell_type": "code",
   "execution_count": 15,
   "id": "f40dba46",
   "metadata": {},
   "outputs": [
    {
     "name": "stdout",
     "output_type": "stream",
     "text": [
      "order up trump\n"
     ]
    }
   ],
   "source": [
    "if euchre_game.eval_flipped_card(suit='S', hand=['K_S', 'A_H', 'A_S', 'J_C', 'J_S']):\n",
    "    print('order up trump')"
   ]
  },
  {
   "cell_type": "code",
   "execution_count": 16,
   "id": "e198e31d",
   "metadata": {},
   "outputs": [
    {
     "data": {
      "text/plain": [
       "'S'"
      ]
     },
     "execution_count": 16,
     "metadata": {},
     "output_type": "execute_result"
    }
   ],
   "source": [
    "euchre_game.choose_open_trump(hand=['K_S', 'A_S', 'A_C', 'J_C', 'J_S'], \n",
    "                  card_flipped_up='A_D')"
   ]
  },
  {
   "cell_type": "code",
   "execution_count": 17,
   "id": "357c20a4",
   "metadata": {},
   "outputs": [],
   "source": [
    "euchre_game.choose_open_trump(hand=['K_S', 'A_H', 'A_C', 'J_C', 'J_S'], \n",
    "                  card_flipped_up='A_D')"
   ]
  },
  {
   "cell_type": "code",
   "execution_count": 18,
   "id": "b2c6bd7b",
   "metadata": {},
   "outputs": [
    {
     "name": "stdout",
     "output_type": "stream",
     "text": [
      "None\n"
     ]
    }
   ],
   "source": [
    "calling_player, trump = euchre_game.determine_trump(card_flipped_up=card_flipped_up,\n",
    "                           player_hands=player_hands)"
   ]
  },
  {
   "cell_type": "code",
   "execution_count": 19,
   "id": "22c27f20",
   "metadata": {},
   "outputs": [
    {
     "name": "stdout",
     "output_type": "stream",
     "text": [
      "{'p1': ['Q_C', 'J_C', 'A_H', 'Q_D', 'K_S'], 'p2': ['A_D', 'K_H', '9_H', 'T_D', 'K_C'], 'p3': ['Q_H', 'A_C', 'J_D', '9_C', 'T_C'], 'p4': ['9_S', 'K_D', 'Q_S', '9_D', 'J_H']}\n",
      "p3\n",
      "C\n"
     ]
    }
   ],
   "source": [
    "print(player_hands)\n",
    "print(calling_player)\n",
    "print(trump)"
   ]
  },
  {
   "cell_type": "code",
   "execution_count": null,
   "id": "b03a7e64",
   "metadata": {},
   "outputs": [],
   "source": []
  },
  {
   "cell_type": "markdown",
   "id": "aee5ba3c",
   "metadata": {},
   "source": [
    "### Play trick"
   ]
  },
  {
   "cell_type": "code",
   "execution_count": 21,
   "id": "2f545d88",
   "metadata": {},
   "outputs": [
    {
     "name": "stdout",
     "output_type": "stream",
     "text": [
      "Player p2 plays A_D, Player p3 plays T_C, Player p4 plays J_H, Player p1 plays K_S, "
     ]
    }
   ],
   "source": [
    "cards_in_play, player_led = euchre_game.play_trick(player_hands=player_hands, \n",
    "                                                   trump=trump, \n",
    "                                                   next_to_play_list=euchre_game.next_to_deal, \n",
    "                                                   cards_played_this_hand = [], \n",
    "                                                   verbose=True)"
   ]
  },
  {
   "cell_type": "code",
   "execution_count": 22,
   "id": "848bd841",
   "metadata": {},
   "outputs": [
    {
     "data": {
      "text/plain": [
       "{'p2': 'A_D', 'p3': 'T_C', 'p4': 'J_H', 'p1': 'K_S'}"
      ]
     },
     "execution_count": 22,
     "metadata": {},
     "output_type": "execute_result"
    }
   ],
   "source": [
    "cards_in_play"
   ]
  },
  {
   "cell_type": "code",
   "execution_count": 23,
   "id": "7b2fdd61",
   "metadata": {},
   "outputs": [
    {
     "data": {
      "text/plain": [
       "'p2'"
      ]
     },
     "execution_count": 23,
     "metadata": {},
     "output_type": "execute_result"
    }
   ],
   "source": [
    "player_led"
   ]
  },
  {
   "cell_type": "markdown",
   "id": "00b21a38",
   "metadata": {},
   "source": [
    "#### Determine trick winner"
   ]
  },
  {
   "cell_type": "code",
   "execution_count": 42,
   "id": "e1be5e00",
   "metadata": {},
   "outputs": [
    {
     "name": "stdout",
     "output_type": "stream",
     "text": [
      "p3 wins trick\n"
     ]
    },
    {
     "data": {
      "text/plain": [
       "'p3'"
      ]
     },
     "execution_count": 42,
     "metadata": {},
     "output_type": "execute_result"
    }
   ],
   "source": [
    "euchre_game.determine_trick_winner(cards_in_play={'p2': '9_S', 'p3': 'J_C', 'p4': 'J_H', 'p1': 'A_S'}, \n",
    "                           trump='S', \n",
    "                           player_led=player_led, \n",
    "                                   verbose=True)"
   ]
  },
  {
   "cell_type": "code",
   "execution_count": 47,
   "id": "aa320b76",
   "metadata": {},
   "outputs": [
    {
     "data": {
      "text/plain": [
       "'p1'"
      ]
     },
     "execution_count": 47,
     "metadata": {},
     "output_type": "execute_result"
    }
   ],
   "source": [
    "euchre_game.determine_trick_winner(cards_in_play={'p2': '9_S', 'p3': 'J_C', 'p4': 'J_S', 'p1': 'A_S'}, \n",
    "                           trump='D', \n",
    "                           player_led=player_led, \n",
    "                                   verbose=False)"
   ]
  },
  {
   "cell_type": "code",
   "execution_count": 46,
   "id": "17803ea1",
   "metadata": {},
   "outputs": [
    {
     "data": {
      "text/plain": [
       "'p3'"
      ]
     },
     "execution_count": 46,
     "metadata": {},
     "output_type": "execute_result"
    }
   ],
   "source": [
    "trick_winner = euchre_game.determine_trick_winner(cards_in_play=cards_in_play,\n",
    "                                           trump=trump,\n",
    "                                           player_led=player_led)\n",
    "\n",
    "trick_winner"
   ]
  },
  {
   "cell_type": "code",
   "execution_count": 421,
   "id": "48c13202",
   "metadata": {},
   "outputs": [
    {
     "data": {
      "text/plain": [
       "'p3'"
      ]
     },
     "execution_count": 421,
     "metadata": {},
     "output_type": "execute_result"
    }
   ],
   "source": [
    "euchre_game.determine_trick_winner(cards_in_play={'p2': '9_S', 'p3': 'J_H', 'p4': 'J_S', 'p1': 'A_D'}, \n",
    "                           trump='D', \n",
    "                           player_led='p2', \n",
    "                                   verbose=False)"
   ]
  },
  {
   "cell_type": "code",
   "execution_count": 422,
   "id": "f5366e7d",
   "metadata": {},
   "outputs": [
    {
     "data": {
      "text/plain": [
       "'p1'"
      ]
     },
     "execution_count": 422,
     "metadata": {},
     "output_type": "execute_result"
    }
   ],
   "source": [
    "euchre_game.determine_trick_winner(cards_in_play={'p2': '9_S', 'p3': 'T_D', 'p4': 'J_S', 'p1': 'A_D'}, \n",
    "                           trump='D', \n",
    "                           player_led='p2', \n",
    "                                   verbose=False)"
   ]
  },
  {
   "cell_type": "code",
   "execution_count": null,
   "id": "317817cc",
   "metadata": {},
   "outputs": [],
   "source": []
  },
  {
   "cell_type": "code",
   "execution_count": null,
   "id": "0132780d",
   "metadata": {},
   "outputs": [],
   "source": []
  },
  {
   "cell_type": "markdown",
   "id": "dbb6672f",
   "metadata": {},
   "source": [
    "#### Swap card in dealer hand"
   ]
  },
  {
   "cell_type": "code",
   "execution_count": 171,
   "id": "ca9334cb",
   "metadata": {},
   "outputs": [
    {
     "name": "stdout",
     "output_type": "stream",
     "text": [
      "Dealer discards 9_H and picks up A_S\n"
     ]
    },
    {
     "data": {
      "text/plain": [
       "['J_H', 'A_D', 'K_S', 'J_D', 'A_S']"
      ]
     },
     "execution_count": 171,
     "metadata": {},
     "output_type": "execute_result"
    }
   ],
   "source": [
    "new_dealer_hand = euchre_game.swap_dealer_card(card_flipped_up='A_S', dealer_hand=['J_H', 'A_D', '9_H', 'K_S', 'J_D'], \n",
    "                                               verbose=True)\n",
    "new_dealer_hand"
   ]
  },
  {
   "cell_type": "code",
   "execution_count": 172,
   "id": "2f82dd26",
   "metadata": {},
   "outputs": [
    {
     "name": "stdout",
     "output_type": "stream",
     "text": [
      "Dealer discards T_D and picks up 9_S\n"
     ]
    },
    {
     "data": {
      "text/plain": [
       "['J_H', 'T_H', 'K_S', 'J_D', '9_S']"
      ]
     },
     "execution_count": 172,
     "metadata": {},
     "output_type": "execute_result"
    }
   ],
   "source": [
    "new_dealer_hand = euchre_game.swap_dealer_card(card_flipped_up='9_S', dealer_hand=['J_H', 'T_D', 'T_H', 'K_S', 'J_D'], \n",
    "                                               verbose=True)\n",
    "new_dealer_hand"
   ]
  },
  {
   "cell_type": "code",
   "execution_count": null,
   "id": "63f953fd",
   "metadata": {},
   "outputs": [],
   "source": []
  },
  {
   "cell_type": "markdown",
   "id": "19749e5b",
   "metadata": {},
   "source": [
    "### Play card"
   ]
  },
  {
   "cell_type": "code",
   "execution_count": 30,
   "id": "67865ab6",
   "metadata": {},
   "outputs": [
    {
     "data": {
      "text/plain": [
       "'J_D'"
      ]
     },
     "execution_count": 30,
     "metadata": {},
     "output_type": "execute_result"
    }
   ],
   "source": [
    "euchre_game.play_card(hand=['J_H', 'A_D', '9_H', 'K_S', 'J_D'], \n",
    "                      trump='S',\n",
    "                      cards_in_play=['K_H', 'T_H'], \n",
    "                      cards_played_this_hand=[], \n",
    "                      suit_led='H')"
   ]
  },
  {
   "cell_type": "code",
   "execution_count": 32,
   "id": "69a5755d",
   "metadata": {},
   "outputs": [
    {
     "data": {
      "text/plain": [
       "'A_C'"
      ]
     },
     "execution_count": 32,
     "metadata": {},
     "output_type": "execute_result"
    }
   ],
   "source": [
    "euchre_game.play_card(hand=['9_D', 'T_C', '9_C', 'J_H', 'A_C'],\n",
    "                      trump='S',\n",
    "                      cards_in_play=[],\n",
    "                      cards_played_this_hand=[], \n",
    "                      suit_led=None)"
   ]
  },
  {
   "cell_type": "code",
   "execution_count": 34,
   "id": "aa5a889d",
   "metadata": {},
   "outputs": [
    {
     "data": {
      "text/plain": [
       "'J_S'"
      ]
     },
     "execution_count": 34,
     "metadata": {},
     "output_type": "execute_result"
    }
   ],
   "source": [
    "euchre_game.play_card(hand=['9_D', 'T_C', '9_C', 'J_S', 'A_C'],\n",
    "          trump='S',\n",
    "          cards_in_play=[],\n",
    "                      cards_played_this_hand=[], \n",
    "          suit_led=None)"
   ]
  },
  {
   "cell_type": "code",
   "execution_count": 35,
   "id": "c0931e5c",
   "metadata": {},
   "outputs": [
    {
     "data": {
      "text/plain": [
       "'A_C'"
      ]
     },
     "execution_count": 35,
     "metadata": {},
     "output_type": "execute_result"
    }
   ],
   "source": [
    "euchre_game.play_card(hand=['9_D', 'T_C', '9_C', 'J_S', 'A_C'],\n",
    "          trump='S',\n",
    "          cards_in_play=['K_C'],\n",
    "                                cards_played_this_hand=[], \n",
    "          suit_led=None)"
   ]
  },
  {
   "cell_type": "code",
   "execution_count": null,
   "id": "ee0d7b3f",
   "metadata": {},
   "outputs": [],
   "source": []
  },
  {
   "cell_type": "code",
   "execution_count": 93,
   "id": "3c285d21",
   "metadata": {},
   "outputs": [
    {
     "data": {
      "text/plain": [
       "'J_S'"
      ]
     },
     "execution_count": 93,
     "metadata": {},
     "output_type": "execute_result"
    }
   ],
   "source": [
    "euchre_game.play_random_card(hand=['9_D', 'T_C', '9_C', 'J_S', 'A_C'], \n",
    "                             suit_led=None)"
   ]
  },
  {
   "cell_type": "code",
   "execution_count": 94,
   "id": "1d69b6ee",
   "metadata": {},
   "outputs": [
    {
     "data": {
      "text/plain": [
       "'9_D'"
      ]
     },
     "execution_count": 94,
     "metadata": {},
     "output_type": "execute_result"
    }
   ],
   "source": [
    "euchre_game.play_random_card(hand=['9_D', 'T_C', '9_C', 'J_S', 'A_C'], \n",
    "                             suit_led='D')"
   ]
  },
  {
   "cell_type": "code",
   "execution_count": 97,
   "id": "f123fe39",
   "metadata": {},
   "outputs": [
    {
     "data": {
      "text/plain": [
       "'9_C'"
      ]
     },
     "execution_count": 97,
     "metadata": {},
     "output_type": "execute_result"
    }
   ],
   "source": [
    "euchre_game.play_random_card(hand=['9_D', 'T_C', '9_C', 'J_S', 'A_C'], \n",
    "                             suit_led='C')"
   ]
  },
  {
   "cell_type": "code",
   "execution_count": null,
   "id": "e2d6711e",
   "metadata": {},
   "outputs": [],
   "source": [
    "def play_card(self,\n",
    "              hand,\n",
    "              trump,\n",
    "              cards_in_play,\n",
    "              player_led,\n",
    "              cards_played_this_hand,\n",
    "              suit_led=None):\n",
    "    \"\"\"\n",
    "    Function to return card to play in hand\n",
    "    \"\"\"\n",
    "    card_values = {\n",
    "        '9': 1,\n",
    "        'T': 2,\n",
    "        'J': 3,\n",
    "        'Q': 4,\n",
    "        'K': 5,\n",
    "        'A': 6\n",
    "    }\n",
    "    # play last card\n",
    "    if len(hand) == 1:\n",
    "        return hand[0]\n",
    "\n",
    "    # lead card\n",
    "    if len(cards_in_play) < 1:\n",
    "        for idx, card in enumerate(hand):\n",
    "            # 1 - play right bauer\n",
    "            if card[-1] == trump and card[0] == 'J':\n",
    "                return hand[idx]\n",
    "            # TODO: 1A - if right bauer played, play left bauer\n",
    "            right_bauer = 'J' + '_' + trump\n",
    "            if right_bauer in cards_played_this_hand:\n",
    "                pass\n",
    "            # 2 - play off ace\n",
    "            elif card[-1] != trump:\n",
    "                if card[0] == 'A':\n",
    "                    return hand[idx]\n",
    "            # 3 - TODO: else play highest non-trump card\n",
    "        return hand[0]\n",
    "\n",
    "    # follow suit\n",
    "    if suit_led is not None:\n",
    "        current_winning_player = euchre_game.determine_trick_winner(cards_in_play=cards_in_play,\n",
    "                                                                    trump=trump,\n",
    "                                                                    player_led=player_led)\n",
    "        # play lowest card in the suit played\n",
    "        card_to_play_points = -1\n",
    "        idx_to_return = -1\n",
    "        for idx, card in enumerate(hand):\n",
    "            if card[-1] == suit_led:\n",
    "                card_points = card_values[card[0]]\n",
    "                if card_points < card_to_play_points:\n",
    "                    card_to_play_points = card_points\n",
    "                    idx_to_return = idx\n",
    "        return hand[idx_to_return]\n",
    "\n",
    "    # play other highest non-trump card\n",
    "    else:\n",
    "        card_to_play_points = -1\n",
    "        idx_to_return = -1\n",
    "        for idx, card in enumerate(hand):\n",
    "            if card[-1] != trump:\n",
    "                card_points = card_values[card[0]]\n",
    "                if card_points > card_to_play_points:\n",
    "                    card_to_play_points = card_points\n",
    "                    idx_to_return = idx\n",
    "        if idx_to_return > -1:\n",
    "            return hand[idx_to_return]\n",
    "\n",
    "        else:  # only has trump left, play lowest trump\n",
    "            trump_card_points = 9\n",
    "            for idx, card in enumerate(hand):\n",
    "                card_points = card_values[card[0]]\n",
    "                if card_points < trump_card_points:\n",
    "                    trump_card_points = card_points\n",
    "                    idx_to_return = idx\n",
    "            return hand[idx_to_return]\n"
   ]
  },
  {
   "cell_type": "code",
   "execution_count": null,
   "id": "4157a65e",
   "metadata": {},
   "outputs": [],
   "source": [
    "# play card pseudocode:\n",
    "    # last card\n",
    "    # follow suit\n",
    "    # play whatever card"
   ]
  },
  {
   "cell_type": "code",
   "execution_count": 226,
   "id": "3c57dd87",
   "metadata": {},
   "outputs": [],
   "source": [
    "card_values = {\n",
    "    '9': 1,\n",
    "    'T': 2,\n",
    "    'J': 3,\n",
    "    'Q': 4,\n",
    "    'K': 5,\n",
    "    'A': 6\n",
    "}"
   ]
  },
  {
   "cell_type": "code",
   "execution_count": 247,
   "id": "bf6762f7",
   "metadata": {},
   "outputs": [
    {
     "data": {
      "text/plain": [
       "6"
      ]
     },
     "execution_count": 247,
     "metadata": {},
     "output_type": "execute_result"
    }
   ],
   "source": [
    "card_values[card[0]]"
   ]
  },
  {
   "cell_type": "code",
   "execution_count": 246,
   "id": "0cf0c6a8",
   "metadata": {},
   "outputs": [
    {
     "data": {
      "text/plain": [
       "'A_D'"
      ]
     },
     "execution_count": 246,
     "metadata": {},
     "output_type": "execute_result"
    }
   ],
   "source": [
    "card"
   ]
  },
  {
   "cell_type": "code",
   "execution_count": 233,
   "id": "abeb64ea",
   "metadata": {},
   "outputs": [],
   "source": [
    "def get_lowest_card(hand, \n",
    "                    suit=None):\n",
    "    \"\"\"\n",
    "    Return lowest card in given suit or across all suits\n",
    "    \"\"\"\n",
    "    card_to_play_points = 9\n",
    "    idx_to_return = -1\n",
    "    if suit is not None:\n",
    "        for idx, card in enumerate(hand):\n",
    "            if card[-1] == suit:  # if card is in given suit\n",
    "                card_points = card_values[card[0]]  \n",
    "                if card_points < card_to_play_points:\n",
    "                    card_to_play_points = card_points\n",
    "                    idx_to_return = idx\n",
    "        if idx_to_return > -1:\n",
    "            return hand[idx_to_return]\n",
    "    else:\n",
    "        for idx, card in enumerate(hand):\n",
    "            card_points = card_values[card[0]]  \n",
    "            if card_points < card_to_play_points:\n",
    "                card_to_play_points = card_points\n",
    "                idx_to_return = idx\n",
    "        return hand[idx_to_return]"
   ]
  },
  {
   "cell_type": "code",
   "execution_count": 234,
   "id": "704b2d61",
   "metadata": {},
   "outputs": [
    {
     "data": {
      "text/plain": [
       "'9_C'"
      ]
     },
     "execution_count": 234,
     "metadata": {},
     "output_type": "execute_result"
    }
   ],
   "source": [
    "get_lowest_card(hand=['9_D', 'T_C', '9_C', 'J_S', 'A_C'], \n",
    "                suit='C')"
   ]
  },
  {
   "cell_type": "code",
   "execution_count": 235,
   "id": "1df4d546",
   "metadata": {},
   "outputs": [],
   "source": [
    "get_lowest_card(hand=['9_D', 'T_C', '9_C', 'J_S', 'A_C'], \n",
    "                suit='H')"
   ]
  },
  {
   "cell_type": "code",
   "execution_count": 237,
   "id": "c2dc78bb",
   "metadata": {},
   "outputs": [
    {
     "data": {
      "text/plain": [
       "'A_D'"
      ]
     },
     "execution_count": 237,
     "metadata": {},
     "output_type": "execute_result"
    }
   ],
   "source": [
    "get_lowest_card(hand=['A_D', 'T_C', '9_C', 'J_S', 'A_C'], \n",
    "                suit='D')"
   ]
  },
  {
   "cell_type": "code",
   "execution_count": 240,
   "id": "62571f12",
   "metadata": {},
   "outputs": [
    {
     "data": {
      "text/plain": [
       "'9_C'"
      ]
     },
     "execution_count": 240,
     "metadata": {},
     "output_type": "execute_result"
    }
   ],
   "source": [
    "get_lowest_card(hand=['A_D', 'T_C', '9_C', 'J_S', 'A_C'])"
   ]
  },
  {
   "cell_type": "code",
   "execution_count": 243,
   "id": "edcfc680",
   "metadata": {},
   "outputs": [
    {
     "data": {
      "text/plain": [
       "'T_C'"
      ]
     },
     "execution_count": 243,
     "metadata": {},
     "output_type": "execute_result"
    }
   ],
   "source": [
    "get_lowest_card(hand=['A_D', 'T_C', 'T_H', 'J_S', 'A_C'])"
   ]
  },
  {
   "cell_type": "code",
   "execution_count": null,
   "id": "0db3d983",
   "metadata": {},
   "outputs": [],
   "source": []
  },
  {
   "cell_type": "markdown",
   "id": "976ca371",
   "metadata": {},
   "source": [
    "### Play full game"
   ]
  },
  {
   "cell_type": "code",
   "execution_count": 425,
   "id": "74567bc0",
   "metadata": {
    "scrolled": false
   },
   "outputs": [
    {
     "name": "stdout",
     "output_type": "stream",
     "text": [
      "Hand #0- Dealer: p1; Card flipped up: T_S\n",
      "Player p4 has chosen D as trump\n",
      "Player p2 plays J_H, Following suit- Player p3 plays T_H, Following suit- Player p4 plays K_H, Following suit- Player p1 plays 9_H, p2 wins trick\n",
      "Player p2 plays 9_C, Lowest_trump_card- Player p3 plays 9_D, Following suit- Player p4 plays A_C, Following suit- Player p1 plays T_C, p3 wins trick\n",
      "Player p3 plays J_S, Lowest_trump_card- Player p4 plays Q_D, Following suit- Player p1 plays A_S, Following suit- Player p2 plays 9_S, p4 wins trick\n",
      "Player p4 plays A_D, Lowest_card_in_hand- Player p1 plays J_C, Following suit- Player p2 plays T_D, Lowest_card_in_hand- Player p3 plays Q_S, p4 wins trick\n",
      "Player p4 plays K_D, Player p1 plays A_H, Player p2 plays Q_C, Player p3 plays Q_H, p4 wins trick\n",
      "Trick winners: {'p2': 1, 'p3': 1, 'p4': 3, 'p1': 0}\n",
      "t2 scores 1\n",
      "Current score: 0-1\n",
      "Hand #1- Dealer: p2; Card flipped up: 9_S\n",
      "Trump not found\n",
      "Hand #1- Dealer: p3; Card flipped up: 9_H\n",
      "Player p1 has chosen D as trump\n",
      "Player p4 plays A_H, Following suit- Player p1 plays T_H, Lowest_trump_card- Player p2 plays Q_D, Following suit- Player p3 plays J_H, p3 wins trick\n",
      "Player p3 plays T_C, Following suit- Player p4 plays 9_C, Following suit- Player p1 plays A_C, Lowest_card_in_hand- Player p2 plays 9_S, p1 wins trick\n",
      "Player p1 plays J_D, Lowest_card_in_hand- Player p2 plays T_S, Lowest_card_in_hand- Player p3 plays J_S, Following suit- Player p4 plays T_D, p1 wins trick\n",
      "Player p1 plays A_D, Lowest_card_in_hand- Player p2 plays K_S, Lowest_card_in_hand- Player p3 plays Q_C, Lowest_card_in_hand- Player p4 plays J_C, p1 wins trick\n",
      "Player p1 plays 9_D, Player p2 plays A_S, Player p3 plays K_C, Player p4 plays K_H, p1 wins trick\n",
      "Trick winners: {'p4': 0, 'p1': 4, 'p2': 0, 'p3': 1}\n",
      "t1 scores 2\n",
      "Current score: 2-1\n",
      "Hand #2- Dealer: p4; Card flipped up: 9_H\n",
      "Player p1 has chosen S as trump\n",
      "Player p1 plays J_S, Following suit- Player p2 plays K_S, Following suit- Player p3 plays A_S, Following suit- Player p4 plays T_S, p1 wins trick\n",
      "Player p1 plays 9_C, Lowest_card_in_hand- Player p2 plays 9_D, Following suit- Player p3 plays K_C, Following suit- Player p4 plays T_C, p3 wins trick\n",
      "Player p3 plays Q_D, Following suit- Player p4 plays K_D, Lowest_trump_card- Player p1 plays 9_S, Following suit- Player p2 plays J_D, p1 wins trick\n",
      "Player p1 plays A_H, Following suit- Player p2 plays T_H, Lowest_card_in_hand- Player p3 plays T_D, Lowest_card_in_hand- Player p4 plays J_C, p4 wins trick\n",
      "Player p4 plays Q_C, Player p1 plays Q_S, Player p2 plays J_H, Player p3 plays A_D, p1 wins trick\n",
      "Trick winners: {'p1': 3, 'p2': 0, 'p3': 1, 'p4': 1}\n",
      "t1 scores 1\n",
      "Current score: 3-1\n",
      "Hand #3- Dealer: p1; Card flipped up: T_H\n",
      "Player p3 has chosen C as trump\n",
      "Player p2 plays A_H, Lowest_trump_card- Player p3 plays 9_C, Lowest_card_in_hand- Player p4 plays T_S, Following suit- Player p1 plays J_H, p3 wins trick\n",
      "Player p3 plays J_C, Lowest_card_in_hand- Player p4 plays J_S, Following suit- Player p1 plays K_C, Following suit- Player p2 plays T_C, p3 wins trick\n",
      "Player p3 plays Q_C, Lowest_card_in_hand- Player p4 plays J_D, Following suit- Player p1 plays A_C, Lowest_card_in_hand- Player p2 plays 9_S, p1 wins trick\n",
      "Player p1 plays 9_D, Lowest_card_in_hand- Player p2 plays 9_H, Following suit- Player p3 plays T_D, Following suit- Player p4 plays A_D, p4 wins trick\n",
      "Player p4 plays Q_S, Player p1 plays Q_H, Player p2 plays A_S, Player p3 plays K_D, p2 wins trick\n",
      "Trick winners: {'p2': 1, 'p3': 2, 'p4': 1, 'p1': 1}\n",
      "t1 scores 1\n",
      "Current score: 4-1\n",
      "Hand #4- Dealer: p2; Card flipped up: 9_D\n",
      "Trump not found\n",
      "Hand #4- Dealer: p3; Card flipped up: 9_H\n",
      "Trump not found\n",
      "Hand #4- Dealer: p4; Card flipped up: 9_S\n",
      "Player p1 has chosen D as trump\n",
      "Player p1 plays A_S, Following suit- Player p2 plays T_S, Lowest_trump_card- Player p3 plays Q_D, Following suit- Player p4 plays J_S, p3 wins trick\n",
      "Player p3 plays A_D, Lowest_card_in_hand- Player p4 plays J_H, Following suit- Player p1 plays T_D, Following suit- Player p2 plays 9_D, p4 wins trick\n",
      "Player p4 plays A_C, Lowest_trump_card- Player p1 plays J_D, Lowest_card_in_hand- Player p2 plays 9_H, Following suit- Player p3 plays Q_C, p1 wins trick\n",
      "Player p1 plays K_S, Lowest_card_in_hand- Player p2 plays Q_H, Lowest_card_in_hand- Player p3 plays T_H, Following suit- Player p4 plays Q_S, p1 wins trick\n",
      "Player p1 plays K_D, Player p2 plays A_H, Player p3 plays K_C, Player p4 plays K_H, p1 wins trick\n",
      "Trick winners: {'p1': 3, 'p2': 0, 'p3': 1, 'p4': 1}\n",
      "t1 scores 1\n",
      "Current score: 5-1\n",
      "Hand #5- Dealer: p1; Card flipped up: Q_S\n",
      "Trump not found\n",
      "Hand #5- Dealer: p2; Card flipped up: 9_C\n",
      "Trump not found\n",
      "Hand #5- Dealer: p3; Card flipped up: J_D\n",
      "Trump not found\n",
      "Hand #5- Dealer: p4; Card flipped up: T_H\n",
      "Player p1 has chosen S as trump\n",
      "Player p1 plays 9_S, Lowest_card_in_hand- Player p2 plays 9_H, Lowest_card_in_hand- Player p3 plays 9_D, Following suit- Player p4 plays T_S, p4 wins trick\n",
      "Player p4 plays J_S, Following suit- Player p1 plays Q_S, Lowest_card_in_hand- Player p2 plays T_C, Lowest_card_in_hand- Player p3 plays 9_C, p4 wins trick\n",
      "Player p4 plays J_H, Following suit- Player p1 plays K_H, Following suit- Player p2 plays Q_H, Following suit- Player p3 plays A_H, p3 wins trick\n",
      "Player p3 plays T_D, Following suit- Player p4 plays Q_D, Lowest_trump_card- Player p1 plays K_S, Lowest_card_in_hand- Player p2 plays K_C, p1 wins trick\n",
      "Player p1 plays J_C, Player p2 plays A_C, Player p3 plays K_D, Player p4 plays Q_C, p1 wins trick\n",
      "Trick winners: {'p1': 2, 'p2': 0, 'p3': 1, 'p4': 2}\n",
      "t1 scores 1\n",
      "Current score: 6-1\n",
      "Hand #6- Dealer: p1; Card flipped up: 9_C\n",
      "Player p1 has chosen H as trump\n",
      "Player p2 plays A_D, Following suit- Player p3 plays T_D, Following suit- Player p4 plays 9_D, Following suit- Player p1 plays K_D, p2 wins trick\n",
      "Player p2 plays Q_S, Following suit- Player p3 plays A_S, Following suit- Player p4 plays 9_S, Lowest_trump_card- Player p1 plays T_H, p1 wins trick\n",
      "Player p1 plays K_C, Following suit- Player p2 plays Q_C, Lowest_trump_card- Player p3 plays J_H, Following suit- Player p4 plays T_C, p3 wins trick\n",
      "Player p3 plays A_H, Following suit- Player p4 plays 9_H, Following suit- Player p1 plays Q_H, Lowest_card_in_hand- Player p2 plays J_D, p2 wins trick\n",
      "Player p2 plays K_S, Player p3 plays Q_D, Player p4 plays T_S, Player p1 plays K_H, p1 wins trick\n",
      "Trick winners: {'p2': 2, 'p3': 1, 'p4': 0, 'p1': 2}\n",
      "t1 scores 1\n",
      "Current score: 7-1\n",
      "Hand #7- Dealer: p2; Card flipped up: 9_H\n",
      "Player p3 has chosen D as trump\n",
      "Player p3 plays J_D, Lowest_card_in_hand- Player p4 plays T_C, Following suit- Player p1 plays K_D, Following suit- Player p2 plays Q_D, p3 wins trick\n",
      "Player p3 plays J_H, Following suit- Player p4 plays A_H, Following suit- Player p1 plays T_H, Following suit- Player p2 plays Q_H, p3 wins trick\n",
      "Player p3 plays 9_C, Following suit- Player p4 plays J_C, Lowest_card_in_hand- Player p1 plays 9_S, Following suit- Player p2 plays K_C, p2 wins trick\n",
      "Player p2 plays A_C, Lowest_trump_card- Player p3 plays 9_D, Lowest_card_in_hand- Player p4 plays Q_S, Lowest_card_in_hand- Player p1 plays J_S, p3 wins trick\n",
      "Player p3 plays A_D, Player p4 plays K_S, Player p1 plays K_H, Player p2 plays T_S, p3 wins trick\n",
      "Trick winners: {'p3': 4, 'p4': 0, 'p1': 0, 'p2': 1}\n",
      "t1 scores 1\n",
      "Current score: 8-1\n",
      "Hand #8- Dealer: p3; Card flipped up: 9_D\n",
      "Trump not found\n",
      "Hand #8- Dealer: p4; Card flipped up: T_C\n",
      "Player p1 has chosen H as trump\n",
      "Player p1 plays Q_H, Following suit- Player p2 plays T_H, Following suit- Player p3 plays J_H, Following suit- Player p4 plays K_H, p3 wins trick\n",
      "Player p3 plays Q_D, Following suit- Player p4 plays T_D, Lowest_trump_card- Player p1 plays 9_H, Following suit- Player p2 plays 9_D, p1 wins trick\n",
      "Player p1 plays 9_S, Following suit- Player p2 plays Q_S, Following suit- Player p3 plays T_S, Following suit- Player p4 plays J_S, p2 wins trick\n",
      "Player p2 plays 9_C, Following suit- Player p3 plays J_C, Lowest_card_in_hand- Player p4 plays K_S, Following suit- Player p1 plays K_C, p1 wins trick\n",
      "Player p1 plays A_H, Player p2 plays A_D, Player p3 plays Q_C, Player p4 plays K_D, p1 wins trick\n",
      "Trick winners: {'p1': 3, 'p2': 1, 'p3': 1, 'p4': 0}\n",
      "t1 scores 1\n",
      "Current score: 9-1\n",
      "Hand #9- Dealer: p1; Card flipped up: J_C\n",
      "Player p1 has chosen D as trump\n",
      "Player p2 plays A_S, Following suit- Player p3 plays T_S, Following suit- Player p4 plays 9_S, Following suit- Player p1 plays J_S, p2 wins trick\n",
      "Player p2 plays Q_D, Lowest_card_in_hand- Player p3 plays 9_C, Following suit- Player p4 plays A_D, Following suit- Player p1 plays 9_D, p4 wins trick\n",
      "Player p4 plays J_H, Lowest_trump_card- Player p1 plays T_D, Following suit- Player p2 plays T_H, Following suit- Player p3 plays A_H, p4 wins trick\n",
      "Player p4 plays T_C, Following suit- Player p1 plays Q_C, Lowest_trump_card- Player p2 plays K_D, Following suit- Player p3 plays K_C, p2 wins trick\n",
      "Player p2 plays Q_H, Player p3 plays K_S, Player p4 plays 9_H, Player p1 plays J_D, p1 wins trick\n",
      "Trick winners: {'p2': 2, 'p3': 0, 'p4': 2, 'p1': 1}\n",
      "t2 scores 2\n",
      "Current score: 9-3\n",
      "Hand #10- Dealer: p2; Card flipped up: T_D\n",
      "Trump not found\n",
      "Hand #10- Dealer: p3; Card flipped up: J_C\n",
      "Player p1 has chosen H as trump\n",
      "Player p4 plays T_S, Following suit- Player p1 plays 9_S, Following suit- Player p2 plays J_S, Following suit- Player p3 plays A_S, p3 wins trick\n",
      "Player p3 plays A_D, Following suit- Player p4 plays 9_D, Lowest_trump_card- Player p1 plays J_H, Following suit- Player p2 plays T_D, p1 wins trick\n",
      "Player p1 plays T_C, Following suit- Player p2 plays 9_C, Following suit- Player p3 plays K_C, Following suit- Player p4 plays Q_C, p3 wins trick\n",
      "Player p3 plays 9_H, Following suit- Player p4 plays T_H, Following suit- Player p1 plays Q_H, Lowest_card_in_hand- Player p2 plays K_D, p1 wins trick\n",
      "Player p1 plays K_H, Player p2 plays K_S, Player p3 plays Q_D, Player p4 plays A_H, p4 wins trick\n",
      "Trick winners: {'p4': 1, 'p1': 2, 'p2': 0, 'p3': 2}\n",
      "t1 scores 1\n",
      "Current score: 10-3\n",
      "Total hands played 11\n",
      "Wall time: 64.3 ms\n"
     ]
    }
   ],
   "source": [
    "%%time\n",
    "\n",
    "euchre_game = EuchreGame()\n",
    "# euchre_game.play_full_game(verbose=False)\n",
    "euchre_game.play_full_game(verbose=True)"
   ]
  },
  {
   "cell_type": "code",
   "execution_count": 424,
   "id": "06225cf9",
   "metadata": {},
   "outputs": [
    {
     "data": {
      "text/plain": [
       "{'t1': 10, 't2': 6}"
      ]
     },
     "execution_count": 424,
     "metadata": {},
     "output_type": "execute_result"
    }
   ],
   "source": [
    "euchre_game.score"
   ]
  },
  {
   "cell_type": "code",
   "execution_count": null,
   "id": "0f199a52",
   "metadata": {},
   "outputs": [],
   "source": []
  },
  {
   "cell_type": "code",
   "execution_count": null,
   "id": "2050d7ad",
   "metadata": {},
   "outputs": [],
   "source": []
  },
  {
   "cell_type": "markdown",
   "id": "3c416ee0",
   "metadata": {},
   "source": [
    "#### Collect all hands results"
   ]
  },
  {
   "cell_type": "code",
   "execution_count": 386,
   "id": "a61703b6",
   "metadata": {},
   "outputs": [
    {
     "data": {
      "text/plain": [
       "[None,\n",
       " {'player_hands': {'p1': ['A_H', '9_H', 'Q_S', 'T_C', '9_C'],\n",
       "   'p2': ['A_D', 'K_D', '9_D', 'T_D', 'T_H'],\n",
       "   'p3': ['J_H', 'J_S', '9_S', 'K_H', 'A_S'],\n",
       "   'p4': ['J_C', 'A_C', 'T_S', 'K_C', 'Q_H']},\n",
       "  'calling_player': 'p2',\n",
       "  'trump': 'D',\n",
       "  'dealer': 'p2',\n",
       "  'hand_score': {'t1': 0, 't2': 1},\n",
       "  'trick_winners': {'p3': 1, 'p4': 0, 'p1': 0, 'p2': 4}},\n",
       " None]"
      ]
     },
     "execution_count": 386,
     "metadata": {},
     "output_type": "execute_result"
    }
   ],
   "source": [
    "euchre_game = EuchreGame()\n",
    "hand_results = euchre_game.play_full_game(return_all_hands_results=True, verbose=False)\n",
    "hand_results[0:3]"
   ]
  },
  {
   "cell_type": "code",
   "execution_count": 316,
   "id": "da41d0d4",
   "metadata": {},
   "outputs": [
    {
     "data": {
      "text/plain": [
       "10"
      ]
     },
     "execution_count": 316,
     "metadata": {},
     "output_type": "execute_result"
    }
   ],
   "source": [
    "len(hand_results)"
   ]
  },
  {
   "cell_type": "code",
   "execution_count": null,
   "id": "d7fffa15",
   "metadata": {},
   "outputs": [],
   "source": []
  },
  {
   "cell_type": "markdown",
   "id": "2f4c6b11",
   "metadata": {},
   "source": [
    "#### Profile performance"
   ]
  },
  {
   "cell_type": "code",
   "execution_count": 372,
   "id": "2e3c6ada",
   "metadata": {},
   "outputs": [
    {
     "name": "stdout",
     "output_type": "stream",
     "text": [
      " "
     ]
    }
   ],
   "source": [
    "%%prun\n",
    "\n",
    "euchre_game = EuchreGame()\n",
    "euchre_game.play_full_game(verbose=False)"
   ]
  },
  {
   "cell_type": "code",
   "execution_count": null,
   "id": "be211eaf",
   "metadata": {},
   "outputs": [],
   "source": []
  },
  {
   "cell_type": "markdown",
   "id": "74dd206b",
   "metadata": {},
   "source": [
    "### Loop through games played, collect strategy results"
   ]
  },
  {
   "cell_type": "code",
   "execution_count": 426,
   "id": "5b775975",
   "metadata": {
    "scrolled": true
   },
   "outputs": [
    {
     "name": "stdout",
     "output_type": "stream",
     "text": [
      "Wall time: 9.71 s\n"
     ]
    }
   ],
   "source": [
    "%%time\n",
    "\n",
    "N_GAMES_TO_PLAY = 1000\n",
    "\n",
    "games_played = 0\n",
    "t1_wins = 0\n",
    "for i in range(N_GAMES_TO_PLAY):\n",
    "    euchre_game = EuchreGame()\n",
    "    euchre_game.team_strategies['t2'] = 'random'  # set team 2 strategy to random\n",
    "    euchre_game.play_full_game(verbose=False)\n",
    "    games_played += 1\n",
    "    if euchre_game.score['t1'] > euchre_game.score['t2']:\n",
    "        t1_wins += 1"
   ]
  },
  {
   "cell_type": "code",
   "execution_count": 427,
   "id": "22400492",
   "metadata": {},
   "outputs": [
    {
     "name": "stdout",
     "output_type": "stream",
     "text": [
      "1000\n",
      "652\n"
     ]
    }
   ],
   "source": [
    "print(games_played)\n",
    "print(t1_wins)"
   ]
  },
  {
   "cell_type": "code",
   "execution_count": null,
   "id": "f368f97c",
   "metadata": {},
   "outputs": [],
   "source": []
  },
  {
   "cell_type": "code",
   "execution_count": null,
   "id": "39becd99",
   "metadata": {},
   "outputs": [],
   "source": []
  },
  {
   "cell_type": "markdown",
   "id": "16dd92be",
   "metadata": {},
   "source": [
    "### Loop through games played, collect hand_results"
   ]
  },
  {
   "cell_type": "code",
   "execution_count": null,
   "id": "21b95861",
   "metadata": {},
   "outputs": [],
   "source": [
    "import pandas as pd"
   ]
  },
  {
   "cell_type": "code",
   "execution_count": 397,
   "id": "6ab2837e",
   "metadata": {},
   "outputs": [
    {
     "name": "stdout",
     "output_type": "stream",
     "text": [
      "Wall time: 822 ms\n"
     ]
    }
   ],
   "source": [
    "%%time\n",
    "\n",
    "N_GAMES_TO_PLAY = 100\n",
    "\n",
    "all_hand_results = []\n",
    "games_played = 0\n",
    "t1_wins = 0\n",
    "for i in range(N_GAMES_TO_PLAY):\n",
    "    euchre_game = EuchreGame()\n",
    "    # euchre_game.team_strategies['t2'] = 'random'  # set team 2 strategy to random\n",
    "    hand_results = euchre_game.play_full_game(return_all_hands_results=True, verbose=False)\n",
    "    games_played += 1\n",
    "    if euchre_game.score['t1'] > euchre_game.score['t2']:\n",
    "        t1_wins += 1\n",
    "    all_hand_results.append(hand_results)"
   ]
  },
  {
   "cell_type": "code",
   "execution_count": 405,
   "id": "f45f4f4e",
   "metadata": {},
   "outputs": [
    {
     "data": {
      "text/plain": [
       "{'player_hands': {'p1': ['T_D', 'T_C', 'T_H', 'J_C', 'K_C'],\n",
       "  'p2': ['Q_D', 'A_S', 'A_D', 'K_D', 'Q_H'],\n",
       "  'p3': ['J_S', 'A_H', 'A_C', '9_S', 'J_D'],\n",
       "  'p4': ['T_S', 'Q_S', '9_D', '9_H', 'J_H']},\n",
       " 'calling_player': 'p1',\n",
       " 'trump': 'C',\n",
       " 'dealer': 'p4',\n",
       " 'hand_score': {'t1': 1, 't2': 0},\n",
       " 'trick_winners': {'p1': 2, 'p2': 1, 'p3': 2, 'p4': 0}}"
      ]
     },
     "execution_count": 405,
     "metadata": {},
     "output_type": "execute_result"
    }
   ],
   "source": [
    "all_hand_results[0][0]"
   ]
  },
  {
   "cell_type": "code",
   "execution_count": 401,
   "id": "15a32ab1",
   "metadata": {},
   "outputs": [],
   "source": [
    "def return_df_from_hand_results(hand_results_dict):\n",
    "    fields_to_collect = ['tricks_won',\n",
    "                         'is_calling_player',\n",
    "                         'has_right', \n",
    "                         'has_left',\n",
    "                         'has_Atrump',\n",
    "                         'has_Ktrump',\n",
    "                         'has_Qtrump',\n",
    "                         'num_trump',\n",
    "                         'num_off_A',\n",
    "                         'num_off_K',\n",
    "                         'num_off_Q']\n",
    "    results_list = []\n",
    "    for player in hand_results_dict['trick_winners'].keys():\n",
    "        player_hand_results = dict.fromkeys(fields_to_collect,0)\n",
    "        player_hand_results['tricks_won'] = hand_results_dict['trick_winners'][player]\n",
    "        if player == hand_results_dict['calling_player']:\n",
    "            player_hand_results['is_calling_player'] = 1\n",
    "        player_hand_results['num_trump'] = 0\n",
    "        for idx, card in enumerate(hand_results_dict['player_hands'][player]):\n",
    "            if card[-1] == hand_results_dict['trump']:\n",
    "                player_hand_results['num_trump'] += 1\n",
    "                if card[0] == 'A':\n",
    "                    player_hand_results['has_Atrump'] = 1\n",
    "                if card[0] == 'K':\n",
    "                    player_hand_results['has_Ktrump'] = 1\n",
    "                if card[0] == 'Q':\n",
    "                    player_hand_results['has_Qtrump'] = 1\n",
    "                if card[0] == 'J':\n",
    "                    player_hand_results['has_right'] = 1\n",
    "            else:\n",
    "                if card[0] == 'A':\n",
    "                    player_hand_results['num_off_A'] += 1\n",
    "                if card[0] == 'K':\n",
    "                    player_hand_results['num_off_K'] += 1\n",
    "                if card[0] == 'Q':\n",
    "                    player_hand_results['num_off_Q'] += 1\n",
    "                if card[0] == 'J':\n",
    "                    if return_off_suit(card[-1]) == trump:\n",
    "                        player_hand_results['has_left'] = 1\n",
    "                        player_hand_results['num_trump'] += 1\n",
    "        results_list.append(player_hand_results)\n",
    "    return pd.DataFrame(results_list)"
   ]
  },
  {
   "cell_type": "code",
   "execution_count": 402,
   "id": "62252d13",
   "metadata": {},
   "outputs": [],
   "source": [
    "results_df = return_df_from_hand_results(all_hand_results[0][0])\n",
    "results_df.shape"
   ]
  },
  {
   "cell_type": "code",
   "execution_count": 404,
   "id": "eaceae1d",
   "metadata": {},
   "outputs": [
    {
     "data": {
      "text/html": [
       "<div>\n",
       "<style scoped>\n",
       "    .dataframe tbody tr th:only-of-type {\n",
       "        vertical-align: middle;\n",
       "    }\n",
       "\n",
       "    .dataframe tbody tr th {\n",
       "        vertical-align: top;\n",
       "    }\n",
       "\n",
       "    .dataframe thead th {\n",
       "        text-align: right;\n",
       "    }\n",
       "</style>\n",
       "<table border=\"1\" class=\"dataframe\">\n",
       "  <thead>\n",
       "    <tr style=\"text-align: right;\">\n",
       "      <th></th>\n",
       "      <th>tricks_won</th>\n",
       "      <th>is_calling_player</th>\n",
       "      <th>has_right</th>\n",
       "      <th>has_left</th>\n",
       "      <th>has_Atrump</th>\n",
       "      <th>has_Ktrump</th>\n",
       "      <th>has_Qtrump</th>\n",
       "      <th>num_trump</th>\n",
       "      <th>num_off_A</th>\n",
       "      <th>num_off_K</th>\n",
       "      <th>num_off_Q</th>\n",
       "    </tr>\n",
       "  </thead>\n",
       "  <tbody>\n",
       "    <tr>\n",
       "      <th>0</th>\n",
       "      <td>2</td>\n",
       "      <td>1</td>\n",
       "      <td>1</td>\n",
       "      <td>0</td>\n",
       "      <td>0</td>\n",
       "      <td>1</td>\n",
       "      <td>0</td>\n",
       "      <td>3</td>\n",
       "      <td>0</td>\n",
       "      <td>0</td>\n",
       "      <td>0</td>\n",
       "    </tr>\n",
       "    <tr>\n",
       "      <th>1</th>\n",
       "      <td>1</td>\n",
       "      <td>0</td>\n",
       "      <td>0</td>\n",
       "      <td>0</td>\n",
       "      <td>0</td>\n",
       "      <td>0</td>\n",
       "      <td>0</td>\n",
       "      <td>0</td>\n",
       "      <td>2</td>\n",
       "      <td>1</td>\n",
       "      <td>2</td>\n",
       "    </tr>\n",
       "    <tr>\n",
       "      <th>2</th>\n",
       "      <td>2</td>\n",
       "      <td>0</td>\n",
       "      <td>0</td>\n",
       "      <td>1</td>\n",
       "      <td>1</td>\n",
       "      <td>0</td>\n",
       "      <td>0</td>\n",
       "      <td>2</td>\n",
       "      <td>1</td>\n",
       "      <td>0</td>\n",
       "      <td>0</td>\n",
       "    </tr>\n",
       "    <tr>\n",
       "      <th>3</th>\n",
       "      <td>0</td>\n",
       "      <td>0</td>\n",
       "      <td>0</td>\n",
       "      <td>0</td>\n",
       "      <td>0</td>\n",
       "      <td>0</td>\n",
       "      <td>0</td>\n",
       "      <td>0</td>\n",
       "      <td>0</td>\n",
       "      <td>0</td>\n",
       "      <td>1</td>\n",
       "    </tr>\n",
       "  </tbody>\n",
       "</table>\n",
       "</div>"
      ],
      "text/plain": [
       "   tricks_won  is_calling_player  has_right  has_left  has_Atrump  has_Ktrump  \\\n",
       "0           2                  1          1         0           0           1   \n",
       "1           1                  0          0         0           0           0   \n",
       "2           2                  0          0         1           1           0   \n",
       "3           0                  0          0         0           0           0   \n",
       "\n",
       "   has_Qtrump  num_trump  num_off_A  num_off_K  num_off_Q  \n",
       "0           0          3          0          0          0  \n",
       "1           0          0          2          1          2  \n",
       "2           0          2          1          0          0  \n",
       "3           0          0          0          0          1  "
      ]
     },
     "execution_count": 404,
     "metadata": {},
     "output_type": "execute_result"
    }
   ],
   "source": [
    "results_df.head()"
   ]
  },
  {
   "cell_type": "code",
   "execution_count": null,
   "id": "7183dbe0",
   "metadata": {},
   "outputs": [],
   "source": []
  },
  {
   "cell_type": "code",
   "execution_count": null,
   "id": "2376cc19",
   "metadata": {},
   "outputs": [],
   "source": []
  },
  {
   "cell_type": "code",
   "execution_count": 428,
   "id": "e3f5e79b",
   "metadata": {},
   "outputs": [
    {
     "name": "stdout",
     "output_type": "stream",
     "text": [
      "Wall time: 2.9 s\n"
     ]
    }
   ],
   "source": [
    "%%time\n",
    "\n",
    "N_GAMES_TO_PLAY = 100\n",
    "\n",
    "all_hand_results_df = pd.DataFrame()\n",
    "for i in range(N_GAMES_TO_PLAY):\n",
    "    euchre_game = EuchreGame()\n",
    "    hand_results = euchre_game.play_full_game(return_all_hands_results=True, verbose=False)\n",
    "    game_results_df = pd.DataFrame()\n",
    "    for hand in hand_results:\n",
    "        hand_results_df = return_df_from_hand_results(hand)\n",
    "        game_results_df = pd.concat([game_results_df, hand_results_df])\n",
    "    all_hand_results_df = pd.concat([all_hand_results_df, game_results_df])"
   ]
  },
  {
   "cell_type": "code",
   "execution_count": 429,
   "id": "40be9e20",
   "metadata": {},
   "outputs": [
    {
     "data": {
      "text/plain": [
       "(4904, 11)"
      ]
     },
     "execution_count": 429,
     "metadata": {},
     "output_type": "execute_result"
    }
   ],
   "source": [
    "all_hand_results_df.shape"
   ]
  },
  {
   "cell_type": "code",
   "execution_count": 430,
   "id": "d3753094",
   "metadata": {
    "scrolled": true
   },
   "outputs": [
    {
     "data": {
      "text/html": [
       "<div>\n",
       "<style scoped>\n",
       "    .dataframe tbody tr th:only-of-type {\n",
       "        vertical-align: middle;\n",
       "    }\n",
       "\n",
       "    .dataframe tbody tr th {\n",
       "        vertical-align: top;\n",
       "    }\n",
       "\n",
       "    .dataframe thead th {\n",
       "        text-align: right;\n",
       "    }\n",
       "</style>\n",
       "<table border=\"1\" class=\"dataframe\">\n",
       "  <thead>\n",
       "    <tr style=\"text-align: right;\">\n",
       "      <th></th>\n",
       "      <th>tricks_won</th>\n",
       "      <th>is_calling_player</th>\n",
       "      <th>has_right</th>\n",
       "      <th>has_left</th>\n",
       "      <th>has_Atrump</th>\n",
       "      <th>has_Ktrump</th>\n",
       "      <th>has_Qtrump</th>\n",
       "      <th>num_trump</th>\n",
       "      <th>num_off_A</th>\n",
       "      <th>num_off_K</th>\n",
       "      <th>num_off_Q</th>\n",
       "    </tr>\n",
       "  </thead>\n",
       "  <tbody>\n",
       "    <tr>\n",
       "      <th>0</th>\n",
       "      <td>0</td>\n",
       "      <td>0</td>\n",
       "      <td>0</td>\n",
       "      <td>0</td>\n",
       "      <td>1</td>\n",
       "      <td>0</td>\n",
       "      <td>0</td>\n",
       "      <td>1</td>\n",
       "      <td>1</td>\n",
       "      <td>0</td>\n",
       "      <td>1</td>\n",
       "    </tr>\n",
       "    <tr>\n",
       "      <th>1</th>\n",
       "      <td>1</td>\n",
       "      <td>0</td>\n",
       "      <td>0</td>\n",
       "      <td>0</td>\n",
       "      <td>0</td>\n",
       "      <td>0</td>\n",
       "      <td>0</td>\n",
       "      <td>0</td>\n",
       "      <td>1</td>\n",
       "      <td>3</td>\n",
       "      <td>0</td>\n",
       "    </tr>\n",
       "    <tr>\n",
       "      <th>2</th>\n",
       "      <td>0</td>\n",
       "      <td>0</td>\n",
       "      <td>0</td>\n",
       "      <td>0</td>\n",
       "      <td>0</td>\n",
       "      <td>0</td>\n",
       "      <td>0</td>\n",
       "      <td>1</td>\n",
       "      <td>1</td>\n",
       "      <td>0</td>\n",
       "      <td>0</td>\n",
       "    </tr>\n",
       "    <tr>\n",
       "      <th>3</th>\n",
       "      <td>4</td>\n",
       "      <td>1</td>\n",
       "      <td>1</td>\n",
       "      <td>0</td>\n",
       "      <td>0</td>\n",
       "      <td>1</td>\n",
       "      <td>1</td>\n",
       "      <td>3</td>\n",
       "      <td>0</td>\n",
       "      <td>0</td>\n",
       "      <td>1</td>\n",
       "    </tr>\n",
       "    <tr>\n",
       "      <th>0</th>\n",
       "      <td>0</td>\n",
       "      <td>0</td>\n",
       "      <td>0</td>\n",
       "      <td>0</td>\n",
       "      <td>0</td>\n",
       "      <td>1</td>\n",
       "      <td>0</td>\n",
       "      <td>1</td>\n",
       "      <td>0</td>\n",
       "      <td>1</td>\n",
       "      <td>0</td>\n",
       "    </tr>\n",
       "  </tbody>\n",
       "</table>\n",
       "</div>"
      ],
      "text/plain": [
       "   tricks_won  is_calling_player  has_right  has_left  has_Atrump  has_Ktrump  \\\n",
       "0           0                  0          0         0           1           0   \n",
       "1           1                  0          0         0           0           0   \n",
       "2           0                  0          0         0           0           0   \n",
       "3           4                  1          1         0           0           1   \n",
       "0           0                  0          0         0           0           1   \n",
       "\n",
       "   has_Qtrump  num_trump  num_off_A  num_off_K  num_off_Q  \n",
       "0           0          1          1          0          1  \n",
       "1           0          0          1          3          0  \n",
       "2           0          1          1          0          0  \n",
       "3           1          3          0          0          1  \n",
       "0           0          1          0          1          0  "
      ]
     },
     "execution_count": 430,
     "metadata": {},
     "output_type": "execute_result"
    }
   ],
   "source": [
    "all_hand_results_df.head()"
   ]
  },
  {
   "cell_type": "code",
   "execution_count": 432,
   "id": "e95a8a76",
   "metadata": {},
   "outputs": [
    {
     "data": {
      "text/html": [
       "<div>\n",
       "<style scoped>\n",
       "    .dataframe tbody tr th:only-of-type {\n",
       "        vertical-align: middle;\n",
       "    }\n",
       "\n",
       "    .dataframe tbody tr th {\n",
       "        vertical-align: top;\n",
       "    }\n",
       "\n",
       "    .dataframe thead th {\n",
       "        text-align: right;\n",
       "    }\n",
       "</style>\n",
       "<table border=\"1\" class=\"dataframe\">\n",
       "  <thead>\n",
       "    <tr style=\"text-align: right;\">\n",
       "      <th></th>\n",
       "      <th>tricks_won</th>\n",
       "      <th>is_calling_player</th>\n",
       "      <th>has_right</th>\n",
       "      <th>has_left</th>\n",
       "      <th>has_Atrump</th>\n",
       "      <th>has_Ktrump</th>\n",
       "      <th>has_Qtrump</th>\n",
       "      <th>num_trump</th>\n",
       "      <th>num_off_A</th>\n",
       "      <th>num_off_K</th>\n",
       "      <th>num_off_Q</th>\n",
       "    </tr>\n",
       "  </thead>\n",
       "  <tbody>\n",
       "    <tr>\n",
       "      <th>2</th>\n",
       "      <td>0</td>\n",
       "      <td>0</td>\n",
       "      <td>0</td>\n",
       "      <td>0</td>\n",
       "      <td>0</td>\n",
       "      <td>0</td>\n",
       "      <td>1</td>\n",
       "      <td>1</td>\n",
       "      <td>1</td>\n",
       "      <td>2</td>\n",
       "      <td>0</td>\n",
       "    </tr>\n",
       "    <tr>\n",
       "      <th>2</th>\n",
       "      <td>0</td>\n",
       "      <td>0</td>\n",
       "      <td>0</td>\n",
       "      <td>0</td>\n",
       "      <td>0</td>\n",
       "      <td>0</td>\n",
       "      <td>1</td>\n",
       "      <td>1</td>\n",
       "      <td>0</td>\n",
       "      <td>0</td>\n",
       "      <td>1</td>\n",
       "    </tr>\n",
       "    <tr>\n",
       "      <th>2</th>\n",
       "      <td>0</td>\n",
       "      <td>0</td>\n",
       "      <td>0</td>\n",
       "      <td>0</td>\n",
       "      <td>0</td>\n",
       "      <td>0</td>\n",
       "      <td>0</td>\n",
       "      <td>0</td>\n",
       "      <td>0</td>\n",
       "      <td>0</td>\n",
       "      <td>2</td>\n",
       "    </tr>\n",
       "    <tr>\n",
       "      <th>3</th>\n",
       "      <td>0</td>\n",
       "      <td>0</td>\n",
       "      <td>0</td>\n",
       "      <td>0</td>\n",
       "      <td>0</td>\n",
       "      <td>0</td>\n",
       "      <td>0</td>\n",
       "      <td>0</td>\n",
       "      <td>1</td>\n",
       "      <td>1</td>\n",
       "      <td>1</td>\n",
       "    </tr>\n",
       "    <tr>\n",
       "      <th>3</th>\n",
       "      <td>0</td>\n",
       "      <td>0</td>\n",
       "      <td>0</td>\n",
       "      <td>1</td>\n",
       "      <td>0</td>\n",
       "      <td>0</td>\n",
       "      <td>0</td>\n",
       "      <td>2</td>\n",
       "      <td>1</td>\n",
       "      <td>1</td>\n",
       "      <td>0</td>\n",
       "    </tr>\n",
       "  </tbody>\n",
       "</table>\n",
       "</div>"
      ],
      "text/plain": [
       "   tricks_won  is_calling_player  has_right  has_left  has_Atrump  has_Ktrump  \\\n",
       "2           0                  0          0         0           0           0   \n",
       "2           0                  0          0         0           0           0   \n",
       "2           0                  0          0         0           0           0   \n",
       "3           0                  0          0         0           0           0   \n",
       "3           0                  0          0         1           0           0   \n",
       "\n",
       "   has_Qtrump  num_trump  num_off_A  num_off_K  num_off_Q  \n",
       "2           1          1          1          2          0  \n",
       "2           1          1          0          0          1  \n",
       "2           0          0          0          0          2  \n",
       "3           0          0          1          1          1  \n",
       "3           0          2          1          1          0  "
      ]
     },
     "execution_count": 432,
     "metadata": {},
     "output_type": "execute_result"
    }
   ],
   "source": [
    "all_hand_results_df.sort_values('tricks_won', ascending=False).tail()"
   ]
  },
  {
   "cell_type": "code",
   "execution_count": 434,
   "id": "5e535936",
   "metadata": {},
   "outputs": [
    {
     "data": {
      "text/html": [
       "<div>\n",
       "<style scoped>\n",
       "    .dataframe tbody tr th:only-of-type {\n",
       "        vertical-align: middle;\n",
       "    }\n",
       "\n",
       "    .dataframe tbody tr th {\n",
       "        vertical-align: top;\n",
       "    }\n",
       "\n",
       "    .dataframe thead th {\n",
       "        text-align: right;\n",
       "    }\n",
       "</style>\n",
       "<table border=\"1\" class=\"dataframe\">\n",
       "  <thead>\n",
       "    <tr style=\"text-align: right;\">\n",
       "      <th></th>\n",
       "      <th>tricks_won</th>\n",
       "      <th>is_calling_player</th>\n",
       "      <th>has_right</th>\n",
       "      <th>has_left</th>\n",
       "      <th>has_Atrump</th>\n",
       "      <th>has_Ktrump</th>\n",
       "      <th>has_Qtrump</th>\n",
       "      <th>num_trump</th>\n",
       "      <th>num_off_A</th>\n",
       "      <th>num_off_K</th>\n",
       "      <th>num_off_Q</th>\n",
       "    </tr>\n",
       "  </thead>\n",
       "  <tbody>\n",
       "  </tbody>\n",
       "</table>\n",
       "</div>"
      ],
      "text/plain": [
       "Empty DataFrame\n",
       "Columns: [tricks_won, is_calling_player, has_right, has_left, has_Atrump, has_Ktrump, has_Qtrump, num_trump, num_off_A, num_off_K, num_off_Q]\n",
       "Index: []"
      ]
     },
     "execution_count": 434,
     "metadata": {},
     "output_type": "execute_result"
    }
   ],
   "source": [
    "all_hand_results_df[(all_hand_results_df['tricks_won']==0) & (all_hand_results_df['has_right']==1)]"
   ]
  },
  {
   "cell_type": "code",
   "execution_count": 437,
   "id": "9b02a102",
   "metadata": {},
   "outputs": [
    {
     "data": {
      "text/html": [
       "<div>\n",
       "<style scoped>\n",
       "    .dataframe tbody tr th:only-of-type {\n",
       "        vertical-align: middle;\n",
       "    }\n",
       "\n",
       "    .dataframe tbody tr th {\n",
       "        vertical-align: top;\n",
       "    }\n",
       "\n",
       "    .dataframe thead th {\n",
       "        text-align: right;\n",
       "    }\n",
       "</style>\n",
       "<table border=\"1\" class=\"dataframe\">\n",
       "  <thead>\n",
       "    <tr style=\"text-align: right;\">\n",
       "      <th></th>\n",
       "      <th>tricks_won</th>\n",
       "      <th>is_calling_player</th>\n",
       "      <th>has_right</th>\n",
       "      <th>has_left</th>\n",
       "      <th>has_Atrump</th>\n",
       "      <th>has_Ktrump</th>\n",
       "      <th>has_Qtrump</th>\n",
       "      <th>num_trump</th>\n",
       "      <th>num_off_A</th>\n",
       "      <th>num_off_K</th>\n",
       "      <th>num_off_Q</th>\n",
       "    </tr>\n",
       "  </thead>\n",
       "  <tbody>\n",
       "    <tr>\n",
       "      <th>3</th>\n",
       "      <td>5</td>\n",
       "      <td>1</td>\n",
       "      <td>0</td>\n",
       "      <td>0</td>\n",
       "      <td>1</td>\n",
       "      <td>1</td>\n",
       "      <td>0</td>\n",
       "      <td>3</td>\n",
       "      <td>1</td>\n",
       "      <td>1</td>\n",
       "      <td>0</td>\n",
       "    </tr>\n",
       "    <tr>\n",
       "      <th>1</th>\n",
       "      <td>5</td>\n",
       "      <td>1</td>\n",
       "      <td>0</td>\n",
       "      <td>0</td>\n",
       "      <td>1</td>\n",
       "      <td>1</td>\n",
       "      <td>1</td>\n",
       "      <td>3</td>\n",
       "      <td>2</td>\n",
       "      <td>0</td>\n",
       "      <td>0</td>\n",
       "    </tr>\n",
       "    <tr>\n",
       "      <th>3</th>\n",
       "      <td>5</td>\n",
       "      <td>1</td>\n",
       "      <td>0</td>\n",
       "      <td>0</td>\n",
       "      <td>1</td>\n",
       "      <td>0</td>\n",
       "      <td>1</td>\n",
       "      <td>3</td>\n",
       "      <td>1</td>\n",
       "      <td>0</td>\n",
       "      <td>0</td>\n",
       "    </tr>\n",
       "  </tbody>\n",
       "</table>\n",
       "</div>"
      ],
      "text/plain": [
       "   tricks_won  is_calling_player  has_right  has_left  has_Atrump  has_Ktrump  \\\n",
       "3           5                  1          0         0           1           1   \n",
       "1           5                  1          0         0           1           1   \n",
       "3           5                  1          0         0           1           0   \n",
       "\n",
       "   has_Qtrump  num_trump  num_off_A  num_off_K  num_off_Q  \n",
       "3           0          3          1          1          0  \n",
       "1           1          3          2          0          0  \n",
       "3           1          3          1          0          0  "
      ]
     },
     "execution_count": 437,
     "metadata": {},
     "output_type": "execute_result"
    }
   ],
   "source": [
    "all_hand_results_df[(all_hand_results_df['tricks_won']>4) & (all_hand_results_df['has_right']==0)]"
   ]
  },
  {
   "cell_type": "code",
   "execution_count": null,
   "id": "13391542",
   "metadata": {},
   "outputs": [],
   "source": []
  },
  {
   "cell_type": "code",
   "execution_count": null,
   "id": "dd73b201",
   "metadata": {},
   "outputs": [],
   "source": []
  },
  {
   "cell_type": "code",
   "execution_count": 415,
   "id": "44ebfe46",
   "metadata": {},
   "outputs": [
    {
     "data": {
      "text/plain": [
       "<AxesSubplot:>"
      ]
     },
     "execution_count": 415,
     "metadata": {},
     "output_type": "execute_result"
    },
    {
     "data": {
      "image/png": "[encoded data removed]",
      "text/plain": [
       "<Figure size 432x288 with 1 Axes>"
      ]
     },
     "metadata": {
      "needs_background": "light"
     },
     "output_type": "display_data"
    }
   ],
   "source": [
    "all_hand_results_df['tricks_won'].hist(bins=20)"
   ]
  },
  {
   "cell_type": "code",
   "execution_count": null,
   "id": "ad4b7f26",
   "metadata": {},
   "outputs": [],
   "source": []
  },
  {
   "cell_type": "code",
   "execution_count": null,
   "id": "72047168",
   "metadata": {},
   "outputs": [],
   "source": []
  },
  {
   "cell_type": "markdown",
   "id": "c66348f3",
   "metadata": {},
   "source": [
    "### Next steps for development"
   ]
  },
  {
   "cell_type": "code",
   "execution_count": null,
   "id": "e2bb4616",
   "metadata": {},
   "outputs": [],
   "source": [
    "# build process to evaluate points scored for each hand type for each game\n",
    "# build out play card strategy\n",
    "    # add logic to check what cards have been played in hand so far\n",
    "        # check what trump has been played, etc., if highest remaining trump, play that\n",
    "# build out strategy on when to call trump\n",
    "    # build out code framework to properly evaluate this?\n",
    "# Handle loners\n",
    "# build out advanced strategy for dealer swapping out card_flipped_up to reduce number of suits in hand\n",
    "# Code cleanup\n",
    "    # Add README\n",
    "    # Add tests to all functions\n",
    "    # Fix static methods"
   ]
  },
  {
   "cell_type": "code",
   "execution_count": null,
   "id": "1fe92e32",
   "metadata": {},
   "outputs": [],
   "source": []
  },
  {
   "cell_type": "code",
   "execution_count": null,
   "id": "50715974",
   "metadata": {},
   "outputs": [],
   "source": []
  }
 ],
 "metadata": {
  "kernelspec": {
   "display_name": "Python 3",
   "language": "python",
   "name": "python3"
  },
  "language_info": {
   "codemirror_mode": {
    "name": "ipython",
    "version": 3
   },
   "file_extension": ".py",
   "mimetype": "text/x-python",
   "name": "python",
   "nbconvert_exporter": "python",
   "pygments_lexer": "ipython3",
   "version": "3.8.8"
  }
 },
 "nbformat": 4,
 "nbformat_minor": 5
}
