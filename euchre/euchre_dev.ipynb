{
 "cells": [
  {
   "cell_type": "markdown",
   "id": "ee8b4ded",
   "metadata": {},
   "source": [
    "# Euchre\n",
    "Goal: code up a playable euchre game to better understand winning probabilities of different starting hands  \n",
    "Given: Right, Ace, Queen, off Ace, off ten; 3-suited, dealer spot - what's the likelihood of winning each number of tricks that round?  \n",
    "Genetic Algorithm to determine next play would be cool - start with random strategy, adapt to new weights as games progress  \n",
    "Streamlit app where user can select cards in hand and table position and get breakdown of likelihood of taking 5/4/3/2/1/0 tricks"
   ]
  },
  {
   "cell_type": "code",
   "execution_count": 1,
   "id": "9d58584f",
   "metadata": {},
   "outputs": [],
   "source": [
    "%load_ext autoreload\n",
    "%autoreload 2\n",
    "\n",
    "import numpy as np\n",
    "import sys\n",
    "\n",
    "sys.path.insert(0, 'C:/Users/jerem/Desktop/nonsense/euchre/')"
   ]
  },
  {
   "cell_type": "code",
   "execution_count": 2,
   "id": "189456a5",
   "metadata": {},
   "outputs": [],
   "source": [
    "from utils import EuchreGame"
   ]
  },
  {
   "cell_type": "markdown",
   "id": "7b27d274",
   "metadata": {},
   "source": [
    "### Create Game object, check attributes"
   ]
  },
  {
   "cell_type": "code",
   "execution_count": 3,
   "id": "edde75bc",
   "metadata": {},
   "outputs": [],
   "source": [
    "euchre_game = EuchreGame()"
   ]
  },
  {
   "cell_type": "code",
   "execution_count": 4,
   "id": "0c5e25a1",
   "metadata": {},
   "outputs": [
    {
     "data": {
      "text/plain": [
       "{'t1': 0, 't2': 0}"
      ]
     },
     "execution_count": 4,
     "metadata": {},
     "output_type": "execute_result"
    }
   ],
   "source": [
    "euchre_game.score"
   ]
  },
  {
   "cell_type": "code",
   "execution_count": 5,
   "id": "0500989c",
   "metadata": {},
   "outputs": [
    {
     "data": {
      "text/plain": [
       "'p1'"
      ]
     },
     "execution_count": 5,
     "metadata": {},
     "output_type": "execute_result"
    }
   ],
   "source": [
    "euchre_game.dealer"
   ]
  },
  {
   "cell_type": "code",
   "execution_count": 6,
   "id": "455a4758",
   "metadata": {},
   "outputs": [
    {
     "data": {
      "text/plain": [
       "['p2', 'p3', 'p4', 'p1']"
      ]
     },
     "execution_count": 6,
     "metadata": {},
     "output_type": "execute_result"
    }
   ],
   "source": [
    "euchre_game.next_to_deal"
   ]
  },
  {
   "cell_type": "code",
   "execution_count": 7,
   "id": "495a2571",
   "metadata": {},
   "outputs": [
    {
     "name": "stdout",
     "output_type": "stream",
     "text": [
      "Current score: 0-0\n"
     ]
    }
   ],
   "source": [
    "euchre_game.print_score()"
   ]
  },
  {
   "cell_type": "code",
   "execution_count": 8,
   "id": "3261df2d",
   "metadata": {},
   "outputs": [
    {
     "data": {
      "text/plain": [
       "['S', 'C', 'H', 'D']"
      ]
     },
     "execution_count": 8,
     "metadata": {},
     "output_type": "execute_result"
    }
   ],
   "source": [
    "euchre_game.card_suits"
   ]
  },
  {
   "cell_type": "code",
   "execution_count": 9,
   "id": "1a0f9da4",
   "metadata": {},
   "outputs": [
    {
     "data": {
      "text/plain": [
       "['A', 'K', 'Q', 'J', 'T', '9']"
      ]
     },
     "execution_count": 9,
     "metadata": {},
     "output_type": "execute_result"
    }
   ],
   "source": [
    "euchre_game.card_values"
   ]
  },
  {
   "cell_type": "code",
   "execution_count": 10,
   "id": "0393bc91",
   "metadata": {},
   "outputs": [
    {
     "name": "stdout",
     "output_type": "stream",
     "text": [
      "9_S,9_C,9_H,9_D,T_S,T_C,T_H,T_D,J_S,J_C,J_H,J_D,Q_S,Q_C,Q_H,Q_D,K_S,K_C,K_H,K_D,A_S,A_C,A_H,A_D,"
     ]
    }
   ],
   "source": [
    "deck_of_cards = euchre_game.shuffle_deck_of_cards()\n",
    "for card in deck_of_cards:\n",
    "    print(card, end=',')"
   ]
  },
  {
   "cell_type": "markdown",
   "id": "579b287e",
   "metadata": {},
   "source": [
    "### Deal cards"
   ]
  },
  {
   "cell_type": "code",
   "execution_count": 11,
   "id": "4f2f3ecb",
   "metadata": {},
   "outputs": [
    {
     "name": "stdout",
     "output_type": "stream",
     "text": [
      "None\n"
     ]
    }
   ],
   "source": [
    "player_hands, card_flipped_up = euchre_game.deal_hand()"
   ]
  },
  {
   "cell_type": "code",
   "execution_count": 12,
   "id": "04890ccf",
   "metadata": {},
   "outputs": [
    {
     "data": {
      "text/plain": [
       "{'p1': ['Q_C', 'J_C', 'A_H', 'Q_D', 'K_S'],\n",
       " 'p2': ['A_D', 'K_H', '9_H', 'T_D', 'K_C'],\n",
       " 'p3': ['Q_H', 'A_C', 'J_D', '9_C', 'T_C'],\n",
       " 'p4': ['9_S', 'K_D', 'Q_S', '9_D', 'J_H']}"
      ]
     },
     "execution_count": 12,
     "metadata": {},
     "output_type": "execute_result"
    }
   ],
   "source": [
    "player_hands"
   ]
  },
  {
   "cell_type": "code",
   "execution_count": 13,
   "id": "86db0ae9",
   "metadata": {},
   "outputs": [
    {
     "data": {
      "text/plain": [
       "'T_S'"
      ]
     },
     "execution_count": 13,
     "metadata": {},
     "output_type": "execute_result"
    }
   ],
   "source": [
    "card_flipped_up"
   ]
  },
  {
   "cell_type": "code",
   "execution_count": null,
   "id": "226d3092",
   "metadata": {},
   "outputs": [],
   "source": []
  },
  {
   "cell_type": "markdown",
   "id": "e91ea086",
   "metadata": {},
   "source": [
    "### Choose suit for trump"
   ]
  },
  {
   "cell_type": "code",
   "execution_count": 14,
   "id": "91e4996f",
   "metadata": {},
   "outputs": [],
   "source": [
    "if euchre_game.eval_flipped_card(suit='S', hand=['K_S', 'A_H', 'A_C', 'J_C', 'J_S']):\n",
    "    print('order up trump')"
   ]
  },
  {
   "cell_type": "code",
   "execution_count": 15,
   "id": "f40dba46",
   "metadata": {},
   "outputs": [
    {
     "name": "stdout",
     "output_type": "stream",
     "text": [
      "order up trump\n"
     ]
    }
   ],
   "source": [
    "if euchre_game.eval_flipped_card(suit='S', hand=['K_S', 'A_H', 'A_S', 'J_C', 'J_S']):\n",
    "    print('order up trump')"
   ]
  },
  {
   "cell_type": "code",
   "execution_count": 16,
   "id": "e198e31d",
   "metadata": {},
   "outputs": [
    {
     "data": {
      "text/plain": [
       "'S'"
      ]
     },
     "execution_count": 16,
     "metadata": {},
     "output_type": "execute_result"
    }
   ],
   "source": [
    "euchre_game.choose_open_trump(hand=['K_S', 'A_S', 'A_C', 'J_C', 'J_S'], \n",
    "                  card_flipped_up='A_D')"
   ]
  },
  {
   "cell_type": "code",
   "execution_count": 17,
   "id": "357c20a4",
   "metadata": {},
   "outputs": [],
   "source": [
    "euchre_game.choose_open_trump(hand=['K_S', 'A_H', 'A_C', 'J_C', 'J_S'], \n",
    "                  card_flipped_up='A_D')"
   ]
  },
  {
   "cell_type": "code",
   "execution_count": 18,
   "id": "b2c6bd7b",
   "metadata": {},
   "outputs": [
    {
     "name": "stdout",
     "output_type": "stream",
     "text": [
      "None\n"
     ]
    }
   ],
   "source": [
    "calling_player, trump = euchre_game.determine_trump(card_flipped_up=card_flipped_up,\n",
    "                           player_hands=player_hands)"
   ]
  },
  {
   "cell_type": "code",
   "execution_count": 19,
   "id": "22c27f20",
   "metadata": {},
   "outputs": [
    {
     "name": "stdout",
     "output_type": "stream",
     "text": [
      "{'p1': ['Q_C', 'J_C', 'A_H', 'Q_D', 'K_S'], 'p2': ['A_D', 'K_H', '9_H', 'T_D', 'K_C'], 'p3': ['Q_H', 'A_C', 'J_D', '9_C', 'T_C'], 'p4': ['9_S', 'K_D', 'Q_S', '9_D', 'J_H']}\n",
      "p3\n",
      "C\n"
     ]
    }
   ],
   "source": [
    "print(player_hands)\n",
    "print(calling_player)\n",
    "print(trump)"
   ]
  },
  {
   "cell_type": "code",
   "execution_count": null,
   "id": "b03a7e64",
   "metadata": {},
   "outputs": [],
   "source": []
  },
  {
   "cell_type": "markdown",
   "id": "aee5ba3c",
   "metadata": {},
   "source": [
    "### Play trick"
   ]
  },
  {
   "cell_type": "code",
   "execution_count": 21,
   "id": "2f545d88",
   "metadata": {},
   "outputs": [
    {
     "name": "stdout",
     "output_type": "stream",
     "text": [
      "Player p2 plays A_D, Player p3 plays T_C, Player p4 plays J_H, Player p1 plays K_S, "
     ]
    }
   ],
   "source": [
    "cards_in_play, player_led = euchre_game.play_trick(player_hands=player_hands, \n",
    "                                                   trump=trump, \n",
    "                                                   next_to_play_list=euchre_game.next_to_deal, \n",
    "                                                   cards_played_this_hand = [], \n",
    "                                                   verbose=True)"
   ]
  },
  {
   "cell_type": "code",
   "execution_count": 22,
   "id": "848bd841",
   "metadata": {},
   "outputs": [
    {
     "data": {
      "text/plain": [
       "{'p2': 'A_D', 'p3': 'T_C', 'p4': 'J_H', 'p1': 'K_S'}"
      ]
     },
     "execution_count": 22,
     "metadata": {},
     "output_type": "execute_result"
    }
   ],
   "source": [
    "cards_in_play"
   ]
  },
  {
   "cell_type": "code",
   "execution_count": 23,
   "id": "7b2fdd61",
   "metadata": {},
   "outputs": [
    {
     "data": {
      "text/plain": [
       "'p2'"
      ]
     },
     "execution_count": 23,
     "metadata": {},
     "output_type": "execute_result"
    }
   ],
   "source": [
    "player_led"
   ]
  },
  {
   "cell_type": "markdown",
   "id": "646887f7",
   "metadata": {},
   "source": [
    "#### Determine trick winner"
   ]
  },
  {
   "cell_type": "code",
   "execution_count": 42,
   "id": "e1be5e00",
   "metadata": {},
   "outputs": [
    {
     "name": "stdout",
     "output_type": "stream",
     "text": [
      "p3 wins trick\n"
     ]
    },
    {
     "data": {
      "text/plain": [
       "'p3'"
      ]
     },
     "execution_count": 42,
     "metadata": {},
     "output_type": "execute_result"
    }
   ],
   "source": [
    "euchre_game.determine_trick_winner(cards_in_play={'p2': '9_S', 'p3': 'J_C', 'p4': 'J_H', 'p1': 'A_S'}, \n",
    "                           trump='S', \n",
    "                           player_led=player_led, \n",
    "                                   verbose=True)"
   ]
  },
  {
   "cell_type": "code",
   "execution_count": 47,
   "id": "aa320b76",
   "metadata": {},
   "outputs": [
    {
     "data": {
      "text/plain": [
       "'p1'"
      ]
     },
     "execution_count": 47,
     "metadata": {},
     "output_type": "execute_result"
    }
   ],
   "source": [
    "euchre_game.determine_trick_winner(cards_in_play={'p2': '9_S', 'p3': 'J_C', 'p4': 'J_S', 'p1': 'A_S'}, \n",
    "                           trump='D', \n",
    "                           player_led=player_led, \n",
    "                                   verbose=False)"
   ]
  },
  {
   "cell_type": "code",
   "execution_count": 46,
   "id": "17803ea1",
   "metadata": {},
   "outputs": [
    {
     "data": {
      "text/plain": [
       "'p3'"
      ]
     },
     "execution_count": 46,
     "metadata": {},
     "output_type": "execute_result"
    }
   ],
   "source": [
    "trick_winner = euchre_game.determine_trick_winner(cards_in_play=cards_in_play,\n",
    "                                           trump=trump,\n",
    "                                           player_led=player_led)\n",
    "\n",
    "trick_winner"
   ]
  },
  {
   "cell_type": "code",
   "execution_count": null,
   "id": "0132780d",
   "metadata": {},
   "outputs": [],
   "source": []
  },
  {
   "cell_type": "markdown",
   "id": "eb2c6744",
   "metadata": {},
   "source": [
    "#### Swap card in dealer hand"
   ]
  },
  {
   "cell_type": "code",
   "execution_count": 171,
   "id": "ca9334cb",
   "metadata": {},
   "outputs": [
    {
     "name": "stdout",
     "output_type": "stream",
     "text": [
      "Dealer discards 9_H and picks up A_S\n"
     ]
    },
    {
     "data": {
      "text/plain": [
       "['J_H', 'A_D', 'K_S', 'J_D', 'A_S']"
      ]
     },
     "execution_count": 171,
     "metadata": {},
     "output_type": "execute_result"
    }
   ],
   "source": [
    "new_dealer_hand = euchre_game.swap_dealer_card(card_flipped_up='A_S', dealer_hand=['J_H', 'A_D', '9_H', 'K_S', 'J_D'], \n",
    "                                               verbose=True)\n",
    "new_dealer_hand"
   ]
  },
  {
   "cell_type": "code",
   "execution_count": 172,
   "id": "310c36e0",
   "metadata": {},
   "outputs": [
    {
     "name": "stdout",
     "output_type": "stream",
     "text": [
      "Dealer discards T_D and picks up 9_S\n"
     ]
    },
    {
     "data": {
      "text/plain": [
       "['J_H', 'T_H', 'K_S', 'J_D', '9_S']"
      ]
     },
     "execution_count": 172,
     "metadata": {},
     "output_type": "execute_result"
    }
   ],
   "source": [
    "new_dealer_hand = euchre_game.swap_dealer_card(card_flipped_up='9_S', dealer_hand=['J_H', 'T_D', 'T_H', 'K_S', 'J_D'], \n",
    "                                               verbose=True)\n",
    "new_dealer_hand"
   ]
  },
  {
   "cell_type": "code",
   "execution_count": null,
   "id": "63f953fd",
   "metadata": {},
   "outputs": [],
   "source": []
  },
  {
   "cell_type": "markdown",
   "id": "19749e5b",
   "metadata": {},
   "source": [
    "### Play card"
   ]
  },
  {
   "cell_type": "code",
   "execution_count": 30,
   "id": "67865ab6",
   "metadata": {},
   "outputs": [
    {
     "data": {
      "text/plain": [
       "'J_D'"
      ]
     },
     "execution_count": 30,
     "metadata": {},
     "output_type": "execute_result"
    }
   ],
   "source": [
    "euchre_game.play_card(hand=['J_H', 'A_D', '9_H', 'K_S', 'J_D'], \n",
    "                      trump='S',\n",
    "                      cards_in_play=['K_H', 'T_H'], \n",
    "                      cards_played_this_hand=[], \n",
    "                      suit_led='H')"
   ]
  },
  {
   "cell_type": "code",
   "execution_count": 32,
   "id": "69a5755d",
   "metadata": {},
   "outputs": [
    {
     "data": {
      "text/plain": [
       "'A_C'"
      ]
     },
     "execution_count": 32,
     "metadata": {},
     "output_type": "execute_result"
    }
   ],
   "source": [
    "euchre_game.play_card(hand=['9_D', 'T_C', '9_C', 'J_H', 'A_C'],\n",
    "                      trump='S',\n",
    "                      cards_in_play=[],\n",
    "                      cards_played_this_hand=[], \n",
    "                      suit_led=None)"
   ]
  },
  {
   "cell_type": "code",
   "execution_count": 34,
   "id": "aa5a889d",
   "metadata": {},
   "outputs": [
    {
     "data": {
      "text/plain": [
       "'J_S'"
      ]
     },
     "execution_count": 34,
     "metadata": {},
     "output_type": "execute_result"
    }
   ],
   "source": [
    "euchre_game.play_card(hand=['9_D', 'T_C', '9_C', 'J_S', 'A_C'],\n",
    "          trump='S',\n",
    "          cards_in_play=[],\n",
    "                      cards_played_this_hand=[], \n",
    "          suit_led=None)"
   ]
  },
  {
   "cell_type": "code",
   "execution_count": 35,
   "id": "c0931e5c",
   "metadata": {},
   "outputs": [
    {
     "data": {
      "text/plain": [
       "'A_C'"
      ]
     },
     "execution_count": 35,
     "metadata": {},
     "output_type": "execute_result"
    }
   ],
   "source": [
    "euchre_game.play_card(hand=['9_D', 'T_C', '9_C', 'J_S', 'A_C'],\n",
    "          trump='S',\n",
    "          cards_in_play=['K_C'],\n",
    "                                cards_played_this_hand=[], \n",
    "          suit_led=None)"
   ]
  },
  {
   "cell_type": "code",
   "execution_count": null,
   "id": "9102df3f",
   "metadata": {},
   "outputs": [],
   "source": []
  },
  {
   "cell_type": "code",
   "execution_count": 93,
   "id": "16581b02",
   "metadata": {},
   "outputs": [
    {
     "data": {
      "text/plain": [
       "'J_S'"
      ]
     },
     "execution_count": 93,
     "metadata": {},
     "output_type": "execute_result"
    }
   ],
   "source": [
    "euchre_game.play_random_card(hand=['9_D', 'T_C', '9_C', 'J_S', 'A_C'], \n",
    "                             suit_led=None)"
   ]
  },
  {
   "cell_type": "code",
   "execution_count": 94,
   "id": "fe16a3ba",
   "metadata": {},
   "outputs": [
    {
     "data": {
      "text/plain": [
       "'9_D'"
      ]
     },
     "execution_count": 94,
     "metadata": {},
     "output_type": "execute_result"
    }
   ],
   "source": [
    "euchre_game.play_random_card(hand=['9_D', 'T_C', '9_C', 'J_S', 'A_C'], \n",
    "                             suit_led='D')"
   ]
  },
  {
   "cell_type": "code",
   "execution_count": 97,
   "id": "c843fd79",
   "metadata": {},
   "outputs": [
    {
     "data": {
      "text/plain": [
       "'9_C'"
      ]
     },
     "execution_count": 97,
     "metadata": {},
     "output_type": "execute_result"
    }
   ],
   "source": [
    "euchre_game.play_random_card(hand=['9_D', 'T_C', '9_C', 'J_S', 'A_C'], \n",
    "                             suit_led='C')"
   ]
  },
  {
   "cell_type": "code",
   "execution_count": null,
   "id": "f6f61591",
   "metadata": {},
   "outputs": [],
   "source": [
    "def play_card(self,\n",
    "              hand,\n",
    "              trump,\n",
    "              cards_in_play,\n",
    "              player_led,\n",
    "              cards_played_this_hand,\n",
    "              suit_led=None):\n",
    "    \"\"\"\n",
    "    Function to return card to play in hand\n",
    "    \"\"\"\n",
    "    card_values = {\n",
    "        '9': 1,\n",
    "        'T': 2,\n",
    "        'J': 3,\n",
    "        'Q': 4,\n",
    "        'K': 5,\n",
    "        'A': 6\n",
    "    }\n",
    "    # play last card\n",
    "    if len(hand) == 1:\n",
    "        return hand[0]\n",
    "\n",
    "    # lead card\n",
    "    if len(cards_in_play) < 1:\n",
    "        for idx, card in enumerate(hand):\n",
    "            # 1 - play right bauer\n",
    "            if card[-1] == trump and card[0] == 'J':\n",
    "                return hand[idx]\n",
    "            # TODO: 1A - if right bauer played, play left bauer\n",
    "            right_bauer = 'J' + '_' + trump\n",
    "            if right_bauer in cards_played_this_hand:\n",
    "                pass\n",
    "            # 2 - play off ace\n",
    "            elif card[-1] != trump:\n",
    "                if card[0] == 'A':\n",
    "                    return hand[idx]\n",
    "            # 3 - TODO: else play highest non-trump card\n",
    "        return hand[0]\n",
    "\n",
    "    # follow suit\n",
    "    if suit_led is not None:\n",
    "        current_winning_player = euchre_game.determine_trick_winner(cards_in_play=cards_in_play,\n",
    "                                                                    trump=trump,\n",
    "                                                                    player_led=player_led)\n",
    "        # play lowest card in the suit played\n",
    "        card_to_play_points = -1\n",
    "        idx_to_return = -1\n",
    "        for idx, card in enumerate(hand):\n",
    "            if card[-1] == suit_led:\n",
    "                card_points = card_values[card[0]]\n",
    "                if card_points < card_to_play_points:\n",
    "                    card_to_play_points = card_points\n",
    "                    idx_to_return = idx\n",
    "        return hand[idx_to_return]\n",
    "\n",
    "    # play other highest non-trump card\n",
    "    else:\n",
    "        card_to_play_points = -1\n",
    "        idx_to_return = -1\n",
    "        for idx, card in enumerate(hand):\n",
    "            if card[-1] != trump:\n",
    "                card_points = card_values[card[0]]\n",
    "                if card_points > card_to_play_points:\n",
    "                    card_to_play_points = card_points\n",
    "                    idx_to_return = idx\n",
    "        if idx_to_return > -1:\n",
    "            return hand[idx_to_return]\n",
    "\n",
    "        else:  # only has trump left, play lowest trump\n",
    "            trump_card_points = 9\n",
    "            for idx, card in enumerate(hand):\n",
    "                card_points = card_values[card[0]]\n",
    "                if card_points < trump_card_points:\n",
    "                    trump_card_points = card_points\n",
    "                    idx_to_return = idx\n",
    "            return hand[idx_to_return]\n"
   ]
  },
  {
   "cell_type": "code",
   "execution_count": null,
   "id": "1b121fc6",
   "metadata": {},
   "outputs": [],
   "source": [
    "# play card pseudocode:\n",
    "    # last card\n",
    "    # follow suit\n",
    "    # play whatever card"
   ]
  },
  {
   "cell_type": "code",
   "execution_count": 226,
   "id": "94a29b7d",
   "metadata": {},
   "outputs": [],
   "source": [
    "card_values = {\n",
    "    '9': 1,\n",
    "    'T': 2,\n",
    "    'J': 3,\n",
    "    'Q': 4,\n",
    "    'K': 5,\n",
    "    'A': 6\n",
    "}"
   ]
  },
  {
   "cell_type": "code",
   "execution_count": 247,
   "id": "8a6a4ba4",
   "metadata": {},
   "outputs": [
    {
     "data": {
      "text/plain": [
       "6"
      ]
     },
     "execution_count": 247,
     "metadata": {},
     "output_type": "execute_result"
    }
   ],
   "source": [
    "card_values[card[0]]"
   ]
  },
  {
   "cell_type": "code",
   "execution_count": 246,
   "id": "e3e6f016",
   "metadata": {},
   "outputs": [
    {
     "data": {
      "text/plain": [
       "'A_D'"
      ]
     },
     "execution_count": 246,
     "metadata": {},
     "output_type": "execute_result"
    }
   ],
   "source": [
    "card"
   ]
  },
  {
   "cell_type": "code",
   "execution_count": 233,
   "id": "689129b4",
   "metadata": {},
   "outputs": [],
   "source": [
    "def get_lowest_card(hand, \n",
    "                    suit=None):\n",
    "    \"\"\"\n",
    "    Return lowest card in given suit or across all suits\n",
    "    \"\"\"\n",
    "    card_to_play_points = 9\n",
    "    idx_to_return = -1\n",
    "    if suit is not None:\n",
    "        for idx, card in enumerate(hand):\n",
    "            if card[-1] == suit:  # if card is in given suit\n",
    "                card_points = card_values[card[0]]  \n",
    "                if card_points < card_to_play_points:\n",
    "                    card_to_play_points = card_points\n",
    "                    idx_to_return = idx\n",
    "        if idx_to_return > -1:\n",
    "            return hand[idx_to_return]\n",
    "    else:\n",
    "        for idx, card in enumerate(hand):\n",
    "            card_points = card_values[card[0]]  \n",
    "            if card_points < card_to_play_points:\n",
    "                card_to_play_points = card_points\n",
    "                idx_to_return = idx\n",
    "        return hand[idx_to_return]"
   ]
  },
  {
   "cell_type": "code",
   "execution_count": 234,
   "id": "4916557e",
   "metadata": {},
   "outputs": [
    {
     "data": {
      "text/plain": [
       "'9_C'"
      ]
     },
     "execution_count": 234,
     "metadata": {},
     "output_type": "execute_result"
    }
   ],
   "source": [
    "get_lowest_card(hand=['9_D', 'T_C', '9_C', 'J_S', 'A_C'], \n",
    "                suit='C')"
   ]
  },
  {
   "cell_type": "code",
   "execution_count": 235,
   "id": "04d64ce4",
   "metadata": {},
   "outputs": [],
   "source": [
    "get_lowest_card(hand=['9_D', 'T_C', '9_C', 'J_S', 'A_C'], \n",
    "                suit='H')"
   ]
  },
  {
   "cell_type": "code",
   "execution_count": 237,
   "id": "4d91d502",
   "metadata": {},
   "outputs": [
    {
     "data": {
      "text/plain": [
       "'A_D'"
      ]
     },
     "execution_count": 237,
     "metadata": {},
     "output_type": "execute_result"
    }
   ],
   "source": [
    "get_lowest_card(hand=['A_D', 'T_C', '9_C', 'J_S', 'A_C'], \n",
    "                suit='D')"
   ]
  },
  {
   "cell_type": "code",
   "execution_count": 240,
   "id": "d985fd4d",
   "metadata": {},
   "outputs": [
    {
     "data": {
      "text/plain": [
       "'9_C'"
      ]
     },
     "execution_count": 240,
     "metadata": {},
     "output_type": "execute_result"
    }
   ],
   "source": [
    "get_lowest_card(hand=['A_D', 'T_C', '9_C', 'J_S', 'A_C'])"
   ]
  },
  {
   "cell_type": "code",
   "execution_count": 243,
   "id": "97793833",
   "metadata": {},
   "outputs": [
    {
     "data": {
      "text/plain": [
       "'T_C'"
      ]
     },
     "execution_count": 243,
     "metadata": {},
     "output_type": "execute_result"
    }
   ],
   "source": [
    "get_lowest_card(hand=['A_D', 'T_C', 'T_H', 'J_S', 'A_C'])"
   ]
  },
  {
   "cell_type": "code",
   "execution_count": null,
   "id": "eea71813",
   "metadata": {},
   "outputs": [],
   "source": []
  },
  {
   "cell_type": "markdown",
   "id": "976ca371",
   "metadata": {},
   "source": [
    "### Play full game"
   ]
  },
  {
   "cell_type": "code",
   "execution_count": 263,
   "id": "74567bc0",
   "metadata": {
    "scrolled": false
   },
   "outputs": [
    {
     "name": "stdout",
     "output_type": "stream",
     "text": [
      "Wall time: 13 ms\n"
     ]
    }
   ],
   "source": [
    "%%time\n",
    "\n",
    "euchre_game = EuchreGame()\n",
    "euchre_game.play_full_game(verbose=False)"
   ]
  },
  {
   "cell_type": "code",
   "execution_count": 264,
   "id": "06225cf9",
   "metadata": {},
   "outputs": [
    {
     "data": {
      "text/plain": [
       "{'t1': 10, 't2': 4}"
      ]
     },
     "execution_count": 264,
     "metadata": {},
     "output_type": "execute_result"
    }
   ],
   "source": [
    "euchre_game.score"
   ]
  },
  {
   "cell_type": "code",
   "execution_count": null,
   "id": "30a90705",
   "metadata": {},
   "outputs": [],
   "source": []
  },
  {
   "cell_type": "code",
   "execution_count": null,
   "id": "ebcc6c0d",
   "metadata": {},
   "outputs": [],
   "source": []
  },
  {
   "cell_type": "markdown",
   "id": "661276bd",
   "metadata": {},
   "source": [
    "#### Collect all hands results"
   ]
  },
  {
   "cell_type": "code",
   "execution_count": 209,
   "id": "959b1833",
   "metadata": {},
   "outputs": [
    {
     "data": {
      "text/plain": [
       "[{'player_hands': {'p1': ['J_C', 'K_S', 'A_S', '9_C', 'T_C'],\n",
       "   'p2': ['9_H', '9_S', 'A_H', 'A_C', 'Q_H'],\n",
       "   'p3': ['Q_C', 'K_C', 'J_S', 'A_D', 'Q_D'],\n",
       "   'p4': ['K_D', 'K_H', 'J_D', '9_D', 'T_S']},\n",
       "  'calling_player': 'p2',\n",
       "  'trump': 'H',\n",
       "  'dealer': 'p1',\n",
       "  'trick_winners': {'p2': 2, 'p3': 0, 'p4': 2, 'p1': 1}},\n",
       " {'player_hands': {'p1': ['A_H', 'J_D', 'Q_C', 'T_D', 'J_H'],\n",
       "   'p2': ['K_H', '9_H', 'T_C', 'T_S', 'Q_D'],\n",
       "   'p3': ['J_S', 'K_D', 'A_D', 'A_C', '9_S'],\n",
       "   'p4': ['T_H', 'A_S', 'K_C', 'Q_S', 'K_S']},\n",
       "  'calling_player': 'p4',\n",
       "  'trump': 'S',\n",
       "  'dealer': 'p2',\n",
       "  'trick_winners': {'p3': 3, 'p4': 2, 'p1': 0, 'p2': 0}},\n",
       " {'player_hands': {'p1': ['K_D', 'T_S', 'T_C', 'J_S', 'A_S'],\n",
       "   'p2': ['9_C', 'Q_D', 'K_H', 'A_H', 'Q_H'],\n",
       "   'p3': ['J_C', '9_H', 'A_C', '9_D', 'T_D'],\n",
       "   'p4': ['J_D', 'Q_S', 'T_H', 'K_S', 'A_D']},\n",
       "  'calling_player': 'p1',\n",
       "  'trump': 'S',\n",
       "  'dealer': 'p3',\n",
       "  'trick_winners': {'p4': 1, 'p1': 3, 'p2': 0, 'p3': 1}}]"
      ]
     },
     "execution_count": 209,
     "metadata": {},
     "output_type": "execute_result"
    }
   ],
   "source": [
    "euchre_game = EuchreGame()\n",
    "hand_results = euchre_game.play_full_game(return_all_hands_results=True, verbose=False)\n",
    "hand_results[0:3]"
   ]
  },
  {
   "cell_type": "code",
   "execution_count": 212,
   "id": "14ba1207",
   "metadata": {},
   "outputs": [
    {
     "data": {
      "text/plain": [
       "19"
      ]
     },
     "execution_count": 212,
     "metadata": {},
     "output_type": "execute_result"
    }
   ],
   "source": [
    "len(hand_results)"
   ]
  },
  {
   "cell_type": "code",
   "execution_count": 211,
   "id": "0ef87e60",
   "metadata": {},
   "outputs": [
    {
     "data": {
      "text/plain": [
       "{'player_hands': {'p1': ['K_D', 'T_S', 'T_C', 'J_S', 'A_S'],\n",
       "  'p2': ['9_C', 'Q_D', 'K_H', 'A_H', 'Q_H'],\n",
       "  'p3': ['J_C', '9_H', 'A_C', '9_D', 'T_D'],\n",
       "  'p4': ['J_D', 'Q_S', 'T_H', 'K_S', 'A_D']},\n",
       " 'calling_player': 'p1',\n",
       " 'trump': 'S',\n",
       " 'dealer': 'p3',\n",
       " 'trick_winners': {'p4': 1, 'p1': 3, 'p2': 0, 'p3': 1}}"
      ]
     },
     "execution_count": 211,
     "metadata": {},
     "output_type": "execute_result"
    }
   ],
   "source": [
    "hand_results[2]"
   ]
  },
  {
   "cell_type": "code",
   "execution_count": null,
   "id": "880703c5",
   "metadata": {},
   "outputs": [],
   "source": []
  },
  {
   "cell_type": "markdown",
   "id": "2f4c6b11",
   "metadata": {},
   "source": [
    "#### Profile performance"
   ]
  },
  {
   "cell_type": "code",
   "execution_count": 175,
   "id": "2e3c6ada",
   "metadata": {},
   "outputs": [
    {
     "name": "stdout",
     "output_type": "stream",
     "text": [
      " "
     ]
    }
   ],
   "source": [
    "%%prun\n",
    "\n",
    "euchre_game = EuchreGame()\n",
    "euchre_game.play_full_game(verbose=False)"
   ]
  },
  {
   "cell_type": "code",
   "execution_count": null,
   "id": "cdf51439",
   "metadata": {},
   "outputs": [],
   "source": []
  },
  {
   "cell_type": "markdown",
   "id": "74dd206b",
   "metadata": {},
   "source": [
    "### Loop through games played"
   ]
  },
  {
   "cell_type": "code",
   "execution_count": 176,
   "id": "5b775975",
   "metadata": {
    "scrolled": true
   },
   "outputs": [
    {
     "name": "stdout",
     "output_type": "stream",
     "text": [
      "Wall time: 6.52 s\n"
     ]
    }
   ],
   "source": [
    "%%time\n",
    "\n",
    "N_GAMES_TO_PLAY = 1000\n",
    "\n",
    "games_played = 0\n",
    "t1_wins = 0\n",
    "for i in range(N_GAMES_TO_PLAY):\n",
    "    euchre_game = EuchreGame()\n",
    "    # euchre_game.team_strategies['t2'] = 'random'  # set team 2 strategy to random\n",
    "    euchre_game.play_full_game(verbose=False)\n",
    "    games_played += 1\n",
    "    if euchre_game.score['t1'] > euchre_game.score['t2']:\n",
    "        t1_wins += 1"
   ]
  },
  {
   "cell_type": "code",
   "execution_count": 177,
   "id": "22400492",
   "metadata": {},
   "outputs": [
    {
     "name": "stdout",
     "output_type": "stream",
     "text": [
      "1000\n",
      "486\n"
     ]
    }
   ],
   "source": [
    "print(games_played)\n",
    "print(t1_wins)"
   ]
  },
  {
   "cell_type": "code",
   "execution_count": null,
   "id": "7e9c97cd",
   "metadata": {},
   "outputs": [],
   "source": []
  },
  {
   "cell_type": "code",
   "execution_count": null,
   "id": "44f5231c",
   "metadata": {},
   "outputs": [],
   "source": []
  },
  {
   "cell_type": "markdown",
   "id": "799d17c2",
   "metadata": {},
   "source": [
    "### Loop through games played, collect hand_results"
   ]
  },
  {
   "cell_type": "code",
   "execution_count": 213,
   "id": "21ba028b",
   "metadata": {},
   "outputs": [
    {
     "name": "stdout",
     "output_type": "stream",
     "text": [
      "Wall time: 9.05 s\n"
     ]
    }
   ],
   "source": [
    "%%time\n",
    "\n",
    "N_GAMES_TO_PLAY = 1000\n",
    "\n",
    "all_hand_results = []\n",
    "games_played = 0\n",
    "t1_wins = 0\n",
    "for i in range(N_GAMES_TO_PLAY):\n",
    "    euchre_game = EuchreGame()\n",
    "    # euchre_game.team_strategies['t2'] = 'random'  # set team 2 strategy to random\n",
    "    hand_results = euchre_game.play_full_game(return_all_hands_results=True, verbose=False)\n",
    "    games_played += 1\n",
    "    if euchre_game.score['t1'] > euchre_game.score['t2']:\n",
    "        t1_wins += 1\n",
    "    all_hand_results.append(hand_results)"
   ]
  },
  {
   "cell_type": "code",
   "execution_count": 219,
   "id": "3654040e",
   "metadata": {},
   "outputs": [
    {
     "data": {
      "text/plain": [
       "1000"
      ]
     },
     "execution_count": 219,
     "metadata": {},
     "output_type": "execute_result"
    }
   ],
   "source": [
    "len(all_hand_results)"
   ]
  },
  {
   "cell_type": "code",
   "execution_count": 220,
   "id": "28339509",
   "metadata": {},
   "outputs": [
    {
     "data": {
      "text/plain": [
       "{'player_hands': {'p1': ['Q_D', 'T_H', 'Q_S', 'K_C', 'K_D'],\n",
       "  'p2': ['A_H', 'A_D', '9_S', 'A_S', 'K_H'],\n",
       "  'p3': ['9_H', 'T_D', 'J_S', 'J_C', '9_D'],\n",
       "  'p4': ['T_S', 'J_H', '9_C', 'T_C', 'Q_C']},\n",
       " 'calling_player': 'p4',\n",
       " 'trump': 'C',\n",
       " 'dealer': 'p1',\n",
       " 'trick_winners': {'p2': 0, 'p3': 2, 'p4': 3, 'p1': 0}}"
      ]
     },
     "execution_count": 220,
     "metadata": {},
     "output_type": "execute_result"
    }
   ],
   "source": [
    "all_hand_results[0][0]"
   ]
  },
  {
   "cell_type": "code",
   "execution_count": null,
   "id": "be11e1d8",
   "metadata": {},
   "outputs": [],
   "source": []
  },
  {
   "cell_type": "code",
   "execution_count": null,
   "id": "2eba27ce",
   "metadata": {},
   "outputs": [],
   "source": []
  },
  {
   "cell_type": "code",
   "execution_count": null,
   "id": "1b61035d",
   "metadata": {},
   "outputs": [],
   "source": []
  },
  {
   "cell_type": "markdown",
   "id": "c66348f3",
   "metadata": {},
   "source": [
    "### Next steps for development"
   ]
  },
  {
   "cell_type": "code",
   "execution_count": null,
   "id": "e2bb4616",
   "metadata": {},
   "outputs": [],
   "source": [
    "# build process to evaluate points scored for each hand type for each game\n",
    "# build out play card strategy\n",
    "    # add logic to check what cards have been played in hand so far\n",
    "        # check what trump has been played, etc., if highest remaining trump, play that\n",
    "# build out strategy on when to call trump\n",
    "    # build out code framework to properly evaluate this?\n",
    "# Handle loners\n",
    "# build out advanced strategy for dealer swapping out card_flipped_up to reduce number of suits in hand\n",
    "# Code cleanup\n",
    "    # Add README\n",
    "    # Add tests to all functions\n",
    "    # Fix static methods"
   ]
  },
  {
   "cell_type": "code",
   "execution_count": null,
   "id": "1fe92e32",
   "metadata": {},
   "outputs": [],
   "source": []
  },
  {
   "cell_type": "code",
   "execution_count": null,
   "id": "7df79175",
   "metadata": {},
   "outputs": [],
   "source": []
  }
 ],
 "metadata": {
  "kernelspec": {
   "display_name": "Python 3",
   "language": "python",
   "name": "python3"
  },
  "language_info": {
   "codemirror_mode": {
    "name": "ipython",
    "version": 3
   },
   "file_extension": ".py",
   "mimetype": "text/x-python",
   "name": "python",
   "nbconvert_exporter": "python",
   "pygments_lexer": "ipython3",
   "version": "3.8.8"
  }
 },
 "nbformat": 4,
 "nbformat_minor": 5
}
