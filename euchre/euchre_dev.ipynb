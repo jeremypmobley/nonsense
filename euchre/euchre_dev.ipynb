{
 "cells": [
  {
   "cell_type": "markdown",
   "id": "ee8b4ded",
   "metadata": {},
   "source": [
    "# Euchre"
   ]
  },
  {
   "cell_type": "code",
   "execution_count": 1,
   "id": "9d58584f",
   "metadata": {},
   "outputs": [],
   "source": [
    "%load_ext autoreload\n",
    "%autoreload 2\n",
    "\n",
    "import numpy as np\n",
    "import sys\n",
    "\n",
    "sys.path.insert(0, 'C:/Users/jerem/Desktop/nonsense/euchre/')\n",
    "\n",
    "from utils import EuchreGame"
   ]
  },
  {
   "cell_type": "markdown",
   "id": "984c974f",
   "metadata": {},
   "source": [
    "### Create Game object, check attributes"
   ]
  },
  {
   "cell_type": "code",
   "execution_count": 2,
   "id": "edde75bc",
   "metadata": {},
   "outputs": [],
   "source": [
    "euchre_game = EuchreGame()"
   ]
  },
  {
   "cell_type": "code",
   "execution_count": 3,
   "id": "0c5e25a1",
   "metadata": {},
   "outputs": [
    {
     "data": {
      "text/plain": [
       "{'t1': 0, 't2': 0}"
      ]
     },
     "execution_count": 3,
     "metadata": {},
     "output_type": "execute_result"
    }
   ],
   "source": [
    "# create show_all_game_attributes method?\n",
    "euchre_game.score"
   ]
  },
  {
   "cell_type": "code",
   "execution_count": 4,
   "id": "0500989c",
   "metadata": {},
   "outputs": [
    {
     "data": {
      "text/plain": [
       "'p1'"
      ]
     },
     "execution_count": 4,
     "metadata": {},
     "output_type": "execute_result"
    }
   ],
   "source": [
    "euchre_game.dealer"
   ]
  },
  {
   "cell_type": "code",
   "execution_count": 5,
   "id": "455a4758",
   "metadata": {},
   "outputs": [
    {
     "data": {
      "text/plain": [
       "['p2', 'p3', 'p4', 'p1']"
      ]
     },
     "execution_count": 5,
     "metadata": {},
     "output_type": "execute_result"
    }
   ],
   "source": [
    "euchre_game.next_to_deal"
   ]
  },
  {
   "cell_type": "code",
   "execution_count": 6,
   "id": "b02cedc3",
   "metadata": {},
   "outputs": [
    {
     "data": {
      "text/plain": [
       "{'t1': None, 't2': None}"
      ]
     },
     "execution_count": 6,
     "metadata": {},
     "output_type": "execute_result"
    }
   ],
   "source": [
    "euchre_game.tm_call_trump_strategy"
   ]
  },
  {
   "cell_type": "code",
   "execution_count": 7,
   "id": "9b3c8b61",
   "metadata": {},
   "outputs": [
    {
     "data": {
      "text/plain": [
       "{'t1': None, 't2': None}"
      ]
     },
     "execution_count": 7,
     "metadata": {},
     "output_type": "execute_result"
    }
   ],
   "source": [
    "euchre_game.tm_play_card_strategy"
   ]
  },
  {
   "cell_type": "markdown",
   "id": "579b287e",
   "metadata": {},
   "source": [
    "### Deal cards"
   ]
  },
  {
   "cell_type": "code",
   "execution_count": 8,
   "id": "0393bc91",
   "metadata": {},
   "outputs": [
    {
     "name": "stdout",
     "output_type": "stream",
     "text": [
      "9_S,9_C,9_H,9_D,T_S,T_C,T_H,T_D,J_S,J_C,J_H,J_D,Q_S,Q_C,Q_H,Q_D,K_S,K_C,K_H,K_D,A_S,A_C,A_H,A_D,"
     ]
    }
   ],
   "source": [
    "deck_of_cards = euchre_game.shuffle_deck_of_cards()\n",
    "for card in deck_of_cards:\n",
    "    print(card, end=',')"
   ]
  },
  {
   "cell_type": "code",
   "execution_count": 9,
   "id": "4f2f3ecb",
   "metadata": {},
   "outputs": [],
   "source": [
    "player_hands, card_flipped_up = euchre_game.deal_hand()"
   ]
  },
  {
   "cell_type": "code",
   "execution_count": 10,
   "id": "04890ccf",
   "metadata": {},
   "outputs": [
    {
     "data": {
      "text/plain": [
       "{'p1': ['Q_S', 'Q_H', 'K_H', 'K_S', 'Q_D'],\n",
       " 'p2': ['9_S', 'T_C', 'J_C', 'K_C', 'T_S'],\n",
       " 'p3': ['J_H', '9_H', 'A_S', 'Q_C', 'J_S'],\n",
       " 'p4': ['J_D', '9_D', 'T_H', 'T_D', '9_C']}"
      ]
     },
     "execution_count": 10,
     "metadata": {},
     "output_type": "execute_result"
    }
   ],
   "source": [
    "player_hands"
   ]
  },
  {
   "cell_type": "code",
   "execution_count": 11,
   "id": "86db0ae9",
   "metadata": {},
   "outputs": [
    {
     "data": {
      "text/plain": [
       "'K_D'"
      ]
     },
     "execution_count": 11,
     "metadata": {},
     "output_type": "execute_result"
    }
   ],
   "source": [
    "card_flipped_up"
   ]
  },
  {
   "cell_type": "code",
   "execution_count": null,
   "id": "226d3092",
   "metadata": {},
   "outputs": [],
   "source": []
  },
  {
   "cell_type": "markdown",
   "id": "e91ea086",
   "metadata": {},
   "source": [
    "### Choose suit for trump"
   ]
  },
  {
   "cell_type": "code",
   "execution_count": 12,
   "id": "91e4996f",
   "metadata": {},
   "outputs": [],
   "source": [
    "if euchre_game.eval_flipped_card(hand=['K_S', 'A_H', 'A_C', 'J_C', 'J_S'], \n",
    "                                 player='p1', \n",
    "                                 card_flipped_up='A_S'):\n",
    "    print('order up trump')"
   ]
  },
  {
   "cell_type": "code",
   "execution_count": 13,
   "id": "f40dba46",
   "metadata": {},
   "outputs": [
    {
     "name": "stdout",
     "output_type": "stream",
     "text": [
      "order up trump\n"
     ]
    }
   ],
   "source": [
    "if euchre_game.eval_flipped_card(hand=['K_S', 'A_H', 'A_S', 'J_C', 'J_S'], \n",
    "                                 player='p2', \n",
    "                                 card_flipped_up='A_S'):\n",
    "    print('order up trump')"
   ]
  },
  {
   "cell_type": "code",
   "execution_count": 14,
   "id": "e198e31d",
   "metadata": {},
   "outputs": [
    {
     "data": {
      "text/plain": [
       "'S'"
      ]
     },
     "execution_count": 14,
     "metadata": {},
     "output_type": "execute_result"
    }
   ],
   "source": [
    "euchre_game.choose_open_trump(hand=['K_S', 'A_S', 'A_C', 'J_C', 'J_S'], \n",
    "                              player='p2', \n",
    "                              card_flipped_up='A_D')"
   ]
  },
  {
   "cell_type": "code",
   "execution_count": 15,
   "id": "357c20a4",
   "metadata": {},
   "outputs": [],
   "source": [
    "euchre_game.choose_open_trump(hand=['K_S', 'A_H', 'A_C', 'J_C', 'J_S'], \n",
    "                              player='p2', \n",
    "                              card_flipped_up='T_S')"
   ]
  },
  {
   "cell_type": "code",
   "execution_count": 16,
   "id": "b2c6bd7b",
   "metadata": {},
   "outputs": [],
   "source": [
    "calling_player, trump = euchre_game.determine_trump(card_flipped_up=card_flipped_up,\n",
    "                           player_hands=player_hands)"
   ]
  },
  {
   "cell_type": "code",
   "execution_count": 17,
   "id": "22c27f20",
   "metadata": {},
   "outputs": [
    {
     "name": "stdout",
     "output_type": "stream",
     "text": [
      "{'p1': ['Q_S', 'Q_H', 'K_H', 'K_S', 'Q_D'], 'p2': ['9_S', 'T_C', 'J_C', 'K_C', 'T_S'], 'p3': ['J_H', '9_H', 'A_S', 'Q_C', 'J_S'], 'p4': ['J_D', '9_D', 'T_H', 'T_D', '9_C']}\n",
      "p4\n",
      "D\n"
     ]
    }
   ],
   "source": [
    "print(player_hands)\n",
    "print(calling_player)\n",
    "print(trump)"
   ]
  },
  {
   "cell_type": "code",
   "execution_count": null,
   "id": "b03a7e64",
   "metadata": {},
   "outputs": [],
   "source": []
  },
  {
   "cell_type": "markdown",
   "id": "aee5ba3c",
   "metadata": {},
   "source": [
    "### Play trick"
   ]
  },
  {
   "cell_type": "code",
   "execution_count": 18,
   "id": "2f545d88",
   "metadata": {},
   "outputs": [
    {
     "name": "stdout",
     "output_type": "stream",
     "text": [
      "Leading with highest non-trump- Player p2 plays K_C, Current winning player p2\n",
      "Following suit with lowest non-trump card- Player p3 plays Q_C, Current winning player p2\n",
      "Teammate winning, following suit w/ lowest card- Player p4 plays 9_C, Current winning player p2\n",
      "Lowest trump card- Player p1 plays Q_H, "
     ]
    }
   ],
   "source": [
    "cards_in_play, player_led = euchre_game.play_trick(player_hands=player_hands, \n",
    "                                                   trump='H', \n",
    "                                                   next_to_play_list=euchre_game.next_to_deal, \n",
    "                                                   cards_played_this_hand = [], \n",
    "                                                   unplayed_trump_this_hand=['J_H', 'J_D', 'A_H', 'K_H', 'Q_H', 'T_H', '9_H'],\n",
    "                                                   verbose=True)"
   ]
  },
  {
   "cell_type": "code",
   "execution_count": 19,
   "id": "848bd841",
   "metadata": {},
   "outputs": [
    {
     "data": {
      "text/plain": [
       "{'p2': 'K_C', 'p3': 'Q_C', 'p4': '9_C', 'p1': 'Q_H'}"
      ]
     },
     "execution_count": 19,
     "metadata": {},
     "output_type": "execute_result"
    }
   ],
   "source": [
    "cards_in_play"
   ]
  },
  {
   "cell_type": "code",
   "execution_count": 20,
   "id": "58cf54e9",
   "metadata": {},
   "outputs": [
    {
     "data": {
      "text/plain": [
       "'p2'"
      ]
     },
     "execution_count": 20,
     "metadata": {},
     "output_type": "execute_result"
    }
   ],
   "source": [
    "player_led"
   ]
  },
  {
   "cell_type": "code",
   "execution_count": null,
   "id": "76c95b8e",
   "metadata": {},
   "outputs": [],
   "source": []
  },
  {
   "cell_type": "markdown",
   "id": "00b21a38",
   "metadata": {},
   "source": [
    "#### Determine trick winner"
   ]
  },
  {
   "cell_type": "code",
   "execution_count": 21,
   "id": "e1be5e00",
   "metadata": {},
   "outputs": [
    {
     "name": "stdout",
     "output_type": "stream",
     "text": [
      "p3 wins trick\n"
     ]
    },
    {
     "data": {
      "text/plain": [
       "'p3'"
      ]
     },
     "execution_count": 21,
     "metadata": {},
     "output_type": "execute_result"
    }
   ],
   "source": [
    "euchre_game.determine_trick_winner(cards_in_play={'p2': '9_S', 'p3': 'J_C', 'p4': 'J_H', 'p1': 'A_S'}, \n",
    "                           trump='S', \n",
    "                           player_led=player_led, \n",
    "                                   verbose=True)"
   ]
  },
  {
   "cell_type": "code",
   "execution_count": 22,
   "id": "aa320b76",
   "metadata": {},
   "outputs": [
    {
     "data": {
      "text/plain": [
       "'p1'"
      ]
     },
     "execution_count": 22,
     "metadata": {},
     "output_type": "execute_result"
    }
   ],
   "source": [
    "euchre_game.determine_trick_winner(cards_in_play={'p2': '9_S', 'p3': 'J_C', 'p4': 'J_S', 'p1': 'A_S'}, \n",
    "                           trump='D', \n",
    "                           player_led=player_led, \n",
    "                                   verbose=False)"
   ]
  },
  {
   "cell_type": "code",
   "execution_count": 23,
   "id": "17803ea1",
   "metadata": {},
   "outputs": [
    {
     "data": {
      "text/plain": [
       "'p1'"
      ]
     },
     "execution_count": 23,
     "metadata": {},
     "output_type": "execute_result"
    }
   ],
   "source": [
    "trick_winner = euchre_game.determine_trick_winner(cards_in_play=cards_in_play,\n",
    "                                           trump='H',\n",
    "                                           player_led=player_led)\n",
    "\n",
    "trick_winner"
   ]
  },
  {
   "cell_type": "code",
   "execution_count": 24,
   "id": "48c13202",
   "metadata": {},
   "outputs": [
    {
     "data": {
      "text/plain": [
       "'p3'"
      ]
     },
     "execution_count": 24,
     "metadata": {},
     "output_type": "execute_result"
    }
   ],
   "source": [
    "euchre_game.determine_trick_winner(cards_in_play={'p2': '9_S', 'p3': 'J_H', 'p4': 'J_S', 'p1': 'A_D'}, \n",
    "                           trump='D', \n",
    "                           player_led='p2', \n",
    "                                   verbose=False)"
   ]
  },
  {
   "cell_type": "code",
   "execution_count": 25,
   "id": "f5366e7d",
   "metadata": {},
   "outputs": [
    {
     "data": {
      "text/plain": [
       "'p1'"
      ]
     },
     "execution_count": 25,
     "metadata": {},
     "output_type": "execute_result"
    }
   ],
   "source": [
    "euchre_game.determine_trick_winner(cards_in_play={'p2': '9_S', 'p3': 'T_D', 'p4': 'J_S', 'p1': 'A_D'}, \n",
    "                           trump='D', \n",
    "                           player_led='p2', \n",
    "                                   verbose=False)"
   ]
  },
  {
   "cell_type": "code",
   "execution_count": 26,
   "id": "317817cc",
   "metadata": {},
   "outputs": [
    {
     "data": {
      "text/plain": [
       "'p3'"
      ]
     },
     "execution_count": 26,
     "metadata": {},
     "output_type": "execute_result"
    }
   ],
   "source": [
    "euchre_game.determine_trick_winner(cards_in_play={'p2': '9_S', 'p3': 'T_D'}, \n",
    "                           trump='D', \n",
    "                           player_led='p2', \n",
    "                                   verbose=False)"
   ]
  },
  {
   "cell_type": "code",
   "execution_count": 27,
   "id": "8f8be8e8",
   "metadata": {},
   "outputs": [
    {
     "data": {
      "text/plain": [
       "'p2'"
      ]
     },
     "execution_count": 27,
     "metadata": {},
     "output_type": "execute_result"
    }
   ],
   "source": [
    "euchre_game.determine_trick_winner(cards_in_play={'p2': '9_S'}, \n",
    "                           trump='D', \n",
    "                           player_led='p2', \n",
    "                                   verbose=False)"
   ]
  },
  {
   "cell_type": "code",
   "execution_count": null,
   "id": "5c4087a7",
   "metadata": {},
   "outputs": [],
   "source": []
  },
  {
   "cell_type": "markdown",
   "id": "dbb6672f",
   "metadata": {},
   "source": [
    "#### Swap card in dealer hand"
   ]
  },
  {
   "cell_type": "code",
   "execution_count": 190,
   "id": "5ba559cb",
   "metadata": {},
   "outputs": [
    {
     "name": "stdout",
     "output_type": "stream",
     "text": [
      "Dealer discards K_H and picks up A_S\n"
     ]
    },
    {
     "data": {
      "text/plain": [
       "['J_C', 'A_D', 'K_S', 'J_D', 'A_S']"
      ]
     },
     "execution_count": 190,
     "metadata": {},
     "output_type": "execute_result"
    }
   ],
   "source": [
    "euchre_game.swap_dealer_card(card_flipped_up='A_S', \n",
    "                 dealer_hand=['J_C', 'A_D', 'K_H', 'K_S', 'J_D'], \n",
    "                 verbose=True)"
   ]
  },
  {
   "cell_type": "code",
   "execution_count": 191,
   "id": "a54d55b6",
   "metadata": {},
   "outputs": [
    {
     "name": "stdout",
     "output_type": "stream",
     "text": [
      "Dealer discards T_D and picks up A_S\n"
     ]
    },
    {
     "data": {
      "text/plain": [
       "['J_H', 'A_D', 'K_H', 'K_S', 'A_S']"
      ]
     },
     "execution_count": 191,
     "metadata": {},
     "output_type": "execute_result"
    }
   ],
   "source": [
    "euchre_game.swap_dealer_card(card_flipped_up='A_S', \n",
    "                 dealer_hand=['J_H', 'A_D', 'K_H', 'K_S', 'T_D'], \n",
    "                 verbose=True)"
   ]
  },
  {
   "cell_type": "code",
   "execution_count": 192,
   "id": "f5a11653",
   "metadata": {},
   "outputs": [
    {
     "name": "stdout",
     "output_type": "stream",
     "text": [
      "Dealer discards A_D and picks up A_S\n"
     ]
    },
    {
     "data": {
      "text/plain": [
       "['9_H', 'T_H', 'K_H', 'Q_H', 'A_S']"
      ]
     },
     "execution_count": 192,
     "metadata": {},
     "output_type": "execute_result"
    }
   ],
   "source": [
    "euchre_game.swap_dealer_card(card_flipped_up='A_S', \n",
    "                 dealer_hand=['9_H', 'T_H', 'K_H', 'Q_H', 'A_D'], \n",
    "                 verbose=True)"
   ]
  },
  {
   "cell_type": "code",
   "execution_count": 193,
   "id": "7c1dc26b",
   "metadata": {},
   "outputs": [
    {
     "name": "stdout",
     "output_type": "stream",
     "text": [
      "Dealer discards 9_S and picks up J_S\n"
     ]
    },
    {
     "data": {
      "text/plain": [
       "['A_S', 'Q_S', 'K_S', 'T_S', 'J_S']"
      ]
     },
     "execution_count": 193,
     "metadata": {},
     "output_type": "execute_result"
    }
   ],
   "source": [
    "euchre_game.swap_dealer_card(card_flipped_up='J_S', \n",
    "                 dealer_hand=['9_S', 'A_S', 'Q_S', 'K_S', 'T_S'], \n",
    "                 verbose=True)"
   ]
  },
  {
   "cell_type": "code",
   "execution_count": null,
   "id": "ee80c2d0",
   "metadata": {},
   "outputs": [],
   "source": []
  },
  {
   "cell_type": "code",
   "execution_count": null,
   "id": "4cd97ff7",
   "metadata": {},
   "outputs": [],
   "source": []
  },
  {
   "cell_type": "markdown",
   "id": "19749e5b",
   "metadata": {},
   "source": [
    "### Play card"
   ]
  },
  {
   "cell_type": "code",
   "execution_count": 46,
   "id": "67865ab6",
   "metadata": {},
   "outputs": [
    {
     "name": "stdout",
     "output_type": "stream",
     "text": [
      "Current winning player p3\n",
      "Following suit with lowest non-trump card- "
     ]
    },
    {
     "data": {
      "text/plain": [
       "'J_D'"
      ]
     },
     "execution_count": 46,
     "metadata": {},
     "output_type": "execute_result"
    }
   ],
   "source": [
    "euchre_game.play_card(player='p4',\n",
    "                      hand=['J_H', 'A_C', '9_H', 'K_S', 'J_D'], \n",
    "                      trump='S',\n",
    "                      cards_in_play={'p2': 'J_D', 'p3': 'A_D', 'p1': '9_D'}, \n",
    "                      player_led='p1',\n",
    "                      cards_played_this_hand=[], \n",
    "                      suit_led='D', verbose=True)"
   ]
  },
  {
   "cell_type": "code",
   "execution_count": 45,
   "id": "69a5755d",
   "metadata": {},
   "outputs": [
    {
     "name": "stdout",
     "output_type": "stream",
     "text": [
      "Current winning player p2\n",
      "Teammate winning, following suit w/ lowest trump card- "
     ]
    },
    {
     "data": {
      "text/plain": [
       "'J_H'"
      ]
     },
     "execution_count": 45,
     "metadata": {},
     "output_type": "execute_result"
    }
   ],
   "source": [
    "euchre_game.play_card(player='p4',\n",
    "                      hand=['J_H', 'A_C', '9_H', 'K_S', 'J_D'], \n",
    "                      trump='D',\n",
    "                      cards_in_play={'p2': 'J_D', 'p3': 'A_D', 'p1': '9_D'}, \n",
    "                      player_led='p1',\n",
    "                      cards_played_this_hand=[], \n",
    "                      suit_led='D', \n",
    "                      verbose=True)"
   ]
  },
  {
   "cell_type": "code",
   "execution_count": null,
   "id": "2746af15",
   "metadata": {},
   "outputs": [],
   "source": []
  },
  {
   "cell_type": "markdown",
   "id": "a2a8d71d",
   "metadata": {},
   "source": [
    "#### Play lead card"
   ]
  },
  {
   "cell_type": "code",
   "execution_count": 47,
   "id": "0a3afb0f",
   "metadata": {},
   "outputs": [
    {
     "data": {
      "text/plain": [
       "'A_S'"
      ]
     },
     "execution_count": 47,
     "metadata": {},
     "output_type": "execute_result"
    }
   ],
   "source": [
    "euchre_game.play_lead_card(hand=['9_D', 'T_C', '9_C', 'A_S', 'A_C'], \n",
    "               trump='S', \n",
    "               cards_played_this_hand=['J_S', 'J_C'])"
   ]
  },
  {
   "cell_type": "code",
   "execution_count": 48,
   "id": "8643822e",
   "metadata": {},
   "outputs": [
    {
     "data": {
      "text/plain": [
       "'A_D'"
      ]
     },
     "execution_count": 48,
     "metadata": {},
     "output_type": "execute_result"
    }
   ],
   "source": [
    "euchre_game.play_lead_card(hand=['T_D', 'T_C', 'Q_C', 'A_D', 'A_C'], \n",
    "               trump='S', \n",
    "               cards_played_this_hand=['J_S', 'J_C'])"
   ]
  },
  {
   "cell_type": "markdown",
   "id": "468e5a28",
   "metadata": {},
   "source": [
    "#### Play random card"
   ]
  },
  {
   "cell_type": "code",
   "execution_count": 49,
   "id": "5eeb71b1",
   "metadata": {},
   "outputs": [],
   "source": [
    "from utils import play_random_card"
   ]
  },
  {
   "cell_type": "code",
   "execution_count": 50,
   "id": "3c285d21",
   "metadata": {},
   "outputs": [
    {
     "data": {
      "text/plain": [
       "'9_D'"
      ]
     },
     "execution_count": 50,
     "metadata": {},
     "output_type": "execute_result"
    }
   ],
   "source": [
    "play_random_card(hand=['9_D', 'T_C', '9_C', 'J_S', 'A_C'], \n",
    "                             suit_led=None)"
   ]
  },
  {
   "cell_type": "code",
   "execution_count": 51,
   "id": "1d69b6ee",
   "metadata": {},
   "outputs": [
    {
     "data": {
      "text/plain": [
       "'9_D'"
      ]
     },
     "execution_count": 51,
     "metadata": {},
     "output_type": "execute_result"
    }
   ],
   "source": [
    "play_random_card(hand=['9_D', 'T_C', '9_C', 'J_S', 'A_C'], \n",
    "                             suit_led='D')"
   ]
  },
  {
   "cell_type": "code",
   "execution_count": null,
   "id": "d17957b1",
   "metadata": {},
   "outputs": [],
   "source": []
  },
  {
   "cell_type": "code",
   "execution_count": 56,
   "id": "dbebcdd4",
   "metadata": {},
   "outputs": [],
   "source": [
    "from utils import get_lowest_card"
   ]
  },
  {
   "cell_type": "code",
   "execution_count": 57,
   "id": "704b2d61",
   "metadata": {},
   "outputs": [
    {
     "data": {
      "text/plain": [
       "'9_D'"
      ]
     },
     "execution_count": 57,
     "metadata": {},
     "output_type": "execute_result"
    }
   ],
   "source": [
    "get_lowest_card(hand=['9_D', 'T_C', '9_C', 'J_S', 'A_C'])"
   ]
  },
  {
   "cell_type": "code",
   "execution_count": 58,
   "id": "1df4d546",
   "metadata": {},
   "outputs": [
    {
     "data": {
      "text/plain": [
       "'T_D'"
      ]
     },
     "execution_count": 58,
     "metadata": {},
     "output_type": "execute_result"
    }
   ],
   "source": [
    "get_lowest_card(hand=['T_D', 'T_C', 'T_H', 'J_S', 'A_C'])"
   ]
  },
  {
   "cell_type": "code",
   "execution_count": null,
   "id": "499e24c1",
   "metadata": {},
   "outputs": [],
   "source": []
  },
  {
   "cell_type": "code",
   "execution_count": 59,
   "id": "e9185002",
   "metadata": {},
   "outputs": [],
   "source": [
    "from utils import get_lowest_trump_card"
   ]
  },
  {
   "cell_type": "code",
   "execution_count": 60,
   "id": "69b88d3e",
   "metadata": {},
   "outputs": [
    {
     "data": {
      "text/plain": [
       "'J_D'"
      ]
     },
     "execution_count": 60,
     "metadata": {},
     "output_type": "execute_result"
    }
   ],
   "source": [
    "get_lowest_trump_card(hand=['J_H', 'J_D'], trump='H')"
   ]
  },
  {
   "cell_type": "code",
   "execution_count": 61,
   "id": "3756de20",
   "metadata": {},
   "outputs": [],
   "source": [
    "get_lowest_trump_card(hand=['J_H', 'J_D'], trump='C')"
   ]
  },
  {
   "cell_type": "code",
   "execution_count": 62,
   "id": "b505d271",
   "metadata": {},
   "outputs": [
    {
     "data": {
      "text/plain": [
       "'A_C'"
      ]
     },
     "execution_count": 62,
     "metadata": {},
     "output_type": "execute_result"
    }
   ],
   "source": [
    "get_lowest_trump_card(hand=['J_H', 'J_S', 'A_C'], trump='C')"
   ]
  },
  {
   "cell_type": "code",
   "execution_count": null,
   "id": "cb6f4c29",
   "metadata": {},
   "outputs": [],
   "source": []
  },
  {
   "cell_type": "code",
   "execution_count": null,
   "id": "ac7f0b31",
   "metadata": {},
   "outputs": [],
   "source": [
    "from utils import get_lowest_nontrump_card_in_suit"
   ]
  },
  {
   "cell_type": "code",
   "execution_count": 63,
   "id": "9799a8cd",
   "metadata": {},
   "outputs": [
    {
     "data": {
      "text/plain": [
       "'Q_H'"
      ]
     },
     "execution_count": 63,
     "metadata": {},
     "output_type": "execute_result"
    }
   ],
   "source": [
    "get_lowest_nontrump_card_in_suit(hand=['K_H', 'Q_H'], suit='H')"
   ]
  },
  {
   "cell_type": "code",
   "execution_count": 64,
   "id": "4392d7ca",
   "metadata": {},
   "outputs": [],
   "source": [
    "get_lowest_nontrump_card_in_suit(hand=['K_H', 'Q_H'], suit='S')"
   ]
  },
  {
   "cell_type": "code",
   "execution_count": 65,
   "id": "a94e31f3",
   "metadata": {},
   "outputs": [
    {
     "data": {
      "text/plain": [
       "'J_H'"
      ]
     },
     "execution_count": 65,
     "metadata": {},
     "output_type": "execute_result"
    }
   ],
   "source": [
    "get_lowest_nontrump_card_in_suit(hand=['K_H', 'Q_H', 'J_H'], suit='H')"
   ]
  },
  {
   "cell_type": "code",
   "execution_count": null,
   "id": "e33cd9c1",
   "metadata": {},
   "outputs": [],
   "source": []
  },
  {
   "cell_type": "code",
   "execution_count": 66,
   "id": "b898e075",
   "metadata": {},
   "outputs": [],
   "source": [
    "from utils import get_highest_nontrump_card"
   ]
  },
  {
   "cell_type": "code",
   "execution_count": 67,
   "id": "14b31373",
   "metadata": {},
   "outputs": [],
   "source": [
    "get_highest_nontrump_card(hand=['A_H'], trump='H')"
   ]
  },
  {
   "cell_type": "code",
   "execution_count": 68,
   "id": "14bcd4d5",
   "metadata": {},
   "outputs": [
    {
     "data": {
      "text/plain": [
       "'A_D'"
      ]
     },
     "execution_count": 68,
     "metadata": {},
     "output_type": "execute_result"
    }
   ],
   "source": [
    "get_highest_nontrump_card(hand=['A_H', 'A_D', 'A_S'], trump='H')"
   ]
  },
  {
   "cell_type": "code",
   "execution_count": 69,
   "id": "89ee88f4",
   "metadata": {},
   "outputs": [
    {
     "data": {
      "text/plain": [
       "'T_H'"
      ]
     },
     "execution_count": 69,
     "metadata": {},
     "output_type": "execute_result"
    }
   ],
   "source": [
    "get_highest_nontrump_card(hand=['T_H', '9_D', 'A_S'], trump='S')"
   ]
  },
  {
   "cell_type": "code",
   "execution_count": null,
   "id": "25f1b68f",
   "metadata": {},
   "outputs": [],
   "source": []
  },
  {
   "cell_type": "code",
   "execution_count": null,
   "id": "422e1880",
   "metadata": {},
   "outputs": [],
   "source": [
    "from utils import find_highest_remaining_trump"
   ]
  },
  {
   "cell_type": "code",
   "execution_count": null,
   "id": "a55d6f44",
   "metadata": {},
   "outputs": [],
   "source": [
    "find_highest_remaining_trump(trump='D', \n",
    "                             cards_played_this_hand=[], \n",
    "                             verbose=True)"
   ]
  },
  {
   "cell_type": "code",
   "execution_count": null,
   "id": "2302cd01",
   "metadata": {},
   "outputs": [],
   "source": [
    "find_highest_remaining_trump(trump='H', \n",
    "                             cards_played_this_hand=['J_H', 'J_D', 'A_H'], \n",
    "                             verbose=True)"
   ]
  },
  {
   "cell_type": "code",
   "execution_count": null,
   "id": "92b312de",
   "metadata": {},
   "outputs": [],
   "source": [
    "find_highest_remaining_trump(trump='H', \n",
    "                             cards_played_this_hand=['J_H', 'J_D', 'A_H', 'K_H', 'Q_H', 'T_H', '9_H'], \n",
    "                             verbose=True)"
   ]
  },
  {
   "cell_type": "code",
   "execution_count": null,
   "id": "b9bac70b",
   "metadata": {},
   "outputs": [],
   "source": [
    "find_highest_remaining_trump(trump='H', \n",
    "                             cards_played_this_hand=['J_H', 'J_D', 'A_H', 'K_H', 'Q_H', 'T_H', '9_H'], \n",
    "                             verbose=True)"
   ]
  },
  {
   "cell_type": "code",
   "execution_count": 70,
   "id": "e8a67892",
   "metadata": {},
   "outputs": [],
   "source": [
    "unplayed_trump = ['J_D', 'J_H', 'A_D', 'K_D', 'Q_D', 'T_D', '9_D']"
   ]
  },
  {
   "cell_type": "code",
   "execution_count": 71,
   "id": "48a2b8ff",
   "metadata": {},
   "outputs": [],
   "source": [
    "unplayed_trump.remove('J_H')"
   ]
  },
  {
   "cell_type": "code",
   "execution_count": 73,
   "id": "ff401244",
   "metadata": {},
   "outputs": [
    {
     "data": {
      "text/plain": [
       "'J_D'"
      ]
     },
     "execution_count": 73,
     "metadata": {},
     "output_type": "execute_result"
    }
   ],
   "source": [
    "unplayed_trump[0]"
   ]
  },
  {
   "cell_type": "code",
   "execution_count": 74,
   "id": "5e88730d",
   "metadata": {},
   "outputs": [],
   "source": [
    "unplayed_trump.remove('J_D')"
   ]
  },
  {
   "cell_type": "code",
   "execution_count": 75,
   "id": "8084844d",
   "metadata": {},
   "outputs": [
    {
     "data": {
      "text/plain": [
       "['A_D', 'K_D', 'Q_D', 'T_D', '9_D']"
      ]
     },
     "execution_count": 75,
     "metadata": {},
     "output_type": "execute_result"
    }
   ],
   "source": [
    "unplayed_trump"
   ]
  },
  {
   "cell_type": "code",
   "execution_count": null,
   "id": "f21ebcec",
   "metadata": {},
   "outputs": [],
   "source": []
  },
  {
   "cell_type": "code",
   "execution_count": null,
   "id": "ede78733",
   "metadata": {},
   "outputs": [],
   "source": []
  },
  {
   "cell_type": "markdown",
   "id": "976ca371",
   "metadata": {},
   "source": [
    "### Play full game"
   ]
  },
  {
   "cell_type": "code",
   "execution_count": 197,
   "id": "74567bc0",
   "metadata": {
    "scrolled": true
   },
   "outputs": [
    {
     "name": "stdout",
     "output_type": "stream",
     "text": [
      "Hand #0- Dealer: p1; Player Hands: {'p1': ['T_D', 'J_S', 'T_S', '9_S', '9_C'], 'p2': ['J_C', 'K_S', 'Q_D', 'J_H', 'K_D'], 'p3': ['K_H', '9_D', 'T_H', 'Q_H', 'A_S'], 'p4': ['Q_S', 'K_C', 'J_D', 'T_C', '9_H']}\n",
      "Card flipped up: Q_C\n",
      "Player p3 has chosen H as trump\n",
      "Trick 0: Leading with highest trump card remaining- Trump cards remaining ['J_H', 'J_D', 'A_H', 'K_H', 'Q_H', 'T_H', '9_H']- Player p2 plays J_H, Current winning player p2\n",
      "Following suit with lowest trump card- Player p3 plays T_H, Current winning player p2\n",
      "Teammate winning, following suit w/ lowest trump card- Player p4 plays 9_H, Current winning player p2\n",
      "No trump, playing lowest card in hand- Player p1 plays 9_S, p2 wins trick\n",
      "Trick 1: Leading with highest non-trump- Player p2 plays K_S, Current winning player p2\n",
      "Following suit with lowest non-trump card- Player p3 plays A_S, Current winning player p3\n",
      "Following suit with lowest non-trump card- Player p4 plays Q_S, Current winning player p3\n",
      "Teammate winning, following suit w/ lowest card- Player p1 plays T_S, p3 wins trick\n",
      "Trick 2: Leading with highest non-trump- Player p3 plays 9_D, Current winning player p3\n",
      "Following suit with lowest non-trump card- Player p4 plays J_D, Current winning player p4\n",
      "Following suit with lowest non-trump card- Player p1 plays T_D, Current winning player p4\n",
      "Teammate winning, following suit w/ lowest card- Player p2 plays Q_D, p4 wins trick\n",
      "Trick 3: Leading with highest non-trump- Player p4 plays K_C, Current winning player p4\n",
      "Following suit with lowest non-trump card- Player p1 plays 9_C, Current winning player p4\n",
      "Teammate winning, following suit w/ lowest card- Player p2 plays J_C, Current winning player p4\n",
      "Lowest trump card- Player p3 plays Q_H, p3 wins trick\n",
      "Trick 4: Last card- Player p3 plays K_H, Last card- Player p4 plays T_C, Last card- Player p1 plays J_S, Last card- Player p2 plays K_D, p3 wins trick\n",
      "Trick winners: {'p2': 1, 'p3': 3, 'p4': 1, 'p1': 0}\n",
      "t1 scores 1\n",
      "Hand #1- Dealer: p2; Player Hands: {'p1': ['9_H', '9_C', 'K_S', '9_S', 'T_C'], 'p2': ['J_D', 'A_S', '9_D', 'Q_C', 'Q_D'], 'p3': ['T_S', 'Q_S', 'J_C', 'T_H', 'K_D'], 'p4': ['T_D', 'Q_H', 'J_S', 'K_H', 'J_H']}\n",
      "Card flipped up: K_C\n",
      "Player p4 has chosen H as trump\n",
      "Trick 0: Leading with highest non-trump- Player p3 plays K_D, Current winning player p3\n",
      "Following suit with lowest non-trump card- Player p4 plays T_D, Current winning player p3\n",
      "Teammate winning, no follow suit, play lowest card- Player p1 plays 9_H, Current winning player p1\n",
      "Following suit with lowest non-trump card- Player p2 plays 9_D, p1 wins trick\n",
      "Trick 1: Leading with highest non-trump- Player p1 plays K_S, Current winning player p1\n",
      "Following suit with lowest non-trump card- Player p2 plays A_S, Current winning player p2\n",
      "Following suit with lowest non-trump card- Player p3 plays T_S, Current winning player p2\n",
      "Teammate winning, following suit w/ lowest card- Player p4 plays J_S, p2 wins trick\n",
      "Trick 2: Leading with highest non-trump- Player p2 plays Q_C, Current winning player p2\n",
      "Following suit with lowest non-trump card- Player p3 plays J_C, Current winning player p2\n",
      "Teammate winning, no follow suit, play lowest card- Player p4 plays J_H, Current winning player p4\n",
      "Following suit with lowest non-trump card- Player p1 plays 9_C, p4 wins trick\n",
      "Trick 3: Leading with lowest trump (only trump left)- Player p4 plays Q_H, Current winning player p4\n",
      "No trump, playing lowest card in hand- Player p1 plays 9_S, Current winning player p4\n",
      "Teammate winning, following suit w/ lowest trump card- Player p2 plays J_D, Current winning player p2\n",
      "Following suit with lowest trump card- Player p3 plays T_H, p2 wins trick\n",
      "Trick 4: Last card- Player p2 plays Q_D, Last card- Player p3 plays Q_S, Last card- Player p4 plays K_H, Last card- Player p1 plays T_C, p4 wins trick\n",
      "Trick winners: {'p3': 0, 'p4': 2, 'p1': 1, 'p2': 2}\n",
      "t2 scores 1\n",
      "Hand #2- Dealer: p3; Player Hands: {'p1': ['J_C', 'K_S', 'K_D', 'K_C', 'Q_H'], 'p2': ['J_D', '9_D', 'J_H', 'T_S', 'T_H'], 'p3': ['9_C', 'T_D', 'J_S', 'T_C', '9_S'], 'p4': ['K_H', 'A_S', 'Q_D', 'Q_S', 'Q_C']}\n",
      "Card flipped up: 9_H\n",
      "Trump not found\n",
      "Hand #2- Dealer: p4; Player Hands: {'p1': ['K_C', 'T_D', 'Q_C', 'Q_S', 'T_C'], 'p2': ['J_D', 'K_H', '9_D', '9_C', 'Q_H'], 'p3': ['9_H', 'K_D', 'J_C', 'K_S', 'J_H'], 'p4': ['T_H', 'J_S', '9_S', 'Q_D', 'T_S']}\n",
      "Card flipped up: A_S\n",
      "Player p4 has chosen S as trump\n",
      "Dealer discards T_H and picks up A_S\n",
      "Trick 0: Leading with highest non-trump- Player p1 plays K_C, Current winning player p1\n",
      "Following suit with lowest non-trump card- Player p2 plays 9_C, Current winning player p1\n",
      "Teammate winning, following suit w/ lowest card- Player p3 plays J_C, Current winning player p3\n",
      "Lowest trump card- Player p4 plays 9_S, p3 wins trick\n",
      "Trick 1: Leading with highest non-trump- Player p3 plays K_D, Current winning player p3\n",
      "Following suit with lowest non-trump card- Player p4 plays Q_D, Current winning player p3\n",
      "Teammate winning, following suit w/ lowest card- Player p1 plays T_D, Current winning player p3\n",
      "Following suit with lowest non-trump card- Player p2 plays 9_D, p3 wins trick\n",
      "Trick 2: Leading with highest non-trump- Player p3 plays J_H, Current winning player p3\n",
      "Lowest trump card- Player p4 plays T_S, Current winning player p4\n",
      "Lowest trump card- Player p1 plays Q_S, Current winning player p1\n",
      "Following suit with lowest non-trump card- Player p2 plays Q_H, p1 wins trick\n",
      "Trick 3: Leading with highest non-trump- Player p1 plays Q_C, Current winning player p1\n",
      "No trump, playing lowest card in hand- Player p2 plays J_D, Current winning player p1\n",
      "Teammate winning, no follow suit, play lowest card- Player p3 plays 9_H, Current winning player p1\n",
      "Lowest trump card- Player p4 plays A_S, p4 wins trick\n",
      "Trick 4: Last card- Player p4 plays J_S, Last card- Player p1 plays T_C, Last card- Player p2 plays K_H, Last card- Player p3 plays K_S, p4 wins trick\n",
      "Trick winners: {'p1': 1, 'p2': 0, 'p3': 2, 'p4': 2}\n",
      "t1 scores 2\n",
      "Hand #3- Dealer: p1; Player Hands: {'p1': ['K_C', 'J_C', 'T_D', '9_S', 'T_H'], 'p2': ['J_H', '9_C', 'Q_H', 'J_S', '9_H'], 'p3': ['Q_C', 'K_D', 'K_S', 'A_S', 'T_S'], 'p4': ['Q_S', '9_D', 'T_C', 'Q_D', 'K_H']}\n",
      "Card flipped up: J_D\n",
      "Player p2 has chosen H as trump\n",
      "Trick 0: Leading with highest trump card remaining- Trump cards remaining ['J_H', 'J_D', 'A_H', 'K_H', 'Q_H', 'T_H', '9_H']- Player p2 plays J_H, Current winning player p2\n",
      "No trump, playing lowest card in hand- Player p3 plays T_S, Current winning player p2\n",
      "Teammate winning, following suit w/ lowest trump card- Player p4 plays K_H, Current winning player p2\n",
      "Following suit with lowest trump card- Player p1 plays T_H, p2 wins trick\n",
      "Trick 1: Leading with highest non-trump- Player p2 plays J_S, Current winning player p2\n",
      "Following suit with lowest non-trump card- Player p3 plays K_S, Current winning player p3\n",
      "Following suit with lowest non-trump card- Player p4 plays Q_S, Current winning player p3\n",
      "Teammate winning, following suit w/ lowest card- Player p1 plays 9_S, p3 wins trick\n",
      "Trick 2: Leading with highest non-trump- Player p3 plays A_S, Current winning player p3\n",
      "No trump, playing lowest card in hand- Player p4 plays 9_D, Current winning player p3\n",
      "Teammate winning, no follow suit, play lowest card- Player p1 plays T_D, Current winning player p3\n",
      "Lowest trump card- Player p2 plays 9_H, p2 wins trick\n",
      "Trick 3: Leading with highest non-trump- Player p2 plays 9_C, Current winning player p2\n",
      "Following suit with lowest non-trump card- Player p3 plays Q_C, Current winning player p3\n",
      "Following suit with lowest non-trump card- Player p4 plays T_C, Current winning player p3\n",
      "Teammate winning, following suit w/ lowest card- Player p1 plays J_C, p3 wins trick\n",
      "Trick 4: Last card- Player p3 plays K_D, Last card- Player p4 plays Q_D, Last card- Player p1 plays K_C, Last card- Player p2 plays Q_H, p2 wins trick\n",
      "Trick winners: {'p2': 3, 'p3': 2, 'p4': 0, 'p1': 0}\n",
      "t2 scores 1\n",
      "Hand #4- Dealer: p2; Player Hands: {'p1': ['K_H', 'J_C', 'J_S', 'Q_C', 'Q_H'], 'p2': ['T_C', 'K_C', 'K_D', 'T_D', 'A_S'], 'p3': ['K_S', 'J_D', 'Q_S', 'Q_D', 'J_H'], 'p4': ['9_C', 'T_S', '9_H', '9_S', '9_D']}\n",
      "Card flipped up: T_H\n",
      "Trump not found\n",
      "Hand #4- Dealer: p3; Player Hands: {'p1': ['K_C', 'J_S', 'T_C', 'T_S', 'J_D'], 'p2': ['Q_C', 'J_C', 'K_S', 'T_D', '9_C'], 'p3': ['Q_S', 'K_D', '9_D', 'Q_H', 'A_S'], 'p4': ['K_H', '9_S', 'T_H', 'J_H', 'Q_D']}\n",
      "Card flipped up: 9_H\n",
      "Player p4 has chosen H as trump\n",
      "Dealer discards 9_D and picks up 9_H\n",
      "Trick 0: Leading with highest trump card remaining- Trump cards remaining ['J_H', 'J_D', 'A_H', 'K_H', 'Q_H', 'T_H', '9_H']- Player p4 plays J_H, Current winning player p4\n",
      "Following suit with lowest trump card- Player p1 plays J_D, Current winning player p4\n",
      "Teammate winning, no trump, play lowest card- Player p2 plays 9_C, Current winning player p4\n",
      "Following suit with lowest trump card- Player p3 plays 9_H, p4 wins trick\n",
      "Trick 1: Leading with highest non-trump- Player p4 plays Q_D, Current winning player p4\n",
      "No trump, playing lowest card in hand- Player p1 plays T_C, Current winning player p4\n",
      "Teammate winning, following suit w/ lowest card- Player p2 plays T_D, Current winning player p4\n",
      "Following suit with lowest non-trump card- Player p3 plays K_D, p3 wins trick\n",
      "Trick 2: Leading with highest non-trump- Player p3 plays A_S, Current winning player p3\n",
      "Following suit with lowest non-trump card- Player p4 plays 9_S, Current winning player p3\n",
      "Teammate winning, following suit w/ lowest card- Player p1 plays T_S, Current winning player p3\n",
      "Following suit with lowest non-trump card- Player p2 plays K_S, p3 wins trick\n",
      "Trick 3: Leading with highest non-trump- Player p3 plays Q_S, Current winning player p3\n",
      "Lowest trump card- Player p4 plays T_H, Current winning player p4\n",
      "Following suit with lowest non-trump card- Player p1 plays J_S, Current winning player p4\n",
      "Teammate winning, no follow suit, play lowest card- Player p2 plays J_C, p4 wins trick\n",
      "Trick 4: Last card- Player p4 plays K_H, Last card- Player p1 plays K_C, Last card- Player p2 plays Q_C, Last card- Player p3 plays Q_H, p4 wins trick\n",
      "Trick winners: {'p4': 3, 'p1': 0, 'p2': 0, 'p3': 2}\n",
      "t2 scores 1\n",
      "Hand #5- Dealer: p4; Player Hands: {'p1': ['Q_D', 'K_H', 'Q_C', 'A_S', 'J_C'], 'p2': ['K_D', 'J_D', 'J_S', 'Q_H', '9_D'], 'p3': ['K_S', 'T_H', '9_S', 'T_S', 'T_D'], 'p4': ['9_H', 'J_H', 'Q_S', '9_C', 'T_C']}\n",
      "Card flipped up: K_C\n",
      "Player p2 has chosen D as trump\n",
      "Trick 0: Leading with highest non-trump- Player p1 plays A_S, Current winning player p1\n",
      "Following suit with lowest non-trump card- Player p2 plays J_S, Current winning player p1\n",
      "Teammate winning, following suit w/ lowest card- Player p3 plays 9_S, Current winning player p1\n",
      "Following suit with lowest non-trump card- Player p4 plays Q_S, p1 wins trick\n",
      "Trick 1: Leading with highest non-trump- Player p1 plays K_H, Current winning player p1\n",
      "Following suit with lowest non-trump card- Player p2 plays Q_H, Current winning player p1\n",
      "Teammate winning, following suit w/ lowest card- Player p3 plays T_H, Current winning player p1\n",
      "Following suit with lowest non-trump card- Player p4 plays 9_H, p1 wins trick\n",
      "Trick 2: Leading with highest non-trump- Player p1 plays Q_C, Current winning player p1\n",
      "Lowest trump card- Player p2 plays 9_D, Current winning player p2\n",
      "Lowest trump card- Player p3 plays T_D, Current winning player p3\n",
      "Following suit with lowest non-trump card- Player p4 plays 9_C, p3 wins trick\n",
      "Trick 3: Leading with highest non-trump- Player p3 plays K_S, Current winning player p3\n",
      "Lowest trump card- Player p4 plays J_H, Current winning player p4\n",
      "Lowest trump card- Player p1 plays Q_D, Current winning player p4\n",
      "Teammate winning, no follow suit, play lowest card- Player p2 plays J_D, p2 wins trick\n",
      "Trick 4: Last card- Player p2 plays K_D, Last card- Player p3 plays T_S, Last card- Player p4 plays T_C, Last card- Player p1 plays J_C, p2 wins trick\n",
      "Trick winners: {'p1': 2, 'p2': 2, 'p3': 1, 'p4': 0}\n",
      "t1 scores 2\n",
      "Hand #6- Dealer: p1; Player Hands: {'p1': ['K_H', 'A_S', 'K_D', '9_S', 'T_S'], 'p2': ['9_H', 'J_H', 'T_C', '9_C', 'K_C'], 'p3': ['Q_S', 'J_D', 'T_D', 'Q_C', 'Q_H'], 'p4': ['Q_D', 'J_S', 'J_C', 'K_S', 'T_H']}\n",
      "Card flipped up: 9_D\n",
      "Player p2 has chosen C as trump\n",
      "Trick 0: Leading with highest non-trump- Player p2 plays J_H, Current winning player p2\n",
      "Following suit with lowest non-trump card- Player p3 plays Q_H, Current winning player p3\n",
      "Following suit with lowest non-trump card- Player p4 plays T_H, Current winning player p3\n",
      "Teammate winning, following suit w/ lowest card- Player p1 plays K_H, p1 wins trick\n",
      "Trick 1: Leading with highest non-trump- Player p1 plays A_S, Current winning player p1\n",
      "Lowest trump card- Player p2 plays 9_C, Current winning player p2\n",
      "Following suit with lowest non-trump card- Player p3 plays Q_S, Current winning player p2\n",
      "Teammate winning, following suit w/ lowest card- Player p4 plays J_S, p4 wins trick\n",
      "Trick 2: Leading with highest trump card remaining- Trump cards remaining ['J_C', 'J_S', 'A_C', 'K_C', 'Q_C', 'T_C']- Player p4 plays J_C, Current winning player p4\n",
      "No trump, playing lowest card in hand- Player p1 plays 9_S, Current winning player p4\n",
      "Teammate winning, following suit w/ lowest trump card- Player p2 plays T_C, Current winning player p4\n",
      "Following suit with lowest trump card- Player p3 plays Q_C, p4 wins trick\n",
      "Trick 3: Leading with highest non-trump- Player p4 plays K_S, Current winning player p4\n",
      "Following suit with lowest non-trump card- Player p1 plays T_S, Current winning player p4\n",
      "Teammate winning, no follow suit, play lowest card- Player p2 plays 9_H, Current winning player p4\n",
      "No trump, playing lowest card in hand- Player p3 plays T_D, p4 wins trick\n",
      "Trick 4: Last card- Player p4 plays Q_D, Last card- Player p1 plays K_D, Last card- Player p2 plays K_C, Last card- Player p3 plays J_D, p2 wins trick\n",
      "Trick winners: {'p2': 1, 'p3': 0, 'p4': 3, 'p1': 1}\n",
      "t2 scores 1\n",
      "Hand #7- Dealer: p2; Player Hands: {'p1': ['T_C', 'Q_D', '9_H', 'K_C', 'J_H'], 'p2': ['T_D', 'Q_S', 'J_C', 'J_S', 'T_S'], 'p3': ['J_D', 'A_S', 'K_D', '9_D', '9_C'], 'p4': ['9_S', 'K_H', 'T_H', 'Q_C', 'Q_H']}\n",
      "Card flipped up: K_S\n",
      "Player p2 has chosen S as trump\n",
      "Dealer discards T_D and picks up K_S\n",
      "Trick 0: Leading with highest non-trump- Player p3 plays K_D, Current winning player p3\n",
      "Lowest trump card- Player p4 plays 9_S, Current winning player p4\n",
      "Following suit with lowest non-trump card- Player p1 plays Q_D, Current winning player p4\n",
      "Teammate winning, no follow suit, play lowest card- Player p2 plays T_S, p2 wins trick\n",
      "Trick 1: Leading with highest trump card remaining- Trump cards remaining ['J_S', 'J_C', 'A_S', 'K_S', 'Q_S']- Player p2 plays J_S, Current winning player p2\n",
      "Following suit with lowest trump card- Player p3 plays A_S, Current winning player p2\n",
      "Teammate winning, no trump, play lowest card- Player p4 plays T_H, Current winning player p2\n",
      "No trump, playing lowest card in hand- Player p1 plays 9_H, p2 wins trick\n",
      "Trick 2: Leading with highest trump card remaining- Trump cards remaining ['J_C', 'K_S', 'Q_S']- Player p2 plays J_C, Current winning player p2\n",
      "No trump, playing lowest card in hand- Player p3 plays 9_D, Current winning player p2\n",
      "Teammate winning, no trump, play lowest card- Player p4 plays Q_C, Current winning player p2\n",
      "No trump, playing lowest card in hand- Player p1 plays T_C, p2 wins trick\n",
      "Trick 3: Leading with lowest trump (only trump left)- Player p2 plays Q_S, Current winning player p2\n",
      "No trump, playing lowest card in hand- Player p3 plays 9_C, Current winning player p2\n",
      "Teammate winning, no trump, play lowest card- Player p4 plays Q_H, Current winning player p2\n",
      "No trump, playing lowest card in hand- Player p1 plays J_H, p2 wins trick\n",
      "Trick 4: Last card- Player p2 plays K_S, Last card- Player p3 plays J_D, Last card- Player p4 plays K_H, Last card- Player p1 plays K_C, p2 wins trick\n",
      "Trick winners: {'p3': 0, 'p4': 0, 'p1': 0, 'p2': 5}\n",
      "t2 scores 2\n",
      "Hand #8- Dealer: p3; Player Hands: {'p1': ['K_H', '9_D', 'K_D', 'J_D', 'J_S'], 'p2': ['A_S', 'J_H', 'K_C', 'Q_D', '9_C'], 'p3': ['9_S', 'T_D', 'J_C', '9_H', 'T_C'], 'p4': ['T_S', 'T_H', 'K_S', 'Q_C', 'Q_H']}\n",
      "Card flipped up: Q_S\n",
      "Player p1 has chosen D as trump\n",
      "Trick 0: Leading with highest non-trump- Player p4 plays K_S, Current winning player p4\n",
      "Following suit with lowest non-trump card- Player p1 plays J_S, Current winning player p4\n",
      "Teammate winning, following suit w/ lowest card- Player p2 plays A_S, Current winning player p2\n",
      "Following suit with lowest non-trump card- Player p3 plays 9_S, p2 wins trick\n",
      "Trick 1: Leading with highest non-trump- Player p2 plays K_C, Current winning player p2\n",
      "Following suit with lowest non-trump card- Player p3 plays T_C, Current winning player p2\n",
      "Teammate winning, following suit w/ lowest card- Player p4 plays Q_C, Current winning player p2\n",
      "Lowest trump card- Player p1 plays 9_D, p1 wins trick\n",
      "Trick 2: Leading with highest trump card remaining- Trump cards remaining ['J_D', 'J_H', 'A_D', 'K_D', 'Q_D', 'T_D']- Player p1 plays J_D, Current winning player p1\n",
      "Following suit with lowest trump card- Player p2 plays Q_D, Current winning player p1\n",
      "Teammate winning, following suit w/ lowest trump card- Player p3 plays T_D, Current winning player p1\n",
      "No trump, playing lowest card in hand- Player p4 plays T_S, p1 wins trick\n",
      "Trick 3: Leading with highest non-trump- Player p1 plays K_H, Current winning player p1\n",
      "Following suit with lowest non-trump card- Player p2 plays J_H, Current winning player p2\n",
      "Following suit with lowest non-trump card- Player p3 plays 9_H, Current winning player p2\n",
      "Teammate winning, following suit w/ lowest card- Player p4 plays T_H, p2 wins trick\n",
      "Trick 4: Last card- Player p2 plays 9_C, Last card- Player p3 plays J_C, Last card- Player p4 plays Q_H, Last card- Player p1 plays K_D, p1 wins trick\n",
      "Trick winners: {'p4': 0, 'p1': 3, 'p2': 2, 'p3': 0}\n",
      "t1 scores 1\n",
      "Hand #9- Dealer: p4; Player Hands: {'p1': ['K_C', 'A_S', 'Q_H', 'Q_D', '9_H'], 'p2': ['K_S', 'J_C', '9_S', '9_D', '9_C'], 'p3': ['T_D', 'J_H', 'T_H', 'Q_S', 'J_S'], 'p4': ['T_S', 'J_D', 'Q_C', 'K_D', 'K_H']}\n",
      "Card flipped up: T_C\n",
      "Trump not found\n",
      "Hand #9- Dealer: p1; Player Hands: {'p1': ['T_H', 'K_S', 'J_S', 'T_S', 'Q_C'], 'p2': ['9_H', '9_C', '9_S', 'K_D', 'K_C'], 'p3': ['Q_D', 'Q_H', 'J_D', 'J_H', 'J_C'], 'p4': ['T_D', 'A_S', '9_D', 'T_C', 'K_H']}\n",
      "Card flipped up: Q_S\n",
      "Player p1 has chosen S as trump\n",
      "Dealer discards T_H and picks up Q_S\n",
      "Trick 0: Leading with highest non-trump- Player p2 plays K_D, Current winning player p2\n",
      "Following suit with lowest non-trump card- Player p3 plays J_D, Current winning player p2\n",
      "Teammate winning, following suit w/ lowest card- Player p4 plays 9_D, Current winning player p2\n",
      "Lowest trump card- Player p1 plays T_S, p1 wins trick\n",
      "Trick 1: Leading with highest trump card remaining- Trump cards remaining ['J_S', 'J_C', 'A_S', 'K_S', 'Q_S', '9_S']- Player p1 plays J_S, Current winning player p1\n",
      "Following suit with lowest trump card- Player p2 plays 9_S, Current winning player p1\n",
      "Teammate winning, following suit w/ lowest trump card- Player p3 plays J_C, Current winning player p1\n",
      "Following suit with lowest trump card- Player p4 plays A_S, p1 wins trick\n",
      "Trick 2: Leading with highest non-trump- Player p1 plays Q_C, Current winning player p1\n",
      "Following suit with lowest non-trump card- Player p2 plays 9_C, Current winning player p1\n",
      "Teammate winning, no follow suit, play lowest card- Player p3 plays J_H, Current winning player p1\n",
      "Following suit with lowest non-trump card- Player p4 plays T_C, p1 wins trick\n",
      "Trick 3: Leading with lowest trump (only trump left)- Player p1 plays Q_S, Current winning player p1\n",
      "No trump, playing lowest card in hand- Player p2 plays 9_H, Current winning player p1\n",
      "Teammate winning, no trump, play lowest card- Player p3 plays Q_D, Current winning player p1\n",
      "No trump, playing lowest card in hand- Player p4 plays T_D, p1 wins trick\n",
      "Trick 4: Last card- Player p1 plays K_S, Last card- Player p2 plays K_C, Last card- Player p3 plays Q_H, Last card- Player p4 plays K_H, p1 wins trick\n",
      "Trick winners: {'p2': 0, 'p3': 0, 'p4': 0, 'p1': 5}\n",
      "t1 scores 2\n",
      "Hand #10- Dealer: p2; Player Hands: {'p1': ['Q_H', 'T_S', 'T_C', '9_D', 'K_S'], 'p2': ['T_D', 'K_D', 'Q_D', 'J_H', 'J_S'], 'p3': ['9_S', '9_H', 'K_H', 'J_D', '9_C'], 'p4': ['T_H', 'Q_C', 'K_C', 'Q_S', 'J_C']}\n",
      "Card flipped up: A_S\n",
      "Player p4 has chosen C as trump\n",
      "Trick 0: Leading with highest non-trump- Player p3 plays K_H, Current winning player p3\n",
      "Following suit with lowest non-trump card- Player p4 plays T_H, Current winning player p3\n",
      "Teammate winning, following suit w/ lowest card- Player p1 plays Q_H, Current winning player p3\n",
      "Following suit with lowest non-trump card- Player p2 plays J_H, p3 wins trick\n",
      "Trick 1: Leading with highest non-trump- Player p3 plays J_D, Current winning player p3\n",
      "Lowest trump card- Player p4 plays Q_C, Current winning player p4\n",
      "Following suit with lowest non-trump card- Player p1 plays 9_D, Current winning player p4\n",
      "Teammate winning, following suit w/ lowest card- Player p2 plays T_D, p4 wins trick\n",
      "Trick 2: Leading with highest trump card remaining- Trump cards remaining ['J_C', 'J_S', 'A_C', 'K_C', 'T_C', '9_C']- Player p4 plays J_C, Current winning player p4\n",
      "Following suit with lowest trump card- Player p1 plays T_C, Current winning player p4\n",
      "Teammate winning, following suit w/ lowest trump card- Player p2 plays J_S, Current winning player p4\n",
      "Following suit with lowest trump card- Player p3 plays 9_C, p4 wins trick\n",
      "Trick 3: Leading with highest non-trump- Player p4 plays Q_S, Current winning player p4\n",
      "Following suit with lowest non-trump card- Player p1 plays T_S, Current winning player p4\n",
      "Teammate winning, no follow suit, play lowest card- Player p2 plays Q_D, Current winning player p4\n",
      "Following suit with lowest non-trump card- Player p3 plays 9_S, p4 wins trick\n",
      "Trick 4: Last card- Player p4 plays K_C, Last card- Player p1 plays K_S, Last card- Player p2 plays K_D, Last card- Player p3 plays 9_H, p4 wins trick\n",
      "Trick winners: {'p3': 1, 'p4': 4, 'p1': 0, 'p2': 0}\n",
      "t2 scores 1\n",
      "Hand #11- Dealer: p3; Player Hands: {'p1': ['J_S', 'T_D', 'T_S', 'Q_H', '9_D'], 'p2': ['J_C', 'K_D', 'K_H', 'Q_S', 'K_C'], 'p3': ['J_D', '9_H', 'A_S', '9_C', 'K_S'], 'p4': ['T_C', 'Q_D', 'Q_C', '9_S', 'T_H']}\n",
      "Card flipped up: J_H\n",
      "Trump not found\n",
      "Hand #11- Dealer: p4; Player Hands: {'p1': ['Q_S', 'J_H', 'Q_D', 'T_D', 'K_S'], 'p2': ['9_C', '9_S', 'K_H', 'K_C', '9_D'], 'p3': ['Q_C', 'Q_H', 'T_C', 'T_H', 'T_S'], 'p4': ['9_H', 'K_D', 'J_D', 'J_S', 'A_S']}\n",
      "Card flipped up: J_C\n",
      "Trump not found\n",
      "Hand #11- Dealer: p1; Player Hands: {'p1': ['J_C', 'K_H', 'J_H', 'Q_D', 'J_D'], 'p2': ['J_S', 'Q_S', '9_S', '9_C', '9_H'], 'p3': ['9_D', 'K_C', 'Q_C', 'T_S', 'K_D'], 'p4': ['T_H', 'Q_H', 'T_D', 'T_C', 'K_S']}\n",
      "Card flipped up: A_S\n",
      "Player p2 has chosen S as trump\n",
      "Dealer discards J_H and picks up A_S\n",
      "Trick 0: Leading with highest trump card remaining- Trump cards remaining ['J_S', 'J_C', 'A_S', 'K_S', 'Q_S', 'T_S', '9_S']- Player p2 plays J_S, Current winning player p2\n",
      "Following suit with lowest trump card- Player p3 plays T_S, Current winning player p2\n",
      "Teammate winning, following suit w/ lowest trump card- Player p4 plays K_S, Current winning player p2\n",
      "Following suit with lowest trump card- Player p1 plays A_S, p2 wins trick\n",
      "Trick 1: Leading with highest non-trump- Player p2 plays 9_C, Current winning player p2\n",
      "Following suit with lowest non-trump card- Player p3 plays Q_C, Current winning player p3\n",
      "Following suit with lowest non-trump card- Player p4 plays T_C, Current winning player p3\n",
      "Teammate winning, following suit w/ lowest card- Player p1 plays J_C, p1 wins trick\n",
      "Trick 2: Leading with highest non-trump- Player p1 plays K_H, Current winning player p1\n",
      "Following suit with lowest non-trump card- Player p2 plays 9_H, Current winning player p1\n",
      "Teammate winning, no follow suit, play lowest card- Player p3 plays 9_D, Current winning player p1\n",
      "Following suit with lowest non-trump card- Player p4 plays T_H, p1 wins trick\n",
      "Trick 3: Leading with highest non-trump- Player p1 plays Q_D, Current winning player p1\n",
      "Lowest trump card- Player p2 plays 9_S, Current winning player p2\n",
      "Following suit with lowest non-trump card- Player p3 plays K_D, Current winning player p2\n",
      "Teammate winning, following suit w/ lowest card- Player p4 plays T_D, p2 wins trick\n",
      "Trick 4: Last card- Player p2 plays Q_S, Last card- Player p3 plays K_C, Last card- Player p4 plays Q_H, Last card- Player p1 plays J_D, p2 wins trick\n",
      "Trick winners: {'p2': 3, 'p3': 0, 'p4': 0, 'p1': 2}\n",
      "t2 scores 1\n",
      "Hand #12- Dealer: p2; Player Hands: {'p1': ['J_D', 'T_S', 'J_C', '9_D', 'K_H'], 'p2': ['A_S', 'J_S', 'J_H', 'K_C', '9_C'], 'p3': ['T_C', 'T_H', '9_H', 'Q_D', 'K_S'], 'p4': ['Q_S', 'K_D', '9_S', 'Q_H', 'T_D']}\n",
      "Card flipped up: Q_C\n",
      "Trump not found\n",
      "Hand #12- Dealer: p3; Player Hands: {'p1': ['9_H', 'K_S', 'J_C', 'K_D', '9_S'], 'p2': ['J_D', 'K_H', 'K_C', 'Q_S', 'Q_C'], 'p3': ['9_C', 'T_C', 'T_H', 'T_D', 'J_S'], 'p4': ['Q_H', 'Q_D', 'T_S', 'A_S', '9_D']}\n",
      "Card flipped up: J_H\n",
      "Trump not found\n",
      "Hand #12- Dealer: p4; Player Hands: {'p1': ['K_C', 'K_D', 'T_S', 'T_D', 'J_H'], 'p2': ['Q_C', 'K_S', 'Q_D', '9_S', '9_D'], 'p3': ['J_C', 'Q_H', 'J_S', 'T_H', 'A_S'], 'p4': ['J_D', '9_C', 'Q_S', 'T_C', '9_H']}\n",
      "Card flipped up: K_H\n",
      "Trump not found\n",
      "Hand #12- Dealer: p1; Player Hands: {'p1': ['A_S', 'J_S', 'J_H', 'T_S', '9_D'], 'p2': ['Q_H', 'Q_S', 'Q_D', 'K_C', 'T_D'], 'p3': ['T_C', '9_S', 'Q_C', '9_H', 'J_C'], 'p4': ['K_H', 'T_H', '9_C', 'K_D', 'K_S']}\n",
      "Card flipped up: J_D\n",
      "Player p3 has chosen C as trump\n",
      "Trick 0: Leading with highest non-trump- Player p2 plays Q_H, Current winning player p2\n",
      "Following suit with lowest non-trump card- Player p3 plays 9_H, Current winning player p2\n",
      "Teammate winning, following suit w/ lowest card- Player p4 plays T_H, Current winning player p2\n",
      "Following suit with lowest non-trump card- Player p1 plays J_H, p2 wins trick\n",
      "Trick 1: Leading with highest non-trump- Player p2 plays Q_S, Current winning player p2\n",
      "Following suit with lowest non-trump card- Player p3 plays 9_S, Current winning player p2\n",
      "Teammate winning, following suit w/ lowest card- Player p4 plays K_S, Current winning player p4\n",
      "Following suit with lowest non-trump card- Player p1 plays T_S, p4 wins trick\n",
      "Trick 2: Leading with highest non-trump- Player p4 plays K_H, Current winning player p4\n",
      "Lowest trump card- Player p1 plays J_S, Current winning player p1\n",
      "Lowest trump card- Player p2 plays K_C, Current winning player p1\n",
      "Teammate winning, no follow suit, play lowest card- Player p3 plays T_C, p1 wins trick\n",
      "Trick 3: Leading with highest non-trump- Player p1 plays A_S, Current winning player p1\n",
      "No trump, playing lowest card in hand- Player p2 plays T_D, Current winning player p1\n",
      "Teammate winning, no follow suit, play lowest card- Player p3 plays J_C, Current winning player p3\n",
      "Lowest trump card- Player p4 plays 9_C, p3 wins trick\n",
      "Trick 4: Last card- Player p3 plays Q_C, Last card- Player p4 plays K_D, Last card- Player p1 plays 9_D, Last card- Player p2 plays Q_D, p3 wins trick\n",
      "Trick winners: {'p2': 1, 'p3': 2, 'p4': 1, 'p1': 1}\n",
      "t1 scores 1\n",
      "Hand #13- Dealer: p2; Player Hands: {'p1': ['J_S', 'T_H', 'Q_C', 'Q_S', '9_D'], 'p2': ['K_S', '9_C', 'K_C', 'T_D', 'J_D'], 'p3': ['J_H', 'T_C', 'J_C', 'A_S', '9_H'], 'p4': ['K_D', 'Q_H', '9_S', 'Q_D', 'K_H']}\n",
      "Card flipped up: T_S\n",
      "Trump not found\n",
      "Hand #13- Dealer: p3; Player Hands: {'p1': ['K_C', 'Q_D', 'T_D', '9_C', 'K_S'], 'p2': ['9_S', 'K_H', 'J_H', '9_H', '9_D'], 'p3': ['J_D', 'T_C', 'J_C', 'T_S', 'Q_H'], 'p4': ['Q_S', 'A_S', 'J_S', 'T_H', 'Q_C']}\n",
      "Card flipped up: K_D\n",
      "Player p4 has chosen S as trump\n",
      "Trick 0: Leading with highest trump card remaining- Trump cards remaining ['J_S', 'J_C', 'A_S', 'K_S', 'Q_S', 'T_S', '9_S']- Player p4 plays J_S, Current winning player p4\n",
      "Following suit with lowest trump card- Player p1 plays K_S, Current winning player p4\n",
      "Teammate winning, following suit w/ lowest trump card- Player p2 plays 9_S, Current winning player p4\n",
      "Following suit with lowest trump card- Player p3 plays T_S, p4 wins trick\n",
      "Trick 1: Leading with highest non-trump- Player p4 plays Q_C, Current winning player p4\n",
      "Following suit with lowest non-trump card- Player p1 plays 9_C, Current winning player p4\n",
      "Teammate winning, no follow suit, play lowest card- Player p2 plays 9_H, Current winning player p4\n",
      "Following suit with lowest non-trump card- Player p3 plays T_C, p4 wins trick\n",
      "Trick 2: Leading with highest non-trump- Player p4 plays T_H, Current winning player p4\n",
      "No trump, playing lowest card in hand- Player p1 plays T_D, Current winning player p4\n",
      "Teammate winning, following suit w/ lowest card- Player p2 plays J_H, Current winning player p2\n",
      "Following suit with lowest non-trump card- Player p3 plays Q_H, p3 wins trick\n",
      "Trick 3: Leading with highest trump card remaining- Trump cards remaining ['J_C', 'A_S', 'Q_S']- Player p3 plays J_C, Current winning player p3\n",
      "Following suit with lowest trump card- Player p4 plays Q_S, Current winning player p3\n",
      "Teammate winning, no trump, play lowest card- Player p1 plays Q_D, Current winning player p3\n",
      "No trump, playing lowest card in hand- Player p2 plays 9_D, p3 wins trick\n",
      "Trick 4: Last card- Player p3 plays J_D, Last card- Player p4 plays A_S, Last card- Player p1 plays K_C, Last card- Player p2 plays K_H, p4 wins trick\n",
      "Trick winners: {'p4': 3, 'p1': 0, 'p2': 0, 'p3': 2}\n",
      "t2 scores 1\n",
      "Hand #14- Dealer: p4; Player Hands: {'p1': ['Q_D', 'Q_H', '9_S', 'Q_S', 'J_H'], 'p2': ['K_S', 'T_H', 'K_D', 'T_S', 'J_D'], 'p3': ['9_H', 'J_C', 'T_C', '9_C', 'T_D'], 'p4': ['9_D', 'Q_C', 'A_S', 'K_C', 'J_S']}\n",
      "Card flipped up: K_H\n",
      "Player p3 has chosen C as trump\n",
      "Trick 0: Leading with highest non-trump- Player p1 plays Q_D, Current winning player p1\n",
      "Following suit with lowest non-trump card- Player p2 plays J_D, Current winning player p1\n",
      "Teammate winning, following suit w/ lowest card- Player p3 plays T_D, Current winning player p1\n",
      "Following suit with lowest non-trump card- Player p4 plays 9_D, p1 wins trick\n",
      "Trick 1: Leading with highest non-trump- Player p1 plays Q_H, Current winning player p1\n",
      "Following suit with lowest non-trump card- Player p2 plays T_H, Current winning player p1\n",
      "Teammate winning, following suit w/ lowest card- Player p3 plays 9_H, Current winning player p1\n",
      "Lowest trump card- Player p4 plays Q_C, p4 wins trick\n",
      "Trick 2: Leading with highest non-trump- Player p4 plays A_S, Current winning player p4\n",
      "Following suit with lowest non-trump card- Player p1 plays 9_S, Current winning player p4\n",
      "Teammate winning, following suit w/ lowest card- Player p2 plays T_S, Current winning player p4\n",
      "Lowest trump card- Player p3 plays 9_C, p3 wins trick\n",
      "Trick 3: Leading with highest trump card remaining- Trump cards remaining ['J_C', 'J_S', 'A_C', 'K_C', 'T_C']- Player p3 plays J_C, Current winning player p3\n",
      "Following suit with lowest trump card- Player p4 plays K_C, Current winning player p3\n",
      "Teammate winning, no trump, play lowest card- Player p1 plays J_H, Current winning player p3\n",
      "No trump, playing lowest card in hand- Player p2 plays K_S, p3 wins trick\n",
      "Trick 4: Last card- Player p3 plays T_C, Last card- Player p4 plays J_S, Last card- Player p1 plays Q_S, Last card- Player p2 plays K_D, p4 wins trick\n",
      "Trick winners: {'p1': 1, 'p2': 0, 'p3': 2, 'p4': 2}\n",
      "t1 scores 1\n",
      "Total hands played 15\n",
      "Wall time: 77.1 ms\n"
     ]
    }
   ],
   "source": [
    "%%time\n",
    "\n",
    "euchre_game = EuchreGame()\n",
    "euchre_game.play_full_game(verbose=True)"
   ]
  },
  {
   "cell_type": "code",
   "execution_count": 91,
   "id": "06225cf9",
   "metadata": {},
   "outputs": [
    {
     "data": {
      "text/plain": [
       "{'t1': 8, 't2': 11}"
      ]
     },
     "execution_count": 91,
     "metadata": {},
     "output_type": "execute_result"
    }
   ],
   "source": [
    "euchre_game.score"
   ]
  },
  {
   "cell_type": "code",
   "execution_count": null,
   "id": "4defa0c3",
   "metadata": {},
   "outputs": [],
   "source": []
  },
  {
   "cell_type": "code",
   "execution_count": null,
   "id": "d7fffa15",
   "metadata": {},
   "outputs": [],
   "source": []
  },
  {
   "cell_type": "markdown",
   "id": "2f4c6b11",
   "metadata": {},
   "source": [
    "#### Profile performance"
   ]
  },
  {
   "cell_type": "code",
   "execution_count": 93,
   "id": "2e3c6ada",
   "metadata": {},
   "outputs": [
    {
     "name": "stdout",
     "output_type": "stream",
     "text": [
      " "
     ]
    }
   ],
   "source": [
    "%%prun\n",
    "\n",
    "euchre_game = EuchreGame()\n",
    "euchre_game.play_full_game(verbose=False)"
   ]
  },
  {
   "cell_type": "code",
   "execution_count": null,
   "id": "cf06f1cc",
   "metadata": {},
   "outputs": [],
   "source": []
  },
  {
   "cell_type": "markdown",
   "id": "74dd206b",
   "metadata": {},
   "source": [
    "### Loop through games played, collect strategy results"
   ]
  },
  {
   "cell_type": "code",
   "execution_count": 94,
   "id": "33285b70",
   "metadata": {},
   "outputs": [],
   "source": [
    "from scipy.stats import ttest_ind"
   ]
  },
  {
   "cell_type": "code",
   "execution_count": 97,
   "id": "5b775975",
   "metadata": {
    "scrolled": true
   },
   "outputs": [
    {
     "name": "stdout",
     "output_type": "stream",
     "text": [
      "Wall time: 6.85 s\n"
     ]
    }
   ],
   "source": [
    "%%time\n",
    "\n",
    "N_GAMES_TO_PLAY = 1000\n",
    "\n",
    "strategy_results = {'t1_wins':0, 't1_scores':[], 't2_scores':[]}\n",
    "\n",
    "for i in range(N_GAMES_TO_PLAY):\n",
    "    euchre_game = EuchreGame()\n",
    "    # euchre_game.tm_call_trump_strategy['t1'] = 'NEW'  # set team 2 call trump strategy to NEW\n",
    "    # euchre_game.tm_call_trump_strategy['t2'] = 'always'  # set team 2 call trump strategy to always\n",
    "    euchre_game.tm_play_card_strategy['t2'] = 'random'  # set team 2 play card strategy to random\n",
    "    euchre_game.play_full_game(verbose=False)\n",
    "    if euchre_game.score['t1'] > euchre_game.score['t2']:\n",
    "        strategy_results['t1_wins'] += 1\n",
    "    strategy_results['t1_scores'].append(euchre_game.score['t1'])\n",
    "    strategy_results['t2_scores'].append(euchre_game.score['t2'])"
   ]
  },
  {
   "cell_type": "code",
   "execution_count": 98,
   "id": "39becd99",
   "metadata": {},
   "outputs": [
    {
     "name": "stdout",
     "output_type": "stream",
     "text": [
      "Team 1 strategy won 686/1000 games (68.60000000000001%)\n"
     ]
    }
   ],
   "source": [
    "print(f\"\"\"Team 1 strategy won {strategy_results['t1_wins']}/{N_GAMES_TO_PLAY} games \\\n",
    "({strategy_results['t1_wins']/N_GAMES_TO_PLAY*100}%)\"\"\")"
   ]
  },
  {
   "cell_type": "markdown",
   "id": "31edc0a5",
   "metadata": {},
   "source": [
    "#### T-test for statistically significant difference in means between t1 and t2 scores"
   ]
  },
  {
   "cell_type": "code",
   "execution_count": 99,
   "id": "b2c98fce",
   "metadata": {},
   "outputs": [
    {
     "data": {
      "text/plain": [
       "Ttest_indResult(statistic=17.331214290220757, pvalue=8.476446967081405e-63)"
      ]
     },
     "execution_count": 99,
     "metadata": {},
     "output_type": "execute_result"
    }
   ],
   "source": [
    "ttest_ind(strategy_results['t1_scores'], strategy_results['t2_scores'])"
   ]
  },
  {
   "cell_type": "markdown",
   "id": "3b1ab955",
   "metadata": {},
   "source": [
    "### Plot results"
   ]
  },
  {
   "cell_type": "code",
   "execution_count": 100,
   "id": "7c91c1d0",
   "metadata": {},
   "outputs": [],
   "source": [
    "import matplotlib.pyplot as plt"
   ]
  },
  {
   "cell_type": "code",
   "execution_count": 101,
   "id": "5106967d",
   "metadata": {},
   "outputs": [
    {
     "data": {
      "text/plain": [
       "<matplotlib.legend.Legend at 0x184824685e0>"
      ]
     },
     "execution_count": 101,
     "metadata": {},
     "output_type": "execute_result"
    },
    {
     "data": {
      "image/png": "[encoded data removed]",
      "text/plain": [
       "<Figure size 432x288 with 1 Axes>"
      ]
     },
     "metadata": {},
     "output_type": "display_data"
    }
   ],
   "source": [
    "plt.style.use('ggplot')\n",
    "plt.hist(strategy_results['t1_scores'], bins=23, alpha=0.5, label='t1_scores')\n",
    "plt.hist(strategy_results['t2_scores'], bins=23, alpha=0.5, label='t2_scores')\n",
    "plt.legend(loc='upper left')"
   ]
  },
  {
   "cell_type": "code",
   "execution_count": null,
   "id": "cb87806f",
   "metadata": {},
   "outputs": [],
   "source": []
  },
  {
   "cell_type": "code",
   "execution_count": null,
   "id": "da61b9d6",
   "metadata": {},
   "outputs": [],
   "source": []
  },
  {
   "cell_type": "code",
   "execution_count": null,
   "id": "6a482a87",
   "metadata": {},
   "outputs": [],
   "source": []
  },
  {
   "cell_type": "markdown",
   "id": "16dd92be",
   "metadata": {},
   "source": [
    "## Loop through games played, collect hand_results"
   ]
  },
  {
   "cell_type": "code",
   "execution_count": 102,
   "id": "a61703b6",
   "metadata": {},
   "outputs": [
    {
     "data": {
      "text/plain": [
       "{'player_hands': {'p1': ['J_S', '9_S', 'T_D', 'K_H', '9_H'],\n",
       "  'p2': ['Q_H', 'T_H', 'Q_D', 'Q_C', 'J_H'],\n",
       "  'p3': ['T_S', 'T_C', 'J_C', 'K_S', 'A_S'],\n",
       "  'p4': ['Q_S', 'K_D', 'K_C', '9_C', '9_D']},\n",
       " 'calling_player': 'p2',\n",
       " 'trump': 'H',\n",
       " 'dealer': 'p1',\n",
       " 'hand_score': {'t1': 0, 't2': 1},\n",
       " 'trick_winners': {'p2': 3, 'p3': 0, 'p4': 0, 'p1': 2}}"
      ]
     },
     "execution_count": 102,
     "metadata": {},
     "output_type": "execute_result"
    }
   ],
   "source": [
    "euchre_game = EuchreGame()\n",
    "hand_results = euchre_game.play_full_game(return_all_hands_results=True, verbose=False)\n",
    "hand_results[0]"
   ]
  },
  {
   "cell_type": "code",
   "execution_count": 200,
   "id": "21b95861",
   "metadata": {},
   "outputs": [],
   "source": [
    "import pandas as pd"
   ]
  },
  {
   "cell_type": "code",
   "execution_count": 212,
   "id": "8da5102b",
   "metadata": {},
   "outputs": [
    {
     "data": {
      "text/plain": [
       "['p1', 'p2', 'p3', 'p4']"
      ]
     },
     "execution_count": 212,
     "metadata": {},
     "output_type": "execute_result"
    }
   ],
   "source": [
    "euchre_game.get_next_trick_order('p1')"
   ]
  },
  {
   "cell_type": "code",
   "execution_count": 201,
   "id": "c58305cd",
   "metadata": {},
   "outputs": [],
   "source": [
    "from utils import return_off_suit, get_teammate"
   ]
  },
  {
   "cell_type": "code",
   "execution_count": 204,
   "id": "15a32ab1",
   "metadata": {},
   "outputs": [],
   "source": [
    "# TODO: add number of suits\n",
    "\n",
    "def return_df_from_hand_results(hand_results_dict):\n",
    "    fields_to_collect = ['tricks_won',\n",
    "                         'is_calling_player',\n",
    "                         'teammate_called',\n",
    "                         'has_right', \n",
    "                         'has_left',\n",
    "                         'has_Atrump',\n",
    "                         'has_Ktrump',\n",
    "                         'has_Qtrump',\n",
    "                         'has_Ttrump',\n",
    "                         'has_9trump',\n",
    "                         'num_off_A',\n",
    "                         'num_off_K',\n",
    "                         'num_off_Q']\n",
    "    results_list = []\n",
    "    for player in hand_results_dict['trick_winners'].keys():\n",
    "        player_hand_results = dict.fromkeys(fields_to_collect,0)\n",
    "        player_hand_results['tricks_won'] = hand_results_dict['trick_winners'][player]\n",
    "        player_hand_results['partner_tricks'] = hand_results_dict['trick_winners'][get_teammate(player)]\n",
    "        if player == hand_results_dict['calling_player']:\n",
    "            player_hand_results['is_calling_player'] = 1\n",
    "        if get_teammate(player) == hand_results_dict['calling_player']:\n",
    "            player_hand_results['teammate_called'] = 1\n",
    "        for idx, card in enumerate(hand_results_dict['player_hands'][player]):\n",
    "            if card[-1] == hand_results_dict['trump']:\n",
    "                if card[0] == 'A':\n",
    "                    player_hand_results['has_Atrump'] = 1\n",
    "                if card[0] == 'K':\n",
    "                    player_hand_results['has_Ktrump'] = 1\n",
    "                if card[0] == 'Q':\n",
    "                    player_hand_results['has_Qtrump'] = 1\n",
    "                if card[0] == 'J':\n",
    "                    player_hand_results['has_right'] = 1\n",
    "                if card[0] == 'T':\n",
    "                    player_hand_results['has_Ttrump'] = 1\n",
    "                if card[0] == '9':\n",
    "                    player_hand_results['has_9trump'] = 1\n",
    "            else:\n",
    "                if card[0] == 'A':\n",
    "                    player_hand_results['num_off_A'] += 1\n",
    "                if card[0] == 'K':\n",
    "                    player_hand_results['num_off_K'] += 1\n",
    "                if card[0] == 'Q':\n",
    "                    player_hand_results['num_off_Q'] += 1\n",
    "                if card[0] == 'J':\n",
    "                    if return_off_suit(card[-1]) == hand_results_dict['trump']:\n",
    "                        player_hand_results['has_left'] = 1\n",
    "        results_list.append(player_hand_results)\n",
    "    return pd.DataFrame(results_list)"
   ]
  },
  {
   "cell_type": "code",
   "execution_count": null,
   "id": "7183dbe0",
   "metadata": {},
   "outputs": [],
   "source": []
  },
  {
   "cell_type": "code",
   "execution_count": 205,
   "id": "e3f5e79b",
   "metadata": {},
   "outputs": [
    {
     "name": "stdout",
     "output_type": "stream",
     "text": [
      "Wall time: 2.26 s\n"
     ]
    }
   ],
   "source": [
    "%%time\n",
    "\n",
    "N_GAMES_TO_PLAY = 100\n",
    "\n",
    "all_hand_results_df = pd.DataFrame()\n",
    "for i in range(N_GAMES_TO_PLAY):\n",
    "    euchre_game = EuchreGame()\n",
    "    hand_results = euchre_game.play_full_game(return_all_hands_results=True, verbose=False)\n",
    "    game_results_df = pd.DataFrame()\n",
    "    for hand in hand_results:\n",
    "        hand_results_df = return_df_from_hand_results(hand)\n",
    "        game_results_df = pd.concat([game_results_df, hand_results_df])\n",
    "    all_hand_results_df = pd.concat([all_hand_results_df, game_results_df])"
   ]
  },
  {
   "cell_type": "code",
   "execution_count": 206,
   "id": "40be9e20",
   "metadata": {},
   "outputs": [
    {
     "data": {
      "text/plain": [
       "(4704, 14)"
      ]
     },
     "execution_count": 206,
     "metadata": {},
     "output_type": "execute_result"
    }
   ],
   "source": [
    "all_hand_results_df.shape"
   ]
  },
  {
   "cell_type": "code",
   "execution_count": 207,
   "id": "e95a8a76",
   "metadata": {},
   "outputs": [
    {
     "data": {
      "text/html": [
       "<div>\n",
       "<style scoped>\n",
       "    .dataframe tbody tr th:only-of-type {\n",
       "        vertical-align: middle;\n",
       "    }\n",
       "\n",
       "    .dataframe tbody tr th {\n",
       "        vertical-align: top;\n",
       "    }\n",
       "\n",
       "    .dataframe thead th {\n",
       "        text-align: right;\n",
       "    }\n",
       "</style>\n",
       "<table border=\"1\" class=\"dataframe\">\n",
       "  <thead>\n",
       "    <tr style=\"text-align: right;\">\n",
       "      <th></th>\n",
       "      <th>tricks_won</th>\n",
       "      <th>is_calling_player</th>\n",
       "      <th>teammate_called</th>\n",
       "      <th>has_right</th>\n",
       "      <th>has_left</th>\n",
       "      <th>has_Atrump</th>\n",
       "      <th>has_Ktrump</th>\n",
       "      <th>has_Qtrump</th>\n",
       "      <th>has_Ttrump</th>\n",
       "      <th>has_9trump</th>\n",
       "      <th>num_off_A</th>\n",
       "      <th>num_off_K</th>\n",
       "      <th>num_off_Q</th>\n",
       "      <th>partner_tricks</th>\n",
       "    </tr>\n",
       "  </thead>\n",
       "  <tbody>\n",
       "    <tr>\n",
       "      <th>1</th>\n",
       "      <td>5</td>\n",
       "      <td>1</td>\n",
       "      <td>0</td>\n",
       "      <td>1</td>\n",
       "      <td>0</td>\n",
       "      <td>0</td>\n",
       "      <td>0</td>\n",
       "      <td>1</td>\n",
       "      <td>0</td>\n",
       "      <td>1</td>\n",
       "      <td>0</td>\n",
       "      <td>1</td>\n",
       "      <td>1</td>\n",
       "      <td>0</td>\n",
       "    </tr>\n",
       "    <tr>\n",
       "      <th>3</th>\n",
       "      <td>5</td>\n",
       "      <td>1</td>\n",
       "      <td>0</td>\n",
       "      <td>1</td>\n",
       "      <td>0</td>\n",
       "      <td>1</td>\n",
       "      <td>0</td>\n",
       "      <td>1</td>\n",
       "      <td>1</td>\n",
       "      <td>0</td>\n",
       "      <td>0</td>\n",
       "      <td>1</td>\n",
       "      <td>0</td>\n",
       "      <td>0</td>\n",
       "    </tr>\n",
       "    <tr>\n",
       "      <th>3</th>\n",
       "      <td>5</td>\n",
       "      <td>1</td>\n",
       "      <td>0</td>\n",
       "      <td>1</td>\n",
       "      <td>0</td>\n",
       "      <td>0</td>\n",
       "      <td>1</td>\n",
       "      <td>0</td>\n",
       "      <td>1</td>\n",
       "      <td>0</td>\n",
       "      <td>0</td>\n",
       "      <td>1</td>\n",
       "      <td>1</td>\n",
       "      <td>0</td>\n",
       "    </tr>\n",
       "    <tr>\n",
       "      <th>1</th>\n",
       "      <td>5</td>\n",
       "      <td>1</td>\n",
       "      <td>0</td>\n",
       "      <td>1</td>\n",
       "      <td>1</td>\n",
       "      <td>0</td>\n",
       "      <td>0</td>\n",
       "      <td>1</td>\n",
       "      <td>0</td>\n",
       "      <td>1</td>\n",
       "      <td>0</td>\n",
       "      <td>1</td>\n",
       "      <td>0</td>\n",
       "      <td>0</td>\n",
       "    </tr>\n",
       "    <tr>\n",
       "      <th>3</th>\n",
       "      <td>5</td>\n",
       "      <td>1</td>\n",
       "      <td>0</td>\n",
       "      <td>1</td>\n",
       "      <td>1</td>\n",
       "      <td>0</td>\n",
       "      <td>1</td>\n",
       "      <td>1</td>\n",
       "      <td>0</td>\n",
       "      <td>0</td>\n",
       "      <td>0</td>\n",
       "      <td>1</td>\n",
       "      <td>0</td>\n",
       "      <td>0</td>\n",
       "    </tr>\n",
       "    <tr>\n",
       "      <th>0</th>\n",
       "      <td>5</td>\n",
       "      <td>1</td>\n",
       "      <td>0</td>\n",
       "      <td>1</td>\n",
       "      <td>0</td>\n",
       "      <td>0</td>\n",
       "      <td>1</td>\n",
       "      <td>1</td>\n",
       "      <td>0</td>\n",
       "      <td>0</td>\n",
       "      <td>0</td>\n",
       "      <td>1</td>\n",
       "      <td>1</td>\n",
       "      <td>0</td>\n",
       "    </tr>\n",
       "    <tr>\n",
       "      <th>3</th>\n",
       "      <td>5</td>\n",
       "      <td>1</td>\n",
       "      <td>0</td>\n",
       "      <td>0</td>\n",
       "      <td>0</td>\n",
       "      <td>0</td>\n",
       "      <td>1</td>\n",
       "      <td>0</td>\n",
       "      <td>1</td>\n",
       "      <td>0</td>\n",
       "      <td>1</td>\n",
       "      <td>0</td>\n",
       "      <td>1</td>\n",
       "      <td>0</td>\n",
       "    </tr>\n",
       "    <tr>\n",
       "      <th>0</th>\n",
       "      <td>5</td>\n",
       "      <td>1</td>\n",
       "      <td>0</td>\n",
       "      <td>1</td>\n",
       "      <td>0</td>\n",
       "      <td>0</td>\n",
       "      <td>1</td>\n",
       "      <td>1</td>\n",
       "      <td>0</td>\n",
       "      <td>0</td>\n",
       "      <td>0</td>\n",
       "      <td>2</td>\n",
       "      <td>0</td>\n",
       "      <td>0</td>\n",
       "    </tr>\n",
       "    <tr>\n",
       "      <th>2</th>\n",
       "      <td>5</td>\n",
       "      <td>1</td>\n",
       "      <td>0</td>\n",
       "      <td>1</td>\n",
       "      <td>0</td>\n",
       "      <td>0</td>\n",
       "      <td>0</td>\n",
       "      <td>1</td>\n",
       "      <td>1</td>\n",
       "      <td>1</td>\n",
       "      <td>1</td>\n",
       "      <td>0</td>\n",
       "      <td>0</td>\n",
       "      <td>0</td>\n",
       "    </tr>\n",
       "    <tr>\n",
       "      <th>1</th>\n",
       "      <td>5</td>\n",
       "      <td>1</td>\n",
       "      <td>0</td>\n",
       "      <td>1</td>\n",
       "      <td>1</td>\n",
       "      <td>0</td>\n",
       "      <td>1</td>\n",
       "      <td>1</td>\n",
       "      <td>0</td>\n",
       "      <td>0</td>\n",
       "      <td>0</td>\n",
       "      <td>1</td>\n",
       "      <td>0</td>\n",
       "      <td>0</td>\n",
       "    </tr>\n",
       "  </tbody>\n",
       "</table>\n",
       "</div>"
      ],
      "text/plain": [
       "   tricks_won  is_calling_player  teammate_called  has_right  has_left  \\\n",
       "1           5                  1                0          1         0   \n",
       "3           5                  1                0          1         0   \n",
       "3           5                  1                0          1         0   \n",
       "1           5                  1                0          1         1   \n",
       "3           5                  1                0          1         1   \n",
       "0           5                  1                0          1         0   \n",
       "3           5                  1                0          0         0   \n",
       "0           5                  1                0          1         0   \n",
       "2           5                  1                0          1         0   \n",
       "1           5                  1                0          1         1   \n",
       "\n",
       "   has_Atrump  has_Ktrump  has_Qtrump  has_Ttrump  has_9trump  num_off_A  \\\n",
       "1           0           0           1           0           1          0   \n",
       "3           1           0           1           1           0          0   \n",
       "3           0           1           0           1           0          0   \n",
       "1           0           0           1           0           1          0   \n",
       "3           0           1           1           0           0          0   \n",
       "0           0           1           1           0           0          0   \n",
       "3           0           1           0           1           0          1   \n",
       "0           0           1           1           0           0          0   \n",
       "2           0           0           1           1           1          1   \n",
       "1           0           1           1           0           0          0   \n",
       "\n",
       "   num_off_K  num_off_Q  partner_tricks  \n",
       "1          1          1               0  \n",
       "3          1          0               0  \n",
       "3          1          1               0  \n",
       "1          1          0               0  \n",
       "3          1          0               0  \n",
       "0          1          1               0  \n",
       "3          0          1               0  \n",
       "0          2          0               0  \n",
       "2          0          0               0  \n",
       "1          1          0               0  "
      ]
     },
     "execution_count": 207,
     "metadata": {},
     "output_type": "execute_result"
    }
   ],
   "source": [
    "all_hand_results_df.sort_values('tricks_won', ascending=False).head(10)"
   ]
  },
  {
   "cell_type": "code",
   "execution_count": 208,
   "id": "5e535936",
   "metadata": {},
   "outputs": [],
   "source": [
    "# check hand with right bauer didn't take 0 tricks\n",
    "assert all_hand_results_df[(all_hand_results_df['tricks_won']==0) & (all_hand_results_df['has_right']==1)].shape[0] == 0"
   ]
  },
  {
   "cell_type": "code",
   "execution_count": 209,
   "id": "d96e77ac",
   "metadata": {},
   "outputs": [],
   "source": [
    "# check hands with right and left didn't ever take less than 2 tricks\n",
    "assert all_hand_results_df[(all_hand_results_df['tricks_won']<2) & \n",
    "                           (all_hand_results_df['has_right']==1) & \n",
    "                           (all_hand_results_df['has_left']==1)].shape[0] == 0"
   ]
  },
  {
   "cell_type": "code",
   "execution_count": 210,
   "id": "18edc846",
   "metadata": {},
   "outputs": [],
   "source": [
    "# check hands with right and left and Atrump didn't ever take less than 3 tricks\n",
    "assert all_hand_results_df[(all_hand_results_df['tricks_won']<3) & \n",
    "                           (all_hand_results_df['has_right']==1) & \n",
    "                           (all_hand_results_df['has_left']==1) & \n",
    "                           (all_hand_results_df['has_Atrump']==1)].shape[0] == 0"
   ]
  },
  {
   "cell_type": "code",
   "execution_count": 211,
   "id": "13391542",
   "metadata": {},
   "outputs": [
    {
     "data": {
      "text/html": [
       "<div>\n",
       "<style scoped>\n",
       "    .dataframe tbody tr th:only-of-type {\n",
       "        vertical-align: middle;\n",
       "    }\n",
       "\n",
       "    .dataframe tbody tr th {\n",
       "        vertical-align: top;\n",
       "    }\n",
       "\n",
       "    .dataframe thead th {\n",
       "        text-align: right;\n",
       "    }\n",
       "</style>\n",
       "<table border=\"1\" class=\"dataframe\">\n",
       "  <thead>\n",
       "    <tr style=\"text-align: right;\">\n",
       "      <th></th>\n",
       "      <th></th>\n",
       "      <th></th>\n",
       "      <th>avg_tricks</th>\n",
       "      <th>num_hands</th>\n",
       "    </tr>\n",
       "    <tr>\n",
       "      <th>has_right</th>\n",
       "      <th>has_left</th>\n",
       "      <th>has_Atrump</th>\n",
       "      <th></th>\n",
       "      <th></th>\n",
       "    </tr>\n",
       "  </thead>\n",
       "  <tbody>\n",
       "    <tr>\n",
       "      <th rowspan=\"4\" valign=\"top\">0</th>\n",
       "      <th rowspan=\"2\" valign=\"top\">0</th>\n",
       "      <th>0</th>\n",
       "      <td>0.667494</td>\n",
       "      <td>2418</td>\n",
       "    </tr>\n",
       "    <tr>\n",
       "      <th>1</th>\n",
       "      <td>1.416357</td>\n",
       "      <td>269</td>\n",
       "    </tr>\n",
       "    <tr>\n",
       "      <th rowspan=\"2\" valign=\"top\">1</th>\n",
       "      <th>0</th>\n",
       "      <td>1.075221</td>\n",
       "      <td>904</td>\n",
       "    </tr>\n",
       "    <tr>\n",
       "      <th>1</th>\n",
       "      <td>2.178571</td>\n",
       "      <td>56</td>\n",
       "    </tr>\n",
       "    <tr>\n",
       "      <th rowspan=\"4\" valign=\"top\">1</th>\n",
       "      <th rowspan=\"2\" valign=\"top\">0</th>\n",
       "      <th>0</th>\n",
       "      <td>2.440461</td>\n",
       "      <td>781</td>\n",
       "    </tr>\n",
       "    <tr>\n",
       "      <th>1</th>\n",
       "      <td>2.970588</td>\n",
       "      <td>102</td>\n",
       "    </tr>\n",
       "    <tr>\n",
       "      <th rowspan=\"2\" valign=\"top\">1</th>\n",
       "      <th>0</th>\n",
       "      <td>3.245283</td>\n",
       "      <td>159</td>\n",
       "    </tr>\n",
       "    <tr>\n",
       "      <th>1</th>\n",
       "      <td>4.400000</td>\n",
       "      <td>15</td>\n",
       "    </tr>\n",
       "  </tbody>\n",
       "</table>\n",
       "</div>"
      ],
      "text/plain": [
       "                               avg_tricks  num_hands\n",
       "has_right has_left has_Atrump                       \n",
       "0         0        0             0.667494       2418\n",
       "                   1             1.416357        269\n",
       "          1        0             1.075221        904\n",
       "                   1             2.178571         56\n",
       "1         0        0             2.440461        781\n",
       "                   1             2.970588        102\n",
       "          1        0             3.245283        159\n",
       "                   1             4.400000         15"
      ]
     },
     "execution_count": 211,
     "metadata": {},
     "output_type": "execute_result"
    }
   ],
   "source": [
    "all_hand_results_df.groupby(['has_right', \n",
    "                             'has_left', \n",
    "                            'has_Atrump', \n",
    "                            #'has_Ktrump', \n",
    "                            # 'has_Qtrump'\n",
    "                            ]).agg(avg_tricks=('tricks_won', 'mean'), num_hands=('has_right','count'))"
   ]
  },
  {
   "cell_type": "code",
   "execution_count": null,
   "id": "d8294a7c",
   "metadata": {},
   "outputs": [],
   "source": []
  },
  {
   "cell_type": "code",
   "execution_count": null,
   "id": "7abfab12",
   "metadata": {},
   "outputs": [],
   "source": []
  },
  {
   "cell_type": "markdown",
   "id": "bea620d0",
   "metadata": {},
   "source": [
    "#### Write out all hand results to csv local"
   ]
  },
  {
   "cell_type": "code",
   "execution_count": null,
   "id": "1a11ddda",
   "metadata": {},
   "outputs": [],
   "source": [
    "pwd"
   ]
  },
  {
   "cell_type": "code",
   "execution_count": null,
   "id": "e66d959a",
   "metadata": {},
   "outputs": [],
   "source": [
    "all_hand_results_df.to_csv('all_hand_results.csv', index=False)"
   ]
  },
  {
   "cell_type": "code",
   "execution_count": null,
   "id": "31043e90",
   "metadata": {},
   "outputs": [],
   "source": []
  },
  {
   "cell_type": "code",
   "execution_count": null,
   "id": "d72fee66",
   "metadata": {},
   "outputs": [],
   "source": []
  },
  {
   "cell_type": "markdown",
   "id": "c66348f3",
   "metadata": {},
   "source": [
    "### Next steps for development"
   ]
  },
  {
   "cell_type": "code",
   "execution_count": null,
   "id": "e2bb4616",
   "metadata": {},
   "outputs": [],
   "source": [
    "# Build out play card strategy\n",
    "    # add logic to check what cards have been played in hand so far\n",
    "        # update cards_played_this_hand to dict to be able to tell which players played which cards?\n",
    "        # player_short_suits_dict - keep track of what players don't have what suits based on following suit\n",
    "    # replace find_highest_remaining_trump with list of unplayed trump cards each hand\n",
    "# Build out framework to evaluate statistical significance of different strategies\n",
    "    # chart overlapping histograms of points scored for different strategies across hands\n",
    "# Handle loners\n",
    "    # add functionality to determine trump to check loner strategy, return loner_called boolean to play_hand\n",
    "        # start with strategy to call loner when right/left and 4 total trump\n",
    "    # update play_trick to pass in loner_called, remove partner of calling_player from next_to_play_list\n",
    "    # update update_score function to take in loner_called parameter, return scores for loners\n",
    "# Evaluate points scored for each hand type for each game\n",
    "# Build advanced strategy for play_lead_card function to reduce number of suits in hand, play toward partner short-suits\n",
    "# Build model to predict tricks taken from all_hand_results_df as training data set\n",
    "# Code cleanup\n",
    "    # Add tests, comments to all functions\n",
    "\n",
    "# Look at combinations of exactly unique hands, vs. unique types of hands\n",
    "\n",
    "# Add consideration of calling up trump to include if partner is dealer, if player is dealer\n",
    "# Add consideration of calling up trump to how high the card_flipped_up is - more likely if 9,T, less if J\n",
    "\n",
    "# Can you \"count on your partner for 1\"? What is the average number of tricks taken by the partner of the calling player?"
   ]
  },
  {
   "cell_type": "code",
   "execution_count": null,
   "id": "1fe92e32",
   "metadata": {},
   "outputs": [],
   "source": []
  },
  {
   "cell_type": "code",
   "execution_count": null,
   "id": "50715974",
   "metadata": {},
   "outputs": [],
   "source": []
  }
 ],
 "metadata": {
  "kernelspec": {
   "display_name": "Python 3",
   "language": "python",
   "name": "python3"
  },
  "language_info": {
   "codemirror_mode": {
    "name": "ipython",
    "version": 3
   },
   "file_extension": ".py",
   "mimetype": "text/x-python",
   "name": "python",
   "nbconvert_exporter": "python",
   "pygments_lexer": "ipython3",
   "version": "3.8.8"
  }
 },
 "nbformat": 4,
 "nbformat_minor": 5
}
