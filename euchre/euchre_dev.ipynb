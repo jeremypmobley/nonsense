{
 "cells": [
  {
   "cell_type": "markdown",
   "id": "ee8b4ded",
   "metadata": {},
   "source": [
    "# Euchre"
   ]
  },
  {
   "cell_type": "code",
   "execution_count": null,
   "id": "9d58584f",
   "metadata": {},
   "outputs": [],
   "source": [
    "%load_ext autoreload\n",
    "%autoreload 2\n",
    "\n",
    "import numpy as np\n",
    "import sys\n",
    "\n",
    "sys.path.insert(0, 'C:/Users/jerem/Desktop/nonsense/euchre/')\n",
    "\n",
    "from utils import EuchreGame"
   ]
  },
  {
   "cell_type": "markdown",
   "id": "984c974f",
   "metadata": {},
   "source": [
    "### Create Game object, check attributes"
   ]
  },
  {
   "cell_type": "code",
   "execution_count": null,
   "id": "edde75bc",
   "metadata": {},
   "outputs": [],
   "source": [
    "euchre_game = EuchreGame()"
   ]
  },
  {
   "cell_type": "code",
   "execution_count": null,
   "id": "0c5e25a1",
   "metadata": {},
   "outputs": [],
   "source": [
    "# create show_all_game_attributes method?\n",
    "euchre_game.score"
   ]
  },
  {
   "cell_type": "code",
   "execution_count": null,
   "id": "0500989c",
   "metadata": {},
   "outputs": [],
   "source": [
    "euchre_game.dealer"
   ]
  },
  {
   "cell_type": "code",
   "execution_count": null,
   "id": "455a4758",
   "metadata": {},
   "outputs": [],
   "source": [
    "euchre_game.next_to_deal"
   ]
  },
  {
   "cell_type": "markdown",
   "id": "4c06199d",
   "metadata": {},
   "source": [
    "### Strategies\n",
    "#### Call Trump Strategy\n",
    "* always\n",
    "* None  \n",
    "#### Play Card Strategy\n",
    "* random\n",
    "* None"
   ]
  },
  {
   "cell_type": "code",
   "execution_count": null,
   "id": "b02cedc3",
   "metadata": {},
   "outputs": [],
   "source": [
    "euchre_game.tm_call_trump_strategy"
   ]
  },
  {
   "cell_type": "code",
   "execution_count": null,
   "id": "9b3c8b61",
   "metadata": {},
   "outputs": [],
   "source": [
    "euchre_game.tm_play_card_strategy"
   ]
  },
  {
   "cell_type": "markdown",
   "id": "579b287e",
   "metadata": {},
   "source": [
    "### Deal cards"
   ]
  },
  {
   "cell_type": "code",
   "execution_count": null,
   "id": "0393bc91",
   "metadata": {},
   "outputs": [],
   "source": [
    "deck_of_cards = euchre_game.shuffle_deck_of_cards()\n",
    "for card in deck_of_cards:\n",
    "    print(card, end=',')"
   ]
  },
  {
   "cell_type": "code",
   "execution_count": null,
   "id": "4f2f3ecb",
   "metadata": {},
   "outputs": [],
   "source": [
    "player_hands, card_flipped_up = euchre_game.deal_hand()"
   ]
  },
  {
   "cell_type": "code",
   "execution_count": null,
   "id": "04890ccf",
   "metadata": {},
   "outputs": [],
   "source": [
    "player_hands"
   ]
  },
  {
   "cell_type": "code",
   "execution_count": null,
   "id": "86db0ae9",
   "metadata": {},
   "outputs": [],
   "source": [
    "card_flipped_up"
   ]
  },
  {
   "cell_type": "code",
   "execution_count": null,
   "id": "226d3092",
   "metadata": {},
   "outputs": [],
   "source": []
  },
  {
   "cell_type": "markdown",
   "id": "e91ea086",
   "metadata": {},
   "source": [
    "### Choose suit for trump"
   ]
  },
  {
   "cell_type": "code",
   "execution_count": null,
   "id": "91e4996f",
   "metadata": {},
   "outputs": [],
   "source": [
    "if euchre_game.eval_flipped_card(hand=['K_S', 'A_H', 'A_C', 'J_C', 'J_S'], \n",
    "                                 player='p1', \n",
    "                                 card_flipped_up='A_S'):\n",
    "    print('order up trump')"
   ]
  },
  {
   "cell_type": "code",
   "execution_count": null,
   "id": "f40dba46",
   "metadata": {},
   "outputs": [],
   "source": [
    "if euchre_game.eval_flipped_card(hand=['K_S', 'A_H', 'A_S', 'J_C', 'J_S'], \n",
    "                                 player='p2', \n",
    "                                 card_flipped_up='A_S'):\n",
    "    print('order up trump')"
   ]
  },
  {
   "cell_type": "code",
   "execution_count": null,
   "id": "e198e31d",
   "metadata": {},
   "outputs": [],
   "source": [
    "euchre_game.choose_open_trump(hand=['K_S', 'A_S', 'A_C', 'J_C', 'J_S'], \n",
    "                              player='p2', \n",
    "                              card_flipped_up='A_D')"
   ]
  },
  {
   "cell_type": "code",
   "execution_count": null,
   "id": "357c20a4",
   "metadata": {},
   "outputs": [],
   "source": [
    "euchre_game.choose_open_trump(hand=['K_S', 'A_H', 'A_C', 'J_C', 'J_S'], \n",
    "                              player='p2', \n",
    "                              card_flipped_up='T_S')"
   ]
  },
  {
   "cell_type": "code",
   "execution_count": null,
   "id": "b2c6bd7b",
   "metadata": {},
   "outputs": [],
   "source": [
    "calling_player, trump = euchre_game.determine_trump(card_flipped_up=card_flipped_up,\n",
    "                           player_hands=player_hands)"
   ]
  },
  {
   "cell_type": "code",
   "execution_count": null,
   "id": "22c27f20",
   "metadata": {},
   "outputs": [],
   "source": [
    "print(player_hands)\n",
    "print(calling_player)\n",
    "print(trump)"
   ]
  },
  {
   "cell_type": "code",
   "execution_count": null,
   "id": "b03a7e64",
   "metadata": {},
   "outputs": [],
   "source": []
  },
  {
   "cell_type": "markdown",
   "id": "aee5ba3c",
   "metadata": {},
   "source": [
    "### Play trick"
   ]
  },
  {
   "cell_type": "code",
   "execution_count": null,
   "id": "2f545d88",
   "metadata": {},
   "outputs": [],
   "source": [
    "cards_in_play, player_led = euchre_game.play_trick(player_hands=player_hands, \n",
    "                                                   trump='H', \n",
    "                                                   next_to_play_list=euchre_game.next_to_deal, \n",
    "                                                   cards_played_this_hand = [], \n",
    "                                                   unplayed_trump_this_hand=['J_H', 'J_D', 'A_H', 'K_H', 'Q_H', 'T_H', '9_H'],\n",
    "                                                   verbose=True)"
   ]
  },
  {
   "cell_type": "code",
   "execution_count": null,
   "id": "848bd841",
   "metadata": {},
   "outputs": [],
   "source": [
    "cards_in_play"
   ]
  },
  {
   "cell_type": "code",
   "execution_count": null,
   "id": "58cf54e9",
   "metadata": {},
   "outputs": [],
   "source": [
    "player_led"
   ]
  },
  {
   "cell_type": "code",
   "execution_count": null,
   "id": "76c95b8e",
   "metadata": {},
   "outputs": [],
   "source": []
  },
  {
   "cell_type": "markdown",
   "id": "00b21a38",
   "metadata": {},
   "source": [
    "#### Determine trick winner"
   ]
  },
  {
   "cell_type": "code",
   "execution_count": null,
   "id": "e1be5e00",
   "metadata": {},
   "outputs": [],
   "source": [
    "euchre_game.determine_trick_winner(cards_in_play={'p2': '9_S', 'p3': 'J_C', 'p4': 'J_H', 'p1': 'A_S'}, \n",
    "                           trump='S', \n",
    "                           player_led=player_led, \n",
    "                                   verbose=True)"
   ]
  },
  {
   "cell_type": "code",
   "execution_count": null,
   "id": "aa320b76",
   "metadata": {},
   "outputs": [],
   "source": [
    "euchre_game.determine_trick_winner(cards_in_play={'p2': '9_S', 'p3': 'J_C', 'p4': 'J_S', 'p1': 'A_S'}, \n",
    "                           trump='D', \n",
    "                           player_led=player_led, \n",
    "                                   verbose=False)"
   ]
  },
  {
   "cell_type": "code",
   "execution_count": null,
   "id": "17803ea1",
   "metadata": {},
   "outputs": [],
   "source": [
    "trick_winner = euchre_game.determine_trick_winner(cards_in_play=cards_in_play,\n",
    "                                           trump='H',\n",
    "                                           player_led=player_led)\n",
    "\n",
    "trick_winner"
   ]
  },
  {
   "cell_type": "code",
   "execution_count": null,
   "id": "48c13202",
   "metadata": {},
   "outputs": [],
   "source": [
    "euchre_game.determine_trick_winner(cards_in_play={'p2': '9_S', 'p3': 'J_H', 'p4': 'J_S', 'p1': 'A_D'}, \n",
    "                           trump='D', \n",
    "                           player_led='p2', \n",
    "                                   verbose=False)"
   ]
  },
  {
   "cell_type": "code",
   "execution_count": null,
   "id": "f5366e7d",
   "metadata": {},
   "outputs": [],
   "source": [
    "euchre_game.determine_trick_winner(cards_in_play={'p2': '9_S', 'p3': 'T_D', 'p4': 'J_S', 'p1': 'A_D'}, \n",
    "                           trump='D', \n",
    "                           player_led='p2', \n",
    "                                   verbose=False)"
   ]
  },
  {
   "cell_type": "code",
   "execution_count": null,
   "id": "317817cc",
   "metadata": {},
   "outputs": [],
   "source": [
    "euchre_game.determine_trick_winner(cards_in_play={'p2': '9_S', 'p3': 'T_D'}, \n",
    "                           trump='D', \n",
    "                           player_led='p2', \n",
    "                                   verbose=False)"
   ]
  },
  {
   "cell_type": "code",
   "execution_count": null,
   "id": "8f8be8e8",
   "metadata": {},
   "outputs": [],
   "source": [
    "euchre_game.determine_trick_winner(cards_in_play={'p2': '9_S'}, \n",
    "                           trump='D', \n",
    "                           player_led='p2', \n",
    "                                   verbose=False)"
   ]
  },
  {
   "cell_type": "code",
   "execution_count": null,
   "id": "5c4087a7",
   "metadata": {},
   "outputs": [],
   "source": []
  },
  {
   "cell_type": "markdown",
   "id": "dbb6672f",
   "metadata": {},
   "source": [
    "#### Swap card in dealer hand"
   ]
  },
  {
   "cell_type": "code",
   "execution_count": null,
   "id": "b955e0b3",
   "metadata": {},
   "outputs": [],
   "source": [
    "euchre_game.swap_dealer_card(card_flipped_up='A_S', \n",
    "                 dealer_hand=['J_C', 'A_D', 'K_H', 'K_S', 'J_D'], \n",
    "                 verbose=True)"
   ]
  },
  {
   "cell_type": "code",
   "execution_count": null,
   "id": "7c522a10",
   "metadata": {},
   "outputs": [],
   "source": [
    "euchre_game.swap_dealer_card(card_flipped_up='A_S', \n",
    "                 dealer_hand=['J_H', 'A_D', 'K_H', 'K_S', 'T_D'], \n",
    "                 verbose=True)"
   ]
  },
  {
   "cell_type": "code",
   "execution_count": null,
   "id": "c1a290c8",
   "metadata": {},
   "outputs": [],
   "source": [
    "euchre_game.swap_dealer_card(card_flipped_up='A_S', \n",
    "                 dealer_hand=['9_H', 'T_H', 'K_H', 'Q_H', 'A_D'], \n",
    "                 verbose=True)"
   ]
  },
  {
   "cell_type": "code",
   "execution_count": null,
   "id": "96626f8d",
   "metadata": {},
   "outputs": [],
   "source": [
    "euchre_game.swap_dealer_card(card_flipped_up='J_S', \n",
    "                 dealer_hand=['9_S', 'A_S', 'Q_S', 'K_S', 'T_S'], \n",
    "                 verbose=True)"
   ]
  },
  {
   "cell_type": "code",
   "execution_count": null,
   "id": "d8fb4504",
   "metadata": {},
   "outputs": [],
   "source": []
  },
  {
   "cell_type": "code",
   "execution_count": null,
   "id": "cb84407b",
   "metadata": {},
   "outputs": [],
   "source": []
  },
  {
   "cell_type": "markdown",
   "id": "19749e5b",
   "metadata": {},
   "source": [
    "## Play card"
   ]
  },
  {
   "cell_type": "code",
   "execution_count": null,
   "id": "67865ab6",
   "metadata": {},
   "outputs": [],
   "source": [
    "euchre_game.play_card(player='p4',\n",
    "                      hand=['J_H', 'A_C', '9_H', 'K_S', 'J_D'], \n",
    "                      trump='S',\n",
    "                      cards_in_play={'p2': 'J_D', 'p3': 'A_D', 'p1': '9_D'}, \n",
    "                      player_led='p1',\n",
    "                      cards_played_this_hand=[], \n",
    "                      suit_led='D', verbose=True)"
   ]
  },
  {
   "cell_type": "code",
   "execution_count": null,
   "id": "69a5755d",
   "metadata": {},
   "outputs": [],
   "source": [
    "euchre_game.play_card(player='p4',\n",
    "                      hand=['J_H', 'A_C', '9_H', 'K_S', 'J_D'], \n",
    "                      trump='D',\n",
    "                      cards_in_play={'p2': 'J_D', 'p3': 'A_D', 'p1': '9_D'}, \n",
    "                      player_led='p1',\n",
    "                      cards_played_this_hand=[], \n",
    "                      suit_led='D', \n",
    "                      verbose=True)"
   ]
  },
  {
   "cell_type": "code",
   "execution_count": null,
   "id": "2746af15",
   "metadata": {},
   "outputs": [],
   "source": []
  },
  {
   "cell_type": "markdown",
   "id": "a2a8d71d",
   "metadata": {},
   "source": [
    "### Play lead card"
   ]
  },
  {
   "cell_type": "code",
   "execution_count": null,
   "id": "0a3afb0f",
   "metadata": {},
   "outputs": [],
   "source": [
    "euchre_game.play_lead_card(hand=['9_D', 'T_C', '9_C', 'A_S', 'A_C'], \n",
    "               trump='S', \n",
    "               cards_played_this_hand=['J_S', 'J_C'])"
   ]
  },
  {
   "cell_type": "code",
   "execution_count": null,
   "id": "8643822e",
   "metadata": {},
   "outputs": [],
   "source": [
    "euchre_game.play_lead_card(hand=['T_D', 'T_C', 'Q_C', 'A_D', 'A_C'], \n",
    "               trump='S', \n",
    "               cards_played_this_hand=['J_S', 'J_C'])"
   ]
  },
  {
   "cell_type": "markdown",
   "id": "468e5a28",
   "metadata": {},
   "source": [
    "### Play random card"
   ]
  },
  {
   "cell_type": "code",
   "execution_count": null,
   "id": "5eeb71b1",
   "metadata": {},
   "outputs": [],
   "source": [
    "from utils import play_random_card"
   ]
  },
  {
   "cell_type": "code",
   "execution_count": null,
   "id": "3c285d21",
   "metadata": {},
   "outputs": [],
   "source": [
    "play_random_card(hand=['9_D', 'T_C', '9_C', 'J_S', 'A_C'], \n",
    "                             suit_led=None)"
   ]
  },
  {
   "cell_type": "code",
   "execution_count": null,
   "id": "1d69b6ee",
   "metadata": {},
   "outputs": [],
   "source": [
    "play_random_card(hand=['9_D', 'T_C', '9_C', 'J_S', 'A_C'], \n",
    "                             suit_led='D')"
   ]
  },
  {
   "cell_type": "markdown",
   "id": "3b61f93f",
   "metadata": {},
   "source": [
    "#### Get lowest trump card"
   ]
  },
  {
   "cell_type": "code",
   "execution_count": null,
   "id": "e9185002",
   "metadata": {},
   "outputs": [],
   "source": [
    "from utils import get_lowest_trump_card"
   ]
  },
  {
   "cell_type": "code",
   "execution_count": null,
   "id": "69b88d3e",
   "metadata": {},
   "outputs": [],
   "source": [
    "get_lowest_trump_card(hand=['J_H', 'J_D'], trump='H')"
   ]
  },
  {
   "cell_type": "code",
   "execution_count": null,
   "id": "3756de20",
   "metadata": {},
   "outputs": [],
   "source": [
    "get_lowest_trump_card(hand=['J_H', 'J_D'], trump='C')"
   ]
  },
  {
   "cell_type": "code",
   "execution_count": null,
   "id": "b505d271",
   "metadata": {},
   "outputs": [],
   "source": [
    "get_lowest_trump_card(hand=['J_H', 'J_S', 'A_C'], trump='C')"
   ]
  },
  {
   "cell_type": "markdown",
   "id": "ca3e1c96",
   "metadata": {},
   "source": [
    "#### Get lowest nontrump card in suit"
   ]
  },
  {
   "cell_type": "code",
   "execution_count": null,
   "id": "ac7f0b31",
   "metadata": {},
   "outputs": [],
   "source": [
    "from utils import get_lowest_nontrump_card_in_suit"
   ]
  },
  {
   "cell_type": "code",
   "execution_count": null,
   "id": "9799a8cd",
   "metadata": {},
   "outputs": [],
   "source": [
    "get_lowest_nontrump_card_in_suit(hand=['K_H', 'Q_H'], suit='H')"
   ]
  },
  {
   "cell_type": "code",
   "execution_count": null,
   "id": "4392d7ca",
   "metadata": {},
   "outputs": [],
   "source": [
    "get_lowest_nontrump_card_in_suit(hand=['K_H', 'J_C'], suit='S')"
   ]
  },
  {
   "cell_type": "code",
   "execution_count": null,
   "id": "a94e31f3",
   "metadata": {},
   "outputs": [],
   "source": [
    "get_lowest_nontrump_card_in_suit(hand=['K_H', 'Q_H', 'J_H'], suit='H')"
   ]
  },
  {
   "cell_type": "markdown",
   "id": "47ff5da5",
   "metadata": {},
   "source": [
    "#### Get highest nontrump card"
   ]
  },
  {
   "cell_type": "code",
   "execution_count": null,
   "id": "b898e075",
   "metadata": {},
   "outputs": [],
   "source": [
    "from utils import get_highest_nontrump_card"
   ]
  },
  {
   "cell_type": "code",
   "execution_count": null,
   "id": "14b31373",
   "metadata": {},
   "outputs": [],
   "source": [
    "get_highest_nontrump_card(hand=['A_H'], trump='H')"
   ]
  },
  {
   "cell_type": "code",
   "execution_count": null,
   "id": "14bcd4d5",
   "metadata": {},
   "outputs": [],
   "source": [
    "get_highest_nontrump_card(hand=['A_H', 'A_D', 'A_S'], trump='H')"
   ]
  },
  {
   "cell_type": "code",
   "execution_count": null,
   "id": "89ee88f4",
   "metadata": {},
   "outputs": [],
   "source": [
    "get_highest_nontrump_card(hand=['T_H', '9_D', 'A_S'], trump='S')"
   ]
  },
  {
   "cell_type": "markdown",
   "id": "8ea14936",
   "metadata": {},
   "source": [
    "#### Get lowest nontrump card in hand"
   ]
  },
  {
   "cell_type": "code",
   "execution_count": null,
   "id": "6ea0b2e9",
   "metadata": {},
   "outputs": [],
   "source": [
    "from utils import get_lowest_nontrump_card_in_hand"
   ]
  },
  {
   "cell_type": "code",
   "execution_count": null,
   "id": "428def63",
   "metadata": {},
   "outputs": [],
   "source": [
    "# should play T_C to short suits (partner plays A_H and leads trick, lay off)\n",
    "get_lowest_nontrump_card_in_hand(hand=['9_D', 'J_H', 'T_C', 'K_S', 'T_S'], \n",
    "                            trump='D', \n",
    "                            cards_played_this_hand=['J_D', '9_C'], \n",
    "                                 no_trump_in_hand=False)"
   ]
  },
  {
   "cell_type": "code",
   "execution_count": null,
   "id": "67e93e5a",
   "metadata": {},
   "outputs": [],
   "source": [
    "# should play T_C (since 9_C already played so T_S is better card)\n",
    "get_lowest_nontrump_card_in_hand(hand=['9_D', 'T_C', 'Q_C', 'K_S', 'T_S'], \n",
    "                            trump='D', \n",
    "                            cards_played_this_hand=['J_D', '9_C'], \n",
    "                                 no_trump_in_hand=False)"
   ]
  },
  {
   "cell_type": "code",
   "execution_count": null,
   "id": "cd5d3120",
   "metadata": {},
   "outputs": [],
   "source": [
    "# should return J_S\n",
    "get_lowest_nontrump_card_in_hand(hand=['T_C', 'J_S'], \n",
    "                            trump='D', \n",
    "                            cards_played_this_hand=['J_D', '9_S', 'T_S'], \n",
    "                                 no_trump_in_hand=True)"
   ]
  },
  {
   "cell_type": "code",
   "execution_count": null,
   "id": "36c0f7e4",
   "metadata": {},
   "outputs": [],
   "source": [
    "# should return A_S\n",
    "get_lowest_nontrump_card_in_hand(hand=['A_C', 'A_S'], \n",
    "                            trump='D', \n",
    "                            cards_played_this_hand=['J_D', '9_S', 'T_S'], \n",
    "                                 no_trump_in_hand=True)"
   ]
  },
  {
   "cell_type": "code",
   "execution_count": null,
   "id": "81705e75",
   "metadata": {},
   "outputs": [],
   "source": [
    "# should return None\n",
    "get_lowest_nontrump_card_in_hand(hand=['T_C', 'J_C'], \n",
    "                            trump='C', \n",
    "                            cards_played_this_hand=['J_D', '9_S', 'T_S'], \n",
    "                                 no_trump_in_hand=False)"
   ]
  },
  {
   "cell_type": "code",
   "execution_count": null,
   "id": "a4f28f01",
   "metadata": {},
   "outputs": [],
   "source": []
  },
  {
   "cell_type": "code",
   "execution_count": null,
   "id": "8d1569e4",
   "metadata": {},
   "outputs": [],
   "source": []
  },
  {
   "cell_type": "markdown",
   "id": "976ca371",
   "metadata": {},
   "source": [
    "### Play full game"
   ]
  },
  {
   "cell_type": "code",
   "execution_count": null,
   "id": "74567bc0",
   "metadata": {
    "scrolled": true
   },
   "outputs": [],
   "source": [
    "%%time\n",
    "\n",
    "euchre_game = EuchreGame()\n",
    "euchre_game.play_full_game(verbose=True)"
   ]
  },
  {
   "cell_type": "code",
   "execution_count": null,
   "id": "06225cf9",
   "metadata": {},
   "outputs": [],
   "source": [
    "euchre_game.score"
   ]
  },
  {
   "cell_type": "code",
   "execution_count": null,
   "id": "4defa0c3",
   "metadata": {},
   "outputs": [],
   "source": []
  },
  {
   "cell_type": "code",
   "execution_count": null,
   "id": "d7fffa15",
   "metadata": {},
   "outputs": [],
   "source": []
  },
  {
   "cell_type": "markdown",
   "id": "2f4c6b11",
   "metadata": {},
   "source": [
    "#### Profile performance"
   ]
  },
  {
   "cell_type": "code",
   "execution_count": null,
   "id": "2e3c6ada",
   "metadata": {},
   "outputs": [],
   "source": [
    "%%prun\n",
    "\n",
    "euchre_game = EuchreGame()\n",
    "euchre_game.play_full_game(verbose=False)"
   ]
  },
  {
   "cell_type": "code",
   "execution_count": null,
   "id": "cf06f1cc",
   "metadata": {},
   "outputs": [],
   "source": []
  },
  {
   "cell_type": "markdown",
   "id": "74dd206b",
   "metadata": {},
   "source": [
    "### Loop through games played, collect strategy results"
   ]
  },
  {
   "cell_type": "code",
   "execution_count": null,
   "id": "33285b70",
   "metadata": {},
   "outputs": [],
   "source": [
    "from scipy.stats import ttest_ind"
   ]
  },
  {
   "cell_type": "code",
   "execution_count": null,
   "id": "5b775975",
   "metadata": {
    "scrolled": true
   },
   "outputs": [],
   "source": [
    "%%time\n",
    "\n",
    "N_GAMES_TO_PLAY = 1000\n",
    "\n",
    "strategy_results = {'t1_wins':0, 't1_scores':[], 't2_scores':[]}\n",
    "\n",
    "for i in range(N_GAMES_TO_PLAY):\n",
    "    euchre_game = EuchreGame()\n",
    "    # euchre_game.tm_call_trump_strategy['t1'] = 'NEW'  # set team 2 call trump strategy to NEW\n",
    "    # euchre_game.tm_call_trump_strategy['t2'] = 'always'  # set team 2 call trump strategy to always\n",
    "    euchre_game.tm_play_card_strategy['t2'] = 'random'  # set team 2 play card strategy to random\n",
    "    euchre_game.play_full_game(verbose=False)\n",
    "    if euchre_game.score['t1'] > euchre_game.score['t2']:\n",
    "        strategy_results['t1_wins'] += 1\n",
    "    strategy_results['t1_scores'].append(euchre_game.score['t1'])\n",
    "    strategy_results['t2_scores'].append(euchre_game.score['t2'])"
   ]
  },
  {
   "cell_type": "code",
   "execution_count": null,
   "id": "39becd99",
   "metadata": {},
   "outputs": [],
   "source": [
    "print(f\"\"\"Team 1 strategy won {strategy_results['t1_wins']}/{N_GAMES_TO_PLAY} games \\\n",
    "({strategy_results['t1_wins']/N_GAMES_TO_PLAY*100}%)\"\"\")"
   ]
  },
  {
   "cell_type": "markdown",
   "id": "31edc0a5",
   "metadata": {},
   "source": [
    "#### T-test for statistically significant difference in means between t1 and t2 scores"
   ]
  },
  {
   "cell_type": "code",
   "execution_count": null,
   "id": "b2c98fce",
   "metadata": {},
   "outputs": [],
   "source": [
    "ttest_ind(strategy_results['t1_scores'], strategy_results['t2_scores'])"
   ]
  },
  {
   "cell_type": "markdown",
   "id": "3b1ab955",
   "metadata": {},
   "source": [
    "### Plot results"
   ]
  },
  {
   "cell_type": "code",
   "execution_count": null,
   "id": "7c91c1d0",
   "metadata": {},
   "outputs": [],
   "source": [
    "import matplotlib.pyplot as plt"
   ]
  },
  {
   "cell_type": "code",
   "execution_count": null,
   "id": "5106967d",
   "metadata": {},
   "outputs": [],
   "source": [
    "plt.style.use('ggplot')\n",
    "plt.hist(strategy_results['t1_scores'], bins=23, alpha=0.5, label='t1_scores')\n",
    "plt.hist(strategy_results['t2_scores'], bins=23, alpha=0.5, label='t2_scores')\n",
    "plt.legend(loc='upper left')"
   ]
  },
  {
   "cell_type": "code",
   "execution_count": null,
   "id": "cb87806f",
   "metadata": {},
   "outputs": [],
   "source": []
  },
  {
   "cell_type": "code",
   "execution_count": null,
   "id": "da61b9d6",
   "metadata": {},
   "outputs": [],
   "source": []
  },
  {
   "cell_type": "code",
   "execution_count": null,
   "id": "6a482a87",
   "metadata": {},
   "outputs": [],
   "source": []
  },
  {
   "cell_type": "markdown",
   "id": "16dd92be",
   "metadata": {},
   "source": [
    "## Loop through games played, collect hand_results"
   ]
  },
  {
   "cell_type": "code",
   "execution_count": null,
   "id": "21b95861",
   "metadata": {},
   "outputs": [],
   "source": [
    "import pandas as pd"
   ]
  },
  {
   "cell_type": "code",
   "execution_count": null,
   "id": "c58305cd",
   "metadata": {},
   "outputs": [],
   "source": [
    "from utils import return_off_suit, get_teammate"
   ]
  },
  {
   "cell_type": "code",
   "execution_count": null,
   "id": "a61703b6",
   "metadata": {},
   "outputs": [],
   "source": [
    "euchre_game = EuchreGame()\n",
    "hand_results = euchre_game.play_full_game(return_all_hands_results=True, verbose=False)\n",
    "hand_results[0]"
   ]
  },
  {
   "cell_type": "code",
   "execution_count": null,
   "id": "526f8e1a",
   "metadata": {},
   "outputs": [],
   "source": []
  },
  {
   "cell_type": "code",
   "execution_count": null,
   "id": "15a32ab1",
   "metadata": {},
   "outputs": [],
   "source": [
    "# TODO: add number of suits\n",
    "\n",
    "def return_df_from_hand_results(hand_results_dict):\n",
    "    fields_to_collect = ['tricks_won',\n",
    "                         'is_calling_player',\n",
    "                         'teammate_called',\n",
    "                         'has_right', \n",
    "                         'has_left',\n",
    "                         'has_Atrump',\n",
    "                         'has_Ktrump',\n",
    "                         'has_Qtrump',\n",
    "                         'has_Ttrump',\n",
    "                         'has_9trump',\n",
    "                         'num_off_A',\n",
    "                         'num_off_K',\n",
    "                         'num_off_Q']\n",
    "    results_list = []\n",
    "    for player in hand_results_dict['trick_winners'].keys():\n",
    "        player_hand_results = dict.fromkeys(fields_to_collect,0)\n",
    "        player_hand_results['tricks_won'] = hand_results_dict['trick_winners'][player]\n",
    "        player_hand_results['partner_tricks'] = hand_results_dict['trick_winners'][get_teammate(player)]\n",
    "        if player == hand_results_dict['calling_player']:\n",
    "            player_hand_results['is_calling_player'] = 1\n",
    "        if get_teammate(player) == hand_results_dict['calling_player']:\n",
    "            player_hand_results['teammate_called'] = 1\n",
    "        for idx, card in enumerate(hand_results_dict['player_hands'][player]):\n",
    "            if card[-1] == hand_results_dict['trump']:\n",
    "                if card[0] == 'A':\n",
    "                    player_hand_results['has_Atrump'] = 1\n",
    "                if card[0] == 'K':\n",
    "                    player_hand_results['has_Ktrump'] = 1\n",
    "                if card[0] == 'Q':\n",
    "                    player_hand_results['has_Qtrump'] = 1\n",
    "                if card[0] == 'J':\n",
    "                    player_hand_results['has_right'] = 1\n",
    "                if card[0] == 'T':\n",
    "                    player_hand_results['has_Ttrump'] = 1\n",
    "                if card[0] == '9':\n",
    "                    player_hand_results['has_9trump'] = 1\n",
    "            else:\n",
    "                if card[0] == 'A':\n",
    "                    player_hand_results['num_off_A'] += 1\n",
    "                if card[0] == 'K':\n",
    "                    player_hand_results['num_off_K'] += 1\n",
    "                if card[0] == 'Q':\n",
    "                    player_hand_results['num_off_Q'] += 1\n",
    "                if card[0] == 'J':\n",
    "                    if return_off_suit(card[-1]) == hand_results_dict['trump']:\n",
    "                        player_hand_results['has_left'] = 1\n",
    "        results_list.append(player_hand_results)\n",
    "    return pd.DataFrame(results_list)"
   ]
  },
  {
   "cell_type": "code",
   "execution_count": null,
   "id": "7183dbe0",
   "metadata": {},
   "outputs": [],
   "source": []
  },
  {
   "cell_type": "code",
   "execution_count": null,
   "id": "e3f5e79b",
   "metadata": {},
   "outputs": [],
   "source": [
    "%%time\n",
    "\n",
    "N_GAMES_TO_PLAY = 100\n",
    "\n",
    "all_hand_results_df = pd.DataFrame()\n",
    "for i in range(N_GAMES_TO_PLAY):\n",
    "    euchre_game = EuchreGame()\n",
    "    hand_results = euchre_game.play_full_game(return_all_hands_results=True, verbose=False)\n",
    "    game_results_df = pd.DataFrame()\n",
    "    for hand in hand_results:\n",
    "        hand_results_df = return_df_from_hand_results(hand)\n",
    "        game_results_df = pd.concat([game_results_df, hand_results_df])\n",
    "    all_hand_results_df = pd.concat([all_hand_results_df, game_results_df])"
   ]
  },
  {
   "cell_type": "code",
   "execution_count": null,
   "id": "40be9e20",
   "metadata": {},
   "outputs": [],
   "source": [
    "all_hand_results_df.shape"
   ]
  },
  {
   "cell_type": "code",
   "execution_count": null,
   "id": "e95a8a76",
   "metadata": {},
   "outputs": [],
   "source": [
    "all_hand_results_df.sort_values('tricks_won', ascending=False).head(10)"
   ]
  },
  {
   "cell_type": "code",
   "execution_count": null,
   "id": "5e535936",
   "metadata": {},
   "outputs": [],
   "source": [
    "# check hand with right bauer didn't take 0 tricks\n",
    "assert all_hand_results_df[(all_hand_results_df['tricks_won']==0) & (all_hand_results_df['has_right']==1)].shape[0] == 0"
   ]
  },
  {
   "cell_type": "code",
   "execution_count": null,
   "id": "d96e77ac",
   "metadata": {},
   "outputs": [],
   "source": [
    "# check hands with right and left didn't ever take less than 2 tricks\n",
    "assert all_hand_results_df[(all_hand_results_df['tricks_won']<2) & \n",
    "                           (all_hand_results_df['has_right']==1) & \n",
    "                           (all_hand_results_df['has_left']==1)].shape[0] == 0"
   ]
  },
  {
   "cell_type": "code",
   "execution_count": null,
   "id": "18edc846",
   "metadata": {},
   "outputs": [],
   "source": [
    "# check hands with right and left and Atrump didn't ever take less than 3 tricks\n",
    "assert all_hand_results_df[(all_hand_results_df['tricks_won']<3) & \n",
    "                           (all_hand_results_df['has_right']==1) & \n",
    "                           (all_hand_results_df['has_left']==1) & \n",
    "                           (all_hand_results_df['has_Atrump']==1)].shape[0] == 0"
   ]
  },
  {
   "cell_type": "code",
   "execution_count": null,
   "id": "13391542",
   "metadata": {},
   "outputs": [],
   "source": [
    "all_hand_results_df.groupby(['has_right', \n",
    "                             'has_left', \n",
    "                            'has_Atrump', \n",
    "                            #'has_Ktrump', \n",
    "                            # 'has_Qtrump'\n",
    "                            ]).agg(avg_tricks=('tricks_won', 'mean'), num_hands=('has_right','count'))"
   ]
  },
  {
   "cell_type": "code",
   "execution_count": null,
   "id": "d8294a7c",
   "metadata": {},
   "outputs": [],
   "source": []
  },
  {
   "cell_type": "code",
   "execution_count": null,
   "id": "7abfab12",
   "metadata": {},
   "outputs": [],
   "source": []
  },
  {
   "cell_type": "markdown",
   "id": "bea620d0",
   "metadata": {},
   "source": [
    "#### Write out all hand results to csv local"
   ]
  },
  {
   "cell_type": "code",
   "execution_count": null,
   "id": "1a11ddda",
   "metadata": {},
   "outputs": [],
   "source": [
    "pwd"
   ]
  },
  {
   "cell_type": "code",
   "execution_count": null,
   "id": "e66d959a",
   "metadata": {},
   "outputs": [],
   "source": [
    "all_hand_results_df.to_csv('all_hand_results.csv', index=False)"
   ]
  },
  {
   "cell_type": "code",
   "execution_count": null,
   "id": "31043e90",
   "metadata": {},
   "outputs": [],
   "source": []
  },
  {
   "cell_type": "code",
   "execution_count": null,
   "id": "d72fee66",
   "metadata": {},
   "outputs": [],
   "source": []
  },
  {
   "cell_type": "markdown",
   "id": "c66348f3",
   "metadata": {},
   "source": [
    "### Next steps for development"
   ]
  },
  {
   "cell_type": "code",
   "execution_count": null,
   "id": "e2bb4616",
   "metadata": {},
   "outputs": [],
   "source": [
    "# Build out play card strategy\n",
    "    # check if player has card that can win hand\n",
    "    # add logic to check what cards have been played in hand so far\n",
    "        # update cards_played_this_hand to dict to be able to tell which players played which cards?\n",
    "        # player_short_suits_dict - keep track of what players don't have what suits based on following suit\n",
    "\n",
    "# Build out strategy for play_lead_card function to reduce number of suits in hand, play toward partner short-suits\n",
    "\n",
    "# Handle loners\n",
    "    # add functionality to determine trump to check loner strategy, return loner_called boolean to play_hand\n",
    "        # start with strategy to call loner when right/left and 4 total trump\n",
    "    # update play_trick to pass in loner_called, remove partner of calling_player from next_to_play_list\n",
    "\n",
    "# Build out strategy for calling trump\n",
    "    # Add consideration to include if partner is dealer, if player is dealer, if player in seat 1 with lead, etc.\n",
    "    # Add consideration to how high the card_flipped_up is - more likely if 9,T, less if J\n",
    "\n",
    "# Build out framework to evaluate statistical significance of different strategies\n",
    "    # chart overlapping histograms of points scored for different strategies across hands\n",
    "    # Evaluate player tricks won, team tricks won for each hand type for each game\n",
    "\n",
    "# Code cleanup\n",
    "    # Add tests, comments to all functions\n",
    "    # README, docs\n",
    "\n",
    "# Look at combinations of exactly unique hands, vs. unique types of hands\n",
    "\n",
    "# Can you \"count on your partner for 1\"? What is the average number of tricks taken by the partner of the calling player?\n",
    "# When (if ever) is it a good idea to overtake a trick your partner is currently winning?\n",
    "# When is it appropriate to not play the highest or lowest card within a suit but the mid?\n",
    "    # 9, K, right of trump - use K to take trick, lead right, then play 9\n",
    "    # is this ever best in nontrump?\n",
    "# When is it appropriate to lead trump? Is it always best to lead right bauer? Is there ever a situation where it is optimal NOT to lead right bauer?"
   ]
  },
  {
   "cell_type": "code",
   "execution_count": null,
   "id": "1fe92e32",
   "metadata": {},
   "outputs": [],
   "source": []
  },
  {
   "cell_type": "code",
   "execution_count": null,
   "id": "50715974",
   "metadata": {},
   "outputs": [],
   "source": []
  }
 ],
 "metadata": {
  "kernelspec": {
   "display_name": "Python 3",
   "language": "python",
   "name": "python3"
  },
  "language_info": {
   "codemirror_mode": {
    "name": "ipython",
    "version": 3
   },
   "file_extension": ".py",
   "mimetype": "text/x-python",
   "name": "python",
   "nbconvert_exporter": "python",
   "pygments_lexer": "ipython3",
   "version": "3.8.8"
  }
 },
 "nbformat": 4,
 "nbformat_minor": 5
}
