{
 "cells": [
  {
   "cell_type": "markdown",
   "id": "ee8b4ded",
   "metadata": {},
   "source": [
    "# Euchre\n",
    "Goal: code up a playable euchre game to better understand winning probabilities of different starting hands  \n",
    "Given: Right, Ace, Queen, off Ace, off ten; 3-suited, dealer spot - what's the likelihood of winning each number of tricks that round?  \n",
    "Genetic Algorithm to determine next play would be cool - start with random strategy, adapt to new weights as games progress  \n",
    "Streamlit app where user can select cards in hand and table position and get breakdown of likelihood of taking 5/4/3/2/1/0 tricks"
   ]
  },
  {
   "cell_type": "code",
   "execution_count": 1,
   "id": "9d58584f",
   "metadata": {},
   "outputs": [],
   "source": [
    "%load_ext autoreload\n",
    "%autoreload 2\n",
    "\n",
    "import numpy as np\n",
    "import sys\n",
    "\n",
    "sys.path.insert(0, 'C:/Users/jerem/Desktop/nonsense/euchre/')"
   ]
  },
  {
   "cell_type": "code",
   "execution_count": 2,
   "id": "189456a5",
   "metadata": {},
   "outputs": [],
   "source": [
    "from utils import EuchreGame"
   ]
  },
  {
   "cell_type": "markdown",
   "id": "984c974f",
   "metadata": {},
   "source": [
    "### Create Game object, check attributes"
   ]
  },
  {
   "cell_type": "code",
   "execution_count": 3,
   "id": "edde75bc",
   "metadata": {},
   "outputs": [],
   "source": [
    "euchre_game = EuchreGame()"
   ]
  },
  {
   "cell_type": "code",
   "execution_count": 5,
   "id": "0c5e25a1",
   "metadata": {},
   "outputs": [
    {
     "data": {
      "text/plain": [
       "{'t1': 0, 't2': 0}"
      ]
     },
     "execution_count": 5,
     "metadata": {},
     "output_type": "execute_result"
    }
   ],
   "source": [
    "# create show_all_game_attributes method?\n",
    "euchre_game.score"
   ]
  },
  {
   "cell_type": "code",
   "execution_count": 6,
   "id": "0500989c",
   "metadata": {},
   "outputs": [
    {
     "data": {
      "text/plain": [
       "'p1'"
      ]
     },
     "execution_count": 6,
     "metadata": {},
     "output_type": "execute_result"
    }
   ],
   "source": [
    "euchre_game.dealer"
   ]
  },
  {
   "cell_type": "code",
   "execution_count": 7,
   "id": "455a4758",
   "metadata": {},
   "outputs": [
    {
     "data": {
      "text/plain": [
       "['p2', 'p3', 'p4', 'p1']"
      ]
     },
     "execution_count": 7,
     "metadata": {},
     "output_type": "execute_result"
    }
   ],
   "source": [
    "euchre_game.next_to_deal"
   ]
  },
  {
   "cell_type": "code",
   "execution_count": 8,
   "id": "495a2571",
   "metadata": {},
   "outputs": [
    {
     "name": "stdout",
     "output_type": "stream",
     "text": [
      "Current score: 0-0\n"
     ]
    }
   ],
   "source": [
    "euchre_game.print_score()"
   ]
  },
  {
   "cell_type": "code",
   "execution_count": 9,
   "id": "3261df2d",
   "metadata": {},
   "outputs": [
    {
     "data": {
      "text/plain": [
       "['S', 'C', 'H', 'D']"
      ]
     },
     "execution_count": 9,
     "metadata": {},
     "output_type": "execute_result"
    }
   ],
   "source": [
    "euchre_game.card_suits"
   ]
  },
  {
   "cell_type": "code",
   "execution_count": 10,
   "id": "1a0f9da4",
   "metadata": {},
   "outputs": [
    {
     "data": {
      "text/plain": [
       "['A', 'K', 'Q', 'J', 'T', '9']"
      ]
     },
     "execution_count": 10,
     "metadata": {},
     "output_type": "execute_result"
    }
   ],
   "source": [
    "euchre_game.card_values"
   ]
  },
  {
   "cell_type": "code",
   "execution_count": 11,
   "id": "0393bc91",
   "metadata": {},
   "outputs": [
    {
     "name": "stdout",
     "output_type": "stream",
     "text": [
      "9_S,9_C,9_H,9_D,T_S,T_C,T_H,T_D,J_S,J_C,J_H,J_D,Q_S,Q_C,Q_H,Q_D,K_S,K_C,K_H,K_D,A_S,A_C,A_H,A_D,"
     ]
    }
   ],
   "source": [
    "deck_of_cards = euchre_game.shuffle_deck_of_cards()\n",
    "for card in deck_of_cards:\n",
    "    print(card, end=',')"
   ]
  },
  {
   "cell_type": "markdown",
   "id": "579b287e",
   "metadata": {},
   "source": [
    "### Deal cards"
   ]
  },
  {
   "cell_type": "code",
   "execution_count": 12,
   "id": "4f2f3ecb",
   "metadata": {},
   "outputs": [],
   "source": [
    "player_hands, card_flipped_up = euchre_game.deal_hand()"
   ]
  },
  {
   "cell_type": "code",
   "execution_count": 13,
   "id": "04890ccf",
   "metadata": {},
   "outputs": [
    {
     "data": {
      "text/plain": [
       "{'p1': ['T_S', '9_D', 'T_D', 'J_H', 'T_H'],\n",
       " 'p2': ['J_D', 'K_H', 'J_S', 'K_D', 'Q_D'],\n",
       " 'p3': ['Q_H', 'A_S', 'A_D', '9_S', 'J_C'],\n",
       " 'p4': ['9_C', 'Q_S', 'K_C', 'K_S', 'Q_C']}"
      ]
     },
     "execution_count": 13,
     "metadata": {},
     "output_type": "execute_result"
    }
   ],
   "source": [
    "player_hands"
   ]
  },
  {
   "cell_type": "code",
   "execution_count": 14,
   "id": "86db0ae9",
   "metadata": {},
   "outputs": [
    {
     "data": {
      "text/plain": [
       "'9_H'"
      ]
     },
     "execution_count": 14,
     "metadata": {},
     "output_type": "execute_result"
    }
   ],
   "source": [
    "card_flipped_up"
   ]
  },
  {
   "cell_type": "code",
   "execution_count": null,
   "id": "226d3092",
   "metadata": {},
   "outputs": [],
   "source": []
  },
  {
   "cell_type": "markdown",
   "id": "e91ea086",
   "metadata": {},
   "source": [
    "### Choose suit for trump"
   ]
  },
  {
   "cell_type": "code",
   "execution_count": 15,
   "id": "91e4996f",
   "metadata": {},
   "outputs": [],
   "source": [
    "if euchre_game.eval_flipped_card(suit='S', hand=['K_S', 'A_H', 'A_C', 'J_C', 'J_S']):\n",
    "    print('order up trump')"
   ]
  },
  {
   "cell_type": "code",
   "execution_count": 16,
   "id": "f40dba46",
   "metadata": {},
   "outputs": [
    {
     "name": "stdout",
     "output_type": "stream",
     "text": [
      "order up trump\n"
     ]
    }
   ],
   "source": [
    "if euchre_game.eval_flipped_card(suit='S', hand=['K_S', 'A_H', 'A_S', 'J_C', 'J_S']):\n",
    "    print('order up trump')"
   ]
  },
  {
   "cell_type": "code",
   "execution_count": 17,
   "id": "e198e31d",
   "metadata": {},
   "outputs": [
    {
     "data": {
      "text/plain": [
       "'S'"
      ]
     },
     "execution_count": 17,
     "metadata": {},
     "output_type": "execute_result"
    }
   ],
   "source": [
    "euchre_game.choose_open_trump(hand=['K_S', 'A_S', 'A_C', 'J_C', 'J_S'], \n",
    "                  card_flipped_up='A_D')"
   ]
  },
  {
   "cell_type": "code",
   "execution_count": 18,
   "id": "357c20a4",
   "metadata": {},
   "outputs": [],
   "source": [
    "euchre_game.choose_open_trump(hand=['K_S', 'A_H', 'A_C', 'J_C', 'J_S'], \n",
    "                  card_flipped_up='A_D')"
   ]
  },
  {
   "cell_type": "code",
   "execution_count": 19,
   "id": "b2c6bd7b",
   "metadata": {},
   "outputs": [],
   "source": [
    "calling_player, trump = euchre_game.determine_trump(card_flipped_up=card_flipped_up,\n",
    "                           player_hands=player_hands)"
   ]
  },
  {
   "cell_type": "code",
   "execution_count": 20,
   "id": "22c27f20",
   "metadata": {},
   "outputs": [
    {
     "name": "stdout",
     "output_type": "stream",
     "text": [
      "{'p1': ['T_S', '9_D', 'T_D', 'J_H', 'T_H'], 'p2': ['J_D', 'K_H', 'J_S', 'K_D', 'Q_D'], 'p3': ['Q_H', 'A_S', 'A_D', '9_S', 'J_C'], 'p4': ['9_C', 'Q_S', 'K_C', 'K_S', 'Q_C']}\n",
      "p2\n",
      "D\n"
     ]
    }
   ],
   "source": [
    "print(player_hands)\n",
    "print(calling_player)\n",
    "print(trump)"
   ]
  },
  {
   "cell_type": "code",
   "execution_count": null,
   "id": "b03a7e64",
   "metadata": {},
   "outputs": [],
   "source": []
  },
  {
   "cell_type": "markdown",
   "id": "aee5ba3c",
   "metadata": {},
   "source": [
    "### Play trick"
   ]
  },
  {
   "cell_type": "code",
   "execution_count": 21,
   "id": "2f545d88",
   "metadata": {},
   "outputs": [
    {
     "name": "stdout",
     "output_type": "stream",
     "text": [
      "Player p2 plays J_D, Following suit- Player p3 plays A_D, Lowest_card_in_hand- Player p4 plays 9_C, Following suit- Player p1 plays 9_D, "
     ]
    }
   ],
   "source": [
    "cards_in_play, player_led = euchre_game.play_trick(player_hands=player_hands, \n",
    "                                                   trump=trump, \n",
    "                                                   next_to_play_list=euchre_game.next_to_deal, \n",
    "                                                   cards_played_this_hand = [], \n",
    "                                                   verbose=True)"
   ]
  },
  {
   "cell_type": "code",
   "execution_count": 22,
   "id": "848bd841",
   "metadata": {},
   "outputs": [
    {
     "data": {
      "text/plain": [
       "{'p2': 'J_D', 'p3': 'A_D', 'p4': '9_C', 'p1': '9_D'}"
      ]
     },
     "execution_count": 22,
     "metadata": {},
     "output_type": "execute_result"
    }
   ],
   "source": [
    "cards_in_play"
   ]
  },
  {
   "cell_type": "code",
   "execution_count": 23,
   "id": "7b2fdd61",
   "metadata": {},
   "outputs": [
    {
     "data": {
      "text/plain": [
       "'p2'"
      ]
     },
     "execution_count": 23,
     "metadata": {},
     "output_type": "execute_result"
    }
   ],
   "source": [
    "player_led"
   ]
  },
  {
   "cell_type": "markdown",
   "id": "00b21a38",
   "metadata": {},
   "source": [
    "#### Determine trick winner"
   ]
  },
  {
   "cell_type": "code",
   "execution_count": 24,
   "id": "e1be5e00",
   "metadata": {},
   "outputs": [
    {
     "name": "stdout",
     "output_type": "stream",
     "text": [
      "p3 wins trick\n"
     ]
    },
    {
     "data": {
      "text/plain": [
       "'p3'"
      ]
     },
     "execution_count": 24,
     "metadata": {},
     "output_type": "execute_result"
    }
   ],
   "source": [
    "euchre_game.determine_trick_winner(cards_in_play={'p2': '9_S', 'p3': 'J_C', 'p4': 'J_H', 'p1': 'A_S'}, \n",
    "                           trump='S', \n",
    "                           player_led=player_led, \n",
    "                                   verbose=True)"
   ]
  },
  {
   "cell_type": "code",
   "execution_count": 25,
   "id": "aa320b76",
   "metadata": {},
   "outputs": [
    {
     "data": {
      "text/plain": [
       "'p1'"
      ]
     },
     "execution_count": 25,
     "metadata": {},
     "output_type": "execute_result"
    }
   ],
   "source": [
    "euchre_game.determine_trick_winner(cards_in_play={'p2': '9_S', 'p3': 'J_C', 'p4': 'J_S', 'p1': 'A_S'}, \n",
    "                           trump='D', \n",
    "                           player_led=player_led, \n",
    "                                   verbose=False)"
   ]
  },
  {
   "cell_type": "code",
   "execution_count": 26,
   "id": "17803ea1",
   "metadata": {},
   "outputs": [
    {
     "data": {
      "text/plain": [
       "'p2'"
      ]
     },
     "execution_count": 26,
     "metadata": {},
     "output_type": "execute_result"
    }
   ],
   "source": [
    "trick_winner = euchre_game.determine_trick_winner(cards_in_play=cards_in_play,\n",
    "                                           trump=trump,\n",
    "                                           player_led=player_led)\n",
    "\n",
    "trick_winner"
   ]
  },
  {
   "cell_type": "code",
   "execution_count": 27,
   "id": "48c13202",
   "metadata": {},
   "outputs": [
    {
     "data": {
      "text/plain": [
       "'p3'"
      ]
     },
     "execution_count": 27,
     "metadata": {},
     "output_type": "execute_result"
    }
   ],
   "source": [
    "euchre_game.determine_trick_winner(cards_in_play={'p2': '9_S', 'p3': 'J_H', 'p4': 'J_S', 'p1': 'A_D'}, \n",
    "                           trump='D', \n",
    "                           player_led='p2', \n",
    "                                   verbose=False)"
   ]
  },
  {
   "cell_type": "code",
   "execution_count": 28,
   "id": "f5366e7d",
   "metadata": {},
   "outputs": [
    {
     "data": {
      "text/plain": [
       "'p1'"
      ]
     },
     "execution_count": 28,
     "metadata": {},
     "output_type": "execute_result"
    }
   ],
   "source": [
    "euchre_game.determine_trick_winner(cards_in_play={'p2': '9_S', 'p3': 'T_D', 'p4': 'J_S', 'p1': 'A_D'}, \n",
    "                           trump='D', \n",
    "                           player_led='p2', \n",
    "                                   verbose=False)"
   ]
  },
  {
   "cell_type": "code",
   "execution_count": null,
   "id": "317817cc",
   "metadata": {},
   "outputs": [],
   "source": []
  },
  {
   "cell_type": "markdown",
   "id": "dbb6672f",
   "metadata": {},
   "source": [
    "#### Swap card in dealer hand"
   ]
  },
  {
   "cell_type": "code",
   "execution_count": 29,
   "id": "ca9334cb",
   "metadata": {},
   "outputs": [
    {
     "name": "stdout",
     "output_type": "stream",
     "text": [
      "Dealer discards 9_H and picks up A_S\n"
     ]
    },
    {
     "data": {
      "text/plain": [
       "['J_H', 'A_D', 'K_S', 'J_D', 'A_S']"
      ]
     },
     "execution_count": 29,
     "metadata": {},
     "output_type": "execute_result"
    }
   ],
   "source": [
    "new_dealer_hand = euchre_game.swap_dealer_card(card_flipped_up='A_S', dealer_hand=['J_H', 'A_D', '9_H', 'K_S', 'J_D'], \n",
    "                                               verbose=True)\n",
    "new_dealer_hand"
   ]
  },
  {
   "cell_type": "code",
   "execution_count": 30,
   "id": "2f82dd26",
   "metadata": {},
   "outputs": [
    {
     "name": "stdout",
     "output_type": "stream",
     "text": [
      "Dealer discards T_D and picks up 9_S\n"
     ]
    },
    {
     "data": {
      "text/plain": [
       "['J_H', 'T_H', 'K_S', 'J_D', '9_S']"
      ]
     },
     "execution_count": 30,
     "metadata": {},
     "output_type": "execute_result"
    }
   ],
   "source": [
    "new_dealer_hand = euchre_game.swap_dealer_card(card_flipped_up='9_S', dealer_hand=['J_H', 'T_D', 'T_H', 'K_S', 'J_D'], \n",
    "                                               verbose=True)\n",
    "new_dealer_hand"
   ]
  },
  {
   "cell_type": "code",
   "execution_count": null,
   "id": "63f953fd",
   "metadata": {},
   "outputs": [],
   "source": []
  },
  {
   "cell_type": "markdown",
   "id": "19749e5b",
   "metadata": {},
   "source": [
    "### Play card"
   ]
  },
  {
   "cell_type": "code",
   "execution_count": 36,
   "id": "67865ab6",
   "metadata": {},
   "outputs": [
    {
     "data": {
      "text/plain": [
       "'J_D'"
      ]
     },
     "execution_count": 36,
     "metadata": {},
     "output_type": "execute_result"
    }
   ],
   "source": [
    "euchre_game.play_card(hand=['J_H', 'A_D', '9_H', 'K_S', 'J_D'], \n",
    "                      trump='S',\n",
    "                      cards_in_play={'p2': 'J_D', 'p3': 'A_D', 'p1': '9_D'}, \n",
    "                      player_led='p1',\n",
    "                      cards_played_this_hand=[], \n",
    "                      suit_led='D')"
   ]
  },
  {
   "cell_type": "code",
   "execution_count": 37,
   "id": "69a5755d",
   "metadata": {},
   "outputs": [
    {
     "data": {
      "text/plain": [
       "'J_D'"
      ]
     },
     "execution_count": 37,
     "metadata": {},
     "output_type": "execute_result"
    }
   ],
   "source": [
    "euchre_game.play_card(hand=['J_H', 'A_D', '9_H', 'K_S', 'J_D'], \n",
    "                      trump='D',\n",
    "                      cards_in_play={'p2': 'J_D', 'p3': 'A_D', 'p1': '9_D'}, \n",
    "                      player_led='p1',\n",
    "                      cards_played_this_hand=[], \n",
    "                      suit_led='D')"
   ]
  },
  {
   "cell_type": "markdown",
   "id": "9c7a0585",
   "metadata": {},
   "source": [
    "#### Play lead card"
   ]
  },
  {
   "cell_type": "code",
   "execution_count": 123,
   "id": "8e75629a",
   "metadata": {},
   "outputs": [
    {
     "data": {
      "text/plain": [
       "'A_S'"
      ]
     },
     "execution_count": 123,
     "metadata": {},
     "output_type": "execute_result"
    }
   ],
   "source": [
    "euchre_game.play_lead_card(hand=['9_D', 'T_C', '9_C', 'A_S', 'A_C'], \n",
    "               trump='S', \n",
    "               cards_played_this_hand=['J_S', 'J_C'])"
   ]
  },
  {
   "cell_type": "code",
   "execution_count": 124,
   "id": "b7b8ab0d",
   "metadata": {},
   "outputs": [
    {
     "data": {
      "text/plain": [
       "'A_D'"
      ]
     },
     "execution_count": 124,
     "metadata": {},
     "output_type": "execute_result"
    }
   ],
   "source": [
    "euchre_game.play_lead_card(hand=['T_D', 'T_C', 'Q_C', 'A_D', 'A_C'], \n",
    "               trump='S', \n",
    "               cards_played_this_hand=['J_S', 'J_C'])"
   ]
  },
  {
   "cell_type": "code",
   "execution_count": null,
   "id": "367cb8ee",
   "metadata": {},
   "outputs": [],
   "source": []
  },
  {
   "cell_type": "code",
   "execution_count": null,
   "id": "9170d3a9",
   "metadata": {},
   "outputs": [],
   "source": []
  },
  {
   "cell_type": "code",
   "execution_count": 40,
   "id": "091d635f",
   "metadata": {},
   "outputs": [],
   "source": [
    "from utils import play_random_card"
   ]
  },
  {
   "cell_type": "code",
   "execution_count": 41,
   "id": "3c285d21",
   "metadata": {},
   "outputs": [
    {
     "data": {
      "text/plain": [
       "'J_S'"
      ]
     },
     "execution_count": 41,
     "metadata": {},
     "output_type": "execute_result"
    }
   ],
   "source": [
    "play_random_card(hand=['9_D', 'T_C', '9_C', 'J_S', 'A_C'], \n",
    "                             suit_led=None)"
   ]
  },
  {
   "cell_type": "code",
   "execution_count": 42,
   "id": "1d69b6ee",
   "metadata": {},
   "outputs": [
    {
     "data": {
      "text/plain": [
       "'9_D'"
      ]
     },
     "execution_count": 42,
     "metadata": {},
     "output_type": "execute_result"
    }
   ],
   "source": [
    "play_random_card(hand=['9_D', 'T_C', '9_C', 'J_S', 'A_C'], \n",
    "                             suit_led='D')"
   ]
  },
  {
   "cell_type": "code",
   "execution_count": 43,
   "id": "f123fe39",
   "metadata": {},
   "outputs": [
    {
     "data": {
      "text/plain": [
       "'T_C'"
      ]
     },
     "execution_count": 43,
     "metadata": {},
     "output_type": "execute_result"
    }
   ],
   "source": [
    "play_random_card(hand=['9_D', 'T_C', '9_C', 'J_S', 'A_C'], \n",
    "                             suit_led='C')"
   ]
  },
  {
   "cell_type": "code",
   "execution_count": 52,
   "id": "da236d4c",
   "metadata": {},
   "outputs": [],
   "source": [
    "from utils import get_lowest_card"
   ]
  },
  {
   "cell_type": "code",
   "execution_count": 53,
   "id": "704b2d61",
   "metadata": {},
   "outputs": [
    {
     "data": {
      "text/plain": [
       "'9_C'"
      ]
     },
     "execution_count": 53,
     "metadata": {},
     "output_type": "execute_result"
    }
   ],
   "source": [
    "get_lowest_card(hand=['9_D', 'T_C', '9_C', 'J_S', 'A_C'], \n",
    "                suit='C')"
   ]
  },
  {
   "cell_type": "code",
   "execution_count": 54,
   "id": "1df4d546",
   "metadata": {},
   "outputs": [
    {
     "data": {
      "text/plain": [
       "'9_D'"
      ]
     },
     "execution_count": 54,
     "metadata": {},
     "output_type": "execute_result"
    }
   ],
   "source": [
    "get_lowest_card(hand=['9_D', 'T_C', '9_C', 'J_S', 'A_C'], \n",
    "                suit='H')"
   ]
  },
  {
   "cell_type": "code",
   "execution_count": 55,
   "id": "c2dc78bb",
   "metadata": {},
   "outputs": [
    {
     "data": {
      "text/plain": [
       "'A_D'"
      ]
     },
     "execution_count": 55,
     "metadata": {},
     "output_type": "execute_result"
    }
   ],
   "source": [
    "get_lowest_card(hand=['A_D', 'T_C', '9_C', 'J_S', 'A_C'], \n",
    "                suit='D')"
   ]
  },
  {
   "cell_type": "code",
   "execution_count": 56,
   "id": "62571f12",
   "metadata": {},
   "outputs": [
    {
     "data": {
      "text/plain": [
       "'9_C'"
      ]
     },
     "execution_count": 56,
     "metadata": {},
     "output_type": "execute_result"
    }
   ],
   "source": [
    "get_lowest_card(hand=['A_D', 'T_C', '9_C', 'J_S', 'A_C'])"
   ]
  },
  {
   "cell_type": "code",
   "execution_count": 57,
   "id": "edcfc680",
   "metadata": {},
   "outputs": [
    {
     "data": {
      "text/plain": [
       "'T_C'"
      ]
     },
     "execution_count": 57,
     "metadata": {},
     "output_type": "execute_result"
    }
   ],
   "source": [
    "get_lowest_card(hand=['A_D', 'T_C', 'T_H', 'J_S', 'A_C'])"
   ]
  },
  {
   "cell_type": "code",
   "execution_count": null,
   "id": "0db3d983",
   "metadata": {},
   "outputs": [],
   "source": []
  },
  {
   "cell_type": "code",
   "execution_count": 73,
   "id": "fd1dafda",
   "metadata": {},
   "outputs": [],
   "source": [
    "cards_in_play = {}"
   ]
  },
  {
   "cell_type": "code",
   "execution_count": 74,
   "id": "f7d9285e",
   "metadata": {},
   "outputs": [
    {
     "data": {
      "text/plain": [
       "0"
      ]
     },
     "execution_count": 74,
     "metadata": {},
     "output_type": "execute_result"
    }
   ],
   "source": [
    "len(cards_in_play)"
   ]
  },
  {
   "cell_type": "code",
   "execution_count": null,
   "id": "5f6d6079",
   "metadata": {},
   "outputs": [],
   "source": []
  },
  {
   "cell_type": "code",
   "execution_count": null,
   "id": "a1ddbb68",
   "metadata": {},
   "outputs": [],
   "source": []
  },
  {
   "cell_type": "markdown",
   "id": "976ca371",
   "metadata": {},
   "source": [
    "### Play full game"
   ]
  },
  {
   "cell_type": "code",
   "execution_count": 217,
   "id": "74567bc0",
   "metadata": {
    "scrolled": true
   },
   "outputs": [
    {
     "name": "stdout",
     "output_type": "stream",
     "text": [
      "Hand #0- Dealer: p1; Card flipped up: 9_C\n",
      "Player hands: {'p1': ['Q_D', 'T_H', 'Q_C', 'A_C', 'J_D'], 'p2': ['A_D', 'Q_S', 'K_C', 'A_H', 'T_S'], 'p3': ['9_S', 'Q_H', '9_D', 'T_C', 'J_C'], 'p4': ['J_H', 'K_S', 'K_H', 'K_D', 'J_S']}\n",
      "Trump not found\n",
      "Hand #0- Dealer: p2; Card flipped up: 9_S\n",
      "Player hands: {'p1': ['T_D', 'K_C', 'T_C', 'T_H', 'A_C'], 'p2': ['9_H', 'K_H', 'Q_C', 'J_H', 'A_D'], 'p3': ['9_C', 'J_D', 'Q_S', 'J_C', 'A_S'], 'p4': ['T_S', '9_D', 'K_D', 'J_S', 'K_S']}\n",
      "Player p4 has chosen S as trump\n",
      "Dealer discards 9_H and picks up 9_S\n",
      "Leading off with highest non-trump- Player p3 plays J_D, Following suit with lowest card- Player p4 plays 9_D, Following suit with lowest card- Player p1 plays T_D, Following suit with lowest card- Player p2 plays A_D, p2 wins trick\n",
      "Leading off with highest non-trump- Player p2 plays K_H, Lowest_trump_card- Player p3 plays Q_S, Lowest_trump_card- Player p4 plays T_S, Following suit with lowest card- Player p1 plays T_H, p3 wins trick\n",
      "Leading off with highest non-trump- Player p3 plays J_C, Lowest_trump_card- Player p4 plays J_S, Following suit with lowest card- Player p1 plays T_C, Following suit with lowest card- Player p2 plays Q_C, p4 wins trick\n",
      "Leading off with highest non-trump- Player p4 plays K_D, Lowest_card_in_hand- Player p1 plays K_C, Lowest_trump_card- Player p2 plays 9_S, Lowest_trump_card- Player p3 plays A_S, p3 wins trick\n",
      "Last card- Player p3 plays 9_C, Last card- Player p4 plays K_S, Last card- Player p1 plays A_C, Last card- Player p2 plays J_H, p4 wins trick\n",
      "Trick winners: {'p3': 2, 'p4': 2, 'p1': 0, 'p2': 1}\n",
      "t2 scores 1\n",
      "Current score: 0-1\n",
      "Hand #1- Dealer: p3; Card flipped up: 9_D\n",
      "Player hands: {'p1': ['9_S', '9_C', 'J_D', 'T_D', '9_H'], 'p2': ['T_H', 'Q_D', 'K_S', 'A_S', 'Q_C'], 'p3': ['K_H', 'A_C', 'T_S', 'J_S', 'T_C'], 'p4': ['J_H', 'A_D', 'Q_H', 'K_C', 'J_C']}\n",
      "Trump not found\n",
      "Hand #1- Dealer: p4; Card flipped up: 9_D\n",
      "Player hands: {'p1': ['9_H', 'K_D', 'A_D', 'T_D', 'T_H'], 'p2': ['J_S', 'A_C', 'J_H', 'J_C', 'J_D'], 'p3': ['K_S', 'K_C', 'Q_H', 'Q_D', 'T_C'], 'p4': ['A_H', '9_S', '9_C', 'Q_S', 'Q_C']}\n",
      "Player p1 has chosen D as trump\n",
      "Dealer discards 9_S and picks up 9_D\n",
      "Leading off with highest non-trump- Player p1 plays T_H, Following suit with lowest card- Player p2 plays J_H, Following suit with lowest card- Player p3 plays Q_H, Following suit with lowest card- Player p4 plays A_H, p2 wins trick\n",
      "Leading off with highest trump- Player p2 plays J_D, Following suit with lowest card- Player p3 plays Q_D, Following suit with lowest card- Player p4 plays 9_D, Following suit with lowest card- Player p1 plays T_D, p2 wins trick\n",
      "Leading off with highest non-trump- Player p2 plays A_C, Following suit with lowest card- Player p3 plays T_C, Following suit with lowest card- Player p4 plays 9_C, Lowest_trump_card- Player p1 plays K_D, p1 wins trick\n",
      "Leading off with highest trump- Player p1 plays A_D, Lowest_card_in_hand- Player p2 plays J_S, Lowest_card_in_hand- Player p3 plays K_S, Lowest_card_in_hand- Player p4 plays Q_S, p1 wins trick\n",
      "Last card- Player p1 plays 9_H, Last card- Player p2 plays J_C, Last card- Player p3 plays K_C, Last card- Player p4 plays Q_C, p1 wins trick\n",
      "Trick winners: {'p1': 3, 'p2': 2, 'p3': 0, 'p4': 0}\n",
      "t1 scores 1\n",
      "Current score: 1-1\n",
      "Hand #2- Dealer: p1; Card flipped up: 9_S\n",
      "Player hands: {'p1': ['A_H', '9_D', 'J_C', 'T_S', 'Q_H'], 'p2': ['Q_C', 'J_S', 'T_H', 'T_C', '9_H'], 'p3': ['A_D', '9_C', 'K_D', 'Q_S', 'J_H'], 'p4': ['A_S', 'J_D', 'A_C', 'K_S', 'T_D']}\n",
      "Trump not found\n",
      "Hand #2- Dealer: p2; Card flipped up: 9_S\n",
      "Player hands: {'p1': ['9_H', 'K_C', 'K_H', 'T_H', 'K_D'], 'p2': ['K_S', 'Q_S', 'Q_C', 'A_D', 'A_C'], 'p3': ['9_C', '9_D', 'T_S', 'T_C', 'T_D'], 'p4': ['Q_D', 'Q_H', 'J_S', 'A_H', 'A_S']}\n",
      "Player p1 has chosen H as trump\n",
      "Leading off with highest non-trump- Player p3 plays T_S, Following suit with lowest card- Player p4 plays J_S, Lowest_trump_card- Player p1 plays 9_H, Following suit with lowest card- Player p2 plays Q_S, p1 wins trick\n",
      "Leading off with highest non-trump- Player p1 plays K_C, Following suit with lowest card- Player p2 plays Q_C, Following suit with lowest card- Player p3 plays 9_C, Lowest_trump_card- Player p4 plays Q_H, p4 wins trick\n",
      "Leading off with highest non-trump- Player p4 plays A_S, Lowest_trump_card- Player p1 plays T_H, Following suit with lowest card- Player p2 plays K_S, Lowest_card_in_hand- Player p3 plays 9_D, p1 wins trick\n",
      "Leading off with highest non-trump- Player p1 plays K_D, Following suit with lowest card- Player p2 plays A_D, Following suit with lowest card- Player p3 plays T_D, Following suit with lowest card- Player p4 plays Q_D, p2 wins trick\n",
      "Last card- Player p2 plays A_C, Last card- Player p3 plays T_C, Last card- Player p4 plays A_H, Last card- Player p1 plays K_H, p4 wins trick\n",
      "Trick winners: {'p3': 0, 'p4': 2, 'p1': 2, 'p2': 1}\n",
      "t2 scores 2\n",
      "Current score: 1-3\n",
      "Hand #3- Dealer: p3; Card flipped up: Q_D\n",
      "Player hands: {'p1': ['9_C', 'T_D', 'T_C', 'A_S', 'J_C'], 'p2': ['K_D', 'Q_H', 'T_H', 'Q_C', 'T_S'], 'p3': ['A_D', 'K_H', 'J_D', '9_H', '9_S'], 'p4': ['J_S', '9_D', 'J_H', 'Q_S', 'A_C']}\n",
      "Player p1 has chosen C as trump\n",
      "Leading off with highest non-trump- Player p4 plays Q_S, Following suit with lowest card- Player p1 plays A_S, Following suit with lowest card- Player p2 plays T_S, Following suit with lowest card- Player p3 plays 9_S, p1 wins trick\n",
      "Leading off with highest trump- Player p1 plays J_C, Following suit with lowest card- Player p2 plays Q_C, Lowest_card_in_hand- Player p3 plays 9_H, Following suit with lowest card- Player p4 plays A_C, p1 wins trick\n",
      "Leading off with highest non-trump- Player p1 plays T_D, Following suit with lowest card- Player p2 plays K_D, Following suit with lowest card- Player p3 plays J_D, Following suit with lowest card- Player p4 plays 9_D, p2 wins trick\n",
      "Leading off with highest non-trump- Player p2 plays Q_H, Following suit with lowest card- Player p3 plays K_H, Following suit with lowest card- Player p4 plays J_H, Lowest_trump_card- Player p1 plays 9_C, p1 wins trick\n",
      "Last card- Player p1 plays T_C, Last card- Player p2 plays T_H, Last card- Player p3 plays A_D, Last card- Player p4 plays J_S, p4 wins trick\n",
      "Trick winners: {'p4': 1, 'p1': 3, 'p2': 1, 'p3': 0}\n",
      "t1 scores 1\n",
      "Current score: 2-3\n",
      "Hand #4- Dealer: p4; Card flipped up: 9_H\n",
      "Player hands: {'p1': ['K_D', 'J_D', 'J_C', 'A_S', 'Q_S'], 'p2': ['9_C', 'Q_C', 'Q_D', 'A_H', '9_S'], 'p3': ['T_C', 'T_D', 'J_S', 'K_S', '9_D'], 'p4': ['T_H', 'K_H', 'K_C', 'J_H', 'A_C']}\n",
      "Player p4 has chosen H as trump\n",
      "Dealer discards K_C and picks up 9_H\n",
      "Leading off with highest non-trump- Player p1 plays A_S, Following suit with lowest card- Player p2 plays 9_S, Following suit with lowest card- Player p3 plays J_S, Lowest_trump_card- Player p4 plays 9_H, p4 wins trick\n",
      "Leading off with highest trump- Player p4 plays J_H, Lowest_card_in_hand- Player p1 plays J_D, Following suit with lowest card- Player p2 plays A_H, Lowest_card_in_hand- Player p3 plays 9_D, p4 wins trick\n",
      "Leading off with highest trump- Player p4 plays K_H, Lowest_card_in_hand- Player p1 plays J_C, Lowest_card_in_hand- Player p2 plays 9_C, Lowest_card_in_hand- Player p3 plays T_C, p4 wins trick\n",
      "Leading off with highest non-trump- Player p4 plays A_C, Lowest_card_in_hand- Player p1 plays Q_S, Following suit with lowest card- Player p2 plays Q_C, Lowest_card_in_hand- Player p3 plays T_D, p4 wins trick\n",
      "Last card- Player p4 plays T_H, Last card- Player p1 plays K_D, Last card- Player p2 plays Q_D, Last card- Player p3 plays K_S, p4 wins trick\n",
      "Trick winners: {'p1': 0, 'p2': 0, 'p3': 0, 'p4': 5}\n",
      "t2 scores 2\n",
      "Current score: 2-5\n",
      "Hand #5- Dealer: p1; Card flipped up: 9_H\n",
      "Player hands: {'p1': ['K_D', 'A_H', 'T_H', 'Q_C', 'J_D'], 'p2': ['K_C', 'A_D', '9_S', 'J_S', 'Q_H'], 'p3': ['Q_S', 'T_C', 'A_S', 'J_H', '9_C'], 'p4': ['T_D', 'A_C', 'K_H', 'J_C', 'K_S']}\n",
      "Trump not found\n",
      "Hand #5- Dealer: p2; Card flipped up: Q_H\n",
      "Player hands: {'p1': ['9_D', 'A_D', '9_C', '9_H', 'T_H'], 'p2': ['Q_D', 'K_C', 'J_C', 'J_D', 'A_C'], 'p3': ['J_H', 'T_S', 'J_S', '9_S', 'Q_S'], 'p4': ['T_D', 'Q_C', 'A_H', 'K_S', 'T_C']}\n",
      "Player p3 has chosen S as trump\n",
      "Leading off with highest trump- Player p3 plays J_S, Following suit with lowest card- Player p4 plays K_S, Lowest_card_in_hand- Player p1 plays 9_D, Lowest_card_in_hand- Player p2 plays J_C, p3 wins trick\n",
      "Leading off with highest non-trump- Player p3 plays J_H, Following suit with lowest card- Player p4 plays A_H, Following suit with lowest card- Player p1 plays 9_H, Lowest_card_in_hand- Player p2 plays J_D, p4 wins trick\n",
      "Leading off with highest non-trump- Player p4 plays Q_C, Following suit with lowest card- Player p1 plays 9_C, Following suit with lowest card- Player p2 plays K_C, Lowest_trump_card- Player p3 plays 9_S, p3 wins trick\n",
      "Leading off with lowest overall card- Player p3 plays T_S, Lowest_card_in_hand- Player p4 plays T_D, Lowest_card_in_hand- Player p1 plays T_H, Lowest_card_in_hand- Player p2 plays Q_D, p3 wins trick\n",
      "Last card- Player p3 plays Q_S, Last card- Player p4 plays T_C, Last card- Player p1 plays A_D, Last card- Player p2 plays A_C, p3 wins trick\n",
      "Trick winners: {'p3': 4, 'p4': 1, 'p1': 0, 'p2': 0}\n",
      "t1 scores 1\n",
      "Current score: 3-5\n",
      "Hand #6- Dealer: p3; Card flipped up: T_S\n",
      "Player hands: {'p1': ['Q_C', 'K_D', 'A_S', '9_H', '9_S'], 'p2': ['K_C', '9_D', '9_C', 'K_S', 'J_H'], 'p3': ['T_H', 'A_D', 'J_C', 'A_C', 'Q_H'], 'p4': ['Q_D', 'J_D', 'T_D', 'J_S', 'Q_S']}\n",
      "Player p4 has chosen D as trump\n",
      "Leading off with highest trump- Player p4 plays J_D, Following suit with lowest card- Player p1 plays K_D, Following suit with lowest card- Player p2 plays 9_D, Following suit with lowest card- Player p3 plays A_D, p4 wins trick\n",
      "Leading off with highest non-trump- Player p4 plays Q_S, Following suit with lowest card- Player p1 plays 9_S, Following suit with lowest card- Player p2 plays K_S, Lowest_card_in_hand- Player p3 plays T_H, p2 wins trick\n",
      "Leading off with highest trump- Player p2 plays J_H, Following suit with lowest card- Player p3 plays Q_H, Lowest_trump_card- Player p4 plays T_D, Following suit with lowest card- Player p1 plays 9_H, p2 wins trick\n",
      "Leading off with highest non-trump- Player p2 plays K_C, Following suit with lowest card- Player p3 plays J_C, Lowest_trump_card- Player p4 plays Q_D, Following suit with lowest card- Player p1 plays Q_C, p4 wins trick\n",
      "Last card- Player p4 plays J_S, Last card- Player p1 plays A_S, Last card- Player p2 plays 9_C, Last card- Player p3 plays A_C, p1 wins trick\n",
      "Trick winners: {'p4': 2, 'p1': 1, 'p2': 2, 'p3': 0}\n",
      "t2 scores 1\n",
      "Current score: 3-6\n",
      "Hand #7- Dealer: p4; Card flipped up: J_C\n",
      "Player hands: {'p1': ['K_D', 'K_S', 'T_H', '9_S', 'A_C'], 'p2': ['J_S', 'Q_S', '9_H', 'Q_D', 'A_D'], 'p3': ['9_D', 'T_S', 'T_D', 'Q_C', 'A_H'], 'p4': ['K_H', 'T_C', '9_C', 'A_S', 'J_D']}\n",
      "Trump not found\n",
      "Hand #7- Dealer: p1; Card flipped up: 9_C\n",
      "Player hands: {'p1': ['K_S', '9_D', 'A_C', 'A_H', 'T_S'], 'p2': ['T_C', 'Q_C', 'Q_S', 'T_H', 'Q_H'], 'p3': ['K_D', 'K_C', 'T_D', 'A_S', 'Q_D'], 'p4': ['J_D', 'J_H', '9_S', 'K_H', '9_H']}\n",
      "Player p3 has chosen D as trump\n",
      "Leading off with highest non-trump- Player p2 plays Q_C, Following suit with lowest card- Player p3 plays K_C, Lowest_trump_card- Player p4 plays J_D, Following suit with lowest card- Player p1 plays A_C, p4 wins trick\n",
      "Leading off with highest trump- Player p4 plays J_H, Following suit with lowest card- Player p1 plays A_H, Following suit with lowest card- Player p2 plays T_H, Lowest_trump_card- Player p3 plays T_D, p4 wins trick\n",
      "Leading off with highest non-trump- Player p4 plays K_H, Lowest_trump_card- Player p1 plays 9_D, Following suit with lowest card- Player p2 plays Q_H, Lowest_trump_card- Player p3 plays Q_D, p3 wins trick\n",
      "Leading off with highest non-trump- Player p3 plays A_S, Following suit with lowest card- Player p4 plays 9_S, Following suit with lowest card- Player p1 plays T_S, Following suit with lowest card- Player p2 plays Q_S, p3 wins trick\n",
      "Last card- Player p3 plays K_D, Last card- Player p4 plays 9_H, Last card- Player p1 plays K_S, Last card- Player p2 plays T_C, p3 wins trick\n",
      "Trick winners: {'p2': 0, 'p3': 3, 'p4': 2, 'p1': 0}\n",
      "t1 scores 1\n",
      "Current score: 4-6\n",
      "Hand #8- Dealer: p2; Card flipped up: T_H\n",
      "Player hands: {'p1': ['J_D', '9_S', 'A_H', '9_D', 'A_D'], 'p2': ['Q_C', '9_C', 'T_S', 'K_C', 'T_C'], 'p3': ['9_H', 'A_S', 'J_H', 'K_S', 'K_H'], 'p4': ['Q_H', 'K_D', 'J_S', 'Q_S', 'T_D']}\n",
      "Player p3 has chosen H as trump\n",
      "Dealer discards 9_C and picks up T_H\n",
      "Leading off with highest trump- Player p3 plays J_H, Following suit with lowest card- Player p4 plays Q_H, Following suit with lowest card- Player p1 plays A_H, Following suit with lowest card- Player p2 plays T_H, p3 wins trick\n",
      "Leading off with highest non-trump- Player p3 plays A_S, Following suit with lowest card- Player p4 plays J_S, Following suit with lowest card- Player p1 plays 9_S, Following suit with lowest card- Player p2 plays T_S, p3 wins trick\n",
      "Leading off with highest non-trump- Player p3 plays K_S, Following suit with lowest card- Player p4 plays Q_S, Lowest_card_in_hand- Player p1 plays 9_D, Lowest_card_in_hand- Player p2 plays T_C, p3 wins trick\n",
      "Leading off with lowest overall card- Player p3 plays 9_H, Lowest_card_in_hand- Player p4 plays T_D, Lowest_card_in_hand- Player p1 plays J_D, Lowest_card_in_hand- Player p2 plays Q_C, p1 wins trick\n",
      "Last card- Player p1 plays A_D, Last card- Player p2 plays K_C, Last card- Player p3 plays K_H, Last card- Player p4 plays K_D, p3 wins trick\n",
      "Trick winners: {'p3': 4, 'p4': 0, 'p1': 1, 'p2': 0}\n",
      "t1 scores 2\n",
      "Current score: 6-6\n",
      "Hand #9- Dealer: p3; Card flipped up: K_C\n",
      "Player hands: {'p1': ['T_S', 'A_S', '9_C', 'Q_H', 'J_C'], 'p2': ['T_C', 'J_D', 'Q_D', 'Q_C', '9_D'], 'p3': ['Q_S', '9_H', 'A_D', 'J_H', 'T_D'], 'p4': ['J_S', 'K_H', 'K_S', '9_S', 'T_H']}\n",
      "Player p4 has chosen S as trump\n",
      "Leading off with highest trump- Player p4 plays J_S, Following suit with lowest card- Player p1 plays T_S, Lowest_card_in_hand- Player p2 plays 9_D, Following suit with lowest card- Player p3 plays Q_S, p4 wins trick\n",
      "Leading off with highest non-trump- Player p4 plays K_H, Following suit with lowest card- Player p1 plays Q_H, Lowest_card_in_hand- Player p2 plays T_C, Following suit with lowest card- Player p3 plays 9_H, p4 wins trick\n",
      "Leading off with highest non-trump- Player p4 plays T_H, Lowest_trump_card- Player p1 plays A_S, Lowest_card_in_hand- Player p2 plays J_D, Following suit with lowest card- Player p3 plays J_H, p1 wins trick\n",
      "Leading off with highest trump- Player p1 plays J_C, Following suit with lowest card- Player p2 plays Q_C, Lowest_card_in_hand- Player p3 plays T_D, Lowest_trump_card- Player p4 plays 9_S, p1 wins trick\n",
      "Last card- Player p1 plays 9_C, Last card- Player p2 plays Q_D, Last card- Player p3 plays A_D, Last card- Player p4 plays K_S, p4 wins trick\n",
      "Trick winners: {'p4': 3, 'p1': 2, 'p2': 0, 'p3': 0}\n",
      "t2 scores 1\n",
      "Current score: 6-7\n",
      "Hand #10- Dealer: p4; Card flipped up: 9_S\n",
      "Player hands: {'p1': ['9_D', 'T_H', '9_H', 'Q_S', 'J_H'], 'p2': ['T_S', 'A_C', 'A_D', '9_C', 'K_H'], 'p3': ['A_S', 'Q_C', 'K_C', 'K_S', 'Q_D'], 'p4': ['A_H', 'Q_H', 'K_D', 'T_C', 'T_D']}\n",
      "Player p1 has chosen H as trump\n",
      "Leading off with highest trump- Player p1 plays J_H, Following suit with lowest card- Player p2 plays K_H, Lowest_card_in_hand- Player p3 plays Q_C, Following suit with lowest card- Player p4 plays Q_H, p1 wins trick\n",
      "Leading off with highest non-trump- Player p1 plays Q_S, Following suit with lowest card- Player p2 plays T_S, Following suit with lowest card- Player p3 plays K_S, Lowest_trump_card- Player p4 plays A_H, p4 wins trick\n",
      "Leading off with highest non-trump- Player p4 plays K_D, Following suit with lowest card- Player p1 plays 9_D, Following suit with lowest card- Player p2 plays A_D, Following suit with lowest card- Player p3 plays Q_D, p2 wins trick\n",
      "Leading off with highest non-trump- Player p2 plays A_C, Following suit with lowest card- Player p3 plays K_C, Following suit with lowest card- Player p4 plays T_C, Lowest_trump_card- Player p1 plays 9_H, p1 wins trick\n",
      "Last card- Player p1 plays T_H, Last card- Player p2 plays 9_C, Last card- Player p3 plays A_S, Last card- Player p4 plays T_D, p1 wins trick\n",
      "Trick winners: {'p1': 3, 'p2': 1, 'p3': 0, 'p4': 1}\n",
      "t1 scores 1\n",
      "Current score: 7-7\n",
      "Hand #11- Dealer: p1; Card flipped up: 9_C\n",
      "Player hands: {'p1': ['K_C', 'J_D', 'A_H', 'Q_C', 'J_S'], 'p2': ['T_H', 'T_D', 'K_S', 'A_D', '9_H'], 'p3': ['T_C', 'Q_H', '9_S', '9_D', 'Q_S'], 'p4': ['T_S', 'K_H', 'A_S', 'A_C', 'J_C']}\n",
      "Trump not found\n",
      "Hand #11- Dealer: p2; Card flipped up: T_S\n",
      "Player hands: {'p1': ['Q_C', 'Q_S', '9_H', 'Q_D', 'K_S'], 'p2': ['J_S', 'K_D', 'K_H', 'A_C', 'K_C'], 'p3': ['J_D', 'T_C', 'A_S', '9_D', 'A_H'], 'p4': ['T_D', 'T_H', 'J_C', '9_S', '9_C']}\n",
      "Trump not found\n",
      "Hand #11- Dealer: p3; Card flipped up: T_C\n",
      "Player hands: {'p1': ['J_S', 'J_D', 'K_C', 'K_S', 'Q_C'], 'p2': ['A_S', '9_C', 'T_S', '9_S', 'A_C'], 'p3': ['A_H', 'T_H', 'Q_H', '9_D', 'Q_D'], 'p4': ['T_D', 'K_D', 'J_C', '9_H', 'Q_S']}\n",
      "Player p2 has chosen S as trump\n",
      "Leading off with highest non-trump- Player p4 plays K_D, Following suit with lowest card- Player p1 plays J_D, Lowest_trump_card- Player p2 plays 9_S, Following suit with lowest card- Player p3 plays 9_D, p2 wins trick\n",
      "Leading off with highest non-trump- Player p2 plays A_C, Lowest_card_in_hand- Player p3 plays T_H, Following suit with lowest card- Player p4 plays J_C, Following suit with lowest card- Player p1 plays Q_C, p4 wins trick\n",
      "Leading off with highest non-trump- Player p4 plays T_D, Lowest_trump_card- Player p1 plays J_S, Lowest_trump_card- Player p2 plays T_S, Following suit with lowest card- Player p3 plays Q_D, p1 wins trick\n",
      "Leading off with highest non-trump- Player p1 plays K_C, Following suit with lowest card- Player p2 plays 9_C, Lowest_card_in_hand- Player p3 plays Q_H, Lowest_trump_card- Player p4 plays Q_S, p4 wins trick\n",
      "Last card- Player p4 plays 9_H, Last card- Player p1 plays K_S, Last card- Player p2 plays A_S, Last card- Player p3 plays A_H, p2 wins trick\n",
      "Trick winners: {'p4': 2, 'p1': 1, 'p2': 2, 'p3': 0}\n",
      "t2 scores 1\n",
      "Current score: 7-8\n",
      "Hand #12- Dealer: p4; Card flipped up: 9_C\n",
      "Player hands: {'p1': ['Q_H', 'A_D', 'Q_S', 'T_C', 'J_H'], 'p2': ['9_H', 'K_H', 'T_S', 'A_C', 'T_D'], 'p3': ['T_H', 'A_H', '9_D', 'K_S', '9_S'], 'p4': ['K_D', 'J_D', 'Q_D', 'Q_C', 'J_C']}\n",
      "Player p4 has chosen D as trump\n",
      "Leading off with highest non-trump- Player p1 plays Q_H, Following suit with lowest card- Player p2 plays 9_H, Following suit with lowest card- Player p3 plays T_H, Lowest_trump_card- Player p4 plays J_D, p4 wins trick\n",
      "Leading off with highest non-trump- Player p4 plays Q_C, Following suit with lowest card- Player p1 plays T_C, Following suit with lowest card- Player p2 plays A_C, Lowest_trump_card- Player p3 plays 9_D, p3 wins trick\n",
      "Leading off with highest non-trump- Player p3 plays A_H, Lowest_trump_card- Player p4 plays Q_D, Following suit with lowest card- Player p1 plays J_H, Following suit with lowest card- Player p2 plays K_H, p1 wins trick\n",
      "Leading off with highest trump- Player p1 plays A_D, Following suit with lowest card- Player p2 plays T_D, Lowest_card_in_hand- Player p3 plays 9_S, Following suit with lowest card- Player p4 plays K_D, p1 wins trick\n",
      "Last card- Player p1 plays Q_S, Last card- Player p2 plays T_S, Last card- Player p3 plays K_S, Last card- Player p4 plays J_C, p3 wins trick\n",
      "Trick winners: {'p1': 2, 'p2': 0, 'p3': 2, 'p4': 1}\n",
      "t1 scores 2\n",
      "Current score: 9-8\n",
      "Hand #13- Dealer: p1; Card flipped up: 9_H\n",
      "Player hands: {'p1': ['T_C', 'T_H', 'A_H', 'J_S', 'Q_H'], 'p2': ['Q_D', 'A_C', 'A_D', '9_S', 'A_S'], 'p3': ['9_D', 'K_D', 'T_S', 'J_C', 'J_D'], 'p4': ['9_C', 'K_H', 'T_D', 'J_H', 'Q_S']}\n",
      "Player p1 has chosen H as trump\n",
      "Dealer discards T_C and picks up 9_H\n",
      "Leading off with highest non-trump- Player p2 plays A_C, Following suit with lowest card- Player p3 plays J_C, Following suit with lowest card- Player p4 plays 9_C, Lowest_trump_card- Player p1 plays 9_H, p1 wins trick\n",
      "Leading off with highest non-trump- Player p1 plays J_S, Following suit with lowest card- Player p2 plays 9_S, Following suit with lowest card- Player p3 plays T_S, Following suit with lowest card- Player p4 plays Q_S, p4 wins trick\n",
      "Leading off with highest trump- Player p4 plays J_H, Following suit with lowest card- Player p1 plays T_H, Lowest_card_in_hand- Player p2 plays Q_D, Lowest_card_in_hand- Player p3 plays 9_D, p4 wins trick\n",
      "Leading off with highest non-trump- Player p4 plays T_D, Lowest_trump_card- Player p1 plays Q_H, Following suit with lowest card- Player p2 plays A_D, Following suit with lowest card- Player p3 plays J_D, p3 wins trick\n",
      "Last card- Player p3 plays K_D, Last card- Player p4 plays K_H, Last card- Player p1 plays A_H, Last card- Player p2 plays A_S, p1 wins trick\n",
      "Trick winners: {'p2': 0, 'p3': 1, 'p4': 2, 'p1': 2}\n",
      "t1 scores 1\n",
      "Current score: 10-8\n",
      "Total hands played 14\n",
      "Wall time: 96.9 ms\n"
     ]
    }
   ],
   "source": [
    "%%time\n",
    "\n",
    "euchre_game = EuchreGame()\n",
    "euchre_game.play_full_game(verbose=True)"
   ]
  },
  {
   "cell_type": "code",
   "execution_count": 424,
   "id": "06225cf9",
   "metadata": {},
   "outputs": [
    {
     "data": {
      "text/plain": [
       "{'t1': 10, 't2': 6}"
      ]
     },
     "execution_count": 424,
     "metadata": {},
     "output_type": "execute_result"
    }
   ],
   "source": [
    "euchre_game.score"
   ]
  },
  {
   "cell_type": "code",
   "execution_count": null,
   "id": "bba14935",
   "metadata": {},
   "outputs": [],
   "source": []
  },
  {
   "cell_type": "markdown",
   "id": "3c416ee0",
   "metadata": {},
   "source": [
    "#### Collect all hands results"
   ]
  },
  {
   "cell_type": "code",
   "execution_count": 386,
   "id": "a61703b6",
   "metadata": {},
   "outputs": [
    {
     "data": {
      "text/plain": [
       "[None,\n",
       " {'player_hands': {'p1': ['A_H', '9_H', 'Q_S', 'T_C', '9_C'],\n",
       "   'p2': ['A_D', 'K_D', '9_D', 'T_D', 'T_H'],\n",
       "   'p3': ['J_H', 'J_S', '9_S', 'K_H', 'A_S'],\n",
       "   'p4': ['J_C', 'A_C', 'T_S', 'K_C', 'Q_H']},\n",
       "  'calling_player': 'p2',\n",
       "  'trump': 'D',\n",
       "  'dealer': 'p2',\n",
       "  'hand_score': {'t1': 0, 't2': 1},\n",
       "  'trick_winners': {'p3': 1, 'p4': 0, 'p1': 0, 'p2': 4}},\n",
       " None]"
      ]
     },
     "execution_count": 386,
     "metadata": {},
     "output_type": "execute_result"
    }
   ],
   "source": [
    "euchre_game = EuchreGame()\n",
    "hand_results = euchre_game.play_full_game(return_all_hands_results=True, verbose=False)\n",
    "hand_results[0:3]"
   ]
  },
  {
   "cell_type": "code",
   "execution_count": 316,
   "id": "da41d0d4",
   "metadata": {},
   "outputs": [
    {
     "data": {
      "text/plain": [
       "10"
      ]
     },
     "execution_count": 316,
     "metadata": {},
     "output_type": "execute_result"
    }
   ],
   "source": [
    "len(hand_results)"
   ]
  },
  {
   "cell_type": "code",
   "execution_count": null,
   "id": "d7fffa15",
   "metadata": {},
   "outputs": [],
   "source": []
  },
  {
   "cell_type": "markdown",
   "id": "2f4c6b11",
   "metadata": {},
   "source": [
    "#### Profile performance"
   ]
  },
  {
   "cell_type": "code",
   "execution_count": 186,
   "id": "2e3c6ada",
   "metadata": {},
   "outputs": [
    {
     "name": "stdout",
     "output_type": "stream",
     "text": [
      " "
     ]
    }
   ],
   "source": [
    "%%prun\n",
    "\n",
    "euchre_game = EuchreGame()\n",
    "euchre_game.play_full_game(verbose=False)"
   ]
  },
  {
   "cell_type": "code",
   "execution_count": null,
   "id": "be211eaf",
   "metadata": {},
   "outputs": [],
   "source": []
  },
  {
   "cell_type": "markdown",
   "id": "74dd206b",
   "metadata": {},
   "source": [
    "### Loop through games played, collect strategy results"
   ]
  },
  {
   "cell_type": "code",
   "execution_count": 196,
   "id": "5b775975",
   "metadata": {
    "scrolled": true
   },
   "outputs": [
    {
     "name": "stdout",
     "output_type": "stream",
     "text": [
      "Wall time: 801 ms\n"
     ]
    }
   ],
   "source": [
    "%%time\n",
    "\n",
    "N_GAMES_TO_PLAY = 100\n",
    "\n",
    "strategy_results = {'t1_wins':0}\n",
    "\n",
    "for i in range(N_GAMES_TO_PLAY):\n",
    "    euchre_game = EuchreGame()\n",
    "    euchre_game.team_strategies['t2'] = 'random'  # set team 2 strategy to random\n",
    "    euchre_game.play_full_game(verbose=False)\n",
    "    if euchre_game.score['t1'] > euchre_game.score['t2']:\n",
    "        strategy_results['t1_wins'] += 1\n",
    "    strategy_results['t1_score'] = euchre_game.score['t1']\n",
    "    strategy_results['t2_score'] = euchre_game.score['t2']"
   ]
  },
  {
   "cell_type": "code",
   "execution_count": 208,
   "id": "70d76b51",
   "metadata": {},
   "outputs": [
    {
     "data": {
      "text/plain": [
       "{'t1_wins': 75, 't1_score': 10, 't2_score': 4}"
      ]
     },
     "execution_count": 208,
     "metadata": {},
     "output_type": "execute_result"
    }
   ],
   "source": [
    "strategy_results"
   ]
  },
  {
   "cell_type": "code",
   "execution_count": null,
   "id": "39becd99",
   "metadata": {},
   "outputs": [],
   "source": []
  },
  {
   "cell_type": "markdown",
   "id": "16dd92be",
   "metadata": {},
   "source": [
    "### Loop through games played, collect hand_results"
   ]
  },
  {
   "cell_type": "code",
   "execution_count": 136,
   "id": "21b95861",
   "metadata": {},
   "outputs": [],
   "source": [
    "import pandas as pd"
   ]
  },
  {
   "cell_type": "code",
   "execution_count": 143,
   "id": "e02568b3",
   "metadata": {},
   "outputs": [],
   "source": [
    "from utils import return_off_suit"
   ]
  },
  {
   "cell_type": "code",
   "execution_count": 175,
   "id": "6ab2837e",
   "metadata": {},
   "outputs": [
    {
     "name": "stdout",
     "output_type": "stream",
     "text": [
      "Wall time: 697 ms\n"
     ]
    }
   ],
   "source": [
    "%%time\n",
    "\n",
    "N_GAMES_TO_PLAY = 100\n",
    "\n",
    "all_hand_results = []\n",
    "games_played = 0\n",
    "t1_wins = 0\n",
    "for i in range(N_GAMES_TO_PLAY):\n",
    "    euchre_game = EuchreGame()\n",
    "    hand_results = euchre_game.play_full_game(return_all_hands_results=True, verbose=False)\n",
    "    games_played += 1\n",
    "    if euchre_game.score['t1'] > euchre_game.score['t2']:\n",
    "        t1_wins += 1\n",
    "    all_hand_results.append(hand_results)"
   ]
  },
  {
   "cell_type": "code",
   "execution_count": 176,
   "id": "f45f4f4e",
   "metadata": {},
   "outputs": [
    {
     "data": {
      "text/plain": [
       "{'player_hands': {'p1': ['9_D', 'T_C', 'K_D', 'K_H', '9_H'],\n",
       "  'p2': ['J_D', '9_S', 'A_H', 'A_C', 'Q_S'],\n",
       "  'p3': ['Q_H', 'T_S', 'T_D', 'J_S', 'A_S'],\n",
       "  'p4': ['Q_D', 'K_S', 'Q_C', 'J_C', 'T_H']},\n",
       " 'calling_player': 'p3',\n",
       " 'trump': 'S',\n",
       " 'dealer': 'p3',\n",
       " 'hand_score': {'t1': 0, 't2': 2},\n",
       " 'trick_winners': {'p4': 2, 'p1': 0, 'p2': 1, 'p3': 2}}"
      ]
     },
     "execution_count": 176,
     "metadata": {},
     "output_type": "execute_result"
    }
   ],
   "source": [
    "all_hand_results[0][0]"
   ]
  },
  {
   "cell_type": "code",
   "execution_count": 177,
   "id": "15a32ab1",
   "metadata": {},
   "outputs": [],
   "source": [
    "def return_df_from_hand_results(hand_results_dict):\n",
    "    fields_to_collect = ['tricks_won',\n",
    "                         'is_calling_player',\n",
    "                         'has_right', \n",
    "                         'has_left',\n",
    "                         'has_Atrump',\n",
    "                         'has_Ktrump',\n",
    "                         'has_Qtrump',\n",
    "                         'num_trump',\n",
    "                         'num_off_A',\n",
    "                         'num_off_K',\n",
    "                         'num_off_Q']\n",
    "    results_list = []\n",
    "    for player in hand_results_dict['trick_winners'].keys():\n",
    "        player_hand_results = dict.fromkeys(fields_to_collect,0)\n",
    "        player_hand_results['tricks_won'] = hand_results_dict['trick_winners'][player]\n",
    "        if player == hand_results_dict['calling_player']:\n",
    "            player_hand_results['is_calling_player'] = 1\n",
    "        player_hand_results['num_trump'] = 0\n",
    "        for idx, card in enumerate(hand_results_dict['player_hands'][player]):\n",
    "            if card[-1] == hand_results_dict['trump']:\n",
    "                player_hand_results['num_trump'] += 1\n",
    "                if card[0] == 'A':\n",
    "                    player_hand_results['has_Atrump'] = 1\n",
    "                if card[0] == 'K':\n",
    "                    player_hand_results['has_Ktrump'] = 1\n",
    "                if card[0] == 'Q':\n",
    "                    player_hand_results['has_Qtrump'] = 1\n",
    "                if card[0] == 'J':\n",
    "                    player_hand_results['has_right'] = 1\n",
    "            else:\n",
    "                if card[0] == 'A':\n",
    "                    player_hand_results['num_off_A'] += 1\n",
    "                if card[0] == 'K':\n",
    "                    player_hand_results['num_off_K'] += 1\n",
    "                if card[0] == 'Q':\n",
    "                    player_hand_results['num_off_Q'] += 1\n",
    "                if card[0] == 'J':\n",
    "                    if return_off_suit(card[-1]) == trump:\n",
    "                        player_hand_results['has_left'] = 1\n",
    "                        player_hand_results['num_trump'] += 1\n",
    "        results_list.append(player_hand_results)\n",
    "    return pd.DataFrame(results_list)"
   ]
  },
  {
   "cell_type": "code",
   "execution_count": 178,
   "id": "62252d13",
   "metadata": {},
   "outputs": [
    {
     "data": {
      "text/plain": [
       "(4, 11)"
      ]
     },
     "execution_count": 178,
     "metadata": {},
     "output_type": "execute_result"
    }
   ],
   "source": [
    "results_df = return_df_from_hand_results(all_hand_results[0][0])\n",
    "results_df.shape"
   ]
  },
  {
   "cell_type": "code",
   "execution_count": 179,
   "id": "eaceae1d",
   "metadata": {},
   "outputs": [
    {
     "data": {
      "text/html": [
       "<div>\n",
       "<style scoped>\n",
       "    .dataframe tbody tr th:only-of-type {\n",
       "        vertical-align: middle;\n",
       "    }\n",
       "\n",
       "    .dataframe tbody tr th {\n",
       "        vertical-align: top;\n",
       "    }\n",
       "\n",
       "    .dataframe thead th {\n",
       "        text-align: right;\n",
       "    }\n",
       "</style>\n",
       "<table border=\"1\" class=\"dataframe\">\n",
       "  <thead>\n",
       "    <tr style=\"text-align: right;\">\n",
       "      <th></th>\n",
       "      <th>tricks_won</th>\n",
       "      <th>is_calling_player</th>\n",
       "      <th>has_right</th>\n",
       "      <th>has_left</th>\n",
       "      <th>has_Atrump</th>\n",
       "      <th>has_Ktrump</th>\n",
       "      <th>has_Qtrump</th>\n",
       "      <th>num_trump</th>\n",
       "      <th>num_off_A</th>\n",
       "      <th>num_off_K</th>\n",
       "      <th>num_off_Q</th>\n",
       "    </tr>\n",
       "  </thead>\n",
       "  <tbody>\n",
       "    <tr>\n",
       "      <th>0</th>\n",
       "      <td>2</td>\n",
       "      <td>0</td>\n",
       "      <td>0</td>\n",
       "      <td>0</td>\n",
       "      <td>0</td>\n",
       "      <td>1</td>\n",
       "      <td>0</td>\n",
       "      <td>1</td>\n",
       "      <td>0</td>\n",
       "      <td>0</td>\n",
       "      <td>2</td>\n",
       "    </tr>\n",
       "    <tr>\n",
       "      <th>1</th>\n",
       "      <td>0</td>\n",
       "      <td>0</td>\n",
       "      <td>0</td>\n",
       "      <td>0</td>\n",
       "      <td>0</td>\n",
       "      <td>0</td>\n",
       "      <td>0</td>\n",
       "      <td>0</td>\n",
       "      <td>0</td>\n",
       "      <td>2</td>\n",
       "      <td>0</td>\n",
       "    </tr>\n",
       "    <tr>\n",
       "      <th>2</th>\n",
       "      <td>1</td>\n",
       "      <td>0</td>\n",
       "      <td>0</td>\n",
       "      <td>0</td>\n",
       "      <td>0</td>\n",
       "      <td>0</td>\n",
       "      <td>1</td>\n",
       "      <td>2</td>\n",
       "      <td>2</td>\n",
       "      <td>0</td>\n",
       "      <td>0</td>\n",
       "    </tr>\n",
       "    <tr>\n",
       "      <th>3</th>\n",
       "      <td>2</td>\n",
       "      <td>1</td>\n",
       "      <td>1</td>\n",
       "      <td>0</td>\n",
       "      <td>1</td>\n",
       "      <td>0</td>\n",
       "      <td>0</td>\n",
       "      <td>3</td>\n",
       "      <td>0</td>\n",
       "      <td>0</td>\n",
       "      <td>1</td>\n",
       "    </tr>\n",
       "  </tbody>\n",
       "</table>\n",
       "</div>"
      ],
      "text/plain": [
       "   tricks_won  is_calling_player  has_right  has_left  has_Atrump  has_Ktrump  \\\n",
       "0           2                  0          0         0           0           1   \n",
       "1           0                  0          0         0           0           0   \n",
       "2           1                  0          0         0           0           0   \n",
       "3           2                  1          1         0           1           0   \n",
       "\n",
       "   has_Qtrump  num_trump  num_off_A  num_off_K  num_off_Q  \n",
       "0           0          1          0          0          2  \n",
       "1           0          0          0          2          0  \n",
       "2           1          2          2          0          0  \n",
       "3           0          3          0          0          1  "
      ]
     },
     "execution_count": 179,
     "metadata": {},
     "output_type": "execute_result"
    }
   ],
   "source": [
    "results_df.head()"
   ]
  },
  {
   "cell_type": "code",
   "execution_count": null,
   "id": "7183dbe0",
   "metadata": {},
   "outputs": [],
   "source": []
  },
  {
   "cell_type": "code",
   "execution_count": null,
   "id": "2376cc19",
   "metadata": {},
   "outputs": [],
   "source": []
  },
  {
   "cell_type": "code",
   "execution_count": 180,
   "id": "e3f5e79b",
   "metadata": {},
   "outputs": [
    {
     "name": "stdout",
     "output_type": "stream",
     "text": [
      "Wall time: 2.34 s\n"
     ]
    }
   ],
   "source": [
    "%%time\n",
    "\n",
    "N_GAMES_TO_PLAY = 100\n",
    "\n",
    "all_hand_results_df = pd.DataFrame()\n",
    "for i in range(N_GAMES_TO_PLAY):\n",
    "    euchre_game = EuchreGame()\n",
    "    hand_results = euchre_game.play_full_game(return_all_hands_results=True, verbose=False)\n",
    "    game_results_df = pd.DataFrame()\n",
    "    for hand in hand_results:\n",
    "        hand_results_df = return_df_from_hand_results(hand)\n",
    "        game_results_df = pd.concat([game_results_df, hand_results_df])\n",
    "    all_hand_results_df = pd.concat([all_hand_results_df, game_results_df])"
   ]
  },
  {
   "cell_type": "code",
   "execution_count": 181,
   "id": "40be9e20",
   "metadata": {},
   "outputs": [
    {
     "data": {
      "text/plain": [
       "(5028, 11)"
      ]
     },
     "execution_count": 181,
     "metadata": {},
     "output_type": "execute_result"
    }
   ],
   "source": [
    "all_hand_results_df.shape"
   ]
  },
  {
   "cell_type": "code",
   "execution_count": 182,
   "id": "e95a8a76",
   "metadata": {},
   "outputs": [
    {
     "data": {
      "text/html": [
       "<div>\n",
       "<style scoped>\n",
       "    .dataframe tbody tr th:only-of-type {\n",
       "        vertical-align: middle;\n",
       "    }\n",
       "\n",
       "    .dataframe tbody tr th {\n",
       "        vertical-align: top;\n",
       "    }\n",
       "\n",
       "    .dataframe thead th {\n",
       "        text-align: right;\n",
       "    }\n",
       "</style>\n",
       "<table border=\"1\" class=\"dataframe\">\n",
       "  <thead>\n",
       "    <tr style=\"text-align: right;\">\n",
       "      <th></th>\n",
       "      <th>tricks_won</th>\n",
       "      <th>is_calling_player</th>\n",
       "      <th>has_right</th>\n",
       "      <th>has_left</th>\n",
       "      <th>has_Atrump</th>\n",
       "      <th>has_Ktrump</th>\n",
       "      <th>has_Qtrump</th>\n",
       "      <th>num_trump</th>\n",
       "      <th>num_off_A</th>\n",
       "      <th>num_off_K</th>\n",
       "      <th>num_off_Q</th>\n",
       "    </tr>\n",
       "  </thead>\n",
       "  <tbody>\n",
       "    <tr>\n",
       "      <th>0</th>\n",
       "      <td>5</td>\n",
       "      <td>1</td>\n",
       "      <td>1</td>\n",
       "      <td>0</td>\n",
       "      <td>1</td>\n",
       "      <td>0</td>\n",
       "      <td>1</td>\n",
       "      <td>3</td>\n",
       "      <td>1</td>\n",
       "      <td>0</td>\n",
       "      <td>0</td>\n",
       "    </tr>\n",
       "    <tr>\n",
       "      <th>0</th>\n",
       "      <td>5</td>\n",
       "      <td>1</td>\n",
       "      <td>1</td>\n",
       "      <td>0</td>\n",
       "      <td>1</td>\n",
       "      <td>0</td>\n",
       "      <td>0</td>\n",
       "      <td>3</td>\n",
       "      <td>0</td>\n",
       "      <td>1</td>\n",
       "      <td>0</td>\n",
       "    </tr>\n",
       "    <tr>\n",
       "      <th>0</th>\n",
       "      <td>5</td>\n",
       "      <td>1</td>\n",
       "      <td>1</td>\n",
       "      <td>0</td>\n",
       "      <td>0</td>\n",
       "      <td>0</td>\n",
       "      <td>1</td>\n",
       "      <td>3</td>\n",
       "      <td>0</td>\n",
       "      <td>1</td>\n",
       "      <td>0</td>\n",
       "    </tr>\n",
       "    <tr>\n",
       "      <th>0</th>\n",
       "      <td>5</td>\n",
       "      <td>1</td>\n",
       "      <td>1</td>\n",
       "      <td>0</td>\n",
       "      <td>0</td>\n",
       "      <td>0</td>\n",
       "      <td>1</td>\n",
       "      <td>3</td>\n",
       "      <td>1</td>\n",
       "      <td>1</td>\n",
       "      <td>0</td>\n",
       "    </tr>\n",
       "    <tr>\n",
       "      <th>2</th>\n",
       "      <td>5</td>\n",
       "      <td>1</td>\n",
       "      <td>0</td>\n",
       "      <td>0</td>\n",
       "      <td>1</td>\n",
       "      <td>1</td>\n",
       "      <td>1</td>\n",
       "      <td>3</td>\n",
       "      <td>1</td>\n",
       "      <td>0</td>\n",
       "      <td>0</td>\n",
       "    </tr>\n",
       "    <tr>\n",
       "      <th>3</th>\n",
       "      <td>5</td>\n",
       "      <td>1</td>\n",
       "      <td>1</td>\n",
       "      <td>0</td>\n",
       "      <td>1</td>\n",
       "      <td>1</td>\n",
       "      <td>0</td>\n",
       "      <td>3</td>\n",
       "      <td>1</td>\n",
       "      <td>0</td>\n",
       "      <td>0</td>\n",
       "    </tr>\n",
       "    <tr>\n",
       "      <th>3</th>\n",
       "      <td>5</td>\n",
       "      <td>1</td>\n",
       "      <td>1</td>\n",
       "      <td>0</td>\n",
       "      <td>1</td>\n",
       "      <td>1</td>\n",
       "      <td>0</td>\n",
       "      <td>4</td>\n",
       "      <td>1</td>\n",
       "      <td>0</td>\n",
       "      <td>0</td>\n",
       "    </tr>\n",
       "    <tr>\n",
       "      <th>0</th>\n",
       "      <td>5</td>\n",
       "      <td>1</td>\n",
       "      <td>1</td>\n",
       "      <td>0</td>\n",
       "      <td>0</td>\n",
       "      <td>0</td>\n",
       "      <td>0</td>\n",
       "      <td>3</td>\n",
       "      <td>1</td>\n",
       "      <td>1</td>\n",
       "      <td>0</td>\n",
       "    </tr>\n",
       "    <tr>\n",
       "      <th>0</th>\n",
       "      <td>5</td>\n",
       "      <td>1</td>\n",
       "      <td>1</td>\n",
       "      <td>0</td>\n",
       "      <td>0</td>\n",
       "      <td>1</td>\n",
       "      <td>1</td>\n",
       "      <td>3</td>\n",
       "      <td>1</td>\n",
       "      <td>0</td>\n",
       "      <td>0</td>\n",
       "    </tr>\n",
       "    <tr>\n",
       "      <th>3</th>\n",
       "      <td>5</td>\n",
       "      <td>1</td>\n",
       "      <td>1</td>\n",
       "      <td>0</td>\n",
       "      <td>0</td>\n",
       "      <td>1</td>\n",
       "      <td>0</td>\n",
       "      <td>3</td>\n",
       "      <td>1</td>\n",
       "      <td>0</td>\n",
       "      <td>0</td>\n",
       "    </tr>\n",
       "  </tbody>\n",
       "</table>\n",
       "</div>"
      ],
      "text/plain": [
       "   tricks_won  is_calling_player  has_right  has_left  has_Atrump  has_Ktrump  \\\n",
       "0           5                  1          1         0           1           0   \n",
       "0           5                  1          1         0           1           0   \n",
       "0           5                  1          1         0           0           0   \n",
       "0           5                  1          1         0           0           0   \n",
       "2           5                  1          0         0           1           1   \n",
       "3           5                  1          1         0           1           1   \n",
       "3           5                  1          1         0           1           1   \n",
       "0           5                  1          1         0           0           0   \n",
       "0           5                  1          1         0           0           1   \n",
       "3           5                  1          1         0           0           1   \n",
       "\n",
       "   has_Qtrump  num_trump  num_off_A  num_off_K  num_off_Q  \n",
       "0           1          3          1          0          0  \n",
       "0           0          3          0          1          0  \n",
       "0           1          3          0          1          0  \n",
       "0           1          3          1          1          0  \n",
       "2           1          3          1          0          0  \n",
       "3           0          3          1          0          0  \n",
       "3           0          4          1          0          0  \n",
       "0           0          3          1          1          0  \n",
       "0           1          3          1          0          0  \n",
       "3           0          3          1          0          0  "
      ]
     },
     "execution_count": 182,
     "metadata": {},
     "output_type": "execute_result"
    }
   ],
   "source": [
    "all_hand_results_df.sort_values('tricks_won', ascending=False).head(10)"
   ]
  },
  {
   "cell_type": "code",
   "execution_count": 183,
   "id": "5e535936",
   "metadata": {},
   "outputs": [],
   "source": [
    "# check hand with right bauer didn't take 0 tricks\n",
    "assert all_hand_results_df[(all_hand_results_df['tricks_won']==0) & (all_hand_results_df['has_right']==1)].shape[0] == 0"
   ]
  },
  {
   "cell_type": "code",
   "execution_count": 185,
   "id": "13391542",
   "metadata": {},
   "outputs": [
    {
     "data": {
      "text/html": [
       "<div>\n",
       "<style scoped>\n",
       "    .dataframe tbody tr th:only-of-type {\n",
       "        vertical-align: middle;\n",
       "    }\n",
       "\n",
       "    .dataframe tbody tr th {\n",
       "        vertical-align: top;\n",
       "    }\n",
       "\n",
       "    .dataframe thead th {\n",
       "        text-align: right;\n",
       "    }\n",
       "</style>\n",
       "<table border=\"1\" class=\"dataframe\">\n",
       "  <thead>\n",
       "    <tr style=\"text-align: right;\">\n",
       "      <th></th>\n",
       "      <th></th>\n",
       "      <th></th>\n",
       "      <th></th>\n",
       "      <th>avg_tricks</th>\n",
       "      <th>num_hands</th>\n",
       "    </tr>\n",
       "    <tr>\n",
       "      <th>has_right</th>\n",
       "      <th>has_left</th>\n",
       "      <th>has_Atrump</th>\n",
       "      <th>has_Ktrump</th>\n",
       "      <th></th>\n",
       "      <th></th>\n",
       "    </tr>\n",
       "  </thead>\n",
       "  <tbody>\n",
       "    <tr>\n",
       "      <th rowspan=\"8\" valign=\"top\">0</th>\n",
       "      <th rowspan=\"4\" valign=\"top\">0</th>\n",
       "      <th rowspan=\"2\" valign=\"top\">0</th>\n",
       "      <th>0</th>\n",
       "      <td>0.538159</td>\n",
       "      <td>2031</td>\n",
       "    </tr>\n",
       "    <tr>\n",
       "      <th>1</th>\n",
       "      <td>1.209804</td>\n",
       "      <td>510</td>\n",
       "    </tr>\n",
       "    <tr>\n",
       "      <th rowspan=\"2\" valign=\"top\">1</th>\n",
       "      <th>0</th>\n",
       "      <td>1.356164</td>\n",
       "      <td>511</td>\n",
       "    </tr>\n",
       "    <tr>\n",
       "      <th>1</th>\n",
       "      <td>2.339056</td>\n",
       "      <td>233</td>\n",
       "    </tr>\n",
       "    <tr>\n",
       "      <th rowspan=\"4\" valign=\"top\">1</th>\n",
       "      <th rowspan=\"2\" valign=\"top\">0</th>\n",
       "      <th>0</th>\n",
       "      <td>0.723542</td>\n",
       "      <td>463</td>\n",
       "    </tr>\n",
       "    <tr>\n",
       "      <th>1</th>\n",
       "      <td>1.145161</td>\n",
       "      <td>62</td>\n",
       "    </tr>\n",
       "    <tr>\n",
       "      <th rowspan=\"2\" valign=\"top\">1</th>\n",
       "      <th>0</th>\n",
       "      <td>1.507042</td>\n",
       "      <td>71</td>\n",
       "    </tr>\n",
       "    <tr>\n",
       "      <th>1</th>\n",
       "      <td>2.565217</td>\n",
       "      <td>23</td>\n",
       "    </tr>\n",
       "    <tr>\n",
       "      <th rowspan=\"8\" valign=\"top\">1</th>\n",
       "      <th rowspan=\"4\" valign=\"top\">0</th>\n",
       "      <th rowspan=\"2\" valign=\"top\">0</th>\n",
       "      <th>0</th>\n",
       "      <td>1.922619</td>\n",
       "      <td>504</td>\n",
       "    </tr>\n",
       "    <tr>\n",
       "      <th>1</th>\n",
       "      <td>2.837209</td>\n",
       "      <td>215</td>\n",
       "    </tr>\n",
       "    <tr>\n",
       "      <th rowspan=\"2\" valign=\"top\">1</th>\n",
       "      <th>0</th>\n",
       "      <td>3.166667</td>\n",
       "      <td>186</td>\n",
       "    </tr>\n",
       "    <tr>\n",
       "      <th>1</th>\n",
       "      <td>3.333333</td>\n",
       "      <td>78</td>\n",
       "    </tr>\n",
       "    <tr>\n",
       "      <th rowspan=\"4\" valign=\"top\">1</th>\n",
       "      <th rowspan=\"2\" valign=\"top\">0</th>\n",
       "      <th>0</th>\n",
       "      <td>2.000000</td>\n",
       "      <td>86</td>\n",
       "    </tr>\n",
       "    <tr>\n",
       "      <th>1</th>\n",
       "      <td>2.869565</td>\n",
       "      <td>23</td>\n",
       "    </tr>\n",
       "    <tr>\n",
       "      <th rowspan=\"2\" valign=\"top\">1</th>\n",
       "      <th>0</th>\n",
       "      <td>2.833333</td>\n",
       "      <td>24</td>\n",
       "    </tr>\n",
       "    <tr>\n",
       "      <th>1</th>\n",
       "      <td>3.875000</td>\n",
       "      <td>8</td>\n",
       "    </tr>\n",
       "  </tbody>\n",
       "</table>\n",
       "</div>"
      ],
      "text/plain": [
       "                                          avg_tricks  num_hands\n",
       "has_right has_left has_Atrump has_Ktrump                       \n",
       "0         0        0          0             0.538159       2031\n",
       "                              1             1.209804        510\n",
       "                   1          0             1.356164        511\n",
       "                              1             2.339056        233\n",
       "          1        0          0             0.723542        463\n",
       "                              1             1.145161         62\n",
       "                   1          0             1.507042         71\n",
       "                              1             2.565217         23\n",
       "1         0        0          0             1.922619        504\n",
       "                              1             2.837209        215\n",
       "                   1          0             3.166667        186\n",
       "                              1             3.333333         78\n",
       "          1        0          0             2.000000         86\n",
       "                              1             2.869565         23\n",
       "                   1          0             2.833333         24\n",
       "                              1             3.875000          8"
      ]
     },
     "execution_count": 185,
     "metadata": {},
     "output_type": "execute_result"
    }
   ],
   "source": [
    "all_hand_results_df.groupby(['has_right', \n",
    "                             'has_left', \n",
    "                            'has_Atrump', \n",
    "                            'has_Ktrump', \n",
    "                            # 'has_Qtrump',\n",
    "                            ]).agg(avg_tricks=('tricks_won', 'mean'), num_hands=('has_right','count'))"
   ]
  },
  {
   "cell_type": "code",
   "execution_count": null,
   "id": "fa893208",
   "metadata": {},
   "outputs": [],
   "source": []
  },
  {
   "cell_type": "code",
   "execution_count": null,
   "id": "84d99bd1",
   "metadata": {},
   "outputs": [],
   "source": []
  },
  {
   "cell_type": "code",
   "execution_count": null,
   "id": "48c8e58c",
   "metadata": {},
   "outputs": [],
   "source": []
  },
  {
   "cell_type": "code",
   "execution_count": 174,
   "id": "44ebfe46",
   "metadata": {},
   "outputs": [
    {
     "data": {
      "text/plain": [
       "<AxesSubplot:>"
      ]
     },
     "execution_count": 174,
     "metadata": {},
     "output_type": "execute_result"
    },
    {
     "data": {
      "image/png": "[encoded data removed]",
      "text/plain": [
       "<Figure size 432x288 with 1 Axes>"
      ]
     },
     "metadata": {
      "needs_background": "light"
     },
     "output_type": "display_data"
    }
   ],
   "source": [
    "all_hand_results_df['tricks_won'].hist(bins=20)"
   ]
  },
  {
   "cell_type": "code",
   "execution_count": null,
   "id": "ad4b7f26",
   "metadata": {},
   "outputs": [],
   "source": []
  },
  {
   "cell_type": "code",
   "execution_count": null,
   "id": "f8af0ee8",
   "metadata": {},
   "outputs": [],
   "source": []
  },
  {
   "cell_type": "code",
   "execution_count": null,
   "id": "9efd797d",
   "metadata": {},
   "outputs": [],
   "source": []
  },
  {
   "cell_type": "code",
   "execution_count": null,
   "id": "b9cb41d0",
   "metadata": {},
   "outputs": [],
   "source": []
  },
  {
   "cell_type": "markdown",
   "id": "c66348f3",
   "metadata": {},
   "source": [
    "### Next steps for development"
   ]
  },
  {
   "cell_type": "code",
   "execution_count": null,
   "id": "e2bb4616",
   "metadata": {},
   "outputs": [],
   "source": [
    "# Build out play card strategy\n",
    "    # add logic to check what cards have been played in hand so far\n",
    "        # update cards_played_this_hand to dict to be able to tell which players played which cards\n",
    "        # check what trump has been played, etc., if highest remain \n",
    "# Build out framework to evaluate statistical significance of different strategies\n",
    "    # chart overlapping histograms of points scored for different strategies across hands\n",
    "# Handle loners\n",
    "    # add functionality to determine trump to check loner strategy, return loner_called boolean to play_hand\n",
    "        # start with strategy to call loner when right/left and 4 total trump\n",
    "    # update play_trick to pass in loner_called, remove partner of calling_player from next_to_play_list\n",
    "    # update update_score function to take in loner_called parameter, return scores for loners\n",
    "# Evaluate points scored for each hand type for each game\n",
    "# Build advanced strategy for play_lead_card function to reduce number of suits in hand, play toward partner short-suits\n",
    "# Build model to predict tricks taken from all_hand_results_df as training data set\n",
    "# build out advanced strategy for dealer swapping out card_flipped_up to reduce number of suits in hand\n",
    "# Code cleanup\n",
    "    # Add README\n",
    "    # Add tests to all functions\n",
    "\n",
    "# Look into bug where player has top 4 trump cards but takes < 4 tricks\n",
    "\n",
    "# Look at combinations of exactly unique hands, vs. unique types of hands\n",
    "\n",
    "# BUG! Left bauer is still being considered their original suit when following suit"
   ]
  },
  {
   "cell_type": "code",
   "execution_count": null,
   "id": "1fe92e32",
   "metadata": {},
   "outputs": [],
   "source": []
  },
  {
   "cell_type": "code",
   "execution_count": null,
   "id": "50715974",
   "metadata": {},
   "outputs": [],
   "source": []
  }
 ],
 "metadata": {
  "kernelspec": {
   "display_name": "Python 3",
   "language": "python",
   "name": "python3"
  },
  "language_info": {
   "codemirror_mode": {
    "name": "ipython",
    "version": 3
   },
   "file_extension": ".py",
   "mimetype": "text/x-python",
   "name": "python",
   "nbconvert_exporter": "python",
   "pygments_lexer": "ipython3",
   "version": "3.8.8"
  }
 },
 "nbformat": 4,
 "nbformat_minor": 5
}
