{
 "cells": [
  {
   "cell_type": "markdown",
   "id": "724e6ef4",
   "metadata": {},
   "source": [
    "# Euchre\n",
    "Goal: code up a playable euchre game to better understand winning probabilities of different starting hands  \n",
    "Given: Right, Ace, Queen, off Ace, off ten; 3-suited, dealer spot - what's the likelihood of winning each number of tricks that round?  \n",
    "Genetic Algorithm to determine next play would be cool - start with random strategy, adapt to new weights as games progress"
   ]
  },
  {
   "cell_type": "code",
   "execution_count": 1,
   "id": "9a770998",
   "metadata": {},
   "outputs": [],
   "source": [
    "%load_ext autoreload\n",
    "%autoreload 2\n",
    "\n",
    "import numpy as np\n",
    "import sys\n",
    "\n",
    "sys.path.insert(0, 'C:/Users/jerem/Desktop/nonsense/euchre/')"
   ]
  },
  {
   "cell_type": "code",
   "execution_count": 2,
   "id": "01341fc0",
   "metadata": {},
   "outputs": [],
   "source": [
    "from utils import EuchreGame"
   ]
  },
  {
   "cell_type": "code",
   "execution_count": null,
   "id": "78470a50",
   "metadata": {},
   "outputs": [],
   "source": []
  },
  {
   "cell_type": "code",
   "execution_count": 123,
   "id": "0649760d",
   "metadata": {},
   "outputs": [],
   "source": [
    "euchre_game = EuchreGame()"
   ]
  },
  {
   "cell_type": "code",
   "execution_count": 124,
   "id": "3a6e72e3",
   "metadata": {},
   "outputs": [
    {
     "data": {
      "text/plain": [
       "[0, 0]"
      ]
     },
     "execution_count": 124,
     "metadata": {},
     "output_type": "execute_result"
    }
   ],
   "source": [
    "euchre_game.score"
   ]
  },
  {
   "cell_type": "code",
   "execution_count": 125,
   "id": "26f35176",
   "metadata": {},
   "outputs": [
    {
     "data": {
      "text/plain": [
       "'p1'"
      ]
     },
     "execution_count": 125,
     "metadata": {},
     "output_type": "execute_result"
    }
   ],
   "source": [
    "euchre_game.dealer"
   ]
  },
  {
   "cell_type": "code",
   "execution_count": 126,
   "id": "0be75bc4",
   "metadata": {},
   "outputs": [
    {
     "data": {
      "text/plain": [
       "['p2', 'p3', 'p4', 'p1']"
      ]
     },
     "execution_count": 126,
     "metadata": {},
     "output_type": "execute_result"
    }
   ],
   "source": [
    "euchre_game.next_to_deal"
   ]
  },
  {
   "cell_type": "code",
   "execution_count": 127,
   "id": "d657e9b4",
   "metadata": {},
   "outputs": [
    {
     "name": "stdout",
     "output_type": "stream",
     "text": [
      "Current score: 0-0\n"
     ]
    }
   ],
   "source": [
    "euchre_game.print_score()"
   ]
  },
  {
   "cell_type": "code",
   "execution_count": 128,
   "id": "b75dfd3d",
   "metadata": {},
   "outputs": [
    {
     "data": {
      "text/plain": [
       "['S', 'C', 'H', 'D']"
      ]
     },
     "execution_count": 128,
     "metadata": {},
     "output_type": "execute_result"
    }
   ],
   "source": [
    "euchre_game.card_suits"
   ]
  },
  {
   "cell_type": "code",
   "execution_count": 129,
   "id": "a99309bc",
   "metadata": {},
   "outputs": [
    {
     "data": {
      "text/plain": [
       "['9', 'T', 'J', 'Q', 'K', 'A']"
      ]
     },
     "execution_count": 129,
     "metadata": {},
     "output_type": "execute_result"
    }
   ],
   "source": [
    "euchre_game.card_values"
   ]
  },
  {
   "cell_type": "code",
   "execution_count": 130,
   "id": "23ab8008",
   "metadata": {},
   "outputs": [
    {
     "name": "stdout",
     "output_type": "stream",
     "text": [
      "9_S,9_C,9_H,9_D,T_S,T_C,T_H,T_D,J_S,J_C,J_H,J_D,Q_S,Q_C,Q_H,Q_D,K_S,K_C,K_H,K_D,A_S,A_C,A_H,A_D,"
     ]
    }
   ],
   "source": [
    "deck_of_cards = euchre_game.shuffle_deck_of_cards()\n",
    "for card in deck_of_cards:\n",
    "    print(card, end=',')"
   ]
  },
  {
   "cell_type": "code",
   "execution_count": null,
   "id": "6427f53a",
   "metadata": {},
   "outputs": [],
   "source": []
  },
  {
   "cell_type": "code",
   "execution_count": 131,
   "id": "a33f9197",
   "metadata": {},
   "outputs": [],
   "source": [
    "player_hands, card_flipped_up = euchre_game.deal_hand()"
   ]
  },
  {
   "cell_type": "code",
   "execution_count": 132,
   "id": "cb565190",
   "metadata": {},
   "outputs": [
    {
     "data": {
      "text/plain": [
       "{'p1': ['K_H', 'A_C', 'T_H', 'Q_D', 'A_H'],\n",
       " 'p2': ['Q_H', 'J_H', '9_S', 'T_S', 'A_D'],\n",
       " 'p3': ['K_D', 'Q_C', 'A_S', 'J_S', '9_D'],\n",
       " 'p4': ['K_C', '9_H', '9_C', 'T_C', 'T_D']}"
      ]
     },
     "execution_count": 132,
     "metadata": {},
     "output_type": "execute_result"
    }
   ],
   "source": [
    "player_hands"
   ]
  },
  {
   "cell_type": "code",
   "execution_count": 133,
   "id": "5cdfb1f0",
   "metadata": {},
   "outputs": [
    {
     "data": {
      "text/plain": [
       "'J_C'"
      ]
     },
     "execution_count": 133,
     "metadata": {},
     "output_type": "execute_result"
    }
   ],
   "source": [
    "card_flipped_up"
   ]
  },
  {
   "cell_type": "code",
   "execution_count": null,
   "id": "67138620",
   "metadata": {},
   "outputs": [],
   "source": []
  },
  {
   "cell_type": "code",
   "execution_count": null,
   "id": "4f4f6e06",
   "metadata": {},
   "outputs": [],
   "source": []
  },
  {
   "cell_type": "code",
   "execution_count": null,
   "id": "d153d997",
   "metadata": {},
   "outputs": [],
   "source": []
  },
  {
   "cell_type": "code",
   "execution_count": 134,
   "id": "a2f0ae88",
   "metadata": {},
   "outputs": [],
   "source": [
    "def eval_flipped_card(suit, hand) -> bool:\n",
    "    \"\"\"\n",
    "    Function to evaluate if a player will order up trump\n",
    "    If hand has at least 3 trump cards\n",
    "    \n",
    "    Returns True/False\n",
    "    \"\"\"\n",
    "    trumps = 0\n",
    "    for card in hand:\n",
    "        if card[-1] == suit:\n",
    "            trumps += 1\n",
    "    if trumps >= 3:\n",
    "        return True\n",
    "    else:\n",
    "        False"
   ]
  },
  {
   "cell_type": "code",
   "execution_count": 135,
   "id": "349806d7",
   "metadata": {},
   "outputs": [],
   "source": [
    "if eval_flipped_card(suit='S', hand=['K_S', 'A_H', 'A_C', 'J_C', 'J_S']):\n",
    "    print('order up trump')"
   ]
  },
  {
   "cell_type": "code",
   "execution_count": 136,
   "id": "a4e6d5c2",
   "metadata": {},
   "outputs": [
    {
     "name": "stdout",
     "output_type": "stream",
     "text": [
      "order up trump\n"
     ]
    }
   ],
   "source": [
    "if eval_flipped_card(suit='S', hand=['K_S', 'A_H', 'A_S', 'J_C', 'J_S']):\n",
    "    print('order up trump')"
   ]
  },
  {
   "cell_type": "code",
   "execution_count": 137,
   "id": "c14e4e88",
   "metadata": {},
   "outputs": [],
   "source": [
    "def choose_open_trump(hand, card_flipped_up) -> str:\n",
    "    \"\"\"\n",
    "    Function to choose trump after card is turned down\n",
    "    If hand has at least 3 trump cards\n",
    "    \n",
    "    Returns True/False\n",
    "    \"\"\"\n",
    "    card_suits = ['S', 'C', 'H', 'D']\n",
    "    card_suits.remove(card_flipped_up[-1])\n",
    "    for suit in card_suits:\n",
    "        trumps = 0\n",
    "        for card in hand:\n",
    "            if card[-1] == suit:\n",
    "                trumps += 1\n",
    "        if trumps >= 3:\n",
    "            return suit\n",
    "    else:\n",
    "        return None"
   ]
  },
  {
   "cell_type": "code",
   "execution_count": 138,
   "id": "b8849d47",
   "metadata": {},
   "outputs": [
    {
     "data": {
      "text/plain": [
       "'S'"
      ]
     },
     "execution_count": 138,
     "metadata": {},
     "output_type": "execute_result"
    }
   ],
   "source": [
    "choose_open_trump(hand=['K_S', 'A_S', 'A_C', 'J_C', 'J_S'], \n",
    "                  card_flipped_up='A_D')"
   ]
  },
  {
   "cell_type": "code",
   "execution_count": 139,
   "id": "ed5536cd",
   "metadata": {},
   "outputs": [],
   "source": [
    "choose_open_trump(hand=['K_S', 'A_H', 'A_C', 'J_C', 'J_S'], \n",
    "                  card_flipped_up='A_D')"
   ]
  },
  {
   "cell_type": "code",
   "execution_count": null,
   "id": "f4c21049",
   "metadata": {},
   "outputs": [],
   "source": []
  },
  {
   "cell_type": "code",
   "execution_count": 140,
   "id": "3ab0e8a6",
   "metadata": {},
   "outputs": [],
   "source": [
    "calling_player, trump = euchre_game.determine_trump(card_flipped_up=card_flipped_up,\n",
    "                           player_hands=player_hands)"
   ]
  },
  {
   "cell_type": "code",
   "execution_count": null,
   "id": "9ff7f654",
   "metadata": {},
   "outputs": [],
   "source": []
  },
  {
   "cell_type": "code",
   "execution_count": null,
   "id": "adec730e",
   "metadata": {},
   "outputs": [],
   "source": []
  },
  {
   "cell_type": "code",
   "execution_count": null,
   "id": "4b3706bc",
   "metadata": {},
   "outputs": [],
   "source": []
  },
  {
   "cell_type": "code",
   "execution_count": 141,
   "id": "5c1a5e2a",
   "metadata": {},
   "outputs": [],
   "source": [
    "player_hands, card_flipped_up = euchre_game.deal_hand()\n",
    "calling_player, trump = euchre_game.determine_trump(card_flipped_up=card_flipped_up,\n",
    "                           player_hands=player_hands)"
   ]
  },
  {
   "cell_type": "code",
   "execution_count": 142,
   "id": "b80dd401",
   "metadata": {},
   "outputs": [
    {
     "name": "stdout",
     "output_type": "stream",
     "text": [
      "{'p1': ['T_C', 'A_D', 'K_S', '9_D', 'J_C'], 'p2': ['9_H', 'T_D', 'Q_C', 'A_S', 'Q_D'], 'p3': ['J_S', 'J_D', 'Q_H', 'A_H', 'A_C'], 'p4': ['9_C', 'J_H', 'K_C', 'Q_S', 'T_H']}\n",
      "None\n",
      "None\n"
     ]
    }
   ],
   "source": [
    "print(player_hands)\n",
    "print(calling_player)\n",
    "print(trump)"
   ]
  },
  {
   "cell_type": "code",
   "execution_count": null,
   "id": "3dee555c",
   "metadata": {},
   "outputs": [],
   "source": []
  },
  {
   "cell_type": "code",
   "execution_count": 148,
   "id": "18c823ea",
   "metadata": {},
   "outputs": [],
   "source": [
    "def play_card(hand, \n",
    "              trump,\n",
    "              cards_in_play=[], \n",
    "              suit_led=None):\n",
    "    \"\"\"\n",
    "    Function to return value of card to play in hand\n",
    "    TODO: check if partner has winning card_in_pot\n",
    "    \"\"\"\n",
    "    card_values = {\n",
    "        '9':1, \n",
    "        'T':2, \n",
    "        'J':3, \n",
    "        'Q':4, \n",
    "        'K':5, \n",
    "        'A':6\n",
    "    }\n",
    "    # play last card\n",
    "    if len(hand)==1:\n",
    "        return hand[0]\n",
    "    # lead card\n",
    "    # TODO: develop logic for what card to lead\n",
    "    if len(cards_in_play)<1:\n",
    "        return hand[0]\n",
    "    # follow suit\n",
    "    if suit_led is not None:\n",
    "        # play highest card in the suit played\n",
    "        card_to_play_points = -1\n",
    "        idx_to_return = -1\n",
    "        for idx,card in enumerate(hand):\n",
    "            if card[-1]==suit_led:\n",
    "                card_points = card_values[card[0]]\n",
    "                if card_points > card_to_play_points:\n",
    "                    card_to_play_points = card_points\n",
    "                    idx_to_return = idx\n",
    "        return hand[idx_to_return]\n",
    "    # play other highest non-trump card\n",
    "    else:\n",
    "        card_to_play_points = -1\n",
    "        idx_to_return = -1\n",
    "        for idx,card in enumerate(hand):\n",
    "            if card[-1]!=trump:\n",
    "                card_points = card_values[card[0]]\n",
    "                if card_points > card_to_play_points:\n",
    "                    card_to_play_points = card_points\n",
    "                    idx_to_return = idx\n",
    "        if idx_to_return > -1:\n",
    "            return hand[idx_to_return]\n",
    "        else:  # only has trump left, play lowest trump\n",
    "            trump_card_points = 9\n",
    "            for idx,card in enumerate(hand):\n",
    "                card_points = card_values[card[0]]\n",
    "                if card_points < trump_card_points:\n",
    "                    trump_card_points = card_points\n",
    "                    idx_to_return = idx\n",
    "            return hand[idx_to_return]"
   ]
  },
  {
   "cell_type": "code",
   "execution_count": 149,
   "id": "1a1cfd86",
   "metadata": {},
   "outputs": [
    {
     "data": {
      "text/plain": [
       "'J_H'"
      ]
     },
     "execution_count": 149,
     "metadata": {},
     "output_type": "execute_result"
    }
   ],
   "source": [
    "play_card(hand=['J_H', 'A_D', '9_H', 'K_S', 'J_D'], \n",
    "          trump='S',\n",
    "          cards_in_play=['K_H', 'T_H'], \n",
    "          suit_led='H')"
   ]
  },
  {
   "cell_type": "code",
   "execution_count": null,
   "id": "7084955e",
   "metadata": {},
   "outputs": [],
   "source": []
  },
  {
   "cell_type": "code",
   "execution_count": 150,
   "id": "6effdbca",
   "metadata": {},
   "outputs": [],
   "source": [
    "def play_trick(player_hands, \n",
    "               trump, \n",
    "               next_to_play_list):\n",
    "    \"\"\"\n",
    "    Function to play one full trick\n",
    "    \n",
    "    \"\"\"\n",
    "    cards_in_play = {}\n",
    "    suit_led = None\n",
    "    for idx, player in enumerate(next_to_play_list):\n",
    "        card_to_play = play_card(hand=player_hands[player], \n",
    "                                 trump=trump,\n",
    "                                 cards_in_play=cards_in_play, \n",
    "                                 suit_led=suit_led)\n",
    "        print(player_hands[player])\n",
    "        # add card_to_play\n",
    "        cards_in_play[player] = card_to_play\n",
    "        # update player hands after player has played card\n",
    "        player_hands[player].remove(card_to_play)\n",
    "        print(f'Player {player} plays {card_to_play}')\n",
    "        if idx==0:\n",
    "            suit_led = card_to_play[-1]\n",
    "            player_led = player\n",
    "            print(f'Suit led: {suit_led}')\n",
    "    return cards_in_play, player_led"
   ]
  },
  {
   "cell_type": "code",
   "execution_count": 151,
   "id": "1c16200b",
   "metadata": {},
   "outputs": [
    {
     "name": "stdout",
     "output_type": "stream",
     "text": [
      "['T_D', 'Q_C', 'A_S', 'Q_D']\n",
      "Player p2 plays T_D\n",
      "Suit led: D\n",
      "['J_S', 'J_D', 'Q_H', 'A_C']\n",
      "Player p3 plays J_D\n",
      "['9_C', 'J_H', 'K_C', 'Q_S', 'T_H']\n",
      "Player p4 plays T_H\n",
      "['T_C', 'A_D', 'K_S', '9_D', 'J_C']\n",
      "Player p1 plays A_D\n"
     ]
    }
   ],
   "source": [
    "cards_in_play, player_led = play_trick(player_hands=player_hands, \n",
    "                                       trump=trump, \n",
    "                                       next_to_play_list=euchre_game.next_to_deal)"
   ]
  },
  {
   "cell_type": "code",
   "execution_count": 152,
   "id": "0ef2ed08",
   "metadata": {},
   "outputs": [
    {
     "data": {
      "text/plain": [
       "{'p2': 'T_D', 'p3': 'J_D', 'p4': 'T_H', 'p1': 'A_D'}"
      ]
     },
     "execution_count": 152,
     "metadata": {},
     "output_type": "execute_result"
    }
   ],
   "source": [
    "cards_in_play"
   ]
  },
  {
   "cell_type": "code",
   "execution_count": 153,
   "id": "b2616049",
   "metadata": {},
   "outputs": [
    {
     "data": {
      "text/plain": [
       "'p2'"
      ]
     },
     "execution_count": 153,
     "metadata": {},
     "output_type": "execute_result"
    }
   ],
   "source": [
    "player_led"
   ]
  },
  {
   "cell_type": "code",
   "execution_count": 154,
   "id": "2f5f5b43",
   "metadata": {},
   "outputs": [],
   "source": [
    "def determine_trick_winner(cards_in_play, \n",
    "                           trump, \n",
    "                           player_led) -> str:\n",
    "    \"\"\"\n",
    "    Determine winner of trick\n",
    "    \n",
    "    Returns player that won trick\n",
    "    \"\"\"\n",
    "    return player_led"
   ]
  },
  {
   "cell_type": "code",
   "execution_count": null,
   "id": "d380ac65",
   "metadata": {},
   "outputs": [],
   "source": []
  },
  {
   "cell_type": "code",
   "execution_count": 155,
   "id": "361b3508",
   "metadata": {},
   "outputs": [
    {
     "data": {
      "text/plain": [
       "'p2'"
      ]
     },
     "execution_count": 155,
     "metadata": {},
     "output_type": "execute_result"
    }
   ],
   "source": [
    "determine_trick_winner(cards_in_play=cards_in_play, \n",
    "                           trump=trump, \n",
    "                           player_led=player_led)"
   ]
  },
  {
   "cell_type": "code",
   "execution_count": 156,
   "id": "0ae35a0d",
   "metadata": {},
   "outputs": [
    {
     "data": {
      "text/plain": [
       "['p2', 'p3', 'p4', 'p1']"
      ]
     },
     "execution_count": 156,
     "metadata": {},
     "output_type": "execute_result"
    }
   ],
   "source": [
    "euchre_game.next_to_deal"
   ]
  },
  {
   "cell_type": "code",
   "execution_count": 162,
   "id": "7f171e78",
   "metadata": {},
   "outputs": [],
   "source": [
    "def play_hand(next_to_play_list):\n",
    "    \"\"\"\n",
    "    Function to play a single hand\n",
    "    \"\"\"\n",
    "    # deal cards\n",
    "    player_hands, card_flipped_up = euchre_game.deal_hand()\n",
    "    # choose trump\n",
    "    calling_player, trump = euchre_game.determine_trump(card_flipped_up=card_flipped_up,\n",
    "                                                        player_hands=player_hands)\n",
    "\n",
    "    if trump is not None:\n",
    "        trick_winners = {p:0 for p in euchre_game.next_to_deal}\n",
    "        print(f'Trump: {trump}')\n",
    "        # play trick\n",
    "        for trick in range(5):\n",
    "            cards_in_play, player_led = play_trick(player_hands=player_hands, \n",
    "                                               trump=trump, \n",
    "                                               next_to_play_list=next_to_play_list)\n",
    "            trick_winner = determine_trick_winner(cards_in_play=cards_in_play, \n",
    "                                       trump=trump, \n",
    "                                       player_led=player_led)\n",
    "            trick_winners[trick_winner] += 1\n",
    "            # update next_to_play_list based on trick_winner\n",
    "        return trick_winners\n",
    "\n",
    "    # update score\n",
    "        # if calling team takes >= 3 tricks = 1 point, if calling team takes 5 tricks = 2 points\n",
    "        # if non-calling team takes >=3 tricks = 2 points\n",
    "    else:\n",
    "        print('Trump not found')\n",
    "        euchre_game.dealer = euchre_game.next_to_deal.pop(0)\n",
    "        # reset self.next_to_deal order for next turn\n",
    "        euchre_game.next_to_deal = euchre_game.next_to_deal.append(euchre_game.dealer)"
   ]
  },
  {
   "cell_type": "code",
   "execution_count": 164,
   "id": "63f1424d",
   "metadata": {},
   "outputs": [
    {
     "name": "stdout",
     "output_type": "stream",
     "text": [
      "Trump: D\n",
      "['Q_D', 'Q_S', 'J_S', 'J_D', 'T_C']\n",
      "Player p2 plays Q_D\n",
      "Suit led: D\n",
      "['9_C', 'J_C', '9_H', 'A_C', 'K_S']\n",
      "Player p3 plays K_S\n",
      "['A_S', 'K_C', '9_S', 'A_H', 'J_H']\n",
      "Player p4 plays J_H\n",
      "['Q_C', 'A_D', 'Q_H', 'K_D', 'T_D']\n",
      "Player p1 plays A_D\n",
      "['Q_S', 'J_S', 'J_D', 'T_C']\n",
      "Player p2 plays Q_S\n",
      "Suit led: S\n",
      "['9_C', 'J_C', '9_H', 'A_C']\n",
      "Player p3 plays A_C\n",
      "['A_S', 'K_C', '9_S', 'A_H']\n",
      "Player p4 plays A_S\n",
      "['Q_C', 'Q_H', 'K_D', 'T_D']\n",
      "Player p1 plays T_D\n",
      "['J_S', 'J_D', 'T_C']\n",
      "Player p2 plays J_S\n",
      "Suit led: S\n",
      "['9_C', 'J_C', '9_H']\n",
      "Player p3 plays 9_H\n",
      "['K_C', '9_S', 'A_H']\n",
      "Player p4 plays 9_S\n",
      "['Q_C', 'Q_H', 'K_D']\n",
      "Player p1 plays K_D\n",
      "['J_D', 'T_C']\n",
      "Player p2 plays J_D\n",
      "Suit led: D\n",
      "['9_C', 'J_C']\n",
      "Player p3 plays J_C\n",
      "['K_C', 'A_H']\n",
      "Player p4 plays A_H\n",
      "['Q_C', 'Q_H']\n",
      "Player p1 plays Q_H\n",
      "['T_C']\n",
      "Player p2 plays T_C\n",
      "Suit led: C\n",
      "['9_C']\n",
      "Player p3 plays 9_C\n",
      "['K_C']\n",
      "Player p4 plays K_C\n",
      "['Q_C']\n",
      "Player p1 plays Q_C\n"
     ]
    }
   ],
   "source": [
    "next_to_play_list = euchre_game.next_to_deal\n",
    "trick_winners = play_hand(next_to_play_list=next_to_play_list)"
   ]
  },
  {
   "cell_type": "code",
   "execution_count": 165,
   "id": "1f268186",
   "metadata": {},
   "outputs": [
    {
     "data": {
      "text/plain": [
       "['p2', 'p3', 'p4', 'p1']"
      ]
     },
     "execution_count": 165,
     "metadata": {},
     "output_type": "execute_result"
    }
   ],
   "source": [
    "euchre_game.next_to_deal"
   ]
  },
  {
   "cell_type": "code",
   "execution_count": 166,
   "id": "5ee44878",
   "metadata": {},
   "outputs": [
    {
     "data": {
      "text/plain": [
       "'p1'"
      ]
     },
     "execution_count": 166,
     "metadata": {},
     "output_type": "execute_result"
    }
   ],
   "source": [
    "euchre_game.dealer"
   ]
  },
  {
   "cell_type": "code",
   "execution_count": 167,
   "id": "7eedbd7c",
   "metadata": {},
   "outputs": [
    {
     "data": {
      "text/plain": [
       "{'p2': 5, 'p3': 0, 'p4': 0, 'p1': 0}"
      ]
     },
     "execution_count": 167,
     "metadata": {},
     "output_type": "execute_result"
    }
   ],
   "source": [
    "trick_winners"
   ]
  },
  {
   "cell_type": "code",
   "execution_count": null,
   "id": "64ebe30e",
   "metadata": {},
   "outputs": [],
   "source": [
    "# if calling team takes >= 3 tricks = 1 point, if calling team takes 5 tricks = 2 points\n",
    "# if non-calling team takes >=3 tricks = 2 points\n",
    "\n",
    "def calc_hand_score(trick_winners, \n",
    "                    calling_player):\n",
    "    \"\"\"\n",
    "    Calculate score for one hand given trick_winners and calling_player\n",
    "    \"\"\"\n",
    "    if calling_player in ['p1','p3']:\n",
    "        calling_team = 't1'\n",
    "    "
   ]
  },
  {
   "cell_type": "code",
   "execution_count": null,
   "id": "288b204f",
   "metadata": {},
   "outputs": [],
   "source": []
  },
  {
   "cell_type": "code",
   "execution_count": null,
   "id": "1a9b9730",
   "metadata": {},
   "outputs": [],
   "source": [
    "def play_full_game(self):\n",
    "    \"\"\"\n",
    "    Play full game\n",
    "    \"\"\"\n",
    "    # TODO: pick random dealer to start game\n",
    "    next_to_play_list = euchre_game.next_to_deal\n",
    "    \n",
    "    # while score < 10:\n",
    "    # self.play_hand()\n",
    "    euchre_game.play_hand(next_to_play_list)\n",
    "    trick_winners = play_hand(next_to_play_list=next_to_play_list)\n",
    "    # update score\n",
    "    "
   ]
  },
  {
   "cell_type": "code",
   "execution_count": null,
   "id": "5259b11a",
   "metadata": {},
   "outputs": [],
   "source": []
  },
  {
   "cell_type": "code",
   "execution_count": null,
   "id": "5b3c148d",
   "metadata": {},
   "outputs": [],
   "source": []
  },
  {
   "cell_type": "code",
   "execution_count": null,
   "id": "088307e8",
   "metadata": {},
   "outputs": [],
   "source": [
    "# players\n",
    "# teams\n",
    "# players hand"
   ]
  },
  {
   "cell_type": "code",
   "execution_count": null,
   "id": "3d72c537",
   "metadata": {},
   "outputs": [],
   "source": [
    "# actions: \n",
    "# deal new hand\n",
    "# choose trump\n",
    "# play card\n",
    "# check if team wins\n",
    "# keep track of dealer - get next dealer\n",
    "\n",
    "# left bauer switching to trump\n",
    "    # keep track of trump each hand\n",
    "# loners"
   ]
  },
  {
   "cell_type": "code",
   "execution_count": null,
   "id": "da403d03",
   "metadata": {},
   "outputs": [],
   "source": []
  }
 ],
 "metadata": {
  "kernelspec": {
   "display_name": "Python 3",
   "language": "python",
   "name": "python3"
  },
  "language_info": {
   "codemirror_mode": {
    "name": "ipython",
    "version": 3
   },
   "file_extension": ".py",
   "mimetype": "text/x-python",
   "name": "python",
   "nbconvert_exporter": "python",
   "pygments_lexer": "ipython3",
   "version": "3.8.8"
  }
 },
 "nbformat": 4,
 "nbformat_minor": 5
}
