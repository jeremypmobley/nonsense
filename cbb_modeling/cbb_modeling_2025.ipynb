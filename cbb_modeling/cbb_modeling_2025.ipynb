{
 "cells": [
  {
   "cell_type": "code",
   "execution_count": 1,
   "id": "843a8976-eb2e-4592-9ff4-03a4363dcd8f",
   "metadata": {},
   "outputs": [
    {
     "data": {
      "text/plain": [
       "'/Users/jeremy/Desktop/nonsense/cbb_modeling'"
      ]
     },
     "execution_count": 1,
     "metadata": {},
     "output_type": "execute_result"
    }
   ],
   "source": [
    "pwd"
   ]
  },
  {
   "cell_type": "code",
   "execution_count": 2,
   "id": "fbd49bf0-dad3-4548-bec6-b6d96c0a747b",
   "metadata": {},
   "outputs": [],
   "source": [
    "import pandas as pd\n",
    "import numpy as np"
   ]
  },
  {
   "cell_type": "markdown",
   "id": "506368ee-3916-47a9-8797-ce436c6c2e44",
   "metadata": {},
   "source": [
    "### Load Data\n",
    "Data is expected to be in a /data folder in same directory as this notebook"
   ]
  },
  {
   "cell_type": "code",
   "execution_count": 3,
   "id": "b9c76a09-b6c4-444a-bc07-d20dbe00d1d3",
   "metadata": {},
   "outputs": [
    {
     "data": {
      "text/plain": [
       "(380, 4)"
      ]
     },
     "execution_count": 3,
     "metadata": {},
     "output_type": "execute_result"
    }
   ],
   "source": [
    "teams = pd.read_csv(\"/Users/jeremy/Desktop/nonsense/cbb_modeling/data/MTeams.csv\")\n",
    "teams.shape"
   ]
  },
  {
   "cell_type": "code",
   "execution_count": 4,
   "id": "4d77b57a-d7ec-465a-95bf-1c08140510de",
   "metadata": {},
   "outputs": [
    {
     "data": {
      "text/plain": [
       "(41, 6)"
      ]
     },
     "execution_count": 4,
     "metadata": {},
     "output_type": "execute_result"
    }
   ],
   "source": [
    "seasons = pd.read_csv(\"/Users/jeremy/Desktop/nonsense/cbb_modeling/data/MSeasons.csv\")\n",
    "seasons.shape"
   ]
  },
  {
   "cell_type": "code",
   "execution_count": 37,
   "id": "b4da9aa1-5984-4849-8e3e-6d505362a348",
   "metadata": {},
   "outputs": [
    {
     "data": {
      "text/plain": [
       "(2518, 8)"
      ]
     },
     "execution_count": 37,
     "metadata": {},
     "output_type": "execute_result"
    }
   ],
   "source": [
    "tourney_compact_results = pd.read_csv('/Users/jeremy/Desktop/nonsense/cbb_modeling/data/MNCAATourneyCompactResults.csv')\n",
    "tourney_compact_results.shape"
   ]
  },
  {
   "cell_type": "code",
   "execution_count": 6,
   "id": "5c6ce475-dddb-42e9-8cb1-013fe89e2dce",
   "metadata": {},
   "outputs": [
    {
     "data": {
      "text/plain": [
       "(1382, 34)"
      ]
     },
     "execution_count": 6,
     "metadata": {},
     "output_type": "execute_result"
    }
   ],
   "source": [
    "tourney_detailed_results = pd.read_csv('/Users/jeremy/Desktop/nonsense/cbb_modeling/data/MNCAATourneyDetailedResults.csv')\n",
    "tourney_detailed_results.shape"
   ]
  },
  {
   "cell_type": "code",
   "execution_count": 7,
   "id": "77c295e3-da32-4e58-947a-951c9511b0c7",
   "metadata": {},
   "outputs": [
    {
     "data": {
      "text/plain": [
       "(116723, 34)"
      ]
     },
     "execution_count": 7,
     "metadata": {},
     "output_type": "execute_result"
    }
   ],
   "source": [
    "reg_season_detailed_results = pd.read_csv('/Users/jeremy/Desktop/nonsense/cbb_modeling/data/MRegularSeasonDetailedResults.csv')\n",
    "reg_season_detailed_results.shape"
   ]
  },
  {
   "cell_type": "code",
   "execution_count": 8,
   "id": "3bcefea7-ed23-4059-be96-7e8bfe0df1a1",
   "metadata": {},
   "outputs": [
    {
     "data": {
      "text/plain": [
       "(190771, 8)"
      ]
     },
     "execution_count": 8,
     "metadata": {},
     "output_type": "execute_result"
    }
   ],
   "source": [
    "reg_season_compact_results = pd.read_csv('/Users/jeremy/Desktop/nonsense/cbb_modeling/data/MRegularSeasonCompactResults.csv')\n",
    "reg_season_compact_results.shape"
   ]
  },
  {
   "cell_type": "code",
   "execution_count": 38,
   "id": "5364fca9-4300-4af0-a3c0-edd2bc8e0b83",
   "metadata": {},
   "outputs": [],
   "source": [
    "### Add WTeam names\n",
    "tourney_compact_results = pd.merge(left=tourney_compact_results, \n",
    "                                   right=teams[['TeamID', 'TeamName']], \n",
    "                                   left_on='WTeamID',\n",
    "                                   right_on='TeamID',\n",
    "                                   how='left')\n",
    "\n",
    "tourney_compact_results = tourney_compact_results.rename(columns={\"TeamName\":'WTeamName'})"
   ]
  },
  {
   "cell_type": "code",
   "execution_count": 39,
   "id": "43e4e16c-aaea-4b1a-8a13-667a34704689",
   "metadata": {},
   "outputs": [
    {
     "data": {
      "text/html": [
       "<div>\n",
       "<style scoped>\n",
       "    .dataframe tbody tr th:only-of-type {\n",
       "        vertical-align: middle;\n",
       "    }\n",
       "\n",
       "    .dataframe tbody tr th {\n",
       "        vertical-align: top;\n",
       "    }\n",
       "\n",
       "    .dataframe thead th {\n",
       "        text-align: right;\n",
       "    }\n",
       "</style>\n",
       "<table border=\"1\" class=\"dataframe\">\n",
       "  <thead>\n",
       "    <tr style=\"text-align: right;\">\n",
       "      <th></th>\n",
       "      <th>Season</th>\n",
       "      <th>DayNum</th>\n",
       "      <th>WTeamID</th>\n",
       "      <th>WScore</th>\n",
       "      <th>LTeamID</th>\n",
       "      <th>LScore</th>\n",
       "      <th>WLoc</th>\n",
       "      <th>NumOT</th>\n",
       "      <th>TeamID</th>\n",
       "      <th>WTeamName</th>\n",
       "    </tr>\n",
       "  </thead>\n",
       "  <tbody>\n",
       "    <tr>\n",
       "      <th>0</th>\n",
       "      <td>1985</td>\n",
       "      <td>136</td>\n",
       "      <td>1116</td>\n",
       "      <td>63</td>\n",
       "      <td>1234</td>\n",
       "      <td>54</td>\n",
       "      <td>N</td>\n",
       "      <td>0</td>\n",
       "      <td>1116</td>\n",
       "      <td>Arkansas</td>\n",
       "    </tr>\n",
       "    <tr>\n",
       "      <th>1</th>\n",
       "      <td>1985</td>\n",
       "      <td>136</td>\n",
       "      <td>1120</td>\n",
       "      <td>59</td>\n",
       "      <td>1345</td>\n",
       "      <td>58</td>\n",
       "      <td>N</td>\n",
       "      <td>0</td>\n",
       "      <td>1120</td>\n",
       "      <td>Auburn</td>\n",
       "    </tr>\n",
       "    <tr>\n",
       "      <th>2</th>\n",
       "      <td>1985</td>\n",
       "      <td>136</td>\n",
       "      <td>1207</td>\n",
       "      <td>68</td>\n",
       "      <td>1250</td>\n",
       "      <td>43</td>\n",
       "      <td>N</td>\n",
       "      <td>0</td>\n",
       "      <td>1207</td>\n",
       "      <td>Georgetown</td>\n",
       "    </tr>\n",
       "    <tr>\n",
       "      <th>3</th>\n",
       "      <td>1985</td>\n",
       "      <td>136</td>\n",
       "      <td>1229</td>\n",
       "      <td>58</td>\n",
       "      <td>1425</td>\n",
       "      <td>55</td>\n",
       "      <td>N</td>\n",
       "      <td>0</td>\n",
       "      <td>1229</td>\n",
       "      <td>Illinois St</td>\n",
       "    </tr>\n",
       "    <tr>\n",
       "      <th>4</th>\n",
       "      <td>1985</td>\n",
       "      <td>136</td>\n",
       "      <td>1242</td>\n",
       "      <td>49</td>\n",
       "      <td>1325</td>\n",
       "      <td>38</td>\n",
       "      <td>N</td>\n",
       "      <td>0</td>\n",
       "      <td>1242</td>\n",
       "      <td>Kansas</td>\n",
       "    </tr>\n",
       "  </tbody>\n",
       "</table>\n",
       "</div>"
      ],
      "text/plain": [
       "   Season  DayNum  WTeamID  WScore  LTeamID  LScore WLoc  NumOT  TeamID  \\\n",
       "0    1985     136     1116      63     1234      54    N      0    1116   \n",
       "1    1985     136     1120      59     1345      58    N      0    1120   \n",
       "2    1985     136     1207      68     1250      43    N      0    1207   \n",
       "3    1985     136     1229      58     1425      55    N      0    1229   \n",
       "4    1985     136     1242      49     1325      38    N      0    1242   \n",
       "\n",
       "     WTeamName  \n",
       "0     Arkansas  \n",
       "1       Auburn  \n",
       "2   Georgetown  \n",
       "3  Illinois St  \n",
       "4       Kansas  "
      ]
     },
     "execution_count": 39,
     "metadata": {},
     "output_type": "execute_result"
    }
   ],
   "source": [
    "tourney_compact_results.head()"
   ]
  },
  {
   "cell_type": "code",
   "execution_count": 40,
   "id": "95044f1b-c2fb-468c-9dbb-9326b6c0f491",
   "metadata": {},
   "outputs": [
    {
     "data": {
      "text/html": [
       "<div>\n",
       "<style scoped>\n",
       "    .dataframe tbody tr th:only-of-type {\n",
       "        vertical-align: middle;\n",
       "    }\n",
       "\n",
       "    .dataframe tbody tr th {\n",
       "        vertical-align: top;\n",
       "    }\n",
       "\n",
       "    .dataframe thead th {\n",
       "        text-align: right;\n",
       "    }\n",
       "</style>\n",
       "<table border=\"1\" class=\"dataframe\">\n",
       "  <thead>\n",
       "    <tr style=\"text-align: right;\">\n",
       "      <th></th>\n",
       "      <th>Season</th>\n",
       "      <th>DayNum</th>\n",
       "      <th>WTeamID</th>\n",
       "      <th>WScore</th>\n",
       "      <th>LTeamID</th>\n",
       "      <th>LScore</th>\n",
       "      <th>WLoc</th>\n",
       "      <th>NumOT</th>\n",
       "      <th>TeamID</th>\n",
       "      <th>WTeamName</th>\n",
       "    </tr>\n",
       "  </thead>\n",
       "  <tbody>\n",
       "    <tr>\n",
       "      <th>2517</th>\n",
       "      <td>2024</td>\n",
       "      <td>154</td>\n",
       "      <td>1163</td>\n",
       "      <td>75</td>\n",
       "      <td>1345</td>\n",
       "      <td>60</td>\n",
       "      <td>N</td>\n",
       "      <td>0</td>\n",
       "      <td>1163</td>\n",
       "      <td>Connecticut</td>\n",
       "    </tr>\n",
       "    <tr>\n",
       "      <th>2516</th>\n",
       "      <td>2024</td>\n",
       "      <td>152</td>\n",
       "      <td>1345</td>\n",
       "      <td>63</td>\n",
       "      <td>1301</td>\n",
       "      <td>50</td>\n",
       "      <td>N</td>\n",
       "      <td>0</td>\n",
       "      <td>1345</td>\n",
       "      <td>Purdue</td>\n",
       "    </tr>\n",
       "    <tr>\n",
       "      <th>2515</th>\n",
       "      <td>2024</td>\n",
       "      <td>152</td>\n",
       "      <td>1163</td>\n",
       "      <td>86</td>\n",
       "      <td>1104</td>\n",
       "      <td>72</td>\n",
       "      <td>N</td>\n",
       "      <td>0</td>\n",
       "      <td>1163</td>\n",
       "      <td>Connecticut</td>\n",
       "    </tr>\n",
       "    <tr>\n",
       "      <th>2514</th>\n",
       "      <td>2024</td>\n",
       "      <td>146</td>\n",
       "      <td>1345</td>\n",
       "      <td>72</td>\n",
       "      <td>1397</td>\n",
       "      <td>66</td>\n",
       "      <td>N</td>\n",
       "      <td>0</td>\n",
       "      <td>1345</td>\n",
       "      <td>Purdue</td>\n",
       "    </tr>\n",
       "    <tr>\n",
       "      <th>2513</th>\n",
       "      <td>2024</td>\n",
       "      <td>146</td>\n",
       "      <td>1301</td>\n",
       "      <td>76</td>\n",
       "      <td>1181</td>\n",
       "      <td>64</td>\n",
       "      <td>N</td>\n",
       "      <td>0</td>\n",
       "      <td>1301</td>\n",
       "      <td>NC State</td>\n",
       "    </tr>\n",
       "    <tr>\n",
       "      <th>2512</th>\n",
       "      <td>2024</td>\n",
       "      <td>145</td>\n",
       "      <td>1163</td>\n",
       "      <td>77</td>\n",
       "      <td>1228</td>\n",
       "      <td>52</td>\n",
       "      <td>N</td>\n",
       "      <td>0</td>\n",
       "      <td>1163</td>\n",
       "      <td>Connecticut</td>\n",
       "    </tr>\n",
       "    <tr>\n",
       "      <th>2511</th>\n",
       "      <td>2024</td>\n",
       "      <td>145</td>\n",
       "      <td>1104</td>\n",
       "      <td>89</td>\n",
       "      <td>1155</td>\n",
       "      <td>82</td>\n",
       "      <td>N</td>\n",
       "      <td>0</td>\n",
       "      <td>1104</td>\n",
       "      <td>Alabama</td>\n",
       "    </tr>\n",
       "  </tbody>\n",
       "</table>\n",
       "</div>"
      ],
      "text/plain": [
       "      Season  DayNum  WTeamID  WScore  LTeamID  LScore WLoc  NumOT  TeamID  \\\n",
       "2517    2024     154     1163      75     1345      60    N      0    1163   \n",
       "2516    2024     152     1345      63     1301      50    N      0    1345   \n",
       "2515    2024     152     1163      86     1104      72    N      0    1163   \n",
       "2514    2024     146     1345      72     1397      66    N      0    1345   \n",
       "2513    2024     146     1301      76     1181      64    N      0    1301   \n",
       "2512    2024     145     1163      77     1228      52    N      0    1163   \n",
       "2511    2024     145     1104      89     1155      82    N      0    1104   \n",
       "\n",
       "        WTeamName  \n",
       "2517  Connecticut  \n",
       "2516       Purdue  \n",
       "2515  Connecticut  \n",
       "2514       Purdue  \n",
       "2513     NC State  \n",
       "2512  Connecticut  \n",
       "2511      Alabama  "
      ]
     },
     "execution_count": 40,
     "metadata": {},
     "output_type": "execute_result"
    }
   ],
   "source": [
    "tourney_compact_results[tourney_compact_results['Season']==2024].sort_values('DayNum', ascending=False).head(7)"
   ]
  },
  {
   "cell_type": "code",
   "execution_count": 13,
   "id": "5c3965da-8677-4ffa-95b5-19c3212f78e3",
   "metadata": {},
   "outputs": [
    {
     "data": {
      "text/html": [
       "<div>\n",
       "<style scoped>\n",
       "    .dataframe tbody tr th:only-of-type {\n",
       "        vertical-align: middle;\n",
       "    }\n",
       "\n",
       "    .dataframe tbody tr th {\n",
       "        vertical-align: top;\n",
       "    }\n",
       "\n",
       "    .dataframe thead th {\n",
       "        text-align: right;\n",
       "    }\n",
       "</style>\n",
       "<table border=\"1\" class=\"dataframe\">\n",
       "  <thead>\n",
       "    <tr style=\"text-align: right;\">\n",
       "      <th></th>\n",
       "      <th>Season</th>\n",
       "      <th>DayNum</th>\n",
       "      <th>WTeamID</th>\n",
       "      <th>WScore</th>\n",
       "      <th>LTeamID</th>\n",
       "      <th>LScore</th>\n",
       "      <th>WLoc</th>\n",
       "      <th>NumOT</th>\n",
       "    </tr>\n",
       "  </thead>\n",
       "  <tbody>\n",
       "    <tr>\n",
       "      <th>0</th>\n",
       "      <td>1985</td>\n",
       "      <td>20</td>\n",
       "      <td>1228</td>\n",
       "      <td>81</td>\n",
       "      <td>1328</td>\n",
       "      <td>64</td>\n",
       "      <td>N</td>\n",
       "      <td>0</td>\n",
       "    </tr>\n",
       "    <tr>\n",
       "      <th>1</th>\n",
       "      <td>1985</td>\n",
       "      <td>25</td>\n",
       "      <td>1106</td>\n",
       "      <td>77</td>\n",
       "      <td>1354</td>\n",
       "      <td>70</td>\n",
       "      <td>H</td>\n",
       "      <td>0</td>\n",
       "    </tr>\n",
       "    <tr>\n",
       "      <th>2</th>\n",
       "      <td>1985</td>\n",
       "      <td>25</td>\n",
       "      <td>1112</td>\n",
       "      <td>63</td>\n",
       "      <td>1223</td>\n",
       "      <td>56</td>\n",
       "      <td>H</td>\n",
       "      <td>0</td>\n",
       "    </tr>\n",
       "    <tr>\n",
       "      <th>3</th>\n",
       "      <td>1985</td>\n",
       "      <td>25</td>\n",
       "      <td>1165</td>\n",
       "      <td>70</td>\n",
       "      <td>1432</td>\n",
       "      <td>54</td>\n",
       "      <td>H</td>\n",
       "      <td>0</td>\n",
       "    </tr>\n",
       "    <tr>\n",
       "      <th>4</th>\n",
       "      <td>1985</td>\n",
       "      <td>25</td>\n",
       "      <td>1192</td>\n",
       "      <td>86</td>\n",
       "      <td>1447</td>\n",
       "      <td>74</td>\n",
       "      <td>H</td>\n",
       "      <td>0</td>\n",
       "    </tr>\n",
       "  </tbody>\n",
       "</table>\n",
       "</div>"
      ],
      "text/plain": [
       "   Season  DayNum  WTeamID  WScore  LTeamID  LScore WLoc  NumOT\n",
       "0    1985      20     1228      81     1328      64    N      0\n",
       "1    1985      25     1106      77     1354      70    H      0\n",
       "2    1985      25     1112      63     1223      56    H      0\n",
       "3    1985      25     1165      70     1432      54    H      0\n",
       "4    1985      25     1192      86     1447      74    H      0"
      ]
     },
     "execution_count": 13,
     "metadata": {},
     "output_type": "execute_result"
    }
   ],
   "source": [
    "reg_season_compact_results.head()"
   ]
  },
  {
   "cell_type": "code",
   "execution_count": 16,
   "id": "4bf08600-4c69-42da-bf48-57525f589151",
   "metadata": {},
   "outputs": [
    {
     "data": {
      "text/plain": [
       "2025"
      ]
     },
     "execution_count": 16,
     "metadata": {},
     "output_type": "execute_result"
    }
   ],
   "source": [
    "reg_season_compact_results['Season'].max()"
   ]
  },
  {
   "cell_type": "code",
   "execution_count": null,
   "id": "219e9e4d-7d49-4bbd-af9d-00fc04122909",
   "metadata": {},
   "outputs": [],
   "source": []
  },
  {
   "cell_type": "markdown",
   "id": "22659472-1b1c-48c4-a8f3-cc811a0a3213",
   "metadata": {},
   "source": [
    "### Create calculated fields for features"
   ]
  },
  {
   "cell_type": "code",
   "execution_count": null,
   "id": "a74c33e4-e2a5-4261-96f8-c32ed3d4920c",
   "metadata": {},
   "outputs": [],
   "source": [
    "df['WPoss'] = (df['WFGA'] - df['WOR'] + df['WTO'] + (0.475*df['WFTA']) )\n",
    "df['LPoss'] = (df['LFGA'] - df['LOR'] + df['LTO'] + (0.475*df['LFTA']) )\n",
    "df['TotPoss'] = df['WPoss'] + df['LPoss']\n",
    "df['WPPP'] = (df['WScore'] / ((df['WPoss'] + df['LPoss'])/2) )\n",
    "df['LPPP'] = (df['LScore'] / ((df['WPoss'] + df['LPoss'])/2) )"
   ]
  },
  {
   "cell_type": "code",
   "execution_count": null,
   "id": "69eac2f6-5bff-4f1a-aea8-7b6f354b4226",
   "metadata": {},
   "outputs": [],
   "source": []
  },
  {
   "cell_type": "markdown",
   "id": "81719e1f-9020-4077-804e-2bc3abab9d4f",
   "metadata": {},
   "source": [
    "## Create training data set"
   ]
  },
  {
   "cell_type": "code",
   "execution_count": null,
   "id": "585a17b7-97d4-4dd1-aaa5-71b2cef646f2",
   "metadata": {},
   "outputs": [],
   "source": [
    "train_df = tourney_detailed_results.copy()"
   ]
  },
  {
   "cell_type": "code",
   "execution_count": null,
   "id": "0f820c9c-4b16-4bc9-adbb-108ce05e7305",
   "metadata": {},
   "outputs": [],
   "source": []
  },
  {
   "cell_type": "code",
   "execution_count": null,
   "id": "2ee3e12c-4660-40a2-9a46-58306955e76a",
   "metadata": {},
   "outputs": [],
   "source": []
  },
  {
   "cell_type": "code",
   "execution_count": null,
   "id": "ca235258-a391-4318-8ff3-81685c262a84",
   "metadata": {},
   "outputs": [],
   "source": []
  }
 ],
 "metadata": {
  "kernelspec": {
   "display_name": "Python 3 (ipykernel)",
   "language": "python",
   "name": "python3"
  },
  "language_info": {
   "codemirror_mode": {
    "name": "ipython",
    "version": 3
   },
   "file_extension": ".py",
   "mimetype": "text/x-python",
   "name": "python",
   "nbconvert_exporter": "python",
   "pygments_lexer": "ipython3",
   "version": "3.11.8"
  }
 },
 "nbformat": 4,
 "nbformat_minor": 5
}
