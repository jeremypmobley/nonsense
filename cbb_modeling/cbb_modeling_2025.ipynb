{
 "cells": [
  {
   "cell_type": "code",
   "execution_count": 1,
   "id": "843a8976-eb2e-4592-9ff4-03a4363dcd8f",
   "metadata": {},
   "outputs": [
    {
     "data": {
      "text/plain": [
       "'/Users/jeremy/Desktop/nonsense/cbb_modeling'"
      ]
     },
     "execution_count": 1,
     "metadata": {},
     "output_type": "execute_result"
    }
   ],
   "source": [
    "pwd"
   ]
  },
  {
   "cell_type": "code",
   "execution_count": 2,
   "id": "fbd49bf0-dad3-4548-bec6-b6d96c0a747b",
   "metadata": {},
   "outputs": [],
   "source": [
    "import pandas as pd\n",
    "import numpy as np"
   ]
  },
  {
   "cell_type": "code",
   "execution_count": null,
   "id": "45fa319a-698e-444b-81d4-9241ec026deb",
   "metadata": {},
   "outputs": [],
   "source": []
  },
  {
   "cell_type": "markdown",
   "id": "506368ee-3916-47a9-8797-ce436c6c2e44",
   "metadata": {},
   "source": [
    "### Load Data"
   ]
  },
  {
   "cell_type": "code",
   "execution_count": 4,
   "id": "b9c76a09-b6c4-444a-bc07-d20dbe00d1d3",
   "metadata": {},
   "outputs": [],
   "source": [
    "teams = pd.read_csv(\"/Users/jeremy/Desktop/nonsense/cbb_modeling/data/MTeams.csv\")"
   ]
  },
  {
   "cell_type": "code",
   "execution_count": 5,
   "id": "0a500c6c-168e-4a22-9bcb-e42f83381c52",
   "metadata": {},
   "outputs": [
    {
     "data": {
      "text/plain": [
       "(380, 4)"
      ]
     },
     "execution_count": 5,
     "metadata": {},
     "output_type": "execute_result"
    }
   ],
   "source": [
    "teams.shape"
   ]
  },
  {
   "cell_type": "code",
   "execution_count": null,
   "id": "fcfc57ae-c272-4d01-96b8-ecc2d97b19ed",
   "metadata": {},
   "outputs": [],
   "source": [
    "regular_results = pd.read_csv('/Users/jeremy/Desktop/nonsense/cbb_modeling/data/MRegularSeasonDetailedResults.csv')\n",
    "regular_results.shape"
   ]
  },
  {
   "cell_type": "code",
   "execution_count": null,
   "id": "b4da9aa1-5984-4849-8e3e-6d505362a348",
   "metadata": {},
   "outputs": [],
   "source": []
  },
  {
   "cell_type": "markdown",
   "id": "4713cc19-d5ba-44fd-843c-7eb53dd661c3",
   "metadata": {
    "jp-MarkdownHeadingCollapsed": true
   },
   "source": [
    "### Team Quality"
   ]
  },
  {
   "cell_type": "code",
   "execution_count": null,
   "id": "0003438e-ba83-4a86-93e0-ea1310d70620",
   "metadata": {},
   "outputs": [],
   "source": [
    "import statsmodels.api as sm"
   ]
  },
  {
   "cell_type": "code",
   "execution_count": 1,
   "id": "d61c2985-5138-4391-aa45-0f6cdd54fed0",
   "metadata": {},
   "outputs": [],
   "source": [
    "def prepare_data(df):\n",
    "    dfswap = df[['Season', 'DayNum', 'LTeamID', 'LScore', 'WTeamID', 'WScore', 'WLoc', 'NumOT', \n",
    "    'LFGM', 'LFGA', 'LFGM3', 'LFGA3', 'LFTM', 'LFTA', 'LOR', 'LDR', 'LAst', 'LTO', 'LStl', 'LBlk', 'LPF', \n",
    "    'WFGM', 'WFGA', 'WFGM3', 'WFGA3', 'WFTM', 'WFTA', 'WOR', 'WDR', 'WAst', 'WTO', 'WStl', 'WBlk', 'WPF']]\n",
    "\n",
    "    dfswap.loc[df['WLoc'] == 'H', 'WLoc'] = 'A'\n",
    "    dfswap.loc[df['WLoc'] == 'A', 'WLoc'] = 'H'\n",
    "    df.columns.values[6] = 'location'\n",
    "    dfswap.columns.values[6] = 'location'    \n",
    "      \n",
    "    df.columns = [x.replace('W','T1_').replace('L','T2_') for x in list(df.columns)]\n",
    "    dfswap.columns = [x.replace('L','T1_').replace('W','T2_') for x in list(dfswap.columns)]\n",
    "\n",
    "    output = pd.concat([df, dfswap]).reset_index(drop=True)\n",
    "    output.loc[output.location=='N','location'] = '0'\n",
    "    output.loc[output.location=='H','location'] = '1'\n",
    "    output.loc[output.location=='A','location'] = '-1'\n",
    "    output.location = output.location.astype(int)\n",
    "    \n",
    "    output['PointDiff'] = output['T1_Score'] - output['T2_Score']\n",
    "    \n",
    "    return output"
   ]
  },
  {
   "cell_type": "code",
   "execution_count": 2,
   "id": "279ea71e-4d2c-4876-aa53-a44b2cd15e7a",
   "metadata": {},
   "outputs": [
    {
     "ename": "NameError",
     "evalue": "name 'regular_results' is not defined",
     "output_type": "error",
     "traceback": [
      "\u001b[0;31m---------------------------------------------------------------------------\u001b[0m",
      "\u001b[0;31mNameError\u001b[0m                                 Traceback (most recent call last)",
      "Cell \u001b[0;32mIn[2], line 1\u001b[0m\n\u001b[0;32m----> 1\u001b[0m regular_data \u001b[38;5;241m=\u001b[39m prepare_data(regular_results)\n",
      "\u001b[0;31mNameError\u001b[0m: name 'regular_results' is not defined"
     ]
    }
   ],
   "source": [
    "regular_data = prepare_data(regular_results)"
   ]
  },
  {
   "cell_type": "code",
   "execution_count": 28,
   "id": "27935e8e-1480-4bc5-8f1a-893e8ab7ec25",
   "metadata": {},
   "outputs": [],
   "source": [
    "regular_season_effects = regular_data[['Season','T1_TeamID','T2_TeamID','PointDiff']].copy()\n",
    "regular_season_effects['T1_TeamID'] = regular_season_effects['T1_TeamID'].astype(str)\n",
    "regular_season_effects['T2_TeamID'] = regular_season_effects['T2_TeamID'].astype(str)\n",
    "regular_season_effects['win'] = np.where(regular_season_effects['PointDiff']>0,1,0)"
   ]
  },
  {
   "cell_type": "code",
   "execution_count": 10,
   "id": "b7c13e10-8bbc-4d63-96b9-373bf1d1d949",
   "metadata": {},
   "outputs": [],
   "source": [
    "def normalize_column(values):\n",
    "  themean = np.mean(values)\n",
    "  thestd = np.std(values)\n",
    "  norm = (values - themean)/(thestd) \n",
    "  return(pd.DataFrame(norm))\n",
    "\n",
    "def team_quality(season):\n",
    "    formula = 'win~-1+T1_TeamID+T2_TeamID'\n",
    "    glm = sm.GLM.from_formula(formula=formula, \n",
    "                              data=regular_season_effects.loc[regular_season_effects.Season==season,:], \n",
    "                              family=sm.families.Binomial()).fit()\n",
    "    quality = pd.DataFrame(glm.params).reset_index()\n",
    "    quality.columns = ['TeamID','quality']\n",
    "    quality['Season'] = season\n",
    "    quality['quality'] = normalize_column(quality['quality'])\n",
    "    quality['quality'] = np.exp(quality['quality'])\n",
    "    quality = quality.loc[quality.TeamID.str.contains('T1_')].reset_index(drop=True)\n",
    "    quality['TeamID'] = quality['TeamID'].apply(lambda x: x[10:14]).astype(int)\n",
    "    print(quality['quality'].mean(), quality['quality'].std())\n",
    "    return quality"
   ]
  },
  {
   "cell_type": "code",
   "execution_count": 29,
   "id": "77db4282-c77b-467e-ad80-ed86eacb3273",
   "metadata": {},
   "outputs": [
    {
     "name": "stdout",
     "output_type": "stream",
     "text": [
      "8.966930743414089 129.1960868185282\n"
     ]
    },
    {
     "data": {
      "text/html": [
       "<div>\n",
       "<style scoped>\n",
       "    .dataframe tbody tr th:only-of-type {\n",
       "        vertical-align: middle;\n",
       "    }\n",
       "\n",
       "    .dataframe tbody tr th {\n",
       "        vertical-align: top;\n",
       "    }\n",
       "\n",
       "    .dataframe thead th {\n",
       "        text-align: right;\n",
       "    }\n",
       "</style>\n",
       "<table border=\"1\" class=\"dataframe\">\n",
       "  <thead>\n",
       "    <tr style=\"text-align: right;\">\n",
       "      <th></th>\n",
       "      <th>TeamID</th>\n",
       "      <th>quality</th>\n",
       "      <th>Season</th>\n",
       "    </tr>\n",
       "  </thead>\n",
       "  <tbody>\n",
       "    <tr>\n",
       "      <th>0</th>\n",
       "      <td>1101</td>\n",
       "      <td>1.000000</td>\n",
       "      <td>2015</td>\n",
       "    </tr>\n",
       "    <tr>\n",
       "      <th>1</th>\n",
       "      <td>1102</td>\n",
       "      <td>1.713550</td>\n",
       "      <td>2015</td>\n",
       "    </tr>\n",
       "    <tr>\n",
       "      <th>2</th>\n",
       "      <td>1103</td>\n",
       "      <td>2.196173</td>\n",
       "      <td>2015</td>\n",
       "    </tr>\n",
       "    <tr>\n",
       "      <th>3</th>\n",
       "      <td>1104</td>\n",
       "      <td>2.901689</td>\n",
       "      <td>2015</td>\n",
       "    </tr>\n",
       "    <tr>\n",
       "      <th>4</th>\n",
       "      <td>1105</td>\n",
       "      <td>0.788499</td>\n",
       "      <td>2015</td>\n",
       "    </tr>\n",
       "    <tr>\n",
       "      <th>...</th>\n",
       "      <td>...</td>\n",
       "      <td>...</td>\n",
       "      <td>...</td>\n",
       "    </tr>\n",
       "    <tr>\n",
       "      <th>346</th>\n",
       "      <td>1460</td>\n",
       "      <td>1.410841</td>\n",
       "      <td>2015</td>\n",
       "    </tr>\n",
       "    <tr>\n",
       "      <th>347</th>\n",
       "      <td>1461</td>\n",
       "      <td>2.836046</td>\n",
       "      <td>2015</td>\n",
       "    </tr>\n",
       "    <tr>\n",
       "      <th>348</th>\n",
       "      <td>1462</td>\n",
       "      <td>3.534407</td>\n",
       "      <td>2015</td>\n",
       "    </tr>\n",
       "    <tr>\n",
       "      <th>349</th>\n",
       "      <td>1463</td>\n",
       "      <td>2.259003</td>\n",
       "      <td>2015</td>\n",
       "    </tr>\n",
       "    <tr>\n",
       "      <th>350</th>\n",
       "      <td>1464</td>\n",
       "      <td>1.289061</td>\n",
       "      <td>2015</td>\n",
       "    </tr>\n",
       "  </tbody>\n",
       "</table>\n",
       "<p>351 rows × 3 columns</p>\n",
       "</div>"
      ],
      "text/plain": [
       "     TeamID   quality  Season\n",
       "0      1101  1.000000    2015\n",
       "1      1102  1.713550    2015\n",
       "2      1103  2.196173    2015\n",
       "3      1104  2.901689    2015\n",
       "4      1105  0.788499    2015\n",
       "..      ...       ...     ...\n",
       "346    1460  1.410841    2015\n",
       "347    1461  2.836046    2015\n",
       "348    1462  3.534407    2015\n",
       "349    1463  2.259003    2015\n",
       "350    1464  1.289061    2015\n",
       "\n",
       "[351 rows x 3 columns]"
      ]
     },
     "execution_count": 29,
     "metadata": {},
     "output_type": "execute_result"
    }
   ],
   "source": [
    "team_quality(2015)"
   ]
  },
  {
   "cell_type": "code",
   "execution_count": null,
   "id": "3e077e14-71a3-46f1-a6d3-960c8c88e280",
   "metadata": {},
   "outputs": [],
   "source": []
  },
  {
   "cell_type": "markdown",
   "id": "22659472-1b1c-48c4-a8f3-cc811a0a3213",
   "metadata": {},
   "source": [
    "### Create features"
   ]
  },
  {
   "cell_type": "code",
   "execution_count": null,
   "id": "a74c33e4-e2a5-4261-96f8-c32ed3d4920c",
   "metadata": {},
   "outputs": [],
   "source": [
    "df['WPoss'] = (df['WFGA'] - df['WOR'] + df['WTO'] + (0.475*df['WFTA']) )\n",
    "df['LPoss'] = (df['LFGA'] - df['LOR'] + df['LTO'] + (0.475*df['LFTA']) )\n",
    "df['TotPoss'] = df['WPoss'] + df['LPoss']\n",
    "df['WPPP'] = (df['WScore'] / ((df['WPoss'] + df['LPoss'])/2) )\n",
    "df['LPPP'] = (df['LScore'] / ((df['WPoss'] + df['LPoss'])/2) )"
   ]
  },
  {
   "cell_type": "code",
   "execution_count": null,
   "id": "69eac2f6-5bff-4f1a-aea8-7b6f354b4226",
   "metadata": {},
   "outputs": [],
   "source": []
  },
  {
   "cell_type": "code",
   "execution_count": null,
   "id": "9dd3bb40-ef1c-4ebc-8757-5ec51de3dbd5",
   "metadata": {},
   "outputs": [],
   "source": []
  },
  {
   "cell_type": "code",
   "execution_count": null,
   "id": "0f820c9c-4b16-4bc9-adbb-108ce05e7305",
   "metadata": {},
   "outputs": [],
   "source": []
  }
 ],
 "metadata": {
  "kernelspec": {
   "display_name": "Python 3 (ipykernel)",
   "language": "python",
   "name": "python3"
  },
  "language_info": {
   "codemirror_mode": {
    "name": "ipython",
    "version": 3
   },
   "file_extension": ".py",
   "mimetype": "text/x-python",
   "name": "python",
   "nbconvert_exporter": "python",
   "pygments_lexer": "ipython3",
   "version": "3.11.8"
  }
 },
 "nbformat": 4,
 "nbformat_minor": 5
}
