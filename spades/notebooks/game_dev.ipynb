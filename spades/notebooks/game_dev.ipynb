{
 "cells": [
  {
   "cell_type": "markdown",
   "id": "bb69402e-63cc-45d1-be50-bc97c7d87fe4",
   "metadata": {},
   "source": [
    "# Spades game dev\n",
    "Scratch dev notebook for spades game development"
   ]
  },
  {
   "cell_type": "code",
   "execution_count": 2,
   "id": "149ed88d-4b1f-4e84-a9eb-393b3423248f",
   "metadata": {},
   "outputs": [
    {
     "data": {
      "text/plain": [
       "'/Users/jeremy/Desktop/nonsense/spades/notebooks'"
      ]
     },
     "execution_count": 2,
     "metadata": {},
     "output_type": "execute_result"
    }
   ],
   "source": [
    "pwd"
   ]
  },
  {
   "cell_type": "code",
   "execution_count": 3,
   "id": "1a297d24-24dc-4a08-b084-c62e55e338dc",
   "metadata": {},
   "outputs": [],
   "source": [
    "%load_ext autoreload\n",
    "%autoreload 2"
   ]
  },
  {
   "cell_type": "code",
   "execution_count": 4,
   "id": "ed20b78a-b32d-40a3-a681-c79e376fcaf7",
   "metadata": {},
   "outputs": [],
   "source": [
    "import sys\n",
    "import random\n",
    "import pandas as pd"
   ]
  },
  {
   "cell_type": "code",
   "execution_count": 5,
   "id": "95f5d738-79c4-4c51-be93-b8b690710593",
   "metadata": {},
   "outputs": [],
   "source": [
    "sys.path.append(\"..\")"
   ]
  },
  {
   "cell_type": "code",
   "execution_count": 6,
   "id": "58889181-59b8-45c7-88db-d7a7f8298cac",
   "metadata": {},
   "outputs": [],
   "source": [
    "from main import Card, Deck, Player, Game"
   ]
  },
  {
   "cell_type": "markdown",
   "id": "b58c9098-e981-47c9-9495-8735ae9d40df",
   "metadata": {},
   "source": [
    "### Card"
   ]
  },
  {
   "cell_type": "code",
   "execution_count": 7,
   "id": "667dce30-40d4-4236-b122-eb71512f91df",
   "metadata": {},
   "outputs": [],
   "source": [
    "card = Card(suit='Hearts', rank='5')"
   ]
  },
  {
   "cell_type": "code",
   "execution_count": 8,
   "id": "f584d988-8beb-4032-a5e9-a5cfc80f67ea",
   "metadata": {},
   "outputs": [
    {
     "data": {
      "text/plain": [
       "5 of Hearts"
      ]
     },
     "execution_count": 8,
     "metadata": {},
     "output_type": "execute_result"
    }
   ],
   "source": [
    "card"
   ]
  },
  {
   "cell_type": "code",
   "execution_count": 9,
   "id": "13116c41-bcc5-4dbd-9990-1ce8e1c99c6f",
   "metadata": {},
   "outputs": [],
   "source": [
    "card = Card(suit='Hearts', rank='Queen')"
   ]
  },
  {
   "cell_type": "code",
   "execution_count": 10,
   "id": "e214aec6-7549-4684-b2f6-6b6879a73aea",
   "metadata": {},
   "outputs": [
    {
     "data": {
      "text/plain": [
       "Queen of Hearts"
      ]
     },
     "execution_count": 10,
     "metadata": {},
     "output_type": "execute_result"
    }
   ],
   "source": [
    "card"
   ]
  },
  {
   "cell_type": "code",
   "execution_count": 12,
   "id": "f4202a49-9f3b-44ee-85bb-f3eafa77f604",
   "metadata": {},
   "outputs": [
    {
     "data": {
      "text/plain": [
       "12"
      ]
     },
     "execution_count": 12,
     "metadata": {},
     "output_type": "execute_result"
    }
   ],
   "source": [
    "card.rank"
   ]
  },
  {
   "cell_type": "markdown",
   "id": "83be2c80-9acd-48e4-9e33-7ce7798a9502",
   "metadata": {},
   "source": [
    "### Deck"
   ]
  },
  {
   "cell_type": "code",
   "execution_count": 13,
   "id": "acbb07d2-b84c-4273-87a0-41028c9e03cc",
   "metadata": {},
   "outputs": [],
   "source": [
    "deck = Deck()"
   ]
  },
  {
   "cell_type": "code",
   "execution_count": 14,
   "id": "7ec690dc-fe15-4d82-b896-c560bdb99ae7",
   "metadata": {},
   "outputs": [
    {
     "name": "stdout",
     "output_type": "stream",
     "text": [
      "[10 of Hearts, Queen of Diamonds, 4 of Spades, 2 of Diamonds, 4 of Diamonds]\n",
      "[5 of Diamonds, Queen of Clubs, 4 of Clubs, 3 of Spades, 10 of Hearts]\n"
     ]
    }
   ],
   "source": [
    "print(deck.cards[0:5])\n",
    "deck.shuffle()\n",
    "print(deck.cards[0:5])"
   ]
  },
  {
   "cell_type": "code",
   "execution_count": null,
   "id": "88ba01e7-adac-4f82-96e9-feea6fae23d3",
   "metadata": {},
   "outputs": [],
   "source": []
  },
  {
   "cell_type": "markdown",
   "id": "dc05c57d-38ac-46fb-bdc9-4f4b2b94d1bf",
   "metadata": {},
   "source": [
    "### Player"
   ]
  },
  {
   "cell_type": "code",
   "execution_count": 15,
   "id": "b60ba845-06b8-4cfd-b3f0-255a12b6428a",
   "metadata": {},
   "outputs": [],
   "source": [
    "player = Player(name='Player1')"
   ]
  },
  {
   "cell_type": "code",
   "execution_count": 16,
   "id": "ff70f835-0b26-4abc-88ea-6407626a2dba",
   "metadata": {},
   "outputs": [
    {
     "data": {
      "text/plain": [
       "[]"
      ]
     },
     "execution_count": 16,
     "metadata": {},
     "output_type": "execute_result"
    }
   ],
   "source": [
    "player.hand"
   ]
  },
  {
   "cell_type": "code",
   "execution_count": null,
   "id": "bf85e819-f266-485a-9cb1-2d72528b60c2",
   "metadata": {},
   "outputs": [],
   "source": []
  },
  {
   "cell_type": "markdown",
   "id": "8bdaab4c-bc0b-4181-9f12-22fd60bcdf1e",
   "metadata": {},
   "source": [
    "### Game"
   ]
  },
  {
   "cell_type": "code",
   "execution_count": 17,
   "id": "4d3c6a36-d989-409c-995e-4116e28c65e4",
   "metadata": {},
   "outputs": [],
   "source": [
    "game = Game(verbose=True)"
   ]
  },
  {
   "cell_type": "code",
   "execution_count": 18,
   "id": "118415fa-f627-4b2e-8f29-3c9fa7ea6993",
   "metadata": {},
   "outputs": [
    {
     "data": {
      "text/plain": [
       "[0, 0, 0, 0]"
      ]
     },
     "execution_count": 18,
     "metadata": {},
     "output_type": "execute_result"
    }
   ],
   "source": [
    "game.scores"
   ]
  },
  {
   "cell_type": "code",
   "execution_count": 19,
   "id": "0b862086-92c6-44a0-90f9-7fc3c87cdfd3",
   "metadata": {},
   "outputs": [
    {
     "name": "stdout",
     "output_type": "stream",
     "text": [
      "Bids: [4, 3, 2, 4]\n",
      "Spades: Ace King 9 7; Others Ace: 0, King: 0, Queen: 1, Jack: 1; Bid val: 3.5384615384615383\n",
      "Spades: Queen 4 3; Others Ace: 0, King: 0, Queen: 0, Jack: 0; Bid val: 2.769230769230769\n",
      "Spades: 8 2; Others Ace: 3, King: 1, Queen: 0, Jack: 1; Bid val: 1.9230769230769231\n",
      "Spades: Jack 10 6 5; Others Ace: 0, King: 2, Queen: 2, Jack: 1; Bid val: 3.5384615384615383\n",
      "Player 1 plays Queen of Clubs, Player 2 plays 3 of Clubs, Player 3 plays Ace of Clubs, Player 4 plays 2 of Clubs, Player 3 wins trick\n",
      "Player 3 plays Ace of Diamonds, Player 4 plays 4 of Diamonds, Player 1 plays 2 of Diamonds, Player 2 plays 5 of Diamonds, Player 3 wins trick\n",
      "Player 3 plays 3 of Diamonds, Player 4 plays Queen of Diamonds, Player 1 plays 7 of Diamonds, Player 2 plays 6 of Diamonds, Player 4 wins trick\n",
      "Player 4 plays King of Hearts, Player 1 plays 3 of Hearts, Player 2 plays 8 of Hearts, Player 3 plays 5 of Hearts, Player 4 wins trick\n",
      "Player 4 plays King of Clubs, Player 1 plays 8 of Clubs, Player 2 plays 4 of Clubs, Player 3 plays 5 of Clubs, Player 4 wins trick\n",
      "Player 4 plays Queen of Hearts, Player 1 plays 4 of Hearts, Player 2 plays 9 of Hearts, Player 3 plays 7 of Hearts, Player 4 wins trick\n",
      "Player 4 plays 2 of Hearts, Player 1 plays Jack of Hearts, Player 2 plays 3 of Spades, Player 3 plays 10 of Hearts, Player 2 wins trick\n",
      "Player 2 plays 10 of Diamonds, Player 3 plays Jack of Diamonds, Player 4 plays 6 of Hearts, Player 1 plays 9 of Diamonds, Player 3 wins trick\n",
      "Player 3 plays 10 of Clubs, Player 4 plays Jack of Clubs, Player 1 plays 9 of Clubs, Player 2 plays 6 of Clubs, Player 4 wins trick\n",
      "Player 4 plays 5 of Spades, Player 1 plays 7 of Spades, Player 2 plays Queen of Spades, Player 3 plays 2 of Spades, Player 2 wins trick\n",
      "Player 2 plays 8 of Diamonds, Player 3 plays King of Diamonds, Player 4 plays 6 of Spades, Player 1 plays 9 of Spades, Player 1 wins trick\n",
      "Player 1 plays Ace of Spades, Player 2 plays 4 of Spades, Player 3 plays 8 of Spades, Player 4 plays 10 of Spades, Player 1 wins trick\n",
      "Player 1 plays King of Spades, Player 2 plays 7 of Clubs, Player 3 plays Ace of Hearts, Player 4 plays Jack of Spades, Player 1 wins trick\n",
      "Scores: [-30, -20, 31, 51]\n",
      "Bids: [4, 3, 3, 3]\n",
      "Spades: 10 9 8 6; Others Ace: 0, King: 1, Queen: 0, Jack: 0; Bid val: 3.5384615384615383\n",
      "Spades: Jack 4 3; Others Ace: 1, King: 0, Queen: 0, Jack: 0; Bid val: 2.769230769230769\n",
      "Spades: Ace 7 5; Others Ace: 2, King: 2, Queen: 1, Jack: 0; Bid val: 2.769230769230769\n",
      "Spades: King Queen 2; Others Ace: 0, King: 0, Queen: 2, Jack: 3; Bid val: 2.769230769230769\n",
      "Player 1 plays King of Diamonds, Player 2 plays 3 of Diamonds, Player 3 plays Ace of Diamonds, Player 4 plays 10 of Diamonds, Player 3 wins trick\n",
      "Player 3 plays Ace of Clubs, Player 4 plays 2 of Clubs, Player 1 plays 4 of Clubs, Player 2 plays 6 of Clubs, Player 3 wins trick\n",
      "Player 3 plays King of Hearts, Player 4 plays 9 of Hearts, Player 1 plays 3 of Hearts, Player 2 plays Ace of Hearts, Player 2 wins trick\n",
      "Player 2 plays 9 of Clubs, Player 3 plays Queen of Clubs, Player 4 plays 10 of Clubs, Player 1 plays 5 of Clubs, Player 3 wins trick\n",
      "Player 3 plays 2 of Hearts, Player 4 plays 10 of Hearts, Player 1 plays 6 of Hearts, Player 2 plays 4 of Hearts, Player 4 wins trick\n",
      "Player 4 plays Queen of Diamonds, Player 1 plays 2 of Diamonds, Player 2 plays 5 of Diamonds, Player 3 plays 4 of Diamonds, Player 4 wins trick\n",
      "Player 4 plays Queen of Hearts, Player 1 plays 6 of Spades, Player 2 plays 7 of Hearts, Player 3 plays 5 of Hearts, Player 1 wins trick\n",
      "Player 1 plays 9 of Diamonds, Player 2 plays 6 of Diamonds, Player 3 plays 8 of Diamonds, Player 4 plays Jack of Diamonds, Player 4 wins trick\n",
      "Player 4 plays Jack of Clubs, Player 1 plays 7 of Clubs, Player 2 plays 3 of Spades, Player 3 plays 3 of Clubs, Player 2 wins trick\n",
      "Player 2 plays 8 of Hearts, Player 3 plays King of Clubs, Player 4 plays Jack of Hearts, Player 1 plays 8 of Spades, Player 1 wins trick\n",
      "Player 1 plays 8 of Clubs, Player 2 plays 4 of Spades, Player 3 plays 5 of Spades, Player 4 plays 2 of Spades, Player 3 wins trick\n",
      "Player 3 plays 7 of Spades, Player 4 plays Queen of Spades, Player 1 plays 9 of Spades, Player 2 plays Jack of Spades, Player 4 wins trick\n",
      "Player 4 plays King of Spades, Player 1 plays 10 of Spades, Player 2 plays 7 of Diamonds, Player 3 plays Ace of Spades, Player 3 wins trick\n",
      "Scores: [-50, -40, 83, 92]\n",
      "Bids: [3, 2, 4, 4]\n",
      "Spades: Jack 5 4; Others Ace: 1, King: 1, Queen: 2, Jack: 2; Bid val: 2.769230769230769\n",
      "Spades: Queen 7; Others Ace: 0, King: 1, Queen: 0, Jack: 0; Bid val: 1.9230769230769231\n",
      "Spades: 9 6 3 2; Others Ace: 1, King: 1, Queen: 0, Jack: 0; Bid val: 3.5384615384615383\n",
      "Spades: Ace King 10 8; Others Ace: 1, King: 0, Queen: 1, Jack: 1; Bid val: 3.5384615384615383\n",
      "Player 1 plays Ace of Clubs, Player 2 plays 5 of Clubs, Player 3 plays 3 of Clubs, Player 4 plays 6 of Clubs, Player 1 wins trick\n",
      "Player 1 plays King of Diamonds, Player 2 plays 3 of Diamonds, Player 3 plays Ace of Diamonds, Player 4 plays 4 of Diamonds, Player 3 wins trick\n",
      "Player 3 plays King of Hearts, Player 4 plays Ace of Hearts, Player 1 plays 10 of Hearts, Player 2 plays 2 of Hearts, Player 4 wins trick\n",
      "Player 4 plays Queen of Hearts, Player 1 plays Jack of Hearts, Player 2 plays 4 of Hearts, Player 3 plays 5 of Hearts, Player 4 wins trick\n",
      "Player 4 plays Jack of Clubs, Player 1 plays Queen of Clubs, Player 2 plays King of Clubs, Player 3 plays 4 of Clubs, Player 2 wins trick\n",
      "Player 2 plays 10 of Clubs, Player 3 plays 9 of Clubs, Player 4 plays 8 of Spades, Player 1 plays 2 of Clubs, Player 4 wins trick\n",
      "Player 4 plays 9 of Hearts, Player 1 plays 4 of Spades, Player 2 plays 7 of Hearts, Player 3 plays 6 of Hearts, Player 1 wins trick\n",
      "Player 1 plays Queen of Diamonds, Player 2 plays 6 of Diamonds, Player 3 plays 9 of Diamonds, Player 4 plays 5 of Diamonds, Player 1 wins trick\n",
      "Player 1 plays 2 of Diamonds, Player 2 plays 7 of Diamonds, Player 3 plays 2 of Spades, Player 4 plays 8 of Diamonds, Player 3 wins trick\n",
      "Player 3 plays 8 of Hearts, Player 4 plays 3 of Hearts, Player 1 plays 10 of Diamonds, Player 2 plays 7 of Spades, Player 2 wins trick\n",
      "Player 2 plays 7 of Clubs, Player 3 plays 3 of Spades, Player 4 plays 10 of Spades, Player 1 plays Jack of Diamonds, Player 4 wins trick\n",
      "Player 4 plays King of Spades, Player 1 plays 5 of Spades, Player 2 plays Queen of Spades, Player 3 plays 6 of Spades, Player 4 wins trick\n",
      "Player 4 plays Ace of Spades, Player 1 plays Jack of Spades, Player 2 plays 8 of Clubs, Player 3 plays 9 of Spades, Player 4 wins trick\n",
      "Scores: [-20, -20, 63, 154]\n",
      "Bids: [2, 2, 4, 4]\n",
      "Spades: 6 4; Others Ace: 2, King: 1, Queen: 0, Jack: 2; Bid val: 1.9230769230769231\n",
      "Spades: 3 2; Others Ace: 1, King: 0, Queen: 1, Jack: 1; Bid val: 1.9230769230769231\n",
      "Spades: King 10 8 7 5; Others Ace: 0, King: 1, Queen: 1, Jack: 0; Bid val: 4.230769230769231\n",
      "Spades: Ace Queen Jack 9; Others Ace: 0, King: 1, Queen: 1, Jack: 0; Bid val: 3.5384615384615383\n",
      "Player 1 plays Ace of Hearts, Player 2 plays 4 of Hearts, Player 3 plays 2 of Hearts, Player 4 plays 6 of Hearts, Player 1 wins trick\n",
      "Player 1 plays Ace of Diamonds, Player 2 plays 2 of Diamonds, Player 3 plays 9 of Diamonds, Player 4 plays 4 of Diamonds, Player 1 wins trick\n",
      "Player 1 plays 3 of Clubs, Player 2 plays Jack of Clubs, Player 3 plays 5 of Clubs, Player 4 plays King of Clubs, Player 4 wins trick\n",
      "Player 4 plays Queen of Hearts, Player 1 plays 7 of Hearts, Player 2 plays 5 of Hearts, Player 3 plays King of Hearts, Player 3 wins trick\n",
      "Player 3 plays Queen of Diamonds, Player 4 plays 9 of Spades, Player 1 plays 7 of Diamonds, Player 2 plays 3 of Diamonds, Player 4 wins trick\n",
      "Player 4 plays 10 of Clubs, Player 1 plays 8 of Diamonds, Player 2 plays Queen of Clubs, Player 3 plays 7 of Clubs, Player 2 wins trick\n",
      "Player 2 plays Ace of Clubs, Player 3 plays 5 of Spades, Player 4 plays 4 of Clubs, Player 1 plays 9 of Hearts, Player 3 wins trick\n",
      "Player 3 plays 10 of Diamonds, Player 4 plays Jack of Spades, Player 1 plays Jack of Diamonds, Player 2 plays 5 of Diamonds, Player 4 wins trick\n",
      "Player 4 plays 9 of Clubs, Player 1 plays 10 of Hearts, Player 2 plays 2 of Clubs, Player 3 plays 7 of Spades, Player 3 wins trick\n",
      "Player 3 plays 3 of Hearts, Player 4 plays Queen of Spades, Player 1 plays Jack of Hearts, Player 2 plays 8 of Hearts, Player 4 wins trick\n",
      "Player 4 plays 6 of Clubs, Player 1 plays King of Diamonds, Player 2 plays 2 of Spades, Player 3 plays 8 of Spades, Player 3 wins trick\n",
      "Player 3 plays 10 of Spades, Player 4 plays Ace of Spades, Player 1 plays 4 of Spades, Player 2 plays 3 of Spades, Player 4 wins trick\n",
      "Player 4 plays 8 of Clubs, Player 1 plays 6 of Spades, Player 2 plays 6 of Diamonds, Player 3 plays King of Spades, Player 3 wins trick\n",
      "Scores: [0, -30, 114, 205]\n",
      "Bids: [1, 4, 4, 2]\n",
      "Spades: 2; Others Ace: 2, King: 1, Queen: 1, Jack: 0; Bid val: 1.0\n",
      "Spades: King Queen 10 5 3; Others Ace: 0, King: 1, Queen: 0, Jack: 0; Bid val: 4.230769230769231\n",
      "Spades: Ace Jack 9 7 6; Others Ace: 1, King: 0, Queen: 1, Jack: 2; Bid val: 4.230769230769231\n",
      "Spades: 8 4; Others Ace: 0, King: 1, Queen: 1, Jack: 1; Bid val: 1.9230769230769231\n",
      "Player 1 plays Ace of Clubs, Player 2 plays 4 of Clubs, Player 3 plays 10 of Clubs, Player 4 plays 2 of Clubs, Player 1 wins trick\n",
      "Player 1 plays 2 of Diamonds, Player 2 plays 3 of Diamonds, Player 3 plays 4 of Diamonds, Player 4 plays 6 of Diamonds, Player 4 wins trick\n",
      "Player 4 plays King of Hearts, Player 1 plays 3 of Hearts, Player 2 plays 2 of Hearts, Player 3 plays 8 of Hearts, Player 4 wins trick\n",
      "Player 4 plays 5 of Clubs, Player 1 plays 3 of Clubs, Player 2 plays 9 of Clubs, Player 3 plays Jack of Clubs, Player 3 wins trick\n",
      "Player 3 plays Ace of Diamonds, Player 4 plays 10 of Diamonds, Player 1 plays 5 of Diamonds, Player 2 plays 7 of Diamonds, Player 3 wins trick\n",
      "Player 3 plays Queen of Hearts, Player 4 plays 5 of Hearts, Player 1 plays 7 of Hearts, Player 2 plays 4 of Hearts, Player 3 wins trick\n",
      "Player 3 plays Jack of Diamonds, Player 4 plays 6 of Clubs, Player 1 plays 8 of Diamonds, Player 2 plays 3 of Spades, Player 2 wins trick\n",
      "Player 2 plays King of Clubs, Player 3 plays 6 of Spades, Player 4 plays 8 of Clubs, Player 1 plays 7 of Clubs, Player 3 wins trick\n",
      "Player 3 plays 9 of Diamonds, Player 4 plays 10 of Hearts, Player 1 plays Queen of Diamonds, Player 2 plays 5 of Spades, Player 2 wins trick\n",
      "Player 2 plays 6 of Hearts, Player 3 plays 7 of Spades, Player 4 plays Jack of Hearts, Player 1 plays 9 of Hearts, Player 3 wins trick\n",
      "Player 3 plays 9 of Spades, Player 4 plays 4 of Spades, Player 1 plays 2 of Spades, Player 2 plays 10 of Spades, Player 2 wins trick\n",
      "Player 2 plays King of Spades, Player 3 plays Jack of Spades, Player 4 plays 8 of Spades, Player 1 plays King of Diamonds, Player 2 wins trick\n",
      "Player 2 plays Queen of Spades, Player 3 plays Ace of Spades, Player 4 plays Queen of Clubs, Player 1 plays Ace of Hearts, Player 3 wins trick\n",
      "Scores: [10, 10, 176, 225]\n",
      "Bids: [3, 3, 3, 4]\n",
      "Spades: Queen 8 6; Others Ace: 0, King: 0, Queen: 1, Jack: 2; Bid val: 2.769230769230769\n",
      "Spades: 5 4 3; Others Ace: 0, King: 2, Queen: 0, Jack: 0; Bid val: 2.769230769230769\n",
      "Spades: Ace King 10; Others Ace: 2, King: 1, Queen: 1, Jack: 1; Bid val: 2.769230769230769\n",
      "Spades: Jack 9 7 2; Others Ace: 1, King: 0, Queen: 1, Jack: 0; Bid val: 3.5384615384615383\n",
      "Player 1 plays Queen of Diamonds, Player 2 plays King of Diamonds, Player 3 plays Ace of Diamonds, Player 4 plays 3 of Diamonds, Player 3 wins trick\n",
      "Player 3 plays Ace of Clubs, Player 4 plays 3 of Clubs, Player 1 plays 4 of Clubs, Player 2 plays 2 of Clubs, Player 3 wins trick\n",
      "Player 3 plays King of Hearts, Player 4 plays Ace of Hearts, Player 1 plays 4 of Hearts, Player 2 plays 2 of Hearts, Player 4 wins trick\n",
      "Player 4 plays Queen of Hearts, Player 1 plays 8 of Hearts, Player 2 plays 9 of Hearts, Player 3 plays 5 of Hearts, Player 4 wins trick\n",
      "Player 4 plays 7 of Hearts, Player 1 plays Jack of Hearts, Player 2 plays 10 of Hearts, Player 3 plays 10 of Spades, Player 3 wins trick\n",
      "Player 3 plays 5 of Diamonds, Player 4 plays 4 of Diamonds, Player 1 plays 7 of Diamonds, Player 2 plays 6 of Diamonds, Player 1 wins trick\n",
      "Player 1 plays Jack of Diamonds, Player 2 plays 3 of Spades, Player 3 plays 10 of Diamonds, Player 4 plays 7 of Spades, Player 4 wins trick\n",
      "Player 4 plays 6 of Hearts, Player 1 plays 6 of Spades, Player 2 plays 6 of Clubs, Player 3 plays 8 of Clubs, Player 1 wins trick\n",
      "Player 1 plays 9 of Diamonds, Player 2 plays 4 of Spades, Player 3 plays 9 of Clubs, Player 4 plays 9 of Spades, Player 4 wins trick\n",
      "Player 4 plays 3 of Hearts, Player 1 plays 8 of Spades, Player 2 plays 7 of Clubs, Player 3 plays Jack of Clubs, Player 1 wins trick\n",
      "Player 1 plays 2 of Diamonds, Player 2 plays 5 of Spades, Player 3 plays Queen of Clubs, Player 4 plays 5 of Clubs, Player 2 wins trick\n",
      "Player 2 plays King of Clubs, Player 3 plays King of Spades, Player 4 plays 2 of Spades, Player 1 plays 8 of Diamonds, Player 3 wins trick\n",
      "Player 3 plays Ace of Spades, Player 4 plays Jack of Spades, Player 1 plays Queen of Spades, Player 2 plays 10 of Clubs, Player 3 wins trick\n",
      "Scores: [40, 0, 228, 265]\n",
      "Bids: [4, 4, 3, 2]\n",
      "Spades: Ace 10 6 4; Others Ace: 0, King: 2, Queen: 0, Jack: 1; Bid val: 3.5384615384615383\n",
      "Spades: 9 8 7 3; Others Ace: 2, King: 0, Queen: 0, Jack: 1; Bid val: 3.5384615384615383\n",
      "Spades: Jack 5 2; Others Ace: 0, King: 0, Queen: 1, Jack: 1; Bid val: 2.769230769230769\n",
      "Spades: King Queen; Others Ace: 1, King: 1, Queen: 2, Jack: 0; Bid val: 1.9230769230769231\n",
      "Player 1 plays King of Hearts, Player 2 plays 3 of Hearts, Player 3 plays 6 of Hearts, Player 4 plays Ace of Hearts, Player 4 wins trick\n",
      "Player 4 plays King of Diamonds, Player 1 plays 9 of Diamonds, Player 2 plays Ace of Diamonds, Player 3 plays 2 of Diamonds, Player 2 wins trick\n",
      "Player 2 plays Ace of Clubs, Player 3 plays 2 of Clubs, Player 4 plays 3 of Clubs, Player 1 plays 4 of Clubs, Player 2 wins trick\n",
      "Player 2 plays Jack of Hearts, Player 3 plays Queen of Hearts, Player 4 plays 2 of Hearts, Player 1 plays 4 of Hearts, Player 3 wins trick\n",
      "Player 3 plays Jack of Diamonds, Player 4 plays Queen of Diamonds, Player 1 plays 4 of Spades, Player 2 plays 3 of Diamonds, Player 1 wins trick\n",
      "Player 1 plays King of Clubs, Player 2 plays 5 of Clubs, Player 3 plays 2 of Spades, Player 4 plays 7 of Clubs, Player 3 wins trick\n",
      "Player 3 plays 10 of Diamonds, Player 4 plays 5 of Diamonds, Player 1 plays 6 of Spades, Player 2 plays 8 of Diamonds, Player 1 wins trick\n",
      "Player 1 plays Jack of Clubs, Player 2 plays 6 of Clubs, Player 3 plays 5 of Spades, Player 4 plays Queen of Clubs, Player 3 wins trick\n",
      "Player 3 plays 4 of Diamonds, Player 4 plays 7 of Diamonds, Player 1 plays 10 of Spades, Player 2 plays 8 of Clubs, Player 1 wins trick\n",
      "Player 1 plays 10 of Clubs, Player 2 plays 3 of Spades, Player 3 plays 6 of Diamonds, Player 4 plays 9 of Clubs, Player 2 wins trick\n",
      "Player 2 plays 9 of Spades, Player 3 plays Jack of Spades, Player 4 plays Queen of Spades, Player 1 plays Ace of Spades, Player 1 wins trick\n",
      "Player 1 plays 5 of Hearts, Player 2 plays 7 of Spades, Player 3 plays 9 of Hearts, Player 4 plays 8 of Hearts, Player 2 wins trick\n",
      "Player 2 plays 8 of Spades, Player 3 plays 10 of Hearts, Player 4 plays King of Spades, Player 1 plays 7 of Hearts, Player 4 wins trick\n",
      "Scores: [80, 40, 258, 285]\n",
      "Bids: [3, 2, 4, 4]\n",
      "Spades: Ace 10 3; Others Ace: 0, King: 1, Queen: 0, Jack: 0; Bid val: 2.769230769230769\n",
      "Spades: King 6; Others Ace: 2, King: 1, Queen: 1, Jack: 2; Bid val: 1.9230769230769231\n",
      "Spades: Queen 8 4 2; Others Ace: 0, King: 1, Queen: 1, Jack: 1; Bid val: 3.5384615384615383\n",
      "Spades: Jack 9 7 5; Others Ace: 1, King: 0, Queen: 1, Jack: 0; Bid val: 3.5384615384615383\n",
      "Player 1 plays King of Clubs, Player 2 plays Ace of Clubs, Player 3 plays Queen of Clubs, Player 4 plays 5 of Clubs, Player 2 wins trick\n",
      "Player 2 plays Ace of Hearts, Player 3 plays 6 of Hearts, Player 4 plays 2 of Hearts, Player 1 plays 3 of Spades, Player 1 wins trick\n",
      "Player 1 plays 10 of Diamonds, Player 2 plays King of Diamonds, Player 3 plays 5 of Diamonds, Player 4 plays Ace of Diamonds, Player 4 wins trick\n",
      "Player 4 plays Queen of Diamonds, Player 1 plays 2 of Diamonds, Player 2 plays 6 of Spades, Player 3 plays 6 of Diamonds, Player 2 wins trick\n",
      "Player 2 plays 3 of Hearts, Player 3 plays 7 of Hearts, Player 4 plays 8 of Hearts, Player 1 plays 10 of Spades, Player 1 wins trick\n",
      "Player 1 plays 10 of Clubs, Player 2 plays 3 of Clubs, Player 3 plays 2 of Spades, Player 4 plays 5 of Spades, Player 4 wins trick\n",
      "Player 4 plays 9 of Diamonds, Player 1 plays 7 of Diamonds, Player 2 plays 4 of Hearts, Player 3 plays Jack of Diamonds, Player 3 wins trick\n",
      "Player 3 plays King of Hearts, Player 4 plays 5 of Hearts, Player 1 plays Ace of Spades, Player 2 plays 9 of Hearts, Player 1 wins trick\n",
      "Player 1 plays 2 of Clubs, Player 2 plays 9 of Clubs, Player 3 plays 4 of Spades, Player 4 plays 7 of Spades, Player 4 wins trick\n",
      "Player 4 plays 4 of Diamonds, Player 1 plays 4 of Clubs, Player 2 plays Jack of Hearts, Player 3 plays 8 of Diamonds, Player 3 wins trick\n",
      "Player 3 plays 10 of Hearts, Player 4 plays 9 of Spades, Player 1 plays 6 of Clubs, Player 2 plays Queen of Hearts, Player 4 wins trick\n",
      "Player 4 plays 3 of Diamonds, Player 1 plays 7 of Clubs, Player 2 plays Jack of Clubs, Player 3 plays 8 of Spades, Player 3 wins trick\n",
      "Player 3 plays Queen of Spades, Player 4 plays Jack of Spades, Player 1 plays 8 of Clubs, Player 2 plays King of Spades, Player 2 wins trick\n",
      "Scores: [110, 71, 228, 325]\n",
      "Bids: [3, 4, 4, 1]\n",
      "Spades: King Queen 2; Others Ace: 1, King: 2, Queen: 1, Jack: 0; Bid val: 2.769230769230769\n",
      "Spades: Jack 8 7 3; Others Ace: 0, King: 0, Queen: 1, Jack: 0; Bid val: 3.5384615384615383\n",
      "Spades: Ace 9 6 5 4; Others Ace: 0, King: 0, Queen: 0, Jack: 1; Bid val: 4.230769230769231\n",
      "Spades: 10; Others Ace: 2, King: 1, Queen: 1, Jack: 2; Bid val: 1.0\n",
      "Player 1 plays Ace of Hearts, Player 2 plays 6 of Hearts, Player 3 plays 3 of Hearts, Player 4 plays 2 of Hearts, Player 1 wins trick\n",
      "Player 1 plays King of Hearts, Player 2 plays 9 of Hearts, Player 3 plays 7 of Hearts, Player 4 plays 4 of Hearts, Player 1 wins trick\n",
      "Player 1 plays King of Clubs, Player 2 plays 4 of Clubs, Player 3 plays 5 of Clubs, Player 4 plays Ace of Clubs, Player 4 wins trick\n",
      "Player 4 plays 2 of Clubs, Player 1 plays 3 of Clubs, Player 2 plays 7 of Clubs, Player 3 plays 9 of Clubs, Player 3 wins trick\n",
      "Player 3 plays Jack of Diamonds, Player 4 plays 4 of Diamonds, Player 1 plays Queen of Diamonds, Player 2 plays 5 of Diamonds, Player 1 wins trick\n",
      "Player 1 plays 3 of Diamonds, Player 2 plays 10 of Diamonds, Player 3 plays 2 of Diamonds, Player 4 plays 9 of Diamonds, Player 2 wins trick\n",
      "Player 2 plays Queen of Hearts, Player 3 plays 8 of Hearts, Player 4 plays Jack of Hearts, Player 1 plays 5 of Hearts, Player 2 wins trick\n",
      "Player 2 plays 10 of Hearts, Player 3 plays 4 of Spades, Player 4 plays 6 of Clubs, Player 1 plays 6 of Diamonds, Player 3 wins trick\n",
      "Player 3 plays 7 of Diamonds, Player 4 plays King of Diamonds, Player 1 plays 8 of Diamonds, Player 2 plays 3 of Spades, Player 2 wins trick\n",
      "Player 2 plays 8 of Clubs, Player 3 plays 5 of Spades, Player 4 plays Jack of Clubs, Player 1 plays 10 of Clubs, Player 3 wins trick\n",
      "Player 3 plays Ace of Spades, Player 4 plays 10 of Spades, Player 1 plays 2 of Spades, Player 2 plays 7 of Spades, Player 3 wins trick\n",
      "Player 3 plays 6 of Spades, Player 4 plays Queen of Clubs, Player 1 plays Queen of Spades, Player 2 plays 8 of Spades, Player 1 wins trick\n",
      "Player 1 plays King of Spades, Player 2 plays Jack of Spades, Player 3 plays 9 of Spades, Player 4 plays Ace of Diamonds, Player 1 wins trick\n",
      "Scores: [162, 41, 268, 335]\n",
      "Bids: [4, 4, 3, 1]\n",
      "Spades: Ace Jack 10 9 5; Others Ace: 1, King: 0, Queen: 0, Jack: 1; Bid val: 4.230769230769231\n",
      "Spades: 8 7 6 4; Others Ace: 1, King: 1, Queen: 1, Jack: 0; Bid val: 3.5384615384615383\n",
      "Spades: King Queen 2; Others Ace: 1, King: 2, Queen: 1, Jack: 0; Bid val: 2.769230769230769\n",
      "Spades: 3; Others Ace: 0, King: 0, Queen: 1, Jack: 2; Bid val: 1.0\n",
      "Player 1 plays Ace of Hearts, Player 2 plays 8 of Hearts, Player 3 plays 3 of Hearts, Player 4 plays 2 of Hearts, Player 1 wins trick\n",
      "Player 1 plays Jack of Hearts, Player 2 plays Queen of Hearts, Player 3 plays 2 of Spades, Player 4 plays 4 of Hearts, Player 3 wins trick\n",
      "Player 3 plays Ace of Diamonds, Player 4 plays 7 of Diamonds, Player 1 plays 3 of Diamonds, Player 2 plays 4 of Diamonds, Player 3 wins trick\n",
      "Player 3 plays King of Clubs, Player 4 plays 3 of Clubs, Player 1 plays 5 of Spades, Player 2 plays Ace of Clubs, Player 1 wins trick\n",
      "Player 1 plays 10 of Hearts, Player 2 plays King of Hearts, Player 3 plays Queen of Spades, Player 4 plays 5 of Hearts, Player 3 wins trick\n",
      "Player 3 plays 2 of Diamonds, Player 4 plays 10 of Diamonds, Player 1 plays 5 of Diamonds, Player 2 plays 6 of Diamonds, Player 4 wins trick\n",
      "Player 4 plays 6 of Hearts, Player 1 plays 7 of Hearts, Player 2 plays 4 of Spades, Player 3 plays 2 of Clubs, Player 2 wins trick\n",
      "Player 2 plays 7 of Clubs, Player 3 plays 5 of Clubs, Player 4 plays 8 of Clubs, Player 1 plays 9 of Spades, Player 1 wins trick\n",
      "Player 1 plays 9 of Diamonds, Player 2 plays 6 of Spades, Player 3 plays King of Diamonds, Player 4 plays Jack of Diamonds, Player 2 wins trick\n",
      "Player 2 plays 6 of Clubs, Player 3 plays 9 of Clubs, Player 4 plays Jack of Clubs, Player 1 plays 10 of Spades, Player 1 wins trick\n",
      "Player 1 plays 8 of Diamonds, Player 2 plays 7 of Spades, Player 3 plays 10 of Clubs, Player 4 plays Queen of Diamonds, Player 2 wins trick\n",
      "Player 2 plays 4 of Clubs, Player 3 plays Queen of Clubs, Player 4 plays 9 of Hearts, Player 1 plays Jack of Spades, Player 1 wins trick\n",
      "Player 1 plays Ace of Spades, Player 2 plays 8 of Spades, Player 3 plays King of Spades, Player 4 plays 3 of Spades, Player 1 wins trick\n",
      "Scores: [224, 11, 298, 345]\n",
      "Bids: [3, 4, 2, 4]\n",
      "Spades: Ace King 3; Others Ace: 1, King: 0, Queen: 1, Jack: 1; Bid val: 2.769230769230769\n",
      "Spades: Jack 10 7 4; Others Ace: 0, King: 1, Queen: 0, Jack: 0; Bid val: 3.5384615384615383\n",
      "Spades: 8 5; Others Ace: 2, King: 2, Queen: 2, Jack: 2; Bid val: 1.9230769230769231\n",
      "Spades: Queen 9 6 2; Others Ace: 0, King: 0, Queen: 0, Jack: 0; Bid val: 3.5384615384615383\n",
      "Player 1 plays Ace of Hearts, Player 2 plays 2 of Hearts, Player 3 plays Queen of Hearts, Player 4 plays 3 of Hearts, Player 1 wins trick\n",
      "Player 1 plays Queen of Clubs, Player 2 plays 6 of Clubs, Player 3 plays King of Clubs, Player 4 plays 2 of Clubs, Player 3 wins trick\n",
      "Player 3 plays Ace of Clubs, Player 4 plays 3 of Clubs, Player 1 plays 4 of Clubs, Player 2 plays 7 of Clubs, Player 3 wins trick\n",
      "Player 3 plays 3 of Diamonds, Player 4 plays 7 of Diamonds, Player 1 plays 6 of Diamonds, Player 2 plays 2 of Diamonds, Player 4 wins trick\n",
      "Player 4 plays 9 of Diamonds, Player 1 plays 3 of Spades, Player 2 plays 4 of Diamonds, Player 3 plays 10 of Diamonds, Player 1 wins trick\n",
      "Player 1 plays Jack of Hearts, Player 2 plays King of Hearts, Player 3 plays 5 of Clubs, Player 4 plays 6 of Hearts, Player 2 wins trick\n",
      "Player 2 plays 10 of Clubs, Player 3 plays Jack of Clubs, Player 4 plays 8 of Clubs, Player 1 plays 9 of Clubs, Player 3 wins trick\n",
      "Player 3 plays Jack of Diamonds, Player 4 plays 8 of Diamonds, Player 1 plays King of Spades, Player 2 plays 5 of Diamonds, Player 1 wins trick\n",
      "Player 1 plays 4 of Hearts, Player 2 plays 9 of Hearts, Player 3 plays Queen of Diamonds, Player 4 plays 8 of Hearts, Player 2 wins trick\n",
      "Player 2 plays Jack of Spades, Player 3 plays 5 of Spades, Player 4 plays Queen of Spades, Player 1 plays Ace of Spades, Player 1 wins trick\n",
      "Player 1 plays 5 of Hearts, Player 2 plays 4 of Spades, Player 3 plays King of Diamonds, Player 4 plays 6 of Spades, Player 4 wins trick\n",
      "Player 4 plays 9 of Spades, Player 1 plays 7 of Hearts, Player 2 plays 10 of Spades, Player 3 plays 8 of Spades, Player 2 wins trick\n",
      "Player 2 plays 7 of Spades, Player 3 plays Ace of Diamonds, Player 4 plays 2 of Spades, Player 1 plays 10 of Hearts, Player 2 wins trick\n",
      "Scores: [265, 51, 329, 325]\n",
      "Bids: [4, 3, 4, 0]\n",
      "Spades: Jack 9 5 3 2; Others Ace: 0, King: 0, Queen: 1, Jack: 1; Bid val: 4.230769230769231\n",
      "Spades: King Queen 6; Others Ace: 1, King: 1, Queen: 1, Jack: 0; Bid val: 2.769230769230769\n",
      "Spades: Ace 10 8 7 4; Others Ace: 1, King: 0, Queen: 1, Jack: 1; Bid val: 4.230769230769231\n",
      "Spades: ; Others Ace: 1, King: 2, Queen: 0, Jack: 1; Bid val: 0\n",
      "Player 1 plays Queen of Hearts, Player 2 plays King of Hearts, Player 3 plays 5 of Hearts, Player 4 plays 3 of Hearts, Player 2 wins trick\n",
      "Player 2 plays Ace of Diamonds, Player 3 plays 2 of Diamonds, Player 4 plays 7 of Diamonds, Player 1 plays 3 of Diamonds, Player 2 wins trick\n",
      "Player 2 plays Queen of Diamonds, Player 3 plays 6 of Diamonds, Player 4 plays 9 of Diamonds, Player 1 plays 8 of Diamonds, Player 2 wins trick\n",
      "Player 2 plays 2 of Clubs, Player 3 plays 5 of Clubs, Player 4 plays 6 of Clubs, Player 1 plays 3 of Clubs, Player 4 wins trick\n",
      "Player 4 plays 7 of Hearts, Player 1 plays Jack of Hearts, Player 2 plays 4 of Hearts, Player 3 plays 4 of Spades, Player 3 wins trick\n",
      "Player 3 plays Ace of Clubs, Player 4 plays 7 of Clubs, Player 1 plays 4 of Clubs, Player 2 plays 8 of Clubs, Player 3 wins trick\n",
      "Player 3 plays Queen of Clubs, Player 4 plays 9 of Clubs, Player 1 plays 2 of Spades, Player 2 plays 10 of Clubs, Player 1 wins trick\n",
      "Player 1 plays 6 of Hearts, Player 2 plays 9 of Hearts, Player 3 plays 7 of Spades, Player 4 plays 8 of Hearts, Player 3 wins trick\n",
      "Player 3 plays Jack of Diamonds, Player 4 plays King of Diamonds, Player 1 plays 3 of Spades, Player 2 plays 4 of Diamonds, Player 1 wins trick\n",
      "Player 1 plays 2 of Hearts, Player 2 plays 5 of Diamonds, Player 3 plays 8 of Spades, Player 4 plays 10 of Hearts, Player 3 wins trick\n",
      "Player 3 plays 10 of Diamonds, Player 4 plays Jack of Clubs, Player 1 plays 5 of Spades, Player 2 plays 6 of Spades, Player 2 wins trick\n",
      "Player 2 plays Queen of Spades, Player 3 plays 10 of Spades, Player 4 plays King of Clubs, Player 1 plays 9 of Spades, Player 2 wins trick\n",
      "Player 2 plays King of Spades, Player 3 plays Ace of Spades, Player 4 plays Ace of Hearts, Player 1 plays Jack of Spades, Player 3 wins trick\n",
      "Scores: [245, 103, 380, 336]\n",
      "Bids: [3, 4, 3, 3]\n",
      "Spades: 8 5 4; Others Ace: 0, King: 1, Queen: 1, Jack: 1; Bid val: 2.769230769230769\n",
      "Spades: King 7 6 3; Others Ace: 1, King: 0, Queen: 1, Jack: 0; Bid val: 3.5384615384615383\n",
      "Spades: Ace Queen 10; Others Ace: 2, King: 0, Queen: 1, Jack: 2; Bid val: 2.769230769230769\n",
      "Spades: Jack 9 2; Others Ace: 0, King: 2, Queen: 0, Jack: 0; Bid val: 2.769230769230769\n",
      "Player 1 plays King of Diamonds, Player 2 plays Ace of Diamonds, Player 3 plays 8 of Diamonds, Player 4 plays 2 of Diamonds, Player 2 wins trick\n",
      "Player 2 plays Queen of Clubs, Player 3 plays Ace of Clubs, Player 4 plays 3 of Clubs, Player 1 plays 2 of Clubs, Player 3 wins trick\n",
      "Player 3 plays Ace of Hearts, Player 4 plays 4 of Hearts, Player 1 plays 2 of Hearts, Player 2 plays 5 of Hearts, Player 3 wins trick\n",
      "Player 3 plays Queen of Hearts, Player 4 plays King of Hearts, Player 1 plays 3 of Hearts, Player 2 plays 3 of Spades, Player 2 wins trick\n",
      "Player 2 plays 8 of Clubs, Player 3 plays 9 of Clubs, Player 4 plays King of Clubs, Player 1 plays 10 of Clubs, Player 4 wins trick\n",
      "Player 4 plays 10 of Hearts, Player 1 plays Jack of Hearts, Player 2 plays 6 of Spades, Player 3 plays 6 of Hearts, Player 2 wins trick\n",
      "Player 2 plays 7 of Diamonds, Player 3 plays Jack of Diamonds, Player 4 plays 9 of Diamonds, Player 1 plays Queen of Diamonds, Player 1 wins trick\n",
      "Player 1 plays 7 of Hearts, Player 2 plays 7 of Spades, Player 3 plays 8 of Hearts, Player 4 plays 9 of Spades, Player 4 wins trick\n",
      "Player 4 plays 10 of Diamonds, Player 1 plays 4 of Diamonds, Player 2 plays 3 of Diamonds, Player 3 plays 10 of Spades, Player 3 wins trick\n",
      "Player 3 plays 9 of Hearts, Player 4 plays 2 of Spades, Player 1 plays 4 of Spades, Player 2 plays King of Spades, Player 2 wins trick\n",
      "Player 2 plays 4 of Clubs, Player 3 plays Jack of Clubs, Player 4 plays 6 of Clubs, Player 1 plays 5 of Spades, Player 1 wins trick\n",
      "Player 1 plays 6 of Diamonds, Player 2 plays 5 of Diamonds, Player 3 plays Queen of Spades, Player 4 plays 7 of Clubs, Player 3 wins trick\n",
      "Player 3 plays Ace of Spades, Player 4 plays Jack of Spades, Player 1 plays 8 of Spades, Player 2 plays 5 of Clubs, Player 3 wins trick\n",
      "Scores: [225, 143, 432, 316]\n",
      "Bids: [4, 4, 1, 3]\n",
      "Spades: Ace 10 7 6 3; Others Ace: 1, King: 3, Queen: 0, Jack: 0; Bid val: 4.230769230769231\n",
      "Spades: Queen Jack 8 4; Others Ace: 0, King: 0, Queen: 2, Jack: 0; Bid val: 3.5384615384615383\n",
      "Spades: 5; Others Ace: 1, King: 0, Queen: 1, Jack: 1; Bid val: 1.0\n",
      "Spades: King 9 2; Others Ace: 1, King: 0, Queen: 0, Jack: 2; Bid val: 2.769230769230769\n",
      "Player 1 plays Ace of Clubs, Player 2 plays 7 of Clubs, Player 3 plays 3 of Clubs, Player 4 plays 8 of Clubs, Player 1 wins trick\n",
      "Player 1 plays King of Hearts, Player 2 plays 2 of Hearts, Player 3 plays Ace of Hearts, Player 4 plays 4 of Hearts, Player 3 wins trick\n",
      "Player 3 plays 3 of Diamonds, Player 4 plays 4 of Diamonds, Player 1 plays 9 of Diamonds, Player 2 plays 10 of Diamonds, Player 2 wins trick\n",
      "Player 2 plays Queen of Diamonds, Player 3 plays 7 of Diamonds, Player 4 plays Ace of Diamonds, Player 1 plays King of Diamonds, Player 4 wins trick\n",
      "Player 4 plays Jack of Hearts, Player 1 plays 3 of Hearts, Player 2 plays 8 of Hearts, Player 3 plays 5 of Hearts, Player 4 wins trick\n",
      "Player 4 plays Jack of Diamonds, Player 1 plays 3 of Spades, Player 2 plays 5 of Diamonds, Player 3 plays 4 of Clubs, Player 1 wins trick\n",
      "Player 1 plays King of Clubs, Player 2 plays Queen of Clubs, Player 3 plays 5 of Clubs, Player 4 plays 2 of Spades, Player 4 wins trick\n",
      "Player 4 plays 2 of Diamonds, Player 1 plays 6 of Spades, Player 2 plays 6 of Diamonds, Player 3 plays 6 of Clubs, Player 1 wins trick\n",
      "Player 1 plays 9 of Clubs, Player 2 plays 4 of Spades, Player 3 plays 10 of Clubs, Player 4 plays 6 of Hearts, Player 2 wins trick\n",
      "Player 2 plays 9 of Hearts, Player 3 plays 10 of Hearts, Player 4 plays 7 of Hearts, Player 1 plays 7 of Spades, Player 1 wins trick\n",
      "Player 1 plays 2 of Clubs, Player 2 plays 8 of Spades, Player 3 plays Jack of Clubs, Player 4 plays 8 of Diamonds, Player 2 wins trick\n",
      "Player 2 plays Queen of Spades, Player 3 plays 5 of Spades, Player 4 plays 9 of Spades, Player 1 plays 10 of Spades, Player 2 wins trick\n",
      "Player 2 plays Jack of Spades, Player 3 plays Queen of Hearts, Player 4 plays King of Spades, Player 1 plays Ace of Spades, Player 1 wins trick\n",
      "Scores: [276, 183, 442, 346]\n",
      "Bids: [1, 4, 3, 4]\n",
      "Spades: Ace; Others Ace: 0, King: 1, Queen: 1, Jack: 0; Bid val: 1.0\n",
      "Spades: Queen 9 8 7; Others Ace: 1, King: 0, Queen: 1, Jack: 1; Bid val: 3.5384615384615383\n",
      "Spades: King Jack 2; Others Ace: 1, King: 1, Queen: 0, Jack: 2; Bid val: 2.769230769230769\n",
      "Spades: 10 6 5 4 3; Others Ace: 1, King: 1, Queen: 1, Jack: 0; Bid val: 4.230769230769231\n",
      "Player 1 plays King of Hearts, Player 2 plays 2 of Hearts, Player 3 plays Ace of Hearts, Player 4 plays 3 of Hearts, Player 3 wins trick\n",
      "Player 3 plays King of Clubs, Player 4 plays 3 of Spades, Player 1 plays 3 of Clubs, Player 2 plays Ace of Clubs, Player 4 wins trick\n",
      "Player 4 plays Ace of Diamonds, Player 1 plays 2 of Diamonds, Player 2 plays 7 of Diamonds, Player 3 plays 5 of Diamonds, Player 4 wins trick\n",
      "Player 4 plays King of Diamonds, Player 1 plays 3 of Diamonds, Player 2 plays 9 of Diamonds, Player 3 plays 8 of Diamonds, Player 4 wins trick\n",
      "Player 4 plays Queen of Diamonds, Player 1 plays 6 of Diamonds, Player 2 plays 7 of Spades, Player 3 plays Jack of Diamonds, Player 2 wins trick\n",
      "Player 2 plays Queen of Clubs, Player 3 plays 6 of Clubs, Player 4 plays 4 of Spades, Player 1 plays 4 of Clubs, Player 4 wins trick\n",
      "Player 4 plays 4 of Diamonds, Player 1 plays 10 of Diamonds, Player 2 plays 8 of Spades, Player 3 plays Jack of Spades, Player 3 wins trick\n",
      "Player 3 plays Jack of Clubs, Player 4 plays 6 of Hearts, Player 1 plays 5 of Clubs, Player 2 plays 2 of Clubs, Player 3 wins trick\n",
      "Player 3 plays 5 of Hearts, Player 4 plays 8 of Hearts, Player 1 plays Queen of Hearts, Player 2 plays 7 of Hearts, Player 1 wins trick\n",
      "Player 1 plays 4 of Hearts, Player 2 plays Jack of Hearts, Player 3 plays 10 of Hearts, Player 4 plays 9 of Hearts, Player 2 wins trick\n",
      "Player 2 plays 9 of Clubs, Player 3 plays 8 of Clubs, Player 4 plays 5 of Spades, Player 1 plays 7 of Clubs, Player 4 wins trick\n",
      "Player 4 plays 6 of Spades, Player 1 plays Ace of Spades, Player 2 plays 9 of Spades, Player 3 plays 2 of Spades, Player 1 wins trick\n",
      "Player 1 plays 10 of Clubs, Player 2 plays Queen of Spades, Player 3 plays King of Spades, Player 4 plays 10 of Spades, Player 3 wins trick\n",
      "Scores: [297, 163, 483, 397]\n",
      "Bids: [3, 3, 2, 4]\n",
      "Spades: King Queen 8; Others Ace: 2, King: 1, Queen: 1, Jack: 0; Bid val: 2.769230769230769\n",
      "Spades: 7 5 2; Others Ace: 1, King: 1, Queen: 1, Jack: 1; Bid val: 2.769230769230769\n",
      "Spades: Jack 6; Others Ace: 0, King: 0, Queen: 1, Jack: 2; Bid val: 1.9230769230769231\n",
      "Spades: Ace 10 9 4 3; Others Ace: 0, King: 1, Queen: 0, Jack: 0; Bid val: 4.230769230769231\n",
      "Player 1 plays Ace of Hearts, Player 2 plays 4 of Hearts, Player 3 plays 2 of Hearts, Player 4 plays 7 of Hearts, Player 1 wins trick\n",
      "Player 1 plays Ace of Clubs, Player 2 plays 3 of Clubs, Player 3 plays 5 of Clubs, Player 4 plays 2 of Clubs, Player 1 wins trick\n",
      "Player 1 plays King of Hearts, Player 2 plays 6 of Hearts, Player 3 plays 3 of Hearts, Player 4 plays 9 of Hearts, Player 1 wins trick\n",
      "Player 1 plays 2 of Diamonds, Player 2 plays 3 of Diamonds, Player 3 plays 4 of Diamonds, Player 4 plays 10 of Diamonds, Player 4 wins trick\n",
      "Player 4 plays King of Diamonds, Player 1 plays 9 of Diamonds, Player 2 plays Ace of Diamonds, Player 3 plays 6 of Diamonds, Player 2 wins trick\n",
      "Player 2 plays King of Clubs, Player 3 plays 9 of Clubs, Player 4 plays 6 of Clubs, Player 1 plays 7 of Clubs, Player 2 wins trick\n",
      "Player 2 plays Queen of Diamonds, Player 3 plays 7 of Diamonds, Player 4 plays 3 of Spades, Player 1 plays 5 of Hearts, Player 4 wins trick\n",
      "Player 4 plays 10 of Hearts, Player 1 plays 8 of Hearts, Player 2 plays 2 of Spades, Player 3 plays Jack of Hearts, Player 2 wins trick\n",
      "Player 2 plays 4 of Clubs, Player 3 plays Queen of Clubs, Player 4 plays 8 of Clubs, Player 1 plays 10 of Clubs, Player 3 wins trick\n",
      "Player 3 plays Jack of Diamonds, Player 4 plays 4 of Spades, Player 1 plays Queen of Hearts, Player 2 plays 5 of Diamonds, Player 4 wins trick\n",
      "Player 4 plays Ace of Spades, Player 1 plays 8 of Spades, Player 2 plays 5 of Spades, Player 3 plays 6 of Spades, Player 4 wins trick\n",
      "Player 4 plays 9 of Spades, Player 1 plays Queen of Spades, Player 2 plays 7 of Spades, Player 3 plays Jack of Spades, Player 1 wins trick\n",
      "Player 1 plays King of Spades, Player 2 plays Jack of Clubs, Player 3 plays 8 of Diamonds, Player 4 plays 10 of Spades, Player 1 wins trick\n",
      "Scores: [349, 193, 473, 437]\n",
      "Bids: [5, 0, 2, 4]\n",
      "Spades: Ace Queen 10 8 6 5; Others Ace: 1, King: 0, Queen: 0, Jack: 1; Bid val: 4.846153846153847\n",
      "Spades: ; Others Ace: 0, King: 2, Queen: 1, Jack: 1; Bid val: 0\n",
      "Spades: 4 3; Others Ace: 0, King: 0, Queen: 1, Jack: 0; Bid val: 1.9230769230769231\n",
      "Spades: King Jack 9 7 2; Others Ace: 2, King: 1, Queen: 1, Jack: 1; Bid val: 4.230769230769231\n",
      "Player 1 plays Ace of Diamonds, Player 2 plays 5 of Diamonds, Player 3 plays 2 of Diamonds, Player 4 plays 3 of Diamonds, Player 1 wins trick\n",
      "Player 1 plays Jack of Clubs, Player 2 plays 4 of Clubs, Player 3 plays Queen of Clubs, Player 4 plays Ace of Clubs, Player 4 wins trick\n",
      "Player 4 plays Ace of Hearts, Player 1 plays 4 of Hearts, Player 2 plays 3 of Hearts, Player 3 plays 8 of Hearts, Player 4 wins trick\n",
      "Player 4 plays King of Hearts, Player 1 plays 5 of Spades, Player 2 plays 5 of Hearts, Player 3 plays 9 of Hearts, Player 1 wins trick\n",
      "Player 1 plays 8 of Clubs, Player 2 plays King of Clubs, Player 3 plays 3 of Clubs, Player 4 plays 2 of Spades, Player 4 wins trick\n",
      "Player 4 plays Queen of Hearts, Player 1 plays 6 of Spades, Player 2 plays 6 of Hearts, Player 3 plays 10 of Hearts, Player 1 wins trick\n",
      "Player 1 plays 7 of Clubs, Player 2 plays 7 of Hearts, Player 3 plays 9 of Clubs, Player 4 plays 7 of Spades, Player 4 wins trick\n",
      "Player 4 plays 2 of Hearts, Player 1 plays 8 of Spades, Player 2 plays Jack of Hearts, Player 3 plays 5 of Clubs, Player 1 wins trick\n",
      "Player 1 plays 4 of Diamonds, Player 2 plays 7 of Diamonds, Player 3 plays 10 of Diamonds, Player 4 plays 6 of Diamonds, Player 3 wins trick\n",
      "Player 3 plays 10 of Clubs, Player 4 plays Jack of Diamonds, Player 1 plays 2 of Clubs, Player 2 plays 8 of Diamonds, Player 3 wins trick\n",
      "Player 3 plays 6 of Clubs, Player 4 plays 9 of Spades, Player 1 plays 10 of Spades, Player 2 plays 9 of Diamonds, Player 1 wins trick\n",
      "Player 1 plays Queen of Spades, Player 2 plays Queen of Diamonds, Player 3 plays 3 of Spades, Player 4 plays Jack of Spades, Player 1 wins trick\n",
      "Player 1 plays Ace of Spades, Player 2 plays King of Diamonds, Player 3 plays 4 of Spades, Player 4 plays King of Spades, Player 1 wins trick\n",
      "Scores: [421, 193, 493, 477]\n",
      "Bids: [2, 4, 2, 4]\n",
      "Spades: King 5; Others Ace: 1, King: 0, Queen: 2, Jack: 0; Bid val: 1.9230769230769231\n",
      "Spades: Ace Jack 10 8 3; Others Ace: 0, King: 1, Queen: 1, Jack: 2; Bid val: 4.230769230769231\n",
      "Spades: 9 4; Others Ace: 1, King: 1, Queen: 0, Jack: 0; Bid val: 1.9230769230769231\n",
      "Spades: Queen 7 6 2; Others Ace: 1, King: 1, Queen: 0, Jack: 1; Bid val: 3.5384615384615383\n",
      "Player 1 plays Ace of Hearts, Player 2 plays 5 of Hearts, Player 3 plays 7 of Hearts, Player 4 plays 2 of Hearts, Player 1 wins trick\n",
      "Player 1 plays Queen of Clubs, Player 2 plays 2 of Clubs, Player 3 plays 3 of Clubs, Player 4 plays King of Clubs, Player 4 wins trick\n",
      "Player 4 plays Ace of Clubs, Player 1 plays 6 of Clubs, Player 2 plays 10 of Clubs, Player 3 plays 4 of Clubs, Player 4 wins trick\n",
      "Player 4 plays Jack of Clubs, Player 1 plays 8 of Clubs, Player 2 plays 3 of Spades, Player 3 plays 5 of Clubs, Player 2 wins trick\n",
      "Player 2 plays King of Diamonds, Player 3 plays Ace of Diamonds, Player 4 plays 5 of Diamonds, Player 1 plays 3 of Diamonds, Player 3 wins trick\n",
      "Player 3 plays King of Hearts, Player 4 plays 4 of Hearts, Player 1 plays 3 of Hearts, Player 2 plays Jack of Hearts, Player 3 wins trick\n",
      "Player 3 plays 2 of Diamonds, Player 4 plays 10 of Diamonds, Player 1 plays Queen of Diamonds, Player 2 plays 4 of Diamonds, Player 1 wins trick\n",
      "Player 1 plays 6 of Diamonds, Player 2 plays Jack of Diamonds, Player 3 plays 7 of Diamonds, Player 4 plays 2 of Spades, Player 4 wins trick\n",
      "Player 4 plays 8 of Hearts, Player 1 plays 6 of Hearts, Player 2 plays Queen of Hearts, Player 3 plays 8 of Diamonds, Player 2 wins trick\n",
      "Player 2 plays Ace of Spades, Player 3 plays 4 of Spades, Player 4 plays 6 of Spades, Player 1 plays 5 of Spades, Player 2 wins trick\n",
      "Player 2 plays Jack of Spades, Player 3 plays 9 of Spades, Player 4 plays Queen of Spades, Player 1 plays King of Spades, Player 1 wins trick\n",
      "Player 1 plays 9 of Hearts, Player 2 plays 8 of Spades, Player 3 plays 9 of Diamonds, Player 4 plays 7 of Clubs, Player 2 wins trick\n",
      "Player 2 plays 10 of Spades, Player 3 plays 9 of Clubs, Player 4 plays 7 of Spades, Player 1 plays 10 of Hearts, Player 2 wins trick\n",
      "Scores: [452, 244, 513, 447]\n"
     ]
    }
   ],
   "source": [
    "game.play()"
   ]
  },
  {
   "cell_type": "code",
   "execution_count": 24,
   "id": "521af4df-e549-46a4-9d42-b0a5f582e4dd",
   "metadata": {},
   "outputs": [
    {
     "data": {
      "text/plain": [
       "['Player 1',\n",
       " '0,0,1,0,0,0,1,0,0,0,0,0,0,0,1,0,1,0,0,0,0,1,0,0,0,0,0,0,0,0,0,0,1,0,0,0,1,1,0,0,1,0,0,1,1,0,0,1,0,0,1,0',\n",
       " 4,\n",
       " 5,\n",
       " 51]"
      ]
     },
     "execution_count": 24,
     "metadata": {},
     "output_type": "execute_result"
    }
   ],
   "source": [
    "game.data[0]"
   ]
  },
  {
   "cell_type": "code",
   "execution_count": 25,
   "id": "affb125b-a602-4171-aa71-084e6552a308",
   "metadata": {},
   "outputs": [
    {
     "data": {
      "text/plain": [
       "'0,0,1,0,0,0,1,0,0,0,0,0,0,0,1,0,1,0,0,0,0,1,0,0,0,0,0,0,0,0,0,0,1,0,0,0,1,1,0,0,1,0,0,1,1,0,0,1,0,0,1,0'"
      ]
     },
     "execution_count": 25,
     "metadata": {},
     "output_type": "execute_result"
    }
   ],
   "source": [
    "game.data[0][1]"
   ]
  },
  {
   "cell_type": "code",
   "execution_count": 26,
   "id": "9582514d-3d6f-4652-90e4-f49953992ff7",
   "metadata": {},
   "outputs": [
    {
     "data": {
      "text/plain": [
       "[395, 509, 431, 287]"
      ]
     },
     "execution_count": 26,
     "metadata": {},
     "output_type": "execute_result"
    }
   ],
   "source": [
    "game.scores"
   ]
  },
  {
   "cell_type": "code",
   "execution_count": 27,
   "id": "608d0a81-5e7a-4dfb-bdbc-0fe3c8f3d1a6",
   "metadata": {},
   "outputs": [
    {
     "data": {
      "text/plain": [
       "60"
      ]
     },
     "execution_count": 27,
     "metadata": {},
     "output_type": "execute_result"
    }
   ],
   "source": [
    "len(game.data)"
   ]
  },
  {
   "cell_type": "code",
   "execution_count": 28,
   "id": "d0a4ea71-d647-4d98-ad28-889fbad70752",
   "metadata": {},
   "outputs": [],
   "source": [
    "hand_results_df = pd.DataFrame(game.data)"
   ]
  },
  {
   "cell_type": "code",
   "execution_count": 29,
   "id": "fc8b1c02-a8f3-42bd-8ab3-6a0623393282",
   "metadata": {},
   "outputs": [
    {
     "data": {
      "text/plain": [
       "(60, 5)"
      ]
     },
     "execution_count": 29,
     "metadata": {},
     "output_type": "execute_result"
    }
   ],
   "source": [
    "hand_results_df.shape"
   ]
  },
  {
   "cell_type": "code",
   "execution_count": 30,
   "id": "d045ba90-28c0-44d4-aecf-d0c752fb4d85",
   "metadata": {},
   "outputs": [],
   "source": [
    "hand_results_df.columns = ['player', 'cards_binary', 'bids', 'tricks_won', 'player_score']"
   ]
  },
  {
   "cell_type": "code",
   "execution_count": 31,
   "id": "99556fbd-459f-4c71-b510-4d75ae85faff",
   "metadata": {},
   "outputs": [
    {
     "data": {
      "text/html": [
       "<div>\n",
       "<style scoped>\n",
       "    .dataframe tbody tr th:only-of-type {\n",
       "        vertical-align: middle;\n",
       "    }\n",
       "\n",
       "    .dataframe tbody tr th {\n",
       "        vertical-align: top;\n",
       "    }\n",
       "\n",
       "    .dataframe thead th {\n",
       "        text-align: right;\n",
       "    }\n",
       "</style>\n",
       "<table border=\"1\" class=\"dataframe\">\n",
       "  <thead>\n",
       "    <tr style=\"text-align: right;\">\n",
       "      <th></th>\n",
       "      <th>player</th>\n",
       "      <th>cards_binary</th>\n",
       "      <th>bids</th>\n",
       "      <th>tricks_won</th>\n",
       "      <th>player_score</th>\n",
       "    </tr>\n",
       "  </thead>\n",
       "  <tbody>\n",
       "    <tr>\n",
       "      <th>0</th>\n",
       "      <td>Player 1</td>\n",
       "      <td>0,0,1,0,0,0,1,0,0,0,0,0,0,0,1,0,1,0,0,0,0,1,0,...</td>\n",
       "      <td>4</td>\n",
       "      <td>5</td>\n",
       "      <td>51</td>\n",
       "    </tr>\n",
       "    <tr>\n",
       "      <th>1</th>\n",
       "      <td>Player 2</td>\n",
       "      <td>0,0,0,0,1,1,0,1,0,1,0,0,1,0,0,0,0,0,1,0,0,0,0,...</td>\n",
       "      <td>2</td>\n",
       "      <td>4</td>\n",
       "      <td>42</td>\n",
       "    </tr>\n",
       "    <tr>\n",
       "      <th>2</th>\n",
       "      <td>Player 3</td>\n",
       "      <td>0,1,0,0,0,0,0,0,0,0,1,0,0,1,0,1,0,0,0,0,0,0,1,...</td>\n",
       "      <td>3</td>\n",
       "      <td>3</td>\n",
       "      <td>30</td>\n",
       "    </tr>\n",
       "    <tr>\n",
       "      <th>3</th>\n",
       "      <td>Player 4</td>\n",
       "      <td>1,0,0,1,0,0,0,0,1,0,0,1,0,0,0,0,0,1,0,1,1,0,0,...</td>\n",
       "      <td>3</td>\n",
       "      <td>1</td>\n",
       "      <td>-10</td>\n",
       "    </tr>\n",
       "    <tr>\n",
       "      <th>4</th>\n",
       "      <td>Player 1</td>\n",
       "      <td>0,0,0,1,0,0,1,0,1,0,1,0,1,0,0,0,0,0,1,0,0,0,0,...</td>\n",
       "      <td>3</td>\n",
       "      <td>4</td>\n",
       "      <td>92</td>\n",
       "    </tr>\n",
       "  </tbody>\n",
       "</table>\n",
       "</div>"
      ],
      "text/plain": [
       "     player                                       cards_binary  bids  \\\n",
       "0  Player 1  0,0,1,0,0,0,1,0,0,0,0,0,0,0,1,0,1,0,0,0,0,1,0,...     4   \n",
       "1  Player 2  0,0,0,0,1,1,0,1,0,1,0,0,1,0,0,0,0,0,1,0,0,0,0,...     2   \n",
       "2  Player 3  0,1,0,0,0,0,0,0,0,0,1,0,0,1,0,1,0,0,0,0,0,0,1,...     3   \n",
       "3  Player 4  1,0,0,1,0,0,0,0,1,0,0,1,0,0,0,0,0,1,0,1,1,0,0,...     3   \n",
       "4  Player 1  0,0,0,1,0,0,1,0,1,0,1,0,1,0,0,0,0,0,1,0,0,0,0,...     3   \n",
       "\n",
       "   tricks_won  player_score  \n",
       "0           5            51  \n",
       "1           4            42  \n",
       "2           3            30  \n",
       "3           1           -10  \n",
       "4           4            92  "
      ]
     },
     "execution_count": 31,
     "metadata": {},
     "output_type": "execute_result"
    }
   ],
   "source": [
    "hand_results_df.head()"
   ]
  },
  {
   "cell_type": "code",
   "execution_count": null,
   "id": "403411e1-8577-4c0e-88a3-31da46b77e2a",
   "metadata": {},
   "outputs": [],
   "source": []
  },
  {
   "cell_type": "code",
   "execution_count": 33,
   "id": "51bf5bc7-104c-4e57-9853-8955a402be56",
   "metadata": {},
   "outputs": [],
   "source": [
    "def play_multiple_games(num_games):\n",
    "    results = []\n",
    "\n",
    "    for _ in range(num_games):\n",
    "        game = Game()\n",
    "        game.play()\n",
    "        results.extend(game.data)  # Collect data from each game\n",
    "\n",
    "    return results"
   ]
  },
  {
   "cell_type": "code",
   "execution_count": 51,
   "id": "c059b8c0-ec70-4675-a0fd-4c164d9f67b6",
   "metadata": {},
   "outputs": [
    {
     "name": "stdout",
     "output_type": "stream",
     "text": [
      "CPU times: user 1.87 s, sys: 6.39 ms, total: 1.88 s\n",
      "Wall time: 1.88 s\n"
     ]
    }
   ],
   "source": [
    "%%time \n",
    "\n",
    "num_games = 1000  # Number of games to simulate\n",
    "results = play_multiple_games(num_games=num_games)"
   ]
  },
  {
   "cell_type": "code",
   "execution_count": 52,
   "id": "4cb4611b-a9f0-46b6-a03e-bd30c7f50e76",
   "metadata": {},
   "outputs": [],
   "source": [
    "hand_results_df = pd.DataFrame(results)"
   ]
  },
  {
   "cell_type": "code",
   "execution_count": 53,
   "id": "72527d4b-f2e4-4945-b20c-877702bce44a",
   "metadata": {},
   "outputs": [],
   "source": [
    "hand_results_df.columns = ['player', 'cards_binary', 'bids', 'tricks_won', 'player_score']"
   ]
  },
  {
   "cell_type": "code",
   "execution_count": 54,
   "id": "ce65f0a3-5864-4fd2-a752-ea5d199ed60b",
   "metadata": {},
   "outputs": [
    {
     "data": {
      "text/html": [
       "<div>\n",
       "<style scoped>\n",
       "    .dataframe tbody tr th:only-of-type {\n",
       "        vertical-align: middle;\n",
       "    }\n",
       "\n",
       "    .dataframe tbody tr th {\n",
       "        vertical-align: top;\n",
       "    }\n",
       "\n",
       "    .dataframe thead th {\n",
       "        text-align: right;\n",
       "    }\n",
       "</style>\n",
       "<table border=\"1\" class=\"dataframe\">\n",
       "  <thead>\n",
       "    <tr style=\"text-align: right;\">\n",
       "      <th></th>\n",
       "      <th>player</th>\n",
       "      <th>cards_binary</th>\n",
       "      <th>bids</th>\n",
       "      <th>tricks_won</th>\n",
       "      <th>player_score</th>\n",
       "    </tr>\n",
       "  </thead>\n",
       "  <tbody>\n",
       "    <tr>\n",
       "      <th>0</th>\n",
       "      <td>Player 1</td>\n",
       "      <td>1,0,1,0,0,0,0,0,0,1,1,0,0,0,1,1,0,0,0,0,1,0,1,...</td>\n",
       "      <td>3</td>\n",
       "      <td>2</td>\n",
       "      <td>-20</td>\n",
       "    </tr>\n",
       "    <tr>\n",
       "      <th>1</th>\n",
       "      <td>Player 2</td>\n",
       "      <td>0,0,0,0,0,0,1,0,0,0,0,1,0,0,0,0,1,1,1,1,0,0,0,...</td>\n",
       "      <td>3</td>\n",
       "      <td>4</td>\n",
       "      <td>41</td>\n",
       "    </tr>\n",
       "    <tr>\n",
       "      <th>2</th>\n",
       "      <td>Player 3</td>\n",
       "      <td>0,1,0,0,0,0,0,1,0,0,0,0,1,0,0,0,0,0,0,0,0,1,0,...</td>\n",
       "      <td>5</td>\n",
       "      <td>6</td>\n",
       "      <td>61</td>\n",
       "    </tr>\n",
       "    <tr>\n",
       "      <th>3</th>\n",
       "      <td>Player 4</td>\n",
       "      <td>0,0,0,1,1,1,0,0,1,0,0,0,0,1,0,0,0,0,0,0,0,0,0,...</td>\n",
       "      <td>1</td>\n",
       "      <td>1</td>\n",
       "      <td>10</td>\n",
       "    </tr>\n",
       "    <tr>\n",
       "      <th>4</th>\n",
       "      <td>Player 1</td>\n",
       "      <td>0,0,1,1,0,0,0,0,0,0,0,0,0,1,0,0,0,0,1,0,1,0,0,...</td>\n",
       "      <td>3</td>\n",
       "      <td>3</td>\n",
       "      <td>10</td>\n",
       "    </tr>\n",
       "    <tr>\n",
       "      <th>...</th>\n",
       "      <td>...</td>\n",
       "      <td>...</td>\n",
       "      <td>...</td>\n",
       "      <td>...</td>\n",
       "      <td>...</td>\n",
       "    </tr>\n",
       "    <tr>\n",
       "      <th>65031</th>\n",
       "      <td>Player 4</td>\n",
       "      <td>0,0,0,0,1,0,0,0,0,0,0,1,0,1,0,0,0,0,0,1,1,0,1,...</td>\n",
       "      <td>2</td>\n",
       "      <td>2</td>\n",
       "      <td>325</td>\n",
       "    </tr>\n",
       "    <tr>\n",
       "      <th>65032</th>\n",
       "      <td>Player 1</td>\n",
       "      <td>1,0,1,0,0,0,1,0,0,1,0,0,1,0,0,0,1,0,0,0,0,0,0,...</td>\n",
       "      <td>4</td>\n",
       "      <td>5</td>\n",
       "      <td>501</td>\n",
       "    </tr>\n",
       "    <tr>\n",
       "      <th>65033</th>\n",
       "      <td>Player 2</td>\n",
       "      <td>0,0,0,0,0,1,0,0,0,0,0,1,0,1,0,0,0,0,1,0,1,0,0,...</td>\n",
       "      <td>3</td>\n",
       "      <td>4</td>\n",
       "      <td>144</td>\n",
       "    </tr>\n",
       "    <tr>\n",
       "      <th>65034</th>\n",
       "      <td>Player 3</td>\n",
       "      <td>0,1,0,1,1,0,0,0,0,0,1,0,0,0,0,1,0,1,0,1,0,1,0,...</td>\n",
       "      <td>1</td>\n",
       "      <td>1</td>\n",
       "      <td>498</td>\n",
       "    </tr>\n",
       "    <tr>\n",
       "      <th>65035</th>\n",
       "      <td>Player 4</td>\n",
       "      <td>0,0,0,0,0,0,0,1,1,0,0,0,0,0,1,0,0,0,0,0,0,0,1,...</td>\n",
       "      <td>4</td>\n",
       "      <td>3</td>\n",
       "      <td>295</td>\n",
       "    </tr>\n",
       "  </tbody>\n",
       "</table>\n",
       "<p>65036 rows × 5 columns</p>\n",
       "</div>"
      ],
      "text/plain": [
       "         player                                       cards_binary  bids  \\\n",
       "0      Player 1  1,0,1,0,0,0,0,0,0,1,1,0,0,0,1,1,0,0,0,0,1,0,1,...     3   \n",
       "1      Player 2  0,0,0,0,0,0,1,0,0,0,0,1,0,0,0,0,1,1,1,1,0,0,0,...     3   \n",
       "2      Player 3  0,1,0,0,0,0,0,1,0,0,0,0,1,0,0,0,0,0,0,0,0,1,0,...     5   \n",
       "3      Player 4  0,0,0,1,1,1,0,0,1,0,0,0,0,1,0,0,0,0,0,0,0,0,0,...     1   \n",
       "4      Player 1  0,0,1,1,0,0,0,0,0,0,0,0,0,1,0,0,0,0,1,0,1,0,0,...     3   \n",
       "...         ...                                                ...   ...   \n",
       "65031  Player 4  0,0,0,0,1,0,0,0,0,0,0,1,0,1,0,0,0,0,0,1,1,0,1,...     2   \n",
       "65032  Player 1  1,0,1,0,0,0,1,0,0,1,0,0,1,0,0,0,1,0,0,0,0,0,0,...     4   \n",
       "65033  Player 2  0,0,0,0,0,1,0,0,0,0,0,1,0,1,0,0,0,0,1,0,1,0,0,...     3   \n",
       "65034  Player 3  0,1,0,1,1,0,0,0,0,0,1,0,0,0,0,1,0,1,0,1,0,1,0,...     1   \n",
       "65035  Player 4  0,0,0,0,0,0,0,1,1,0,0,0,0,0,1,0,0,0,0,0,0,0,1,...     4   \n",
       "\n",
       "       tricks_won  player_score  \n",
       "0               2           -20  \n",
       "1               4            41  \n",
       "2               6            61  \n",
       "3               1            10  \n",
       "4               3            10  \n",
       "...           ...           ...  \n",
       "65031           2           325  \n",
       "65032           5           501  \n",
       "65033           4           144  \n",
       "65034           1           498  \n",
       "65035           3           295  \n",
       "\n",
       "[65036 rows x 5 columns]"
      ]
     },
     "execution_count": 54,
     "metadata": {},
     "output_type": "execute_result"
    }
   ],
   "source": [
    "hand_results_df"
   ]
  },
  {
   "cell_type": "code",
   "execution_count": null,
   "id": "310acab3-19bc-4533-9500-f057a676808c",
   "metadata": {},
   "outputs": [],
   "source": []
  },
  {
   "cell_type": "code",
   "execution_count": 55,
   "id": "26a68943-13df-4b1e-a4da-0161377ca835",
   "metadata": {},
   "outputs": [
    {
     "data": {
      "text/plain": [
       "'/Users/jeremy/Desktop/nonsense/spades/notebooks'"
      ]
     },
     "execution_count": 55,
     "metadata": {},
     "output_type": "execute_result"
    }
   ],
   "source": [
    "pwd"
   ]
  },
  {
   "cell_type": "code",
   "execution_count": 56,
   "id": "ba4bfd28-e7be-46ac-850d-5462b99b2fbb",
   "metadata": {},
   "outputs": [],
   "source": [
    "# Write the DataFrame to a CSV in the 'data' directory\n",
    "hand_results_df.to_csv('../data/hand_results.csv', index=False)"
   ]
  },
  {
   "cell_type": "code",
   "execution_count": null,
   "id": "53bcff39-7dfb-4873-baed-292345a528aa",
   "metadata": {},
   "outputs": [],
   "source": []
  }
 ],
 "metadata": {
  "kernelspec": {
   "display_name": "Python 3 (ipykernel)",
   "language": "python",
   "name": "python3"
  },
  "language_info": {
   "codemirror_mode": {
    "name": "ipython",
    "version": 3
   },
   "file_extension": ".py",
   "mimetype": "text/x-python",
   "name": "python",
   "nbconvert_exporter": "python",
   "pygments_lexer": "ipython3",
   "version": "3.11.7"
  }
 },
 "nbformat": 4,
 "nbformat_minor": 5
}
