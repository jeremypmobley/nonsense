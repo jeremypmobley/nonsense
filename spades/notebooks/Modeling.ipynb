{
 "cells": [
  {
   "cell_type": "markdown",
   "id": "8a27440e-70e6-43e4-b806-f25596130f79",
   "metadata": {},
   "source": [
    "# Spades trick modeling"
   ]
  },
  {
   "cell_type": "code",
   "execution_count": 1,
   "id": "f9151603-df36-462a-9f0e-0212871ca86d",
   "metadata": {},
   "outputs": [],
   "source": [
    "import os\n",
    "import pandas as pd\n",
    "import numpy as np\n",
    "from sklearn.model_selection import train_test_split\n",
    "from sklearn.metrics import mean_squared_error, accuracy_score, mean_absolute_error\n",
    "from sklearn.model_selection import GridSearchCV\n",
    "\n",
    "import torch\n",
    "from torch.utils.data import Dataset, DataLoader\n",
    "import torch.nn as nn\n",
    "import torch.optim as optim\n",
    "\n",
    "import matplotlib.pyplot as plt"
   ]
  },
  {
   "cell_type": "markdown",
   "id": "09eabd4a-07be-4524-9a6c-be762afac6a8",
   "metadata": {},
   "source": [
    "### Load hand result data"
   ]
  },
  {
   "cell_type": "code",
   "execution_count": 2,
   "id": "3c522a9d-8c6d-4d94-8448-db682723ebc5",
   "metadata": {},
   "outputs": [
    {
     "data": {
      "text/plain": [
       "(65036, 5)"
      ]
     },
     "execution_count": 2,
     "metadata": {},
     "output_type": "execute_result"
    }
   ],
   "source": [
    "df = pd.read_csv('../data/hand_results.csv')\n",
    "df.shape"
   ]
  },
  {
   "cell_type": "code",
   "execution_count": 60,
   "id": "fa7b11e1-bbaa-4b44-b3d4-640cb6ab077d",
   "metadata": {},
   "outputs": [
    {
     "data": {
      "text/html": [
       "<div>\n",
       "<style scoped>\n",
       "    .dataframe tbody tr th:only-of-type {\n",
       "        vertical-align: middle;\n",
       "    }\n",
       "\n",
       "    .dataframe tbody tr th {\n",
       "        vertical-align: top;\n",
       "    }\n",
       "\n",
       "    .dataframe thead th {\n",
       "        text-align: right;\n",
       "    }\n",
       "</style>\n",
       "<table border=\"1\" class=\"dataframe\">\n",
       "  <thead>\n",
       "    <tr style=\"text-align: right;\">\n",
       "      <th></th>\n",
       "      <th>player</th>\n",
       "      <th>cards_binary</th>\n",
       "      <th>bids</th>\n",
       "      <th>tricks_won</th>\n",
       "      <th>player_score</th>\n",
       "      <th>num_hearts</th>\n",
       "      <th>num_diamonds</th>\n",
       "      <th>num_clubs</th>\n",
       "      <th>num_spades</th>\n",
       "    </tr>\n",
       "  </thead>\n",
       "  <tbody>\n",
       "    <tr>\n",
       "      <th>0</th>\n",
       "      <td>Player 1</td>\n",
       "      <td>[1, 0, 1, 0, 0, 0, 0, 0, 0, 1, 1, 0, 0, 0, 1, ...</td>\n",
       "      <td>3</td>\n",
       "      <td>2</td>\n",
       "      <td>-20</td>\n",
       "      <td>4</td>\n",
       "      <td>5</td>\n",
       "      <td>3</td>\n",
       "      <td>1</td>\n",
       "    </tr>\n",
       "    <tr>\n",
       "      <th>1</th>\n",
       "      <td>Player 2</td>\n",
       "      <td>[0, 0, 0, 0, 0, 0, 1, 0, 0, 0, 0, 1, 0, 0, 0, ...</td>\n",
       "      <td>3</td>\n",
       "      <td>4</td>\n",
       "      <td>41</td>\n",
       "      <td>2</td>\n",
       "      <td>6</td>\n",
       "      <td>3</td>\n",
       "      <td>2</td>\n",
       "    </tr>\n",
       "    <tr>\n",
       "      <th>2</th>\n",
       "      <td>Player 3</td>\n",
       "      <td>[0, 1, 0, 0, 0, 0, 0, 1, 0, 0, 0, 0, 1, 0, 0, ...</td>\n",
       "      <td>5</td>\n",
       "      <td>6</td>\n",
       "      <td>61</td>\n",
       "      <td>3</td>\n",
       "      <td>1</td>\n",
       "      <td>6</td>\n",
       "      <td>3</td>\n",
       "    </tr>\n",
       "    <tr>\n",
       "      <th>3</th>\n",
       "      <td>Player 4</td>\n",
       "      <td>[0, 0, 0, 1, 1, 1, 0, 0, 1, 0, 0, 0, 0, 1, 0, ...</td>\n",
       "      <td>1</td>\n",
       "      <td>1</td>\n",
       "      <td>10</td>\n",
       "      <td>4</td>\n",
       "      <td>1</td>\n",
       "      <td>1</td>\n",
       "      <td>7</td>\n",
       "    </tr>\n",
       "    <tr>\n",
       "      <th>4</th>\n",
       "      <td>Player 1</td>\n",
       "      <td>[0, 0, 1, 1, 0, 0, 0, 0, 0, 0, 0, 0, 0, 1, 0, ...</td>\n",
       "      <td>3</td>\n",
       "      <td>3</td>\n",
       "      <td>10</td>\n",
       "      <td>2</td>\n",
       "      <td>3</td>\n",
       "      <td>3</td>\n",
       "      <td>5</td>\n",
       "    </tr>\n",
       "  </tbody>\n",
       "</table>\n",
       "</div>"
      ],
      "text/plain": [
       "     player                                       cards_binary  bids  \\\n",
       "0  Player 1  [1, 0, 1, 0, 0, 0, 0, 0, 0, 1, 1, 0, 0, 0, 1, ...     3   \n",
       "1  Player 2  [0, 0, 0, 0, 0, 0, 1, 0, 0, 0, 0, 1, 0, 0, 0, ...     3   \n",
       "2  Player 3  [0, 1, 0, 0, 0, 0, 0, 1, 0, 0, 0, 0, 1, 0, 0, ...     5   \n",
       "3  Player 4  [0, 0, 0, 1, 1, 1, 0, 0, 1, 0, 0, 0, 0, 1, 0, ...     1   \n",
       "4  Player 1  [0, 0, 1, 1, 0, 0, 0, 0, 0, 0, 0, 0, 0, 1, 0, ...     3   \n",
       "\n",
       "   tricks_won  player_score  num_hearts  num_diamonds  num_clubs  num_spades  \n",
       "0           2           -20           4             5          3           1  \n",
       "1           4            41           2             6          3           2  \n",
       "2           6            61           3             1          6           3  \n",
       "3           1            10           4             1          1           7  \n",
       "4           3            10           2             3          3           5  "
      ]
     },
     "execution_count": 60,
     "metadata": {},
     "output_type": "execute_result"
    }
   ],
   "source": [
    "df.head()"
   ]
  },
  {
   "cell_type": "code",
   "execution_count": 4,
   "id": "ef7bab0c-0f9f-42a6-b504-0c08b7c0b37f",
   "metadata": {},
   "outputs": [
    {
     "data": {
      "text/plain": [
       "<Axes: >"
      ]
     },
     "execution_count": 4,
     "metadata": {},
     "output_type": "execute_result"
    },
    {
     "data": {
      "image/png": "[encoded data removed]",
      "text/plain": [
       "<Figure size 640x480 with 1 Axes>"
      ]
     },
     "metadata": {},
     "output_type": "display_data"
    }
   ],
   "source": [
    "df['tricks_won'].hist(bins=20)"
   ]
  },
  {
   "cell_type": "code",
   "execution_count": 5,
   "id": "6299f57a-ce8d-4788-89e1-23cc7b94c74a",
   "metadata": {},
   "outputs": [
    {
     "data": {
      "text/plain": [
       "True"
      ]
     },
     "execution_count": 5,
     "metadata": {},
     "output_type": "execute_result"
    }
   ],
   "source": [
    "# check if there are any duplicate hands\n",
    "df['cards_binary'].drop_duplicates().shape[0] == df['cards_binary'].shape[0]"
   ]
  },
  {
   "cell_type": "markdown",
   "id": "c62974ec-c75e-44ca-af84-85710a44232f",
   "metadata": {},
   "source": [
    "### Preprocess Data"
   ]
  },
  {
   "cell_type": "code",
   "execution_count": 6,
   "id": "e46d6365-6176-45a7-be1e-4f9efc9bb169",
   "metadata": {},
   "outputs": [],
   "source": [
    "# Convert the cards_binary string to a numpy array of integers\n",
    "def preprocess_data(row):\n",
    "    return np.array([int(x) for x in row.split(',')])"
   ]
  },
  {
   "cell_type": "code",
   "execution_count": 7,
   "id": "dc8baf6f-8dfa-4948-ab8c-8e5aaa1d0f58",
   "metadata": {},
   "outputs": [],
   "source": [
    "df['cards_binary'] = df['cards_binary'].apply(preprocess_data)"
   ]
  },
  {
   "cell_type": "code",
   "execution_count": 8,
   "id": "81d1045a-0e09-4298-b140-308be829c7a5",
   "metadata": {},
   "outputs": [],
   "source": [
    "# Add columns for suit counts\n",
    "df['num_hearts'] = df['cards_binary'].apply(lambda x: sum(x[0:13]))\n",
    "df['num_diamonds'] = df['cards_binary'].apply(lambda x: sum(x[13:26]))\n",
    "df['num_clubs'] = df['cards_binary'].apply(lambda x: sum(x[39:52]))\n",
    "df['num_spades'] = df['cards_binary'].apply(lambda x: sum(x[26:39]))"
   ]
  },
  {
   "cell_type": "code",
   "execution_count": 9,
   "id": "c937a6a4-cc49-4603-a384-1e85a9446af2",
   "metadata": {},
   "outputs": [
    {
     "data": {
      "text/plain": [
       "(65036, 9)"
      ]
     },
     "execution_count": 9,
     "metadata": {},
     "output_type": "execute_result"
    }
   ],
   "source": [
    "df.shape"
   ]
  },
  {
   "cell_type": "code",
   "execution_count": 10,
   "id": "c6d6f4c1-7595-43b1-b04b-1ece97387189",
   "metadata": {},
   "outputs": [
    {
     "data": {
      "text/html": [
       "<div>\n",
       "<style scoped>\n",
       "    .dataframe tbody tr th:only-of-type {\n",
       "        vertical-align: middle;\n",
       "    }\n",
       "\n",
       "    .dataframe tbody tr th {\n",
       "        vertical-align: top;\n",
       "    }\n",
       "\n",
       "    .dataframe thead th {\n",
       "        text-align: right;\n",
       "    }\n",
       "</style>\n",
       "<table border=\"1\" class=\"dataframe\">\n",
       "  <thead>\n",
       "    <tr style=\"text-align: right;\">\n",
       "      <th></th>\n",
       "      <th>player</th>\n",
       "      <th>cards_binary</th>\n",
       "      <th>bids</th>\n",
       "      <th>tricks_won</th>\n",
       "      <th>player_score</th>\n",
       "      <th>num_hearts</th>\n",
       "      <th>num_diamonds</th>\n",
       "      <th>num_clubs</th>\n",
       "      <th>num_spades</th>\n",
       "    </tr>\n",
       "  </thead>\n",
       "  <tbody>\n",
       "    <tr>\n",
       "      <th>0</th>\n",
       "      <td>Player 1</td>\n",
       "      <td>[1, 0, 1, 0, 0, 0, 0, 0, 0, 1, 1, 0, 0, 0, 1, ...</td>\n",
       "      <td>3</td>\n",
       "      <td>2</td>\n",
       "      <td>-20</td>\n",
       "      <td>4</td>\n",
       "      <td>5</td>\n",
       "      <td>3</td>\n",
       "      <td>1</td>\n",
       "    </tr>\n",
       "    <tr>\n",
       "      <th>1</th>\n",
       "      <td>Player 2</td>\n",
       "      <td>[0, 0, 0, 0, 0, 0, 1, 0, 0, 0, 0, 1, 0, 0, 0, ...</td>\n",
       "      <td>3</td>\n",
       "      <td>4</td>\n",
       "      <td>41</td>\n",
       "      <td>2</td>\n",
       "      <td>6</td>\n",
       "      <td>3</td>\n",
       "      <td>2</td>\n",
       "    </tr>\n",
       "    <tr>\n",
       "      <th>2</th>\n",
       "      <td>Player 3</td>\n",
       "      <td>[0, 1, 0, 0, 0, 0, 0, 1, 0, 0, 0, 0, 1, 0, 0, ...</td>\n",
       "      <td>5</td>\n",
       "      <td>6</td>\n",
       "      <td>61</td>\n",
       "      <td>3</td>\n",
       "      <td>1</td>\n",
       "      <td>6</td>\n",
       "      <td>3</td>\n",
       "    </tr>\n",
       "    <tr>\n",
       "      <th>3</th>\n",
       "      <td>Player 4</td>\n",
       "      <td>[0, 0, 0, 1, 1, 1, 0, 0, 1, 0, 0, 0, 0, 1, 0, ...</td>\n",
       "      <td>1</td>\n",
       "      <td>1</td>\n",
       "      <td>10</td>\n",
       "      <td>4</td>\n",
       "      <td>1</td>\n",
       "      <td>1</td>\n",
       "      <td>7</td>\n",
       "    </tr>\n",
       "    <tr>\n",
       "      <th>4</th>\n",
       "      <td>Player 1</td>\n",
       "      <td>[0, 0, 1, 1, 0, 0, 0, 0, 0, 0, 0, 0, 0, 1, 0, ...</td>\n",
       "      <td>3</td>\n",
       "      <td>3</td>\n",
       "      <td>10</td>\n",
       "      <td>2</td>\n",
       "      <td>3</td>\n",
       "      <td>3</td>\n",
       "      <td>5</td>\n",
       "    </tr>\n",
       "  </tbody>\n",
       "</table>\n",
       "</div>"
      ],
      "text/plain": [
       "     player                                       cards_binary  bids  \\\n",
       "0  Player 1  [1, 0, 1, 0, 0, 0, 0, 0, 0, 1, 1, 0, 0, 0, 1, ...     3   \n",
       "1  Player 2  [0, 0, 0, 0, 0, 0, 1, 0, 0, 0, 0, 1, 0, 0, 0, ...     3   \n",
       "2  Player 3  [0, 1, 0, 0, 0, 0, 0, 1, 0, 0, 0, 0, 1, 0, 0, ...     5   \n",
       "3  Player 4  [0, 0, 0, 1, 1, 1, 0, 0, 1, 0, 0, 0, 0, 1, 0, ...     1   \n",
       "4  Player 1  [0, 0, 1, 1, 0, 0, 0, 0, 0, 0, 0, 0, 0, 1, 0, ...     3   \n",
       "\n",
       "   tricks_won  player_score  num_hearts  num_diamonds  num_clubs  num_spades  \n",
       "0           2           -20           4             5          3           1  \n",
       "1           4            41           2             6          3           2  \n",
       "2           6            61           3             1          6           3  \n",
       "3           1            10           4             1          1           7  \n",
       "4           3            10           2             3          3           5  "
      ]
     },
     "execution_count": 10,
     "metadata": {},
     "output_type": "execute_result"
    }
   ],
   "source": [
    "df.head()"
   ]
  },
  {
   "cell_type": "code",
   "execution_count": 11,
   "id": "82bcac06-ee94-418d-8894-ce7d4be48461",
   "metadata": {},
   "outputs": [
    {
     "data": {
      "text/plain": [
       "(65036, 9)"
      ]
     },
     "execution_count": 11,
     "metadata": {},
     "output_type": "execute_result"
    }
   ],
   "source": [
    "df.shape"
   ]
  },
  {
   "cell_type": "code",
   "execution_count": 12,
   "id": "801f313b-9929-467e-a7de-31ab499f626c",
   "metadata": {},
   "outputs": [],
   "source": [
    "X = np.stack(df['cards_binary'].values)"
   ]
  },
  {
   "cell_type": "code",
   "execution_count": 26,
   "id": "3f3cfce5-de60-4e1b-ad53-b8dc66e5c139",
   "metadata": {},
   "outputs": [],
   "source": [
    "# Add additional features\n",
    "additional_features = df[['num_hearts', 'num_diamonds', 'num_clubs', 'num_spades']].values\n",
    "X = np.concatenate([X, additional_features], axis=1)"
   ]
  },
  {
   "cell_type": "code",
   "execution_count": 27,
   "id": "00a06f33-3eb8-41ee-8154-0f16f73bb981",
   "metadata": {},
   "outputs": [
    {
     "data": {
      "text/plain": [
       "(65036, 56)"
      ]
     },
     "execution_count": 27,
     "metadata": {},
     "output_type": "execute_result"
    }
   ],
   "source": [
    "X.shape"
   ]
  },
  {
   "cell_type": "code",
   "execution_count": null,
   "id": "af489ade-d153-460a-ba98-9af9ba154a40",
   "metadata": {},
   "outputs": [],
   "source": []
  },
  {
   "cell_type": "code",
   "execution_count": 28,
   "id": "1443c924-3d56-41bd-8cad-c73f49a96089",
   "metadata": {},
   "outputs": [],
   "source": [
    "y = df['tricks_won'].values"
   ]
  },
  {
   "cell_type": "code",
   "execution_count": 29,
   "id": "4c986409-59d2-4d8d-9791-842a1f4ccd15",
   "metadata": {},
   "outputs": [
    {
     "data": {
      "text/plain": [
       "(65036,)"
      ]
     },
     "execution_count": 29,
     "metadata": {},
     "output_type": "execute_result"
    }
   ],
   "source": [
    "y.shape"
   ]
  },
  {
   "cell_type": "code",
   "execution_count": 30,
   "id": "1b312b8c-8c5f-4b8f-a431-774a992d8d6d",
   "metadata": {},
   "outputs": [],
   "source": [
    "# Convert to PyTorch tensors\n",
    "X_tensor = torch.tensor(X, dtype=torch.float32)\n",
    "y_tensor = torch.tensor(y, dtype=torch.float32)"
   ]
  },
  {
   "cell_type": "code",
   "execution_count": 31,
   "id": "f14ed14d-7bf8-4431-b5f4-739f16e105bb",
   "metadata": {},
   "outputs": [],
   "source": [
    "# Split the dataset\n",
    "X_train, X_test, y_train, y_test = train_test_split(X_tensor, y_tensor, test_size=0.2, random_state=123)"
   ]
  },
  {
   "cell_type": "code",
   "execution_count": 32,
   "id": "a5a13cf9-7f38-4350-ab92-c12f3a31d0d2",
   "metadata": {},
   "outputs": [],
   "source": [
    "# Create datasets and dataloaders\n",
    "train_dataset = torch.utils.data.TensorDataset(X_train, y_train)\n",
    "test_dataset = torch.utils.data.TensorDataset(X_test, y_test)"
   ]
  },
  {
   "cell_type": "code",
   "execution_count": 33,
   "id": "5bdf86ca-428e-48df-a6a5-122dce8a2af1",
   "metadata": {},
   "outputs": [
    {
     "data": {
      "text/plain": [
       "13008"
      ]
     },
     "execution_count": 33,
     "metadata": {},
     "output_type": "execute_result"
    }
   ],
   "source": [
    "test_dataset.tensors[0].shape[0]"
   ]
  },
  {
   "cell_type": "code",
   "execution_count": 34,
   "id": "6516028d-d287-4e12-a92f-66601d685705",
   "metadata": {},
   "outputs": [
    {
     "data": {
      "text/plain": [
       "52028"
      ]
     },
     "execution_count": 34,
     "metadata": {},
     "output_type": "execute_result"
    }
   ],
   "source": [
    "train_dataset.tensors[0].shape[0]"
   ]
  },
  {
   "cell_type": "code",
   "execution_count": 35,
   "id": "39d468ce-b5bf-482e-88d3-cf0242dcb7b7",
   "metadata": {},
   "outputs": [],
   "source": [
    "train_loader = DataLoader(train_dataset, batch_size=64, shuffle=True)\n",
    "test_loader = DataLoader(test_dataset, batch_size=64, shuffle=False)"
   ]
  },
  {
   "cell_type": "markdown",
   "id": "8799445a-193b-4291-90f2-afad030ca969",
   "metadata": {},
   "source": [
    "### Model Definition"
   ]
  },
  {
   "cell_type": "code",
   "execution_count": 78,
   "id": "3204150b-fff4-45c8-9fa6-d64706484821",
   "metadata": {},
   "outputs": [],
   "source": [
    "class CardNet(nn.Module):\n",
    "    def __init__(self):\n",
    "        super(CardNet, self).__init__()\n",
    "        # Define the first fully connected layer\n",
    "        self.fc1 = nn.Linear(56, 128)  # 52 inputs (one for each card)\n",
    "        # Sigmoid activation function\n",
    "        self.sigmoid1 = nn.Sigmoid()\n",
    "        # Dropout layer\n",
    "        self.dropout1 = nn.Dropout(0.3)\n",
    "        # Second fully connected layer\n",
    "        self.fc2 = nn.Linear(128, 64)\n",
    "        # Sigmoid activation function\n",
    "        self.sigmoid2 = nn.Sigmoid()\n",
    "        # Dropout layer\n",
    "        self.dropout2 = nn.Dropout(0.2)\n",
    "        # Define the output fully connected layer\n",
    "        self.fc3 = nn.Linear(64, 1)  # 128 inputs, 1 output\n",
    "\n",
    "    def forward(self, x):\n",
    "        # Applying the first layer, activation, and dropout\n",
    "        x = self.fc1(x)\n",
    "        x = self.sigmoid1(x)\n",
    "        x = self.dropout1(x)\n",
    "\n",
    "        # Applying the second layer, activation, and dropout\n",
    "        x = self.fc2(x)\n",
    "        x = self.sigmoid2(x)\n",
    "        x = self.dropout2(x)\n",
    "        \n",
    "        # Applying the output layer\n",
    "        x = self.fc3(x)\n",
    "        return x"
   ]
  },
  {
   "cell_type": "markdown",
   "id": "ae07617a-acc8-4e5a-ab00-831fdb22586a",
   "metadata": {},
   "source": [
    "### Training the Model"
   ]
  },
  {
   "cell_type": "code",
   "execution_count": 79,
   "id": "1addf2dd-089a-4d69-8b40-1078ac8c6888",
   "metadata": {},
   "outputs": [],
   "source": [
    "# Instantiate the model, loss function, and optimizer\n",
    "model = CardNet()\n",
    "\n",
    "criterion = nn.MSELoss()\n",
    "# criterion = nn.SmoothL1Loss(beta=1.0)  # PyTorch's implementation of Huber Loss\n",
    "# criterion = nn.PoissonNLLLoss()  # this went pooooorly\n",
    "\n",
    "optimizer = optim.Adam(model.parameters(), lr=0.001)\n",
    "# optimizer = optim.SGD(model.parameters(), lr=0.001, momentum=0.9)\n",
    "# optimizer = optim.RMSprop(model.parameters(), lr=0.001)"
   ]
  },
  {
   "cell_type": "code",
   "execution_count": 80,
   "id": "3d70b0f5-4966-426d-af6c-a82fee0ed118",
   "metadata": {},
   "outputs": [
    {
     "name": "stdout",
     "output_type": "stream",
     "text": [
      "Epoch 1, Training Loss: 1.5248507655967416, Validation Loss: 0.6010326440337252\n",
      "Epoch 2, Training Loss: 0.715140842947832, Validation Loss: 0.5903323271471049\n",
      "Epoch 3, Training Loss: 0.686884579384841, Validation Loss: 0.5506021707773502\n",
      "Epoch 4, Training Loss: 0.6520446040073657, Validation Loss: 0.5477308460487211\n",
      "Epoch 5, Training Loss: 0.6442714528061585, Validation Loss: 0.5397971735082723\n",
      "Epoch 6, Training Loss: 0.6330101477052262, Validation Loss: 0.5349070610155479\n",
      "Epoch 7, Training Loss: 0.6222201902191635, Validation Loss: 0.5356014213658786\n",
      "Epoch 8, Training Loss: 0.6144306724174334, Validation Loss: 0.5340859415639664\n",
      "Epoch 9, Training Loss: 0.6088078002985777, Validation Loss: 0.5329762218476515\n",
      "Epoch 10, Training Loss: 0.6034907983433984, Validation Loss: 0.5308690740833423\n",
      "Epoch 11, Training Loss: 0.6018543456128094, Validation Loss: 0.5311285667900376\n",
      "Epoch 12, Training Loss: 0.5939419359058093, Validation Loss: 0.5346925924331646\n",
      "Epoch 13, Training Loss: 0.5824183543886698, Validation Loss: 0.5299302861919263\n",
      "Epoch 14, Training Loss: 0.5779169592624019, Validation Loss: 0.5264351814068845\n",
      "Epoch 15, Training Loss: 0.5779324709393037, Validation Loss: 0.5315801219746635\n",
      "Epoch 16, Training Loss: 0.5748843760469154, Validation Loss: 0.5245268245171504\n",
      "Epoch 17, Training Loss: 0.5715337672359692, Validation Loss: 0.5266949939111942\n",
      "Epoch 18, Training Loss: 0.5648921394871467, Validation Loss: 0.5263764906266812\n",
      "Epoch 19, Training Loss: 0.5614270557491695, Validation Loss: 0.5233004076307843\n",
      "Epoch 20, Training Loss: 0.5580465136844978, Validation Loss: 0.5220692647485862\n",
      "Epoch 21, Training Loss: 0.5579243430747071, Validation Loss: 0.5202129942904539\n",
      "Epoch 22, Training Loss: 0.5529563424451057, Validation Loss: 0.5213244698510985\n",
      "Epoch 23, Training Loss: 0.5544293195781383, Validation Loss: 0.5237393006040895\n",
      "Epoch 24, Training Loss: 0.5475120634479821, Validation Loss: 0.518883287943304\n",
      "Epoch 25, Training Loss: 0.5470273500563153, Validation Loss: 0.5264677936520523\n",
      "Epoch 26, Training Loss: 0.547007430536426, Validation Loss: 0.517664919223586\n",
      "Epoch 27, Training Loss: 0.5444831024164276, Validation Loss: 0.5211501973068289\n",
      "Epoch 28, Training Loss: 0.5436354249296506, Validation Loss: 0.5170723225504417\n",
      "Epoch 29, Training Loss: 0.5434205396798422, Validation Loss: 0.5179679482478791\n",
      "Epoch 30, Training Loss: 0.5420994075148223, Validation Loss: 0.5193076954483252\n",
      "Epoch 31, Training Loss: 0.5406032691358778, Validation Loss: 0.5178728472042787\n",
      "Epoch 32, Training Loss: 0.538419833188421, Validation Loss: 0.5190136350535526\n",
      "Epoch 33, Training Loss: 0.5397534745844099, Validation Loss: 0.517868382501133\n",
      "Epoch 34, Training Loss: 0.5371016058161485, Validation Loss: 0.5162854727270565\n",
      "Epoch 35, Training Loss: 0.5345297965820485, Validation Loss: 0.5155208322321504\n",
      "Epoch 36, Training Loss: 0.5339929185520725, Validation Loss: 0.5144428081471395\n",
      "Epoch 37, Training Loss: 0.5329287553480607, Validation Loss: 0.5190396684635462\n",
      "Epoch 38, Training Loss: 0.5324157681308977, Validation Loss: 0.5151178897673501\n",
      "Epoch 39, Training Loss: 0.5317292916075459, Validation Loss: 0.5160375176613914\n",
      "Epoch 40, Training Loss: 0.5297555794143618, Validation Loss: 0.5132760336991459\n",
      "Epoch 41, Training Loss: 0.5306908606868854, Validation Loss: 0.5171725595276001\n",
      "Epoch 42, Training Loss: 0.529065857334013, Validation Loss: 0.5138347346111124\n",
      "Epoch 43, Training Loss: 0.5264849281241382, Validation Loss: 0.5150687343373364\n",
      "Epoch 44, Training Loss: 0.5265242070168145, Validation Loss: 0.5155022688310817\n",
      "Epoch 45, Training Loss: 0.5255621955791956, Validation Loss: 0.5170121273944592\n",
      "Epoch 46, Training Loss: 0.5254932671769316, Validation Loss: 0.5151385314496827\n",
      "Epoch 47, Training Loss: 0.525580253032477, Validation Loss: 0.5152091149694366\n",
      "Epoch 48, Training Loss: 0.525112068033552, Validation Loss: 0.5136560985009755\n",
      "Epoch 49, Training Loss: 0.525667716245295, Validation Loss: 0.5141986304616869\n",
      "Epoch 50, Training Loss: 0.5238109210373905, Validation Loss: 0.5139400531225099\n",
      "Epoch 51, Training Loss: 0.521724731566364, Validation Loss: 0.5131148691180301\n",
      "Epoch 52, Training Loss: 0.5217242280819382, Validation Loss: 0.5177842373484322\n",
      "Epoch 53, Training Loss: 0.5219222047697932, Validation Loss: 0.5163307224032624\n",
      "Epoch 54, Training Loss: 0.5214883524128593, Validation Loss: 0.5159984035245607\n",
      "Epoch 55, Training Loss: 0.5186831888521424, Validation Loss: 0.5155135842926828\n",
      "Epoch 56, Training Loss: 0.5192493049171103, Validation Loss: 0.5192712207415301\n",
      "Epoch 57, Training Loss: 0.5183787472546674, Validation Loss: 0.5182950315586902\n",
      "Epoch 58, Training Loss: 0.5158347404277177, Validation Loss: 0.5132627549133324\n",
      "Epoch 59, Training Loss: 0.5186098276711889, Validation Loss: 0.5162060586288846\n",
      "Epoch 60, Training Loss: 0.5164588872920984, Validation Loss: 0.5182332251711231\n",
      "Epoch 61, Training Loss: 0.5197716887352642, Validation Loss: 0.5159651563029741\n",
      "Epoch 62, Training Loss: 0.5166057785880587, Validation Loss: 0.5156873642005311\n",
      "Epoch 63, Training Loss: 0.5154900961091061, Validation Loss: 0.515669611877181\n",
      "Epoch 64, Training Loss: 0.5154672832412761, Validation Loss: 0.5158402869182319\n",
      "Epoch 65, Training Loss: 0.5150359754257366, Validation Loss: 0.5150091686591891\n",
      "Epoch 66, Training Loss: 0.5167179977906661, Validation Loss: 0.5150499519093596\n",
      "Epoch 67, Training Loss: 0.5137107856333957, Validation Loss: 0.520203885740313\n",
      "Epoch 68, Training Loss: 0.5138703755323513, Validation Loss: 0.517999890802238\n",
      "Epoch 69, Training Loss: 0.5134901806633102, Validation Loss: 0.5184870219685201\n",
      "Epoch 70, Training Loss: 0.5082982162660499, Validation Loss: 0.5181407786236771\n",
      "Epoch 71, Training Loss: 0.5115746695371011, Validation Loss: 0.5167768242394353\n",
      "Epoch 72, Training Loss: 0.5089296302504329, Validation Loss: 0.5157211261261874\n",
      "Epoch 73, Training Loss: 0.5114580121484481, Validation Loss: 0.5180348178044163\n",
      "Epoch 74, Training Loss: 0.508622369351427, Validation Loss: 0.5162529719198469\n",
      "Epoch 75, Training Loss: 0.5083416789332497, Validation Loss: 0.5196899909521527\n",
      "Epoch 76, Training Loss: 0.5086069407530528, Validation Loss: 0.5176305209651938\n",
      "Epoch 77, Training Loss: 0.5082869246571127, Validation Loss: 0.517595829998875\n",
      "Epoch 78, Training Loss: 0.5077366061394666, Validation Loss: 0.518780577813274\n",
      "Epoch 79, Training Loss: 0.5085843829016357, Validation Loss: 0.5225343539999273\n",
      "Epoch 80, Training Loss: 0.5069068570763727, Validation Loss: 0.5187900815649372\n",
      "Epoch 81, Training Loss: 0.5064521722820341, Validation Loss: 0.5206083700445745\n",
      "Epoch 82, Training Loss: 0.5062887497980039, Validation Loss: 0.5185612613497919\n",
      "Epoch 83, Training Loss: 0.5060581905475043, Validation Loss: 0.5208549881846556\n",
      "Epoch 84, Training Loss: 0.5070514496892148, Validation Loss: 0.5187017741311813\n",
      "Epoch 85, Training Loss: 0.5048043219125031, Validation Loss: 0.5189132831559996\n",
      "Epoch 86, Training Loss: 0.5032503237578214, Validation Loss: 0.5199061712802263\n",
      "Epoch 87, Training Loss: 0.5033360184008844, Validation Loss: 0.5244074156290197\n",
      "Epoch 88, Training Loss: 0.5022309683031313, Validation Loss: 0.5196824746451548\n",
      "Epoch 89, Training Loss: 0.5039851114152717, Validation Loss: 0.5200989354873788\n",
      "Epoch 90, Training Loss: 0.5010745805763599, Validation Loss: 0.519422514742151\n",
      "Epoch 91, Training Loss: 0.5032294217694444, Validation Loss: 0.5205483031522158\n",
      "Epoch 92, Training Loss: 0.5032038999972157, Validation Loss: 0.5215389823854922\n",
      "Epoch 93, Training Loss: 0.5004215993361203, Validation Loss: 0.5214943178318817\n",
      "Epoch 94, Training Loss: 0.5005360839941009, Validation Loss: 0.5218649827319611\n",
      "Epoch 95, Training Loss: 0.499216958961764, Validation Loss: 0.5210318627685931\n",
      "Epoch 96, Training Loss: 0.49909141313986616, Validation Loss: 0.5234356601006577\n",
      "Epoch 97, Training Loss: 0.5003130722029402, Validation Loss: 0.521376231389732\n",
      "Epoch 98, Training Loss: 0.4986353373008787, Validation Loss: 0.5231028146042889\n",
      "Epoch 99, Training Loss: 0.49888686343719346, Validation Loss: 0.5216446248367703\n",
      "Epoch 100, Training Loss: 0.4996356180777894, Validation Loss: 0.525911503392392\n"
     ]
    },
    {
     "data": {
      "text/plain": [
       "0"
      ]
     },
     "execution_count": 80,
     "metadata": {},
     "output_type": "execute_result"
    }
   ],
   "source": [
    "# Training loop\n",
    "epochs = 100\n",
    "train_losses = []\n",
    "val_losses = []\n",
    "\n",
    "for epoch in range(epochs):\n",
    "    model.train()  # Set model to training mode\n",
    "    total_train_loss = 0\n",
    "\n",
    "    for data, targets in train_loader:\n",
    "        optimizer.zero_grad()  # Clear the gradients\n",
    "        outputs = model(data)  # Forward pass\n",
    "        loss = criterion(outputs.squeeze(), targets)  # Calculate loss\n",
    "        loss.backward()  # Backpropagate the error\n",
    "        optimizer.step()  # Update the weights\n",
    "\n",
    "        total_train_loss += loss.item() * data.size(0)  # Multiply loss by batch size\n",
    "\n",
    "    # Average the loss over the entire training dataset\n",
    "    train_losses.append(total_train_loss / len(train_loader.dataset))\n",
    "\n",
    "    # Validation loss calculation\n",
    "    model.eval()  # Set model to evaluation mode\n",
    "    total_val_loss = 0\n",
    "    with torch.no_grad():\n",
    "        for data, targets in test_loader:\n",
    "            outputs = model(data)\n",
    "            loss = criterion(outputs.squeeze(), targets)\n",
    "            total_val_loss += loss.item() * data.size(0)  # Multiply loss by batch size\n",
    "\n",
    "    # Average the loss over the entire validation dataset\n",
    "    val_losses.append(total_val_loss / len(test_loader.dataset))\n",
    "\n",
    "    print(f'Epoch {epoch+1}, Training Loss: {train_losses[-1]}, Validation Loss: {val_losses[-1]}')\n",
    "\n",
    "os.system(f'say Training loop is complete')"
   ]
  },
  {
   "cell_type": "markdown",
   "id": "102ee0d7-2ec9-4688-bb16-7b1823e6f6b8",
   "metadata": {
    "jp-MarkdownHeadingCollapsed": true
   },
   "source": [
    "#### Training loop with early stopping"
   ]
  },
  {
   "cell_type": "code",
   "execution_count": null,
   "id": "f19ab4c4-40ef-4f51-9722-6dd99438d717",
   "metadata": {},
   "outputs": [],
   "source": [
    "# epochs = 50\n",
    "# train_losses = []\n",
    "# val_losses = []\n",
    "\n",
    "# # Early stopping logic\n",
    "# best_val_loss = float('inf')\n",
    "# patience = 5  # Number of epochs to wait after min has been hit\n",
    "# trigger_times = 0\n",
    "\n",
    "# for epoch in range(epochs):\n",
    "#     model.train()\n",
    "#     total_train_loss = 0\n",
    "\n",
    "#     for data, targets in train_loader:\n",
    "#         optimizer.zero_grad()  # Clear the gradients\n",
    "#         outputs = model(data)  # Forward pass\n",
    "#         loss = criterion(outputs.squeeze(), targets)  # Calculate loss\n",
    "#         loss.backward()  # Backpropagate the error\n",
    "#         optimizer.step()  # Update the weights\n",
    "\n",
    "#         total_train_loss += loss.item() * data.size(0)  # Multiply loss by batch size\n",
    "    \n",
    "#     # Average the loss over the entire training dataset\n",
    "#     train_losses.append(total_train_loss / len(train_loader.dataset))\n",
    "\n",
    "#     # Early stopping calcs\n",
    "#     model.eval()\n",
    "#     total_val_loss = 0\n",
    "#     with torch.no_grad():\n",
    "#         for data, targets in test_loader:\n",
    "#             outputs = model(data)\n",
    "#             loss = criterion(outputs.squeeze(), targets)\n",
    "#             total_val_loss += loss.item() * data.size(0)\n",
    "    \n",
    "#     average_val_loss = total_val_loss / len(test_loader.dataset)\n",
    "#     if average_val_loss < best_val_loss:\n",
    "#         trigger_times = 0\n",
    "#         best_val_loss = average_val_loss\n",
    "#         # Save the best model\n",
    "#         # torch.save(model.state_dict(), 'best_model.pth')\n",
    "#     else:\n",
    "#         trigger_times += 1\n",
    "#         if trigger_times >= patience:\n",
    "#             print(f'Early stopping at epoch {epoch}')\n",
    "#             break\n",
    "\n",
    "#     print(f'Epoch {epoch+1}, Training Loss: {train_losses[-1]}, Validation Loss: {average_val_loss}')"
   ]
  },
  {
   "cell_type": "markdown",
   "id": "9b1e5840-04ae-4471-9143-6802c4425d9a",
   "metadata": {},
   "source": [
    "#### Plot model training learning loss"
   ]
  },
  {
   "cell_type": "code",
   "execution_count": 81,
   "id": "b64435af-dc11-4007-9e82-ba0822158a40",
   "metadata": {},
   "outputs": [
    {
     "data": {
      "image/png": "[encoded data removed]",
      "text/plain": [
       "<Figure size 1000x500 with 1 Axes>"
      ]
     },
     "metadata": {},
     "output_type": "display_data"
    }
   ],
   "source": [
    "plt.figure(figsize=(10, 5))\n",
    "plt.plot(train_losses, label='Training Loss')\n",
    "plt.plot(val_losses, label='Validation Loss')\n",
    "plt.title('Learning Curve')\n",
    "plt.xlabel('Epochs')\n",
    "plt.ylabel('Loss')\n",
    "plt.legend()\n",
    "plt.grid(True)\n",
    "plt.show()"
   ]
  },
  {
   "cell_type": "code",
   "execution_count": null,
   "id": "2bcefb8c-eea4-49cd-9c60-4106bca721ac",
   "metadata": {},
   "outputs": [],
   "source": []
  },
  {
   "cell_type": "markdown",
   "id": "20989e9a-8fa7-486b-a0e7-8f6d6908a3da",
   "metadata": {},
   "source": [
    "### Evaluation"
   ]
  },
  {
   "cell_type": "code",
   "execution_count": null,
   "id": "fc8a8983-7adc-45c3-b276-a88bf0d6d576",
   "metadata": {},
   "outputs": [],
   "source": [
    "# model.eval()  # Set the model to evaluation mode\n",
    "# with torch.no_grad():  # Turn off gradients for validation\n",
    "#     total_loss = 0\n",
    "#     for data, targets in test_loader:\n",
    "#         outputs = model(data)\n",
    "#         loss = criterion(outputs.squeeze(), targets)\n",
    "#         total_loss += loss.item()\n",
    "#     print(f'Test Loss: {total_loss / len(test_loader)}')"
   ]
  },
  {
   "cell_type": "code",
   "execution_count": 82,
   "id": "42ffbc84-9b2a-4671-bddd-c6ca8e4d02a9",
   "metadata": {},
   "outputs": [],
   "source": [
    "# Create test predictions\n",
    "\n",
    "model.eval()  # Set the model to evaluation mode\n",
    "\n",
    "# Store predictions and actual values\n",
    "predictions = []\n",
    "actuals = []\n",
    "\n",
    "with torch.no_grad():  # Turn off gradients for prediction, saves memory and computations\n",
    "    for data, targets in test_loader:\n",
    "        outputs = model(data)  # Generate predictions\n",
    "        predicted_tricks = outputs.squeeze().tolist()  # Convert to a list\n",
    "        actual_tricks = targets.tolist()  # Actual tricks won\n",
    "\n",
    "        predictions.extend(predicted_tricks)  # Store predictions\n",
    "        actuals.extend(actual_tricks)  # Store actual values"
   ]
  },
  {
   "cell_type": "code",
   "execution_count": 83,
   "id": "21e05661-c580-44b9-b207-302415317c6f",
   "metadata": {},
   "outputs": [
    {
     "name": "stdout",
     "output_type": "stream",
     "text": [
      "Mean Absolute Error: 0.5642053803376312\n",
      "Mean Squared Error: 0.5259115040377038\n",
      "Accuracy: 53.13%\n"
     ]
    }
   ],
   "source": [
    "mae = mean_absolute_error(actuals, predictions)\n",
    "print(f\"Mean Absolute Error: {mae}\")\n",
    "\n",
    "mse = mean_squared_error(actuals, predictions)\n",
    "print(f\"Mean Squared Error: {mse}\")\n",
    "\n",
    "preds_rounded = np.round(predictions)\n",
    "acc_score = accuracy_score(actuals, preds_rounded)\n",
    "print(f\"Accuracy: {acc_score*100:.2f}%\")"
   ]
  },
  {
   "cell_type": "code",
   "execution_count": null,
   "id": "3415a06d-b943-4dc2-bea0-1f95a1f49a9f",
   "metadata": {},
   "outputs": [],
   "source": []
  },
  {
   "cell_type": "markdown",
   "id": "782f579a-44c7-4f12-b02a-4b8fb51af7f3",
   "metadata": {},
   "source": [
    "### Feature importance weights"
   ]
  },
  {
   "cell_type": "code",
   "execution_count": 67,
   "id": "617ab00c-4aa3-48b0-a07e-4701ae47f902",
   "metadata": {},
   "outputs": [],
   "source": [
    "# Assuming model.fc1 is the first fully connected layer of the trained model\n",
    "weights = model.fc1.weight.data.numpy()  # Convert the weights of the first layer to a NumPy array"
   ]
  },
  {
   "cell_type": "code",
   "execution_count": 68,
   "id": "405bc520-51e5-47ce-9f20-7ee26de8c286",
   "metadata": {},
   "outputs": [
    {
     "data": {
      "image/png": "[encoded data removed]",
      "text/plain": [
       "<Figure size 1200x800 with 2 Axes>"
      ]
     },
     "metadata": {},
     "output_type": "display_data"
    }
   ],
   "source": [
    "# Plotting the weights for each input feature\n",
    "plt.figure(figsize=(12, 8))\n",
    "plt.imshow(weights, cmap='viridis', aspect='auto')\n",
    "plt.colorbar()\n",
    "plt.title('Visualization of Weights Connecting Input to First Hidden Layer')\n",
    "plt.xlabel('Input Features (Cards)')\n",
    "plt.ylabel('Neurons in the First Layer')\n",
    "plt.show()"
   ]
  },
  {
   "cell_type": "code",
   "execution_count": 69,
   "id": "6eca0727-fa64-4b91-8309-a9ec31040d00",
   "metadata": {},
   "outputs": [],
   "source": [
    "# This simplistic approach only looks at the magnitude of weights directly connected to the input features\n",
    "input_importance = np.sum(np.abs(weights), axis=0)  # Sum of absolute weights across all neurons"
   ]
  },
  {
   "cell_type": "code",
   "execution_count": 70,
   "id": "f19daa5b-9e7b-40f4-a19c-f36593948a12",
   "metadata": {},
   "outputs": [
    {
     "data": {
      "image/png": "[encoded data removed]",
      "text/plain": [
       "<Figure size 1000x500 with 1 Axes>"
      ]
     },
     "metadata": {},
     "output_type": "display_data"
    }
   ],
   "source": [
    "plt.figure(figsize=(10, 5))\n",
    "plt.bar(range(56), input_importance)\n",
    "plt.title('Importance of Each Input Feature (Card)')\n",
    "plt.xlabel('Card Index')\n",
    "plt.ylabel('Sum of Absolute Weights')\n",
    "plt.show()"
   ]
  },
  {
   "cell_type": "code",
   "execution_count": null,
   "id": "1d895edc-384e-426b-8d4a-3a5edd035380",
   "metadata": {},
   "outputs": [],
   "source": []
  },
  {
   "cell_type": "markdown",
   "id": "3ae311d6-f39d-4428-bf8a-394f99feb351",
   "metadata": {
    "jp-MarkdownHeadingCollapsed": true
   },
   "source": [
    "### sklearn RF model"
   ]
  },
  {
   "cell_type": "code",
   "execution_count": 47,
   "id": "f8019022-dce8-454a-a26a-3ac6013009de",
   "metadata": {},
   "outputs": [],
   "source": [
    "from sklearn.ensemble import RandomForestRegressor"
   ]
  },
  {
   "cell_type": "code",
   "execution_count": 48,
   "id": "c815a368-ebcf-4853-a93c-84752a5293da",
   "metadata": {},
   "outputs": [],
   "source": [
    "# Split data into train and test sets\n",
    "X_train, X_test, y_train, y_test = train_test_split(X, y, test_size=0.2, random_state=123)"
   ]
  },
  {
   "cell_type": "code",
   "execution_count": 49,
   "id": "1cb07728-8be6-4cba-a467-1bccf043328e",
   "metadata": {},
   "outputs": [],
   "source": [
    "# Initialize the RandomForestRegressor\n",
    "rf = RandomForestRegressor(n_estimators=200, \n",
    "                           max_depth=None,\n",
    "                           max_features=0.9,\n",
    "                           min_samples_leaf=2,\n",
    "                           min_samples_split=2,\n",
    "                           random_state=123)"
   ]
  },
  {
   "cell_type": "code",
   "execution_count": 50,
   "id": "0bdc1c91-1545-43df-be1d-8fac05418a4c",
   "metadata": {},
   "outputs": [
    {
     "data": {
      "text/html": [
       "<style>#sk-container-id-1 {color: black;background-color: white;}#sk-container-id-1 pre{padding: 0;}#sk-container-id-1 div.sk-toggleable {background-color: white;}#sk-container-id-1 label.sk-toggleable__label {cursor: pointer;display: block;width: 100%;margin-bottom: 0;padding: 0.3em;box-sizing: border-box;text-align: center;}#sk-container-id-1 label.sk-toggleable__label-arrow:before {content: \"▸\";float: left;margin-right: 0.25em;color: #696969;}#sk-container-id-1 label.sk-toggleable__label-arrow:hover:before {color: black;}#sk-container-id-1 div.sk-estimator:hover label.sk-toggleable__label-arrow:before {color: black;}#sk-container-id-1 div.sk-toggleable__content {max-height: 0;max-width: 0;overflow: hidden;text-align: left;background-color: #f0f8ff;}#sk-container-id-1 div.sk-toggleable__content pre {margin: 0.2em;color: black;border-radius: 0.25em;background-color: #f0f8ff;}#sk-container-id-1 input.sk-toggleable__control:checked~div.sk-toggleable__content {max-height: 200px;max-width: 100%;overflow: auto;}#sk-container-id-1 input.sk-toggleable__control:checked~label.sk-toggleable__label-arrow:before {content: \"▾\";}#sk-container-id-1 div.sk-estimator input.sk-toggleable__control:checked~label.sk-toggleable__label {background-color: #d4ebff;}#sk-container-id-1 div.sk-label input.sk-toggleable__control:checked~label.sk-toggleable__label {background-color: #d4ebff;}#sk-container-id-1 input.sk-hidden--visually {border: 0;clip: rect(1px 1px 1px 1px);clip: rect(1px, 1px, 1px, 1px);height: 1px;margin: -1px;overflow: hidden;padding: 0;position: absolute;width: 1px;}#sk-container-id-1 div.sk-estimator {font-family: monospace;background-color: #f0f8ff;border: 1px dotted black;border-radius: 0.25em;box-sizing: border-box;margin-bottom: 0.5em;}#sk-container-id-1 div.sk-estimator:hover {background-color: #d4ebff;}#sk-container-id-1 div.sk-parallel-item::after {content: \"\";width: 100%;border-bottom: 1px solid gray;flex-grow: 1;}#sk-container-id-1 div.sk-label:hover label.sk-toggleable__label {background-color: #d4ebff;}#sk-container-id-1 div.sk-serial::before {content: \"\";position: absolute;border-left: 1px solid gray;box-sizing: border-box;top: 0;bottom: 0;left: 50%;z-index: 0;}#sk-container-id-1 div.sk-serial {display: flex;flex-direction: column;align-items: center;background-color: white;padding-right: 0.2em;padding-left: 0.2em;position: relative;}#sk-container-id-1 div.sk-item {position: relative;z-index: 1;}#sk-container-id-1 div.sk-parallel {display: flex;align-items: stretch;justify-content: center;background-color: white;position: relative;}#sk-container-id-1 div.sk-item::before, #sk-container-id-1 div.sk-parallel-item::before {content: \"\";position: absolute;border-left: 1px solid gray;box-sizing: border-box;top: 0;bottom: 0;left: 50%;z-index: -1;}#sk-container-id-1 div.sk-parallel-item {display: flex;flex-direction: column;z-index: 1;position: relative;background-color: white;}#sk-container-id-1 div.sk-parallel-item:first-child::after {align-self: flex-end;width: 50%;}#sk-container-id-1 div.sk-parallel-item:last-child::after {align-self: flex-start;width: 50%;}#sk-container-id-1 div.sk-parallel-item:only-child::after {width: 0;}#sk-container-id-1 div.sk-dashed-wrapped {border: 1px dashed gray;margin: 0 0.4em 0.5em 0.4em;box-sizing: border-box;padding-bottom: 0.4em;background-color: white;}#sk-container-id-1 div.sk-label label {font-family: monospace;font-weight: bold;display: inline-block;line-height: 1.2em;}#sk-container-id-1 div.sk-label-container {text-align: center;}#sk-container-id-1 div.sk-container {/* jupyter's `normalize.less` sets `[hidden] { display: none; }` but bootstrap.min.css set `[hidden] { display: none !important; }` so we also need the `!important` here to be able to override the default hidden behavior on the sphinx rendered scikit-learn.org. See: https://github.com/scikit-learn/scikit-learn/issues/21755 */display: inline-block !important;position: relative;}#sk-container-id-1 div.sk-text-repr-fallback {display: none;}</style><div id=\"sk-container-id-1\" class=\"sk-top-container\"><div class=\"sk-text-repr-fallback\"><pre>RandomForestRegressor(max_features=0.9, min_samples_leaf=2, n_estimators=200,\n",
       "                      random_state=123)</pre><b>In a Jupyter environment, please rerun this cell to show the HTML representation or trust the notebook. <br />On GitHub, the HTML representation is unable to render, please try loading this page with nbviewer.org.</b></div><div class=\"sk-container\" hidden><div class=\"sk-item\"><div class=\"sk-estimator sk-toggleable\"><input class=\"sk-toggleable__control sk-hidden--visually\" id=\"sk-estimator-id-1\" type=\"checkbox\" checked><label for=\"sk-estimator-id-1\" class=\"sk-toggleable__label sk-toggleable__label-arrow\">RandomForestRegressor</label><div class=\"sk-toggleable__content\"><pre>RandomForestRegressor(max_features=0.9, min_samples_leaf=2, n_estimators=200,\n",
       "                      random_state=123)</pre></div></div></div></div></div>"
      ],
      "text/plain": [
       "RandomForestRegressor(max_features=0.9, min_samples_leaf=2, n_estimators=200,\n",
       "                      random_state=123)"
      ]
     },
     "execution_count": 50,
     "metadata": {},
     "output_type": "execute_result"
    }
   ],
   "source": [
    "# Train the model on training data\n",
    "rf.fit(X_train, y_train)"
   ]
  },
  {
   "cell_type": "code",
   "execution_count": 51,
   "id": "f36f60b4-f5ef-4d2c-82bc-570285944b02",
   "metadata": {},
   "outputs": [
    {
     "data": {
      "text/plain": [
       "{'bootstrap': True,\n",
       " 'ccp_alpha': 0.0,\n",
       " 'criterion': 'squared_error',\n",
       " 'max_depth': None,\n",
       " 'max_features': 0.9,\n",
       " 'max_leaf_nodes': None,\n",
       " 'max_samples': None,\n",
       " 'min_impurity_decrease': 0.0,\n",
       " 'min_samples_leaf': 2,\n",
       " 'min_samples_split': 2,\n",
       " 'min_weight_fraction_leaf': 0.0,\n",
       " 'n_estimators': 200,\n",
       " 'n_jobs': None,\n",
       " 'oob_score': False,\n",
       " 'random_state': 123,\n",
       " 'verbose': 0,\n",
       " 'warm_start': False}"
      ]
     },
     "execution_count": 51,
     "metadata": {},
     "output_type": "execute_result"
    }
   ],
   "source": [
    "rf.get_params()"
   ]
  },
  {
   "cell_type": "code",
   "execution_count": 52,
   "id": "2c95271a-fc3e-40ff-b2e9-485567e69428",
   "metadata": {},
   "outputs": [],
   "source": [
    "# Predict on the testing set\n",
    "y_pred = rf.predict(X_test)"
   ]
  },
  {
   "cell_type": "code",
   "execution_count": 53,
   "id": "fd46d5ae-102b-4938-8638-7a49a5b9765b",
   "metadata": {},
   "outputs": [
    {
     "name": "stdout",
     "output_type": "stream",
     "text": [
      "Mean Squared Error: 0.5737094250137176\n",
      "Accuracy: 51.91%\n"
     ]
    }
   ],
   "source": [
    "# Calculate Mean Squared Error (MSE) for evaluation\n",
    "mse = mean_squared_error(y_test, y_pred)\n",
    "print(f'Mean Squared Error: {mse}')\n",
    "\n",
    "y_pred_rounded = np.round(y_pred)\n",
    "acc_score = accuracy_score(actuals, y_pred_rounded)\n",
    "print(f\"Accuracy: {acc_score*100:.2f}%\")"
   ]
  },
  {
   "cell_type": "code",
   "execution_count": 54,
   "id": "45a725e4-c61b-4e48-8479-0e1d71ed4b2f",
   "metadata": {},
   "outputs": [],
   "source": [
    "# Get feature importances from the trained model\n",
    "feature_importances = rf.feature_importances_"
   ]
  },
  {
   "cell_type": "code",
   "execution_count": 59,
   "id": "c76ea585-6b0d-48b4-9524-b6452faeaeb4",
   "metadata": {},
   "outputs": [
    {
     "data": {
      "text/plain": [
       "<BarContainer object of 56 artists>"
      ]
     },
     "execution_count": 59,
     "metadata": {},
     "output_type": "execute_result"
    },
    {
     "data": {
      "image/png": "[encoded data removed]",
      "text/plain": [
       "<Figure size 640x480 with 1 Axes>"
      ]
     },
     "metadata": {},
     "output_type": "display_data"
    }
   ],
   "source": [
    "plt.bar(range(X.shape[1]), feature_importances)"
   ]
  },
  {
   "cell_type": "code",
   "execution_count": null,
   "id": "5ccd789f-402a-4dc5-b54d-76f7ab0e138a",
   "metadata": {},
   "outputs": [],
   "source": []
  },
  {
   "cell_type": "markdown",
   "id": "276bd57b-b7f9-4a30-91f3-ca8b5025ff15",
   "metadata": {
    "jp-MarkdownHeadingCollapsed": true
   },
   "source": [
    "#### Tune parameters"
   ]
  },
  {
   "cell_type": "code",
   "execution_count": 77,
   "id": "7f7efc0c-651e-44ac-aa10-70a69e47c7d1",
   "metadata": {},
   "outputs": [],
   "source": [
    "param_grid = {\n",
    "    'n_estimators': [150,200],  # Num trees in the forest\n",
    "    'max_depth': [None],  # Max depth of the trees\n",
    "    'min_samples_leaf': [2],  # Min number of samples required to split a node\n",
    "    'min_samples_split': [2],  # Min number of samples required to split a node\n",
    "    'max_features': [0.9]\n",
    "}"
   ]
  },
  {
   "cell_type": "code",
   "execution_count": 78,
   "id": "700bd518-8040-445b-bcb2-bd5e5fad2baa",
   "metadata": {},
   "outputs": [
    {
     "name": "stdout",
     "output_type": "stream",
     "text": [
      "CPU times: user 27.4 s, sys: 70.9 ms, total: 27.5 s\n",
      "Wall time: 53.1 s\n"
     ]
    },
    {
     "data": {
      "text/html": [
       "<style>#sk-container-id-14 {color: black;background-color: white;}#sk-container-id-14 pre{padding: 0;}#sk-container-id-14 div.sk-toggleable {background-color: white;}#sk-container-id-14 label.sk-toggleable__label {cursor: pointer;display: block;width: 100%;margin-bottom: 0;padding: 0.3em;box-sizing: border-box;text-align: center;}#sk-container-id-14 label.sk-toggleable__label-arrow:before {content: \"▸\";float: left;margin-right: 0.25em;color: #696969;}#sk-container-id-14 label.sk-toggleable__label-arrow:hover:before {color: black;}#sk-container-id-14 div.sk-estimator:hover label.sk-toggleable__label-arrow:before {color: black;}#sk-container-id-14 div.sk-toggleable__content {max-height: 0;max-width: 0;overflow: hidden;text-align: left;background-color: #f0f8ff;}#sk-container-id-14 div.sk-toggleable__content pre {margin: 0.2em;color: black;border-radius: 0.25em;background-color: #f0f8ff;}#sk-container-id-14 input.sk-toggleable__control:checked~div.sk-toggleable__content {max-height: 200px;max-width: 100%;overflow: auto;}#sk-container-id-14 input.sk-toggleable__control:checked~label.sk-toggleable__label-arrow:before {content: \"▾\";}#sk-container-id-14 div.sk-estimator input.sk-toggleable__control:checked~label.sk-toggleable__label {background-color: #d4ebff;}#sk-container-id-14 div.sk-label input.sk-toggleable__control:checked~label.sk-toggleable__label {background-color: #d4ebff;}#sk-container-id-14 input.sk-hidden--visually {border: 0;clip: rect(1px 1px 1px 1px);clip: rect(1px, 1px, 1px, 1px);height: 1px;margin: -1px;overflow: hidden;padding: 0;position: absolute;width: 1px;}#sk-container-id-14 div.sk-estimator {font-family: monospace;background-color: #f0f8ff;border: 1px dotted black;border-radius: 0.25em;box-sizing: border-box;margin-bottom: 0.5em;}#sk-container-id-14 div.sk-estimator:hover {background-color: #d4ebff;}#sk-container-id-14 div.sk-parallel-item::after {content: \"\";width: 100%;border-bottom: 1px solid gray;flex-grow: 1;}#sk-container-id-14 div.sk-label:hover label.sk-toggleable__label {background-color: #d4ebff;}#sk-container-id-14 div.sk-serial::before {content: \"\";position: absolute;border-left: 1px solid gray;box-sizing: border-box;top: 0;bottom: 0;left: 50%;z-index: 0;}#sk-container-id-14 div.sk-serial {display: flex;flex-direction: column;align-items: center;background-color: white;padding-right: 0.2em;padding-left: 0.2em;position: relative;}#sk-container-id-14 div.sk-item {position: relative;z-index: 1;}#sk-container-id-14 div.sk-parallel {display: flex;align-items: stretch;justify-content: center;background-color: white;position: relative;}#sk-container-id-14 div.sk-item::before, #sk-container-id-14 div.sk-parallel-item::before {content: \"\";position: absolute;border-left: 1px solid gray;box-sizing: border-box;top: 0;bottom: 0;left: 50%;z-index: -1;}#sk-container-id-14 div.sk-parallel-item {display: flex;flex-direction: column;z-index: 1;position: relative;background-color: white;}#sk-container-id-14 div.sk-parallel-item:first-child::after {align-self: flex-end;width: 50%;}#sk-container-id-14 div.sk-parallel-item:last-child::after {align-self: flex-start;width: 50%;}#sk-container-id-14 div.sk-parallel-item:only-child::after {width: 0;}#sk-container-id-14 div.sk-dashed-wrapped {border: 1px dashed gray;margin: 0 0.4em 0.5em 0.4em;box-sizing: border-box;padding-bottom: 0.4em;background-color: white;}#sk-container-id-14 div.sk-label label {font-family: monospace;font-weight: bold;display: inline-block;line-height: 1.2em;}#sk-container-id-14 div.sk-label-container {text-align: center;}#sk-container-id-14 div.sk-container {/* jupyter's `normalize.less` sets `[hidden] { display: none; }` but bootstrap.min.css set `[hidden] { display: none !important; }` so we also need the `!important` here to be able to override the default hidden behavior on the sphinx rendered scikit-learn.org. See: https://github.com/scikit-learn/scikit-learn/issues/21755 */display: inline-block !important;position: relative;}#sk-container-id-14 div.sk-text-repr-fallback {display: none;}</style><div id=\"sk-container-id-14\" class=\"sk-top-container\"><div class=\"sk-text-repr-fallback\"><pre>GridSearchCV(cv=5, estimator=RandomForestRegressor(random_state=123), n_jobs=-1,\n",
       "             param_grid={&#x27;max_depth&#x27;: [None], &#x27;max_features&#x27;: [0.9],\n",
       "                         &#x27;min_samples_leaf&#x27;: [2], &#x27;min_samples_split&#x27;: [2],\n",
       "                         &#x27;n_estimators&#x27;: [150, 200]},\n",
       "             scoring=&#x27;neg_mean_squared_error&#x27;)</pre><b>In a Jupyter environment, please rerun this cell to show the HTML representation or trust the notebook. <br />On GitHub, the HTML representation is unable to render, please try loading this page with nbviewer.org.</b></div><div class=\"sk-container\" hidden><div class=\"sk-item sk-dashed-wrapped\"><div class=\"sk-label-container\"><div class=\"sk-label sk-toggleable\"><input class=\"sk-toggleable__control sk-hidden--visually\" id=\"sk-estimator-id-26\" type=\"checkbox\" ><label for=\"sk-estimator-id-26\" class=\"sk-toggleable__label sk-toggleable__label-arrow\">GridSearchCV</label><div class=\"sk-toggleable__content\"><pre>GridSearchCV(cv=5, estimator=RandomForestRegressor(random_state=123), n_jobs=-1,\n",
       "             param_grid={&#x27;max_depth&#x27;: [None], &#x27;max_features&#x27;: [0.9],\n",
       "                         &#x27;min_samples_leaf&#x27;: [2], &#x27;min_samples_split&#x27;: [2],\n",
       "                         &#x27;n_estimators&#x27;: [150, 200]},\n",
       "             scoring=&#x27;neg_mean_squared_error&#x27;)</pre></div></div></div><div class=\"sk-parallel\"><div class=\"sk-parallel-item\"><div class=\"sk-item\"><div class=\"sk-label-container\"><div class=\"sk-label sk-toggleable\"><input class=\"sk-toggleable__control sk-hidden--visually\" id=\"sk-estimator-id-27\" type=\"checkbox\" ><label for=\"sk-estimator-id-27\" class=\"sk-toggleable__label sk-toggleable__label-arrow\">estimator: RandomForestRegressor</label><div class=\"sk-toggleable__content\"><pre>RandomForestRegressor(random_state=123)</pre></div></div></div><div class=\"sk-serial\"><div class=\"sk-item\"><div class=\"sk-estimator sk-toggleable\"><input class=\"sk-toggleable__control sk-hidden--visually\" id=\"sk-estimator-id-28\" type=\"checkbox\" ><label for=\"sk-estimator-id-28\" class=\"sk-toggleable__label sk-toggleable__label-arrow\">RandomForestRegressor</label><div class=\"sk-toggleable__content\"><pre>RandomForestRegressor(random_state=123)</pre></div></div></div></div></div></div></div></div></div></div>"
      ],
      "text/plain": [
       "GridSearchCV(cv=5, estimator=RandomForestRegressor(random_state=123), n_jobs=-1,\n",
       "             param_grid={'max_depth': [None], 'max_features': [0.9],\n",
       "                         'min_samples_leaf': [2], 'min_samples_split': [2],\n",
       "                         'n_estimators': [150, 200]},\n",
       "             scoring='neg_mean_squared_error')"
      ]
     },
     "execution_count": 78,
     "metadata": {},
     "output_type": "execute_result"
    }
   ],
   "source": [
    "%%time\n",
    "\n",
    "grid_search = GridSearchCV(rf, param_grid, cv=5, scoring='neg_mean_squared_error', n_jobs=-1)\n",
    "grid_search.fit(X_train, y_train)"
   ]
  },
  {
   "cell_type": "code",
   "execution_count": 79,
   "id": "2faebd16-d18f-49ff-8648-01660351aa06",
   "metadata": {},
   "outputs": [
    {
     "data": {
      "text/plain": [
       "{'bootstrap': True,\n",
       " 'ccp_alpha': 0.0,\n",
       " 'criterion': 'squared_error',\n",
       " 'max_depth': None,\n",
       " 'max_features': 0.9,\n",
       " 'max_leaf_nodes': None,\n",
       " 'max_samples': None,\n",
       " 'min_impurity_decrease': 0.0,\n",
       " 'min_samples_leaf': 2,\n",
       " 'min_samples_split': 2,\n",
       " 'min_weight_fraction_leaf': 0.0,\n",
       " 'n_estimators': 200,\n",
       " 'n_jobs': None,\n",
       " 'oob_score': False,\n",
       " 'random_state': 123,\n",
       " 'verbose': 0,\n",
       " 'warm_start': False}"
      ]
     },
     "execution_count": 79,
     "metadata": {},
     "output_type": "execute_result"
    }
   ],
   "source": [
    "grid_search.best_estimator_.get_params()"
   ]
  },
  {
   "cell_type": "code",
   "execution_count": 66,
   "id": "713f70e1-a1e2-4372-93be-64caa6f55d25",
   "metadata": {},
   "outputs": [],
   "source": [
    "# rf.get_params()"
   ]
  },
  {
   "cell_type": "markdown",
   "id": "5999faf9-3bd2-46f0-98ad-c115a27ddde4",
   "metadata": {
    "jp-MarkdownHeadingCollapsed": true
   },
   "source": [
    "#### Train tuned model"
   ]
  },
  {
   "cell_type": "code",
   "execution_count": null,
   "id": "6a7b8f1e-e1ea-4cf3-9300-4191eaa3d02d",
   "metadata": {},
   "outputs": [],
   "source": [
    "# Initialize the RandomForestRegressor\n",
    "rf = RandomForestRegressor(n_estimators=100, \n",
    "                           max_depth=None,\n",
    "                           min_samples_leaf=2,\n",
    "                           min_samples_split=2,\n",
    "                           max_features=0.9,\n",
    "                           random_state=123)"
   ]
  },
  {
   "cell_type": "code",
   "execution_count": null,
   "id": "9da1e832-e140-454a-8e75-c09394b4fe80",
   "metadata": {},
   "outputs": [],
   "source": [
    "# Train the model on training data\n",
    "rf.fit(X_train, y_train)"
   ]
  },
  {
   "cell_type": "code",
   "execution_count": null,
   "id": "a3642302-980b-4f5d-a6eb-6965f8d7dc89",
   "metadata": {},
   "outputs": [],
   "source": [
    "# Predict on the testing set\n",
    "y_pred = rf.predict(X_test)"
   ]
  },
  {
   "cell_type": "code",
   "execution_count": null,
   "id": "eb5769d2-6a5f-4313-bbe1-43d1906a549d",
   "metadata": {},
   "outputs": [],
   "source": [
    "mse = mean_squared_error(actuals, y_pred)\n",
    "print(f\"Mean Squared Error: {mse}\")\n",
    "\n",
    "y_pred_rounded = np.round(y_pred)\n",
    "acc_score = accuracy_score(actuals, y_pred_rounded)\n",
    "print(f\"Accuracy: {acc_score*100:.2f}%\")"
   ]
  },
  {
   "cell_type": "code",
   "execution_count": null,
   "id": "50789275-36bb-40bf-931c-ba882db123ca",
   "metadata": {},
   "outputs": [],
   "source": []
  },
  {
   "cell_type": "markdown",
   "id": "f0049dd0-518c-4909-92ce-403638d2a3e5",
   "metadata": {},
   "source": [
    "### sklearn GLM model"
   ]
  },
  {
   "cell_type": "code",
   "execution_count": null,
   "id": "72b8d97d-fe8a-41af-970c-5b5441f27133",
   "metadata": {},
   "outputs": [],
   "source": []
  },
  {
   "cell_type": "markdown",
   "id": "66ecad2f-7a24-4d2f-892d-838aeff20b72",
   "metadata": {},
   "source": [
    "### xgboost model"
   ]
  },
  {
   "cell_type": "code",
   "execution_count": null,
   "id": "806baca9-e906-4736-b37c-c6d67dc79308",
   "metadata": {},
   "outputs": [],
   "source": []
  }
 ],
 "metadata": {
  "kernelspec": {
   "display_name": "Python 3 (ipykernel)",
   "language": "python",
   "name": "python3"
  },
  "language_info": {
   "codemirror_mode": {
    "name": "ipython",
    "version": 3
   },
   "file_extension": ".py",
   "mimetype": "text/x-python",
   "name": "python",
   "nbconvert_exporter": "python",
   "pygments_lexer": "ipython3",
   "version": "3.11.8"
  }
 },
 "nbformat": 4,
 "nbformat_minor": 5
}
