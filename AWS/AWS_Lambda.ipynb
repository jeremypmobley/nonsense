{
 "cells": [
  {
   "cell_type": "markdown",
   "id": "2bd18540",
   "metadata": {},
   "source": [
    "# AWS Lambda\n",
    "\n",
    "AWS docs:  \n",
    "https://docs.aws.amazon.com/lambda/latest/dg/welcome.html\n",
    "\n",
    "boto3 docs:  \n",
    "https://boto3.amazonaws.com/v1/documentation/api/latest/reference/services/lambda.html"
   ]
  },
  {
   "cell_type": "code",
   "execution_count": 1,
   "id": "43a0b6d8",
   "metadata": {},
   "outputs": [],
   "source": [
    "import boto3"
   ]
  },
  {
   "cell_type": "code",
   "execution_count": null,
   "id": "be29c683",
   "metadata": {},
   "outputs": [],
   "source": [
    "lambda_client = boto3.client('lambda')"
   ]
  },
  {
   "cell_type": "code",
   "execution_count": null,
   "id": "6f64aac5",
   "metadata": {},
   "outputs": [],
   "source": [
    "test_event = dict()\n",
    "\n",
    "response = lambda_client.invoke(\n",
    "  FunctionName='helloWorldLambda',\n",
    "  Payload=json.dumps(test_event),\n",
    ")"
   ]
  },
  {
   "cell_type": "code",
   "execution_count": null,
   "id": "73b73190",
   "metadata": {},
   "outputs": [],
   "source": [
    "region = 'us-east-1'\n",
    "session = boto3.Session(region_name=region) \n",
    "forecast = session.client(service_name='forecast')\n",
    "forecastquery = session.client(service_name='forecastquery')\n",
    "\n",
    "# Checking to make sure we can communicate with Amazon Forecast\n",
    "assert forecast.list_predictors()"
   ]
  }
 ],
 "metadata": {
  "kernelspec": {
   "display_name": "Python 3",
   "language": "python",
   "name": "python3"
  },
  "language_info": {
   "codemirror_mode": {
    "name": "ipython",
    "version": 3
   },
   "file_extension": ".py",
   "mimetype": "text/x-python",
   "name": "python",
   "nbconvert_exporter": "python",
   "pygments_lexer": "ipython3",
   "version": "3.8.8"
  }
 },
 "nbformat": 4,
 "nbformat_minor": 5
}
