{
 "cells": [
  {
   "cell_type": "markdown",
   "id": "0d3ee59d",
   "metadata": {},
   "source": [
    "# AWS Cost Explorer\n",
    "\n",
    "## ALERT: The AWS Cost Explorer API lets you directly access the interactive, ad-hoc query engine that powers AWS Cost Explorer. Each request will incur a cost of $0.01.\n",
    "\n",
    "\n",
    "AWS docs:  \n",
    "https://docs.aws.amazon.com/account-billing/\n",
    "\n",
    "Pricing:\n",
    "https://aws.amazon.com/aws-cost-management/pricing/\n",
    "\n",
    "boto3 docs:  \n",
    "https://boto3.amazonaws.com/v1/documentation/api/latest/reference/services/ce.html"
   ]
  },
  {
   "cell_type": "code",
   "execution_count": 1,
   "id": "fb0ab64b",
   "metadata": {},
   "outputs": [],
   "source": [
    "import boto3"
   ]
  },
  {
   "cell_type": "code",
   "execution_count": 2,
   "id": "02fc7a0a",
   "metadata": {},
   "outputs": [],
   "source": [
    "client = boto3.client('ce')"
   ]
  },
  {
   "cell_type": "code",
   "execution_count": 7,
   "id": "5719f626",
   "metadata": {},
   "outputs": [],
   "source": [
    "response = client.get_cost_and_usage(\n",
    "    TimePeriod={\n",
    "        'Start': '2022-07-01',\n",
    "        'End': '2022-07-14'\n",
    "    },\n",
    "    Granularity='DAILY',\n",
    "    Filter={\n",
    "        'Dimensions': {\n",
    "            'Key': 'SERVICE',\n",
    "            'Values': [\n",
    "                'Polly',\n",
    "            ],\n",
    "        },\n",
    "    },\n",
    "    Metrics=[\n",
    "        'USAGE_QUANTITY',\n",
    "    ],\n",
    ")"
   ]
  },
  {
   "cell_type": "code",
   "execution_count": 8,
   "id": "85957d58",
   "metadata": {},
   "outputs": [
    {
     "data": {
      "text/plain": [
       "{'ResultsByTime': [{'TimePeriod': {'Start': '2022-07-01', 'End': '2022-07-02'},\n",
       "   'Total': {'UsageQuantity': {'Amount': '0', 'Unit': 'N/A'}},\n",
       "   'Groups': [],\n",
       "   'Estimated': True},\n",
       "  {'TimePeriod': {'Start': '2022-07-02', 'End': '2022-07-03'},\n",
       "   'Total': {'UsageQuantity': {'Amount': '0', 'Unit': 'N/A'}},\n",
       "   'Groups': [],\n",
       "   'Estimated': True},\n",
       "  {'TimePeriod': {'Start': '2022-07-03', 'End': '2022-07-04'},\n",
       "   'Total': {'UsageQuantity': {'Amount': '0', 'Unit': 'N/A'}},\n",
       "   'Groups': [],\n",
       "   'Estimated': True},\n",
       "  {'TimePeriod': {'Start': '2022-07-04', 'End': '2022-07-05'},\n",
       "   'Total': {'UsageQuantity': {'Amount': '0', 'Unit': 'N/A'}},\n",
       "   'Groups': [],\n",
       "   'Estimated': True},\n",
       "  {'TimePeriod': {'Start': '2022-07-05', 'End': '2022-07-06'},\n",
       "   'Total': {'UsageQuantity': {'Amount': '0', 'Unit': 'N/A'}},\n",
       "   'Groups': [],\n",
       "   'Estimated': True},\n",
       "  {'TimePeriod': {'Start': '2022-07-06', 'End': '2022-07-07'},\n",
       "   'Total': {'UsageQuantity': {'Amount': '0', 'Unit': 'N/A'}},\n",
       "   'Groups': [],\n",
       "   'Estimated': True},\n",
       "  {'TimePeriod': {'Start': '2022-07-07', 'End': '2022-07-08'},\n",
       "   'Total': {'UsageQuantity': {'Amount': '0', 'Unit': 'N/A'}},\n",
       "   'Groups': [],\n",
       "   'Estimated': True},\n",
       "  {'TimePeriod': {'Start': '2022-07-08', 'End': '2022-07-09'},\n",
       "   'Total': {'UsageQuantity': {'Amount': '0', 'Unit': 'N/A'}},\n",
       "   'Groups': [],\n",
       "   'Estimated': True},\n",
       "  {'TimePeriod': {'Start': '2022-07-09', 'End': '2022-07-10'},\n",
       "   'Total': {'UsageQuantity': {'Amount': '0', 'Unit': 'N/A'}},\n",
       "   'Groups': [],\n",
       "   'Estimated': True},\n",
       "  {'TimePeriod': {'Start': '2022-07-10', 'End': '2022-07-11'},\n",
       "   'Total': {'UsageQuantity': {'Amount': '0', 'Unit': 'N/A'}},\n",
       "   'Groups': [],\n",
       "   'Estimated': True},\n",
       "  {'TimePeriod': {'Start': '2022-07-11', 'End': '2022-07-12'},\n",
       "   'Total': {'UsageQuantity': {'Amount': '0', 'Unit': 'N/A'}},\n",
       "   'Groups': [],\n",
       "   'Estimated': True},\n",
       "  {'TimePeriod': {'Start': '2022-07-12', 'End': '2022-07-13'},\n",
       "   'Total': {'UsageQuantity': {'Amount': '0', 'Unit': 'N/A'}},\n",
       "   'Groups': [],\n",
       "   'Estimated': True},\n",
       "  {'TimePeriod': {'Start': '2022-07-13', 'End': '2022-07-14'},\n",
       "   'Total': {'UsageQuantity': {'Amount': '0', 'Unit': 'N/A'}},\n",
       "   'Groups': [],\n",
       "   'Estimated': True}],\n",
       " 'DimensionValueAttributes': [],\n",
       " 'ResponseMetadata': {'RequestId': '0571a3d2-70df-4661-8673-16532ef516ee',\n",
       "  'HTTPStatusCode': 200,\n",
       "  'HTTPHeaders': {'date': 'Thu, 14 Jul 2022 16:48:45 GMT',\n",
       "   'content-type': 'application/x-amz-json-1.1',\n",
       "   'content-length': '1869',\n",
       "   'connection': 'keep-alive',\n",
       "   'x-amzn-requestid': '0571a3d2-70df-4661-8673-16532ef516ee',\n",
       "   'cache-control': 'no-cache'},\n",
       "  'RetryAttempts': 0}}"
      ]
     },
     "execution_count": 8,
     "metadata": {},
     "output_type": "execute_result"
    }
   ],
   "source": [
    "response"
   ]
  },
  {
   "cell_type": "code",
   "execution_count": 16,
   "id": "c61b515e",
   "metadata": {},
   "outputs": [
    {
     "ename": "ClientError",
     "evalue": "An error occurred (ValidationException) when calling the ListCostCategoryDefinitions operation: 2 validation errors detected: Value 'Thu, 7 Jul 2022 16:48:45 GMT' at 'effectiveOn' failed to satisfy constraint: Member must have length less than or equal to 25; Value 'Thu, 7 Jul 2022 16:48:45 GMT' at 'effectiveOn' failed to satisfy constraint: Member must satisfy regular expression pattern: ^\\d{4}-\\d\\d-\\d\\dT\\d\\d:\\d\\d:\\d\\d(([+-]\\d\\d:\\d\\d)|Z)$",
     "output_type": "error",
     "traceback": [
      "\u001b[1;31m---------------------------------------------------------------------------\u001b[0m",
      "\u001b[1;31mClientError\u001b[0m                               Traceback (most recent call last)",
      "\u001b[1;32m<ipython-input-16-a5bf24ae75da>\u001b[0m in \u001b[0;36m<module>\u001b[1;34m\u001b[0m\n\u001b[1;32m----> 1\u001b[1;33m response = client.list_cost_category_definitions(\n\u001b[0m\u001b[0;32m      2\u001b[0m     \u001b[0mEffectiveOn\u001b[0m\u001b[1;33m=\u001b[0m\u001b[1;34m'Thu, 7 Jul 2022 16:48:45 GMT'\u001b[0m\u001b[1;33m,\u001b[0m\u001b[1;33m\u001b[0m\u001b[1;33m\u001b[0m\u001b[0m\n\u001b[0;32m      3\u001b[0m     \u001b[0mMaxResults\u001b[0m\u001b[1;33m=\u001b[0m\u001b[1;36m12\u001b[0m\u001b[1;33m\u001b[0m\u001b[1;33m\u001b[0m\u001b[0m\n\u001b[0;32m      4\u001b[0m )\n",
      "\u001b[1;32m~\\anaconda3\\lib\\site-packages\\botocore\\client.py\u001b[0m in \u001b[0;36m_api_call\u001b[1;34m(self, *args, **kwargs)\u001b[0m\n\u001b[0;32m    399\u001b[0m                     \"%s() only accepts keyword arguments.\" % py_operation_name)\n\u001b[0;32m    400\u001b[0m             \u001b[1;31m# The \"self\" in this scope is referring to the BaseClient.\u001b[0m\u001b[1;33m\u001b[0m\u001b[1;33m\u001b[0m\u001b[1;33m\u001b[0m\u001b[0m\n\u001b[1;32m--> 401\u001b[1;33m             \u001b[1;32mreturn\u001b[0m \u001b[0mself\u001b[0m\u001b[1;33m.\u001b[0m\u001b[0m_make_api_call\u001b[0m\u001b[1;33m(\u001b[0m\u001b[0moperation_name\u001b[0m\u001b[1;33m,\u001b[0m \u001b[0mkwargs\u001b[0m\u001b[1;33m)\u001b[0m\u001b[1;33m\u001b[0m\u001b[1;33m\u001b[0m\u001b[0m\n\u001b[0m\u001b[0;32m    402\u001b[0m \u001b[1;33m\u001b[0m\u001b[0m\n\u001b[0;32m    403\u001b[0m         \u001b[0m_api_call\u001b[0m\u001b[1;33m.\u001b[0m\u001b[0m__name__\u001b[0m \u001b[1;33m=\u001b[0m \u001b[0mstr\u001b[0m\u001b[1;33m(\u001b[0m\u001b[0mpy_operation_name\u001b[0m\u001b[1;33m)\u001b[0m\u001b[1;33m\u001b[0m\u001b[1;33m\u001b[0m\u001b[0m\n",
      "\u001b[1;32m~\\anaconda3\\lib\\site-packages\\botocore\\client.py\u001b[0m in \u001b[0;36m_make_api_call\u001b[1;34m(self, operation_name, api_params)\u001b[0m\n\u001b[0;32m    729\u001b[0m             \u001b[0merror_code\u001b[0m \u001b[1;33m=\u001b[0m \u001b[0mparsed_response\u001b[0m\u001b[1;33m.\u001b[0m\u001b[0mget\u001b[0m\u001b[1;33m(\u001b[0m\u001b[1;34m\"Error\"\u001b[0m\u001b[1;33m,\u001b[0m \u001b[1;33m{\u001b[0m\u001b[1;33m}\u001b[0m\u001b[1;33m)\u001b[0m\u001b[1;33m.\u001b[0m\u001b[0mget\u001b[0m\u001b[1;33m(\u001b[0m\u001b[1;34m\"Code\"\u001b[0m\u001b[1;33m)\u001b[0m\u001b[1;33m\u001b[0m\u001b[1;33m\u001b[0m\u001b[0m\n\u001b[0;32m    730\u001b[0m             \u001b[0merror_class\u001b[0m \u001b[1;33m=\u001b[0m \u001b[0mself\u001b[0m\u001b[1;33m.\u001b[0m\u001b[0mexceptions\u001b[0m\u001b[1;33m.\u001b[0m\u001b[0mfrom_code\u001b[0m\u001b[1;33m(\u001b[0m\u001b[0merror_code\u001b[0m\u001b[1;33m)\u001b[0m\u001b[1;33m\u001b[0m\u001b[1;33m\u001b[0m\u001b[0m\n\u001b[1;32m--> 731\u001b[1;33m             \u001b[1;32mraise\u001b[0m \u001b[0merror_class\u001b[0m\u001b[1;33m(\u001b[0m\u001b[0mparsed_response\u001b[0m\u001b[1;33m,\u001b[0m \u001b[0moperation_name\u001b[0m\u001b[1;33m)\u001b[0m\u001b[1;33m\u001b[0m\u001b[1;33m\u001b[0m\u001b[0m\n\u001b[0m\u001b[0;32m    732\u001b[0m         \u001b[1;32melse\u001b[0m\u001b[1;33m:\u001b[0m\u001b[1;33m\u001b[0m\u001b[1;33m\u001b[0m\u001b[0m\n\u001b[0;32m    733\u001b[0m             \u001b[1;32mreturn\u001b[0m \u001b[0mparsed_response\u001b[0m\u001b[1;33m\u001b[0m\u001b[1;33m\u001b[0m\u001b[0m\n",
      "\u001b[1;31mClientError\u001b[0m: An error occurred (ValidationException) when calling the ListCostCategoryDefinitions operation: 2 validation errors detected: Value 'Thu, 7 Jul 2022 16:48:45 GMT' at 'effectiveOn' failed to satisfy constraint: Member must have length less than or equal to 25; Value 'Thu, 7 Jul 2022 16:48:45 GMT' at 'effectiveOn' failed to satisfy constraint: Member must satisfy regular expression pattern: ^\\d{4}-\\d\\d-\\d\\dT\\d\\d:\\d\\d:\\d\\d(([+-]\\d\\d:\\d\\d)|Z)$"
     ]
    }
   ],
   "source": [
    "response = client.list_cost_category_definitions(\n",
    "    EffectiveOn='Thu, 7 Jul 2022 16:48:45 GMT',\n",
    "    MaxResults=12\n",
    ")"
   ]
  },
  {
   "cell_type": "code",
   "execution_count": null,
   "id": "b49491af",
   "metadata": {},
   "outputs": [],
   "source": []
  }
 ],
 "metadata": {
  "kernelspec": {
   "display_name": "Python 3",
   "language": "python",
   "name": "python3"
  },
  "language_info": {
   "codemirror_mode": {
    "name": "ipython",
    "version": 3
   },
   "file_extension": ".py",
   "mimetype": "text/x-python",
   "name": "python",
   "nbconvert_exporter": "python",
   "pygments_lexer": "ipython3",
   "version": "3.8.8"
  }
 },
 "nbformat": 4,
 "nbformat_minor": 5
}
