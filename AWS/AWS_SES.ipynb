{
 "cells": [
  {
   "cell_type": "markdown",
   "id": "6865e594",
   "metadata": {},
   "source": [
    "# AWS SES\n",
    "\n",
    "boto3 docs:  \n",
    "https://boto3.amazonaws.com/v1/documentation/api/latest/reference/services/ses.html\n",
    "\n",
    "AWS docs:  \n",
    "https://docs.aws.amazon.com/ses/latest/dg/Welcome.html"
   ]
  },
  {
   "cell_type": "code",
   "execution_count": 1,
   "id": "90fea102",
   "metadata": {},
   "outputs": [],
   "source": [
    "import boto3"
   ]
  },
  {
   "cell_type": "code",
   "execution_count": 4,
   "id": "ff494cb2",
   "metadata": {},
   "outputs": [],
   "source": [
    "client = boto3.client('ses', region_name='us-east-2')"
   ]
  },
  {
   "cell_type": "code",
   "execution_count": 7,
   "id": "ca96d809",
   "metadata": {},
   "outputs": [
    {
     "data": {
      "text/plain": [
       "{'Identities': ['jeremypmobley@gmail.com'],\n",
       " 'ResponseMetadata': {'RequestId': '0b6d4677-d102-4f91-b632-99d9fb034674',\n",
       "  'HTTPStatusCode': 200,\n",
       "  'HTTPHeaders': {'date': 'Wed, 20 Jul 2022 16:04:30 GMT',\n",
       "   'content-type': 'text/xml',\n",
       "   'content-length': '340',\n",
       "   'connection': 'keep-alive',\n",
       "   'x-amzn-requestid': '0b6d4677-d102-4f91-b632-99d9fb034674'},\n",
       "  'RetryAttempts': 0}}"
      ]
     },
     "execution_count": 7,
     "metadata": {},
     "output_type": "execute_result"
    }
   ],
   "source": [
    "client.list_identities()"
   ]
  },
  {
   "cell_type": "code",
   "execution_count": 13,
   "id": "881e1699",
   "metadata": {},
   "outputs": [],
   "source": [
    "response = client.send_email(\n",
    "    Source = 'jeremypmobley@gmail.com',\n",
    "    Destination = {'ToAddresses': ['jeremypmobley@gmail.com']},\n",
    "    Message={\n",
    "        'Subject': {\n",
    "            'Data': 'Test message subject',\n",
    "            'Charset': 'UTF-8'\n",
    "        },\n",
    "        'Body': {\n",
    "            'Text': {\n",
    "                'Data': 'Test message body',\n",
    "                'Charset': 'UTF-8'\n",
    "            },\n",
    "            'Html': {\n",
    "                'Data': 'TEST message HTML',\n",
    "                'Charset': 'UTF-8'\n",
    "            }\n",
    "        }\n",
    "    }\n",
    ")"
   ]
  },
  {
   "cell_type": "code",
   "execution_count": null,
   "id": "e31d458c",
   "metadata": {},
   "outputs": [],
   "source": []
  }
 ],
 "metadata": {
  "kernelspec": {
   "display_name": "Python 3",
   "language": "python",
   "name": "python3"
  },
  "language_info": {
   "codemirror_mode": {
    "name": "ipython",
    "version": 3
   },
   "file_extension": ".py",
   "mimetype": "text/x-python",
   "name": "python",
   "nbconvert_exporter": "python",
   "pygments_lexer": "ipython3",
   "version": "3.8.8"
  }
 },
 "nbformat": 4,
 "nbformat_minor": 5
}
