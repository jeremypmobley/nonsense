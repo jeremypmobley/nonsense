{
 "cells": [
  {
   "cell_type": "markdown",
   "id": "8e93e7e6",
   "metadata": {},
   "source": [
    "# AWS Polly\n",
    "\n",
    "AWS Polly UI:  \n",
    "https://us-east-2.console.aws.amazon.com/polly/home/\n",
    "\n",
    "AWS docs:  \n",
    "https://docs.aws.amazon.com/polly/index.html\n",
    "\n",
    "boto3 docs:  \n",
    "https://boto3.amazonaws.com/v1/documentation/api/latest/reference/services/polly.html"
   ]
  },
  {
   "cell_type": "code",
   "execution_count": 1,
   "id": "3182e1d3",
   "metadata": {},
   "outputs": [],
   "source": [
    "import boto3\n",
    "import os"
   ]
  },
  {
   "cell_type": "code",
   "execution_count": 2,
   "id": "1a43db2f",
   "metadata": {},
   "outputs": [],
   "source": [
    "polly = boto3.client('polly', region_name = 'us-east-1')"
   ]
  },
  {
   "cell_type": "code",
   "execution_count": 45,
   "id": "6e6970fa",
   "metadata": {},
   "outputs": [],
   "source": [
    "def listen_to_text(text_str: str, polly_client, verbose:bool=True) -> None:\n",
    "    \"\"\" Function to utilize Polly service to translate text to speech for given text string and play file locally\n",
    "    Downloads speech.mp3 file locally, opens mp3 player and plays file\n",
    "    \n",
    "    :input: text_str: string\n",
    "    :input: polly_client: boto3.client('polly')\n",
    "    :return: None\n",
    "    \"\"\"\n",
    "    polly_cost_per_character = 19.20 / 1000000\n",
    "    len_of_text_str = len(text_str)\n",
    "    if verbose:\n",
    "        print(f'Characters in text string: {len_of_text_str}')\n",
    "        print(f'Cost to read this text: $ {len_of_text_str * polly_cost_per_character}')\n",
    "\n",
    "    # Only strings < 3000 characters are allowed at a time\n",
    "    # TODO: implement chunking for longer strings\n",
    "    if len_of_text_str>2999:\n",
    "        raise('Text string too long')\n",
    "\n",
    "    # Pass text string to Polly client\n",
    "    response = polly_client.synthesize_speech(VoiceId='Matthew',\n",
    "                OutputFormat='mp3', \n",
    "                Text = text_str,\n",
    "                Engine = 'neural')\n",
    "    # Convert audtio strem response to local mp3 file\n",
    "    file = open('speech.mp3', 'wb')\n",
    "    file.write(response['AudioStream'].read())\n",
    "    file.close()\n",
    "    \n",
    "    # Play file locally (Windows)\n",
    "    os.startfile('speech.mp3')"
   ]
  },
  {
   "cell_type": "code",
   "execution_count": 46,
   "id": "eb165789",
   "metadata": {},
   "outputs": [],
   "source": [
    "text_to_listen_to = \"\"\"\n",
    "\n",
    "You could try to play Railroad Tycoon 2 without building your own company, and instead just invest in computer players’ companies. But even then, with your strong knowledge of which routes are profitable, you could lever up and invest in the right companies fairly easily.\n",
    "\n",
    "The replayability of games means you eventually learn the parameters of the world you’re given, and you get chances to do things over. And in a world with do-overs, the best investing strategy really is to mortgage your house in 2012 to put all your money in call options on Netflix, Facebook, and Tesla. You know, like a lunatic on reddit.\n",
    "\n",
    "But the beauty and the difficulty of investing in real life is that you don’t get to go back in time. You’re actually there in the moment, where lots of people are saying that the Facebook IPO is evidence of tech bubble 2.0, and a $100 billion market cap sure seems like a lot of money for a company that only maybe can sell a few ads. The parameters of your world are forever changing and finding the right way to evaluate them is incredibly difficult, except⁠—uselessly⁠—in retrospect.\n",
    "\n",
    "\"\"\""
   ]
  },
  {
   "cell_type": "code",
   "execution_count": 47,
   "id": "36bfe283",
   "metadata": {},
   "outputs": [
    {
     "name": "stdout",
     "output_type": "stream",
     "text": [
      "Characters in text string: 1107\n",
      "Cost to read this text: $ 0.0212544\n"
     ]
    }
   ],
   "source": [
    "listen_to_text(text_str = text_to_listen_to, \n",
    "               polly_client = polly)"
   ]
  },
  {
   "cell_type": "code",
   "execution_count": null,
   "id": "c53fd1fc",
   "metadata": {},
   "outputs": [],
   "source": []
  },
  {
   "cell_type": "code",
   "execution_count": null,
   "id": "913c98b1",
   "metadata": {},
   "outputs": [],
   "source": []
  },
  {
   "cell_type": "code",
   "execution_count": null,
   "id": "0da6d752",
   "metadata": {},
   "outputs": [],
   "source": []
  },
  {
   "cell_type": "code",
   "execution_count": null,
   "id": "52c30ac2",
   "metadata": {},
   "outputs": [],
   "source": []
  }
 ],
 "metadata": {
  "kernelspec": {
   "display_name": "Python 3",
   "language": "python",
   "name": "python3"
  },
  "language_info": {
   "codemirror_mode": {
    "name": "ipython",
    "version": 3
   },
   "file_extension": ".py",
   "mimetype": "text/x-python",
   "name": "python",
   "nbconvert_exporter": "python",
   "pygments_lexer": "ipython3",
   "version": "3.8.8"
  }
 },
 "nbformat": 4,
 "nbformat_minor": 5
}
