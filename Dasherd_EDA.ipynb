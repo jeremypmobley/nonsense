{
 "cells": [
  {
   "cell_type": "markdown",
   "id": "9452358f",
   "metadata": {},
   "source": [
    "# Dasherd EDA\n",
    "\n",
    "polygon.io docs:  \n",
    "https://polygon.io/docs/options/getting-started"
   ]
  },
  {
   "cell_type": "code",
   "execution_count": 1,
   "id": "6fae1d1b",
   "metadata": {},
   "outputs": [],
   "source": [
    "import pandas as pd\n",
    "import numpy as np\n",
    "from datetime import datetime, timedelta\n",
    "import time\n",
    "\n",
    "from polygon import RESTClient"
   ]
  },
  {
   "cell_type": "code",
   "execution_count": 2,
   "id": "11430bc0",
   "metadata": {},
   "outputs": [],
   "source": [
    "polygon_io_password = 'MDJr2zORlZBkgpCAlo_RpbjvbeFQmxJ1'"
   ]
  },
  {
   "cell_type": "code",
   "execution_count": 3,
   "id": "98de5120",
   "metadata": {},
   "outputs": [],
   "source": [
    "client = RESTClient(polygon_io_password)"
   ]
  },
  {
   "cell_type": "code",
   "execution_count": 101,
   "id": "ecb0f15b",
   "metadata": {},
   "outputs": [
    {
     "data": {
      "text/plain": [
       "<polygon.rest.RESTClient at 0x2c485ca3d30>"
      ]
     },
     "execution_count": 101,
     "metadata": {},
     "output_type": "execute_result"
    }
   ],
   "source": [
    "client"
   ]
  },
  {
   "cell_type": "code",
   "execution_count": 5,
   "id": "6c281f76",
   "metadata": {},
   "outputs": [
    {
     "data": {
      "text/plain": [
       "11"
      ]
     },
     "execution_count": 5,
     "metadata": {},
     "output_type": "execute_result"
    }
   ],
   "source": [
    "stock_symbols = [\n",
    "    'TSLA'\n",
    "    , 'QQQ'\n",
    "    , 'AAPL'\n",
    "    , 'NVDA'\n",
    "    , 'AMD'\n",
    "    , 'AMZN'\n",
    "    , 'MSFT'\n",
    "    , 'NFLX'\n",
    "    , 'META'\n",
    "    , 'GOOGL'\n",
    "    , 'T'\n",
    "]\n",
    "len(stock_symbols)"
   ]
  },
  {
   "cell_type": "markdown",
   "id": "4d6ac2a7",
   "metadata": {},
   "source": [
    "## Get stock prices for target dates"
   ]
  },
  {
   "cell_type": "code",
   "execution_count": 140,
   "id": "039accf0",
   "metadata": {},
   "outputs": [
    {
     "data": {
      "text/html": [
       "<div>\n",
       "<style scoped>\n",
       "    .dataframe tbody tr th:only-of-type {\n",
       "        vertical-align: middle;\n",
       "    }\n",
       "\n",
       "    .dataframe tbody tr th {\n",
       "        vertical-align: top;\n",
       "    }\n",
       "\n",
       "    .dataframe thead th {\n",
       "        text-align: right;\n",
       "    }\n",
       "</style>\n",
       "<table border=\"1\" class=\"dataframe\">\n",
       "  <thead>\n",
       "    <tr style=\"text-align: right;\">\n",
       "      <th></th>\n",
       "      <th>open</th>\n",
       "      <th>high</th>\n",
       "      <th>low</th>\n",
       "      <th>close</th>\n",
       "      <th>volume</th>\n",
       "      <th>vwap</th>\n",
       "      <th>timestamp</th>\n",
       "      <th>transactions</th>\n",
       "      <th>otc</th>\n",
       "      <th>ticker</th>\n",
       "    </tr>\n",
       "  </thead>\n",
       "  <tbody>\n",
       "    <tr>\n",
       "      <th>0</th>\n",
       "      <td>394.00</td>\n",
       "      <td>406.9799</td>\n",
       "      <td>392.3000</td>\n",
       "      <td>400.51</td>\n",
       "      <td>29021118.0</td>\n",
       "      <td>398.6073</td>\n",
       "      <td>1604293200000</td>\n",
       "      <td>512507</td>\n",
       "      <td>None</td>\n",
       "      <td>TSLA</td>\n",
       "    </tr>\n",
       "    <tr>\n",
       "      <th>1</th>\n",
       "      <td>409.73</td>\n",
       "      <td>427.7700</td>\n",
       "      <td>406.6900</td>\n",
       "      <td>423.90</td>\n",
       "      <td>34333350.0</td>\n",
       "      <td>420.6331</td>\n",
       "      <td>1604379600000</td>\n",
       "      <td>607840</td>\n",
       "      <td>None</td>\n",
       "      <td>TSLA</td>\n",
       "    </tr>\n",
       "    <tr>\n",
       "      <th>2</th>\n",
       "      <td>430.62</td>\n",
       "      <td>435.4000</td>\n",
       "      <td>417.1000</td>\n",
       "      <td>420.98</td>\n",
       "      <td>32143057.0</td>\n",
       "      <td>423.7291</td>\n",
       "      <td>1604466000000</td>\n",
       "      <td>574859</td>\n",
       "      <td>None</td>\n",
       "      <td>TSLA</td>\n",
       "    </tr>\n",
       "    <tr>\n",
       "      <th>3</th>\n",
       "      <td>428.30</td>\n",
       "      <td>440.0000</td>\n",
       "      <td>424.0001</td>\n",
       "      <td>438.09</td>\n",
       "      <td>28414523.0</td>\n",
       "      <td>433.3403</td>\n",
       "      <td>1604552400000</td>\n",
       "      <td>526073</td>\n",
       "      <td>None</td>\n",
       "      <td>TSLA</td>\n",
       "    </tr>\n",
       "    <tr>\n",
       "      <th>4</th>\n",
       "      <td>436.10</td>\n",
       "      <td>436.5700</td>\n",
       "      <td>424.2800</td>\n",
       "      <td>429.95</td>\n",
       "      <td>21706014.0</td>\n",
       "      <td>429.6142</td>\n",
       "      <td>1604638800000</td>\n",
       "      <td>390722</td>\n",
       "      <td>None</td>\n",
       "      <td>TSLA</td>\n",
       "    </tr>\n",
       "  </tbody>\n",
       "</table>\n",
       "</div>"
      ],
      "text/plain": [
       "     open      high       low   close      volume      vwap      timestamp  \\\n",
       "0  394.00  406.9799  392.3000  400.51  29021118.0  398.6073  1604293200000   \n",
       "1  409.73  427.7700  406.6900  423.90  34333350.0  420.6331  1604379600000   \n",
       "2  430.62  435.4000  417.1000  420.98  32143057.0  423.7291  1604466000000   \n",
       "3  428.30  440.0000  424.0001  438.09  28414523.0  433.3403  1604552400000   \n",
       "4  436.10  436.5700  424.2800  429.95  21706014.0  429.6142  1604638800000   \n",
       "\n",
       "   transactions   otc ticker  \n",
       "0        512507  None   TSLA  \n",
       "1        607840  None   TSLA  \n",
       "2        574859  None   TSLA  \n",
       "3        526073  None   TSLA  \n",
       "4        390722  None   TSLA  "
      ]
     },
     "execution_count": 140,
     "metadata": {},
     "output_type": "execute_result"
    }
   ],
   "source": [
    "aggs = client.get_aggs(ticker=\"TSLA\", \n",
    "                       multiplier=1, timespan=\"day\", \n",
    "                       from_=\"2020-11-01\", \n",
    "                       to=\"2022-07-03\",\n",
    "                       adjusted=None, sort=None, limit=None, params=None, raw=False)\n",
    "\n",
    "# convert aggs to dataframe\n",
    "aggs_df = pd.DataFrame(aggs)\n",
    "aggs_df.shape\n",
    "\n",
    "aggs_df['ticker'] = 'TSLA'\n",
    "aggs_df.head()"
   ]
  },
  {
   "cell_type": "code",
   "execution_count": null,
   "id": "c9e909db",
   "metadata": {},
   "outputs": [],
   "source": [
    "# daily_prices_df = pd.DataFrame()\n",
    "symbols_to_grab = [ticker for ticker in stock_symbols if ticker not in daily_prices_df['ticker'].unique()]\n",
    "for ticker in symbols_to_grab[0:4]:\n",
    "    aggs = client.get_aggs(ticker=ticker, \n",
    "                       multiplier=1, \n",
    "                       timespan=\"day\", \n",
    "                       from_=\"2020-11-01\", \n",
    "                       to=\"2022-07-03\",\n",
    "                       adjusted=None, sort=None, limit=None, params=None, raw=False)\n",
    "    aggs_df = pd.DataFrame(aggs)\n",
    "    aggs_df['ticker'] = ticker\n",
    "    daily_prices_df = pd.concat([daily_prices_df, aggs_df])"
   ]
  },
  {
   "cell_type": "code",
   "execution_count": null,
   "id": "f4bbf42b",
   "metadata": {},
   "outputs": [],
   "source": [
    "symbols_to_grab = [ticker for ticker in stock_symbols if ticker not in daily_prices_df['ticker'].unique()]\n",
    "symbols_to_grab"
   ]
  },
  {
   "cell_type": "markdown",
   "id": "cf49505b",
   "metadata": {},
   "source": [
    "#### Write out prices to csv locally"
   ]
  },
  {
   "cell_type": "code",
   "execution_count": null,
   "id": "5ccd5ad1",
   "metadata": {},
   "outputs": [],
   "source": [
    "pwd"
   ]
  },
  {
   "cell_type": "code",
   "execution_count": null,
   "id": "bec5610d",
   "metadata": {},
   "outputs": [],
   "source": [
    "daily_prices_df.to_csv('daily_prices_backtest_22July.csv', index=False)"
   ]
  },
  {
   "cell_type": "markdown",
   "id": "6b7b18de",
   "metadata": {},
   "source": [
    "#### Read in stock prices from local csv"
   ]
  },
  {
   "cell_type": "code",
   "execution_count": 6,
   "id": "d7b9436b",
   "metadata": {},
   "outputs": [],
   "source": [
    "stock_prices_df = pd.read_csv('C:/Users/jerem/Desktop/dasherd/daily_prices_backtest_22July.csv')\n",
    "stock_prices_df.shape"
   ]
  },
  {
   "cell_type": "code",
   "execution_count": 114,
   "id": "03399177",
   "metadata": {},
   "outputs": [
    {
     "data": {
      "text/plain": [
       "(10, 11)"
      ]
     },
     "execution_count": 114,
     "metadata": {},
     "output_type": "execute_result"
    }
   ],
   "source": [
    "# Create analysis_df of only 11/19 stock prices\n",
    "analysis_df = stock_prices_df.copy()\n",
    "analysis_df['datetime'] = pd.to_datetime(analysis_df['timestamp']/1000,unit='s')\n",
    "analysis_df = analysis_df[(1==1) & \n",
    "                          (analysis_df['datetime']==pd.Timestamp('2020-11-19 05:00:00'))]\n",
    "\n",
    "analysis_df.shape"
   ]
  },
  {
   "cell_type": "code",
   "execution_count": 139,
   "id": "450c03ba",
   "metadata": {},
   "outputs": [
    {
     "data": {
      "text/html": [
       "<div>\n",
       "<style scoped>\n",
       "    .dataframe tbody tr th:only-of-type {\n",
       "        vertical-align: middle;\n",
       "    }\n",
       "\n",
       "    .dataframe tbody tr th {\n",
       "        vertical-align: top;\n",
       "    }\n",
       "\n",
       "    .dataframe thead th {\n",
       "        text-align: right;\n",
       "    }\n",
       "</style>\n",
       "<table border=\"1\" class=\"dataframe\">\n",
       "  <thead>\n",
       "    <tr style=\"text-align: right;\">\n",
       "      <th></th>\n",
       "      <th>open</th>\n",
       "      <th>high</th>\n",
       "      <th>low</th>\n",
       "      <th>close</th>\n",
       "      <th>volume</th>\n",
       "      <th>vwap</th>\n",
       "      <th>timestamp</th>\n",
       "      <th>transactions</th>\n",
       "      <th>otc</th>\n",
       "      <th>ticker</th>\n",
       "      <th>datetime</th>\n",
       "    </tr>\n",
       "  </thead>\n",
       "  <tbody>\n",
       "    <tr>\n",
       "      <th>13</th>\n",
       "      <td>492.0000</td>\n",
       "      <td>508.6112</td>\n",
       "      <td>487.57</td>\n",
       "      <td>499.2700</td>\n",
       "      <td>62475346.0</td>\n",
       "      <td>499.7851</td>\n",
       "      <td>1605762000000</td>\n",
       "      <td>1129578</td>\n",
       "      <td>NaN</td>\n",
       "      <td>TSLA</td>\n",
       "      <td>2020-11-19 05:00:00</td>\n",
       "    </tr>\n",
       "    <tr>\n",
       "      <th>432</th>\n",
       "      <td>289.4800</td>\n",
       "      <td>292.7000</td>\n",
       "      <td>288.85</td>\n",
       "      <td>292.3800</td>\n",
       "      <td>22718422.0</td>\n",
       "      <td>291.2226</td>\n",
       "      <td>1605762000000</td>\n",
       "      <td>155948</td>\n",
       "      <td>NaN</td>\n",
       "      <td>QQQ</td>\n",
       "      <td>2020-11-19 05:00:00</td>\n",
       "    </tr>\n",
       "    <tr>\n",
       "      <th>851</th>\n",
       "      <td>117.5900</td>\n",
       "      <td>119.0600</td>\n",
       "      <td>116.81</td>\n",
       "      <td>118.6400</td>\n",
       "      <td>73687972.0</td>\n",
       "      <td>118.0320</td>\n",
       "      <td>1605762000000</td>\n",
       "      <td>492499</td>\n",
       "      <td>NaN</td>\n",
       "      <td>AAPL</td>\n",
       "      <td>2020-11-19 05:00:00</td>\n",
       "    </tr>\n",
       "    <tr>\n",
       "      <th>1270</th>\n",
       "      <td>132.1275</td>\n",
       "      <td>134.8750</td>\n",
       "      <td>131.00</td>\n",
       "      <td>134.4025</td>\n",
       "      <td>55493420.0</td>\n",
       "      <td>133.1654</td>\n",
       "      <td>1605762000000</td>\n",
       "      <td>273734</td>\n",
       "      <td>NaN</td>\n",
       "      <td>NVDA</td>\n",
       "      <td>2020-11-19 05:00:00</td>\n",
       "    </tr>\n",
       "    <tr>\n",
       "      <th>1689</th>\n",
       "      <td>82.3900</td>\n",
       "      <td>85.6400</td>\n",
       "      <td>81.72</td>\n",
       "      <td>85.5400</td>\n",
       "      <td>50116759.0</td>\n",
       "      <td>84.3769</td>\n",
       "      <td>1605762000000</td>\n",
       "      <td>339887</td>\n",
       "      <td>NaN</td>\n",
       "      <td>AMD</td>\n",
       "      <td>2020-11-19 05:00:00</td>\n",
       "    </tr>\n",
       "  </tbody>\n",
       "</table>\n",
       "</div>"
      ],
      "text/plain": [
       "          open      high     low     close      volume      vwap  \\\n",
       "13    492.0000  508.6112  487.57  499.2700  62475346.0  499.7851   \n",
       "432   289.4800  292.7000  288.85  292.3800  22718422.0  291.2226   \n",
       "851   117.5900  119.0600  116.81  118.6400  73687972.0  118.0320   \n",
       "1270  132.1275  134.8750  131.00  134.4025  55493420.0  133.1654   \n",
       "1689   82.3900   85.6400   81.72   85.5400  50116759.0   84.3769   \n",
       "\n",
       "          timestamp  transactions  otc ticker            datetime  \n",
       "13    1605762000000       1129578  NaN   TSLA 2020-11-19 05:00:00  \n",
       "432   1605762000000        155948  NaN    QQQ 2020-11-19 05:00:00  \n",
       "851   1605762000000        492499  NaN   AAPL 2020-11-19 05:00:00  \n",
       "1270  1605762000000        273734  NaN   NVDA 2020-11-19 05:00:00  \n",
       "1689  1605762000000        339887  NaN    AMD 2020-11-19 05:00:00  "
      ]
     },
     "execution_count": 139,
     "metadata": {},
     "output_type": "execute_result"
    }
   ],
   "source": [
    "analysis_df.head()"
   ]
  },
  {
   "cell_type": "code",
   "execution_count": 110,
   "id": "b87657d3",
   "metadata": {},
   "outputs": [],
   "source": [
    "# create strategy_opt_list - a list of dicts of options to be purchased\n",
    "# Strategy A: \n",
    "    # Sell 1 call at stock price-20%, \n",
    "    # Buy 1 put at current price, \n",
    "    # Sell 1 put at stock price+20%, \n",
    "    # and Buy 2 calls at current stock price\n",
    "strategy_opt_list = [\n",
    "    {\n",
    "        'volume': 1,\n",
    "        'action':'sell',\n",
    "        'option_type':'call',\n",
    "        'price_diff_pct': -0.20\n",
    "    },\n",
    "    {\n",
    "        'volume': 1,\n",
    "        'action':'buy',\n",
    "        'option_type':'put',\n",
    "        'price_diff_pct': 0\n",
    "    },\n",
    "    {\n",
    "        'volume': 1,\n",
    "        'action':'sell',\n",
    "        'option_type':'put',\n",
    "        'price_diff_pct': 0.20\n",
    "    },\n",
    "    {\n",
    "        'volume': 2,\n",
    "        'action':'buy',\n",
    "        'option_type':'call',\n",
    "        'price_diff_pct': 0\n",
    "    },\n",
    "]"
   ]
  },
  {
   "cell_type": "code",
   "execution_count": 111,
   "id": "f4525a8c",
   "metadata": {},
   "outputs": [
    {
     "data": {
      "text/plain": [
       "{'volume': 1, 'action': 'sell', 'option_type': 'call', 'price_diff_pct': -0.2}"
      ]
     },
     "execution_count": 111,
     "metadata": {},
     "output_type": "execute_result"
    }
   ],
   "source": [
    "strategy_opt_list[0]"
   ]
  },
  {
   "cell_type": "code",
   "execution_count": 112,
   "id": "3367eb24",
   "metadata": {},
   "outputs": [],
   "source": [
    "def create_option_string(ticker, exp_date, option_type, stock_price, price_diff_pct):\n",
    "    \"\"\"\n",
    "    Function to create option string\n",
    "    \n",
    "    exp_date: YYMMDD format\n",
    "    option_type: {call|put}\n",
    "    option_price_string: \n",
    "    \n",
    "    \"\"\"\n",
    "    if option_type == 'call':\n",
    "        call_put_val = 'C'\n",
    "    else:\n",
    "        call_put_val = 'P'\n",
    "    \n",
    "    option_price = 5 * round(stock_price * (1 + price_diff_pct)/5)\n",
    "    option_price_string = '00' + str(option_price) + '000'\n",
    "\n",
    "    option_ticker_string = 'O:' + ticker + expiration_date + call_put_val + option_price_string\n",
    "    return option_ticker_string"
   ]
  },
  {
   "cell_type": "code",
   "execution_count": 113,
   "id": "f64beb66",
   "metadata": {},
   "outputs": [
    {
     "data": {
      "text/plain": [
       "'O:TSLA210219C00400000'"
      ]
     },
     "execution_count": 113,
     "metadata": {},
     "output_type": "execute_result"
    }
   ],
   "source": [
    "create_option_string(ticker='TSLA', \n",
    "                     exp_date='210219', \n",
    "                     option_type='call', \n",
    "                     stock_price=499.27, \n",
    "                     price_diff_pct=-0.20)"
   ]
  },
  {
   "cell_type": "code",
   "execution_count": 170,
   "id": "34a3a142",
   "metadata": {},
   "outputs": [],
   "source": [
    "def calc_option_profit(option_ticker_string: str, \n",
    "                       opt_prices_from_date, \n",
    "                       opt_prices_to_date, \n",
    "                       opt_start_price_date,\n",
    "                       opt_end_price_date,\n",
    "                       buy_sell: str,\n",
    "                       opt_volume: int):\n",
    "    \"\"\"\n",
    "    Function to calculate option profit\n",
    "    \"\"\"\n",
    "    print(f'Getting daily option prices for {option_ticker_string}')\n",
    "\n",
    "    print(f'Daily option prices being gathered from {opt_prices_from_date} to {opt_prices_to_date}', end=',')\n",
    "\n",
    "    aggs = client.get_aggs(ticker=option_ticker_string, \n",
    "                       multiplier=1, \n",
    "                       timespan=\"day\", \n",
    "                       from_=opt_prices_from_date, \n",
    "                       to=opt_prices_to_date,\n",
    "                       adjusted=None, sort=None, limit=None, params=None, raw=False)\n",
    "    opts_df = pd.DataFrame(aggs)\n",
    "    print(f'Daily prices fetched: {opts_df.shape[0]}')\n",
    "    opts_df['datetime'] = pd.to_datetime(opts_df['timestamp']/1000,unit='s')\n",
    "    opt_start_price = opts_df[opts_df['datetime']==opt_start_price_date]['close'].iloc[0]\n",
    "    print(f'Option start price: {opt_start_price}')\n",
    "    opt_end_price = opts_df[opts_df['datetime']==opt_end_price_date]['close'].iloc[0]\n",
    "    print(f'Option end price: {opt_end_price}')\n",
    "\n",
    "    if buy_sell == 'sell':\n",
    "        option_profit = opt_volume * (opt_start_price - opt_end_price)\n",
    "    else:\n",
    "        option_profit = opt_volume * (opt_end_price - opt_start_price)        \n",
    "    print(f'Option profit: {option_profit}')\n",
    "    return option_profit"
   ]
  },
  {
   "cell_type": "code",
   "execution_count": 138,
   "id": "45c2e348",
   "metadata": {},
   "outputs": [
    {
     "name": "stdout",
     "output_type": "stream",
     "text": [
      "Getting daily option prices for O:TSLA210219C00400000\n",
      "Daily option prices being gathered from 2020-11-01 to 2021-02-19\n",
      "Daily prices fetched: 71\n",
      "Option start price: 128.2\n",
      "Option end price: 380.0\n",
      "Option profit: 251.8\n"
     ]
    },
    {
     "data": {
      "text/plain": [
       "251.8"
      ]
     },
     "execution_count": 138,
     "metadata": {},
     "output_type": "execute_result"
    }
   ],
   "source": [
    "calc_option_profit(option_ticker_string='O:TSLA210219C00400000', \n",
    "                   opt_prices_from_date = \"2020-11-01\",\n",
    "                   opt_prices_to_date = \"2021-02-19\",\n",
    "                   opt_start_price_date = pd.Timestamp('2020-11-19 05:00:00'),\n",
    "                   opt_end_price_date = pd.Timestamp('2021-02-19 05:00:00'),\n",
    "                   buy_sell = 'buy',\n",
    "                   opt_volume=1)"
   ]
  },
  {
   "cell_type": "code",
   "execution_count": null,
   "id": "43a590ee",
   "metadata": {},
   "outputs": [],
   "source": [
    "# pseudocode for full experiment for one strategy\n",
    "    # experiment defines purchase/sell date, expiration date\n",
    "    # strategy defines what options to purchase/sell\n",
    "\n",
    "strategy_profit = 0\n",
    "for ticker in stock_symbols:\n",
    "    ticker_profit = 0\n",
    "    for option_config in strategy_dict:\n",
    "        # create option tickers, grab option prices, calculate profit\n",
    "        ticker_profit += option_profit\n",
    "    strategy_profit += option_profit"
   ]
  },
  {
   "cell_type": "markdown",
   "id": "14a7d618",
   "metadata": {},
   "source": [
    "## Define Strategy"
   ]
  },
  {
   "cell_type": "code",
   "execution_count": 124,
   "id": "46e16e5d",
   "metadata": {},
   "outputs": [],
   "source": [
    "# create strategy_opt_list - a list of dicts of options to be purchased\n",
    "# Strategy A: \n",
    "    # Sell 1 call at stock price-20%, \n",
    "    # Buy 1 put at current price, \n",
    "    # Sell 1 put at stock price+20%, \n",
    "    # and Buy 2 calls at current stock price\n",
    "\n",
    "strategy_opt_list = [\n",
    "    {\n",
    "        'volume': 1,\n",
    "        'action':'sell',\n",
    "        'option_type':'call',\n",
    "        'price_diff_pct': -0.20\n",
    "    },\n",
    "    {\n",
    "        'volume': 1,\n",
    "        'action':'buy',\n",
    "        'option_type':'put',\n",
    "        'price_diff_pct': 0\n",
    "    },\n",
    "    {\n",
    "        'volume': 1,\n",
    "        'action':'sell',\n",
    "        'option_type':'put',\n",
    "        'price_diff_pct': 0.20\n",
    "    },\n",
    "    {\n",
    "        'volume': 2,\n",
    "        'action':'buy',\n",
    "        'option_type':'call',\n",
    "        'price_diff_pct': 0\n",
    "    },\n",
    "]\n",
    "\n",
    "print(strategy_opt_list[0])"
   ]
  },
  {
   "cell_type": "code",
   "execution_count": 143,
   "id": "618fb4a1",
   "metadata": {},
   "outputs": [
    {
     "data": {
      "text/plain": [
       "['TSLA',\n",
       " 'QQQ',\n",
       " 'AAPL',\n",
       " 'NVDA',\n",
       " 'AMD',\n",
       " 'AMZN',\n",
       " 'MSFT',\n",
       " 'NFLX',\n",
       " 'META',\n",
       " 'GOOGL',\n",
       " 'T']"
      ]
     },
     "execution_count": 143,
     "metadata": {},
     "output_type": "execute_result"
    }
   ],
   "source": [
    "stock_symbols"
   ]
  },
  {
   "cell_type": "code",
   "execution_count": 172,
   "id": "4ecd7046",
   "metadata": {},
   "outputs": [
    {
     "data": {
      "text/plain": [
       "{'TSLA': {'profit': None, 'start_price': None, 'options_missing_price': 0},\n",
       " 'QQQ': {'profit': None, 'start_price': None, 'options_missing_price': 0},\n",
       " 'AAPL': {'profit': None, 'start_price': None, 'options_missing_price': 0},\n",
       " 'NVDA': {'profit': None, 'start_price': None, 'options_missing_price': 0},\n",
       " 'AMD': {'profit': None, 'start_price': None, 'options_missing_price': 0},\n",
       " 'AMZN': {'profit': None, 'start_price': None, 'options_missing_price': 0},\n",
       " 'MSFT': {'profit': None, 'start_price': None, 'options_missing_price': 0},\n",
       " 'NFLX': {'profit': None, 'start_price': None, 'options_missing_price': 0},\n",
       " 'META': {'profit': None, 'start_price': None, 'options_missing_price': 0},\n",
       " 'GOOGL': {'profit': None, 'start_price': None, 'options_missing_price': 0},\n",
       " 'T': {'profit': None, 'start_price': None, 'options_missing_price': 0}}"
      ]
     },
     "execution_count": 172,
     "metadata": {},
     "output_type": "execute_result"
    }
   ],
   "source": [
    "stock_symbol_dict = {ticker: {'profit': None, \n",
    "                              'start_price':None,\n",
    "                              'options_missing_price':0\n",
    "                             } \n",
    "                     for ticker in stock_symbols}\n",
    "stock_symbol_dict"
   ]
  },
  {
   "cell_type": "code",
   "execution_count": 173,
   "id": "f312d430",
   "metadata": {},
   "outputs": [],
   "source": [
    "# create dataframe from stock symbol results dict\n",
    "# results_df = pd.DataFrame.from_dict(stock_symbol_dict, orient='index')\n",
    "# results_df['profit'].sum()\n",
    "# results_df.head()"
   ]
  },
  {
   "cell_type": "code",
   "execution_count": 174,
   "id": "3fb4a185",
   "metadata": {},
   "outputs": [
    {
     "name": "stdout",
     "output_type": "stream",
     "text": [
      "QQQ\n",
      "AAPL\n"
     ]
    }
   ],
   "source": [
    "for ticker in stock_symbols[1:3]:\n",
    "    print(ticker)"
   ]
  },
  {
   "cell_type": "code",
   "execution_count": 175,
   "id": "a9f70b43",
   "metadata": {},
   "outputs": [
    {
     "name": "stdout",
     "output_type": "stream",
     "text": [
      "Evaluating options for ticker: QQQ\n",
      "Option config: {'volume': 1, 'action': 'sell', 'option_type': 'call', 'price_diff_pct': -0.2}\n",
      "Calculating option profit\n",
      "Getting daily option prices for O:QQQ210219C00235000\n",
      "Daily option prices being gathered from 2020-11-01 to 2021-02-19,Daily prices fetched: 13\n",
      "Option price does not exist, skipping\n",
      "Option config: {'volume': 1, 'action': 'buy', 'option_type': 'put', 'price_diff_pct': 0}\n",
      "Calculating option profit\n",
      "Getting daily option prices for O:QQQ210219P00290000\n",
      "Daily option prices being gathered from 2020-11-01 to 2021-02-19,Daily prices fetched: 75\n",
      "Option start price: 13.93\n",
      "Option end price: 0.01\n",
      "Option profit: -13.92\n",
      "Option config: {'volume': 1, 'action': 'sell', 'option_type': 'put', 'price_diff_pct': 0.2}\n",
      "Calculating option profit\n",
      "Getting daily option prices for O:QQQ210219P00350000\n",
      "Daily option prices being gathered from 2020-11-01 to 2021-02-19,Daily prices fetched: 46\n",
      "Option price does not exist, skipping\n",
      "Option config: {'volume': 2, 'action': 'buy', 'option_type': 'call', 'price_diff_pct': 0}\n",
      "Calculating option profit\n",
      "Getting daily option prices for O:QQQ210219C00290000\n",
      "Daily option prices being gathered from 2020-11-01 to 2021-02-19,Daily prices fetched: 75\n",
      "Option start price: 15.95\n",
      "Option end price: 41.35\n",
      "Option profit: 50.800000000000004\n",
      "Profit for ticker QQQ: 36.88\n",
      "Evaluating options for ticker: AAPL\n",
      "Option config: {'volume': 1, 'action': 'sell', 'option_type': 'call', 'price_diff_pct': -0.2}\n",
      "Calculating option profit\n",
      "Getting daily option prices for O:AAPL210219C0095000\n",
      "Daily option prices being gathered from 2020-11-01 to 2021-02-19,Option price does not exist, skipping\n",
      "Option config: {'volume': 1, 'action': 'buy', 'option_type': 'put', 'price_diff_pct': 0}\n",
      "Calculating option profit\n",
      "Getting daily option prices for O:AAPL210219P00120000\n",
      "Daily option prices being gathered from 2020-11-01 to 2021-02-19,Daily prices fetched: 75\n",
      "Option start price: 8.55\n",
      "Option end price: 0.01\n",
      "Option profit: -8.540000000000001\n",
      "Option config: {'volume': 1, 'action': 'sell', 'option_type': 'put', 'price_diff_pct': 0.2}\n",
      "Calculating option profit\n",
      "Getting daily option prices for O:AAPL210219P00140000\n",
      "Daily option prices being gathered from 2020-11-01 to 2021-02-19,Daily prices fetched: 67\n",
      "Option start price: 23.1\n",
      "Option end price: 10.15\n",
      "Option profit: 12.950000000000001\n",
      "Option config: {'volume': 2, 'action': 'buy', 'option_type': 'call', 'price_diff_pct': 0}\n",
      "Calculating option profit\n",
      "Getting daily option prices for O:AAPL210219C00120000\n",
      "Daily option prices being gathered from 2020-11-01 to 2021-02-19,Daily prices fetched: 75\n",
      "Option start price: 7.3\n",
      "Option end price: 9.85\n",
      "Option profit: 5.1\n",
      "Profit for ticker AAPL: 9.51\n",
      "Overall strategy profit: 46.39\n",
      "       profit start_price  options_missing_price\n",
      "TSLA      NaN        None                      0\n",
      "QQQ     36.88        None                      2\n",
      "AAPL     9.51        None                      1\n",
      "NVDA      NaN        None                      0\n",
      "AMD       NaN        None                      0\n",
      "AMZN      NaN        None                      0\n",
      "MSFT      NaN        None                      0\n",
      "NFLX      NaN        None                      0\n",
      "META      NaN        None                      0\n",
      "GOOGL     NaN        None                      0\n",
      "T         NaN        None                      0\n"
     ]
    }
   ],
   "source": [
    "# Requires stock_symbols list of tickers to evaluate\n",
    "# Requires analysis_df with close price of all evaluated tickers on purchase/sell date of experiment\n",
    "\n",
    "# Strategy A\n",
    "# Backtesting experiment: All options purchased/sold on 11/19/2020, expire 90 days later on 2/19/2021\n",
    "    # TODO: update this to grab price on 2/17 (the Friday prior to the expiration)\n",
    "\n",
    "# TODO: clean up this date shit\n",
    "option_string_expiration_date = '210219'\n",
    "opt_prices_from_date = \"2020-11-01\"\n",
    "opt_prices_to_date = \"2021-02-19\"\n",
    "opt_start_price_dt = pd.Timestamp('2020-11-19 05:00:00')\n",
    "opt_end_price_dt = pd.Timestamp('2021-02-19 05:00:00')\n",
    "\n",
    "stock_symbol_dict = {ticker: {'profit': None, \n",
    "                              'start_price':None,\n",
    "                              'options_missing_price':0\n",
    "                             } \n",
    "                     for ticker in stock_symbols}\n",
    "\n",
    "#for ticker in stock_symbols:  # run full loop\n",
    "for ticker in stock_symbols[1:3]: # run loop for first few tickers\n",
    "#for ticker in ['TSLA']:  # run loop for one example ticker\n",
    "    print(f'Evaluating options for ticker: {ticker}')\n",
    "    ticker_profit = 0\n",
    "    # TODO: update this price lookup to be at option issue date, instead of requiring analysis_df to only include prices at option issue date\n",
    "    # TODO: add check to make sure ticker price at date is in prices\n",
    "    ticker_price_at_purchase = analysis_df[analysis_df['ticker']==ticker]['close'].iloc[0]\n",
    "    stock_symbol_dict[ticker]['start_price'] = ticker_price_at_purchase\n",
    "    for option_config in strategy_opt_list:\n",
    "        print(f'Option config: {option_config}')\n",
    "        loop_option_string = create_option_string(ticker=ticker, \n",
    "                                                  exp_date=option_string_expiration_date, \n",
    "                                                  option_type=option_config['option_type'], \n",
    "                                                  stock_price=ticker_price_at_purchase, \n",
    "                                                  price_diff_pct=option_config['price_diff_pct']\n",
    "                                                 )\n",
    "        print('Calculating option profit')\n",
    "        try:\n",
    "            option_profit = calc_option_profit(option_ticker_string=loop_option_string,\n",
    "                                               opt_prices_from_date = opt_prices_from_date,\n",
    "                                               opt_prices_to_date = opt_prices_to_date,\n",
    "                                               opt_start_price_date = opt_start_price_dt,\n",
    "                                               opt_end_price_date = opt_end_price_dt,\n",
    "                                               buy_sell = option_config['action'],\n",
    "                                               opt_volume=option_config['volume'])\n",
    "            ticker_profit += option_profit\n",
    "        except:\n",
    "            print('Option price does not exist, skipping')\n",
    "            stock_symbol_dict[ticker]['options_missing_price'] += 1\n",
    "            \n",
    "        time.sleep(20)  # rest after each option, API is limited to like 6 calls / minute\n",
    "\n",
    "    stock_symbol_dict[ticker]['profit'] = ticker_profit\n",
    "    print(f'Profit for ticker {ticker}: {ticker_profit}')\n",
    "\n",
    "results_df = pd.DataFrame.from_dict(stock_symbol_dict, orient='index')\n",
    "strategy_profit = results_df['profit'].sum()\n",
    "print(f'Overall strategy profit: {strategy_profit}')\n",
    "\n",
    "print(results_df)"
   ]
  },
  {
   "cell_type": "code",
   "execution_count": null,
   "id": "7e20ffbf",
   "metadata": {},
   "outputs": [],
   "source": []
  },
  {
   "cell_type": "code",
   "execution_count": null,
   "id": "7245e0c1",
   "metadata": {},
   "outputs": [],
   "source": []
  },
  {
   "cell_type": "code",
   "execution_count": null,
   "id": "e1ead4ff",
   "metadata": {},
   "outputs": [],
   "source": []
  },
  {
   "cell_type": "code",
   "execution_count": null,
   "id": "cde803be",
   "metadata": {},
   "outputs": [],
   "source": []
  },
  {
   "cell_type": "code",
   "execution_count": null,
   "id": "515d03de",
   "metadata": {},
   "outputs": [],
   "source": []
  },
  {
   "cell_type": "code",
   "execution_count": null,
   "id": "3cd91f52",
   "metadata": {},
   "outputs": [],
   "source": []
  },
  {
   "cell_type": "code",
   "execution_count": null,
   "id": "74535565",
   "metadata": {},
   "outputs": [],
   "source": [
    "# create proper experiment class\n",
    "\n",
    "class OptionsExperiment:\n",
    "    \"\"\"Options Experiment Class\"\"\"\n",
    "    def __init__(self, purchase_date, expiration_date):\n",
    "        self.purchase_date = purchase_date\n",
    "        self.expiration_date = expiration_date\n",
    "\n",
    "\n",
    "experiment = OptionsExperiment(\"2020-11-19\", \"2021-02-19\")\n",
    "\n",
    "print(experiment.purchase_date)\n",
    "print(experiment.expiration_date)"
   ]
  },
  {
   "cell_type": "code",
   "execution_count": null,
   "id": "dd20a855",
   "metadata": {},
   "outputs": [],
   "source": []
  },
  {
   "cell_type": "code",
   "execution_count": null,
   "id": "dba88996",
   "metadata": {},
   "outputs": [],
   "source": []
  },
  {
   "cell_type": "code",
   "execution_count": 21,
   "id": "5aad15b2",
   "metadata": {},
   "outputs": [],
   "source": [
    "analysis_df['stock_price_put'] = 5 * round(analysis_df['close']/5)\n",
    "analysis_df['stock_price_call'] = 5 * round(analysis_df['close']/5)\n",
    "analysis_df['stock_price_plus_20pct_put'] = analysis_df['close'] * 1.2\n",
    "analysis_df['stock_price_plus_20pct_put'] = 5 * round(analysis_df['stock_price_plus_20pct_put']/5)  # rounded to nearest 5\n",
    "analysis_df['stock_price_minus_20pct_call'] = analysis_df['close'] * 0.8\n",
    "analysis_df['stock_price_minus_20pct_call'] = 5 * round(analysis_df['stock_price_minus_20pct_call']/5)  # rounded to nearest 5\n",
    "analysis_df[\"sell_date90\"] = analysis_df[\"datetime\"] + timedelta(days=90)\n",
    "analysis_df.head()"
   ]
  },
  {
   "cell_type": "markdown",
   "id": "5de4c665",
   "metadata": {},
   "source": [
    "## Get options data"
   ]
  },
  {
   "cell_type": "code",
   "execution_count": null,
   "id": "695e5c34",
   "metadata": {},
   "outputs": [],
   "source": [
    "\"\"\"\n",
    "A January 21, 2022 Call Option for Uber with a $50 Strike Price\n",
    "\n",
    "UBER220121C00050000 = UBER + 220121 + C + 00050000\n",
    "\n",
    "Underlying Stock - UBER\n",
    "Expiration Date - January 21st, 2022 or ‘220121’ (YYMMDD)\n",
    "Option Type - Call or ‘C’\n",
    "Strike Price - 00050000 (50000/1000) or $50\n",
    "\"\"\""
   ]
  },
  {
   "cell_type": "code",
   "execution_count": null,
   "id": "8018e715",
   "metadata": {},
   "outputs": [],
   "source": [
    "# TSLA call option purchased on 11/2/2020 for stock price minus 20% of 320\n",
    "#  expiration date of 90 days in future of purchase - 1/31/2021\n",
    "# TSLA 210131 C 00320000\n",
    "# TSLA 210219 C 00400000\n",
    "\n",
    "# 2 put calls at strike price, 1 put at 20%, 1 call at 20%"
   ]
  },
  {
   "cell_type": "code",
   "execution_count": 24,
   "id": "f83e18c8",
   "metadata": {},
   "outputs": [],
   "source": [
    "aggs = client.get_aggs(ticker=\"O:TSLA210219C00400000\", \n",
    "                       multiplier=1, \n",
    "                       timespan=\"day\", \n",
    "                       from_=\"2020-11-01\", \n",
    "                       to=\"2021-02-19\",\n",
    "                       adjusted=None, sort=None, limit=None, params=None, raw=False)"
   ]
  },
  {
   "cell_type": "code",
   "execution_count": 25,
   "id": "3a3c1786",
   "metadata": {},
   "outputs": [
    {
     "data": {
      "text/plain": [
       "(71, 9)"
      ]
     },
     "execution_count": 25,
     "metadata": {},
     "output_type": "execute_result"
    }
   ],
   "source": [
    "opts_df = pd.DataFrame(aggs)\n",
    "opts_df.shape"
   ]
  },
  {
   "cell_type": "code",
   "execution_count": 26,
   "id": "da328cbd",
   "metadata": {},
   "outputs": [],
   "source": [
    "opts_df['datetime'] = pd.to_datetime(opts_df['timestamp']/1000,unit='s')"
   ]
  },
  {
   "cell_type": "code",
   "execution_count": 117,
   "id": "42bad60a",
   "metadata": {},
   "outputs": [
    {
     "data": {
      "text/html": [
       "<div>\n",
       "<style scoped>\n",
       "    .dataframe tbody tr th:only-of-type {\n",
       "        vertical-align: middle;\n",
       "    }\n",
       "\n",
       "    .dataframe tbody tr th {\n",
       "        vertical-align: top;\n",
       "    }\n",
       "\n",
       "    .dataframe thead th {\n",
       "        text-align: right;\n",
       "    }\n",
       "</style>\n",
       "<table border=\"1\" class=\"dataframe\">\n",
       "  <thead>\n",
       "    <tr style=\"text-align: right;\">\n",
       "      <th></th>\n",
       "      <th>open</th>\n",
       "      <th>high</th>\n",
       "      <th>low</th>\n",
       "      <th>close</th>\n",
       "      <th>volume</th>\n",
       "      <th>vwap</th>\n",
       "      <th>timestamp</th>\n",
       "      <th>transactions</th>\n",
       "      <th>otc</th>\n",
       "      <th>datetime</th>\n",
       "    </tr>\n",
       "  </thead>\n",
       "  <tbody>\n",
       "    <tr>\n",
       "      <th>66</th>\n",
       "      <td>393.75</td>\n",
       "      <td>401.23</td>\n",
       "      <td>389.15</td>\n",
       "      <td>401.23</td>\n",
       "      <td>13</td>\n",
       "      <td>394.6354</td>\n",
       "      <td>1613106000000</td>\n",
       "      <td>6</td>\n",
       "      <td>None</td>\n",
       "      <td>2021-02-12 05:00:00</td>\n",
       "    </tr>\n",
       "    <tr>\n",
       "      <th>67</th>\n",
       "      <td>407.80</td>\n",
       "      <td>407.80</td>\n",
       "      <td>395.28</td>\n",
       "      <td>395.28</td>\n",
       "      <td>67</td>\n",
       "      <td>405.8333</td>\n",
       "      <td>1613451600000</td>\n",
       "      <td>4</td>\n",
       "      <td>None</td>\n",
       "      <td>2021-02-16 05:00:00</td>\n",
       "    </tr>\n",
       "    <tr>\n",
       "      <th>68</th>\n",
       "      <td>377.55</td>\n",
       "      <td>394.37</td>\n",
       "      <td>371.55</td>\n",
       "      <td>393.81</td>\n",
       "      <td>20</td>\n",
       "      <td>379.6305</td>\n",
       "      <td>1613538000000</td>\n",
       "      <td>8</td>\n",
       "      <td>None</td>\n",
       "      <td>2021-02-17 05:00:00</td>\n",
       "    </tr>\n",
       "    <tr>\n",
       "      <th>69</th>\n",
       "      <td>381.50</td>\n",
       "      <td>390.29</td>\n",
       "      <td>381.50</td>\n",
       "      <td>389.50</td>\n",
       "      <td>7</td>\n",
       "      <td>386.1643</td>\n",
       "      <td>1613624400000</td>\n",
       "      <td>5</td>\n",
       "      <td>None</td>\n",
       "      <td>2021-02-18 05:00:00</td>\n",
       "    </tr>\n",
       "    <tr>\n",
       "      <th>70</th>\n",
       "      <td>391.83</td>\n",
       "      <td>392.10</td>\n",
       "      <td>380.00</td>\n",
       "      <td>380.00</td>\n",
       "      <td>108</td>\n",
       "      <td>383.4605</td>\n",
       "      <td>1613710800000</td>\n",
       "      <td>15</td>\n",
       "      <td>None</td>\n",
       "      <td>2021-02-19 05:00:00</td>\n",
       "    </tr>\n",
       "  </tbody>\n",
       "</table>\n",
       "</div>"
      ],
      "text/plain": [
       "      open    high     low   close  volume      vwap      timestamp  \\\n",
       "66  393.75  401.23  389.15  401.23      13  394.6354  1613106000000   \n",
       "67  407.80  407.80  395.28  395.28      67  405.8333  1613451600000   \n",
       "68  377.55  394.37  371.55  393.81      20  379.6305  1613538000000   \n",
       "69  381.50  390.29  381.50  389.50       7  386.1643  1613624400000   \n",
       "70  391.83  392.10  380.00  380.00     108  383.4605  1613710800000   \n",
       "\n",
       "    transactions   otc            datetime  \n",
       "66             6  None 2021-02-12 05:00:00  \n",
       "67             4  None 2021-02-16 05:00:00  \n",
       "68             8  None 2021-02-17 05:00:00  \n",
       "69             5  None 2021-02-18 05:00:00  \n",
       "70            15  None 2021-02-19 05:00:00  "
      ]
     },
     "execution_count": 117,
     "metadata": {},
     "output_type": "execute_result"
    }
   ],
   "source": [
    "opts_df.tail()"
   ]
  },
  {
   "cell_type": "code",
   "execution_count": null,
   "id": "1e6e9cdf",
   "metadata": {},
   "outputs": [],
   "source": []
  },
  {
   "cell_type": "code",
   "execution_count": null,
   "id": "80114a11",
   "metadata": {},
   "outputs": [],
   "source": []
  },
  {
   "cell_type": "markdown",
   "id": "0e0f176d",
   "metadata": {},
   "source": [
    "### Other options methods to explore"
   ]
  },
  {
   "cell_type": "code",
   "execution_count": null,
   "id": "85e784ac",
   "metadata": {},
   "outputs": [],
   "source": [
    "opt_contracts = client.get_options_contract(\n",
    "    # ticker=\"O:TSLA210129C00700000\", \n",
    "    # ticker=\"TSLA210131C00320000\", \n",
    "    ticker=\"TSLA\", \n",
    "    as_of='2021-01-31',\n",
    "    params = None, raw = False,\n",
    "    )"
   ]
  },
  {
   "cell_type": "code",
   "execution_count": null,
   "id": "222e9718",
   "metadata": {},
   "outputs": [],
   "source": [
    "options = []\n",
    "for t in client.list_options_contracts(\n",
    "        underlying_ticker = 'TSLA',\n",
    "        #underlying_ticker_lt: Optional[str] = None,\n",
    "        #underlying_ticker_lte: Optional[str] = None,\n",
    "        #underlying_ticker_gt: Optional[str] = None,\n",
    "        #underlying_ticker_gte: Optional[str] = None,\n",
    "        contract_type = 'call',\n",
    "        expiration_date = '2021-01-29',\n",
    "        # expiration_date_lt = '2021-01-01',\n",
    "        # expiration_date_gt = '2021-01-29',\n",
    "        #expiration_date_lt: Optional[Union[str, date]] = None,\n",
    "        #expiration_date_lte: Optional[Union[str, date]] = None,\n",
    "        #expiration_date_gt: Optional[Union[str, date]] = None,\n",
    "        #expiration_date_gte: Optional[Union[str, date]] = None,\n",
    "        as_of = '2021-01-02',\n",
    "        # strike_price = 320,\n",
    "        strike_price_lt = 820,\n",
    "        strike_price_gt = 420,\n",
    "        #strike_price_lt: Optional[float] = None,\n",
    "        #strike_price_lte: Optional[float] = None,\n",
    "        #strike_price_gt: Optional[float] = None,\n",
    "        #strike_price_gte: Optional[float] = None,\n",
    "        #expired: Optional[bool] = None,\n",
    "        #limit: Optional[int] = None,\n",
    "        #sort: Optional[Union[str, Sort]] = None,\n",
    "        #order: Optional[Union[str, Order]] = None,\n",
    "        #params: Optional[Dict[str, Any]] = None,\n",
    "        #raw = False,\n",
    "    ):\n",
    "    options.append(t)\n",
    "print(options)"
   ]
  },
  {
   "cell_type": "code",
   "execution_count": null,
   "id": "16c3c45d",
   "metadata": {},
   "outputs": [],
   "source": []
  }
 ],
 "metadata": {
  "kernelspec": {
   "display_name": "Python 3",
   "language": "python",
   "name": "python3"
  },
  "language_info": {
   "codemirror_mode": {
    "name": "ipython",
    "version": 3
   },
   "file_extension": ".py",
   "mimetype": "text/x-python",
   "name": "python",
   "nbconvert_exporter": "python",
   "pygments_lexer": "ipython3",
   "version": "3.8.8"
  }
 },
 "nbformat": 4,
 "nbformat_minor": 5
}
