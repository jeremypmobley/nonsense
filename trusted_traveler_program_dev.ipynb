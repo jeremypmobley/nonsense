{
 "cells": [
  {
   "cell_type": "markdown",
   "id": "e5db386f",
   "metadata": {},
   "source": [
    "## Trusted Traveler Program schedule checker dev"
   ]
  },
  {
   "cell_type": "code",
   "execution_count": 1,
   "id": "a94063a4",
   "metadata": {},
   "outputs": [],
   "source": [
    "import requests"
   ]
  },
  {
   "cell_type": "markdown",
   "id": "2aaf4493",
   "metadata": {},
   "source": [
    "### Print out all location info"
   ]
  },
  {
   "cell_type": "code",
   "execution_count": 13,
   "id": "30b85576",
   "metadata": {
    "collapsed": true
   },
   "outputs": [
    {
     "name": "stdout",
     "output_type": "stream",
     "text": [
      "Mission, TX: Hidalgo Enrollment Center (5001)\n",
      "San Diego, CA: Otay Mesa Enrollment Center (5002)\n",
      "Brownsville, TX: Brownsville Enrollment Center (5003)\n",
      "Laredo, TX: Laredo Enrollment Center (5004)\n",
      "El Paso, TX: El Paso Enrollment Center (5005)\n",
      "Calexico, CA: Calexico Enrollment Center (5006)\n",
      "NOGALES, AZ: Nogales, AZ (5007)\n",
      "Champlain, NY: Champlain Enrollment Center (5021)\n",
      "Detroit, MI: Detroit Enrollment Center Global Entry (5023)\n",
      "Port Huron, MI: Port Huron Enrollment Center (5024)\n",
      "Warroad, MN: Warroad Enrollment Center (5060)\n",
      "Sault Ste. Marie, MI: Sault Ste Marie Enrollment Center (5080)\n",
      "Houlton, ME: Houlton POE/Woodstock (5101)\n",
      "Sweetgrass, MT: Sweetgrass NEXUS and FAST Enrollment Center (5120)\n",
      "Jamaica, NY: JFK International Global Entry EC (5140)\n",
      "Houston, TX: Houston Intercontinental Global Entry EC (5141)\n",
      "Sterling , VA: Washington Dulles International Global Entry EC (5142)\n",
      "Niagara Falls, NY: Niagara Falls Enrollment Center (5161)\n",
      "LOS ANGELES, CA: Los Angeles International Global Entry EC (5180)\n",
      "Miami, FL: Miami International Airport (5181)\n",
      "Atlanta, GA: Atlanta International Global Entry EC (5182)\n",
      "CHICAGO, IL: Chicago O'Hare International Global Entry EC (5183)\n",
      "Derby Line, VT: Derby Line Enrollment Center (5223)\n",
      "DFW Airport, TX: Dallas-Fort Worth International Airport Global Entry (5300)\n",
      "Detroit, MI: Detroit Metro Airport (5320)\n",
      "Honolulu, HI: Honolulu Enrollment Center (5340)\n",
      "Las Vegas, NV: Las Vegas Enrollment Center (5360)\n",
      "Orlando, FL: Orlando International Airport (5380)\n",
      "Carolina, PR: San Juan Global Entry Enrollment Center (5400)\n",
      "SeaTac, WA: Seatac International Airport Global Entry EC (5420)\n",
      "East Boston, MA: Boston-Logan Global Entry Enrollment Center (5441)\n",
      "Ft Lauderdale, FL: Fort Lauderdale Global Entry Enrollment Center (5443)\n",
      "Newark , NJ: Newark Liberty Intl Airport (5444)\n",
      "PHILADELPHIA, PA: Philadelphia International Airport (5445)\n",
      "San Francisco, CA: San Francisco Global Entry Enrollment Center (5446)\n",
      "Sanford, FL: Sanford Global Entry Enrollment Center (5447)\n",
      "San Luis, AZ: San Luis Enrollment Center (5460)\n",
      "Calais, ME: Calais Enrollment Center (5500)\n",
      "Lansdowne, ON: Lansdowne (Thousand Islands Bridge) (5520)\n",
      "NEW YORK, NY: U.S. Custom House - Bowling Green (6480)\n",
      "St. Paul, MN: Minneapolis - St. Paul Global Entry EC (6840)\n",
      "Doha, : Doha International Airport (6920)\n",
      "Denver, CO: Denver International Airport (6940)\n",
      "Phoenix, AZ: Phoenix Sky Harbor Global Entry Enrollment Center (7160)\n",
      "San Antonio, TX: San Antonio International Airport (7520)\n",
      "Anchorage , AK: Anchorage Enrollment Center (7540)\n",
      "Salt Lake City, UT: Salt Lake City International Airport (7600)\n",
      "Erlanger, KY: Cincinnati Enrollment Center (7680)\n",
      "Milwaukee, WI: Milwaukee Enrollment Center (7740)\n",
      "Austin, TX: Austin-Bergstrom International Airport (7820)\n",
      "Linthicum, MD: Baltimore Washington Thurgood Marshall  Airport (7940)\n",
      "Portland, OR: Portland, OR Enrollment Center (7960)\n",
      "Tampa, FL: Tampa Enrollment Center (8020)\n",
      "Albuquerque, NM: Albuquerque Enrollment Center (8040)\n",
      "Douglas, AZ: Douglas Enrollment Center (8100)\n",
      "Washington, DC: Washington, DC Enrollment Center (8120)\n",
      "Singapore, : Singapore (Singapore, U.S. Embassy) (9040)\n",
      "Grand Portage, MN: Grand Portage (9101)\n",
      "Tamuning, GU: Guam International Airport (9140)\n",
      "Middleburg Heights, OH: Cleveland U.S. Customs and border protection (9180)\n",
      "Pittsburgh, PA: Pittsburgh International Airport (9200)\n",
      "Tucson, AZ: Tucson Enrollment Center (9240)\n",
      "Riviera Beach, FL: West Palm Beach Enrollment Center (9260)\n",
      "Kenner, LA: New Orleans Enrollment Center (9740)\n",
      "Nashville, TN: Nashville Enrollment Center (10260)\n",
      "Rockford, IL: Rockford-Chicago International Airport (11001)\n",
      "Peoria, IL: Peoria international airport (11002)\n",
      "Port Clinton, OH: Port Clinton, Ohio Enrollment Center (11841)\n",
      "CHICAGO, IL: Chicago Field Office Enrollment Center (11981)\n",
      "ST. LOUIS, MO: St. Louis Enrollment Center (12021)\n",
      "Boise, ID: Boise Enrollment Center (12161)\n",
      "Kansas City, MO: Kansas City Enrollment Center (12781)\n",
      "Blaine, WA: Blaine Global Entry Enrollment Center (13321)\n",
      "Memphis, TN: Memphis Intl Airport Global Enrollment Center (13621)\n",
      "International Falls, MN: International Falls Global Entry Enrollment Center (14181)\n",
      "Charlotte, NC: Charlotte-Douglas International Airport (14321)\n",
      "Fairbanks, AK: Fairbanks Enrollment Center (14381)\n",
      "Gulfport, MS: Gulfport-Biloxi Global Entry Enrollment Center (14481)\n",
      "Windsor Locks, CT: Bradley International Airport Enrollment Center (14681)\n",
      "Richmond, VA: Richmond, VA Enrollment Center (14981)\n",
      "Pembina, ND: Pembina Global Entry Enrollment Center (15221)\n",
      "Eagle Pass, TX: Eagle Pass (16226)\n",
      "Vandalia, OH: Dayton Enrollment Center (16242)\n",
      "Fort Pierce, FL: Treasure Coast International Airport (16248)\n",
      "Sweetgrass, MT: Sweetgrass Global Entry Enrollment Center (16251)\n",
      "Huntsville, AL: Huntsville Global Entry Enrollment Center (16277)\n",
      "South Bend, IN: South Bend Enrollment Center (16278)\n",
      "Mobile, AL: Mobile Regional Airport Enrollment Center (16282)\n",
      " Del Rio, TX: Del Rio Enrollment Center (16460)\n",
      "Des Moines, IA: Des Moines GE Enrollment Center (16461)\n",
      "Springfield, MO: Springfield – Branson National Airport, MO (16463)\n",
      "Omaha, NE: Omaha, NE Enrollment Center (16467)\n",
      "Belgrade, MT: SEAFO - Bozeman Airport (16475)\n",
      "Fargo, ND: SEAFO - FARGO Global Entry Workshop (16476)\n",
      "Missoula, MT: SEAFO - Missoula International Airport (16488)\n",
      "Champlain, NY: Champlain GE Only (16519)\n",
      "Ogdensburg, NY: Ogdensburg Enrollment Center (16546)\n",
      "San Diego , CA: San Diego International Airport EC (16547)\n",
      "Norfolk, VA: Norfolk EC (16555)\n",
      "Egg Harbor Township, NJ: Atlantic City  Airport Global Entry Mobile Event (16586)\n",
      "New Castle, DE: BAL-FO Wilmington Delaware Enrollment Center (16610)\n",
      "Mechanicsburg, PA: BAL-FO Harrisburg Enrollment Center (16611)\n"
     ]
    }
   ],
   "source": [
    "ALL_LOCS_URL = \"https://ttp.cbp.dhs.gov/schedulerapi/locations/?temporary=false&inviteOnly=false&operational=true&serviceName=Global%20Entry\"\n",
    "locations = requests.get(ALL_LOCS_URL).json()\n",
    "locations\n",
    "\n",
    "for loc in locations:\n",
    "    print(\"{}, {}: {} ({})\".format(\n",
    "loc['city'], loc['state'], loc['name'].strip(), loc['id']\n",
    "    ))"
   ]
  },
  {
   "cell_type": "code",
   "execution_count": null,
   "id": "fa98ea35",
   "metadata": {},
   "outputs": [],
   "source": []
  },
  {
   "cell_type": "markdown",
   "id": "f482f58a",
   "metadata": {},
   "source": [
    "#### Check that API is working"
   ]
  },
  {
   "cell_type": "code",
   "execution_count": 57,
   "id": "9f3b00b3",
   "metadata": {},
   "outputs": [],
   "source": [
    "def check_api_has_appts():\n",
    "    \"\"\"\n",
    "    Function to check that the TTP schedulerapi is responding with open appointments for at least 1 location\n",
    "    \"\"\"\n",
    "    GOES_URL_FORMAT = \"https://ttp.cbp.dhs.gov/schedulerapi/slots?orderBy=soonest&limit=1&minimum=1\"\n",
    "    appointments = requests.get(\n",
    "                GOES_URL_FORMAT, timeout=30\n",
    "            ).json()\n",
    "    if len(appointments) > 0:\n",
    "        print('TTP is responding with available appointments')"
   ]
  },
  {
   "cell_type": "code",
   "execution_count": 58,
   "id": "21117fca",
   "metadata": {},
   "outputs": [
    {
     "name": "stdout",
     "output_type": "stream",
     "text": [
      "TTP is responding with available appointments\n"
     ]
    }
   ],
   "source": [
    "check_api_has_appts()"
   ]
  },
  {
   "cell_type": "markdown",
   "id": "9852a910",
   "metadata": {},
   "source": [
    "### Check for soonest open appointments"
   ]
  },
  {
   "cell_type": "code",
   "execution_count": 2,
   "id": "51a74515",
   "metadata": {},
   "outputs": [],
   "source": [
    "GOES_URL_FORMAT = \"https://ttp.cbp.dhs.gov/schedulerapi/slots?orderBy=soonest&limit=500&locationId={0}&minimum=1\""
   ]
  },
  {
   "cell_type": "code",
   "execution_count": 16,
   "id": "aef411ef",
   "metadata": {},
   "outputs": [],
   "source": [
    "# location_id = 11981\n",
    "location_id = 16519\n",
    "\n",
    "appointments = requests.get(\n",
    "                GOES_URL_FORMAT.format(location_id), timeout=30\n",
    "            ).json()"
   ]
  },
  {
   "cell_type": "code",
   "execution_count": 18,
   "id": "2b2c949f",
   "metadata": {},
   "outputs": [
    {
     "data": {
      "text/plain": [
       "{'locationId': 16519,\n",
       " 'startTimestamp': '2023-11-13T11:45',\n",
       " 'endTimestamp': '2023-11-13T12:00',\n",
       " 'active': True,\n",
       " 'duration': 15,\n",
       " 'remoteInd': False}"
      ]
     },
     "execution_count": 18,
     "metadata": {},
     "output_type": "execute_result"
    }
   ],
   "source": [
    "appointments[0]"
   ]
  },
  {
   "cell_type": "code",
   "execution_count": 26,
   "id": "3a882b24",
   "metadata": {},
   "outputs": [],
   "source": [
    "def get_loc_appts(location_id):\n",
    "    \"\"\"\n",
    "    Function to return the available appts for a given location_id\n",
    "    \"\"\"\n",
    "    GOES_URL_FORMAT = \"https://ttp.cbp.dhs.gov/schedulerapi/slots?orderBy=soonest&limit=500&locationId={0}&minimum=1\"\n",
    "    appointments = requests.get(\n",
    "                GOES_URL_FORMAT.format(location_id), timeout=30\n",
    "            ).json()\n",
    "    \n",
    "    return appointments"
   ]
  },
  {
   "cell_type": "code",
   "execution_count": 46,
   "id": "47bb5f9a",
   "metadata": {},
   "outputs": [],
   "source": [
    "appointments = get_loc_appts(location_id=11981)"
   ]
  },
  {
   "cell_type": "code",
   "execution_count": 47,
   "id": "a68b5278",
   "metadata": {},
   "outputs": [],
   "source": [
    "def print_appt_info(appts):\n",
    "    \"\"\"\n",
    "    Function to print out info about next appointment\n",
    "    \"\"\"\n",
    "    if len(appts) == 0:\n",
    "        print('No appointments currently available. Try again later')\n",
    "    else:\n",
    "        next_appt_text = f\"Next appointment on {appointments[0]['startTimestamp'][0:10]} at {appointments[0]['startTimestamp'][11:]}\"\n",
    "        print(next_appt_text)"
   ]
  },
  {
   "cell_type": "code",
   "execution_count": 48,
   "id": "fd7e84dd",
   "metadata": {},
   "outputs": [
    {
     "name": "stdout",
     "output_type": "stream",
     "text": [
      "No appointments currently available. Please try again later\n"
     ]
    }
   ],
   "source": [
    "print_appt_info(appts = appointments)"
   ]
  },
  {
   "cell_type": "code",
   "execution_count": null,
   "id": "de92fd0a",
   "metadata": {},
   "outputs": [],
   "source": []
  }
 ],
 "metadata": {
  "kernelspec": {
   "display_name": "Python 3",
   "language": "python",
   "name": "python3"
  },
  "language_info": {
   "codemirror_mode": {
    "name": "ipython",
    "version": 3
   },
   "file_extension": ".py",
   "mimetype": "text/x-python",
   "name": "python",
   "nbconvert_exporter": "python",
   "pygments_lexer": "ipython3",
   "version": "3.8.8"
  }
 },
 "nbformat": 4,
 "nbformat_minor": 5
}
