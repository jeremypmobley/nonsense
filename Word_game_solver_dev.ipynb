{
 "cells": [
  {
   "cell_type": "markdown",
   "id": "44bf9335",
   "metadata": {},
   "source": [
    "## Solver for daily Spelling Bee word game"
   ]
  },
  {
   "cell_type": "code",
   "execution_count": 1,
   "id": "78b16ab7",
   "metadata": {},
   "outputs": [],
   "source": [
    "from nltk.corpus import words\n",
    "import string"
   ]
  },
  {
   "cell_type": "code",
   "execution_count": 2,
   "id": "5c93fd2f",
   "metadata": {},
   "outputs": [],
   "source": [
    "from english_words import english_words_set"
   ]
  },
  {
   "cell_type": "code",
   "execution_count": 3,
   "id": "ad9cd678",
   "metadata": {},
   "outputs": [],
   "source": [
    "# ta, tw, wi\n",
    "REQ_LETTER = 'y'\n",
    "OTHER_LETTERS = ['h', 'e', 'a', 'l', 'p', 't']"
   ]
  },
  {
   "cell_type": "code",
   "execution_count": 4,
   "id": "4624ee4c",
   "metadata": {},
   "outputs": [
    {
     "data": {
      "text/plain": [
       "235892"
      ]
     },
     "execution_count": 4,
     "metadata": {},
     "output_type": "execute_result"
    }
   ],
   "source": [
    "#### Create base set of dictionary words\n",
    "#nltk.download('words')\n",
    "setofwords = set(words.words())\n",
    "len(setofwords)"
   ]
  },
  {
   "cell_type": "markdown",
   "id": "9f315078",
   "metadata": {},
   "source": [
    "#### Limit down set of words to those with required letter"
   ]
  },
  {
   "cell_type": "code",
   "execution_count": 5,
   "id": "f6bc9243",
   "metadata": {},
   "outputs": [
    {
     "data": {
      "text/plain": [
       "48440"
      ]
     },
     "execution_count": 5,
     "metadata": {},
     "output_type": "execute_result"
    }
   ],
   "source": [
    "words_with_letter = [word for word in setofwords if REQ_LETTER in word]\n",
    "#words_with_letter = [word for word in english_words_set if REQ_LETTER in word]\n",
    "len(words_with_letter)"
   ]
  },
  {
   "cell_type": "code",
   "execution_count": 6,
   "id": "0ed7ae3d",
   "metadata": {},
   "outputs": [
    {
     "data": {
      "text/plain": [
       "True"
      ]
     },
     "execution_count": 6,
     "metadata": {},
     "output_type": "execute_result"
    }
   ],
   "source": [
    "#'bouncing' in english_words_set\n",
    "'bouncing' in setofwords"
   ]
  },
  {
   "cell_type": "code",
   "execution_count": 7,
   "id": "4e460397",
   "metadata": {},
   "outputs": [
    {
     "data": {
      "text/plain": [
       "True"
      ]
     },
     "execution_count": 7,
     "metadata": {},
     "output_type": "execute_result"
    }
   ],
   "source": [
    "'bounce' in english_words_set"
   ]
  },
  {
   "cell_type": "markdown",
   "id": "96670f8a",
   "metadata": {},
   "source": [
    "#### Create set of illegal letters"
   ]
  },
  {
   "cell_type": "code",
   "execution_count": 8,
   "id": "1b18a1a0",
   "metadata": {},
   "outputs": [
    {
     "data": {
      "text/plain": [
       "19"
      ]
     },
     "execution_count": 8,
     "metadata": {},
     "output_type": "execute_result"
    }
   ],
   "source": [
    "illegal_letters = [letter for letter in string.ascii_lowercase if letter not in OTHER_LETTERS]\n",
    "illegal_letters.remove(REQ_LETTER)\n",
    "len(illegal_letters)"
   ]
  },
  {
   "cell_type": "markdown",
   "id": "851b6514",
   "metadata": {},
   "source": [
    "#### Loop over all words, filter out words with illegal letters"
   ]
  },
  {
   "cell_type": "code",
   "execution_count": 9,
   "id": "613ce0b5",
   "metadata": {},
   "outputs": [],
   "source": [
    "valid_words = []\n",
    "for word in words_with_letter:\n",
    "    num_illegal_letters = 0\n",
    "    for letter in word:\n",
    "        if letter in illegal_letters:\n",
    "            num_illegal_letters += 1\n",
    "    if num_illegal_letters == 0:\n",
    "        valid_words.append(word)"
   ]
  },
  {
   "cell_type": "code",
   "execution_count": 10,
   "id": "1cb04ce5",
   "metadata": {},
   "outputs": [
    {
     "data": {
      "text/plain": [
       "154"
      ]
     },
     "execution_count": 10,
     "metadata": {},
     "output_type": "execute_result"
    }
   ],
   "source": [
    "# Filter out words that are too short\n",
    "valid_words = [word for word in valid_words if len(word)>3]\n",
    "len(valid_words)"
   ]
  },
  {
   "cell_type": "code",
   "execution_count": 11,
   "id": "32d818ec",
   "metadata": {},
   "outputs": [
    {
     "data": {
      "text/plain": [
       "114"
      ]
     },
     "execution_count": 11,
     "metadata": {},
     "output_type": "execute_result"
    }
   ],
   "source": [
    "# Filter out words with capital first letter\n",
    "valid_words = [word for word in valid_words if not word[0].isupper()]\n",
    "len(valid_words)"
   ]
  },
  {
   "cell_type": "code",
   "execution_count": 12,
   "id": "106ec18c",
   "metadata": {},
   "outputs": [
    {
     "data": {
      "text/plain": [
       "['telltalely',\n",
       " 'peltately',\n",
       " 'telepathy',\n",
       " 'allylate',\n",
       " 'ethylate',\n",
       " 'lethally',\n",
       " 'phthalyl',\n",
       " 'talepyet',\n",
       " 'teletype',\n",
       " 'apetaly',\n",
       " 'aphylly',\n",
       " 'healthy',\n",
       " 'layette',\n",
       " 'papally',\n",
       " 'papalty',\n",
       " 'peepeye',\n",
       " 'pellety',\n",
       " 'playlet',\n",
       " 'alphyl',\n",
       " 'apathy',\n",
       " 'eyalet',\n",
       " 'eyelet',\n",
       " 'heathy',\n",
       " 'helply',\n",
       " 'heptyl',\n",
       " 'hyetal',\n",
       " 'hypate',\n",
       " 'hyphal',\n",
       " 'lately',\n",
       " 'leally',\n",
       " 'lealty',\n",
       " 'palely',\n",
       " 'papaya',\n",
       " 'petaly',\n",
       " 'phytyl',\n",
       " 'platty',\n",
       " 'teethy',\n",
       " 'theyll',\n",
       " 'yetapa',\n",
       " 'allay',\n",
       " 'alley',\n",
       " 'allyl',\n",
       " 'appay',\n",
       " 'apply',\n",
       " 'aptly',\n",
       " 'atypy',\n",
       " 'ayelp',\n",
       " 'aylet',\n",
       " 'ethyl',\n",
       " 'haply',\n",
       " 'happy',\n",
       " 'hatty',\n",
       " 'hayey',\n",
       " 'heapy',\n",
       " 'helly',\n",
       " 'hypha',\n",
       " 'lathy',\n",
       " 'lytta',\n",
       " 'palay',\n",
       " 'pally',\n",
       " 'papey',\n",
       " 'pappy',\n",
       " 'pathy',\n",
       " 'patly',\n",
       " 'patty',\n",
       " 'payee',\n",
       " 'peaty',\n",
       " 'peepy',\n",
       " 'peppy',\n",
       " 'petty',\n",
       " 'phyla',\n",
       " 'phyle',\n",
       " 'platy',\n",
       " 'playa',\n",
       " 'tally',\n",
       " 'tatty',\n",
       " 'teaey',\n",
       " 'teaty',\n",
       " 'teety',\n",
       " 'typal',\n",
       " 'yalla',\n",
       " 'yaply',\n",
       " 'yappy',\n",
       " 'ahey',\n",
       " 'ally',\n",
       " 'ayah',\n",
       " 'eely',\n",
       " 'eyah',\n",
       " 'eyey',\n",
       " 'haya',\n",
       " 'hyle',\n",
       " 'paly',\n",
       " 'paty',\n",
       " 'play',\n",
       " 'pyal',\n",
       " 'pyla',\n",
       " 'they',\n",
       " 'tyee',\n",
       " 'type',\n",
       " 'typp',\n",
       " 'typy',\n",
       " 'yale',\n",
       " 'yapa',\n",
       " 'yapp',\n",
       " 'yate',\n",
       " 'yaya',\n",
       " 'yeah',\n",
       " 'yeat',\n",
       " 'yeel',\n",
       " 'yell',\n",
       " 'yelp',\n",
       " 'yelt',\n",
       " 'yeta',\n",
       " 'yeth']"
      ]
     },
     "execution_count": 12,
     "metadata": {},
     "output_type": "execute_result"
    }
   ],
   "source": [
    "valid_words.sort() # sorts normally by alphabetical order\n",
    "valid_words.sort(key=len, reverse=True) # sorts by descending length\n",
    "valid_words"
   ]
  },
  {
   "cell_type": "code",
   "execution_count": null,
   "id": "9d9956a4",
   "metadata": {},
   "outputs": [],
   "source": []
  },
  {
   "cell_type": "code",
   "execution_count": null,
   "id": "db01f6af",
   "metadata": {},
   "outputs": [],
   "source": []
  }
 ],
 "metadata": {
  "kernelspec": {
   "display_name": "Python 3",
   "language": "python",
   "name": "python3"
  },
  "language_info": {
   "codemirror_mode": {
    "name": "ipython",
    "version": 3
   },
   "file_extension": ".py",
   "mimetype": "text/x-python",
   "name": "python",
   "nbconvert_exporter": "python",
   "pygments_lexer": "ipython3",
   "version": "3.8.8"
  }
 },
 "nbformat": 4,
 "nbformat_minor": 5
}
